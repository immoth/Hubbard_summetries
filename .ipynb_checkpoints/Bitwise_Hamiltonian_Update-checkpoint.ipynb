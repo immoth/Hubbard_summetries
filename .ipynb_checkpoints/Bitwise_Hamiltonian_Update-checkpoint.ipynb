{
 "cells": [
  {
   "cell_type": "markdown",
   "metadata": {},
   "source": [
    "# Applying the Hubbard Hamiltonian to a Vector\n",
    "\n",
    "$ H = t \\sum_{i\\sigma} \\left(c^{\\dagger}_{i\\sigma}c_{i+1\\sigma}+c^{\\dagger}_{i+c\\sigma}c_{i\\sigma}\\right) + U \\sum_{i} c^{\\dagger}_{i\\uparrow}c_{i\\uparrow}c^{\\dagger}_{i\\downarrow}c_{i\\downarrow}$\n",
    "\n",
    "The acction of this Hamiltonian is to move electrons up and down one site and then to count the number of electron pairs.\n",
    "\n",
    "We can define this action without referenceing a large matrix.  Let us break up the statevectors so that the first $N$ sites refere to spin up and the second $N$ referes to spin down.  For example, for a four site system, $|01010001>$ has two spin up electrons on sites 2 and 4 and one spin down electron on site 4."
   ]
  },
  {
   "cell_type": "markdown",
   "metadata": {},
   "source": [
    "## Action of the t term\n",
    "\n",
    "The idea is as follow for a vector V:\n",
    "\n",
    "    1) define a mask M which zero everywhere excep site i and i +1\n",
    "    \n",
    "    2) perform bitwise AND: K = M & V\n",
    "    \n",
    "    3) perform bitwise XOR: L = K ^ M\n",
    "    \n",
    "    4) check if L is zero or if L = M\n",
    "    \n",
    "        i) if so then this does not contribute\n",
    "        \n",
    "        ii) if not then V_new = I - K + L"
   ]
  },
  {
   "cell_type": "code",
   "execution_count": 2,
   "metadata": {},
   "outputs": [],
   "source": [
    "import numpy as np"
   ]
  },
  {
   "cell_type": "code",
   "execution_count": 3,
   "metadata": {},
   "outputs": [
    {
     "name": "stdout",
     "output_type": "stream",
     "text": [
      "[0 0 0 1 0 0 1 0]\n"
     ]
    },
    {
     "data": {
      "text/plain": [
       "[0,\n",
       " 0,\n",
       " 0,\n",
       " array([0, 0, 0, 1, 0, 1, 0, 0]),\n",
       " array([0, 0, 1, 0, 0, 0, 1, 0]),\n",
       " array([0, 0, 0, 1, 0, 0, 0, 1]),\n",
       " array([1, 0, 0, 0, 0, 0, 1, 0]),\n",
       " 0]"
      ]
     },
     "execution_count": 3,
     "metadata": {},
     "output_type": "execute_result"
    }
   ],
   "source": [
    "V = np.array([0,0,0,1,0,0,1,0])\n",
    "def update_t(V):\n",
    "    N = len(V)\n",
    "    Nu = int(N/2)\n",
    "    Vn_l = []\n",
    "    for i in range(0,Nu):\n",
    "        #Spin up\n",
    "        M = [0 for i in range(0,N)]\n",
    "        M[i] = 1\n",
    "        M[np.mod(i+1,Nu)] = 1\n",
    "        K = M*V\n",
    "        L = np.abs( K - M )\n",
    "        if sum(L) > 0 and sum(np.abs(L - M)) > 0:\n",
    "            Vn = V - K + L\n",
    "        else:\n",
    "            Vn = 0\n",
    "        Vn_l.append(Vn)\n",
    "        #Spin down\n",
    "        M = [0 for i in range(0,N)]\n",
    "        M[Nu+i] = 1\n",
    "        M[Nu+np.mod(i+1,Nu)] = 1\n",
    "        K = M*V\n",
    "        L = np.abs( K - M )\n",
    "        if sum(L) > 0 and sum(np.abs(L - M)) > 0:\n",
    "            Vn = V - K + L\n",
    "        else:\n",
    "            Vn = 0\n",
    "        Vn_l.append(Vn)\n",
    "    return Vn_l\n",
    "\n",
    "print(V)\n",
    "update_t(V)"
   ]
  },
  {
   "cell_type": "markdown",
   "metadata": {},
   "source": [
    "## Action of the U term\n",
    "\n",
    "For a vector V:\n",
    "    \n",
    "    1) define a mask M which zero everywhere excep site i with spin up and spin down\n",
    "    \n",
    "    2) perform a bitwise AND: K = M & V\n",
    "    \n",
    "    3) check if K = M\n",
    "        \n",
    "        i) if so then return V\n",
    "        \n",
    "        ii) else return 0"
   ]
  },
  {
   "cell_type": "code",
   "execution_count": 4,
   "metadata": {},
   "outputs": [
    {
     "name": "stdout",
     "output_type": "stream",
     "text": [
      "[0 1 1 0 0 1 0 1]\n"
     ]
    },
    {
     "data": {
      "text/plain": [
       "[0, array([0, 1, 1, 0, 0, 1, 0, 1]), 0, 0]"
      ]
     },
     "execution_count": 4,
     "metadata": {},
     "output_type": "execute_result"
    }
   ],
   "source": [
    "V = np.array([0,1,1,0,0,1,0,1])\n",
    "def update_u(V):\n",
    "    N = len(V)\n",
    "    Nu = int(N/2)\n",
    "    Vn_l = []\n",
    "    for i in range(0,Nu):\n",
    "        #Spin up\n",
    "        M = [0 for i in range(0,N)]\n",
    "        M[i] = 1\n",
    "        M[Nu + i] = 1\n",
    "        K = M*V\n",
    "        if np.sum( K - M ) == 0:\n",
    "            Vn = V\n",
    "        else:\n",
    "            Vn = 0\n",
    "        Vn_l.append(Vn)\n",
    "    return Vn_l\n",
    "\n",
    "print(V)\n",
    "update_u(V)"
   ]
  },
  {
   "cell_type": "markdown",
   "metadata": {},
   "source": [
    "Here I have saved the vectors as numpy arrays.  For a real implementation the vecotrs should be stored as integers.  \n",
    "\n",
    "# Working in terms of binary integers"
   ]
  },
  {
   "cell_type": "code",
   "execution_count": 133,
   "metadata": {},
   "outputs": [],
   "source": [
    "# A function to print out the binary number\n",
    "def bi(num):\n",
    "    bi = bin(num)\n",
    "    out = \"\"\n",
    "    for i in range(2,len(bi)):\n",
    "        out = out + bi[i]\n",
    "    return out"
   ]
  },
  {
   "cell_type": "code",
   "execution_count": 11,
   "metadata": {},
   "outputs": [
    {
     "name": "stdout",
     "output_type": "stream",
     "text": [
      "0b10101\n"
     ]
    },
    {
     "data": {
      "text/plain": [
       "'10101'"
      ]
     },
     "execution_count": 11,
     "metadata": {},
     "output_type": "execute_result"
    }
   ],
   "source": [
    "print(bin(21))\n",
    "print_bi(21)"
   ]
  },
  {
   "cell_type": "markdown",
   "metadata": {},
   "source": [
    "## Action of the t term in binary\n",
    "\n",
    "The idea is as follow for a vector V:\n",
    "\n",
    "    1) define a mask M which zero everywhere excep site i and i +1: M = 2^i + 2^{i+1}\n",
    "    \n",
    "    2) perform bitwise AND: K = M & V\n",
    "    \n",
    "    3) perform bitwise XOR: L = K ^ M\n",
    "    \n",
    "    4) check if L is zero or if L = M\n",
    "    \n",
    "        i) if so then this does not contribute\n",
    "        \n",
    "        ii) if not then V_new = I - K + L"
   ]
  },
  {
   "cell_type": "code",
   "execution_count": 128,
   "metadata": {},
   "outputs": [],
   "source": [
    "def bi_t(V,N):\n",
    "    Nu = int(N/2)\n",
    "    Vn_l = []\n",
    "    for i in range(0,Nu):\n",
    "        #Spin up\n",
    "        M = 2**i + 2**np.mod(i+1,Nu)\n",
    "        K = M & V\n",
    "        L = K ^ M\n",
    "        if L != 0 and L != M:\n",
    "            Vn = V - K + L\n",
    "            #print(i,':',bi(Vn))\n",
    "            Vn_l.append(Vn)\n",
    "        #Spin down\n",
    "        M = 2**(Nu+i) + 2**(Nu+np.mod(i+1,Nu))\n",
    "        K = M & V\n",
    "        L = K ^ M\n",
    "        if L != 0 and L != M:\n",
    "            Vn = V - K + L\n",
    "            #print(i,':',bi(Vn))\n",
    "            Vn_l.append(Vn)\n",
    "    return Vn_l"
   ]
  },
  {
   "cell_type": "code",
   "execution_count": 135,
   "metadata": {},
   "outputs": [
    {
     "name": "stdout",
     "output_type": "stream",
     "text": [
      "101001\n",
      "......\n",
      "101010\n",
      "110001\n",
      "11001\n",
      "101100\n"
     ]
    }
   ],
   "source": [
    "print(bi(41))\n",
    "out = bi_t(41,6)\n",
    "print('......')\n",
    "for i in range(len(out)):\n",
    "    print(bi(out[i]))"
   ]
  },
  {
   "cell_type": "markdown",
   "metadata": {},
   "source": [
    "## Action of the U term in binary\n",
    "\n",
    "For a vector V:\n",
    "    \n",
    "    1) define a mask M which zero everywhere excep site i with spin up and spin down: M = 2^i + 2^{i+N/2}\n",
    "    \n",
    "    2) perform a bitwise AND: K = M & V\n",
    "    \n",
    "    3) check if K = M\n",
    "        \n",
    "        i) if so then return V\n",
    "        \n",
    "        ii) else return 0"
   ]
  },
  {
   "cell_type": "code",
   "execution_count": 136,
   "metadata": {},
   "outputs": [],
   "source": [
    "def bi_u(V,N):\n",
    "    Nu = int(N/2)\n",
    "    Vn_l = []\n",
    "    for i in range(0,Nu):\n",
    "        M = 2**i + 2**(i+Nu)\n",
    "        K = M & V\n",
    "        if K == M:\n",
    "            Vn = V\n",
    "            Vn_l.append(Vn)\n",
    "    return Vn_l"
   ]
  },
  {
   "cell_type": "code",
   "execution_count": 143,
   "metadata": {},
   "outputs": [
    {
     "name": "stdout",
     "output_type": "stream",
     "text": [
      "100110\n",
      "......\n",
      "100110\n"
     ]
    }
   ],
   "source": [
    "V=38\n",
    "print(bi(V))\n",
    "out = bi_u(V,6)\n",
    "print('......')\n",
    "for i in range(len(out)):\n",
    "    print(bi(out[i]))"
   ]
  },
  {
   "cell_type": "code",
   "execution_count": null,
   "metadata": {},
   "outputs": [],
   "source": []
  }
 ],
 "metadata": {
  "kernelspec": {
   "display_name": "Python [conda env:qiskit_25v]",
   "language": "python",
   "name": "conda-env-qiskit_25v-py"
  },
  "language_info": {
   "codemirror_mode": {
    "name": "ipython",
    "version": 3
   },
   "file_extension": ".py",
   "mimetype": "text/x-python",
   "name": "python",
   "nbconvert_exporter": "python",
   "pygments_lexer": "ipython3",
   "version": "3.9.4"
  }
 },
 "nbformat": 4,
 "nbformat_minor": 4
}
