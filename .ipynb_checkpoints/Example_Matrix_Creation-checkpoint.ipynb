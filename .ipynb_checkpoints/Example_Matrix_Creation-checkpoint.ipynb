{
 "cells": [
  {
   "cell_type": "markdown",
   "metadata": {},
   "source": [
    "# An Example of how to generate a Matrix representation of a Hamiltonain from bit strings\n",
    "\n",
    "Here I only consider one spin type "
   ]
  },
  {
   "cell_type": "code",
   "execution_count": 1,
   "metadata": {},
   "outputs": [],
   "source": [
    "import numpy as np"
   ]
  },
  {
   "cell_type": "markdown",
   "metadata": {},
   "source": [
    "## First we define the function which generates the bit string states"
   ]
  },
  {
   "cell_type": "code",
   "execution_count": 21,
   "metadata": {},
   "outputs": [],
   "source": [
    "#Creates all states with N fermions and S orbitals\n",
    "def Generate_States(N,S):\n",
    "    s = [i for i in range(0,N)]\n",
    "    psi_l = []\n",
    "    while s[0] < S-N:\n",
    "        ### create the state and store it\n",
    "        psi = 0\n",
    "        for i in s:\n",
    "            psi += 2**i\n",
    "        psi_l.append(psi)\n",
    "        ###\n",
    "        ###Update the particle locations\n",
    "        exit = 0\n",
    "        i = len(s)-1\n",
    "        while exit == 0:\n",
    "            if s[i] < S-len(s)+i:\n",
    "                s[i] += 1\n",
    "                for j in range(i+1,len(s)):\n",
    "                    s[j] = s[j-1]+1\n",
    "                exit = 1\n",
    "            else:\n",
    "                i -= 1\n",
    "        ###\n",
    "    ###Create the finale state\n",
    "    psi = 0\n",
    "    for i in s:\n",
    "        psi += 2**i\n",
    "    psi_l.append(psi)\n",
    "    ###\n",
    "    return psi_l"
   ]
  },
  {
   "cell_type": "code",
   "execution_count": 22,
   "metadata": {},
   "outputs": [
    {
     "data": {
      "text/plain": [
       "[3, 5, 9, 6, 10, 12]"
      ]
     },
     "execution_count": 22,
     "metadata": {},
     "output_type": "execute_result"
    }
   ],
   "source": [
    "states = Generate_States(2,4)\n",
    "states"
   ]
  },
  {
   "cell_type": "markdown",
   "metadata": {},
   "source": [
    "### Function to pring out the bit strings from integers"
   ]
  },
  {
   "cell_type": "code",
   "execution_count": 23,
   "metadata": {},
   "outputs": [],
   "source": [
    "# A function to print out the binary number\n",
    "def bi(num):\n",
    "    bi = bin(num)\n",
    "    out = \"\"\n",
    "    for i in range(2,len(bi)):\n",
    "        out = out + bi[i]\n",
    "    return out"
   ]
  },
  {
   "cell_type": "code",
   "execution_count": 24,
   "metadata": {},
   "outputs": [
    {
     "data": {
      "text/plain": [
       "'11'"
      ]
     },
     "execution_count": 24,
     "metadata": {},
     "output_type": "execute_result"
    }
   ],
   "source": [
    "bi(states[0])"
   ]
  },
  {
   "cell_type": "markdown",
   "metadata": {},
   "source": [
    "## Now define the action of the Hamiltonian on a bit string\n",
    "\n",
    "I only consider hopping for on spin type"
   ]
  },
  {
   "cell_type": "code",
   "execution_count": 99,
   "metadata": {},
   "outputs": [],
   "source": [
    "def bi_t(V,Su):\n",
    "    Vn_l = []\n",
    "    for i in range(0,Su):\n",
    "        #Spin up\n",
    "        M = 2**i + 2**np.mod(i+1,Su)\n",
    "        K = M & V\n",
    "        L = K ^ M\n",
    "        if L != 0 and L != M:\n",
    "            Vn = V - K + L\n",
    "            #print(i,':',bi(Vn))\n",
    "            Vn_l.append(Vn)\n",
    "        #Spin down\n",
    "        #Only doing spin up\n",
    "    return Vn_l"
   ]
  },
  {
   "cell_type": "code",
   "execution_count": 100,
   "metadata": {},
   "outputs": [
    {
     "name": "stdout",
     "output_type": "stream",
     "text": [
      "1010\n",
      "......\n",
      "1001\n",
      "1100\n",
      "110\n",
      "11\n"
     ]
    }
   ],
   "source": [
    "V = states[4]\n",
    "print(bi(V))\n",
    "out = bi_t(V,4)\n",
    "print('......')\n",
    "for i in range(len(out)):\n",
    "    print(bi(out[i]))"
   ]
  },
  {
   "cell_type": "markdown",
   "metadata": {},
   "source": [
    "## Create the Matrix\n",
    "\n",
    "We apply the bitwise Hamiltonian to the bit strings and collect the index of the output states using a dictionary"
   ]
  },
  {
   "cell_type": "code",
   "execution_count": 101,
   "metadata": {},
   "outputs": [
    {
     "data": {
      "text/plain": [
       "array([[0, 2, 0, 0, 2, 0],\n",
       "       [2, 0, 2, 2, 0, 2],\n",
       "       [0, 2, 0, 0, 2, 0],\n",
       "       [0, 2, 0, 0, 2, 0],\n",
       "       [2, 0, 2, 2, 0, 2],\n",
       "       [0, 2, 0, 0, 2, 0]])"
      ]
     },
     "execution_count": 101,
     "metadata": {},
     "output_type": "execute_result"
    }
   ],
   "source": [
    "t = 2\n",
    "L = 4\n",
    "Q = len(states)\n",
    "index_map = {states[i]:i for i in range(Q)}\n",
    "H = np.array([[0 for i in range(Q)] for j in range(Q)])\n",
    "for i in range(0,Q):\n",
    "    psi_t = bi_t(states[i],L)\n",
    "    for s in range(len(psi_t)):\n",
    "        H[index_map[psi_t[s]],i] = t\n",
    "\n",
    "\n",
    "        \n",
    "H"
   ]
  },
  {
   "cell_type": "markdown",
   "metadata": {},
   "source": [
    "To do the full Hamiltonian I need to define bit string states for spin down.  The stratagy will be to create a second Generate_States function where all integers are shifted up.  "
   ]
  },
  {
   "cell_type": "code",
   "execution_count": 102,
   "metadata": {},
   "outputs": [
    {
     "data": {
      "text/plain": [
       "'C:\\\\Users\\\\jsten\\\\IBMQ\\\\Hubbard_symmetries'"
      ]
     },
     "execution_count": 102,
     "metadata": {},
     "output_type": "execute_result"
    }
   ],
   "source": [
    "pwd"
   ]
  },
  {
   "cell_type": "code",
   "execution_count": null,
   "metadata": {},
   "outputs": [],
   "source": []
  }
 ],
 "metadata": {
  "kernelspec": {
   "display_name": "Python [conda env:qiskit_25v]",
   "language": "python",
   "name": "conda-env-qiskit_25v-py"
  },
  "language_info": {
   "codemirror_mode": {
    "name": "ipython",
    "version": 3
   },
   "file_extension": ".py",
   "mimetype": "text/x-python",
   "name": "python",
   "nbconvert_exporter": "python",
   "pygments_lexer": "ipython3",
   "version": "3.9.4"
  }
 },
 "nbformat": 4,
 "nbformat_minor": 4
}
