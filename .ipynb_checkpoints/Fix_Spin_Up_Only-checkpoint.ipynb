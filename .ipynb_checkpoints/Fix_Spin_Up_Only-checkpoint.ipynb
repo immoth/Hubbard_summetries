{
 "cells": [
  {
   "cell_type": "markdown",
   "metadata": {},
   "source": [
    "# Finding classical parameters for the up sector\n",
    "\n",
    "Here I set the number of up electrons and let the down electrons be anything they want.  Let us break the wavefunction up into a sum over the up electron states:\n",
    "$$|\\psi> = \\sum_c \\alpha_c|c>|\\psi^{\\downarrow}> $$\n",
    "where $|c>$ is a particular state of the up electrons which is stored classically, $|\\psi^{\\downarrow}>$ is the state of the down electrons, and $\\alpha_c$ are some set of parameters which will be updated during VQE along with the unitary that describes $|\\psi^{\\downarrow}>$\n",
    "\n",
    "We can calculate the energy expaection value (which is the cost function for VQE) using a set of classical derived parameters describing the up states and a set of Pauli expectation values which will be found using VQE.\n",
    "\n",
    "\\begin{equation}\n",
    "\\begin{split}\n",
    "<\\psi|H|\\psi> &= \\sum_{c,c'}\\alpha_c\\alpha_c'<c'|<\\psi^{\\downarrow}| H|c>|\\psi^{\\downarrow}> \n",
    "\\\\\n",
    "& = \\sum_{c,c'}\\alpha_c\\alpha_c' \\left( <c'|\\hat{K}^{\\uparrow}|c> + \\delta_{c',c}<\\psi^{\\downarrow}|\\hat{K}^{\\downarrow}|\\psi^{\\downarrow}> + u\\sum_i <c'|\\hat{n_i}^{\\uparrow}|c><\\psi^{\\downarrow}|\\hat{n}_i^{\\downarrow} |\\psi^{\\downarrow}> \\right)\n",
    "\\\\\n",
    "& = \\sum_{c,c'}\\alpha_c\\alpha_c' \\left( k_{c',c} + \\delta_{c',c}\\sum_i\\left( t<\\psi^{\\downarrow}|X_i X_{i+1} |\\psi^{\\downarrow}> +t<\\psi^{\\downarrow}|Y_i Y_{i+1} |\\psi^{\\downarrow}> + u_{i,c}<\\psi^{\\downarrow}|Z_i |\\psi^{\\downarrow}> + u_{i,c} \\right) \\right)\n",
    "\\end{split}\n",
    "\\end{equation}\n",
    "where $\\hat{n}_i^{\\sigma}$ is the number operator on site $i$ for spin $\\sigma$, $\\hat{K}^{\\sigma}$ is the kinetic part of the Hamiltonian for spin $\\sigma$, $t$ is the hopping strength,  $u$ is the interaction strength, $k_{c',c} = <c'|\\hat{K}^{\\uparrow}|c>$, and  $u_{i,c} = u<c'|\\hat{n_i}^{\\uparrow}|c>$.  \n",
    "\n",
    "Here we will find $k_{c',c}$ and $u_{i,c}$. "
   ]
  },
  {
   "cell_type": "code",
   "execution_count": 67,
   "metadata": {},
   "outputs": [],
   "source": [
    "import numpy as np\n",
    "import pandas as pd"
   ]
  },
  {
   "cell_type": "markdown",
   "metadata": {},
   "source": [
    "First we need a way to generate the spin up states"
   ]
  },
  {
   "cell_type": "code",
   "execution_count": 68,
   "metadata": {},
   "outputs": [],
   "source": [
    "#Creates all states with N fermions and S orbitals\n",
    "def Generate_States(N,S):\n",
    "    s = [i for i in range(0,N)]\n",
    "    psi_l = []\n",
    "    while s[0] < S-N:\n",
    "        ### create the state and store it\n",
    "        psi = 0\n",
    "        for i in s:\n",
    "            psi += 2**i\n",
    "        psi_l.append(psi)\n",
    "        ###\n",
    "        ###Update the particle locations\n",
    "        exit = 0\n",
    "        i = len(s)-1\n",
    "        while exit == 0:\n",
    "            if s[i] < S-len(s)+i:\n",
    "                s[i] += 1\n",
    "                for j in range(i+1,len(s)):\n",
    "                    s[j] = s[j-1]+1\n",
    "                exit = 1\n",
    "            else:\n",
    "                i -= 1\n",
    "        ###\n",
    "    ###Create the finale state\n",
    "    psi = 0\n",
    "    for i in s:\n",
    "        psi += 2**i\n",
    "    psi_l.append(psi)\n",
    "    ###\n",
    "    return psi_l"
   ]
  },
  {
   "cell_type": "code",
   "execution_count": 3,
   "metadata": {},
   "outputs": [
    {
     "data": {
      "text/plain": [
       "[3, 5, 9, 6, 10, 12]"
      ]
     },
     "execution_count": 3,
     "metadata": {},
     "output_type": "execute_result"
    }
   ],
   "source": [
    "states = Generate_States(2,4)\n",
    "states"
   ]
  },
  {
   "cell_type": "code",
   "execution_count": 18,
   "metadata": {},
   "outputs": [],
   "source": [
    "# A function to print out the binary number\n",
    "def bi(num,S):\n",
    "    bi = bin(num)\n",
    "    out = \"\"\n",
    "    Sdiff = S - len(bi) + 2\n",
    "    for i in range(0,Sdiff):\n",
    "        out = out + '0'\n",
    "    for i in range(2,len(bi)):\n",
    "        out = out + bi[i]\n",
    "    return out"
   ]
  },
  {
   "cell_type": "code",
   "execution_count": 26,
   "metadata": {},
   "outputs": [
    {
     "data": {
      "text/plain": [
       "'0101'"
      ]
     },
     "execution_count": 26,
     "metadata": {},
     "output_type": "execute_result"
    }
   ],
   "source": [
    "bi(states[1],4)"
   ]
  },
  {
   "cell_type": "markdown",
   "metadata": {},
   "source": [
    "Now we can find the $k_{c,c}$ parameter by finding the action of the kinetic terms on the spin up states."
   ]
  },
  {
   "cell_type": "code",
   "execution_count": 27,
   "metadata": {},
   "outputs": [],
   "source": [
    "def bi_t(V,Su):\n",
    "    Vn_l = []\n",
    "    sign = 0\n",
    "    for i in range(0,Su):\n",
    "        #Spin up\n",
    "        M = 2**i + 2**np.mod(i+1,Su)\n",
    "        K = M & V\n",
    "        L = K ^ M\n",
    "        if L != 0 and L != M:\n",
    "            Vn = V - K + L\n",
    "            if i + 1 == np.mod(i+1,Su):\n",
    "                sign = 1\n",
    "            elif Su % 2 == 1:\n",
    "                sign = 1\n",
    "            else:\n",
    "                sign = -1\n",
    "            #print(i,':',bi(Vn))\n",
    "            Vn_l.append([Vn,sign])\n",
    "        #Spin down\n",
    "        #Only doing spin up\n",
    "    return Vn_l"
   ]
  },
  {
   "cell_type": "code",
   "execution_count": 32,
   "metadata": {},
   "outputs": [
    {
     "data": {
      "text/plain": [
       "array([[ 0, -1,  0,  0,  1,  0],\n",
       "       [-1,  0, -1, -1,  0,  1],\n",
       "       [ 0, -1,  0,  0, -1,  0],\n",
       "       [ 0, -1,  0,  0, -1,  0],\n",
       "       [ 1,  0, -1, -1,  0, -1],\n",
       "       [ 0,  1,  0,  0, -1,  0]])"
      ]
     },
     "execution_count": 32,
     "metadata": {},
     "output_type": "execute_result"
    }
   ],
   "source": [
    "t = -1\n",
    "S = 4\n",
    "Q = len(states)\n",
    "index_map = {states[i]:i for i in range(Q)}\n",
    "K_up = np.array([[0 for i in range(Q)] for j in range(Q)])\n",
    "for i in range(0,Q):\n",
    "    psi_t = bi_t(states[i],S)\n",
    "    for s in range(len(psi_t)):\n",
    "        K_up[index_map[psi_t[s][0]],i] = psi_t[s][1]*t\n",
    "\n",
    "\n",
    "        \n",
    "K_up"
   ]
  },
  {
   "cell_type": "markdown",
   "metadata": {},
   "source": [
    "Now we can find the $u_{i,c}$ parameter by simply checking whether there is a spin up electron at site $i$ in state $c$"
   ]
  },
  {
   "cell_type": "code",
   "execution_count": 53,
   "metadata": {},
   "outputs": [],
   "source": [
    "def bi_n(i,V,S):\n",
    "    num = bi(V,S)\n",
    "    if num[-i-1] == '1':\n",
    "        return 1\n",
    "    else:\n",
    "        return 0"
   ]
  },
  {
   "cell_type": "code",
   "execution_count": 60,
   "metadata": {},
   "outputs": [
    {
     "name": "stdout",
     "output_type": "stream",
     "text": [
      "1001\n"
     ]
    },
    {
     "data": {
      "text/plain": [
       "1"
      ]
     },
     "execution_count": 60,
     "metadata": {},
     "output_type": "execute_result"
    }
   ],
   "source": [
    "print(bi(states[2],4))\n",
    "bi_n(0,states[2],4)"
   ]
  },
  {
   "cell_type": "code",
   "execution_count": 71,
   "metadata": {},
   "outputs": [
    {
     "data": {
      "text/plain": [
       "[[1, 1, 0, 0],\n",
       " [1, 0, 1, 0],\n",
       " [1, 0, 0, 1],\n",
       " [0, 1, 1, 0],\n",
       " [0, 1, 0, 1],\n",
       " [0, 0, 1, 1]]"
      ]
     },
     "execution_count": 71,
     "metadata": {},
     "output_type": "execute_result"
    }
   ],
   "source": [
    "u = 1\n",
    "S = 4\n",
    "Q = len(states)\n",
    "n_up = []\n",
    "for c in range(0,Q):\n",
    "    n_up_c = []\n",
    "    for i in range(0,S):\n",
    "        n_up_c.append(u*bi_n(i,states[c],S))\n",
    "    n_up.append(n_up_c)\n",
    "    \n",
    "n_up"
   ]
  },
  {
   "cell_type": "code",
   "execution_count": null,
   "metadata": {},
   "outputs": [],
   "source": []
  }
 ],
 "metadata": {
  "kernelspec": {
   "display_name": "Python [conda env:qiskit_25v]",
   "language": "python",
   "name": "conda-env-qiskit_25v-py"
  },
  "language_info": {
   "codemirror_mode": {
    "name": "ipython",
    "version": 3
   },
   "file_extension": ".py",
   "mimetype": "text/x-python",
   "name": "python",
   "nbconvert_exporter": "python",
   "pygments_lexer": "ipython3",
   "version": "3.9.4"
  }
 },
 "nbformat": 4,
 "nbformat_minor": 4
}
