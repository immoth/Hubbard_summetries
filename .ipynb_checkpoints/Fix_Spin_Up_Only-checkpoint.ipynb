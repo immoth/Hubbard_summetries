{
 "cells": [
  {
   "cell_type": "markdown",
   "metadata": {},
   "source": [
    "# Finding classical parameters for the up sector\n",
    "\n",
    "Here I set the number of up electrons and let the down electrons be anything they want.  Let us break the wavefunction up into a sum over the up electron states:\n",
    "$$|\\psi> = \\sum_c \\alpha_c|c>|\\psi^{\\downarrow}> $$\n",
    "where $|c>$ is a particular state of the up electrons which is stored classically, $|\\psi^{\\downarrow}>$ is the state of the down electrons, and $\\alpha_c$ are some set of parameters which will be updated during VQE along with the unitary that describes $|\\psi^{\\downarrow}>$\n",
    "\n",
    "We can calculate the energy expaection value (which is the cost function for VQE) using a set of classical derived parameters describing the up states and a set of Pauli expectation values which will be found using VQE.\n",
    "\n",
    "\\begin{equation}\n",
    "\\begin{split}\n",
    "<\\psi|H|\\psi> &= \\sum_{c,c'}\\alpha_c\\alpha_{c'}^{*}<c'|<\\psi^{\\downarrow}| H|c>|\\psi^{\\downarrow}> \n",
    "\\\\\n",
    "& = \\sum_{c,c'}\\alpha_c\\alpha_{c'}^{*} \\left( <c'|\\hat{K}^{\\uparrow}|c> + \\delta_{c',c}<\\psi^{\\downarrow}|\\hat{K}^{\\downarrow}|\\psi^{\\downarrow}> + u\\sum_i <c'|\\hat{n_i}^{\\uparrow}|c><\\psi^{\\downarrow}|\\hat{n}_i^{\\downarrow} |\\psi^{\\downarrow}> \\right)\n",
    "\\\\\n",
    "& = \\sum_{c,c'}\\alpha_c\\alpha_{c'}^{*} \\left( k_{c',c} + \\delta_{c',c}\\sum_i\\left( t<\\psi^{\\downarrow}|X_i X_{i+1} |\\psi^{\\downarrow}> +t<\\psi^{\\downarrow}|Y_i Y_{i+1} |\\psi^{\\downarrow}> + u_{i,c}<\\psi^{\\downarrow}|Z_i |\\psi^{\\downarrow}> + u_{i,c} \\right) \\right)\n",
    "\\end{split}\n",
    "\\end{equation}\n",
    "where $\\hat{n}_i^{\\sigma}$ is the number operator on site $i$ for spin $\\sigma$, $\\hat{K}^{\\sigma}$ is the kinetic part of the Hamiltonian for spin $\\sigma$, $t$ is the hopping strength,  $u$ is the interaction strength, $k_{c',c} = <c'|\\hat{K}^{\\uparrow}|c>$, and  $u_{i,c} = u<c'|\\hat{n_i}^{\\uparrow}|c>$.  \n",
    "\n",
    "Here we will find $k_{c',c}$ and $u_{i,c}$. "
   ]
  },
  {
   "cell_type": "code",
   "execution_count": 38,
   "metadata": {},
   "outputs": [],
   "source": [
    "import numpy as np\n",
    "import pandas as pd"
   ]
  },
  {
   "cell_type": "markdown",
   "metadata": {},
   "source": [
    "First we need a way to generate the spin up states"
   ]
  },
  {
   "cell_type": "code",
   "execution_count": 39,
   "metadata": {},
   "outputs": [],
   "source": [
    "#Creates all states with N fermions and S orbitals\n",
    "def Generate_States(N,S):\n",
    "    s = [i for i in range(0,N)]\n",
    "    psi_l = []\n",
    "    while s[0] < S-N:\n",
    "        ### create the state and store it\n",
    "        psi = 0\n",
    "        for i in s:\n",
    "            psi += 2**i\n",
    "        psi_l.append(psi)\n",
    "        ###\n",
    "        ###Update the particle locations\n",
    "        exit = 0\n",
    "        i = len(s)-1\n",
    "        while exit == 0:\n",
    "            if s[i] < S-len(s)+i:\n",
    "                s[i] += 1\n",
    "                for j in range(i+1,len(s)):\n",
    "                    s[j] = s[j-1]+1\n",
    "                exit = 1\n",
    "            else:\n",
    "                i -= 1\n",
    "        ###\n",
    "    ###Create the finale state\n",
    "    psi = 0\n",
    "    for i in s:\n",
    "        psi += 2**i\n",
    "    psi_l.append(psi)\n",
    "    ###\n",
    "    return psi_l"
   ]
  },
  {
   "cell_type": "code",
   "execution_count": 40,
   "metadata": {},
   "outputs": [
    {
     "data": {
      "text/plain": [
       "[3, 5, 9, 6, 10, 12]"
      ]
     },
     "execution_count": 40,
     "metadata": {},
     "output_type": "execute_result"
    }
   ],
   "source": [
    "states = Generate_States(2,4)\n",
    "states"
   ]
  },
  {
   "cell_type": "code",
   "execution_count": 41,
   "metadata": {},
   "outputs": [],
   "source": [
    "# A function to print out the binary number\n",
    "def bi(num,S):\n",
    "    bi = bin(num)\n",
    "    out = \"\"\n",
    "    Sdiff = S - len(bi) + 2\n",
    "    for i in range(0,Sdiff):\n",
    "        out = out + '0'\n",
    "    for i in range(2,len(bi)):\n",
    "        out = out + bi[i]\n",
    "    return out"
   ]
  },
  {
   "cell_type": "code",
   "execution_count": 42,
   "metadata": {},
   "outputs": [
    {
     "data": {
      "text/plain": [
       "'0101'"
      ]
     },
     "execution_count": 42,
     "metadata": {},
     "output_type": "execute_result"
    }
   ],
   "source": [
    "bi(states[1],4)"
   ]
  },
  {
   "cell_type": "markdown",
   "metadata": {},
   "source": [
    "Now we can find the $k_{c,c}$ parameter by finding the action of the kinetic terms on the spin up states."
   ]
  },
  {
   "cell_type": "code",
   "execution_count": 43,
   "metadata": {},
   "outputs": [],
   "source": [
    "def bi_t(V,Su):\n",
    "    Vn_l = []\n",
    "    sign = 0\n",
    "    for i in range(0,Su):\n",
    "        #Spin up\n",
    "        M = 2**i + 2**np.mod(i+1,Su)\n",
    "        K = M & V\n",
    "        L = K ^ M\n",
    "        if L != 0 and L != M:\n",
    "            Vn = V - K + L\n",
    "            if i + 1 == np.mod(i+1,Su):\n",
    "                sign = 1\n",
    "            elif Su % 2 == 1:\n",
    "                sign = 1\n",
    "            else:\n",
    "                sign = -1\n",
    "            #print(i,':',bi(Vn))\n",
    "            Vn_l.append([Vn,sign])\n",
    "        #Spin down\n",
    "        #Only doing spin up\n",
    "    return Vn_l"
   ]
  },
  {
   "cell_type": "code",
   "execution_count": 44,
   "metadata": {},
   "outputs": [
    {
     "data": {
      "text/plain": [
       "array([[ 0, -1,  0,  0,  1,  0],\n",
       "       [-1,  0, -1, -1,  0,  1],\n",
       "       [ 0, -1,  0,  0, -1,  0],\n",
       "       [ 0, -1,  0,  0, -1,  0],\n",
       "       [ 1,  0, -1, -1,  0, -1],\n",
       "       [ 0,  1,  0,  0, -1,  0]])"
      ]
     },
     "execution_count": 44,
     "metadata": {},
     "output_type": "execute_result"
    }
   ],
   "source": [
    "t = -1\n",
    "S = 4\n",
    "Q = len(states)\n",
    "index_map = {states[i]:i for i in range(Q)}\n",
    "K_up = np.array([[0 for i in range(Q)] for j in range(Q)])\n",
    "for i in range(0,Q):\n",
    "    psi_t = bi_t(states[i],S)\n",
    "    for s in range(len(psi_t)):\n",
    "        K_up[index_map[psi_t[s][0]],i] = psi_t[s][1]*t\n",
    "\n",
    "\n",
    "        \n",
    "K_up"
   ]
  },
  {
   "cell_type": "markdown",
   "metadata": {},
   "source": [
    "Now we can find the $u_{i,c}$ parameter by simply checking whether there is a spin up electron at site $i$ in state $c$"
   ]
  },
  {
   "cell_type": "code",
   "execution_count": 45,
   "metadata": {},
   "outputs": [],
   "source": [
    "def bi_n(i,V,S):\n",
    "    num = bi(V,S)\n",
    "    if num[-i-1] == '1':\n",
    "        return 1\n",
    "    else:\n",
    "        return 0"
   ]
  },
  {
   "cell_type": "code",
   "execution_count": 46,
   "metadata": {},
   "outputs": [
    {
     "name": "stdout",
     "output_type": "stream",
     "text": [
      "1001\n"
     ]
    },
    {
     "data": {
      "text/plain": [
       "1"
      ]
     },
     "execution_count": 46,
     "metadata": {},
     "output_type": "execute_result"
    }
   ],
   "source": [
    "print(bi(states[2],4))\n",
    "bi_n(0,states[2],4)"
   ]
  },
  {
   "cell_type": "code",
   "execution_count": 47,
   "metadata": {},
   "outputs": [
    {
     "data": {
      "text/plain": [
       "[[1, 1, 0, 0],\n",
       " [1, 0, 1, 0],\n",
       " [1, 0, 0, 1],\n",
       " [0, 1, 1, 0],\n",
       " [0, 1, 0, 1],\n",
       " [0, 0, 1, 1]]"
      ]
     },
     "execution_count": 47,
     "metadata": {},
     "output_type": "execute_result"
    }
   ],
   "source": [
    "u = 1\n",
    "S = 4\n",
    "Q = len(states)\n",
    "n_up = []\n",
    "for c in range(0,Q):\n",
    "    n_up_c = []\n",
    "    for i in range(0,S):\n",
    "        n_up_c.append(u*bi_n(i,states[c],S))\n",
    "    n_up.append(n_up_c)\n",
    "    \n",
    "n_up"
   ]
  },
  {
   "cell_type": "markdown",
   "metadata": {},
   "source": [
    "Recall that\n",
    "\n",
    "\\begin{equation}\n",
    "\\begin{split}\n",
    "<\\psi|H|\\psi> = \\sum_{c,c'}\\alpha_c\\alpha_{c'}^{*}  k_{c',c} + \\sum_{c}|\\alpha_c|^2\\sum_i\\left( t<\\psi^{\\downarrow}|X_i X_{i+1} |\\psi^{\\downarrow}> +t<\\psi^{\\downarrow}|Y_i Y_{i+1} |\\psi^{\\downarrow}> + u_{i,c}<\\psi^{\\downarrow}|Z_i |\\psi^{\\downarrow}> + u_{i,c} \\right) \n",
    "\\end{split}\n",
    "\\end{equation}"
   ]
  },
  {
   "cell_type": "markdown",
   "metadata": {},
   "source": [
    "## The Ansatz"
   ]
  },
  {
   "cell_type": "markdown",
   "metadata": {},
   "source": [
    "Here we define the paramaterized circuit which we will optimize. \n",
    "\n",
    "$$ U^c_i = \\prod_q R^y_q(\\phi_{q0}^c)\\prod_{q'}C_{4q',4q'+1}C_{4q'+3,4q'+2}\\prod_{q''}C_{4q''+1,4q''+2}C_{4q''+4,4q''+3} $$\n",
    "$$ U^c = \\prod_i U^c_i $$"
   ]
  },
  {
   "cell_type": "markdown",
   "metadata": {},
   "source": [
    "This has to be optimized along with the paramter set $\\{\\alpha_c\\}$"
   ]
  },
  {
   "cell_type": "code",
   "execution_count": 4,
   "metadata": {},
   "outputs": [],
   "source": [
    "from qiskit import QuantumCircuit, QuantumRegister,ClassicalRegister, execute\n"
   ]
  },
  {
   "cell_type": "code",
   "execution_count": 5,
   "metadata": {},
   "outputs": [],
   "source": [
    "def Ui(cir_i,phi_i):  \n",
    "    \n",
    "    for q in range(0,Q):\n",
    "        cir_i.ry(phi_i[q],q)\n",
    "    for q in range(0,Q,4):\n",
    "        cir_i.cx(q,q+1)\n",
    "        if q + 3 < Q:\n",
    "            cir_i.cx(q+3,q+2)\n",
    "    for q in range(1,Q,4):\n",
    "        cir_i.cx(q,q+1)\n",
    "        if q + 3 < Q:\n",
    "            cir_i.cx(q+3,q+2)\n",
    "    \n",
    "    return cir_i\n"
   ]
  },
  {
   "cell_type": "code",
   "execution_count": 61,
   "metadata": {},
   "outputs": [
    {
     "data": {
      "image/png": "[encoded data removed]",
      "text/plain": [
       "<Figure size 293.74x325.08 with 1 Axes>"
      ]
     },
     "execution_count": 61,
     "metadata": {},
     "output_type": "execute_result"
    }
   ],
   "source": [
    "Q = 4\n",
    "qr = QuantumRegister(Q)\n",
    "cr = ClassicalRegister(Q)\n",
    "cir_i = QuantumCircuit(qr , cr)\n",
    "tst = Ui(cir_i,[0.2,0.3,0.4,0.5])\n",
    "\n",
    "tst.draw(output = 'mpl')"
   ]
  },
  {
   "cell_type": "code",
   "execution_count": 62,
   "metadata": {},
   "outputs": [],
   "source": [
    "def U(cir,phi_b):\n",
    "    T = len(phi_b)\n",
    "    for t in range(T):\n",
    "        cir = Ui(cir,phi_b[t])\n",
    "    return cir\n"
   ]
  },
  {
   "cell_type": "code",
   "execution_count": 63,
   "metadata": {},
   "outputs": [
    {
     "data": {
      "image/png": "[encoded data removed]",
      "text/plain": [
       "<Figure size 654.94x325.08 with 1 Axes>"
      ]
     },
     "execution_count": 63,
     "metadata": {},
     "output_type": "execute_result"
    }
   ],
   "source": [
    "qr = QuantumRegister(Q)\n",
    "cr = ClassicalRegister(Q)\n",
    "cir = QuantumCircuit(qr , cr)\n",
    "tst = U(cir,[[0.2,0.3,0.4,0.5],[0.5,0.6,0.7,0.8],[0.8,0.9,0.1,0.2]])\n",
    "\n",
    "tst.draw(output = 'mpl')"
   ]
  },
  {
   "cell_type": "markdown",
   "metadata": {},
   "source": [
    "# Calculating E\n",
    "\n",
    "\\begin{equation}\n",
    "\\begin{split}\n",
    "E =& <\\psi|H|\\psi> \n",
    "\\\\\n",
    "=& \\sum_{c,c'}\\alpha_c\\alpha_{c'}^{*}  k_{c',c} + \\sum_{c}|\\alpha_c|^2\\times\n",
    "\\\\\n",
    "&\\sum_i \\left( t<000\\ldots|U^{\\dagger}(\\{\\phi^c\\})X_i X_{i+1} U(\\{\\phi^c\\})|000\\ldots> \\right.\n",
    "\\\\\n",
    "&+t<000\\ldots|U^{\\dagger}(\\{\\phi^c\\})Y_i Y_{i+1} U(\\{\\phi^c\\})|000\\ldots> \n",
    "\\\\\n",
    "&\\left.+ u_{i,c}<000\\ldots|U^{\\dagger}(\\{\\phi^c\\})Z_i U(\\{\\phi^c\\})|000\\ldots> + u_{i,c} \\right)\n",
    "\\end{split}\n",
    "\\end{equation}\n",
    "\n",
    "We can use the Pauli calculator from the other VQE file.\n"
   ]
  },
  {
   "cell_type": "code",
   "execution_count": 65,
   "metadata": {},
   "outputs": [
    {
     "name": "stdout",
     "output_type": "stream",
     "text": [
      "(0.8632093666488736+0j)\n",
      "0.8632093666488737\n",
      "0.853515625\n"
     ]
    }
   ],
   "source": [
    "from qiskit import Aer\n",
    "from qiskit.visualization import *\n",
    "from qiskit import quantum_info as qi\n",
    "\n",
    "def measure_pauli(p_label,psi0,method = 'simple'):\n",
    "    \n",
    "    #Simple method of calculation####\n",
    "    if method == 'simple':\n",
    "        wave0 = qi.Statevector.from_instruction(psi0)\n",
    "        Op = qi.Operator.from_label(p_label)\n",
    "        return np.dot(np.conjugate(wave0),np.dot(Op,wave0))\n",
    "    #################################\n",
    "        \n",
    "    #apply rotations#################\n",
    "    psi = copy.deepcopy(psi0)\n",
    "    pauli_qs = []\n",
    "    Z_label = ''\n",
    "    Q = len(p_label)\n",
    "    for q,p in enumerate(p_label):\n",
    "        if p == 'X':\n",
    "            psi.ry(-np.pi/2,Q-1-q)\n",
    "            pauli_qs.append(1)\n",
    "            Z_label += 'Z'\n",
    "        if p == 'Y':\n",
    "            psi.rx(np.pi/2,Q-1-q)\n",
    "            pauli_qs.append(1)\n",
    "            Z_label += 'Z'\n",
    "        if p == 'Z':\n",
    "            pauli_qs.append(1)\n",
    "            Z_label += 'Z'\n",
    "        if p == 'I':\n",
    "            pauli_qs.append(0)\n",
    "            Z_label += 'I'\n",
    "    ################################\n",
    "    \n",
    "    #Using matrix multiplication####\n",
    "    if method == 'matrix':\n",
    "        # add results\n",
    "        wave = qi.Statevector.from_instruction(psi)\n",
    "        r = wave.probabilities_dict()\n",
    "        z_measure = 0\n",
    "        for key in list(r.keys()):\n",
    "            n = 0\n",
    "            for q in range(len(key)):\n",
    "                if key[q] == '1' and pauli_qs[q] == 1:\n",
    "                    n += 1\n",
    "            z_measure += (-1)**n * r[key] \n",
    "        return z_measure\n",
    "    #################################\n",
    "    \n",
    "    #Using the qasm simulator########\n",
    "    if method == \"simulator\":\n",
    "        sim = Aer.get_backend(\"qasm_simulator\")\n",
    "        psi.measure(psi.qubits,psi.clbits)\n",
    "        r = execute(psi, backend = sim).result().get_counts()\n",
    "        z_measure = 0\n",
    "        total = 0\n",
    "        for key in list(r.keys()):\n",
    "            n = 0\n",
    "            for q in range(len(key)):\n",
    "                if key[q] == '1' and pauli_qs[q] == 1:\n",
    "                    n += 1\n",
    "            z_measure += (-1)**n * r[key] \n",
    "            total += r[key]\n",
    "        return z_measure/total\n",
    "    ###################################\n",
    "    \n",
    "    raise NameError(method + ' is not a recognized method')\n",
    "    return method + ' is not a recognized method'\n",
    "  \n",
    "\n",
    "#Run a test\n",
    "import copy\n",
    "qr = QuantumRegister(Q)\n",
    "cr = ClassicalRegister(Q)\n",
    "cir = QuantumCircuit(qr , cr)\n",
    "psi0 = U(cir,[[1.2,2.3,3.4,2.1]])\n",
    "p_label = \"XXII\"\n",
    "        \n",
    "    \n",
    "print( measure_pauli(p_label,psi0,method = 'simple') )\n",
    "print( measure_pauli(p_label,psi0,method = 'matrix') )\n",
    "print( measure_pauli(p_label,psi0,method = 'simulator') )\n",
    "#print( measure_pauli(p_label,psi0,method = 'Moon_Cheese') )"
   ]
  },
  {
   "cell_type": "code",
   "execution_count": 67,
   "metadata": {},
   "outputs": [
    {
     "name": "stdout",
     "output_type": "stream",
     "text": [
      "IIZI\n",
      "XXII\n",
      "XZZX\n",
      "IYYI\n",
      "YZZY\n"
     ]
    }
   ],
   "source": [
    "def Z_label(i,Q):\n",
    "    out = ''\n",
    "    for j in range(0,Q):\n",
    "        if j == i:\n",
    "            out = out + 'Z'\n",
    "        else:\n",
    "            out = out + 'I'\n",
    "    return out[::-1]\n",
    "\n",
    "\n",
    "def X_label(i,Q):\n",
    "    out = ''\n",
    "    for j in range(0,Q):\n",
    "        if i < Q-1:\n",
    "            if i == j or i + 1 == j:\n",
    "                out = out + 'X'\n",
    "            else:\n",
    "                out = out + 'I'\n",
    "        else:\n",
    "            if j == 0 or j == Q-1:\n",
    "                out = out + 'X'\n",
    "            else:\n",
    "                out = out + 'Z'\n",
    "    return out[::-1]\n",
    "\n",
    "def Y_label(i,Q):\n",
    "    out = ''\n",
    "    for j in range(0,Q):\n",
    "        if i < Q-1:\n",
    "            if i == j or i + 1 == j:\n",
    "                out = out + 'Y'\n",
    "            else:\n",
    "                out = out + 'I'\n",
    "        else:\n",
    "            if j == 0 or j == Q-1:\n",
    "                out = out + 'Y'\n",
    "            else:\n",
    "                out = out + 'Z'\n",
    "    return out[::-1]\n",
    "\n",
    "print(Z_label(1,4))\n",
    "print(X_label(2,4))\n",
    "print(X_label(3,4))\n",
    "print(Y_label(1,4))\n",
    "print(Y_label(3,4))"
   ]
  },
  {
   "cell_type": "markdown",
   "metadata": {},
   "source": [
    "\\begin{equation}\n",
    "\\begin{split}\n",
    "E =& <\\psi|H|\\psi> \n",
    "\\\\\n",
    "=& \\sum_{c,c'}\\alpha_c\\alpha_{c'}^{*}  k_{c',c} + \\sum_{c}|\\alpha_c|^2\\times\n",
    "\\\\\n",
    "&\\sum_i \\left( t<000\\ldots|U^{\\dagger}(\\{\\phi^c\\})X_i X_{i+1} U(\\{\\phi^c\\})|000\\ldots> \\right.\n",
    "\\\\\n",
    "&+t<000\\ldots|U^{\\dagger}(\\{\\phi^c\\})Y_i Y_{i+1} U(\\{\\phi^c\\})|000\\ldots> \n",
    "\\\\\n",
    "&\\left.+ u_{i,c}<000\\ldots|U^{\\dagger}(\\{\\phi^c\\})Z_i U(\\{\\phi^c\\})|000\\ldots> + u_{i,c} \\right)\n",
    "\\end{split}\n",
    "\\end{equation}"
   ]
  },
  {
   "cell_type": "code",
   "execution_count": 85,
   "metadata": {},
   "outputs": [],
   "source": [
    "import numpy as np\n",
    "\n",
    "def find_E(alpha, phi, method = 'simple'):\n",
    "    \n",
    "    # The kinetic part for the up spin\n",
    "    E_Kup = 0\n",
    "    for c in range(0,len(alpha)):\n",
    "        for cc in range(0,len(alpha)):\n",
    "            E_Kup += alpha[c]*np.conjugate(alpha[cc])*K_up[c][cc]\n",
    "            \n",
    "    # The Kinetic part for the down spin\n",
    "    E_Kdown = 0\n",
    "    for c in range(0,len(alpha)):\n",
    "        for i in range(0,Q):\n",
    "            qr = QuantumRegister(Q)\n",
    "            cr = ClassicalRegister(Q)\n",
    "            cir = QuantumCircuit(qr , cr)\n",
    "            psi0 = U(cir,phi)\n",
    "            p_label = X_label(i,Q)\n",
    "            E_Kdown += t*np.abs(alpha[c])**2*measure_pauli(p_label,psi0,method = method)\n",
    "            p_label = Y_label(i,Q)\n",
    "            E_Kdown += t*np.abs(alpha[c])**2*measure_pauli(p_label,psi0,method = method)\n",
    "            \n",
    "    # Interaction part\n",
    "    E_u = 0\n",
    "    for c in range(0,len(alpha)):\n",
    "        for i in range(0,Q):\n",
    "            qr = QuantumRegister(Q)\n",
    "            cr = ClassicalRegister(Q)\n",
    "            cir = QuantumCircuit(qr , cr)\n",
    "            psi0 = U(cir,phi)\n",
    "            p_label = Z_label(i,Q)\n",
    "            E_u += u*n_up[c][i]*np.abs(alpha[c])**2*measure_pauli(p_label,psi0,method = method)\n",
    "            E_u += u*n_up[c][i]*np.abs(alpha[c])**2\n",
    "            \n",
    "    return E_u + E_Kup + E_Kdown"
   ]
  },
  {
   "cell_type": "code",
   "execution_count": 86,
   "metadata": {},
   "outputs": [
    {
     "data": {
      "text/plain": [
       "(76.88996782589564+0j)"
      ]
     },
     "execution_count": 86,
     "metadata": {},
     "output_type": "execute_result"
    }
   ],
   "source": [
    "find_E([1,2,3,4], [[0.2,0.3,0.4,0.5]])"
   ]
  },
  {
   "cell_type": "markdown",
   "metadata": {},
   "source": [
    "# I need to check that this is the same energy I get from the full Hamiltonian"
   ]
  },
  {
   "cell_type": "code",
   "execution_count": 88,
   "metadata": {},
   "outputs": [
    {
     "name": "stdout",
     "output_type": "stream",
     "text": [
      "Statevector([9.34244944e-01+0.j, 1.41669861e-02+0.j, 2.86221124e-02+0.j,\n",
      "             1.90014631e-02+0.j, 1.89380826e-01+0.j, 2.87179026e-03+0.j,\n",
      "             1.41197313e-01+0.j, 9.37371601e-02+0.j, 4.83568639e-02+0.j,\n",
      "             7.33288443e-04+0.j, 3.60535933e-02+0.j, 2.39350266e-02+0.j,\n",
      "             2.38551899e-01+0.j, 3.61742546e-03+0.j, 7.30842517e-03+0.j,\n",
      "             4.85187008e-03+0.j],\n",
      "            dims=(2, 2, 2, 2))\n"
     ]
    }
   ],
   "source": [
    "qr = QuantumRegister(Q)\n",
    "cr = ClassicalRegister(Q)\n",
    "cir = QuantumCircuit(qr , cr)\n",
    "psi0 = U(cir,phi)\n",
    "\n",
    "qi.Statevector.from_instruction(psi0)"
   ]
  },
  {
   "cell_type": "code",
   "execution_count": null,
   "metadata": {},
   "outputs": [],
   "source": []
  }
 ],
 "metadata": {
  "kernelspec": {
   "display_name": "Python 3",
   "language": "python",
   "name": "python3"
  },
  "language_info": {
   "codemirror_mode": {
    "name": "ipython",
    "version": 3
   },
   "file_extension": ".py",
   "mimetype": "text/x-python",
   "name": "python",
   "nbconvert_exporter": "python",
   "pygments_lexer": "ipython3",
   "version": "3.9.5"
  }
 },
 "nbformat": 4,
 "nbformat_minor": 4
}
