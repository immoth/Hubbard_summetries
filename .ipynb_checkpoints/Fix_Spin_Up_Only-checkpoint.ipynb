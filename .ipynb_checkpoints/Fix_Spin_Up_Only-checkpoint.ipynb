{
 "cells": [
  {
   "cell_type": "markdown",
   "metadata": {},
   "source": [
    "# Finding classical parameters for the up sector\n",
    "\n",
    "Here I set the number of up electrons and let the down electrons be anything they want.  Let us break the wavefunction up into a sum over the up electron states:\n",
    "$$|\\psi> = \\sum_c \\alpha_c|c>|\\psi^{\\downarrow}> $$\n",
    "where $|c>$ is a particular state of the up electrons which is stored classically, $|\\psi^{\\downarrow}>$ is the state of the down electrons, and $\\alpha_c$ are some set of parameters which will be updated during VQE along with the unitary that describes $|\\psi^{\\downarrow}>$\n",
    "\n",
    "We can calculate the energy expaection value (which is the cost function for VQE) using a set of classical derived parameters describing the up states and a set of Pauli expectation values which will be found using VQE.\n",
    "\n",
    "\\begin{equation}\n",
    "\\begin{split}\n",
    "<\\psi|H|\\psi> &= \\sum_{c,c'}\\alpha_c\\alpha_{c'}^{*}<c'|<\\psi^{\\downarrow}| H|c>|\\psi^{\\downarrow}> \n",
    "\\\\\n",
    "& = \\sum_{c,c'}\\alpha_c\\alpha_{c'}^{*} \\left( <c'|\\hat{K}^{\\uparrow}|c> + \\delta_{c',c}<\\psi^{\\downarrow}|\\hat{K}^{\\downarrow}|\\psi^{\\downarrow}> + u\\sum_i <c'|\\hat{n_i}^{\\uparrow}|c><\\psi^{\\downarrow}|\\hat{n}_i^{\\downarrow} |\\psi^{\\downarrow}> \\right)\n",
    "\\\\\n",
    "& = \\sum_{c,c'}\\alpha_c\\alpha_{c'}^{*} \\left( k_{c',c} + \\delta_{c',c}\\sum_i\\left( t<\\psi^{\\downarrow}|X_i X_{i+1} |\\psi^{\\downarrow}> +t<\\psi^{\\downarrow}|Y_i Y_{i+1} |\\psi^{\\downarrow}> + u_{i,c}<\\psi^{\\downarrow}|Z_i |\\psi^{\\downarrow}> + u_{i,c} \\right) \\right)\n",
    "\\end{split}\n",
    "\\end{equation}\n",
    "where $\\hat{n}_i^{\\sigma}$ is the number operator on site $i$ for spin $\\sigma$, $\\hat{K}^{\\sigma}$ is the kinetic part of the Hamiltonian for spin $\\sigma$, $t$ is the hopping strength,  $u$ is the interaction strength, $k_{c',c} = <c'|\\hat{K}^{\\uparrow}|c>$, and  $u_{i,c} = u<c'|\\hat{n_i}^{\\uparrow}|c>$.  \n",
    "\n",
    "Here we will find $k_{c',c}$ and $u_{i,c}$. "
   ]
  },
  {
   "cell_type": "code",
   "execution_count": 1,
   "metadata": {},
   "outputs": [],
   "source": [
    "import numpy as np\n",
    "import pandas as pd"
   ]
  },
  {
   "cell_type": "markdown",
   "metadata": {},
   "source": [
    "First we need a way to generate the spin up states"
   ]
  },
  {
   "cell_type": "code",
   "execution_count": 2,
   "metadata": {},
   "outputs": [],
   "source": [
    "#Creates all states with N fermions and S orbitals\n",
    "def Generate_States(N,S):\n",
    "    s = [i for i in range(0,N)]\n",
    "    psi_l = []\n",
    "    while s[0] < S-N:\n",
    "        ### create the state and store it\n",
    "        psi = 0\n",
    "        for i in s:\n",
    "            psi += 2**i\n",
    "        psi_l.append(psi)\n",
    "        ###\n",
    "        ###Update the particle locations\n",
    "        exit = 0\n",
    "        i = len(s)-1\n",
    "        while exit == 0:\n",
    "            if s[i] < S-len(s)+i:\n",
    "                s[i] += 1\n",
    "                for j in range(i+1,len(s)):\n",
    "                    s[j] = s[j-1]+1\n",
    "                exit = 1\n",
    "            else:\n",
    "                i -= 1\n",
    "        ###\n",
    "    ###Create the finale state\n",
    "    psi = 0\n",
    "    for i in s:\n",
    "        psi += 2**i\n",
    "    psi_l.append(psi)\n",
    "    ###\n",
    "    return psi_l"
   ]
  },
  {
   "cell_type": "code",
   "execution_count": 3,
   "metadata": {},
   "outputs": [
    {
     "data": {
      "text/plain": [
       "[3, 5, 9, 6, 10, 12]"
      ]
     },
     "execution_count": 3,
     "metadata": {},
     "output_type": "execute_result"
    }
   ],
   "source": [
    "states = Generate_States(2,4)\n",
    "states"
   ]
  },
  {
   "cell_type": "code",
   "execution_count": 4,
   "metadata": {},
   "outputs": [],
   "source": [
    "# A function to print out the binary number\n",
    "def bi(num,S):\n",
    "    bi = bin(num)\n",
    "    out = \"\"\n",
    "    Sdiff = S - len(bi) + 2\n",
    "    for i in range(0,Sdiff):\n",
    "        out = out + '0'\n",
    "    for i in range(2,len(bi)):\n",
    "        out = out + bi[i]\n",
    "    return out"
   ]
  },
  {
   "cell_type": "code",
   "execution_count": 5,
   "metadata": {},
   "outputs": [
    {
     "data": {
      "text/plain": [
       "'0101'"
      ]
     },
     "execution_count": 5,
     "metadata": {},
     "output_type": "execute_result"
    }
   ],
   "source": [
    "bi(states[1],4)"
   ]
  },
  {
   "cell_type": "markdown",
   "metadata": {},
   "source": [
    "Now we can find the $k_{c,c}$ parameter by finding the action of the kinetic terms on the spin up states."
   ]
  },
  {
   "cell_type": "code",
   "execution_count": 6,
   "metadata": {},
   "outputs": [],
   "source": [
    "def bi_t(V,Su):\n",
    "    Vn_l = []\n",
    "    sign = 0\n",
    "    for i in range(0,Su):\n",
    "        #Spin up\n",
    "        M = 2**i + 2**np.mod(i+1,Su)\n",
    "        K = M & V\n",
    "        L = K ^ M\n",
    "        if L != 0 and L != M:\n",
    "            Vn = V - K + L\n",
    "            if i + 1 == np.mod(i+1,Su):\n",
    "                sign = 1\n",
    "            elif Su % 2 == 1:\n",
    "                sign = 1\n",
    "            else:\n",
    "                sign = -1\n",
    "            #print(i,':',bi(Vn))\n",
    "            Vn_l.append([Vn,sign])\n",
    "        #Spin down\n",
    "        #Only doing spin up\n",
    "    return Vn_l"
   ]
  },
  {
   "cell_type": "code",
   "execution_count": 7,
   "metadata": {},
   "outputs": [
    {
     "data": {
      "text/plain": [
       "array([[ 0, -1,  0,  0,  1,  0],\n",
       "       [-1,  0, -1, -1,  0,  1],\n",
       "       [ 0, -1,  0,  0, -1,  0],\n",
       "       [ 0, -1,  0,  0, -1,  0],\n",
       "       [ 1,  0, -1, -1,  0, -1],\n",
       "       [ 0,  1,  0,  0, -1,  0]])"
      ]
     },
     "execution_count": 7,
     "metadata": {},
     "output_type": "execute_result"
    }
   ],
   "source": [
    "t = -1\n",
    "S = 4\n",
    "Q = len(states)\n",
    "index_map = {states[i]:i for i in range(Q)}\n",
    "K_up = np.array([[0 for i in range(Q)] for j in range(Q)])\n",
    "for i in range(0,Q):\n",
    "    psi_t = bi_t(states[i],S)\n",
    "    for s in range(len(psi_t)):\n",
    "        K_up[index_map[psi_t[s][0]],i] = psi_t[s][1]*t\n",
    "\n",
    "\n",
    "        \n",
    "K_up"
   ]
  },
  {
   "cell_type": "markdown",
   "metadata": {},
   "source": [
    "Now we can find the $u_{i,c}$ parameter by simply checking whether there is a spin up electron at site $i$ in state $c$"
   ]
  },
  {
   "cell_type": "code",
   "execution_count": 8,
   "metadata": {},
   "outputs": [],
   "source": [
    "def bi_n(i,V,S):\n",
    "    num = bi(V,S)\n",
    "    if num[-i-1] == '1':\n",
    "        return 1\n",
    "    else:\n",
    "        return 0"
   ]
  },
  {
   "cell_type": "code",
   "execution_count": 9,
   "metadata": {},
   "outputs": [
    {
     "name": "stdout",
     "output_type": "stream",
     "text": [
      "1001\n"
     ]
    },
    {
     "data": {
      "text/plain": [
       "1"
      ]
     },
     "execution_count": 9,
     "metadata": {},
     "output_type": "execute_result"
    }
   ],
   "source": [
    "print(bi(states[2],4))\n",
    "bi_n(0,states[2],4)"
   ]
  },
  {
   "cell_type": "code",
   "execution_count": 10,
   "metadata": {},
   "outputs": [
    {
     "data": {
      "text/plain": [
       "[[1, 1, 0, 0],\n",
       " [1, 0, 1, 0],\n",
       " [1, 0, 0, 1],\n",
       " [0, 1, 1, 0],\n",
       " [0, 1, 0, 1],\n",
       " [0, 0, 1, 1]]"
      ]
     },
     "execution_count": 10,
     "metadata": {},
     "output_type": "execute_result"
    }
   ],
   "source": [
    "u = 1\n",
    "S = 4\n",
    "Q = len(states)\n",
    "n_up = []\n",
    "for c in range(0,Q):\n",
    "    n_up_c = []\n",
    "    for i in range(0,S):\n",
    "        n_up_c.append(u*bi_n(i,states[c],S))\n",
    "    n_up.append(n_up_c)\n",
    "    \n",
    "n_up"
   ]
  },
  {
   "cell_type": "markdown",
   "metadata": {},
   "source": [
    "Recall that\n",
    "\n",
    "\\begin{equation}\n",
    "\\begin{split}\n",
    "<\\psi|H|\\psi> = \\sum_{c,c'}\\alpha_c\\alpha_{c'}^{*}  k_{c',c} + \\sum_{c}|\\alpha_c|^2\\sum_i\\left( t<\\psi^{\\downarrow}|X_i X_{i+1} |\\psi^{\\downarrow}> +t<\\psi^{\\downarrow}|Y_i Y_{i+1} |\\psi^{\\downarrow}> + u_{i,c}<\\psi^{\\downarrow}|Z_i |\\psi^{\\downarrow}> + u_{i,c} \\right) \n",
    "\\end{split}\n",
    "\\end{equation}"
   ]
  },
  {
   "cell_type": "markdown",
   "metadata": {},
   "source": [
    "## Full Hamiltonian\n",
    "\n",
    "Even though we will not use it directly, let us write the full Hamiltonian so that we can compare our results.  The Hamiltoniain is:\n",
    "\n",
    "\\begin{equation}\n",
    "    H_{c,c'} = k_{c,c'}\\hat{I}_{\\downarrow} + \\delta_{c,c'}\\left(\\sum_{i=0}^{S-2}\\left(X_i X_{i+1} + Y_i Y_{i+1}\\right) + X_0Z_1Z_2...Z_{N-2}X_{N-1}+ Y_0Z_1Z_2...Z_{N-2}Y_{N-1}\\right) + \\delta_{c,c'}\\sum_i u_{i,c}\\left(\\hat{I}_{\\downarrow}+Z_i\\right)\n",
    "\\end{equation}"
   ]
  },
  {
   "cell_type": "code",
   "execution_count": 81,
   "metadata": {},
   "outputs": [],
   "source": [
    "I_down = [[0 for i in range(2**S)] for j in range(2**S)]\n",
    "for i in range(2**S):\n",
    "    I_down[i][i] = 1\n",
    "I_down = np.array(I_down)\n",
    "    \n",
    "def Z_label(i,Q):\n",
    "    out = ''\n",
    "    for j in range(0,Q):\n",
    "        if j == i:\n",
    "            out = out + 'Z'\n",
    "        else:\n",
    "            out = out + 'I'\n",
    "    return out[::-1]\n",
    "\n",
    "\n",
    "def X_label(i,Q):\n",
    "    out = ''\n",
    "    for j in range(0,Q):\n",
    "        if i < Q-1:\n",
    "            if i == j or i + 1 == j:\n",
    "                out = out + 'X'\n",
    "            else:\n",
    "                out = out + 'I'\n",
    "        else:\n",
    "            if j == 0 or j == Q-1:\n",
    "                out = out + 'X'\n",
    "            else:\n",
    "                out = out + 'Z'\n",
    "    return out[::-1]\n",
    "\n",
    "def Y_label(i,Q):\n",
    "    out = ''\n",
    "    for j in range(0,Q):\n",
    "        if i < Q-1:\n",
    "            if i == j or i + 1 == j:\n",
    "                out = out + 'Y'\n",
    "            else:\n",
    "                out = out + 'I'\n",
    "        else:\n",
    "            if j == 0 or j == Q-1:\n",
    "                out = out + 'Y'\n",
    "            else:\n",
    "                out = out + 'Z'\n",
    "    return out[::-1]\n",
    "    \n",
    "def Hcc(c,cc):\n",
    "    h = K_up[c][cc]*I_down\n",
    "    if c == cc:\n",
    "        for i in range(0,S-1): \n",
    "            h = h + t*qi.Operator.from_label(X_label(i,S)).data\n",
    "            h = h + t*qi.Operator.from_label(Y_label(i,S)).data\n",
    "            h = h + u*n_up[c][i]*(I_down + qi.Operator.from_label(Z_label(i,S)).data)\n",
    "    return np.array(h)\n",
    "            \n"
   ]
  },
  {
   "cell_type": "code",
   "execution_count": 118,
   "metadata": {},
   "outputs": [],
   "source": [
    "Nc = 6\n",
    "Ndown = 2**S\n",
    "H_full = [[0 for i in range(Nc*Ndown)] for j in range(Nc*Ndown)]\n",
    "for c in range(Nc):\n",
    "    for i in range(Ndown):\n",
    "        for cc in range(Nc):\n",
    "            for j in range(Ndown):\n",
    "                H_full[Ndown*c + i][Ndown*cc + j] = Hcc(c,cc)[i][j]"
   ]
  },
  {
   "cell_type": "code",
   "execution_count": 121,
   "metadata": {},
   "outputs": [
    {
     "data": {
      "text/plain": [
       "array([-5.43831199e+00+0.j, -5.12068030e+00+0.j, -4.64507214e+00+0.j,\n",
       "       -4.48247845e+00+0.j, -3.81868179e+00+0.j, -3.44434441e+00+0.j,\n",
       "       -3.16492301e+00+0.j, -3.05972452e+00+0.j, -3.03605526e+00+0.j,\n",
       "       -2.94204619e+00+0.j, -2.74131341e+00+0.j, -2.53382312e+00+0.j,\n",
       "       -2.36923252e+00+0.j, -2.25272924e+00+0.j, -2.00000000e+00+0.j,\n",
       "       -2.00000000e+00+0.j, -1.71295954e+00+0.j, -1.54507573e+00+0.j,\n",
       "       -1.44715109e+00+0.j, -1.38644388e+00+0.j, -1.16996890e+00+0.j,\n",
       "       -1.00248866e+00+0.j, -9.96311389e-01+0.j, -9.07015677e-01+0.j,\n",
       "       -8.41772549e-01+0.j, -7.05930173e-01+0.j, -6.36265681e-01+0.j,\n",
       "       -5.41072194e-01+0.j, -3.68264585e-01+0.j, -3.65590763e-01+0.j,\n",
       "       -2.11768826e-01+0.j, -1.94260655e-01+0.j, -2.97461003e-16+0.j,\n",
       "       -1.95362004e-16+0.j,  8.26792417e-02+0.j,  1.92005770e-01+0.j,\n",
       "        2.32371751e-01+0.j,  2.90724641e-01+0.j,  6.02507652e-01+0.j,\n",
       "        7.14351467e-01+0.j,  1.09301964e+00+0.j,  1.09678807e+00+0.j,\n",
       "        1.10930254e+00+0.j,  1.13009411e+00+0.j,  1.19929350e+00+0.j,\n",
       "        1.33289239e+00+0.j,  1.42570797e+00+0.j,  1.46791191e+00+0.j,\n",
       "        1.52411270e+00+0.j,  1.55913695e+00+0.j,  1.62997272e+00+0.j,\n",
       "        1.74935900e+00+0.j,  1.87403982e+00+0.j,  1.88726684e+00+0.j,\n",
       "        1.93442835e+00+0.j,  2.00000000e+00+0.j,  2.00000000e+00+0.j,\n",
       "        2.38323220e+00+0.j,  2.47655683e+00+0.j,  2.64933378e+00+0.j,\n",
       "        2.79020612e+00+0.j,  2.80606343e+00+0.j,  2.88103220e+00+0.j,\n",
       "        3.05871697e+00+0.j,  3.18593973e+00+0.j,  3.19393657e+00+0.j,\n",
       "        3.28237143e+00+0.j,  3.50079972e+00+0.j,  3.52487206e+00+0.j,\n",
       "        3.53323682e+00+0.j,  3.73859922e+00+0.j,  3.90091697e+00+0.j,\n",
       "        3.92864288e+00+0.j,  3.95969104e+00+0.j,  3.97906043e+00+0.j,\n",
       "        4.02483443e+00+0.j,  4.25166146e+00+0.j,  4.41915889e+00+0.j,\n",
       "        4.60153733e+00+0.j,  4.68938628e+00+0.j,  4.90321193e+00+0.j,\n",
       "        5.25182891e+00+0.j,  5.50198211e+00+0.j,  5.53225165e+00+0.j,\n",
       "        5.70927536e+00+0.j,  5.82072884e+00+0.j,  5.85013823e+00+0.j,\n",
       "        6.17957904e+00+0.j,  6.25451920e+00+0.j,  6.35230826e+00+0.j,\n",
       "        6.35376417e+00+0.j,  6.43094146e+00+0.j,  7.36515752e+00+0.j,\n",
       "        7.98842414e+00+0.j,  8.08314656e+00+0.j,  8.61674542e+00+0.j])"
      ]
     },
     "execution_count": 121,
     "metadata": {},
     "output_type": "execute_result"
    }
   ],
   "source": [
    "e,y = np.linalg.eig(H_full)\n",
    "\n",
    "np.sort(e)"
   ]
  },
  {
   "cell_type": "markdown",
   "metadata": {},
   "source": [
    "## The Ansatz"
   ]
  },
  {
   "cell_type": "markdown",
   "metadata": {},
   "source": [
    "Here we define the paramaterized circuit which we will optimize. \n",
    "\n",
    "$$ U^c_i = \\prod_q R^y_q(\\phi_{q0}^c)\\prod_{q'}C_{4q',4q'+1}C_{4q'+3,4q'+2}\\prod_{q''}C_{4q''+1,4q''+2}C_{4q''+4,4q''+3} $$\n",
    "$$ U^c = \\prod_i U^c_i $$"
   ]
  },
  {
   "cell_type": "markdown",
   "metadata": {},
   "source": [
    "This has to be optimized along with the paramter set $\\{\\alpha_c\\}$"
   ]
  },
  {
   "cell_type": "code",
   "execution_count": 11,
   "metadata": {},
   "outputs": [],
   "source": [
    "from qiskit import QuantumCircuit, QuantumRegister,ClassicalRegister, execute\n"
   ]
  },
  {
   "cell_type": "code",
   "execution_count": 12,
   "metadata": {},
   "outputs": [],
   "source": [
    "def Ui(cir_i,phi_i):  \n",
    "    \n",
    "    for q in range(0,Q):\n",
    "        cir_i.ry(phi_i[q],q)\n",
    "    for q in range(0,Q,4):\n",
    "        cir_i.cx(q,q+1)\n",
    "        if q + 3 < Q:\n",
    "            cir_i.cx(q+3,q+2)\n",
    "    for q in range(1,Q,4):\n",
    "        cir_i.cx(q,q+1)\n",
    "        if q + 3 < Q:\n",
    "            cir_i.cx(q+3,q+2)\n",
    "    \n",
    "    return cir_i\n"
   ]
  },
  {
   "cell_type": "code",
   "execution_count": 13,
   "metadata": {},
   "outputs": [
    {
     "data": {
      "image/png": "[encoded data removed]",
      "text/plain": [
       "<Figure size 280.178x325.08 with 1 Axes>"
      ]
     },
     "execution_count": 13,
     "metadata": {},
     "output_type": "execute_result"
    }
   ],
   "source": [
    "Q = 4\n",
    "qr = QuantumRegister(Q)\n",
    "cr = ClassicalRegister(Q)\n",
    "cir_i = QuantumCircuit(qr , cr)\n",
    "tst = Ui(cir_i,[0.2,0.3,0.4,0.5])\n",
    "\n",
    "tst.draw(output = 'mpl')"
   ]
  },
  {
   "cell_type": "code",
   "execution_count": 14,
   "metadata": {},
   "outputs": [],
   "source": [
    "def U(cir,phi_b):\n",
    "    T = len(phi_b)\n",
    "    for t in range(T):\n",
    "        cir = Ui(cir,phi_b[t])\n",
    "    return cir\n"
   ]
  },
  {
   "cell_type": "code",
   "execution_count": 15,
   "metadata": {},
   "outputs": [
    {
     "data": {
      "image/png": "[encoded data removed]",
      "text/plain": [
       "<Figure size 641.523x325.08 with 1 Axes>"
      ]
     },
     "execution_count": 15,
     "metadata": {},
     "output_type": "execute_result"
    }
   ],
   "source": [
    "qr = QuantumRegister(Q)\n",
    "cr = ClassicalRegister(Q)\n",
    "cir = QuantumCircuit(qr , cr)\n",
    "tst = U(cir,[[0.2,0.3,0.4,0.5],[0.5,0.6,0.7,0.8],[0.8,0.9,0.1,0.2]])\n",
    "\n",
    "tst.draw(output = 'mpl')"
   ]
  },
  {
   "cell_type": "markdown",
   "metadata": {},
   "source": [
    "# Calculating E\n",
    "\n",
    "\\begin{equation}\n",
    "\\begin{split}\n",
    "E =& <\\psi|H|\\psi> \n",
    "\\\\\n",
    "=& \\sum_{c,c'}\\alpha_c\\alpha_{c'}^{*}  k_{c',c} + \\sum_{c}|\\alpha_c|^2\\times\n",
    "\\\\\n",
    "&\\sum_i \\left( t<000\\ldots|U^{\\dagger}(\\{\\phi^c\\})X_i X_{i+1} U(\\{\\phi^c\\})|000\\ldots> \\right.\n",
    "\\\\\n",
    "&+t<000\\ldots|U^{\\dagger}(\\{\\phi^c\\})Y_i Y_{i+1} U(\\{\\phi^c\\})|000\\ldots> \n",
    "\\\\\n",
    "&\\left.+ u_{i,c}<000\\ldots|U^{\\dagger}(\\{\\phi^c\\})Z_i U(\\{\\phi^c\\})|000\\ldots> + u_{i,c} \\right)\n",
    "\\end{split}\n",
    "\\end{equation}\n",
    "\n",
    "We can use the Pauli calculator from the other VQE file.\n"
   ]
  },
  {
   "cell_type": "code",
   "execution_count": 16,
   "metadata": {},
   "outputs": [
    {
     "name": "stdout",
     "output_type": "stream",
     "text": [
      "(0.8632093666488736+0j)\n",
      "0.8632093666488737\n",
      "0.87109375\n"
     ]
    }
   ],
   "source": [
    "from qiskit import Aer\n",
    "from qiskit.visualization import *\n",
    "from qiskit import quantum_info as qi\n",
    "\n",
    "def measure_pauli(p_label,psi0,method = 'simple'):\n",
    "    \n",
    "    #Simple method of calculation####\n",
    "    if method == 'simple':\n",
    "        wave0 = qi.Statevector.from_instruction(psi0)\n",
    "        Op = qi.Operator.from_label(p_label)\n",
    "        return np.dot(np.conjugate(wave0),np.dot(Op,wave0))\n",
    "    #################################\n",
    "        \n",
    "    #apply rotations#################\n",
    "    psi = copy.deepcopy(psi0)\n",
    "    pauli_qs = []\n",
    "    Z_label = ''\n",
    "    Q = len(p_label)\n",
    "    for q,p in enumerate(p_label):\n",
    "        if p == 'X':\n",
    "            psi.ry(-np.pi/2,Q-1-q)\n",
    "            pauli_qs.append(1)\n",
    "            Z_label += 'Z'\n",
    "        if p == 'Y':\n",
    "            psi.rx(np.pi/2,Q-1-q)\n",
    "            pauli_qs.append(1)\n",
    "            Z_label += 'Z'\n",
    "        if p == 'Z':\n",
    "            pauli_qs.append(1)\n",
    "            Z_label += 'Z'\n",
    "        if p == 'I':\n",
    "            pauli_qs.append(0)\n",
    "            Z_label += 'I'\n",
    "    ################################\n",
    "    \n",
    "    #Using matrix multiplication####\n",
    "    if method == 'matrix':\n",
    "        # add results\n",
    "        wave = qi.Statevector.from_instruction(psi)\n",
    "        r = wave.probabilities_dict()\n",
    "        z_measure = 0\n",
    "        for key in list(r.keys()):\n",
    "            n = 0\n",
    "            for q in range(len(key)):\n",
    "                if key[q] == '1' and pauli_qs[q] == 1:\n",
    "                    n += 1\n",
    "            z_measure += (-1)**n * r[key] \n",
    "        return z_measure\n",
    "    #################################\n",
    "    \n",
    "    #Using the qasm simulator########\n",
    "    if method == \"simulator\":\n",
    "        sim = Aer.get_backend(\"qasm_simulator\")\n",
    "        psi.measure(psi.qubits,psi.clbits)\n",
    "        r = execute(psi, backend = sim).result().get_counts()\n",
    "        z_measure = 0\n",
    "        total = 0\n",
    "        for key in list(r.keys()):\n",
    "            n = 0\n",
    "            for q in range(len(key)):\n",
    "                if key[q] == '1' and pauli_qs[q] == 1:\n",
    "                    n += 1\n",
    "            z_measure += (-1)**n * r[key] \n",
    "            total += r[key]\n",
    "        return z_measure/total\n",
    "    ###################################\n",
    "    \n",
    "    raise NameError(method + ' is not a recognized method')\n",
    "    return method + ' is not a recognized method'\n",
    "  \n",
    "\n",
    "#Run a test\n",
    "import copy\n",
    "qr = QuantumRegister(Q)\n",
    "cr = ClassicalRegister(Q)\n",
    "cir = QuantumCircuit(qr , cr)\n",
    "psi0 = U(cir,[[1.2,2.3,3.4,2.1]])\n",
    "p_label = \"XXII\"\n",
    "        \n",
    "    \n",
    "print( measure_pauli(p_label,psi0,method = 'simple') )\n",
    "print( measure_pauli(p_label,psi0,method = 'matrix') )\n",
    "print( measure_pauli(p_label,psi0,method = 'simulator') )\n",
    "#print( measure_pauli(p_label,psi0,method = 'Moon_Cheese') )"
   ]
  },
  {
   "cell_type": "code",
   "execution_count": 17,
   "metadata": {},
   "outputs": [
    {
     "name": "stdout",
     "output_type": "stream",
     "text": [
      "IIZI\n",
      "XXII\n",
      "XZZX\n",
      "IYYI\n",
      "YZZY\n"
     ]
    }
   ],
   "source": [
    "def Z_label(i,Q):\n",
    "    out = ''\n",
    "    for j in range(0,Q):\n",
    "        if j == i:\n",
    "            out = out + 'Z'\n",
    "        else:\n",
    "            out = out + 'I'\n",
    "    return out[::-1]\n",
    "\n",
    "\n",
    "def X_label(i,Q):\n",
    "    out = ''\n",
    "    for j in range(0,Q):\n",
    "        if i < Q-1:\n",
    "            if i == j or i + 1 == j:\n",
    "                out = out + 'X'\n",
    "            else:\n",
    "                out = out + 'I'\n",
    "        else:\n",
    "            if j == 0 or j == Q-1:\n",
    "                out = out + 'X'\n",
    "            else:\n",
    "                out = out + 'Z'\n",
    "    return out[::-1]\n",
    "\n",
    "def Y_label(i,Q):\n",
    "    out = ''\n",
    "    for j in range(0,Q):\n",
    "        if i < Q-1:\n",
    "            if i == j or i + 1 == j:\n",
    "                out = out + 'Y'\n",
    "            else:\n",
    "                out = out + 'I'\n",
    "        else:\n",
    "            if j == 0 or j == Q-1:\n",
    "                out = out + 'Y'\n",
    "            else:\n",
    "                out = out + 'Z'\n",
    "    return out[::-1]\n",
    "\n",
    "print(Z_label(1,4))\n",
    "print(X_label(2,4))\n",
    "print(X_label(3,4))\n",
    "print(Y_label(1,4))\n",
    "print(Y_label(3,4))"
   ]
  },
  {
   "cell_type": "markdown",
   "metadata": {},
   "source": [
    "\\begin{equation}\n",
    "\\begin{split}\n",
    "E =& <\\psi|H|\\psi> \n",
    "\\\\\n",
    "=& \\sum_{c,c'}\\alpha_c\\alpha_{c'}^{*}  k_{c',c} + \\sum_{c}|\\alpha_c|^2\\times\n",
    "\\\\\n",
    "&\\sum_i \\left( t<000\\ldots|U^{\\dagger}(\\{\\phi^c\\})X_i X_{i+1} U(\\{\\phi^c\\})|000\\ldots> \\right.\n",
    "\\\\\n",
    "&+t<000\\ldots|U^{\\dagger}(\\{\\phi^c\\})Y_i Y_{i+1} U(\\{\\phi^c\\})|000\\ldots> \n",
    "\\\\\n",
    "&\\left.+ u_{i,c}<000\\ldots|U^{\\dagger}(\\{\\phi^c\\})Z_i U(\\{\\phi^c\\})|000\\ldots> + u_{i,c} \\right)\n",
    "\\end{split}\n",
    "\\end{equation}"
   ]
  },
  {
   "cell_type": "code",
   "execution_count": 18,
   "metadata": {},
   "outputs": [],
   "source": [
    "import numpy as np\n",
    "\n",
    "def find_E(alpha, phi, method = 'simple'):\n",
    "    \n",
    "    # The kinetic part for the up spin\n",
    "    E_Kup = 0\n",
    "    for c in range(0,len(alpha)):\n",
    "        for cc in range(0,len(alpha)):\n",
    "            E_Kup += alpha[c]*np.conjugate(alpha[cc])*K_up[c][cc]\n",
    "            \n",
    "    # The Kinetic part for the down spin\n",
    "    E_Kdown = 0\n",
    "    for c in range(0,len(alpha)):\n",
    "        for i in range(0,Q):\n",
    "            qr = QuantumRegister(Q)\n",
    "            cr = ClassicalRegister(Q)\n",
    "            cir = QuantumCircuit(qr , cr)\n",
    "            psi0 = U(cir,phi)\n",
    "            p_label = X_label(i,Q)\n",
    "            E_Kdown += t*np.abs(alpha[c])**2*measure_pauli(p_label,psi0,method = method)\n",
    "            p_label = Y_label(i,Q)\n",
    "            E_Kdown += t*np.abs(alpha[c])**2*measure_pauli(p_label,psi0,method = method)\n",
    "            \n",
    "    # Interaction part\n",
    "    E_u = 0\n",
    "    for c in range(0,len(alpha)):\n",
    "        for i in range(0,Q):\n",
    "            qr = QuantumRegister(Q)\n",
    "            cr = ClassicalRegister(Q)\n",
    "            cir = QuantumCircuit(qr , cr)\n",
    "            psi0 = U(cir,phi)\n",
    "            p_label = Z_label(i,Q)\n",
    "            E_u += u*n_up[c][i]*np.abs(alpha[c])**2*measure_pauli(p_label,psi0,method = method)\n",
    "            E_u += u*n_up[c][i]*np.abs(alpha[c])**2\n",
    "            \n",
    "    return E_u + E_Kup + E_Kdown"
   ]
  },
  {
   "cell_type": "code",
   "execution_count": 124,
   "metadata": {},
   "outputs": [
    {
     "data": {
      "text/plain": [
       "(199.38411750609066+0j)"
      ]
     },
     "execution_count": 124,
     "metadata": {},
     "output_type": "execute_result"
    }
   ],
   "source": [
    "alpha = [1,2,3,4,5,6]\n",
    "phi = [[0.2,0.3,0.4,0.5]]\n",
    "find_E(alpha, phi)"
   ]
  },
  {
   "cell_type": "markdown",
   "metadata": {},
   "source": [
    "# I need to check that this is the same energy I get from the full Hamiltonian"
   ]
  },
  {
   "cell_type": "code",
   "execution_count": 127,
   "metadata": {},
   "outputs": [],
   "source": [
    "qr = QuantumRegister(Q)\n",
    "cr = ClassicalRegister(Q)\n",
    "cir = QuantumCircuit(qr , cr)\n",
    "psi0 = U(cir,phi)\n",
    "\n",
    "psi_tst = qi.Statevector.from_instruction(psi0).data"
   ]
  },
  {
   "cell_type": "code",
   "execution_count": 129,
   "metadata": {},
   "outputs": [],
   "source": [
    "psi_tst_full = [0 for i in range(Nc*Ndown)]\n",
    "\n",
    "for c in range(Nc):\n",
    "    for i in range(Ndown):\n",
    "        psi_tst_full[Ndown*c + i] = alpha[c]*psi_tst[i]"
   ]
  },
  {
   "cell_type": "code",
   "execution_count": 132,
   "metadata": {},
   "outputs": [
    {
     "data": {
      "text/plain": [
       "(67.95333817376455+0j)"
      ]
     },
     "execution_count": 132,
     "metadata": {},
     "output_type": "execute_result"
    }
   ],
   "source": [
    "np.dot(psi_tst_full,np.dot(H_full,psi_tst_full))"
   ]
  },
  {
   "cell_type": "markdown",
   "metadata": {},
   "source": [
    "This number should match the find E number so something is wrong!!!!"
   ]
  },
  {
   "cell_type": "code",
   "execution_count": 133,
   "metadata": {},
   "outputs": [
    {
     "data": {
      "text/plain": [
       "'/Users/stenger/Documents/Research/Hubbard_symmetries'"
      ]
     },
     "execution_count": 133,
     "metadata": {},
     "output_type": "execute_result"
    }
   ],
   "source": [
    "pwd"
   ]
  },
  {
   "cell_type": "code",
   "execution_count": null,
   "metadata": {},
   "outputs": [],
   "source": []
  }
 ],
 "metadata": {
  "kernelspec": {
   "display_name": "Python 3",
   "language": "python",
   "name": "python3"
  },
  "language_info": {
   "codemirror_mode": {
    "name": "ipython",
    "version": 3
   },
   "file_extension": ".py",
   "mimetype": "text/x-python",
   "name": "python",
   "nbconvert_exporter": "python",
   "pygments_lexer": "ipython3",
   "version": "3.9.5"
  }
 },
 "nbformat": 4,
 "nbformat_minor": 4
}
