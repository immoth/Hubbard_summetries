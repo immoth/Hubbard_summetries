{
 "cells": [
  {
   "cell_type": "markdown",
   "metadata": {},
   "source": [
    "# Generating all of the N-qubit, L-site states"
   ]
  },
  {
   "cell_type": "code",
   "execution_count": 4,
   "metadata": {},
   "outputs": [],
   "source": [
    "N = 3\n",
    "L = 6\n",
    "l = [i for i in range(0,N)]\n",
    "psi_l = []\n",
    "while l[0] < L-N:\n",
    "    psi = 0\n",
    "    for i in l:\n",
    "        psi += 2**i\n",
    "    #print(bin(psi))\n",
    "    psi_l.append(psi)\n",
    "    exit = 0\n",
    "    i = len(l)-1\n",
    "    while exit == 0:\n",
    "        #print(i,L-len(l)+i,l)\n",
    "        if l[i] < L-len(l)+i:\n",
    "            #print('yes')\n",
    "            l[i] += 1\n",
    "            for j in range(i+1,len(l)):\n",
    "                l[j] = l[j-1]+1\n",
    "            exit = 1\n",
    "        else:\n",
    "            #print('no')\n",
    "            i -= 1\n",
    "psi = 0\n",
    "for i in l:\n",
    "    psi += 2**i\n",
    "psi_l.append(psi)\n",
    "        "
   ]
  },
  {
   "cell_type": "code",
   "execution_count": 6,
   "metadata": {},
   "outputs": [
    {
     "name": "stdout",
     "output_type": "stream",
     "text": [
      "0b111\n",
      "0b1011\n",
      "0b10011\n",
      "0b100011\n",
      "0b1101\n",
      "0b10101\n",
      "0b100101\n",
      "0b11001\n",
      "0b101001\n",
      "0b110001\n",
      "0b1110\n",
      "0b10110\n",
      "0b100110\n",
      "0b11010\n",
      "0b101010\n",
      "0b110010\n",
      "0b11100\n",
      "0b101100\n",
      "0b110100\n",
      "0b111000\n"
     ]
    }
   ],
   "source": [
    "for i in range(len(psi_l)):\n",
    "    print(bin(psi_l[i]))"
   ]
  },
  {
   "cell_type": "code",
   "execution_count": null,
   "metadata": {},
   "outputs": [],
   "source": []
  }
 ],
 "metadata": {
  "kernelspec": {
   "display_name": "Python [conda env:qiskit_25v]",
   "language": "python",
   "name": "conda-env-qiskit_25v-py"
  },
  "language_info": {
   "codemirror_mode": {
    "name": "ipython",
    "version": 3
   },
   "file_extension": ".py",
   "mimetype": "text/x-python",
   "name": "python",
   "nbconvert_exporter": "python",
   "pygments_lexer": "ipython3",
   "version": "3.9.4"
  }
 },
 "nbformat": 4,
 "nbformat_minor": 4
}
