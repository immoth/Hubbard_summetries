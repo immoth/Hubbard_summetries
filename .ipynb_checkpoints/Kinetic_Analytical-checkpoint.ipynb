{
 "cells": [
  {
   "cell_type": "code",
   "execution_count": 3,
   "id": "ad813d7f",
   "metadata": {},
   "outputs": [],
   "source": [
    "import numpy as np"
   ]
  },
  {
   "cell_type": "code",
   "execution_count": 116,
   "id": "51138cbf",
   "metadata": {},
   "outputs": [],
   "source": [
    "#spinnless single particle kinetic term\n",
    "N = 5\n",
    "n_avg = 0.5\n",
    "t = -1.0\n",
    "K = [[0 for i in range(0,N)] for j in range(0,N)]\n",
    "for i in range(0,N):\n",
    "    K[i][np.mod(i+1,N)] = t\n",
    "    K[np.mod(i+1,N)][i] = t"
   ]
  },
  {
   "cell_type": "code",
   "execution_count": 117,
   "id": "2980e6a8",
   "metadata": {},
   "outputs": [
    {
     "data": {
      "text/plain": [
       "array([-2.        , -0.61803399, -0.61803399,  1.61803399,  1.61803399])"
      ]
     },
     "execution_count": 117,
     "metadata": {},
     "output_type": "execute_result"
    }
   ],
   "source": [
    "e,y = np.linalg.eig(K)\n",
    "psi = np.transpose(y)\n",
    "order = np.argsort(e)\n",
    "np.sort(e)"
   ]
  },
  {
   "cell_type": "code",
   "execution_count": 118,
   "id": "3c9f77eb",
   "metadata": {},
   "outputs": [
    {
     "data": {
      "text/plain": [
       "7.771561172376096e-16"
      ]
     },
     "execution_count": 118,
     "metadata": {},
     "output_type": "execute_result"
    }
   ],
   "source": [
    "np.amax(np.abs(np.dot(K,psi[order[0]] ) - e[order[0]]*psi[order[0]]))"
   ]
  },
  {
   "cell_type": "code",
   "execution_count": 119,
   "id": "637102d3",
   "metadata": {},
   "outputs": [
    {
     "name": "stdout",
     "output_type": "stream",
     "text": [
      "-2.0\n",
      "-0.6180339887498949\n",
      "1.6180339887498947\n",
      "1.618033988749895\n",
      "-0.6180339887498945\n"
     ]
    }
   ],
   "source": [
    "#spinless single particle kinetic energy levels\n",
    "def E(n):\n",
    "    return 2*t*np.cos(2*n*np.pi/N)\n",
    "\n",
    "for n in range(N):\n",
    "    print(E(n))"
   ]
  },
  {
   "cell_type": "code",
   "execution_count": 120,
   "id": "70b8e0a3",
   "metadata": {},
   "outputs": [
    {
     "data": {
      "text/plain": [
       "8.08254562088053e-16"
      ]
     },
     "execution_count": 120,
     "metadata": {},
     "output_type": "execute_result"
    }
   ],
   "source": [
    "def psi_t(n):\n",
    "    return np.array([np.exp(1j*2*n*i*np.pi/N) for i in range(N)])\n",
    "\n",
    "n=3\n",
    "np.amax(np.abs(np.dot(K,psi_t(n)) - E(n)*psi_t(n)))"
   ]
  },
  {
   "cell_type": "markdown",
   "id": "053de5d9",
   "metadata": {},
   "source": [
    "## Full Many Body Kinetic Term"
   ]
  },
  {
   "cell_type": "code",
   "execution_count": 121,
   "id": "be993797",
   "metadata": {},
   "outputs": [],
   "source": [
    "import qiskit.quantum_info as qi\n",
    "\n",
    "def X_label(i,Q):\n",
    "    out = ''\n",
    "    for j in range(0,Q):\n",
    "        if i < Q-1:\n",
    "            if i == j or i + 1 == j:\n",
    "                out = out + 'X'\n",
    "            else:\n",
    "                out = out + 'I'\n",
    "        else:\n",
    "            if j == 0 or j == Q-1:\n",
    "                out = out + 'X'\n",
    "            else:\n",
    "                out = out + 'Z'\n",
    "    return out[::-1]\n",
    "\n",
    "def Y_label(i,Q):\n",
    "    out = ''\n",
    "    for j in range(0,Q):\n",
    "        if i < Q-1:\n",
    "            if i == j or i + 1 == j:\n",
    "                out = out + 'Y'\n",
    "            else:\n",
    "                out = out + 'I'\n",
    "        else:\n",
    "            if j == 0 or j == Q-1:\n",
    "                out = out + 'Y'\n",
    "            else:\n",
    "                out = out + 'Z'\n",
    "    return out[::-1]\n",
    "\n",
    "def I_label(Q):\n",
    "    out = ''\n",
    "    for j in range(Q):\n",
    "        out = out + 'I'\n",
    "    return out\n",
    "\n",
    "\n",
    "K_mb = 0*qi.Operator.from_label(I_label(N))\n",
    "for i in range(0,N):\n",
    "    K_mb = K_mb + 1/2*t*qi.Operator.from_label( X_label(i,N) )\n",
    "    K_mb = K_mb + 1/2*t*qi.Operator.from_label( Y_label(i,N) )\n",
    "\n",
    "    \n",
    "    "
   ]
  },
  {
   "cell_type": "code",
   "execution_count": 122,
   "id": "50f5c59e",
   "metadata": {},
   "outputs": [],
   "source": [
    "e_mb,y_mb = np.linalg.eig(K_mb)\n",
    "psi_mb = np.transpose(y_mb)\n",
    "order_mb = np.argsort(e_mb)\n",
    "#np.sort(e_mb)"
   ]
  },
  {
   "cell_type": "code",
   "execution_count": 123,
   "id": "ea48dc10",
   "metadata": {},
   "outputs": [],
   "source": [
    "# A function to print out the binary number\n",
    "def bi(num,S):\n",
    "    bi = bin(num)\n",
    "    out = []\n",
    "    Sdiff = S - len(bi) + 2\n",
    "    for i in range(0,Sdiff):\n",
    "        out.append(0)\n",
    "    for i in range(2,len(bi)):\n",
    "        out.append(int(bi[i]))\n",
    "    return out\n",
    "\n",
    "#Build the single particle wavefunction in the many body basis\n",
    "def psi_mb1(n):\n",
    "    i = 0\n",
    "    out = [0 for m in range(2**N)]\n",
    "    for m in range(2**N):\n",
    "        if sum(bi(m,N)) == 1:\n",
    "            out[m] = psi_t(n)[i]\n",
    "            i += 1\n",
    "    return np.array(out)"
   ]
  },
  {
   "cell_type": "code",
   "execution_count": 124,
   "id": "58fa98a3",
   "metadata": {},
   "outputs": [
    {
     "data": {
      "text/plain": [
       "4.965068306494546e-16"
      ]
     },
     "execution_count": 124,
     "metadata": {},
     "output_type": "execute_result"
    }
   ],
   "source": [
    "#Check the single particle state\n",
    "n=2\n",
    "np.amax(np.abs(np.dot(K_mb,psi_mb1(n)) - E(n)*psi_mb1(n)))"
   ]
  },
  {
   "cell_type": "markdown",
   "id": "adaabfd3",
   "metadata": {},
   "source": [
    "### Two particle"
   ]
  },
  {
   "cell_type": "code",
   "execution_count": 182,
   "id": "31e6d718",
   "metadata": {},
   "outputs": [],
   "source": [
    "#two particle energies\n",
    "e2 = []\n",
    "for m in range(2**N):\n",
    "    state = bi(m,N)\n",
    "    if sum(state) == 2:\n",
    "        #print(state,e)\n",
    "        em = np.dot(state,e)\n",
    "        e2.append(em)\n",
    "        \n",
    "def E2(n,nn):\n",
    "    return E(n)+E(nn)\n",
    "\n",
    "#Slatter determinent\n",
    "def slatter2(n,nn,x,xx):\n",
    "    s = [[psi_t(n)[x], psi_t(n)[xx]],[psi_t(nn)[x], psi_t(nn)[xx]]]\n",
    "    return np.linalg.det(s)\n",
    "\n",
    "#two particle wavefunctions\n",
    "def psi_mb2(n,nn):\n",
    "    out = [0 for m in range(2**N)]\n",
    "    for m in range(2**N):\n",
    "        if sum(bi(m,N)) == 2:\n",
    "            xs = np.argwhere(np.array(bi(m,N)) == 1 )\n",
    "            x1 = xs[0,0]\n",
    "            x2 = xs[1,0]\n",
    "            out[m] = slatter2(n,nn,x1,x2)\n",
    "    return np.array(out)"
   ]
  },
  {
   "cell_type": "code",
   "execution_count": 225,
   "id": "3c33d7ea",
   "metadata": {},
   "outputs": [
    {
     "data": {
      "text/plain": [
       "1.2560739669470201e-15"
      ]
     },
     "execution_count": 225,
     "metadata": {},
     "output_type": "execute_result"
    }
   ],
   "source": [
    "n1 = 1\n",
    "n2 = 3\n",
    "np.amax(np.abs(np.dot(K_mb,psi_mb2(n1,n2)) - E2(n1,n2)*psi_mb2(n1,n2)))"
   ]
  },
  {
   "cell_type": "markdown",
   "id": "e88c0710",
   "metadata": {},
   "source": [
    "### Three particle"
   ]
  },
  {
   "cell_type": "code",
   "execution_count": 244,
   "id": "eb2d1ae2",
   "metadata": {},
   "outputs": [],
   "source": [
    "#Energies\n",
    "def E3(n1,n2,n3):\n",
    "    return E(n1)+E(n2)+E(n3)\n",
    "\n",
    "#Slatter determinent\n",
    "def slatter(nl,xl):\n",
    "    s = [[psi_t(n)[x] for x in xl] for n in nl]\n",
    "    return np.linalg.det(s)\n",
    "\n",
    "#two particle wavefunctions\n",
    "def psi_mb3(n1,n2,n3):\n",
    "    out = [0 for m in range(2**N)]\n",
    "    for m in range(2**N):\n",
    "        if sum(bi(m,N)) == 3:\n",
    "            xs = np.argwhere(np.array(bi(m,N)) == 1 )\n",
    "            x1 = xs[0,0]\n",
    "            x2 = xs[1,0]\n",
    "            x3 = xs[2,0]\n",
    "            out[m] = slatter([n1,n2,n3],[x1,x2,x3])\n",
    "    return np.array(out)"
   ]
  },
  {
   "cell_type": "code",
   "execution_count": 249,
   "id": "4e1c8c10",
   "metadata": {},
   "outputs": [
    {
     "data": {
      "text/plain": [
       "4.0885296614757776e-15"
      ]
     },
     "execution_count": 249,
     "metadata": {},
     "output_type": "execute_result"
    }
   ],
   "source": [
    "n1 = 0\n",
    "n2 = 2\n",
    "n3 = 3\n",
    "np.amax(np.abs(np.dot(K_mb,psi_mb3(n1,n2,n3)) - E3(n1,n2,n3)*psi_mb3(n1,n2,n3)))"
   ]
  },
  {
   "cell_type": "code",
   "execution_count": 257,
   "id": "1d57606b",
   "metadata": {},
   "outputs": [],
   "source": [
    "### General particle number\n",
    "\n",
    "\n",
    "#Energies\n",
    "def En(nl):\n",
    "    return sum([E(n) for n in nl])\n",
    "\n",
    "#Slatter determinent\n",
    "def slatter(nl,xl):\n",
    "    s = [[psi_t(n)[x] for x in xl] for n in nl]\n",
    "    return np.linalg.det(s)\n",
    "\n",
    "#two particle wavefunctions\n",
    "def psi_mbn(nl):\n",
    "    out = [0 for m in range(2**N)]\n",
    "    for m in range(2**N):\n",
    "        if sum(bi(m,N)) == len(nl):\n",
    "            xs = np.argwhere(np.array(bi(m,N)) == 1 )\n",
    "            xl = [x[0] for x in xs]\n",
    "            out[m] = slatter(nl,xl)\n",
    "    return np.array(out)"
   ]
  },
  {
   "cell_type": "code",
   "execution_count": 259,
   "id": "d4d5d0dd",
   "metadata": {},
   "outputs": [
    {
     "data": {
      "text/plain": [
       "1.6758116906701664e-14"
      ]
     },
     "execution_count": 259,
     "metadata": {},
     "output_type": "execute_result"
    }
   ],
   "source": [
    "nl = [0,1,3,4]\n",
    "np.amax(np.abs(np.dot(K_mb,psi_mbn(nl)) - En(nl)*psi_mbn(nl)))"
   ]
  },
  {
   "cell_type": "code",
   "execution_count": null,
   "id": "7ca61549",
   "metadata": {},
   "outputs": [],
   "source": []
  }
 ],
 "metadata": {
  "kernelspec": {
   "display_name": "Python 3",
   "language": "python",
   "name": "python3"
  },
  "language_info": {
   "codemirror_mode": {
    "name": "ipython",
    "version": 3
   },
   "file_extension": ".py",
   "mimetype": "text/x-python",
   "name": "python",
   "nbconvert_exporter": "python",
   "pygments_lexer": "ipython3",
   "version": "3.9.5"
  }
 },
 "nbformat": 4,
 "nbformat_minor": 5
}
