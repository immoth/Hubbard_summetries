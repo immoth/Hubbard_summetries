{
 "cells": [
  {
   "cell_type": "code",
   "execution_count": 2,
   "id": "0913b243",
   "metadata": {},
   "outputs": [],
   "source": [
    "import numpy as np"
   ]
  },
  {
   "cell_type": "markdown",
   "id": "42dd36e2",
   "metadata": {},
   "source": [
    "# Analytical Solution for the Kinetic part"
   ]
  },
  {
   "cell_type": "markdown",
   "id": "54709ecb",
   "metadata": {},
   "source": [
    "## Single particle"
   ]
  },
  {
   "cell_type": "code",
   "execution_count": 101,
   "id": "7227a651",
   "metadata": {},
   "outputs": [],
   "source": [
    "#spinnless single particle kinetic term\n",
    "N = 4\n",
    "n_avg = 0.5\n",
    "t = -1.0\n",
    "K = [[0 for i in range(0,N)] for j in range(0,N)]\n",
    "for i in range(0,N):\n",
    "    K[i][np.mod(i+1,N)] = t\n",
    "    K[np.mod(i+1,N)][i] = t"
   ]
  },
  {
   "cell_type": "code",
   "execution_count": 102,
   "id": "adff401f",
   "metadata": {},
   "outputs": [
    {
     "data": {
      "text/plain": [
       "array([-2.00000000e+00,  0.00000000e+00,  6.59737022e-17,  2.00000000e+00])"
      ]
     },
     "execution_count": 102,
     "metadata": {},
     "output_type": "execute_result"
    }
   ],
   "source": [
    "e,y = np.linalg.eig(K)\n",
    "psi = np.transpose(y)\n",
    "order = np.argsort(e)\n",
    "np.sort(e)"
   ]
  },
  {
   "cell_type": "code",
   "execution_count": 103,
   "id": "432eaad5",
   "metadata": {},
   "outputs": [
    {
     "data": {
      "text/plain": [
       "8.881784197001252e-16"
      ]
     },
     "execution_count": 103,
     "metadata": {},
     "output_type": "execute_result"
    }
   ],
   "source": [
    "np.amax(np.abs(np.dot(K,psi[order[0]] ) - e[order[0]]*psi[order[0]]))"
   ]
  },
  {
   "cell_type": "code",
   "execution_count": 104,
   "id": "6769cd19",
   "metadata": {},
   "outputs": [
    {
     "name": "stdout",
     "output_type": "stream",
     "text": [
      "-2.0\n",
      "-1.2246467991473532e-16\n",
      "2.0\n",
      "3.6739403974420594e-16\n"
     ]
    }
   ],
   "source": [
    "#spinless single particle kinetic energy levels\n",
    "def E(n):\n",
    "    return 2*t*np.cos(2*n*np.pi/N)\n",
    "\n",
    "for n in range(N):\n",
    "    print(E(n))"
   ]
  },
  {
   "cell_type": "code",
   "execution_count": 105,
   "id": "1272fb69",
   "metadata": {},
   "outputs": [
    {
     "data": {
      "text/plain": [
       "7.347880794884119e-16"
      ]
     },
     "execution_count": 105,
     "metadata": {},
     "output_type": "execute_result"
    }
   ],
   "source": [
    "def psi_t(n):\n",
    "    return np.array([np.exp(1j*2*n*i*np.pi/N) for i in range(N)])\n",
    "\n",
    "n=3\n",
    "np.amax(np.abs(np.dot(K,psi_t(n)) - E(n)*psi_t(n)))"
   ]
  },
  {
   "cell_type": "markdown",
   "id": "9877e4a8",
   "metadata": {},
   "source": [
    "## Full Many Body Kinetic Term"
   ]
  },
  {
   "cell_type": "code",
   "execution_count": 106,
   "id": "1a105343",
   "metadata": {},
   "outputs": [],
   "source": [
    "import qiskit.quantum_info as qi\n",
    "\n",
    "def X_label(i,Q):\n",
    "    out = ''\n",
    "    for j in range(0,Q):\n",
    "        if i < Q-1:\n",
    "            if i == j or i + 1 == j:\n",
    "                out = out + 'X'\n",
    "            else:\n",
    "                out = out + 'I'\n",
    "        else:\n",
    "            if j == 0 or j == Q-1:\n",
    "                out = out + 'X'\n",
    "            else:\n",
    "                out = out + 'Z'\n",
    "    return out[::-1]\n",
    "\n",
    "def Y_label(i,Q):\n",
    "    out = ''\n",
    "    for j in range(0,Q):\n",
    "        if i < Q-1:\n",
    "            if i == j or i + 1 == j:\n",
    "                out = out + 'Y'\n",
    "            else:\n",
    "                out = out + 'I'\n",
    "        else:\n",
    "            if j == 0 or j == Q-1:\n",
    "                out = out + 'Y'\n",
    "            else:\n",
    "                out = out + 'Z'\n",
    "    return out[::-1]\n",
    "\n",
    "def I_label(Q):\n",
    "    out = ''\n",
    "    for j in range(Q):\n",
    "        out = out + 'I'\n",
    "    return out\n",
    "\n",
    "\n",
    "K_mb = 0*qi.Operator.from_label(I_label(N))\n",
    "for i in range(0,N):\n",
    "    K_mb = K_mb + 1/2*t*qi.Operator.from_label( X_label(i,N) )\n",
    "    K_mb = K_mb + 1/2*t*qi.Operator.from_label( Y_label(i,N) )\n",
    "\n",
    "    \n",
    "    "
   ]
  },
  {
   "cell_type": "code",
   "execution_count": 107,
   "id": "13f2acee",
   "metadata": {},
   "outputs": [],
   "source": [
    "e_mb,y_mb = np.linalg.eig(K_mb)\n",
    "psi_mb = np.transpose(y_mb)\n",
    "order_mb = np.argsort(e_mb)\n",
    "#np.sort(e_mb)"
   ]
  },
  {
   "cell_type": "code",
   "execution_count": 108,
   "id": "76c1318b",
   "metadata": {},
   "outputs": [],
   "source": [
    "# A function to print out the binary number\n",
    "def bi(num,S):\n",
    "    bi = bin(num)\n",
    "    out = []\n",
    "    Sdiff = S - len(bi) + 2\n",
    "    for i in range(0,Sdiff):\n",
    "        out.append(0)\n",
    "    for i in range(2,len(bi)):\n",
    "        out.append(int(bi[i]))\n",
    "    return out\n",
    "\n",
    "#Build the single particle wavefunction in the many body basis\n",
    "def psi_mb1(n):\n",
    "    i = 0\n",
    "    out = [0 for m in range(2**N)]\n",
    "    for m in range(2**N):\n",
    "        if sum(bi(m,N)) == 1:\n",
    "            out[m] = psi_t(n)[i]\n",
    "            i += 1\n",
    "    return np.array(out)"
   ]
  },
  {
   "cell_type": "code",
   "execution_count": 109,
   "id": "7a51a86a",
   "metadata": {},
   "outputs": [
    {
     "data": {
      "text/plain": [
       "4.898587196589413e-16"
      ]
     },
     "execution_count": 109,
     "metadata": {},
     "output_type": "execute_result"
    }
   ],
   "source": [
    "#Check the single particle state\n",
    "n=2\n",
    "np.amax(np.abs(np.dot(K_mb,psi_mb1(n)) - E(n)*psi_mb1(n)))"
   ]
  },
  {
   "cell_type": "markdown",
   "id": "890c8466",
   "metadata": {},
   "source": [
    "### Two particle"
   ]
  },
  {
   "cell_type": "code",
   "execution_count": 110,
   "id": "267afb9a",
   "metadata": {},
   "outputs": [],
   "source": [
    "#two particle energies\n",
    "e2 = []\n",
    "for m in range(2**N):\n",
    "    state = bi(m,N)\n",
    "    if sum(state) == 2:\n",
    "        #print(state,e)\n",
    "        em = np.dot(state,e)\n",
    "        e2.append(em)\n",
    "        \n",
    "def E2(n,nn):\n",
    "    return E(n)+E(nn)\n",
    "\n",
    "#Slatter determinent\n",
    "def slatter2(n,nn,x,xx):\n",
    "    s = [[psi_t(n)[x], psi_t(n)[xx]],[psi_t(nn)[x], psi_t(nn)[xx]]]\n",
    "    return np.linalg.det(s)\n",
    "\n",
    "#two particle wavefunctions\n",
    "def psi_mb2(n,nn):\n",
    "    out = [0 for m in range(2**N)]\n",
    "    for m in range(2**N):\n",
    "        if sum(bi(m,N)) == 2:\n",
    "            xs = np.argwhere(np.array(bi(m,N)) == 1 )\n",
    "            x1 = xs[0,0]\n",
    "            x2 = xs[1,0]\n",
    "            out[m] = slatter2(n,nn,x1,x2)\n",
    "    norm = np.sqrt(np.dot(np.conjugate(out),out))\n",
    "    return np.array(out)/norm"
   ]
  },
  {
   "cell_type": "code",
   "execution_count": 111,
   "id": "7ea53476",
   "metadata": {},
   "outputs": [
    {
     "data": {
      "text/plain": [
       "2.4492935982947064e-16"
      ]
     },
     "execution_count": 111,
     "metadata": {},
     "output_type": "execute_result"
    }
   ],
   "source": [
    "n1 = 1\n",
    "n2 = 3\n",
    "np.amax(np.abs(np.dot(K_mb,psi_mb2(n1,n2)) - E2(n1,n2)*psi_mb2(n1,n2)))"
   ]
  },
  {
   "cell_type": "markdown",
   "id": "aaa3d2a9",
   "metadata": {},
   "source": [
    "### Three particle"
   ]
  },
  {
   "cell_type": "code",
   "execution_count": 112,
   "id": "caf8103e",
   "metadata": {},
   "outputs": [],
   "source": [
    "#Energies\n",
    "def E3(n1,n2,n3):\n",
    "    return E(n1)+E(n2)+E(n3)\n",
    "\n",
    "#Slatter determinent\n",
    "def slatter(nl,xl):\n",
    "    s = [[psi_t(n)[x] for x in xl] for n in nl]\n",
    "    return np.linalg.det(s)\n",
    "\n",
    "#two particle wavefunctions\n",
    "def psi_mb3(n1,n2,n3):\n",
    "    out = [0 for m in range(2**N)]\n",
    "    for m in range(2**N):\n",
    "        if sum(bi(m,N)) == 3:\n",
    "            xs = np.argwhere(np.array(bi(m,N)) == 1 )\n",
    "            x1 = xs[0,0]\n",
    "            x2 = xs[1,0]\n",
    "            x3 = xs[2,0]\n",
    "            out[m] = slatter([n1,n2,n3],[x1,x2,x3])\n",
    "    norm = np.sqrt(np.dot(np.conjugate(out),out))\n",
    "    return np.array(out)/norm"
   ]
  },
  {
   "cell_type": "code",
   "execution_count": 113,
   "id": "60a9b864",
   "metadata": {},
   "outputs": [
    {
     "data": {
      "text/plain": [
       "2.449293598294707e-16"
      ]
     },
     "execution_count": 113,
     "metadata": {},
     "output_type": "execute_result"
    }
   ],
   "source": [
    "n1 = 0\n",
    "n2 = 2\n",
    "n3 = 3\n",
    "np.amax(np.abs(np.dot(K_mb,psi_mb3(n1,n2,n3)) - E3(n1,n2,n3)*psi_mb3(n1,n2,n3)))"
   ]
  },
  {
   "cell_type": "markdown",
   "id": "6c1e9ff0",
   "metadata": {},
   "source": [
    "### General number of particles"
   ]
  },
  {
   "cell_type": "code",
   "execution_count": 114,
   "id": "e9b449a0",
   "metadata": {},
   "outputs": [],
   "source": [
    "\n",
    "\n",
    "#Energies\n",
    "def En(nl):\n",
    "    return sum([E(n) for n in nl])\n",
    "\n",
    "#Slatter determinent\n",
    "def slatter(nl,xl):\n",
    "    s = [[psi_t(n)[x] for x in xl] for n in nl]\n",
    "    return np.linalg.det(s)\n",
    "\n",
    "#two particle wavefunctions\n",
    "def psi_mbn(nl):\n",
    "    out = [0 for m in range(2**N)]\n",
    "    for m in range(2**N):\n",
    "        if sum(bi(m,N)) == len(nl):\n",
    "            xs = np.argwhere(np.array(bi(m,N)) == 1 )\n",
    "            xl = [x[0] for x in xs]\n",
    "            out[m] = slatter(nl,xl)\n",
    "    norm = np.sqrt(np.dot(np.conjugate(out),out))\n",
    "    return np.array(out)/norm"
   ]
  },
  {
   "cell_type": "code",
   "execution_count": 115,
   "id": "5ec06daa",
   "metadata": {},
   "outputs": [
    {
     "data": {
      "text/plain": [
       "3.9999999999999996"
      ]
     },
     "execution_count": 115,
     "metadata": {},
     "output_type": "execute_result"
    }
   ],
   "source": [
    "nl = [0,1,3,4]\n",
    "np.amax(np.abs(np.dot(K_mb,psi_mbn(nl)) - En(nl)*psi_mbn(nl)))"
   ]
  },
  {
   "cell_type": "markdown",
   "id": "3e1c52b8",
   "metadata": {},
   "source": [
    "# U in the eigenbasis of K"
   ]
  },
  {
   "cell_type": "code",
   "execution_count": 116,
   "id": "aa1c2622",
   "metadata": {},
   "outputs": [],
   "source": [
    "def bkt(y1,o,y2):\n",
    "    return np.dot(np.conjugate(y1),np.dot(o,y2))"
   ]
  },
  {
   "cell_type": "code",
   "execution_count": 453,
   "id": "322b259d",
   "metadata": {},
   "outputs": [],
   "source": [
    "def Z_label(i,Q):\n",
    "    out = ''\n",
    "    for j in range(0,Q):\n",
    "        if i == j:\n",
    "            out = out + 'Z'\n",
    "        else:\n",
    "            out = out + 'I'\n",
    "    return out[::-1]\n"
   ]
  },
  {
   "cell_type": "markdown",
   "id": "4603ee70",
   "metadata": {},
   "source": [
    "## Two Particle\n",
    "\n",
    "Let us write down the basis for the two particle case"
   ]
  },
  {
   "cell_type": "code",
   "execution_count": 455,
   "id": "ea562041",
   "metadata": {},
   "outputs": [],
   "source": [
    "# The single spin basis in terms of the full single spin many body states\n",
    "y_basis = []\n",
    "for n in range(0,N):\n",
    "    for m in range(n+1,N):\n",
    "        y_basis.append(psi_mb2(n,m))\n",
    "\n",
    "#The single spin basis in terms of the reduced single spin many body states\n",
    "y2 = []\n",
    "for n in range(0,len(y_basis)):\n",
    "    ym = []\n",
    "    for m in range(0,2**N):\n",
    "        if sum(bi(m,N)) == 2:        \n",
    "            ym.append(y_basis[n][m])\n",
    "    y2.append(ym)\n",
    "\n",
    "#The reduced two spin basis\n",
    "y2_x = np.kron(y2,y2)\n"
   ]
  },
  {
   "cell_type": "markdown",
   "id": "48fc40d2",
   "metadata": {},
   "source": [
    "### Real space basis\n",
    "\n",
    "Let us start with the real space representation of $\\hat{U}$ and then transform it using the eigenvectors found for $\\hat{K}$.  I will also write the full Hamiltonain in real space so I can compare the eigenvalues with the full Hamiltonain in the eigenbisis of $\\kat{K}$"
   ]
  },
  {
   "cell_type": "code",
   "execution_count": 456,
   "id": "961b3b75",
   "metadata": {},
   "outputs": [],
   "source": [
    "#Full U in real space\n",
    "U_mb_x_full = 0*qi.Operator.from_label(I_label(N)+I_label(N))\n",
    "for i in range(0,N):\n",
    "    U_mb_x_full = U_mb_x_full + 1/4*qi.Operator.from_label(I_label(N)+I_label(N))\n",
    "    U_mb_x_full = U_mb_x_full - 1/4*qi.Operator.from_label( I_label(N) + Z_label(i,N) )\n",
    "    U_mb_x_full = U_mb_x_full - 1/4*qi.Operator.from_label( Z_label(i,N) + I_label(N) )\n",
    "    U_mb_x_full = U_mb_x_full + 1/4*qi.Operator.from_label( Z_label(i,N) + Z_label(i,N) )\n",
    "    \n",
    "#two particle wavefunctions in real space\n",
    "states = []\n",
    "for m in range(0,2**N):\n",
    "    if sum(bi(m,N)) == 2:\n",
    "        states.append(m)\n",
    "\n",
    "#two particle spinful wavefunction in real space\n",
    "states_full = []\n",
    "for i in range(0,len(states)):\n",
    "    for j in range(0,len(states)):\n",
    "        states_full.append(states[i]*2**N+states[j])\n",
    "\n",
    "        \n",
    "#two particle spinful wavefunction in real space as vectors\n",
    "def psi_real_full(n):\n",
    "    y = [0 for i in range(4**N)]\n",
    "    y[states_full[n]] = 1\n",
    "    return y\n",
    "\n",
    "# Reduced U in real space\n",
    "U_mb_x = []\n",
    "for n in range(len(states_full)):\n",
    "    U_mb_x_row = []\n",
    "    for nn in range(len(states_full)):\n",
    "        y1 = psi_real_full(n)\n",
    "        y2 = psi_real_full(nn)\n",
    "        Unm = bkt(y1,U_mb_x_full,y2)\n",
    "        U_mb_x_row.append(Unm)\n",
    "    U_mb_x.append(U_mb_x_row)\n",
    "        \n",
    "\n",
    "#Full kinetic part in real space\n",
    "I = qi.Operator.from_label(I_label(N))\n",
    "K_mb_x_full = np.kron(K_mb.data,I) + np.kron(I,K_mb.data)\n",
    "\n",
    "#Reduced kinetic part in real space\n",
    "K_mb_x = []\n",
    "for n in range(len(states_full)):\n",
    "    K_mb_x_row = []\n",
    "    for nn in range(len(states_full)):\n",
    "        y1 = psi_real_full(n)\n",
    "        y2 = psi_real_full(nn)\n",
    "        Knm = bkt(y1,K_mb_x_full,y2)\n",
    "        K_mb_x_row.append(Knm)\n",
    "    K_mb_x.append(K_mb_x_row)"
   ]
  },
  {
   "cell_type": "markdown",
   "id": "92dc21c9",
   "metadata": {},
   "source": [
    "### Return to eigenbasis\n",
    "\n",
    "Now we can transform the real space $\\hat{U}$ into the eigenbasis."
   ]
  },
  {
   "cell_type": "code",
   "execution_count": 459,
   "id": "70dd263f",
   "metadata": {},
   "outputs": [],
   "source": [
    "# Reduced spinful U in the eigenbasis\n",
    "U_mb_n = []\n",
    "for i in range(0,36):\n",
    "    U_mb_n_row = []\n",
    "    for j in range(0,36):\n",
    "        U_mb_n_row.append(bkt(y2_x[i],U_mb_x,y2_x[j]))\n",
    "    U_mb_n.append(U_mb_n_row)"
   ]
  },
  {
   "cell_type": "code",
   "execution_count": 460,
   "id": "8d7f852f",
   "metadata": {},
   "outputs": [
    {
     "data": {
      "text/plain": [
       "array([-3.34084762e+00+0.j, -3.29295138e+00+0.j, -2.86387634e+00+0.j,\n",
       "       -2.78526086e+00+0.j, -1.56155281e+00+0.j, -1.56155281e+00+0.j,\n",
       "       -1.00000000e+00+0.j, -1.00000000e+00+0.j, -1.00000000e+00+0.j,\n",
       "       -1.00000000e+00+0.j, -5.61552813e-01+0.j, -5.61552813e-01+0.j,\n",
       "       -4.20951592e-16+0.j,  5.07690516e-01+0.j,  5.23028722e-01+0.j,\n",
       "        1.00000000e+00+0.j,  1.00000000e+00+0.j,  1.00000000e+00+0.j,\n",
       "        1.00000000e+00+0.j,  1.00000000e+00+0.j,  1.00000000e+00+0.j,\n",
       "        1.47697128e+00+0.j,  1.49230948e+00+0.j,  2.00000000e+00+0.j,\n",
       "        2.56155281e+00+0.j,  2.56155281e+00+0.j,  3.00000000e+00+0.j,\n",
       "        3.00000000e+00+0.j,  3.00000000e+00+0.j,  3.00000000e+00+0.j,\n",
       "        3.56155281e+00+0.j,  3.56155281e+00+0.j,  4.78526086e+00+0.j,\n",
       "        4.86387634e+00+0.j,  5.29295138e+00+0.j,  5.34084762e+00+0.j])"
      ]
     },
     "execution_count": 460,
     "metadata": {},
     "output_type": "execute_result"
    }
   ],
   "source": [
    "#The spinful energy levels\n",
    "E_basis = []\n",
    "for n in range(0,N):\n",
    "    for m in range(n+1,N):\n",
    "        E_basis.append(E2(n,m))\n",
    "        \n",
    "#Reduced spinful K in eigenbasis\n",
    "K_mb_n = []\n",
    "for e1 in E_basis:\n",
    "    for e2 in E_basis:\n",
    "        K_mb_n.append(e1+e2)\n",
    "K_mb_n = np.diag(K_mb_n)\n",
    "\n",
    "#Reduced spinful Hamiltonian in eigenbasis\n",
    "H_mb_n = U_mb_comp + K_mb_n\n",
    "\n",
    "#pd.DataFrame(H_mb_n)\n",
    "e_n,y_n = np.linalg.eig(H_mb_n)\n",
    "np.sort(e_n)"
   ]
  },
  {
   "cell_type": "code",
   "execution_count": 461,
   "id": "c9cffb95",
   "metadata": {},
   "outputs": [
    {
     "data": {
      "text/plain": [
       "array([-3.34084762e+00+0.j, -3.29295138e+00+0.j, -2.86387634e+00+0.j,\n",
       "       -2.78526086e+00+0.j, -1.56155281e+00+0.j, -1.56155281e+00+0.j,\n",
       "       -1.00000000e+00+0.j, -1.00000000e+00+0.j, -1.00000000e+00+0.j,\n",
       "       -1.00000000e+00+0.j, -5.61552813e-01+0.j, -5.61552813e-01+0.j,\n",
       "        1.14454632e-16+0.j,  5.07690516e-01+0.j,  5.23028722e-01+0.j,\n",
       "        1.00000000e+00+0.j,  1.00000000e+00+0.j,  1.00000000e+00+0.j,\n",
       "        1.00000000e+00+0.j,  1.00000000e+00+0.j,  1.00000000e+00+0.j,\n",
       "        1.47697128e+00+0.j,  1.49230948e+00+0.j,  2.00000000e+00+0.j,\n",
       "        2.56155281e+00+0.j,  2.56155281e+00+0.j,  3.00000000e+00+0.j,\n",
       "        3.00000000e+00+0.j,  3.00000000e+00+0.j,  3.00000000e+00+0.j,\n",
       "        3.56155281e+00+0.j,  3.56155281e+00+0.j,  4.78526086e+00+0.j,\n",
       "        4.86387634e+00+0.j,  5.29295138e+00+0.j,  5.34084762e+00+0.j])"
      ]
     },
     "execution_count": 461,
     "metadata": {},
     "output_type": "execute_result"
    }
   ],
   "source": [
    "#Reduced spinful Hamiltonian in real space\n",
    "H_mb_x = np.array(K_mb_x) + np.array(U_mb_x)\n",
    "e_x,y_x = np.linalg.eig(H_mb_x)\n",
    "np.sort(e_x)"
   ]
  },
  {
   "cell_type": "code",
   "execution_count": 463,
   "id": "de5bd386",
   "metadata": {},
   "outputs": [
    {
     "data": {
      "text/plain": [
       "1.4210854715202004e-14"
      ]
     },
     "execution_count": 463,
     "metadata": {},
     "output_type": "execute_result"
    }
   ],
   "source": [
    "np.amax(np.abs(np.sort(e_x)-np.sort(e_n)))"
   ]
  },
  {
   "cell_type": "markdown",
   "id": "f8ce02b4",
   "metadata": {},
   "source": [
    "## Decompose U\n",
    "\n",
    "Now we can decompose U into blocks, pad the blocks, and write those blocks in terms of Pauli operators."
   ]
  },
  {
   "cell_type": "code",
   "execution_count": 492,
   "id": "54a182e0",
   "metadata": {},
   "outputs": [],
   "source": [
    "def complete(b11):\n",
    "    size = 2**np.ceil(np.log2(len(b11)))\n",
    "    for v in b11:\n",
    "        while len(v) < size:\n",
    "            v.append(0.0)\n",
    "    while len(b11) < size:\n",
    "        i = len(b11)\n",
    "        vnew = [0.0 for i in range(0,8)]\n",
    "        vnew[i] = 10\n",
    "        b11.append(vnew)\n",
    "    return b11"
   ]
  },
  {
   "cell_type": "code",
   "execution_count": 495,
   "id": "328a9d33",
   "metadata": {},
   "outputs": [],
   "source": [
    "import math\n",
    "from qiskit.opflow import (I, X, Y, Z)\n",
    "from qiskit.opflow.primitive_ops import MatrixOp\n",
    "\n",
    "N = 4\n",
    "S = 2\n",
    "bL = math.comb(4,2)\n",
    "\n",
    "blocks = {}\n",
    "for bi in range(bL):\n",
    "    for bj in range(bi,bL):\n",
    "        bij = [[U_mb[i + bL*bi][j + bL*bj] for j in range(0,bL)] for i in range(0,bL)]\n",
    "        if np.amax(np.abs(bij)) > 10**(-5):\n",
    "            bij = complete(bij)\n",
    "            bij_pauli = MatrixOp(bij).to_pauli_op()\n",
    "            blocks[str(bi) + ',' + str(bj)] = bij_pauli"
   ]
  },
  {
   "cell_type": "code",
   "execution_count": 496,
   "id": "3a26dedd",
   "metadata": {},
   "outputs": [
    {
     "data": {
      "text/plain": [
       "dict_keys(['0,0', '0,1', '0,2', '0,3', '0,4', '0,5', '1,1', '1,2', '1,3', '1,4', '1,5', '2,2', '2,3', '2,4', '2,5', '3,3', '3,4', '3,5', '4,4', '4,5', '5,5'])"
      ]
     },
     "execution_count": 496,
     "metadata": {},
     "output_type": "execute_result"
    }
   ],
   "source": [
    "blocks.keys()"
   ]
  },
  {
   "cell_type": "markdown",
   "id": "551e8448",
   "metadata": {},
   "source": [
    "It looks like every block is used which means we do not really gain anything from using blocks."
   ]
  },
  {
   "cell_type": "code",
   "execution_count": 504,
   "id": "52eafc88",
   "metadata": {},
   "outputs": [
    {
     "data": {
      "text/plain": [
       "'/Users/stenger/Documents/Research/Hubbard_symmetries'"
      ]
     },
     "execution_count": 504,
     "metadata": {},
     "output_type": "execute_result"
    }
   ],
   "source": [
    "pwd"
   ]
  },
  {
   "cell_type": "code",
   "execution_count": null,
   "id": "7b32a128",
   "metadata": {},
   "outputs": [],
   "source": []
  }
 ],
 "metadata": {
  "kernelspec": {
   "display_name": "Python 3",
   "language": "python",
   "name": "python3"
  },
  "language_info": {
   "codemirror_mode": {
    "name": "ipython",
    "version": 3
   },
   "file_extension": ".py",
   "mimetype": "text/x-python",
   "name": "python",
   "nbconvert_exporter": "python",
   "pygments_lexer": "ipython3",
   "version": "3.9.5"
  }
 },
 "nbformat": 4,
 "nbformat_minor": 5
}
