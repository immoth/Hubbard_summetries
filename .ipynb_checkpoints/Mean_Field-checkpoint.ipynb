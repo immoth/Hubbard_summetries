{
 "cells": [
  {
   "cell_type": "code",
   "execution_count": 1,
   "id": "12bc80c1",
   "metadata": {},
   "outputs": [],
   "source": [
    "import numpy as np"
   ]
  },
  {
   "cell_type": "code",
   "execution_count": 86,
   "id": "502a36cd",
   "metadata": {},
   "outputs": [],
   "source": [
    "N = 4\n",
    "n_avg = 0.5\n",
    "U = 0.0\n",
    "mu = U*(n_avg - n_avg**2)\n",
    "t = -1.0\n",
    "H = [[0 for i in range(0,2*N)] for j in range(0,2*N)]\n",
    "for i in range(0,N):\n",
    "    H[i][i] = mu\n",
    "    H[i+N][i+N] = mu\n",
    "    H[i][np.mod(i+1,N)] = t\n",
    "    H[np.mod(i+1,N)][i] = t\n",
    "    H[i+N][np.mod(i+1,N)+N] = t\n",
    "    H[np.mod(i+1,N)+N][i+N] = t"
   ]
  },
  {
   "cell_type": "code",
   "execution_count": 87,
   "id": "044dedfa",
   "metadata": {},
   "outputs": [
    {
     "data": {
      "text/plain": [
       "array([-2.00000000e+00, -2.00000000e+00,  0.00000000e+00,  0.00000000e+00,\n",
       "        6.59737022e-17,  6.59737022e-17,  2.00000000e+00,  2.00000000e+00])"
      ]
     },
     "execution_count": 87,
     "metadata": {},
     "output_type": "execute_result"
    }
   ],
   "source": [
    "e,y = np.linalg.eig(H)\n",
    "np.sort(e)"
   ]
  },
  {
   "cell_type": "code",
   "execution_count": 76,
   "id": "e662db42",
   "metadata": {},
   "outputs": [
    {
     "name": "stdout",
     "output_type": "stream",
     "text": [
      "-2.0\n",
      "-1.2246467991473532e-16\n",
      "2.0\n",
      "3.6739403974420594e-16\n"
     ]
    }
   ],
   "source": [
    "def E(n):\n",
    "    return mu + 2*t*np.cos(2*n*np.pi/N)\n",
    "\n",
    "for n in range(N):\n",
    "    print(E(n))"
   ]
  },
  {
   "cell_type": "code",
   "execution_count": 81,
   "id": "f716d710",
   "metadata": {},
   "outputs": [
    {
     "data": {
      "text/plain": [
       "[<matplotlib.lines.Line2D at 0x7fb821a4b2e0>]"
      ]
     },
     "execution_count": 81,
     "metadata": {},
     "output_type": "execute_result"
    },
    {
     "data": {
      "image/png": "[encoded data removed]",
      "text/plain": [
       "<Figure size 432x288 with 1 Axes>"
      ]
     },
     "metadata": {
      "needs_background": "light"
     },
     "output_type": "display_data"
    }
   ],
   "source": [
    "u = [i for i in range(0,10)]\n",
    "eu = [u[i]*(n_avg - n_avg**2)+ 2*t*np.cos(2*np.pi/N) for i in range(0,10)]\n",
    "\n",
    "import matplotlib.pyplot as plt\n",
    "\n",
    "plt.plot(u,eu)"
   ]
  },
  {
   "cell_type": "code",
   "execution_count": 89,
   "id": "d05d68f8",
   "metadata": {},
   "outputs": [],
   "source": [
    "import numpy as np\n",
    "\n",
    "u=0\n",
    "t=-1\n",
    "\n",
    "\n",
    "H = np.load('/Users/stenger/Documents/Research/Hubbard_symmetries/VQE/H_mu_'+str(u)+\"_t_\"+str(t)+'.npy')\n",
    "e,y = np.linalg.eig(H)"
   ]
  },
  {
   "cell_type": "code",
   "execution_count": 90,
   "id": "04d3fdc3",
   "metadata": {},
   "outputs": [
    {
     "data": {
      "text/plain": [
       "array([-4.00000000e+00+0.00000000e+00j, -4.00000000e+00+0.00000000e+00j,\n",
       "       -4.00000000e+00+0.00000000e+00j, -4.00000000e+00+0.00000000e+00j,\n",
       "       -2.00000000e+00+0.00000000e+00j, -2.00000000e+00+0.00000000e+00j,\n",
       "       -2.00000000e+00+0.00000000e+00j, -2.00000000e+00+0.00000000e+00j,\n",
       "       -2.00000000e+00+0.00000000e+00j, -2.00000000e+00+0.00000000e+00j,\n",
       "       -2.00000000e+00+0.00000000e+00j, -2.00000000e+00+0.00000000e+00j,\n",
       "       -1.79535360e-16+0.00000000e+00j, -1.70216296e-16+0.00000000e+00j,\n",
       "       -1.61812771e-16+0.00000000e+00j, -3.55773415e-17+0.00000000e+00j,\n",
       "       -2.18015587e-17-1.29000861e-16j, -2.18015587e-17+1.29000861e-16j,\n",
       "        3.57259426e-17-2.04654417e-16j,  3.57259426e-17+2.04654417e-16j,\n",
       "        1.34561858e-16+0.00000000e+00j,  3.17067822e-16+0.00000000e+00j,\n",
       "        3.40097149e-16+0.00000000e+00j,  6.82375074e-16+0.00000000e+00j,\n",
       "        2.00000000e+00+0.00000000e+00j,  2.00000000e+00+0.00000000e+00j,\n",
       "        2.00000000e+00+0.00000000e+00j,  2.00000000e+00+0.00000000e+00j,\n",
       "        2.00000000e+00+0.00000000e+00j,  2.00000000e+00+0.00000000e+00j,\n",
       "        2.00000000e+00+0.00000000e+00j,  2.00000000e+00+0.00000000e+00j,\n",
       "        4.00000000e+00+0.00000000e+00j,  4.00000000e+00+0.00000000e+00j,\n",
       "        4.00000000e+00+0.00000000e+00j,  4.00000000e+00+0.00000000e+00j])"
      ]
     },
     "execution_count": 90,
     "metadata": {},
     "output_type": "execute_result"
    }
   ],
   "source": [
    "np.sort(e)"
   ]
  },
  {
   "cell_type": "code",
   "execution_count": null,
   "id": "e0c7dc71",
   "metadata": {},
   "outputs": [],
   "source": []
  }
 ],
 "metadata": {
  "kernelspec": {
   "display_name": "Python 3",
   "language": "python",
   "name": "python3"
  },
  "language_info": {
   "codemirror_mode": {
    "name": "ipython",
    "version": 3
   },
   "file_extension": ".py",
   "mimetype": "text/x-python",
   "name": "python",
   "nbconvert_exporter": "python",
   "pygments_lexer": "ipython3",
   "version": "3.9.5"
  }
 },
 "nbformat": 4,
 "nbformat_minor": 5
}
