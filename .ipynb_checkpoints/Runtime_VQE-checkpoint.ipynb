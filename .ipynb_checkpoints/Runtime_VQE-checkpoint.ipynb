{
 "cells": [
  {
   "cell_type": "code",
   "execution_count": 2,
   "id": "8eb7a939",
   "metadata": {},
   "outputs": [],
   "source": [
    "from qiskit import IBMQ\n",
    "\n",
    "IBMQ.load_account()\n",
    "#provider = IBMQ.get_provider(hub='ibm-q-university', group='uni-pittsburgh', project='main')\n",
    "provider = IBMQ.get_provider(hub='ibm-q-afrl', group='air-force-lab', project='quantum-sim')"
   ]
  },
  {
   "cell_type": "code",
   "execution_count": 3,
   "id": "e5f23bff",
   "metadata": {},
   "outputs": [
    {
     "data": {
      "text/plain": [
       "True"
      ]
     },
     "execution_count": 3,
     "metadata": {},
     "output_type": "execute_result"
    }
   ],
   "source": [
    "can_use_runtime = provider.has_service('runtime')\n",
    "\n",
    "#provider.runtime.pprint_programs()\n",
    "\n",
    "can_use_runtime"
   ]
  },
  {
   "cell_type": "markdown",
   "id": "26cacca4",
   "metadata": {},
   "source": [
    "# Define Hamiltonain\n",
    "\n",
    "using opflow"
   ]
  },
  {
   "cell_type": "code",
   "execution_count": 4,
   "id": "552762d9",
   "metadata": {},
   "outputs": [
    {
     "data": {
      "text/plain": [
       "PauliOp(Pauli('ZZII'), coeff=1.0)"
      ]
     },
     "execution_count": 4,
     "metadata": {},
     "output_type": "execute_result"
    }
   ],
   "source": [
    "from qiskit.opflow import Z, I\n",
    "\n",
    "num_qubits = 4\n",
    "hamiltonian = (Z ^ Z) ^ (I ^ (num_qubits - 2))\n",
    "\n",
    "hamiltonian"
   ]
  },
  {
   "cell_type": "code",
   "execution_count": 5,
   "id": "99191c92",
   "metadata": {},
   "outputs": [
    {
     "data": {
      "text/plain": [
       "-1.0"
      ]
     },
     "execution_count": 5,
     "metadata": {},
     "output_type": "execute_result"
    }
   ],
   "source": [
    "import numpy as np\n",
    "\n",
    "h_matrix = hamiltonian.to_matrix()\n",
    "\n",
    "e,y = np.linalg.eig(h_matrix)\n",
    "\n",
    "target_energy = np.real(np.sort(e)[0])\n",
    "\n",
    "target_energy"
   ]
  },
  {
   "cell_type": "markdown",
   "id": "c205059c",
   "metadata": {},
   "source": [
    "# Choose an Ansatz"
   ]
  },
  {
   "cell_type": "code",
   "execution_count": 6,
   "id": "88c99843",
   "metadata": {},
   "outputs": [
    {
     "data": {
      "image/png": "[encoded data removed]",
      "text/plain": [
       "<Figure size 628.397x264.88 with 1 Axes>"
      ]
     },
     "execution_count": 6,
     "metadata": {},
     "output_type": "execute_result"
    }
   ],
   "source": [
    "from qiskit.circuit.library import EfficientSU2\n",
    "\n",
    "# the rotation gates are chosen randomly, so we set a seed for reproducibility\n",
    "ansatz = EfficientSU2(num_qubits, reps=1, entanglement='linear', insert_barriers=True)\n",
    "ansatz.draw('mpl', style='iqx')"
   ]
  },
  {
   "cell_type": "markdown",
   "id": "984c69e2",
   "metadata": {},
   "source": [
    "# Define Optimizer and Initalize Parameters"
   ]
  },
  {
   "cell_type": "code",
   "execution_count": 7,
   "id": "be87a71d",
   "metadata": {},
   "outputs": [],
   "source": [
    "from qiskit.algorithms.optimizers import SPSA\n",
    "\n",
    "optimizer = SPSA(maxiter=50)\n",
    "\n",
    "np.random.seed(10)  # seed for reproducibility\n",
    "initial_point = np.random.random(ansatz.num_parameters)"
   ]
  },
  {
   "cell_type": "markdown",
   "id": "2b6e00cc",
   "metadata": {},
   "source": [
    "# Define a Callback to Collect Intermediate Information"
   ]
  },
  {
   "cell_type": "code",
   "execution_count": 8,
   "id": "4f250dd6",
   "metadata": {},
   "outputs": [],
   "source": [
    "intermediate_info = {\n",
    "    'nfev': [],\n",
    "    'parameters': [],\n",
    "    'energy': [],\n",
    "    'stddev': []\n",
    "}\n",
    "\n",
    "def callback(nfev, parameters, energy, stddev):\n",
    "    intermediate_info['nfev'].append(nfev)\n",
    "    intermediate_info['parameters'].append(parameters)\n",
    "    intermediate_info['energy'].append(energy)\n",
    "    intermediate_info['stddev'].append(stddev)"
   ]
  },
  {
   "cell_type": "markdown",
   "id": "ac801b3b",
   "metadata": {},
   "source": [
    "# Local Simulation"
   ]
  },
  {
   "cell_type": "code",
   "execution_count": 9,
   "id": "464bd058",
   "metadata": {},
   "outputs": [],
   "source": [
    "from qiskit.providers.basicaer import QasmSimulatorPy  # local simulator\n",
    "from qiskit.algorithms import VQE\n",
    "\n",
    "local_vqe = VQE(ansatz=ansatz,\n",
    "                optimizer=optimizer,\n",
    "                initial_point=initial_point,\n",
    "                quantum_instance=QasmSimulatorPy(),\n",
    "                callback=callback)"
   ]
  },
  {
   "cell_type": "code",
   "execution_count": 10,
   "id": "5f701057",
   "metadata": {},
   "outputs": [
    {
     "name": "stderr",
     "output_type": "stream",
     "text": [
      "/opt/miniconda3/envs/qiskit_25/lib/python3.9/site-packages/qiskit/utils/run_circuits.py:620: UserWarning: Option max_credits is not used by this backend\n",
      "  return backend.run(circuits, **backend_options, **noise_config, **run_config)\n"
     ]
    }
   ],
   "source": [
    "#Run the local VQE simulator\n",
    "local_result = local_vqe.compute_minimum_eigenvalue(hamiltonian)"
   ]
  },
  {
   "cell_type": "code",
   "execution_count": 11,
   "id": "e2907364",
   "metadata": {},
   "outputs": [
    {
     "name": "stdout",
     "output_type": "stream",
     "text": [
      "Eigenvalue: -0.998046875\n",
      "Target: -1.0\n"
     ]
    }
   ],
   "source": [
    "print('Eigenvalue:', local_result.eigenvalue)\n",
    "print('Target:', target_energy)"
   ]
  },
  {
   "cell_type": "code",
   "execution_count": 12,
   "id": "a7d6d280",
   "metadata": {},
   "outputs": [],
   "source": [
    "#print(local_result)\n",
    "\n",
    "#intermediate_info['energy']"
   ]
  },
  {
   "cell_type": "markdown",
   "id": "731b6dd0",
   "metadata": {},
   "source": [
    "# Runtime VQE\n"
   ]
  },
  {
   "cell_type": "code",
   "execution_count": 36,
   "id": "fb0255b4",
   "metadata": {},
   "outputs": [],
   "source": [
    "# get backend\n",
    "backend = provider.get_backend('ibmq_montreal')"
   ]
  },
  {
   "cell_type": "code",
   "execution_count": 37,
   "id": "4e83561e",
   "metadata": {},
   "outputs": [],
   "source": [
    "# Reset callback\n",
    "\n",
    "intermediate_info = {\n",
    "    'nfev': [],\n",
    "    'parameters': [],\n",
    "    'energy': [],\n",
    "    'stddev': []\n",
    "}\n",
    "\n",
    "def callback(nfev, parameters, energy, stddev):\n",
    "    intermediate_info['nfev'].append(nfev)\n",
    "    intermediate_info['parameters'].append(parameters)\n",
    "    intermediate_info['energy'].append(energy)\n",
    "    intermediate_info['stddev'].append(stddev)"
   ]
  },
  {
   "cell_type": "code",
   "execution_count": 38,
   "id": "bf950726",
   "metadata": {},
   "outputs": [],
   "source": [
    "# Use error mitigation \n",
    "measurement_error_mitigation = True"
   ]
  },
  {
   "cell_type": "code",
   "execution_count": 39,
   "id": "4d23e8b0",
   "metadata": {},
   "outputs": [],
   "source": [
    "#define VQE\n",
    "\n",
    "from qiskit_nature.runtime import VQEProgram\n",
    "\n",
    "# in this first release, the optimizer must be specified as dictionary\n",
    "optimizer = {'name': 'SPSA',\n",
    "             'maxiter': 50}\n",
    "\n",
    "runtime_vqe = VQEProgram(ansatz=ansatz,\n",
    "                         optimizer=optimizer,\n",
    "                         initial_point=initial_point,\n",
    "                         provider=provider,\n",
    "                         backend=backend,\n",
    "                         shots=1024,\n",
    "                         measurement_error_mitigation=measurement_error_mitigation,\n",
    "                         callback=callback)"
   ]
  },
  {
   "cell_type": "code",
   "execution_count": 40,
   "id": "f257c09e",
   "metadata": {},
   "outputs": [
    {
     "name": "stderr",
     "output_type": "stream",
     "text": [
      "runtime_job._start_websocket_client:WARNING:2021-07-08 11:58:33,347: An error occurred while streaming results from the server for job c3jhmv3ma37p8k0gngj0:\n",
      "Traceback (most recent call last):\n",
      "  File \"/opt/miniconda3/envs/qiskit_25/lib/python3.9/site-packages/qiskit/providers/ibmq/runtime/runtime_job.py\", line 289, in _start_websocket_client\n",
      "    self._ws_client.job_results()\n",
      "  File \"/opt/miniconda3/envs/qiskit_25/lib/python3.9/site-packages/qiskit/providers/ibmq/api/clients/runtime_ws.py\", line 74, in job_results\n",
      "    self.stream(url=url, retries=max_retries, backoff_factor=backoff_factor)\n",
      "  File \"/opt/miniconda3/envs/qiskit_25/lib/python3.9/site-packages/qiskit/providers/ibmq/api/clients/base.py\", line 211, in stream\n",
      "    raise WebsocketError(error_message)\n",
      "qiskit.providers.ibmq.api.exceptions.WebsocketError: 'Max retries exceeded: Failed to establish a websocket connection. Error: Traceback (most recent call last):\\n  File \"/opt/miniconda3/envs/qiskit_25/lib/python3.9/site-packages/websocket/_app.py\", line 369, in run_forever\\n    dispatcher.read(self.sock.sock, read, check)\\n  File \"/opt/miniconda3/envs/qiskit_25/lib/python3.9/site-packages/websocket/_app.py\", line 72, in read\\n    if not read_callback():\\n  File \"/opt/miniconda3/envs/qiskit_25/lib/python3.9/site-packages/websocket/_app.py\", line 335, in read\\n    op_code, frame = self.sock.recv_data_frame(True)\\n  File \"/opt/miniconda3/envs/qiskit_25/lib/python3.9/site-packages/websocket/_core.py\", line 395, in recv_data_frame\\n    frame = self.recv_frame()\\n  File \"/opt/miniconda3/envs/qiskit_25/lib/python3.9/site-packages/websocket/_core.py\", line 434, in recv_frame\\n    return self.frame_buffer.recv_frame()\\n  File \"/opt/miniconda3/envs/qiskit_25/lib/python3.9/site-packages/websocket/_abnf.py\", line 339, in recv_frame\\n    self.recv_header()\\n  File \"/opt/miniconda3/envs/qiskit_25/lib/python3.9/site-packages/websocket/_abnf.py\", line 295, in recv_header\\n    header = self.recv_strict(2)\\n  File \"/opt/miniconda3/envs/qiskit_25/lib/python3.9/site-packages/websocket/_abnf.py\", line 374, in recv_strict\\n    bytes_ = self.recv(min(16384, shortage))\\n  File \"/opt/miniconda3/envs/qiskit_25/lib/python3.9/site-packages/websocket/_core.py\", line 518, in _recv\\n    return recv(self.sock, bufsize)\\n  File \"/opt/miniconda3/envs/qiskit_25/lib/python3.9/site-packages/websocket/_socket.py\", line 127, in recv\\n    raise WebSocketConnectionClosedException(\\nwebsocket._exceptions.WebSocketConnectionClosedException: Connection to remote host was lost.\\n'\n",
      "\n"
     ]
    }
   ],
   "source": [
    "runtime_result = runtime_vqe.compute_minimum_eigenvalue(hamiltonian)"
   ]
  },
  {
   "cell_type": "code",
   "execution_count": 41,
   "id": "e9a490eb",
   "metadata": {},
   "outputs": [
    {
     "name": "stdout",
     "output_type": "stream",
     "text": [
      "Eigenvalue: -0.981664174714544\n",
      "Target: -1.0\n"
     ]
    }
   ],
   "source": [
    "print('Eigenvalue:', runtime_result.eigenvalue)\n",
    "print('Target:', target_energy)"
   ]
  },
  {
   "cell_type": "code",
   "execution_count": 42,
   "id": "9d9803c9",
   "metadata": {},
   "outputs": [
    {
     "name": "stdout",
     "output_type": "stream",
     "text": [
      "Mean error: nan\n"
     ]
    },
    {
     "name": "stderr",
     "output_type": "stream",
     "text": [
      "/opt/miniconda3/envs/qiskit_25/lib/python3.9/site-packages/numpy/core/fromnumeric.py:3419: RuntimeWarning: Mean of empty slice.\n",
      "  return _methods._mean(a, axis=axis, dtype=dtype,\n",
      "/opt/miniconda3/envs/qiskit_25/lib/python3.9/site-packages/numpy/core/_methods.py:188: RuntimeWarning: invalid value encountered in double_scalars\n",
      "  ret = ret.dtype.type(ret / rcount)\n"
     ]
    }
   ],
   "source": [
    "print('Mean error:', np.mean(intermediate_info['stddev']))"
   ]
  },
  {
   "cell_type": "code",
   "execution_count": 43,
   "id": "05dc1956",
   "metadata": {},
   "outputs": [],
   "source": [
    "history = runtime_result.optimizer_history\n",
    "\n",
    "loss = history['loss']\n",
    "timestamps = history['time']\n",
    "\n",
    "runtimes = np.concatenate(([0], np.diff(timestamps)))\n",
    "runtimes_in_min = runtimes / 60"
   ]
  },
  {
   "cell_type": "code",
   "execution_count": 49,
   "id": "f366b213",
   "metadata": {},
   "outputs": [
    {
     "data": {
      "text/plain": [
       "dict_keys(['loss', 'params', 'time'])"
      ]
     },
     "execution_count": 49,
     "metadata": {},
     "output_type": "execute_result"
    }
   ],
   "source": [
    "history.keys()"
   ]
  },
  {
   "cell_type": "code",
   "execution_count": 44,
   "id": "504316cd",
   "metadata": {},
   "outputs": [
    {
     "name": "stdout",
     "output_type": "stream",
     "text": [
      "Total time taken: 26.19min\n",
      "\n",
      "Median time of the iterations: 27.88s\n",
      "Average time per iteration: 31.43s\n",
      "Standard deviation: 12.17s\n"
     ]
    }
   ],
   "source": [
    "print(f'Total time taken: {np.sum(runtimes_in_min):.2f}min\\n')\n",
    "\n",
    "# note that the median and average might differ, since the device get's calibrated every hour\n",
    "# resulting in some iteration times that are much larger than the rest\n",
    "print(f'Median time of the iterations: {np.median(runtimes):.2f}s')\n",
    "print(f'Average time per iteration: {np.mean(runtimes):.2f}s')\n",
    "print(f'Standard deviation: {np.std(runtimes):.2f}s')"
   ]
  },
  {
   "cell_type": "code",
   "execution_count": 45,
   "id": "86dff0da",
   "metadata": {},
   "outputs": [
    {
     "data": {
      "image/png": "[encoded data removed]",
      "text/plain": [
       "<Figure size 864x576 with 2 Axes>"
      ]
     },
     "metadata": {
      "needs_background": "light"
     },
     "output_type": "display_data"
    }
   ],
   "source": [
    "import matplotlib.pyplot as plt\n",
    "\n",
    "plt.rcParams['font.size'] = 14\n",
    "\n",
    "fig, (ax1, ax2) = plt.subplots(2, 1, sharex=True, figsize=(12,8))\n",
    "\n",
    "# plot loss and reference value\n",
    "ax1.plot(loss, label='Qiskit Runtime VQE')\n",
    "ax1.axhline(y=target_energy, color='tab:red', ls='--', label='Target energy')\n",
    "\n",
    "# plot time taken\n",
    "ax2.plot(np.cumsum(runtimes_in_min))\n",
    "\n",
    "# settings\n",
    "ax1.set_title('Qiskit Runtime VQE')\n",
    "ax1.set_ylabel('Eigenvalue')\n",
    "ax1.legend(loc='best')\n",
    "ax2.set_ylabel('Total Qiskit Runtime [min]')\n",
    "ax2.set_xlabel('Iteration')\n",
    "ax2.grid();"
   ]
  },
  {
   "cell_type": "code",
   "execution_count": null,
   "id": "dcfbe573",
   "metadata": {},
   "outputs": [],
   "source": []
  },
  {
   "cell_type": "code",
   "execution_count": null,
   "id": "ff3c38b2",
   "metadata": {},
   "outputs": [],
   "source": []
  },
  {
   "cell_type": "code",
   "execution_count": null,
   "id": "59d043b0",
   "metadata": {},
   "outputs": [],
   "source": []
  },
  {
   "cell_type": "markdown",
   "id": "d6399099",
   "metadata": {},
   "source": [
    "# Call VQE from the Cloud"
   ]
  },
  {
   "cell_type": "code",
   "execution_count": 21,
   "id": "dc44b2a2",
   "metadata": {},
   "outputs": [],
   "source": [
    "# Collect inputs to VQE\n",
    "vqe_inputs = {\n",
    "    'ansatz': ansatz,\n",
    "    'operator': hamiltonian,\n",
    "    'optimizer': {'name': 'SPSA', 'maxiter': 5},  # let's only do a few iterations!\n",
    "    'initial_point': initial_point,\n",
    "    'measurement_error_mitigation': True,\n",
    "    'shots': 1024\n",
    "}"
   ]
  },
  {
   "cell_type": "code",
   "execution_count": 22,
   "id": "01eacb31",
   "metadata": {},
   "outputs": [],
   "source": [
    "# Set the name of the backend\n",
    "backend_options = {\n",
    "    'backend_name': backend.name()\n",
    "}"
   ]
  },
  {
   "cell_type": "code",
   "execution_count": 23,
   "id": "ddfea2be",
   "metadata": {},
   "outputs": [],
   "source": [
    "# Reset the callback\n",
    "\n",
    "intermediate_info = {\n",
    "    'nfev': [],\n",
    "    'parameters': [],\n",
    "    'energy': [],\n",
    "    'stddev': []\n",
    "}\n",
    "\n",
    "def raw_callback(*args):\n",
    "    job_id, (nfev, parameters, energy, stddev) = args\n",
    "    intermediate_info['nfev'].append(nfev)\n",
    "    intermediate_info['parameters'].append(parameters)\n",
    "    intermediate_info['energy'].append(energy)\n",
    "    intermediate_info['stddev'].append(stddev)"
   ]
  },
  {
   "cell_type": "code",
   "execution_count": 24,
   "id": "0a77a760",
   "metadata": {},
   "outputs": [
    {
     "name": "stdout",
     "output_type": "stream",
     "text": [
      "Job ID: c3jhaepkjfmd50ohf1p0\n"
     ]
    }
   ],
   "source": [
    "# run the job\n",
    "\n",
    "job = provider.runtime.run(\n",
    "    program_id='vqe',\n",
    "    inputs=vqe_inputs,\n",
    "    options=backend_options,\n",
    "    callback=raw_callback\n",
    ")\n",
    "print('Job ID:', job.job_id())"
   ]
  },
  {
   "cell_type": "code",
   "execution_count": 27,
   "id": "a0882534",
   "metadata": {},
   "outputs": [
    {
     "name": "stdout",
     "output_type": "stream",
     "text": [
      "\r",
      "Job Status: job is actively running"
     ]
    },
    {
     "name": "stderr",
     "output_type": "stream",
     "text": [
      "runtime_job._start_websocket_client:WARNING:2021-07-08 11:25:40,520: An error occurred while streaming results from the server for job c3jhaepkjfmd50ohf1p0:\n",
      "Traceback (most recent call last):\n",
      "  File \"/opt/miniconda3/envs/qiskit_25/lib/python3.9/site-packages/qiskit/providers/ibmq/runtime/runtime_job.py\", line 289, in _start_websocket_client\n",
      "    self._ws_client.job_results()\n",
      "  File \"/opt/miniconda3/envs/qiskit_25/lib/python3.9/site-packages/qiskit/providers/ibmq/api/clients/runtime_ws.py\", line 74, in job_results\n",
      "    self.stream(url=url, retries=max_retries, backoff_factor=backoff_factor)\n",
      "  File \"/opt/miniconda3/envs/qiskit_25/lib/python3.9/site-packages/qiskit/providers/ibmq/api/clients/base.py\", line 211, in stream\n",
      "    raise WebsocketError(error_message)\n",
      "qiskit.providers.ibmq.api.exceptions.WebsocketError: 'Max retries exceeded: Failed to establish a websocket connection. Error: Traceback (most recent call last):\\n  File \"/opt/miniconda3/envs/qiskit_25/lib/python3.9/site-packages/websocket/_app.py\", line 369, in run_forever\\n    dispatcher.read(self.sock.sock, read, check)\\n  File \"/opt/miniconda3/envs/qiskit_25/lib/python3.9/site-packages/websocket/_app.py\", line 72, in read\\n    if not read_callback():\\n  File \"/opt/miniconda3/envs/qiskit_25/lib/python3.9/site-packages/websocket/_app.py\", line 335, in read\\n    op_code, frame = self.sock.recv_data_frame(True)\\n  File \"/opt/miniconda3/envs/qiskit_25/lib/python3.9/site-packages/websocket/_core.py\", line 395, in recv_data_frame\\n    frame = self.recv_frame()\\n  File \"/opt/miniconda3/envs/qiskit_25/lib/python3.9/site-packages/websocket/_core.py\", line 434, in recv_frame\\n    return self.frame_buffer.recv_frame()\\n  File \"/opt/miniconda3/envs/qiskit_25/lib/python3.9/site-packages/websocket/_abnf.py\", line 339, in recv_frame\\n    self.recv_header()\\n  File \"/opt/miniconda3/envs/qiskit_25/lib/python3.9/site-packages/websocket/_abnf.py\", line 295, in recv_header\\n    header = self.recv_strict(2)\\n  File \"/opt/miniconda3/envs/qiskit_25/lib/python3.9/site-packages/websocket/_abnf.py\", line 374, in recv_strict\\n    bytes_ = self.recv(min(16384, shortage))\\n  File \"/opt/miniconda3/envs/qiskit_25/lib/python3.9/site-packages/websocket/_core.py\", line 518, in _recv\\n    return recv(self.sock, bufsize)\\n  File \"/opt/miniconda3/envs/qiskit_25/lib/python3.9/site-packages/websocket/_socket.py\", line 127, in recv\\n    raise WebSocketConnectionClosedException(\\nwebsocket._exceptions.WebSocketConnectionClosedException: Connection to remote host was lost.\\n'\n",
      "\n"
     ]
    },
    {
     "name": "stdout",
     "output_type": "stream",
     "text": [
      "\r",
      "Job Status: job has successfully run\n"
     ]
    }
   ],
   "source": [
    "from qiskit.tools.monitor import job_monitor\n",
    "job_monitor(job)"
   ]
  },
  {
   "cell_type": "code",
   "execution_count": 28,
   "id": "3d43fdf4",
   "metadata": {},
   "outputs": [],
   "source": [
    "result = job.result()"
   ]
  },
  {
   "cell_type": "code",
   "execution_count": 29,
   "id": "263a2a93",
   "metadata": {},
   "outputs": [
    {
     "name": "stdout",
     "output_type": "stream",
     "text": [
      "Reached -0.7804611726425335 after 16 evaluations.\n"
     ]
    }
   ],
   "source": [
    "print(f'Reached {result[\"optimal_value\"]} after {result[\"optimizer_evals\"]} evaluations.')"
   ]
  },
  {
   "cell_type": "code",
   "execution_count": 30,
   "id": "c38092da",
   "metadata": {},
   "outputs": [
    {
     "name": "stdout",
     "output_type": "stream",
     "text": [
      "Available keys: ['optimizer_evals', 'optimizer_time', 'optimal_value', 'optimal_point', 'optimal_parameters', 'cost_function_evals', 'eigenstate', 'eigenvalue', 'aux_operator_eigenvalues', 'optimizer_history']\n"
     ]
    }
   ],
   "source": [
    "print('Available keys:', list(result.keys()))"
   ]
  },
  {
   "cell_type": "code",
   "execution_count": 50,
   "id": "5d040a04",
   "metadata": {},
   "outputs": [
    {
     "data": {
      "text/plain": [
       "'/Users/stenger/Documents/Research/Hubbard_symmetries'"
      ]
     },
     "execution_count": 50,
     "metadata": {},
     "output_type": "execute_result"
    }
   ],
   "source": [
    "pwd"
   ]
  },
  {
   "cell_type": "code",
   "execution_count": null,
   "id": "0a6db3b1",
   "metadata": {},
   "outputs": [],
   "source": []
  }
 ],
 "metadata": {
  "kernelspec": {
   "display_name": "Python 3",
   "language": "python",
   "name": "python3"
  },
  "language_info": {
   "codemirror_mode": {
    "name": "ipython",
    "version": 3
   },
   "file_extension": ".py",
   "mimetype": "text/x-python",
   "name": "python",
   "nbconvert_exporter": "python",
   "pygments_lexer": "ipython3",
   "version": "3.9.5"
  }
 },
 "nbformat": 4,
 "nbformat_minor": 5
}
