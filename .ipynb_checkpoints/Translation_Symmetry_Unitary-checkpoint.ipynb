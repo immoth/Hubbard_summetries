{
 "cells": [
  {
   "cell_type": "markdown",
   "id": "87a1197f",
   "metadata": {},
   "source": [
    "# Attempting to block diagonalize the hubbard model\n",
    "\n",
    "$$ H = t \\sum_{\\sigma,i}(c^{\\dagger}_{\\sigma i}c_{\\sigma i+1} + c^{\\dagger}_{\\sigma i+1}c_i) + U \\sum_i c^{\\dagger}_{\\uparrow i}c_{\\uparrow i}c^{\\dagger}_{\\downarrow i}c_{\\downarrow i}  $$\n",
    "\n",
    "$$ H = t\\sum_{\\sigma,i}(X_{\\sigma i}X_{\\sigma i+1} + Y_{\\sigma i+1}Y_i) + U\\sum_i Z_{\\uparrow i}Z_{\\downarrow i}  $$"
   ]
  },
  {
   "cell_type": "markdown",
   "id": "66500f6b",
   "metadata": {},
   "source": [
    "The idea is that we know by the translational symmetery that $H$ can be block diagonalized.  Since there is such a simple expresion of $H$ in terms of Pauli matricies, can we come up with a unitary that block diagonalizes $H$ just by looking at it.  "
   ]
  },
  {
   "cell_type": "code",
   "execution_count": 2,
   "id": "3b9b4c2f",
   "metadata": {},
   "outputs": [],
   "source": [
    "import qiskit.quantum_info as qi\n",
    "import pandas as pd\n",
    "import numpy as np\n",
    "import scipy.linalg as ln\n",
    "\n",
    "def I(N):\n",
    "    label = ['I' for i in range(N)]\n",
    "    label = label[::-1]\n",
    "    label = ''.join(label)\n",
    "    return qi.Operator.from_label(label).data\n",
    "\n",
    "def X(i,N):\n",
    "    label = ['I' for i in range(N)]\n",
    "    label[i] = 'X'\n",
    "    label = label[::-1]\n",
    "    label = ''.join(label)\n",
    "    return qi.Operator.from_label(label).data\n",
    "\n",
    "def Y(i,N):\n",
    "    label = ['I' for i in range(N)]\n",
    "    label[i] = 'Y'\n",
    "    label = label[::-1]\n",
    "    label = ''.join(label)\n",
    "    return qi.Operator.from_label(label).data\n",
    "\n",
    "def Z(i,N):\n",
    "    label = ['I' for i in range(N)]\n",
    "    label[i] = 'Z'\n",
    "    label = label[::-1]\n",
    "    label = ''.join(label)\n",
    "    return qi.Operator.from_label(label).data\n",
    "\n",
    "import numpy as np\n",
    "\n",
    "def Mdot(Ol):\n",
    "    out = Ol[0]\n",
    "    for i in range(1,len(Ol)):\n",
    "        out = np.dot(Ol[i],out)\n",
    "    return out\n",
    "\n",
    "def bkt(y1,O,y2):\n",
    "    return Mdot([np.conjugate(y1),O,y2])\n",
    "\n",
    "# A function to print the state given the numerical represenations\n",
    "def bi(num,N):\n",
    "    bi = bin(num)\n",
    "    out = []\n",
    "    Sdiff = N - len(bi) + 2\n",
    "    for i in range(0,Sdiff):\n",
    "        out.append(0)\n",
    "    for i in range(2,len(bi)):\n",
    "        out.append(int(bi[i]))\n",
    "    return out\n"
   ]
  },
  {
   "cell_type": "code",
   "execution_count": 3,
   "id": "f8849086",
   "metadata": {},
   "outputs": [],
   "source": [
    "X0X1 = Mdot([X(0,4),X(1,4)])\n",
    "X1X2 = Mdot([X(1,4),X(2,4)])\n",
    "X2X3 = Mdot([X(2,4),X(3,4)])\n",
    "X0X2 = Mdot([X(0,4),X(2,4)])\n",
    "X0 = X(0,4)\n",
    "X1 = X(1,4)\n",
    "X2 = X(2,4)\n",
    "X3 = X(3,4)\n",
    "\n",
    "Y0Y1 = Mdot([Y(0,4),Y(1,4)])\n",
    "Y1Y2 = Mdot([Y(1,4),Y(2,4)])\n",
    "Y2Y3 = Mdot([Y(2,4),Y(3,4)])\n",
    "Y0Y2 = Mdot([Y(0,4),Y(2,4)])\n",
    "Y0 = Y(0,4)\n",
    "Y1 = Y(1,4)\n",
    "Y2 = Y(2,4)\n",
    "Y3 = Y(3,4)"
   ]
  },
  {
   "cell_type": "markdown",
   "id": "291a202b",
   "metadata": {},
   "source": [
    "### Replacing XX by X\n",
    "\n",
    "We can replace XX pairs by single X operators.  "
   ]
  },
  {
   "cell_type": "code",
   "execution_count": 4,
   "id": "21d39065",
   "metadata": {},
   "outputs": [
    {
     "data": {
      "text/plain": [
       "1.1546319456101628e-14"
      ]
     },
     "execution_count": 4,
     "metadata": {},
     "output_type": "execute_result"
    }
   ],
   "source": [
    "a=1\n",
    "b=2\n",
    "c=3\n",
    "\n",
    "H = a*X0X1 + b*X2X3 + c*X1X2 \n",
    "e1,y = ln.eig(H)\n",
    "\n",
    "H = a*X0 + b*X2 + c*X1 \n",
    "e2,y = ln.eig(H)\n",
    "\n",
    "np.amax(np.abs(np.sort(e1)-np.sort(e2)))"
   ]
  },
  {
   "cell_type": "code",
   "execution_count": 5,
   "id": "b7f31e6e",
   "metadata": {},
   "outputs": [
    {
     "data": {
      "text/plain": [
       "0.0"
      ]
     },
     "execution_count": 5,
     "metadata": {},
     "output_type": "execute_result"
    }
   ],
   "source": [
    "Cn = 1/2*(I(4)+X1 + 1j*Z(0,4) - 1j*Mdot([Z(0,4),X(1,4)]))\n",
    "Cnc = 1/2*(I(4)+X1 - 1j*Z(0,4) + 1j*Mdot([Z(0,4),X(1,4)]))\n",
    "\n",
    "np.amax(np.abs(Mdot([Cn,X0X1,Cnc])-X0))\n",
    "np.amax(np.abs(Mdot([Cn,X1X2,Cnc])-X1X2))"
   ]
  },
  {
   "cell_type": "markdown",
   "id": "e6ce9881",
   "metadata": {},
   "source": [
    "## Dealing with YY\n",
    "\n",
    "However, we cannot simultaniously replace XX and YY by single qubit operators.  "
   ]
  },
  {
   "cell_type": "code",
   "execution_count": 6,
   "id": "22f6aece",
   "metadata": {},
   "outputs": [
    {
     "data": {
      "text/plain": [
       "0.0"
      ]
     },
     "execution_count": 6,
     "metadata": {},
     "output_type": "execute_result"
    }
   ],
   "source": [
    "np.amax(np.abs(Mdot([Cn,Mdot([Y(0,4),Y(1,4)]),Cnc])+Mdot([X(0,4),Y(1,4)])))"
   ]
  },
  {
   "cell_type": "code",
   "execution_count": 7,
   "id": "910249d4",
   "metadata": {},
   "outputs": [
    {
     "data": {
      "text/plain": [
       "0.0"
      ]
     },
     "execution_count": 7,
     "metadata": {},
     "output_type": "execute_result"
    }
   ],
   "source": [
    "H = X0X1+Y0Y1 \n",
    "e1,y = ln.eig(H)\n",
    "\n",
    "H = X0 + Mdot([X(0,4),Z(1,4)])\n",
    "#H = Z(0,4) + Mdot([Z(0,4),Z(1,4)])\n",
    "e2,y = ln.eig(H)\n",
    "\n",
    "np.amax(np.abs(np.sort(e1)-np.sort(e2)))\n",
    "#print(np.sort(e1))\n",
    "#print(np.sort(e2))"
   ]
  },
  {
   "cell_type": "markdown",
   "id": "60a8fc7f",
   "metadata": {},
   "source": [
    "We can simultaniously diagonalize both XX and YY"
   ]
  },
  {
   "cell_type": "code",
   "execution_count": 8,
   "id": "905c77e2",
   "metadata": {},
   "outputs": [
    {
     "data": {
      "text/plain": [
       "0.0"
      ]
     },
     "execution_count": 8,
     "metadata": {},
     "output_type": "execute_result"
    }
   ],
   "source": [
    "U01 = 1/2*Mdot([Cnc, (I(4)-1j*X(1,4)), (I(4)-1j*Y(0,4))])\n",
    "Ud01 = 1/2*Mdot([(I(4)+1j*Y(0,4)), (I(4)+1j*X(1,4)), Cn])\n",
    "np.amax(np.abs(Mdot([Ud01,Mdot([X(0,4),X(1,4)])+Mdot([Y(0,4),Y(1,4)]),U01]) + Z(0,4)- Mdot([Z(0,4),Z(1,4)])))\n"
   ]
  },
  {
   "cell_type": "markdown",
   "id": "0583a871",
   "metadata": {},
   "source": [
    "### Dealing with Z\n",
    "\n",
    "This will undiagonalize Z of course"
   ]
  },
  {
   "cell_type": "code",
   "execution_count": 9,
   "id": "26222848",
   "metadata": {},
   "outputs": [
    {
     "data": {
      "text/plain": [
       "0.0"
      ]
     },
     "execution_count": 9,
     "metadata": {},
     "output_type": "execute_result"
    }
   ],
   "source": [
    "np.amax(np.abs(Mdot([Ud01,Z(0,4),U01]) - X(0,4) ))"
   ]
  },
  {
   "cell_type": "code",
   "execution_count": 10,
   "id": "2a6863af",
   "metadata": {},
   "outputs": [
    {
     "data": {
      "text/plain": [
       "0.0"
      ]
     },
     "execution_count": 10,
     "metadata": {},
     "output_type": "execute_result"
    }
   ],
   "source": [
    "np.amax(np.abs(Mdot([Ud01,Z(1,4),U01]) - Mdot([X(0,4),Z(1,4)]) ))"
   ]
  },
  {
   "cell_type": "markdown",
   "id": "dc3770f5",
   "metadata": {},
   "source": [
    "So far we have \n",
    "\n",
    "$$ U = \\frac{1}{2}C_{01}R^{x}_1(\\frac{\\pi}{2})R^{y}_0(\\frac{\\pi}{2}) $$\n",
    "\n",
    "and \n",
    "\n",
    "$$ U^{\\dagger}_{\\uparrow 01} \\left( X_{\\uparrow 0} X_{\\uparrow 1} + Y_{\\uparrow 0} Y_{\\uparrow 1} + Z_{\\uparrow 0}Z_{\\downarrow 0} + Z_{\\uparrow 1}Z_{\\downarrow 1} \\right) U_{\\uparrow 01} = - Z_{\\uparrow 0} + Z_{\\uparrow 0} Z_{\\uparrow 1} + X_{\\uparrow 0} Z_{\\downarrow 0} + X_{\\uparrow 0}Z_{\\uparrow 1}Z_{\\downarrow_1}$$"
   ]
  },
  {
   "cell_type": "markdown",
   "id": "22136eff",
   "metadata": {},
   "source": [
    "Let's drop the last $R^y_0$ rotation so that the off diagonal part is shifted back to the kinetic terms \n",
    "\n",
    "$$ U = \\frac{1}{2}C_{01}R^{x}_1(\\frac{\\pi}{2}) $$\n",
    "\n",
    "$$ U^{\\dagger}_{\\uparrow 01} \\left( X_{\\uparrow 0} X_{\\uparrow 1} + Y_{\\uparrow 0} Y_{\\uparrow 1} + Z_{\\uparrow 0}Z_{\\downarrow 0} + Z_{\\uparrow 1}Z_{\\downarrow 1} \\right) U_{\\uparrow 01} =  X_{\\uparrow 0} - X_{\\uparrow 0} Z_{\\uparrow 1} + Z_{\\uparrow 0} Z_{\\downarrow 0} + Z_{\\uparrow 0}Z_{\\uparrow 1}Z_{\\downarrow_1}$$"
   ]
  },
  {
   "cell_type": "code",
   "execution_count": 11,
   "id": "62590f93",
   "metadata": {},
   "outputs": [
    {
     "name": "stdout",
     "output_type": "stream",
     "text": [
      "4.463374267214424e-16\n",
      "2.231687133607212e-16\n",
      "2.231687133607212e-16\n"
     ]
    }
   ],
   "source": [
    "U01 = 1/np.sqrt(2)*Mdot([Cnc, (I(4)-1j*X(1,4))])\n",
    "Ud01 = 1/np.sqrt(2)*Mdot([(I(4)+1j*X(1,4)), Cn])\n",
    "\n",
    "print(np.amax(np.abs(Mdot([Ud01,Mdot([X(0,4),X(1,4)])+Mdot([Y(0,4),Y(1,4)]),U01]) - X(0,4) + Mdot([X(0,4),Z(1,4)]))))\n",
    "print(np.amax(np.abs(Mdot([Ud01,Z(0,4),U01]) - Z(0,4) )))\n",
    "print(np.amax(np.abs(Mdot([Ud01,Z(1,4),U01]) - Mdot([Z(0,4),Z(1,4)]) )))"
   ]
  },
  {
   "cell_type": "markdown",
   "id": "dffbce81",
   "metadata": {},
   "source": [
    "### What about higher indecies"
   ]
  },
  {
   "cell_type": "code",
   "execution_count": 12,
   "id": "f79a9f23",
   "metadata": {},
   "outputs": [
    {
     "name": "stdout",
     "output_type": "stream",
     "text": [
      "2.231687133607212e-16\n",
      "0.0\n"
     ]
    }
   ],
   "source": [
    "print(np.amax(np.abs(  Mdot([Ud01,Mdot([X(1,4),X(2,4)]),U01]) - Mdot([X(1,4),X(2,4)])  )))\n",
    "\n",
    "print(np.amax(np.abs(  Mdot([Cnc,Mdot([Y(1,4),Y(2,4)]),Cn]) - Mdot([Z(0,4),Z(1,4),Y(2,4)])  )))"
   ]
  },
  {
   "cell_type": "markdown",
   "id": "f0e43ab3",
   "metadata": {},
   "source": [
    "We have\n",
    "$$ U^{\\dagger}_{\\uparrow 01} \\left( X_{\\uparrow 1} X_{\\uparrow 2} + Y_{\\uparrow 1} Y_{\\uparrow 2} \\right) U_{\\uparrow 01} =  X_{\\uparrow 1}X_{\\uparrow 2} + Z_{\\uparrow 0 } Z_{\\uparrow 1 } Y_{\\uparrow 2 }$$"
   ]
  },
  {
   "cell_type": "markdown",
   "id": "d4536df7",
   "metadata": {},
   "source": [
    "So in total we have,\n",
    "\n",
    "$$ U^{\\dagger}_{\\uparrow 01} \\left( X_{\\uparrow 0} X_{\\uparrow 1} + Y_{\\uparrow 0} Y_{\\uparrow 1} +  X_{\\uparrow 1} X_{\\uparrow 2} + Y_{\\uparrow 1} Y_{\\uparrow 2} + Z_{\\uparrow 0}Z_{\\downarrow 0} + Z_{\\uparrow 1}Z_{\\downarrow 1} \\right) U_{\\uparrow 01} =  X_{\\uparrow 0} - X_{\\uparrow 0} Z_{\\uparrow 1} +  X_{\\uparrow 1}X_{\\uparrow 2} + Z_{\\uparrow 0 } Z_{\\uparrow 1 } Y_{\\uparrow 2 } + Z_{\\uparrow 0} Z_{\\downarrow 0} + Z_{\\uparrow 0}Z_{\\uparrow 1}Z_{\\downarrow_1}$$\n"
   ]
  },
  {
   "cell_type": "markdown",
   "id": "fbe6c4be",
   "metadata": {},
   "source": [
    "The goal is to have at least one site with no off-diagonal Paulis (no X or Y). In this case, we have two blocks which we can seperate.  Since the only off-diagonal on 1 is X1 X2 we could try to use the reverse of U12 and see what happens"
   ]
  },
  {
   "cell_type": "code",
   "execution_count": 13,
   "id": "2e64d956",
   "metadata": {},
   "outputs": [],
   "source": [
    "Cn21 = 1/2*(I(4)+X1 + 1j*Z(2,4) - 1j*Mdot([Z(2,4),X(1,4)]))\n",
    "Cnc21 = 1/2*(I(4)+X1 - 1j*Z(2,4) + 1j*Mdot([Z(2,4),X(1,4)]))\n",
    "U21 = 1/np.sqrt(2)*Mdot([Cnc21, (I(4)-1j*X(1,4))])\n",
    "Ud21 = 1/np.sqrt(2)*Mdot([(I(4)+1j*X(1,4)), Cn21])"
   ]
  },
  {
   "cell_type": "code",
   "execution_count": 14,
   "id": "8f92ec5d",
   "metadata": {},
   "outputs": [
    {
     "name": "stdout",
     "output_type": "stream",
     "text": [
      "2.231687133607212e-16\n",
      "2.231687133607212e-16\n",
      "2.231687133607212e-16\n"
     ]
    }
   ],
   "source": [
    "print(np.amax(np.abs(  Mdot([Ud21,Mdot([X(1,4),X(2,4)]),U21]) - X(2,4)  )))\n",
    "print(np.amax(np.abs(  Mdot([Ud21,Z(1,4),U21]) - Mdot([Z(1,4),Z(2,4)])  )))\n",
    "print(np.amax(np.abs(  Mdot([Ud21,Mdot([Z(1,4),Y(2,4)]),U21]) - Mdot([Y(1,4),X(2,4)])  )))"
   ]
  },
  {
   "cell_type": "markdown",
   "id": "17102242",
   "metadata": {},
   "source": [
    "This does not work"
   ]
  },
  {
   "cell_type": "markdown",
   "id": "1cb79bb2",
   "metadata": {},
   "source": [
    "## What if we go the other way"
   ]
  },
  {
   "cell_type": "code",
   "execution_count": 33,
   "id": "f1e8e61a",
   "metadata": {},
   "outputs": [],
   "source": [
    "C10 = 1/2*(I(4)+X0 + 1j*Z(1,4) - 1j*Mdot([Z(1,4),X(0,4)]))\n",
    "Cd10 = 1/2*(I(4)+X0 - 1j*Z(1,4) + 1j*Mdot([Z(1,4),X(0,4)]))\n",
    "U10 = 1/np.sqrt(2)*Mdot([Cd10, (I(4)-1j*X(0,4))])\n",
    "Ud10 = 1/np.sqrt(2)*Mdot([(I(4)+1j*X(0,4)), C10])"
   ]
  },
  {
   "cell_type": "code",
   "execution_count": 53,
   "id": "4b12b707",
   "metadata": {},
   "outputs": [
    {
     "name": "stdout",
     "output_type": "stream",
     "text": [
      "4.463374267214424e-16\n",
      "2.231687133607212e-16\n",
      "2.231687133607212e-16\n"
     ]
    }
   ],
   "source": [
    "print(np.amax(np.abs(Mdot([Ud10,Mdot([X(0,4),X(1,4)]) + Mdot([Y(0,4),Y(1,4)]),U10]) - X(1,4) + Mdot([Z(0,4),X(1,4)]))))\n",
    "print(np.amax(np.abs(Mdot([Ud10,Z(1,4),U10]) - Z(1,4) )))\n",
    "print(np.amax(np.abs(Mdot([Ud10,Z(0,4),U10]) - Mdot([Z(0,4),Z(1,4)]) )))"
   ]
  },
  {
   "cell_type": "markdown",
   "id": "ccfd0569",
   "metadata": {},
   "source": [
    "$$ U = \\frac{1}{2}C_{10}R^{x}_0(\\frac{\\pi}{2}) $$\n",
    "\n",
    "$$ U^{\\dagger}_{\\uparrow 10} \\left( X_{\\uparrow 0} X_{\\uparrow 1} + Y_{\\uparrow 0} Y_{\\uparrow 1} + Z_{\\uparrow 0}Z_{\\downarrow 0} + Z_{\\uparrow 1}Z_{\\downarrow 1} \\right) U_{\\uparrow 10} =  Z_{\\uparrow 0} X_{\\uparrow 1} - X_{\\uparrow 1} + Z_{\\uparrow 0}Z_{\\uparrow 1}Z_{\\downarrow_0} + Z_{\\uparrow 1} Z_{\\downarrow 1}$$"
   ]
  },
  {
   "cell_type": "code",
   "execution_count": 101,
   "id": "582982a3",
   "metadata": {},
   "outputs": [
    {
     "name": "stdout",
     "output_type": "stream",
     "text": [
      "2.231687133607212e-16\n"
     ]
    }
   ],
   "source": [
    "print(np.amax(np.abs( Mdot([U10,Mdot([X(1,4)]),Ud10]) - Mdot([X(0,4),X(1,4)])  )))"
   ]
  },
  {
   "cell_type": "markdown",
   "id": "4ff76c02",
   "metadata": {},
   "source": [
    "This does not work either"
   ]
  },
  {
   "cell_type": "code",
   "execution_count": null,
   "id": "b164997a",
   "metadata": {},
   "outputs": [],
   "source": []
  }
 ],
 "metadata": {
  "kernelspec": {
   "display_name": "Python (qiskit_u3.1)",
   "language": "python",
   "name": "qiskit_u3.1"
  },
  "language_info": {
   "codemirror_mode": {
    "name": "ipython",
    "version": 3
   },
   "file_extension": ".py",
   "mimetype": "text/x-python",
   "name": "python",
   "nbconvert_exporter": "python",
   "pygments_lexer": "ipython3",
   "version": "3.9.5"
  },
  "toc": {
   "base_numbering": 1,
   "nav_menu": {},
   "number_sections": true,
   "sideBar": true,
   "skip_h1_title": false,
   "title_cell": "Table of Contents",
   "title_sidebar": "Contents",
   "toc_cell": false,
   "toc_position": {},
   "toc_section_display": true,
   "toc_window_display": false
  }
 },
 "nbformat": 4,
 "nbformat_minor": 5
}
