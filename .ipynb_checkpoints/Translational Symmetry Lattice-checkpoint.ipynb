{
 "cells": [
  {
   "cell_type": "markdown",
   "id": "fc7b3e71",
   "metadata": {},
   "source": [
    "# Translational Symmetary \n",
    "\n",
    "The full Hamilatonian is composed of two terms:\n",
    "$$ H = \\hat{K} + \\hat{U} $$\n",
    "where $\\hat{K}$ is the kinetic term\n",
    "$$ \\hat{K} = t \\sum_i \\left( c^{\\dagger}_{i\\sigma} c_{i+1\\sigma} +c^{\\dagger}_{i+1\\sigma} c_{i\\sigma} \\right) $$\n",
    "and $\\hat{U}$ is the ineraction term\n",
    "$$ \\hat{U} = u\\sum_i c^{\\dagger}_{i\\uparrow}c^{\\dagger}_{i\\downarrow}c_{i\\uparrow}c_{i\\downarrow} $$"
   ]
  },
  {
   "cell_type": "markdown",
   "id": "11936a79",
   "metadata": {},
   "source": [
    "Both terms obay translational symetery $T: i \\rightarrow i+1$ which means we can build symmetary blocks using the states\n",
    "$$ |a,n> = \\frac{1}{\\sqrt{N_a}}\\sum_j e^{i n j\\frac{2\\pi}{N}} T^j |a> $$\n",
    "where $|a>$ is an arbitrary many body state in real space.  Neither $\\hat{U}$ or $\\hat{K}$ will change the value of $n$."
   ]
  },
  {
   "cell_type": "markdown",
   "id": "e4fafea0",
   "metadata": {},
   "source": [
    "We would like to find a Pauli representation of both $\\hat{U}$ and $\\hat{K}$ in this basis.  To this end, let us calculate the matrix elements of both operators.  First we will look at the simpler case:\n",
    "\\begin{equation}\n",
    "    <b,n|\\hat{U}|a,n> = \\frac{1}{\\sqrt{N_a N_b}}\\sum_{j,j'} e^{in (j-j')\\frac{2\\pi}{N}} <b|(T^{\\dagger})^{j'}T^j\\hat{U}|a> = \\frac{1}{\\sqrt{N_a N_b}}\\sum_{j,j'} e^{in (j-j')\\frac{2\\pi}{N}}  \\delta_{jj'}\\delta_{ab}u_a = \\delta_{ab}u_a\n",
    "\\end{equation}\n",
    "where I used the fact that $|a>$ and $|b>$ cannot be related by translational symmetary and $\\hat{U}|a> = |a>u_a$.  Thus we see that the $\\hat{U}$ is diagonal."
   ]
  },
  {
   "cell_type": "markdown",
   "id": "48fc19f2",
   "metadata": {},
   "source": [
    "## Finding $\\hat{K}$\n",
    "\n",
    "$$ <b,n|\\hat{K}|a,n> = \\frac{1}{\\sqrt{N_a N_b}}\\sum_{j,j'} e^{in (j-j')\\frac{2\\pi}{N}} <b|(T^{\\dagger})^{j'}T^j\\hat{K}|a>  $$"
   ]
  },
  {
   "cell_type": "markdown",
   "id": "7b372b3a",
   "metadata": {},
   "source": [
    "The state $\\hat{K}|a>$ may or may not have any overlap with $T^{j'-j}|b>$.  If it does then the weight will depend on several factors including the normalizations $N_a$ and $N_b$.  Let us forget about the weigths for now and just ask which states does $\\hat{K}$ connect.  Hopefully we will then be able to go back and calculate the wieghts."
   ]
  },
  {
   "cell_type": "markdown",
   "id": "089e943a",
   "metadata": {},
   "source": [
    "Finding the states the $\\hat{K}$ connects will be nicer if we introduce a new notation.  Let us write the symmetary state in terms of the number of zeros between its base state.  Let us say $|a> = |10010101000>$ then we would write $|a,n> \\rightarrow |2113>$. "
   ]
  },
  {
   "cell_type": "markdown",
   "id": "93f33383",
   "metadata": {},
   "source": [
    "Let us also make the temporary simplification that the chain is infinitely long.  This makes every state we can write unique.  For example, the states $|123>$ and $|231>$ are really the same state since they are related by translation but the states $|123N>$ and $|231N>$ are unique.\n",
    "\n",
    "With all of this in hand, let build the connectivity of \\hat{K} starting with two particles and then adding more particles on at a time.  "
   ]
  },
  {
   "cell_type": "markdown",
   "id": "4aa310e4",
   "metadata": {},
   "source": [
    "### Two particles.\n",
    "\n",
    "With two particles in an infinite long chain, the action of $\\hat{K}$ is simple.  \n",
    "$$ \\lim_{N\\rightarrow\\infty}\\hat{K}|a,N> = \\lim_{N\\rightarrow\\infty}|a+1,N-1> + |a-1,N+1> $$\n",
    "\n",
    "So the connectivity of $\\hat{K}$ in this case is just a line.  See the diagram below."
   ]
  },
  {
   "cell_type": "markdown",
   "id": "460b742d",
   "metadata": {},
   "source": [
    "![Slide1](K_2/Slide1.jpeg)"
   ]
  },
  {
   "cell_type": "markdown",
   "id": "ccb336dd",
   "metadata": {},
   "source": [
    "For $N = \\infty$ the normalization of all states is the same and we have\n",
    "$$ \\hat{K} \\rightarrow X\\otimes I\\otimes I\\otimes \\ldots $$"
   ]
  },
  {
   "cell_type": "markdown",
   "id": "11a0ec28",
   "metadata": {},
   "source": [
    "### Three particles"
   ]
  },
  {
   "cell_type": "markdown",
   "id": "11c95745",
   "metadata": {},
   "source": [
    "For three particles we have\n",
    "\n",
    "\\begin{equation}\n",
    "\\begin{split}\n",
    "\\lim_{N\\rightarrow\\infty}\\hat{K}|a,b,N> = \\lim_{N\\rightarrow\\infty}|a+1,b,N-1> + |a-1,b,N+1> + |a,b+1,N-1> + |a,b-1,N+1>\n",
    "\\\\\n",
    "+ |a+1,b-1,N> + |a-1,b+1,N> \n",
    "\\end{split}\n",
    "\\end{equation}\n",
    "\n",
    "Again it will be helpful to look at a diagram.  You should notice right away that the 2-particle diagram will be embeded into the three particle diagram.  "
   ]
  },
  {
   "cell_type": "markdown",
   "id": "df426ed9",
   "metadata": {},
   "source": [
    "![Slide1](K_3/Slide1.jpeg)"
   ]
  },
  {
   "cell_type": "markdown",
   "id": "6acbc70f",
   "metadata": {},
   "source": [
    "We see that we have a triangular lattice.  The Pauli decomposition is\n",
    "\\begin{equation}\n",
    "\\begin{split}\n",
    "\\hat{K} = &X\\otimes I \\otimes I \\ldots I\\otimes I \\otimes I \\ldots I\\otimes I \\otimes I \\ldots\n",
    "\\\\\n",
    "+ &I\\otimes I \\otimes I \\ldots X\\otimes I \\otimes I \\ldots \n",
    "\\\\\n",
    "+ &X\\otimes I \\otimes I \\ldots X\\otimes I \\otimes I \\ldots \n",
    "\\\\\n",
    "+ i&Y\\otimes I \\otimes I \\ldots X\\otimes I \\otimes I \\ldots \n",
    "\\end{split}\n",
    "\\end{equation}"
   ]
  },
  {
   "cell_type": "markdown",
   "id": "3357bc34",
   "metadata": {},
   "source": [
    "### Four Particles\n",
    "\n",
    "For four particles let me just show the diagram for the unit cell and then we will talk about the general case.  \n",
    "\n"
   ]
  },
  {
   "cell_type": "markdown",
   "id": "22221f05",
   "metadata": {},
   "source": [
    "![Slide1](K_4/Slide1.jpeg)"
   ]
  },
  {
   "attachments": {},
   "cell_type": "markdown",
   "id": "e595e642",
   "metadata": {},
   "source": [
    "### General number of particles\n",
    "\n",
    "We can think of the movement of zeros from between one pair of particle to a neighbouring pair as a dimension with the constraint that moving in through each dimension consecutively brings you back to were you started.  \n",
    "\n"
   ]
  },
  {
   "cell_type": "markdown",
   "id": "cc58e83e",
   "metadata": {},
   "source": [
    "<div>\n",
    "<img src=\"K_g/Slide1.jpeg\" width=\"300\"/>\n",
    "</div>"
   ]
  },
  {
   "cell_type": "markdown",
   "id": "a72b3728",
   "metadata": {},
   "source": [
    "In the above example, moving once in the x-directin, then in the y-direction, then in the z-direction, is the same as moving in the w-direction.\n",
    "\n",
    "\n",
    "We see that for Q particles, $\\hat{K}$ forms a Q-dimensional square lattice with a connection between the first corner and the last corner. "
   ]
  },
  {
   "cell_type": "code",
   "execution_count": null,
   "id": "8ce49555",
   "metadata": {},
   "outputs": [],
   "source": []
  },
  {
   "cell_type": "code",
   "execution_count": null,
   "id": "54fb8733",
   "metadata": {},
   "outputs": [],
   "source": []
  }
 ],
 "metadata": {
  "kernelspec": {
   "display_name": "Python 3",
   "language": "python",
   "name": "python3"
  },
  "language_info": {
   "codemirror_mode": {
    "name": "ipython",
    "version": 3
   },
   "file_extension": ".py",
   "mimetype": "text/x-python",
   "name": "python",
   "nbconvert_exporter": "python",
   "pygments_lexer": "ipython3",
   "version": "3.9.5"
  }
 },
 "nbformat": 4,
 "nbformat_minor": 5
}
