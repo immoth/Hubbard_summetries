{
 "cells": [
  {
   "cell_type": "markdown",
   "metadata": {},
   "source": [
    "# Symmetry Reduced VQE"
   ]
  },
  {
   "cell_type": "markdown",
   "metadata": {},
   "source": [
    "The first step is to find the blocks of a Hamiltonian which has have been reduced due to the application of some symmerty consideration.  Each block will then have an associated wavefunction,\n",
    "$$ |\\psi^b> = U(\\phi^b_1,\\phi^b_1,\\ldots)|000\\ldots> $$\n",
    "where $|000\\ldots>$ is the state in which $Q$ qubits are in their ground state with $Q$ deterimed by the size of the block $N$ as $Q = \\log_2 N$ rounded up and $U$ is a linear transformation with some set of parameters $\\{\\phi^b_i\\}$ which depend on the block.  \n",
    "\n",
    "For this notebook we will use the linear transformation Anzatz from here: https://arxiv.org/abs/1907.01493.  It gives $U$ as applying y-rotations to each qubit, then coupling each qubit pair with a C-not gate and repreating. \n",
    "$$ U^b_i = \\prod_q R^y_q(\\phi_{q0}^b)\\prod_{q'}C_{4q',4q'+1}C_{4q'+3,4q'+2}\\prod_{q''}C_{4q''+1,4q''+2}C_{4q''+4,4q''+3} $$\n",
    "$$ U^b = \\prod_i U^b_i $$\n",
    "where the $\\pm$ in the subscripts of the C-not gates alternates (see below for an exact definition).\n",
    "\n",
    "The Hamiltonian might be block diagonal or it might have some nonzero off diagonal blocks.  In the most general case, the minimization function invovles wave functions from different blocks.  \n",
    "\n",
    "$$ E = \\sum_{a,b}<\\psi^a|H_{ab}|\\psi^b> $$\n",
    "\n",
    "To minimize this function we will use the simultaneous perturbation stochastic approximation algorithm."
   ]
  },
  {
   "cell_type": "markdown",
   "metadata": {},
   "source": [
    "## Hamiltonian"
   ]
  },
  {
   "cell_type": "markdown",
   "metadata": {},
   "source": [
    "As an example for this notebook we will use the Hamiltonian generated from Example_Matrix_Creation_Sign_Fix.ipynb\n",
    "\n",
    "I do not know how to export the summed operator from OpFlow so I will import the numpy matrix and then re-extract the Pauli terms here."
   ]
  },
  {
   "cell_type": "code",
   "execution_count": 1,
   "metadata": {},
   "outputs": [],
   "source": [
    "import numpy as np \n",
    "\n",
    "H = np.load('Hamiltonian_Example.npy')"
   ]
  },
  {
   "cell_type": "code",
   "execution_count": 2,
   "metadata": {},
   "outputs": [
    {
     "data": {
      "text/plain": [
       "array([-3.34084762e+00+0.00000000e+00j, -3.29295138e+00+0.00000000e+00j,\n",
       "       -2.86387634e+00+0.00000000e+00j, -2.78526086e+00+0.00000000e+00j,\n",
       "       -1.56155281e+00+0.00000000e+00j, -1.56155281e+00+0.00000000e+00j,\n",
       "       -1.00000000e+00+0.00000000e+00j, -1.00000000e+00+0.00000000e+00j,\n",
       "       -1.00000000e+00+0.00000000e+00j, -1.00000000e+00+0.00000000e+00j,\n",
       "       -5.61552813e-01+0.00000000e+00j, -5.61552813e-01+0.00000000e+00j,\n",
       "        7.31507328e-16+0.00000000e+00j,  5.07690516e-01+0.00000000e+00j,\n",
       "        5.23028722e-01+0.00000000e+00j,  1.00000000e+00+0.00000000e+00j,\n",
       "        1.00000000e+00+0.00000000e+00j,  1.00000000e+00+0.00000000e+00j,\n",
       "        1.00000000e+00+0.00000000e+00j,  1.00000000e+00-1.27192026e-16j,\n",
       "        1.00000000e+00+1.27192026e-16j,  1.47697128e+00+0.00000000e+00j,\n",
       "        1.49230948e+00+0.00000000e+00j,  2.00000000e+00+0.00000000e+00j,\n",
       "        2.56155281e+00+0.00000000e+00j,  2.56155281e+00+0.00000000e+00j,\n",
       "        3.00000000e+00+0.00000000e+00j,  3.00000000e+00+0.00000000e+00j,\n",
       "        3.00000000e+00+0.00000000e+00j,  3.00000000e+00+0.00000000e+00j,\n",
       "        3.56155281e+00+0.00000000e+00j,  3.56155281e+00+0.00000000e+00j,\n",
       "        4.78526086e+00+0.00000000e+00j,  4.86387634e+00+0.00000000e+00j,\n",
       "        5.29295138e+00+0.00000000e+00j,  5.34084762e+00+0.00000000e+00j])"
      ]
     },
     "execution_count": 2,
     "metadata": {},
     "output_type": "execute_result"
    }
   ],
   "source": [
    "e,y = np.linalg.eig(H)\n",
    "\n",
    "np.sort(e)"
   ]
  },
  {
   "cell_type": "markdown",
   "metadata": {},
   "source": [
    "Now that the Hamiltonian has been imported let us break it into blocks and exctract the Pauli coordinates.  "
   ]
  },
  {
   "cell_type": "code",
   "execution_count": 3,
   "metadata": {},
   "outputs": [],
   "source": [
    "from qiskit.opflow import (I, X, Y, Z)\n",
    "from qiskit.opflow.primitive_ops import MatrixOp\n",
    "from qiskit import quantum_info as qi\n",
    "\n",
    "# Function to add elements to a block so that it fits onto qubits\n",
    "def complete_diagonal(b11):\n",
    "    size = 2**np.ceil(np.log2(len(b11)))\n",
    "    for v in b11:\n",
    "        while len(v) < size:\n",
    "            v.append(0.0)\n",
    "    while len(b11) < size:\n",
    "        i = len(b11)\n",
    "        vnew = [0.0 for i in range(0,8)]\n",
    "        vnew[i] = 10\n",
    "        b11.append(vnew)\n",
    "    return b11\n",
    "\n",
    "def complete_off_diagonal(b11):\n",
    "    size = 2**np.ceil(np.log2(len(b11)))\n",
    "    for v in b11:\n",
    "        while len(v) < size:\n",
    "            v.append(0.0)\n",
    "    while len(b11) < size:\n",
    "        i = len(b11)\n",
    "        vnew = [0.0 for i in range(0,8)]\n",
    "        b11.append(vnew)\n",
    "    return b11\n",
    "\n"
   ]
  },
  {
   "cell_type": "code",
   "execution_count": 4,
   "metadata": {},
   "outputs": [],
   "source": [
    "import math\n",
    "N = 4\n",
    "S = 2\n",
    "bL = math.comb(4,2)\n",
    "\n",
    "blocks = {}\n",
    "for bi in range(bL):\n",
    "    for bj in range(bi,bL):\n",
    "        bij = [[H[i + bL*bi][j + bL*bj] for j in range(0,bL)] for i in range(0,bL)]\n",
    "        if np.amax(np.abs(bij)) > 10**(-5):\n",
    "            if bi == bj:\n",
    "                bij = complete_diagonal(bij)\n",
    "            else:\n",
    "                bij = complete_off_diagonal(bij)\n",
    "            bij_pauli = MatrixOp(bij).to_pauli_op()\n",
    "            blocks[str(bi) + ',' + str(bj)] = bij_pauli\n",
    "        "
   ]
  },
  {
   "cell_type": "markdown",
   "metadata": {},
   "source": [
    "The object *blocks* is a dictionary of *SumedOp* lists of *PauliOp* objects.  "
   ]
  },
  {
   "cell_type": "code",
   "execution_count": 196,
   "metadata": {},
   "outputs": [
    {
     "data": {
      "text/html": [
       "<div>\n",
       "<style scoped>\n",
       "    .dataframe tbody tr th:only-of-type {\n",
       "        vertical-align: middle;\n",
       "    }\n",
       "\n",
       "    .dataframe tbody tr th {\n",
       "        vertical-align: top;\n",
       "    }\n",
       "\n",
       "    .dataframe thead th {\n",
       "        text-align: right;\n",
       "    }\n",
       "</style>\n",
       "<table border=\"1\" class=\"dataframe\">\n",
       "  <thead>\n",
       "    <tr style=\"text-align: right;\">\n",
       "      <th></th>\n",
       "      <th>0</th>\n",
       "      <th>1</th>\n",
       "      <th>2</th>\n",
       "      <th>3</th>\n",
       "      <th>4</th>\n",
       "      <th>5</th>\n",
       "      <th>6</th>\n",
       "      <th>7</th>\n",
       "    </tr>\n",
       "  </thead>\n",
       "  <tbody>\n",
       "    <tr>\n",
       "      <th>0</th>\n",
       "      <td>1.0+0.0j</td>\n",
       "      <td>-1.0+0.0j</td>\n",
       "      <td>0.0+0.0j</td>\n",
       "      <td>0.0+0.0j</td>\n",
       "      <td>1.0+0.0j</td>\n",
       "      <td>0.0+0.0j</td>\n",
       "      <td>0.0+0.0j</td>\n",
       "      <td>0.0+0.0j</td>\n",
       "    </tr>\n",
       "    <tr>\n",
       "      <th>1</th>\n",
       "      <td>-1.0+0.0j</td>\n",
       "      <td>1.0+0.0j</td>\n",
       "      <td>-1.0+0.0j</td>\n",
       "      <td>-1.0+0.0j</td>\n",
       "      <td>0.0+0.0j</td>\n",
       "      <td>1.0+0.0j</td>\n",
       "      <td>0.0+0.0j</td>\n",
       "      <td>0.0+0.0j</td>\n",
       "    </tr>\n",
       "    <tr>\n",
       "      <th>2</th>\n",
       "      <td>0.0+0.0j</td>\n",
       "      <td>-1.0+0.0j</td>\n",
       "      <td>0.0+0.0j</td>\n",
       "      <td>0.0+0.0j</td>\n",
       "      <td>-1.0+0.0j</td>\n",
       "      <td>0.0+0.0j</td>\n",
       "      <td>0.0+0.0j</td>\n",
       "      <td>0.0+0.0j</td>\n",
       "    </tr>\n",
       "    <tr>\n",
       "      <th>3</th>\n",
       "      <td>0.0+0.0j</td>\n",
       "      <td>-1.0+0.0j</td>\n",
       "      <td>0.0+0.0j</td>\n",
       "      <td>2.0+0.0j</td>\n",
       "      <td>-1.0+0.0j</td>\n",
       "      <td>0.0+0.0j</td>\n",
       "      <td>0.0+0.0j</td>\n",
       "      <td>0.0+0.0j</td>\n",
       "    </tr>\n",
       "    <tr>\n",
       "      <th>4</th>\n",
       "      <td>1.0+0.0j</td>\n",
       "      <td>0.0+0.0j</td>\n",
       "      <td>-1.0+0.0j</td>\n",
       "      <td>-1.0+0.0j</td>\n",
       "      <td>1.0+0.0j</td>\n",
       "      <td>-1.0+0.0j</td>\n",
       "      <td>0.0+0.0j</td>\n",
       "      <td>0.0+0.0j</td>\n",
       "    </tr>\n",
       "    <tr>\n",
       "      <th>5</th>\n",
       "      <td>0.0+0.0j</td>\n",
       "      <td>1.0+0.0j</td>\n",
       "      <td>0.0+0.0j</td>\n",
       "      <td>0.0+0.0j</td>\n",
       "      <td>-1.0+0.0j</td>\n",
       "      <td>1.0+0.0j</td>\n",
       "      <td>0.0+0.0j</td>\n",
       "      <td>0.0+0.0j</td>\n",
       "    </tr>\n",
       "    <tr>\n",
       "      <th>6</th>\n",
       "      <td>0.0+0.0j</td>\n",
       "      <td>0.0+0.0j</td>\n",
       "      <td>0.0+0.0j</td>\n",
       "      <td>0.0+0.0j</td>\n",
       "      <td>0.0+0.0j</td>\n",
       "      <td>0.0+0.0j</td>\n",
       "      <td>10.0+0.0j</td>\n",
       "      <td>0.0+0.0j</td>\n",
       "    </tr>\n",
       "    <tr>\n",
       "      <th>7</th>\n",
       "      <td>0.0+0.0j</td>\n",
       "      <td>0.0+0.0j</td>\n",
       "      <td>0.0+0.0j</td>\n",
       "      <td>0.0+0.0j</td>\n",
       "      <td>0.0+0.0j</td>\n",
       "      <td>0.0+0.0j</td>\n",
       "      <td>0.0+0.0j</td>\n",
       "      <td>10.0+0.0j</td>\n",
       "    </tr>\n",
       "  </tbody>\n",
       "</table>\n",
       "</div>"
      ],
      "text/plain": [
       "          0         1         2         3         4         5          6  \\\n",
       "0  1.0+0.0j -1.0+0.0j  0.0+0.0j  0.0+0.0j  1.0+0.0j  0.0+0.0j   0.0+0.0j   \n",
       "1 -1.0+0.0j  1.0+0.0j -1.0+0.0j -1.0+0.0j  0.0+0.0j  1.0+0.0j   0.0+0.0j   \n",
       "2  0.0+0.0j -1.0+0.0j  0.0+0.0j  0.0+0.0j -1.0+0.0j  0.0+0.0j   0.0+0.0j   \n",
       "3  0.0+0.0j -1.0+0.0j  0.0+0.0j  2.0+0.0j -1.0+0.0j  0.0+0.0j   0.0+0.0j   \n",
       "4  1.0+0.0j  0.0+0.0j -1.0+0.0j -1.0+0.0j  1.0+0.0j -1.0+0.0j   0.0+0.0j   \n",
       "5  0.0+0.0j  1.0+0.0j  0.0+0.0j  0.0+0.0j -1.0+0.0j  1.0+0.0j   0.0+0.0j   \n",
       "6  0.0+0.0j  0.0+0.0j  0.0+0.0j  0.0+0.0j  0.0+0.0j  0.0+0.0j  10.0+0.0j   \n",
       "7  0.0+0.0j  0.0+0.0j  0.0+0.0j  0.0+0.0j  0.0+0.0j  0.0+0.0j   0.0+0.0j   \n",
       "\n",
       "           7  \n",
       "0   0.0+0.0j  \n",
       "1   0.0+0.0j  \n",
       "2   0.0+0.0j  \n",
       "3   0.0+0.0j  \n",
       "4   0.0+0.0j  \n",
       "5   0.0+0.0j  \n",
       "6   0.0+0.0j  \n",
       "7  10.0+0.0j  "
      ]
     },
     "execution_count": 196,
     "metadata": {},
     "output_type": "execute_result"
    }
   ],
   "source": [
    "import pandas as pd\n",
    "\n",
    "pd.DataFrame(blocks['3,3'].to_matrix())"
   ]
  },
  {
   "cell_type": "code",
   "execution_count": 6,
   "metadata": {},
   "outputs": [
    {
     "name": "stdout",
     "output_type": "stream",
     "text": [
      "SummedOp([\n",
      "  3.25 * III,\n",
      "  -0.5 * IIX,\n",
      "  0.25 * IIZ,\n",
      "  -0.25 * IXI,\n",
      "  -0.25 * IXX,\n",
      "  0.25 * IXZ,\n",
      "  -0.25 * IYY,\n",
      "  -2.25 * IZI,\n",
      "  -0.5 * IZX,\n",
      "  0.25 * IZZ,\n",
      "  0.5 * XII,\n",
      "  -0.25 * XXI,\n",
      "  -0.25 * XXX,\n",
      "  -0.25 * XXZ,\n",
      "  0.25 * XYY,\n",
      "  0.5 * XZI,\n",
      "  -0.25 * YXY,\n",
      "  -0.25 * YYI,\n",
      "  -0.25 * YYX,\n",
      "  -0.25 * YYZ,\n",
      "  -2.0 * ZII,\n",
      "  -0.25 * ZXI,\n",
      "  -0.25 * ZXX,\n",
      "  0.25 * ZXZ,\n",
      "  -0.25 * ZYY,\n",
      "  2.5 * ZZI\n",
      "])\n"
     ]
    }
   ],
   "source": [
    "print(blocks['0,0'])"
   ]
  },
  {
   "cell_type": "markdown",
   "metadata": {},
   "source": [
    "Let's take a sanity check here and make sure we can rebuild a Hamiltonian with these completed blocks and that the ground state is still the same."
   ]
  },
  {
   "cell_type": "code",
   "execution_count": 322,
   "metadata": {},
   "outputs": [
    {
     "name": "stderr",
     "output_type": "stream",
     "text": [
      "<ipython-input-322-4f4400865c4e>:15: ComplexWarning: Casting complex values to real discards the imaginary part\n",
      "  H_complete[i + bi*size, j + bj*size] = block[i,j]\n",
      "<ipython-input-322-4f4400865c4e>:16: ComplexWarning: Casting complex values to real discards the imaginary part\n",
      "  H_complete[i + bj*size, j + bi*size] = block[j,i]\n"
     ]
    }
   ],
   "source": [
    "keys = list(blocks.keys())\n",
    "\n",
    "size = int(2**np.ceil(np.log2(bL)))\n",
    "H_complete = np.array([[0 for i in range(size*bL)] for j in range(size*bL)])\n",
    "\n",
    "for bi in range(bL):\n",
    "    for bj in range(bi,bL):\n",
    "        key = str(bi) + ',' + str(bj)\n",
    "        if key  in keys:\n",
    "            block = blocks[key].to_matrix()\n",
    "        else:\n",
    "            block = np.array([[0.0 for i in range(size)] for j in range(size)])\n",
    "        for i in range(size):\n",
    "            for j in range(size):\n",
    "                H_complete[i + bi*size, j + bj*size] = block[i,j]\n",
    "                H_complete[i + bj*size, j + bi*size] = block[j,i]\n",
    "                "
   ]
  },
  {
   "cell_type": "code",
   "execution_count": 208,
   "metadata": {},
   "outputs": [
    {
     "data": {
      "text/html": [
       "<div>\n",
       "<style scoped>\n",
       "    .dataframe tbody tr th:only-of-type {\n",
       "        vertical-align: middle;\n",
       "    }\n",
       "\n",
       "    .dataframe tbody tr th {\n",
       "        vertical-align: top;\n",
       "    }\n",
       "\n",
       "    .dataframe thead th {\n",
       "        text-align: right;\n",
       "    }\n",
       "</style>\n",
       "<table border=\"1\" class=\"dataframe\">\n",
       "  <thead>\n",
       "    <tr style=\"text-align: right;\">\n",
       "      <th></th>\n",
       "      <th>0</th>\n",
       "      <th>1</th>\n",
       "      <th>2</th>\n",
       "      <th>3</th>\n",
       "      <th>4</th>\n",
       "      <th>5</th>\n",
       "      <th>6</th>\n",
       "      <th>...</th>\n",
       "      <th>41</th>\n",
       "      <th>42</th>\n",
       "      <th>43</th>\n",
       "      <th>44</th>\n",
       "      <th>45</th>\n",
       "      <th>46</th>\n",
       "      <th>47</th>\n",
       "    </tr>\n",
       "  </thead>\n",
       "  <tbody>\n",
       "    <tr>\n",
       "      <th>0</th>\n",
       "      <td>2</td>\n",
       "      <td>-1</td>\n",
       "      <td>0</td>\n",
       "      <td>0</td>\n",
       "      <td>1</td>\n",
       "      <td>0</td>\n",
       "      <td>0</td>\n",
       "      <td>...</td>\n",
       "      <td>0</td>\n",
       "      <td>0</td>\n",
       "      <td>0</td>\n",
       "      <td>0</td>\n",
       "      <td>0</td>\n",
       "      <td>0</td>\n",
       "      <td>0</td>\n",
       "    </tr>\n",
       "    <tr>\n",
       "      <th>1</th>\n",
       "      <td>-1</td>\n",
       "      <td>1</td>\n",
       "      <td>-1</td>\n",
       "      <td>-1</td>\n",
       "      <td>0</td>\n",
       "      <td>1</td>\n",
       "      <td>0</td>\n",
       "      <td>...</td>\n",
       "      <td>0</td>\n",
       "      <td>0</td>\n",
       "      <td>0</td>\n",
       "      <td>0</td>\n",
       "      <td>0</td>\n",
       "      <td>0</td>\n",
       "      <td>0</td>\n",
       "    </tr>\n",
       "    <tr>\n",
       "      <th>2</th>\n",
       "      <td>0</td>\n",
       "      <td>-1</td>\n",
       "      <td>1</td>\n",
       "      <td>0</td>\n",
       "      <td>-1</td>\n",
       "      <td>0</td>\n",
       "      <td>0</td>\n",
       "      <td>...</td>\n",
       "      <td>0</td>\n",
       "      <td>0</td>\n",
       "      <td>0</td>\n",
       "      <td>0</td>\n",
       "      <td>0</td>\n",
       "      <td>0</td>\n",
       "      <td>0</td>\n",
       "    </tr>\n",
       "    <tr>\n",
       "      <th>3</th>\n",
       "      <td>0</td>\n",
       "      <td>-1</td>\n",
       "      <td>0</td>\n",
       "      <td>1</td>\n",
       "      <td>-1</td>\n",
       "      <td>0</td>\n",
       "      <td>0</td>\n",
       "      <td>...</td>\n",
       "      <td>0</td>\n",
       "      <td>0</td>\n",
       "      <td>0</td>\n",
       "      <td>0</td>\n",
       "      <td>0</td>\n",
       "      <td>0</td>\n",
       "      <td>0</td>\n",
       "    </tr>\n",
       "    <tr>\n",
       "      <th>4</th>\n",
       "      <td>1</td>\n",
       "      <td>0</td>\n",
       "      <td>-1</td>\n",
       "      <td>-1</td>\n",
       "      <td>1</td>\n",
       "      <td>-1</td>\n",
       "      <td>0</td>\n",
       "      <td>...</td>\n",
       "      <td>0</td>\n",
       "      <td>0</td>\n",
       "      <td>0</td>\n",
       "      <td>0</td>\n",
       "      <td>0</td>\n",
       "      <td>0</td>\n",
       "      <td>0</td>\n",
       "    </tr>\n",
       "    <tr>\n",
       "      <th>...</th>\n",
       "      <td>...</td>\n",
       "      <td>...</td>\n",
       "      <td>...</td>\n",
       "      <td>...</td>\n",
       "      <td>...</td>\n",
       "      <td>...</td>\n",
       "      <td>...</td>\n",
       "      <td>...</td>\n",
       "      <td>...</td>\n",
       "      <td>...</td>\n",
       "      <td>...</td>\n",
       "      <td>...</td>\n",
       "      <td>...</td>\n",
       "      <td>...</td>\n",
       "      <td>...</td>\n",
       "    </tr>\n",
       "    <tr>\n",
       "      <th>43</th>\n",
       "      <td>0</td>\n",
       "      <td>0</td>\n",
       "      <td>0</td>\n",
       "      <td>0</td>\n",
       "      <td>0</td>\n",
       "      <td>0</td>\n",
       "      <td>0</td>\n",
       "      <td>...</td>\n",
       "      <td>-1</td>\n",
       "      <td>0</td>\n",
       "      <td>1</td>\n",
       "      <td>-1</td>\n",
       "      <td>0</td>\n",
       "      <td>0</td>\n",
       "      <td>0</td>\n",
       "    </tr>\n",
       "    <tr>\n",
       "      <th>44</th>\n",
       "      <td>0</td>\n",
       "      <td>0</td>\n",
       "      <td>0</td>\n",
       "      <td>0</td>\n",
       "      <td>0</td>\n",
       "      <td>0</td>\n",
       "      <td>0</td>\n",
       "      <td>...</td>\n",
       "      <td>0</td>\n",
       "      <td>-1</td>\n",
       "      <td>-1</td>\n",
       "      <td>1</td>\n",
       "      <td>-1</td>\n",
       "      <td>0</td>\n",
       "      <td>0</td>\n",
       "    </tr>\n",
       "    <tr>\n",
       "      <th>45</th>\n",
       "      <td>0</td>\n",
       "      <td>0</td>\n",
       "      <td>0</td>\n",
       "      <td>0</td>\n",
       "      <td>0</td>\n",
       "      <td>0</td>\n",
       "      <td>0</td>\n",
       "      <td>...</td>\n",
       "      <td>1</td>\n",
       "      <td>0</td>\n",
       "      <td>0</td>\n",
       "      <td>-1</td>\n",
       "      <td>2</td>\n",
       "      <td>0</td>\n",
       "      <td>0</td>\n",
       "    </tr>\n",
       "    <tr>\n",
       "      <th>46</th>\n",
       "      <td>0</td>\n",
       "      <td>0</td>\n",
       "      <td>0</td>\n",
       "      <td>0</td>\n",
       "      <td>0</td>\n",
       "      <td>0</td>\n",
       "      <td>0</td>\n",
       "      <td>...</td>\n",
       "      <td>0</td>\n",
       "      <td>0</td>\n",
       "      <td>0</td>\n",
       "      <td>0</td>\n",
       "      <td>0</td>\n",
       "      <td>10</td>\n",
       "      <td>0</td>\n",
       "    </tr>\n",
       "    <tr>\n",
       "      <th>47</th>\n",
       "      <td>0</td>\n",
       "      <td>0</td>\n",
       "      <td>0</td>\n",
       "      <td>0</td>\n",
       "      <td>0</td>\n",
       "      <td>0</td>\n",
       "      <td>0</td>\n",
       "      <td>...</td>\n",
       "      <td>0</td>\n",
       "      <td>0</td>\n",
       "      <td>0</td>\n",
       "      <td>0</td>\n",
       "      <td>0</td>\n",
       "      <td>0</td>\n",
       "      <td>10</td>\n",
       "    </tr>\n",
       "  </tbody>\n",
       "</table>\n",
       "<p>48 rows × 48 columns</p>\n",
       "</div>"
      ],
      "text/plain": [
       "    0   1   2   3   4   5   6   ...  41  42  43  44  45  46  47\n",
       "0    2  -1   0   0   1   0   0  ...   0   0   0   0   0   0   0\n",
       "1   -1   1  -1  -1   0   1   0  ...   0   0   0   0   0   0   0\n",
       "2    0  -1   1   0  -1   0   0  ...   0   0   0   0   0   0   0\n",
       "3    0  -1   0   1  -1   0   0  ...   0   0   0   0   0   0   0\n",
       "4    1   0  -1  -1   1  -1   0  ...   0   0   0   0   0   0   0\n",
       "..  ..  ..  ..  ..  ..  ..  ..  ...  ..  ..  ..  ..  ..  ..  ..\n",
       "43   0   0   0   0   0   0   0  ...  -1   0   1  -1   0   0   0\n",
       "44   0   0   0   0   0   0   0  ...   0  -1  -1   1  -1   0   0\n",
       "45   0   0   0   0   0   0   0  ...   1   0   0  -1   2   0   0\n",
       "46   0   0   0   0   0   0   0  ...   0   0   0   0   0  10   0\n",
       "47   0   0   0   0   0   0   0  ...   0   0   0   0   0   0  10\n",
       "\n",
       "[48 rows x 48 columns]"
      ]
     },
     "execution_count": 208,
     "metadata": {},
     "output_type": "execute_result"
    }
   ],
   "source": [
    "pd.set_option(\"display.max_rows\", 15, \"display.max_columns\", 15)\n",
    "pd.DataFrame(H_complete)"
   ]
  },
  {
   "cell_type": "code",
   "execution_count": 209,
   "metadata": {},
   "outputs": [
    {
     "name": "stdout",
     "output_type": "stream",
     "text": [
      "-3.3408476172483366\n",
      "(-3.340847617248337+0j)\n"
     ]
    }
   ],
   "source": [
    "e_comp,y_comp = np.linalg.eig(H_complete)\n",
    "\n",
    "print(np.sort(e_comp)[0])\n",
    "print(np.sort(e)[0])"
   ]
  },
  {
   "cell_type": "markdown",
   "metadata": {},
   "source": [
    "## The Anzatz circuit"
   ]
  },
  {
   "cell_type": "markdown",
   "metadata": {},
   "source": [
    "Here we define the paramaterized circuit which we will optimize. \n",
    "\n",
    "$$ U^b_i = \\prod_q R^y_q(\\phi_{q0}^b)\\prod_{q'}C_{4q',4q'+1}C_{4q'+3,4q'+2}\\prod_{q''}C_{4q''+1,4q''+2}C_{4q''+4,4q''+3} $$\n",
    "$$ U^b = \\prod_i U^b_i $$"
   ]
  },
  {
   "cell_type": "code",
   "execution_count": 210,
   "metadata": {},
   "outputs": [],
   "source": [
    "from qiskit import QuantumCircuit, QuantumRegister,ClassicalRegister, execute\n",
    "\n",
    "\n",
    "# the number of qubits is given by the size of the blocks\n",
    "# note: the size of the blocks has already been adjusted to fit the qubits\n",
    "Q = int(np.log2(len(blocks['0,0'].to_matrix())))\n"
   ]
  },
  {
   "cell_type": "code",
   "execution_count": 211,
   "metadata": {},
   "outputs": [],
   "source": [
    "def Ui(cir_i,phi_i):  \n",
    "    \n",
    "    for q in range(0,Q):\n",
    "        cir_i.ry(phi_i[q],q)\n",
    "    for q in range(0,Q,4):\n",
    "        cir_i.cx(q,q+1)\n",
    "        if q + 3 < Q:\n",
    "            cir_i.cx(q+3,q+2)\n",
    "    for q in range(1,Q,4):\n",
    "        cir_i.cx(q,q+1)\n",
    "        if q + 3 < Q:\n",
    "            cir_i.cx(q+3,q+2)\n",
    "    \n",
    "    return cir_i\n"
   ]
  },
  {
   "cell_type": "code",
   "execution_count": 212,
   "metadata": {},
   "outputs": [
    {
     "data": {
      "image/png": "[encoded data removed]",
      "text/plain": [
       "<Figure size 333.409x264.88 with 1 Axes>"
      ]
     },
     "execution_count": 212,
     "metadata": {},
     "output_type": "execute_result"
    }
   ],
   "source": [
    "qr = QuantumRegister(Q)\n",
    "cr = ClassicalRegister(Q)\n",
    "cir_i = QuantumCircuit(qr , cr)\n",
    "tst = Ui(cir_i,[0.2,0.3,0.4])\n",
    "\n",
    "tst.draw(output = 'mpl')"
   ]
  },
  {
   "cell_type": "code",
   "execution_count": 213,
   "metadata": {},
   "outputs": [],
   "source": [
    "def U(cir,phi_b):\n",
    "    T = len(phi_b)\n",
    "    for t in range(T):\n",
    "        cir = Ui(cir,phi_b[t])\n",
    "    return cir\n"
   ]
  },
  {
   "cell_type": "code",
   "execution_count": 214,
   "metadata": {},
   "outputs": [
    {
     "data": {
      "image/png": "[encoded data removed]",
      "text/plain": [
       "<Figure size 694.609x264.88 with 1 Axes>"
      ]
     },
     "execution_count": 214,
     "metadata": {},
     "output_type": "execute_result"
    }
   ],
   "source": [
    "qr = QuantumRegister(Q)\n",
    "cr = ClassicalRegister(Q)\n",
    "cir = QuantumCircuit(qr , cr)\n",
    "tst = U(cir,[[0.2,0.3,0.4],[0.5,0.6,0.7],[0.8,0.9,0.1]])\n",
    "\n",
    "tst.draw(output = 'mpl')"
   ]
  },
  {
   "cell_type": "markdown",
   "metadata": {},
   "source": [
    "In order to deal with off diagonal blocks, we will also need to form $$ U^{ab} = I\\otimes U^a + X \\otimes U^b$$\n",
    "\n",
    "In order to great this gate we need a controled-Ry gate.  The controled-Ry can be built as $C_{R_y}(\\phi) = R_y(\\phi/2)C_{NOT}R_y(-\\phi/2)C_{NOT}$"
   ]
  },
  {
   "cell_type": "code",
   "execution_count": 215,
   "metadata": {},
   "outputs": [],
   "source": [
    "def Ui_off(cir_i,phi_a, phi_b):  \n",
    "    \n",
    "    for q in range(0,Q):\n",
    "        cir_i.ry(phi_a[q],q)\n",
    "        cir_i.cx(Q,q)\n",
    "        cir_i.ry(-(phi_b[q]-phi_a[q])/2,q)\n",
    "        cir_i.cx(Q,q)\n",
    "        cir_i.ry((phi_b[q]-phi_a[q])/2,q)\n",
    "    for q in range(0,Q,4):\n",
    "        cir_i.cx(q,q+1)\n",
    "        if q + 3 < Q:\n",
    "            cir_i.cx(q+3,q+2)\n",
    "    for q in range(1,Q,4):\n",
    "        cir_i.cx(q,q+1)\n",
    "        if q + 3 < Q:\n",
    "            cir_i.cx(q+3,q+2)\n",
    "    \n",
    "    return cir_i"
   ]
  },
  {
   "cell_type": "code",
   "execution_count": 216,
   "metadata": {},
   "outputs": [
    {
     "data": {
      "image/png": "[encoded data removed]",
      "text/plain": [
       "<Figure size 875.209x325.08 with 1 Axes>"
      ]
     },
     "execution_count": 216,
     "metadata": {},
     "output_type": "execute_result"
    }
   ],
   "source": [
    "qr = QuantumRegister(Q+1)\n",
    "cr = ClassicalRegister(Q+1)\n",
    "cir_i = QuantumCircuit(qr , cr)\n",
    "tst = Ui_off(cir_i,[0.2,0.3,0.4],[2.2,0.7,0.1])\n",
    "\n",
    "tst.draw(output = 'mpl')"
   ]
  },
  {
   "cell_type": "markdown",
   "metadata": {},
   "source": [
    "Let's check to make sure we are generating the right thing"
   ]
  },
  {
   "cell_type": "code",
   "execution_count": 217,
   "metadata": {},
   "outputs": [
    {
     "name": "stdout",
     "output_type": "stream",
     "text": [
      "A:\n",
      "[0.68180665+0.j 0.01033899+0.j 0.02088826+0.j 0.01386716+0.j\n",
      " 0.13820905+0.j 0.00209582+0.j 0.103045  +0.j 0.06840885+0.j]\n",
      "B:\n",
      "[0.3009187 +0.j 0.21581687+0.j 0.00549678+0.j 0.02958631+0.j\n",
      " 0.01505849+0.j 0.01079984+0.j 0.1098439 +0.j 0.59123293+0.j]\n",
      "AB:\n",
      "[0.68180665+0.j 0.01033899+0.j 0.02088826+0.j 0.01386716+0.j\n",
      " 0.13820905+0.j 0.00209582+0.j 0.103045  +0.j 0.06840885+0.j\n",
      " 0.3009187 +0.j 0.21581687+0.j 0.00549678+0.j 0.02958631+0.j\n",
      " 0.01505849+0.j 0.01079984+0.j 0.1098439 +0.j 0.59123293+0.j]\n"
     ]
    }
   ],
   "source": [
    "#An example block a circuit\n",
    "qr = QuantumRegister(Q)\n",
    "cr = ClassicalRegister(Q)\n",
    "cir_i = QuantumCircuit(qr , cr)\n",
    "tst_a = Ui(cir_i,[0.2,0.3,0.4])\n",
    "\n",
    "#An example block b circuit\n",
    "qr = QuantumRegister(Q)\n",
    "cr = ClassicalRegister(Q)\n",
    "cir_i = QuantumCircuit(qr , cr)\n",
    "tst_b = Ui(cir_i,[2.2,0.7,0.1])\n",
    "\n",
    "#The combination of the two blocks\n",
    "qr = QuantumRegister(Q+1)\n",
    "cr = ClassicalRegister(Q+1)\n",
    "cir_i = QuantumCircuit(qr , cr)\n",
    "cir_i.h(Q)\n",
    "tst_off = Ui_off(cir_i,[0.2,0.3,0.4],[2.2,0.7,0.1])\n",
    "\n",
    "print('A:')\n",
    "print(1/np.sqrt(2)*qi.Statevector.from_instruction(tst_a).data)\n",
    "print('B:')\n",
    "print(1/np.sqrt(2)*qi.Statevector.from_instruction(tst_b).data)\n",
    "print('AB:')\n",
    "print(qi.Statevector.from_instruction(tst_off).data)"
   ]
  },
  {
   "cell_type": "code",
   "execution_count": 218,
   "metadata": {},
   "outputs": [],
   "source": [
    "def U_off(cir,phi_a,phi_b):\n",
    "    T = len(phi_b)\n",
    "    cir.h(Q)\n",
    "    for t in range(T):\n",
    "        cir = Ui_off(cir,phi_a[t],phi_b[t])\n",
    "    return cir"
   ]
  },
  {
   "cell_type": "code",
   "execution_count": 219,
   "metadata": {},
   "outputs": [
    {
     "data": {
      "image/png": "[encoded data removed]",
      "text/plain": [
       "<Figure size 1657.66x686.28 with 1 Axes>"
      ]
     },
     "execution_count": 219,
     "metadata": {},
     "output_type": "execute_result"
    }
   ],
   "source": [
    "qr = QuantumRegister(Q+1)\n",
    "cr = ClassicalRegister(Q+1)\n",
    "cir = QuantumCircuit(qr , cr)\n",
    "tst = U_off(cir,[[0.2,0.3,0.4],[0.5,0.6,0.7],[0.8,0.9,0.1]],[[2.2,1.3,0.1],[0.5,0.6,0.7],[0.5,0.2,0.4]])\n",
    "\n",
    "tst.draw(output = 'mpl')"
   ]
  },
  {
   "cell_type": "markdown",
   "metadata": {},
   "source": [
    "# Calculating E\n",
    "\n",
    "$$ E = \\sum_{ab}<\\psi^a|H_{ab}|\\psi^b> = \\sum_{ab}<000\\ldots|U^{\\dagger}(\\{\\phi^a\\})H_{ab}U(\\{\\phi^b\\})|000\\ldots>$$\n",
    "\n",
    "each $H_{ab}$ can be brocken down into its Puali components so that $H_{ab} = \\sum_p c_p P_{ab,p}$.  The we have\n",
    "\n",
    "$$ E = \\sum_{ab}\\sum_p c_p <000\\ldots|U^{\\dagger}(\\{\\phi^a\\})  P_{ab,p}U(\\{\\phi^b\\})|000\\ldots>$$.\n",
    "\n",
    "### !!! Issue: We only get counts from the quantum computer.  If $<\\psi^a|P_{ab,p}|\\psi^b> ~< 0$  we will not know !!!"
   ]
  },
  {
   "cell_type": "markdown",
   "metadata": {},
   "source": [
    "To fix the issue we need to go through the circuit and add a Hadamard gate on each qubit with an X (ect...) then take $(-1)^n$ where n is the number of up qubits with a Puali. \n",
    "\n",
    "for example:\n",
    "$$<\\psi|XZ|\\psi> = <(R^{\\dagger}_y(\\pi/2)\\otimes I)\\psi|R_y(\\pi/2)XR^{\\dagger}_y(\\pi/2)\\otimes Z|(R_y(\\pi/2)\\otimes I)\\psi>$$\n",
    "$$ = <(R_y(\\pi/2)\\otimes I)\\psi|ZZ|(R_y(\\pi/2)\\otimes I)\\psi>$$\n",
    "$$ = |<00|R^{\\dagger}_y(\\pi/2)\\psi>|^2 + (-1)^1|<10|R_y(\\pi/2) \\psi>|^2 + (-1)^1|<01|R_y(\\pi/2) \\psi>|^2 + (-1)^2|<11|R_y(\\pi/2) \\psi>|^2$$\n",
    "\n",
    "This unfortunetly does not work for $|\\psi^a> \\neq |\\psi_b>$\n",
    "\n"
   ]
  },
  {
   "cell_type": "code",
   "execution_count": 220,
   "metadata": {},
   "outputs": [
    {
     "name": "stdout",
     "output_type": "stream",
     "text": [
      "(0.7209464513295367+0j)\n",
      "0.7209464513295368\n",
      "0.740234375\n"
     ]
    }
   ],
   "source": [
    "from qiskit import Aer\n",
    "from qiskit.visualization import *\n",
    "from qiskit import quantum_info as qi\n",
    "\n",
    "def measure_pauli(p_label,psi0,method = 'simple'):\n",
    "    \n",
    "    #Simple method of calculation####\n",
    "    if method == 'simple':\n",
    "        wave0 = qi.Statevector.from_instruction(psi0)\n",
    "        Op = qi.Operator.from_label(p_label)\n",
    "        return np.dot(np.conjugate(wave0),np.dot(Op,wave0))\n",
    "    #################################\n",
    "        \n",
    "    #apply rotations#################\n",
    "    psi = copy.deepcopy(psi0)\n",
    "    pauli_qs = []\n",
    "    Z_label = ''\n",
    "    Q = len(p_label)\n",
    "    for q,p in enumerate(p_label):\n",
    "        if p == 'X':\n",
    "            psi.ry(-np.pi/2,Q-1-q)\n",
    "            pauli_qs.append(1)\n",
    "            Z_label += 'Z'\n",
    "        if p == 'Y':\n",
    "            psi.rx(np.pi/2,Q-1-q)\n",
    "            pauli_qs.append(1)\n",
    "            Z_label += 'Z'\n",
    "        if p == 'Z':\n",
    "            pauli_qs.append(1)\n",
    "            Z_label += 'Z'\n",
    "        if p == 'I':\n",
    "            pauli_qs.append(0)\n",
    "            Z_label += 'I'\n",
    "    ################################\n",
    "    \n",
    "    #Using matrix multiplication####\n",
    "    if method == 'matrix':\n",
    "        # add results\n",
    "        wave = qi.Statevector.from_instruction(psi)\n",
    "        r = wave.probabilities_dict()\n",
    "        z_measure = 0\n",
    "        for key in list(r.keys()):\n",
    "            n = 0\n",
    "            for q in range(len(key)):\n",
    "                if key[q] == '1' and pauli_qs[q] == 1:\n",
    "                    n += 1\n",
    "            z_measure += (-1)**n * r[key] \n",
    "        return z_measure\n",
    "    #################################\n",
    "    \n",
    "    #Using the qasm simulator########\n",
    "    if method == \"simulator\":\n",
    "        sim = Aer.get_backend(\"qasm_simulator\")\n",
    "        psi.measure(psi.qubits,psi.clbits)\n",
    "        r = execute(psi, backend = sim).result().get_counts()\n",
    "        z_measure = 0\n",
    "        total = 0\n",
    "        for key in list(r.keys()):\n",
    "            n = 0\n",
    "            for q in range(len(key)):\n",
    "                if key[q] == '1' and pauli_qs[q] == 1:\n",
    "                    n += 1\n",
    "            z_measure += (-1)**n * r[key] \n",
    "            total += r[key]\n",
    "        return z_measure/total\n",
    "    ###################################\n",
    "    \n",
    "    raise NameError(method + ' is not a recognized method')\n",
    "    return method + ' is not a recognized method'\n",
    "  \n",
    "\n",
    "#Run a test\n",
    "import copy\n",
    "qr = QuantumRegister(Q)\n",
    "cr = ClassicalRegister(Q)\n",
    "cir = QuantumCircuit(qr , cr)\n",
    "psi0 = U(cir,[[1.2,2.3,3.4]])\n",
    "p_label = blocks['0,0'][17].primitive.to_label()\n",
    "        \n",
    "    \n",
    "print( measure_pauli(p_label,psi0,method = 'simple') )\n",
    "print( measure_pauli(p_label,psi0,method = 'matrix') )\n",
    "print( measure_pauli(p_label,psi0,method = 'simulator') )\n",
    "#print( measure_pauli(p_label,psi0,method = 'Moon_Cheese') )"
   ]
  },
  {
   "cell_type": "markdown",
   "metadata": {},
   "source": [
    "In order to calculate things like \n",
    "$$<\\psi^a|ZZ|\\psi^b>$$ \n",
    "we will need to add another qubit and build the combined statevector \n",
    "$$ |\\psi^{ab}> = |0>|\\psi^a> + |1>|\\psi_b> $$\n",
    "then we can calculate\n",
    "$$ <\\psi^{ab}|X\\otimes ZZ|\\psi^{ab}> = <\\psi^{ab}|\\left(|1>ZZ|\\psi^a> + |0>ZZ|\\psi_b> \\right) = <\\psi^{a}|ZZ|\\psi^{b}> + <\\psi^{b}|ZZ|\\psi^{a}>  $$ \n",
    "\n",
    "In order to form the combined statevector we need to create a circuit which performs \n",
    "$$ U^{ab} = I\\otimes U^a + X \\otimes U^b$$\n",
    "In order to great this gate we need a controled-Ry gate.  We see below that the controled-Ry can be built as $C_{R_y}(\\phi) = R_y(\\phi/2)C_{NOT}R_y(-\\phi/2)C_{NOT}$"
   ]
  },
  {
   "cell_type": "code",
   "execution_count": 347,
   "metadata": {},
   "outputs": [
    {
     "name": "stdout",
     "output_type": "stream",
     "text": [
      "check: (3.7488886201049363+0j)\n",
      "simple: (3.7488886201049363+0j)\n",
      "matrix: 3.7488886201049354\n",
      "simulator: 3.8447265625\n"
     ]
    }
   ],
   "source": [
    "import random\n",
    "\n",
    "#number of blocks\n",
    "T = 1\n",
    "phi = []\n",
    "for b in range(bL):\n",
    "    phi_b = []\n",
    "    for t in range(T):\n",
    "        phi_t = []\n",
    "        for q in range(Q):\n",
    "            rand = random.random()\n",
    "            phi_t.append(rand)\n",
    "        phi_b.append(phi_t)\n",
    "    phi.append(phi_b)\n",
    "\n",
    "def E_on_block(phi_b,block,method = 'simple'):\n",
    "    E = 0\n",
    "    qr = QuantumRegister(Q)\n",
    "    cr = ClassicalRegister(Q)\n",
    "    cir = QuantumCircuit(qr , cr)\n",
    "    psi0 = U(cir,phi_b)\n",
    "    for p in block:\n",
    "        psi = copy.deepcopy(psi0)\n",
    "        w = p.coeff\n",
    "        p_label = p.primitive.to_label()\n",
    "        E_p = measure_pauli( p_label,psi,method = method)\n",
    "        E += w*E_p\n",
    "    return E\n",
    "        \n",
    "        \n",
    "block = blocks['0,0']\n",
    "phi_b = phi[0]\n",
    "\n",
    "M_b = block.to_matrix()\n",
    "qr = QuantumRegister(Q)\n",
    "cr = ClassicalRegister(Q)\n",
    "cir = QuantumCircuit(qr , cr)\n",
    "psi0 = U(cir,phi_b)\n",
    "wave = qi.Statevector.from_instruction(psi0).data\n",
    "print('check:',np.dot(np.conjugate(wave),np.dot(M_b,wave)))\n",
    "\n",
    "print('simple:',E_on_block(phi_b,block,method = 'simple'))\n",
    "print('matrix:',E_on_block(phi_b,block,method = 'matrix'))\n",
    "print('simulator:',E_on_block(phi_b,block,method = 'simulator'))\n",
    "#print('mooncheese:',E_on_block(phi_b,block,method = 'mooncheese'))"
   ]
  },
  {
   "cell_type": "code",
   "execution_count": 348,
   "metadata": {},
   "outputs": [
    {
     "name": "stdout",
     "output_type": "stream",
     "text": [
      "check: (-0.8056580405504832+0j)\n",
      "simple: (-0.8056580405504824+0j)\n",
      "matrix: -0.8056580405504826\n",
      "simulator: -0.791015625\n"
     ]
    }
   ],
   "source": [
    "def E_off_block(phi_a,phi_b,block,method = 'simple'):\n",
    "    E = 0\n",
    "    qr = QuantumRegister(Q+1)\n",
    "    cr = ClassicalRegister(Q+1)\n",
    "    cir = QuantumCircuit(qr , cr)\n",
    "    psi0 = U_off(cir,phi_a,phi_b)\n",
    "    for p in block:\n",
    "        psi = copy.deepcopy(psi0)\n",
    "        w = p.coeff\n",
    "        p_label = p.primitive.to_label()\n",
    "        E_p = measure_pauli('X' + p_label,psi,method = method)\n",
    "        E += w*E_p\n",
    "    return E\n",
    "\n",
    "block = blocks['0,1']\n",
    "phi_a = phi[0]\n",
    "phi_b = phi[1]\n",
    "M_b = block.to_matrix()\n",
    "#A\n",
    "qr = QuantumRegister(Q)\n",
    "cr = ClassicalRegister(Q)\n",
    "cir = QuantumCircuit(qr , cr)\n",
    "psi_a = U(cir,phi_a)\n",
    "wave_a = qi.Statevector.from_instruction(psi_a).data\n",
    "#B\n",
    "qr = QuantumRegister(Q)\n",
    "cr = ClassicalRegister(Q)\n",
    "cir = QuantumCircuit(qr , cr)\n",
    "psi_b = U(cir,phi_b)\n",
    "wave_b = qi.Statevector.from_instruction(psi_b).data\n",
    "print('check:',np.dot(np.conjugate(wave_a),np.dot(M_b,wave_b)))\n",
    "\n",
    "print('simple:',E_off_block(phi_a,phi_b,block,method = 'simple'))\n",
    "print('matrix:',E_off_block(phi_a,phi_b,block,method = 'matrix'))\n",
    "print('simulator:',E_off_block(phi_a,phi_b,block,method = 'simulator'))\n",
    "#print('mooncheese:',E_off_block(phi_a,phi_b,block,method = 'mooncheese'))"
   ]
  },
  {
   "cell_type": "markdown",
   "metadata": {},
   "source": [
    "Now we need to add all of the blocks together"
   ]
  },
  {
   "cell_type": "code",
   "execution_count": 349,
   "metadata": {},
   "outputs": [
    {
     "data": {
      "text/plain": [
       "(1.49590935260722+0j)"
      ]
     },
     "execution_count": 349,
     "metadata": {},
     "output_type": "execute_result"
    }
   ],
   "source": [
    "def find_E(phi,blocks,method = 'simple'):\n",
    "    E = 0\n",
    "    for key in list(blocks.keys()):\n",
    "        if key[0] == key[2]:\n",
    "            E += E_on_block(phi[int(key[0])],blocks[key],method = 'simple')\n",
    "        else:\n",
    "            E += 2*E_off_block(phi[int(key[0])],phi[int(key[2])],blocks[key],method = 'simple')\n",
    "    return E/bL\n",
    "            \n",
    "find_E(phi,blocks)"
   ]
  },
  {
   "cell_type": "code",
   "execution_count": 350,
   "metadata": {},
   "outputs": [
    {
     "data": {
      "text/plain": [
       "(1.4959093526072196+0j)"
      ]
     },
     "execution_count": 350,
     "metadata": {},
     "output_type": "execute_result"
    }
   ],
   "source": [
    "#Check against H_complete               \n",
    "wave_full = []\n",
    "for b in range(bL):\n",
    "    qr = QuantumRegister(Q)\n",
    "    cr = ClassicalRegister(Q)\n",
    "    cir = QuantumCircuit(qr , cr)\n",
    "    psi_b = U(cir,phi[b])\n",
    "    wave_b = qi.Statevector.from_instruction(psi_b).data\n",
    "    wave_full.append(wave_b)\n",
    "wave_full = np.array(wave_full).flatten()\n",
    "\n",
    "np.dot(np.conjugate(wave_full),np.dot(H_complete,wave_full))/bL\n"
   ]
  },
  {
   "cell_type": "markdown",
   "metadata": {},
   "source": [
    "First we need to inialize our set of parameters.  To do this we need to decide on the number of times we will apply Ui.  As a first attempt let's just have a depth of 1 (i.e. $U = Ui$).  \n",
    "\n",
    "In this case, we need a parameter for each qubit for each section."
   ]
  },
  {
   "cell_type": "code",
   "execution_count": 352,
   "metadata": {},
   "outputs": [
    {
     "data": {
      "text/plain": [
       "(-0.33333333333333304+0j)"
      ]
     },
     "execution_count": 352,
     "metadata": {},
     "output_type": "execute_result"
    }
   ],
   "source": [
    "#number of blocks\n",
    "T = 1\n",
    "\n",
    "phi = []\n",
    "for b in range(bL):\n",
    "    phi_b = []\n",
    "    for t in range(T):\n",
    "        phi_t = []\n",
    "        for q in range(Q):\n",
    "            phi_t.append(0)\n",
    "        phi_b.append(phi_t)\n",
    "    phi.append(phi_b)\n",
    "    \n",
    "find_E(phi,blocks)"
   ]
  },
  {
   "cell_type": "markdown",
   "metadata": {},
   "source": [
    "The structure of $\\phi_{b,t,q}$ is by section in the first index, by number of application of $U_i$ in the second index, and by qubit in the third index\n"
   ]
  },
  {
   "cell_type": "markdown",
   "metadata": {},
   "source": [
    "# Optimization"
   ]
  },
  {
   "cell_type": "markdown",
   "metadata": {},
   "source": [
    "I will be using the simultaneous perturbation stochastic approximation algorithm.  The algorithm works by calculating the gradiant of the cost function $E(\\hat{\\phi})$ by randomly purturbating all parameters in $\\hat{\\phi}$\n",
    "\n",
    "Let $\\hat{\\Delta}_k$ be a set of randomly selected purturbations during step $k$ of the algorithm. I will use the Bernoulli distribution to select $\\hat{\\Delta}_k$.  Then the gradient is \n",
    "$$ \\hat{g}_k(\\hat{\\phi}_k) = \\frac{E(\\hat{\\phi}_k + c_k \\hat{\\Delta}_k)-E(\\hat{\\phi}_k - c_k \\hat{\\Delta}_k)}{2 c_k} \\hat{\\Delta}_k$$.\n",
    "The gradiant is then used to update the parameters \n",
    "$$ \\hat{\\phi}_{k+1} = \\hat{\\phi}_k - a_k \\hat{g}_k(\\hat{\\phi}_k) $$\n",
    "\n",
    "$c_k$ and $a_k$ decrease with each iteration of the algorithm so that we zero in on the the minimum of $E$.  They are given by\n",
    "$$c_k = \\frac{c}{(k+1)^{\\gamma}}$$\n",
    "$$a_k = \\frac{a}{(A+k+1)^{\\alpha}}$$\n",
    "where $a$, $A$, $\\alpha$, $c$, and $\\gamma$ are choosen at the begining of the algorithm."
   ]
  },
  {
   "cell_type": "code",
   "execution_count": 353,
   "metadata": {},
   "outputs": [],
   "source": [
    "import copy"
   ]
  },
  {
   "cell_type": "code",
   "execution_count": 354,
   "metadata": {},
   "outputs": [],
   "source": [
    "def SPSA(k_max,method = 'simple',hold = False):\n",
    "    #Initalization\n",
    "    k = 0\n",
    "    #alpha = 0.602\n",
    "    alpha = 0.201\n",
    "    A = 10\n",
    "    a = 0.6\n",
    "    gamma = 0.101\n",
    "    c = 0.4\n",
    "    phi_k = np.array(phi)\n",
    "    E_l = []\n",
    "    hold_l = []\n",
    "    \n",
    "    #Begin Iterations\n",
    "    for k in range(k_max):\n",
    "        #Update c and a\n",
    "        a_k = a/((A + k + 1)**alpha)\n",
    "        c_k = c/((k + 1)**gamma)\n",
    "\n",
    "        #Find Delta\n",
    "        Delta_k = np.array(phi_k)\n",
    "        for b in range(bL):\n",
    "            for t in range(T):\n",
    "                for q in range(Q):\n",
    "                    Delta_k[b][t][q] = 1 - 2*np.random.binomial(size=None, n=1, p= 0.5)\n",
    "            \n",
    "        #Find E    \n",
    "        E_A = find_E(phi_k + c_k*Delta_k, blocks, method = method)\n",
    "        E_B = find_E(phi_k - c_k*Delta_k, blocks, method = method)\n",
    "        \n",
    "        #Calculate gradiant\n",
    "        g = np.real((E_A-E_B)/(2*c_k)) \n",
    "        g_k = g * Delta_k\n",
    "        phi_k = phi_k - a_k * g_k\n",
    "\n",
    "        \n",
    "        #Calculate new E\n",
    "        E_f = np.real(find_E(phi_k, blocks, method = method))\n",
    "        \n",
    "        #Print and save E\n",
    "        print('k=',k,'c_k=',c_k,'a_k=',a_k,'g=',g,'E_A=',E_A,'E_B=',E_B,'E_f=',E_f)\n",
    "        E_l.append(E_f)\n",
    "        \n",
    "        if hold == True:\n",
    "            hold_k = {'E':E_f,'c':c_k,'a':a_k,'phi':phi_k,'Delta':Delta_k}\n",
    "            hold_l.append(hold_k)\n",
    "    if hold == True:\n",
    "        return hold_l\n",
    "    else:\n",
    "        return E_l,phi_k"
   ]
  },
  {
   "cell_type": "code",
   "execution_count": null,
   "metadata": {
    "scrolled": true
   },
   "outputs": [
    {
     "name": "stdout",
     "output_type": "stream",
     "text": [
      "k= 0 c_k= 0.4 a_k= 0.37053677789517936 g= -0.2753036308908079 E_A= (0.34055204817135465+0j) E_B= (0.5607949528840009+0j) E_f= -0.3117312530140122\n",
      "k= 1 c_k= 0.372954594574733 a_k= 0.36411269399518237 g= 0.6300308621301521 E_A= (0.5630175738340282+0j) E_B= (0.0930717643233874+0j) E_f= -0.2110001511379681\n",
      "k= 2 c_k= 0.3579898757427053 a_k= 0.35830150846605 g= -0.779475792226973 E_A= (0.13327439724488446+0j) E_B= (0.6913632812524462+0j) E_f= -0.04960104723265098\n",
      "k= 3 c_k= 0.34773782403600867 a_k= 0.3530039095073033 g= -0.8415037294212352 E_A= (0.26795191078091474+0j) E_B= (0.8531972623551678+0j) E_f= 0.14566577951807347\n",
      "k= 4 c_k= 0.33998833831625347 a_k= 0.3481423907099719 g= 0.13259479621027687 E_A= (0.7562668824706008+0j) E_B= (0.6661055136047722+0j) E_f= 0.1468179601166446\n",
      "k= 5 c_k= 0.3337849224236992 a_k= 0.3436553693939271 g= 1.3421876807342692 E_A= (1.0333464115465065+0j) E_B= (0.1373423897626409+0j) E_f= 0.34560087804495265\n",
      "k= 6 c_k= 0.32862839767254015 a_k= 0.3394931510171673 g= 0.01797556319468083 E_A= (0.8742980292951331+0j) E_B= (0.8624834682352742+0j) E_f= 0.34610913480869754\n",
      "k= 7 c_k= 0.3242260479541237 a_k= 0.33561508800432555 g= -0.19944328690900337 E_A= (0.663898742166779+0j) E_B= (0.7932281595777522+0j) E_f= 0.3476044421591476\n",
      "k= 8 c_k= 0.3203918778356939 a_k= 0.3319875341277904 g= -0.7012205425641742 E_A= (0.5210598167272273+0j) E_B= (0.9703905495454271+0j) E_f= 0.3978509697784312\n",
      "k= 9 c_k= 0.3170005321921887 a_k= 0.3285823423742081 g= 0.31270571155196897 E_A= (0.8551647951158112+0j) E_B= (0.6569090411527888+0j) E_f= 0.4145603840299189\n",
      "k= 10 c_k= 0.31396362164265085 a_k= 0.32537574248024465 g= 0.7716321076653205 E_A= (0.9011973633620407+0j) E_B= (0.41666854116532887+0j) E_f= 0.36694370268603343\n",
      "k= 11 c_k= 0.31121655104422363 a_k= 0.32234748901110455 g= -0.8890742591919536 E_A= (0.4192368898577321+0j) E_B= (0.972626138993568+0j) E_f= 0.3894359266916286\n",
      "k= 12 c_k= 0.3087107214903736 a_k= 0.31948020567017194 g= 0.24873384182661545 E_A= (0.7923834124097258+0j) E_B= (0.6388098048709919+0j) E_f= 0.3865881343861278\n",
      "k= 13 c_k= 0.3064086770492659 a_k= 0.31675887422872395 g= -1.1134213087885152 E_A= (0.4676038122525708+0j) E_B= (1.149927712701273+0j) E_f= 0.5580881135095992\n",
      "k= 14 c_k= 0.30428095746951106 a_k= 0.3141704315882842 g= -0.6822837699853496 E_A= (0.7169957004595391+0j) E_B= (1.1322076180536387+0j) E_f= 0.597264689053816\n",
      "k= 15 c_k= 0.3023039856632453 a_k= 0.3117034487615564 g= -0.5443029923869847 E_A= (0.7505892336019305+0j) E_B= (1.0796791616159636+0j) E_f= 0.6059169184439794\n",
      "k= 16 c_k= 0.30045860758866744 a_k= 0.309347872660659 g= -0.056260802979957954 E_A= (0.8874582673334679+0j) E_B= (0.9212663523838249+0j) E_f= 0.6060341001560637\n",
      "k= 17 c_k= 0.2987290572581215 a_k= 0.30709481657168264 g= 0.9676821486365346 E_A= (1.1515400325184078+0j) E_B= (0.573390480542997+0j) E_f= 0.5721407360324388\n",
      "k= 18 c_k= 0.29710220679082217 a_k= 0.30493638875269324 g= -0.4534738306859781 E_A= (0.8249982477755111+0j) E_B= (1.0944543994128946+0j) E_f= 0.5837762381875372\n",
      "k= 19 c_k= 0.29556701240928085 a_k= 0.3028655511638008 g= -0.02720212172738707 E_A= (0.8940071241707349+0j) E_B= (0.9100872238710497+0j) E_f= 0.5845904914939493\n",
      "k= 20 c_k= 0.2941140981207925 a_k= 0.30087600221972294 g= -1.2020919352180937 E_A= (0.5666435758204231+0j) E_B= (1.2737479465903185+0j) E_f= 0.6528993361794586\n",
      "k= 21 c_k= 0.2927354380523743 a_k= 0.29896207884836035 g= 0.040407498751113304 E_A= (0.9820747409310291+0j) E_B= (0.9584173272360133+0j) E_f= 0.6536758996640293\n",
      "k= 22 c_k= 0.29142411071599983 a_k= 0.2971186741813143 g= -0.3426380180001872 E_A= (0.8748402802563298+0j) E_B= (1.0745462396427243+0j) E_f= 0.6596538181131898\n",
      "k= 23 c_k= 0.2901741065491128 a_k= 0.2953411679901029 g= 0.7672255193158796 E_A= (1.2072877640514337+0j) E_B= (0.7620298048731048+0j) E_f= 0.6832050978734323\n",
      "k= 24 c_k= 0.2889801754776181 a_k= 0.29362536758281893 g= 0.9331006569145494 E_A= (1.1448733673343106+0j) E_B= (0.6055781841874162+0j) E_f= 0.6002885716124807\n",
      "k= 25 c_k= 0.28783770493578903 a_k= 0.2919674573384438 g= -0.802578186310906 E_A= (0.6260186494573132+0j) E_B= (1.0880431758158318+0j) E_f= 0.5849512354579472\n",
      "k= 26 c_k= 0.2867426213384302 a_k= 0.29036395541481486 g= -0.10816047200745686 E_A= (0.8702214393297086+0j) E_B= (0.9322498738669488+0j) E_f= 0.58686642243942\n",
      "k= 27 c_k= 0.2856913098077231 a_k= 0.2888116764467441 g= -1.3023465596274 E_A= (0.4565377797713609+0j) E_B= (1.2006759686584287+0j) E_f= 0.5073298356184415\n",
      "k= 28 c_k= 0.28468054825101563 a_k= 0.2873076992716592 g= -0.4156506423263318 E_A= (0.5634789194007086+0j) E_B= (0.8001342248774025+0j) E_f= 0.4878872496631697\n",
      "k= 29 c_k= 0.2837074528246327 a_k= 0.2858493388952498 g= -1.1269876586907503 E_A= (0.3834017383122381+0j) E_B= (1.0228713343361369+0j) E_f= 0.41122742246651234\n",
      "k= 30 c_k= 0.2827694325084489 a_k= 0.28443412204933055 g= -0.8668357003266984 E_A= (0.40755840206360505+0j) E_B= (0.8977876801824938+0j) E_f= 0.38306454237081394\n",
      "k= 31 c_k= 0.2818641510284039 a_k= 0.2830597658063005 g= -0.20931687827741985 E_A= (0.5846418663943251+0j) E_B= (0.7026397147774865+0j) E_f= 0.3820110319695007\n",
      "k= 32 c_k= 0.28098949474895574 a_k= 0.2817241588051502 g= -0.606954055244863 E_A= (0.3949614349934652+0j) E_B= (0.7360568616316329+0j) E_f= 0.3471219711386631\n",
      "k= 33 c_k= 0.28014354544930065 a_k= 0.2804253447174913 g= -0.6480782202022034 E_A= (0.33896595349246195+0j) E_B= (0.7020758141642977+0j) E_f= 0.29893203316946476\n",
      "k= 34 c_k= 0.2793245571205497 a_k= 0.2791615076420886 g= -0.40502580479961175 E_A= (0.3689578080561525+0j) E_B= (0.5952251151522441+0j) E_f= 0.28296121900987764\n",
      "k= 35 c_k= 0.2785309360934873 a_k= 0.27793095916558136 g= -0.317079237159799 E_A= (0.3771086306448906+0j) E_B= (0.553741384128746+0j) E_f= 0.2787716006844285\n",
      "k= 36 c_k= 0.277761223940729 a_k= 0.2767321268676262 g= -2.555570658393632 E_A= (-0.309815046382359+0j) E_B= (1.1098618215025007+0j) E_f= -0.26623934123311555\n",
      "k= 37 c_k= 0.27701408270232386 a_k= 0.2755635440822508 g= -0.4707935699460805 E_A= (-0.247283604440856+0j) E_B= (0.013549293400675677+0j) E_f= -0.29484827002411346\n",
      "k= 38 c_k= 0.2762882820669494 a_k= 0.2744238407551038 g= -0.5240274722204188 E_A= (-0.18980391441396485+0j) E_B= (0.09976138569736623+0j) E_f= -0.30767991776060544\n",
      "k= 39 c_k= 0.27558268820692106 a_k= 0.27331173525956215 g= -1.1793028077761036 E_A= (-0.3664858611092148+0j) E_B= (0.28350501484460217+0j) E_f= -0.3191205753822108\n",
      "k= 40 c_k= 0.27489625401810586 a_k= 0.27222602705416843 g= 0.19368610198857827 E_A= (-0.006956158665123298+0j) E_B= (-0.11344332644918123+0j) E_f= -0.32145049730471453\n",
      "k= 41 c_k= 0.2742280105583835 a_k= 0.2711655900802725 g= -0.52008748159471 E_A= (-0.17008386259000358+0j) E_B= (0.11516124819807079+0j) E_f= -0.31818615593680993\n",
      "k= 42 c_k= 0.2735770595127504 a_k= 0.2701293668125993 g= -1.8056490401771659 E_A= (-0.6072633764226629+0j) E_B= (0.38070493342471534+0j) E_f= -0.4459352347017227\n",
      "k= 43 c_k= 0.27294256654120025 a_k= 0.26911636288719304 g= 0.5355458577499197 E_A= (0.03163270106480855+0j) E_B= (-0.2607138207647347+0j) E_f= -0.4269623688032548\n",
      "k= 44 c_k= 0.27232375538845416 a_k= 0.268125642241155 g= 1.779727833244968 E_A= (0.3671428424591985+0j) E_B= (-0.6021814917780539+0j) E_f= -0.3442687693433158\n",
      "k= 45 c_k= 0.27171990265346957 a_k= 0.267156322707084 g= 0.9185192254236709 E_A= (0.1190631382545232+0j) E_B= (-0.38009677078039705+0j) E_f= -0.3973419517112885\n",
      "k= 46 c_k= 0.2711303331322349 a_k= 0.2662075720123982 g= -1.172231478257586 E_A= (-0.42744012537054854+0j) E_B= (0.20821489704559437+0j) E_f= -0.3730637026188158\n",
      "k= 47 c_k= 0.2705544156602744 a_k= 0.2652786041399415 g= -1.1632958726843743 E_A= (-0.4018299229532102+0j) E_B= (0.22763974719504945+0j) E_f= -0.36214322695427\n",
      "k= 48 c_k= 0.269991559392053 a_k= 0.26436867601164055 g= 0.010220297358873597 E_A= (-0.08586768768961606+0j) E_B= (-0.09138647573236158+0j) E_f= -0.36228366516839944\n",
      "k= 49 c_k= 0.26944121046347563 a_k= 0.26347708446159496 g= 0.8341296900172634 E_A= (0.10133090906339137+0j) E_B= (-0.34816691766015895+0j) E_f= -0.3931442254281825\n",
      "k= 50 c_k= 0.26890284899123323 a_k= 0.2626031634689808 g= -0.896963587137778 E_A= (-0.3774492322473365+0j) E_B= (0.10494289579815311+0j) E_f= -0.4021631314911557\n",
      "k= 51 c_k= 0.268375986369122 a_k= 0.2617462816246101 g= -0.35736038552257293 E_A= (-0.2279355329932895+0j) E_B= (-0.03612164108554905+0j) E_f= -0.40341064279171324\n"
     ]
    },
    {
     "name": "stdout",
     "output_type": "stream",
     "text": [
      "k= 52 c_k= 0.267860162826851 a_k= 0.2609058398079971 g= -0.20299149175992068 E_A= (-0.18718102277551243+0j) E_B= (-0.07843435470495697+0j) E_f= -0.40705961583470085\n",
      "k= 53 c_k= 0.26735494522142605 a_k= 0.26008126905440593 g= -0.25225274528803726 E_A= (-0.28013700863881313+0j) E_B= (-0.14525497084193806+0j) E_f= -0.41189654047020646\n",
      "k= 54 c_k= 0.2668599250350944 a_k= 0.2592720285936403 g= 0.42828221350789125 E_A= (-0.08070522405457181+0j) E_B= (-0.30928794283573213+0j) E_f= -0.4279519134512948\n",
      "k= 55 c_k= 0.26637471655715955 a_k= 0.25847760404433856 g= -0.48144286342489667 E_A= (-0.33268220849071095+0j) E_B= (-0.07619379592416271+0j) E_f= -0.4358129196355532\n",
      "k= 56 c_k= 0.2658989552298248 a_k= 0.2576975057492954 g= 0.5608780257215308 E_A= (-0.07117917468630808+0j) E_B= (-0.36945293678775176+0j) E_f= -0.4559979837554553\n",
      "k= 57 c_k= 0.26543229614067565 a_k= 0.2569312672388709 g= 0.7700609882675101 E_A= (-0.04237356354624081+0j) E_B= (-0.45117167611464704+0j) E_f= -0.48318213486377426\n",
      "k= 58 c_k= 0.26497441264651617 a_k= 0.2561784438109081 g= -0.7432757657640812 E_A= (-0.479118189794243+0j) E_B= (-0.08522007085878909+0j) E_f= -0.5193889468631513\n",
      "k= 59 c_k= 0.2645249951151027 a_k= 0.2554386112167778 g= -1.3451302396949392 E_A= (-0.7115469113863996+0j) E_B= (9.422878256185965e-05+0j) E_f= -0.6996505951721851\n",
      "k= 60 c_k= 0.26408374977289106 a_k= 0.25471136444422837 g= 0.13878970407532806 E_A= (-0.47784607543750723+0j) E_B= (-0.5511502864016723+0j) E_f= -0.7031321172858584\n",
      "k= 61 c_k= 0.26365039764828974 a_k= 0.2539963165886551 g= -0.9480428470379858 E_A= (-0.716549099628776+0j) E_B= (-0.21664535241041266+0j) E_f= -0.7365458422438551\n",
      "k= 62 c_k= 0.2632246736011008 a_k= 0.2532930978052379 g= -0.6722198999248937 E_A= (-0.7346832777615747+0j) E_B= (-0.3807935502697851+0j) E_f= -0.7753541067113333\n",
      "k= 63 c_k= 0.26280632542987425 a_k= 0.2526013543351309 g= 0.3304239156337287 E_A= (-0.5121625573745077+0j) E_B= (-0.6858375475782097+0j) E_f= -0.7862644611814369\n",
      "k= 64 c_k= 0.2623951130498096 a_k= 0.2519207475995509 g= 0.17806955798626387 E_A= (-0.5367691197985991+0j) E_B= (-0.6302182833956698+0j) E_f= -0.7872482737063957\n",
      "k= 65 c_k= 0.2619908077346396 a_k= 0.2512509533561924 g= -0.011702602375827544 E_A= (-0.6335261289065873+0j) E_B= (-0.6273941804085066+0j) E_f= -0.7871398156985088\n",
      "k= 66 c_k= 0.2615931914166275 a_k= 0.25059166091292473 g= -0.44932826076961113 E_A= (-0.7455195429525011+0j) E_B= (-0.5104371154956907+0j) E_f= -0.805883013177629\n",
      "k= 67 c_k= 0.26120205603943053 a_k= 0.24994257239419304 g= -0.0840671392889155 E_A= (-0.6638654681230403+0j) E_B= (-0.6199484488678044+0j) E_f= -0.8060606522497404\n",
      "k= 68 c_k= 0.2608172029591229 a_k= 0.2493034020559649 g= 0.23262027542213434 E_A= (-0.5760383041976881+0j) E_B= (-0.6973810433720519+0j) E_f= -0.8137957037725672\n",
      "k= 69 c_k= 0.26043844238915365 a_k= 0.24867387564544055 g= -0.07889997635851685 E_A= (-0.6496571764022061+0j) E_B= (-0.6085600025074998+0j) E_f= -0.8148885724212958\n",
      "k= 70 c_k= 0.26006559288543923 a_k= 0.24805372980208248 g= -0.6609911766297322 E_A= (-0.7658371933738872+0j) E_B= (-0.4220350688893765+0j) E_f= -0.8405731177613234\n",
      "k= 71 c_k= 0.25969848086816855 a_k= 0.24744271149682437 g= 0.30807047159502665 E_A= (-0.5444895041048926+0j) E_B= (-0.70450037105203+0j) E_f= -0.8464094241612197\n",
      "k= 72 c_k= 0.2593369401772328 a_k= 0.2468405775065927 g= 0.304363156553053 E_A= (-0.5706571455590637+0j) E_B= (-0.7285223650053694+0j) E_f= -0.8541130916929405\n",
      "k= 73 c_k= 0.2589808116584905 a_k= 0.2462470939215218 g= 0.5826342736065847 E_A= (-0.433794590894824+0j) E_B= (-0.7355767850522007+0j) E_f= -0.8577308146409992\n",
      "k= 74 c_k= 0.25862994277834417 a_k= 0.2456620356824657 g= 0.40387308104646336 E_A= (-0.5043690580020597+0j) E_B= (-0.7132764016835804+0j) E_f= -0.8589496121493527\n",
      "k= 75 c_k= 0.25828418726434194 a_k= 0.24508518614661196 g= 0.12833817307016654 E_A= (-0.5718305442735222+0j) E_B= (-0.638125985726359+0j) E_f= -0.8589791559459595\n",
      "k= 76 c_k= 0.25794340476973 a_k= 0.24451633667918504 g= -0.5893518621207263 E_A= (-0.8412787756518212+0j) E_B= (-0.53723992380622+0j) E_f= -0.8878514120724545\n",
      "k= 77 c_k= 0.25760746056007144 a_k= 0.2439552862693924 g= 0.6548065358493161 E_A= (-0.496920553889611+0j) E_B= (-0.8342866516061704+0j) E_f= -0.9020974073773209\n",
      "k= 78 c_k= 0.25727622522021726 a_k= 0.24340184116891617 g= 1.2099351002477965 E_A= (-0.4220125780051463+0j) E_B= (-1.0445876487115426+0j) E_f= -1.0408021592846213\n",
      "k= 79 c_k= 0.2569495743800682 a_k= 0.24285581455139074 g= 1.1270999091554479 E_A= (-0.49540994000969724+0j) E_B= (-1.0746256238923089+0j) E_f= -1.057396369760971\n",
      "k= 80 c_k= 0.2566273884577055 a_k= 0.2423170261914289 g= 0.12854523232180085 E_A= (-0.8538672990808621+0j) E_B= (-0.9198437536197277+0j) E_f= -1.061540326768172\n",
      "k= 81 c_k= 0.2563095524185887 a_k= 0.24178530216187363 g= -0.04407778778697552 E_A= (-0.8850757879510704+0j) E_B= (-0.862480671832508+0j) E_f= -1.0612694051027685\n",
      "k= 82 c_k= 0.2559959555496353 a_k= 0.24126047454805513 g= 1.4090229464617399 E_A= (-0.4143641355191172+0j) E_B= (-1.1357724866607886+0j) E_f= -1.0349706250357509\n",
      "k= 83 c_k= 0.2556864912470938 a_k= 0.2407423811779259 g= -0.3824150988745748 E_A= (-0.9047086320315849+0j) E_B= (-0.709151882369284+0j) E_f= -1.0414061005757755\n",
      "k= 84 c_k= 0.2553810568172158 a_k= 0.24023086536703334 g= -0.598383909246142 E_A= (-1.025529109852817+0j) E_B= (-0.7198972796014236+0j) E_f= -1.080003608229718\n",
      "k= 85 c_k= 0.25507955328881354 a_k= 0.2397257756773677 g= 1.6583419011520388 E_A= (-0.49595850974094496+0j) E_B= (-1.3419767324329126+0j) E_f= -1.3585095806398266\n",
      "k= 86 c_k= 0.2547818852368658 a_k= 0.2392269656891939 g= -0.16052403348333277 E_A= (-1.1767513436985102+0j) E_B= (-1.0949541119450916+0j) E_f= -1.3588444609284784\n",
      "k= 87 c_k= 0.2544879606164011 a_k= 0.2387342937850429 g= 0.08561166034317899 E_A= (-1.126467896910125+0j) E_B= (-1.1700421706015642+0j) E_f= -1.3599919954209647\n",
      "k= 88 c_k= 0.25419769060595165 a_k= 0.23824762294509752 g= 0.021664362486836147 E_A= (-1.1469764482967248+0j) E_B= (-1.1579905101219328+0j) E_f= -1.3597939098622043\n",
      "k= 89 c_k= 0.2539109894599242 a_k= 0.23776682055326365 g= 0.21560496647912386 E_A= (-1.033017093166356+0j) E_B= (-1.1425060339087323+0j) E_f= -1.3590710461821636\n",
      "k= 90 c_k= 0.25362777436928824 a_k= 0.23729175821326742 g= 0.4588909220015375 E_A= (-1.003526681602457+0j) E_B= (-1.2363016480534983+0j) E_f= -1.3636761458346087\n",
      "k= 91 c_k= 0.2533479653300266 a_k= 0.23682231157416733 g= -0.09316258263304147 E_A= (-1.2456470656727743+0j) E_B= (-1.1984419641628312+0j) E_f= -1.3648467473300105\n",
      "k= 92 c_k= 0.25307148501883725 a_k= 0.23635836016471182 g= 0.2697273405438926 E_A= (-1.1376136170320015+0j) E_B= (-1.2741342142752505+0j) E_f= -1.3695446542941518\n"
     ]
    }
   ],
   "source": [
    "El,psi_f = SPSA(100,method = 'simple',hold = False)"
   ]
  },
  {
   "cell_type": "code",
   "execution_count": null,
   "metadata": {},
   "outputs": [],
   "source": [
    "import matplotlib.pyplot as plt\n",
    "\n",
    "tl = [i for i in range(len(El))]\n",
    "\n",
    "plt.plot(tl,El)"
   ]
  },
  {
   "cell_type": "code",
   "execution_count": 355,
   "metadata": {},
   "outputs": [],
   "source": [
    "import pickle\n",
    "\n",
    "file_to_read = open(\"VQE_Example.pickle\", \"rb\")\n",
    "\n",
    "loaded_object = pickle.load(file_to_read)"
   ]
  },
  {
   "cell_type": "code",
   "execution_count": null,
   "metadata": {},
   "outputs": [],
   "source": [
    "def SPSA_from_load(k_max,method = 'simple',hold = False):\n",
    "    #Initalization\n",
    "    k = 0\n",
    "    #alpha = 0.602\n",
    "    alpha = 0.201\n",
    "    A = 10\n",
    "    a = 0.6\n",
    "    gamma = 0.101\n",
    "    c = 0.4\n",
    "    phi_k = np.array(phi)\n",
    "    E_l = []\n",
    "    hold_l = []\n",
    "    \n",
    "    #Begin Iterations\n",
    "    for k in range(k_max):\n",
    "        #Update c and a\n",
    "        a_k = a/((A + k + 1)**alpha)\n",
    "        c_k = c/((k + 1)**gamma)\n",
    "\n",
    "        #Find Delta\n",
    "        Delta_k = loaded_object[k]['Delta']\n",
    "        \n",
    "            \n",
    "        #Find E    \n",
    "        E_A = find_E(phi_k + c_k*Delta_k, blocks, method = method)\n",
    "        E_B = find_E(phi_k - c_k*Delta_k, blocks, method = method)\n",
    "        \n",
    "        #Calculate gradiant\n",
    "        g = np.real((E_A-E_B)/(2*c_k)) \n",
    "        g_k = g * Delta_k\n",
    "        phi_k = phi_k - a_k * g_k\n",
    "\n",
    "        \n",
    "        #Calculate new E\n",
    "        E_f = np.real(find_E(phi_k, blocks, method = method))\n",
    "        \n",
    "        #Print and save E\n",
    "        print('k=',k,'c_k=',c_k,'a_k=',a_k,'g=',g,'E_A=',E_A,'E_B=',E_B,'E_f=',E_f)\n",
    "        E_l.append(E_f)\n",
    "        \n",
    "        if hold == True:\n",
    "            hold_k = {'E':E_f,'c':c_k,'a':a_k,'phi':phi_k,'Delta':Delta_k}\n",
    "            hold_l.append(hold_k)\n",
    "    if hold == True:\n",
    "        return hold_l\n",
    "    else:\n",
    "        return E_l,phi_k"
   ]
  },
  {
   "cell_type": "code",
   "execution_count": null,
   "metadata": {},
   "outputs": [],
   "source": [
    "El,psi_f = SPSA_from_load(500,method = 'simple',hold = False)"
   ]
  },
  {
   "cell_type": "code",
   "execution_count": null,
   "metadata": {},
   "outputs": [],
   "source": [
    "import matplotlib.pyplot as plt\n",
    "\n",
    "tl = [i for i in range(len(El))]\n",
    "\n",
    "plt.plot(tl,El)"
   ]
  },
  {
   "cell_type": "code",
   "execution_count": 30,
   "metadata": {},
   "outputs": [
    {
     "data": {
      "text/plain": [
       "'C:\\\\Users\\\\jsten\\\\IBMQ\\\\Hubbard_symmetries'"
      ]
     },
     "execution_count": 30,
     "metadata": {},
     "output_type": "execute_result"
    }
   ],
   "source": [
    "pwd"
   ]
  }
 ],
 "metadata": {
  "kernelspec": {
   "display_name": "Python [conda env:qiskit_25v]",
   "language": "python",
   "name": "conda-env-qiskit_25v-py"
  },
  "language_info": {
   "codemirror_mode": {
    "name": "ipython",
    "version": 3
   },
   "file_extension": ".py",
   "mimetype": "text/x-python",
   "name": "python",
   "nbconvert_exporter": "python",
   "pygments_lexer": "ipython3",
   "version": "3.9.4"
  }
 },
 "nbformat": 4,
 "nbformat_minor": 4
}
