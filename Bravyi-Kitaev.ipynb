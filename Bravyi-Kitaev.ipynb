{
 "cells": [
  {
   "cell_type": "code",
   "execution_count": 8,
   "metadata": {},
   "outputs": [],
   "source": [
    "from qiskit import IBMQ, transpile, assemble, schedule\n",
    "from qiskit.circuit import Parameter, QuantumCircuit\n",
    "#from qiskit.quantum_info import Pauli\n",
    "\n",
    "from qiskit_nature.operators.second_quantization import FermionicOp\n",
    "from qiskit_nature.mappers.second_quantization import FermionicMapper, JordanWignerMapper, BravyiKitaevMapper\n",
    "from qiskit_nature.converters.second_quantization.qubit_converter import QubitConverter\n",
    "\n",
    "from qiskit.opflow import (I, X, Y, Z, Zero, One, MatrixEvolution, PauliTrotterEvolution, Suzuki,\n",
    "                           StateFn, Zero, One, PauliExpectation, PauliOp, SummedOp, OperatorBase)\n",
    "\n",
    "import numpy as np\n",
    "import scipy.linalg as lng\n",
    "import matplotlib.pyplot as plt\n",
    "plt.style.use('dark_background')\n",
    "plt.rcParams['figure.figsize'] = [5, 5]"
   ]
  },
  {
   "cell_type": "code",
   "execution_count": 54,
   "metadata": {},
   "outputs": [],
   "source": [
    "htst = FermionicOp('+IIIIIIII-')\n",
    "htst = FermionicOp('IIIIINIIII')\n",
    "htst = FermionicOp('IIIIIII+-I')"
   ]
  },
  {
   "cell_type": "code",
   "execution_count": 55,
   "metadata": {},
   "outputs": [
    {
     "name": "stdout",
     "output_type": "stream",
     "text": [
      "0.25 * XXXIIIIIII\n",
      "+ -0.25j * XYXIIIIIII\n",
      "+ 0.25j * XXYZZIZIII\n",
      "+ 0.25 * XYYZZIZIII\n"
     ]
    }
   ],
   "source": [
    "mapper = JordanWignerMapper()\n",
    "mapper = BravyiKitaevMapper()\n",
    "converter = QubitConverter(mapper=mapper, two_qubit_reduction=True)\n",
    "\n",
    "ht_pauli = converter.convert(htst)\n",
    "\n",
    "print(ht_pauli)\n"
   ]
  },
  {
   "cell_type": "code",
   "execution_count": 138,
   "metadata": {},
   "outputs": [],
   "source": [
    "def parity_set(j, n):\n",
    "    \"\"\"\n",
    "    Computes the parity set of the j-th orbital in n modes.\n",
    "\n",
    "    Args:\n",
    "        j (int) : the orbital index\n",
    "        n (int) : the total number of modes\n",
    "\n",
    "    Returns:\n",
    "        numpy.ndarray: Array of mode indices\n",
    "    \"\"\"\n",
    "    \n",
    "    indices = np.array([])\n",
    "    if n % 2 != 0:\n",
    "        return indices\n",
    "\n",
    "    if j < n / 2:\n",
    "        indices = np.append(indices, parity_set(j, n / 2))\n",
    "        #print(\"j =\", j, \", n =\", n, \", set = \", indices)\n",
    "    else:\n",
    "        indices = np.append(indices, np.append(\n",
    "            parity_set(j - n / 2, n / 2) + n / 2, n / 2 - 1))\n",
    "        #print(\"j =\", j, \", n =\", n, \", set = \", indices)\n",
    "    return indices\n",
    "\n",
    "def update_set(j, n):\n",
    "    \"\"\"\n",
    "    Computes the update set of the j-th orbital in n modes.\n",
    "\n",
    "    Args:\n",
    "        j (int) : the orbital index\n",
    "        n (int) : the total number of modes\n",
    "\n",
    "    Returns:\n",
    "        numpy.ndarray: Array of mode indices\n",
    "    \"\"\"\n",
    "    indices = np.array([])\n",
    "    if n % 2 != 0:\n",
    "        return indices\n",
    "    if j < n / 2:\n",
    "        indices = np.append(indices, np.append(\n",
    "            n - 1, update_set(j, n / 2)))\n",
    "        #print(\"j =\", j, \", n =\", n, \", set = \", indices)\n",
    "    else:\n",
    "        indices = np.append(indices, update_set(j - n / 2, n / 2) + n / 2)\n",
    "        #print(\"j =\", j, \", n =\", n, \", set = \", indices)\n",
    "    return indices\n",
    "\n",
    "def flip_set(j, n):\n",
    "    \"\"\"\n",
    "    Computes the flip set of the j-th orbital in n modes.\n",
    "\n",
    "    Args:\n",
    "        j (int) : the orbital index\n",
    "        n (int) : the total number of modes\n",
    "\n",
    "    Returns:\n",
    "        numpy.ndarray: Array of mode indices\n",
    "    \"\"\"\n",
    "    indices = np.array([])\n",
    "    if n % 2 != 0:\n",
    "        return indices\n",
    "    if j < n / 2:\n",
    "        indices = np.append(indices, flip_set(j, n / 2))\n",
    "        #print(\"j =\", j, \", n =\", n, \", set = \", indices)\n",
    "    elif n / 2 <= j < n - 1:\n",
    "        indices = np.append(indices, flip_set(j - n / 2, n / 2) + n / 2)\n",
    "        #print(\"j =\", j, \", n =\", n, \", set = \", indices)\n",
    "    else:\n",
    "        indices = np.append(np.append(indices, flip_set(\n",
    "            j - n / 2, n / 2) + n / 2), n / 2 - 1)\n",
    "        #print(\"j =\", j, \", n =\", n, \", set = \", indices)\n",
    "    return indices\n"
   ]
  },
  {
   "cell_type": "code",
   "execution_count": 171,
   "metadata": {},
   "outputs": [
    {
     "data": {
      "text/plain": [
       "array([4.])"
      ]
     },
     "execution_count": 171,
     "metadata": {},
     "output_type": "execute_result"
    }
   ],
   "source": [
    "flip_set(5,16)"
   ]
  },
  {
   "cell_type": "code",
   "execution_count": 172,
   "metadata": {},
   "outputs": [
    {
     "data": {
      "text/plain": [
       "array([15.,  7.])"
      ]
     },
     "execution_count": 172,
     "metadata": {},
     "output_type": "execute_result"
    }
   ],
   "source": [
    "update_set(5,16)"
   ]
  },
  {
   "cell_type": "code",
   "execution_count": 170,
   "metadata": {},
   "outputs": [
    {
     "data": {
      "text/plain": [
       "array([4., 3.])"
      ]
     },
     "execution_count": 170,
     "metadata": {},
     "output_type": "execute_result"
    }
   ],
   "source": [
    "parity_set(5,16)"
   ]
  },
  {
   "cell_type": "code",
   "execution_count": 173,
   "metadata": {},
   "outputs": [
    {
     "name": "stdout",
     "output_type": "stream",
     "text": [
      "0.5j * XIIIIIIIXIYIZIII\n",
      "+ 0.5 * XIIIIIIIXIXZZIII\n"
     ]
    }
   ],
   "source": [
    "htst = FermionicOp('IIIII+IIIIIIIIII')\n",
    "\n",
    "mapper = BravyiKitaevMapper()\n",
    "converter = QubitConverter(mapper=mapper, two_qubit_reduction=True)\n",
    "\n",
    "ht_pauli = converter.convert(htst)\n",
    "\n",
    "print(ht_pauli)\n"
   ]
  },
  {
   "cell_type": "code",
   "execution_count": 183,
   "metadata": {},
   "outputs": [
    {
     "data": {
      "text/plain": [
       "'XIIIIIIIXIIIXXZI'"
      ]
     },
     "execution_count": 183,
     "metadata": {},
     "output_type": "execute_result"
    }
   ],
   "source": [
    "def gx_BK(i,n):\n",
    "    U = update_set(i,n)\n",
    "    P = parity_set(i,n)\n",
    "    F = flip_set(i,n)\n",
    "    label = ['I' for j in range(n)]\n",
    "    label[i] = 'X'\n",
    "    for j in U:\n",
    "        label[int(j)] = 'X'\n",
    "    for j in P:\n",
    "        label[int(j)] = 'Z'\n",
    "    label = np.flip(label)\n",
    "    out = ''\n",
    "    for l in label:\n",
    "        out = out +l\n",
    "    return out\n",
    "\n",
    "def gy_BK(i,n):\n",
    "    U = update_set(i,n)\n",
    "    P = parity_set(i,n)\n",
    "    F = flip_set(i,n)\n",
    "    label = ['I' for j in range(n)]\n",
    "    label[i] = 'Y'\n",
    "    for j in U:\n",
    "            label[int(j)] = 'X'\n",
    "    if i%2 == 0:\n",
    "        for j in P:\n",
    "            label[int(j)] = 'Z'\n",
    "    else:\n",
    "        for j in P:\n",
    "            if j not in F:\n",
    "                label[int(j)] = 'Z'\n",
    "    label = np.flip(label)\n",
    "    out = ''\n",
    "    for l in label:\n",
    "        out = out +l\n",
    "    return out\n",
    "               "
   ]
  },
  {
   "cell_type": "code",
   "execution_count": 249,
   "metadata": {},
   "outputs": [
    {
     "name": "stdout",
     "output_type": "stream",
     "text": [
      "XIIIIIIIXIXZZIII\n",
      "XIIIIIIIXIYIZIII\n"
     ]
    }
   ],
   "source": [
    "print(gx_BK(5,16))\n",
    "print(gy_BK(5,16))"
   ]
  },
  {
   "cell_type": "code",
   "execution_count": 250,
   "metadata": {},
   "outputs": [
    {
     "name": "stdout",
     "output_type": "stream",
     "text": [
      "0.5j * XIIIIIIIXIYIZIII\n",
      "+ 0.5 * XIIIIIIIXIXZZIII\n"
     ]
    }
   ],
   "source": [
    "htst = FermionicOp('IIIII+IIIIIIIIII')\n",
    "\n",
    "mapper = BravyiKitaevMapper()\n",
    "converter = QubitConverter(mapper=mapper, two_qubit_reduction=True)\n",
    "\n",
    "ht_pauli = converter.convert(htst)\n",
    "\n",
    "print(ht_pauli)"
   ]
  },
  {
   "cell_type": "code",
   "execution_count": null,
   "metadata": {},
   "outputs": [],
   "source": []
  },
  {
   "cell_type": "code",
   "execution_count": null,
   "metadata": {},
   "outputs": [],
   "source": []
  },
  {
   "cell_type": "code",
   "execution_count": null,
   "metadata": {},
   "outputs": [],
   "source": []
  },
  {
   "cell_type": "code",
   "execution_count": null,
   "metadata": {},
   "outputs": [],
   "source": []
  }
 ],
 "metadata": {
  "kernelspec": {
   "display_name": "Python [conda env:qiskit_25v]",
   "language": "python",
   "name": "conda-env-qiskit_25v-py"
  },
  "language_info": {
   "codemirror_mode": {
    "name": "ipython",
    "version": 3
   },
   "file_extension": ".py",
   "mimetype": "text/x-python",
   "name": "python",
   "nbconvert_exporter": "python",
   "pygments_lexer": "ipython3",
   "version": "3.9.4"
  }
 },
 "nbformat": 4,
 "nbformat_minor": 4
}
