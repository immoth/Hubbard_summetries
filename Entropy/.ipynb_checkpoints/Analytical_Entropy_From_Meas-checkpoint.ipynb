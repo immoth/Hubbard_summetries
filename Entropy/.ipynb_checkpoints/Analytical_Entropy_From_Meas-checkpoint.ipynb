{
 "cells": [
  {
   "cell_type": "markdown",
   "id": "9b7910eb",
   "metadata": {},
   "source": [
    "# Adding Entropy\n",
    "\n",
    "The idea is to add entropy into the system by measuring the state in a controlled way. If we know that a qubit is up than measuring it adds no entorpy.  On the other hand, if we apply a hadamard gate to a qubit and then measure it, we add $$ S =  -\\ln{{2}}$$ to the system.\n",
    "\n",
    "Furthermore, if we apply Hadamard gates to N qubits and measure those qubits, we add $$ S = -N\\ln{2} $$ to the system."
   ]
  },
  {
   "cell_type": "code",
   "execution_count": 3,
   "id": "4f69f656",
   "metadata": {},
   "outputs": [],
   "source": [
    "from Define_Paulis import I, X, Y, Z, Mdot, bkt\n",
    "import numpy as np\n",
    "import scipy.linalg as ln"
   ]
  },
  {
   "cell_type": "code",
   "execution_count": 4,
   "id": "5fa9833e",
   "metadata": {},
   "outputs": [],
   "source": [
    "def H(i,N):\n",
    "    return 1/np.sqrt(2)*(Z(i,N) + X(i,N))\n",
    "\n",
    "def RH(theta,i,N):\n",
    "    return Mdot([Z(i,N),np.cos(theta/2)*I(N) - 1j*np.sin(theta/2)*Y(i,N)])"
   ]
  },
  {
   "cell_type": "markdown",
   "id": "60d7c682",
   "metadata": {},
   "source": [
    "Using Hadamard gates we can only apply entropy in integer multiples of $\\ln{2}$.  If we want to add a generalized amount of entropy, we have to use a continuous rotation.  Let's use $$ R_H(\\phi) = Z(\\cos(\\phi/2)I - i\\sin(\\phi/2)Y) $$ which becomes the Hadamard gate at $\\phi = -\\pi/2$.\n",
    "\n",
    "If we apply this gate to a qubit and then measure it, we add $$ S = -\\cos(\\phi/2)^2 \\ln{\\cos(\\phi/2)^2} - \\sin(\\phi/2)^2 \\ln{\\sin(\\phi/2)^2} $$\n",
    "\n",
    "Therefore, we can apply $N$ Hadamard gates and 1 $R_H$ gate to add an arbitrary amount of entropy $$ S = N\\ln{2} - \\cos(\\phi/2)^2 \\ln{\\cos(\\phi/2)^2} - \\sin(\\phi/2)^2 \\ln{\\sin(\\phi/2)^2}. $$\n",
    "\n",
    "One could apply multiple $R_H$ gates but the entropy becomes exponentially hard to calculate."
   ]
  },
  {
   "cell_type": "code",
   "execution_count": 5,
   "id": "3efe59fd",
   "metadata": {},
   "outputs": [],
   "source": [
    "def S(rho):\n",
    "    e,y = ln.eig(rho)\n",
    "    s = -sum([np.round( (e[n]+10**-28)*np.log(e[n]+10**(-28)) , 8) for n in range(len(e))])\n",
    "    return s\n",
    "\n",
    "def Sa(phil,il):\n",
    "    el = [1]\n",
    "    for i in il:\n",
    "        eli = []\n",
    "        for e in el:\n",
    "            ea = e*np.cos(phil[i]/2)**2\n",
    "            eb = e*np.sin(phil[i]/2)**2\n",
    "            eli.append(ea)\n",
    "            eli.append(eb)\n",
    "        el = eli\n",
    "    #print(el)\n",
    "    s = -sum([np.round( (el[n]+10**-28)*np.log(el[n]+10**(-28)) , 8) for n in range(len(el))])\n",
    "    return s\n",
    "\n",
    "def M(il,N):\n",
    "    Ml = [I(N)]\n",
    "    for i in il:  \n",
    "        M2 = []\n",
    "        for M in Ml:\n",
    "            Ma = 1/2*Mdot([M,(I(N)+Z(i,N))])\n",
    "            Mb = 1/2*Mdot([M,(I(N)-Z(i,N))])\n",
    "            M2.append(Ma)\n",
    "            M2.append(Mb)\n",
    "        Ml = M2\n",
    "    return Ml\n",
    "\n",
    "def Meas(rho,il):\n",
    "    N = int(np.log2(len(rho)))\n",
    "    ml = M(il,N)\n",
    "    rho_new = 0*rho\n",
    "    for m in ml:\n",
    "        rho_new = rho_new + Mdot([m,rho,m])\n",
    "    return rho_new"
   ]
  },
  {
   "cell_type": "code",
   "execution_count": 6,
   "id": "2a412d94",
   "metadata": {},
   "outputs": [
    {
     "name": "stdout",
     "output_type": "stream",
     "text": [
      "norm:  (0.9999999999999998+0j)\n"
     ]
    }
   ],
   "source": [
    "def rho(N):\n",
    "    r = np.array( [[0 for i in range(2**N)] for j in range(2**N)] )\n",
    "    r[0,0] = 1\n",
    "    return r\n",
    "\n",
    "N=3\n",
    "rho0 = rho(N)\n",
    "phil = [-np.pi/2,-np.pi/2,2.7]\n",
    "rho1 = Mdot([RH(phil[2],2,N),RH(phil[1],1,N),RH(phil[0],0,N),rho0,RH(phil[0],0,N),RH(phil[1],1,N),RH(phil[2],2,N)])\n",
    "\n",
    "rho2 = Meas(rho1,[0,1,2])\n",
    "\n",
    "print( 'norm: ',sum([rho2[i,i] for i in range(len(rho2))]) )\n",
    "#print(rho2)"
   ]
  },
  {
   "cell_type": "code",
   "execution_count": 7,
   "id": "694342da",
   "metadata": {},
   "outputs": [
    {
     "data": {
      "text/plain": [
       "(1.57877028-0j)"
      ]
     },
     "execution_count": 7,
     "metadata": {},
     "output_type": "execute_result"
    }
   ],
   "source": [
    "S(rho2)"
   ]
  },
  {
   "cell_type": "code",
   "execution_count": 8,
   "id": "40ac673f",
   "metadata": {},
   "outputs": [
    {
     "data": {
      "text/plain": [
       "1.57877028"
      ]
     },
     "execution_count": 8,
     "metadata": {},
     "output_type": "execute_result"
    }
   ],
   "source": [
    "Sa(phil,[0,1,2])"
   ]
  },
  {
   "cell_type": "code",
   "execution_count": 10,
   "id": "dcfd5dfc",
   "metadata": {},
   "outputs": [
    {
     "name": "stdout",
     "output_type": "stream",
     "text": [
      "max entropy:  2.0794415416798357\n"
     ]
    }
   ],
   "source": [
    "print('max entropy: ', -np.log((1/2)**N))"
   ]
  },
  {
   "cell_type": "code",
   "execution_count": 11,
   "id": "aa1c4f05",
   "metadata": {},
   "outputs": [],
   "source": [
    "sa0 = [Sa([0.0,0.0,0.0],[0,1,2]) for i in range(0,21)]\n",
    "sa01 = [Sa([0.0,0.0,np.pi/10*i],[0,1,2]) for i in range(0,21)]\n",
    "sa1 = [Sa([-np.pi/2,0.0,0.0],[0,1,2]) for i in range(0,21)]\n",
    "sa12 = [Sa([-np.pi/2,0.0,np.pi/10*i],[0,1,2]) for i in range(0,21)]\n",
    "sa2 = [Sa([-np.pi/2,-np.pi/2,0.0],[0,1,2]) for i in range(0,21)]\n",
    "sa23 = [Sa([-np.pi/2,-np.pi/2,np.pi/10*i],[0,1,2]) for i in range(0,21)]\n",
    "sa3 = [Sa([-np.pi/2,-np.pi/2,-np.pi/2],[0,1,2]) for i in range(0,21)]"
   ]
  },
  {
   "cell_type": "code",
   "execution_count": 12,
   "id": "ac9f9a40",
   "metadata": {},
   "outputs": [
    {
     "data": {
      "text/plain": [
       "[<matplotlib.lines.Line2D at 0x7fd4b91c1a50>]"
      ]
     },
     "execution_count": 12,
     "metadata": {},
     "output_type": "execute_result"
    },
    {
     "data": {
      "image/png": "[encoded data removed]",
      "text/plain": [
       "<Figure size 432x288 with 1 Axes>"
      ]
     },
     "metadata": {
      "needs_background": "light"
     },
     "output_type": "display_data"
    }
   ],
   "source": [
    "import matplotlib.pyplot as plt\n",
    "\n",
    "plt.plot(sa0)\n",
    "plt.plot(sa01)\n",
    "plt.plot(sa1)\n",
    "plt.plot(sa12)\n",
    "plt.plot(sa2)\n",
    "plt.plot(sa23)\n",
    "plt.plot(sa3)"
   ]
  },
  {
   "cell_type": "code",
   "execution_count": null,
   "id": "f5d4e8cf",
   "metadata": {},
   "outputs": [],
   "source": []
  }
 ],
 "metadata": {
  "kernelspec": {
   "display_name": "qiskit_3.5",
   "language": "python",
   "name": "qiskit_3.5"
  },
  "language_info": {
   "codemirror_mode": {
    "name": "ipython",
    "version": 3
   },
   "file_extension": ".py",
   "mimetype": "text/x-python",
   "name": "python",
   "nbconvert_exporter": "python",
   "pygments_lexer": "ipython3",
   "version": "3.10.4"
  },
  "toc": {
   "base_numbering": 1,
   "nav_menu": {},
   "number_sections": true,
   "sideBar": true,
   "skip_h1_title": false,
   "title_cell": "Table of Contents",
   "title_sidebar": "Contents",
   "toc_cell": false,
   "toc_position": {},
   "toc_section_display": true,
   "toc_window_display": false
  }
 },
 "nbformat": 4,
 "nbformat_minor": 5
}
