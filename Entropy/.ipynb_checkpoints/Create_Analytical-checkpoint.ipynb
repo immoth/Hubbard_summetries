{
 "cells": [
  {
   "cell_type": "markdown",
   "id": "9b457165",
   "metadata": {},
   "source": [
    "# Create Analytical Checks"
   ]
  },
  {
   "cell_type": "code",
   "execution_count": 23,
   "id": "f8458a38",
   "metadata": {},
   "outputs": [],
   "source": [
    "#%%writefile Define_Translator.py\n",
    "\n",
    "import scipy.linalg as ln\n",
    "import numpy as np\n",
    "\n",
    "def ketbra(psia,psib):\n",
    "    out = [[0 for i in range(len(psia))] for j in range(len(psib))]\n",
    "    for i in range(len(psia)):\n",
    "        for j in range(len(psib)):\n",
    "            out[i][j] = psia[i]*np.conjugate( psib[j] )\n",
    "    return np.array(out)\n",
    "            \n",
    "def S(rho):\n",
    "    e,y = ln.eig(rho)\n",
    "    s = -sum([np.round( (e[n]+10**-28)*np.log(e[n]+10**(-28)) , 8) for n in range(len(e))])\n",
    "    return s\n",
    "\n",
    "def FreeE(T,H,rho):\n",
    "    #print('H: ',np.trace(Mdot([H,rho])))\n",
    "    #print('S: ', + T*S(rho))\n",
    "    return np.trace(Mdot([H,rho])) - T*S(rho)\n",
    "    \n",
    "\n",
    "def rho(a,b,c,d):\n",
    "    rho0 = a*ketbra(psi[arg[0]],psi[arg[0]]) + b*ketbra(psi[arg[1]],psi[arg[1]]) + c*ketbra(psi[arg[2]],psi[arg[2]]) + d*ketbra(psi[arg[3]],psi[arg[3]])\n",
    "    rho0 = rho0/np.trace(rho0)\n",
    "    return rho0\n",
    "\n",
    "def rho_op(H,T):\n",
    "    e,y = ln.eig(H)\n",
    "    arg = np.argsort(e)\n",
    "    psi = np.conjugate(np.transpose(y))\n",
    "    rho = 0 \n",
    "    for n in range(len(e)):\n",
    "        rho += np.exp( -e[arg[n]]/T )*ketbra(psi[arg[n]],psi[arg[n]])\n",
    "    return rho\n",
    "\n",
    "def S_op(H,T):\n",
    "    e,y = ln.eig(H)\n",
    "    arg = np.argsort(e)\n",
    "    psi = np.conjugate(np.transpose(y))\n",
    "    so = 0\n",
    "    for n in range(len(e)):\n",
    "        so += e[n]/T * np.exp(-e[n]/T)\n",
    "    return so\n",
    "    "
   ]
  },
  {
   "cell_type": "code",
   "execution_count": 29,
   "id": "e9f0a043",
   "metadata": {},
   "outputs": [
    {
     "name": "stdout",
     "output_type": "stream",
     "text": [
      "(-2.456928173188693+0j)\n",
      "(-2.4569281700000003-0j)\n"
     ]
    }
   ],
   "source": [
    "from Define_Paulis import Z,X,Mdot\n",
    "\n",
    "H = Z(0,2) + Z(1,2) + 0.3*Mdot([X(0,2),X(1,2)])\n",
    "T = 2.0\n",
    "\n",
    "print(S_op(H,T))\n",
    "print( S(rho_op(H,T)) )"
   ]
  },
  {
   "cell_type": "code",
   "execution_count": null,
   "id": "6ff1d47f",
   "metadata": {},
   "outputs": [],
   "source": []
  }
 ],
 "metadata": {
  "kernelspec": {
   "display_name": "qiskit_3.5",
   "language": "python",
   "name": "qiskit_3.5"
  },
  "language_info": {
   "codemirror_mode": {
    "name": "ipython",
    "version": 3
   },
   "file_extension": ".py",
   "mimetype": "text/x-python",
   "name": "python",
   "nbconvert_exporter": "python",
   "pygments_lexer": "ipython3",
   "version": "3.10.4"
  },
  "toc": {
   "base_numbering": 1,
   "nav_menu": {},
   "number_sections": true,
   "sideBar": true,
   "skip_h1_title": false,
   "title_cell": "Table of Contents",
   "title_sidebar": "Contents",
   "toc_cell": false,
   "toc_position": {},
   "toc_section_display": true,
   "toc_window_display": false
  }
 },
 "nbformat": 4,
 "nbformat_minor": 5
}
