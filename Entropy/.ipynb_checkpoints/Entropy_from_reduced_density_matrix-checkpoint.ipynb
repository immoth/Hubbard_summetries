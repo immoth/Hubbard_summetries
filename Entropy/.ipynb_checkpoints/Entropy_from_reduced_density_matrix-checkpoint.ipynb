{
 "cells": [
  {
   "cell_type": "markdown",
   "id": "0ef6825d",
   "metadata": {},
   "source": [
    "# Entropy in the reduced density matrix\n",
    "\n",
    "The reduced density matrix is given as,\n",
    "$$ \\rho_A = Tr_B \\rho =  \\sum_{i\\in B} <i|\\psi><\\psi|i> $$\n",
    "\n",
    "\n",
    "If we have two modes which are completely uncorrelated $$ |\\psi> = \\frac{1}{2}(|00> + |01> + |10> + |11>) $$ then the reduced density matrix is a pure state,\n",
    "$$ \\rho_A = <0|_B |\\psi><\\psi| |0>_B + <1|_B |\\psi><\\psi| |1>_B = \\frac{1}{4}(|0> + |1>)(<0| + <1|) + \\frac{1}{4}(|0> + |1>)(<0| + <1|) = \\frac{1}{2}(|0> + |1>)(<0| + <1|) $$\n",
    "which has no entropy. \n",
    "\n",
    "Conversely, if the two modes have some correletion $$ |\\psi> = \\frac{1}{2}(|00> + |01> + |10> - |11>) $$ then the reduced density  matrix is a mixed state,\n",
    "$$ \\rho_A = <0|_B |\\psi><\\psi| |0>_B + <1|_B |\\psi><\\psi| |1>_B = \\frac{1}{4}(|0> + |1>)(<0| + <1|) + \\frac{1}{4}(|0> - |1>)(<0| - <1|) = \\frac{1}{2} |0> <0| + |1><1| $$"
   ]
  },
  {
   "cell_type": "markdown",
   "id": "01e37684",
   "metadata": {},
   "source": [
    "Interestingly, this entropy can be reversed by applying $1-2\\hat{n}_A \\hat{n}_B$ to the system.  "
   ]
  },
  {
   "cell_type": "code",
   "execution_count": 226,
   "id": "2ea8926f",
   "metadata": {},
   "outputs": [],
   "source": [
    "import numpy as np\n",
    "from Define_Paulis import I,X,Y,Z,n,c,cd, Mdot,bkt\n",
    "import scipy.linalg as ln\n",
    "\n",
    "def dgr(O):\n",
    "    return np.conjugate(np.transpose(O))\n",
    "\n",
    "def rho(psi):\n",
    "    r = [[ np.conjugate(psi[i])*psi[j] for i in range(len(psi))] for j in range(len(psi))]\n",
    "    return r\n",
    "\n",
    "def remove_collumns(O):\n",
    "    Onew = []\n",
    "    for i in range(len(O)):\n",
    "        if sum(O[i]) > 0:\n",
    "            Onew.append(O[i])\n",
    "    Onew = np.array(Onew)\n",
    "    return Onew\n",
    "            \n",
    "def projectors(B_set,N):\n",
    "    p_set = [I(N)]\n",
    "    for i in B_set:\n",
    "        pnew = []\n",
    "        for o in p_set:\n",
    "            onew =  Mdot([n(i,N),o])\n",
    "            pnew.append(onew)\n",
    "        for o in pnew:\n",
    "            p_set.append(o)\n",
    "    p_set.pop(0)\n",
    "    return p_set\n",
    "\n",
    "def projectors(B_set,N):\n",
    "    Nb = len(B_set)\n",
    "    on_set = [n(i,N) for i in B_set]\n",
    "    off_set = [I(N)-n(i,N) for i in B_set]\n",
    "    pset = [I(N)]\n",
    "    for i in range(Nb):\n",
    "        pset_new = []\n",
    "        for p in pset:\n",
    "            pset_new.append(Mdot([on_set[i],p]))\n",
    "            pset_new.append(Mdot([off_set[i],p]))\n",
    "        pset = pset_new\n",
    "    return pset\n",
    "\n",
    "def rhoA(rho,B_set):\n",
    "    N = int(np.log2(len(rho)))\n",
    "    Na = N - len(B_set)\n",
    "    Pl = projectors(B_set,N)\n",
    "    rhoa = [[0 for i in range(2**Na)] for j in range(2**Na)]\n",
    "    for P in Pl:\n",
    "        P1 = remove_collumns(P)\n",
    "        rhoa = rhoa + Mdot([P1,rho,dgr(P1)])\n",
    "    return rhoa\n",
    "        \n",
    "def S(rho):\n",
    "    e,y = ln.eig(rho)\n",
    "    s = -sum([np.round( (e[n]+10**-28)*np.log(e[n]+10**(-28)) , 8) for n in range(len(e))])\n",
    "    return s\n"
   ]
  },
  {
   "cell_type": "code",
   "execution_count": 227,
   "id": "ab097f36",
   "metadata": {},
   "outputs": [
    {
     "name": "stdout",
     "output_type": "stream",
     "text": [
      "[[0.5+0.j 0.5+0.j]\n",
      " [0.5+0.j 0.5+0.j]]\n",
      "\n",
      "[[0.5+0.j 0. +0.j]\n",
      " [0. +0.j 0.5+0.j]]\n",
      "(-0-0j)\n",
      "(0.69314718-0j)\n"
     ]
    }
   ],
   "source": [
    "\n",
    "psi1 = 1/2*np.array([1,1,1,1])\n",
    "\n",
    "O = I(2) - 2*Mdot([n(0,2),n(1,2)])\n",
    "\n",
    "psi2 = Mdot([O,psi1]) \n",
    "\n",
    "rho1 = rho(psi1)\n",
    "rho2 = rho(psi2)\n",
    "\n",
    "rho1A = rhoA(rho1,[1])\n",
    "rho2A = rhoA(rho2,[1])\n",
    "\n",
    "print(rho1A)\n",
    "print()\n",
    "print(rho2A)\n",
    "\n",
    "print( S(rho1A) )\n",
    "print( S(rho2A) )"
   ]
  },
  {
   "cell_type": "markdown",
   "id": "f03a43e6",
   "metadata": {},
   "source": [
    "Now let us do some dynamics with $H = - n_1 n_2 $ and we will see that the entropy both increases and decreases."
   ]
  },
  {
   "cell_type": "code",
   "execution_count": 228,
   "id": "d2552462",
   "metadata": {},
   "outputs": [],
   "source": [
    "H = -Mdot([n(0,2),n(1,2)])\n",
    "def U(t):\n",
    "    return ln.expm(-1j*H*t)\n",
    "\n",
    "rho0 = rho(psi1)\n",
    "\n",
    "Sl = []\n",
    "tl = [0.1*t for t in range(0,100)]\n",
    "for t in tl:\n",
    "    rhot = Mdot([U(t),rho0,dgr(U(t))])\n",
    "    rhotA = rhoA(rhot,[1])\n",
    "    St = S(rhotA)\n",
    "    Sl.append(St)\n"
   ]
  },
  {
   "cell_type": "code",
   "execution_count": 229,
   "id": "7c836690",
   "metadata": {},
   "outputs": [
    {
     "data": {
      "text/plain": [
       "[<matplotlib.lines.Line2D at 0x7fe62f5224d0>]"
      ]
     },
     "execution_count": 229,
     "metadata": {},
     "output_type": "execute_result"
    },
    {
     "data": {
      "image/png": "[encoded data removed]",
      "text/plain": [
       "<Figure size 432x288 with 1 Axes>"
      ]
     },
     "metadata": {
      "needs_background": "light"
     },
     "output_type": "display_data"
    }
   ],
   "source": [
    "import matplotlib.pyplot as plt\n",
    "\n",
    "plt.plot(tl,Sl)"
   ]
  },
  {
   "cell_type": "markdown",
   "id": "9d562ad5",
   "metadata": {},
   "source": [
    "I suspect the decrease in entropy is only possible because we have complete control over both the system and the bath.  Let us take another example of two particles that can move on a line and collide.  I suspect the entropy will only increase in this case since each new collision is very unlikely to undue to phase add from the previous collision."
   ]
  },
  {
   "cell_type": "code",
   "execution_count": 230,
   "id": "81188760",
   "metadata": {},
   "outputs": [],
   "source": [
    "def K(k,N):\n",
    "    out = 0*I(N)\n",
    "    for i in range(N):\n",
    "        j = np.mod(i+1,N)\n",
    "        out = out + Mdot([cd(i,N),c(j,N)]) +  Mdot([cd(j,N),c(i,N)]) \n",
    "    return k*out\n",
    "\n",
    "def V(v,N):\n",
    "    out = 0*I(N)\n",
    "    for i in range(N):\n",
    "        j = np.mod(i+1,N)\n",
    "        out = out + Mdot([n(i,N),n(j,N)]) \n",
    "    return v*out\n",
    "\n",
    "def H(k,v,N):\n",
    "    return K(k,N) + V(v,N)\n",
    "\n",
    "def U(t,k,v,N):\n",
    "    return ln.expm(-1j*H(k,v,N)*t)\n",
    "\n",
    "def find_particles(rho):\n",
    "    N = int(np.log2(len(rho)))\n",
    "    out = [0 for i in range(N)]\n",
    "    for i in range(N):\n",
    "        ni = np.trace(Mdot([n(i,N),rho]))\n",
    "        out[i] = ni\n",
    "    return out\n"
   ]
  },
  {
   "cell_type": "code",
   "execution_count": 287,
   "id": "51ba0fdf",
   "metadata": {},
   "outputs": [],
   "source": [
    "N = 5\n",
    "psi0 = [0 for i in range(2**N)]\n",
    "psi0[0] = 1\n",
    "psi0 = Mdot([cd(0,N),psi0])\n",
    "rho0 = rho(psi0)\n",
    "\n",
    "k=1\n",
    "v=0\n",
    "Sl = []\n",
    "tl = [0.1*t for t in range(0,50)]\n",
    "for t in tl:\n",
    "    rhot = Mdot([U(t,k,v,N),rho0,dgr(U(t,k,v,N))])\n",
    "    rhotA = rhoA(rhot,[0,1,2])\n",
    "    St = S(rhotA)\n",
    "    Sl.append(St)\n",
    "    #print(t,find_particles(rhot))"
   ]
  },
  {
   "cell_type": "code",
   "execution_count": 288,
   "id": "c4ea9c7c",
   "metadata": {},
   "outputs": [
    {
     "data": {
      "text/plain": [
       "[<matplotlib.lines.Line2D at 0x7fe630f3e350>]"
      ]
     },
     "execution_count": 288,
     "metadata": {},
     "output_type": "execute_result"
    },
    {
     "data": {
      "image/png": "[encoded data removed]",
      "text/plain": [
       "<Figure size 432x288 with 1 Axes>"
      ]
     },
     "metadata": {
      "needs_background": "light"
     },
     "output_type": "display_data"
    }
   ],
   "source": [
    "import matplotlib.pyplot as plt\n",
    "\n",
    "plt.plot(tl,Sl)"
   ]
  },
  {
   "cell_type": "markdown",
   "id": "dee94352",
   "metadata": {},
   "source": [
    "Since it is difficult to trace out a particle, we divide the system between orbitals instead.  In this case we can turn of the interaction and just think aobut the entanglement of the orbitals caused by the particle traveling between the the two halves of the system.  Each time one of the linear states in the linear combination has the particle cross the boundary, the entropy increases.  This continues until we reach the maximum posible entropy.  "
   ]
  },
  {
   "cell_type": "markdown",
   "id": "ebdc0616",
   "metadata": {},
   "source": [
    "Let's take an example of a single particle moving one space at a time.  When it bounces off a wall it stay put.\n",
    "\n",
    "$$ |\\psi_0> = |1000> $$\n",
    "$$ |\\psi_1> = |1000> + |0100> $$\n",
    "$$ |\\psi_2> = 2|1000> + |0100> + |0010> $$\n",
    "$$ |\\psi_3> = 3|1000> + 3|0100> + |0010> + |0001> $$\n",
    "$$ |\\psi_4> = 6|1000> + 4|0100> + 4|0010> + 2|0001> $$\n",
    "$$ |\\psi_5> = 10|1000> + 10|0100>  + 6|0010> + 6|0001>  $$\n",
    "$$ |\\psi_6> = 20|1000>  + 16|0100> + 16|0010>  + 12|0001>  $$\n",
    "$$ |\\psi_7> = 36|1000>  + 36|0100>   + 32|0010>  + 24|0010>  $$"
   ]
  },
  {
   "cell_type": "markdown",
   "id": "4e0f8a84",
   "metadata": {},
   "source": [
    "We see that the system smooths itself out over the orbitals.  As this happens, the reduced density matrix becomes more mixed."
   ]
  },
  {
   "cell_type": "markdown",
   "id": "11fefc66",
   "metadata": {},
   "source": [
    "$$ \\rho_0 = |10><10| $$\n",
    "$$ \\rho_1 = (|10> + |01>)(<10|+<01) $$\n",
    "$$ \\rho_2 = (2|10> + |01>)(2<10|+<01) + |00><00| $$\n",
    "$$ \\rho_3 = 9(|10> + |01>)(<10|+<01) + 2|00><00| $$\n",
    "$$ \\rho_4 = (6|10> + 4|01>)(6<10|+4<01) + 20|00><00| $$\n",
    "$$ \\rho_5 = 100(|10> + |01>)(<10|+<01) + 64|00><00| $$\n",
    "$$ \\rho_6 = (20|10> + 16|01>)(20<10|+16<01) + 400|00><00| $$\n",
    "$$ \\rho_7 = 1296(|10> + |01>)(<10|+<01) + 1600|00><00| $$"
   ]
  },
  {
   "cell_type": "code",
   "execution_count": null,
   "id": "c9a8ab46",
   "metadata": {},
   "outputs": [],
   "source": []
  }
 ],
 "metadata": {
  "kernelspec": {
   "display_name": "qiskit_3.5",
   "language": "python",
   "name": "qiskit_3.5"
  },
  "language_info": {
   "codemirror_mode": {
    "name": "ipython",
    "version": 3
   },
   "file_extension": ".py",
   "mimetype": "text/x-python",
   "name": "python",
   "nbconvert_exporter": "python",
   "pygments_lexer": "ipython3",
   "version": "3.10.4"
  },
  "toc": {
   "base_numbering": 1,
   "nav_menu": {},
   "number_sections": true,
   "sideBar": true,
   "skip_h1_title": false,
   "title_cell": "Table of Contents",
   "title_sidebar": "Contents",
   "toc_cell": false,
   "toc_position": {},
   "toc_section_display": true,
   "toc_window_display": false
  }
 },
 "nbformat": 4,
 "nbformat_minor": 5
}
