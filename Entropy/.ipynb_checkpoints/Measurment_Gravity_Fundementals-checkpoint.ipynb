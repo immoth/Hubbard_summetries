{
 "cells": [
  {
   "cell_type": "markdown",
   "id": "1bdaa2ca",
   "metadata": {},
   "source": [
    "# Entropic Gravity\n",
    "\n",
    "https://arxiv.org/pdf/1001.0785.pdf\n",
    "\n",
    "Starting from the laws of gravity and considering the information of on the surface of a black hole, one finds that the increase entropy associated with a mass approaching a surface is,\n",
    "$$ \\Delta S = m \\Delta x $$\n",
    "where all fundamental constants have been droped.  A change in entropy causes a force \n",
    "$$ F\\Delta x = T \\Delta S $$\n",
    "Combining the enetropy of our mass with the force equation we get a force,\n",
    "$$ F = T m $$\n",
    "Tempeture can also be related to mass.  Realizing that mass is a form of energy \n",
    "$$ E = M $$ \n",
    "and energy is associated with a temperature\n",
    "$$ E = NT $$\n",
    "where $N$ is the number of degrees of freedom for the system, we have \n",
    "$$ T = \\frac{M}{N} $$\n",
    "and the force is \n",
    "$$ F =  \\frac{mM}{N}$$\n",
    "if the number of degress of freedom is proportional to the area of the screen then we have\n",
    "$$ F = \\frac{mM}{r^2} $$"
   ]
  },
  {
   "cell_type": "markdown",
   "id": "2206d01f",
   "metadata": {},
   "source": [
    "# Mass is measurability"
   ]
  },
  {
   "cell_type": "markdown",
   "id": "97769beb",
   "metadata": {},
   "source": [
    "If $M$ bit are measured then we increase the entropy by a maximum of $\\Delta S_{\\text{max}} = M \\ln 2$\n",
    "\n",
    "We say that mass is the number of bits which contain information.  \n",
    "\n",
    "We say that distance is the proportion of that information which is measurable by the screen.\n",
    "\n",
    "We say that tempereture is the rate of measurment.\n",
    "\n",
    "What we need to convince ourselves of is that the rate of measurment on the screen is proportional to the information density of the screen.  "
   ]
  },
  {
   "cell_type": "code",
   "execution_count": null,
   "id": "519c50e4",
   "metadata": {},
   "outputs": [],
   "source": []
  }
 ],
 "metadata": {
  "kernelspec": {
   "display_name": "qiskit_3.5",
   "language": "python",
   "name": "qiskit_3.5"
  },
  "language_info": {
   "codemirror_mode": {
    "name": "ipython",
    "version": 3
   },
   "file_extension": ".py",
   "mimetype": "text/x-python",
   "name": "python",
   "nbconvert_exporter": "python",
   "pygments_lexer": "ipython3",
   "version": "3.10.4"
  },
  "toc": {
   "base_numbering": 1,
   "nav_menu": {},
   "number_sections": true,
   "sideBar": true,
   "skip_h1_title": false,
   "title_cell": "Table of Contents",
   "title_sidebar": "Contents",
   "toc_cell": false,
   "toc_position": {},
   "toc_section_display": true,
   "toc_window_display": false
  }
 },
 "nbformat": 4,
 "nbformat_minor": 5
}
