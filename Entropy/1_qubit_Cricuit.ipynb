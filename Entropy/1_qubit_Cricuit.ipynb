{
 "cells": [
  {
   "cell_type": "code",
   "execution_count": 260,
   "id": "139c1a3d",
   "metadata": {},
   "outputs": [],
   "source": [
    "import sys\n",
    "import warnings\n",
    "\n",
    "import matplotlib.pyplot as plt\n",
    "\n",
    "import qiskit\n",
    "from qiskit import IBMQ, QuantumCircuit, execute,  Aer\n",
    "from qiskit.result import marginal_counts\n",
    "from qiskit.providers.ibmq.job import job_monitor\n",
    "from qiskit.tools.visualization import plot_histogram"
   ]
  },
  {
   "cell_type": "code",
   "execution_count": 261,
   "id": "635cbf1f",
   "metadata": {},
   "outputs": [
    {
     "name": "stderr",
     "output_type": "stream",
     "text": [
      "ibmqfactory.load_account:WARNING:2022-07-18 13:46:06,382: Credentials are already in use. The existing account in the session will be replaced.\n"
     ]
    }
   ],
   "source": [
    "IBMQ.load_account()\n",
    "\n",
    "# Fill in your hub/group/provider\n",
    "provider = IBMQ.get_provider(hub='ibm-q-afrl', group='air-force-lab', project='quantum-sim')\n",
    "# ibmq_manhattan supports mid-circuit measurements\n",
    "backend = provider.get_backend('ibm_lagos')\n",
    "\n",
    "config = backend.configuration()\n",
    "n_qubits = config.n_qubits"
   ]
  },
  {
   "cell_type": "markdown",
   "id": "866ecf58",
   "metadata": {},
   "source": [
    "# From Measurment"
   ]
  },
  {
   "cell_type": "markdown",
   "id": "48e411e0",
   "metadata": {},
   "source": [
    "We need a function to measure the density mastrix.  We have $$ \\rho = i I +z Z+ x X + y Y $$ so we can find each term by,\n",
    "$$ 2i = \\rho[0] + \\rho[1] $$\n",
    "$$ 2z = \\rho[0] - \\rho[1] $$\n",
    "$$ 2x = R_y(\\pi/2)\\rho R_y(-\\pi/2)[0] - R_y(\\pi/2)\\rho R_y(-\\pi/2)[1] $$\n",
    "$$ 2y = R_x(-\\pi/2)\\rho R_x(\\pi/2)[0] - R_x(-\\pi/2)\\rho R_x(\\pi/2)[1] $$"
   ]
  },
  {
   "cell_type": "code",
   "execution_count": 266,
   "id": "99385db9",
   "metadata": {},
   "outputs": [],
   "source": [
    "import copy\n",
    "import numpy as np\n",
    "\n",
    "sim = Aer.get_backend(\"qasm_simulator\")\n",
    "sim = provider.get_backend('ibm_lagos')\n",
    "\n",
    "def measure_density(qc):\n",
    "    qca = copy.deepcopy(qc)\n",
    "    qca.measure([0], [0])\n",
    "    r = execute(qca, backend = sim).result().get_counts()\n",
    "    if '1' not in r: r['1'] = 0\n",
    "    if '0' not in r: r['0'] = 0\n",
    "    n = (r['0'] + r['1'])\n",
    "    i = (r['0'] + r['1'])/2\n",
    "    z = (r['0'] - r['1'])/2\n",
    "    \n",
    "    qcb = copy.deepcopy(qc)\n",
    "    qcb.ry(np.pi/2,0)\n",
    "    qcb.measure([0], [0])\n",
    "    r = execute(qcb, backend = sim).result().get_counts()\n",
    "    if '1' not in r: r['1'] = 0\n",
    "    if '0' not in r: r['0'] = 0\n",
    "    x = (r['0'] - r['1'])/2\n",
    "\n",
    "    \n",
    "    qcc = copy.deepcopy(qc)\n",
    "    qcc.rx(np.pi/2,0)\n",
    "    qcc.measure([0], [0])\n",
    "    r = execute(qcc, backend = sim).result().get_counts()\n",
    "    if '1' not in r: r['1'] = 0\n",
    "    if '0' not in r: r['0'] = 0\n",
    "    y = (r['0'] - r['1'])/2\n",
    "\n",
    "    \n",
    "    return [i/n,z/n,-x/n,y/n]\n",
    "    \n",
    " \n"
   ]
  },
  {
   "cell_type": "markdown",
   "id": "ae4f10bd",
   "metadata": {},
   "source": [
    "Using this we can reconstruct the density matrix from the results.  From the density matrix we can calculate the entropy.  Note the difference when applying a mid-circuit measurement.  "
   ]
  },
  {
   "cell_type": "code",
   "execution_count": 267,
   "id": "9b7ac42a",
   "metadata": {},
   "outputs": [
    {
     "name": "stdout",
     "output_type": "stream",
     "text": [
      "[[0.51475+0.j     0.00825+0.0045j]\n",
      " [0.00825-0.0045j 0.48525+0.j    ]]\n",
      "\n",
      "entropy:  (-0.6925353000000001+0j)\n"
     ]
    }
   ],
   "source": [
    "from Define_Paulis import I,X,Y,Z\n",
    "import pandas as pd\n",
    "\n",
    "import scipy.linalg as ln\n",
    "\n",
    "def S(rho):\n",
    "    e,y = ln.eig(rho)\n",
    "    s = sum([np.round( (e[n]+10**-28)*np.log(e[n]+10**(-28)) , 8) for n in range(len(e))])\n",
    "    return s\n",
    "\n",
    "qc_simp = QuantumCircuit(1,1)\n",
    "qc_simp.ry(np.pi/2,0)\n",
    "qc_simp.measure([0], [0])\n",
    "\n",
    "dx = measure_density(qc_simp)\n",
    "rho = dx[0]*I(1) + dx[1]*Z(0,1) + dx[2]*X(0,1) + dx[3]*Y(0,1)\n",
    "\n",
    "print(rho )\n",
    "print()\n",
    "print('entropy: ', S(rho))"
   ]
  },
  {
   "cell_type": "markdown",
   "id": "51dc1090",
   "metadata": {},
   "source": [
    "# From input\n",
    "\n",
    "We can do the same thing by simpy changing the input of our circuit.  We will either start with $$ \\rho = |0><0| $$ or with $$ \\rho = |1><1| $$ and weight the results of both depending on the entropy."
   ]
  },
  {
   "cell_type": "code",
   "execution_count": 264,
   "id": "34c0f24a",
   "metadata": {},
   "outputs": [
    {
     "name": "stdout",
     "output_type": "stream",
     "text": [
      "entropy of A: (0.00897088-0.00363002j)\n",
      "entropy of B: (0.0033230399999999998-0.00117402j)\n",
      "entropy of A + B:  (-0.3221708+0j)\n"
     ]
    }
   ],
   "source": [
    "qc_a = QuantumCircuit(1,1)\n",
    "qc_b = QuantumCircuit(1,1)\n",
    "qc_b.x(0)\n",
    "\n",
    "da = measure_density(qc_a)\n",
    "db = measure_density(qc_b)\n",
    "\n",
    "rho_a = da[0]*I(1) + da[1]*Z(0,1) + da[2]*X(0,1) + da[3]*Y(0,1)\n",
    "rho_b = db[0]*I(1) + db[1]*Z(0,1) + db[2]*X(0,1) + db[3]*Y(0,1)\n",
    "\n",
    "\n",
    "print('entropy of A:',S(rho_a))\n",
    "print('entropy of B:',S(rho_b))\n",
    "print('entropy of A + B: ',S(0.9*rho_a + 0.1*rho_b))"
   ]
  },
  {
   "cell_type": "markdown",
   "id": "ce844bd9",
   "metadata": {},
   "source": [
    "Then if we want to find the expectation value of an operator $O$ for a density matrix $$ \\rho = \\rho_a + \\rho_b$$ we can simply add,\n",
    "$$ \\text{Tr}(O\\rho) = \\text{Tr}(O\\rho_a) + \\text{Tr}(O\\rho_b)  $$"
   ]
  },
  {
   "cell_type": "code",
   "execution_count": 268,
   "id": "bdba30b0",
   "metadata": {},
   "outputs": [
    {
     "name": "stdout",
     "output_type": "stream",
     "text": [
      "(-2.5054687500000004+0j)\n",
      "(-2.5054687500000004+0j)\n"
     ]
    }
   ],
   "source": [
    "O = [[0.3,1.5],[1.5,-2.7]]\n",
    "\n",
    "print( np.trace(np.dot(O,rho_a + rho_b)) )\n",
    "print( np.trace(np.dot(O,rho_a)) + np.trace(np.dot(O,rho_b)) )"
   ]
  },
  {
   "cell_type": "code",
   "execution_count": null,
   "id": "dd1fa081",
   "metadata": {},
   "outputs": [],
   "source": []
  },
  {
   "cell_type": "code",
   "execution_count": null,
   "id": "c6576a22",
   "metadata": {},
   "outputs": [],
   "source": []
  }
 ],
 "metadata": {
  "kernelspec": {
   "display_name": "qiskit_3.5",
   "language": "python",
   "name": "qiskit_3.5"
  },
  "language_info": {
   "codemirror_mode": {
    "name": "ipython",
    "version": 3
   },
   "file_extension": ".py",
   "mimetype": "text/x-python",
   "name": "python",
   "nbconvert_exporter": "python",
   "pygments_lexer": "ipython3",
   "version": "3.10.4"
  },
  "toc": {
   "base_numbering": 1,
   "nav_menu": {},
   "number_sections": true,
   "sideBar": true,
   "skip_h1_title": false,
   "title_cell": "Table of Contents",
   "title_sidebar": "Contents",
   "toc_cell": false,
   "toc_position": {},
   "toc_section_display": true,
   "toc_window_display": false
  }
 },
 "nbformat": 4,
 "nbformat_minor": 5
}
