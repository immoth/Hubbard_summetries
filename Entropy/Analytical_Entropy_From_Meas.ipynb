{
 "cells": [
  {
   "cell_type": "code",
   "execution_count": 22,
   "id": "ec5fc898",
   "metadata": {},
   "outputs": [],
   "source": [
    "from Define_Paulis import I, X, Y, Z, Mdot, bkt\n",
    "import numpy as np\n",
    "import scipy.linalg as ln"
   ]
  },
  {
   "cell_type": "code",
   "execution_count": 15,
   "id": "5fa9833e",
   "metadata": {},
   "outputs": [],
   "source": [
    "def H(i,N):\n",
    "    return 1/np.sqrt(2)*(Z(i,N) + X(i,N))\n",
    "\n",
    "def RH(theta,i,N):\n",
    "    return Mdot([Z(i,N),np.cos(theta/2)*I(N) - 1j*np.sin(theta/2)*Y(i,N)])"
   ]
  },
  {
   "cell_type": "code",
   "execution_count": 253,
   "id": "3efe59fd",
   "metadata": {},
   "outputs": [],
   "source": [
    "def S(rho):\n",
    "    e,y = ln.eig(rho)\n",
    "    s = sum([np.round( (e[n]+10**-28)*np.log(e[n]+10**(-28)) , 8) for n in range(len(e))])\n",
    "    return s\n",
    "\n",
    "def Sa(phil,il):\n",
    "    el = [1]\n",
    "    for i in il:\n",
    "        eli = []\n",
    "        for e in el:\n",
    "            ea = e*np.cos(phil[i]/2)**2\n",
    "            eb = e*np.sin(phil[i]/2)**2\n",
    "            eli.append(ea)\n",
    "            eli.append(eb)\n",
    "        el = eli\n",
    "    #print(el)\n",
    "    s = sum([np.round( (el[n]+10**-28)*np.log(el[n]+10**(-28)) , 8) for n in range(len(el))])\n",
    "    return s\n",
    "\n",
    "def M(il,N):\n",
    "    Ml = [I(N)]\n",
    "    for i in il:  \n",
    "        M2 = []\n",
    "        for M in Ml:\n",
    "            Ma = 1/2*Mdot([M,(I(N)+Z(i,N))])\n",
    "            Mb = 1/2*Mdot([M,(I(N)-Z(i,N))])\n",
    "            M2.append(Ma)\n",
    "            M2.append(Mb)\n",
    "        Ml = M2\n",
    "    return Ml\n",
    "\n",
    "def Meas(rho,il):\n",
    "    N = int(np.log2(len(rho)))\n",
    "    ml = M(il,N)\n",
    "    rho_new = 0*rho\n",
    "    for m in ml:\n",
    "        rho_new = rho_new + Mdot([m,rho,m])\n",
    "    return rho_new"
   ]
  },
  {
   "cell_type": "code",
   "execution_count": 275,
   "id": "2a412d94",
   "metadata": {},
   "outputs": [
    {
     "name": "stdout",
     "output_type": "stream",
     "text": [
      "norm:  (1+0j)\n"
     ]
    }
   ],
   "source": [
    "def rho(N):\n",
    "    r = np.array( [[0 for i in range(2**N)] for j in range(2**N)] )\n",
    "    r[0,0] = 1\n",
    "    return r\n",
    "\n",
    "N=3\n",
    "rho0 = rho(N)\n",
    "phil = [-np.pi/2,-np.pi/2,0.2]\n",
    "rho1 = Mdot([RH(phil[0],0,N),RH(phil[0],1,N),RH(phil[2],2,N),rho0,RH(phil[2],2,N),RH(phil[1],1,N),RH(phil[0],0,N)])\n",
    "\n",
    "rho2 = Meas(rho1,[0,1,2])\n",
    "\n",
    "print( 'norm: ',sum([rho2[i,i] for i in range(len(rho2))]) )\n",
    "#print(rho2)"
   ]
  },
  {
   "cell_type": "code",
   "execution_count": 276,
   "id": "694342da",
   "metadata": {},
   "outputs": [
    {
     "data": {
      "text/plain": [
       "(-1.4421428799999998+0j)"
      ]
     },
     "execution_count": 276,
     "metadata": {},
     "output_type": "execute_result"
    }
   ],
   "source": [
    "S(rho2)"
   ]
  },
  {
   "cell_type": "code",
   "execution_count": 277,
   "id": "40ac673f",
   "metadata": {},
   "outputs": [
    {
     "data": {
      "text/plain": [
       "-1.4421428799999998"
      ]
     },
     "execution_count": 277,
     "metadata": {},
     "output_type": "execute_result"
    }
   ],
   "source": [
    "Sa(phil,[0,1,2])"
   ]
  },
  {
   "cell_type": "code",
   "execution_count": 278,
   "id": "dcfd5dfc",
   "metadata": {},
   "outputs": [
    {
     "name": "stdout",
     "output_type": "stream",
     "text": [
      "max entropy:  -2.0794415416798357\n"
     ]
    }
   ],
   "source": [
    "print('max entropy: ', np.log((1/2)**N))"
   ]
  },
  {
   "cell_type": "code",
   "execution_count": null,
   "id": "30f215e0",
   "metadata": {},
   "outputs": [],
   "source": []
  }
 ],
 "metadata": {
  "kernelspec": {
   "display_name": "qiskit_3.5",
   "language": "python",
   "name": "qiskit_3.5"
  },
  "language_info": {
   "codemirror_mode": {
    "name": "ipython",
    "version": 3
   },
   "file_extension": ".py",
   "mimetype": "text/x-python",
   "name": "python",
   "nbconvert_exporter": "python",
   "pygments_lexer": "ipython3",
   "version": "3.10.4"
  },
  "toc": {
   "base_numbering": 1,
   "nav_menu": {},
   "number_sections": true,
   "sideBar": true,
   "skip_h1_title": false,
   "title_cell": "Table of Contents",
   "title_sidebar": "Contents",
   "toc_cell": false,
   "toc_position": {},
   "toc_section_display": true,
   "toc_window_display": false
  }
 },
 "nbformat": 4,
 "nbformat_minor": 5
}
