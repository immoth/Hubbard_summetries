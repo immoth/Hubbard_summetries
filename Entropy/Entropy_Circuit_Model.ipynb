{
 "cells": [
  {
   "cell_type": "code",
   "execution_count": null,
   "id": "23d4ee80",
   "metadata": {},
   "outputs": [],
   "source": []
  },
  {
   "cell_type": "markdown",
   "id": "5bbba573",
   "metadata": {},
   "source": [
    "## Ansatz"
   ]
  },
  {
   "cell_type": "code",
   "execution_count": 57,
   "id": "7bad59ab",
   "metadata": {},
   "outputs": [],
   "source": [
    "from qiskit import QuantumRegister, ClassicalRegister, QuantumCircuit\n",
    "import numpy as np"
   ]
  },
  {
   "cell_type": "markdown",
   "id": "c4a52262",
   "metadata": {},
   "source": [
    "### Entropy Ansatz"
   ]
  },
  {
   "cell_type": "code",
   "execution_count": 65,
   "id": "5370f065",
   "metadata": {},
   "outputs": [],
   "source": [
    "import scipy.optimize as op\n",
    "\n",
    "def f(x,S):\n",
    "    dx = 10**(-15)\n",
    "    return np.cos(x/2)**2 * np.log(np.cos(x/2)**2 + dx) + np.sin(x/2)**2 * np.log(np.sin(x/2)**2 + dx) - S\n",
    "\n",
    "def V(circ,S):\n",
    "    N = len(circ.qubits)\n",
    "    j = int(-S/np.log(2))\n",
    "    if j >= N:\n",
    "        raise NameError(\"An entropy of \"+str(S)+\" requires at least \"+str(j+1)+\" qubits.\")\n",
    "    dS = S + j*np.log(2)\n",
    "    phi = op.brentq(f,0,np.pi/2, args = (dS))\n",
    "    for i in range(j):\n",
    "        circ.h(i)\n",
    "    circ.ry(phi,j)\n",
    "    circ.z(j)\n",
    "    return circ\n"
   ]
  },
  {
   "cell_type": "code",
   "execution_count": 84,
   "id": "67f9de9f",
   "metadata": {},
   "outputs": [
    {
     "data": {
      "text/html": [
       "<pre style=\"word-wrap: normal;white-space: pre;background: #fff0;line-height: 1.1;font-family: &quot;Courier New&quot;,Courier,monospace\">            ┌───┐          \n",
       "q52_0: ─────┤ H ├──────────\n",
       "            ├───┤          \n",
       "q52_1: ─────┤ H ├──────────\n",
       "       ┌────┴───┴────┐┌───┐\n",
       "q52_2: ┤ Ry(0.62627) ├┤ Z ├\n",
       "       └─────────────┘└───┘\n",
       "q52_3: ────────────────────\n",
       "                           \n",
       "c52: 4/════════════════════\n",
       "                           </pre>"
      ],
      "text/plain": [
       "            ┌───┐          \n",
       "q52_0: ─────┤ H ├──────────\n",
       "            ├───┤          \n",
       "q52_1: ─────┤ H ├──────────\n",
       "       ┌────┴───┴────┐┌───┐\n",
       "q52_2: ┤ Ry(0.62627) ├┤ Z ├\n",
       "       └─────────────┘└───┘\n",
       "q52_3: ────────────────────\n",
       "                           \n",
       "c52: 4/════════════════════\n",
       "                           "
      ]
     },
     "execution_count": 84,
     "metadata": {},
     "output_type": "execute_result"
    }
   ],
   "source": [
    "Q = 4\n",
    "S = -1.7\n",
    "qr = QuantumRegister(Q)\n",
    "cr = ClassicalRegister(Q)\n",
    "cir = QuantumCircuit(qr , cr)\n",
    "cir = V(cir,S)\n",
    "cir.draw()"
   ]
  },
  {
   "cell_type": "markdown",
   "id": "32d75356",
   "metadata": {},
   "source": [
    "### Hardware Efficient Ansatz"
   ]
  },
  {
   "cell_type": "code",
   "execution_count": 45,
   "id": "72325395",
   "metadata": {},
   "outputs": [],
   "source": [
    "def Ui(cir_i,phi_i):  \n",
    "    Q = len(phi_i)\n",
    "    for q in range(0,Q):\n",
    "        cir_i.ry(phi_i[q],q)\n",
    "    for q in range(0,Q,4):\n",
    "        if q+1 < Q:\n",
    "            cir_i.cx(q,q+1)\n",
    "        if q + 3 < Q:\n",
    "            cir_i.cx(q+3,q+2)\n",
    "    for q in range(1,Q,4):\n",
    "        if q+1 < Q:\n",
    "            cir_i.cx(q,q+1)\n",
    "        if q + 3 < Q:\n",
    "            cir_i.cx(q+3,q+2)\n",
    "    return cir_i\n",
    "\n",
    "def U(cir,phi_b):\n",
    "    T = len(phi_b)\n",
    "    for t in range(T):\n",
    "        cir = Ui(cir,phi_b[t])\n",
    "    return cir\n"
   ]
  },
  {
   "cell_type": "code",
   "execution_count": 52,
   "id": "180cd0ab",
   "metadata": {},
   "outputs": [
    {
     "data": {
      "image/png": "[encoded data removed]",
      "text/plain": [
       "<Figure size 654.795x325.08 with 1 Axes>"
      ]
     },
     "execution_count": 52,
     "metadata": {},
     "output_type": "execute_result"
    }
   ],
   "source": [
    "Q = 4\n",
    "qr = QuantumRegister(Q)\n",
    "cr = ClassicalRegister(Q)\n",
    "cir = QuantumCircuit(qr , cr)\n",
    "tst = U(cir,[[0.2,0.3,0.4,0.7],[0.5,0.6,-0.9,0.3],[0.5,0.6,1.2,-0.2]])\n",
    "\n",
    "tst.draw(output = 'mpl')"
   ]
  },
  {
   "cell_type": "markdown",
   "id": "7cfcb94f",
   "metadata": {},
   "source": [
    "### Combined Ansatz"
   ]
  },
  {
   "cell_type": "code",
   "execution_count": 90,
   "id": "de2df99b",
   "metadata": {},
   "outputs": [],
   "source": [
    "def A(cir,S,phi):\n",
    "    cir = V(cir,S)\n",
    "    cir.barrier()\n",
    "    cir.measure(cir.qubits,cir.clbits)\n",
    "    cir.barrier()\n",
    "    cir = U(cir,phi)\n",
    "    return cir\n",
    "    \n"
   ]
  },
  {
   "cell_type": "code",
   "execution_count": 92,
   "id": "a22a4b5d",
   "metadata": {},
   "outputs": [
    {
     "data": {
      "image/png": "[encoded data removed]",
      "text/plain": [
       "<Figure size 1136.54x325.08 with 1 Axes>"
      ]
     },
     "execution_count": 92,
     "metadata": {},
     "output_type": "execute_result"
    }
   ],
   "source": [
    "Q = 4\n",
    "S = -2.1\n",
    "phi = [[0.2,0.3,0.4,0.7],[0.5,0.6,-0.9,0.3],[0.5,0.6,1.2,-0.2]]\n",
    "qr = QuantumRegister(Q)\n",
    "cr = ClassicalRegister(Q)\n",
    "cir = QuantumCircuit(qr , cr)\n",
    "cir = A(cir,S,phi)\n",
    "cir.draw(output = 'mpl')"
   ]
  },
  {
   "cell_type": "markdown",
   "id": "ba0fd011",
   "metadata": {},
   "source": [
    "### Apply Hamiltonian"
   ]
  },
  {
   "cell_type": "markdown",
   "id": "21578b3b",
   "metadata": {},
   "source": [
    "### Translate gates and measurments into matrix multiplication "
   ]
  },
  {
   "cell_type": "code",
   "execution_count": 125,
   "id": "105ba317",
   "metadata": {},
   "outputs": [],
   "source": [
    "import warnings\n",
    "warnings.filterwarnings(\"ignore\", category=DeprecationWarning) "
   ]
  },
  {
   "cell_type": "code",
   "execution_count": 153,
   "id": "3b93a7c6",
   "metadata": {},
   "outputs": [],
   "source": [
    "from Define_Paulis import I,X,Y,Z,Mdot,bkt"
   ]
  },
  {
   "cell_type": "code",
   "execution_count": 338,
   "id": "5d3ec03e",
   "metadata": {},
   "outputs": [
    {
     "data": {
      "text/plain": [
       "(Instruction(name='measure', num_qubits=1, num_clbits=1, params=[]),\n",
       " [Qubit(QuantumRegister(4, 'q57'), 0)],\n",
       " [Clbit(ClassicalRegister(4, 'c57'), 0)])"
      ]
     },
     "execution_count": 338,
     "metadata": {},
     "output_type": "execute_result"
    }
   ],
   "source": [
    "cir.data[6]"
   ]
  },
  {
   "cell_type": "code",
   "execution_count": null,
   "id": "b963df67",
   "metadata": {},
   "outputs": [],
   "source": []
  },
  {
   "cell_type": "code",
   "execution_count": 360,
   "id": "882ebc78",
   "metadata": {},
   "outputs": [],
   "source": [
    "def rho0(N):\n",
    "    rho = [[0 for i in range(2**N)] for j in range(2**N)]\n",
    "    rho[0][0] = 1\n",
    "    return rho\n",
    "\n",
    "def h(i,N):\n",
    "    return 1/np.sqrt(2)*(Z(i,N) + X(i,N))\n",
    "\n",
    "def rx(phi,i,N):\n",
    "    return np.cos(phi/2)*I(N) - 1j*np.sin(phi/2)*X(i,N)\n",
    "\n",
    "def ry(phi,i,N):\n",
    "    return np.cos(phi/2)*I(N) - 1j*np.sin(phi/2)*Y(i,N)\n",
    "\n",
    "def rz(phi,i,N):\n",
    "    return np.cos(phi/2)*I(N) - 1j*np.sin(phi/2)*Z(i,N)\n",
    "\n",
    "def cx(i,j,N):\n",
    "    return 1/2*( I(N) + Z(i,N) + X(j,N) - Mdot([Z(i,N),X(j,N)]) )\n",
    "    \n",
    "def translate(cir):\n",
    "    N = len(cir.qubits)\n",
    "    rho = rho0(N)\n",
    "    for gate in cir:\n",
    "        if gate[0].name == 'h':\n",
    "            q = gate[1][0].index\n",
    "            rho = Mdot([h(q,N),rho,h(q,N)])\n",
    "        elif gate[0].name == 'ry':\n",
    "            q = gate[1][0].index\n",
    "            phi = gate[0].params[0]\n",
    "            rho = Mdot([ry(phi,q,N),rho,ry(-phi,q,N)])\n",
    "        elif gate[0].name == 'rx':\n",
    "            q = gate[1][0].index\n",
    "            phi = gate[0].params[0]\n",
    "            rho = Mdot([rx(phi,q,N),rho,rx(-phi,q,N)])\n",
    "        elif gate[0].name == 'rz':\n",
    "            q = gate[1][0].index\n",
    "            phi = gate[0].params[0]\n",
    "            rho = Mdot([rz(phi,q,N),rho,rz(-phi,q,N)])\n",
    "        elif gate[0].name == 'cx':\n",
    "            q1 = gate[1][0].index\n",
    "            q2 = gate[1][1].index\n",
    "            rho = Mdot([cx(q1,q2,N),rho,cx(q1,q2,N)])\n",
    "        elif gate[0].name == 'x':\n",
    "            q = gate[1][0].index\n",
    "            rho = Mdot([X(q,N),rho,X(q,N)])\n",
    "        elif gate[0].name == 'y':\n",
    "            q = gate[1][0].index\n",
    "            rho = Mdot([Y(q,N),rho,Y(q,N)])\n",
    "        elif gate[0].name == 'z':\n",
    "            q = gate[1][0].index\n",
    "            rho = Mdot([Z(q,N),rho,Z(q,N)])\n",
    "        elif gate[0].name == 'barrier':\n",
    "            q = None\n",
    "        elif gate[0].name == 'measure':\n",
    "            q = gate[1][0].index\n",
    "            rho = 1/4*Mdot([I(N) - Z(q,N),rho,I(N) - Z(q,N)]) + 1/4*Mdot([I(N) + Z(q,N),rho,I(N) + Z(q,N)])\n",
    "        else:\n",
    "            print('The gate '+str(gate[0].name)+'was not recognized and was skipped!')\n",
    "    return rho"
   ]
  },
  {
   "cell_type": "code",
   "execution_count": 368,
   "id": "bf3fd888",
   "metadata": {},
   "outputs": [
    {
     "data": {
      "text/plain": [
       "array([[ 0.1735386 -3.26910221e-19j, -0.23798134+4.30505241e-03j,\n",
       "        -0.1735386 +3.26910221e-19j, -0.23798134+4.30505241e-03j],\n",
       "       [-0.23798134-4.30505241e-03j,  0.3264614 +3.26910221e-19j,\n",
       "         0.23798134+4.30505241e-03j,  0.3264614 +3.26910221e-19j],\n",
       "       [-0.1735386 +4.13429331e-19j,  0.23798134-4.30505241e-03j,\n",
       "         0.1735386 -4.13429331e-19j,  0.23798134-4.30505241e-03j],\n",
       "       [-0.23798134-4.30505241e-03j,  0.3264614 +4.13429331e-19j,\n",
       "         0.23798134+4.30505241e-03j,  0.3264614 +4.13429331e-19j]])"
      ]
     },
     "execution_count": 368,
     "metadata": {},
     "output_type": "execute_result"
    }
   ],
   "source": [
    "Q = 2\n",
    "qr = QuantumRegister(Q)\n",
    "cr = ClassicalRegister(Q)\n",
    "cir1 = QuantumCircuit(qr , cr)\n",
    "cir1.h(0)\n",
    "cir1.h(1)\n",
    "cir1.z(1)\n",
    "cir1.ry(0.33,1)\n",
    "cir1.rz(1.9,1)\n",
    "cir1.rx(1.9,1)\n",
    "cir1.cx(0,1)\n",
    "cir1.x(0)\n",
    "cir1.y(0)\n",
    "#cir1.measure([0],[0])\n",
    "cir1.h(0)\n",
    "\n",
    "\n",
    "\n",
    "translate(cir1)"
   ]
  },
  {
   "cell_type": "code",
   "execution_count": 369,
   "id": "fdb1cd05",
   "metadata": {},
   "outputs": [
    {
     "data": {
      "text/plain": [
       "[['01', 0.32417], ['10', 0.17497], ['11', 0.32503], ['00', 0.17583]]"
      ]
     },
     "execution_count": 369,
     "metadata": {},
     "output_type": "execute_result"
    }
   ],
   "source": [
    "from qiskit import execute\n",
    "from qiskit import Aer\n",
    "\n",
    "sim = Aer.get_backend(\"qasm_simulator\")\n",
    "\n",
    "cir1.measure(cir1.qubits,cir1.clbits)\n",
    "r = execute(cir1, backend = sim,shots = 100000).result().get_counts()\n",
    "\n",
    "norm = sum([r[key] for key in list(r.keys())])\n",
    "[ [key,r[key]/norm] for key in list(r.keys())]"
   ]
  },
  {
   "cell_type": "code",
   "execution_count": null,
   "id": "6c37381e",
   "metadata": {},
   "outputs": [],
   "source": []
  }
 ],
 "metadata": {
  "kernelspec": {
   "display_name": "qiskit_3.5",
   "language": "python",
   "name": "qiskit_3.5"
  },
  "language_info": {
   "codemirror_mode": {
    "name": "ipython",
    "version": 3
   },
   "file_extension": ".py",
   "mimetype": "text/x-python",
   "name": "python",
   "nbconvert_exporter": "python",
   "pygments_lexer": "ipython3",
   "version": "3.10.4"
  },
  "toc": {
   "base_numbering": 1,
   "nav_menu": {},
   "number_sections": true,
   "sideBar": true,
   "skip_h1_title": false,
   "title_cell": "Table of Contents",
   "title_sidebar": "Contents",
   "toc_cell": false,
   "toc_position": {},
   "toc_section_display": true,
   "toc_window_display": false
  }
 },
 "nbformat": 4,
 "nbformat_minor": 5
}
