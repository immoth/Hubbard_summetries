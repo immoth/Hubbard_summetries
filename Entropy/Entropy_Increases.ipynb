{
 "cells": [
  {
   "cell_type": "code",
   "execution_count": 1,
   "id": "52913537",
   "metadata": {},
   "outputs": [],
   "source": [
    "from Define_Paulis import I, X, Y, Z, Mdot, bkt\n",
    "import numpy as np\n",
    "import scipy.linalg as ln"
   ]
  },
  {
   "cell_type": "code",
   "execution_count": 108,
   "id": "30338736",
   "metadata": {},
   "outputs": [
    {
     "name": "stdout",
     "output_type": "stream",
     "text": [
      "0j\n",
      "0j\n"
     ]
    }
   ],
   "source": [
    "H = Z(0,2) + Z(1,2) + 0.1*Mdot([X(0,2),X(1,2)])\n",
    "\n",
    "def U(t):\n",
    "    return ln.expm(1j*H*t)\n",
    "\n",
    "rho0 = np.array( [[1,0,0,0],[0,0,0,0],[0,0,0,0],[0,0,0,0]] )\n",
    "\n",
    "def S(rho):\n",
    "    e,y = ln.eig(rho)\n",
    "    s = sum([np.round( (e[n]+10**-28)*np.log(e[n]+10**(-28)) , 8) for n in range(len(e))])\n",
    "    return s\n",
    "\n",
    "def SA(rho):\n",
    "    rhoA = rho[0:2,0:2] + rho[2:4,2:4]\n",
    "    e,y = ln.eig(rhoA)\n",
    "    s = sum([np.round( (e[n]+10**-28)*np.log(e[n]+10**(-28)) , 8) for n in range(len(e))])\n",
    "    return s\n",
    "\n",
    "\n",
    "print( SA(rho0) )\n",
    "print( S(rho0) )"
   ]
  },
  {
   "cell_type": "code",
   "execution_count": 109,
   "id": "c7f3282a",
   "metadata": {},
   "outputs": [
    {
     "name": "stdout",
     "output_type": "stream",
     "text": [
      "(-0.0120506+0j)\n",
      "0j\n"
     ]
    }
   ],
   "source": [
    "t = 1.1\n",
    "rhot =  Mdot([U(t),rho0,U(-t)]) \n",
    "\n",
    "print( SA(rhot) )\n",
    "print( S(rhot) )"
   ]
  },
  {
   "cell_type": "code",
   "execution_count": null,
   "id": "b1f3a7fe",
   "metadata": {},
   "outputs": [],
   "source": []
  }
 ],
 "metadata": {
  "kernelspec": {
   "display_name": "qiskit_3.5",
   "language": "python",
   "name": "qiskit_3.5"
  },
  "language_info": {
   "codemirror_mode": {
    "name": "ipython",
    "version": 3
   },
   "file_extension": ".py",
   "mimetype": "text/x-python",
   "name": "python",
   "nbconvert_exporter": "python",
   "pygments_lexer": "ipython3",
   "version": "3.10.4"
  },
  "toc": {
   "base_numbering": 1,
   "nav_menu": {},
   "number_sections": true,
   "sideBar": true,
   "skip_h1_title": false,
   "title_cell": "Table of Contents",
   "title_sidebar": "Contents",
   "toc_cell": false,
   "toc_position": {},
   "toc_section_display": true,
   "toc_window_display": false
  }
 },
 "nbformat": 4,
 "nbformat_minor": 5
}
