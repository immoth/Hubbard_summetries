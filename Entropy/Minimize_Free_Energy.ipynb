{
 "cells": [
  {
   "cell_type": "markdown",
   "id": "d86d88c1",
   "metadata": {},
   "source": [
    "# Minimize Free Energy\n",
    "\n",
    "Here we explore the states which minimize the free energy,\n",
    "$$ E = <H> - T S = \\text{Tr}(\\rho H) + T \\text{Tr}(\\rho \\ln \\rho$$"
   ]
  },
  {
   "cell_type": "code",
   "execution_count": 1,
   "id": "4e11d1b9",
   "metadata": {},
   "outputs": [],
   "source": [
    "from Define_Paulis import I, X, Y, Z, Mdot, bkt\n",
    "import numpy as np\n",
    "import scipy.linalg as ln"
   ]
  },
  {
   "cell_type": "markdown",
   "id": "99432850",
   "metadata": {},
   "source": [
    "## Directly minimize the density matrix\n",
    "\n",
    "Let us start by taking $\\rho$ to be diagonal in the eigenbasis of H.\n",
    "\\begin{equation}\n",
    "\\rho = \\begin{pmatrix} e^{x_1} & 0 & 0 & 0 \\\\ 0 & e^{x_2} & 0 & 0 \\\\ 0 & 0 & e^{x_3} & 0 \\\\ 0 & 0 & 0 &  \\ddots  \\end{pmatrix}\n",
    "\\end{equation}\n",
    "so that $$ \\text{Tr}(\\rho H) = e^{x_1} E_0 + e^{x_2} E_1 + e^{x_3} E_2 + \\ldots$$\n",
    "and \n",
    "$$ \\text{Tr}(\\rho \\ln \\rho) = e^{x_1} x_1 + e^{x_1} x_2 + e^{x_1} x_3 + \\ldots $$\n",
    "\n",
    "We search for minima for each parameter, \n",
    "$$ 0 = \\frac{d}{dx_n}F = e^{x_n}E_0 + T(x_n+1)e^{x_n} $$\n",
    "$$ x_n = -\\frac{E_n}{T} - 1$$\n",
    "Since we have neglected normalization the $-1$ is meaningless.  \n",
    "\n",
    "Let's check this,\n"
   ]
  },
  {
   "cell_type": "code",
   "execution_count": 2,
   "id": "ac099223",
   "metadata": {},
   "outputs": [],
   "source": [
    "H = Z(0,2) + Z(1,2) + 0.3*Mdot([X(0,2),X(1,2)])\n",
    "\n",
    "e,y = ln.eig(H)\n",
    "arg = np.argsort(e)\n",
    "psi = np.conjugate(np.transpose(y))\n",
    "    \n",
    "\n",
    "\n",
    "def ketbra(psia,psib):\n",
    "    out = [[0 for i in range(len(psia))] for j in range(len(psib))]\n",
    "    for i in range(len(psia)):\n",
    "        for j in range(len(psib)):\n",
    "            out[i][j] = psia[i]*np.conjugate( psib[j] )\n",
    "    return np.array(out)\n",
    "            \n",
    "def S(rho):\n",
    "    e,y = ln.eig(rho)\n",
    "    s = sum([np.round( (e[n]+10**-28)*np.log(e[n]+10**(-28)) , 8) for n in range(len(e))])\n",
    "    return s\n",
    "\n",
    "def FreeE(T,H,rho):\n",
    "    #print('H: ',np.trace(Mdot([H,rho])))\n",
    "    #print('S: ', + T*S(rho))\n",
    "    return np.trace(Mdot([H,rho])) + T*S(rho)\n",
    "    \n",
    "\n",
    "def rho(a,b,c,d):\n",
    "    rho0 = a*ketbra(psi[arg[0]],psi[arg[0]]) + b*ketbra(psi[arg[1]],psi[arg[1]]) + c*ketbra(psi[arg[2]],psi[arg[2]]) + d*ketbra(psi[arg[3]],psi[arg[3]])\n",
    "    rho0 = rho0/np.trace(rho0)\n",
    "    return rho0\n"
   ]
  },
  {
   "cell_type": "code",
   "execution_count": 3,
   "id": "4282be8b",
   "metadata": {},
   "outputs": [
    {
     "data": {
      "text/plain": [
       "(-3.2722345306848+0j)"
      ]
     },
     "execution_count": 3,
     "metadata": {},
     "output_type": "execute_result"
    }
   ],
   "source": [
    "T=2.0\n",
    "a = np.exp( -e[arg[0]]/T )\n",
    "b = np.exp( -e[arg[1]]/T ) \n",
    "c = np.exp( -e[arg[2]]/T )\n",
    "d = np.exp( -e[arg[3]]/T )\n",
    "rho0 = rho(a,b,c,d)\n",
    "\n",
    "FreeE(T,H,rho0)\n",
    "\n"
   ]
  },
  {
   "cell_type": "code",
   "execution_count": 4,
   "id": "ed5912fa",
   "metadata": {},
   "outputs": [],
   "source": [
    "FEl = []\n",
    "drl = []\n",
    "T=2.0\n",
    "a = np.exp( -e[arg[0]]/T )\n",
    "b = np.exp( -e[arg[1]]/T ) \n",
    "c = np.exp( -e[arg[2]]/T )\n",
    "d = np.exp( -e[arg[3]]/T )\n",
    "for dri in range(0,90):\n",
    "    dr = dri*0.1 - a\n",
    "    rho0 = rho(abs(a+dr),abs(b),abs(c),abs(d))\n",
    "    FE = FreeE(T,H,rho0)\n",
    "    FEl.append(FE)\n",
    "    drl.append(dr)"
   ]
  },
  {
   "cell_type": "code",
   "execution_count": 5,
   "id": "9246abc6",
   "metadata": {},
   "outputs": [
    {
     "name": "stderr",
     "output_type": "stream",
     "text": [
      "/opt/miniconda3/envs/qiskit_3.5/lib/python3.10/site-packages/matplotlib/cbook/__init__.py:1298: ComplexWarning: Casting complex values to real discards the imaginary part\n",
      "  return np.asarray(x, float)\n"
     ]
    },
    {
     "data": {
      "text/plain": [
       "[<matplotlib.lines.Line2D at 0x7feadcee4b50>]"
      ]
     },
     "execution_count": 5,
     "metadata": {},
     "output_type": "execute_result"
    },
    {
     "data": {
      "image/png": "[encoded data removed]",
      "text/plain": [
       "<Figure size 432x288 with 1 Axes>"
      ]
     },
     "metadata": {
      "needs_background": "light"
     },
     "output_type": "display_data"
    }
   ],
   "source": [
    "import matplotlib.pyplot as plt\n",
    "\n",
    "plt.plot(drl,FEl)\n"
   ]
  },
  {
   "cell_type": "markdown",
   "id": "17e8e5ae",
   "metadata": {},
   "source": [
    "This seems to be the correct minimum. \n",
    "\n",
    "## Starting from entropy\n",
    "\n",
    "Now let us start in the entropic state,\n",
    "\\begin{equation}\n",
    "\\rho_0 = e^{-E_0/T}|00><00| + e^{-E_1/T}|10><10| + e^{-E_2/T}|01><01| + e^{-E_3/T}|11><11| + \n",
    "\\end{equation}\n",
    "then we apply a basis rotation $U$ so that $$ U^{\\dagger}\\rho U = e^{-E_0/T}|E_0><E_0| + e^{-E_1/T}|E_1><E_1| + e^{-E_2/T}|E_2><E_2| + e^{-E_3/T}|E_3><E_3| $$\n"
   ]
  },
  {
   "cell_type": "code",
   "execution_count": 92,
   "id": "809d8d74",
   "metadata": {},
   "outputs": [
    {
     "name": "stdout",
     "output_type": "stream",
     "text": [
      "Entropt is the same:  0j\n",
      "density matrix after rotation:  2.7755575615628914e-17\n"
     ]
    }
   ],
   "source": [
    "\n",
    "\n",
    "def rho0(a,b,c,d):\n",
    "    rho = [[0 for i in range(4)] for j in range(4)]\n",
    "    rho[arg[0]][arg[0]] = a\n",
    "    rho[arg[1]][arg[1]] = b\n",
    "    rho[arg[2]][arg[2]] = c\n",
    "    rho[arg[3]][arg[3]] = d\n",
    "    rho = rho/np.trace(rho)\n",
    "    return rho\n",
    "\n",
    "\n",
    "T=2.0\n",
    "a = np.exp( -e[arg[0]]/T )\n",
    "b = np.exp( -e[arg[1]]/T ) \n",
    "c = np.exp( -e[arg[2]]/T )\n",
    "d = np.exp( -e[arg[3]]/T )\n",
    "\n",
    "rhop = Mdot([np.conjugate(np.transpose(psi)),rho0(a,b,c,d),psi])\n",
    "\n",
    "\n",
    "print(\"Entropt is the same: \", S(rho0(a,b,c,d)) - S(rho(a,b,c,d)))\n",
    "\n",
    "print(\"density matrix after rotation: \",np.amax(np.abs( rhop - rho(a,b,c,d) )) )\n"
   ]
  },
  {
   "cell_type": "markdown",
   "id": "06673d73",
   "metadata": {},
   "source": [
    "## Generate entropy from measurments\n",
    "\n",
    "Starting with the quantum system in the state \n",
    "$$ \\rho_i = |00> <00| $$ \n",
    "we perform a unitary operation to take the state to \n",
    "$$ \\rho_v = V^{\\dagger}\\rho V = (e^{-E_0/2T}|00> + e^{-E_1/2T}|10> + e^{-E_2/2T} |01> + e^{-E_3/2T}|11>)(e^{-E_0/2T}<00| + e^{-E_1/2T}<10| + e^{-E_2/2T} <01| + e^{-E_3/2T}<11|)$$ \n",
    "we then measure the system \n",
    "$$ \\rho_0 = \\sum_s |s><s|\\rho_v|s><s| = e^{-E_0/T} |00><00| + e^{-E_1/T} |10><10| + e^{-E_2/T} |01><01| + |e^{-E_3/T} |11><11|  $$\n",
    "Then we perform a unitary rotation to get it in the eigenbasis\n",
    "$$ \\rho =  U^{\\dagger}\\rho U = e^{-E_0/T} |E_0><E_0| + e^{-E_1/T}|E_1><E_1| + e^{-E_2/T} |E_2><E_2| + e^{-E_3/T} |E_3><E_3|$$"
   ]
  },
  {
   "cell_type": "code",
   "execution_count": 93,
   "id": "f0f93ba7",
   "metadata": {},
   "outputs": [],
   "source": [
    "def M(il,N):\n",
    "    Ml = [I(N)]\n",
    "    for i in il:  \n",
    "        M2 = []\n",
    "        for M in Ml:\n",
    "            Ma = 1/2*Mdot([M,(I(N)+Z(i,N))])\n",
    "            Mb = 1/2*Mdot([M,(I(N)-Z(i,N))])\n",
    "            M2.append(Ma)\n",
    "            M2.append(Mb)\n",
    "        Ml = M2\n",
    "    return Ml\n",
    "\n",
    "def Meas(rho,il):\n",
    "    N = int(np.log2(len(rho)))\n",
    "    ml = M(il,N)\n",
    "    rho_new = 0*rho\n",
    "    for m in ml:\n",
    "        rho_new = rho_new + Mdot([m,rho,m])\n",
    "    return rho_new"
   ]
  },
  {
   "cell_type": "code",
   "execution_count": 94,
   "id": "d297cae4",
   "metadata": {},
   "outputs": [
    {
     "name": "stdout",
     "output_type": "stream",
     "text": [
      "Entropt after measurment:  0j\n",
      "Final density matrix:  2.7755575615628914e-17\n"
     ]
    }
   ],
   "source": [
    "N = np.sqrt(a + b + c + d)\n",
    "a2 = np.sqrt(a)/N\n",
    "b2 = np.sqrt(b)/N\n",
    "c2 = np.sqrt(c)/N\n",
    "d2 = np.sqrt(d)/N\n",
    "\n",
    "# This only works because of symmetry in the eigenvalues\n",
    "V0 = np.array([a2,b2,c2,d2])\n",
    "V1 = np.array([b2,-a2,0,0])/np.sqrt(b2**2+a2**2)\n",
    "V2 = np.array([0,0,d2,-c2])/np.sqrt(d2**2+c2**2)\n",
    "V3 = np.array([-c2,-d2,a2,b2])\n",
    "\n",
    "V0 = np.array([d2,a2,c2,b2])\n",
    "V1 = np.array([a2,-d2,0,0])/np.sqrt(d2**2+a2**2)\n",
    "V2 = np.array([0,0,b2,-c2])/np.sqrt(b2**2+c2**2)\n",
    "V3 = np.array([-c2,-b2,d2,a2])\n",
    "\n",
    "V = [V3,V0,V2,V1]\n",
    "Vd = np.conjugate(np.transpose(V))\n",
    "\n",
    "\n",
    "Mdot([Vd,V])\n",
    "\n",
    "Mdot([Vd,[1,0,0,0]])\n",
    "\n",
    "\n",
    "rhoi = rho0(1,0,0,0)\n",
    "rhov = Mdot([Vd,rhoi,V])\n",
    "rho00 = Meas(rhov,[0,1,2,3])\n",
    "rhop = Mdot([np.conjugate(np.transpose(psi)),rho00,psi])\n",
    "\n",
    "print(\"Entropt after measurment: \", S(rho00) - S(rho(a,b,c,d)))\n",
    "print(\"Final density matrix: \",np.amax(np.abs( rhop - rho(a,b,c,d) )) )"
   ]
  },
  {
   "cell_type": "markdown",
   "id": "de9b7449",
   "metadata": {},
   "source": [
    "# Varriational U and V\n",
    "\n",
    "What we would really like is for both $V$ and $U$ to be unknown.  We then find both $V$ and $U$ variationally.  I suspect that as long as you get the same enetropy when measuring that state after applying $V$, the specific from of $V$ is not important.  We will define $V$ with only a single variational parameter $V(S)$ which corresponds to the amount of entropy will be generated.  \n",
    "$$ V = \\prod_{i=0}^j \\hat{H}_i\\hat{R}_{Hj}(\\phi)$$\n",
    "such that \n",
    "$$S = j \\ln 2 + \\cos(\\phi/2)^2 \\ln{\\cos(\\phi/2)^2} + \\sin(\\phi/2)^2 \\ln{\\sin(\\phi/2)^2}$$\n",
    "where $\\hat{H}_i$ is a Hadamard gate on qubit $i$ and \n",
    "$$ \\hat{R}_{Hj}(\\phi) = Z_j(\\cos(\\phi/2)I - i\\sin(\\phi/2)Y_j) $$"
   ]
  },
  {
   "cell_type": "code",
   "execution_count": 95,
   "id": "fb6fc0e8",
   "metadata": {},
   "outputs": [],
   "source": [
    "import scipy.optimize as op\n",
    "\n",
    "def Hd(i,N):\n",
    "    return 1/np.sqrt(2)*(Z(i,N) + X(i,N))\n",
    "\n",
    "def RH(theta,i,N):\n",
    "    return Mdot([Z(i,N),np.cos(theta/2)*I(N) - 1j*np.sin(theta/2)*Y(i,N)])\n",
    "\n",
    "\n",
    "def f(x,S):\n",
    "    dx = 10**(-15)\n",
    "    return np.cos(x/2)**2 * np.log(np.cos(x/2)**2 + dx) + np.sin(x/2)**2 * np.log(np.sin(x/2)**2 + dx) - S\n",
    "\n",
    "def V(S,N):\n",
    "    j = int(-S/np.log(2))\n",
    "    if j >= N:\n",
    "        raise NameError(\"An entropy of \"+str(S)+\" requires at least \"+str(j+1)+\" qubits.\")\n",
    "    dS = S + j*np.log(2)\n",
    "    phi = op.brentq(f,0,np.pi/2, args = (dS))\n",
    "    vout = I(N)\n",
    "    for i in range(j):\n",
    "        vout = Mdot([Hd(i,N),vout])\n",
    "    vout = Mdot([RH(phi,j,N),vout])\n",
    "    return vout\n",
    "\n"
   ]
  },
  {
   "cell_type": "code",
   "execution_count": 96,
   "id": "44e98fba",
   "metadata": {},
   "outputs": [
    {
     "data": {
      "text/plain": [
       "(-1.312698+0j)"
      ]
     },
     "execution_count": 96,
     "metadata": {},
     "output_type": "execute_result"
    }
   ],
   "source": [
    "N=2\n",
    "Sin = -1.312698\n",
    "rhoi = rho0(1,0,0,0)\n",
    "rhov = Mdot([np.conjugate(np.transpose(V(Sin,N))),rhoi,V(Sin,N)])\n",
    "rho00 = Meas(rhov,[0,1,2,3])\n",
    "\n",
    "S(rho00)"
   ]
  },
  {
   "cell_type": "markdown",
   "id": "8f2f9fbc",
   "metadata": {},
   "source": [
    "For $U$ we will try the Hardware efficient ansatz.  "
   ]
  },
  {
   "cell_type": "code",
   "execution_count": 97,
   "id": "af7f5ffc",
   "metadata": {},
   "outputs": [],
   "source": [
    "def Ry(theta,i,N):\n",
    "    return np.cos(theta/2)*I(N) - 1j*np.sin(theta/2)*Y(i,N)\n",
    "\n",
    "def Cx(i,j,N):\n",
    "    return 1/2*( I(N) + Z(i,N) + X(j,N) - Mdot([Z(i,N),X(j,N)]) )\n",
    "\n",
    "\n",
    "def U(Phi):\n",
    "    T = len(Phi)\n",
    "    N = len(Phi[0])\n",
    "    uout = I(N)\n",
    "    for t in range(T):\n",
    "        for i in range(N):\n",
    "            phi = Phi[t][i]\n",
    "            uout = Mdot([Ry(phi,i,N),uout])\n",
    "        for i in range(0,N,2):\n",
    "            uout = Mdot([Cx(i,i+1,N),uout])\n",
    "        for i in range(1,N,2):\n",
    "            uout = Mdot([Cx(i,i+1,N),uout])\n",
    "    return uout"
   ]
  },
  {
   "cell_type": "code",
   "execution_count": 98,
   "id": "9f0e71c4",
   "metadata": {},
   "outputs": [
    {
     "data": {
      "text/plain": [
       "(0.017612836732944837+0j)"
      ]
     },
     "execution_count": 98,
     "metadata": {},
     "output_type": "execute_result"
    }
   ],
   "source": [
    "N=2\n",
    "Sin = -(0.999)*2*np.log(2)\n",
    "Phi = [[0.3,0.2],[0.5,0.1],[0.3,0.7]]\n",
    "\n",
    "def rhof(Sin,Phi):\n",
    "    N = len(Phi[0])\n",
    "    rhoi = rho0(1,0,0,0)\n",
    "    rhov = Mdot([np.conjugate(np.transpose(V(Sin,N))),rhoi,V(Sin,N)])\n",
    "    rho00 = Meas(rhov,[0,1,2,3])\n",
    "    rhop = Mdot([np.conjugate(np.transpose(U(Phi))),rho00,U(Phi)])\n",
    "    return rhop\n",
    "\n",
    "rhop = rhof(Sin,Phi)\n",
    "\n",
    "FreeE(0.0,H,rhop)"
   ]
  },
  {
   "cell_type": "code",
   "execution_count": 99,
   "id": "b9a739f8",
   "metadata": {},
   "outputs": [],
   "source": [
    "def enforce_bounds(S,Smin,Smax):\n",
    "    if S < Smin:\n",
    "        S = Smin\n",
    "    if S > Smax:\n",
    "        S = Smax\n",
    "    return S"
   ]
  },
  {
   "cell_type": "markdown",
   "id": "32d5e202",
   "metadata": {},
   "source": [
    "# Minimize"
   ]
  },
  {
   "cell_type": "code",
   "execution_count": 168,
   "id": "584beafe",
   "metadata": {},
   "outputs": [],
   "source": [
    "\n",
    "def SPSA(T,S0,phi0,k_max):\n",
    "    beta = 0.201\n",
    "    A = 10\n",
    "    a = 0.05\n",
    "    gamma = 0.101\n",
    "    c = 0.4\n",
    "    np.random.seed(10)\n",
    "    \n",
    "    #Initalization\n",
    "    k = 0\n",
    "    Nt = len(phi0)\n",
    "    N = len(phi0[0])\n",
    "    min_S = -0.999*N*np.log(2)\n",
    "    phi_k = np.array(phi0)\n",
    "    S_k = S0\n",
    "    E_l = []\n",
    "    k_l = []\n",
    "    \n",
    "    #Begin Iterations\n",
    "    for k in range(k_max):\n",
    "        #Update c and a\n",
    "        a_k = a/((A + k + 1)**beta)\n",
    "        c_k = c/((k + 1)**gamma)\n",
    "\n",
    "        #Find Delta\n",
    "        Delta_k = np.array(phi_k)\n",
    "        for t in range(Nt):\n",
    "            for q in range(N):\n",
    "                Delta_k[t][q] = 1 - 2*np.random.binomial(size=None, n=1, p= 0.5)\n",
    "        phi_k_A = phi_k + c_k*Delta_k\n",
    "        phi_k_B = phi_k - c_k*Delta_k\n",
    "        \n",
    "        #Find Delta S\n",
    "        Delta_Sk =  1 - 2*np.random.binomial(size=None, n=1, p= 0.5)\n",
    "        S_k_A = S_k + c_k*Delta_Sk\n",
    "        S_k_B = S_k - c_k*Delta_Sk\n",
    "        S_k_A = enforce_bounds(S_k_A, min_S, 0)\n",
    "        S_k_B = enforce_bounds(S_k_B, min_S, 0)\n",
    "        \n",
    "        #Find rho \n",
    "        rho_A = rhof(S_k_A,phi_k_A)\n",
    "        rho_B = rhof(S_k_B,phi_k_B)\n",
    "            \n",
    "        #Find Free Energy    \n",
    "        E_A = FreeE(T,H,rho_A)\n",
    "        E_B = FreeE(T,H,rho_B)\n",
    "        \n",
    "        #Calculate gradiant\n",
    "        g = np.real((E_A-E_B)/(2*c_k)) \n",
    "        \n",
    "        #Update phi\n",
    "        g_k = g * Delta_k\n",
    "        phi_k = phi_k - a_k * g_k\n",
    "        \n",
    "        #Update alpha\n",
    "        g_Sk = g * Delta_Sk\n",
    "        S_k = S_k - a_k * g_Sk\n",
    "        S_k = enforce_bounds(S_k, min_S, 0)\n",
    "        \n",
    "        #Find new rho\n",
    "        rho = rhof(S_k,phi_k)\n",
    "        \n",
    "        #Find new Free Energy\n",
    "        E = FreeE(T,H,rho)\n",
    "        \n",
    "        print(k,S_k,E)\n",
    "        E_l.append(E)\n",
    "        k_l.append(k)\n",
    "\n",
    "    return E_l,k_l,S_k,phi_k"
   ]
  },
  {
   "cell_type": "code",
   "execution_count": 178,
   "id": "c952fe32",
   "metadata": {
    "scrolled": true
   },
   "outputs": [
    {
     "name": "stdout",
     "output_type": "stream",
     "text": [
      "0 -0.01935320740642802 (1.0924113278040237+0j)\n",
      "1 0 (0.5989591530602894+0j)\n",
      "2 -0.06432789253152621 (0.4428749482408601+0j)\n",
      "3 -0.04309498747109124 (0.40936623009746465+0j)\n",
      "4 -0.04718142514704861 (0.40947216964921157+0j)\n",
      "5 -0.02422472250863735 (0.38845067866559124+0j)\n",
      "6 -0.10843733456725863 (0.06822118942026795+0j)\n",
      "7 -0.1696930701602484 (-0.10347876363228094+0j)\n",
      "8 -0.16511791005284565 (-0.10478441845117925+0j)\n",
      "9 -0.18200835980709665 (-0.10284114573017478+0j)\n",
      "10 -0.2871582114221672 (-0.5660758470440186+0j)\n",
      "11 -0.18641195277423406 (-1.097948122103232+0j)\n",
      "12 -0.24422514759310301 (-1.2803732237559755+0j)\n",
      "13 -0.1972501162941702 (-1.3734313781371739+0j)\n",
      "14 -0.19350929203343195 (-1.3748214242939811+0j)\n",
      "15 -0.26744496469840284 (-1.5623539746154764+0j)\n",
      "16 -0.23454606208479 (-1.6206158943908384+0j)\n",
      "17 -0.2267368587278618 (-1.62384593613503+0j)\n",
      "18 -0.20076297626289824 (-1.6533029189258799+0j)\n",
      "19 -0.1786833488597157 (-1.674522370688794+0j)\n",
      "20 -0.17259988414894348 (-1.676089645140377+0j)\n",
      "21 -0.1705792696253907 (-1.6758197247453785+0j)\n",
      "22 -0.15713517154604734 (-1.6923430694936632+0j)\n",
      "23 -0.10787750770222457 (-1.7988990201845403+0j)\n",
      "24 -0.08619426366921587 (-1.8182392827753293+0j)\n",
      "25 -0.09123196117226792 (-1.819265772486413+0j)\n",
      "26 -0.09602900255017151 (-1.8207808887070596+0j)\n",
      "27 -0.08904773995308708 (-1.8227375180244398+0j)\n",
      "28 -0.05944663733312799 (-1.8625839536039581+0j)\n",
      "29 -0.04006805142357785 (-1.8819155789498694+0j)\n",
      "30 -0.029271593588258732 (-1.8874928988959647+0j)\n",
      "31 -0.0432181366132654 (-1.899157534240527+0j)\n",
      "32 -0.03386379900133991 (-1.9026689881411674+0j)\n",
      "33 -0.012742573702874592 (-1.9207049617700518+0j)\n",
      "34 -0.009292731229297557 (-1.920424179349512+0j)\n",
      "35 0 (-1.9252375071430434+0j)\n",
      "36 0 (-1.9249353083119445+0j)\n",
      "37 0 (-1.9237534109107197+0j)\n",
      "38 0 (-1.937196544879173+0j)\n",
      "39 0 (-1.936765725597937+0j)\n",
      "40 0 (-1.9428089459144922+0j)\n",
      "41 -0.009610956499934058 (-1.9494730749866598+0j)\n",
      "42 0 (-1.9574432514531446+0j)\n",
      "43 0 (-1.9719780640596314+0j)\n",
      "44 0 (-1.9714706035534544+0j)\n",
      "45 0 (-1.9713636643513344+0j)\n",
      "46 0 (-1.9681444746748271+0j)\n",
      "47 0 (-1.971195449360213+0j)\n",
      "48 -0.0048673835176664204 (-1.9712032033080464+0j)\n",
      "49 0 (-1.9741591077668443+0j)\n",
      "50 0 (-1.9805794004559711+0j)\n",
      "51 0 (-1.9800342322893596+0j)\n",
      "52 0 (-1.981070104703628+0j)\n",
      "53 -0.00045349740625030046 (-1.981093462804004+0j)\n",
      "54 0 (-1.9790145005390565+0j)\n",
      "55 -0.01307058432696334 (-1.9895048345369128+0j)\n",
      "56 -0.0140080891167172 (-1.9891928594299297+0j)\n",
      "57 -0.008131517369944077 (-1.9897649400761737+0j)\n",
      "58 0 (-1.9978363753498156+0j)\n",
      "59 -0.0005245405488332062 (-1.9979121271353106+0j)\n",
      "60 0 (-2.0023884854493663+0j)\n",
      "61 0 (-2.0006551286113803+0j)\n",
      "62 -0.004602683267383648 (-2.0012065770523804+0j)\n",
      "63 -0.001705863919849625 (-2.0014177606501664+0j)\n",
      "64 0 (-2.0077384743183853+0j)\n",
      "65 0 (-2.0097163014835817+0j)\n",
      "66 0 (-2.0140818097046718+0j)\n",
      "67 0 (-2.012557304583014+0j)\n",
      "68 0 (-2.01312549682824+0j)\n",
      "69 0 (-2.016876173073435+0j)\n",
      "70 0 (-2.0200082808947672+0j)\n",
      "71 0 (-2.019891118409393+0j)\n",
      "72 -0.010253825179184451 (-2.0186674387197163+0j)\n",
      "73 -0.008386762522292587 (-2.019431122149541+0j)\n",
      "74 -0.0033236513957862427 (-2.0201867038886134+0j)\n",
      "75 0 (-2.02077199789223+0j)\n",
      "76 0 (-2.0205456110676354+0j)\n",
      "77 0 (-2.020660214772642+0j)\n",
      "78 0 (-2.020541626710518+0j)\n",
      "79 -0.0010550608078785744 (-2.020306992637472+0j)\n",
      "80 0 (-2.0201910910030683+0j)\n",
      "81 0 (-2.020158290459822+0j)\n",
      "82 0 (-2.0205524647433175+0j)\n",
      "83 0 (-2.0199575894273507+0j)\n",
      "84 -0.0016445774787409947 (-2.019774971246847+0j)\n",
      "85 0 (-2.0214489238241447+0j)\n",
      "86 0 (-2.0213749662742413+0j)\n",
      "87 0 (-2.0212088269082114+0j)\n",
      "88 0 (-2.0208799716065435+0j)\n",
      "89 0 (-2.0208249367006985+0j)\n",
      "90 0 (-2.0201655555645743+0j)\n",
      "91 0 (-2.019469160301672+0j)\n",
      "92 0 (-2.020339297599298+0j)\n",
      "93 0 (-2.0201472435054946+0j)\n",
      "94 0 (-2.0198415723390273+0j)\n",
      "95 0 (-2.019444802141909+0j)\n",
      "96 0 (-2.0196703341741866+0j)\n",
      "97 0 (-2.0199912504260062+0j)\n",
      "98 0 (-2.0199640675746555+0j)\n",
      "99 0 (-2.019589198530325+0j)\n",
      "100 0 (-2.0194900095891763+0j)\n",
      "101 -0.002134022745596274 (-2.0188361092954796+0j)\n",
      "102 -0.00021651129498184512 (-2.0194163663316904+0j)\n",
      "103 0 (-2.018653294063766+0j)\n",
      "104 0 (-2.018764294346085+0j)\n",
      "105 0 (-2.019209515310429+0j)\n",
      "106 0 (-2.021291723256285+0j)\n",
      "107 0 (-2.0216510845951117+0j)\n",
      "108 0 (-2.0222835284005423+0j)\n",
      "109 0 (-2.021720942073002+0j)\n",
      "110 0 (-2.021952018429751+0j)\n",
      "111 0 (-2.0217042338949+0j)\n",
      "112 0 (-2.021661553128003+0j)\n",
      "113 0 (-2.0222020514690433+0j)\n",
      "114 0 (-2.0221982581183724+0j)\n",
      "115 0 (-2.0220846659544827+0j)\n",
      "116 0 (-2.021990233811714+0j)\n",
      "117 0 (-2.0221104065807407+0j)\n",
      "118 0 (-2.0215772687778886+0j)\n",
      "119 0 (-2.0215732910862267+0j)\n",
      "120 0 (-2.0215046156985927+0j)\n",
      "121 0 (-2.0214923980779456+0j)\n",
      "122 0 (-2.02114456197577+0j)\n",
      "123 0 (-2.0208658662958534+0j)\n",
      "124 0 (-2.021469459315864+0j)\n",
      "125 0 (-2.0214956548175396+0j)\n",
      "126 0 (-2.0212450244243167+0j)\n",
      "127 0 (-2.021447096436312+0j)\n",
      "128 0 (-2.0215515556280317+0j)\n",
      "129 0 (-2.021519966723943+0j)\n",
      "130 -0.001691905044050181 (-2.021422405809568+0j)\n",
      "131 0 (-2.021622796058564+0j)\n",
      "132 0 (-2.021607858350459+0j)\n",
      "133 0 (-2.021747938031829+0j)\n",
      "134 0 (-2.021609214153525+0j)\n",
      "135 0 (-2.0213903532409083+0j)\n",
      "136 0 (-2.0207643247799116+0j)\n",
      "137 0 (-2.0206201760945985+0j)\n",
      "138 -0.002389718406019575 (-2.020432551787596+0j)\n",
      "139 0 (-2.020941942617146+0j)\n",
      "140 0 (-2.0210564975119314+0j)\n",
      "141 -0.0009677108949206511 (-2.020978112678352+0j)\n",
      "142 0 (-2.020986594398183+0j)\n",
      "143 0 (-2.021653502000549+0j)\n",
      "144 0 (-2.021359535681285+0j)\n",
      "145 0 (-2.021465277796052+0j)\n",
      "146 0 (-2.021423754251502+0j)\n",
      "147 0 (-2.02086384452251+0j)\n",
      "148 -0.0022482971734196456 (-2.020760837166316+0j)\n",
      "149 0 (-2.0206088634278427+0j)\n",
      "150 -0.001385020380388917 (-2.02036812056002+0j)\n",
      "151 0 (-2.020485266726064+0j)\n",
      "152 0 (-2.0203461853608538+0j)\n",
      "153 0 (-2.0184556036085954+0j)\n",
      "154 0 (-2.018508855795439+0j)\n",
      "155 -7.828198619794935e-05 (-2.018513139565174+0j)\n",
      "156 0 (-2.0184071509990757+0j)\n",
      "157 0 (-2.0183235059577687+0j)\n",
      "158 0 (-2.0182876795827105+0j)\n",
      "159 0 (-2.0179292339668797+0j)\n",
      "160 0 (-2.0189945967286738+0j)\n",
      "161 0 (-2.018616230164246+0j)\n",
      "162 -0.0032427221041422907 (-2.0183320738599235+0j)\n",
      "163 0 (-2.0200708440582997+0j)\n",
      "164 0 (-2.0196592555660797+0j)\n",
      "165 0 (-2.0194887026737245+0j)\n",
      "166 0 (-2.018932231575522+0j)\n",
      "167 0 (-2.0189434266590527+0j)\n",
      "168 0 (-2.018937507405405+0j)\n",
      "169 0 (-2.0187439183465714+0j)\n",
      "170 0 (-2.0211064177175757+0j)\n",
      "171 0 (-2.0208534675797454+0j)\n",
      "172 0 (-2.020233935237745+0j)\n",
      "173 0 (-2.0202568823176605+0j)\n",
      "174 0 (-2.021416165835647+0j)\n",
      "175 0 (-2.0210786726842085+0j)\n",
      "176 0 (-2.0214273206858127+0j)\n",
      "177 -0.0036361107301500946 (-2.0207673691937003+0j)\n",
      "178 0 (-2.0217412893671347+0j)\n",
      "179 0 (-2.021698626554563+0j)\n",
      "180 0 (-2.0215870889904552+0j)\n",
      "181 0 (-2.0214921060601507+0j)\n",
      "182 0 (-2.0209810716627086+0j)\n",
      "183 0 (-2.020490158674587+0j)\n",
      "184 0 (-2.020388744554445+0j)\n",
      "185 0 (-2.0205333152183154+0j)\n",
      "186 0 (-2.0205401221686157+0j)\n",
      "187 0 (-2.020047580560329+0j)\n",
      "188 0 (-2.0208514810906073+0j)\n",
      "189 0 (-2.0211457199676386+0j)\n",
      "190 0 (-2.0213766143308805+0j)\n",
      "191 0 (-2.020965567124205+0j)\n",
      "192 0 (-2.0208127441735875+0j)\n",
      "193 -0.0011435273786403908 (-2.0208068717268164+0j)\n",
      "194 0 (-2.0216854672349136+0j)\n",
      "195 -0.0006043376547647134 (-2.0215666572104136+0j)\n",
      "196 0 (-2.0216048109300653+0j)\n",
      "197 0 (-2.0217467054364833+0j)\n",
      "198 0 (-2.0217637903016623+0j)\n",
      "199 0 (-2.0214342829598513+0j)\n",
      "200 0 (-2.0209136999197344+0j)\n",
      "201 0 (-2.020854814534666+0j)\n",
      "202 0 (-2.0210766788691052+0j)\n",
      "203 0 (-2.0210371200364605+0j)\n",
      "204 0 (-2.0211151123764926+0j)\n",
      "205 -0.0013208286698203396 (-2.020995207724973+0j)\n",
      "206 0 (-2.020912687515937+0j)\n",
      "207 0 (-2.0202406820927026+0j)\n",
      "208 0 (-2.020588235037114+0j)\n",
      "209 0 (-2.0204432308022846+0j)\n",
      "210 0 (-2.020447065244515+0j)\n",
      "211 0 (-2.0204424784285036+0j)\n",
      "212 0 (-2.0205640571264927+0j)\n",
      "213 0 (-2.020165039732003+0j)\n",
      "214 0 (-2.0202117851129344+0j)\n",
      "215 0 (-2.0205654495547956+0j)\n",
      "216 0 (-2.021117439362352+0j)\n",
      "217 0 (-2.0212545336488823+0j)\n",
      "218 0 (-2.0212301806437836+0j)\n",
      "219 0 (-2.0208362239748716+0j)\n",
      "220 0 (-2.020806791250263+0j)\n",
      "221 0 (-2.0204632757258403+0j)\n",
      "222 0 (-2.020839920396263+0j)\n",
      "223 0 (-2.0196977648526357+0j)\n",
      "224 0 (-2.020131678407389+0j)\n",
      "225 0 (-2.0209527247990318+0j)\n",
      "226 0 (-2.0208579814492222+0j)\n",
      "227 0 (-2.021053271420199+0j)\n",
      "228 0 (-2.0213021327548932+0j)\n",
      "229 0 (-2.020811166866579+0j)\n",
      "230 0 (-2.0214163388167936+0j)\n",
      "231 0 (-2.021368831814664+0j)\n",
      "232 0 (-2.022045895779+0j)\n",
      "233 0 (-2.022036019856907+0j)\n",
      "234 0 (-2.021499013931388+0j)\n"
     ]
    },
    {
     "name": "stdout",
     "output_type": "stream",
     "text": [
      "235 0 (-2.0215335612017578+0j)\n",
      "236 0 (-2.020957595292475+0j)\n",
      "237 0 (-2.02110264701186+0j)\n",
      "238 0 (-2.020594017114979+0j)\n",
      "239 0 (-2.0204757199406114+0j)\n",
      "240 0 (-2.02047187379908+0j)\n",
      "241 0 (-2.020394689530548+0j)\n",
      "242 0 (-2.020539416959663+0j)\n",
      "243 0 (-2.019879988379642+0j)\n",
      "244 0 (-2.0191161619013487+0j)\n",
      "245 0 (-2.0192106625870503+0j)\n",
      "246 0 (-2.018575398991156+0j)\n",
      "247 -0.0029323098722546423 (-2.018217031846669+0j)\n",
      "248 0 (-2.0205881913436716+0j)\n",
      "249 0 (-2.0195779072882067+0j)\n",
      "250 0 (-2.0196334072216446+0j)\n",
      "251 0 (-2.0200734941308394+0j)\n",
      "252 0 (-2.019985567902702+0j)\n",
      "253 0 (-2.0205663179203066+0j)\n",
      "254 0 (-2.0217646485936602+0j)\n",
      "255 -3.214745983610023e-05 (-2.0217607771364983+0j)\n",
      "256 0 (-2.02175351065562+0j)\n",
      "257 0 (-2.0216552045219336+0j)\n",
      "258 0 (-2.0213394737371746+0j)\n",
      "259 0 (-2.02160740386382+0j)\n",
      "260 -0.002080510539676371 (-2.0210609067634837+0j)\n",
      "261 0 (-2.0212768669230337+0j)\n",
      "262 0 (-2.0220348648490285+0j)\n",
      "263 0 (-2.0222034362096606+0j)\n",
      "264 0 (-2.0215996850374953+0j)\n",
      "265 0 (-2.0222660364447127+0j)\n",
      "266 0 (-2.022310789614167+0j)\n",
      "267 0 (-2.02229559111827+0j)\n",
      "268 0 (-2.0222560528029025+0j)\n",
      "269 0 (-2.0222582963718048+0j)\n",
      "270 0 (-2.0221925988514258+0j)\n",
      "271 0 (-2.0222159420723784+0j)\n",
      "272 0 (-2.022249264409948+0j)\n",
      "273 0 (-2.0222129545511365+0j)\n",
      "274 0 (-2.022119687111945+0j)\n",
      "275 0 (-2.022034223922601+0j)\n",
      "276 0 (-2.022034454014748+0j)\n",
      "277 0 (-2.021846597379513+0j)\n",
      "278 0 (-2.021550884756144+0j)\n",
      "279 0 (-2.0220791818777677+0j)\n",
      "280 0 (-2.0219629786835567+0j)\n",
      "281 0 (-2.021994050696205+0j)\n",
      "282 0 (-2.021932335086166+0j)\n",
      "283 0 (-2.0218567663503593+0j)\n",
      "284 0 (-2.0221566991254405+0j)\n",
      "285 -0.0031420677142572425 (-2.0215050955864333+0j)\n",
      "286 -0.0003137210694395165 (-2.0222183404046774+0j)\n",
      "287 0 (-2.0222065491894377+0j)\n",
      "288 0 (-2.022246906022909+0j)\n",
      "289 0 (-2.0221202903278983+0j)\n",
      "290 0 (-2.021936920254092+0j)\n",
      "291 0 (-2.0218439433953055+0j)\n",
      "292 0 (-2.021907823829735+0j)\n",
      "293 0 (-2.022205558901431+0j)\n",
      "294 0 (-2.0217257521641785+0j)\n",
      "295 0 (-2.021406042314618+0j)\n",
      "296 0 (-2.0212862523953365+0j)\n",
      "297 0 (-2.0210947792280143+0j)\n",
      "298 0 (-2.0211644345122664+0j)\n",
      "299 0 (-2.0208691121337274+0j)\n"
     ]
    }
   ],
   "source": [
    "S0 = -(0.0)*2*np.log(2)\n",
    "phi0 = [[0.3,0.2],[0.5,0.1],[0.3,0.7],[1.2,0.9]]\n",
    "\n",
    "T = 0.1\n",
    "El,kl,Sf,phif = SPSA(T, S0, phi0, 300)"
   ]
  },
  {
   "cell_type": "code",
   "execution_count": 179,
   "id": "a8218551",
   "metadata": {},
   "outputs": [
    {
     "data": {
      "text/plain": [
       "[<matplotlib.lines.Line2D at 0x7feac5c79150>]"
      ]
     },
     "execution_count": 179,
     "metadata": {},
     "output_type": "execute_result"
    },
    {
     "data": {
      "image/png": "[encoded data removed]",
      "text/plain": [
       "<Figure size 432x288 with 1 Axes>"
      ]
     },
     "metadata": {
      "needs_background": "light"
     },
     "output_type": "display_data"
    }
   ],
   "source": [
    "plt.plot(kl,El)"
   ]
  },
  {
   "cell_type": "code",
   "execution_count": 180,
   "id": "e951c0d3",
   "metadata": {},
   "outputs": [],
   "source": [
    "import pandas as pd\n",
    "#pd.DataFrame( rhof(Sf,phif) )"
   ]
  },
  {
   "cell_type": "code",
   "execution_count": 181,
   "id": "98103b7b",
   "metadata": {},
   "outputs": [],
   "source": [
    "a = np.exp( -e[arg[0]]/T )\n",
    "b = np.exp( -e[arg[1]]/T ) \n",
    "c = np.exp( -e[arg[2]]/T )\n",
    "d = np.exp( -e[arg[3]]/T )\n",
    "rhop = rho(a,b,c,d)\n",
    "\n",
    "#pd.DataFrame( rhop )"
   ]
  },
  {
   "cell_type": "code",
   "execution_count": 182,
   "id": "97c3a865",
   "metadata": {},
   "outputs": [
    {
     "name": "stdout",
     "output_type": "stream",
     "text": [
      "(-2.022374844415427+0j)\n",
      "(-2.0208691121337274+0j)\n"
     ]
    }
   ],
   "source": [
    "print( FreeE(T,H,rhop) )\n",
    "print( FreeE(T,H,rhof(Sf,phif) ) )"
   ]
  },
  {
   "cell_type": "code",
   "execution_count": 183,
   "id": "9a6a6e24",
   "metadata": {},
   "outputs": [
    {
     "name": "stdout",
     "output_type": "stream",
     "text": [
      "(-6.000000000000001e-07+0j)\n",
      "0\n",
      "0j\n"
     ]
    }
   ],
   "source": [
    "print( S(rhop) )\n",
    "print( Sf )\n",
    "print( S(rhof(Sf,phif)) )"
   ]
  },
  {
   "cell_type": "code",
   "execution_count": 184,
   "id": "217dc617",
   "metadata": {},
   "outputs": [
    {
     "name": "stdout",
     "output_type": "stream",
     "text": [
      "(-2.022374784415427+0j)\n",
      "(-2.0208691121337274+0j)\n"
     ]
    }
   ],
   "source": [
    "print( np.trace(Mdot([rhop,H])) )\n",
    "print( np.trace(Mdot([rhof(Sf,phif),H])) )"
   ]
  },
  {
   "cell_type": "code",
   "execution_count": null,
   "id": "c4c75910",
   "metadata": {},
   "outputs": [],
   "source": []
  },
  {
   "cell_type": "code",
   "execution_count": null,
   "id": "c6a3f6ce",
   "metadata": {},
   "outputs": [],
   "source": []
  }
 ],
 "metadata": {
  "kernelspec": {
   "display_name": "qiskit_3.5",
   "language": "python",
   "name": "qiskit_3.5"
  },
  "language_info": {
   "codemirror_mode": {
    "name": "ipython",
    "version": 3
   },
   "file_extension": ".py",
   "mimetype": "text/x-python",
   "name": "python",
   "nbconvert_exporter": "python",
   "pygments_lexer": "ipython3",
   "version": "3.10.4"
  },
  "toc": {
   "base_numbering": 1,
   "nav_menu": {},
   "number_sections": true,
   "sideBar": true,
   "skip_h1_title": false,
   "title_cell": "Table of Contents",
   "title_sidebar": "Contents",
   "toc_cell": false,
   "toc_position": {},
   "toc_section_display": true,
   "toc_window_display": false
  }
 },
 "nbformat": 4,
 "nbformat_minor": 5
}
