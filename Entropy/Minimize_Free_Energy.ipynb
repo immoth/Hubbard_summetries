{
 "cells": [
  {
   "cell_type": "markdown",
   "id": "d86d88c1",
   "metadata": {},
   "source": [
    "# Minimize Free Energy\n",
    "\n",
    "Here we explore the states which minimize the free energy,\n",
    "$$ E = <H> - T S = \\text{Tr}(\\rho H) + T \\text{Tr}(\\rho \\ln \\rho)$$"
   ]
  },
  {
   "cell_type": "code",
   "execution_count": 1,
   "id": "4e11d1b9",
   "metadata": {},
   "outputs": [],
   "source": [
    "from Define_Paulis import I, X, Y, Z, Mdot, bkt\n",
    "import numpy as np\n",
    "import scipy.linalg as ln"
   ]
  },
  {
   "cell_type": "markdown",
   "id": "99432850",
   "metadata": {},
   "source": [
    "## Directly minimize the density matrix\n",
    "\n",
    "Let us start by taking $\\rho$ to be diagonal in the eigenbasis of H.\n",
    "\\begin{equation}\n",
    "\\rho = \\begin{pmatrix} e^{x_1} & 0 & 0 & 0 \\\\ 0 & e^{x_2} & 0 & 0 \\\\ 0 & 0 & e^{x_3} & 0 \\\\ 0 & 0 & 0 &  \\ddots  \\end{pmatrix}\n",
    "\\end{equation}\n",
    "so that $$ \\text{Tr}(\\rho H) = e^{x_1} E_0 + e^{x_2} E_1 + e^{x_3} E_2 + \\ldots$$\n",
    "and \n",
    "$$ \\text{Tr}(\\rho \\ln \\rho) = e^{x_1} x_1 + e^{x_1} x_2 + e^{x_1} x_3 + \\ldots $$\n",
    "\n",
    "We search for minima for each parameter, \n",
    "$$ 0 = \\frac{d}{dx_n}F = e^{x_n}E_0 + T(x_n+1)e^{x_n} $$\n",
    "$$ x_n = -\\frac{E_n}{T} - 1$$\n",
    "Since we have neglected normalization the $-1$ is meaningless.  \n",
    "\n",
    "Let's check this,\n"
   ]
  },
  {
   "cell_type": "code",
   "execution_count": 51,
   "id": "ac099223",
   "metadata": {},
   "outputs": [],
   "source": [
    "H = Z(0,2) + Z(1,2) + 0.3*Mdot([X(0,2),X(1,2)])\n",
    "\n",
    "e,y = ln.eig(H)\n",
    "arg = np.argsort(e)\n",
    "psi = np.conjugate(np.transpose(y))\n",
    "    \n",
    "\n",
    "\n",
    "def ketbra(psia,psib):\n",
    "    out = [[0 for i in range(len(psia))] for j in range(len(psib))]\n",
    "    for i in range(len(psia)):\n",
    "        for j in range(len(psib)):\n",
    "            out[i][j] = psia[i]*np.conjugate( psib[j] )\n",
    "    return np.array(out)\n",
    "            \n",
    "def S(rho):\n",
    "    e,y = ln.eig(rho)\n",
    "    s = -sum([np.round( (e[n]+10**-28)*np.log(e[n]+10**(-28)) , 8) for n in range(len(e))])\n",
    "    return s\n",
    "\n",
    "def FreeE(T,H,rho):\n",
    "    #print('H: ',np.trace(Mdot([H,rho])))\n",
    "    #print('S: ', + T*S(rho))\n",
    "    return np.trace(Mdot([H,rho])) - T*S(rho)\n",
    "    \n",
    "\n",
    "def rho(a,b,c,d):\n",
    "    rho0 = a*ketbra(psi[arg[0]],psi[arg[0]]) + b*ketbra(psi[arg[1]],psi[arg[1]]) + c*ketbra(psi[arg[2]],psi[arg[2]]) + d*ketbra(psi[arg[3]],psi[arg[3]])\n",
    "    rho0 = rho0/np.trace(rho0)\n",
    "    return rho0\n"
   ]
  },
  {
   "cell_type": "code",
   "execution_count": 23,
   "id": "4282be8b",
   "metadata": {},
   "outputs": [
    {
     "data": {
      "text/plain": [
       "(-3.2722345306848+0j)"
      ]
     },
     "execution_count": 23,
     "metadata": {},
     "output_type": "execute_result"
    }
   ],
   "source": [
    "T=2.0\n",
    "a = np.exp( -e[arg[0]]/T )\n",
    "b = np.exp( -e[arg[1]]/T ) \n",
    "c = np.exp( -e[arg[2]]/T )\n",
    "d = np.exp( -e[arg[3]]/T )\n",
    "rho0 = rho(a,b,c,d)\n",
    "\n",
    "FreeE(T,H,rho0)\n",
    "\n"
   ]
  },
  {
   "cell_type": "code",
   "execution_count": 24,
   "id": "ed5912fa",
   "metadata": {},
   "outputs": [],
   "source": [
    "FEl = []\n",
    "drl = []\n",
    "T=2.0\n",
    "a = np.exp( -e[arg[0]]/T )\n",
    "b = np.exp( -e[arg[1]]/T ) \n",
    "c = np.exp( -e[arg[2]]/T )\n",
    "d = np.exp( -e[arg[3]]/T )\n",
    "for dri in range(0,90):\n",
    "    dr = dri*0.1 - a\n",
    "    rho0 = rho(abs(a+dr),abs(b),abs(c),abs(d))\n",
    "    FE = FreeE(T,H,rho0)\n",
    "    FEl.append(FE)\n",
    "    drl.append(dr)"
   ]
  },
  {
   "cell_type": "code",
   "execution_count": 25,
   "id": "9246abc6",
   "metadata": {},
   "outputs": [
    {
     "data": {
      "text/plain": [
       "[<matplotlib.lines.Line2D at 0x7f9978d85300>]"
      ]
     },
     "execution_count": 25,
     "metadata": {},
     "output_type": "execute_result"
    },
    {
     "data": {
      "image/png": "[encoded data removed]",
      "text/plain": [
       "<Figure size 432x288 with 1 Axes>"
      ]
     },
     "metadata": {
      "needs_background": "light"
     },
     "output_type": "display_data"
    }
   ],
   "source": [
    "import matplotlib.pyplot as plt\n",
    "\n",
    "plt.plot(drl,FEl)\n"
   ]
  },
  {
   "cell_type": "markdown",
   "id": "17e8e5ae",
   "metadata": {},
   "source": [
    "This seems to be the correct minimum. \n",
    "\n",
    "## Starting from entropy\n",
    "\n",
    "Now let us start in the entropic state,\n",
    "\\begin{equation}\n",
    "\\rho_0 = e^{-E_0/T}|00><00| + e^{-E_1/T}|10><10| + e^{-E_2/T}|01><01| + e^{-E_3/T}|11><11| + \n",
    "\\end{equation}\n",
    "then we apply a basis rotation $U$ so that $$ U^{\\dagger}\\rho U = e^{-E_0/T}|E_0><E_0| + e^{-E_1/T}|E_1><E_1| + e^{-E_2/T}|E_2><E_2| + e^{-E_3/T}|E_3><E_3| $$\n"
   ]
  },
  {
   "cell_type": "code",
   "execution_count": 26,
   "id": "809d8d74",
   "metadata": {},
   "outputs": [
    {
     "name": "stdout",
     "output_type": "stream",
     "text": [
      "Entropt is the same:  0j\n",
      "density matrix after rotation:  2.7755575615628914e-17\n"
     ]
    }
   ],
   "source": [
    "\n",
    "\n",
    "def rho0(a,b,c,d):\n",
    "    rho = [[0 for i in range(4)] for j in range(4)]\n",
    "    rho[arg[0]][arg[0]] = a\n",
    "    rho[arg[1]][arg[1]] = b\n",
    "    rho[arg[2]][arg[2]] = c\n",
    "    rho[arg[3]][arg[3]] = d\n",
    "    rho = rho/np.trace(rho)\n",
    "    return rho\n",
    "\n",
    "\n",
    "T=2.0\n",
    "a = np.exp( -e[arg[0]]/T )\n",
    "b = np.exp( -e[arg[1]]/T ) \n",
    "c = np.exp( -e[arg[2]]/T )\n",
    "d = np.exp( -e[arg[3]]/T )\n",
    "\n",
    "rhop = Mdot([np.conjugate(np.transpose(psi)),rho0(a,b,c,d),psi])\n",
    "\n",
    "\n",
    "print(\"Entropt is the same: \", S(rho0(a,b,c,d)) - S(rho(a,b,c,d)))\n",
    "\n",
    "print(\"density matrix after rotation: \",np.amax(np.abs( rhop - rho(a,b,c,d) )) )\n"
   ]
  },
  {
   "cell_type": "markdown",
   "id": "06673d73",
   "metadata": {},
   "source": [
    "## Generate entropy from measurments\n",
    "\n",
    "Starting with the quantum system in the state \n",
    "$$ \\rho_i = |00> <00| $$ \n",
    "we perform a unitary operation to take the state to \n",
    "$$ \\rho_v = V^{\\dagger}\\rho V = (e^{-E_0/2T}|00> + e^{-E_1/2T}|10> + e^{-E_2/2T} |01> + e^{-E_3/2T}|11>)(e^{-E_0/2T}<00| + e^{-E_1/2T}<10| + e^{-E_2/2T} <01| + e^{-E_3/2T}<11|)$$ \n",
    "we then measure the system \n",
    "$$ \\rho_0 = \\sum_s |s><s|\\rho_v|s><s| = e^{-E_0/T} |00><00| + e^{-E_1/T} |10><10| + e^{-E_2/T} |01><01| + |e^{-E_3/T} |11><11|  $$\n",
    "Then we perform a unitary rotation to get it in the eigenbasis\n",
    "$$ \\rho =  U^{\\dagger}\\rho U = e^{-E_0/T} |E_0><E_0| + e^{-E_1/T}|E_1><E_1| + e^{-E_2/T} |E_2><E_2| + e^{-E_3/T} |E_3><E_3|$$"
   ]
  },
  {
   "cell_type": "code",
   "execution_count": 27,
   "id": "f0f93ba7",
   "metadata": {},
   "outputs": [],
   "source": [
    "def M(il,N):\n",
    "    Ml = [I(N)]\n",
    "    for i in il:  \n",
    "        M2 = []\n",
    "        for M in Ml:\n",
    "            Ma = 1/2*Mdot([M,(I(N)+Z(i,N))])\n",
    "            Mb = 1/2*Mdot([M,(I(N)-Z(i,N))])\n",
    "            M2.append(Ma)\n",
    "            M2.append(Mb)\n",
    "        Ml = M2\n",
    "    return Ml\n",
    "\n",
    "def Meas(rho,il):\n",
    "    N = int(np.log2(len(rho)))\n",
    "    ml = M(il,N)\n",
    "    rho_new = 0*rho\n",
    "    for m in ml:\n",
    "        rho_new = rho_new + Mdot([m,rho,m])\n",
    "    return rho_new"
   ]
  },
  {
   "cell_type": "code",
   "execution_count": 28,
   "id": "d297cae4",
   "metadata": {},
   "outputs": [
    {
     "name": "stdout",
     "output_type": "stream",
     "text": [
      "Entropt after measurment:  0j\n",
      "Final density matrix:  2.7755575615628914e-17\n"
     ]
    }
   ],
   "source": [
    "N = np.sqrt(a + b + c + d)\n",
    "a2 = np.sqrt(a)/N\n",
    "b2 = np.sqrt(b)/N\n",
    "c2 = np.sqrt(c)/N\n",
    "d2 = np.sqrt(d)/N\n",
    "\n",
    "# This only works because of symmetry in the eigenvalues\n",
    "V0 = np.array([a2,b2,c2,d2])\n",
    "V1 = np.array([b2,-a2,0,0])/np.sqrt(b2**2+a2**2)\n",
    "V2 = np.array([0,0,d2,-c2])/np.sqrt(d2**2+c2**2)\n",
    "V3 = np.array([-c2,-d2,a2,b2])\n",
    "\n",
    "V0 = np.array([d2,a2,c2,b2])\n",
    "V1 = np.array([a2,-d2,0,0])/np.sqrt(d2**2+a2**2)\n",
    "V2 = np.array([0,0,b2,-c2])/np.sqrt(b2**2+c2**2)\n",
    "V3 = np.array([-c2,-b2,d2,a2])\n",
    "\n",
    "V = [V3,V0,V2,V1]\n",
    "Vd = np.conjugate(np.transpose(V))\n",
    "\n",
    "\n",
    "Mdot([Vd,V])\n",
    "\n",
    "Mdot([Vd,[1,0,0,0]])\n",
    "\n",
    "\n",
    "rhoi = rho0(1,0,0,0)\n",
    "rhov = Mdot([Vd,rhoi,V])\n",
    "rho00 = Meas(rhov,[0,1,2,3])\n",
    "rhop = Mdot([np.conjugate(np.transpose(psi)),rho00,psi])\n",
    "\n",
    "print(\"Entropt after measurment: \", S(rho00) - S(rho(a,b,c,d)))\n",
    "print(\"Final density matrix: \",np.amax(np.abs( rhop - rho(a,b,c,d) )) )"
   ]
  },
  {
   "cell_type": "markdown",
   "id": "de9b7449",
   "metadata": {},
   "source": [
    "# Varriational U and V\n",
    "\n",
    "What we would really like is for both $V$ and $U$ to be unknown.  We then find both $V$ and $U$ variationally.  I suspect that as long as you get the same enetropy when measuring that state after applying $V$, the specific from of $V$ is not important.  We will define $V$ with only a single variational parameter $V(S)$ which corresponds to the amount of entropy that will be generated.  \n",
    "$$ V = \\prod_{i=0}^j \\hat{H}_i\\hat{R}_{Hj}(\\phi)$$\n",
    "such that \n",
    "$$S = j \\ln 2 + \\cos(\\phi/2)^2 \\ln{\\cos(\\phi/2)^2} + \\sin(\\phi/2)^2 \\ln{\\sin(\\phi/2)^2}$$\n",
    "where $\\hat{H}_i$ is a Hadamard gate on qubit $i$ and \n",
    "$$ \\hat{R}_{Hj}(\\phi) = Z_j(\\cos(\\phi/2)I - i\\sin(\\phi/2)Y_j) $$"
   ]
  },
  {
   "cell_type": "code",
   "execution_count": 60,
   "id": "fb6fc0e8",
   "metadata": {},
   "outputs": [],
   "source": [
    "import scipy.optimize as op\n",
    "\n",
    "def Hd(i,N):\n",
    "    return 1/np.sqrt(2)*(Z(i,N) + X(i,N))\n",
    "\n",
    "def RH(theta,i,N):\n",
    "    return Mdot([Z(i,N),np.cos(theta/2)*I(N) - 1j*np.sin(theta/2)*Y(i,N)])\n",
    "\n",
    "\n",
    "def f(x,S):\n",
    "    dx = 10**(-15)\n",
    "    return -np.cos(x/2)**2 * np.log(np.cos(x/2)**2 + dx) - np.sin(x/2)**2 * np.log(np.sin(x/2)**2 + dx) - S\n",
    "\n",
    "def V(S,N):\n",
    "    j = int(S/np.log(2))\n",
    "    if j >= N:\n",
    "        raise NameError(\"An entropy of \"+str(S)+\" requires at least \"+str(j+1)+\" qubits.\")\n",
    "    dS = S - j*np.log(2)\n",
    "    phi = op.brentq(f,0,np.pi/2, args = (dS))\n",
    "    vout = I(N)\n",
    "    for i in range(j):\n",
    "        vout = Mdot([Hd(i,N),vout])\n",
    "    vout = Mdot([RH(phi,j,N),vout])\n",
    "    return vout\n",
    "\n"
   ]
  },
  {
   "cell_type": "code",
   "execution_count": 62,
   "id": "e0a560ce",
   "metadata": {},
   "outputs": [
    {
     "data": {
      "text/plain": [
       "[<matplotlib.lines.Line2D at 0x7f997b386650>]"
      ]
     },
     "execution_count": 62,
     "metadata": {},
     "output_type": "execute_result"
    },
    {
     "data": {
      "image/png": "[encoded data removed]",
      "text/plain": [
       "<Figure size 432x288 with 1 Axes>"
      ]
     },
     "metadata": {
      "needs_background": "light"
     },
     "output_type": "display_data"
    }
   ],
   "source": [
    "St = 1.312698\n",
    "j = int(St/np.log(2))\n",
    "dS = St - j*np.log(2)\n",
    "il = [i*np.pi/(100) for i in range(0,100)]\n",
    "fl = [f(i*np.pi/(100),dS) for i in range(0,100)]\n",
    "\n",
    "plt.plot(il,fl)"
   ]
  },
  {
   "cell_type": "code",
   "execution_count": 64,
   "id": "44e98fba",
   "metadata": {},
   "outputs": [
    {
     "data": {
      "text/plain": [
       "(1.312698-0j)"
      ]
     },
     "execution_count": 64,
     "metadata": {},
     "output_type": "execute_result"
    }
   ],
   "source": [
    "N=2\n",
    "Sin = 1.312698\n",
    "rhoi = rho0(1,0,0,0)\n",
    "rhov = Mdot([np.conjugate(np.transpose(V(Sin,N))),rhoi,V(Sin,N)])\n",
    "rho00 = Meas(rhov,[0,1,2,3])\n",
    "\n",
    "S(rho00)"
   ]
  },
  {
   "cell_type": "markdown",
   "id": "8f2f9fbc",
   "metadata": {},
   "source": [
    "For $U$ we will try the Hardware efficient ansatz.  "
   ]
  },
  {
   "cell_type": "code",
   "execution_count": 65,
   "id": "af7f5ffc",
   "metadata": {},
   "outputs": [],
   "source": [
    "def Ry(theta,i,N):\n",
    "    return np.cos(theta/2)*I(N) - 1j*np.sin(theta/2)*Y(i,N)\n",
    "\n",
    "def Cx(i,j,N):\n",
    "    return 1/2*( I(N) + Z(i,N) + X(j,N) - Mdot([Z(i,N),X(j,N)]) )\n",
    "\n",
    "\n",
    "def U(Phi):\n",
    "    T = len(Phi)\n",
    "    N = len(Phi[0])\n",
    "    uout = I(N)\n",
    "    for t in range(T):\n",
    "        for i in range(N):\n",
    "            phi = Phi[t][i]\n",
    "            uout = Mdot([Ry(phi,i,N),uout])\n",
    "        for i in range(0,N,2):\n",
    "            uout = Mdot([Cx(i,i+1,N),uout])\n",
    "        for i in range(1,N,2):\n",
    "            uout = Mdot([Cx(i,i+1,N),uout])\n",
    "    return uout"
   ]
  },
  {
   "cell_type": "code",
   "execution_count": 66,
   "id": "9f0e71c4",
   "metadata": {},
   "outputs": [
    {
     "data": {
      "text/plain": [
       "(0.017612836732944837+0j)"
      ]
     },
     "execution_count": 66,
     "metadata": {},
     "output_type": "execute_result"
    }
   ],
   "source": [
    "N=2\n",
    "Sin = (0.999)*2*np.log(2)\n",
    "Phi = [[0.3,0.2],[0.5,0.1],[0.3,0.7]]\n",
    "\n",
    "def rhof(Sin,Phi):\n",
    "    N = len(Phi[0])\n",
    "    rhoi = rho0(1,0,0,0)\n",
    "    rhov = Mdot([np.conjugate(np.transpose(V(Sin,N))),rhoi,V(Sin,N)])\n",
    "    rho00 = Meas(rhov,[0,1,2,3])\n",
    "    rhop = Mdot([np.conjugate(np.transpose(U(Phi))),rho00,U(Phi)])\n",
    "    return rhop\n",
    "\n",
    "rhop = rhof(Sin,Phi)\n",
    "\n",
    "FreeE(0.0,H,rhop)"
   ]
  },
  {
   "cell_type": "code",
   "execution_count": 67,
   "id": "b9a739f8",
   "metadata": {},
   "outputs": [],
   "source": [
    "def enforce_bounds(S,Smin,Smax):\n",
    "    if S < Smin:\n",
    "        S = Smin\n",
    "    if S > Smax:\n",
    "        S = Smax\n",
    "    return S"
   ]
  },
  {
   "cell_type": "markdown",
   "id": "32d5e202",
   "metadata": {},
   "source": [
    "# Minimize"
   ]
  },
  {
   "cell_type": "code",
   "execution_count": 68,
   "id": "584beafe",
   "metadata": {},
   "outputs": [],
   "source": [
    "\n",
    "def SPSA(T,S0,phi0,k_max):\n",
    "    beta = 0.201\n",
    "    A = 10\n",
    "    a = 0.05\n",
    "    gamma = 0.101\n",
    "    c = 0.4\n",
    "    np.random.seed(10)\n",
    "    \n",
    "    #Initalization\n",
    "    k = 0\n",
    "    Nt = len(phi0)\n",
    "    N = len(phi0[0])\n",
    "    max_S = 0.999*N*np.log(2)\n",
    "    phi_k = np.array(phi0)\n",
    "    S_k = S0\n",
    "    E_l = []\n",
    "    k_l = []\n",
    "    \n",
    "    #Begin Iterations\n",
    "    for k in range(k_max):\n",
    "        #Update c and a\n",
    "        a_k = a/((A + k + 1)**beta)\n",
    "        c_k = c/((k + 1)**gamma)\n",
    "\n",
    "        #Find Delta\n",
    "        Delta_k = np.array(phi_k)\n",
    "        for t in range(Nt):\n",
    "            for q in range(N):\n",
    "                Delta_k[t][q] = 1 - 2*np.random.binomial(size=None, n=1, p= 0.5)\n",
    "        phi_k_A = phi_k + c_k*Delta_k\n",
    "        phi_k_B = phi_k - c_k*Delta_k\n",
    "        \n",
    "        #Find Delta S\n",
    "        Delta_Sk =  1 - 2*np.random.binomial(size=None, n=1, p= 0.5)\n",
    "        S_k_A = S_k + c_k*Delta_Sk\n",
    "        S_k_B = S_k - c_k*Delta_Sk\n",
    "        S_k_A = enforce_bounds(S_k_A, 0, max_S)\n",
    "        S_k_B = enforce_bounds(S_k_B, 0, max_S)\n",
    "        \n",
    "        #Find rho \n",
    "        rho_A = rhof(S_k_A,phi_k_A)\n",
    "        rho_B = rhof(S_k_B,phi_k_B)\n",
    "            \n",
    "        #Find Free Energy    \n",
    "        E_A = FreeE(T,H,rho_A)\n",
    "        E_B = FreeE(T,H,rho_B)\n",
    "        \n",
    "        #Calculate gradiant\n",
    "        g = np.real((E_A-E_B)/(2*c_k)) \n",
    "        \n",
    "        #Update phi\n",
    "        g_k = g * Delta_k\n",
    "        phi_k = phi_k - a_k * g_k\n",
    "        \n",
    "        #Update alpha\n",
    "        g_Sk = g * Delta_Sk\n",
    "        S_k = S_k - a_k * g_Sk\n",
    "        S_k = enforce_bounds(S_k, 0, max_S)\n",
    "        \n",
    "        #Find new rho\n",
    "        rho = rhof(S_k,phi_k)\n",
    "        \n",
    "        #Find new Free Energy\n",
    "        E = FreeE(T,H,rho)\n",
    "        \n",
    "        print(k,S_k,E)\n",
    "        E_l.append(E)\n",
    "        k_l.append(k)\n",
    "\n",
    "    return E_l,k_l,S_k,phi_k"
   ]
  },
  {
   "cell_type": "code",
   "execution_count": 81,
   "id": "c952fe32",
   "metadata": {
    "scrolled": true
   },
   "outputs": [
    {
     "name": "stdout",
     "output_type": "stream",
     "text": [
      "0 0.03223423879517739 (1.0386201828024315+0j)\n",
      "1 0.16207693492805703 (-0.02503473760986885+0j)\n",
      "2 0.15640399866943244 (-0.02535136063795823+0j)\n",
      "3 0.2172804929465355 (-0.252013056446845+0j)\n",
      "4 0.26893377861727386 (-0.3725122913947531+0j)\n",
      "5 0.34838930569338517 (-0.6369833096743719+0j)\n",
      "6 0.3358798936467549 (-0.6545572707393694+0j)\n",
      "7 0.3631001967485925 (-0.6421712929358346+0j)\n",
      "8 0.42623576504776345 (-0.7598263221725161+0j)\n",
      "9 0.48394168260952064 (-0.872826850412904+0j)\n",
      "10 0.45780427514818556 (-0.9373870312815319+0j)\n",
      "11 0.5895083387978972 (-1.7912209379029123+0j)\n",
      "12 0.5553333276521935 (-1.896502959027277+0j)\n",
      "13 0.616965496254208 (-1.97774279291214+0j)\n",
      "14 0.634878432781062 (-1.958212595630003+0j)\n",
      "15 0.6016533331154621 (-2.084432757723363+0j)\n",
      "16 0.6519682717736104 (-2.0926903917373623+0j)\n",
      "17 0.6556953055039609 (-2.081008653684043+0j)\n",
      "18 0.6765275288386394 (-2.022531395094405+0j)\n",
      "19 0.7042945888089226 (-1.8750551946011615+0j)\n",
      "20 0.7258797999962547 (-1.9309050954835674+0j)\n",
      "21 0.7266291500333065 (-1.9313455509914434+0j)\n",
      "22 0.7760629152312671 (-2.0766245745075618+0j)\n",
      "23 0.8561780189865594 (-2.377635418424268+0j)\n",
      "24 0.891271580656772 (-2.4336536570499883+0j)\n",
      "25 0.9048006065704588 (-2.454416698425729+0j)\n",
      "26 0.9351654453729761 (-2.5103768606419936+0j)\n",
      "27 0.977481738800725 (-2.602644992912157+0j)\n",
      "28 1.0519407659414732 (-2.7938744269016516+0j)\n",
      "29 1.1159021641871196 (-2.9797537465103403+0j)\n",
      "30 1.1724200646747567 (-3.1033218616054343+0j)\n",
      "31 1.2097895410916988 (-3.178974925801607+0j)\n",
      "32 1.2584012417919086 (-3.292028098290818+0j)\n",
      "33 1.2881380700794867 (-3.337882201910727+0j)\n",
      "34 1.3219147835329437 (-3.4165070324419626+0j)\n",
      "35 1.3397423413927372 (-3.4400617257904855+0j)\n",
      "36 1.3515601257406005 (-3.453088617750049+0j)\n",
      "37 1.3849080667587708 (-3.479481750250359+0j)\n",
      "38 1.3849080667587708 (-3.4803389659252555+0j)\n",
      "39 1.3849080667587708 (-3.4797050016101387+0j)\n",
      "40 1.3849080667587708 (-3.4820052137529323+0j)\n",
      "41 1.3849080667587708 (-3.4814841711425757+0j)\n",
      "42 1.3849080667587708 (-3.4826984638115404+0j)\n",
      "43 1.3849080667587708 (-3.4819796436720436+0j)\n",
      "44 1.3849080667587708 (-3.4814117872213313+0j)\n",
      "45 1.3849080667587708 (-3.483229538812325+0j)\n",
      "46 1.3849080667587708 (-3.4825785516973635+0j)\n",
      "47 1.3849080667587708 (-3.4829258126533413+0j)\n",
      "48 1.3849080667587708 (-3.482674572364438+0j)\n",
      "49 1.3849080667587708 (-3.4854693449721412+0j)\n",
      "50 1.3849080667587708 (-3.485492406219667+0j)\n",
      "51 1.3849080667587708 (-3.4849162087242607+0j)\n",
      "52 1.3849080667587708 (-3.485270958411539+0j)\n",
      "53 1.3849080667587708 (-3.4847614739934194+0j)\n",
      "54 1.3849080667587708 (-3.4842498701374423+0j)\n",
      "55 1.3849080667587708 (-3.4836794779399005+0j)\n",
      "56 1.3849080667587708 (-3.4852270546780666+0j)\n",
      "57 1.3849080667587708 (-3.4847584059059935+0j)\n",
      "58 1.3849080667587708 (-3.4847056590844465+0j)\n",
      "59 1.3849080667587708 (-3.484719962613396+0j)\n",
      "60 1.3849080667587708 (-3.485049806175632+0j)\n",
      "61 1.3849080667587708 (-3.485221171456436+0j)\n",
      "62 1.3849080667587708 (-3.484904954875192+0j)\n",
      "63 1.3849080667587708 (-3.4854154054019464+0j)\n",
      "64 1.3849080667587708 (-3.4883396029287295+0j)\n",
      "65 1.3849080667587708 (-3.4882655205224093+0j)\n",
      "66 1.3849080667587708 (-3.4880237194232055+0j)\n",
      "67 1.3849080667587708 (-3.4876686286370058+0j)\n",
      "68 1.3849080667587708 (-3.4876072605537867+0j)\n",
      "69 1.3849080667587708 (-3.4893013078101522+0j)\n",
      "70 1.3849080667587708 (-3.4906408563794633+0j)\n",
      "71 1.3849080667587708 (-3.4901902541685854+0j)\n",
      "72 1.3849080667587708 (-3.489781507832111+0j)\n",
      "73 1.3849080667587708 (-3.489494138606199+0j)\n",
      "74 1.3849080667587708 (-3.489808832709028+0j)\n",
      "75 1.3849080667587708 (-3.4895795383211303+0j)\n",
      "76 1.3849080667587708 (-3.4891428722131206+0j)\n",
      "77 1.3849080667587708 (-3.4893181326788905+0j)\n",
      "78 1.3849080667587708 (-3.4891084768880862+0j)\n",
      "79 1.3849080667587708 (-3.4902910924346213+0j)\n",
      "80 1.3849080667587708 (-3.490093509406623+0j)\n",
      "81 1.3849080667587708 (-3.4918705484276877+0j)\n",
      "82 1.3849080667587708 (-3.491777562306605+0j)\n",
      "83 1.3849080667587708 (-3.4915089398730617+0j)\n",
      "84 1.3849080667587708 (-3.491739579441156+0j)\n",
      "85 1.3849080667587708 (-3.494339957632325+0j)\n",
      "86 1.3849080667587708 (-3.494461503529326+0j)\n",
      "87 1.3841896387822863 (-3.5002120300086603+0j)\n",
      "88 1.3849080667587708 (-3.4951297531856116+0j)\n",
      "89 1.3849080667587708 (-3.4949907738593655+0j)\n",
      "90 1.3849080667587708 (-3.4950567901393517+0j)\n",
      "91 1.3849080667587708 (-3.494834210277233+0j)\n",
      "92 1.3849080667587708 (-3.4954169931443317+0j)\n",
      "93 1.3849080667587708 (-3.497071162503473+0j)\n",
      "94 1.3849080667587708 (-3.4971710471353408+0j)\n",
      "95 1.3849080667587708 (-3.4980995168802047+0j)\n",
      "96 1.3849080667587708 (-3.497940654870016+0j)\n",
      "97 1.3849080667587708 (-3.4978707347725506+0j)\n",
      "98 1.3849080667587708 (-3.497791177595654+0j)\n",
      "99 1.3849080667587708 (-3.4976989344052094+0j)\n",
      "100 1.3849080667587708 (-3.4973739835178+0j)\n",
      "101 1.3849080667587708 (-3.4973788017351826+0j)\n",
      "102 1.3849080667587708 (-3.49755191162107+0j)\n",
      "103 1.3849080667587708 (-3.4974478821477684+0j)\n",
      "104 1.3849080667587708 (-3.497381580742415+0j)\n",
      "105 1.3849080667587708 (-3.497881750017867+0j)\n",
      "106 1.3849080667587708 (-3.498837983870928+0j)\n",
      "107 1.3849080667587708 (-3.500946912111091+0j)\n",
      "108 1.3849080667587708 (-3.501564040331412+0j)\n",
      "109 1.3849080667587708 (-3.5014743994772086+0j)\n",
      "110 1.3849080667587708 (-3.501262676439544+0j)\n",
      "111 1.3849080667587708 (-3.50205123660921+0j)\n",
      "112 1.3849080667587708 (-3.5019181484263266+0j)\n",
      "113 1.3849080667587708 (-3.503081768834819+0j)\n",
      "114 1.3837124085654497 (-3.5150894632972958+0j)\n",
      "115 1.3849080667587708 (-3.503230752979225+0j)\n",
      "116 1.3849080667587708 (-3.503957100206183+0j)\n",
      "117 1.3849080667587708 (-3.503890217098309+0j)\n",
      "118 1.3849080667587708 (-3.504719511607739+0j)\n",
      "119 1.3849080667587708 (-3.5054119302982762+0j)\n",
      "120 1.383544537853785 (-3.5197116855155386+0j)\n",
      "121 1.3839573172396848 (-3.515986553409518+0j)\n",
      "122 1.3849080667587708 (-3.5058192350242603+0j)\n",
      "123 1.3849080667587708 (-3.5057159975106313+0j)\n",
      "124 1.3849080667587708 (-3.50607667100516+0j)\n",
      "125 1.3849080667587708 (-3.5061660828769425+0j)\n",
      "126 1.3849080667587708 (-3.506090302508613+0j)\n",
      "127 1.3849080667587708 (-3.5069284145587387+0j)\n",
      "128 1.384089013018286 (-3.516586908935521+0j)\n",
      "129 1.3849080667587708 (-3.507133978098428+0j)\n",
      "130 1.3849080667587708 (-3.507121991642659+0j)\n",
      "131 1.3840202782928177 (-3.5175416386119243+0j)\n",
      "132 1.3849080667587708 (-3.5073011292152647+0j)\n",
      "133 1.3849080667587708 (-3.50785822626106+0j)\n",
      "134 1.3849080667587708 (-3.508823670136619+0j)\n",
      "135 1.3824112455290656 (-3.5341398967097177+0j)\n",
      "136 1.3849080667587708 (-3.5088357782205395+0j)\n",
      "137 1.3849080667587708 (-3.509386782258319+0j)\n",
      "138 1.3849080667587708 (-3.50933238966943+0j)\n",
      "139 1.3849080667587708 (-3.5093281956556104+0j)\n",
      "140 1.3849080667587708 (-3.5096349923878805+0j)\n",
      "141 1.3848350978262087 (-3.5106854929835474+0j)\n",
      "142 1.3849080667587708 (-3.509970340985891+0j)\n",
      "143 1.3849080667587708 (-3.510532416199639+0j)\n",
      "144 1.3849080667587708 (-3.5107539545425257+0j)\n",
      "145 1.3849080667587708 (-3.5110961637462363+0j)\n",
      "146 1.3842774014417425 (-3.5195972288974637+0j)\n",
      "147 1.3849080667587708 (-3.511018209634229+0j)\n",
      "148 1.3849080667587708 (-3.5109823845754984+0j)\n",
      "149 1.3849080667587708 (-3.511204928570846+0j)\n",
      "150 1.3849080667587708 (-3.5117270102668874+0j)\n",
      "151 1.3849080667587708 (-3.511718906658443+0j)\n",
      "152 1.3849080667587708 (-3.5117047903158602+0j)\n",
      "153 1.3849080667587708 (-3.5117331712119184+0j)\n",
      "154 1.3807912043760564 (-3.5509610912639458+0j)\n",
      "155 1.3837187329054796 (-3.5270421589909478+0j)\n",
      "156 1.3844531567183034 (-3.5183903136726937+0j)\n",
      "157 1.3849080667587708 (-3.5119258616584674+0j)\n",
      "158 1.3849080667587708 (-3.511921747770937+0j)\n",
      "159 1.3849080667587708 (-3.5119362447306726+0j)\n",
      "160 1.3849080667587708 (-3.5118845653033386+0j)\n",
      "161 1.3849080667587708 (-3.5120470204328007+0j)\n",
      "162 1.3849080667587708 (-3.512460905688515+0j)\n",
      "163 1.3849080667587708 (-3.512504163270781+0j)\n",
      "164 1.3849080667587708 (-3.5124582799081363+0j)\n",
      "165 1.3849080667587708 (-3.512789996657044+0j)\n",
      "166 1.3849080667587708 (-3.5132652341086037+0j)\n",
      "167 1.3831376656247103 (-3.5348262893085765+0j)\n",
      "168 1.381029590012858 (-3.5522129991578515+0j)\n",
      "169 1.3800971923083407 (-3.5583805447838164+0j)\n",
      "170 1.3831969150616523 (-3.534315050698654+0j)\n",
      "171 1.3799150481566462 (-3.559603796722735+0j)\n",
      "172 1.38216571079195 (-3.5437205569975023+0j)\n",
      "173 1.3809913760058095 (-3.5526158010497264+0j)\n",
      "174 1.3820847280279023 (-3.5444418970426557+0j)\n",
      "175 1.3824415717874217 (-3.541459936166081+0j)\n",
      "176 1.3849080667587708 (-3.513697376927591+0j)\n"
     ]
    },
    {
     "name": "stdout",
     "output_type": "stream",
     "text": [
      "177 1.3849080667587708 (-3.51367885643308+0j)\n",
      "178 1.3849080667587708 (-3.5136766882072092+0j)\n",
      "179 1.3849080667587708 (-3.513790379755391+0j)\n",
      "180 1.38210622341845 (-3.5448608102807335+0j)\n",
      "181 1.384131963246376 (-3.5247538237866642+0j)\n",
      "182 1.3849080667587708 (-3.514003472727583+0j)\n",
      "183 1.3849080667587708 (-3.514263980819409+0j)\n",
      "184 1.3849080667587708 (-3.514261815473874+0j)\n",
      "185 1.3849080667587708 (-3.5141715259423565+0j)\n",
      "186 1.3815744751247112 (-3.549976799857206+0j)\n",
      "187 1.3849080667587708 (-3.51447733658902+0j)\n",
      "188 1.3849080667587708 (-3.5144209863330946+0j)\n",
      "189 1.3849080667587708 (-3.5145067710251094+0j)\n",
      "190 1.3849080667587708 (-3.5146713695274707+0j)\n",
      "191 1.3849080667587708 (-3.5147751525728785+0j)\n",
      "192 1.3849080667587708 (-3.5149311026421337+0j)\n",
      "193 1.384754344331321 (-3.5173955967834507+0j)\n",
      "194 1.3849080667587708 (-3.514917748108349+0j)\n",
      "195 1.3849080667587708 (-3.5152047169966343+0j)\n",
      "196 1.3814122894240217 (-3.5531390657139337+0j)\n",
      "197 1.3780781005975264 (-3.5747123115025663+0j)\n",
      "198 1.3748408078813088 (-3.590331619360644+0j)\n",
      "199 1.3781499159929544 (-3.5748586590419835+0j)\n",
      "200 1.3782783777921601 (-3.574156994183757+0j)\n",
      "201 1.3836744242387022 (-3.532953909891961+0j)\n",
      "202 1.3849080667587708 (-3.5159617201656808+0j)\n",
      "203 1.3849080667587708 (-3.515962844014179+0j)\n",
      "204 1.3849080667587708 (-3.5159631291515714+0j)\n",
      "205 1.3849080667587708 (-3.515963005433189+0j)\n",
      "206 1.3849080667587708 (-3.5162063371631556+0j)\n",
      "207 1.3849080667587708 (-3.5162170187144377+0j)\n",
      "208 1.3849080667587708 (-3.516194467023078+0j)\n",
      "209 1.3849080667587708 (-3.516194232164598+0j)\n",
      "210 1.3849080667587708 (-3.516236667332868+0j)\n",
      "211 1.3849080667587708 (-3.5162478544288995+0j)\n",
      "212 1.382007588672308 (-3.549976707847329+0j)\n",
      "213 1.381953259168719 (-3.5504418306888397+0j)\n",
      "214 1.382835820736594 (-3.5424165994879155+0j)\n",
      "215 1.3849080667587708 (-3.516430460042672+0j)\n",
      "216 1.3849080667587708 (-3.516369533956873+0j)\n",
      "217 1.3849080667587708 (-3.516367663392757+0j)\n",
      "218 1.3842349657604276 (-3.526522333756929+0j)\n",
      "219 1.3849080667587708 (-3.5163999480183774+0j)\n",
      "220 1.3812160026343594 (-3.556967379646854+0j)\n",
      "221 1.3813320322396072 (-3.556058302787628+0j)\n",
      "222 1.3849080667587708 (-3.5166964393519624+0j)\n",
      "223 1.38423077073903 (-3.5269691469734172+0j)\n",
      "224 1.3849080667587708 (-3.5168851308428124+0j)\n",
      "225 1.381035482696622 (-3.559114870881402+0j)\n",
      "226 1.3838272684734163 (-3.532522414245078+0j)\n",
      "227 1.381205482238438 (-3.5578076334389177+0j)\n",
      "228 1.3822592289054585 (-3.548996108485082+0j)\n",
      "229 1.3820856634171943 (-3.550545583547123+0j)\n",
      "230 1.3782851683019397 (-3.5774067017978934+0j)\n",
      "231 1.3822342629306124 (-3.549618812513506+0j)\n",
      "232 1.3815610165610543 (-3.5554562431487566+0j)\n",
      "233 1.380458475040816 (-3.5639280697517313+0j)\n",
      "234 1.3833780869608596 (-3.5383305732472965+0j)\n",
      "235 1.3849080667587708 (-3.5177506166166768+0j)\n",
      "236 1.3849080667587708 (-3.5178557403973816+0j)\n",
      "237 1.3831498209383386 (-3.541569209430338+0j)\n",
      "238 1.3849080667587708 (-3.518081723472768+0j)\n",
      "239 1.3842714925405124 (-3.5280946623894502+0j)\n",
      "240 1.3801604704945765 (-3.567914380830621+0j)\n",
      "241 1.3844981820454632 (-3.525063274017524+0j)\n",
      "242 1.3812606740918112 (-3.560187512771316+0j)\n",
      "243 1.3849080667587708 (-3.518587047084+0j)\n",
      "244 1.3849080667587708 (-3.51868549211218+0j)\n",
      "245 1.3839526457416331 (-3.5332069815465186+0j)\n",
      "246 1.381496841906927 (-3.5587078451840815+0j)\n",
      "247 1.38360777852951 (-3.5376129183936214+0j)\n",
      "248 1.3824526276967417 (-3.550130645743017+0j)\n",
      "249 1.3840882124291665 (-3.531451486333395+0j)\n",
      "250 1.3827244693226959 (-3.547400841015399+0j)\n",
      "251 1.3812653627867282 (-3.5606553588441283+0j)\n",
      "252 1.381052746598463 (-3.5623710701452245+0j)\n",
      "253 1.3817092620997111 (-3.5569084020811945+0j)\n",
      "254 1.381803209373004 (-3.556084869992863+0j)\n",
      "255 1.3809744198014324 (-3.562983145147772+0j)\n",
      "256 1.380102344009866 (-3.569481193144629+0j)\n",
      "257 1.3794585102895423 (-3.573910474775171+0j)\n",
      "258 1.3822600114150783 (-3.552002989931607+0j)\n",
      "259 1.38103663642772 (-3.5625494209486086+0j)\n",
      "260 1.379398324936888 (-3.574429814628062+0j)\n",
      "261 1.3808633065401241 (-3.56391119763586+0j)\n",
      "262 1.3828125599543093 (-3.5464715111268412+0j)\n",
      "263 1.3807338105579536 (-3.564845519143464+0j)\n",
      "264 1.3833145497521768 (-3.541075017609986+0j)\n",
      "265 1.3849080667587708 (-3.5187501279870985+0j)\n",
      "266 1.3849080667587708 (-3.5187508428941383+0j)\n",
      "267 1.3841037294601457 (-3.5312535765514323+0j)\n",
      "268 1.3849080667587708 (-3.5187825144080382+0j)\n",
      "269 1.3827107352672965 (-3.547664131456768+0j)\n",
      "270 1.3844222319178054 (-3.526798767961358+0j)\n",
      "271 1.3849080667587708 (-3.5188681868887777+0j)\n",
      "272 1.3849080667587708 (-3.518868466605942+0j)\n",
      "273 1.383309052176459 (-3.541300911600176+0j)\n",
      "274 1.3792557502610436 (-3.5756931509980996+0j)\n",
      "275 1.3776790501709797 (-3.5853564161850326+0j)\n",
      "276 1.3788472189116843 (-3.578323151320711+0j)\n",
      "277 1.38200256062449 (-3.5548208859477706+0j)\n",
      "278 1.3849080667587708 (-3.519178878781878+0j)\n",
      "279 1.3849080667587708 (-3.519203008985141+0j)\n",
      "280 1.382798116821583 (-3.547481798278053+0j)\n",
      "281 1.381514130059251 (-3.559601134717931+0j)\n",
      "282 1.3808059384511735 (-3.565396020294214+0j)\n",
      "283 1.377408248626182 (-3.5878851844003785+0j)\n",
      "284 1.378687810750176 (-3.580355216275832+0j)\n",
      "285 1.3769803732432893 (-3.5903268141351745+0j)\n",
      "286 1.3768181856049797 (-3.591200392843607+0j)\n",
      "287 1.3769686141508766 (-3.5903842879842642+0j)\n",
      "288 1.3730764476247235 (-3.6089355511751506+0j)\n",
      "289 1.3700188416828265 (-3.6205844315623743+0j)\n",
      "290 1.373802838229262 (-3.606186671107528+0j)\n",
      "291 1.3753335617560258 (-3.5992765148791857+0j)\n",
      "292 1.3729599222386322 (-3.6099883938289095+0j)\n",
      "293 1.3719249820030592 (-3.6140904653613957+0j)\n",
      "294 1.3715299948304251 (-3.615615938874764+0j)\n",
      "295 1.3689940424318987 (-3.624820172214106+0j)\n",
      "296 1.3687265695825948 (-3.6257016342713593+0j)\n",
      "297 1.3692421408064805 (-3.6239794262976384+0j)\n",
      "298 1.3655160941192552 (-3.635618261666537+0j)\n",
      "299 1.367972530922635 (-3.628454584218148+0j)\n"
     ]
    }
   ],
   "source": [
    "S0 = (0.0)*2*np.log(2)\n",
    "phi0 = [[0.3,0.2],[0.5,0.1],[0.3,0.7],[1.2,0.9]]\n",
    "#phi0 = [[0.3,0.2],[-0.5,0.1],[0.3,0.7],[0.1,0.8],[0.3,0.2],[0.3,0.3],[-0.2,0.1]]\n",
    "\n",
    "T = 2.5\n",
    "El,kl,Sf,phif = SPSA(T, S0, phi0, 300)"
   ]
  },
  {
   "cell_type": "markdown",
   "id": "23fefcb7",
   "metadata": {},
   "source": [
    "Let's check how this compares to the exact solution."
   ]
  },
  {
   "cell_type": "code",
   "execution_count": 82,
   "id": "98103b7b",
   "metadata": {},
   "outputs": [
    {
     "data": {
      "text/plain": [
       "(-4.0, 0.0)"
      ]
     },
     "execution_count": 82,
     "metadata": {},
     "output_type": "execute_result"
    },
    {
     "data": {
      "image/png": "[encoded data removed]",
      "text/plain": [
       "<Figure size 432x288 with 1 Axes>"
      ]
     },
     "metadata": {
      "needs_background": "light"
     },
     "output_type": "display_data"
    }
   ],
   "source": [
    "a = np.exp( -e[arg[0]]/T )\n",
    "b = np.exp( -e[arg[1]]/T ) \n",
    "c = np.exp( -e[arg[2]]/T )\n",
    "d = np.exp( -e[arg[3]]/T )\n",
    "rhop = rho(a,b,c,d)\n",
    "\n",
    "\n",
    "Ep = FreeE(T,H,rhop)\n",
    "Epl = [Ep for k in kl]\n",
    "\n",
    "plt.plot(kl,El)\n",
    "plt.plot(kl,Epl)\n",
    "plt.ylim(-4.0,0.0)"
   ]
  },
  {
   "cell_type": "code",
   "execution_count": 83,
   "id": "97c3a865",
   "metadata": {},
   "outputs": [
    {
     "name": "stdout",
     "output_type": "stream",
     "text": [
      "(-3.8717193280876407+0j)\n",
      "(-3.628454584218148+0j)\n",
      "dE =  (-0.2432647438694926+0j)\n",
      "dE/E =  (0.06283119287720901-0j)\n"
     ]
    }
   ],
   "source": [
    "print( FreeE(T,H,rhop) )\n",
    "print( FreeE(T,H,rhof(Sf,phif) ) )\n",
    "print('dE = ', FreeE(T,H,rhop) - FreeE(T,H,rhof(Sf,phif) ) )\n",
    "print('dE/E = ', (FreeE(T,H,rhop) - FreeE(T,H,rhof(Sf,phif)))/FreeE(T,H,rhop)  )"
   ]
  },
  {
   "cell_type": "code",
   "execution_count": 84,
   "id": "9a6a6e24",
   "metadata": {},
   "outputs": [
    {
     "name": "stdout",
     "output_type": "stream",
     "text": [
      "(1.2330516599999999-0j)\n",
      "1.367972530922635\n",
      "(1.3679725399999998-0j)\n"
     ]
    }
   ],
   "source": [
    "print( S(rhop) )\n",
    "print( Sf )\n",
    "print( S(rhof(Sf,phif)) )"
   ]
  },
  {
   "cell_type": "code",
   "execution_count": 85,
   "id": "217dc617",
   "metadata": {},
   "outputs": [
    {
     "name": "stdout",
     "output_type": "stream",
     "text": [
      "(-0.7890901780876409+0j)\n",
      "(-0.2085232342181486+0j)\n"
     ]
    }
   ],
   "source": [
    "print( np.trace(Mdot([rhop,H])) )\n",
    "print( np.trace(Mdot([rhof(Sf,phif),H])) )"
   ]
  },
  {
   "cell_type": "code",
   "execution_count": null,
   "id": "c4c75910",
   "metadata": {},
   "outputs": [],
   "source": []
  },
  {
   "cell_type": "code",
   "execution_count": null,
   "id": "c6a3f6ce",
   "metadata": {},
   "outputs": [],
   "source": []
  }
 ],
 "metadata": {
  "kernelspec": {
   "display_name": "qiskit_3.5",
   "language": "python",
   "name": "qiskit_3.5"
  },
  "language_info": {
   "codemirror_mode": {
    "name": "ipython",
    "version": 3
   },
   "file_extension": ".py",
   "mimetype": "text/x-python",
   "name": "python",
   "nbconvert_exporter": "python",
   "pygments_lexer": "ipython3",
   "version": "3.10.4"
  },
  "toc": {
   "base_numbering": 1,
   "nav_menu": {},
   "number_sections": true,
   "sideBar": true,
   "skip_h1_title": false,
   "title_cell": "Table of Contents",
   "title_sidebar": "Contents",
   "toc_cell": false,
   "toc_position": {},
   "toc_section_display": true,
   "toc_window_display": false
  }
 },
 "nbformat": 4,
 "nbformat_minor": 5
}
