{
 "cells": [
  {
   "cell_type": "markdown",
   "id": "3738777a",
   "metadata": {},
   "source": []
  },
  {
   "cell_type": "code",
   "execution_count": 10,
   "id": "65b79b20",
   "metadata": {},
   "outputs": [],
   "source": [
    "#%%writefile Define_Translator.py\n",
    "\n",
    "\n",
    "from qiskit import Aer\n",
    "from qiskit.visualization import *\n",
    "from qiskit import quantum_info as qi\n",
    "import copy\n",
    "from Define_Translator import translate, measure_rho\n",
    "\n",
    "def measure_pauli(p_label,psi0,method = 'simple'):\n",
    "    \n",
    "    #Simple method of calculation####\n",
    "    if method == 'simple':\n",
    "        rho = translate(psi0)\n",
    "        Op = qi.Operator.from_label(p_label)\n",
    "        return np.trace( Mdot([Op,rho]) )\n",
    "    #################################\n",
    "        \n",
    "    #apply rotations#################\n",
    "    psi = copy.deepcopy(psi0)\n",
    "    pauli_qs = []\n",
    "    Z_label = ''\n",
    "    Q = len(p_label)\n",
    "    for q,p in enumerate(p_label):\n",
    "        if p == 'X':\n",
    "            psi.ry(-np.pi/2,Q-1-q)\n",
    "            pauli_qs.append(1)\n",
    "            Z_label += 'Z'\n",
    "        if p == 'Y':\n",
    "            psi.rx(np.pi/2,Q-1-q)\n",
    "            pauli_qs.append(1)\n",
    "            Z_label += 'Z'\n",
    "        if p == 'Z':\n",
    "            pauli_qs.append(1)\n",
    "            Z_label += 'Z'\n",
    "        if p == 'I':\n",
    "            pauli_qs.append(0)\n",
    "            Z_label += 'I'\n",
    "    ################################\n",
    "    \n",
    "    #Using matrix multiplication####\n",
    "    if method == 'matrix':\n",
    "        # add results\n",
    "        rho = translate(psi)\n",
    "        r = measure_rho(rho)\n",
    "        z_measure = 0\n",
    "        for key in list(r.keys()):\n",
    "            n = 0\n",
    "            for q in range(len(key)):\n",
    "                if key[q] == '1' and pauli_qs[q] == 1:\n",
    "                    n += 1\n",
    "            z_measure += (-1)**n * r[key] \n",
    "        return z_measure\n",
    "    #################################\n",
    "    \n",
    "    #Using the qasm simulator########\n",
    "    if method == \"simulator\":\n",
    "        sim = Aer.get_backend(\"qasm_simulator\")\n",
    "        psi.measure(psi.qubits,psi.clbits)\n",
    "        r = execute(psi, backend = sim,shots = 10000).result().get_counts()\n",
    "        z_measure = 0\n",
    "        total = 0\n",
    "        for key in list(r.keys()):\n",
    "            n = 0\n",
    "            for q in range(len(key)):\n",
    "                if key[q] == '1' and pauli_qs[q] == 1:\n",
    "                    n += 1\n",
    "            z_measure += (-1)**n * r[key] \n",
    "            total += r[key]\n",
    "        return z_measure/total\n",
    "    ###################################\n",
    "    \n",
    "    raise NameError(method + ' is not a recognized method')\n",
    "    return method + ' is not a recognized method'\n",
    "\n",
    "def measure_E(H_paulis,cir,method = 'simple'):\n",
    "    paulis = list(H_paulis.keys())\n",
    "    e = 0\n",
    "    for p in paulis:\n",
    "        ep = H_paulis[p] * measure_pauli(p,cir,method)\n",
    "        e += ep\n",
    "    return e"
   ]
  },
  {
   "cell_type": "code",
   "execution_count": 11,
   "id": "c4ef1b01",
   "metadata": {},
   "outputs": [],
   "source": [
    "import scipy.linalg as ln\n",
    "from Define_Paulis import X,Y,Z,Mdot\n",
    "import numpy as np\n",
    "from Define_Ansatz import cir_A\n",
    "\n",
    "cir = cir_A(0.5,[[0.1,0.2],[0.3,0.4]])\n",
    "\n",
    "H = Z(0,2) + Z(1,2) + 0.3*Mdot([X(0,2),X(1,2)])\n",
    "\n",
    "e,y = ln.eig(H)\n",
    "arg = np.argsort(e)\n",
    "psi = np.conjugate(np.transpose(y))\n",
    "\n",
    "def H_paulis(m,k):\n",
    "    h = {'ZI':m,'IZ':m,'XX':k}\n",
    "    return h"
   ]
  },
  {
   "cell_type": "code",
   "execution_count": 12,
   "id": "7df68af4",
   "metadata": {},
   "outputs": [
    {
     "data": {
      "text/plain": [
       "(1.4488787666369707+0j)"
      ]
     },
     "execution_count": 12,
     "metadata": {},
     "output_type": "execute_result"
    }
   ],
   "source": [
    "measure_E(H_paulis(1,0.3), cir, method = 'matrix')"
   ]
  },
  {
   "cell_type": "code",
   "execution_count": 13,
   "id": "911fbcf7",
   "metadata": {},
   "outputs": [
    {
     "data": {
      "text/plain": [
       "(1.4488787666369707+0j)"
      ]
     },
     "execution_count": 13,
     "metadata": {},
     "output_type": "execute_result"
    }
   ],
   "source": [
    "rho = translate(cir)\n",
    "np.trace( Mdot([H,rho]) )"
   ]
  },
  {
   "cell_type": "code",
   "execution_count": null,
   "id": "4ead694d",
   "metadata": {},
   "outputs": [],
   "source": []
  }
 ],
 "metadata": {
  "kernelspec": {
   "display_name": "qiskit_3.5",
   "language": "python",
   "name": "qiskit_3.5"
  },
  "language_info": {
   "codemirror_mode": {
    "name": "ipython",
    "version": 3
   },
   "file_extension": ".py",
   "mimetype": "text/x-python",
   "name": "python",
   "nbconvert_exporter": "python",
   "pygments_lexer": "ipython3",
   "version": "3.10.4"
  },
  "toc": {
   "base_numbering": 1,
   "nav_menu": {},
   "number_sections": true,
   "sideBar": true,
   "skip_h1_title": false,
   "title_cell": "Table of Contents",
   "title_sidebar": "Contents",
   "toc_cell": false,
   "toc_position": {},
   "toc_section_display": true,
   "toc_window_display": false
  }
 },
 "nbformat": 4,
 "nbformat_minor": 5
}
