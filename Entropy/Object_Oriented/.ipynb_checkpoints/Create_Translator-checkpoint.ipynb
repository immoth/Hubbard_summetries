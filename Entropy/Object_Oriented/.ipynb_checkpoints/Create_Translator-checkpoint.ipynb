{
 "cells": [
  {
   "cell_type": "markdown",
   "id": "5928b13f",
   "metadata": {},
   "source": [
    "# Create The Translator"
   ]
  },
  {
   "cell_type": "code",
   "execution_count": 15,
   "id": "32624d8d",
   "metadata": {},
   "outputs": [
    {
     "name": "stdout",
     "output_type": "stream",
     "text": [
      "Writing Define_Translator.py\n"
     ]
    }
   ],
   "source": [
    "%%writefile Define_Translator.py\n",
    "\n",
    "import numpy as np\n",
    "\n",
    "import warnings\n",
    "warnings.filterwarnings(\"ignore\", category=DeprecationWarning) \n",
    "\n",
    "from Define_Paulis import I,X,Y,Z,Mdot,bkt\n",
    "\n",
    "def rho0(N):\n",
    "    rho = [[0 for i in range(2**N)] for j in range(2**N)]\n",
    "    rho[0][0] = 1\n",
    "    return rho\n",
    "\n",
    "def h(i,N):\n",
    "    return 1/np.sqrt(2)*(Z(i,N) + X(i,N))\n",
    "\n",
    "def rx(phi,i,N):\n",
    "    return np.cos(phi/2)*I(N) - 1j*np.sin(phi/2)*X(i,N)\n",
    "\n",
    "def ry(phi,i,N):\n",
    "    return np.cos(phi/2)*I(N) - 1j*np.sin(phi/2)*Y(i,N)\n",
    "\n",
    "def rz(phi,i,N):\n",
    "    return np.cos(phi/2)*I(N) - 1j*np.sin(phi/2)*Z(i,N)\n",
    "\n",
    "def cx(i,j,N):\n",
    "    return 1/2*( I(N) + Z(i,N) + X(j,N) - Mdot([Z(i,N),X(j,N)]) )\n",
    "    \n",
    "def translate(cir):\n",
    "    N = len(cir.qubits)\n",
    "    rho = rho0(N)\n",
    "    for gate in cir:\n",
    "        if gate[0].name == 'h':\n",
    "            q = gate[1][0].index\n",
    "            rho = Mdot([h(q,N),rho,h(q,N)])\n",
    "        elif gate[0].name == 'ry':\n",
    "            q = gate[1][0].index\n",
    "            phi = gate[0].params[0]\n",
    "            rho = Mdot([ry(phi,q,N),rho,ry(-phi,q,N)])\n",
    "        elif gate[0].name == 'rx':\n",
    "            q = gate[1][0].index\n",
    "            phi = gate[0].params[0]\n",
    "            rho = Mdot([rx(phi,q,N),rho,rx(-phi,q,N)])\n",
    "        elif gate[0].name == 'rz':\n",
    "            q = gate[1][0].index\n",
    "            phi = gate[0].params[0]\n",
    "            rho = Mdot([rz(phi,q,N),rho,rz(-phi,q,N)])\n",
    "        elif gate[0].name == 'cx':\n",
    "            q1 = gate[1][0].index\n",
    "            q2 = gate[1][1].index\n",
    "            rho = Mdot([cx(q1,q2,N),rho,cx(q1,q2,N)])\n",
    "        elif gate[0].name == 'x':\n",
    "            q = gate[1][0].index\n",
    "            rho = Mdot([X(q,N),rho,X(q,N)])\n",
    "        elif gate[0].name == 'y':\n",
    "            q = gate[1][0].index\n",
    "            rho = Mdot([Y(q,N),rho,Y(q,N)])\n",
    "        elif gate[0].name == 'z':\n",
    "            q = gate[1][0].index\n",
    "            rho = Mdot([Z(q,N),rho,Z(q,N)])\n",
    "        elif gate[0].name == 'barrier':\n",
    "            q = None\n",
    "        elif gate[0].name == 'measure':\n",
    "            q = gate[1][0].index\n",
    "            rho = 1/4*Mdot([I(N) - Z(q,N),rho,I(N) - Z(q,N)]) + 1/4*Mdot([I(N) + Z(q,N),rho,I(N) + Z(q,N)])\n",
    "        else:\n",
    "            print('The gate '+str(gate[0].name)+'was not recognized and was skipped!')\n",
    "    return rho\n",
    "\n",
    "# A function to print out the binary number\n",
    "def bi(num,N):\n",
    "    bi = bin(num)\n",
    "    out = \"\"\n",
    "    for i in range(2,len(bi)):\n",
    "        out = out + bi[i]  \n",
    "    for i in range(len(bi)-2,N):\n",
    "        out = '0' + out\n",
    "    return out\n",
    "\n",
    "def measure_rho(rho):\n",
    "    L = len(rho)\n",
    "    N = int(np.log2(L))\n",
    "    r = {}\n",
    "    for i in range(L):\n",
    "        r[bi(i,N)] = rho[i][i]\n",
    "    return r\n",
    "    "
   ]
  },
  {
   "cell_type": "code",
   "execution_count": 10,
   "id": "fb35ca38",
   "metadata": {},
   "outputs": [
    {
     "data": {
      "text/plain": [
       "{'00': (0.3430962608668446+0j),\n",
       " '01': (0.38493398600197704+0j),\n",
       " '10': (0.15690373913315514+0j),\n",
       " '11': (0.11506601399802255+0j)}"
      ]
     },
     "execution_count": 10,
     "metadata": {},
     "output_type": "execute_result"
    }
   ],
   "source": [
    "from Define_Ansatz import cir_A\n",
    "\n",
    "cir = cir_A(1.2,[[0.2,0.3],[0.4,0.5]])\n",
    "rho = translate(cir)\n",
    "\n",
    "measure_rho(rho)"
   ]
  },
  {
   "cell_type": "code",
   "execution_count": 14,
   "id": "82a149ad",
   "metadata": {},
   "outputs": [
    {
     "data": {
      "text/plain": [
       "[['10', 0.157542], ['00', 0.342784], ['11', 0.11474], ['01', 0.384934]]"
      ]
     },
     "execution_count": 14,
     "metadata": {},
     "output_type": "execute_result"
    }
   ],
   "source": [
    "from qiskit import execute\n",
    "from qiskit import Aer\n",
    "\n",
    "sim = Aer.get_backend(\"qasm_simulator\")\n",
    "cir.measure(cir.qubits,cir.clbits)\n",
    "r = execute(cir, backend = sim,shots = 1000000).result().get_counts()\n",
    "\n",
    "norm = sum([r[key] for key in list(r.keys())])\n",
    "[ [key,r[key]/norm] for key in list(r.keys())]"
   ]
  },
  {
   "cell_type": "code",
   "execution_count": null,
   "id": "32ba7e23",
   "metadata": {},
   "outputs": [],
   "source": []
  }
 ],
 "metadata": {
  "kernelspec": {
   "display_name": "qiskit_3.5",
   "language": "python",
   "name": "qiskit_3.5"
  },
  "language_info": {
   "codemirror_mode": {
    "name": "ipython",
    "version": 3
   },
   "file_extension": ".py",
   "mimetype": "text/x-python",
   "name": "python",
   "nbconvert_exporter": "python",
   "pygments_lexer": "ipython3",
   "version": "3.10.4"
  },
  "toc": {
   "base_numbering": 1,
   "nav_menu": {},
   "number_sections": true,
   "sideBar": true,
   "skip_h1_title": false,
   "title_cell": "Table of Contents",
   "title_sidebar": "Contents",
   "toc_cell": false,
   "toc_position": {},
   "toc_section_display": true,
   "toc_window_display": false
  }
 },
 "nbformat": 4,
 "nbformat_minor": 5
}
