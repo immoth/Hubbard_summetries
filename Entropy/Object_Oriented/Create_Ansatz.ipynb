{
 "cells": [
  {
   "cell_type": "markdown",
   "id": "1b3b18bb",
   "metadata": {},
   "source": [
    "# Bulid the ansatz circuit"
   ]
  },
  {
   "cell_type": "code",
   "execution_count": 6,
   "id": "986ada5a",
   "metadata": {},
   "outputs": [
    {
     "name": "stdout",
     "output_type": "stream",
     "text": [
      "Overwriting Define_Ansatz.py\n"
     ]
    }
   ],
   "source": [
    "%%writefile Define_Ansatz.py\n",
    "\n",
    "from qiskit import QuantumRegister, ClassicalRegister, QuantumCircuit\n",
    "import numpy as np\n",
    "import scipy.optimize as op\n",
    "\n",
    "def f(x,S):\n",
    "    dx = 10**(-15)\n",
    "    return -np.cos(x/2)**2 * np.log(np.cos(x/2)**2 + dx) - np.sin(x/2)**2 * np.log(np.sin(x/2)**2 + dx) - S\n",
    "\n",
    "def V(circ,S):\n",
    "    N = len(circ.qubits)\n",
    "    j = int(S/np.log(2))\n",
    "    if j >= N:\n",
    "        raise NameError(\"An entropy of \"+str(S)+\" requires at least \"+str(j+1)+\" qubits.\")\n",
    "    dS = S - j*np.log(2)\n",
    "    phi = op.brentq(f,0,np.pi/2, args = (dS))\n",
    "    for i in range(j):\n",
    "        circ.h(i)\n",
    "    circ.ry(phi,j)\n",
    "    circ.z(j)\n",
    "    return circ\n",
    "\n",
    "def Ui(cir_i,phi_i):  \n",
    "    Q = len(phi_i)\n",
    "    for q in range(0,Q):\n",
    "        cir_i.ry(phi_i[q],q)\n",
    "    for q in range(0,Q,4):\n",
    "        if q+1 < Q:\n",
    "            cir_i.cx(q,q+1)\n",
    "        if q + 3 < Q:\n",
    "            cir_i.cx(q+3,q+2)\n",
    "    for q in range(1,Q,4):\n",
    "        if q+1 < Q:\n",
    "            cir_i.cx(q,q+1)\n",
    "        if q + 3 < Q:\n",
    "            cir_i.cx(q+3,q+2)\n",
    "    return cir_i\n",
    "\n",
    "def U(cir,phi_b):\n",
    "    T = len(phi_b)\n",
    "    for t in range(T):\n",
    "        cir = Ui(cir,phi_b[t])\n",
    "    return cir\n",
    "\n",
    "def Ui_alt(cir_i,phi_i):  \n",
    "    Q = len(phi_i)\n",
    "    for q in range(0,Q):\n",
    "        cir_i.ry(phi_i[q],q)\n",
    "    for q in range(0,Q,4):\n",
    "        if q+1 < Q:\n",
    "            cir_i.cx(q,q+1)\n",
    "            cir_i.cx(q+1,q)\n",
    "        if q + 3 < Q:\n",
    "            cir_i.cx(q+3,q+2)\n",
    "            cir_i.cx(q+2,q+3)\n",
    "    for q in range(1,Q,4):\n",
    "        if q+1 < Q:\n",
    "            cir_i.cx(q,q+1)\n",
    "            cir_i.cx(q+1,q)\n",
    "        if q + 3 < Q:\n",
    "            cir_i.cx(q+3,q+2)\n",
    "            cir_i.cx(q+2,q+3)\n",
    "    return cir_i\n",
    "\n",
    "def U_alt(cir,phi_b):\n",
    "    T = len(phi_b)\n",
    "    for t in range(T):\n",
    "        cir = Ui_alt(cir,phi_b[t])\n",
    "    return cir\n",
    "\n",
    "def A(cir,S,phi):\n",
    "    cir = V(cir,S)\n",
    "    cir.barrier()\n",
    "    cir.measure(cir.qubits,cir.clbits)\n",
    "    cir.barrier()\n",
    "    cir = U(cir,phi)\n",
    "    return cir\n",
    "    \n",
    "\n",
    "def cir_A(S,phi):\n",
    "    Q = len(phi[0])\n",
    "    qr = QuantumRegister(Q)\n",
    "    cr = ClassicalRegister(Q)\n",
    "    cir = QuantumCircuit(qr , cr)\n",
    "    cir = A(cir,S,phi)\n",
    "    return cir\n",
    "\n",
    "def A_alt(cir,S,phi):\n",
    "    cir = V(cir,S)\n",
    "    cir.barrier()\n",
    "    cir.measure(cir.qubits,cir.clbits)\n",
    "    cir.barrier()\n",
    "    cir = U_alt(cir,phi)\n",
    "    return cir\n",
    "    \n",
    "\n",
    "def cir_A_alt(S,phi):\n",
    "    Q = len(phi[0])\n",
    "    qr = QuantumRegister(Q)\n",
    "    cr = ClassicalRegister(Q)\n",
    "    cir = QuantumCircuit(qr , cr)\n",
    "    cir = A_alt(cir,S,phi)\n",
    "    return cir"
   ]
  },
  {
   "cell_type": "code",
   "execution_count": 5,
   "id": "880c7dd2",
   "metadata": {},
   "outputs": [
    {
     "data": {
      "image/png": "[encoded data removed]",
      "text/plain": [
       "<Figure size 942.523x325.08 with 1 Axes>"
      ]
     },
     "execution_count": 5,
     "metadata": {},
     "output_type": "execute_result"
    }
   ],
   "source": [
    "cir_A(1.3,[[0.3,1.4,2.1,1.5],[-2.0,0.9,-0.4,1.6]]).draw(output = 'mpl')"
   ]
  },
  {
   "cell_type": "code",
   "execution_count": null,
   "id": "90ab00ce",
   "metadata": {},
   "outputs": [],
   "source": []
  }
 ],
 "metadata": {
  "kernelspec": {
   "display_name": "qiskit_3.5",
   "language": "python",
   "name": "qiskit_3.5"
  },
  "language_info": {
   "codemirror_mode": {
    "name": "ipython",
    "version": 3
   },
   "file_extension": ".py",
   "mimetype": "text/x-python",
   "name": "python",
   "nbconvert_exporter": "python",
   "pygments_lexer": "ipython3",
   "version": "3.10.4"
  },
  "toc": {
   "base_numbering": 1,
   "nav_menu": {},
   "number_sections": true,
   "sideBar": true,
   "skip_h1_title": false,
   "title_cell": "Table of Contents",
   "title_sidebar": "Contents",
   "toc_cell": false,
   "toc_position": {},
   "toc_section_display": true,
   "toc_window_display": false
  }
 },
 "nbformat": 4,
 "nbformat_minor": 5
}
