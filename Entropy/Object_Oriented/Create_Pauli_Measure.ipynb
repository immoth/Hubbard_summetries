{
 "cells": [
  {
   "cell_type": "markdown",
   "id": "6a15a7f4",
   "metadata": {},
   "source": [
    "# Create Pauli Measurement Function"
   ]
  },
  {
   "cell_type": "code",
   "execution_count": 93,
   "id": "cdd9fc0b",
   "metadata": {},
   "outputs": [
    {
     "name": "stdout",
     "output_type": "stream",
     "text": [
      "Overwriting Define_Pauli_Measure.py\n"
     ]
    }
   ],
   "source": [
    "%%writefile Define_Pauli_Measure.py\n",
    "\n",
    "\n",
    "from qiskit import Aer\n",
    "from qiskit.visualization import *\n",
    "from qiskit import quantum_info as qi\n",
    "import copy\n",
    "from Define_Translator import translate, measure_rho\n",
    "import numpy as np\n",
    "from Define_Paulis import Mdot\n",
    "\n",
    "def measure_pauli(p_label,psi0,method = 'simple'):\n",
    "    \n",
    "    #Simple method of calculation####\n",
    "    if method == 'simple':\n",
    "        rho = translate(psi0)\n",
    "        Op = qi.Operator.from_label(p_label)\n",
    "        return np.trace( Mdot([Op,rho]) )\n",
    "    #################################\n",
    "        \n",
    "    #apply rotations#################\n",
    "    psi = copy.deepcopy(psi0)\n",
    "    pauli_qs = []\n",
    "    Z_label = ''\n",
    "    Q = len(p_label)\n",
    "    for q,p in enumerate(p_label):\n",
    "        if p == 'X':\n",
    "            psi.ry(-np.pi/2,Q-1-q)\n",
    "            pauli_qs.append(1)\n",
    "            Z_label += 'Z'\n",
    "        if p == 'Y':\n",
    "            psi.rx(np.pi/2,Q-1-q)\n",
    "            pauli_qs.append(1)\n",
    "            Z_label += 'Z'\n",
    "        if p == 'Z':\n",
    "            pauli_qs.append(1)\n",
    "            Z_label += 'Z'\n",
    "        if p == 'I':\n",
    "            pauli_qs.append(0)\n",
    "            Z_label += 'I'\n",
    "    ################################\n",
    "    \n",
    "    #Using matrix multiplication####\n",
    "    if method == 'matrix':\n",
    "        # add results\n",
    "        rho = translate(psi)\n",
    "        r = measure_rho(rho)\n",
    "        z_measure = 0\n",
    "        for key in list(r.keys()):\n",
    "            n = 0\n",
    "            for q in range(len(key)):\n",
    "                if key[q] == '1' and pauli_qs[q] == 1:\n",
    "                    n += 1\n",
    "            z_measure += (-1)**n * r[key] \n",
    "        return z_measure\n",
    "    #################################\n",
    "    \n",
    "    #Using the qasm simulator########\n",
    "    if method == \"simulator\":\n",
    "        sim = Aer.get_backend(\"qasm_simulator\")\n",
    "        psi.measure(psi.qubits,psi.clbits)\n",
    "        r = execute(psi, backend = sim,shots = 10000).result().get_counts()\n",
    "        z_measure = 0\n",
    "        total = 0\n",
    "        for key in list(r.keys()):\n",
    "            n = 0\n",
    "            for q in range(len(key)):\n",
    "                if key[q] == '1' and pauli_qs[q] == 1:\n",
    "                    n += 1\n",
    "            z_measure += (-1)**n * r[key] \n",
    "            total += r[key]\n",
    "        return z_measure/total\n",
    "    ###################################\n",
    "    \n",
    "    raise NameError(method + ' is not a recognized method')\n",
    "    return method + ' is not a recognized method'\n",
    "\n",
    "def measure_E(H_paulis,cir,method = 'simple'):\n",
    "    paulis = list(H_paulis.keys())\n",
    "    e = 0\n",
    "    for p in paulis:\n",
    "        #print(p, H_paulis[p] , measure_pauli(p,cir,method))\n",
    "        ep = H_paulis[p] * measure_pauli(p,cir,method)\n",
    "        e += ep\n",
    "    return e\n",
    "\n",
    "def apply_rotations(p_label,psi0):\n",
    "    psi = copy.deepcopy(psi0)\n",
    "    pauli_qs = []\n",
    "    Z_label = ''\n",
    "    Q = len(p_label)\n",
    "    for q,p in enumerate(p_label):\n",
    "        if p == 'X':\n",
    "            psi.ry(-np.pi/2,Q-1-q)\n",
    "            pauli_qs.append(1)\n",
    "            Z_label += 'Z'\n",
    "        if p == 'Y':\n",
    "            psi.rx(np.pi/2,Q-1-q)\n",
    "            pauli_qs.append(1)\n",
    "            Z_label += 'Z'\n",
    "        if p == 'Z':\n",
    "            pauli_qs.append(1)\n",
    "            Z_label += 'Z'\n",
    "        if p == 'I':\n",
    "            pauli_qs.append(0)\n",
    "            Z_label += 'I'\n",
    "    psi.measure(psi.qubits,psi.clbits)\n",
    "    return psi,pauli_qs\n",
    "    \n",
    "def collect_circuits(H_paulis,cir_in):\n",
    "    circs = []\n",
    "    labels = []\n",
    "    paulis = list(H_paulis.keys())\n",
    "    for p in paulis:\n",
    "        circ,label = apply_rotations(p,cir_in)\n",
    "        circs.append(circ)\n",
    "        labels.append([H_paulis[p],label])\n",
    "    return circs,labels"
   ]
  },
  {
   "cell_type": "code",
   "execution_count": 84,
   "id": "3df49b46",
   "metadata": {},
   "outputs": [],
   "source": [
    "import scipy.linalg as ln\n",
    "from Define_Paulis import X,Y,Z,Mdot\n",
    "import numpy as np\n",
    "from Define_Ansatz import cir_A\n",
    "\n",
    "cir = cir_A(0.5,[[0.1,0.2],[0.3,0.4]])\n",
    "\n",
    "H = Z(0,2) + Z(1,2) + 0.3*Mdot([X(0,2),X(1,2)])\n",
    "\n",
    "e,y = ln.eig(H)\n",
    "arg = np.argsort(e)\n",
    "psi = np.conjugate(np.transpose(y))\n",
    "\n",
    "def H_paulis(m,k):\n",
    "    h = {'ZI':m,'IZ':m,'XX':k}\n",
    "    return h"
   ]
  },
  {
   "cell_type": "code",
   "execution_count": 85,
   "id": "1df7db69",
   "metadata": {},
   "outputs": [
    {
     "data": {
      "text/plain": [
       "(1.4488787666369707+0j)"
      ]
     },
     "execution_count": 85,
     "metadata": {},
     "output_type": "execute_result"
    }
   ],
   "source": [
    "measure_E(H_paulis(1,0.3), cir, method = 'matrix')"
   ]
  },
  {
   "cell_type": "code",
   "execution_count": 86,
   "id": "1bd9b327",
   "metadata": {},
   "outputs": [
    {
     "data": {
      "text/plain": [
       "(1.4488787666369707+0j)"
      ]
     },
     "execution_count": 86,
     "metadata": {},
     "output_type": "execute_result"
    }
   ],
   "source": [
    "rho = translate(cir)\n",
    "np.trace( Mdot([H,rho]) )"
   ]
  },
  {
   "cell_type": "code",
   "execution_count": 87,
   "id": "03321516",
   "metadata": {},
   "outputs": [
    {
     "name": "stdout",
     "output_type": "stream",
     "text": [
      "[0.3, [1, 1]]\n"
     ]
    },
    {
     "data": {
      "text/html": [
       "<pre style=\"word-wrap: normal;white-space: pre;background: #fff0;line-height: 1.1;font-family: &quot;Courier New&quot;,Courier,monospace\">       ┌─────────────┐┌───┐ ░ ┌─┐    ░ ┌─────────┐     ┌─────────┐     »\n",
       "q26_0: ┤ Ry(0.92657) ├┤ Z ├─░─┤M├────░─┤ Ry(0.1) ├──■──┤ Ry(0.3) ├──■──»\n",
       "       └─────────────┘└───┘ ░ └╥┘┌─┐ ░ ├─────────┤┌─┴─┐├─────────┤┌─┴─┐»\n",
       "q26_1: ─────────────────────░──╫─┤M├─░─┤ Ry(0.2) ├┤ X ├┤ Ry(0.4) ├┤ X ├»\n",
       "                            ░  ║ └╥┘ ░ └─────────┘└───┘└─────────┘└───┘»\n",
       "c26: 2/════════════════════════╩══╩════════════════════════════════════»\n",
       "                               0  1                                    »\n",
       "«       ┌──────────┐┌─┐   \n",
       "«q26_0: ┤ Ry(-π/2) ├┤M├───\n",
       "«       ├──────────┤└╥┘┌─┐\n",
       "«q26_1: ┤ Ry(-π/2) ├─╫─┤M├\n",
       "«       └──────────┘ ║ └╥┘\n",
       "«c26: 2/═════════════╩══╩═\n",
       "«                    0  1 </pre>"
      ],
      "text/plain": [
       "       ┌─────────────┐┌───┐ ░ ┌─┐    ░ ┌─────────┐     ┌─────────┐     »\n",
       "q26_0: ┤ Ry(0.92657) ├┤ Z ├─░─┤M├────░─┤ Ry(0.1) ├──■──┤ Ry(0.3) ├──■──»\n",
       "       └─────────────┘└───┘ ░ └╥┘┌─┐ ░ ├─────────┤┌─┴─┐├─────────┤┌─┴─┐»\n",
       "q26_1: ─────────────────────░──╫─┤M├─░─┤ Ry(0.2) ├┤ X ├┤ Ry(0.4) ├┤ X ├»\n",
       "                            ░  ║ └╥┘ ░ └─────────┘└───┘└─────────┘└───┘»\n",
       "c26: 2/════════════════════════╩══╩════════════════════════════════════»\n",
       "                               0  1                                    »\n",
       "«       ┌──────────┐┌─┐   \n",
       "«q26_0: ┤ Ry(-π/2) ├┤M├───\n",
       "«       ├──────────┤└╥┘┌─┐\n",
       "«q26_1: ┤ Ry(-π/2) ├─╫─┤M├\n",
       "«       └──────────┘ ║ └╥┘\n",
       "«c26: 2/═════════════╩══╩═\n",
       "«                    0  1 "
      ]
     },
     "execution_count": 87,
     "metadata": {},
     "output_type": "execute_result"
    }
   ],
   "source": [
    "from Define_Ansatz import cir_A\n",
    "\n",
    "cir_in = cir_A(0.5,[[0.1,0.2],[0.3,0.4]])\n",
    "\n",
    "circs, labels = collect_circuits(H_paulis(1,0.3),cir_in)\n",
    "\n",
    "\n",
    "print(labels[2])\n",
    "circs[2].draw()"
   ]
  },
  {
   "cell_type": "code",
   "execution_count": 88,
   "id": "33bc4119",
   "metadata": {},
   "outputs": [
    {
     "data": {
      "text/plain": [
       "(0.8251161559642037+0j)"
      ]
     },
     "execution_count": 88,
     "metadata": {},
     "output_type": "execute_result"
    }
   ],
   "source": [
    "pauli_qs = labels[0]\n",
    "rho = translate(circs[0])\n",
    "r = measure_rho(rho)\n",
    "z_measure = 0\n",
    "for key in list(r.keys()):\n",
    "    n = 0\n",
    "    for q in range(len(key)):\n",
    "        if key[q] == '1' and pauli_qs[q] == 1:\n",
    "            n += 1\n",
    "    z_measure += (-1)**n * r[key] \n",
    "    \n",
    "z_measure"
   ]
  },
  {
   "cell_type": "code",
   "execution_count": 89,
   "id": "bf218426",
   "metadata": {},
   "outputs": [
    {
     "data": {
      "text/plain": [
       "(0.8251161559642037+0j)"
      ]
     },
     "execution_count": 89,
     "metadata": {},
     "output_type": "execute_result"
    }
   ],
   "source": [
    "measure_pauli(paulis[0],cir)"
   ]
  },
  {
   "cell_type": "code",
   "execution_count": 90,
   "id": "68fbaa87",
   "metadata": {},
   "outputs": [
    {
     "data": {
      "text/plain": [
       "(1.4488787666369707+0j)"
      ]
     },
     "execution_count": 90,
     "metadata": {},
     "output_type": "execute_result"
    }
   ],
   "source": [
    "measure_E(H_paulis(1,0.3), cir)"
   ]
  },
  {
   "cell_type": "code",
   "execution_count": 92,
   "id": "c3350685",
   "metadata": {},
   "outputs": [
    {
     "data": {
      "text/plain": [
       "(1.4488787666369707+0j)"
      ]
     },
     "execution_count": 92,
     "metadata": {},
     "output_type": "execute_result"
    }
   ],
   "source": [
    "paulis = list(H_paulis(1,0.3).keys()) \n",
    "E = 0\n",
    "for p in range( len(paulis) ):\n",
    "    pauli_qs = labels[p][1]\n",
    "    rho = translate(circs[p])\n",
    "    r = measure_rho(rho)\n",
    "    z_measure = 0\n",
    "    for key in list(r.keys()):\n",
    "        n = 0\n",
    "        for q in range(len(key)):\n",
    "            if key[q] == '1' and pauli_qs[q] == 1:\n",
    "                n += 1\n",
    "        z_measure += (-1)**n * r[key] \n",
    "    E += labels[p][0]*z_measure\n",
    "    #print(paulis[p],H_paulis(1,0.3)[paulis[p]],z_measure)\n",
    "        \n",
    "\n",
    "E"
   ]
  },
  {
   "cell_type": "code",
   "execution_count": null,
   "id": "c5415b04",
   "metadata": {},
   "outputs": [],
   "source": []
  }
 ],
 "metadata": {
  "kernelspec": {
   "display_name": "qiskit_3.5",
   "language": "python",
   "name": "qiskit_3.5"
  },
  "language_info": {
   "codemirror_mode": {
    "name": "ipython",
    "version": 3
   },
   "file_extension": ".py",
   "mimetype": "text/x-python",
   "name": "python",
   "nbconvert_exporter": "python",
   "pygments_lexer": "ipython3",
   "version": "3.10.4"
  },
  "toc": {
   "base_numbering": 1,
   "nav_menu": {},
   "number_sections": true,
   "sideBar": true,
   "skip_h1_title": false,
   "title_cell": "Table of Contents",
   "title_sidebar": "Contents",
   "toc_cell": false,
   "toc_position": {},
   "toc_section_display": true,
   "toc_window_display": false
  }
 },
 "nbformat": 4,
 "nbformat_minor": 5
}
