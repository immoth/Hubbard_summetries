{
 "cells": [
  {
   "cell_type": "markdown",
   "id": "65d56462",
   "metadata": {},
   "source": [
    "# Create The Qautnum Device"
   ]
  },
  {
   "cell_type": "code",
   "execution_count": 28,
   "id": "aefa34bb",
   "metadata": {},
   "outputs": [
    {
     "name": "stdout",
     "output_type": "stream",
     "text": [
      "Overwriting Define_Quantum_Device.py\n"
     ]
    }
   ],
   "source": [
    "%%writefile Define_Quantum_Device.py\n",
    "\n",
    "from qiskit import IBMQ,transpile\n",
    "from qiskit.tools.monitor import job_monitor\n",
    "IBMQ.load_account()\n",
    "provider = IBMQ.get_provider(hub='ibm-q-afrl', group='air-force-lab', project='quantum-sim')\n",
    "from qiskit import Aer\n",
    "import copy\n",
    "from qiskit import quantum_info as qi\n",
    "from qiskit import execute\n",
    "from Define_Translator import translate, measure_rho\n",
    "import numpy as np\n",
    "#print('finished import')\n",
    "\n",
    "class Quantum_Device:\n",
    "    \n",
    "    def __init__(self, backend = 'ibm_lagos', layout = [0,1,3,5]):\n",
    "        self.backend = provider.get_backend(backend)\n",
    "        self.layout = layout\n",
    "\n",
    "    #Returns the results of measuring circs_in\n",
    "    #The method can be:\n",
    "    #    'matrix' which computes the results classicaly using matrix multiplication\n",
    "    #    'simulator' which computes the results using the qasm simulator\n",
    "    #    'quantum' which computers the results on the phasical backend using the qubits defined in the layout\n",
    "    def get_results(self,circs_in, method = 'matrix',save_id_file = None):\n",
    "        circs = copy.deepcopy(circs_in)\n",
    "        #Exact Calculation\n",
    "        if method == 'matrix':\n",
    "            # add results\n",
    "            r = []\n",
    "            for l in range(len(circs)):\n",
    "                rho = translate(circs[l])\n",
    "                r_l = measure_rho(rho)\n",
    "                r.append(r_l)\n",
    "        #Qiskit Simulation        \n",
    "        if method == \"simulator\":\n",
    "            sim = Aer.get_backend(\"qasm_simulator\")\n",
    "            r = execute(circs, backend = sim).result().get_counts() \n",
    "        #Device\n",
    "        if method == \"quantum\":\n",
    "            backend = self.backend\n",
    "            layout = self.layout\n",
    "            job = backend.run(transpile(circs, backend,initial_layout = layout), meas_level=2, shots=8192)\n",
    "            job_id = job.job_id()\n",
    "            print(job_id)\n",
    "            np.save(save_id_file,[job_id])\n",
    "            r = job.result().get_counts()\n",
    "        return r\n",
    "    \n",
    "    #Normalizes the results\n",
    "    def normalize_results(self,results):\n",
    "        results_out = []\n",
    "        for result in results:\n",
    "            result_out = {}\n",
    "            states = list(result.keys())\n",
    "            total = 0\n",
    "            for state in states:\n",
    "                total += result[state]\n",
    "            for state in states:\n",
    "                result_out[state] = result[state]/total\n",
    "            results_out.append(result_out)\n",
    "        return results_out\n",
    "    \n",
    "    #Removes states from the results with close to zero wieght\n",
    "    #This can greatly imporve runtime \n",
    "    def chop_results(self,results):\n",
    "        results_chop = []\n",
    "        for result in results:\n",
    "            result_chop = {}\n",
    "            states = list(result.keys())\n",
    "            for state in states:\n",
    "                if result[state] > 10**(-5):\n",
    "                    result_chop[state] = result[state]\n",
    "            results_chop.append(result_chop)\n",
    "        return results_chop\n",
    "\n",
    "def analyze_pauli(label,result):\n",
    "    r = result\n",
    "    pauli_qs = label\n",
    "    z_measure = 0\n",
    "    total = 0\n",
    "    for key in list(r.keys()):\n",
    "            n = 0\n",
    "            for q in range(len(key)):\n",
    "                if key[q] == '1' and pauli_qs[q] == 1:\n",
    "                    n += 1\n",
    "            z_measure += (-1)**n * r[key] \n",
    "            total += r[key]\n",
    "    return z_measure/total\n",
    "\n",
    "def analyze_energy(labels,results):\n",
    "    e = 0\n",
    "    for p in range(len(labels)):\n",
    "        e += labels[p][0] * analyze_pauli(labels[p][1],results[p])\n",
    "    return e"
   ]
  },
  {
   "cell_type": "code",
   "execution_count": 20,
   "id": "0b3971d8",
   "metadata": {},
   "outputs": [],
   "source": [
    "qd = Quantum_Device()"
   ]
  },
  {
   "cell_type": "code",
   "execution_count": 21,
   "id": "b75275d0",
   "metadata": {},
   "outputs": [],
   "source": [
    "import scipy.linalg as ln\n",
    "from Define_Paulis import X,Y,Z,Mdot\n",
    "import numpy as np\n",
    "from Define_Ansatz import cir_A\n",
    "\n",
    "cir = cir_A(0.5,[[0.1,0.2],[0.3,0.4]])\n",
    "\n",
    "H = Z(0,2) + Z(1,2) + 0.3*Mdot([X(0,2),X(1,2)])\n",
    "\n",
    "e,y = ln.eig(H)\n",
    "arg = np.argsort(e)\n",
    "psi = np.conjugate(np.transpose(y))\n",
    "\n",
    "def H_paulis(m,k):\n",
    "    h = {'ZI':m,'IZ':m,'XX':k}\n",
    "    return h"
   ]
  },
  {
   "cell_type": "code",
   "execution_count": 22,
   "id": "3764423b",
   "metadata": {},
   "outputs": [],
   "source": [
    "from Define_Pauli_Measure import collect_circuits\n",
    "\n",
    "circs,labels = collect_circuits(H_paulis(1,0.3),cir)\n",
    "\n",
    "results = qd.get_results(circs, method = 'matrix')"
   ]
  },
  {
   "cell_type": "code",
   "execution_count": 23,
   "id": "47b89387",
   "metadata": {},
   "outputs": [
    {
     "data": {
      "text/plain": [
       "(0.8251161559642037+0j)"
      ]
     },
     "execution_count": 23,
     "metadata": {},
     "output_type": "execute_result"
    }
   ],
   "source": [
    "analyze_pauli(labels[0],results[0])"
   ]
  },
  {
   "cell_type": "code",
   "execution_count": 24,
   "id": "ef6a1bfc",
   "metadata": {},
   "outputs": [
    {
     "data": {
      "text/plain": [
       "(1.4488787666369707+0j)"
      ]
     },
     "execution_count": 24,
     "metadata": {},
     "output_type": "execute_result"
    }
   ],
   "source": [
    "analyze_energy(labels,results)"
   ]
  },
  {
   "cell_type": "code",
   "execution_count": 25,
   "id": "32bd3cf1",
   "metadata": {},
   "outputs": [
    {
     "data": {
      "text/plain": [
       "(1.4488787666369707+0j)"
      ]
     },
     "execution_count": 25,
     "metadata": {},
     "output_type": "execute_result"
    }
   ],
   "source": [
    "from Define_Pauli_Measure import measure_E\n",
    "\n",
    "measure_E(H_paulis(1,0.3), cir)"
   ]
  },
  {
   "cell_type": "code",
   "execution_count": null,
   "id": "1d6ebbd8",
   "metadata": {},
   "outputs": [],
   "source": []
  }
 ],
 "metadata": {
  "kernelspec": {
   "display_name": "qiskit_3.5",
   "language": "python",
   "name": "qiskit_3.5"
  },
  "language_info": {
   "codemirror_mode": {
    "name": "ipython",
    "version": 3
   },
   "file_extension": ".py",
   "mimetype": "text/x-python",
   "name": "python",
   "nbconvert_exporter": "python",
   "pygments_lexer": "ipython3",
   "version": "3.10.4"
  },
  "toc": {
   "base_numbering": 1,
   "nav_menu": {},
   "number_sections": true,
   "sideBar": true,
   "skip_h1_title": false,
   "title_cell": "Table of Contents",
   "title_sidebar": "Contents",
   "toc_cell": false,
   "toc_position": {},
   "toc_section_display": true,
   "toc_window_display": false
  }
 },
 "nbformat": 4,
 "nbformat_minor": 5
}
