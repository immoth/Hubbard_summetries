{
 "cells": [
  {
   "cell_type": "markdown",
   "metadata": {},
   "source": [
    "# Finding Pauli Matrices from Hamiltonian\n",
    "\n",
    "I am following the algorithm described here: https://arxiv.org/abs/1907.01493"
   ]
  },
  {
   "cell_type": "code",
   "execution_count": 1,
   "metadata": {},
   "outputs": [],
   "source": [
    "import numpy as np"
   ]
  },
  {
   "cell_type": "markdown",
   "metadata": {},
   "source": [
    "### First we need write down some definitions"
   ]
  },
  {
   "cell_type": "code",
   "execution_count": 285,
   "metadata": {},
   "outputs": [],
   "source": [
    "t0 = np.array([[1,0],[0,0]])\n",
    "t1 = np.array([[0,1],[0,0]])\n",
    "t2 = np.array([[0,0],[1,0]])\n",
    "t3 = np.array([[0,0],[0,1]])\n",
    "T = [t0,t1,t2,t3]\n",
    "\n",
    "s0 = np.array([[1,0],[0,1]])\n",
    "s1 = np.array([[0,1],[1,0]])\n",
    "s2 = np.array([[0,1],[-1,0]])\n",
    "s3 = np.array([[1,0],[0,-1]])\n",
    "S = [s0,s1,s2,s3]"
   ]
  },
  {
   "cell_type": "code",
   "execution_count": 286,
   "metadata": {},
   "outputs": [],
   "source": [
    "def Mkron(Mlist):\n",
    "    Mno=len(Mlist)\n",
    "    mtp=Mlist[0]\n",
    "    for i in range(1,Mno):\n",
    "        mtp=np.kron(mtp,Mlist[i])\n",
    "    return mtp\n",
    "\n",
    "# A function to print out the binary number\n",
    "def bi(num):\n",
    "    bi = bin(num)\n",
    "    out = \"\"\n",
    "    for i in range(2,len(bi)):\n",
    "        out = out + bi[i]\n",
    "    return out"
   ]
  },
  {
   "cell_type": "markdown",
   "metadata": {},
   "source": [
    "### Create an arbitrary test Hamiltonian so that I can check each step."
   ]
  },
  {
   "cell_type": "code",
   "execution_count": 287,
   "metadata": {},
   "outputs": [
    {
     "data": {
      "text/plain": [
       "array([[0. , 0. , 0. , 0. , 0. , 0. , 0. , 0. ],\n",
       "       [0. , 0. , 0. , 0. , 0. , 0. , 0. , 0. ],\n",
       "       [0. , 0. , 0. , 0. , 1.1, 0. , 0. , 0. ],\n",
       "       [0. , 0. , 0. , 0.6, 0. , 0. , 0. , 0. ],\n",
       "       [0. , 0. , 0. , 0.9, 0. , 0. , 0. , 0. ],\n",
       "       [0. , 0. , 0. , 0. , 0. , 0. , 0. , 0. ],\n",
       "       [0. , 0. , 0.2, 0. , 0. , 0. , 0. , 0. ],\n",
       "       [0. , 0. , 0. , 0. , 0. , 0. , 0. , 0. ]])"
      ]
     },
     "execution_count": 287,
     "metadata": {},
     "output_type": "execute_result"
    }
   ],
   "source": [
    "H = 0.2*Mkron([t2,t3,t0]) + 0.6*Mkron([t0,t3,t3]) + 0.9*Mkron([t2,t1,t1]) + 1.1*Mkron([t1,t2,t0])\n",
    "\n",
    "H"
   ]
  },
  {
   "cell_type": "markdown",
   "metadata": {},
   "source": [
    "## Create c0\n",
    "\n",
    "The first step is collect the elements of the Hamiltonian so they can be called based by the qubit they on which they act and an index which charecterizes the single qubit subspace"
   ]
  },
  {
   "cell_type": "code",
   "execution_count": 280,
   "metadata": {},
   "outputs": [],
   "source": [
    "def c0(H):\n",
    "    #Get the size of H and number of qubits.  \n",
    "    #I have assumed that log_2 N is an integer\n",
    "    N = len(H)\n",
    "    Q = int(np.log2(N))\n",
    "    \n",
    "    #Create a skeleten for c\n",
    "    c = {}\n",
    "    \n",
    "    #fill c with elements of H\n",
    "    for i in range(N):\n",
    "        for j in range(N):\n",
    "            rQ = ''\n",
    "            for q in range(Q):\n",
    "                iq = np.mod(int((i)/2**q),2)\n",
    "                jq = np.mod(int((j)/2**q),2)\n",
    "                rQ = rQ + str(2*iq + jq)\n",
    "            c[rQ] = H[i][j]\n",
    "                \n",
    "    return c\n"
   ]
  },
  {
   "cell_type": "markdown",
   "metadata": {},
   "source": [
    "### Let us quickly check that we collected the terms correctly"
   ]
  },
  {
   "cell_type": "code",
   "execution_count": 284,
   "metadata": {},
   "outputs": [
    {
     "data": {
      "text/plain": [
       "0.0"
      ]
     },
     "execution_count": 284,
     "metadata": {},
     "output_type": "execute_result"
    }
   ],
   "source": [
    "N = len(H)\n",
    "Q = int(np.log2(N))\n",
    "\n",
    "c = c0(H)\n",
    "\n",
    "Htst = 0*H\n",
    "for rQ in c.keys():\n",
    "    Htst += c[rQ]*Mkron([T[int(rQ[2])],T[int(rQ[1])],T[int(rQ[0])]])\n",
    "\n",
    "np.amax(np.abs(Htst-H))"
   ]
  },
  {
   "cell_type": "markdown",
   "metadata": {},
   "source": [
    "## Find the weights of the Pauli Matrices\n",
    "\n",
    "In order to find the wieghts of the Pauli matrices, we will break the problem up into the individual qubits.  This is possible becuase the transformation is seperable.  "
   ]
  },
  {
   "cell_type": "code",
   "execution_count": 288,
   "metadata": {},
   "outputs": [],
   "source": [
    "# The single qubit transformation\n",
    "m = np.array([[1,0,0,1],[0,1,1,0],[0,1,-1,0],[1,0,0,-1]])\n",
    "\n",
    "#Define the step forward for cq\n",
    "def cb(ca,q):\n",
    "    cout = {}\n",
    "    for key in ca.keys():\n",
    "        rQ = key\n",
    "        rQl = list(rQ)\n",
    "        rqq = int(rQl[q])\n",
    "        cQrQ = 0\n",
    "        for rq in range(4):\n",
    "                rQl[q] = rq\n",
    "                rQ = ''.join(str(rq) for rq in rQl)\n",
    "                cQrQ += 1/2 * m[rqq,rq]*ca[rQ]\n",
    "        cout[key] = cQrQ\n",
    "    return cout"
   ]
  },
  {
   "cell_type": "code",
   "execution_count": 289,
   "metadata": {},
   "outputs": [],
   "source": [
    "#Define the final cQ\n",
    "def find_cQ(c0):\n",
    "    Q = len(list(c0.keys())[0])\n",
    "    cq = c0\n",
    "    for q in range(Q):\n",
    "        cq = cb(cq,q)\n",
    "    return cq"
   ]
  },
  {
   "cell_type": "markdown",
   "metadata": {},
   "source": [
    "### Check that it has worked"
   ]
  },
  {
   "cell_type": "code",
   "execution_count": 291,
   "metadata": {},
   "outputs": [
    {
     "data": {
      "text/plain": [
       "2.220446049250313e-16"
      ]
     },
     "execution_count": 291,
     "metadata": {},
     "output_type": "execute_result"
    }
   ],
   "source": [
    "cQ = find_cQ(c)\n",
    "\n",
    "Htst = 0*H\n",
    "for rQ in cQ.keys():\n",
    "    Htst += cQ[rQ]*Mkron([S[int(rQ[2])],S[int(rQ[1])],S[int(rQ[0])]])\n",
    "    \n",
    "np.amax(np.abs(H-Htst))"
   ]
  },
  {
   "cell_type": "code",
   "execution_count": 292,
   "metadata": {},
   "outputs": [
    {
     "data": {
      "text/plain": [
       "'C:\\\\Users\\\\jsten\\\\IBMQ\\\\Hubbard_symmetries'"
      ]
     },
     "execution_count": 292,
     "metadata": {},
     "output_type": "execute_result"
    }
   ],
   "source": [
    "pwd"
   ]
  },
  {
   "cell_type": "code",
   "execution_count": null,
   "metadata": {},
   "outputs": [],
   "source": []
  }
 ],
 "metadata": {
  "kernelspec": {
   "display_name": "Python [conda env:qiskit_25v]",
   "language": "python",
   "name": "conda-env-qiskit_25v-py"
  },
  "language_info": {
   "codemirror_mode": {
    "name": "ipython",
    "version": 3
   },
   "file_extension": ".py",
   "mimetype": "text/x-python",
   "name": "python",
   "nbconvert_exporter": "python",
   "pygments_lexer": "ipython3",
   "version": "3.9.4"
  }
 },
 "nbformat": 4,
 "nbformat_minor": 4
}
