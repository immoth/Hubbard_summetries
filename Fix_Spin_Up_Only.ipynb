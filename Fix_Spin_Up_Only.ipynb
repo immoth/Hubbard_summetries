{
 "cells": [
  {
   "cell_type": "markdown",
   "metadata": {},
   "source": [
    "# Finding classical parameters for the up sector\n",
    "\n",
    "Here I set the number of up electrons and let the down electrons be anything they want.  Let us break the wavefunction up into a sum over the up electron states:\n",
    "$$|\\psi> = \\sum_c \\alpha_c|c>|\\psi^{\\downarrow}> $$\n",
    "where $|c>$ is a particular state of the up electrons which is stored classically, $|\\psi^{\\downarrow}>$ is the state of the down electrons, and $\\alpha_c$ are some set of parameters which will be updated during VQE along with the unitary that describes $|\\psi^{\\downarrow}>$\n",
    "\n",
    "We can calculate the energy expaection value (which is the cost function for VQE) using a set of classical derived parameters describing the up states and a set of Pauli expectation values which will be found using VQE.\n",
    "\n",
    "\\begin{equation}\n",
    "\\begin{split}\n",
    "<\\psi|H|\\psi> &= \\sum_{c,c'}\\alpha_c\\alpha_{c'}^{*}<c'|<\\psi^{\\downarrow}| H|c>|\\psi^{\\downarrow}> \n",
    "\\\\\n",
    "& = \\sum_{c,c'}\\alpha_c\\alpha_{c'}^{*} \\left( <c'|\\hat{K}^{\\uparrow}|c> + \\delta_{c',c}<\\psi^{\\downarrow}|\\hat{K}^{\\downarrow}|\\psi^{\\downarrow}> + u\\sum_i <c'|\\hat{n_i}^{\\uparrow}|c><\\psi^{\\downarrow}|\\hat{n}_i^{\\downarrow} |\\psi^{\\downarrow}> \\right)\n",
    "\\\\\n",
    "& = \\sum_{c,c'}\\alpha_c\\alpha_{c'}^{*} \\left( k_{c',c} + \\delta_{c',c}\\sum_i\\left( t<\\psi^{\\downarrow}|X_i X_{i+1} |\\psi^{\\downarrow}> +t<\\psi^{\\downarrow}|Y_i Y_{i+1} |\\psi^{\\downarrow}> + u_{i,c}<\\psi^{\\downarrow}|Z_i |\\psi^{\\downarrow}> + u_{i,c} \\right) \\right)\n",
    "\\end{split}\n",
    "\\end{equation}\n",
    "where $\\hat{n}_i^{\\sigma}$ is the number operator on site $i$ for spin $\\sigma$, $\\hat{K}^{\\sigma}$ is the kinetic part of the Hamiltonian for spin $\\sigma$, $t$ is the hopping strength,  $u$ is the interaction strength, $k_{c',c} = <c'|\\hat{K}^{\\uparrow}|c>$, and  $u_{i,c} = u<c'|\\hat{n_i}^{\\uparrow}|c>$.  \n",
    "\n",
    "Here we will find $k_{c',c}$ and $u_{i,c}$. "
   ]
  },
  {
   "cell_type": "code",
   "execution_count": 145,
   "metadata": {},
   "outputs": [],
   "source": [
    "import numpy as np\n",
    "import pandas as pd\n",
    "from qiskit import quantum_info as qi"
   ]
  },
  {
   "cell_type": "markdown",
   "metadata": {},
   "source": [
    "First we need a way to generate the spin up states"
   ]
  },
  {
   "cell_type": "code",
   "execution_count": 146,
   "metadata": {},
   "outputs": [],
   "source": [
    "#Creates all states with N fermions and S orbitals\n",
    "def Generate_States(N,S):\n",
    "    s = [i for i in range(0,N)]\n",
    "    psi_l = []\n",
    "    while s[0] < S-N:\n",
    "        ### create the state and store it\n",
    "        psi = 0\n",
    "        for i in s:\n",
    "            psi += 2**i\n",
    "        psi_l.append(psi)\n",
    "        ###\n",
    "        ###Update the particle locations\n",
    "        exit = 0\n",
    "        i = len(s)-1\n",
    "        while exit == 0:\n",
    "            if s[i] < S-len(s)+i:\n",
    "                s[i] += 1\n",
    "                for j in range(i+1,len(s)):\n",
    "                    s[j] = s[j-1]+1\n",
    "                exit = 1\n",
    "            else:\n",
    "                i -= 1\n",
    "        ###\n",
    "    ###Create the finale state\n",
    "    psi = 0\n",
    "    for i in s:\n",
    "        psi += 2**i\n",
    "    psi_l.append(psi)\n",
    "    ###\n",
    "    return psi_l"
   ]
  },
  {
   "cell_type": "code",
   "execution_count": 147,
   "metadata": {},
   "outputs": [
    {
     "data": {
      "text/plain": [
       "[3, 5, 9, 6, 10, 12]"
      ]
     },
     "execution_count": 147,
     "metadata": {},
     "output_type": "execute_result"
    }
   ],
   "source": [
    "states = Generate_States(2,4)\n",
    "states"
   ]
  },
  {
   "cell_type": "code",
   "execution_count": 148,
   "metadata": {},
   "outputs": [],
   "source": [
    "# A function to print out the binary number\n",
    "def bi(num,S):\n",
    "    bi = bin(num)\n",
    "    out = \"\"\n",
    "    Sdiff = S - len(bi) + 2\n",
    "    for i in range(0,Sdiff):\n",
    "        out = out + '0'\n",
    "    for i in range(2,len(bi)):\n",
    "        out = out + bi[i]\n",
    "    return out"
   ]
  },
  {
   "cell_type": "code",
   "execution_count": 149,
   "metadata": {},
   "outputs": [
    {
     "data": {
      "text/plain": [
       "'0101'"
      ]
     },
     "execution_count": 149,
     "metadata": {},
     "output_type": "execute_result"
    }
   ],
   "source": [
    "bi(states[1],4)"
   ]
  },
  {
   "cell_type": "markdown",
   "metadata": {},
   "source": [
    "Now we can find the $k_{c,c}$ parameter by finding the action of the kinetic terms on the spin up states."
   ]
  },
  {
   "cell_type": "code",
   "execution_count": 150,
   "metadata": {},
   "outputs": [],
   "source": [
    "def bi_t(V,Su):\n",
    "    Vn_l = []\n",
    "    sign = 0\n",
    "    for i in range(0,Su):\n",
    "        #Spin up\n",
    "        M = 2**i + 2**np.mod(i+1,Su)\n",
    "        K = M & V\n",
    "        L = K ^ M\n",
    "        if L != 0 and L != M:\n",
    "            Vn = V - K + L\n",
    "            if i + 1 == np.mod(i+1,Su):\n",
    "                sign = 1\n",
    "            elif Su % 2 == 1:\n",
    "                sign = 1\n",
    "            else:\n",
    "                sign = -1\n",
    "            #print(i,':',bi(Vn))\n",
    "            Vn_l.append([Vn,sign])\n",
    "        #Spin down\n",
    "        #Only doing spin up\n",
    "    return Vn_l"
   ]
  },
  {
   "cell_type": "code",
   "execution_count": 151,
   "metadata": {},
   "outputs": [
    {
     "data": {
      "text/plain": [
       "array([[ 0, -1,  0,  0,  1,  0],\n",
       "       [-1,  0, -1, -1,  0,  1],\n",
       "       [ 0, -1,  0,  0, -1,  0],\n",
       "       [ 0, -1,  0,  0, -1,  0],\n",
       "       [ 1,  0, -1, -1,  0, -1],\n",
       "       [ 0,  1,  0,  0, -1,  0]])"
      ]
     },
     "execution_count": 151,
     "metadata": {},
     "output_type": "execute_result"
    }
   ],
   "source": [
    "t = -1\n",
    "S = 4\n",
    "Q = len(states)\n",
    "index_map = {states[i]:i for i in range(Q)}\n",
    "K_up = np.array([[0 for i in range(Q)] for j in range(Q)])\n",
    "for i in range(0,Q):\n",
    "    psi_t = bi_t(states[i],S)\n",
    "    for s in range(len(psi_t)):\n",
    "        K_up[index_map[psi_t[s][0]],i] = psi_t[s][1]*t\n",
    "\n",
    "\n",
    "        \n",
    "K_up"
   ]
  },
  {
   "cell_type": "markdown",
   "metadata": {},
   "source": [
    "Now we can find the $u_{i,c}$ parameter by simply checking whether there is a spin up electron at site $i$ in state $c$"
   ]
  },
  {
   "cell_type": "code",
   "execution_count": 152,
   "metadata": {},
   "outputs": [],
   "source": [
    "def bi_n(i,V,S):\n",
    "    num = bi(V,S)\n",
    "    if num[-i-1] == '1':\n",
    "        return 1\n",
    "    else:\n",
    "        return 0"
   ]
  },
  {
   "cell_type": "code",
   "execution_count": 153,
   "metadata": {},
   "outputs": [
    {
     "name": "stdout",
     "output_type": "stream",
     "text": [
      "1001\n"
     ]
    },
    {
     "data": {
      "text/plain": [
       "1"
      ]
     },
     "execution_count": 153,
     "metadata": {},
     "output_type": "execute_result"
    }
   ],
   "source": [
    "print(bi(states[2],4))\n",
    "bi_n(0,states[2],4)"
   ]
  },
  {
   "cell_type": "code",
   "execution_count": 154,
   "metadata": {},
   "outputs": [
    {
     "data": {
      "text/plain": [
       "[[1, 1, 0, 0],\n",
       " [1, 0, 1, 0],\n",
       " [1, 0, 0, 1],\n",
       " [0, 1, 1, 0],\n",
       " [0, 1, 0, 1],\n",
       " [0, 0, 1, 1]]"
      ]
     },
     "execution_count": 154,
     "metadata": {},
     "output_type": "execute_result"
    }
   ],
   "source": [
    "u = 1\n",
    "S = 4\n",
    "Q = len(states)\n",
    "n_up = []\n",
    "for c in range(0,Q):\n",
    "    n_up_c = []\n",
    "    for i in range(0,S):\n",
    "        n_up_c.append(u*bi_n(i,states[c],S))\n",
    "    n_up.append(n_up_c)\n",
    "    \n",
    "n_up"
   ]
  },
  {
   "cell_type": "markdown",
   "metadata": {},
   "source": [
    "Recall that\n",
    "\n",
    "\\begin{equation}\n",
    "\\begin{split}\n",
    "<\\psi|H|\\psi> = \\sum_{c,c'}\\alpha_c\\alpha_{c'}^{*}  k_{c',c} + \\sum_{c}|\\alpha_c|^2\\sum_i\\left( t<\\psi^{\\downarrow}|X_i X_{i+1} |\\psi^{\\downarrow}> +t<\\psi^{\\downarrow}|Y_i Y_{i+1} |\\psi^{\\downarrow}> + u_{i,c}<\\psi^{\\downarrow}|Z_i |\\psi^{\\downarrow}> + u_{i,c} \\right) \n",
    "\\end{split}\n",
    "\\end{equation}"
   ]
  },
  {
   "cell_type": "markdown",
   "metadata": {},
   "source": [
    "## Full Hamiltonian\n",
    "\n",
    "Even though we will not use it directly, let us write the full Hamiltonian so that we can compare our results.  The Hamiltoniain is:\n",
    "\n",
    "\\begin{equation}\n",
    "    H_{c,c'} = k_{c,c'}\\hat{I}_{\\downarrow} + \\delta_{c,c'}\\left(\\sum_{i=0}^{S-2}\\left(X_i X_{i+1} + Y_i Y_{i+1}\\right) + X_0Z_1Z_2...Z_{N-2}X_{N-1}+ Y_0Z_1Z_2...Z_{N-2}Y_{N-1}\\right) + \\delta_{c,c'}\\sum_i u_{i,c}\\left(\\hat{I}_{\\downarrow}+Z_i\\right)\n",
    "\\end{equation}"
   ]
  },
  {
   "cell_type": "code",
   "execution_count": 155,
   "metadata": {},
   "outputs": [],
   "source": [
    "I_down = [[0 for i in range(2**S)] for j in range(2**S)]\n",
    "for i in range(2**S):\n",
    "    I_down[i][i] = 1\n",
    "I_down = np.array(I_down)\n",
    "    \n",
    "def Z_label(i,Q):\n",
    "    out = ''\n",
    "    for j in range(0,Q):\n",
    "        if j == i:\n",
    "            out = out + 'Z'\n",
    "        else:\n",
    "            out = out + 'I'\n",
    "    return out[::-1]\n",
    "\n",
    "\n",
    "def X_label(i,Q):\n",
    "    out = ''\n",
    "    for j in range(0,Q):\n",
    "        if i < Q-1:\n",
    "            if i == j or i + 1 == j:\n",
    "                out = out + 'X'\n",
    "            else:\n",
    "                out = out + 'I'\n",
    "        else:\n",
    "            if j == 0 or j == Q-1:\n",
    "                out = out + 'X'\n",
    "            else:\n",
    "                out = out + 'Z'\n",
    "    return out[::-1]\n",
    "\n",
    "def Y_label(i,Q):\n",
    "    out = ''\n",
    "    for j in range(0,Q):\n",
    "        if i < Q-1:\n",
    "            if i == j or i + 1 == j:\n",
    "                out = out + 'Y'\n",
    "            else:\n",
    "                out = out + 'I'\n",
    "        else:\n",
    "            if j == 0 or j == Q-1:\n",
    "                out = out + 'Y'\n",
    "            else:\n",
    "                out = out + 'Z'\n",
    "    return out[::-1]\n",
    "    \n",
    "def Hcc(c,cc):\n",
    "    h = K_up[c][cc]*I_down\n",
    "    if c == cc:\n",
    "        for i in range(0,S): \n",
    "            h = h + t*qi.Operator.from_label(X_label(i,S)).data\n",
    "            h = h + t*qi.Operator.from_label(Y_label(i,S)).data\n",
    "            h = h + u*n_up[c][i]*(I_down + qi.Operator.from_label(Z_label(i,S)).data)\n",
    "    return np.array(h)\n",
    "            \n"
   ]
  },
  {
   "cell_type": "code",
   "execution_count": 156,
   "metadata": {},
   "outputs": [],
   "source": [
    "Nc = 6\n",
    "Ndown = 2**S\n",
    "H_full = [[0 for i in range(Nc*Ndown)] for j in range(Nc*Ndown)]\n",
    "for c in range(Nc):\n",
    "    for i in range(Ndown):\n",
    "        for cc in range(Nc):\n",
    "            for j in range(Ndown):\n",
    "                H_full[Ndown*c + i][Ndown*cc + j] = Hcc(c,cc)[i][j]"
   ]
  },
  {
   "cell_type": "code",
   "execution_count": 157,
   "metadata": {},
   "outputs": [
    {
     "data": {
      "text/plain": [
       "array([-5.13312893e+00+1.00234397e-18j, -5.13312893e+00+6.66133815e-16j,\n",
       "       -4.73997938e+00-7.36620420e-22j, -4.62935704e+00-1.43602894e-18j,\n",
       "       -3.82953081e+00-2.62378430e-18j, -3.59930037e+00+6.05919306e-18j,\n",
       "       -3.32088450e+00-5.39340687e-17j, -3.28356705e+00-4.12624181e-16j,\n",
       "       -3.13312893e+00+1.06051188e-17j, -3.13312893e+00+2.07504377e-17j,\n",
       "       -2.57649122e+00-1.27559780e-17j, -2.57649122e+00+1.29908112e-17j,\n",
       "       -2.00000000e+00+7.04163900e-17j, -2.00000000e+00+5.55672117e-16j,\n",
       "       -2.00000000e+00-9.57383454e-17j, -2.00000000e+00+0.00000000e+00j,\n",
       "       -1.62007586e+00-5.47612867e-18j, -1.35193920e+00+2.00074611e-17j,\n",
       "       -1.32088450e+00-1.60693988e-16j, -1.30205302e+00+6.57961658e-17j,\n",
       "       -1.30205302e+00+6.66133815e-16j, -1.28356705e+00-2.83234406e-17j,\n",
       "       -9.93825263e-01+6.96620637e-18j, -6.72823701e-01+3.90766610e-17j,\n",
       "       -5.13402783e-01+3.12239245e-17j, -3.36508804e-01-1.88930346e-17j,\n",
       "       -1.14091954e-15+5.22157126e-18j,  1.66706805e-16-2.92907714e-17j,\n",
       "        3.33431833e-16-6.18252180e-17j,  1.31068026e-15+1.59844357e-16j,\n",
       "        9.57261660e-02+2.12165750e-16j,  2.51935902e-01-1.38777882e-16j,\n",
       "        2.51935902e-01-1.22156559e-17j,  3.79924142e-01+7.27460344e-18j,\n",
       "        4.56540545e-01+2.23382176e-16j,  6.48060798e-01-1.46665374e-17j,\n",
       "        6.97946977e-01+6.26126754e-18j,  6.97946977e-01-8.76361463e-19j,\n",
       "        7.07970286e-01+4.99156516e-18j,  7.07970286e-01-1.56125113e-17j,\n",
       "        1.29202971e+00-1.67511333e-17j,  1.29202971e+00+7.16372056e-17j,\n",
       "        1.32717630e+00-6.50480386e-21j,  1.66349120e+00-2.56334591e-16j,\n",
       "        2.00000000e+00+0.00000000e+00j,  2.00000000e+00+0.00000000e+00j,\n",
       "        2.00000000e+00-1.58618778e-16j,  2.00000000e+00+0.00000000e+00j,\n",
       "        2.00000000e+00-3.66185084e-16j,  2.00000000e+00+4.69912358e-16j,\n",
       "        2.00000000e+00+9.90540919e-25j,  2.00000000e+00-5.37275349e-17j,\n",
       "        2.33650880e+00+9.34936782e-17j,  2.67282370e+00+1.88930346e-17j,\n",
       "        2.70797029e+00-1.32810147e-18j,  2.70797029e+00+2.13562387e-16j,\n",
       "        3.29202971e+00+1.41033019e-15j,  3.29202971e+00+2.22269592e-16j,\n",
       "        3.30205302e+00+6.66172315e-16j,  3.30205302e+00+4.44181899e-16j,\n",
       "        3.35193920e+00-9.84590472e-16j,  3.54345946e+00+5.91001956e-16j,\n",
       "        3.62007586e+00+4.01535309e-17j,  3.74806410e+00-2.08739587e-16j,\n",
       "        3.74806410e+00-4.80445811e-16j,  3.90427383e+00+3.38755701e-16j,\n",
       "        4.00000000e+00+2.91433544e-16j,  4.00000000e+00-1.41596804e-16j,\n",
       "        4.00000000e+00-3.37916600e-17j,  4.00000000e+00+1.19262239e-16j,\n",
       "        4.33650880e+00-1.02641059e-15j,  4.51340278e+00+4.60872654e-17j,\n",
       "        4.67282370e+00+5.42822693e-16j,  4.99382526e+00+1.76505333e-21j,\n",
       "        5.28356705e+00+1.10670001e-16j,  5.30205302e+00+6.54376042e-16j,\n",
       "        5.30205302e+00-1.68643505e-18j,  5.32088450e+00+8.47894567e-17j,\n",
       "        5.35193920e+00-1.02694109e-15j,  5.62007586e+00-7.29925883e-18j,\n",
       "        6.00000000e+00-2.55109122e-16j,  6.00000000e+00+6.39350698e-17j,\n",
       "        6.00000000e+00-4.67306237e-16j,  6.00000000e+00+2.03078587e-16j,\n",
       "        6.57649122e+00+3.57978345e-18j,  6.57649122e+00+1.30501583e-15j,\n",
       "        7.13312893e+00+2.77555751e-17j,  7.13312893e+00-7.72680395e-16j,\n",
       "        7.28356705e+00-9.93295215e-18j,  7.32088450e+00-1.02939388e-17j,\n",
       "        7.59930037e+00-6.24469147e-17j,  7.82953081e+00-6.62087329e-17j,\n",
       "        8.62935704e+00+9.35163586e-19j,  8.73997938e+00-9.50559279e-19j,\n",
       "        9.13312893e+00-1.12871959e-21j,  9.13312893e+00-1.14179731e-19j])"
      ]
     },
     "execution_count": 157,
     "metadata": {},
     "output_type": "execute_result"
    }
   ],
   "source": [
    "e,y = np.linalg.eig(H_full)\n",
    "\n",
    "np.sort(e)"
   ]
  },
  {
   "cell_type": "markdown",
   "metadata": {},
   "source": [
    "## The Ansatz"
   ]
  },
  {
   "cell_type": "markdown",
   "metadata": {},
   "source": [
    "Here we define the paramaterized circuit which we will optimize. \n",
    "\n",
    "$$ U^c_i = \\prod_q R^y_q(\\phi_{q0}^c)\\prod_{q'}C_{4q',4q'+1}C_{4q'+3,4q'+2}\\prod_{q''}C_{4q''+1,4q''+2}C_{4q''+4,4q''+3} $$\n",
    "$$ U^c = \\prod_i U^c_i $$"
   ]
  },
  {
   "cell_type": "markdown",
   "metadata": {},
   "source": [
    "This has to be optimized along with the paramter set $\\{\\alpha_c\\}$"
   ]
  },
  {
   "cell_type": "code",
   "execution_count": 158,
   "metadata": {},
   "outputs": [],
   "source": [
    "from qiskit import QuantumCircuit, QuantumRegister,ClassicalRegister, execute\n"
   ]
  },
  {
   "cell_type": "code",
   "execution_count": 159,
   "metadata": {},
   "outputs": [],
   "source": [
    "def Ui(cir_i,phi_i):  \n",
    "    \n",
    "    for q in range(0,Q):\n",
    "        cir_i.ry(phi_i[q],q)\n",
    "    for q in range(0,Q,4):\n",
    "        cir_i.cx(q,q+1)\n",
    "        if q + 3 < Q:\n",
    "            cir_i.cx(q+3,q+2)\n",
    "    for q in range(1,Q,4):\n",
    "        cir_i.cx(q,q+1)\n",
    "        if q + 3 < Q:\n",
    "            cir_i.cx(q+3,q+2)\n",
    "    \n",
    "    return cir_i\n"
   ]
  },
  {
   "cell_type": "code",
   "execution_count": 160,
   "metadata": {},
   "outputs": [
    {
     "data": {
      "image/png": "[encoded data removed]",
      "text/plain": [
       "<Figure size 346.68x325.08 with 1 Axes>"
      ]
     },
     "execution_count": 160,
     "metadata": {},
     "output_type": "execute_result"
    }
   ],
   "source": [
    "Q = 4\n",
    "qr = QuantumRegister(Q)\n",
    "cr = ClassicalRegister(Q)\n",
    "cir_i = QuantumCircuit(qr , cr)\n",
    "tst = Ui(cir_i,[0.2,0.3,0.4,0.5])\n",
    "\n",
    "tst.draw(output = 'mpl')"
   ]
  },
  {
   "cell_type": "code",
   "execution_count": 161,
   "metadata": {},
   "outputs": [],
   "source": [
    "def U(cir,phi_b):\n",
    "    T = len(phi_b)\n",
    "    for t in range(T):\n",
    "        cir = Ui(cir,phi_b[t])\n",
    "    return cir\n"
   ]
  },
  {
   "cell_type": "code",
   "execution_count": 162,
   "metadata": {},
   "outputs": [
    {
     "data": {
      "image/png": "[encoded data removed]",
      "text/plain": [
       "<Figure size 708.026x325.08 with 1 Axes>"
      ]
     },
     "execution_count": 162,
     "metadata": {},
     "output_type": "execute_result"
    }
   ],
   "source": [
    "qr = QuantumRegister(Q)\n",
    "cr = ClassicalRegister(Q)\n",
    "cir = QuantumCircuit(qr , cr)\n",
    "tst = U(cir,[[0.2,0.3,0.4,0.5],[0.5,0.6,0.7,0.8],[0.8,0.9,0.1,0.2]])\n",
    "\n",
    "tst.draw(output = 'mpl')"
   ]
  },
  {
   "cell_type": "markdown",
   "metadata": {},
   "source": [
    "# Calculating E\n",
    "\n",
    "\\begin{equation}\n",
    "\\begin{split}\n",
    "E =& <\\psi|H|\\psi> \n",
    "\\\\\n",
    "=& \\sum_{c,c'}\\alpha_c\\alpha_{c'}^{*}  k_{c',c} + \\sum_{c}|\\alpha_c|^2\\times\n",
    "\\\\\n",
    "&\\sum_i \\left( t<000\\ldots|U^{\\dagger}(\\{\\phi^c\\})X_i X_{i+1} U(\\{\\phi^c\\})|000\\ldots> \\right.\n",
    "\\\\\n",
    "&+t<000\\ldots|U^{\\dagger}(\\{\\phi^c\\})Y_i Y_{i+1} U(\\{\\phi^c\\})|000\\ldots> \n",
    "\\\\\n",
    "&\\left.+ u_{i,c}<000\\ldots|U^{\\dagger}(\\{\\phi^c\\})Z_i U(\\{\\phi^c\\})|000\\ldots> + u_{i,c} \\right)\n",
    "\\end{split}\n",
    "\\end{equation}\n",
    "\n",
    "We can use the Pauli calculator from the other VQE file.\n"
   ]
  },
  {
   "cell_type": "code",
   "execution_count": 163,
   "metadata": {},
   "outputs": [
    {
     "name": "stdout",
     "output_type": "stream",
     "text": [
      "(0.8632093666488736+0j)\n",
      "0.8632093666488737\n",
      "0.876953125\n"
     ]
    }
   ],
   "source": [
    "from qiskit import Aer\n",
    "from qiskit.visualization import *\n",
    "from qiskit import quantum_info as qi\n",
    "\n",
    "def measure_pauli(p_label,psi0,method = 'simple'):\n",
    "    \n",
    "    #Simple method of calculation####\n",
    "    if method == 'simple':\n",
    "        wave0 = qi.Statevector.from_instruction(psi0)\n",
    "        Op = qi.Operator.from_label(p_label)\n",
    "        return np.dot(np.conjugate(wave0),np.dot(Op,wave0))\n",
    "    #################################\n",
    "        \n",
    "    #apply rotations#################\n",
    "    psi = copy.deepcopy(psi0)\n",
    "    pauli_qs = []\n",
    "    Z_label = ''\n",
    "    Q = len(p_label)\n",
    "    for q,p in enumerate(p_label):\n",
    "        if p == 'X':\n",
    "            psi.ry(-np.pi/2,Q-1-q)\n",
    "            pauli_qs.append(1)\n",
    "            Z_label += 'Z'\n",
    "        if p == 'Y':\n",
    "            psi.rx(np.pi/2,Q-1-q)\n",
    "            pauli_qs.append(1)\n",
    "            Z_label += 'Z'\n",
    "        if p == 'Z':\n",
    "            pauli_qs.append(1)\n",
    "            Z_label += 'Z'\n",
    "        if p == 'I':\n",
    "            pauli_qs.append(0)\n",
    "            Z_label += 'I'\n",
    "    ################################\n",
    "    \n",
    "    #Using matrix multiplication####\n",
    "    if method == 'matrix':\n",
    "        # add results\n",
    "        wave = qi.Statevector.from_instruction(psi)\n",
    "        r = wave.probabilities_dict()\n",
    "        z_measure = 0\n",
    "        for key in list(r.keys()):\n",
    "            n = 0\n",
    "            for q in range(len(key)):\n",
    "                if key[q] == '1' and pauli_qs[q] == 1:\n",
    "                    n += 1\n",
    "            z_measure += (-1)**n * r[key] \n",
    "        return z_measure\n",
    "    #################################\n",
    "    \n",
    "    #Using the qasm simulator########\n",
    "    if method == \"simulator\":\n",
    "        sim = Aer.get_backend(\"qasm_simulator\")\n",
    "        psi.measure(psi.qubits,psi.clbits)\n",
    "        r = execute(psi, backend = sim).result().get_counts()\n",
    "        z_measure = 0\n",
    "        total = 0\n",
    "        for key in list(r.keys()):\n",
    "            n = 0\n",
    "            for q in range(len(key)):\n",
    "                if key[q] == '1' and pauli_qs[q] == 1:\n",
    "                    n += 1\n",
    "            z_measure += (-1)**n * r[key] \n",
    "            total += r[key]\n",
    "        return z_measure/total\n",
    "    ###################################\n",
    "    \n",
    "    raise NameError(method + ' is not a recognized method')\n",
    "    return method + ' is not a recognized method'\n",
    "  \n",
    "\n",
    "#Run a test\n",
    "import copy\n",
    "qr = QuantumRegister(Q)\n",
    "cr = ClassicalRegister(Q)\n",
    "cir = QuantumCircuit(qr , cr)\n",
    "psi0 = U(cir,[[1.2,2.3,3.4,2.1]])\n",
    "p_label = \"XXII\"\n",
    "        \n",
    "    \n",
    "print( measure_pauli(p_label,psi0,method = 'simple') )\n",
    "print( measure_pauli(p_label,psi0,method = 'matrix') )\n",
    "print( measure_pauli(p_label,psi0,method = 'simulator') )\n",
    "#print( measure_pauli(p_label,psi0,method = 'Moon_Cheese') )"
   ]
  },
  {
   "cell_type": "code",
   "execution_count": 164,
   "metadata": {},
   "outputs": [
    {
     "name": "stdout",
     "output_type": "stream",
     "text": [
      "IIZI\n",
      "XXII\n",
      "XZZX\n",
      "IYYI\n",
      "YZZY\n"
     ]
    }
   ],
   "source": [
    "def Z_label(i,Q):\n",
    "    out = ''\n",
    "    for j in range(0,Q):\n",
    "        if j == i:\n",
    "            out = out + 'Z'\n",
    "        else:\n",
    "            out = out + 'I'\n",
    "    return out[::-1]\n",
    "\n",
    "\n",
    "def X_label(i,Q):\n",
    "    out = ''\n",
    "    for j in range(0,Q):\n",
    "        if i < Q-1:\n",
    "            if i == j or i + 1 == j:\n",
    "                out = out + 'X'\n",
    "            else:\n",
    "                out = out + 'I'\n",
    "        else:\n",
    "            if j == 0 or j == Q-1:\n",
    "                out = out + 'X'\n",
    "            else:\n",
    "                out = out + 'Z'\n",
    "    return out[::-1]\n",
    "\n",
    "def Y_label(i,Q):\n",
    "    out = ''\n",
    "    for j in range(0,Q):\n",
    "        if i < Q-1:\n",
    "            if i == j or i + 1 == j:\n",
    "                out = out + 'Y'\n",
    "            else:\n",
    "                out = out + 'I'\n",
    "        else:\n",
    "            if j == 0 or j == Q-1:\n",
    "                out = out + 'Y'\n",
    "            else:\n",
    "                out = out + 'Z'\n",
    "    return out[::-1]\n",
    "\n",
    "print(Z_label(1,4))\n",
    "print(X_label(2,4))\n",
    "print(X_label(3,4))\n",
    "print(Y_label(1,4))\n",
    "print(Y_label(3,4))"
   ]
  },
  {
   "cell_type": "markdown",
   "metadata": {},
   "source": [
    "\\begin{equation}\n",
    "\\begin{split}\n",
    "E =& <\\psi|H|\\psi> \n",
    "\\\\\n",
    "=& \\sum_{c,c'}\\alpha_c\\alpha_{c'}^{*}  k_{c',c} + \\sum_{c}|\\alpha_c|^2\\times\n",
    "\\\\\n",
    "&\\sum_i \\left( t<000\\ldots|U^{\\dagger}(\\{\\phi^c\\})X_i X_{i+1} U(\\{\\phi^c\\})|000\\ldots> \\right.\n",
    "\\\\\n",
    "&+t<000\\ldots|U^{\\dagger}(\\{\\phi^c\\})Y_i Y_{i+1} U(\\{\\phi^c\\})|000\\ldots> \n",
    "\\\\\n",
    "&\\left.+ u_{i,c}<000\\ldots|U^{\\dagger}(\\{\\phi^c\\})Z_i U(\\{\\phi^c\\})|000\\ldots> + u_{i,c} \\right)\n",
    "\\end{split}\n",
    "\\end{equation}"
   ]
  },
  {
   "cell_type": "code",
   "execution_count": 166,
   "metadata": {},
   "outputs": [],
   "source": [
    "import numpy as np\n",
    "\n",
    "def find_E(alpha, phi, method = 'simple'):\n",
    "    \n",
    "    # The kinetic part for the up spin\n",
    "    E_Kup = 0\n",
    "    for c in range(0,len(alpha)):\n",
    "        for cc in range(0,len(alpha)):\n",
    "            E_Kup += alpha[c]*np.conjugate(alpha[cc])*K_up[c][cc]\n",
    "            \n",
    "    # The Kinetic part for the down spin\n",
    "    E_Kdown = 0\n",
    "    for c in range(0,len(alpha)):\n",
    "        for i in range(0,Q):\n",
    "            qr = QuantumRegister(Q)\n",
    "            cr = ClassicalRegister(Q)\n",
    "            cir = QuantumCircuit(qr , cr)\n",
    "            psi0 = U(cir,phi)\n",
    "            p_label = X_label(i,Q)\n",
    "            E_Kdown += t*np.abs(alpha[c])**2*measure_pauli(p_label,psi0,method = method)\n",
    "            p_label = Y_label(i,Q)\n",
    "            E_Kdown += t*np.abs(alpha[c])**2*measure_pauli(p_label,psi0,method = method)\n",
    "            \n",
    "    # Interaction part\n",
    "    E_u = 0\n",
    "    for c in range(0,len(alpha)):\n",
    "        for i in range(0,Q):\n",
    "            qr = QuantumRegister(Q)\n",
    "            cr = ClassicalRegister(Q)\n",
    "            cir = QuantumCircuit(qr , cr)\n",
    "            psi0 = U(cir,phi)\n",
    "            p_label = Z_label(i,Q)\n",
    "            E_u += u*n_up[c][i]*np.abs(alpha[c])**2*measure_pauli(p_label,psi0,method = method)\n",
    "            E_u += u*n_up[c][i]*np.abs(alpha[c])**2\n",
    "            \n",
    "    return E_u + E_Kup + E_Kdown"
   ]
  },
  {
   "cell_type": "code",
   "execution_count": 167,
   "metadata": {},
   "outputs": [
    {
     "data": {
      "text/plain": [
       "(199.38411750609066+0j)"
      ]
     },
     "execution_count": 167,
     "metadata": {},
     "output_type": "execute_result"
    }
   ],
   "source": [
    "alpha = [1,2,3,4,5,6]\n",
    "phi = [[0.2,0.3,0.4,0.5]]\n",
    "find_E(alpha, phi)"
   ]
  },
  {
   "cell_type": "markdown",
   "metadata": {},
   "source": [
    "# I need to check that this is the same energy I get from the full Hamiltonian"
   ]
  },
  {
   "cell_type": "code",
   "execution_count": 168,
   "metadata": {},
   "outputs": [],
   "source": [
    "qr = QuantumRegister(Q)\n",
    "cr = ClassicalRegister(Q)\n",
    "cir = QuantumCircuit(qr , cr)\n",
    "psi0 = U(cir,phi)\n",
    "\n",
    "psi_tst = qi.Statevector.from_instruction(psi0).data"
   ]
  },
  {
   "cell_type": "code",
   "execution_count": 169,
   "metadata": {},
   "outputs": [],
   "source": [
    "psi_tst_full = [0 for i in range(Nc*Ndown)]\n",
    "\n",
    "for c in range(Nc):\n",
    "    for i in range(Ndown):\n",
    "        psi_tst_full[Ndown*c + i] = alpha[c]*psi_tst[i]"
   ]
  },
  {
   "cell_type": "code",
   "execution_count": 171,
   "metadata": {},
   "outputs": [
    {
     "data": {
      "text/plain": [
       "(199.38411750609066+0j)"
      ]
     },
     "execution_count": 171,
     "metadata": {},
     "output_type": "execute_result"
    }
   ],
   "source": [
    "find_E(alpha, phi)"
   ]
  },
  {
   "cell_type": "code",
   "execution_count": 172,
   "metadata": {},
   "outputs": [
    {
     "data": {
      "text/plain": [
       "(199.38411750609058+0j)"
      ]
     },
     "execution_count": 172,
     "metadata": {},
     "output_type": "execute_result"
    }
   ],
   "source": [
    "np.dot(psi_tst_full,np.dot(H_full,psi_tst_full))"
   ]
  },
  {
   "cell_type": "markdown",
   "metadata": {},
   "source": [
    "Great!  They match so I am at least simulating H_full in the find_E function.  Whether H_full is correct or not is a matter of doing Jordain-Wigner correctly and then copying it down onto the notebook"
   ]
  },
  {
   "cell_type": "code",
   "execution_count": 135,
   "metadata": {},
   "outputs": [
    {
     "data": {
      "text/plain": [
       "'/Users/stenger/Documents/Research/Hubbard_symmetries'"
      ]
     },
     "execution_count": 135,
     "metadata": {},
     "output_type": "execute_result"
    }
   ],
   "source": [
    "pwd"
   ]
  },
  {
   "cell_type": "markdown",
   "metadata": {},
   "source": [
    "## Optimization\n",
    "\n",
    "We need to optimize both $\\{\\alpha\\}$ and $\\{\\phi\\}$ keeping in mind that \n",
    "$$\\sum_c |\\alpha_c|^2 = 1$$\n",
    "\n",
    "For $\\{\\phi\\}$ we will use the same technique as in the first VQE file.\n",
    "\n",
    "There I used the simultaneous perturbation stochastic approximation algorithm.  The algorithm works by calculating the gradiant of the cost function $E(\\hat{\\phi})$ by randomly purturbating all parameters in $\\hat{\\phi}$\n",
    "\n",
    "Let $\\hat{\\Delta}_k$ be a set of randomly selected purturbations during step $k$ of the algorithm. I will use the Bernoulli distribution to select $\\hat{\\Delta}_k$.  Then the gradient is \n",
    "$$ \\hat{g}_k(\\hat{\\phi}_k) = \\frac{E(\\hat{\\phi}_k + c_k \\hat{\\Delta}_k)-E(\\hat{\\phi}_k - c_k \\hat{\\Delta}_k)}{2 c_k} \\hat{\\Delta}_k$$.\n",
    "The gradiant is then used to update the parameters \n",
    "$$ \\hat{\\phi}_{k+1} = \\hat{\\phi}_k - a_k \\hat{g}_k(\\hat{\\phi}_k) $$\n",
    "\n",
    "$c_k$ and $a_k$ decrease with each iteration of the algorithm so that we zero in on the the minimum of $E$.  They are given by\n",
    "$$c_k = \\frac{c}{(k+1)^{\\gamma}}$$\n",
    "$$a_k = \\frac{a}{(A+k+1)^{\\beta}}$$\n",
    "where $a$, $A$, $\\alpha$, $c$, and $\\gamma$ are choosen at the begining of the algorithm.\n",
    "\n",
    "For $\\{\\alpha\\}$ we will do something similar but we must enforce that $\\{\\alpha\\}$ is normalized.  The normalization has to be applied at two steps.  We again take a set of random perturbations $\\hat{\\Delta}_{\\alpha}$ and update \n",
    "\n",
    "$$ \\hat{\\alpha} = \\frac{1}{\\sqrt{\\sum_c |\\alpha_c+ c_{\\alpha_c}\\Delta_{\\alpha_c}|^2}}(\\hat{\\alpha} + c_{\\alpha}\\hat{\\Delta}_{\\alpha}) $$\n",
    "\n",
    "only this time we have normalized the set.  Then we will take the gradient of the energy and update the set again \n",
    "$$ \\hat{\\alpha} = \\frac{1}{\\sqrt{\\sum_c |\\alpha_c- a_{\\alpha_c} g_{\\alpha_c}|^2}}(\\hat{\\alpha} - a_{\\alpha} \\hat{g}_{\\alpha}) $$"
   ]
  },
  {
   "cell_type": "code",
   "execution_count": 187,
   "metadata": {},
   "outputs": [
    {
     "data": {
      "text/plain": [
       "(2.666666666666665+0j)"
      ]
     },
     "execution_count": 187,
     "metadata": {},
     "output_type": "execute_result"
    }
   ],
   "source": [
    "alpha = 1/np.sqrt(6)*np.array([1,1,1,1,1,1])\n",
    "\n",
    "\n",
    "T = 2\n",
    "phi = []\n",
    "for ti in range(T):\n",
    "    phi_t = []\n",
    "    for q in range(Q):\n",
    "        phi_t.append(0)\n",
    "    phi.append(phi_t)\n",
    "\n",
    "find_E(alpha, phi)"
   ]
  },
  {
   "cell_type": "code",
   "execution_count": 188,
   "metadata": {},
   "outputs": [
    {
     "data": {
      "text/plain": [
       "[[0, 0, 0, 0], [0, 0, 0, 0]]"
      ]
     },
     "execution_count": 188,
     "metadata": {},
     "output_type": "execute_result"
    }
   ],
   "source": [
    "phi"
   ]
  },
  {
   "cell_type": "code",
   "execution_count": null,
   "metadata": {},
   "outputs": [],
   "source": []
  },
  {
   "cell_type": "code",
   "execution_count": 189,
   "metadata": {},
   "outputs": [],
   "source": [
    "#beta = 0.602\n",
    "beta = 0.201\n",
    "A = 10\n",
    "a = 0.1\n",
    "gamma = 0.101\n",
    "c = 0.4\n",
    "\n",
    "beta_a = 0.201\n",
    "A_a = 10\n",
    "a_a = 0.1\n",
    "gamma_a = 0.101\n",
    "c_a = 0.4\n",
    "\n",
    "def SPSA(k_max,method = 'simple',hold = False):\n",
    "    #Initalization\n",
    "    k = 0\n",
    "    phi_k = np.array(phi)\n",
    "    alpha_k = np.array(alpha)\n",
    "    E_l = []\n",
    "    hold_l = []\n",
    "    \n",
    "    #Begin Iterations\n",
    "    for k in range(k_max):\n",
    "        #Update c and a\n",
    "        a_k = a/((A + k + 1)**beta)\n",
    "        c_k = c/((k + 1)**gamma)\n",
    "        a_ak = a_a/((A_a + k + 1)**beta_a)\n",
    "        c_ak = c_a/((k + 1)**gamma_a)\n",
    "\n",
    "        #Find Delta\n",
    "        Delta_k = np.array(phi_k)\n",
    "        for t in range(T):\n",
    "            for q in range(Q):\n",
    "                Delta_k[t][q] = 1 - 2*np.random.binomial(size=None, n=1, p= 0.5)\n",
    "        phi_k_A = phi_k + c_k*Delta_k\n",
    "        phi_k_B = phi_k - c_k*Delta_k\n",
    "        \n",
    "        #Find Delta Alpha\n",
    "        Delta_ak = np.array(alpha_k)\n",
    "        for n in range(Nc):\n",
    "            Delta_ak[n] = 1 - 2*np.random.binomial(size=None, n=1, p= 0.5)\n",
    "        alpha_k_A = alpha_k + c_ak*Delta_ak\n",
    "        alpha_k_B = alpha_k - c_ak*Delta_ak\n",
    "        norm_A = 1/np.sqrt(np.dot(alpha_k_A,alpha_k_A))\n",
    "        norm_B = 1/np.sqrt(np.dot(alpha_k_B,alpha_k_B))\n",
    "        alpha_k_A = norm_A*alpha_k_A\n",
    "        alpha_k_B = norm_B*alpha_k_B\n",
    "            \n",
    "        #Find E    \n",
    "        E_A = find_E(alpha_k_A, phi_k_A, method = method)\n",
    "        E_B = find_E(alpha_k_B, phi_k_B, method = method)\n",
    "        \n",
    "        #Calculate gradiant\n",
    "        g = np.real((E_A-E_B)/(2*c_k)) \n",
    "        \n",
    "        #Update phi\n",
    "        g_k = g * Delta_k\n",
    "        phi_k = phi_k - a_k * g_k\n",
    "        \n",
    "        #Update alpha\n",
    "        g_ak = g * Delta_ak\n",
    "        alpha_k = alpha_k - a_ak * g_ak\n",
    "        norm = 1/np.sqrt(np.dot(alpha_k,alpha_k))\n",
    "        alpha_k = norm*alpha_k\n",
    "\n",
    "        \n",
    "        #Calculate new E\n",
    "        E_f = np.real(find_E(alpha_k,phi_k, method = method))\n",
    "        \n",
    "        #Print and save E\n",
    "        print('k=',k,'c_k=',c_k,'a_k=',a_k,'g=',g,'E_A=',E_A,'E_B=',E_B,'E_f=',E_f)\n",
    "        E_l.append(E_f)\n",
    "        \n",
    "        if hold == True:\n",
    "            hold_k = {'E':E_f,'c':c_k,'a':a_k,'phi':phi_k,'Delta':Delta_k,'c_a':c_ak,'a_a':a_ak,'alpha':alpha_k,'Delta_a':Delta_ak}\n",
    "            hold_l.append(hold_k)\n",
    "    if hold == True:\n",
    "        return hold_l\n",
    "    else:\n",
    "        return E_l,phi_k"
   ]
  },
  {
   "cell_type": "code",
   "execution_count": 192,
   "metadata": {
    "scrolled": true
   },
   "outputs": [
    {
     "name": "stdout",
     "output_type": "stream",
     "text": [
      "k= 0 c_k= 0.4 a_k= 0.061756129649196564 g= -1.7836749144626984 E_A= (2.3409851617329043+0j) E_B= (3.767925093303063+0j) E_f= 2.7637401521609903\n",
      "k= 1 c_k= 0.372954594574733 a_k= 0.06068544899919707 g= 1.9567980134066545 E_A= (3.7683191463462204+0j) E_B= (2.308725526836777+0j) E_f= 2.4733169566928104\n",
      "k= 2 c_k= 0.3579898757427053 a_k= 0.059716918077675006 g= 2.163349418165003 E_A= (2.4894888939435407+0j) E_B= (0.9405745151496544+0j) E_f= 2.0638305083917063\n",
      "k= 3 c_k= 0.34773782403600867 a_k= 0.05883398491788389 g= 5.731426427632525 E_A= (4.077874586454858+0j) E_B= (0.09180707732004012+0j) E_f= 0.159967582062583\n",
      "k= 4 c_k= 0.33998833831625347 a_k= 0.05802373178499532 g= -1.5775114563470947 E_A= (0.8657026911679951+0j) E_B= (1.9383736886045986+0j) E_f= 0.15721396077959882\n",
      "k= 5 c_k= 0.3337849224236992 a_k= 0.05727589489898785 g= -0.6894380625807675 E_A= (0.9088324327538593+0j) E_B= (1.3690804932227931+0j) E_f= 0.17905174515548217\n",
      "k= 6 c_k= 0.32862839767254015 a_k= 0.056582191836194555 g= -1.574720518900183 E_A= (0.6232313897504587+0j) E_B= (1.658227151566935+0j) E_f= 0.14369589423273155\n",
      "k= 7 c_k= 0.3242260479541237 a_k= 0.05593584800072093 g= 1.0714135550315629 E_A= (1.8485288055010063+0j) E_B= (1.153768440156283+0j) E_f= 0.1333243366757908\n",
      "k= 8 c_k= 0.3203918778356939 a_k= 0.05533125568796508 g= 5.871945811766356 E_A= (2.5333153443850875+0j) E_B= (-1.2293321459774342+0j) E_f= -1.2286484595356344\n",
      "k= 9 c_k= 0.3170005321921887 a_k= 0.05476372372903468 g= -5.714250888798565 E_A= (-2.565259395068412+0j) E_B= (1.0575817505892529+0j) E_f= -2.564307911164544\n",
      "k= 10 c_k= 0.31396362164265085 a_k= 0.054229290413374105 g= 1.1434855517115372 E_A= (-1.3604620710006035+0j) E_B= (-2.0784878012234014+0j) E_f= -2.629105227854395\n",
      "k= 11 c_k= 0.31121655104422363 a_k= 0.05372458150185076 g= 2.8241989756641264 E_A= (-0.8301871209313438+0j) E_B= (-2.5880620502689813+0j) E_f= -3.1394747386227255\n",
      "k= 12 c_k= 0.3087107214903736 a_k= 0.053246700945028674 g= 0.9689709524397941 E_A= (-2.2525127910404286+0j) E_B= (-2.850776234702235+0j) E_f= -3.12533199668221\n",
      "k= 13 c_k= 0.3064086770492659 a_k= 0.052793145704787325 g= -2.2016554195805518 E_A= (-2.590414717878834+0j) E_B= (-1.2412020690147876+0j) E_f= -3.139324493343493\n",
      "k= 14 c_k= 0.30428095746951106 a_k= 0.05236173859804737 g= -0.503790098962535 E_A= (-1.5004569119326008+0j) E_B= (-1.193869444580641+0j) E_f= -3.152887097106974\n",
      "k= 15 c_k= 0.3023039856632453 a_k= 0.05195057479359274 g= -1.407752545114274 E_A= (-2.389401070373472+0j) E_B= (-1.5382626599422267+0j) E_f= -3.108286619375317\n",
      "k= 16 c_k= 0.30045860758866744 a_k= 0.0515579787767765 g= 1.6190070807437331 E_A= (-1.4418144717717631+0j) E_B= (-2.414703698084674+0j) E_f= -3.015979357153057\n",
      "k= 17 c_k= 0.2987290572581215 a_k= 0.05118246942861378 g= -0.5011717123057818 E_A= (-2.101524421702989+0j) E_B= (-1.8020953154198995+0j) E_f= -3.0393935464504924\n",
      "k= 18 c_k= 0.29710220679082217 a_k= 0.05082273145878222 g= -2.2578310208543955 E_A= (-2.8286307413754996+0j) E_B= (-1.4870175836622683+0j) E_f= -3.0540854772201147\n",
      "k= 19 c_k= 0.29556701240928085 a_k= 0.050477591860633476 g= 0.11996957043588376 E_A= (-1.7653842905798958+0j) E_B= (-1.8363023856074137+0j) E_f= -3.049942576074378\n",
      "k= 20 c_k= 0.2941140981207925 a_k= 0.05014600036995383 g= -2.5488187962134083 E_A= (-2.0675982029948132+0j) E_B= (-0.568311119951552+0j) E_f= -3.052857274865062\n",
      "k= 21 c_k= 0.2927354380523743 a_k= 0.04982701314139339 g= 2.8546111488784494 E_A= (-0.18221363417444358+0j) E_B= (-1.8535053244466921+0j) E_f= -2.745913943580908\n",
      "k= 22 c_k= 0.29142411071599983 a_k= 0.04951977903021906 g= 0.8661636936167136 E_A= (-1.814214395184705+0j) E_B= (-2.319056363478178+0j) E_f= -2.7122417312690263\n",
      "k= 23 c_k= 0.2901741065491128 a_k= 0.04922352799835049 g= 3.670361537224571 E_A= (-0.42976725614944744+0j) E_B= (-2.5598550157021838+0j) E_f= -2.748282039940089\n",
      "k= 24 c_k= 0.2889801754776181 a_k= 0.04893756126380316 g= 1.5654932856606871 E_A= (-0.669821936739988+0j) E_B= (-1.5746149855385045+0j) E_f= -2.60253118862606\n",
      "k= 25 c_k= 0.28783770493578903 a_k= 0.04866124288974064 g= 0.7231190930360385 E_A= (-1.1659751852752631+0j) E_B= (-1.5822570655447483+0j) E_f= -2.638135204876437\n",
      "k= 26 c_k= 0.2867426213384302 a_k= 0.04839399256913581 g= 0.8647800729496333 E_A= (-1.4960403939799536+0j) E_B= (-1.991979003977587+0j) E_f= -2.643501441688671\n",
      "k= 27 c_k= 0.2856913098077231 a_k= 0.04813527940779069 g= -2.3226024693076344 E_A= (-2.4592666097118787+0j) E_B= (-1.1321719264735786+0j) E_f= -2.7714309828911707\n",
      "k= 28 c_k= 0.28468054825101563 a_k= 0.04788461654527654 g= -0.7119471767650958 E_A= (-2.2820504241003294+0j) E_B= (-1.876695398885829+0j) E_f= -2.746888495428036\n",
      "k= 29 c_k= 0.2837074528246327 a_k= 0.04764155648254164 g= -1.0716230385231829 E_A= (-2.315928077109495+0j) E_B= (-1.7078731918142842+0j) E_f= -2.8138293662737133\n",
      "k= 30 c_k= 0.2827694325084489 a_k= 0.047405687008221765 g= -1.4431353756162064 E_A= (-2.0625612178810564+0j) E_B= (-1.2464120754893326+0j) E_f= -2.7762768990372892\n",
      "k= 31 c_k= 0.2818641510284039 a_k= 0.04717662763438342 g= 0.20637611238862616 E_A= (-1.941864337338029+0j) E_B= (-2.0582043927599543+0j) E_f= -2.772983813923008\n",
      "k= 32 c_k= 0.28098949474895574 a_k= 0.04695402646752504 g= 0.4836199037214793 E_A= (-1.5710791163657403+0j) E_B= (-1.8428633411602144+0j) E_f= -2.7576835447640695\n",
      "k= 33 c_k= 0.28014354544930065 a_k= 0.046737557452915225 g= -0.36570749363970295 E_A= (-1.507418130154614+0j) E_B= (-1.302516942423406+0j) E_f= -2.7212782502585764\n",
      "k= 34 c_k= 0.2793245571205497 a_k= 0.046526917940348106 g= -1.3649535994363666 E_A= (-1.9713010355753113+0j) E_B= (-1.2087709162699847+0j) E_f= -2.6448254445841806\n",
      "k= 35 c_k= 0.2785309360934873 a_k= 0.0463218265275969 g= 0.7310328003701939 E_A= (-1.3196370578323968+0j) E_B= (-1.726867558236704+0j) E_f= -2.7377121669870057\n",
      "k= 36 c_k= 0.277761223940729 a_k= 0.04612202114460437 g= -2.456901330443604 E_A= (-1.5081728586700471+0j) E_B= (-0.14330901737880541+0j) E_f= -2.85728340038977\n",
      "k= 37 c_k= 0.27701408270232386 a_k= 0.04592725734704181 g= 0.026986793911686468 E_A= (-1.6181513598710986+0j) E_B= (-1.6331028037921436+0j) E_f= -2.8564857938860313\n",
      "k= 38 c_k= 0.2762882820669494 a_k= 0.04573730679251731 g= 0.9238323930309102 E_A= (-2.190393357130774+0j) E_B= (-2.700881486707392+0j) E_f= -2.9127528320450082\n",
      "k= 39 c_k= 0.27558268820692106 a_k= 0.04555195587659369 g= 2.91741396827127 E_A= (-0.7305211161394538+0j) E_B= (-2.338498684116689+0j) E_f= -2.874322434675524\n",
      "k= 40 c_k= 0.27489625401810586 a_k= 0.045371004509028076 g= 0.553662918571517 E_A= (-1.4139686822251734+0j) E_B= (-1.7183684068332565+0j) E_f= -2.8795242651915562\n",
      "k= 41 c_k= 0.2742280105583835 a_k= 0.04519426501337876 g= 0.6819701047879115 E_A= (-1.8803681051879932+0j) E_B= (-2.254398715380556+0j) E_f= -2.8893775950068568\n",
      "k= 42 c_k= 0.2735770595127504 a_k= 0.04502156113543322 g= 1.4760438588199258 E_A= (-0.8878929959653812+0j) E_B= (-1.6955164731809984+0j) E_f= -2.7243596588181918\n",
      "k= 43 c_k= 0.27294256654120025 a_k= 0.04485272714786551 g= -0.16181582418127657 E_A= (-1.9294033634629313+0j) E_B= (-1.8410705107448968+0j) E_f= -2.7294097983324446\n",
      "k= 44 c_k= 0.27232375538845416 a_k= 0.0446876070401925 g= -1.2435051151669385 E_A= (-2.0256777447211043+0j) E_B= (-1.3484057791070785+0j) E_f= -2.760836229230742\n",
      "k= 45 c_k= 0.27171990265346957 a_k= 0.044526053784514005 g= -0.851814929469189 E_A= (-1.4463843020002694+0j) E_B= (-0.9834741625719892+0j) E_f= -2.7883777781406214\n",
      "k= 46 c_k= 0.2711303331322349 a_k= 0.044367928668733035 g= 0.6338494137026504 E_A= (-1.9220590795647223+0j) E_B= (-2.265770684950465+0j) E_f= -2.8325017978540856\n",
      "k= 47 c_k= 0.2705544156602744 a_k= 0.04421310068999025 g= -2.1899617461445455 E_A= (-1.8750565368965955+0j) E_B= (-0.6900488958036122+0j) E_f= -2.8518987806375677\n",
      "k= 48 c_k= 0.269991559392053 a_k= 0.04406144600194009 g= 2.2066597463633073 E_A= (-0.7745014848077063+0j) E_B= (-1.9660604967443094+0j) E_f= -2.8161027770867024\n",
      "k= 49 c_k= 0.26944121046347563 a_k= 0.04391284741026583 g= -3.599808103261898 E_A= (-2.2045907651769747+0j) E_B= (-0.2647174596187467+0j) E_f= -2.680351796458147\n",
      "k= 50 c_k= 0.26890284899123323 a_k= 0.04376719391149681 g= 2.103800959799994 E_A= (-1.2933879443990315+0j) E_B= (-2.42482408800045+0j) E_f= -2.687643797173105\n"
     ]
    },
    {
     "name": "stdout",
     "output_type": "stream",
     "text": [
      "k= 51 c_k= 0.268375986369122 a_k= 0.043624380270768356 g= -2.5027064727103463 E_A= (-2.679894877607196+0j) E_B= (-1.336562241195145+0j) E_f= -2.828084738113385\n",
      "k= 52 c_k= 0.267860162826851 a_k= 0.04348430663466619 g= 0.43895019509777594 E_A= (-1.725168380930622+0j) E_B= (-1.9603229223941585+0j) E_f= -2.8291801753776458\n",
      "k= 53 c_k= 0.26735494522142605 a_k= 0.04334687817573433 g= -0.9856939291968156 E_A= (-1.759678115388959+0j) E_B= (-1.2326178224979452+0j) E_f= -2.84674697389777\n",
      "k= 54 c_k= 0.2668599250350944 a_k= 0.04321200476560672 g= 2.1509466972344122 E_A= (-1.270271381557718+0j) E_B= (-2.4182743303146363+0j) E_f= -2.9652832398169915\n",
      "k= 55 c_k= 0.26637471655715955 a_k= 0.04307960067405643 g= -3.8841309430292412 E_A= (-2.5235588101939506+0j) E_B= (-0.45429025215333674+0j) E_f= -2.8805344633016086\n",
      "k= 56 c_k= 0.2658989552298248 a_k= 0.04294958429154924 g= 1.6023460571800023 E_A= (-1.3966183037030677+0j) E_B= (-2.2487425887446513+0j) E_f= -2.9290988624701084\n",
      "k= 57 c_k= 0.26543229614067565 a_k= 0.042821877873145155 g= 1.158867151687781 E_A= (-2.419686458462801+0j) E_B= (-3.034887996451786+0j) E_f= -2.9706279469868955\n",
      "k= 58 c_k= 0.26497441264651617 a_k= 0.04269640730181802 g= 3.2772610824390203 E_A= (-0.9857337853945196+0j) E_B= (-2.72251444621165+0j) E_f= -3.096175410253984\n",
      "k= 59 c_k= 0.2645249951151027 a_k= 0.042573101869462976 g= -2.533830055649168 E_A= (-2.1776357203627548+0j) E_B= (-0.8371129541765616+0j) E_f= -3.0483647186559972\n",
      "k= 60 c_k= 0.26408374977289106 a_k= 0.042451894074038064 g= -3.824092108810384 E_A= (-2.752383856562218+0j) E_B= (-0.7326226894190804+0j) E_f= -3.114819475151665\n",
      "k= 61 c_k= 0.26365039764828974 a_k= 0.042332719431442525 g= -0.6081964399308335 E_A= (-2.4504444618626264+0j) E_B= (-2.1297419953905496+0j) E_f= -3.1618692591897046\n",
      "k= 62 c_k= 0.2632246736011008 a_k= 0.04221551630087298 g= -0.05937484390784803 E_A= (-2.9296650467029326+0j) E_B= (-2.8984071988874134+0j) E_f= -3.1620730458169177\n",
      "k= 63 c_k= 0.26280632542987425 a_k= 0.04210022572252182 g= -0.13113945929201182 E_A= (-2.4930528594167916+0j) E_B= (-2.424124300586003+0j) E_f= -3.160006669441713\n",
      "k= 64 c_k= 0.2623951130498096 a_k= 0.04198679126659182 g= -0.6223869270991945 E_A= (-2.4896418798251054+0j) E_B= (-2.163019303631272+0j) E_f= -3.1567185517576215\n",
      "k= 65 c_k= 0.2619908077346396 a_k= 0.04187515889269874 g= 0.7392941559635524 E_A= (-1.7937064369845144+0j) E_B= (-2.181082983133294+0j) E_f= -3.189854996495052\n",
      "k= 66 c_k= 0.2615931914166275 a_k= 0.04176527681882079 g= 2.957033772054218 E_A= (-1.1836778397252983+0j) E_B= (-2.7307576428421205+0j) E_f= -3.2186375852635583\n",
      "k= 67 c_k= 0.26120205603943053 a_k= 0.04165709539903218 g= 0.21270475773538966 E_A= (-2.4638059649151076+0j) E_B= (-2.574923805014813+0j) E_f= -3.222314408677612\n",
      "k= 68 c_k= 0.2608172029591229 a_k= 0.04155056700932749 g= -0.4481699606957361 E_A= (-2.087914695238296+0j) E_B= (-1.854133824040372+0j) E_f= -3.228666366897288\n",
      "k= 69 c_k= 0.26043844238915365 a_k= 0.041445645940906765 g= 1.3156883264408514 E_A= (-1.999036622981766+0j) E_B= (-2.6843482597974613+0j) E_f= -3.194300039057528\n",
      "k= 70 c_k= 0.26006559288543923 a_k= 0.041342288300347085 g= -0.5104338353956478 E_A= (-2.6703659716875556+0j) E_B= (-2.40487341562564+0j) E_f= -3.219907126328543\n",
      "k= 71 c_k= 0.25969848086816855 a_k= 0.0412404519161374 g= -2.600041211187968 E_A= (-2.9191453705986254+0j) E_B= (-1.5686918651183288+0j) E_f= -3.25443222276924\n",
      "k= 72 c_k= 0.2593369401772328 a_k= 0.04114009625109879 g= 1.128354077681657 E_A= (-2.4110786172163516+0j) E_B= (-2.996326405101281+0j) E_f= -3.276609610220391\n",
      "k= 73 c_k= 0.2589808116584905 a_k= 0.04104118232025364 g= -1.5088468162682083 E_A= (-2.1593832514189844+0j) E_B= (-1.3778585051280445+0j) E_f= -3.2734841781795945\n",
      "k= 74 c_k= 0.25862994277834417 a_k= 0.040943672613744285 g= -0.7030312476382995 E_A= (-2.773520084159525+0j) E_B= (-2.4098702214633625+0j) E_f= -3.269443108374679\n",
      "k= 75 c_k= 0.25828418726434194 a_k= 0.04084753102443533 g= -0.5229104110045873 E_A= (-2.376097619695442+0j) E_B= (-2.1059786386586765+0j) E_f= -3.251097416971291\n",
      "k= 76 c_k= 0.25794340476973 a_k= 0.04075272277986418 g= 1.362187046598634 E_A= (-1.378995573402176+0j) E_B= (-2.081729902867925+0j) E_f= -3.2573192398448496\n",
      "k= 77 c_k= 0.25760746056007144 a_k= 0.04065921437823207 g= -1.0815766341646604 E_A= (-2.768566401244586+0j) E_B= (-2.2113219809880507+0j) E_f= -3.3314084277474114\n",
      "k= 78 c_k= 0.25727622522021726 a_k= 0.040566973528152694 g= 0.9699796906203418 E_A= (-1.5460692846019213+0j) E_B= (-2.0451747112880727+0j) E_f= -3.268800711289898\n",
      "k= 79 c_k= 0.2569495743800682 a_k= 0.04047596909189846 g= 1.9317036850739746 E_A= (-1.467554741369192+0j) E_B= (-2.460255620785526+0j) E_f= -3.2289119206557113\n",
      "k= 80 c_k= 0.2566273884577055 a_k= 0.04038617103190482 g= 1.043140298259756 E_A= (-1.8539238967820038+0j) E_B= (-2.38932063785679+0j) E_f= -3.2640907114171753\n",
      "k= 81 c_k= 0.2563095524185887 a_k= 0.040297550360312274 g= -1.4497326049978498 E_A= (-1.9568302431209628+0j) E_B= (-1.2136696128936957+0j) E_f= -3.258620445678032\n",
      "k= 82 c_k= 0.2559959555496353 a_k= 0.04021007909134253 g= -1.5555877964684102 E_A= (-2.741058292094073+0j) E_B= (-1.9446099232975087+0j) E_f= -3.2339110528380344\n",
      "k= 83 c_k= 0.2556864912470938 a_k= 0.040123730196320984 g= -1.3985620963432255 E_A= (-2.945620484103019+0j) E_B= (-2.2304336136926604+0j) E_f= -3.261322472359928\n",
      "k= 84 c_k= 0.2553810568172158 a_k= 0.04003847756117223 g= -1.1604796505870942 E_A= (-2.5713060869881312+0j) E_B= (-1.9785770478245204+0j) E_f= -3.306099114610614\n",
      "k= 85 c_k= 0.25507955328881354 a_k= 0.03995429594622795 g= 1.8607110610255695 E_A= (-1.7054826162331258+0j) E_B= (-2.654741308725039+0j) E_f= -3.3424483524965876\n",
      "k= 86 c_k= 0.2547818852368658 a_k= 0.03987116094819899 g= 1.9993115171061642 E_A= (-2.3785869161500086+0j) E_B= (-3.397363631158182+0j) E_f= -3.447186062562219\n",
      "k= 87 c_k= 0.2544879606164011 a_k= 0.039789048964173825 g= 0.3948282092933576 E_A= (-2.569501783843944+0j) E_B= (-2.770459835397728+0j) E_f= -3.4665229115869693\n",
      "k= 88 c_k= 0.25419769060595165 a_k= 0.039707937157516256 g= -0.269794702767729 E_A= (-2.2496832781286673+0j) E_B= (-2.1125208973661156+0j) E_f= -3.4549365936694496\n",
      "k= 89 c_k= 0.2539109894599242 a_k= 0.039627803425543943 g= -0.8226306700621424 E_A= (-2.6950192056970383+0j) E_B= (-2.2772692709059204+0j) E_f= -3.4899162844710494\n",
      "k= 90 c_k= 0.25362777436928824 a_k= 0.039548626368877904 g= -1.0382177868746454 E_A= (-2.3875256941559098+0j) E_B= (-1.860883960964661+0j) E_f= -3.426961452142953\n",
      "k= 91 c_k= 0.2533479653300266 a_k= 0.03947038526236123 g= -1.866939735730659 E_A= (-2.3694190661809778+0j) E_B= (-1.4234482992986977+0j) E_f= -3.35912459110701\n",
      "k= 92 c_k= 0.25307148501883725 a_k= 0.03939306002745197 g= -1.7221788160029354 E_A= (-3.1880557085832733+0j) E_B= (-2.3163870077155817+0j) E_f= -3.413821243394311\n",
      "k= 93 c_k= 0.25279825867561245 a_k= 0.039316631206002046 g= 2.6169466326326893 E_A= (-2.009958326345937+0j) E_B= (-3.33307742989904+0j) E_f= -3.4968012658529988\n",
      "k= 94 c_k= 0.25252821399225883 a_k= 0.03924107993533996 g= 2.5861372582071285 E_A= (-1.5217444101068467+0j) E_B= (-2.827889656014613+0j) E_f= -3.47678468933511\n",
      "k= 95 c_k= 0.25226128100745354 a_k= 0.03916638792458081 g= -1.5217944504044838 E_A= (-2.532911283894405+0j) E_B= (-1.7651316489162672+0j) E_f= -3.528976586626908\n",
      "k= 96 c_k= 0.2519973920069601 a_k= 0.03909253743209213 g= -0.8427815281807762 E_A= (-2.805922432433306+0j) E_B= (-2.381164938166914+0j) E_f= -3.5526049118717857\n",
      "k= 97 c_k= 0.25173648142915767 a_k= 0.03901951124404904 g= 0.5325497574268923 E_A= (-2.428795010882315+0j) E_B= (-2.6969194151235096+0j) E_f= -3.565595078054762\n",
      "k= 98 c_k= 0.2514784857754605 a_k= 0.0389472926540164 g= -0.23189322121192293 E_A= (-2.5419384742441626+0j) E_B= (-2.425306161980226+0j) E_f= -3.5659789459430042\n",
      "k= 99 c_k= 0.25122334352532716 a_k= 0.038875865443499934 g= -1.939949617111877 E_A= (-3.4396791429807463+0j) E_B= (-2.4649578848176983+0j) E_f= -3.660308228571644\n",
      "k= 100 c_k= 0.2509709950555822 a_k= 0.038805213863411965 g= -0.7827616538212998 E_A= (-2.611030641109212+0j) E_B= (-2.2181296988074424+0j) E_f= -3.6543327911300274\n",
      "k= 101 c_k= 0.2507213825637901 a_k= 0.03873532261640096 g= -0.018217318184772374 E_A= (-2.7594710313659254+0j) E_B= (-2.750336088962144+0j) E_f= -3.655026837999669\n"
     ]
    },
    {
     "name": "stdout",
     "output_type": "stream",
     "text": [
      "k= 102 c_k= 0.25047444999544133 a_k= 0.03866617683999727 g= 0.09884990885472755 E_A= (-3.248092606944514+0j) E_B= (-3.2976113600494887+0j) E_f= -3.654933720494014\n",
      "k= 103 c_k= 0.25023014297472496 a_k= 0.038597762090530556 g= -1.1683331311417058 E_A= (-3.1279628840497358+0j) E_B= (-2.5432585511543415+0j) E_f= -3.664500422602945\n",
      "k= 104 c_k= 0.24998840873867942 a_k= 0.03853006432777713 g= -0.40263525470908457 E_A= (-2.888466755315698+0j) E_B= (-2.6871584620620643+0j) E_f= -3.6462510266069663\n",
      "k= 105 c_k= 0.24974919607452548 a_k= 0.03846306990029804 g= -1.7169593478054512 E_A= (-3.5763656464849625+0j) E_B= (-2.7187472128708565+0j) E_f= -3.7436510060765142\n",
      "k= 106 c_k= 0.2495124552599996 a_k= 0.03839676553143118 g= -1.6227055692445949 E_A= (-3.193642977364668+0j) E_B= (-2.3838724758720797+0j) E_f= -3.726209272892806\n",
      "k= 107 c_k= 0.24927813800651724 a_k= 0.03833113830590295 g= 0.29985990863520673 E_A= (-3.260623822658822+0j) E_B= (-3.410120862033599+0j) E_f= -3.7416033983094836\n",
      "k= 108 c_k= 0.24904619740500722 a_k= 0.03826617565702698 g= -1.0805154051894843 E_A= (-3.3237835907727984+0j) E_B= (-2.785587084972855+0j) E_f= -3.7242220449135743\n",
      "k= 109 c_k= 0.24881658787426822 a_k= 0.038201865354459685 g= -0.9908892427701373 E_A= (-2.53319690162398+0j) E_B= (-2.040097540929214+0j) E_f= -3.713238404902649\n",
      "k= 110 c_k= 0.24858926511170829 a_k= 0.03813819549248375 g= -0.822065926336171 E_A= (-2.729650041803064+0j) E_B= (-2.320936512800495+0j) E_f= -3.718340700779832\n",
      "k= 111 c_k= 0.24836418604633714 a_k= 0.038075154478792825 g= 2.180503242524039 E_A= (-1.617404626101+0j) E_B= (-2.7005224521027635+0j) E_f= -3.6395765582044786\n",
      "k= 112 c_k= 0.24814130879388893 a_k= 0.03801273102375206 g= -2.2741608920584566 E_A= (-2.9786850624874273+0j) E_B= (-1.8500585421609004+0j) E_f= -3.559961502719837\n",
      "k= 113 c_k= 0.24792059261396104 a_k= 0.03795091413011042 g= 1.4081440705410448 E_A= (-2.4328936473731373+0j) E_B= (-3.1311094722818797+0j) E_f= -3.5447211424002902\n",
      "k= 114 c_k= 0.24770199786906166 a_k= 0.03788969308314261 g= -0.6807674544455742 E_A= (-2.859375869565101+0j) E_B= (-2.5221209524642925+0j) E_f= -3.5168115254134698\n",
      "k= 115 c_k= 0.24748548598546538 a_k= 0.03782905744119906 g= -1.8311849225548391 E_A= (-2.99326277365809+0j) E_B= (-2.086879392682608+0j) E_f= -3.5853219143915465\n",
      "k= 116 c_k= 0.24727101941578178 a_k= 0.03776899702664428 g= -2.686467479974211 E_A= (-2.638957183689995+0j) E_B= (-1.3103860788888562+0j) E_f= -3.4391469128806103\n",
      "k= 117 c_k= 0.24705856160314865 a_k= 0.03770950191716447 g= 1.6303906186064998 E_A= (-2.3118026475339444+0j) E_B= (-3.1174065697023234+0j) E_f= -3.46508077808447\n",
      "k= 118 c_k= 0.24684807694696573 a_k= 0.03765056243742677 g= 1.3494034733099207 E_A= (-2.0089520594925707+0j) E_B= (-2.675147364316791+0j) E_f= -3.4212336171200572\n",
      "k= 119 c_k= 0.2466395307700909 a_k= 0.03759216915107317 g= -0.5675685585768864 E_A= (-3.338913739714557+0j) E_B= (-3.0589440537800368+0j) E_f= -3.428726189334687\n",
      "k= 120 c_k= 0.246432889287424 a_k= 0.037534312853033346 g= -2.4253722738775654 E_A= (-2.738394627520315+0j) E_B= (-1.543011633421799+0j) E_f= -3.380759523976381\n",
      "k= 121 c_k= 0.24622811957580956 a_k= 0.0374769845621412 g= -0.18891459492628393 E_A= (-2.5383633432375+0j) E_B= (-2.445331172299251+0j) E_f= -3.378227767523375\n",
      "k= 122 c_k= 0.24602518954519215 a_k= 0.037420175514041115 g= 0.8060162981136829 E_A= (-2.0320962057416296+0j) E_B= (-2.4286968307814956+0j) E_f= -3.369736984377602\n",
      "k= 123 c_k= 0.2458240679109626 a_k= 0.03736387715437031 g= 3.251019099764694 E_A= (-1.512345437777805+0j) E_B= (-3.1107029176985903+0j) E_f= -3.494113110723146\n",
      "k= 124 c_k= 0.24562472416743683 a_k= 0.03730808113220463 g= -2.2438513226407326 E_A= (-3.4499983648238435+0j) E_B= (-2.347707640431107+0j) E_f= -3.6051504071307114\n",
      "k= 125 c_k= 0.24542712856241244 a_k= 0.037252779293755776 g= -0.09412581534019318 E_A= (-2.7281518132160176+0j) E_B= (-2.6819497560509387+0j) E_f= -3.605051557359416\n",
      "k= 126 c_k= 0.24523125207275073 a_k= 0.03719796367630848 g= -0.1523293588544985 E_A= (-2.672692110840642+0j) E_B= (-2.597980272041986+0j) E_f= -3.6032283216684373\n",
      "k= 127 c_k= 0.2450370663809352 a_k= 0.03714362650238689 g= -2.3897626270153847 E_A= (-3.278889910787911+0j) E_B= (-2.107729063846617+0j) E_f= -3.6196635930278487\n",
      "k= 128 c_k= 0.24484454385256046 a_k= 0.03708976017413978 g= -1.4303652762484829 E_A= (-2.917115874592371+0j) E_B= (-2.216681607381168+0j) E_f= -3.63161487749607\n",
      "k= 129 c_k= 0.24465365751470747 a_k= 0.03703635726793502 g= 3.0585648852324976 E_A= (-1.552780077543875+0j) E_B= (-3.049358249380239+0j) E_f= -3.614114116496377\n",
      "k= 130 c_k= 0.2444643810351635 a_k= 0.03698341052915407 g= -0.45706713944870175 E_A= (-2.453388480129666+0j) E_B= (-2.229915209455987+0j) E_f= -3.616511735128262\n",
      "k= 131 c_k= 0.2442766887024484 a_k= 0.03693091286717747 g= 2.8341902373740524 E_A= (-2.00821723419669+0j) E_B= (-3.39287044687377+0j) E_f= -3.8280949877045796\n",
      "k= 132 c_k= 0.2440905554066089 a_k= 0.036878857350553476 g= 0.45315620641774557 E_A= (-2.665651127207607+0j) E_B= (-2.886873427428526+0j) E_f= -3.8507818556235653\n",
      "k= 133 c_k= 0.2439059566207471 a_k= 0.03682723720234149 g= 1.814293972097202 E_A= (-2.262410324960515+0j) E_B= (-3.147444538671761+0j) E_f= -3.844462664697704\n",
      "k= 134 c_k= 0.24372286838324891 a_k= 0.03677604579562308 g= 0.39865610550494157 E_A= (-2.958979820577561+0j) E_B= (-3.1533030396418797+0j) E_f= -3.84218969352133\n",
      "k= 135 c_k= 0.24354126728068126 a_k= 0.03672527664917334 g= -1.2143270795578107 E_A= (-2.9665040525661643+0j) E_B= (-2.3750265408686486+0j) E_f= -3.79759306622954\n",
      "k= 136 c_k= 0.24336113043132843 a_k= 0.036674923423285814 g= 1.335487257238612 E_A= (-2.676845292863904+0j) E_B= (-3.3268566700603497+0j) E_f= -3.8163787336606307\n",
      "k= 137 c_k= 0.24318243546933885 a_k= 0.036624979915744496 g= -0.7644781058821765 E_A= (-3.124291958406749+0j) E_B= (-2.7524766631039195+0j) E_f= -3.848699392043845\n",
      "k= 138 c_k= 0.24300516052945542 a_k= 0.03657544005793692 g= -0.23432153523903948 E_A= (-3.506341060610546+0j) E_B= (-3.3924583760380034+0j) E_f= -3.8480723466441997\n",
      "k= 139 c_k= 0.24282928423230438 a_k= 0.036526297911102255 g= -0.7227979160327469 E_A= (-3.425079036039744+0j) E_B= (-3.0740460348500775+0j) E_f= -3.8290985801113013\n",
      "k= 140 c_k= 0.24265478567021764 a_k= 0.036477547662709074 g= -1.271428095759288 E_A= (-3.2402483121857593+0j) E_B= (-2.6232120880426333+0j) E_f= -3.839765170879634\n",
      "k= 141 c_k= 0.2424816443935664 a_k= 0.036429183622957384 g= 1.0518049460942605 E_A= (-2.372813768745302+0j) E_B= (-2.8829005545657473+0j) E_f= -3.859864165709859\n",
      "k= 142 c_k= 0.24230984039758352 a_k= 0.036381200221399776 g= -0.13336623680674733 E_A= (-2.3737833778211885+0j) E_B= (-2.30915147471105+0j) E_f= -3.8586012276713655\n",
      "k= 143 c_k= 0.24213935410965462 a_k= 0.036333592003677126 g= -0.8302544198946872 E_A= (-2.7358852771653908+0j) E_B= (-2.3338107392054197+0j) E_f= -3.7957581838711336\n",
      "k= 144 c_k= 0.24197016637705707 a_k= 0.03628635362836405 g= 1.4140686257424144 E_A= (-2.626973002004843+0j) E_B= (-3.31129784328378+0j) E_f= -3.855936854732211\n",
      "k= 145 c_k= 0.24180225845512912 a_k= 0.03623947986391976 g= -2.219887532841129 E_A= (-3.243415883533255+0j) E_B= (-2.169868245618516+0j) E_f= -3.812939891705745\n",
      "k= 146 c_k= 0.2416356119958507 a_k= 0.03619296558574027 g= 0.7792895483675151 E_A= (-2.8910511679827615+0j) E_B= (-3.2676593818662707+0j) E_f= -3.814213380507239\n",
      "k= 147 c_k= 0.24147020903681907 a_k= 0.036146805773307845 g= 1.9566676536984282 E_A= (-2.137816542727677+0j) E_B= (-3.0827704374359604+0j) E_f= -3.8263270144133275\n",
      "k= 148 c_k= 0.24130603199060283 a_k= 0.03610099550743392 g= 0.9300192364259502 E_A= (-1.8486535410306995+0j) E_B= (-2.297492044264452+0j) E_f= -3.7923323525690473\n",
      "k= 149 c_k= 0.24114306363445936 a_k= 0.03605552996759187 g= -3.654953379087583 E_A= (-3.0141128202342395+0j) E_B= (-1.251379509685641+0j) E_f= -3.696520790529525\n",
      "k= 150 c_k= 0.24098128710040054 a_k= 0.03601040442933621 g= 3.147392876945131 E_A= (-1.8945181834618818+0j) E_B= (-3.4114437564556224+0j) E_f= -3.8671455448226157\n",
      "k= 151 c_k= 0.24082068586559263 a_k= 0.035965614261804765 g= 0.7717498850813886 E_A= (-2.5537778438709324+0j) E_B= (-2.925484517154917+0j) E_f= -3.861833007463124\n",
      "k= 152 c_k= 0.24066124374307757 a_k= 0.03592115492530083 g= -0.8184536276362405 E_A= (-2.7676491015004476+0j) E_B= (-2.373708965554505+0j) E_f= -3.8218771648370526\n"
     ]
    },
    {
     "name": "stdout",
     "output_type": "stream",
     "text": [
      "k= 153 c_k= 0.24050294487280224 a_k= 0.03587702196895213 g= -0.8710709829431847 E_A= (-3.1022242035363803+0j) E_B= (-2.6832339303542154+0j) E_f= -3.814771507076798\n",
      "k= 154 c_k= 0.24034577371294386 a_k= 0.035833211028443786 g= -0.6175340778449472 E_A= (-3.112174522048133+0j) E_B= (-2.815331110580627+0j) E_f= -3.819494364467539\n",
      "k= 155 c_k= 0.2401897150315199 a_k= 0.035789717823822474 g= -0.7585297672242438 E_A= (-2.8465478489941636+0j) E_B= (-2.482165751729131+0j) E_f= -3.8132291256720117\n",
      "k= 156 c_k= 0.24003475389827156 a_k= 0.03574653815736915 g= 1.14972311520177 E_A= (-2.461442156214945+0j) E_B= (-3.013389166232167+0j) E_f= -3.839270547718447\n",
      "k= 157 c_k= 0.23988087567680955 a_k= 0.03570366791153773 g= -2.1054345633337648 E_A= (-3.4057463232635614+0j) E_B= (-2.3956393497981123+0j) E_f= -3.871329223596902\n",
      "k= 158 c_k= 0.239728066017013 a_k= 0.03566110304695748 g= 2.460564683491739 E_A= (-2.192321647942027+0j) E_B= (-3.3720544737085034+0j) E_f= -3.8501279612866046\n",
      "k= 159 c_k= 0.23957631084767136 a_k= 0.03561883960049652 g= -0.9338111033182828 E_A= (-3.15900482284562+0j) E_B= (-2.7115667845224443+0j) E_f= -3.8755229271079674\n",
      "k= 160 c_k= 0.2394255963693599 a_k= 0.03557687368338448 g= -2.019174892620322 E_A= (-3.2440185777927795+0j) E_B= (-2.2771342721134618+0j) E_f= -3.9257538410609376\n",
      "k= 161 c_k= 0.23927590904754018 a_k= 0.035535201479391994 g= 1.74107129342868 E_A= (-2.620826279911281+0j) E_B= (-3.454019112814729+0j) E_f= -3.95361132120874\n",
      "k= 162 c_k= 0.2391272356058773 a_k= 0.03549381924306507 g= -2.25163237749597 E_A= (-3.1471223919272555+0j) E_B= (-2.0702691398646547+0j) E_f= -4.013713051828281\n",
      "k= 163 c_k= 0.23897956301976508 a_k= 0.03545272329801237 g= -1.267734446178382 E_A= (-3.5361567615642207+0j) E_B= (-2.9302315136185935+0j) E_f= -4.004207169059281\n",
      "k= 164 c_k= 0.23883287851005275 a_k= 0.03541191003524349 g= 0.006889033128056642 E_A= (-3.4872706154198267+0j) E_B= (-3.4905612706440765+0j) E_f= -4.004287939060055\n",
      "k= 165 c_k= 0.238687169536964 a_k= 0.0353713759115565 g= -0.20613465738066558 E_A= (-2.7775140744956874+0j) E_B= (-2.6791106786683616+0j) E_f= -4.007791909719498\n",
      "k= 166 c_k= 0.23854242379420307 a_k= 0.03533111744797286 g= 0.8337857272211443 E_A= (-2.3259756440956307+0j) E_B= (-2.7237621806883188+0j) E_f= -4.017682461128079\n",
      "k= 167 c_k= 0.23839862920323973 a_k= 0.03529113122821835 g= -2.081249031990412 E_A= (-2.8559705391007686+0j) E_B= (-1.863636706586601+0j) E_f= -3.9264246872823825\n",
      "k= 168 c_k= 0.2382557739077676 a_k= 0.03525141389724807 g= -0.5237076302664877 E_A= (-2.601591454861601+0j) E_B= (-2.3520387213605107+0j) E_f= -3.9306092080866195\n",
      "k= 169 c_k= 0.2381138462683289 a_k= 0.03521196215981424 g= -0.04775117842868923 E_A= (-3.1018028633792296+0j) E_B= (-3.0790624298602287+0j) E_f= -3.931984620549147\n",
      "k= 170 c_k= 0.23797283485710038 a_k= 0.03517277277907522 g= -0.22276326444484656 E_A= (-3.047389036074801+0j) E_B= (-2.9413658249908767+0j) E_f= -3.9334046163537457\n",
      "k= 171 c_k= 0.23783272845283365 a_k= 0.03513384257524439 g= 2.8961183384143507 E_A= (-2.0525670112722003+0j) E_B= (-3.4301504639669447+0j) E_f= -3.927295451266191\n",
      "k= 172 c_k= 0.23769351603594574 a_k= 0.03509516842427751 g= -0.5450056783713849 E_A= (-2.825359181268417+0j) E_B= (-2.5662705493651163+0j) E_f= -3.921108572180341\n",
      "k= 173 c_k= 0.23755518678375354 a_k= 0.0350567472565972 g= 0.6849297894002199 E_A= (-2.497620164819244+0j) E_B= (-2.8230374129286964+0j) E_f= -3.89939895483343\n",
      "k= 174 c_k= 0.23741773006584782 a_k= 0.03501857605585347 g= 0.10242287317703415 E_A= (-3.446797003133963+0j) E_B= (-3.4954310152469903+0j) E_f= -3.899057034941952\n",
      "k= 175 c_k= 0.23728113543960122 a_k= 0.0349806518577189 g= -0.03392031215900673 E_A= (-2.8542210075473315+0j) E_B= (-2.838123707180222+0j) E_f= -3.8997188198626827\n",
      "k= 176 c_k= 0.23714539264580659 a_k= 0.034942971748717425 g= 0.518005047233082 E_A= (-2.79269378085219+0j) E_B= (-3.0383788014893875+0j) E_f= -3.9134618529617784\n",
      "k= 177 c_k= 0.2370104916044403 a_k= 0.034905532865085596 g= 0.5720278299425359 E_A= (-3.379302924149094+0j) E_B= (-3.6504561185212974+0j) E_f= -3.9141119471706602\n",
      "k= 178 c_k= 0.2368764224105464 a_k= 0.03486833239166524 g= -1.17632729285858 E_A= (-3.2947923985844243+0j) E_B= (-2.7375039971519772+0j) E_f= -3.877572390625102\n",
      "k= 179 c_k= 0.23674317533023834 a_k= 0.03483136756082649 g= -0.687535892272307 E_A= (-3.379149844583778+0j) E_B= (-3.0536109840036687+0j) E_f= -3.896502037431908\n",
      "k= 180 c_k= 0.23661074079681305 a_k= 0.03479463565142025 g= 0.7744338005677776 E_A= (-2.9116086595409283+0j) E_B= (-3.2780873700417947+0j) E_f= -3.9103272516704943\n",
      "k= 181 c_k= 0.23647910940697436 a_k= 0.03475813398775899 g= -1.4121071094043856 E_A= (-3.348497314048152+0j) E_B= (-2.68062965080974+0j) E_f= -3.89718871678593\n",
      "k= 182 c_k= 0.23634827191716234 a_k= 0.034721859938625164 g= -0.3600899390500702 E_A= (-3.2259442327493373+0j) E_B= (-3.0557309630908565+0j) E_f= -3.8957827870040957\n",
      "k= 183 c_k= 0.23621821923998398 a_k= 0.03468581091630625 g= -1.3128473358990054 E_A= (-3.684220416217684+0j) E_B= (-3.063983496577644+0j) E_f= -3.964616780678374\n",
      "k= 184 c_k= 0.23608894244074305 a_k= 0.03464998437565553 g= -0.3980061652300443 E_A= (-3.3028710513287685+0j) E_B= (-3.114941342060655+0j) E_f= -3.955954452890558\n",
      "k= 185 c_k= 0.2359604327340652 a_k= 0.0346143778131779 g= 0.09227995908340955 E_A= (-2.5143578732410594+0j) E_B= (-2.5579067113970657+0j) E_f= -3.956884335548235\n",
      "k= 186 c_k= 0.2358326814806152 a_k= 0.034578988766139816 g= 1.2776433653698402 E_A= (-2.511224914529296+0j) E_B= (-3.11384503619147+0j) E_f= -3.986272812250112\n",
      "k= 187 c_k= 0.23570568018390378 a_k= 0.03454381481170274 g= 0.3418973482330625 E_A= (-2.9639783686006127+0j) E_B= (-3.1251526626373067+0j) E_f= -3.9823921237561293\n",
      "k= 188 c_k= 0.23557942048718056 a_k= 0.03450885356607916 g= -0.4520110359908585 E_A= (-3.699251274675559+0j) E_B= (-3.486282278850486+0j) E_f= -3.977489631530683\n",
      "k= 189 c_k= 0.2354538941704108 a_k= 0.034474102683710754 g= 0.38018674229809707 E_A= (-2.95366864344635+0j) E_B= (-3.1327015414184487+0j) E_f= -3.969741214983953\n",
      "k= 190 c_k= 0.2353290931473328 a_k= 0.034439559856467725 g= 1.0111618747067064 E_A= (-2.7331539159049907+0j) E_B= (-3.209065529904763+0j) E_f= -3.9902558917741446\n",
      "k= 191 c_k= 0.2352050094625941 a_k= 0.03440522281286887 g= 0.6008711375889314 E_A= (-3.17082360839749+0j) E_B= (-3.4534794116022987+0j) E_f= -4.0042890723233535\n",
      "k= 192 c_k= 0.23508163528896314 a_k= 0.034371089317321656 g= 0.3153014210845248 E_A= (-3.373899553439327+0j) E_B= (-3.522142700794295+0j) E_f= -3.9954810535708627\n",
      "k= 193 c_k= 0.23495896292461463 a_k= 0.034337157169381696 g= -1.632097228396485 E_A= (-3.7087182908796024+0j) E_B= (-2.9417665465272504+0j) E_f= -4.024486734386983\n",
      "k= 194 c_k= 0.23483698479048612 a_k= 0.034303424203031056 g= -2.231864469070635 E_A= (-3.655687436654867+0j) E_B= (-2.6074387918997326+0j) E_f= -4.052073969639702\n",
      "k= 195 c_k= 0.23471569342770326 a_k= 0.03426988828597481 g= -0.48493285428403565 E_A= (-3.1849893307366473+0j) E_B= (-2.9573466284183416+0j) E_f= -4.056970522541396\n",
      "k= 196 c_k= 0.2345950814950722 a_k= 0.034236547318955354 g= 1.1057688294570376 E_A= (-3.1852910778646653+0j) E_B= (-3.704106935187034+0j) E_f= -4.046126047116433\n",
      "k= 197 c_k= 0.23447514176663659 a_k= 0.03420339923508381 g= 0.6495236521635968 E_A= (-2.709594380479034+0j) E_B= (-3.01418868132272+0j) E_f= -4.049045191088652\n",
      "k= 198 c_k= 0.23435586712929732 a_k= 0.03417044199918816 g= -0.02923127853519008 E_A= (-3.292071791694582+0j) E_B= (-3.278370748437757+0j) E_f= -4.049382476956563\n",
      "k= 199 c_k= 0.23423725058049316 a_k= 0.03413767360717755 g= 0.4058658082129841 E_A= (-3.102093100816395+0j) E_B= (-3.2922308828572735+0j) E_f= -4.042684860103803\n",
      "k= 200 c_k= 0.23411928522594053 a_k= 0.03410509208542231 g= 1.710051434360018 E_A= (-2.1657828500018295+0j) E_B= (-2.966494889025753+0j) E_f= -4.084194994639596\n",
      "k= 201 c_k= 0.23400196427742995 a_k= 0.034072695490149144 g= 1.2931868500268855 E_A= (-2.8786270075999+0j) E_B= (-3.483843533767967+0j) E_f= -4.083524863028341\n",
      "k= 202 c_k= 0.2338852810506788 a_k= 0.034040481906851175 g= 0.7387021268286316 E_A= (-2.60776333451614+0j) E_B= (-2.9533064436082372+0j) E_f= -4.093792749600014\n",
      "k= 203 c_k= 0.23376922896323718 a_k= 0.03400844944971238 g= -1.2799010834472946 E_A= (-3.2304409394007534+0j) E_B= (-2.6320379605473816+0j) E_f= -4.1165192072138685\n"
     ]
    },
    {
     "name": "stdout",
     "output_type": "stream",
     "text": [
      "k= 204 c_k= 0.23365380153244633 a_k= 0.033976596261045884 g= 0.5349193760898152 E_A= (-2.8795947452660227+0j) E_B= (-3.129566636739522+0j) E_f= -4.124880165149059\n",
      "k= 205 c_k= 0.23353899237344763 a_k= 0.03394492051074589 g= 0.5838791693445738 E_A= (-2.908512289853303+0j) E_B= (-3.181229395606458+0j) E_f= -4.121265848592892\n",
      "k= 206 c_k= 0.23342479519724088 a_k= 0.033913420395752715 g= 0.33368191778904244 E_A= (-3.313712979794113+0j) E_B= (-3.4694922464359728+0j) E_f= -4.113584303543503\n",
      "k= 207 c_k= 0.23331120380879006 a_k= 0.033882094139530645 g= 0.7985235125178466 E_A= (-3.101196408202518+0j) E_B= (-3.4738053721528424+0j) E_f= -4.112568078817657\n",
      "k= 208 c_k= 0.2331982121051757 a_k= 0.03385093999155821 g= -0.8195756266208538 E_A= (-3.2166067955987874+0j) E_B= (-2.834359653972863+0j) E_f= -4.112281638667943\n",
      "k= 209 c_k= 0.23308581407379206 a_k= 0.033819956226830476 g= -0.04801214007053977 E_A= (-3.3527094224324197+0j) E_B= (-3.3303275249248863+0j) E_f= -4.110948855918536\n",
      "k= 210 c_k= 0.232974003790588 a_k= 0.03378914114537322 g= -0.8558399114109487 E_A= (-3.422571657565846+0j) E_B= (-3.023794756035464+0j) E_f= -4.097827887079221\n",
      "k= 211 c_k= 0.23286277541835038 a_k= 0.03375849307176827 g= -1.886667174630726 E_A= (-3.6232437874488124+0j) E_B= (-2.7445746782983957+0j) E_f= -4.0676586151182414\n",
      "k= 212 c_k= 0.23275212320502842 a_k= 0.03372801035469019 g= 0.3337139929021755 E_A= (-2.850851646743335+0j) E_B= (-3.006196927525753+0j) E_f= -4.074122147149358\n",
      "k= 213 c_k= 0.23264204148209838 a_k= 0.03369769136645354 g= -1.645513158466949 E_A= (-2.8396911252599253+0j) E_B= (-2.074060044317112+0j) E_f= -4.071931433026506\n",
      "k= 214 c_k= 0.23253252466296698 a_k= 0.03366753450257076 g= 0.6864917058598877 E_A= (-3.029771508005308+0j) E_B= (-3.349034807052881+0j) E_f= -4.107461597591401\n",
      "k= 215 c_k= 0.23242356724141247 a_k= 0.03363753818132017 g= 0.3788188768042444 E_A= (-2.5765258696636257+0j) E_B= (-2.752618739034081+0j) E_f= -4.111849050230784\n",
      "k= 216 c_k= 0.23231516379006265 a_k= 0.033607700843323866 g= 1.206236770593613 E_A= (-2.614434656020193+0j) E_B= (-3.174888841880296+0j) E_f= -4.152368115212393\n",
      "k= 217 c_k= 0.23220730895890848 a_k= 0.03357802095113537 g= -0.7535339007040515 E_A= (-3.7679659382956636+0j) E_B= (-3.4180137797120693+0j) E_f= -4.1715492738479885\n",
      "k= 218 c_k= 0.2320999974738524 a_k= 0.03354849698883656 g= 0.44498594133351677 E_A= (-3.5358885533178697+0j) E_B= (-3.742451025036688+0j) E_f= -4.174766666454996\n",
      "k= 219 c_k= 0.2319932241352903 a_k= 0.03351912746164373 g= 0.4413124872693286 E_A= (-2.9747438030280575+0j) E_B= (-3.179506816573609+0j) E_f= -4.163610796798452\n",
      "k= 220 c_k= 0.23188698381672643 a_k= 0.03348991089552263 g= -1.811322742713136 E_A= (-3.0217549991484125+0j) E_B= (-2.1817106640956334+0j) E_f= -4.081095920877003\n",
      "k= 221 c_k= 0.23178127146341995 a_k= 0.03346084583681207 g= 3.370154946203367 E_A= (-2.278023111414722+0j) E_B= (-3.840300708334222+0j) E_f= -4.095330273859024\n",
      "k= 222 c_k= 0.23167608209106294 a_k= 0.0334319308518559 g= 2.252419049472369 E_A= (-1.9183853936625455+0j) E_B= (-2.9620486348806145+0j) E_f= -4.106901610250754\n",
      "k= 223 c_k= 0.23157141078448806 a_k= 0.033403164526643325 g= 1.2274081283483724 E_A= (-2.482577573404839+0j) E_B= (-3.0510428371848004+0j) E_f= -4.1452539489962685\n",
      "k= 224 c_k= 0.23146725269640603 a_k= 0.033374545466457094 g= 1.061900601965144 E_A= (-3.0924905470094357+0j) E_B= (-3.584080976956499+0j) E_f= -4.1336532078430945\n",
      "k= 225 c_k= 0.23136360304617118 a_k= 0.033346072295529425 g= 1.0993184429666791 E_A= (-3.403191703069722+0j) E_B= (-3.9118762547894774+0j) E_f= -4.133703089638375\n",
      "k= 226 c_k= 0.23126045711857537 a_k= 0.0333177436567056 g= 0.699625010558414 E_A= (-3.2181843534506998+0j) E_B= (-3.5417755529573536+0j) E_f= -4.117579778928667\n",
      "k= 227 c_k= 0.23115781026266843 a_k= 0.03328955821111484 g= 0.42569491170911006 E_A= (-2.9952311599894763+0j) E_B= (-3.192036567250752+0j) E_f= -4.116571207437087\n",
      "k= 228 c_k= 0.23105565789060523 a_k= 0.03326151463784838 g= -1.1539938330719015 E_A= (-3.1074694626160846+0j) E_B= (-2.5741958540118257+0j) E_f= -4.158173592611487\n",
      "k= 229 c_k= 0.23095399547651818 a_k= 0.03323361163364453 g= -2.472477229645383 E_A= (-3.7981643708028607+0j) E_B= (-2.6561073809802327+0j) E_f= -4.206651357829207\n",
      "k= 230 c_k= 0.2308528185554149 a_k= 0.03320584791258057 g= -0.5200186542745678 E_A= (-3.4896265991346223+0j) E_B= (-3.2495310550532666+0j) E_f= -4.1997645664280245\n",
      "k= 231 c_k= 0.23075212272210002 a_k= 0.033178222205771234 g= 1.899328756653503 E_A= (-2.8668829545358747+0j) E_B= (-3.7434312392257203+0j) E_f= -4.182430888949034\n",
      "k= 232 c_k= 0.23065190363012056 a_k= 0.03315073326107367 g= -0.0624241154321536 E_A= (-3.3804681529209875+0j) E_B= (-3.3516716708072822+0j) E_f= -4.1814036943424355\n",
      "k= 233 c_k= 0.23055215699073456 a_k= 0.03312337984279875 g= 1.3129648760284385 E_A= (-2.665989589709884+0j) E_B= (-3.271403358152742+0j) E_f= -4.205886757298574\n",
      "k= 234 c_k= 0.23045287857190197 a_k= 0.03309616073142841 g= 0.7774084058283794 E_A= (-3.371706169133867+0j) E_B= (-3.730018179032154+0j) E_f= -4.199972397171032\n",
      "k= 235 c_k= 0.23035406419729748 a_k= 0.0330690747233391 g= -1.6831720737190587 E_A= (-3.400116011723809+0j) E_B= (-2.6246649558746524+0j) E_f= -4.232851473771202\n",
      "k= 236 c_k= 0.23025570974534454 a_k= 0.03304212063053099 g= 0.29595470696296905 E_A= (-3.071568954795607+0j) E_B= (-3.207859477004075+0j) E_f= -4.227771306562225\n",
      "k= 237 c_k= 0.23015781114827027 a_k= 0.033015297280362885 g= -0.005858831267772164 E_A= (-3.443554077304259+0j) E_B= (-3.4408571657433042+0j) E_f= -4.227694827949328\n",
      "k= 238 c_k= 0.23006036439118038 a_k= 0.03298860351529267 g= 1.0462112707008029 E_A= (-3.092207433494647+0j) E_B= (-3.57359092582982+0j) E_f= -4.212865577605366\n",
      "k= 239 c_k= 0.2299633655111541 a_k= 0.03296203819262319 g= -2.371598061859102 E_A= (-3.291945122137678+0j) E_B= (-2.2011837782479793+0j) E_f= -4.129975694462811\n",
      "k= 240 c_k= 0.22986681059635786 a_k= 0.03293560018425339 g= 2.369381693745224 E_A= (-2.6630808006187676+0j) E_B= (-3.75236522667199+0j) E_f= -4.202326178455623\n",
      "k= 241 c_k= 0.2297706957851782 a_k= 0.03290928837643461 g= -0.7473033888872987 E_A= (-3.3649789436613693+0j) E_B= (-3.021562104406857+0j) E_f= -4.1779620759022045\n",
      "k= 242 c_k= 0.22967501726537237 a_k= 0.03288310166953187 g= -0.8987718217430657 E_A= (-3.5564031492902215+0j) E_B= (-3.143552281937284+0j) E_f= -4.164085006279228\n",
      "k= 243 c_k= 0.22957977127323734 a_k= 0.0328570389777901 g= 0.18431644739507466 E_A= (-2.920650611262679+0j) E_B= (-3.0052812669323927+0j) E_f= -4.172787733105466\n",
      "k= 244 c_k= 0.2294849540927954 a_k= 0.03283109922910505 g= -0.882625811218249 E_A= (-3.6117876490290977+0j) E_B= (-3.2066889614920253+0j) E_f= -4.178620022982486\n",
      "k= 245 c_k= 0.22939056205499744 a_k= 0.03280528136479902 g= -0.9717159221550098 E_A= (-3.0644166510364275+0j) E_B= (-2.6186117279545718+0j) E_f= -4.1538356077409535\n",
      "k= 246 c_k= 0.2292965915369422 a_k= 0.03277958433940097 g= -2.475108855251967 E_A= (-3.5005781390878914+0j) E_B= (-2.3655100907035336+0j) E_f= -4.1212737538033934\n",
      "k= 247 c_k= 0.2292030389611117 a_k= 0.032754007120431174 g= 0.10267583019654875 E_A= (-3.4283396257165917+0j) E_B= (-3.4754068503343998+0j) E_f= -4.123651222604761\n",
      "k= 248 c_k= 0.2291099007946226 a_k= 0.03272854868819017 g= -0.6389975959044072 E_A= (-2.906086717818134+0j) E_B= (-2.613285366206812+0j) E_f= -4.129644048082845\n",
      "k= 249 c_k= 0.22901717354849255 a_k= 0.03270320803555191 g= -1.1247513425131916 E_A= (-3.299865918640671+0j) E_B= (-2.784691171826184+0j) E_f= -4.113382120602521\n",
      "k= 250 c_k= 0.22892485377692168 a_k= 0.03267798416776113 g= -1.1668786524033596 E_A= (-3.638635556269122+0j) E_B= (-3.104380506515421+0j) E_f= -4.104211948902643\n",
      "k= 251 c_k= 0.22883293807658853 a_k= 0.03265287610223464 g= -1.365696134939615 E_A= (-3.3520470737820025+0j) E_B= (-2.727014555625856+0j) E_f= -4.167179436342665\n",
      "k= 252 c_k= 0.22874142308596035 a_k= 0.03262788286836662 g= -1.3502299430212414 E_A= (-3.6119510239602484+0j) E_B= (-2.9942439866403405+0j) E_f= -4.182065819211925\n",
      "k= 253 c_k= 0.22865030548461726 a_k= 0.03260300350733771 g= -1.0031504717946265 E_A= (-3.5264368493155795+0j) E_B= (-3.067695525669821+0j) E_f= -4.19355203588004\n",
      "k= 254 c_k= 0.22855958199258958 a_k= 0.032578237071927925 g= 1.2106358461316569 E_A= (-2.8033610315749713+0j) E_B= (-3.356765877449164+0j) E_f= -4.150988093536704\n"
     ]
    },
    {
     "name": "stdout",
     "output_type": "stream",
     "text": [
      "k= 255 c_k= 0.22846924936970905 a_k= 0.03255358262633314 g= 1.9270822922253983 E_A= (-2.9791637752721583+0j) E_B= (-3.8597218648289484+0j) E_f= -4.108821068365927\n",
      "k= 256 c_k= 0.22837930441497245 a_k= 0.03252903924598524 g= -2.346897721299624 E_A= (-3.547233973688374+0j) E_B= (-2.4752682354413897+0j) E_f= -4.054902539336186\n",
      "k= 257 c_k= 0.22828974396591784 a_k= 0.03250460601737569 g= -1.1349903888226722 E_A= (-3.3801619901063935+0j) E_B= (-2.861948659570183+0j) E_f= -4.082081036693682\n",
      "k= 258 c_k= 0.22820056489801344 a_k= 0.03248028203788258 g= 0.13716987237691594 E_A= (-3.3016552008961773+0j) E_B= (-3.3642596856229785+0j) E_f= -4.084416741349227\n",
      "k= 259 c_k= 0.22811176412405826 a_k= 0.03245606641560098 g= -1.02346492409502 E_A= (-3.5627340070781868+0j) E_B= (-3.095805228369366+0j) E_f= -4.085744311317905\n",
      "k= 260 c_k= 0.22802333859359442 a_k= 0.03243195826917659 g= -2.6033298611066193 E_A= (-3.852430447574932+0j) E_B= (-2.6651905147950723+0j) E_f= -4.098349997973405\n",
      "k= 261 c_k= 0.22793528529233112 a_k= 0.032407956727642476 g= 1.0895463803495087 E_A= (-2.4858219220276006+0j) E_B= (-2.9825140521159845+0j) E_f= -4.069677626750006\n",
      "k= 262 c_k= 0.22784760124157974 a_k= 0.032384060930259084 g= -0.164244040035259 E_A= (-2.966477703112507+0j) E_B= (-2.8916324820319876+0j) E_f= -4.07207033933251\n",
      "k= 263 c_k= 0.22776028349769972 a_k= 0.032360270026357114 g= 2.256272069628023 E_A= (-2.5674171887587183+0j) E_B= (-3.5951955212115587+0j) E_f= -4.054212596960793\n",
      "k= 264 c_k= 0.22767332915155544 a_k= 0.032336583175183536 g= -0.037449099965812443 E_A= (-3.0915031635867374+0j) E_B= (-3.0744508410608455+0j) E_f= -4.053385799839911\n",
      "k= 265 c_k= 0.22758673532798307 a_k= 0.03231299954575036 g= 1.831823056965263 E_A= (-2.6654577193473328+0j) E_B= (-3.499254977813833+0j) E_f= -4.108909026912636\n",
      "k= 266 c_k= 0.22750049918526816 a_k= 0.03228951831668638 g= 0.7135853053588148 E_A= (-2.81019369521815+0j) E_B= (-3.134875721578955+0j) E_f= -4.127014659318028\n",
      "k= 267 c_k= 0.22741461791463288 a_k= 0.03226613867609164 g= -0.4045318640443806 E_A= (-2.9602658504590824+0j) E_B= (-2.7762729318671884+0j) E_f= -4.131091354486169\n",
      "k= 268 c_k= 0.22732908873973287 a_k= 0.03224285982139457 g= 1.3098413221482277 E_A= (-2.970411422270503+0j) E_B= (-3.56594149058571+0j) E_f= -4.13423833787133\n",
      "k= 269 c_k= 0.22724390891616403 a_k= 0.03221968095921187 g= 0.9469911148999117 E_A= (-3.453069245756165+0j) E_B= (-3.883465171073629+0j) E_f= -4.132918132211431\n",
      "k= 270 c_k= 0.22715907573097813 a_k= 0.03219660130521093 g= -0.6954030474835903 E_A= (-3.4584504514432117+0j) E_B= (-3.142516224389456+0j) E_f= -4.141140784504605\n",
      "k= 271 c_k= 0.2270745865022079 a_k= 0.03217362008397482 g= 1.1069938114804732 E_A= (-2.75317879648419+0j) E_B= (-3.255919120489053+0j) E_f= -4.100584794226423\n",
      "k= 272 c_k= 0.22699043857840095 a_k= 0.032150736528869725 g= -0.6975238344351535 E_A= (-3.494865920870999+0j) E_B= (-3.178203438676352+0j) E_f= -4.113918854890794\n",
      "k= 273 c_k= 0.22690662933816205 a_k= 0.03212794988191489 g= -0.19055505523483332 E_A= (-3.340199430401981+0j) E_B= (-3.2537230198286142+0j) E_f= -4.113606945988104\n",
      "k= 274 c_k= 0.22682315618970433 a_k= 0.03210525939365483 g= 0.6308035590179937 E_A= (-2.5889534727003873+0j) E_B= (-2.875115181084707+0j) E_f= -4.101313533613965\n",
      "k= 275 c_k= 0.22674001657040857 a_k= 0.03208266432303396 g= -3.139429980144389 E_A= (-3.9480440224973306+0j) E_B= (-2.524375211058178+0j) E_f= -4.127707957315303\n",
      "k= 276 c_k= 0.2266572079463908 a_k= 0.0320601639372735 g= 0.4635442237274773 E_A= (-3.210406015012606+0j) E_B= (-3.4205372940321004+0j) E_f= -4.113785658785578\n",
      "k= 277 c_k= 0.2265747278120774 a_k= 0.03203775751175051 g= 0.2914045150889348 E_A= (-2.72863417271491+0j) E_B= (-2.8606839700938815+0j) E_f= -4.124286640914614\n",
      "k= 278 c_k= 0.22649257368978862 a_k= 0.03201544432987922 g= 0.4410203425725066 E_A= (-3.597863913266891+0j) E_B= (-3.7976395781444894+0j) E_f= -4.137443939805982\n",
      "k= 279 c_k= 0.2264107431293292 a_k= 0.031993223682994405 g= -0.41957049750258785 E_A= (-3.220321749659867+0j) E_B= (-3.0303312133904603+0j) E_f= -4.125176535189732\n",
      "k= 280 c_k= 0.2263292337075867 a_k= 0.03197109487023691 g= 0.5456910772317021 E_A= (-2.7928301377071074+0j) E_B= (-3.0398418244089447+0j) E_f= -4.125210057297735\n",
      "k= 281 c_k= 0.22624804302813686 a_k= 0.031949057198441176 g= 0.7757220020968977 E_A= (-2.717884909689998+0j) E_B= (-3.068896079506581+0j) E_f= -4.111272932024604\n",
      "k= 282 c_k= 0.2261671687208565 a_k= 0.0319271099820248 g= -0.8238805083443462 E_A= (-3.1854023813709187+0j) E_B= (-2.812732937497837+0j) E_f= -4.114344021805074\n",
      "k= 283 c_k= 0.22608660844154282 a_k= 0.03190525254287998 g= 1.3333699637157876 E_A= (-3.3635384782142097+0j) E_B= (-3.9664526640028606+0j) E_f= -4.124868121401734\n",
      "k= 284 c_k= 0.22600635987154008 a_k= 0.031883484210266995 g= -2.0074362759495523 E_A= (-3.1474365374552553+0j) E_B= (-2.2400498066523777+0j) E_f= -4.125594955232396\n",
      "k= 285 c_k= 0.22592642071737257 a_k= 0.03186180432070943 g= -0.5052640930283872 E_A= (-3.0991461268162652+0j) E_B= (-2.870841110706439+0j) E_f= -4.121478574543789\n",
      "k= 286 c_k= 0.22584678871038427 a_k= 0.031840212217891344 g= -0.8592310908690849 E_A= (-3.3619646452660197+0j) E_B= (-2.9738554800002133+0j) E_f= -4.099884345405963\n",
      "k= 287 c_k= 0.2257674616063849 a_k= 0.031818707252556165 g= 2.8011901228967955 E_A= (-2.1830484028922656+0j) E_B= (-3.4478835699388393+0j) E_f= -4.105162057106704\n",
      "k= 288 c_k= 0.2256884371853021 a_k= 0.03179728878240737 g= 0.3566315659326411 E_A= (-2.9395879051072664+0j) E_B= (-3.100563146639836+0j) E_f= -4.093084336007333\n",
      "k= 289 c_k= 0.22560971325084006 a_k= 0.03177595617201093 g= -0.01782341530015203 E_A= (-3.262370634889684+0j) E_B= (-3.2543283636596483+0j) E_f= -4.0936515174554025\n",
      "k= 290 c_k= 0.2255312876301436 a_k= 0.03175470879269932 g= 0.35011988222114027 E_A= (-3.2268814974022497+0j) E_B= (-3.3848074731267457+0j) E_f= -4.102557935214482\n",
      "k= 291 c_k= 0.22545315817346873 a_k= 0.031733546022477396 g= 1.9664892313056708 E_A= (-2.646647308100192+0j) E_B= (-3.533349723524153+0j) E_f= -4.136750664310911\n",
      "k= 292 c_k= 0.22537532275385858 a_k= 0.03171246724592962 g= -0.719786084245228 E_A= (-3.611263052895708+0j) E_B= (-3.2868190107946993+0j) E_f= -4.140582624284428\n",
      "k= 293 c_k= 0.22529777926682498 a_k= 0.03169147185412911 g= -0.6080458898556272 E_A= (-3.1592855246216227+0j) E_B= (-2.885302747268036+0j) E_f= -4.14587554126863\n",
      "k= 294 c_k= 0.22522052563003578 a_k= 0.03167055924454813 g= -1.1497968431412817 E_A= (-3.8721032996439693+0j) E_B= (-3.3541876008838987+0j) E_f= -4.1668256174727745\n",
      "k= 295 c_k= 0.2251435597830072 a_k= 0.03164972882097011 g= -1.5474448934409155 E_A= (-3.693706711225779+0j) E_B= (-2.996912207471131+0j) E_f= -4.196219513649875\n",
      "k= 296 c_k= 0.22506687968680195 a_k= 0.031628979993403174 g= 0.9113884338367934 E_A= (-2.4181043676545766+0j) E_B= (-2.8283510696271534+0j) E_f= -4.174767600397165\n",
      "k= 297 c_k= 0.22499048332373206 a_k= 0.03160831217799512 g= 0.5695774155117684 E_A= (-3.2847140387174667+0j) E_B= (-3.5410130347300166+0j) E_f= -4.163698977578278\n",
      "k= 298 c_k= 0.22491436869706707 a_k= 0.031587724796949865 g= 0.9574103138551843 E_A= (-2.57472941970022+0j) E_B= (-3.005400092349819+0j) E_f= -4.175017291325845\n",
      "k= 299 c_k= 0.2248385338307471 a_k= 0.03156721727844525 g= 0.3574816756051478 E_A= (-3.5175619492448993+0j) E_B= (-3.6783132608737397+0j) E_f= -4.170675132887329\n",
      "k= 300 c_k= 0.2247629767691008 a_k= 0.031546789056552234 g= 1.7694662592609014 E_A= (-2.907135159969997+0j) E_B= (-3.7025561674179284+0j) E_f= -4.173731120881865\n",
      "k= 301 c_k= 0.22468769557656806 a_k= 0.031526439571155446 g= -0.7194658244886988 E_A= (-3.3143446782457264+0j) E_B= (-2.991034441944804+0j) E_f= -4.165474150947984\n",
      "k= 302 c_k= 0.22461268833742742 a_k= 0.03150616826787509 g= 0.7318119276990468 E_A= (-2.8925979566308424+0j) E_B= (-3.2213464455065983+0j) E_f= -4.132990342459678\n",
      "k= 303 c_k= 0.2245379531555281 a_k= 0.03148597459799005 g= 0.6712183383528465 E_A= (-2.6277591795828568+0j) E_B= (-2.9291871632112625+0j) E_f= -4.129800386901552\n",
      "k= 304 c_k= 0.22446348815402628 a_k= 0.03146585801836237 g= -1.8009238548328472 E_A= (-3.510265152480321+0j) E_B= (-2.7017818517691685+0j) E_f= -4.108987919306485\n",
      "k= 305 c_k= 0.22438929147512626 a_k= 0.03144581799136294 g= 1.022186629730116 E_A= (-3.309778308365871+0j) E_B= (-3.768513775566847+0j) E_f= -4.125186971043947\n"
     ]
    },
    {
     "name": "stdout",
     "output_type": "stream",
     "text": [
      "k= 306 c_k= 0.2243153612798253 a_k= 0.031425853984798344 g= 1.3604028795049887 E_A= (-2.634025618383319+0j) E_B= (-3.2443441451878714+0j) E_f= -4.106789158101577\n",
      "k= 307 c_k= 0.2242416957476633 a_k= 0.03140596547183903 g= 3.1805468513337267 E_A= (-2.417788484749328+0j) E_B= (-3.84421092344526+0j) E_f= -4.136465268952429\n",
      "k= 308 c_k= 0.22416829307647623 a_k= 0.031386151930948555 g= 1.7715403303996298 E_A= (-2.757834522363897+0j) E_B= (-3.5520808663275405+0j) E_f= -4.131310915220647\n",
      "k= 309 c_k= 0.22409515148215373 a_k= 0.03136641284581397 g= 0.27638211784730726 E_A= (-2.9113769234683753+0j) E_B= (-3.035248708600277+0j) E_f= -4.1185876978148634\n",
      "k= 310 c_k= 0.2240222691984007 a_k= 0.03134674770527746 g= 0.7361561005917641 E_A= (-3.246039769189904+0j) E_B= (-3.57587048946753+0j) E_f= -4.125210910306021\n",
      "k= 311 c_k= 0.2239496444765029 a_k= 0.03132715600326891 g= 2.100804894470284 E_A= (-2.6625299899892094+0j) E_B= (-3.603479008451444+0j) E_f= -4.094987953832929\n",
      "k= 312 c_k= 0.22387727558509607 a_k= 0.03130763723873971 g= 0.09375832386930225 E_A= (-3.174133267605037+0j) E_B= (-3.216113983827606+0j) E_f= -4.095205636909654\n",
      "k= 313 c_k= 0.2238051608099392 a_k= 0.03128819091559756 g= -0.772648608251203 E_A= (-2.9438256660316697+0j) E_B= (-2.5979801739931974+0j) E_f= -4.107611472930343\n",
      "k= 314 c_k= 0.22373329845369114 a_k= 0.03126881654264228 g= -0.20525405762022078 E_A= (-3.687023074720944+0j) E_B= (-3.595178740056192+0j) E_f= -4.111262410225951\n",
      "k= 315 c_k= 0.22366168683569107 a_k= 0.03124951363350277 g= -0.6953478475710818 E_A= (-3.4559295587009387+0j) E_B= (-3.1448842136503083+0j) E_f= -4.122365734522441\n",
      "k= 316 c_k= 0.2235903242917423 a_k= 0.03123028170657482 g= 0.2939218128101238 E_A= (-2.965644670878249+0j) E_B= (-3.097080817763514+0j) E_f= -4.136631748731664\n",
      "k= 317 c_k= 0.22351920917389975 a_k= 0.031211120284960012 g= -1.1351741887578612 E_A= (-3.064397788948386+0j) E_B= (-2.5569313150568256+0j) E_f= -4.128997438226879\n",
      "k= 318 c_k= 0.22344833985026066 a_k= 0.03119202889640556 g= 0.34957863501646075 E_A= (-3.2562012738267736+0j) E_B= (-3.4124268051098703+0j) E_f= -4.127507591635983\n",
      "k= 319 c_k= 0.22337771470475873 a_k= 0.031173007073245097 g= 0.0483919393421243 E_A= (-3.4794496596909483+0j) E_B= (-3.5010690213316984+0j) E_f= -4.127394281853611\n",
      "k= 320 c_k= 0.22330733213696138 a_k= 0.031154054352340393 g= 0.23289398619584492 E_A= (-3.238575606331276+0j) E_B= (-3.3425894757875487+0j) E_f= -4.114902472718399\n",
      "k= 321 c_k= 0.22323719056187072 a_k= 0.031135170275023976 g= 1.5425378161089853 E_A= (-3.161518589124716+0j) E_B= (-3.850222205931943+0j) E_f= -4.1866337256451915\n",
      "k= 322 c_k= 0.22316728840972688 a_k= 0.031116354387042678 g= -1.1397460298923512 E_A= (-2.9981682999673067+0j) E_B= (-2.4894602380336517+0j) E_f= -4.146184763902091\n",
      "k= 323 c_k= 0.2230976241258151 a_k= 0.031097606238502055 g= 0.8857096778140577 E_A= (-2.991115232168378+0j) E_B= (-3.386314681739493+0j) E_f= -4.1375870580026755\n",
      "k= 324 c_k= 0.22302819617027564 a_k= 0.031078925383811632 g= 0.8380604742685088 E_A= (-3.5300569239763786+0j) E_B= (-3.903879155691801+0j) E_f= -4.156898277525538\n",
      "k= 325 c_k= 0.22295900301791655 a_k= 0.031060311381631046 g= -1.4304258946917379 E_A= (-3.732168771838973+0j) E_B= (-3.0943161090960105+0j) E_f= -4.160485091989337\n",
      "k= 326 c_k= 0.22289004315802943 a_k= 0.03104176379481701 g= -0.9380265788821232 E_A= (-3.4033682888156207+0j) E_B= (-2.9852147195147904+0j) E_f= -4.140850977642642\n",
      "k= 327 c_k= 0.22282131509420836 a_k= 0.03102328219037106 g= -2.826583642974746 E_A= (-3.9879404934100133+0j) E_B= (-2.728294324307191+0j) E_f= -4.183644960399839\n",
      "k= 328 c_k= 0.22275281734417096 a_k= 0.031004866139388146 g= -0.8189989970915018 E_A= (-3.764736399056988+0j) E_B= (-3.399867731048623+0j) E_f= -4.184096536931588\n",
      "k= 329 c_k= 0.22268454843958294 a_k= 0.030986515217006006 g= 1.2439421848839272 E_A= (-2.8348451351564847+0j) E_B= (-3.3888585426081357+0j) E_f= -4.131467458709112\n",
      "k= 330 c_k= 0.22261650692588505 a_k= 0.030968229002355272 g= -0.177096658200126 E_A= (-3.5421510975008665+0j) E_B= (-3.4633018186273477+0j) E_f= -4.13212775421847\n",
      "k= 331 c_k= 0.22254869136212244 a_k= 0.030950007078510398 g= 0.4694139058654601 E_A= (-3.409776646027354+0j) E_B= (-3.6187115469424356+0j) E_f= -4.133214531286623\n",
      "k= 332 c_k= 0.22248110032077717 a_k= 0.030931849032441266 g= -2.585739175578846 E_A= (-3.420237257540607+0j) E_B= (-2.269681063689965+0j) E_f= -4.157712569290004\n",
      "k= 333 c_k= 0.22241373238760287 a_k= 0.030913754454965598 g= -0.638549569154768 E_A= (-3.7415140648448126+0j) E_B= (-3.4574696788643973+0j) E_f= -4.157049702932214\n",
      "k= 334 c_k= 0.22234658616146202 a_k= 0.030895722940702006 g= -0.3528096398022694 E_A= (-3.392670118903192+0j) E_B= (-3.2357780809534127+0j) E_f= -4.157770086563625\n",
      "k= 335 c_k= 0.22227966025416593 a_k= 0.03087775408802382 g= 2.121296709770758 E_A= (-2.79155492191691+0j) E_B= (-3.734597145809158+0j) E_f= -4.128692337040994\n",
      "k= 336 c_k= 0.22221295329031662 a_k= 0.030859847499013576 g= 0.07420541063176422 E_A= (-3.3705190601444306+0j) E_B= (-3.4034978670376406+0j) E_f= -4.1309404573544075\n",
      "k= 337 c_k= 0.22214646390715176 a_k= 0.030842002779418166 g= -0.3438543483808362 E_A= (-3.3638912084564154+0j) E_B= (-3.211119153272614+0j) E_f= -4.137262573282033\n",
      "k= 338 c_k= 0.2220801907543914 a_k= 0.030824219538604695 g= -0.5713747996673902 E_A= (-3.236409813519206+0j) E_B= (-2.9826277645144335+0j) E_f= -4.116294378675029\n",
      "k= 339 c_k= 0.2220141324940873 a_k= 0.03080649738951698 g= 0.7281432096159849 E_A= (-2.6391730920077254+0j) E_B= (-2.962489258036432+0j) E_f= -4.139469541650432\n",
      "k= 340 c_k= 0.22194828780047435 a_k= 0.03078883594863269 g= 1.3284690587322896 E_A= (-3.0021847160210884+0j) E_B= (-3.5918875819841674+0j) E_f= -4.166752884048643\n",
      "k= 341 c_k= 0.2218826553598244 a_k= 0.030771234835921108 g= -0.8831770988943434 E_A= (-3.517175778585966+0j) E_B= (-3.1252524188746396+0j) E_f= -4.1993098437010055\n",
      "k= 342 c_k= 0.22181723387030208 a_k= 0.030753693674801567 g= -1.0561631972833072 E_A= (-3.3899879814008136+0j) E_B= (-2.921437583526819+0j) E_f= -4.203521278200069\n",
      "k= 343 c_k= 0.22175202204182284 a_k= 0.03073621209210241 g= 0.10406743343503042 E_A= (-3.1764344165022527+0j) E_B= (-3.2225887440880943+0j) E_f= -4.198164716698974\n",
      "k= 344 c_k= 0.22168701859591308 a_k= 0.030718789718020653 g= 0.05592094095380136 E_A= (-2.764298831679704+0j) E_B= (-2.7890927250339566+0j) E_f= -4.200442096940695\n",
      "k= 345 c_k= 0.22162222226557235 a_k= 0.030701426186082147 g= -0.6885106634457274 E_A= (-3.3088515687533393+0j) E_B= (-3.003673042180568+0j) E_f= -4.211782370445959\n",
      "k= 346 c_k= 0.2215576317951376 a_k= 0.030684121133102402 g= 0.24010992851649984 E_A= (-3.5580760616539564+0j) E_B= (-3.6644724359191874+0j) E_f= -4.2110585423268905\n",
      "k= 347 c_k= 0.22149324594014944 a_k= 0.0306668741991479 g= 0.48141572931508303 E_A= (-3.0626308568287466+0j) E_B= (-3.2758915218940308+0j) E_f= -4.208406884095644\n",
      "k= 348 c_k= 0.22142906346722022 a_k= 0.030649685027498038 g= 0.4371636954520975 E_A= (-3.506738121836718+0j) E_B= (-3.700339617168372+0j) E_f= -4.209638594079981\n",
      "k= 349 c_k= 0.22136508315390419 a_k= 0.03063255326460758 g= 1.0883856974968016 E_A= (-2.9579349934609303+0j) E_B= (-3.4397961743207293+0j) E_f= -4.17159003289224\n",
      "k= 350 c_k= 0.22130130378856946 a_k= 0.030615478560069673 g= 0.8807857252679854 E_A= (-3.20425645097266+0j) E_B= (-3.594094509692992+0j) E_f= -4.168932979740097\n",
      "k= 351 c_k= 0.22123772417027196 a_k= 0.030598460566579378 g= 1.4978904550448475 E_A= (-3.287183256869946+0j) E_B= (-3.949963007530936+0j) E_f= -4.1693224039343395\n",
      "k= 352 c_k= 0.22117434310863096 a_k= 0.030581498939897738 g= -2.0390714248582666 E_A= (-3.6806560459633877+0j) E_B= (-2.778675480074173+0j) E_f= -4.2096074324046615\n",
      "k= 353 c_k= 0.2211111594237067 a_k= 0.030564593338816344 g= 2.145501706099846 E_A= (-2.590074159983666+0j) E_B= (-3.5388628995462215+0j) E_f= -4.21099518829733\n",
      "k= 354 c_k= 0.2210481719458794 a_k= 0.030547743425122433 g= -0.3505174591823409 E_A= (-3.7465235138220887+0j) E_B= (-3.591561026647347+0j) E_f= -4.21638883916369\n",
      "k= 355 c_k= 0.22098537951573047 a_k= 0.030530948863564448 g= -1.7518011547227963 E_A= (-3.838239256251708+0j) E_B= (-3.063994370226684+0j) E_f= -4.199716874157525\n",
      "k= 356 c_k= 0.22092278098392504 a_k= 0.030514209321818118 g= 0.6374505478434142 E_A= (-3.315259637010744+0j) E_B= (-3.596914332549331+0j) E_f= -4.209273278139647\n"
     ]
    },
    {
     "name": "stdout",
     "output_type": "stream",
     "text": [
      "k= 357 c_k= 0.2208603752110963 a_k= 0.03049752447045299 g= -2.7307244108171846 E_A= (-3.6154859784202493+0j) E_B= (-2.409268342477883+0j) E_f= -4.192580311487915\n",
      "k= 358 c_k= 0.22079816106773162 a_k= 0.030480893982899465 g= -0.7019060004733805 E_A= (-3.5627342079523716+0j) E_B= (-3.252775099658514+0j) E_f= -4.208143285994193\n",
      "k= 359 c_k= 0.22073613743405993 a_k= 0.03046431753541627 g= 1.3998679645328398 E_A= (-3.2525838875287127+0j) E_B= (-3.87058678234603+0j) E_f= -4.185020836297305\n",
      "k= 360 c_k= 0.22067430319994108 a_k= 0.030447794807058403 g= -0.163702381272394 E_A= (-3.246739746136412+0j) E_B= (-3.1744899282974988+0j) E_f= -4.18846877207436\n",
      "k= 361 c_k= 0.2206126572647566 a_k= 0.030431325479645503 g= 0.42617082694273084 E_A= (-3.3102750016701856+0j) E_B= (-3.4983123588312948+0j) E_f= -4.2046278599092135\n",
      "k= 362 c_k= 0.2205511985373019 a_k= 0.030414909237730707 g= 0.2051925085518175 E_A= (-2.60921465148628+0j) E_B= (-2.699725558870238+0j) E_f= -4.203625057483105\n",
      "k= 363 c_k= 0.22048992593568012 a_k= 0.030398545768569894 g= 1.3702118118716742 E_A= (-3.0938000805844927+0j) E_B= (-3.6980358824160517+0j) E_f= -4.223151761809852\n",
      "k= 364 c_k= 0.22042883838719754 a_k= 0.030382234762091377 g= 2.2964114438782826 E_A= (-2.589761475508579+0j) E_B= (-3.6021520895748926+0j) E_f= -4.197984713712428\n",
      "k= 365 c_k= 0.2203679348282601 a_k= 0.030365975910866018 g= 1.1339111976452398 E_A= (-2.744616550025225+0j) E_B= (-3.244371887832666+0j) E_f= -4.140088697152711\n",
      "k= 366 c_k= 0.22030721420427177 a_k= 0.030349768910077738 g= -1.3042136169436997 E_A= (-3.2714798909946197+0j) E_B= (-2.6968245536423323+0j) E_f= -4.115011248150481\n",
      "k= 367 c_k= 0.22024667546953405 a_k= 0.030333613457494468 g= 0.09464552817506541 E_A= (-3.645117698922629+0j) E_B= (-3.6868084247798616+0j) E_f= -4.1149348577280795\n",
      "k= 368 c_k= 0.22018631758714713 a_k= 0.030317509253439453 g= 0.7345576415976586 E_A= (-2.9997579422321587+0j) E_B= (-3.3232370265499345+0j) E_f= -4.110434581676712\n",
      "k= 369 c_k= 0.220126139528912 a_k= 0.03030145600076298 g= 1.7743938005424063 E_A= (-2.679804628009772+0j) E_B= (-3.4609855426446403+0j) E_f= -4.056450787944134\n",
      "k= 370 c_k= 0.22006614027523438 a_k= 0.030285453404814502 g= 0.0641657845252071 E_A= (-3.471905237696225+0j) E_B= (-3.5001466707726143+0j) E_f= -4.055212261460289\n",
      "k= 371 c_k= 0.2200063188150296 a_k= 0.03026950117341509 g= 0.8656648857714192 E_A= (-2.7299783565675826+0j) E_B= (-3.1108818462595886+0j) E_f= -4.0271856120899985\n",
      "k= 372 c_k= 0.219946674145629 a_k= 0.030253599016830317 g= 2.3915320945834817 E_A= (-2.9553395883765647+0j) E_B= (-4.007358649008898+0j) E_f= -4.163752540037949\n",
      "k= 373 c_k= 0.21988720527268746 a_k= 0.030237746647743508 g= -0.0852028049918499 E_A= (-3.889629494138936+0j) E_B= (-3.852159480796833+0j) E_f= -4.163251303626035\n",
      "k= 374 c_k= 0.2198279112100924 a_k= 0.030221943781229277 g= 2.562009353382867 E_A= (-2.478688409658803+0j) E_B= (-3.605090738968553+0j) E_f= -4.180686006834932\n",
      "k= 375 c_k= 0.21976879097987378 a_k= 0.030206190134727515 g= -0.39825646027193384 E_A= (-3.8242136119220342+0j) E_B= (-3.64916493037426+0j) E_f= -4.186410461932095\n",
      "k= 376 c_k= 0.2197098436121154 a_k= 0.030190485428017683 g= 1.302859219941678 E_A= (-2.807631620790235+0j) E_B= (-3.3801336117142124+0j) E_f= -4.181158398267315\n",
      "k= 377 c_k= 0.21965106814486746 a_k= 0.03017482938319344 g= 0.28520731664583077 E_A= (-3.298462193948639+0j) E_B= (-3.4237543774366155+0j) E_f= -4.189904079434215\n",
      "k= 378 c_k= 0.2195924636240603 a_k= 0.03015922172463764 g= 0.8745643986548768 E_A= (-3.1333443410015414+0j) E_B= (-3.51743984279858+0j) E_f= -4.219261340453721\n",
      "k= 379 c_k= 0.21953402910341913 a_k= 0.03014366217899764 g= 0.20627856776116327 E_A= (-3.330417161613914+0j) E_B= (-3.4209874918104957+0j) E_f= -4.21645542471053\n",
      "k= 380 c_k= 0.21947576364438018 a_k= 0.030128150475160938 g= -0.6003722680328655 E_A= (-3.398880241980927+0j) E_B= (-3.1353459179860836+0j) E_f= -4.206279780995623\n",
      "k= 381 c_k= 0.21941766631600768 a_k= 0.030112686344231167 g= -2.0487206290957007 E_A= (-3.7063361539522868+0j) E_B= (-2.807285155213003+0j) E_f= -4.180748335435782\n",
      "k= 382 c_k= 0.21935973619491225 a_k= 0.030097269519504345 g= -0.6033039517021906 E_A= (-3.618006275413139+0j) E_B= (-3.3533250840316575+0j) E_f= -4.200284566615222\n",
      "k= 383 c_k= 0.21930197236517004 a_k= 0.03008189973644551 g= 1.4755621577517761 E_A= (-3.3689063412924245+0j) E_B= (-4.016093724377166+0j) E_f= -4.234631768479644\n",
      "k= 384 c_k= 0.21924437391824317 a_k= 0.030066576732665596 g= 1.462525772450747 E_A= (-2.6355243312499326+0j) E_B= (-3.2768254258904506+0j) E_f= -4.203019951120953\n",
      "k= 385 c_k= 0.21918693995290123 a_k= 0.030051300247898677 g= -0.20046105067119765 E_A= (-3.5932363858295475+0j) E_B= (-3.505359497276821+0j) E_f= -4.199148118092326\n",
      "k= 386 c_k= 0.2191296695751437 a_k= 0.030036070023979445 g= 0.9343192926036513 E_A= (-3.384797369543092+0j) E_B= (-3.794271525274932+0j) E_f= -4.201078395431657\n",
      "k= 387 c_k= 0.21907256189812344 a_k= 0.03002088580482105 g= -1.362405707020561 E_A= (-3.471135815087992+0j) E_B= (-2.874204397924755+0j) E_f= -4.280273610175167\n",
      "k= 388 c_k= 0.21901561604207126 a_k= 0.03000574733639316 g= 0.12205521936162589 E_A= (-3.6659521162966096+0j) E_B= (-3.719416114415883+0j) E_f= -4.280232338644236\n",
      "k= 389 c_k= 0.21895883113422124 a_k= 0.029990654366700363 g= 0.20975103082159027 E_A= (-3.5762483314640976+0j) E_B= (-3.6681020125398844+0j) E_f= -4.283519512150289\n",
      "k= 390 c_k= 0.2189022063087374 a_k= 0.02997560664576083 g= -0.24209035890329816 E_A= (-3.980108124053199+0j) E_B= (-3.8741198966731867+0j) E_f= -4.288191264147002\n",
      "k= 391 c_k= 0.218845740706641 a_k= 0.02996060392558522 g= -0.06597082641858144 E_A= (-3.6923028408311067+0j) E_B= (-3.6634279720858993+0j) E_f= -4.286989171684797\n",
      "k= 392 c_k= 0.21878943347573884 a_k= 0.02994564596015593 g= 1.3290586110560187 E_A= (-3.167717470044038+0j) E_B= (-3.7492854311820354+0j) E_f= -4.269768027812603\n",
      "k= 393 c_k= 0.21873328377055276 a_k= 0.029930732505406555 g= 0.6408440739403658 E_A= (-3.7748211761557093+0j) E_B= (-4.05516903351146+0j) E_f= -4.275366157957301\n",
      "k= 394 c_k= 0.21867729075224962 a_k= 0.02991586331920161 g= -0.1685195137111647 E_A= (-3.0702730426623637+0j) E_B= (-2.9965702612678755+0j) E_f= -4.280446595727634\n",
      "k= 395 c_k= 0.2186214535885725 a_k= 0.029901038161316562 g= 0.44805508079320866 E_A= (-3.467992854884895+0j) E_B= (-3.663901760986408+0j) E_f= -4.261340328655764\n",
      "k= 396 c_k= 0.2185657714537727 a_k= 0.029886256793418064 g= 1.7718405666627093 E_A= (-3.096844295422917+0j) E_B= (-3.871371696114367+0j) E_f= -4.245726705135024\n",
      "k= 397 c_k= 0.21851024352854267 a_k= 0.02987151897904447 g= -1.3190141395428856 E_A= (-3.3895239632900007+0j) E_B= (-2.8130877615917864+0j) E_f= -4.2563935874799945\n",
      "k= 398 c_k= 0.2184548689999496 a_k= 0.029856824483586602 g= -0.3764669500864979 E_A= (-3.20719170539741+0j) E_B= (-3.0427096288694973+0j) E_f= -4.257567954960397\n",
      "k= 399 c_k= 0.21839964706136994 a_k= 0.029842173074268723 g= 0.05155300081550754 E_A= (-3.1299076217549455+0j) E_B= (-3.1524259361210683+0j) E_f= -4.257937965387644\n",
      "k= 400 c_k= 0.2183445769124251 a_k= 0.029827564520129805 g= 0.930253424114857 E_A= (-3.0117384712904123+0j) E_B= (-3.4179700519097986+0j) E_f= -4.241695125284727\n",
      "k= 401 c_k= 0.2182896577589173 a_k= 0.029812998592004987 g= 0.12611366076318073 E_A= (-3.3070249364607114+0j) E_B= (-3.3620835521541492+0j) E_f= -4.236691292717808\n",
      "k= 402 c_k= 0.21823488881276693 a_k= 0.029798475062507324 g= 1.0115737898818618 E_A= (-2.836825153475352+0j) E_B= (-3.2783465405969068+0j) E_f= -4.2117714133271695\n",
      "k= 403 c_k= 0.2181802692919501 a_k= 0.029783993706009666 g= -0.5999893783759382 E_A= (-3.780136895701872+0j) E_B= (-3.518325207409128+0j) E_f= -4.203441721986576\n",
      "k= 404 c_k= 0.2181257984204375 a_k= 0.029769554298626894 g= 0.19362862953949714 E_A= (-3.3754501556434082+0j) E_B= (-3.459920954474124+0j) E_f= -4.200908759213124\n",
      "k= 405 c_k= 0.2180714754281335 a_k= 0.029755156618198247 g= 0.1967187848948559 E_A= (-3.43680922327684+0j) E_B= (-3.5226067346097416+0j) E_f= -4.203434560673597\n",
      "k= 406 c_k= 0.2180172995508166 a_k= 0.02974080044427 g= -0.049465622862896755 E_A= (-3.181032148613842+0j) E_B= (-3.1594634255795064+0j) E_f= -4.20596256307403\n",
      "k= 407 c_k= 0.21796327003008015 a_k= 0.029726485558078233 g= 0.9985336100701946 E_A= (-3.0511020544631284+0j) E_B= (-3.4863893562348096+0j) E_f= -4.204221593602321\n"
     ]
    },
    {
     "name": "stdout",
     "output_type": "stream",
     "text": [
      "k= 408 c_k= 0.2179093861132739 a_k= 0.0297122117425319 g= 0.6331605479343181 E_A= (-3.3283670592498744+0j) E_B= (-3.604310311872897+0j) E_f= -4.212748630990658\n",
      "k= 409 c_k= 0.21785564705344662 a_k= 0.029697978782196086 g= 0.18165138189782398 E_A= (-3.04956957670887+0j) E_B= (-3.1287171353918763+0j) E_f= -4.209659504458272\n",
      "k= 410 c_k= 0.2178020521092889 a_k= 0.029683786463275453 g= 0.9908793922681843 E_A= (-2.8608022273781155+0j) E_B= (-3.2924333574357467+0j) E_f= -4.231642217791055\n",
      "k= 411 c_k= 0.21774860054507708 a_k= 0.0296696345735979 g= 1.3529799611929278 E_A= (-3.1128097621072794+0j) E_B= (-3.702028748337865+0j) E_f= -4.219379892206282\n",
      "k= 412 c_k= 0.21769529163061768 a_k= 0.02965552290259843 g= -0.679766109854539 E_A= (-3.622123407630825+0j) E_B= (-3.326159644580036+0j) E_f= -4.216555495815145\n",
      "k= 413 c_k= 0.21764212464119265 a_k= 0.029641451241303227 g= -0.8945604212130749 E_A= (-3.6520469463487952+0j) E_B= (-3.2626588849633276+0j) E_f= -4.237769981190786\n",
      "k= 414 c_k= 0.217589098857505 a_k= 0.029627419382313894 g= 1.7375881239496092 E_A= (-3.3057258151764195+0j) E_B= (-4.061886283327816+0j) E_f= -4.267573112504093\n",
      "k= 415 c_k= 0.2175362135656255 a_k= 0.029613427119791907 g= -0.33921719214386353 E_A= (-3.70479486706311+0j) E_B= (-3.5572108199524313+0j) E_f= -4.271835491545917\n",
      "k= 416 c_k= 0.21748346805693974 a_k= 0.029599474249443248 g= 0.2927450526024193 E_A= (-3.1719284430946364+0j) E_B= (-3.299262861687607+0j) E_f= -4.282855866065786\n",
      "k= 417 c_k= 0.217430861628096 a_k= 0.029585560568503255 g= -0.05962502618625826 E_A= (-3.2067629336408707+0j) E_B= (-3.180834292004319+0j) E_f= -4.283821896336967\n",
      "k= 418 c_k= 0.2173783935809535 a_k= 0.029571685875721603 g= 0.8296179429751596 E_A= (-2.824183265520779+0j) E_B= (-3.1848652969805293+0j) E_f= -4.27219398800303\n",
      "k= 419 c_k= 0.21732606322253178 a_k= 0.02955784997134751 g= -0.4207403795602345 E_A= (-3.8575902065659093+0j) E_B= (-3.6747145059087503+0j) E_f= -4.269673597569543\n",
      "k= 420 c_k= 0.21727386986496003 a_k= 0.029544052657115103 g= 0.14816508377593607 E_A= (-3.045931242783957+0j) E_B= (-3.110316045045684+0j) E_f= -4.264731158929673\n",
      "k= 421 c_k= 0.21722181282542763 a_k= 0.02953029373622897 g= 0.94550843076553 E_A= (-2.9015769754041516+0j) E_B= (-3.312347086149379+0j) E_f= -4.267343609185801\n",
      "k= 422 c_k= 0.217169891426135 a_k= 0.02951657301334987 g= -0.011653973496136179 E_A= (-3.2367823349427667+0j) E_B= (-3.231720550625089+0j) E_f= -4.2678873676326\n",
      "k= 423 c_k= 0.21711810499424491 a_k= 0.029502890294580638 g= -0.8530824633799238 E_A= (-3.4950117243099736+0j) E_B= (-3.124572428604231+0j) E_f= -4.237964631642466\n",
      "k= 424 c_k= 0.21706645286183476 a_k= 0.02948924538745223 g= 0.9064143626426634 E_A= (-3.061017117451781+0j) E_B= (-3.454521418495508+0j) E_f= -4.212746459797495\n",
      "k= 425 c_k= 0.2170149343658492 a_k= 0.029475638100909973 g= -0.5012510764868258 E_A= (-3.59413753834483+0j) E_B= (-3.3765795994156305+0j) E_f= -4.218493708953009\n",
      "k= 426 c_k= 0.21696354884805308 a_k= 0.029462068245299924 g= 0.9005170913311125 E_A= (-3.129959043157256+0j) E_B= (-3.520717811024305+0j) E_f= -4.216232179767333\n",
      "k= 427 c_k= 0.21691229565498554 a_k= 0.029448535632355454 g= 1.5048205310617617 E_A= (-3.0412636420679773+0j) E_B= (-3.6940917939506996+0j) E_f= -4.233172904179779\n",
      "k= 428 c_k= 0.2168611741379142 a_k= 0.029435040075183935 g= 0.4805238725632339 E_A= (-3.461674286187158+0j) E_B= (-3.6700882285978786+0j) E_f= -4.233298799842821\n",
      "k= 429 c_k= 0.21681018365278987 a_k= 0.029421581388253626 g= -1.0972418295614863 E_A= (-3.471401307088909+0j) E_B= (-2.995614901931411+0j) E_f= -4.224009709675993\n",
      "k= 430 c_k= 0.2167593235602022 a_k= 0.029408159387380693 g= 0.8774345259298149 E_A= (-3.033446657597836+0j) E_B= (-3.4138308862156626+0j) E_f= -4.2180630061837245\n",
      "k= 431 c_k= 0.21670859322533542 a_k= 0.02939477388971638 g= 0.3680612452503754 E_A= (-3.0464265426993187+0j) E_B= (-3.2059506120572667+0j) E_f= -4.221857372885986\n",
      "k= 432 c_k= 0.21665799201792482 a_k= 0.029381424713734346 g= 0.35401384667303254 E_A= (-3.095260204922867+0j) E_B= (-3.2486600632563083+0j) E_f= -4.220155441721195\n",
      "k= 433 c_k= 0.21660751931221375 a_k= 0.029368111679218135 g= -0.642089845499983 E_A= (-3.9489684380427796+0j) E_B= (-3.670805460824152+0j) E_f= -4.233863686541021\n",
      "k= 434 c_k= 0.21655717448691097 a_k= 0.029354834607248807 g= 0.5292829296746507 E_A= (-3.0075594557244583+0j) E_B= (-3.236799487233452+0j) E_f= -4.2368841818319645\n",
      "k= 435 c_k= 0.21650695692514868 a_k= 0.029341593320192687 g= -0.14750286997997877 E_A= (-3.5249736566782683+0j) E_B= (-3.461102861644086+0j) E_f= -4.232153788713321\n",
      "k= 436 c_k= 0.21645686601444106 a_k= 0.029328387641689303 g= 1.0572897048807846 E_A= (-2.640012827492054+0j) E_B= (-3.09772805946771+0j) E_f= -4.225310716792894\n",
      "k= 437 c_k= 0.21640690114664293 a_k= 0.029315217396639417 g= 2.0191949167412906 E_A= (-2.7868810822926564+0j) E_B= (-3.6608165117787292+0j) E_f= -4.215897336906003\n",
      "k= 438 c_k= 0.2163570617179095 a_k= 0.0293020824111932 g= -0.6705591080527835 E_A= (-3.5164339654844197+0j) E_B= (-3.2262735688314548+0j) E_f= -4.1945559397459355\n",
      "k= 439 c_k= 0.2163073471286559 a_k= 0.0292889825127386 g= -1.0208175517874696 E_A= (-3.815979426560994+0j) E_B= (-3.3743587535019604+0j) E_f= -4.196308271216015\n",
      "k= 440 c_k= 0.21625775678351783 a_k= 0.029275917529889763 g= 0.019027084772524867 E_A= (-3.2925868349377647+0j) E_B= (-3.300816344279837+0j) E_f= -4.196519839630131\n",
      "k= 441 c_k= 0.21620829009131218 a_k= 0.029262887292475642 g= -0.509963070105044 E_A= (-3.4295203618535015+0j) E_B= (-3.2090038750592464+0j) E_f= -4.1840873597013655\n",
      "k= 442 c_k= 0.2161589464649983 a_k= 0.02924989163152873 g= -0.6060706184857804 E_A= (-3.2728695419263323+0j) E_B= (-3.01085436917578+0j) E_f= -4.196523854837807\n",
      "k= 443 c_k= 0.2161097253216398 a_k= 0.029236930379273888 g= -0.2935614654833348 E_A= (-3.1504892484262808+0j) E_B= (-3.0236062730850377+0j) E_f= -4.2011191804788846\n",
      "k= 444 c_k= 0.21606062608236656 a_k= 0.029224003369117353 g= 0.3623663797664045 E_A= (-3.1763680684134363+0j) E_B= (-3.3329542821804963+0j) E_f= -4.187072867238677\n",
      "k= 445 c_k= 0.21601164817233734 a_k= 0.029211110435635828 g= 2.0224573808705952 E_A= (-3.1675722781009066+0j) E_B= (-4.041320982501238+0j) E_f= -4.214166260579509\n",
      "k= 446 c_k= 0.2159627910207029 a_k= 0.029198251414565723 g= -0.6970271698888116 E_A= (-3.480433546824047+0j) E_B= (-3.1793696807711482+0j) E_f= -4.236014303489697\n",
      "k= 447 c_k= 0.21591405406056924 a_k= 0.029185426142792504 g= 1.5348882423954768 E_A= (-2.913679810451785+0j) E_B= (-3.576487696342803+0j) E_f= -4.2623975097584506\n",
      "k= 448 c_k= 0.21586543672896158 a_k= 0.029172634458340153 g= 1.1614596624384592 E_A= (-3.0235524804350256+0j) E_B= (-3.524990474985726+0j) E_f= -4.2570759581890005\n",
      "k= 449 c_k= 0.21581693846678845 a_k= 0.0291598762003608 g= -0.07782569904655251 E_A= (-3.2174166198863414+0j) E_B= (-3.183824411681812+0j) E_f= -4.259592095217449\n",
      "k= 450 c_k= 0.21576855871880654 a_k= 0.029147151209124384 g= 0.10292113710453356 E_A= (-3.1364329122389796+0j) E_B= (-3.1808472030684714+0j) E_f= -4.25555387036841\n",
      "k= 451 c_k= 0.2157202969335856 a_k= 0.029134459326008517 g= -0.8238436677066123 E_A= (-3.701240308865561+0j) E_B= (-3.3458007076165117+0j) E_f= -4.24787750241139\n",
      "k= 452 c_k= 0.21567215256347394 a_k= 0.029121800393488412 g= 1.5840071230996506 E_A= (-2.840830592031378+0j) E_B= (-3.5240830438609327+0j) E_f= -4.2381568074499665\n",
      "k= 453 c_k= 0.2156241250645643 a_k= 0.029109174255126935 g= 1.236395514608732 E_A= (-2.711070959212713+0j) E_B= (-3.244264361355232+0j) E_f= -4.250714953755714\n",
      "k= 454 c_k= 0.21557621389665993 a_k= 0.02909658075556477 g= 0.17762588044715663 E_A= (-3.200504288923746+0j) E_B= (-3.2770881185174634+0j) E_f= -4.252588538351117\n",
      "k= 455 c_k= 0.21552841852324142 a_k= 0.0290840197405107 g= 0.27264942348394816 E_A= (-2.9486204812415164+0j) E_B= (-3.066147879351054+0j) E_f= -4.25497090365811\n",
      "k= 456 c_k= 0.21548073841143345 a_k= 0.029071491056731995 g= -1.4025175806006347 E_A= (-3.3974943942147418+0j) E_B= (-2.793063346409058+0j) E_f= -4.263933628455799\n",
      "k= 457 c_k= 0.2154331730319722 a_k= 0.029058994552044873 g= 0.10392084536058281 E_A= (-3.627371025272365+0j) E_B= (-3.6721470201927557+0j) E_f= -4.265035646378865\n",
      "k= 458 c_k= 0.21538572185917312 a_k= 0.029046530075305138 g= -2.0071152045365888 E_A= (-3.3118404671935933+0j) E_B= (-2.447232552826323+0j) E_f= -4.247198380091201\n"
     ]
    },
    {
     "name": "stdout",
     "output_type": "stream",
     "text": [
      "k= 459 c_k= 0.2153383843708989 a_k= 0.02903409747639885 g= 1.7007016182873929 E_A= (-3.104111134121296+0j) E_B= (-3.8365638116792566+0j) E_f= -4.252769762487621\n",
      "k= 460 c_k= 0.21529116004852789 a_k= 0.029021696606233136 g= -1.4471606863843183 E_A= (-3.1292757079185716+0j) E_B= (-2.506153902021964+0j) E_f= -4.263841882755239\n",
      "k= 461 c_k= 0.2152440483769229 a_k= 0.029009327316727104 g= -0.9024436727423112 E_A= (-3.650651930659965+0j) E_B= (-3.262160671553577+0j) E_f= -4.258949012578336\n",
      "k= 462 c_k= 0.21519704884440038 a_k= 0.02899698946080283 g= 0.5473184994586296 E_A= (-3.3883219768791237+0j) E_B= (-3.623884628602009+0j) E_f= -4.263626634230683\n",
      "k= 463 c_k= 0.21515016094269962 a_k= 0.02898468289237648 g= -0.3424370240697289 E_A= (-3.1902108628047285+0j) E_B= (-3.042860101122046+0j) E_f= -4.267530173139887\n",
      "k= 464 c_k= 0.21510338416695282 a_k= 0.02897240746634949 g= 1.1830214211922518 E_A= (-3.186729857473539+0j) E_B= (-3.695673679954442+0j) E_f= -4.240166948520372\n",
      "k= 465 c_k= 0.215056718015655 a_k= 0.028960163038599884 g= 0.7334981427249941 E_A= (-2.8860861769959882+0j) E_B= (-3.2015735834860197+0j) E_f= -4.2785580968046\n",
      "k= 466 c_k= 0.21501016199063455 a_k= 0.028947949465973646 g= 0.32117607813012133 E_A= (-2.7429286228832845+0j) E_B= (-2.8810408640558327+0j) E_f= -4.283681721447529\n",
      "k= 467 c_k= 0.214963715597024 a_k= 0.028935766606276232 g= -2.530696745759152 E_A= (-3.539443327304066+0j) E_B= (-2.451427376268697+0j) E_f= -4.223172750868455\n",
      "k= 468 c_k= 0.21491737834323096 a_k= 0.02892361431826411 g= -0.4817278500993723 E_A= (-3.404449417622633+0j) E_B= (-3.197386044386077+0j) E_f= -4.229255798723075\n",
      "k= 469 c_k= 0.21487114974090968 a_k= 0.028911492461636476 g= -0.7359105421035715 E_A= (-3.8610638465750524+0j) E_B= (-3.5448119579985513+0j) E_f= -4.232914241534189\n",
      "k= 470 c_k= 0.2148250293049327 a_k= 0.028899400897026965 g= -1.0410598268984042 E_A= (-3.152672659156584+0j) E_B= (-2.705381243513308+0j) E_f= -4.256848810575139\n",
      "k= 471 c_k= 0.21477901655336276 a_k= 0.028887339485995544 g= -0.11556084556535572 E_A= (-3.4601650211119077+0j) E_B= (-3.4105249315867034+0j) E_f= -4.259137899753725\n",
      "k= 472 c_k= 0.21473311100742531 a_k= 0.028875308091020416 g= 1.8882879939961015 E_A= (-2.8213901334259637+0j) E_B= (-3.6323460442834703+0j) E_f= -4.224049663643513\n",
      "k= 473 c_k= 0.21468731219148093 a_k= 0.028863306575490053 g= -0.901301055235817 E_A= (-2.9152203886724464+0j) E_B= (-2.5282245866246003+0j) E_f= -4.190941020173311\n",
      "k= 474 c_k= 0.21464161963299838 a_k= 0.028851334803695325 g= -0.32578646331093675 E_A= (-3.3345085242904915+0j) E_B= (-3.1946538560113598+0j) E_f= -4.19204524423312\n",
      "k= 475 c_k= 0.21459603286252774 a_k= 0.028839392640821658 g= -0.559970503666944 E_A= (-3.416201842068152+0j) E_B= (-3.1758669448542367+0j) E_f= -4.223311628783624\n",
      "k= 476 c_k= 0.21455055141367382 a_k= 0.02882747995294134 g= 2.178890169309789 E_A= (-2.6995118175943045+0j) E_B= (-3.634475992184801+0j) E_f= -4.196389092735074\n",
      "k= 477 c_k= 0.21450517482307005 a_k= 0.028815596607005854 g= -0.10354639569915818 E_A= (-3.439103629939108+0j) E_B= (-3.3946811545156144+0j) E_f= -4.194399993611385\n",
      "k= 478 c_k= 0.21445990263035244 a_k= 0.02880374247083835 g= 1.383686992250644 E_A= (-2.991141607281002+0j) E_B= (-3.584632362538919+0j) E_f= -4.186788455050124\n",
      "k= 479 c_k= 0.21441473437813402 a_k= 0.028791917413126145 g= -0.42921341845847266 E_A= (-3.6149395601962224+0j) E_B= (-3.430880197975614+0j) E_f= -4.184933408679042\n",
      "k= 480 c_k= 0.21436966961197923 a_k= 0.028780121303413318 g= -0.9690659543014276 E_A= (-3.5248805450935548+0j) E_B= (-3.109403848181926+0j) E_f= -4.156665081287004\n",
      "k= 481 c_k= 0.21432470788037897 a_k= 0.028768354012093406 g= -1.8684437465395287 E_A= (-3.518851382960176+0j) E_B= (-2.7179440626241655+0j) E_f= -4.19517415732876\n",
      "k= 482 c_k= 0.21427984873472566 a_k= 0.02875661541040215 g= -3.3743082845045715 E_A= (-3.9562376342524024+0j) E_B= (-2.51014509667646+0j) E_f= -4.237656138040302\n",
      "k= 483 c_k= 0.21423509172928862 a_k= 0.02874490537041033 g= -0.5887926223501493 E_A= (-3.4087162335536596+0j) E_B= (-3.1564361506362344+0j) E_f= -4.238683267733355\n",
      "k= 484 c_k= 0.21419043642118973 a_k= 0.02873322376501667 g= 2.073457596738836 E_A= (-2.9543207479924973+0j) E_B= (-3.8425503230851423+0j) E_f= -4.280351082812502\n",
      "k= 485 c_k= 0.2141458823703794 a_k= 0.028721570467940813 g= 0.7532314768720464 E_A= (-3.2135402629095706+0j) E_B= (-3.5361431013973874+0j) E_f= -4.269441938485764\n",
      "k= 486 c_k= 0.2141014291396126 a_k= 0.02870994535371639 g= 1.2936023911844095 E_A= (-3.0826973484420614+0j) E_B= (-3.636621589824066+0j) E_f= -4.276774522291983\n",
      "k= 487 c_k= 0.2140570762944254 a_k= 0.028698348297684147 g= -0.9680216430709666 E_A= (-3.575091914924042+0j) E_B= (-3.160668149513048+0j) E_f= -4.265776954880913\n",
      "k= 488 c_k= 0.21401282340311154 a_k= 0.028686779175985135 g= -0.2520089107643419 E_A= (-3.371565083541971+0j) E_B= (-3.263698806511132+0j) E_f= -4.268151740215076\n",
      "k= 489 c_k= 0.2139686700366993 a_k= 0.028675237865553982 g= -0.2737616702871142 E_A= (-3.2675568556987487+0j) E_B= (-3.1504040147020302+0j) E_f= -4.273161189820323\n",
      "k= 490 c_k= 0.21392461576892882 a_k= 0.028663724244112235 g= 0.09657308282108701 E_A= (-3.5491129822137912+0j) E_B= (-3.590431701486035+0j) E_f= -4.276503801706716\n",
      "k= 491 c_k= 0.21388066017622928 a_k= 0.02865223819016179 g= 0.02809249164300634 E_A= (-3.438553472448311+0j) E_B= (-3.4505703537655137+0j) E_f= -4.275967590876093\n",
      "k= 492 c_k= 0.21383680283769652 a_k= 0.028640779582978317 g= -0.09246529037350841 E_A= (-3.4831188785252496+0j) E_B= (-3.443573914391389+0j) E_f= -4.277391847353309\n",
      "k= 493 c_k= 0.21379304333507107 a_k= 0.02862934830260486 g= 0.8399051547748707 E_A= (-2.7987083902738163+0j) E_B= (-3.1578401485780834+0j) E_f= -4.264460553069385\n",
      "k= 494 c_k= 0.213749381252716 a_k= 0.02861794422984543 g= -1.8920494009060207 E_A= (-3.7807880383106083+0j) E_B= (-2.9719392608241404+0j) E_f= -4.288680241567635\n",
      "k= 495 c_k= 0.21370581617759538 a_k= 0.028606567246258666 g= 0.6802309651656065 E_A= (-3.180970812197217+0j) E_B= (-3.4717094393971957+0j) E_f= -4.276528942351585\n",
      "k= 496 c_k= 0.2136623476992526 a_k= 0.0285952172341516 g= 1.0167359626797365 E_A= (-2.838837324349412+0j) E_B= (-3.2733137099022365+0j) E_f= -4.251897068784617\n",
      "k= 497 c_k= 0.21361897540978944 a_k= 0.028583894076573444 g= 0.9378970690921816 E_A= (-3.40131427581925+0j) E_B= (-3.8020194976978825+0j) E_f= -4.250026924956592\n",
      "k= 498 c_k= 0.2135756989038446 a_k= 0.028572597657309476 g= -0.5957880994656738 E_A= (-3.3205803622886716+0j) E_B= (-3.0660886428047225+0j) E_f= -4.251625931142534\n",
      "k= 499 c_k= 0.21353251777857327 a_k= 0.028561327860874963 g= -0.1594626503834142 E_A= (-3.941784783413232+0j) E_B= (-3.873683860957202+0j) E_f= -4.252901605190499\n",
      "k= 500 c_k= 0.21348943163362624 a_k= 0.028550084572509155 g= 0.3478685313824156 E_A= (-3.6487315913496836+0j) E_B= (-3.797264101445796+0j) E_f= -4.24785717523644\n",
      "k= 501 c_k= 0.21344644007112965 a_k= 0.02853886767816934 g= 1.270720911733586 E_A= (-3.427437700849431+0j) E_B= (-3.969899410716379+0j) E_f= -4.27065561451645\n",
      "k= 502 c_k= 0.21340354269566467 a_k= 0.028527677064524973 g= -0.585572012640583 E_A= (-3.2975033123687374+0j) E_B= (-3.0475770283668755+0j) E_f= -4.253800616325847\n",
      "k= 503 c_k= 0.21336073911424763 a_k= 0.028516512618951825 g= 1.1529493244715294 E_A= (-3.45995164274128+0j) E_B= (-3.951939882802316+0j) E_f= -4.247777892792382\n",
      "k= 504 c_k= 0.21331802893631016 a_k= 0.028505374229526235 g= 1.4878028641424497 E_A= (-3.0373560406982207+0j) E_B= (-3.672106389547549+0j) E_f= -4.217542127335654\n",
      "k= 505 c_k= 0.21327541177367956 a_k= 0.0284942617850194 g= -0.44728059045952834 E_A= (-3.451879187874786+0j) E_B= (-3.261091283657525+0j) E_f= -4.209928993997629\n",
      "k= 506 c_k= 0.21323288724055947 a_k= 0.028483175174891722 g= 0.2602840948767469 E_A= (-2.8322073046903884+0j) E_B= (-2.9432095627971173+0j) E_f= -4.211555158581039\n",
      "k= 507 c_k= 0.2131904549535107 a_k= 0.02847211428928722 g= -1.1617209088405775 E_A= (-3.1951347443355447+0j) E_B= (-2.6997991261660874+0j) E_f= -4.233149418995485\n",
      "k= 508 c_k= 0.21314811453143206 a_k= 0.028461079019027974 g= 0.2770880239152666 E_A= (-3.3686551504082765+0j) E_B= (-3.4867767301218353+0j) E_f= -4.230608120332487\n",
      "k= 509 c_k= 0.21310586559554173 a_k= 0.028450069255608657 g= 0.895483795455634 E_A= (-3.5731423449350497+0j) E_B= (-3.9548080436497575+0j) E_f= -4.233597751607018\n"
     ]
    },
    {
     "name": "stdout",
     "output_type": "stream",
     "text": [
      "k= 510 c_k= 0.21306370776935854 a_k= 0.02843908489119112 g= -0.27711639298592405 E_A= (-3.4611066516444122+0j) E_B= (-3.343019759297909+0j) E_f= -4.237816388395619\n",
      "k= 511 c_k= 0.21302164067868354 a_k= 0.028428125818598996 g= -0.24765780177701083 E_A= (-3.4893726164464325+0j) E_B= (-3.3838596739236024+0j) E_f= -4.238626261514585\n",
      "k= 512 c_k= 0.21297966395158172 a_k= 0.028417191931312383 g= 0.9123756797383826 E_A= (-2.67149159346235+0j) E_B= (-3.0601265247989033+0j) E_f= -4.210353093595681\n",
      "k= 513 c_k= 0.21293777721836393 a_k= 0.028406283123462592 g= 0.09540003710910196 E_A= (-3.47808875903724+0j) E_B= (-3.518717302734363+0j) E_f= -4.209019720525186\n",
      "k= 514 c_k= 0.21289598011156907 a_k= 0.028395399289826914 g= -1.1066203705990185 E_A= (-3.5034077026070563+0j) E_B= (-3.0322176457868446+0j) E_f= -4.187222744248224\n",
      "k= 515 c_k= 0.2128542722659462 a_k= 0.028384540325823476 g= 0.43154456340354486 E_A= (-2.881125568583813+0j) E_B= (-3.064837776570987+0j) E_f= -4.196278337117036\n",
      "k= 516 c_k= 0.21281265331843718 a_k= 0.028373706127506105 g= -0.8792323795832713 E_A= (-3.700051950580722+0j) E_B= (-3.3258283994155233+0j) E_f= -4.182258077154876\n",
      "k= 517 c_k= 0.21277112290815914 a_k= 0.028362896591559297 g= 0.47566702635701336 E_A= (-3.4702995053081365+0j) E_B= (-3.67271591996487+0j) E_f= -4.183071983889449\n",
      "k= 518 c_k= 0.21272968067638734 a_k= 0.028352111615293166 g= -1.8714271725957834 E_A= (-4.002634343098362+0j) E_B= (-3.206418133427531+0j) E_f= -4.232736617686733\n",
      "k= 519 c_k= 0.21268832626653816 a_k= 0.028341351096638524 g= -0.24340720962058127 E_A= (-3.128316378578033+0j) E_B= (-3.024776634547213+0j) E_f= -4.227842326591799\n",
      "k= 520 c_k= 0.21264705932415226 a_k= 0.02833061493414193 g= -0.8082450996785827 E_A= (-3.3893518714772313+0j) E_B= (-3.0456099841576174+0j) E_f= -4.216516692788648\n",
      "k= 521 c_k= 0.21260587949687768 a_k= 0.028319903026960847 g= 1.8509111795647757 E_A= (-2.9048819869642037+0j) E_B= (-3.6919111853681486+0j) E_f= -4.224440603110278\n",
      "k= 522 c_k= 0.2125647864344536 a_k= 0.02830921527485881 g= -0.8766152408468031 E_A= (-3.6844224012154623+0j) E_B= (-3.3117473383038867+0j) E_f= -4.220573325398463\n",
      "k= 523 c_k= 0.21252377978869363 a_k= 0.028298551578200666 g= 0.33809638109396173 E_A= (-3.5570467780173995+0j) E_B= (-3.7007538197033343+0j) E_f= -4.226731698756671\n",
      "k= 524 c_k= 0.21248285921347 a_k= 0.028287911837947842 g= -0.4231438630690095 E_A= (-2.7186773538907163+0j) E_B= (-2.538855718123644+0j) E_f= -4.230723385433568\n",
      "k= 525 c_k= 0.21244202436469703 a_k= 0.028277295955653658 g= 0.5606331237625639 E_A= (-3.378946215617334+0j) E_B= (-3.61715028709338+0j) E_f= -4.255019501250205\n",
      "k= 526 c_k= 0.21240127490031557 a_k= 0.028266703833458716 g= -1.3467808307400269 E_A= (-3.777958175348245+0j) E_B= (-3.2058422444272696+0j) E_f= -4.246802715184728\n",
      "k= 527 c_k= 0.21236061048027716 a_k= 0.028256135374086284 g= -0.30258968243068995 E_A= (-3.5910534020771436+0j) E_B= (-3.4625371427051146+0j) E_f= -4.256419051947436\n",
      "k= 528 c_k= 0.2123200307665283 a_k= 0.028245590480837773 g= 0.4451205060827507 E_A= (-3.2535480268791535+0j) E_B= (-3.442564025971758+0j) E_f= -4.268896460931851\n",
      "k= 529 c_k= 0.21227953542299524 a_k= 0.02823506905758822 g= 0.6262765462020783 E_A= (-3.231403393635434+0j) E_B= (-3.497294782183624+0j) E_f= -4.26661733095531\n",
      "k= 530 c_k= 0.2122391241155684 a_k= 0.028224571008781837 g= 0.704834700663501 E_A= (-3.0468504555801372+0j) E_B= (-3.346037454610298+0j) E_f= -4.258061604422615\n",
      "k= 531 c_k= 0.21219879651208745 a_k= 0.028214096239427604 g= -0.2690246936546426 E_A= (-3.576809392416886+0j) E_B= (-3.4626359599657897+0j) E_f= -4.260970635856742\n",
      "k= 532 c_k= 0.2121585522823262 a_k= 0.028203644655094878 g= -1.0138564879444547 E_A= (-3.436634504626415+0j) E_B= (-3.0064378552177367+0j) E_f= -4.282435264242078\n",
      "k= 533 c_k= 0.21211839109797767 a_k= 0.02819321616190908 g= -1.62338211753675 E_A= (-3.6145105802841337+0j) E_B= (-2.9258121744658867+0j) E_f= -4.2627364804002426\n",
      "k= 534 c_k= 0.2120783126326395 a_k= 0.028182810666547396 g= 0.5155254425163839 E_A= (-3.379543836917568+0j) E_B= (-3.598207368853707+0j) E_f= -4.252382185201316\n",
      "k= 535 c_k= 0.2120383165617993 a_k= 0.028172428076234535 g= -1.255634282108666 E_A= (-3.9756942246585414+0j) E_B= (-3.4432090658673316+0j) E_f= -4.247355639734215\n",
      "k= 536 c_k= 0.21199840256282015 a_k= 0.028162068298738505 g= -0.8766746326641383 E_A= (-3.553239113912324+0j) E_B= (-3.181531870528035+0j) E_f= -4.2595937840623\n",
      "k= 537 c_k= 0.21195857031492646 a_k= 0.028151731242366473 g= -0.014379673624570629 E_A= (-3.2749507563076525+0j) E_B= (-3.268854966181534+0j) E_f= -4.259123923756647\n",
      "k= 538 c_k= 0.21191881949918953 a_k= 0.02814141681596061 g= 1.7585622406745067 E_A= (-2.765482695689937+0j) E_B= (-3.5108275638091193+0j) E_f= -4.264492317151782\n",
      "k= 539 c_k= 0.21187914979851377 a_k= 0.02813112492889401 g= -0.09573504334941932 E_A= (-3.3213880086255747+0j) E_B= (-3.280819489443977+0j) E_f= -4.266269344324594\n",
      "k= 540 c_k= 0.21183956089762268 a_k= 0.02812085549106665 g= 1.591063043616745 E_A= (-2.8001045153486346+0j) E_B= (-3.4742047083890473+0j) E_f= -4.231779595059766\n",
      "k= 541 c_k= 0.21180005248304504 a_k= 0.028110608412901358 g= 1.2790325083401775 E_A= (-3.2968076335790784+0j) E_B= (-3.838605938367019+0j) E_f= -4.256413191881188\n",
      "k= 542 c_k= 0.21176062424310133 a_k= 0.028100383605339854 g= -0.8848024510834891 E_A= (-3.297496117494623+0j) E_B= (-2.9227634787480916+0j) E_f= -4.232266243519319\n",
      "k= 543 c_k= 0.21172127586789022 a_k= 0.028090180979838807 g= 1.0820670177727414 E_A= (-3.3818589630002904+0j) E_B= (-3.840052182155106+0j) E_f= -4.221045973409808\n",
      "k= 544 c_k= 0.21168200704927512 a_k= 0.028080000448365932 g= 1.7597986420489915 E_A= (-3.1238047687976955+0j) E_B= (-3.8688401859007344+0j) E_f= -4.256783260340816\n",
      "k= 545 c_k= 0.2116428174808709 a_k= 0.028069841923396132 g= -0.3549478553312032 E_A= (-3.557676431516377+0j) E_B= (-3.4074321031942003+0j) E_f= -4.2490908702235615\n",
      "k= 546 c_k= 0.21160370685803084 a_k= 0.028059705317907656 g= -0.5819100814397312 E_A= (-3.742291410278232+0j) E_B= (-3.4960227496968206+0j) E_f= -4.257568515279199\n",
      "k= 547 c_k= 0.2115646748778336 a_k= 0.028049590545378325 g= -1.220744404359211 E_A= (-3.8544646716096995+0j) E_B= (-3.3379318855753173+0j) E_f= -4.251155949854993\n",
      "k= 548 c_k= 0.21152572123907018 a_k= 0.028039497519781766 g= 0.8400107371375402 E_A= (-3.216534638839943+0j) E_B= (-3.5719023928831053+0j) E_f= -4.256998876093661\n",
      "k= 549 c_k= 0.21148684564223127 a_k= 0.028029426155583684 g= -0.5910048033292385 E_A= (-3.729247707974712+0j) E_B= (-3.4792682247436963+0j) E_f= -4.255784936442677\n",
      "k= 550 c_k= 0.21144804778949466 a_k= 0.028019376367738193 g= 1.0573270514412378 E_A= (-3.5079137191038745+0j) E_B= (-3.955053200908419+0j) E_f= -4.251259925591349\n",
      "k= 551 c_k= 0.21140932738471244 a_k= 0.02800934807168414 g= 0.4001639077115569 E_A= (-3.494254725755642+0j) E_B= (-3.663451490901519+0j) E_f= -4.251913260865817\n",
      "k= 552 c_k= 0.21137068413339888 a_k= 0.027999341183341495 g= -1.6143369541222965 E_A= (-3.811491484784005+0j) E_B= (-3.129044471954691+0j) E_f= -4.249020288295395\n",
      "k= 553 c_k= 0.21133211774271785 a_k= 0.027989355619107772 g= 0.09243500637297024 E_A= (-3.1005396261754603+0j) E_B= (-3.139608597476183+0j) E_f= -4.249223003737684\n",
      "k= 554 c_k= 0.21129362792147077 a_k= 0.027979391295854465 g= 1.0232482464956765 E_A= (-3.2013873197520555+0j) E_B= (-3.633798988284765+0j) E_f= -4.267699691328419\n",
      "k= 555 c_k= 0.21125521438008454 a_k= 0.027969448130923537 g= -0.3083213417357048 E_A= (-3.949502827210708+0j) E_B= (-3.8192338449180445+0j) E_f= -4.2693421926065644\n",
      "k= 556 c_k= 0.21121687683059942 a_k= 0.027959526042123917 g= 0.060256528570794506 E_A= (-3.031554085782851+0j) E_B= (-3.057008477329605+0j) E_f= -4.27021337147606\n",
      "k= 557 c_k= 0.21117861498665738 a_k= 0.027949624947728062 g= -0.17134207154291495 E_A= (-3.3960907312678548+0j) E_B= (-3.3237231685530997+0j) E_f= -4.268752921665456\n",
      "k= 558 c_k= 0.2111404285634901 a_k= 0.027939744766468527 g= -1.0534039360603464 E_A= (-3.49301309616481+0j) E_B= (-3.048180779144312+0j) E_f= -4.25910263145809\n",
      "k= 559 c_k= 0.2111023172779075 a_k= 0.027929885417534554 g= 0.5891690160342709 E_A= (-3.3502871513873087+0j) E_B= (-3.599037040493667+0j) E_f= -4.249021409175516\n",
      "k= 560 c_k= 0.21106428084828605 a_k= 0.027920046820568735 g= -2.3290992853193715 E_A= (-4.024722574746388+0j) E_B= (-3.0415432433860077+0j) E_f= -4.252526528165987\n"
     ]
    },
    {
     "name": "stdout",
     "output_type": "stream",
     "text": [
      "k= 561 c_k= 0.2110263189945575 a_k= 0.02791022889566367 g= 1.4913173163367388 E_A= (-3.0176454429789357+0j) E_B= (-3.647059850417704+0j) E_f= -4.2577041894913865\n",
      "k= 562 c_k= 0.21098843143819737 a_k= 0.027900431563358658 g= 0.7074339293806206 E_A= (-3.095268903106463+0j) E_B= (-3.393789653318818+0j) E_f= -4.257478455489693\n",
      "k= 563 c_k= 0.21095061790221384 a_k= 0.027890654744636433 g= 2.4000294653725027 E_A= (-2.7494414177143103+0j) E_B= (-3.762016815122009+0j) E_f= -4.246391465046182\n",
      "k= 564 c_k= 0.21091287811113657 a_k= 0.027880898360919927 g= -1.5678592328579768 E_A= (-3.7355543100948134+0j) E_B= (-3.0741909035444244+0j) E_f= -4.254636215636407\n",
      "k= 565 c_k= 0.21087521179100568 a_k= 0.027871162334069048 g= -1.1879682976425154 E_A= (-3.8257842987891397+0j) E_B= (-3.324758166056408+0j) E_f= -4.257854257956797\n",
      "k= 566 c_k= 0.21083761866936074 a_k= 0.027861446586377493 g= -1.5349960793466173 E_A= (-3.6468836581865984+0j) E_B= (-2.9996138221141067+0j) E_f= -4.2440101985257925\n",
      "k= 567 c_k= 0.21080009847523 a_k= 0.02785175104056961 g= 0.22554576598820983 E_A= (-3.64882974425179+0j) E_B= (-3.7439198836137617+0j) E_f= -4.245871669308306\n",
      "k= 568 c_k= 0.2107626509391198 a_k= 0.02784207561979725 g= 1.795710682432576 E_A= (-2.5572564728960767+0j) E_B= (-3.314193960394448+0j) E_f= -4.201127009537194\n",
      "k= 569 c_k= 0.2107252757930036 a_k= 0.02783242024763669 g= 0.8794710277126067 E_A= (-3.121416116255106+0j) E_B= (-3.4920696659884967+0j) E_f= -4.210726280275651\n",
      "k= 570 c_k= 0.21068797277031165 a_k= 0.027822784848085542 g= -0.6196420671321119 E_A= (-3.8303411471121267+0j) E_B= (-3.5692388851775867+0j) E_f= -4.209475151001505\n",
      "k= 571 c_k= 0.21065074160592062 a_k= 0.027813169345559725 g= 1.4179980465655377 E_A= (-3.073459954348287+0j) E_B= (-3.6708646345578413+0j) E_f= -4.225441953869797\n",
      "k= 572 c_k= 0.21061358203614297 a_k= 0.027803573664890432 g= 0.19683048776965353 E_A= (-3.352160100032129+0j) E_B= (-3.4350704481983048+0j) E_f= -4.219188590166751\n",
      "k= 573 c_k= 0.2105764937987169 a_k= 0.027793997731321164 g= -0.22795951922524788 E_A= (-3.2715120641591784+0j) E_B= (-3.1755062315861906+0j) E_f= -4.221689731878613\n",
      "k= 574 c_k= 0.2105394766327961 a_k= 0.027784441470504753 g= -0.5998716502944587 E_A= (-3.2990150954316513+0j) E_B= (-3.0464217688319573+0j) E_f= -4.206860787237906\n",
      "k= 575 c_k= 0.2105025302789397 a_k= 0.027774904808500412 g= -0.9867394734600508 E_A= (-3.7753957499705626+0j) E_B= (-3.359973438191664+0j) E_f= -4.236486639662732\n",
      "k= 576 c_k= 0.21046565447910218 a_k= 0.027765387671770853 g= -0.7769395825090188 E_A= (-3.5329425898007343+0j) E_B= (-3.205904394353772+0j) E_f= -4.264098559932588\n",
      "k= 577 c_k= 0.2104288489766236 a_k= 0.02775588998717939 g= -0.8565471021744545 E_A= (-3.3628458425051333+0j) E_B= (-3.0023614008954675+0j) E_f= -4.230044873157079\n",
      "k= 578 c_k= 0.21039211351621967 a_k= 0.027746411681987063 g= -0.6696320940886824 E_A= (-3.298649248087588+0j) E_B= (-3.016878624980368+0j) E_f= -4.244512542574288\n",
      "k= 579 c_k= 0.21035544784397203 a_k= 0.02773695268384984 g= 0.5203847340914374 E_A= (-3.3919298463921157+0j) E_B= (-3.610861373974057+0j) E_f= -4.261587475312226\n",
      "k= 580 c_k= 0.21031885170731865 a_k= 0.027727512920815767 g= 1.5754840527232463 E_A= (-3.0667733196335556+0j) E_B= (-3.7294813133374474+0j) E_f= -4.269945766542589\n",
      "k= 581 c_k= 0.21028232485504422 a_k= 0.02771809232132222 g= -1.3891672978451202 E_A= (-3.584029932980738+0j) E_B= (-2.999795274973795+0j) E_f= -4.260704963635636\n",
      "k= 582 c_k= 0.21024586703727072 a_k= 0.02770869081419312 g= -0.9571245103808201 E_A= (-3.893879579288721+0j) E_B= (-3.4914166341934436+0j) E_f= -4.274059053089179\n",
      "k= 583 c_k= 0.21020947800544795 a_k= 0.02769930832863621 g= 2.7820270466284542 E_A= (-2.3892111648521195+0j) E_B= (-3.5588280713897302+0j) E_f= -4.192898305366685\n",
      "k= 584 c_k= 0.21017315751234425 a_k= 0.02768994479424034 g= -0.9289489967407017 E_A= (-3.565410486922648+0j) E_B= (-3.1749301992968126+0j) E_f= -4.197707074965994\n",
      "k= 585 c_k= 0.2101369053120373 a_k= 0.027680600140972778 g= -0.6905472194639071 E_A= (-3.436208479027304+0j) E_B= (-3.145989567687349+0j) E_f= -4.226725615081907\n",
      "k= 586 c_k= 0.2101007211599049 a_k= 0.027671274299176544 g= -1.5997550255216046 E_A= (-3.57340346547259+0j) E_B= (-2.9011840963900477+0j) E_f= -4.226798387563391\n",
      "k= 587 c_k= 0.210064604812616 a_k= 0.02766196719956777 g= -0.37804509616489973 E_A= (-3.527604262736956+0j) E_B= (-3.368776475282502+0j) E_f= -4.230226826787911\n",
      "k= 588 c_k= 0.2100285560281215 a_k= 0.027652678773233085 g= 0.5725640803674098 E_A= (-3.2739304740879227+0j) E_B= (-3.5144400881541955+0j) E_f= -4.238410510278434\n",
      "k= 589 c_k= 0.20999257456564563 a_k= 0.027643408951627015 g= -0.23602267183494444 E_A= (-3.4775198146736903+0j) E_B= (-3.3783937976447254+0j) E_f= -4.244250760220229\n",
      "k= 590 c_k= 0.2099566601856768 a_k= 0.02763415766656941 g= 0.8109565087060636 E_A= (-3.1181698798015427+0j) E_B= (-3.4587013200490664+0j) E_f= -4.23296175710064\n",
      "k= 591 c_k= 0.20992081264995904 a_k= 0.027624924850242896 g= 2.1025476050823078 E_A= (-2.7231334993012775+0j) E_B= (-3.6058705030894838+0j) E_f= -4.198129646977067\n",
      "k= 592 c_k= 0.20988503172148326 a_k= 0.027615710435190337 g= 1.1232347383544958 E_A= (-3.3281568369853014+0j) E_B= (-3.799657154365712+0j) E_f= -4.211425409182944\n",
      "k= 593 c_k= 0.20984931716447858 a_k= 0.027606514354312342 g= 2.625710867292752 E_A= (-2.830131165779333+0j) E_B= (-3.9321384309248026+0j) E_f= -4.264170535984698\n",
      "k= 594 c_k= 0.20981366874440388 a_k= 0.027597336540864773 g= -0.929647325934376 E_A= (-3.8377231632969324+0j) E_B= (-3.4476177311115004+0j) E_f= -4.264070381992867\n",
      "k= 595 c_k= 0.20977808622793928 a_k= 0.027588176928456266 g= 0.26979541660038536 E_A= (-3.823116553175903+0j) E_B= (-3.9363108855109+0j) E_f= -4.266709938980168\n",
      "k= 596 c_k= 0.20974256938297772 a_k= 0.027579035451045817 g= 0.18790331682872286 E_A= (-3.2416111554269618+0j) E_B= (-3.320433804361442+0j) E_f= -4.2709237910686495\n",
      "k= 597 c_k= 0.2097071179786167 a_k= 0.027569912042940337 g= -0.4563803348351679 E_A= (-3.284351857376844+0j) E_B= (-3.092939447936046+0j) E_f= -4.254245588232841\n",
      "k= 598 c_k= 0.20967173178514986 a_k= 0.027560806638792252 g= 0.005131244771241726 E_A= (-3.7011259291456735+0j) E_B= (-3.703277683100473+0j) E_f= -4.254170833727919\n",
      "k= 599 c_k= 0.20963641057405918 a_k= 0.027551719173597132 g= -1.405531081565038 E_A= (-3.76571536689511+0j) E_B= (-3.1764143851159705+0j) E_f= -4.2723013846787925\n",
      "k= 600 c_k= 0.2096011541180064 a_k= 0.02754264958269133 g= -0.6893248846330228 E_A= (-3.275792920451874+0j) E_B= (-2.9868263376891875+0j) E_f= -4.277791775174004\n",
      "k= 601 c_k= 0.2095659621908253 a_k= 0.027533597801749635 g= -1.3906623971075431 E_A= (-3.811969603059815+0j) E_B= (-3.2290985963949312+0j) E_f= -4.263278033281493\n",
      "k= 602 c_k= 0.20953083456751354 a_k= 0.027524563766782938 g= -0.423144843277393 E_A= (-3.7408511970780975+0j) E_B= (-3.563527412768394+0j) E_f= -4.268122296253763\n",
      "k= 603 c_k= 0.2094957710242249 a_k= 0.02751554741413597 g= -0.6195506812594497 E_A= (-3.4693434743132254+0j) E_B= (-3.209756978995161+0j) E_f= -4.257481170579987\n",
      "k= 604 c_k= 0.20946077133826135 a_k= 0.027506548680484966 g= -0.5944261937944678 E_A= (-3.5159598623313126+0j) E_B= (-3.2669419242196005+0j) E_f= -4.246097162258342\n",
      "k= 605 c_k= 0.20942583528806527 a_k= 0.02749756750283546 g= 0.6812802949498096 E_A= (-3.538501691713126+0j) E_B= (-3.8238570813834527+0j) E_f= -4.244009124104446\n",
      "k= 606 c_k= 0.20939096265321175 a_k= 0.027488603818520002 g= -0.21166379858816808 E_A= (-3.642272528418312+0j) E_B= (-3.553631555327888+0j) E_f= -4.2456168727377115\n",
      "k= 607 c_k= 0.2093561532144009 a_k= 0.02747965756519594 g= 0.32030820445063835 E_A= (-3.0764171714567654+0j) E_B= (-3.2105341585103604+0j) E_f= -4.243499954940862\n",
      "k= 608 c_k= 0.2093214067534505 a_k= 0.027470728680843225 g= 0.11273823043747415 E_A= (-3.7104255920569154+0j) E_B= (-3.757622642037049+0j) E_f= -4.244987046258675\n",
      "k= 609 c_k= 0.20928672305328813 a_k= 0.027461817103762224 g= -0.8731642398008198 E_A= (-3.4078029852512803+0j) E_B= (-3.0423196203808223+0j) E_f= -4.252250078831773\n",
      "k= 610 c_k= 0.20925210189794397 a_k= 0.027452922772571532 g= -0.5538015661279309 E_A= (-3.456662738816687+0j) E_B= (-3.2248944553234016+0j) E_f= -4.258898147224903\n",
      "k= 611 c_k= 0.20921754307254326 a_k= 0.027444045626205844 g= -0.4331872841555918 E_A= (-3.659627976884509+0j) E_B= (-3.4783672183219077+0j) E_f= -4.266399011024253\n"
     ]
    },
    {
     "name": "stdout",
     "output_type": "stream",
     "text": [
      "k= 612 c_k= 0.20918304636329907 a_k= 0.02743518560391382 g= 0.9879775128611705 E_A= (-3.2954413513238165+0j) E_B= (-3.708777643081287+0j) E_f= -4.26512358739667\n",
      "k= 613 c_k= 0.209148611557505 a_k= 0.027426342645255935 g= 0.38785831720888936 E_A= (-3.331736105267809+0j) E_B= (-3.493976162318348+0j) E_f= -4.278416172199091\n",
      "k= 614 c_k= 0.20911423844352794 a_k= 0.027417516690102436 g= -1.213971642366852 E_A= (-4.008597057412107+0j) E_B= (-3.500879546440941+0j) E_f= -4.288462219010904\n",
      "k= 615 c_k= 0.20907992681080098 a_k= 0.027408707678631232 g= -0.4906528977464835 E_A= (-3.4155938007758233+0j) E_B= (-3.210422456875139+0j) E_f= -4.2819692551092565\n",
      "k= 616 c_k= 0.2090456764498162 a_k= 0.027399915551325822 g= 1.17926392995634 E_A= (-2.9066914508983084+0j) E_B= (-3.399731502799492+0j) E_f= -4.289468146944148\n",
      "k= 617 c_k= 0.2090114871521178 a_k= 0.02739114024897327 g= 0.7563556427074996 E_A= (-3.6674446958267035+0j) E_B= (-3.983618731223084+0j) E_f= -4.2949083624667\n",
      "k= 618 c_k= 0.20897735871029496 a_k= 0.027382381712662166 g= -0.28115124462602137 E_A= (-3.765008697698974+0j) E_B= (-3.647500208698858+0j) E_f= -4.3013097169602235\n",
      "k= 619 c_k= 0.20894329091797503 a_k= 0.027373639883780616 g= 0.19924175116198792 E_A= (-3.5851198381343314+0j) E_B= (-3.6683802924864235+0j) E_f= -4.302794604099221\n",
      "k= 620 c_k= 0.20890928356981672 a_k= 0.027364914704014257 g= -0.007670658643017604 E_A= (-3.315085462832047+0j) E_B= (-3.3118805192288043+0j) E_f= -4.30310107233533\n",
      "k= 621 c_k= 0.20887533646150308 a_k= 0.027356206115344246 g= 0.2853374105394289 E_A= (-2.971691573205544+0j) E_B= (-3.0908914684684983+0j) E_f= -4.303387069252185\n",
      "k= 622 c_k= 0.208841449389735 a_k= 0.027347514060045344 g= 1.0825194725958247 E_A= (-3.3845519225462155+0j) E_B= (-3.8367017938452626+0j) E_f= -4.306993201608359\n",
      "k= 623 c_k= 0.20880762215222434 a_k= 0.02733883848068392 g= 2.3234225635454697 E_A= (-3.0168876689779625+0j) E_B= (-3.9871843504754723+0j) E_f= -4.320757444352317\n",
      "k= 624 c_k= 0.20877385454768738 a_k= 0.02733017932011607 g= 0.4786233836632438 E_A= (-3.37102611514858+0j) E_B= (-3.570874212516644+0j) E_f= -4.321069446763316\n",
      "k= 625 c_k= 0.2087401463758382 a_k= 0.027321536521485657 g= 0.8375653163090617 E_A= (-3.29267770402146+0j) E_B= (-3.6423447174728176+0j) E_f= -4.3212884302568115\n",
      "k= 626 c_k= 0.2087064974373822 a_k= 0.027312910028222448 g= -0.7458414509569692 E_A= (-3.6695271570468173+0j) E_B= (-3.358203243301129+0j) E_f= -4.3081944475120055\n",
      "k= 627 c_k= 0.20867290753400952 a_k= 0.027304299784040198 g= -1.61147645123085 E_A= (-3.368264305592758+0j) E_B= (-2.6957213525909003+0j) E_f= -4.280719886523009\n",
      "k= 628 c_k= 0.20863937646838868 a_k= 0.027295705732934817 g= -0.9486115597303232 E_A= (-3.7732081096490084+0j) E_B= (-3.377372660983328+0j) E_f= -4.2699546876945735\n",
      "k= 629 c_k= 0.2086059040441603 a_k= 0.027287127819182484 g= -1.7704715092431182 E_A= (-3.3456995579433526+0j) E_B= (-2.6070379384031734+0j) E_f= -4.253825927189659\n",
      "k= 630 c_k= 0.20857249006593057 a_k= 0.027278565987337827 g= -0.8465733888888982 E_A= (-3.9582623405909163+0j) E_B= (-3.6051185011026945+0j) E_f= -4.265323643210555\n",
      "k= 631 c_k= 0.20853913433926516 a_k= 0.0272700201822321 g= -1.9057530052045197 E_A= (-3.691581384355247+0j) E_B= (-2.8967332204156397+0j) E_f= -4.225022845768526\n",
      "k= 632 c_k= 0.20850583667068284 a_k= 0.02726149034897136 g= -0.12975952003443825 E_A= (-3.1985973133934626+0j) E_B= (-3.144486078811929+0j) E_f= -4.222949943027612\n",
      "k= 633 c_k= 0.20847259686764957 a_k= 0.0272529764329347 g= -1.0939289221572908 E_A= (-3.6595937924718687+0j) E_B= (-3.20348538609035+0j) E_f= -4.223814901480305\n",
      "k= 634 c_k= 0.20843941473857203 a_k= 0.02724447837977244 g= 0.9256901403607926 E_A= (-3.133624937857031+0j) E_B= (-3.5195255600291713+0j) E_f= -4.217726067554865\n",
      "k= 635 c_k= 0.20840629009279185 a_k= 0.02723599613540438 g= 0.8336931465621311 E_A= (-3.059312785101021+0j) E_B= (-3.4068065766026208+0j) E_f= -4.230351423535725\n",
      "k= 636 c_k= 0.20837322274057934 a_k= 0.02722752964601805 g= 0.46162547220355105 E_A= (-3.1398479525172895+0j) E_B= (-3.332228727201681+0j) E_f= -4.230927166131881\n",
      "k= 637 c_k= 0.2083402124931278 a_k= 0.027219078858066948 g= -0.6243646498593373 E_A= (-3.370724015393458+0j) E_B= (-3.1105634877436747+0j) E_f= -4.2431780840219195\n",
      "k= 638 c_k= 0.20830725916254736 a_k= 0.02721064371826886 g= -1.9602416849313056 E_A= (-3.6074429690913457+0j) E_B= (-2.7907778237229177+0j) E_f= -4.221792066534368\n",
      "k= 639 c_k= 0.20827436256185916 a_k= 0.027202224173604118 g= 1.215252963224467 E_A= (-3.1175013630367006+0j) E_B= (-3.6237134355706733+0j) E_f= -4.20738322000444\n",
      "k= 640 c_k= 0.2082415225049895 a_k= 0.027193820171313915 g= -0.5694932765252684 E_A= (-3.0561639662760367+0j) E_B= (-2.818979672356083+0j) E_f= -4.202277244898383\n",
      "k= 641 c_k= 0.20820873880676422 a_k= 0.027185431658898626 g= 0.643026174448922 E_A= (-3.3455223487295567+0j) E_B= (-3.6132896863330535+0j) E_f= -4.197239130282684\n",
      "k= 642 c_k= 0.20817601128290267 a_k= 0.02717705858411613 g= -1.054018368915838 E_A= (-3.4580550189160775+0j) E_B= (-3.019212339196457+0j) E_f= -4.1855408562575755\n",
      "k= 643 c_k= 0.20814333975001229 a_k= 0.027168700894980167 g= 1.5617857232086088 E_A= (-3.0009355292097584+0j) E_B= (-3.6510861220148145+0j) E_f= -4.168148224349142\n",
      "k= 644 c_k= 0.20811072402558273 a_k= 0.027160358539758688 g= 0.816886727253707 E_A= (-3.058322524472783+0j) E_B= (-3.3983283009840983+0j) E_f= -4.145430451700841\n",
      "k= 645 c_k= 0.2080781639279805 a_k= 0.027152031466972232 g= 0.6624235957311618 E_A= (-3.1828310007582985+0j) E_B= (-3.4585027718429204+0j) E_f= -4.140021517633514\n",
      "k= 646 c_k= 0.2080456592764431 a_k= 0.027143719625392297 g= -1.288721973549642 E_A= (-3.689542272583822+0j) E_B= (-3.1533162473614738+0j) E_f= -4.1653884136746\n",
      "k= 647 c_k= 0.20801320989107389 a_k= 0.027135422964039757 g= 1.786443495092677 E_A= (-2.9114718902972427+0j) E_B= (-3.654679581703756+0j) E_f= -4.202671595386864\n",
      "k= 648 c_k= 0.2079808155928361 a_k= 0.02712714143218325 g= 0.7085274287185912 E_A= (-2.989317265805423+0j) E_B= (-3.284037490794998+0j) E_f= -4.181880170220186\n",
      "k= 649 c_k= 0.20794847620354795 a_k= 0.02711887497933762 g= -0.5188108880989456 E_A= (-3.7710488407858485+0j) E_B= (-3.555276973549878+0j) E_f= -4.1827763747727955\n",
      "k= 650 c_k= 0.20791619154587687 a_k= 0.027110623555262336 g= -2.868515899000677 E_A= (-3.5891052567289305+0j) E_B= (-2.3962834545108946+0j) E_f= -4.221624635227906\n",
      "k= 651 c_k= 0.20788396144333432 a_k= 0.027102387109959943 g= 0.4332505398156334 E_A= (-3.4826658074331887+0j) E_B= (-3.6627974844618625+0j) E_f= -4.214428214383485\n",
      "k= 652 c_k= 0.20785178572027052 a_k= 0.02709416559367453 g= -0.012328546340541535 E_A= (-2.906362497883615+0j) E_B= (-2.9012374771391816+0j) E_f= -4.214333931407962\n",
      "k= 653 c_k= 0.20781966420186904 a_k= 0.02708595895689018 g= 0.5505943623092129 E_A= (-3.47969126919869+0j) E_B= (-3.7085399401717756+0j) E_f= -4.209490343093568\n",
      "k= 654 c_k= 0.20778759671414168 a_k= 0.027077767150329477 g= 1.2633367666657578 E_A= (-2.6120894214674406+0j) E_B= (-3.137100842639625+0j) E_f= -4.198630133974812\n",
      "k= 655 c_k= 0.20775558308392328 a_k= 0.02706959012495199 g= 0.6054404039409116 E_A= (-3.5368221589825053+0j) E_B= (-3.7883894072691255+0j) E_f= -4.194306818459229\n",
      "k= 656 c_k= 0.20772362313886658 a_k= 0.027061427831952773 g= -1.745123357145924 E_A= (-3.5591180358014514+0j) E_B= (-2.8341113426602242+0j) E_f= -4.175575619459189\n",
      "k= 657 c_k= 0.20769171670743708 a_k= 0.027053280222760885 g= -1.4025889682561337 E_A= (-3.84499747382496+0j) E_B= (-3.262385252520901+0j) E_f= -4.191235837840345\n",
      "k= 658 c_k= 0.20765986361890804 a_k= 0.027045147249037938 g= -0.14855204624133048 E_A= (-3.3036477573152627+0j) E_B= (-3.241951161989694+0j) E_f= -4.191519831838965\n",
      "k= 659 c_k= 0.2076280637033554 a_k= 0.027037028862676615 g= 0.4454988983782537 E_A= (-3.195556403823479+0j) E_B= (-3.3805525511279884+0j) E_f= -4.212580718768181\n",
      "k= 660 c_k= 0.2075963167916528 a_k= 0.027028925015799232 g= -0.6509007308431953 E_A= (-3.799375237605623+0j) E_B= (-3.5291260489655385+0j) E_f= -4.2143393858854115\n",
      "k= 661 c_k= 0.20756462271546675 a_k= 0.027020835660756304 g= 0.7892245180747333 E_A= (-3.121180608085673+0j) E_B= (-3.4488107867496294+0j) E_f= -4.193527366622838\n",
      "k= 662 c_k= 0.2075329813072515 a_k= 0.02701276075012511 g= -1.0862864790378053 E_A= (-3.496348589306848+0j) E_B= (-3.045468046209902+0j) E_f= -4.223312260312758\n"
     ]
    },
    {
     "name": "stdout",
     "output_type": "stream",
     "text": [
      "k= 663 c_k= 0.20750139240024437 a_k= 0.027004700236708295 g= -0.10254210385810185 E_A= (-3.1102669271338916+0j) E_B= (-3.0677116684734784+0j) E_f= -4.226980506869342\n",
      "k= 664 c_k= 0.20746985582846092 a_k= 0.026996654073532453 g= 0.8951289696891356 E_A= (-3.6177730699466295+0j) E_B= (-3.989197626525197+0j) E_f= -4.2383242368562195\n",
      "k= 665 c_k= 0.2074383714266899 a_k= 0.026988622213846732 g= 0.4930756779354056 E_A= (-3.286906636667956+0j) E_B= (-3.491472267910019+0j) E_f= -4.233571421785097\n",
      "k= 666 c_k= 0.2074069390304888 a_k= 0.026980604611121468 g= 0.735763411316514 E_A= (-3.087365060493064+0j) E_B= (-3.3925699344766413+0j) E_f= -4.223073216515704\n",
      "k= 667 c_k= 0.20737555847617897 a_k= 0.026972601219046804 g= -1.3533069951387786 E_A= (-3.594458819594222+0j) E_B= (-3.0331732317809745+0j) E_f= -4.221744688952013\n",
      "k= 668 c_k= 0.207344229600841 a_k= 0.026964611991531315 g= 0.7536891772405865 E_A= (-3.1011226467687445+0j) E_B= (-3.4136688503956267+0j) E_f= -4.2235900732363705\n",
      "k= 669 c_k= 0.20731295224231006 a_k= 0.026956636882700696 g= -1.0746428382602125 E_A= (-3.6989784498768703+0j) E_B= (-3.2534036910653104+0j) E_f= -4.230755979181097\n",
      "k= 670 c_k= 0.2072817262391711 a_k= 0.026948675846896378 g= -0.6729541354568087 E_A= (-3.7072997160569834+0j) E_B= (-3.428317526302431+0j) E_f= -4.240616188667507\n",
      "k= 671 c_k= 0.20725055143075463 a_k= 0.02694072883867423 g= -0.13392497699820638 E_A= (-3.728248749839338+0j) E_B= (-3.672736699172879+0j) E_f= -4.242741818891731\n",
      "k= 672 c_k= 0.20721942765713183 a_k= 0.02693279581280322 g= -0.5171739727948129 E_A= (-3.867016086585957+0j) E_B= (-3.6526790973025447+0j) E_f= -4.2420301611173725\n",
      "k= 673 c_k= 0.2071883547591103 a_k= 0.026924876724264118 g= 2.239450975593927 E_A= (-2.727606069580659+0j) E_B= (-3.6555823959746396+0j) E_f= -4.250628614432987\n",
      "k= 674 c_k= 0.20715733257822938 a_k= 0.026916971528248197 g= 0.8045245134704663 E_A= (-3.385132362219256+0j) E_B= (-3.718458666627935+0j) E_f= -4.238214365231504\n",
      "k= 675 c_k= 0.20712636095675585 a_k= 0.02690908018015592 g= -1.2536405468676322 E_A= (-3.7183144136869712+0j) E_B= (-3.1989904048459112+0j) E_f= -4.217546999892515\n",
      "k= 676 c_k= 0.20709543973767947 a_k= 0.026901202635595693 g= 1.750424499225654 E_A= (-2.4831117433311007+0j) E_B= (-3.208121606120589+0j) E_f= -4.2542500737798274\n",
      "k= 677 c_k= 0.20706456876470852 a_k= 0.02689333885038258 g= 0.25980479638760423 E_A= (-3.487875881347978+0j) E_B= (-3.5954686176019823+0j) E_f= -4.2571732787675405\n",
      "k= 678 c_k= 0.20703374788226567 a_k= 0.026885488780537026 g= -1.6859809096498637 E_A= (-3.8901988177498956+0j) E_B= (-3.19208892458437+0j) E_f= -4.28282759140982\n",
      "k= 679 c_k= 0.20700297693548345 a_k= 0.026877652382283637 g= 1.6852130737582809 E_A= (-2.908987966784808+0j) E_B= (-3.606676212861929+0j) E_f= -4.237912352905606\n",
      "k= 680 c_k= 0.20697225577020006 a_k= 0.02686982961204992 g= 0.5819451070572744 E_A= (-3.3114385676858737+0j) E_B= (-3.552331550770023+0j) E_f= -4.239535434467896\n",
      "k= 681 c_k= 0.20694158423295517 a_k= 0.02686202042646504 g= 1.1165908271171643 E_A= (-3.3170669147365763+0j) E_B= (-3.7792050641437998+0j) E_f= -4.252282959166582\n",
      "k= 682 c_k= 0.20691096217098562 a_k= 0.02685422478235863 g= -0.12195292753993366 E_A= (-3.738112390065771+0j) E_B= (-3.6876455949120586+0j) E_f= -4.249966295820605\n",
      "k= 683 c_k= 0.20688038943222128 a_k= 0.026846442636759536 g= 0.6435175833267468 E_A= (-3.257327313759119+0j) E_B= (-3.5235896502493578+0j) E_f= -4.265068653056439\n",
      "k= 684 c_k= 0.20684986586528095 a_k= 0.02683867394689465 g= -0.49984338194972844 E_A= (-3.6133964207657785+0j) E_B= (-3.406611347745879+0j) E_f= -4.266100473405467\n",
      "k= 685 c_k= 0.20681939131946814 a_k= 0.026830918670187682 g= 0.5146183859242932 E_A= (-3.2272092915242747+0j) E_B= (-3.4400754142016137+0j) E_f= -4.253061671479461\n",
      "k= 686 c_k= 0.20678896564476695 a_k= 0.026823176764257998 g= 1.070073697103971 E_A= (-3.4083466703832284+0j) E_B= (-3.850905536358832+0j) E_f= -4.235277729632738\n",
      "k= 687 c_k= 0.20675858869183825 a_k= 0.026815448186919423 g= -0.36589652983447324 E_A= (-3.469848558019736+0j) E_B= (-3.3185440577881025+0j) E_f= -4.239497724737597\n",
      "k= 688 c_k= 0.20672826031201533 a_k= 0.026807732896179087 g= -0.437166849650141 E_A= (-3.502209113614433+0j) E_B= (-3.321459629025917+0j) E_f= -4.235368389442096\n",
      "k= 689 c_k= 0.20669798035730014 a_k= 0.026800030850236255 g= 0.31162199906243887 E_A= (-3.0220097887532327+0j) E_B= (-3.150833064435454+0j) E_f= -4.2216719470767945\n",
      "k= 690 c_k= 0.20666774868035923 a_k= 0.026792342007481183 g= 1.3843787236687168 E_A= (-3.280362086185037+0j) E_B= (-3.852574954468243+0j) E_f= -4.227238811726708\n",
      "k= 691 c_k= 0.20663756513451975 a_k= 0.02678466632649395 g= -0.11221142709410953 E_A= (-3.5436328026422794+0j) E_B= (-3.4972586104922865+0j) E_f= -4.230982124575242\n",
      "k= 692 c_k= 0.20660742957376568 a_k= 0.026777003766043354 g= -0.26892597183008937 E_A= (-3.7516934887138644+0j) E_B= (-3.640569281142981+0j) E_f= -4.225689264862848\n",
      "k= 693 c_k= 0.2065773418527338 a_k= 0.026769354285085784 g= -1.007209298595557 E_A= (-3.659906588205608+0j) E_B= (-3.243773349019155+0j) E_f= -4.247054744728761\n",
      "k= 694 c_k= 0.20654730182670994 a_k= 0.026761717842764068 g= -0.5176830094478162 E_A= (-3.7664175221800633+0j) E_B= (-3.552565464574108+0j) E_f= -4.241333614767643\n",
      "k= 695 c_k= 0.20651730935162516 a_k= 0.0267540943984064 g= -1.081799012288637 E_A= (-3.8983471328576647+0j) E_B= (-3.4515266903034747+0j) E_f= -4.241159445749615\n",
      "k= 696 c_k= 0.20648736428405176 a_k= 0.026746483911525214 g= 0.16281347134999533 E_A= (-3.205879833405711+0j) E_B= (-3.273117682543706+0j) E_f= -4.237856718959868\n",
      "k= 697 c_k= 0.20645746648119984 a_k= 0.026738886341816114 g= -1.1964932372989525 E_A= (-3.470114028017278+0j) E_B= (-2.9760641031480164+0j) E_f= -4.1969736940115965\n",
      "k= 698 c_k= 0.20642761580091323 a_k= 0.026731301649156748 g= -0.17820561204676802 E_A= (-3.0686606567295467+0j) E_B= (-2.995087537495233+0j) E_f= -4.204235279156919\n",
      "k= 699 c_k= 0.20639781210166597 a_k= 0.026723729793605787 g= 0.4594699508192111 E_A= (-3.485757538452342+0j) E_B= (-3.6754247236034323+0j) E_f= -4.198973009945769\n",
      "k= 700 c_k= 0.20636805524255858 a_k= 0.026716170735401796 g= -0.03456100921877803 E_A= (-3.6117140577563887+0j) E_B= (-3.59744948123699+0j) E_f= -4.199005366987882\n",
      "k= 701 c_k= 0.20633834508331436 a_k= 0.026708624434962216 g= 1.6320617735330687 E_A= (-3.306934340719919+0j) E_B= (-3.9804481915690237+0j) E_f= -4.207536577568089\n",
      "k= 702 c_k= 0.2063086814842758 a_k= 0.026701090852882282 g= 0.3332430454647639 E_A= (-2.879019897562519+0j) E_B= (-3.016521764209799+0j) E_f= -4.211145324176005\n",
      "k= 703 c_k= 0.20627906430640094 a_k= 0.026693569949934 g= 2.266434392892959 E_A= (-2.7334097386229383+0j) E_B= (-3.6684456703785493+0j) E_f= -4.185327315192675\n",
      "k= 704 c_k= 0.20624949341125984 a_k= 0.026686061687065082 g= 2.6913071445511507 E_A= (-2.456422661686927+0j) E_B= (-3.566584132042485+0j) E_f= -4.211339958155017\n",
      "k= 705 c_k= 0.2062199686610309 a_k= 0.026678566025397938 g= 0.21318689311124425 E_A= (-3.298838998652669+0j) E_B= (-3.3867657874853556+0j) E_f= -4.2079514220081835\n",
      "k= 706 c_k= 0.20619048991849742 a_k= 0.026671082926228634 g= 0.2474206696941884 E_A= (-3.4186880153081987+0j) E_B= (-3.5207195935086135+0j) E_f= -4.205341897065434\n",
      "k= 707 c_k= 0.2061610570470442 a_k= 0.026663612351025885 g= 0.3628767718807993 E_A= (-3.6461506118214118+0j) E_B= (-3.795772729558941+0j) E_f= -4.212124490100004\n",
      "k= 708 c_k= 0.2061316699106538 a_k= 0.026656154261430042 g= -0.8917907944039059 E_A= (-3.6680865233557682+0j) E_B= (-3.300433872032917+0j) E_f= -4.199352136529986\n",
      "k= 709 c_k= 0.2061023283739033 a_k= 0.0266487086192521 g= -0.6477966343785404 E_A= (-3.7313277337533974+0j) E_B= (-3.464302944437007+0j) E_f= -4.2012312498776625\n",
      "k= 710 c_k= 0.20607303230196078 a_k= 0.02664127538647268 g= -0.36905450833551207 E_A= (-3.693819592112092+0j) E_B= (-3.5417152288772757+0j) E_f= -4.208922646235758\n",
      "k= 711 c_k= 0.2060437815605819 a_k= 0.026633854525241064 g= 1.471791007573613 E_A= (-3.233171347197378+0j) E_B= (-3.8396781169320304+0j) E_f= -4.249775815938783\n",
      "k= 712 c_k= 0.20601457601610662 a_k= 0.026626445997874212 g= 0.8437228852010774 E_A= (-3.4085493172036117+0j) E_B= (-3.756187742143184+0j) E_f= -4.2547372477605325\n",
      "k= 713 c_k= 0.20598541553545574 a_k= 0.026619049766855772 g= 1.860210091389739 E_A= (-3.1341838103157666+0j) E_B= (-3.9005361076320937+0j) E_f= -4.248240550179839\n"
     ]
    },
    {
     "name": "stdout",
     "output_type": "stream",
     "text": [
      "k= 714 c_k= 0.20595629998612755 a_k= 0.026611665794835128 g= 0.07702163724583468 E_A= (-3.740734505130746+0j) E_B= (-3.7724606879827975+0j) E_f= -4.248198188881099\n",
      "k= 715 c_k= 0.2059272292361946 a_k= 0.026604294044626445 g= 0.9603132841908021 E_A= (-3.4012782346083523+0j) E_B= (-3.7967875422325967+0j) E_f= -4.235094734361169\n",
      "k= 716 c_k= 0.2058982031543004 a_k= 0.026596934479207697 g= -0.8947753477040901 E_A= (-3.7397238414170064+0j) E_B= (-3.3712585687789334+0j) E_f= -4.26629859400448\n",
      "k= 717 c_k= 0.20586922160965612 a_k= 0.026589587061719742 g= -0.5002374838304439 E_A= (-3.6283444618409+0j) E_B= (-3.422377459008607+0j) E_f= -4.262476362239495\n",
      "k= 718 c_k= 0.20584028447203734 a_k= 0.02658225175546536 g= -1.3577870468688853 E_A= (-3.8765837796365363+0j) E_B= (-3.3176092356766587+0j) E_f= -4.252459262955479\n",
      "k= 719 c_k= 0.20581139161178091 a_k= 0.026574928523908352 g= -0.6158098929553653 E_A= (-3.4736666406520134+0j) E_B= (-3.2201852585771222+0j) E_f= -4.244859649015081\n",
      "k= 720 c_k= 0.20578254289978168 a_k= 0.02656761733067258 g= 0.890546497951714 E_A= (-3.6470067092173375+0j) E_B= (-4.013524555055335+0j) E_f= -4.2629999184045655\n",
      "k= 721 c_k= 0.20575373820748935 a_k= 0.02656031813954108 g= 0.5097877854934432 E_A= (-3.5159066050692847+0j) E_B= (-3.725688090184872+0j) E_f= -4.267816934926406\n",
      "k= 722 c_k= 0.20572497740690532 a_k= 0.026553030914455118 g= 0.2839342450205781 E_A= (-3.416041370234638+0j) E_B= (-3.5328661025184482+0j) E_f= -4.26625746882418\n",
      "k= 723 c_k= 0.20569626037057956 a_k= 0.026545755619513303 g= -1.0795785823487678 E_A= (-3.3385126241708756+0j) E_B= (-2.894382069840249+0j) E_f= -4.259188109211789\n",
      "k= 724 c_k= 0.20566758697160756 a_k= 0.02653849221897069 g= 0.011548723290561336 E_A= (-3.5846998777089816+0j) E_B= (-3.5894502738125267+0j) E_f= -4.259174378748138\n",
      "k= 725 c_k= 0.20563895708362717 a_k= 0.02653124067723787 g= -0.3993936065432934 E_A= (-3.910369787329296+0j) E_B= (-3.7461080178984334+0j) E_f= -4.262299645721546\n",
      "k= 726 c_k= 0.20561037058081558 a_k= 0.02652400095888011 g= 1.19479057636946 E_A= (-3.4305619155247804+0j) E_B= (-3.921884581872362+0j) E_f= -4.249784124505223\n",
      "k= 727 c_k= 0.20558182733788624 a_k= 0.026516773028616433 g= 1.100982630868256 E_A= (-3.187299224438324+0j) E_B= (-3.639983266680663+0j) E_f= -4.250424409535303\n",
      "k= 728 c_k= 0.20555332723008587 a_k= 0.026509556851318773 g= 0.19866818588771973 E_A= (-3.4295265213122583+0j) E_B= (-3.5112003345602303+0j) E_f= -4.243876829896919\n",
      "k= 729 c_k= 0.2055248701331915 a_k= 0.026502352392011114 g= 0.9908145634828974 E_A= (-3.0777829276399924+0j) E_B= (-3.485056996611787+0j) E_f= -4.260568111134568\n",
      "k= 730 c_k= 0.20549645592350746 a_k= 0.02649515961586859 g= 0.9948045259184245 E_A= (-3.2681479188227227+0j) E_B= (-3.677005527648525+0j) E_f= -4.278906939171645\n",
      "k= 731 c_k= 0.20546808447786233 a_k= 0.02648797848821666 g= -0.17818883543886516 E_A= (-3.7691253907802675+0j) E_B= (-3.6959011533943382+0j) E_f= -4.279929483815715\n",
      "k= 732 c_k= 0.2054397556736062 a_k= 0.026480808974530253 g= -1.1637731573479413 E_A= (-3.100459426303022+0j) E_B= (-2.6222888800928974+0j) E_f= -4.247352928621322\n",
      "k= 733 c_k= 0.20541146938860758 a_k= 0.026473651040432918 g= -0.6405638052312222 E_A= (-3.3963179451417713+0j) E_B= (-3.133159640202365+0j) E_f= -4.237384106532851\n",
      "k= 734 c_k= 0.20538322550125063 a_k= 0.026466504651695977 g= 0.35316407959611584 E_A= (-3.4447055812288574+0j) E_B= (-3.5897735368261188+0j) E_f= -4.231228403223046\n",
      "k= 735 c_k= 0.20535502389043217 a_k= 0.026459369774237716 g= -1.207716860816981 E_A= (-3.778650327001675+0j) E_B= (-3.282628877389777+0j) E_f= -4.228347806987556\n",
      "k= 736 c_k= 0.20532686443555895 a_k= 0.026452246374122534 g= 0.787801441194136 E_A= (-3.1908345368830817+0j) E_B= (-3.5143481363194944+0j) E_f= -4.247492913689692\n",
      "k= 737 c_k= 0.20529874701654463 a_k= 0.026445134417560138 g= -1.1769033327453255 E_A= (-3.933050748913878+0j) E_B= (-3.4498171897694565+0j) E_f= -4.25719497692119\n",
      "k= 738 c_k= 0.2052706715138073 a_k= 0.026438033870904716 g= -0.32344350698697105 E_A= (-3.712100997636598+0j) E_B= (-3.5793140658846054+0j) E_f= -4.258509039672732\n",
      "k= 739 c_k= 0.2052426378082662 a_k= 0.026430944700654137 g= -0.41601959218650514 E_A= (-2.9744932853082484+0j) E_B= (-2.8037233683476934+0j) E_f= -4.259319039517577\n",
      "k= 740 c_k= 0.20521464578133944 a_k= 0.026423866873449144 g= -0.4435936587234516 E_A= (-3.6294376442712712+0j) E_B= (-3.4473738131797083+0j) E_f= -4.2554233530150825\n",
      "k= 741 c_k= 0.2051866953149409 a_k= 0.02641680035607255 g= 0.046807870512150886 E_A= (-3.588849762858448+0j) E_B= (-3.608058467388684+0j) E_f= -4.2558299244969895\n",
      "k= 742 c_k= 0.2051587862914776 a_k= 0.02640974511544845 g= -0.6667340947562557 E_A= (-3.6391870791200756+0j) E_B= (-3.3656143638013947+0j) E_f= -4.2454048767949235\n",
      "k= 743 c_k= 0.20513091859384702 a_k= 0.02640270111864144 g= -0.5532244058800961 E_A= (-3.3288316401061113+0j) E_B= (-3.1018647789726725+0j) E_f= -4.260760570408542\n",
      "k= 744 c_k= 0.2051030921054344 a_k= 0.026395668332855816 g= -1.8298684360986386 E_A= (-3.9072803207905555+0j) E_B= (-3.156656972010623+0j) E_f= -4.272477715919083\n",
      "k= 745 c_k= 0.2050753067101099 a_k= 0.026388646725434815 g= -1.4023183705227846 E_A= (-3.7859017779744066+0j) E_B= (-3.2107400380940434+0j) E_f= -4.247065780198399\n",
      "k= 746 c_k= 0.2050475622922262 a_k= 0.026381636263859833 g= 0.3664145322058614 E_A= (-3.245662199019456+0j) E_B= (-3.3959270122539724+0j) E_f= -4.250605845890428\n",
      "k= 747 c_k= 0.2050198587366156 a_k= 0.026374636915749674 g= -0.4894076172369832 E_A= (-3.837483334344748+0j) E_B= (-3.636806773243648+0j) E_f= -4.249961559723049\n",
      "k= 748 c_k= 0.20499219592858758 a_k= 0.026367648648859765 g= 0.6960564427803789 E_A= (-3.321206200116529+0j) E_B= (-3.606578477508111+0j) E_f= -4.251392767919389\n",
      "k= 749 c_k= 0.20496457375392604 a_k= 0.026360671431081412 g= -0.3699393195282193 E_A= (-3.6253060525638876+0j) E_B= (-3.4736571426800498+0j) E_f= -4.253387453189801\n",
      "k= 750 c_k= 0.20493699209888683 a_k= 0.026353705230441074 g= -0.625703673425702 E_A= (-3.783461234514033+0j) E_B= (-3.527001576959858+0j) E_f= -4.264390649514185\n",
      "k= 751 c_k= 0.20490945085019516 a_k= 0.026346750015099566 g= 0.38634249906002205 E_A= (-3.3760495874072394+0j) E_B= (-3.5343800460522017+0j) E_f= -4.272314845020615\n",
      "k= 752 c_k= 0.2048819498950429 a_k= 0.026339805753351368 g= -0.3325808067753568 E_A= (-3.6280650956015603+0j) E_B= (-3.491785487221957+0j) E_f= -4.273475085147165\n",
      "k= 753 c_k= 0.20485448912108623 a_k= 0.026332872413623854 g= -0.680243584892664 E_A= (-3.356545986181939+0j) E_B= (-3.077844082059773+0j) E_f= -4.277735676864824\n",
      "k= 754 c_k= 0.20482706841644296 a_k= 0.026325949964476587 g= 1.2791763633919466 E_A= (-2.936784370079936+0j) E_B= (-3.460804259082294+0j) E_f= -4.2387416888842955\n",
      "k= 755 c_k= 0.20479968766969023 a_k= 0.026319038374600576 g= -0.11412601320454674 E_A= (-3.264435518622168+0j) E_B= (-3.217689574903612+0j) E_f= -4.235036692848244\n",
      "k= 756 c_k= 0.20477234676986175 a_k= 0.026312137612817574 g= 1.2833597602724671 E_A= (-3.306518073333849+0j) E_B= (-3.8321112530558494+0j) E_f= -4.21511542263985\n",
      "k= 757 c_k= 0.20474504560644552 a_k= 0.026305247648079344 g= 2.63952072519044 E_A= (-2.5762853380250057+0j) E_B= (-3.6571429205415553+0j) E_f= -4.213648125341222\n",
      "k= 758 c_k= 0.20471778406938132 a_k= 0.026298368449466952 g= 2.4358548322249742 E_A= (-2.813497610567107+0j) E_B= (-3.8108232177026897+0j) E_f= -4.21319460319908\n",
      "k= 759 c_k= 0.20469056204905828 a_k= 0.026291499986190077 g= -0.032218629755718216 E_A= (-3.575227653467146+0j) E_B= (-3.562037954600849+0j) E_f= -4.214535623796418\n",
      "k= 760 c_k= 0.20466337943631244 a_k= 0.02628464222758629 g= -0.047659537450567994 E_A= (-3.2643376147330327+0j) E_B= (-3.2448292907390233+0j) E_f= -4.213815161545686\n",
      "k= 761 c_k= 0.20463623612242432 a_k= 0.026277795143120366 g= 0.5464116909974456 E_A= (-2.9618980959954104+0j) E_B= (-3.1855293596334233+0j) E_f= -4.233320768251917\n",
      "k= 762 c_k= 0.20460913199911662 a_k= 0.02627095870238359 g= 0.6672060596717387 E_A= (-2.953089305990975+0j) E_B= (-3.2261222114589456+0j) E_f= -4.2508634886519125\n",
      "k= 763 c_k= 0.20458206695855174 a_k= 0.026264132875093077 g= -1.7384813613017647 E_A= (-3.9183196230513344+0j) E_B= (-3.2069954025232708+0j) E_f= -4.283574227370297\n",
      "k= 764 c_k= 0.20455504089332952 a_k= 0.026257317631091088 g= 0.3160014352846547 E_A= (-3.2575731413194946+0j) E_B= (-3.3868525143535013+0j) E_f= -4.292972619468726\n"
     ]
    },
    {
     "name": "stdout",
     "output_type": "stream",
     "text": [
      "k= 765 c_k= 0.20452805369648472 a_k= 0.02625051294034434 g= 0.169591373759572 E_A= (-3.444680640760166+0j) E_B= (-3.5140530279576825+0j) E_f= -4.291131245779455\n",
      "k= 766 c_k= 0.20450110526148496 a_k= 0.02624371877294335 g= -0.611691639836295 E_A= (-3.5009908219996557+0j) E_B= (-3.2508075891481907+0j) E_f= -4.287376098773802\n",
      "k= 767 c_k= 0.20447419548222823 a_k= 0.026236935099101744 g= 0.37736827884703933 E_A= (-3.5412445355673445+0j) E_B= (-3.6955686860028676+0j) E_f= -4.294548784588722\n",
      "k= 768 c_k= 0.20444732425304057 a_k= 0.026230161889155622 g= -0.4270218007246723 E_A= (-3.617572533455463+0j) E_B= (-3.4429656043437142+0j) E_f= -4.288335575637701\n",
      "k= 769 c_k= 0.20442049146867386 a_k= 0.026223399113562876 g= -0.02143171855759516 E_A= (-3.255306392967738+0j) E_B= (-3.246544228086614+0j) E_f= -4.288386896598678\n",
      "k= 770 c_k= 0.2043936970243036 a_k= 0.026216646742902538 g= 0.39550776954360173 E_A= (-3.0862192074427917+0j) E_B= (-3.2478977978804977+0j) E_f= -4.292314445461084\n",
      "k= 771 c_k= 0.20436694081552656 a_k= 0.026209904747874137 g= -0.39877121452274816 E_A= (-3.596737616213761+0j) E_B= (-3.4337463098191487+0j) E_f= -4.2910620702753555\n",
      "k= 772 c_k= 0.20434022273835856 a_k= 0.02620317309929705 g= -0.8795250130247421 E_A= (-4.008611144547077+0j) E_B= (-3.6491664704162097+0j) E_f= -4.293679527862737\n",
      "k= 773 c_k= 0.2043135426892323 a_k= 0.026196451768109842 g= -1.487481251250099 E_A= (-3.6269659186101113+0j) E_B= (-3.019140790356672+0j) E_f= -4.291781202601172\n",
      "k= 774 c_k= 0.20428690056499513 a_k= 0.02618974072536966 g= -2.1707878349377028 E_A= (-3.782032407344194+0j) E_B= (-2.895105370176955+0j) E_f= -4.278654468854609\n",
      "k= 775 c_k= 0.20426029626290682 a_k= 0.026183039942251574 g= -0.7057864215329277 E_A= (-3.5514471463620634+0j) E_B= (-3.263118859240758+0j) E_f= -4.262451784933331\n",
      "k= 776 c_k= 0.20423372968063744 a_k= 0.026176349390047947 g= 1.5121810608129385 E_A= (-3.0987515680667137+0j) E_B= (-3.716428324071212+0j) E_f= -4.257381482803845\n",
      "k= 777 c_k= 0.2042072007162652 a_k= 0.02616966904016783 g= -0.26053344895164593 E_A= (-3.360821414933252+0j) E_B= (-3.2544158023265126+0j) E_f= -4.2497851412779655\n",
      "k= 778 c_k= 0.20418070926827414 a_k= 0.026162998864136318 g= -1.4655436888738376 E_A= (-3.783022482080897+0j) E_B= (-3.184550982365091+0j) E_f= -4.274559733175622\n",
      "k= 779 c_k= 0.20415425523555228 a_k= 0.026156338833593952 g= -0.5795430828245081 E_A= (-3.7821291877615932+0j) E_B= (-3.5454968148596864+0j) E_f= -4.268302639943544\n",
      "k= 780 c_k= 0.20412783851738925 a_k= 0.02614968892029608 g= 0.12889029815684608 E_A= (-3.0397644572783937+0j) E_B= (-3.0923846532156314+0j) E_f= -4.269674719685053\n",
      "k= 781 c_k= 0.2041014590134743 a_k= 0.026143049096112272 g= -0.9454558344345918 E_A= (-3.8984412082735194+0j) E_B= (-3.5125033777917154+0j) E_f= -4.275714711330494\n",
      "k= 782 c_k= 0.2040751166238942 a_k= 0.026136419333025712 g= 0.4727631274362631 E_A= (-3.5299018205898243+0j) E_B= (-3.722860201323889+0j) E_f= -4.274743825594179\n",
      "k= 783 c_k= 0.20404881124913107 a_k= 0.02612979960313258 g= -2.1776936986149593 E_A= (-3.8067688722514887+0j) E_B= (-2.918057251317277+0j) E_f= -4.263834472053653\n",
      "k= 784 c_k= 0.20402254279006052 a_k= 0.02612318987864147 g= -0.31624818721687387 E_A= (-3.930102315562685+0j) E_B= (-3.8010587969452176+0j) E_f= -4.2608489565357885\n",
      "k= 785 c_k= 0.20399631114794925 a_k= 0.026116590131872786 g= 0.056028469160192905 E_A= (-3.4369559066672335+0j) E_B= (-3.4598151087231255+0j) E_f= -4.260511116814401\n",
      "k= 786 c_k= 0.2039701162244534 a_k= 0.026110000335258163 g= 0.12503893994096582 E_A= (-3.549312263545386+0j) E_B= (-3.6003206777700685+0j) E_f= -4.264824836853007\n",
      "k= 787 c_k= 0.20394395792161632 a_k= 0.026103420461339878 g= 0.17666474872406374 E_A= (-3.615026076021631+0j) E_B= (-3.687085492181658+0j) E_f= -4.261602529184247\n",
      "k= 788 c_k= 0.20391783614186648 a_k= 0.02609685048277026 g= -0.05623506702040273 E_A= (-3.588101258184046+0j) E_B= (-3.5651665918198594+0j) E_f= -4.26248200231675\n",
      "k= 789 c_k= 0.20389175078801566 a_k= 0.026090290372311118 g= 0.49044363083348164 E_A= (-3.6477741347077024+0j) E_B= (-3.847768955814642+0j) E_f= -4.257462511176797\n",
      "k= 790 c_k= 0.2038657017632568 a_k= 0.026083740102833174 g= 3.0027457556520565 E_A= (-2.316434859691577+0j) E_B= (-3.5407486010768716+0j) E_f= -4.223231877311572\n",
      "k= 791 c_k= 0.20383968897116214 a_k= 0.026077199647315467 g= 0.1580874822172103 E_A= (-3.161966835165625+0j) E_B= (-3.2264158415764057+0j) E_f= -4.223846194913037\n",
      "k= 792 c_k= 0.20381371231568124 a_k= 0.02607066897884483 g= 0.7071855516912839 E_A= (-3.054125870609889+0j) E_B= (-3.3423940957823164+0j) E_f= -4.23181509191155\n",
      "k= 793 c_k= 0.20378777170113888 a_k= 0.026064148070615273 g= 0.09791305660517788 E_A= (-3.7298682028393033+0j) E_B= (-3.7697751700913367+0j) E_f= -4.2341739446593945\n",
      "k= 794 c_k= 0.20376186703223342 a_k= 0.02605763689592746 g= -0.5209604174850333 E_A= (-3.472878840463938+0j) E_B= (-3.260575105830654+0j) E_f= -4.230984896181053\n",
      "k= 795 c_k= 0.20373599821403454 a_k= 0.02605113542818815 g= -1.853963508482831 E_A= (-3.53161958133718+0j) E_B= (-2.776181369230893+0j) E_f= -4.2629112069051605\n",
      "k= 796 c_k= 0.2037101651519816 a_k= 0.026044643640909637 g= 0.7541912412443884 E_A= (-3.472238101015027+0j) E_B= (-3.7795109456351716+0j) E_f= -4.258520725580932\n",
      "k= 797 c_k= 0.2036843677518815 a_k= 0.02603816150770919 g= -2.029607807857794 E_A= (-3.6443972261373387+0j) E_B= (-2.817598459881745+0j) E_f= -4.249743625585405\n",
      "k= 798 c_k= 0.20365860591990712 a_k= 0.02603168900230853 g= 0.3969794947047638 E_A= (-3.452447771829902+0j) E_B= (-3.6141443527706247+0j) E_f= -4.245721135663432\n",
      "k= 799 c_k= 0.20363287956259501 a_k= 0.02602522609853327 g= -0.7990949521554924 E_A= (-3.368808988973903+0j) E_B= (-3.0433649766711888+0j) E_f= -4.254027165114447\n",
      "k= 800 c_k= 0.20360718858684393 a_k= 0.02601877277031239 g= -1.2314665878103364 E_A= (-3.7656900646618303+0j) E_B= (-3.2642191650964376+0j) E_f= -4.239626283536232\n",
      "k= 801 c_k= 0.20358153289991276 a_k= 0.026012328991677682 g= -1.5066975884715315 E_A= (-3.4954413100259694+0j) E_B= (-2.881969700670697+0j) E_f= -4.224720889250344\n",
      "k= 802 c_k= 0.20355591240941873 a_k= 0.02600589473676326 g= 1.290888406606226 E_A= (-3.1660595286140465+0j) E_B= (-3.6915954634649886+0j) E_f= -4.232591777597591\n",
      "k= 803 c_k= 0.20353032702333557 a_k= 0.025999469979804974 g= 0.1796676141350799 E_A= (-3.335894562308357+0j) E_B= (-3.4090301788291875+0j) E_f= -4.231552000902826\n",
      "k= 804 c_k= 0.20350477664999173 a_k= 0.025993054695139933 g= -0.3073150866737571 E_A= (-3.727342821745912+0j) E_B= (-3.6022626455964804+0j) E_f= -4.228556338441555\n",
      "k= 805 c_k= 0.20347926119806856 a_k= 0.025986648857205957 g= -1.2169142586885506 E_A= (-3.668266159023087+0j) E_B= (-3.173032530424404+0j) E_f= -4.203358443597104\n",
      "k= 806 c_k= 0.2034537805765985 a_k= 0.025980252440541075 g= 0.36388909792405233 E_A= (-3.688385029274119+0j) E_B= (-3.836454254640632+0j) E_f= -4.202703294846933\n",
      "k= 807 c_k= 0.2034283346949633 a_k= 0.025973865419782992 g= 0.21234131945226611 E_A= (-3.4413061574375217+0j) E_B= (-3.527698639443733+0j) E_f= -4.200159446158154\n",
      "k= 808 c_k= 0.20340292346289227 a_k= 0.0259674877696686 g= 1.778948380140166 E_A= (-3.0129876380502276+0j) E_B= (-3.7366742404704003+0j) E_f= -4.201702722531312\n",
      "k= 809 c_k= 0.20337754679046047 a_k= 0.025961119465033454 g= -0.7298275484544066 E_A= (-3.5796509790610536+0j) E_B= (-3.2827899062915473+0j) E_f= -4.216362879328248\n",
      "k= 810 c_k= 0.2033522045880871 a_k= 0.02595476048081126 g= 0.8849347446029953 E_A= (-2.9696373891027568+0j) E_B= (-3.3295442515659865+0j) E_f= -4.203983074636432\n",
      "k= 811 c_k= 0.20332689676653345 a_k= 0.0259484107920334 g= -0.25614580119582636 E_A= (-3.3268069258502457+0j) E_B= (-3.222644264096396+0j) E_f= -4.208140992736782\n",
      "k= 812 c_k= 0.2033016232369016 a_k= 0.025942070373828403 g= 0.8418912271248185 E_A= (-3.2941564637403724+0j) E_B= (-3.6364721698671376+0j) E_f= -4.212759591445733\n",
      "k= 813 c_k= 0.20327638391063232 a_k= 0.025935739201421473 g= 0.4973138151054913 E_A= (-3.7081001181703668+0j) E_B= (-3.910284426177257+0j) E_f= -4.211130273789644\n",
      "k= 814 c_k= 0.20325117869950363 a_k= 0.025929417250133986 g= 1.422994401499328 E_A= (-3.3312065953713015+0j) E_B= (-3.9096571741463677+0j) E_f= -4.220467187921644\n",
      "k= 815 c_k= 0.203226007515629 a_k= 0.02592310449538299 g= 0.46187443825434893 E_A= (-3.5855924154510355+0j) E_B= (-3.773322211570946+0j) E_f= -4.218326286437872\n"
     ]
    },
    {
     "name": "stdout",
     "output_type": "stream",
     "text": [
      "k= 816 c_k= 0.20320087027145553 a_k= 0.02591680091268075 g= 0.7572842560969905 E_A= (-3.1492580844262132+0j) E_B= (-3.4570197241897738+0j) E_f= -4.212066254078338\n",
      "k= 817 c_k= 0.20317576687976258 a_k= 0.025910506477634227 g= 1.7700363502810466 E_A= (-3.2374615910645774+0j) E_B= (-3.956718576811393+0j) E_f= -4.244712018056087\n",
      "k= 818 c_k= 0.20315069725365983 a_k= 0.025904221165944624 g= -0.029405068681483928 E_A= (-3.403567857022195+0j) E_B= (-3.391620536611325+0j) E_f= -4.244626849471725\n",
      "k= 819 c_k= 0.20312566130658577 a_k= 0.0258979449534069 g= 0.32777793522721005 E_A= (-3.4190864507977166+0j) E_B= (-3.552246670507185+0j) E_f= -4.238669649423095\n",
      "k= 820 c_k= 0.20310065895230606 a_k= 0.025891677815909293 g= -0.6094530547967216 E_A= (-3.776576020103443+0j) E_B= (-3.5290153860440228+0j) E_f= -4.2363496961393565\n",
      "k= 821 c_k= 0.20307569010491178 a_k= 0.025885419729432858 g= 1.0146729066948033 E_A= (-3.5388810577238967+0j) E_B= (-3.9509918592395046+0j) E_f= -4.255217142749097\n",
      "k= 822 c_k= 0.20305075467881792 a_k= 0.025879170670050987 g= -1.1855260253873128 E_A= (-3.3709010089037506+0j) E_B= (-2.889457100611204+0j) E_f= -4.250152343975998\n",
      "k= 823 c_k= 0.20302585258876177 a_k= 0.02587293061392895 g= -0.11906748719010389 E_A= (-3.747532008193624+0j) E_B= (-3.6991844519888795+0j) E_f= -4.249691638609186\n",
      "k= 824 c_k= 0.20300098374980122 a_k= 0.02586669953732344 g= 0.9784269090584814 E_A= (-3.291176792529349+0j) E_B= (-3.688420042661647+0j) E_f= -4.245974199589775\n",
      "k= 825 c_k= 0.2029761480773132 a_k= 0.025860477416582095 g= 0.739408949043159 E_A= (-3.258396677066564+0j) E_B= (-3.5585614377279136+0j) E_f= -4.2505564918264245\n",
      "k= 826 c_k= 0.20295134548699229 a_k= 0.02585426422814306 g= -1.737403020324044 E_A= (-3.859432881945583+0j) E_B= (-3.1542163206897254+0j) E_f= -4.277674716573417\n",
      "k= 827 c_k= 0.20292657589484878 a_k= 0.025848059948534514 g= 0.6377755467232366 E_A= (-3.441901469355904+0j) E_B= (-3.700744685127927+0j) E_f= -4.284419531768533\n",
      "k= 828 c_k= 0.2029018392172074 a_k= 0.02584186455437424 g= -0.36921066683973874 E_A= (-4.050897675258006+0j) E_B= (-3.9010706285372168+0j) E_f= -4.283824392729915\n",
      "k= 829 c_k= 0.20287713537070567 a_k= 0.025835678022369166 g= 0.5851533496529803 E_A= (-3.3193919606199818+0j) E_B= (-3.556820431280321+0j) E_f= -4.2835069781536905\n",
      "k= 830 c_k= 0.2028524642722924 a_k= 0.02582950032931491 g= 1.1823984704915358 E_A= (-3.3408583023588965+0j) E_B= (-3.8205631893408913+0j) E_f= -4.268210421098777\n",
      "k= 831 c_k= 0.20282782583922596 a_k= 0.025823331452095363 g= 1.2531156863427118 E_A= (-3.0978026447573566+0j) E_B= (-3.6061361051292+0j) E_f= -4.250911403865039\n",
      "k= 832 c_k= 0.2028032199890731 a_k= 0.025817171367682214 g= -1.3153419115433866 E_A= (-3.879901748471384+0j) E_B= (-3.346390598376221+0j) E_f= -4.269581820060585\n",
      "k= 833 c_k= 0.20277864663970716 a_k= 0.025811020053134546 g= 1.7592130014643532 E_A= (-2.8283196820055085+0j) E_B= (-3.541781345181346+0j) E_f= -4.259178073154037\n",
      "k= 834 c_k= 0.20275410570930655 a_k= 0.025804877485598385 g= -0.6885886152528199 E_A= (-4.061161749178309+0j) E_B= (-3.7819334114039185+0j) E_f= -4.267241276952399\n",
      "k= 835 c_k= 0.20272959711635352 a_k= 0.025798743642306266 g= 1.5622034304380252 E_A= (-3.508800065886616+0j) E_B= (-4.1422098100195885+0j) E_f= -4.296001931794503\n",
      "k= 836 c_k= 0.20270512077963238 a_k= 0.02579261850057681 g= -0.46050691047219483 E_A= (-3.267415380831581+0j) E_B= (-3.080721163017338+0j) E_f= -4.301879333830972\n",
      "k= 837 c_k= 0.20268067661822817 a_k= 0.025786502037814293 g= -0.22015646535059902 E_A= (-3.8079319557529585+0j) E_B= (-3.7186890330346847+0j) E_f= -4.302960660246555\n",
      "k= 838 c_k= 0.20265626455152513 a_k= 0.025780394231508227 g= 0.7862782308012264 E_A= (-3.791029150621565+0j) E_B= (-4.109717568926282+0j) E_f= -4.3045395932971395\n",
      "k= 839 c_k= 0.20263188449920533 a_k= 0.02577429505923294 g= 1.2460426500179298 E_A= (-3.3865579468538822+0j) E_B= (-3.891533887532916+0j) E_f= -4.326158325053161\n",
      "k= 840 c_k= 0.2026075363812471 a_k= 0.025768204498647144 g= 0.6427292816355713 E_A= (-3.5986610437889963+0j) E_B= (-3.85910463641354+0j) E_f= -4.324902258203844\n",
      "k= 841 c_k= 0.20258322011792365 a_k= 0.025762122527493533 g= 1.3749327381009926 E_A= (-2.964835772556235+0j) E_B= (-3.5219123756163406+0j) E_f= -4.316697478747397\n",
      "k= 842 c_k= 0.20255893562980165 a_k= 0.02575604912359836 g= 0.685303014272462 E_A= (-3.7979566514903373+0j) E_B= (-4.075585149800187+0j) E_f= -4.329926686842093\n",
      "k= 843 c_k= 0.20253468283773976 a_k= 0.02574998426487103 g= 0.4559280616630072 E_A= (-3.4502740673903256+0j) E_B= (-3.634956558121811+0j) E_f= -4.326160229869894\n",
      "k= 844 c_k= 0.2025104616628872 a_k= 0.025743927929303703 g= 0.2970672417387867 E_A= (-3.4568416948082215+0j) E_B= (-3.577160143347106+0j) E_f= -4.321778785819395\n",
      "k= 845 c_k= 0.2024862720266824 a_k= 0.025737880094970852 g= 0.2907684679206053 E_A= (-3.2993161280293006+0j) E_B= (-3.4170693742136073+0j) E_f= -4.325356929458329\n",
      "k= 846 c_k= 0.20246211385085155 a_k= 0.025731840740028905 g= 0.8747326948084084 E_A= (-3.0959179611742123+0j) E_B= (-3.4501184220649366+0j) E_f= -4.302514403930599\n",
      "k= 847 c_k= 0.20243798705740731 a_k= 0.02572580984271581 g= -1.7099061005593152 E_A= (-3.7390737552286417+0j) E_B= (-3.046773857119825+0j) E_f= -4.299997450497475\n",
      "k= 848 c_k= 0.2024138915686472 a_k= 0.025719787381350646 g= 0.36005026032081616 E_A= (-3.4099009075622657+0j) E_B= (-3.5556592562659475+0j) E_f= -4.294093358244517\n",
      "k= 849 c_k= 0.20238982730715246 a_k= 0.025713773334333234 g= -0.8324752056507113 E_A= (-4.09825153516804+0j) E_B= (-3.7612825089497726+0j) E_f= -4.304592561761893\n",
      "k= 850 c_k= 0.20236579419578657 a_k= 0.02570776768014374 g= 0.08797858801634298 E_A= (-3.7113710280730468+0j) E_B= (-3.746978741745349+0j) E_f= -4.302792125915428\n",
      "k= 851 c_k= 0.20234179215769393 a_k= 0.025701770397342262 g= 2.288922880139743 E_A= (-2.5901657731325303+0j) E_B= (-3.5164552884889826+0j) E_f= -4.287973128451614\n",
      "k= 852 c_k= 0.20231782111629845 a_k= 0.025695781464568485 g= 0.10757624591080404 E_A= (-3.3105876722494934+0j) E_B= (-3.3541168556025833+0j) E_f= -4.289876650162409\n",
      "k= 853 c_k= 0.20229388099530227 a_k= 0.02568980086054124 g= 0.4416737020423304 E_A= (-3.50535450194526+0j) E_B= (-3.6840502765846717+0j) E_f= -4.288235047184657\n",
      "k= 854 c_k= 0.2022699717186844 a_k= 0.025683828564058174 g= 0.9262851015560167 E_A= (-3.547664793537587+0j) E_B= (-3.9223841161279354+0j) E_f= -4.290817814414811\n",
      "k= 855 c_k= 0.2022460932106994 a_k= 0.02567786455399532 g= 0.030500115079606913 E_A= (-3.639410847638173+0j) E_B= (-3.6517479058728273+0j) E_f= -4.2906089624611665\n",
      "k= 856 c_k= 0.202222245395876 a_k= 0.025671908809306747 g= -0.5885811083242712 E_A= (-3.884638225854188+0j) E_B= (-3.646589839208333+0j) E_f= -4.298315418082218\n",
      "k= 857 c_k= 0.2021984281990159 a_k= 0.025665961309024172 g= -0.6923753601994213 E_A= (-3.666916067308237+0j) E_B= (-3.386921648196136+0j) E_f= -4.303105664468926\n",
      "k= 858 c_k= 0.2021746415451924 a_k= 0.025660022032256577 g= 0.7480855163890026 E_A= (-3.772292281541125+0j) E_B= (-4.074780123783318+0j) E_f= -4.31048667745025\n",
      "k= 859 c_k= 0.20215088535974912 a_k= 0.02565409095818986 g= -0.430423759710702 E_A= (-4.063812643844296+0j) E_B= (-3.889791555633515+0j) E_f= -4.307017312526736\n",
      "k= 860 c_k= 0.2021271595682987 a_k= 0.025648168066086434 g= -0.3869807337610943 E_A= (-3.862018889187829+0j) E_B= (-3.705580256142257+0j) E_f= -4.311116819929496\n",
      "k= 861 c_k= 0.20210346409672147 a_k= 0.025642253335284873 g= 0.18535493403867195 E_A= (-3.676966205861628+0j) E_B= (-3.7518879543748977+0j) E_f= -4.3123525937881295\n",
      "k= 862 c_k= 0.2020797988711643 a_k= 0.025636346745199552 g= 1.9948857513691607 E_A= (-2.9148512969386147+0j) E_B= (-3.7211035197538775+0j) E_f= -4.286382818250662\n",
      "k= 863 c_k= 0.20205616381803929 a_k= 0.025630448275320274 g= 0.75095180297629 E_A= (-3.3947843889722726+0j) E_B= (-3.698253270015531+0j) E_f= -4.284189559158356\n",
      "k= 864 c_k= 0.20203255886402235 a_k= 0.025624557905211898 g= 0.5329382496171934 E_A= (-3.5995097387107946+0j) E_B= (-3.814851495284144+0j) E_f= -4.285948291326736\n",
      "k= 865 c_k= 0.20200898393605224 a_k= 0.025618675614514 g= -0.5371615752557085 E_A= (-3.735198592678299+0j) E_B= (-3.518175664624509+0j) E_f= -4.2817609518892\n",
      "k= 866 c_k= 0.20198543896132912 a_k= 0.0256128013829405 g= 0.03441717059349276 E_A= (-3.858164594176836+0j) E_B= (-3.8720681287971033+0j) E_f= -4.281415989833614\n"
     ]
    },
    {
     "name": "stdout",
     "output_type": "stream",
     "text": [
      "k= 867 c_k= 0.20196192386731332 a_k= 0.025606935190279307 g= -2.383047415858251 E_A= (-3.9218866339076977+0j) E_B= (-2.959316952360174+0j) E_f= -4.281539736262527\n",
      "k= 868 c_k= 0.20193843858172422 a_k= 0.02560107701639198 g= -0.42296989985030836 E_A= (-3.466040859964166+0j) E_B= (-3.295213097678487+0j) E_f= -4.277649028808159\n",
      "k= 869 c_k= 0.20191498303253896 a_k= 0.02559522684121335 g= -0.4203936280099969 E_A= (-3.6646365481842826+0j) E_B= (-3.4948690036510306+0j) E_f= -4.273042978890714\n",
      "k= 870 c_k= 0.20189155714799123 a_k= 0.025589384644751197 g= 0.06989481801956779 E_A= (-3.2760075656751533+0j) E_B= (-3.3042299129682453+0j) E_f= -4.2755202143265505\n",
      "k= 871 c_k= 0.20186816085657003 a_k= 0.02558355040708589 g= 0.11140972284287613 E_A= (-3.5249704151241477+0j) E_B= (-3.569950566827811+0j) E_f= -4.275381746594748\n",
      "k= 872 c_k= 0.20184479408701855 a_k= 0.025577724108370028 g= 0.34460721419356255 E_A= (-3.17876525214652+0j) E_B= (-3.3178795965261214+0j) E_f= -4.276533130464332\n",
      "k= 873 c_k= 0.20182145676833294 a_k= 0.025571905728828132 g= 0.39533365178885693 E_A= (-3.606572961314827+0j) E_B= (-3.766146588341971+0j) E_f= -4.273550821876859\n",
      "k= 874 c_k= 0.20179814882976102 a_k= 0.025566095248756266 g= -0.9425225275731082 E_A= (-3.805260205805552+0j) E_B= (-3.4248616032163506+0j) E_f= -4.285782346029866\n",
      "k= 875 c_k= 0.20177487020080137 a_k= 0.025560292648521717 g= 0.907526510621439 E_A= (-3.567042298662048+0j) E_B= (-3.933274386430902+0j) E_f= -4.28772945285392\n",
      "k= 876 c_k= 0.20175162081120182 a_k= 0.025554497908562665 g= -0.8749529535316957 E_A= (-3.9255984205816508+0j) E_B= (-3.5725520675645153+0j) E_f= -4.2946864743071895\n",
      "k= 877 c_k= 0.20172840059095853 a_k= 0.025548711009387826 g= 0.6308017998163172 E_A= (-3.6919717278729802+0j) E_B= (-3.9464730042066676+0j) E_f= -4.299316552219229\n",
      "k= 878 c_k= 0.2017052094703148 a_k= 0.025542931931576127 g= -0.7401091200007004 E_A= (-3.896141352302191+0j) E_B= (-3.597573622140928+0j) E_f= -4.3029712675621665\n",
      "k= 879 c_k= 0.20168204737975975 a_k= 0.025537160655776384 g= -0.4906275438890524 E_A= (-3.9259193603891176+0j) E_B= (-3.7280178252842235+0j) E_f= -4.3023365373159965\n",
      "k= 880 c_k= 0.20165891425002735 a_k= 0.025531397162706967 g= 0.8074803210747998 E_A= (-3.0230063457728016+0j) E_B= (-3.348677555425217+0j) E_f= -4.318106081929866\n",
      "k= 881 c_k= 0.20163581001209527 a_k= 0.02552564143315546 g= 0.05157784825567933 E_A= (-3.954562704215549+0j) E_B= (-3.975362586638979+0j) E_f= -4.318598243108669\n",
      "k= 882 c_k= 0.20161273459718365 a_k= 0.025519893447978358 g= 0.5164403732919453 E_A= (-3.553174220843819+0j) E_B= (-3.761416132675378+0j) E_f= -4.323518979328666\n",
      "k= 883 c_k= 0.201589687936754 a_k= 0.02551415318810072 g= 0.29053448209655436 E_A= (-3.469983896924687+0j) E_B= (-3.5871214080861087+0j) E_f= -4.32550819985349\n",
      "k= 884 c_k= 0.2015666699625082 a_k= 0.025508420634515867 g= -0.053149117197739744 E_A= (-3.265662958846306+0j) E_B= (-3.2442367777163152+0j) E_f= -4.325595526434926\n",
      "k= 885 c_k= 0.20154368060638717 a_k= 0.025502695768285042 g= 0.8976936120102003 E_A= (-3.3169249390298807+0j) E_B= (-3.6787738882726364+0j) E_f= -4.318083243805208\n",
      "k= 886 c_k= 0.20152071980057 a_k= 0.025496978570537114 g= -1.1890003638527333 E_A= (-4.087047716243703+0j) E_B= (-3.607831297910218+0j) E_f= -4.313105599742238\n",
      "k= 887 c_k= 0.2014977874774727 a_k= 0.025491269022468243 g= 0.0033332336826968705 E_A= (-3.453336000158275+0j) E_B= (-3.4546792785826925+0j) E_f= -4.31313241894483\n",
      "k= 888 c_k= 0.20147488356974716 a_k= 0.025485567105341566 g= 0.2189851866399821 E_A= (-3.6056530536304594+0j) E_B= (-3.693893083594039+0j) E_f= -4.30818295598853\n",
      "k= 889 c_k= 0.20145200801028001 a_k= 0.025479872800486907 g= 1.194600697477886 E_A= (-3.017862390111004+0j) E_B= (-3.4991718086658063+0j) E_f= -4.300929504179935\n",
      "k= 890 c_k= 0.20142916073219155 a_k= 0.025474186089300434 g= -0.5629826870446378 E_A= (-3.93145243947467+0j) E_B= (-3.7046501791583593+0j) E_f= -4.29913726693734\n",
      "k= 891 c_k= 0.20140634166883487 a_k= 0.02546850695324438 g= 0.1408349507119299 E_A= (-3.6619064542089896+0j) E_B= (-3.7186365586129906+0j) E_f= -4.2976536856112935\n",
      "k= 892 c_k= 0.20138355075379435 a_k= 0.0254628353738467 g= -0.11516787805145688 E_A= (-3.5685580435310307+0j) E_B= (-3.522172211101466+0j) E_f= -4.295548022509394\n",
      "k= 893 c_k= 0.20136078792088513 a_k= 0.025457171332700798 g= 0.5120831731371274 E_A= (-3.7634244098166674+0j) E_B= (-3.9696513522645054+0j) E_f= -4.295004669290135\n",
      "k= 894 c_k= 0.20133805310415154 a_k= 0.025451514811465223 g= 0.20463325345322694 E_A= (-3.5621812221981237+0j) E_B= (-3.644582143899406+0j) E_f= -4.2932713617741545\n",
      "k= 895 c_k= 0.20131534623786648 a_k= 0.025445865791863333 g= 0.012412621532746406 E_A= (-3.651446556945946+0j) E_B= (-3.656444259349115+0j) E_f= -4.293525758453773\n",
      "k= 896 c_k= 0.20129266725653008 a_k= 0.025440224255683028 g= -0.5896862051636504 E_A= (-3.7578110822268678+0j) E_B= (-3.5204120640633225+0j) E_f= -4.288671058874204\n",
      "k= 897 c_k= 0.20127001609486886 a_k= 0.025434590184776444 g= 0.568988326757853 E_A= (-3.2216196649929296+0j) E_B= (-3.4506602443616208+0j) E_f= -4.286726483100031\n",
      "k= 898 c_k= 0.2012473926878345 a_k= 0.025428963561059646 g= 0.3249861687926818 E_A= (-3.384431938234595+0j) E_B= (-3.5152371764928665+0j) E_f= -4.296362665753232\n",
      "k= 899 c_k= 0.20122479697060297 a_k= 0.025423344366512328 g= -0.5630179763579216 E_A= (-3.752247848397323+0j) E_B= (-3.525661492430478+0j) E_f= -4.293651662362587\n"
     ]
    }
   ],
   "source": [
    "out = SPSA(900,method = 'simple',hold = True)"
   ]
  },
  {
   "cell_type": "code",
   "execution_count": 194,
   "metadata": {},
   "outputs": [
    {
     "data": {
      "text/plain": [
       "[<matplotlib.lines.Line2D at 0x7fccf980f280>]"
      ]
     },
     "execution_count": 194,
     "metadata": {},
     "output_type": "execute_result"
    },
    {
     "data": {
      "image/png": "[encoded data removed]",
      "text/plain": [
       "<Figure size 432x288 with 1 Axes>"
      ]
     },
     "metadata": {
      "needs_background": "light"
     },
     "output_type": "display_data"
    }
   ],
   "source": [
    "import matplotlib.pyplot as plt\n",
    "\n",
    "El = [out[i]['E'] for i in range(len(out))]\n",
    "tl = [i for i in range(len(El))]\n",
    "\n",
    "plt.plot(tl,El)"
   ]
  },
  {
   "cell_type": "code",
   "execution_count": 195,
   "metadata": {},
   "outputs": [],
   "source": [
    "import pickle\n",
    "\n",
    "file_to_store = open(\"VQE_UpOnly_T\"+str(T)+\"_Aa_\"+str(A_a)+\"_aa_\"+str(a_a)+\"_ca_\"+str(c_a)+\"_betaa_\"+str(beta_a)+\"_gammaa_\"+str(gamma_a)+\"_A_\"+str(A)+\"_a_\"+str(a)+\"_c_\"+str(c)+\"_beta_\"+str(beta)+\"_gamma_\"+str(gamma)+\".pickle\", \"wb\")\n",
    "\n",
    "pickle.dump(out, file_to_store)"
   ]
  },
  {
   "cell_type": "code",
   "execution_count": 197,
   "metadata": {},
   "outputs": [
    {
     "data": {
      "text/plain": [
       "array([-0.35887671,  0.14254231,  0.39481956,  0.30949696,  0.72049282,\n",
       "        0.28303435])"
      ]
     },
     "execution_count": 197,
     "metadata": {},
     "output_type": "execute_result"
    }
   ],
   "source": [
    "out[899]['alpha']"
   ]
  },
  {
   "cell_type": "code",
   "execution_count": 198,
   "metadata": {},
   "outputs": [
    {
     "data": {
      "text/plain": [
       "array([[ 1.94475647, -2.23816076, -0.81602088, -0.08454062],\n",
       "       [-0.22680081,  0.28485671,  0.85488709,  2.22526818]])"
      ]
     },
     "execution_count": 198,
     "metadata": {},
     "output_type": "execute_result"
    }
   ],
   "source": [
    "out[899]['phi']"
   ]
  },
  {
   "cell_type": "code",
   "execution_count": 214,
   "metadata": {},
   "outputs": [],
   "source": [
    "psi = np.transpose(y)\n",
    "order = np.argsort(e)\n",
    "\n",
    "e[order[0]]\n",
    "psi[order[0]]\n",
    "\n",
    "psi_C = []\n",
    "for c in range(0,Nc):\n",
    "    psi_c = []\n",
    "    for i in range(0,Ndown):\n",
    "        psi_ci = np.real(psi[order[0]][Ndown*c + i])\n",
    "        if psi_ci > 10**(-10):\n",
    "            psi_c.append(psi_ci)\n",
    "        else:\n",
    "            psi_c.append(0)\n",
    "    #print(psi_c)\n",
    "    psi_C.append(psi_c)"
   ]
  },
  {
   "cell_type": "code",
   "execution_count": 218,
   "metadata": {},
   "outputs": [
    {
     "name": "stdout",
     "output_type": "stream",
     "text": [
      "[0, 0, 0, 0, 0, 0, 0, 0.2902728396560092, 0, 0, 0, 0.2900706845542134, 0, 0.20888559926627817, 0.2087401247891156, 0]\n",
      "[0, 0, 0, 0, 0, 0, 0, 0.2756623271840448, 0, 0, 0, 0.22428995248703212, 0, 0.27566232718404493, 0.2242899524870322, 0]\n"
     ]
    }
   ],
   "source": [
    "print(psi_C[0])\n",
    "print(psi_C[1])"
   ]
  },
  {
   "cell_type": "markdown",
   "metadata": {},
   "source": [
    "# Issue: $|\\psi_{\\downarrow}>$ can be different for different spin up states.  I should have instead:\n",
    "\n",
    "$$|\\psi> = \\sum_c \\alpha_c|c>|\\psi_{\\downarrow c}> $$\n",
    "\n"
   ]
  },
  {
   "cell_type": "markdown",
   "metadata": {},
   "source": [
    "This gives us \n",
    "\n",
    "\\begin{equation}\n",
    "\\begin{split}\n",
    "<\\psi|H|\\psi> &= \\sum_{c,c'}\\alpha_c\\alpha_{c'}^{*}<c'|<\\psi_{\\downarrow c'}| H|c>|\\psi_{\\downarrow c}> \n",
    "\\\\\n",
    "& = \\sum_{c,c'}\\alpha_c\\alpha_{c'}^{*} \\left( <c'|\\hat{K}_{\\uparrow}|c><\\psi_{\\downarrow c'}|\\psi_{\\downarrow c}> + \\delta_{c',c}<\\psi_{\\downarrow c}|\\hat{K}_{\\downarrow}|\\psi_{\\downarrow c}> + u\\sum_i <c'|\\hat{n}_{i\\uparrow}|c><\\psi_{\\downarrow c'}|\\hat{n}_{i\\downarrow} |\\psi_{\\downarrow c}>   \\right)\n",
    "\\\\\n",
    "& = \\sum_{c,c'}\\alpha_c\\alpha_{c'}^{*} \\left( k_{c',c}<\\psi_{\\downarrow c'}|\\psi_{\\downarrow c}> + \\delta_{c',c}\\sum_i\\left( t<\\psi_{\\downarrow c}|X_i X_{i+1} |\\psi_{\\downarrow c}> +t<\\psi_{\\downarrow c}|Y_i Y_{i+1} |\\psi_{\\downarrow c}> + u_{i,c}<\\psi_{\\downarrow c}|Z_i |\\psi_{\\downarrow c}> + u_{i,c} \\right) \\right)\n",
    "\\end{split}\n",
    "\\end{equation}"
   ]
  },
  {
   "cell_type": "markdown",
   "metadata": {},
   "source": [
    "What do we do with this term: $<\\psi_{\\downarrow c'}|\\psi_{\\downarrow c}>$ ?\n",
    "\n",
    "It looks like we will need the extra qubit after all so that we can do \n",
    "\n",
    "$$|\\psi_{\\downarrow c c'}> = |0>|\\psi_{\\downarrow c}> + |1>|\\psi_{\\downarrow c'}> $$"
   ]
  },
  {
   "cell_type": "code",
   "execution_count": null,
   "metadata": {},
   "outputs": [],
   "source": []
  }
 ],
 "metadata": {
  "kernelspec": {
   "display_name": "Python 3",
   "language": "python",
   "name": "python3"
  },
  "language_info": {
   "codemirror_mode": {
    "name": "ipython",
    "version": 3
   },
   "file_extension": ".py",
   "mimetype": "text/x-python",
   "name": "python",
   "nbconvert_exporter": "python",
   "pygments_lexer": "ipython3",
   "version": "3.9.5"
  }
 },
 "nbformat": 4,
 "nbformat_minor": 4
}
