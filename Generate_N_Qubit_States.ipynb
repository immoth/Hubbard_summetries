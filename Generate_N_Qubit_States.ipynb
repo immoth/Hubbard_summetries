{
 "cells": [
  {
   "cell_type": "markdown",
   "metadata": {},
   "source": [
    "# Generating all of the N-qubit, L-site states\n",
    "\n",
    "The stratagy is as follows:\n",
    "\n",
    "0) Start with all of the particle on the left\n",
    "\n",
    "1) find the rightmost particle which has not hit the end of the chain yet\n",
    "\n",
    "2) update the state\n",
    "\n",
    "    a) move that particle up one\n",
    "\n",
    "    b) reset all partlces to the right of that partcle to be sequential nebiours starting at that partcles new position\n"
   ]
  },
  {
   "cell_type": "code",
   "execution_count": 12,
   "metadata": {},
   "outputs": [],
   "source": [
    "def Generate_States(N,L):\n",
    "    l = [i for i in range(0,N)]\n",
    "    psi_l = []\n",
    "    while l[0] < L-N:\n",
    "        ### create the state and store it\n",
    "        psi = 0\n",
    "        for i in l:\n",
    "            psi += 2**i\n",
    "        psi_l.append(psi)\n",
    "        ###\n",
    "        ###Update the particle locations\n",
    "        exit = 0\n",
    "        i = len(l)-1\n",
    "        while exit == 0:\n",
    "            if l[i] < L-len(l)+i:\n",
    "                l[i] += 1\n",
    "                for j in range(i+1,len(l)):\n",
    "                    l[j] = l[j-1]+1\n",
    "                exit = 1\n",
    "            else:\n",
    "                i -= 1\n",
    "        ###\n",
    "    ###Create the finale state\n",
    "    psi = 0\n",
    "    for i in l:\n",
    "        psi += 2**i\n",
    "    psi_l.append(psi)\n",
    "    ###\n",
    "    return psi_l"
   ]
  },
  {
   "cell_type": "code",
   "execution_count": 21,
   "metadata": {},
   "outputs": [
    {
     "name": "stdout",
     "output_type": "stream",
     "text": [
      "0b111\n",
      "0b1011\n",
      "0b10011\n",
      "0b100011\n",
      "0b1101\n",
      "0b10101\n",
      "0b100101\n",
      "0b11001\n",
      "0b101001\n",
      "0b110001\n",
      "0b1110\n",
      "0b10110\n",
      "0b100110\n",
      "0b11010\n",
      "0b101010\n",
      "0b110010\n",
      "0b11100\n",
      "0b101100\n",
      "0b110100\n",
      "0b111000\n"
     ]
    }
   ],
   "source": [
    "psi_l = Generate_States(3,6)\n",
    "\n",
    "for i in range(len(psi_l)):\n",
    "    print(bin(psi_l[i]))"
   ]
  },
  {
   "cell_type": "code",
   "execution_count": 22,
   "metadata": {},
   "outputs": [
    {
     "data": {
      "text/plain": [
       "20"
      ]
     },
     "execution_count": 22,
     "metadata": {},
     "output_type": "execute_result"
    }
   ],
   "source": [
    "len(psi_l)"
   ]
  },
  {
   "cell_type": "code",
   "execution_count": 23,
   "metadata": {},
   "outputs": [
    {
     "data": {
      "text/plain": [
       "'C:\\\\Users\\\\jsten\\\\IBMQ\\\\Hubbard_symmetries'"
      ]
     },
     "execution_count": 23,
     "metadata": {},
     "output_type": "execute_result"
    }
   ],
   "source": [
    "pwd"
   ]
  },
  {
   "cell_type": "code",
   "execution_count": null,
   "metadata": {},
   "outputs": [],
   "source": []
  }
 ],
 "metadata": {
  "kernelspec": {
   "display_name": "Python [conda env:qiskit_25v]",
   "language": "python",
   "name": "conda-env-qiskit_25v-py"
  },
  "language_info": {
   "codemirror_mode": {
    "name": "ipython",
    "version": 3
   },
   "file_extension": ".py",
   "mimetype": "text/x-python",
   "name": "python",
   "nbconvert_exporter": "python",
   "pygments_lexer": "ipython3",
   "version": "3.9.4"
  }
 },
 "nbformat": 4,
 "nbformat_minor": 4
}
