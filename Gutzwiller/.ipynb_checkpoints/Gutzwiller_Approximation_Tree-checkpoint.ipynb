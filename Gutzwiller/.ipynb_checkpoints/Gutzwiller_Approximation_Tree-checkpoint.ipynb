{
 "cells": [
  {
   "cell_type": "markdown",
   "id": "175f4579",
   "metadata": {},
   "source": [
    "# Approximate GHG\n",
    "\n",
    "The full Pauli decomposition of G is exponentially large.  I want to keep only the low orders of $\\sinh(g)$ and see how well that does approximating the energy."
   ]
  },
  {
   "cell_type": "markdown",
   "id": "ef5e8f1f",
   "metadata": {},
   "source": [
    "We are going to use \n",
    "$$ \\hat{H} = \\hat{K} + \\hat{D} $$\n",
    "with \n",
    "$$ \\hat{D} = \\sum_{i=0}^{N-1} (1-2c^{\\dagger}_{i\\uparrow}c_{i\\uparrow})(1-2c^{\\dagger}_{i\\downarrow}c_{i\\downarrow})$$\n",
    "Since this makes the Pauli decomposition of $G$ much more simple\n",
    "\n",
    "$$ G = e^{-g \\hat{D}}  = \\prod_{i=0}^N e^{-g (1-2c^{\\dagger}_{i\\uparrow}c_{i\\uparrow})(1-2c^{\\dagger}_{i\\downarrow}c_{i\\downarrow})} \\rightarrow \\prod_{i=0}^N e^{-g Z_{i\\uparrow}Z_{i\\downarrow} } = \\prod_{i=0}^N (\\cosh(g) - \\sinh(g)Z_{i\\uparrow}Z_{i\\downarrow}) $$"
   ]
  },
  {
   "cell_type": "markdown",
   "id": "521b7a6f",
   "metadata": {},
   "source": [
    "The idea is to keep only low orders of $\\sinh(g)$ but I need to be able to keep all orders in order to check and make sure I have the right decomposition.  "
   ]
  },
  {
   "cell_type": "code",
   "execution_count": 52,
   "id": "9a97a54a",
   "metadata": {},
   "outputs": [],
   "source": [
    "from qiskit import quantum_info as qi\n",
    "import scipy as sp\n",
    "import numpy as np\n",
    "import pandas as pd\n",
    "import matplotlib.pyplot as plt\n",
    "\n",
    "def I(N):\n",
    "    label = ['I' for i in range(N)]\n",
    "    label = ''.join(label)\n",
    "    return qi.Operator.from_label(label).data\n",
    "\n",
    "def X(i,N):\n",
    "    label = ['I' for i in range(N)]\n",
    "    label[i] = 'X'\n",
    "    label = ''.join(label)\n",
    "    return qi.Operator.from_label(label).data\n",
    "\n",
    "def Y(i,N):\n",
    "    label = ['I' for i in range(N)]\n",
    "    label[i] = 'Y'\n",
    "    label = ''.join(label)\n",
    "    return qi.Operator.from_label(label).data\n",
    "\n",
    "def Z(i,N):\n",
    "    label = ['I' for i in range(N)]\n",
    "    label[i] = 'Z'\n",
    "    label = ''.join(label)\n",
    "    return qi.Operator.from_label(label).data\n",
    "\n",
    "def c(i,N):\n",
    "    label_1 = ['Z' for j in range(i)]\n",
    "    label_2 = ['I' for j in range(i+1,N)]\n",
    "    label_x = label_1 + ['X'] + label_2\n",
    "    label_y = label_1 + ['Y'] + label_2\n",
    "    label_x = ''.join(label_x)\n",
    "    label_y = ''.join(label_y)\n",
    "    x = qi.Operator.from_label(label_x).data\n",
    "    y = qi.Operator.from_label(label_y).data\n",
    "    return 1/2*(x+1j*y)\n",
    "\n",
    "def cd(i,N):\n",
    "    label_1 = ['Z' for j in range(i)]\n",
    "    label_2 = ['I' for j in range(i+1,N)]\n",
    "    label_x = label_1 + ['X'] + label_2\n",
    "    label_y = label_1 + ['Y'] + label_2\n",
    "    label_x = ''.join(label_x)\n",
    "    label_y = ''.join(label_y)\n",
    "    x = qi.Operator.from_label(label_x).data\n",
    "    y = qi.Operator.from_label(label_y).data\n",
    "    return 1/2*(x-1j*y)\n",
    "\n",
    "def ad(n,N):\n",
    "    out = cd(0,N)\n",
    "    for i in range(1,N):\n",
    "        out = out + np.exp(1j*2*np.pi*n*i/N)*cd(i,N)\n",
    "    return 1/np.sqrt(N)*out\n",
    "\n",
    "def a(n,N):\n",
    "    out = c(0,N)\n",
    "    for i in range(1,N):\n",
    "        out = out + np.exp(-1j*2*np.pi*n*i/N)*c(i,N)\n",
    "    return 1/np.sqrt(N)*out\n",
    "\n",
    "import numpy as np\n",
    "\n",
    "def Mdot(Ol):\n",
    "    out = Ol[0]\n",
    "    for i in range(1,len(Ol)):\n",
    "        out = np.dot(Ol[i],out)\n",
    "    return out\n",
    "\n",
    "def bkt(y1,O,y2):\n",
    "    return Mdot([np.conjugate(y1),O,y2])"
   ]
  },
  {
   "cell_type": "code",
   "execution_count": 45,
   "id": "c4d7684e",
   "metadata": {},
   "outputs": [
    {
     "data": {
      "text/plain": [
       "7.105427357601002e-15"
      ]
     },
     "execution_count": 45,
     "metadata": {},
     "output_type": "execute_result"
    }
   ],
   "source": [
    "def Ks(N):\n",
    "    I0 = np.identity(len(Km(1,N)))\n",
    "    return np.kron(Km(1,N),I0) + np.kron(I0,Km(1,N))\n",
    "\n",
    "def Km(k,N):\n",
    "    m = 0*I(N)\n",
    "    for i in range(0,N-1):\n",
    "        m = m + Mdot([cd(i,N),c(i+1,N)])+ Mdot([cd(i+1,N),c(i,N)])\n",
    "    m = m + Mdot([cd(N-1,N),c(0,N)])+ Mdot([cd(0,N),c(N-1,N)])\n",
    "    return m\n",
    "\n",
    "def Ds(N):\n",
    "    out = 0*I(2*N)\n",
    "    for i in range(N):\n",
    "        out = out + Mdot([ I(2*N)-2*Mdot([cd(i,2*N),c(i,2*N)]) , I(2*N)-2*Mdot([cd(i+N,2*N),c(i+N,2*N)]) ])\n",
    "    return out\n",
    "\n",
    "def Hs(k,d,N):\n",
    "    return k*Ks(N) + d*Ds(N)\n",
    "\n",
    "\n",
    "def Gz(g,N):\n",
    "    out = I(2*N)\n",
    "    C = np.cosh(g)\n",
    "    S = np.sinh(g)\n",
    "    for i in range(N):\n",
    "        out = Mdot([  out, C*I(2*N) -  S*Mdot([Z(i,2*N),Z(i+N,2*N)]) ]) \n",
    "    return out\n",
    "\n",
    "np.amax(np.abs( sp.linalg.expm(-Ds(4)) - Gz(1,4) ))"
   ]
  },
  {
   "cell_type": "code",
   "execution_count": 46,
   "id": "3e7fb0d9",
   "metadata": {},
   "outputs": [],
   "source": [
    "def branch(inp,o):\n",
    "    out = []\n",
    "    for e in inp:\n",
    "        out.append([e[0]+'c',e[1]+0])\n",
    "        if e[1] < o:\n",
    "            out.append([e[0]+'s',e[1]+1])\n",
    "    return(out)\n",
    "\n",
    "def create_tree(Nt,o):\n",
    "    out = [['',0]]\n",
    "    for ti in range(Nt):\n",
    "        out = branch(out,o)\n",
    "    return out"
   ]
  },
  {
   "cell_type": "code",
   "execution_count": 47,
   "id": "a6994f52",
   "metadata": {},
   "outputs": [],
   "source": [
    "def Gz_tree(g,N,o):\n",
    "    Op = I(2*N)-I(2*N)\n",
    "    tree = create_tree(N,o)\n",
    "    for branchT in tree:\n",
    "        Op_B = I(2*N)\n",
    "        branch = branchT[0]\n",
    "        for i in range(N):\n",
    "            if branch[i] == 'c':\n",
    "                Op_B = np.cosh(g)*Mdot([Op_B,I(2*N)])\n",
    "            if branch[i] == 's':\n",
    "                Op_B = -np.sinh(g)*Mdot([Op_B,Z(i,2*N),Z(i+N,2*N)])\n",
    "        Op = Op + Op_B\n",
    "    return Op\n"
   ]
  },
  {
   "cell_type": "code",
   "execution_count": 48,
   "id": "490ddc10",
   "metadata": {},
   "outputs": [
    {
     "data": {
      "text/plain": [
       "4.440892098500626e-16"
      ]
     },
     "execution_count": 48,
     "metadata": {},
     "output_type": "execute_result"
    }
   ],
   "source": [
    "np.amax(np.abs(Gz(0.3,4)-Gz_tree(0.3,4,4)))"
   ]
  },
  {
   "cell_type": "code",
   "execution_count": 50,
   "id": "4c6fb60d",
   "metadata": {},
   "outputs": [],
   "source": [
    "def psi0(N):\n",
    "    y = [0 for i in range(2**N)]\n",
    "    y[-1] = 1\n",
    "    return y"
   ]
  },
  {
   "cell_type": "code",
   "execution_count": 79,
   "id": "9e1288fe",
   "metadata": {},
   "outputs": [
    {
     "data": {
      "text/plain": [
       "[<matplotlib.lines.Line2D at 0x7f91be678400>]"
      ]
     },
     "execution_count": 79,
     "metadata": {},
     "output_type": "execute_result"
    },
    {
     "data": {
      "image/png": "[encoded data removed]",
      "text/plain": [
       "<Figure size 432x288 with 1 Axes>"
      ]
     },
     "metadata": {
      "needs_background": "light"
     },
     "output_type": "display_data"
    }
   ],
   "source": [
    "psi1 = Mdot([ad(3,4),ad(2,4),psi0(4)])\n",
    "psi_spin = np.kron(psi1,psi1)\n",
    "\n",
    "H = Hs(1,0.5,4)\n",
    "e,y = np.linalg.eig(H)\n",
    "y = np.transpose(y)\n",
    "arg = np.argsort(e)\n",
    "e = np.sort(e)\n",
    "\n",
    "\n",
    "eg = []\n",
    "egt = []\n",
    "gl = []\n",
    "eT = []\n",
    "for gi in range(-10,10):\n",
    "    g = 0.1*gi\n",
    "    #expD = sp.linalg.expm(-g*Ds(4))\n",
    "    expD = Gz(g,4)\n",
    "    expD_tree = Gz_tree(g,4,1)\n",
    "    psi = Mdot([expD,psi_spin])\n",
    "    psit = Mdot([expD_tree,psi_spin])\n",
    "    psi = psi/np.sqrt(Mdot([np.conjugate(psi),psi]))\n",
    "    psit = psit/np.sqrt(Mdot([np.conjugate(psit),psit]))\n",
    "    egl = bkt(psi,H,psi)\n",
    "    egtl = bkt(psit,H,psit)\n",
    "    eg.append(egl)\n",
    "    egt.append(egtl)\n",
    "    gl.append(g)\n",
    "    eT.append(e[0])\n",
    "\n",
    "plt.plot(gl,eg)\n",
    "plt.plot(gl,egt)\n",
    "plt.plot(gl,eT)"
   ]
  },
  {
   "cell_type": "code",
   "execution_count": null,
   "id": "8046cf7b",
   "metadata": {},
   "outputs": [],
   "source": []
  },
  {
   "cell_type": "code",
   "execution_count": null,
   "id": "868056a0",
   "metadata": {},
   "outputs": [],
   "source": []
  },
  {
   "cell_type": "code",
   "execution_count": null,
   "id": "a56423c7",
   "metadata": {},
   "outputs": [],
   "source": []
  },
  {
   "cell_type": "code",
   "execution_count": null,
   "id": "0bb7e075",
   "metadata": {},
   "outputs": [],
   "source": []
  },
  {
   "cell_type": "code",
   "execution_count": null,
   "id": "1680f820",
   "metadata": {},
   "outputs": [],
   "source": []
  },
  {
   "cell_type": "code",
   "execution_count": null,
   "id": "665fcdfa",
   "metadata": {},
   "outputs": [],
   "source": []
  },
  {
   "cell_type": "code",
   "execution_count": null,
   "id": "d8593163",
   "metadata": {},
   "outputs": [],
   "source": []
  },
  {
   "cell_type": "code",
   "execution_count": null,
   "id": "71d64fde",
   "metadata": {},
   "outputs": [],
   "source": []
  },
  {
   "cell_type": "code",
   "execution_count": null,
   "id": "6994ece0",
   "metadata": {},
   "outputs": [],
   "source": []
  },
  {
   "cell_type": "code",
   "execution_count": null,
   "id": "76d27320",
   "metadata": {},
   "outputs": [],
   "source": []
  },
  {
   "cell_type": "code",
   "execution_count": null,
   "id": "ed7667af",
   "metadata": {},
   "outputs": [],
   "source": [
    "def G_tree_full(g,N,o):\n",
    "    Op = I(2*N) - I(2*N)\n",
    "    tree = create_tree(4*N,o)\n",
    "    for branch_T in tree:\n",
    "        branch = branch_T[0]\n",
    "        weight = 1\n",
    "        Op_B = I(2*N)\n",
    "        for i in range(N):\n",
    "            z1 = 0\n",
    "            z2 = 0\n",
    "            #check first\n",
    "            if branch[4*i] == 'c':\n",
    "                weight = weight*np.cosh(g/4)\n",
    "            else: \n",
    "                weight = -weight*np.sinh(g/4)\n",
    "            #check second\n",
    "            if branch[4*i+1] == 'c':\n",
    "                weight = weight*np.cosh(g/4)\n",
    "            else:\n",
    "                weight = weight*np.sinh(g/4)\n",
    "                Op_B = Mdot([Op_B,Z(i,2*N)])\n",
    "            #check third\n",
    "            if branch[4*i+2] == 'c':\n",
    "                weight = weight*np.cosh(g/4)\n",
    "            else:\n",
    "                weight = weight*np.sinh(g/4)\n",
    "                Op_B = Mdot([Op_B,Z(i+N,2*N)])\n",
    "            #check fourth\n",
    "            if branch[4*i+3] == 'c':\n",
    "                weight = weight*np.cosh(g/4)\n",
    "            else:\n",
    "                weight = -weight*np.sinh(g/4)\n",
    "                Op_B = Mdot([Op_B,Z(i,2*N),Z(i,2*N)])\n",
    "        Op = Op + weight*Op_B\n",
    "    return Op\n",
    "                \n",
    "            \n",
    "G_tree_full(0.3,4,2)          \n",
    "       "
   ]
  },
  {
   "cell_type": "code",
   "execution_count": null,
   "id": "6432f103",
   "metadata": {},
   "outputs": [],
   "source": [
    "def norm_tree_full(g,N,o):\n",
    "    out = []\n",
    "    tree = create_tree(4*N,o)\n",
    "    for branch_T in tree:\n",
    "        branch = branch_T[0]\n",
    "        out_b = {'p':[],'w':1}\n",
    "        for i in range(N):\n",
    "            z1 = 0\n",
    "            z2 = 0\n",
    "            #check first\n",
    "            if branch[4*i] == 'c':\n",
    "                out_b['w'] = out_b['w']*np.cosh(g/2)\n",
    "            else: \n",
    "                out_b['w'] = out_b['w']*np.sinh(g/2)\n",
    "            #check second\n",
    "            if branch[4*i+1] == 'c':\n",
    "                out_b['w'] = out_b['w']*np.cosh(g/2)\n",
    "            else:\n",
    "                out_b['w'] = out_b['w']*np.sinh(g/2)\n",
    "                z1 += 1\n",
    "            #check third\n",
    "            if branch[4*i+2] == 'c':\n",
    "                out_b['w'] = out_b['w']*np.cosh(g/2)\n",
    "            else:\n",
    "                out_b['w'] = out_b['w']*np.sinh(g/2)\n",
    "                z2 += 1\n",
    "            #check fourth\n",
    "            if branch[4*i+3] == 'c':\n",
    "                out_b['w'] = out_b['w']*np.cosh(g/2)\n",
    "            else:\n",
    "                out_b['w'] = out_b['w']*np.sinh(g/2)\n",
    "                z1 += 1\n",
    "                z2 += 1\n",
    "            #attach Zs\n",
    "            if np.mod(z1,2) == 0 and np.mod(z2,2) == 0 :\n",
    "                out_b['p'].append('I')\n",
    "            if np.mod(z1,2) == 1 and np.mod(z2,2) == 0 :\n",
    "                out_b['p'].append('Zu')\n",
    "            if np.mod(z1,2) == 0 and np.mod(z2,2) == 1 :\n",
    "                out_b['p'].append('Zd')\n",
    "            if np.mod(z1,2) == 1 and np.mod(z2,2) == 1 :\n",
    "                out_b['p'].append('ZuZd')\n",
    "        out.append(out_b)\n",
    "    return out\n",
    "                "
   ]
  }
 ],
 "metadata": {
  "kernelspec": {
   "display_name": "Python (qiskit_nick)",
   "language": "python",
   "name": "qiskit_nick"
  },
  "language_info": {
   "codemirror_mode": {
    "name": "ipython",
    "version": 3
   },
   "file_extension": ".py",
   "mimetype": "text/x-python",
   "name": "python",
   "nbconvert_exporter": "python",
   "pygments_lexer": "ipython3",
   "version": "3.9.6"
  },
  "toc": {
   "base_numbering": 1,
   "nav_menu": {},
   "number_sections": true,
   "sideBar": true,
   "skip_h1_title": false,
   "title_cell": "Table of Contents",
   "title_sidebar": "Contents",
   "toc_cell": false,
   "toc_position": {},
   "toc_section_display": true,
   "toc_window_display": false
  }
 },
 "nbformat": 4,
 "nbformat_minor": 5
}
