{
 "cells": [
  {
   "cell_type": "markdown",
   "id": "75314676",
   "metadata": {},
   "source": [
    "# Gutzwiller for triangular lattice\n",
    "\n",
    "We are doing specifically $N=4$ so I will not have $N$ dependence as in the square lattice case."
   ]
  },
  {
   "cell_type": "markdown",
   "id": "c0edea96",
   "metadata": {},
   "source": [
    "# Single Particle Solution"
   ]
  },
  {
   "cell_type": "code",
   "execution_count": 3,
   "id": "126f862d",
   "metadata": {},
   "outputs": [],
   "source": [
    "import qiskit.quantum_info as qi\n",
    "import scipy as sp\n",
    "import numpy as np\n",
    "import pandas as pd\n",
    "import math\n",
    "import scipy.linalg as ln\n",
    "\n",
    "\n",
    "def Mdot(Ol):\n",
    "    L = len(Ol)\n",
    "    out = Ol[L-1]\n",
    "    for i in range(1,len(Ol)):\n",
    "        out = np.dot(Ol[L-1-i],out)\n",
    "    return out\n",
    "\n",
    "def bkt(y1,O,y2):\n",
    "    return Mdot([np.conjugate(y1),O,y2])"
   ]
  },
  {
   "cell_type": "code",
   "execution_count": 4,
   "id": "32912843",
   "metadata": {},
   "outputs": [],
   "source": [
    "def Ks(k):\n",
    "    h = [[0 for i in range(4)] for ii in range(4)]\n",
    "    h[0][1] = -k; h[0][2] = -k; h[0][3] = -k;\n",
    "    h[1][0] = -k; h[1][2] = -k; h[1][3] = -k;\n",
    "    h[2][0] = -k; h[2][1] = -k; h[2][3] = -k;\n",
    "    h[3][0] = -k; h[3][1] = -k; h[3][2] = -k;\n",
    "    return h"
   ]
  },
  {
   "cell_type": "code",
   "execution_count": 5,
   "id": "98cac024",
   "metadata": {},
   "outputs": [],
   "source": [
    "e,y = ln.eigh(Ks(1))\n",
    "F = np.transpose(y)\n",
    "Fd = np.conjugate(np.transpose(F))"
   ]
  },
  {
   "cell_type": "code",
   "execution_count": 6,
   "id": "d1c907ee",
   "metadata": {},
   "outputs": [
    {
     "data": {
      "text/plain": [
       "array([-8.8817842e-16,  0.0000000e+00,  0.0000000e+00,  0.0000000e+00])"
      ]
     },
     "execution_count": 6,
     "metadata": {},
     "output_type": "execute_result"
    }
   ],
   "source": [
    "Mdot([Ks(2),F[0]])-bkt(F[0],Ks(2),F[0])*F[0]"
   ]
  },
  {
   "cell_type": "code",
   "execution_count": 7,
   "id": "72002557",
   "metadata": {},
   "outputs": [
    {
     "data": {
      "text/plain": [
       "array([[-6.00000000e+00,  6.66133815e-16, -1.22124533e-15,\n",
       "         0.00000000e+00],\n",
       "       [ 7.21644966e-16,  2.00000000e+00, -1.40847040e-16,\n",
       "        -3.49073731e-16],\n",
       "       [-6.66133815e-16, -1.01524020e-16,  2.00000000e+00,\n",
       "         1.47214867e-17],\n",
       "       [ 0.00000000e+00, -3.30025315e-16, -1.38511368e-17,\n",
       "         2.00000000e+00]])"
      ]
     },
     "execution_count": 7,
     "metadata": {},
     "output_type": "execute_result"
    }
   ],
   "source": [
    "Mdot([F,Ks(2),np.transpose(np.conjugate(F))])"
   ]
  },
  {
   "cell_type": "markdown",
   "id": "013b4e99",
   "metadata": {},
   "source": [
    "# Many Body"
   ]
  },
  {
   "cell_type": "code",
   "execution_count": 8,
   "id": "b87510c6",
   "metadata": {},
   "outputs": [],
   "source": [
    "def I(N):\n",
    "    label = ['I' for i in range(N)]\n",
    "    label = ''.join(label)\n",
    "    return qi.Operator.from_label(label).data\n",
    "\n",
    "def X(i,N):\n",
    "    label = ['I' for i in range(N)]\n",
    "    label[N-1-i] = 'X'\n",
    "    label = ''.join(label)\n",
    "    return qi.Operator.from_label(label).data\n",
    "\n",
    "def Y(i,N):\n",
    "    label = ['I' for i in range(N)]\n",
    "    label[N-1-i] = 'Y'\n",
    "    label = ''.join(label)\n",
    "    return qi.Operator.from_label(label).data\n",
    "\n",
    "def Z(i,N):\n",
    "    label = ['I' for i in range(N)]\n",
    "    label[N-1-i] = 'Z'\n",
    "    label = ''.join(label)\n",
    "    return qi.Operator.from_label(label).data\n",
    "\n",
    "def c(i,N):\n",
    "    label_1 = ['Z' for j in range(N-i-1)]\n",
    "    label_2 = ['I' for j in range(N-i,N)]\n",
    "    label_x = label_1 + ['X'] + label_2\n",
    "    label_y = label_1 + ['Y'] + label_2\n",
    "    label_x = ''.join(label_x)\n",
    "    label_y = ''.join(label_y)\n",
    "    x = qi.Operator.from_label(label_x).data\n",
    "    y = qi.Operator.from_label(label_y).data\n",
    "    return 1/2*(x+1j*y)\n",
    "\n",
    "def cd(i,N):\n",
    "    label_1 = ['Z' for j in range(N-i-1)]\n",
    "    label_2 = ['I' for j in range(N-i,N)]\n",
    "    label_x = label_1 + ['X'] + label_2\n",
    "    label_y = label_1 + ['Y'] + label_2\n",
    "    label_x = ''.join(label_x)\n",
    "    label_y = ''.join(label_y)\n",
    "    x = qi.Operator.from_label(label_x).data\n",
    "    y = qi.Operator.from_label(label_y).data\n",
    "    return 1/2*(x-1j*y)\n",
    "\n",
    "def n(i,N):\n",
    "    return Mdot([cd(i,N),c(i,N)])\n",
    "\n",
    "def ad(n,N):\n",
    "    out = Fd[0][n]*cd(0,N)\n",
    "    for i in range(1,N):\n",
    "        out = out + Fd[i][n]*cd(i,N)\n",
    "    return out\n",
    "\n",
    "def a(n,N):\n",
    "    out = F[n][0]*c(0,N)\n",
    "    for i in range(1,N):\n",
    "        out = out + F[n][i]*c(i,N)\n",
    "    return out"
   ]
  },
  {
   "cell_type": "code",
   "execution_count": 9,
   "id": "cf73238f",
   "metadata": {},
   "outputs": [],
   "source": [
    "def K(k):\n",
    "    Kout = 0*I(8)\n",
    "    Kout = Kout + Mdot([cd(0,8),c(1,8)]) + Mdot([cd(0,8),c(2,8)])+ Mdot([cd(0,8),c(3,8)])\n",
    "    Kout = Kout + Mdot([cd(1,8),c(0,8)]) + Mdot([cd(1,8),c(2,8)])+ Mdot([cd(1,8),c(3,8)])\n",
    "    Kout = Kout + Mdot([cd(2,8),c(0,8)]) + Mdot([cd(2,8),c(1,8)])+ Mdot([cd(2,8),c(3,8)])\n",
    "    Kout = Kout + Mdot([cd(3,8),c(0,8)]) + Mdot([cd(3,8),c(1,8)])+ Mdot([cd(3,8),c(2,8)])\n",
    "    N=4\n",
    "    Kout = Kout + Mdot([cd(N+0,8),c(N+1,8)]) + Mdot([cd(N+0,8),c(N+2,8)])+ Mdot([cd(N+0,8),c(N+3,8)])\n",
    "    Kout = Kout + Mdot([cd(N+1,8),c(N+0,8)]) + Mdot([cd(N+1,8),c(N+2,8)])+ Mdot([cd(N+1,8),c(N+3,8)])\n",
    "    Kout = Kout + Mdot([cd(N+2,8),c(N+0,8)]) + Mdot([cd(N+2,8),c(N+1,8)])+ Mdot([cd(N+2,8),c(N+3,8)])\n",
    "    Kout = Kout + Mdot([cd(N+3,8),c(N+0,8)]) + Mdot([cd(N+3,8),c(N+1,8)])+ Mdot([cd(N+3,8),c(N+2,8)])\n",
    "    return k*Kout\n",
    "\n",
    "def G(g):\n",
    "    N=4\n",
    "    out = I(2*N)\n",
    "    for i in range(N):\n",
    "        out = Mdot([ out , I(2*N) + (np.exp(-g)-1)*Mdot([n(i,2*N),n(i+N,2*N)]) ])\n",
    "    return out\n",
    "\n",
    "def D(d):\n",
    "    N=4\n",
    "    Dout = 0*I(2*N)\n",
    "    for i in range(0,N):\n",
    "        Dout = Dout + Mdot([n(i,2*N),n(i+N,2*N)])\n",
    "    return d*Dout\n",
    "\n"
   ]
  },
  {
   "cell_type": "code",
   "execution_count": 10,
   "id": "5624202c",
   "metadata": {},
   "outputs": [],
   "source": [
    "def psi0(N):\n",
    "    y = [0 for i in range(2**N)]\n",
    "    y[0] = 1\n",
    "    return y\n",
    "\n",
    "psi1 = Mdot([ad(3,4),ad(2,4),psi0(4)])\n",
    "psi_spin = np.kron(psi1,psi1)"
   ]
  },
  {
   "cell_type": "code",
   "execution_count": 11,
   "id": "9c6ee1c2",
   "metadata": {},
   "outputs": [
    {
     "data": {
      "text/plain": [
       "6.661338147750939e-16"
      ]
     },
     "execution_count": 11,
     "metadata": {},
     "output_type": "execute_result"
    }
   ],
   "source": [
    "k=1.3\n",
    "np.amax(np.abs( Mdot([K(k),psi_spin]) - Mdot([np.conjugate(psi_spin),K(k),psi_spin])*psi_spin ))"
   ]
  },
  {
   "cell_type": "markdown",
   "id": "c2af8c8e",
   "metadata": {},
   "source": [
    "# Find the rotations that diagonalize F"
   ]
  },
  {
   "cell_type": "code",
   "execution_count": 12,
   "id": "fc11ca19",
   "metadata": {},
   "outputs": [],
   "source": [
    "def ry(i,j,phi,N):\n",
    "    M = (1+0*1j)*np.identity(N)\n",
    "    M[i,i] = np.cos(phi)\n",
    "    M[j,j] = np.cos(phi)\n",
    "    M[i,j] = np.sin(phi)\n",
    "    M[j,i] = -np.sin(phi)\n",
    "    return M\n",
    "\n",
    "def rz(j,phi,N):\n",
    "    M = (1+0*1j)*np.identity(N)\n",
    "    M[j,j] = np.exp(1j*phi)\n",
    "    return M\n",
    "\n",
    "def givens(i,j,F):\n",
    "    if F[j,i] > 0:\n",
    "        phiz = 1j*np.log( F[j,i]/F[i,i] * np.abs(F[i,i])/np.abs(F[j,i]) +1j*0)\n",
    "        Fz =  Mdot([rz(j,phiz,4) , F])\n",
    "    else:\n",
    "        Fz=F\n",
    "        phiz = 0\n",
    "    phi = np.arctan(Fz[j,i]/Fz[i,i])\n",
    "    F_new = Mdot([ry(i,j,phi,4) , Fz])\n",
    "    return F_new,phiz,phi"
   ]
  },
  {
   "cell_type": "code",
   "execution_count": 13,
   "id": "8a63e8a9",
   "metadata": {},
   "outputs": [
    {
     "data": {
      "text/html": [
       "<div>\n",
       "<style scoped>\n",
       "    .dataframe tbody tr th:only-of-type {\n",
       "        vertical-align: middle;\n",
       "    }\n",
       "\n",
       "    .dataframe tbody tr th {\n",
       "        vertical-align: top;\n",
       "    }\n",
       "\n",
       "    .dataframe thead th {\n",
       "        text-align: right;\n",
       "    }\n",
       "</style>\n",
       "<table border=\"1\" class=\"dataframe\">\n",
       "  <thead>\n",
       "    <tr style=\"text-align: right;\">\n",
       "      <th></th>\n",
       "      <th>0</th>\n",
       "      <th>1</th>\n",
       "      <th>2</th>\n",
       "      <th>3</th>\n",
       "    </tr>\n",
       "  </thead>\n",
       "  <tbody>\n",
       "    <tr>\n",
       "      <th>0</th>\n",
       "      <td>-1.000000e+00-9.184851e-17j</td>\n",
       "      <td>1.166819e-17+6.123234e-17j</td>\n",
       "      <td>1.166819e-17+6.123234e-17j</td>\n",
       "      <td>1.166819e-17+6.123234e-17j</td>\n",
       "    </tr>\n",
       "    <tr>\n",
       "      <th>1</th>\n",
       "      <td>8.587605e-18-2.629196e-34j</td>\n",
       "      <td>1.000000e+00+1.779098e-33j</td>\n",
       "      <td>3.856319e-16+3.558196e-33j</td>\n",
       "      <td>1.635873e-16+3.558196e-33j</td>\n",
       "    </tr>\n",
       "    <tr>\n",
       "      <th>2</th>\n",
       "      <td>8.587605e-18-2.629196e-34j</td>\n",
       "      <td>3.549052e-18-2.355969e-49j</td>\n",
       "      <td>1.000000e+00+1.779098e-33j</td>\n",
       "      <td>1.014654e-17+3.558196e-33j</td>\n",
       "    </tr>\n",
       "    <tr>\n",
       "      <th>3</th>\n",
       "      <td>8.587605e-18-2.629196e-34j</td>\n",
       "      <td>3.549052e-18-2.482252e-49j</td>\n",
       "      <td>-2.237114e-17+3.421139e-49j</td>\n",
       "      <td>1.000000e+00+1.779098e-33j</td>\n",
       "    </tr>\n",
       "  </tbody>\n",
       "</table>\n",
       "</div>"
      ],
      "text/plain": [
       "                            0                           1  \\\n",
       "0 -1.000000e+00-9.184851e-17j  1.166819e-17+6.123234e-17j   \n",
       "1  8.587605e-18-2.629196e-34j  1.000000e+00+1.779098e-33j   \n",
       "2  8.587605e-18-2.629196e-34j  3.549052e-18-2.355969e-49j   \n",
       "3  8.587605e-18-2.629196e-34j  3.549052e-18-2.482252e-49j   \n",
       "\n",
       "                            2                           3  \n",
       "0  1.166819e-17+6.123234e-17j  1.166819e-17+6.123234e-17j  \n",
       "1  3.856319e-16+3.558196e-33j  1.635873e-16+3.558196e-33j  \n",
       "2  1.000000e+00+1.779098e-33j  1.014654e-17+3.558196e-33j  \n",
       "3 -2.237114e-17+3.421139e-49j  1.000000e+00+1.779098e-33j  "
      ]
     },
     "execution_count": 13,
     "metadata": {},
     "output_type": "execute_result"
    }
   ],
   "source": [
    "F1,pz1,p1 = givens(0,3,F)\n",
    "F2,pz2,p2 = givens(0,2,F1)\n",
    "F3,pz3,p3 = givens(0,1,F2)\n",
    "F4,pz4,p4 = givens(1,3,F3)\n",
    "F5,pz5,p5 = givens(1,2,F4)\n",
    "F6,pz6,p6 = givens(2,3,F5)\n",
    "pd.DataFrame( F6 )"
   ]
  },
  {
   "cell_type": "markdown",
   "id": "1467de3b",
   "metadata": {},
   "source": [
    "# Check that givens generates $a^{\\dagger}$"
   ]
  },
  {
   "cell_type": "code",
   "execution_count": 14,
   "id": "7e263a4d",
   "metadata": {},
   "outputs": [],
   "source": [
    "def bd(n,F):\n",
    "    N = len(F)\n",
    "    Fd = np.conjugate(np.transpose(F))\n",
    "    out = Fd[0][n]*cd(0,N)\n",
    "    for i in range(1,N):\n",
    "        out = out + Fd[i][n]*cd(i,N)\n",
    "    return out\n",
    "\n",
    "def b(n,F):\n",
    "    N = len(F)\n",
    "    out = F[n][0]*c(0,N)\n",
    "    for i in range(1,N):\n",
    "        out = out + F[n][i]*c(i,N)\n",
    "    return out\n",
    "\n",
    "def U(M):\n",
    "    N = len(M)\n",
    "    logM = sp.linalg.logm(M)\n",
    "    cMc = 0*I(N)\n",
    "    for i in range(N):\n",
    "        for j in range(N):\n",
    "            cMc = cMc + logM[i,j]*Mdot([cd(i,N),c(j,N)])\n",
    "    return sp.linalg.expm(cMc)"
   ]
  },
  {
   "cell_type": "code",
   "execution_count": 15,
   "id": "b8b54dd4",
   "metadata": {},
   "outputs": [],
   "source": [
    "\n",
    "def Ry_gate(i,j,phi,N):\n",
    "    Zchain = Mdot([I(4)]+[Z(l,N) for l in range(i+1,j)])\n",
    "    g1 = sp.linalg.expm(1j*phi/2*Mdot([X(i,N),Zchain,Y(j,N)]) )\n",
    "    g2 = sp.linalg.expm(-1j*phi/2* Mdot([Y(i,N),Zchain,X(j,N)]) )\n",
    "    return Mdot([g1,g2])\n",
    "\n",
    "def Rz_gate(j,phi,N):\n",
    "    return np.exp(1j*phi/2)*sp.linalg.expm(-1j*phi/2*Z(j,N))\n",
    "\n",
    "def G_gate(i,j,phi,phiz,N):\n",
    "    out = Mdot([Rz_gate(j,-phiz,N),Ry_gate(i,j,-phi,N)])\n",
    "    return out\n",
    "\n",
    "def g(i,j,phi,phiz):\n",
    "    return Mdot([rz(j,-phiz,4),ry(i,j,-phi,4)])"
   ]
  },
  {
   "cell_type": "code",
   "execution_count": 16,
   "id": "ca1d2dd6",
   "metadata": {},
   "outputs": [
    {
     "name": "stdout",
     "output_type": "stream",
     "text": [
      "1.9991048952653444e-15\n",
      "2.0539125955565396e-15\n",
      "2.0539125955565396e-15\n"
     ]
    }
   ],
   "source": [
    "ph0 = -1j*np.log(F6[0,0])\n",
    "ph1 = -1j*np.log(F6[1,1])\n",
    "ph2 = -1j*np.log(F6[2,2])\n",
    "ph3 = -1j*np.log(F6[3,3])\n",
    "u0 = Mdot([Rz_gate(0,ph0,4),Rz_gate(1,ph1,4),Rz_gate(2,ph2,4),Rz_gate(3,ph3,4)])\n",
    "ua = G_gate(2,3,p6,pz6,4)\n",
    "ub = G_gate(1,2,p5,pz5,4)\n",
    "uc = G_gate(1,3,p4,pz4,4)\n",
    "ud = G_gate(0,1,p3,pz3,4)\n",
    "ue = G_gate(0,2,p2,pz2,4)\n",
    "uf = G_gate(0,3,p1,pz1,4)\n",
    "print( np.amax(np.abs( Mdot([uf,ue,ud,uc,ub,ua,u0]) - U(F) )) )\n",
    "print( np.amax(np.abs( bd(0,F) - Mdot([U(Fd),cd(0,4),np.conjugate(np.transpose(U(Fd)))]) )) )\n",
    "print( np.amax(np.abs( ad(0,4) - Mdot([U(Fd),cd(0,4),np.conjugate(np.transpose(U(Fd)))]) )) )"
   ]
  },
  {
   "cell_type": "markdown",
   "id": "10727e2c",
   "metadata": {},
   "source": [
    "# Generate the Slatter Circuit"
   ]
  },
  {
   "cell_type": "code",
   "execution_count": 17,
   "id": "964a7461",
   "metadata": {},
   "outputs": [],
   "source": [
    "from qiskit import QuantumCircuit\n",
    "\n",
    "def fswap(i,j,qc):\n",
    "    qc.swap(i,j)\n",
    "    qc.ry(np.pi/2,j)\n",
    "    qc.cx(i,j)\n",
    "    qc.ry(-np.pi/2,j)\n",
    "    return qc\n",
    "    \n",
    "\n",
    "def R_cc(i,j,phi,qc):\n",
    "    for l in range(i+1,j):\n",
    "        qc = fswap(l-1,l,qc)\n",
    "    qc.ry(-np.pi/2,j-1)\n",
    "    qc.cx(j-1,j)\n",
    "    qc.ry(-phi,j)\n",
    "    qc.cx(j-1,j)\n",
    "    qc.ry(np.pi/2,j-1)\n",
    "    qc.ry(-np.pi/2,j)\n",
    "    qc.cx(j,j-1)\n",
    "    qc.ry(phi,j-1)\n",
    "    qc.cx(j,j-1)\n",
    "    qc.ry(np.pi/2,j)\n",
    "    for l in range(j-1,i+1-1,-1):\n",
    "        qc = fswap(l-1,l,qc)\n",
    "    return qc\n",
    "\n",
    "def G_cc(i,j,phi,phiz,qc):\n",
    "    qc = R_cc(i,j,-phi,qc)\n",
    "    qc.rz(-phiz,j)\n",
    "    return qc"
   ]
  },
  {
   "cell_type": "code",
   "execution_count": 18,
   "id": "829e9c3e",
   "metadata": {},
   "outputs": [],
   "source": [
    "from qiskit import QuantumCircuit, transpile, QuantumRegister,ClassicalRegister, execute\n",
    "\n",
    "def slatter_circ(F):\n",
    "    F1,pz1,p1 = givens(0,3,F)\n",
    "    F2,pz2,p2 = givens(0,2,F1)\n",
    "    F3,pz3,p3 = givens(0,1,F2)\n",
    "    F4,pz4,p4 = givens(1,3,F3)\n",
    "    F5,pz5,p5 = givens(1,2,F4)\n",
    "    F6,pz6,p6 = givens(2,3,F5)\n",
    "    ph0 = -1j*np.log(F6[0,0])\n",
    "    ph1 = -1j*np.log(F6[1,1])\n",
    "    ph2 = -1j*np.log(F6[2,2])\n",
    "    ph3 = -1j*np.log(F6[3,3])\n",
    "    qr = QuantumRegister(4)\n",
    "    cr = ClassicalRegister(4)\n",
    "    qc = QuantumCircuit(qr , cr)\n",
    "    qc.x(2)\n",
    "    qc.x(3)\n",
    "    qc.rz(np.real(ph0),0)\n",
    "    qc.rz(np.real(ph1),1)\n",
    "    qc.rz(np.real(ph2),2)\n",
    "    qc.rz(np.real(ph3),3)\n",
    "    qc = G_cc(2,3,np.real(p6),np.real(pz6),qc)\n",
    "    qc = G_cc(1,2,np.real(p5),np.real(pz5),qc)\n",
    "    qc = G_cc(1,3,np.real(p4),np.real(pz4),qc)\n",
    "    qc = G_cc(0,1,np.real(p3),np.real(pz3),qc)\n",
    "    qc = G_cc(0,2,np.real(p2),np.real(pz2),qc)\n",
    "    qc = G_cc(0,3,np.real(p1),np.real(pz1),qc)\n",
    "    return qc"
   ]
  },
  {
   "cell_type": "code",
   "execution_count": 19,
   "id": "2854733c",
   "metadata": {},
   "outputs": [
    {
     "data": {
      "text/plain": [
       "5.551115123125783e-16"
      ]
     },
     "execution_count": 19,
     "metadata": {},
     "output_type": "execute_result"
    }
   ],
   "source": [
    "qc = slatter_circ(Fd)\n",
    "psi_tst = qi.Statevector.from_instruction(qc).data\n",
    "psi1 = Mdot([ad(3,4),ad(2,4),psi0(4)])\n",
    "\n",
    "np.amax(np.abs( bkt(psi1,I(4),psi_tst)*psi_tst - psi1 ))"
   ]
  },
  {
   "cell_type": "markdown",
   "id": "2aa63c37",
   "metadata": {},
   "source": [
    "# Running the circuits"
   ]
  },
  {
   "cell_type": "code",
   "execution_count": 20,
   "id": "adbee75e",
   "metadata": {},
   "outputs": [],
   "source": [
    "import copy \n",
    "\n",
    "def create_circ(p_label):\n",
    "    qbits = [0,1,2,3]\n",
    "    qc = slatter_circ(Fd)\n",
    "    psi = copy.deepcopy(qc)\n",
    "    pauli_qs = []\n",
    "    Z_label = ''\n",
    "    Q = len(p_label)-1\n",
    "    for q,p in enumerate(p_label):\n",
    "        if p == 'X':\n",
    "            psi.ry(-np.pi/2,qbits[Q-q])\n",
    "            pauli_qs.append(1)\n",
    "            Z_label += 'Z'\n",
    "        if p == 'Y':\n",
    "            psi.rx(np.pi/2,qbits[Q-q])\n",
    "            pauli_qs.append(1)\n",
    "            Z_label += 'Z'\n",
    "        if p == 'Z':\n",
    "            pauli_qs.append(1)\n",
    "            Z_label += 'Z'\n",
    "        if p == 'I':\n",
    "            pauli_qs.append(0)\n",
    "            Z_label += 'I'\n",
    "    psi.measure(psi.qubits,psi.clbits)\n",
    "    return [psi,pauli_qs,p_label]\n",
    "\n",
    "def create_circs(paulis):\n",
    "    circs = []\n",
    "    for p_label in paulis:\n",
    "        circ, pauli_qs, labels = create_circ(p_label)\n",
    "        circs.append(circ)\n",
    "    return circs\n",
    "\n",
    "paulis = ['ZZZZ','XXII','YYII','XZXI','YZYI','XZZX','YZZY','IXXI','IYYI','IXZX','IYZY','IIXX','IIYY']\n",
    "\n",
    "circs = create_circs(paulis)"
   ]
  },
  {
   "cell_type": "code",
   "execution_count": 21,
   "id": "147548b2",
   "metadata": {},
   "outputs": [],
   "source": [
    "def alphas(N):\n",
    "    psi1 = Mdot([ad(3,N),ad(2,N),psi0(N)])\n",
    "    psi_new = -1j*psi1/psi1[6]\n",
    "    norm = Mdot([np.conjugate(psi_new),psi_new])\n",
    "    return psi_new/np.sqrt(norm)"
   ]
  },
  {
   "cell_type": "code",
   "execution_count": 22,
   "id": "5207ecd8",
   "metadata": {},
   "outputs": [],
   "source": [
    "from qiskit import IBMQ,transpile\n",
    "from qiskit.tools.monitor import job_monitor\n",
    "IBMQ.load_account()\n",
    "provider = IBMQ.get_provider(hub='ibm-q-afrl', group='air-force-lab', project='quantum-sim')\n",
    "#backend = provider.get_backend('ibmq_jakarta')\n",
    "backend = provider.get_backend('ibm_lagos')"
   ]
  },
  {
   "cell_type": "code",
   "execution_count": 26,
   "id": "3385a711",
   "metadata": {},
   "outputs": [],
   "source": [
    "from qiskit import Aer\n",
    "import copy\n",
    "\n",
    "def get_results(circs_in, method = 'matrix',save_id_file = None):\n",
    "    circs = copy.deepcopy(circs_in)\n",
    "    #Exact Calculation\n",
    "    if method == 'matrix':\n",
    "        # add results\n",
    "        r = []\n",
    "        for l in range(len(circs)):\n",
    "            circs[l].remove_final_measurements()\n",
    "            wave = qi.Statevector.from_instruction(circs[l])\n",
    "            r_l = wave.probabilities_dict()\n",
    "            r.append(r_l)\n",
    "    #Qiskit Simulation        \n",
    "    if method == \"simulator\":\n",
    "        sim = Aer.get_backend(\"qasm_simulator\")\n",
    "        r = execute(circs, backend = sim).result().get_counts() \n",
    "    #Device\n",
    "    if method == \"quantum\":\n",
    "        job = backend.run(transpile(circs, backend), meas_level=2, shots=8192)\n",
    "        job_id = job.job_id()\n",
    "        print(job_id)\n",
    "        np.save(save_id_file,[job_id])\n",
    "        r = job.result().get_counts()\n",
    "    return r\n",
    "\n",
    "results = get_results(circs)\n",
    "#results = get_results(circs, method = 'simulator')\n",
    "\n",
    "#save_id_file = \"/Users/stenger/Documents/Research/Hubbard_symmetries/Gutzwiller/Data/Job_id_tri\"\n",
    "#results = get_results(circs, method = 'quantum',save_id_file = save_id_file)"
   ]
  },
  {
   "cell_type": "code",
   "execution_count": 27,
   "id": "51e2f61d",
   "metadata": {},
   "outputs": [],
   "source": [
    "def bi(num,N):\n",
    "    bi = bin(num)\n",
    "    out = \"\"\n",
    "    for i in range(2,len(bi)):\n",
    "        out = out + bi[i]\n",
    "    L = len(out)\n",
    "    for i in range(L,N):\n",
    "        out = \"0\"+out\n",
    "    return out\n",
    "\n",
    "def up_states(N):\n",
    "    out = []\n",
    "    a = alphas(N)\n",
    "    for i in range(2**N):\n",
    "        out.append([bi(i,N),a[i]])\n",
    "    return out\n",
    "\n",
    "def up_states_dic(N):\n",
    "    out = {}\n",
    "    a = alphas(N)\n",
    "    for i in range(2**N):\n",
    "        out[bi(i,N)] = a[i]\n",
    "    return out"
   ]
  },
  {
   "cell_type": "code",
   "execution_count": 28,
   "id": "c29b777e",
   "metadata": {},
   "outputs": [],
   "source": [
    "def analyze_GG(g,result):\n",
    "    N=4\n",
    "    psi_up = up_states(N)\n",
    "    r_keys = list(result.keys())\n",
    "    gg = 0\n",
    "    for k in range(len(psi_up)):\n",
    "        s = psi_up[k][0]\n",
    "        a = psi_up[k][1]\n",
    "        for sr in r_keys:\n",
    "            w = result[sr]\n",
    "            gg_sr = 1\n",
    "            for i in range(N):\n",
    "                nu = int(s[i])\n",
    "                nd = int(sr[i])\n",
    "                gg_sr = gg_sr*np.exp(-2*g*nu*nd)\n",
    "            gg = gg + np.conjugate(a)*a*w*gg_sr\n",
    "    return gg\n",
    "    \n",
    "    \n",
    "def analyze_GDG(g,d,result):\n",
    "    N=4\n",
    "    psi_up = up_states(N)\n",
    "    r_keys = list(result.keys())\n",
    "    gg = 0\n",
    "    for p in range(N):\n",
    "        for k in range(len(psi_up)):\n",
    "            s = psi_up[k][0]\n",
    "            a = psi_up[k][1]\n",
    "            for sr in r_keys:\n",
    "                w = result[sr]\n",
    "                gg_sr = 1\n",
    "                for i in range(N):\n",
    "                    nu = int(s[i])\n",
    "                    nd = int(sr[i])\n",
    "                    gg_sr = gg_sr*np.exp(-2*g*nu*nd)\n",
    "                nu_p = int(s[p])\n",
    "                nd_p = int(sr[p])\n",
    "                gg_sr = d*gg_sr*nu_p*nd_p\n",
    "                gg = gg + np.conjugate(a)*a*w*gg_sr\n",
    "    return gg\n",
    "\n",
    "\n",
    "#################################################################################################\n",
    "\n",
    "\n",
    "def analyze_pd(g,pauli,results):\n",
    "    N = len(pauli)\n",
    "    idx = paulis.index(pauli)\n",
    "    result = results[idx]\n",
    "    psi_up = up_states_dic(N)\n",
    "    up_keys = list(psi_up.keys())\n",
    "    r_keys = list(result.keys())\n",
    "    gg = 0\n",
    "    for su in up_keys:\n",
    "        a = psi_up[su]\n",
    "        for sr in r_keys:\n",
    "            w = result[sr]\n",
    "            gg_sr = 1\n",
    "            for j in range(N):\n",
    "                nu = int(su[j])\n",
    "                nd = int(sr[j])\n",
    "                if pauli[j] == 'Y' or pauli[j] == 'X':\n",
    "                    z0 = (-1)**int(sr[j])\n",
    "                    gg_sr = gg_sr*z0\n",
    "                    gg_sr = gg_sr*np.exp(-g*nu)\n",
    "                elif pauli[j] == 'Z':\n",
    "                    gg_sr = (-1)**nd*gg_sr*np.exp(-2*g*nu*nd)\n",
    "                elif pauli[j] == 'I':\n",
    "                    gg_sr = gg_sr*np.exp(-2*g*nu*nd)\n",
    "            gg = gg + np.conjugate(a)*a*w*gg_sr\n",
    "    return gg \n",
    "\n",
    "\n",
    "def analyze_YuZZYu(g,N,result):    \n",
    "    psi_up = up_states_dic(N)\n",
    "    up_keys = list(psi_up.keys())\n",
    "    r_keys = list(result.keys())\n",
    "    gg = 0\n",
    "    for su in up_keys:\n",
    "        sup = list(su)\n",
    "        sup[0] = str(np.mod(int(sup[0])+1,2) )\n",
    "        sup[N-1] = str(np.mod(int(sup[N-1])+1,2) )\n",
    "        sup = ''.join(sup)\n",
    "        a = psi_up[su]\n",
    "        aa = psi_up[sup]\n",
    "        for sr in r_keys:\n",
    "            w = result[sr]\n",
    "            gg_sr = 1\n",
    "            for j in range(N):\n",
    "                nu = int(su[j])\n",
    "                nd = int(sr[j])\n",
    "                if j == 0:\n",
    "                    gg_sr = gg_sr*np.exp(-g*nd)\n",
    "                elif j == N-1:\n",
    "                    gg_sr = gg_sr*np.exp(-g*nd)\n",
    "                else:\n",
    "                    gg_sr = (-1)**nu*gg_sr*np.exp(-2*g*nu*nd)\n",
    "            gg = gg - (-1)**int(su[0])*(-1)**int(su[N-1])*np.conjugate(aa)*a*w*gg_sr   #the sign does not match YuYu\n",
    "    return gg\n",
    "\n",
    "\n",
    "def analyze_pu(g,pauli,result):\n",
    "    N=len(pauli)\n",
    "    idxs = [i for i in range(4) if pauli[i] == 'X' or pauli[i] == 'Y']\n",
    "    psi_up = up_states_dic(N)\n",
    "    up_keys = list(psi_up.keys())\n",
    "    r_keys = list(result.keys())\n",
    "    gg = 0\n",
    "    for su in up_keys:\n",
    "        sup = list(su)\n",
    "        sup[idxs[0]] = str(np.mod(int(sup[idxs[0]])+1,2) )\n",
    "        sup[idxs[1]] = str(np.mod(int(sup[idxs[1]])+1,2) )\n",
    "        sup = ''.join(sup)\n",
    "        a = psi_up[su]\n",
    "        aa = psi_up[sup]\n",
    "        for sr in r_keys:\n",
    "            w = result[sr]\n",
    "            gg_sr = 1\n",
    "            for j in range(N):\n",
    "                nu = int(su[j])\n",
    "                nd = int(sr[j])\n",
    "                if pauli[j] == 'X':\n",
    "                    gg_sr = gg_sr*np.exp(-g*nd)\n",
    "                if pauli[j] == 'Y':\n",
    "                    gg_sr = 1j*(-1)**int(su[j])*gg_sr*np.exp(-g*nd)\n",
    "                elif pauli[j] == 'Z':\n",
    "                    gg_sr = (-1)**nu*gg_sr*np.exp(-2*g*nu*nd)\n",
    "                elif pauli[j] == 'I':\n",
    "                    gg_sr = gg_sr*np.exp(-2*g*nu*nd)\n",
    "            gg = gg + np.conjugate(aa)*a*w*gg_sr\n",
    "    return gg\n",
    "\n",
    "def analyze_GKG(g,k,results):\n",
    "    out = 0\n",
    "    for p in range(1,len(paulis)):\n",
    "        out += k/2*analyze_pu(g,paulis[p],results[0])\n",
    "        out += k/2*analyze_pd(g,paulis[p],results)\n",
    "    return out"
   ]
  },
  {
   "cell_type": "code",
   "execution_count": 29,
   "id": "55cdb42a",
   "metadata": {},
   "outputs": [
    {
     "name": "stdout",
     "output_type": "stream",
     "text": [
      "(-2.42861286636753e-17+0j)\n",
      "(3.469446951953614e-17+0j)\n",
      "0j\n",
      "(-2.7755575615628914e-17+0j)\n",
      "0j\n"
     ]
    }
   ],
   "source": [
    "print( analyze_pu(1.2,'YZYI',results[0]) - Mdot([np.conjugate(psi_spin),G(1.2),Y(1,8),Z(2,8),Y(3,8),G(1.2),psi_spin]) )\n",
    "print( analyze_pd(1.2,'IXZX',results) - Mdot([np.conjugate(psi_spin),G(1.2),X(4,8),Z(5,8),X(6,8),G(1.2),psi_spin]) )\n",
    "\n",
    "print( analyze_GKG(1.3,2.1,results) - Mdot([np.conjugate(psi_spin),G(1.3),K(2.1),G(1.3),psi_spin]) )\n",
    "print( analyze_GDG(1.3,2.1,results[0]) -  Mdot([np.conjugate(psi_spin),G(1.3),D(2.1),G(1.3),psi_spin]) )\n",
    "print( analyze_GG(1.3,results[0]) - Mdot([np.conjugate(psi_spin),G(1.3),G(1.3),psi_spin]) )\n",
    "\n"
   ]
  },
  {
   "cell_type": "code",
   "execution_count": 30,
   "id": "bb3edd8c",
   "metadata": {},
   "outputs": [],
   "source": [
    "def analyze_energy(g,k,d,results):\n",
    "    num = analyze_GDG(g,d,results[0]) + analyze_GKG(g,k,results)\n",
    "    dom = analyze_GG(g,results[0])\n",
    "    return num/dom"
   ]
  },
  {
   "cell_type": "markdown",
   "id": "809e2812",
   "metadata": {},
   "source": [
    "# Running Scans"
   ]
  },
  {
   "cell_type": "code",
   "execution_count": 49,
   "id": "364854d7",
   "metadata": {},
   "outputs": [],
   "source": [
    "k = 1\n",
    "d = 2\n",
    "N=4\n",
    "H = K(k) + D(d)\n",
    "e,y = np.linalg.eig(H)\n",
    "y = np.transpose(y)\n",
    "arg = np.argsort(e)\n",
    "\n",
    "i=0\n",
    "while bkt(y[arg[i]],I(8),psi_spin) < 10**(-5):\n",
    "    i+=1\n",
    "\n",
    "\n",
    "\n",
    "eg = []\n",
    "gl = []\n",
    "eT = []\n",
    "for gi in range(-100,101):\n",
    "    g = 0.1*gi\n",
    "    egl = analyze_energy(g,k,d,results)\n",
    "    eg.append(egl)\n",
    "    gl.append(g)\n",
    "    eT.append(e[arg[[i]]])"
   ]
  },
  {
   "cell_type": "code",
   "execution_count": 50,
   "id": "7be8c8ee",
   "metadata": {},
   "outputs": [
    {
     "data": {
      "text/plain": [
       "[<matplotlib.lines.Line2D at 0x7ff642ed57e0>]"
      ]
     },
     "execution_count": 50,
     "metadata": {},
     "output_type": "execute_result"
    },
    {
     "data": {
      "image/png": "[encoded data removed]",
      "text/plain": [
       "<Figure size 432x288 with 1 Axes>"
      ]
     },
     "metadata": {
      "needs_background": "light"
     },
     "output_type": "display_data"
    }
   ],
   "source": [
    "import matplotlib.pyplot as plt\n",
    "\n",
    "plt.plot(gl,eg)\n",
    "#plt.plot(gl,eg_h)\n",
    "plt.plot(gl,eT)"
   ]
  },
  {
   "cell_type": "markdown",
   "id": "cbdf55da",
   "metadata": {},
   "source": [
    "# Save Results"
   ]
  },
  {
   "cell_type": "code",
   "execution_count": 40,
   "id": "a023c613",
   "metadata": {},
   "outputs": [],
   "source": [
    "import pickle\n",
    "#fpath = \"/Users/stenger/Documents/Research/Hubbard_symmetries/Gutzwiller/Data/\"\n",
    "\n",
    "#file_to_store = open(fpath + \"Gutz3_tri.pickle\", \"wb\")\n",
    "\n",
    "#pickle.dump(results, file_to_store)"
   ]
  },
  {
   "cell_type": "markdown",
   "id": "a6fbfb2b",
   "metadata": {},
   "source": [
    "# Load Results"
   ]
  },
  {
   "cell_type": "code",
   "execution_count": 1,
   "id": "9472f178",
   "metadata": {},
   "outputs": [],
   "source": [
    "import pickle\n",
    "fpath = \"/Users/stenger/Documents/Research/Hubbard_symmetries/Gutzwiller/Data/\"\n",
    "\n",
    "file_to_read = open(fpath + \"Gutz3_tri.pickle\", \"rb\")\n",
    "\n",
    "loaded_results = pickle.load(file_to_read)"
   ]
  },
  {
   "cell_type": "code",
   "execution_count": 52,
   "id": "6129b51f",
   "metadata": {},
   "outputs": [],
   "source": [
    "k = 1\n",
    "d = 20\n",
    "N=4\n",
    "H = K(k) + D(d)\n",
    "e,y = np.linalg.eig(H)\n",
    "y = np.transpose(y)\n",
    "arg = np.argsort(e)\n",
    "\n",
    "i=0\n",
    "while bkt(y[arg[i]],I(8),psi_spin) < 10**(-5):\n",
    "    i+=1\n",
    "\n",
    "\n",
    "eg = []\n",
    "egm = []\n",
    "gl = []\n",
    "eT = []\n",
    "for gi in range(-100,101):\n",
    "    g = 0.1*gi\n",
    "    egl = analyze_energy(g,k,d,loaded_results)\n",
    "    eglm = analyze_energy(g,k,d,results)\n",
    "    eg.append(egl)\n",
    "    egm.append(eglm)\n",
    "    gl.append(g)\n",
    "    eT.append(e[arg[[i]]])"
   ]
  },
  {
   "cell_type": "code",
   "execution_count": 55,
   "id": "d30daf58",
   "metadata": {},
   "outputs": [
    {
     "data": {
      "text/plain": [
       "[<matplotlib.lines.Line2D at 0x7f9a0f2f6470>]"
      ]
     },
     "execution_count": 55,
     "metadata": {},
     "output_type": "execute_result"
    },
    {
     "data": {
      "image/png": "[encoded data removed]",
      "text/plain": [
       "<Figure size 432x288 with 1 Axes>"
      ]
     },
     "metadata": {
      "needs_background": "light"
     },
     "output_type": "display_data"
    }
   ],
   "source": [
    "import matplotlib.pyplot as plt\n",
    "\n",
    "plt.plot(gl,egm)\n",
    "plt.plot(gl,eg)\n",
    "plt.plot(gl,eT)"
   ]
  },
  {
   "cell_type": "markdown",
   "id": "64b1d0c1",
   "metadata": {},
   "source": [
    "## Finding energies"
   ]
  },
  {
   "cell_type": "code",
   "execution_count": 56,
   "id": "dc6daae6",
   "metadata": {},
   "outputs": [],
   "source": [
    "k = 1\n",
    "eq = []\n",
    "em = []\n",
    "eh = []\n",
    "dl = []\n",
    "for di in range(0,100):\n",
    "    d = di*0.2\n",
    "    N=4\n",
    "    H = K(k) + D(d)\n",
    "    e,y = np.linalg.eig(H)\n",
    "    y = np.transpose(y)\n",
    "    arg = np.argsort(e)\n",
    "\n",
    "    i=0\n",
    "    while bkt(y[arg[i]],I(8),psi_spin) < 10**(-5):\n",
    "        i+=1\n",
    "\n",
    "\n",
    "    eg = []\n",
    "    egm = []\n",
    "    gl = []\n",
    "    eT = []\n",
    "    for gi in range(0,30):\n",
    "        g = 0.1*gi\n",
    "        egl = analyze_energy(g,k,d,loaded_results)\n",
    "        eglm = analyze_energy(g,k,d,results)\n",
    "        eg.append(egl)\n",
    "        egm.append(eglm)\n",
    "        gl.append(g)\n",
    "        eT.append(e[arg[[i]]])\n",
    "    eq.append(min(eg))\n",
    "    em.append(min(egm))\n",
    "    eh.append(min(eT))\n",
    "    dl.append(d)"
   ]
  },
  {
   "cell_type": "code",
   "execution_count": 57,
   "id": "7b0c8c43",
   "metadata": {},
   "outputs": [
    {
     "data": {
      "text/plain": [
       "[<matplotlib.lines.Line2D at 0x7f9a1026e1d0>]"
      ]
     },
     "execution_count": 57,
     "metadata": {},
     "output_type": "execute_result"
    },
    {
     "data": {
      "image/png": "[encoded data removed]",
      "text/plain": [
       "<Figure size 432x288 with 1 Axes>"
      ]
     },
     "metadata": {
      "needs_background": "light"
     },
     "output_type": "display_data"
    }
   ],
   "source": [
    "plt.plot(dl,em)\n",
    "plt.plot(dl,eq)\n",
    "plt.plot(dl,eh)"
   ]
  },
  {
   "cell_type": "code",
   "execution_count": null,
   "id": "4effb935",
   "metadata": {},
   "outputs": [],
   "source": []
  }
 ],
 "metadata": {
  "kernelspec": {
   "display_name": "qiskit_3.5",
   "language": "python",
   "name": "qiskit_3.5"
  },
  "language_info": {
   "codemirror_mode": {
    "name": "ipython",
    "version": 3
   },
   "file_extension": ".py",
   "mimetype": "text/x-python",
   "name": "python",
   "nbconvert_exporter": "python",
   "pygments_lexer": "ipython3",
   "version": "3.10.4"
  },
  "toc": {
   "base_numbering": 1,
   "nav_menu": {},
   "number_sections": true,
   "sideBar": true,
   "skip_h1_title": false,
   "title_cell": "Table of Contents",
   "title_sidebar": "Contents",
   "toc_cell": false,
   "toc_position": {},
   "toc_section_display": true,
   "toc_window_display": false
  }
 },
 "nbformat": 4,
 "nbformat_minor": 5
}
