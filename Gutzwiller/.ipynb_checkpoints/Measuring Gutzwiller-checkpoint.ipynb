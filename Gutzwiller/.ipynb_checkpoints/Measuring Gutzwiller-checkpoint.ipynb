{
 "cells": [
  {
   "cell_type": "markdown",
   "id": "56cfc185",
   "metadata": {},
   "source": [
    "# Measuring the Gutzwiller Projection\n",
    "\n",
    "The Gutziller projection is an expoential operator $$ \\hat{G} = e^{-g \\sum_{i=0}^{N-1}n_{i\\uparrow}n_{i\\downarrow}} $$ This conains $2^N$ Pauli strings, however, it is not necessary to break the exponential into Pauli strings.  \n",
    "\n",
    "The quantum computer measures a state over many shots and returns a list of states and weights, e.g. $$ \\text{M}(|\\psi>) \\rightarrow \\{ [|0000>,120],[|0001>,35],[|0011>,25],\\ldots \\} $$\n",
    "\n",
    "To get the expectation values of the Gutzwiller Projector, we simply have to multiply the weight by the number of 'on' qubits that match the block.  Let's say we are in the $|0011>$ block then we would get, \n",
    "\n",
    "$$ <\\psi|e^{-g \\sum_{i=0}^{N-1}n_{i\\uparrow}n_{i\\downarrow}}|\\psi> \\rightarrow \\frac{35 e^{-g} + 25 e^{-2g} + \\ldots}{120+35+25+\\ldots} $$"
   ]
  },
  {
   "cell_type": "code",
   "execution_count": 53,
   "id": "0a9babde",
   "metadata": {},
   "outputs": [],
   "source": [
    "import qiskit.quantum_info as qi\n",
    "import scipy as sp\n",
    "import numpy as np\n",
    "import pandas as pd\n",
    "import math\n",
    "\n",
    "def I(N):\n",
    "    label = ['I' for i in range(N)]\n",
    "    label = ''.join(label)\n",
    "    return qi.Operator.from_label(label).data\n",
    "\n",
    "def X(i,N):\n",
    "    label = ['I' for i in range(N)]\n",
    "    label[i] = 'X'\n",
    "    label = ''.join(label)\n",
    "    return qi.Operator.from_label(label).data\n",
    "\n",
    "def Y(i,N):\n",
    "    label = ['I' for i in range(N)]\n",
    "    label[i] = 'Y'\n",
    "    label = ''.join(label)\n",
    "    return qi.Operator.from_label(label).data\n",
    "\n",
    "def Z(i,N):\n",
    "    label = ['I' for i in range(N)]\n",
    "    label[i] = 'Z'\n",
    "    label = ''.join(label)\n",
    "    return qi.Operator.from_label(label).data\n",
    "\n",
    "def c(i,N):\n",
    "    label_1 = ['Z' for j in range(i)]\n",
    "    label_2 = ['I' for j in range(i+1,N)]\n",
    "    label_x = label_1 + ['X'] + label_2\n",
    "    label_y = label_1 + ['Y'] + label_2\n",
    "    label_x = ''.join(label_x)\n",
    "    label_y = ''.join(label_y)\n",
    "    x = qi.Operator.from_label(label_x).data\n",
    "    y = qi.Operator.from_label(label_y).data\n",
    "    return 1/2*(x-1j*y)\n",
    "\n",
    "def cd(i,N):\n",
    "    label_1 = ['Z' for j in range(i)]\n",
    "    label_2 = ['I' for j in range(i+1,N)]\n",
    "    label_x = label_1 + ['X'] + label_2\n",
    "    label_y = label_1 + ['Y'] + label_2\n",
    "    label_x = ''.join(label_x)\n",
    "    label_y = ''.join(label_y)\n",
    "    x = qi.Operator.from_label(label_x).data\n",
    "    y = qi.Operator.from_label(label_y).data\n",
    "    return 1/2*(x+1j*y)\n",
    "\n",
    "def n(i,N):\n",
    "    return Mdot([cd(i,N),c(i,N)])\n",
    "\n",
    "import numpy as np\n",
    "\n",
    "def Mdot(Ol):\n",
    "    out = Ol[0]\n",
    "    for i in range(1,len(Ol)):\n",
    "        out = np.dot(Ol[i],out)\n",
    "    return out\n",
    "\n",
    "def bkt(y1,O,y2):\n",
    "    return Mdot([np.conjugate(y1),O,y2])"
   ]
  },
  {
   "cell_type": "markdown",
   "id": "8099ff47",
   "metadata": {},
   "source": [
    "In practice, we need to measure two brackets, the Hamiltonain expectation value $$<\\psi_0|\\hat{G}\\hat{H}\\hat{G}|\\psi_0> $$ and the normalization $$ <\\psi_0|\\hat{G}\\hat{G}|\\psi_0>  $$\n",
    "\n",
    "The normalization can be calculated in the same manner as we have already discussed, however, the Hmailtonian expectation value takes a little more work.  The form of the Hamiltonian is,\n",
    "\n",
    "$$ \\hat{H} = k \\hat{K} + d\\hat{D} $$\n",
    "\n",
    "where the kinetic part is \n",
    "\n",
    "$$ \\hat{K} = \\sum_{\\sigma}\\sum_{i=0}^{N-2} \\left( c^{\\dagger}_{\\sigma,i}c_{\\sigma i+1} + c^{\\dagger}_{\\sigma i+1}c_{\\sigma i} \\right)$$\n",
    "\n",
    "and the interaction part is \n",
    "\n",
    "$$ \\hat{D} = \\sum_{i=0}^{N-1} n_{i\\uparrow}n_{i\\downarrow} $$"
   ]
  },
  {
   "cell_type": "markdown",
   "id": "d13077fd",
   "metadata": {},
   "source": [
    "The expectation value of the interaction part does not make the measurment much more difficult since it is diagonal in the same basis as the Gutzwiller projection.  Let $w_l$ be the weight of the measurment state and let $N_l$ be the number of qubits which are on in both the measurment state and the block then,\n",
    "\n",
    "$$ <\\psi_0|\\hat{G}\\hat{D}\\hat{{G}}|\\psi_0> = \\sum_l w_l N_l e^{-2N_lg} $$"
   ]
  },
  {
   "cell_type": "markdown",
   "id": "f92490e6",
   "metadata": {},
   "source": [
    "For the $\\hat{K}$ part we will use a property of the exponential of number operators,\n",
    "\n",
    "$$ \\hat{G} = \\prod_{i=0}^{N-1}e^{-g n_{i\\uparrow}n_{i\\downarrow}} = \\prod_{i=0}^{N-1} (1 - n_{i\\uparrow}n_{i\\downarrow} (e^{-g}-1) ) $$\n",
    "\n",
    "Let's check this property."
   ]
  },
  {
   "cell_type": "code",
   "execution_count": 161,
   "id": "9bd166e5",
   "metadata": {},
   "outputs": [
    {
     "data": {
      "text/plain": [
       "5.551115123125783e-17"
      ]
     },
     "execution_count": 161,
     "metadata": {},
     "output_type": "execute_result"
    }
   ],
   "source": [
    "def G_exponent(g,N):\n",
    "    Nf = 0*I(2*N)\n",
    "    for i in range(N):\n",
    "        Nf = Nf + Mdot([n(i,2*N),n(i+N,2*N)])\n",
    "    return sp.linalg.expm(-g*Nf)\n",
    "\n",
    "def G(g,N):\n",
    "    out = I(2*N)\n",
    "    for i in range(N):\n",
    "        out = Mdot([ out , I(2*N) + (np.exp(-g)-1)*Mdot([n(i,2*N),n(i+N,2*N)]) ])\n",
    "    return out\n",
    "\n",
    "i=0\n",
    "g=2.3\n",
    "N=2\n",
    "np.amax(np.abs( G_exponent(g,N) - G(g,N)  ))"
   ]
  },
  {
   "cell_type": "markdown",
   "id": "3cf2a2d5",
   "metadata": {},
   "source": [
    "Using this form of $G$, let's evaluate a single fermion operator,\n",
    "\n",
    "$$ Gc^{\\dagger}_{i\\sigma}G =  \\prod_{j \\neq i}e^{-g n_{j\\uparrow}n_{j\\downarrow}} (1 - n_{i\\uparrow}n_{i\\downarrow} (e^{-g}-1) ) c^{\\dagger}_{i\\sigma} (1 - n_{i\\uparrow}n_{i\\downarrow} (e^{-g}-1) ) = \\prod_{j \\neq i}e^{-2g n_{j\\uparrow}n_{j\\downarrow}} (1 - n_{i\\uparrow} (e^{-g}-1) ) c^{\\dagger}_{i\\sigma} = \\prod_{j \\neq i}e^{-2g n_{j\\uparrow}n_{j\\downarrow}} e^{-g n_{i\\uparrow}}  c^{\\dagger}_{i\\sigma} $$\n",
    "\n",
    "Let's check"
   ]
  },
  {
   "cell_type": "code",
   "execution_count": 167,
   "id": "330b3791",
   "metadata": {},
   "outputs": [
    {
     "data": {
      "text/plain": [
       "5.551115123125783e-17"
      ]
     },
     "execution_count": 167,
     "metadata": {},
     "output_type": "execute_result"
    }
   ],
   "source": [
    "i=0\n",
    "g=2.3\n",
    "N=2\n",
    "\n",
    "def GcduG(i,g,N):\n",
    "    Nf = 0*I(2*N)\n",
    "    for j in range(N):\n",
    "        if i == j:\n",
    "            Nf = Nf + Mdot([n(j+N,2*N)])\n",
    "        else:\n",
    "            Nf = Nf + 2*Mdot([n(j,2*N),n(j+N,2*N)])\n",
    "    return Mdot([sp.linalg.expm(-g*Nf), cd(i,2*N)])\n",
    "\n",
    "np.amax(np.abs( Mdot([G(g,N),cd(i,2*N),G(g,N)]) - GcduG(i,g,N) ))"
   ]
  },
  {
   "cell_type": "markdown",
   "id": "f9ca7e08",
   "metadata": {},
   "source": [
    "From this we can implicitely guess the form of \n",
    "\n",
    "$$ \\hat{G}\\left(c^{\\dagger}_{i\\sigma}c_{i+1\\sigma}+c^{\\dagger}_{i+1\\sigma}c_{i\\sigma}\\right)\\hat{G}  = \\prod_{j \\neq i,i+1}e^{-2g n_{j\\uparrow}n_{j\\downarrow}} e^{-g n_{i\\sigma+1}}e^{-g n_{i+1\\sigma+1}}  \\left(c^{\\dagger}_{i\\sigma}c_{i+1\\sigma}+c^{\\dagger}_{i+1\\sigma}c_{i\\sigma}\\right) $$"
   ]
  },
  {
   "cell_type": "code",
   "execution_count": 178,
   "id": "f4ce188a",
   "metadata": {},
   "outputs": [
    {
     "data": {
      "text/plain": [
       "1.734723475976807e-18"
      ]
     },
     "execution_count": 178,
     "metadata": {},
     "output_type": "execute_result"
    }
   ],
   "source": [
    "i=0\n",
    "g=2.3\n",
    "N=2\n",
    "\n",
    "def GKiuG(i,g,N):\n",
    "    Nf = 0*I(2*N)\n",
    "    for j in range(N):\n",
    "        if i == j:\n",
    "            Nf = Nf + Mdot([n(j+N,2*N)])\n",
    "        elif i+1 == j:\n",
    "            Nf = Nf + Mdot([n(j+N,2*N)])\n",
    "        else:\n",
    "            Nf = Nf + 2*Mdot([n(j,2*N),n(j+N,2*N)])\n",
    "    return Mdot([sp.linalg.expm(-g*Nf), Mdot([cd(i,2*N),c(i+1,2*N)]) + Mdot([cd(i+1,2*N),c(i,2*N)]) ])\n",
    "\n",
    "np.amax(np.abs( Mdot([G(g,N),Mdot([cd(i,2*N),c(i+1,2*N)]) + Mdot([cd(i+1,2*N),c(i,2*N)]),G(g,N)]) - GKiuG(i,g,N) ))"
   ]
  },
  {
   "cell_type": "markdown",
   "id": "3bc50fc3",
   "metadata": {},
   "source": [
    "Therefore the enrite evaluation of $\\hat{K}$ is \n",
    "\n",
    "$$ \\hat{G}\\hat{K}\\hat{G} = \\sum_{i=0}^{N-1}\\sum_{\\sigma}\\prod_{j \\neq i,i+1}e^{-2g n_{j\\uparrow}n_{j\\downarrow}} e^{-g n_{i\\sigma+1}}e^{-g n_{i+1\\sigma+1}}  \\left(c^{\\dagger}_{i\\sigma}c_{i+1\\sigma}+c^{\\dagger}_{i+1\\sigma}c_{i\\sigma}\\right) $$"
   ]
  },
  {
   "cell_type": "code",
   "execution_count": 189,
   "id": "933d7128",
   "metadata": {},
   "outputs": [
    {
     "data": {
      "text/plain": [
       "1.734723475976807e-18"
      ]
     },
     "execution_count": 189,
     "metadata": {},
     "output_type": "execute_result"
    }
   ],
   "source": [
    "def K(k,N):\n",
    "    Kout = 0*I(2*N)\n",
    "    for i in range(0,N-1):\n",
    "        Kout = Kout + Mdot([cd(i,2*N),c(i+1,2*N)]) + Mdot([cd(i+1,2*N),c(i,2*N)])\n",
    "        Kout = Kout + Mdot([cd(i+N,2*N),c(i+1+N,2*N)]) + Mdot([cd(i+1+N,2*N),c(i+N,2*N)])\n",
    "    return k*Kout\n",
    "\n",
    "def GKG(g,N):\n",
    "    out = 0*I(2*N)\n",
    "    for i in range(0,N-1):\n",
    "        Nfu = 0*I(2*N)\n",
    "        Nfd = 0*I(2*N)\n",
    "        for j in range(N):\n",
    "            if i == j:\n",
    "                Nfu = Nfu + Mdot([n(j+N,2*N)])\n",
    "                Nfd = Nfd + Mdot([n(j,2*N)])\n",
    "            elif i+1 == j:\n",
    "                Nfu = Nfu + Mdot([n(j+N,2*N)])\n",
    "                Nfd = Nfd + Mdot([n(j,2*N)])\n",
    "            else:\n",
    "                Nfu = Nfu + 2*Mdot([n(j,2*N),n(j+N,2*N)])\n",
    "                Nfd = Nfd + 2*Mdot([n(j,2*N),n(j+N,2*N)])\n",
    "        out = out + k*Mdot([sp.linalg.expm(-g*Nfu), Mdot([cd(i,2*N),c(i+1,2*N)]) + Mdot([cd(i+1,2*N),c(i,2*N)]) ])\n",
    "        out = out + k*Mdot([sp.linalg.expm(-g*Nfd), Mdot([cd(i+N,2*N),c(i+1+N,2*N)]) + Mdot([cd(i+1+N,2*N),c(i+N,2*N)]) ])\n",
    "    return out\n",
    "\n",
    "\n",
    "i=0\n",
    "g=2.3\n",
    "k=1.1\n",
    "N=2\n",
    "\n",
    "np.amax(np.abs( Mdot([G(g,N),K(k,N),G(g,N)]) - GKG(g,N) ))\n"
   ]
  },
  {
   "cell_type": "markdown",
   "id": "bf4edc1a",
   "metadata": {},
   "source": [
    "In terms of Pauli matrices that is \n",
    "\n",
    "$$ \\hat{G}\\hat{K}\\hat{G} = \\sum_{i=0}^{N-1}\\sum_{\\sigma}\\prod_{j \\neq i,i+1}e^{-2g n_{j\\uparrow}n_{j\\downarrow}} e^{-g n_{i\\sigma+1}}e^{-g n_{i+1\\sigma+1}}  \\frac{1}{2}\\left(X_{i\\sigma}X_{i+1\\sigma}+Y_{i+1\\sigma}Y_{i\\sigma}\\right) $$\n",
    "\n",
    "where $n$ acts the same on the puali basis as it does not the fermion basis."
   ]
  },
  {
   "cell_type": "code",
   "execution_count": 219,
   "id": "60c701fc",
   "metadata": {},
   "outputs": [
    {
     "data": {
      "text/plain": [
       "1.734723475976807e-18"
      ]
     },
     "execution_count": 219,
     "metadata": {},
     "output_type": "execute_result"
    }
   ],
   "source": [
    "def GKG_pauli(g,N):\n",
    "    out = 0*I(2*N)\n",
    "    for i in range(0,N-1):\n",
    "        Nfu = 0*I(2*N)\n",
    "        Nfd = 0*I(2*N)\n",
    "        for j in range(N):\n",
    "            if i == j:\n",
    "                Nfu = Nfu + Mdot([n(j+N,2*N)])\n",
    "                Nfd = Nfd + Mdot([n(j,2*N)])\n",
    "            elif i+1 == j:\n",
    "                Nfu = Nfu + Mdot([n(j+N,2*N)])\n",
    "                Nfd = Nfd + Mdot([n(j,2*N)])\n",
    "            else:\n",
    "                Nfu = Nfu + 2*Mdot([n(j,2*N),n(j+N,2*N)])\n",
    "                Nfd = Nfd + 2*Mdot([n(j,2*N),n(j+N,2*N)])\n",
    "        out = out + k*Mdot([sp.linalg.expm(-g*Nfu), 1/2*Mdot([X(i,2*N),X(i+1,2*N)]) + 1/2*Mdot([Y(i,2*N),Y(i+1,2*N)]) ])\n",
    "        out = out + k*Mdot([sp.linalg.expm(-g*Nfd), 1/2*Mdot([X(i+N,2*N),X(i+1+N,2*N)]) + 1/2*Mdot([Y(i+N,2*N),Y(i+1+N,2*N)]) ])\n",
    "    return out\n",
    "\n",
    "i=0\n",
    "g=2.3\n",
    "k=1.1\n",
    "N=2\n",
    "\n",
    "np.amax(np.abs( Mdot([G(g,N),K(k,N),G(g,N)]) - GKG_pauli(g,N) ))"
   ]
  },
  {
   "cell_type": "code",
   "execution_count": null,
   "id": "b9b4c1a2",
   "metadata": {},
   "outputs": [],
   "source": []
  }
 ],
 "metadata": {
  "kernelspec": {
   "display_name": "Python (qiskit_nick)",
   "language": "python",
   "name": "qiskit_nick"
  },
  "language_info": {
   "codemirror_mode": {
    "name": "ipython",
    "version": 3
   },
   "file_extension": ".py",
   "mimetype": "text/x-python",
   "name": "python",
   "nbconvert_exporter": "python",
   "pygments_lexer": "ipython3",
   "version": "3.9.6"
  },
  "toc": {
   "base_numbering": 1,
   "nav_menu": {},
   "number_sections": true,
   "sideBar": true,
   "skip_h1_title": false,
   "title_cell": "Table of Contents",
   "title_sidebar": "Contents",
   "toc_cell": false,
   "toc_position": {},
   "toc_section_display": true,
   "toc_window_display": false
  }
 },
 "nbformat": 4,
 "nbformat_minor": 5
}
