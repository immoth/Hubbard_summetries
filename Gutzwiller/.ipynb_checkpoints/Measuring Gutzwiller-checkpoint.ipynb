{
 "cells": [
  {
   "cell_type": "markdown",
   "id": "d5e0d097",
   "metadata": {},
   "source": [
    "# Measuring the Gutzwiller Projection\n",
    "\n",
    "The Gutziller projection is an expoential operator $$ \\hat{G} = e^{-g \\sum_{i=0}^{N-1}n_{i\\uparrow}n_{i\\downarrow}} $$ This conains $2^N$ Pauli strings, however, it is not necessary to break the exponential into Pauli strings.  \n",
    "\n",
    "The quantum computer measures a state over many shots and returns a list of states and weights, e.g. $$ \\text{M}(|\\psi>) \\rightarrow \\{ [|0000>,120],[|0001>,35],[|0011>,25],\\ldots \\} $$\n",
    "\n",
    "To get the expectation values of the Gutzwiller Projector, we simply have to multiply the weight by the number of 'on' qubits that match the block.  Let's say we are in the $|0011>$ block then we would get, \n",
    "\n",
    "$$ <\\psi|e^{-g \\sum_{i=0}^{N-1}n_{i\\uparrow}n_{i\\downarrow}}|\\psi> \\rightarrow \\frac{35 e^{-g} + 25 e^{-2g} + \\ldots}{120+35+25+\\ldots} $$"
   ]
  },
  {
   "cell_type": "code",
   "execution_count": 170,
   "id": "516de058",
   "metadata": {},
   "outputs": [],
   "source": [
    "import qiskit.quantum_info as qi\n",
    "import scipy as sp\n",
    "import numpy as np\n",
    "import pandas as pd\n",
    "import math\n",
    "\n",
    "def I(N):\n",
    "    label = ['I' for i in range(N)]\n",
    "    label = ''.join(label)\n",
    "    return qi.Operator.from_label(label).data\n",
    "\n",
    "def X(i,N):\n",
    "    label = ['I' for i in range(N)]\n",
    "    label[i] = 'X'\n",
    "    label = ''.join(label)\n",
    "    return qi.Operator.from_label(label).data\n",
    "\n",
    "def Y(i,N):\n",
    "    label = ['I' for i in range(N)]\n",
    "    label[i] = 'Y'\n",
    "    label = ''.join(label)\n",
    "    return qi.Operator.from_label(label).data\n",
    "\n",
    "def Z(i,N):\n",
    "    label = ['I' for i in range(N)]\n",
    "    label[i] = 'Z'\n",
    "    label = ''.join(label)\n",
    "    return qi.Operator.from_label(label).data\n",
    "\n",
    "def c(i,N):\n",
    "    label_1 = ['Z' for j in range(i)]\n",
    "    label_2 = ['I' for j in range(i+1,N)]\n",
    "    label_x = label_1 + ['X'] + label_2\n",
    "    label_y = label_1 + ['Y'] + label_2\n",
    "    label_x = ''.join(label_x)\n",
    "    label_y = ''.join(label_y)\n",
    "    x = qi.Operator.from_label(label_x).data\n",
    "    y = qi.Operator.from_label(label_y).data\n",
    "    return 1/2*(x-1j*y)\n",
    "\n",
    "def cd(i,N):\n",
    "    label_1 = ['Z' for j in range(i)]\n",
    "    label_2 = ['I' for j in range(i+1,N)]\n",
    "    label_x = label_1 + ['X'] + label_2\n",
    "    label_y = label_1 + ['Y'] + label_2\n",
    "    label_x = ''.join(label_x)\n",
    "    label_y = ''.join(label_y)\n",
    "    x = qi.Operator.from_label(label_x).data\n",
    "    y = qi.Operator.from_label(label_y).data\n",
    "    return 1/2*(x+1j*y)\n",
    "\n",
    "def n(i,N):\n",
    "    return Mdot([cd(i,N),c(i,N)])\n",
    "\n",
    "import numpy as np\n",
    "\n",
    "def Mdot(Ol):\n",
    "    out = Ol[0]\n",
    "    for i in range(1,len(Ol)):\n",
    "        out = np.dot(Ol[i],out)\n",
    "    return out\n",
    "\n",
    "def bkt(y1,O,y2):\n",
    "    return Mdot([np.conjugate(y1),O,y2])"
   ]
  },
  {
   "cell_type": "markdown",
   "id": "753df0e9",
   "metadata": {},
   "source": [
    "In practice, we need to measure two brackets, the Hamiltonain expectation value $$<\\psi_0|\\hat{G}\\hat{H}\\hat{G}|\\psi_0> $$ and the normalization $$ <\\psi_0|\\hat{G}\\hat{G}|\\psi_0>  $$\n",
    "\n",
    "The normalization can be calculated in the same manner as we have already discussed, however, the Hmailtonian expectation value takes a little more work.  The form of the Hamiltonian is,\n",
    "\n",
    "$$ \\hat{H} = k \\hat{K} + d\\hat{D} $$\n",
    "\n",
    "where the kinetic part is \n",
    "\n",
    "$$ \\hat{K} = \\sum_{\\sigma}\\sum_{i=0}^{N-2} \\left( c^{\\dagger}_{\\sigma,i}c_{\\sigma i+1} + c^{\\dagger}_{\\sigma i+1}c_{\\sigma i} \\right)$$\n",
    "\n",
    "and the interaction part is \n",
    "\n",
    "$$ \\hat{D} = \\sum_{i=0}^{N-1} n_{i\\uparrow}n_{i\\downarrow} $$"
   ]
  },
  {
   "cell_type": "markdown",
   "id": "151fa7c9",
   "metadata": {},
   "source": [
    "The expectation value of the interaction part does not make the measurment much more difficult since it is diagonal in the same basis as the Gutzwiller projection.  Let $w_l$ be the weight of the measurment state and let $N_l$ be the number of qubits which are on in both the measurment state and the block then,\n",
    "\n",
    "$$ <\\psi_0|\\hat{G}\\hat{D}\\hat{{G}}|\\psi_0> = \\sum_l w_l N_l e^{-2N_lg} $$"
   ]
  },
  {
   "cell_type": "markdown",
   "id": "9444bfb7",
   "metadata": {},
   "source": [
    "For the $\\hat{K}$ part we will use a property of the exponential of number operators,\n",
    "\n",
    "$$ \\hat{G} = \\prod_{i=0}^{N-1}e^{-g n_{i\\uparrow}n_{i\\downarrow}} = \\prod_{i=0}^{N-1} (1 - n_{i\\uparrow}n_{i\\downarrow} (e^{-g}-1) ) $$\n",
    "\n",
    "Let's check this property."
   ]
  },
  {
   "cell_type": "code",
   "execution_count": 29,
   "id": "f9b1278a",
   "metadata": {},
   "outputs": [
    {
     "data": {
      "text/plain": [
       "5.551115123125783e-17"
      ]
     },
     "execution_count": 29,
     "metadata": {},
     "output_type": "execute_result"
    }
   ],
   "source": [
    "def G_exponent(g,N):\n",
    "    Nf = 0*I(2*N)\n",
    "    for i in range(N):\n",
    "        Nf = Nf + Mdot([n(i,2*N),n(i+N,2*N)])\n",
    "    return sp.linalg.expm(-g*Nf)\n",
    "\n",
    "def G(g,N):\n",
    "    out = I(2*N)\n",
    "    for i in range(N):\n",
    "        out = Mdot([ out , I(2*N) + (np.exp(-g)-1)*Mdot([n(i,2*N),n(i+N,2*N)]) ])\n",
    "    return out\n",
    "\n",
    "i=0\n",
    "g=2.3\n",
    "N=2\n",
    "np.amax(np.abs( G_exponent(g,N) - G(g,N)  ))"
   ]
  },
  {
   "cell_type": "markdown",
   "id": "472a6ba4",
   "metadata": {},
   "source": [
    "Using this form of $G$, let's evaluate a single fermion operator,\n",
    "\n",
    "$$ Gc^{\\dagger}_{i\\sigma}G =  \\prod_{j \\neq i}e^{-g n_{j\\uparrow}n_{j\\downarrow}} (1 - n_{i\\uparrow}n_{i\\downarrow} (e^{-g}-1) ) c^{\\dagger}_{i\\sigma} (1 - n_{i\\uparrow}n_{i\\downarrow} (e^{-g}-1) ) = \\prod_{j \\neq i}e^{-2g n_{j\\uparrow}n_{j\\downarrow}} (1 - n_{i\\uparrow} (e^{-g}-1) ) c^{\\dagger}_{i\\sigma} = \\prod_{j \\neq i}e^{-2g n_{j\\uparrow}n_{j\\downarrow}} e^{-g n_{i\\uparrow}}  c^{\\dagger}_{i\\sigma} $$\n",
    "\n",
    "Let's check"
   ]
  },
  {
   "cell_type": "code",
   "execution_count": 30,
   "id": "74393b6d",
   "metadata": {},
   "outputs": [
    {
     "data": {
      "text/plain": [
       "5.551115123125783e-17"
      ]
     },
     "execution_count": 30,
     "metadata": {},
     "output_type": "execute_result"
    }
   ],
   "source": [
    "i=0\n",
    "g=2.3\n",
    "N=2\n",
    "\n",
    "def GcduG(i,g,N):\n",
    "    Nf = 0*I(2*N)\n",
    "    for j in range(N):\n",
    "        if i == j:\n",
    "            Nf = Nf + Mdot([n(j+N,2*N)])\n",
    "        else:\n",
    "            Nf = Nf + 2*Mdot([n(j,2*N),n(j+N,2*N)])\n",
    "    return Mdot([sp.linalg.expm(-g*Nf), cd(i,2*N)])\n",
    "\n",
    "np.amax(np.abs( Mdot([G(g,N),cd(i,2*N),G(g,N)]) - GcduG(i,g,N) ))"
   ]
  },
  {
   "cell_type": "markdown",
   "id": "1fb5cc1d",
   "metadata": {},
   "source": [
    "From this we can implicitely guess the form of \n",
    "\n",
    "$$ \\hat{G}\\left(c^{\\dagger}_{i\\sigma}c_{i+1\\sigma}+c^{\\dagger}_{i+1\\sigma}c_{i\\sigma}\\right)\\hat{G}  = \\prod_{j \\neq i,i+1}e^{-2g n_{j\\uparrow}n_{j\\downarrow}} e^{-g n_{i\\sigma+1}}e^{-g n_{i+1\\sigma+1}}  \\left(c^{\\dagger}_{i\\sigma}c_{i+1\\sigma}+c^{\\dagger}_{i+1\\sigma}c_{i\\sigma}\\right) $$"
   ]
  },
  {
   "cell_type": "code",
   "execution_count": 31,
   "id": "df31e541",
   "metadata": {},
   "outputs": [
    {
     "data": {
      "text/plain": [
       "5.551115123125783e-17"
      ]
     },
     "execution_count": 31,
     "metadata": {},
     "output_type": "execute_result"
    }
   ],
   "source": [
    "i=0\n",
    "g=2.3\n",
    "N=2\n",
    "\n",
    "def GKiuG(i,g,N):\n",
    "    Nf = 0*I(2*N)\n",
    "    for j in range(N):\n",
    "        if i == j:\n",
    "            Nf = Nf + Mdot([n(j+N,2*N)])\n",
    "        elif i+1 == j:\n",
    "            Nf = Nf + Mdot([n(j+N,2*N)])\n",
    "        else:\n",
    "            Nf = Nf + 2*Mdot([n(j,2*N),n(j+N,2*N)])\n",
    "    return Mdot([sp.linalg.expm(-g*Nf), Mdot([cd(i,2*N),c(i+1,2*N)]) + Mdot([cd(i+1,2*N),c(i,2*N)]) ])\n",
    "\n",
    "np.amax(np.abs( Mdot([G(g,N),Mdot([cd(i,2*N),c(i+1,2*N)]) + Mdot([cd(i+1,2*N),c(i,2*N)]),G(g,N)]) - GKiuG(i,g,N) ))"
   ]
  },
  {
   "cell_type": "markdown",
   "id": "9ba70e43",
   "metadata": {},
   "source": [
    "Therefore the enrite evaluation of $\\hat{K}$ is \n",
    "\n",
    "$$ \\hat{G}\\hat{K}\\hat{G} = \\sum_{i=0}^{N-1}\\sum_{\\sigma}\\prod_{j \\neq i,i+1}e^{-2g n_{j\\uparrow}n_{j\\downarrow}} e^{-g n_{i\\sigma+1}}e^{-g n_{i+1\\sigma+1}}  \\left(c^{\\dagger}_{i\\sigma}c_{i+1\\sigma}+c^{\\dagger}_{i+1\\sigma}c_{i\\sigma}\\right) $$"
   ]
  },
  {
   "cell_type": "code",
   "execution_count": 178,
   "id": "0a11f17e",
   "metadata": {},
   "outputs": [
    {
     "data": {
      "text/plain": [
       "5.551115123125783e-17"
      ]
     },
     "execution_count": 178,
     "metadata": {},
     "output_type": "execute_result"
    }
   ],
   "source": [
    "def K(k,N):\n",
    "    Kout = 0*I(2*N)\n",
    "    for i in range(0,N-1):\n",
    "        Kout = Kout + Mdot([cd(i,2*N),c(i+1,2*N)]) + Mdot([cd(i+1,2*N),c(i,2*N)])\n",
    "        Kout = Kout + Mdot([cd(i+N,2*N),c(i+1+N,2*N)]) + Mdot([cd(i+1+N,2*N),c(i+N,2*N)])\n",
    "    return k*Kout\n",
    "\n",
    "def D(d,N):\n",
    "    Dout = 0*I(2*N)\n",
    "    for i in range(0,N):\n",
    "        Dout = Dout + Mdot([n(i,2*N),n(i+N,2*N)])\n",
    "    return d*Dout\n",
    "\n",
    "def GKG(g,N):\n",
    "    out = 0*I(2*N)\n",
    "    for i in range(0,N-1):\n",
    "        Nfu = 0*I(2*N)\n",
    "        Nfd = 0*I(2*N)\n",
    "        for j in range(N):\n",
    "            if i == j:\n",
    "                Nfu = Nfu + Mdot([n(j+N,2*N)])\n",
    "                Nfd = Nfd + Mdot([n(j,2*N)])\n",
    "            elif i+1 == j:\n",
    "                Nfu = Nfu + Mdot([n(j+N,2*N)])\n",
    "                Nfd = Nfd + Mdot([n(j,2*N)])\n",
    "            else:\n",
    "                Nfu = Nfu + 2*Mdot([n(j,2*N),n(j+N,2*N)])\n",
    "                Nfd = Nfd + 2*Mdot([n(j,2*N),n(j+N,2*N)])\n",
    "        out = out + k*Mdot([sp.linalg.expm(-g*Nfu), Mdot([cd(i,2*N),c(i+1,2*N)]) + Mdot([cd(i+1,2*N),c(i,2*N)]) ])\n",
    "        out = out + k*Mdot([sp.linalg.expm(-g*Nfd), Mdot([cd(i+N,2*N),c(i+1+N,2*N)]) + Mdot([cd(i+1+N,2*N),c(i+N,2*N)]) ])\n",
    "    return out\n",
    "\n",
    "\n",
    "i=0\n",
    "g=2.3\n",
    "k=1.1\n",
    "N=2\n",
    "\n",
    "np.amax(np.abs( Mdot([G(g,N),K(k,N),G(g,N)]) - GKG(g,N) ))\n"
   ]
  },
  {
   "cell_type": "markdown",
   "id": "f67f5829",
   "metadata": {},
   "source": [
    "In terms of Pauli matrices that is \n",
    "\n",
    "$$ \\hat{G}\\hat{K}\\hat{G} = \\sum_{i=0}^{N-1}\\sum_{\\sigma}\\prod_{j \\neq i,i+1}e^{-2g n_{j\\uparrow}n_{j\\downarrow}} e^{-g n_{i\\sigma+1}}e^{-g n_{i+1\\sigma+1}}  \\frac{1}{2}\\left(X_{i\\sigma}X_{i+1\\sigma}+Y_{i+1\\sigma}Y_{i\\sigma}\\right) $$\n",
    "\n",
    "where $n$ acts the same on the puali basis as it does on the fermion basis."
   ]
  },
  {
   "cell_type": "code",
   "execution_count": 97,
   "id": "50f6a8f5",
   "metadata": {},
   "outputs": [
    {
     "data": {
      "text/plain": [
       "5.551115123125783e-17"
      ]
     },
     "execution_count": 97,
     "metadata": {},
     "output_type": "execute_result"
    }
   ],
   "source": [
    "def GKG_pauli(g,k,N):\n",
    "    out = 0*I(2*N)\n",
    "    for i in range(0,N-1):\n",
    "        Nfu = 0*I(2*N)\n",
    "        Nfd = 0*I(2*N)\n",
    "        for j in range(N):\n",
    "            if i == j:\n",
    "                Nfu = Nfu + Mdot([n(j+N,2*N)])\n",
    "                Nfd = Nfd + Mdot([n(j,2*N)])\n",
    "            elif i+1 == j:\n",
    "                Nfu = Nfu + Mdot([n(j+N,2*N)])\n",
    "                Nfd = Nfd + Mdot([n(j,2*N)])\n",
    "            else:\n",
    "                Nfu = Nfu + 2*Mdot([n(j,2*N),n(j+N,2*N)])\n",
    "                Nfd = Nfd + 2*Mdot([n(j,2*N),n(j+N,2*N)])\n",
    "        out = out + k*Mdot([sp.linalg.expm(-g*Nfu), 1/2*Mdot([X(i,2*N),X(i+1,2*N)]) + 1/2*Mdot([Y(i,2*N),Y(i+1,2*N)]) ])\n",
    "        out = out + k*Mdot([sp.linalg.expm(-g*Nfd), 1/2*Mdot([X(i+N,2*N),X(i+1+N,2*N)]) + 1/2*Mdot([Y(i+N,2*N),Y(i+1+N,2*N)]) ])\n",
    "    return out\n",
    "\n",
    "i=0\n",
    "g=2.3\n",
    "k=1.1\n",
    "N=2\n",
    "\n",
    "np.amax(np.abs( Mdot([G(g,N),K(k,N),G(g,N)]) - GKG_pauli(g,k,N) ))"
   ]
  },
  {
   "cell_type": "markdown",
   "id": "2369a132",
   "metadata": {},
   "source": [
    "# Pauli Strings"
   ]
  },
  {
   "cell_type": "code",
   "execution_count": 242,
   "id": "f9be0664",
   "metadata": {},
   "outputs": [],
   "source": [
    "def GG_strings(N):\n",
    "    out = []\n",
    "    for i in range(0,N):\n",
    "        out.append('enn')\n",
    "    return [out]\n",
    "\n",
    "def GDG_strings(N):\n",
    "    out = []\n",
    "    for i in range(0,N):\n",
    "        out_i = []\n",
    "        for j in range(0,N):\n",
    "            if i == j:\n",
    "                out_i.append('nnenn')\n",
    "            else:\n",
    "                out_i.append('enn')\n",
    "        out.append(out_i)\n",
    "    return out\n",
    "\n",
    "def GKG_strings(N):\n",
    "    out = []\n",
    "    for i in range(0,N-1):\n",
    "        out_iux = []\n",
    "        out_idx = []\n",
    "        out_iuy = []\n",
    "        out_idy = []\n",
    "        for j in range(N):\n",
    "            if i == j:\n",
    "                out_iux.append('Xuend')\n",
    "                out_idx.append('Xdenu')\n",
    "                out_iuy.append('Yuend')\n",
    "                out_idy.append('Ydenu')\n",
    "            elif i+1 == j:\n",
    "                out_iux.append('Xuend')\n",
    "                out_idx.append('Xdenu')\n",
    "                out_iuy.append('Yuend')\n",
    "                out_idy.append('Ydenu')\n",
    "            else:\n",
    "                out_iux.append('enn')\n",
    "                out_idx.append('enn')\n",
    "                out_iuy.append('enn')\n",
    "                out_idy.append('enn')\n",
    "        out.append(out_iux)\n",
    "        out.append(out_idx)\n",
    "        out.append(out_iuy)\n",
    "        out.append(out_idy)\n",
    "    return out\n",
    "\n",
    "GG_strings(4)\n",
    "GDG_strings(4)\n",
    "GKG_strings(4)\n",
    "\n",
    "def convert_string(g,strings):\n",
    "    N = len(strings[0])\n",
    "    out = 0*I(2*N)\n",
    "    #print(len(out))\n",
    "    for string in strings:\n",
    "        out_s = I(2*N)\n",
    "        for j in range(len(string)):\n",
    "            #print(string[j])\n",
    "            if string[j] == 'enn':\n",
    "                exp = sp.linalg.expm(-g*2*Mdot([n(j,2*N),n(j+N,2*N)]))\n",
    "                out_s = Mdot([out_s,exp])\n",
    "            if string[j] == 'nnenn':\n",
    "                exp = sp.linalg.expm(-g*2*Mdot([n(j,2*N),n(j+N,2*N)]))\n",
    "                nn = Mdot([n(j,2*N),n(j+N,2*N)])\n",
    "                out_s = Mdot([out_s,nn,exp])\n",
    "            if string[j] == 'Xuend':\n",
    "                exp = sp.linalg.expm(-g*Mdot([n(j+N,2*N)]))\n",
    "                x = X(j,2*N)\n",
    "                out_s = Mdot([out_s,x,exp])\n",
    "            if string[j] == 'Xdenu':\n",
    "                exp = sp.linalg.expm(-g*Mdot([n(j,2*N)]))\n",
    "                x = X(j+N,2*N)\n",
    "                out_s = Mdot([out_s,x,exp])\n",
    "            if string[j] == 'Yuend':\n",
    "                exp = sp.linalg.expm(-g*Mdot([n(j+N,2*N)]))\n",
    "                y = Y(j,2*N)\n",
    "                out_s = Mdot([out_s,y,exp])\n",
    "            if string[j] == 'Ydenu':\n",
    "                exp = sp.linalg.expm(-g*Mdot([n(j,2*N)]))\n",
    "                y = Y(j+N,2*N)\n",
    "                out_s = Mdot([out_s,y,exp])\n",
    "        out = out+out_s\n",
    "    return out\n",
    "            "
   ]
  },
  {
   "cell_type": "code",
   "execution_count": 247,
   "id": "7df35cbc",
   "metadata": {},
   "outputs": [
    {
     "data": {
      "text/plain": [
       "6.938893903907228e-18"
      ]
     },
     "execution_count": 247,
     "metadata": {},
     "output_type": "execute_result"
    }
   ],
   "source": [
    "k=1.2\n",
    "g=1.7\n",
    "N=4\n",
    "np.amax(np.abs( GKG_pauli(g,k,N) - k/2*convert_string(g,GKG_strings(N)) ))"
   ]
  },
  {
   "cell_type": "code",
   "execution_count": 248,
   "id": "64233975",
   "metadata": {},
   "outputs": [
    {
     "data": {
      "text/plain": [
       "1.3877787807814457e-17"
      ]
     },
     "execution_count": 248,
     "metadata": {},
     "output_type": "execute_result"
    }
   ],
   "source": [
    "np.amax(np.abs( Mdot([G(g,N),G(g,N)]) - convert_string(g,GG_strings(N)) ))"
   ]
  },
  {
   "cell_type": "code",
   "execution_count": 249,
   "id": "e480e662",
   "metadata": {},
   "outputs": [
    {
     "data": {
      "text/plain": [
       "4.163336342344337e-17"
      ]
     },
     "execution_count": 249,
     "metadata": {},
     "output_type": "execute_result"
    }
   ],
   "source": [
    "d=2.2\n",
    "np.amax(np.abs( Mdot([G(g,N),D(d,N),G(g,N)]) - d*convert_string(g,GDG_strings(N)) ))"
   ]
  },
  {
   "cell_type": "markdown",
   "id": "5b712437",
   "metadata": {},
   "source": [
    "## Blocks"
   ]
  },
  {
   "cell_type": "code",
   "execution_count": 246,
   "id": "d637476d",
   "metadata": {},
   "outputs": [
    {
     "data": {
      "text/plain": [
       "[['Xuend', 'Xuend', 'enn', 'enn'],\n",
       " ['Xdenu', 'Xdenu', 'enn', 'enn'],\n",
       " ['Yuend', 'Yuend', 'enn', 'enn'],\n",
       " ['Ydenu', 'Ydenu', 'enn', 'enn'],\n",
       " ['enn', 'Xuend', 'Xuend', 'enn'],\n",
       " ['enn', 'Xdenu', 'Xdenu', 'enn'],\n",
       " ['enn', 'Yuend', 'Yuend', 'enn'],\n",
       " ['enn', 'Ydenu', 'Ydenu', 'enn'],\n",
       " ['enn', 'enn', 'Xuend', 'Xuend'],\n",
       " ['enn', 'enn', 'Xdenu', 'Xdenu'],\n",
       " ['enn', 'enn', 'Yuend', 'Yuend'],\n",
       " ['enn', 'enn', 'Ydenu', 'Ydenu']]"
      ]
     },
     "execution_count": 246,
     "metadata": {},
     "output_type": "execute_result"
    }
   ],
   "source": [
    "GKG_strings(4)"
   ]
  },
  {
   "cell_type": "code",
   "execution_count": null,
   "id": "b7cbfd49",
   "metadata": {},
   "outputs": [],
   "source": []
  }
 ],
 "metadata": {
  "kernelspec": {
   "display_name": "Python (qiskit_nick)",
   "language": "python",
   "name": "qiskit_nick"
  },
  "language_info": {
   "codemirror_mode": {
    "name": "ipython",
    "version": 3
   },
   "file_extension": ".py",
   "mimetype": "text/x-python",
   "name": "python",
   "nbconvert_exporter": "python",
   "pygments_lexer": "ipython3",
   "version": "3.9.6"
  },
  "toc": {
   "base_numbering": 1,
   "nav_menu": {},
   "number_sections": true,
   "sideBar": true,
   "skip_h1_title": false,
   "title_cell": "Table of Contents",
   "title_sidebar": "Contents",
   "toc_cell": false,
   "toc_position": {},
   "toc_section_display": true,
   "toc_window_display": true
  }
 },
 "nbformat": 4,
 "nbformat_minor": 5
}
