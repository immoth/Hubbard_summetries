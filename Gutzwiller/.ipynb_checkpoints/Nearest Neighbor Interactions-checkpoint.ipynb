{
 "cells": [
  {
   "cell_type": "code",
   "execution_count": 1,
   "id": "dc26d948",
   "metadata": {},
   "outputs": [],
   "source": [
    "from Object_Oriented.Define_Paulis import I,X,Y,Z,Mdot,bkt,c,cd,n"
   ]
  },
  {
   "cell_type": "markdown",
   "id": "e1a91b8e",
   "metadata": {},
   "source": [
    "The goal is to find an expresion for $G_2KG_2$ where $G_2$ contains nearest neighbor interactions.\n",
    "$$ G_2 = e^{-g\\sum_{j}n_jn_{j+1}} = \\prod_j e^{-g n_jn_{j+1}}$$\n",
    "with \n",
    "$$ n_i = n_{i\\uparrow} + n_{i\\downarrow} $$\n",
    "and $K$ is the kinetic energy term\n",
    "$$ K = k\\sum_i c^{\\dagger}_ic_{i+1} + c^{\\dagger}_{i+1}c_i $$"
   ]
  },
  {
   "cell_type": "markdown",
   "id": "d09e5c01",
   "metadata": {},
   "source": [
    "The expansion of $G_2$ is more difficult than the normal Gutzwiller term because $n_j^2 \\neq n_j$, in fact,\n",
    "$$ n_j^{m} = n_j + \\lambda_m n_{j\\uparrow}n_{j\\downarrow} $$\n",
    "where \n",
    "$\\lambda_m = \\sum_{l=1}^{m-1}2^l$.  "
   ]
  },
  {
   "cell_type": "markdown",
   "id": "574e6245",
   "metadata": {},
   "source": [
    "We will need to be able to commute the following terms: $n_i^m c^{\\dagger}_{i\\sigma}$, $n_i^m c_{i\\sigma}$, $c^{\\dagger}_{i\\sigma} n_i^m $, $c_{i\\sigma} n_i^m $, "
   ]
  },
  {
   "cell_type": "markdown",
   "id": "c25370f9",
   "metadata": {},
   "source": [
    "\\begin{equation}\n",
    "\\begin{split}\n",
    "n^{m}_i c^{\\dagger}_{i\\uparrow} &= n^{m-1}(n_{i\\uparrow} + n_{i\\downarrow})c^{\\dagger}_{i\\uparrow} \n",
    "\\\\\n",
    "& = n^{m-1}c^{\\dagger}_{i\\uparrow} (1 + n_{i\\downarrow})\n",
    "\\\\\n",
    "& = c^{\\dagger}_{i\\uparrow} (1 + n_{i\\downarrow})^m\n",
    "\\end{split}\n",
    "\\end{equation}"
   ]
  },
  {
   "cell_type": "code",
   "execution_count": 2,
   "id": "93472ca9",
   "metadata": {},
   "outputs": [
    {
     "data": {
      "text/plain": [
       "0.0"
      ]
     },
     "execution_count": 2,
     "metadata": {},
     "output_type": "execute_result"
    }
   ],
   "source": [
    "import numpy as np \n",
    "\n",
    "n0 = n(0,2) + n(1,2)\n",
    "cd0 = cd(0,2)\n",
    "\n",
    "np.amax(np.abs( Mdot([n0,n0,n0,n0,cd0]) - Mdot([cd0,I(2)+n(1,2),I(2)+n(1,2),I(2)+n(1,2),I(2)+n(1,2)]) ))"
   ]
  },
  {
   "cell_type": "markdown",
   "id": "c041e236",
   "metadata": {},
   "source": [
    "\\begin{equation}\n",
    "\\begin{split}\n",
    "n^{m}_i c_{i\\uparrow} &= n^{m-1}(n_{i\\uparrow} + n_{i\\downarrow})c_{i\\uparrow} \n",
    "\\\\\n",
    "& = n^{m-1}c_{i\\uparrow} ( n_{i\\downarrow})\n",
    "\\\\\n",
    "& =  c_{i\\uparrow} n_{i\\downarrow}^m\n",
    "\\end{split}\n",
    "\\end{equation}"
   ]
  },
  {
   "cell_type": "code",
   "execution_count": 3,
   "id": "ac6a8f6f",
   "metadata": {},
   "outputs": [
    {
     "data": {
      "text/plain": [
       "0.0"
      ]
     },
     "execution_count": 3,
     "metadata": {},
     "output_type": "execute_result"
    }
   ],
   "source": [
    "c0 = c(0,2)\n",
    "\n",
    "np.amax(np.abs( Mdot([n0,n0,n0,n0,c0]) - Mdot([c0,n(1,2),n(1,2),n(1,2),n(1,2)]) ))"
   ]
  },
  {
   "cell_type": "markdown",
   "id": "800ecb08",
   "metadata": {},
   "source": [
    "\\begin{equation}\n",
    "\\begin{split}\n",
    "c^{\\dagger}_{i\\uparrow} n^{m}_i  &= c^{\\dagger}_{i\\uparrow} (n_{i\\uparrow} + n_{i\\downarrow}) n^{m-1}\n",
    "\\\\\n",
    "& = (n_{i\\downarrow})c^{\\dagger}_{i\\uparrow} n^{m-1}\n",
    "\\\\\n",
    "& = c^{\\dagger}_{i\\uparrow} n_{i\\downarrow}^m\n",
    "\\end{split}\n",
    "\\end{equation}"
   ]
  },
  {
   "cell_type": "code",
   "execution_count": 4,
   "id": "56e55aea",
   "metadata": {},
   "outputs": [
    {
     "data": {
      "text/plain": [
       "0.0"
      ]
     },
     "execution_count": 4,
     "metadata": {},
     "output_type": "execute_result"
    }
   ],
   "source": [
    "np.amax(np.abs( Mdot([cd0,n0,n0,n0,n0]) - Mdot([cd0,n(1,2),n(1,2),n(1,2),n(1,2)]) ))"
   ]
  },
  {
   "cell_type": "markdown",
   "id": "e5c393bf",
   "metadata": {},
   "source": [
    "\\begin{equation}\n",
    "\\begin{split}\n",
    "c_{i\\uparrow} n^{m}_i  &= c_{i\\uparrow} (n_{i\\uparrow} + n_{i\\downarrow}) n^{m-1}\n",
    "\\\\\n",
    "& = (1 + n_{i\\downarrow})c_{i\\uparrow} n^{m-1}\n",
    "\\\\\n",
    "& = c_{i\\uparrow} (1+n_{i\\downarrow})^m\n",
    "\\end{split}\n",
    "\\end{equation}"
   ]
  },
  {
   "cell_type": "code",
   "execution_count": 5,
   "id": "c046f3bb",
   "metadata": {},
   "outputs": [
    {
     "data": {
      "text/plain": [
       "0.0"
      ]
     },
     "execution_count": 5,
     "metadata": {},
     "output_type": "execute_result"
    }
   ],
   "source": [
    "np.amax(np.abs( Mdot([c0,n0,n0,n0,n0]) - Mdot([c0,I(2)+n(1,2),I(2)+n(1,2),I(2)+n(1,2),I(2)+n(1,2)]) ))"
   ]
  },
  {
   "cell_type": "markdown",
   "id": "f76a3899",
   "metadata": {},
   "source": [
    "To summerize, we have\n",
    "$$ n^{m}_i c^{\\dagger}_{i\\uparrow} = c^{\\dagger}_{i\\uparrow} (1 + n_{i\\downarrow})^m \\quad \\quad c_{i\\uparrow} n^{m}_i   = c_{i\\uparrow} (1+n_{i\\downarrow})^m $$\n",
    "$$ c^{\\dagger}_{i\\uparrow} n^{m}_i  = c^{\\dagger}_{i\\uparrow} n_{i\\downarrow}^m \\quad \\quad n^{m}_i c_{i\\uparrow} =  c_{i\\uparrow} n_{i\\downarrow}^m $$ "
   ]
  },
  {
   "cell_type": "markdown",
   "id": "7202dbd9",
   "metadata": {},
   "source": [
    "Let us start by evaluating \n",
    "\\begin{equation}\n",
    "\\begin{split}\n",
    "G_2 c^{\\dagger}_{i\\uparrow} c_{i+1\\uparrow} G_2 &= \\left(\\prod_{j\\neq i-1,i,i+1} e^{-2g n_j n_{j+1}}\\right) e^{-g n_{i-1}n_i}e^{-g n_{i}n_{i+1}}e^{-g n_{i+1}n_{i+2}} c^{\\dagger}_{i\\uparrow} c_{i+1\\uparrow}  e^{-g n_{i-1}n_i}e^{-g n_{i}n_{i+1}}e^{-g n_{i+1}n_{i+2}}\n",
    "\\\\\n",
    "&= \\left(\\prod_{j\\neq i-1,i,i+1} e^{-2g n_j n_{j+1}}\\right) e^{-g n_{i-1}(1+n_{i\\downarrow})}e^{-g (1+n_{i\\downarrow})n_{i+1\\downarrow}}e^{-g n_{i+1\\downarrow}n_{i+2}} c^{\\dagger}_{i\\uparrow} c_{i+1\\uparrow}  e^{-g n_{i-1}n_{i\\downarrow}}e^{-g n_{i\\downarrow}(1+n_{i+1\\downarrow})}e^{-g (1+n_{i+1\\downarrow})n_{i+2}}\n",
    "\\\\\n",
    "&= \\left(\\prod_{j\\neq i-1,i,i+1} e^{-2g n_j n_{j+1}}\\right) e^{-g n_{i-1}(1+2n_{i\\downarrow})}e^{-g (n_{i+1\\downarrow}+n_{i\\downarrow})^2}e^{-g (1+2n_{i+1\\downarrow})n_{i+2}} c^{\\dagger}_{i\\uparrow} c_{i+1\\uparrow} \n",
    "\\end{split}\n",
    "\\end{equation}"
   ]
  },
  {
   "cell_type": "code",
   "execution_count": 8,
   "id": "add208cb",
   "metadata": {},
   "outputs": [
    {
     "data": {
      "text/plain": [
       "0.0"
      ]
     },
     "execution_count": 8,
     "metadata": {},
     "output_type": "execute_result"
    }
   ],
   "source": [
    "import scipy.linalg as ln\n",
    "\n",
    "e1 = ln.expm(Mdot([n(0,4)+n(2,4),n(1,4)+n(3,4)]))\n",
    "e1b = ln.expm(Mdot([I(4)+2*n(2,4),n(1,4)+n(3,4)]))\n",
    "\n",
    "np.amax(np.abs( Mdot([e1,cd(0,4),e1]) - Mdot([cd(0,4),e1b]) ))"
   ]
  },
  {
   "cell_type": "code",
   "execution_count": 24,
   "id": "2b2dd977",
   "metadata": {},
   "outputs": [
    {
     "data": {
      "text/plain": [
       "6.938893903907228e-18"
      ]
     },
     "execution_count": 24,
     "metadata": {},
     "output_type": "execute_result"
    }
   ],
   "source": [
    "\n",
    "\n",
    "def G2(g,N):\n",
    "    D = 0*I(2*N)\n",
    "    for i in range(0,N-1):\n",
    "        ni = n(i,2*N) + n(N+i,2*N)\n",
    "        nj = n(i+1,2*N) + n(N+i+1,2*N)\n",
    "        D = D + Mdot([ni,nj])\n",
    "    return ln.expm(-g*D)\n",
    "\n",
    "def G2b(g,k,N):\n",
    "    D = 0*I(2*N)\n",
    "    for i in range(0,N-1):\n",
    "        if i == k-1:\n",
    "            ni = n(i,2*N) + n(N+i,2*N)\n",
    "            nj = I(2*N) + 2*n(N+i+1,2*N)\n",
    "            D = D + Mdot([ni,nj])\n",
    "        elif i == k:\n",
    "            nij = n(N+i,2*N) + n(N+i+1,2*N)\n",
    "            D = D + Mdot([nij,nij])\n",
    "        elif i == k+1:\n",
    "            ni = I(2*N) + 2*n(N+i,2*N)\n",
    "            nj = n(i+1,2*N) + n(N+i+1,2*N)\n",
    "            D = D + Mdot([ni,nj])\n",
    "        else:\n",
    "            ni = n(i,2*N) + n(N+i,2*N)\n",
    "            nj = n(i+1,2*N) + n(N+i+1,2*N)\n",
    "            D = D + 2*Mdot([ni,nj])\n",
    "    return ln.expm(-g*D)\n",
    "\n",
    "N=4 #tested up to N=6\n",
    "k=2\n",
    "G = G2(1,N)\n",
    "Gb = G2b(1,k,N)\n",
    "np.amax(np.abs( Mdot([G,cd(k,2*N),c(k+1,2*N),G]) - Mdot([cd(k,2*N),c(k+1,2*N),Gb]) ))"
   ]
  },
  {
   "cell_type": "markdown",
   "id": "c57f6ac3",
   "metadata": {},
   "source": [
    "Now we can evaluate the full thing,\n",
    "\\begin{equation}\n",
    "\\begin{split}\n",
    "G_2 K G_2 &= \\sum_i G_2\\left( c^{\\dagger}_ic_{i+1} + c^{\\dagger}_{i+1}c_{i} \\right) G_2\n",
    "\\\\\n",
    "&=\\sum_i \\left(\\prod_{j\\neq i-1,i,i+1} e^{-2g n_j n_{j+1}}\\right) e^{-g n_{i-1}(1+2n_{i\\downarrow})}e^{-g (n_{i+1\\downarrow}+n_{i\\downarrow})^2}e^{-g (1+2n_{i+1\\downarrow})n_{i+2}} \\left( c^{\\dagger}_ic_{i+1} + c^{\\dagger}_{i+1}c_{i} \\right)\n",
    "\\end{split}\n",
    "\\end{equation}"
   ]
  },
  {
   "cell_type": "code",
   "execution_count": null,
   "id": "25bcc8d3",
   "metadata": {},
   "outputs": [],
   "source": []
  }
 ],
 "metadata": {
  "kernelspec": {
   "display_name": "qiskit_3.5",
   "language": "python",
   "name": "qiskit_3.5"
  },
  "language_info": {
   "codemirror_mode": {
    "name": "ipython",
    "version": 3
   },
   "file_extension": ".py",
   "mimetype": "text/x-python",
   "name": "python",
   "nbconvert_exporter": "python",
   "pygments_lexer": "ipython3",
   "version": "3.10.4"
  },
  "toc": {
   "base_numbering": 1,
   "nav_menu": {},
   "number_sections": true,
   "sideBar": true,
   "skip_h1_title": false,
   "title_cell": "Table of Contents",
   "title_sidebar": "Contents",
   "toc_cell": false,
   "toc_position": {},
   "toc_section_display": true,
   "toc_window_display": false
  }
 },
 "nbformat": 4,
 "nbformat_minor": 5
}
