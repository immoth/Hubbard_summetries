{
 "cells": [
  {
   "cell_type": "markdown",
   "id": "31bd2d87",
   "metadata": {},
   "source": [
    "# Gutzwiller state on a quantum computer\n",
    "\n",
    "Here I use a simillar approach as the last Gutzwiller notebook, 'Gutzwiller_in_kspace', except that I will use the measurment scheme which grows only linearly with system size.  Instead of breaking the operators into Pauli matrices, I keep the exponentials of Pauli operators as well.  This measurement techinque is explored in detail in the notebook 'Measuring Gutzwiller'."
   ]
  },
  {
   "cell_type": "markdown",
   "id": "0924ae63",
   "metadata": {},
   "source": [
    "# Initialize operators and fucntion\n",
    "\n",
    "Below I define the identiry operator $I$, the Pauli operators $X$, $Y$, and $Z$, fermion creations and analiation operators $c^{\\dagger}$, $c$, the fermion number operator $n=c^{\\dagger}c$, and the k-space fermion operators $$ a^{\\dagger} = \\frac{1}{\\sqrt{N}}\\sum_{j=0}^{N-1}e^{i\\frac{2\\pi n}{N}j}c^{\\dagger}_j $$\n",
    "and $a = (a^{\\dagger})^{\\dagger}$ where $N$ is the number of sites in the system.\n",
    "\n",
    "I also define a function Mdot to take the dot product of multiple operators and btk to take brakets of operators."
   ]
  },
  {
   "cell_type": "code",
   "execution_count": 1,
   "id": "76059248",
   "metadata": {},
   "outputs": [],
   "source": [
    "import qiskit.quantum_info as qi\n",
    "import scipy as sp\n",
    "import numpy as np\n",
    "import pandas as pd\n",
    "import math\n",
    "import scipy.linalg as ln\n",
    "\n",
    "def I(N):\n",
    "    label = ['I' for i in range(N)]\n",
    "    label = ''.join(label)\n",
    "    return qi.Operator.from_label(label).data\n",
    "\n",
    "def X(i,N):\n",
    "    label = ['I' for i in range(N)]\n",
    "    label[N-1-i] = 'X'\n",
    "    label = ''.join(label)\n",
    "    return qi.Operator.from_label(label).data\n",
    "\n",
    "def Y(i,N):\n",
    "    label = ['I' for i in range(N)]\n",
    "    label[N-1-i] = 'Y'\n",
    "    label = ''.join(label)\n",
    "    return qi.Operator.from_label(label).data\n",
    "\n",
    "def Z(i,N):\n",
    "    label = ['I' for i in range(N)]\n",
    "    label[N-1-i] = 'Z'\n",
    "    label = ''.join(label)\n",
    "    return qi.Operator.from_label(label).data\n",
    "\n",
    "def c(i,N):\n",
    "    label_1 = ['Z' for j in range(N-i-1)]\n",
    "    label_2 = ['I' for j in range(N-i,N)]\n",
    "    label_x = label_1 + ['X'] + label_2\n",
    "    label_y = label_1 + ['Y'] + label_2\n",
    "    label_x = ''.join(label_x)\n",
    "    label_y = ''.join(label_y)\n",
    "    x = qi.Operator.from_label(label_x).data\n",
    "    y = qi.Operator.from_label(label_y).data\n",
    "    return 1/2*(x+1j*y)\n",
    "\n",
    "def cd(i,N):\n",
    "    label_1 = ['Z' for j in range(N-i-1)]\n",
    "    label_2 = ['I' for j in range(N-i,N)]\n",
    "    label_x = label_1 + ['X'] + label_2\n",
    "    label_y = label_1 + ['Y'] + label_2\n",
    "    label_x = ''.join(label_x)\n",
    "    label_y = ''.join(label_y)\n",
    "    x = qi.Operator.from_label(label_x).data\n",
    "    y = qi.Operator.from_label(label_y).data\n",
    "    return 1/2*(x-1j*y)\n",
    "\n",
    "def n(i,N):\n",
    "    return Mdot([cd(i,N),c(i,N)])\n",
    "\n",
    "def ad(n,N):\n",
    "    out = cd(0,N)\n",
    "    for i in range(1,N):\n",
    "        out = out + np.exp(1j*2*np.pi*n*i/N)*cd(i,N)\n",
    "    return 1/np.sqrt(N)*out\n",
    "\n",
    "def a(n,N):\n",
    "    out = c(0,N)\n",
    "    for i in range(1,N):\n",
    "        out = out + np.exp(-1j*2*np.pi*n*i/N)*c(i,N)\n",
    "    return 1/np.sqrt(N)*out\n",
    "\n",
    "import numpy as np\n",
    "\n",
    "\n",
    "def Mdot(Ol):\n",
    "    L = len(Ol)\n",
    "    out = Ol[L-1]\n",
    "    for i in range(1,len(Ol)):\n",
    "        out = np.dot(Ol[L-1-i],out)\n",
    "    return out\n",
    "\n",
    "def bkt(y1,O,y2):\n",
    "    return Mdot([np.conjugate(y1),O,y2])"
   ]
  },
  {
   "cell_type": "markdown",
   "id": "54bc6466",
   "metadata": {},
   "source": [
    "# Define the system\n",
    "\n",
    "The system is defined by its Hemiltonian which is composed of two parts.  A Kinetic term\n",
    "$$ \\hat{K} = k \\sum_{i\\sigma} \\left( c^{\\dagger}_{i\\sigma}c_{i+1\\sigma} + c^{\\dagger}_{i+1\\sigma}c_{i\\sigma} \\right)$$\n",
    "and an interaction term\n",
    "$$ \\hat{D} = \\sum_i \\hat{n}_{i,\\uparrow}\\hat{n}_{i,\\downarrow}.  $$\n",
    "\n",
    "I also define the Gutzwiler operator,\n",
    "$$ \\hat{G} = \\prod_{i=0}^{N-1}e^{-g n_{i\\uparrow}n_{i\\downarrow}} = \\prod_{i=0}^{N-1} (1 - n_{i\\uparrow}n_{i\\downarrow} (e^{-g}-1) ), $$\n",
    "and the lowest energy two partcle eigenstate of $\\hat{K}$\n",
    "$$ |\\psi_1> = a^{\\dagger}_0a^{\\dagger}_1|0>. $$\n",
    "and \n",
    "$$ |\\psi_{\\text{spin}}> = |\\psi_1>\\otimes|\\psi_1> $$\n",
    "such that $\\hat{K}|\\psi_{\\text{spin}}> = E_{01}|\\psi_{\\text{spin}}>$"
   ]
  },
  {
   "cell_type": "code",
   "execution_count": 2,
   "id": "5d171d93",
   "metadata": {},
   "outputs": [],
   "source": [
    "def G(g,N):\n",
    "    out = I(2*N)\n",
    "    for i in range(N):\n",
    "        out = Mdot([ out , I(2*N) + (np.exp(-g)-1)*Mdot([n(i,2*N),n(i+N,2*N)]) ])\n",
    "    return out\n",
    "\n",
    "def K(k,N):\n",
    "    Kout = 0*I(2*N)\n",
    "    for i in range(0,N-1):\n",
    "        Kout = Kout + Mdot([cd(i,2*N),c(i+1,2*N)]) + Mdot([cd(i+1,2*N),c(i,2*N)])\n",
    "        Kout = Kout + Mdot([cd(i+N,2*N),c(i+1+N,2*N)]) + Mdot([cd(i+1+N,2*N),c(i+N,2*N)])\n",
    "    Kout = Kout + Mdot([cd(0,2*N),c(N-1,2*N)]) + Mdot([cd(N-1,2*N),c(0,2*N)])\n",
    "    Kout = Kout + Mdot([cd(0+N,2*N),c(N-1+N,2*N)]) + Mdot([cd(N-1+N,2*N),c(0+N,2*N)])\n",
    "    return k*Kout\n",
    "\n",
    "def D(d,N):\n",
    "    Dout = 0*I(2*N)\n",
    "    for i in range(0,N):\n",
    "        Dout = Dout + Mdot([n(i,2*N),n(i+N,2*N)])\n",
    "    return d*Dout\n",
    "\n",
    "def M(u,N):\n",
    "    Dout = 0*I(2*N)\n",
    "    for i in range(0,N):\n",
    "        Dout = Dout + n(i,2*N) \n",
    "        Dout = Dout + n(i+N,2*N)\n",
    "    return u*Dout\n",
    "\n",
    "def psi0(N):\n",
    "    y = [0 for i in range(2**N)]\n",
    "    y[0] = 1\n",
    "    return y\n",
    "\n",
    "psi1 = Mdot([ad(3,4),ad(2,4),psi0(4)])\n",
    "psi_spin = np.kron(psi1,psi1)"
   ]
  },
  {
   "cell_type": "code",
   "execution_count": 3,
   "id": "d915e4b3",
   "metadata": {},
   "outputs": [
    {
     "data": {
      "text/plain": [
       "3.510833468576701e-16"
      ]
     },
     "execution_count": 3,
     "metadata": {},
     "output_type": "execute_result"
    }
   ],
   "source": [
    "k=1.3\n",
    "np.amax(np.abs( Mdot([K(k,4),psi_spin]) - Mdot([np.conjugate(psi_spin),K(k,4),psi_spin])*psi_spin ))"
   ]
  },
  {
   "cell_type": "markdown",
   "id": "5101369a",
   "metadata": {},
   "source": [
    "# Defining the circuit representation of the slatter determinent\n",
    "\n",
    "This is described in detail in 'Gutzwiller_In_KSpace'.\n",
    "\n",
    "First we need the transformation function $f$ such that \n",
    "$$ a^{\\dagger}_n = \\sum_i f_{in} c^{\\dagger}_i $$\n",
    "or if we groupd the creation operators into a vector \n",
    "$$ \\vec{a}^{\\dagger} = \\hat{F} \\vec{c}^{\\dagger} $$"
   ]
  },
  {
   "cell_type": "code",
   "execution_count": 4,
   "id": "62120c83",
   "metadata": {},
   "outputs": [],
   "source": [
    "def f(i,n,N):\n",
    "    return np.sqrt(1/(N))*np.exp(1j*2*np.pi*(i)*(n)/N)\n",
    "\n",
    "def F(N): \n",
    "    return np.array([[f(i,n,N) for i in range(N)] for n in range(N)])"
   ]
  },
  {
   "cell_type": "markdown",
   "id": "f22b74c5",
   "metadata": {},
   "source": [
    "The stratagy is then to find rotations which diagonalize $\\hat{F}$ then we can apply the reverse rotations to create $\\hat{F}$ on the quantum computer.  I should make it clear that we are talking about two different spaces.  The single particle space where $\\hat{F}$ acts and the manybody space in which the quantum computer lives.  Since the state we want to create has a representation in both spaces, we can map between them.  We will do the following rotations in the single particle space,\n",
    "\n",
    "$$ (r^y_{ij}(\\phi))_{kl} = \\cos(\\phi)\\delta_{ik}\\delta_{il}+\\cos(\\phi)\\delta_{jk}\\delta_{jl} + \\sin(\\phi)\\delta_{ik}\\delta_{jl} - \\sin(\\phi)\\delta_{jk}\\delta_{il}$$\n",
    "and \n",
    "$$ (r^z_j(\\phi))_{kl} = e^{i\\phi}\\delta_{ik}\\delta_{kl} $$\n",
    "\n",
    "these are combined the 'givens' function below.  We preform the a number of givens rotations until $\\hat{F}$ is diagonalized.  This gives us the correct angles for the rotations.  Then we map these rotations to the manybody space.  $r^z$ maps simply to and $R^z$ rotation in the many body space while $r^y$ maps to the function $R_{cc}$ defined below. \n",
    "$$ r^z \\rightarrow R^z $$\n",
    "$$ r^y \\rightarrow R_{cc}$$\n",
    "\n",
    "$G_{cc}$ combines both manybody rotations and 'fswap' is a fermion swap which is nececcary for $R_{cc}$"
   ]
  },
  {
   "cell_type": "code",
   "execution_count": 5,
   "id": "6eb1e910",
   "metadata": {},
   "outputs": [],
   "source": [
    "def ry(i,j,phi,N):\n",
    "    M = (1+0*1j)*np.identity(N)\n",
    "    M[i,i] = np.cos(phi)\n",
    "    M[j,j] = np.cos(phi)\n",
    "    M[i,j] = np.sin(phi)\n",
    "    M[j,i] = -np.sin(phi)\n",
    "    return M\n",
    "\n",
    "\n",
    "def rz(j,phi,N):\n",
    "    M = (1+0*1j)*np.identity(N)\n",
    "    M[j,j] = np.exp(1j*phi)\n",
    "    return M\n",
    "\n",
    "def givens(i,j,F):\n",
    "    phiz = 1j*np.log( F[j,i]/F[i,i] * np.abs(F[i,i])/np.abs(F[j,i]) )\n",
    "    Fz =  Mdot([rz(j,phiz,4) , F])\n",
    "    phi = np.arctan(Fz[j,i]/Fz[i,i])\n",
    "    F_new = Mdot([ry(i,j,phi,4) , Fz])\n",
    "    return F_new,phiz,phi\n",
    "\n",
    "from qiskit import QuantumCircuit\n",
    "\n",
    "def fswap(i,j,qc):\n",
    "    qc.swap(i,j)\n",
    "    qc.ry(np.pi/2,j)\n",
    "    qc.cx(i,j)\n",
    "    qc.ry(-np.pi/2,j)\n",
    "    return qc\n",
    "    \n",
    "\n",
    "def R_cc(i,j,phi,qc):\n",
    "    for l in range(i+1,j):\n",
    "        qc = fswap(l-1,l,qc)\n",
    "    qc.ry(-np.pi/2,j-1)\n",
    "    qc.cx(j-1,j)\n",
    "    qc.ry(-phi,j)\n",
    "    qc.cx(j-1,j)\n",
    "    qc.ry(np.pi/2,j-1)\n",
    "    qc.ry(-np.pi/2,j)\n",
    "    qc.cx(j,j-1)\n",
    "    qc.ry(phi,j-1)\n",
    "    qc.cx(j,j-1)\n",
    "    qc.ry(np.pi/2,j)\n",
    "    for l in range(j-1,i+1-1,-1):\n",
    "        qc = fswap(l-1,l,qc)\n",
    "    return qc\n",
    "\n",
    "def G_cc(i,j,phi,phiz,qc):\n",
    "    qc = R_cc(i,j,-phi,qc)\n",
    "    qc.rz(-phiz,j)\n",
    "    return qc\n"
   ]
  },
  {
   "cell_type": "markdown",
   "id": "b51bf49f",
   "metadata": {},
   "source": [
    "All of the steps described above are combined into a single function called 'slatter_circ' which creates the circuit which maps the slatter determinent onto the quantum computer. "
   ]
  },
  {
   "cell_type": "code",
   "execution_count": 6,
   "id": "84569d8c",
   "metadata": {},
   "outputs": [],
   "source": [
    "from qiskit import QuantumCircuit, transpile, QuantumRegister,ClassicalRegister, execute\n",
    "\n",
    "def slatter_circ(F):\n",
    "    F1,pz1,p1 = givens(0,3,F)\n",
    "    F2,pz2,p2 = givens(0,2,F1)\n",
    "    F3,pz3,p3 = givens(0,1,F2)\n",
    "    F4,pz4,p4 = givens(1,3,F3)\n",
    "    F5,pz5,p5 = givens(1,2,F4)\n",
    "    F6,pz6,p6 = givens(2,3,F5)\n",
    "    ph0 = -1j*np.log(F6[0,0])\n",
    "    ph1 = -1j*np.log(F6[1,1])\n",
    "    ph2 = -1j*np.log(F6[2,2])\n",
    "    ph3 = -1j*np.log(F6[3,3])\n",
    "    qr = QuantumRegister(4)\n",
    "    cr = ClassicalRegister(4)\n",
    "    qc = QuantumCircuit(qr , cr)\n",
    "    qc.x(2)\n",
    "    qc.x(3)\n",
    "    qc.rz(np.real(ph0),0)\n",
    "    qc.rz(np.real(ph1),1)\n",
    "    qc.rz(np.real(ph2),2)\n",
    "    qc.rz(np.real(ph3),3)\n",
    "    qc = G_cc(2,3,np.real(p6),np.real(pz6),qc)\n",
    "    qc = G_cc(1,2,np.real(p5),np.real(pz5),qc)\n",
    "    qc = G_cc(1,3,np.real(p4),np.real(pz4),qc)\n",
    "    qc = G_cc(0,1,np.real(p3),np.real(pz3),qc)\n",
    "    qc = G_cc(0,2,np.real(p2),np.real(pz2),qc)\n",
    "    qc = G_cc(0,3,np.real(p1),np.real(pz1),qc)\n",
    "    return qc\n",
    "\n"
   ]
  },
  {
   "cell_type": "code",
   "execution_count": 7,
   "id": "40d5e959",
   "metadata": {},
   "outputs": [
    {
     "data": {
      "text/plain": [
       "2.187358838057016e-16"
      ]
     },
     "execution_count": 7,
     "metadata": {},
     "output_type": "execute_result"
    }
   ],
   "source": [
    "#Test\n",
    "F1,pz1,p1 = givens(0,3,F(4))\n",
    "F2,pz2,p2 = givens(0,2,F1)\n",
    "F3,pz3,p3 = givens(0,1,F2)\n",
    "F4,pz4,p4 = givens(1,3,F3)\n",
    "F5,pz5,p5 = givens(1,2,F4)\n",
    "F6,pz6,p6 = givens(2,3,F5)\n",
    "ph0 = -1j*np.log(F6[0,0])\n",
    "ph1 = -1j*np.log(F6[1,1])\n",
    "ph2 = -1j*np.log(F6[2,2])\n",
    "ph3 = -1j*np.log(F6[3,3])\n",
    "\n",
    "qc = slatter_circ(F(4))\n",
    "psi_tst = qi.Statevector.from_instruction(qc).data\n",
    "phase = np.exp(-1j*ph0/2)*np.exp(-1j*ph1/2)*np.exp(-1j*ph2/2)*np.exp(-1j*ph3/2)\n",
    "phase = phase*np.exp(1j*pz6/2)*np.exp(1j*pz5/2)*np.exp(1j*pz4/2)*np.exp(1j*pz3/2)*np.exp(1j*pz2/2)*np.exp(1j*pz1/2)\n",
    "psi1 = Mdot([ad(3,4),ad(2,4),psi0(4)])\n",
    "np.amax(np.abs( psi_tst - phase*psi1 ))"
   ]
  },
  {
   "cell_type": "markdown",
   "id": "b5f4f69b",
   "metadata": {},
   "source": [
    "# Running the circuits\n",
    "\n",
    "We will start by defining the standard functions for altering circuits to measure specific Pauli matrics.  These are 'create_circ' and 'create_circs'.  \n",
    "\n",
    "The Pauli strings we will need to measure are defined in 'paulis'.  The reason we need these specific Pauli strings be discussed when I talk about analyzing the results.\n",
    "\n",
    "'circs' holds the circuits we will run."
   ]
  },
  {
   "cell_type": "code",
   "execution_count": 8,
   "id": "bfa94367",
   "metadata": {},
   "outputs": [],
   "source": [
    "import copy \n",
    "\n",
    "def create_circ(p_label):\n",
    "    qbits = [0,1,2,3]\n",
    "    qc = slatter_circ(F(4))\n",
    "    psi = copy.deepcopy(qc)\n",
    "    pauli_qs = []\n",
    "    Z_label = ''\n",
    "    Q = len(p_label)-1\n",
    "    for q,p in enumerate(p_label):\n",
    "        if p == 'X':\n",
    "            psi.ry(-np.pi/2,qbits[Q-q])\n",
    "            pauli_qs.append(1)\n",
    "            Z_label += 'Z'\n",
    "        if p == 'Y':\n",
    "            psi.rx(np.pi/2,qbits[Q-q])\n",
    "            pauli_qs.append(1)\n",
    "            Z_label += 'Z'\n",
    "        if p == 'Z':\n",
    "            pauli_qs.append(1)\n",
    "            Z_label += 'Z'\n",
    "        if p == 'I':\n",
    "            pauli_qs.append(0)\n",
    "            Z_label += 'I'\n",
    "    psi.measure(psi.qubits,psi.clbits)\n",
    "    return [psi,pauli_qs,p_label]\n",
    "\n",
    "def create_circs(paulis):\n",
    "    circs = []\n",
    "    for p_label in paulis:\n",
    "        circ, pauli_qs, labels = create_circ(p_label)\n",
    "        circs.append(circ)\n",
    "    return circs\n",
    "\n",
    "paulis = ['ZZZZ','XXZZ','YYZZ','ZXXZ','ZYYZ','ZZXX','ZZYY','XZZX','YZZY']\n",
    "\n",
    "circs = create_circs(paulis)\n"
   ]
  },
  {
   "cell_type": "markdown",
   "id": "0cff0d65",
   "metadata": {},
   "source": [
    "We are doing spin down on the quantum computer and spin up classically.  Therefore, we need weights for each spin up state.  Since the full state is simply $|\\psi_0>\\otimes|\\psi_0>$ we can pull these weights directely out of $|\\psi_0>$.  'alphas' holds these weights. "
   ]
  },
  {
   "cell_type": "code",
   "execution_count": 9,
   "id": "d0e044ae",
   "metadata": {},
   "outputs": [],
   "source": [
    "def alphas(N):\n",
    "    psi1 = Mdot([ad(3,N),ad(2,N),psi0(N)])\n",
    "    psi_new = -1j*psi1/psi1[3]\n",
    "    norm = Mdot([np.conjugate(psi_new),psi_new])\n",
    "    return psi_new/np.sqrt(norm)\n"
   ]
  },
  {
   "cell_type": "markdown",
   "id": "e14366f3",
   "metadata": {},
   "source": [
    "Before we run the circuits we need to load an account and get a backend."
   ]
  },
  {
   "cell_type": "code",
   "execution_count": 10,
   "id": "0a5a3d59",
   "metadata": {},
   "outputs": [],
   "source": [
    "from qiskit import IBMQ,transpile\n",
    "from qiskit.tools.monitor import job_monitor\n",
    "IBMQ.load_account()\n",
    "provider = IBMQ.get_provider(hub='ibm-q-afrl', group='air-force-lab', project='quantum-sim')\n",
    "#backend = provider.get_backend('ibmq_jakarta')\n",
    "backend = provider.get_backend('ibm_lagos')"
   ]
  },
  {
   "cell_type": "markdown",
   "id": "55a97538",
   "metadata": {},
   "source": [
    "The 'get_results' function has three methods for finding the results.\n",
    "\n",
    "'matrix' $\\rightarrow$ exact solution using matrix multiplication\n",
    "\n",
    "'simulator' $\\rightarrow$ approximate solution using the qasm simulator\n",
    "\n",
    "'quantum' $\\rightarrow$ using the quantum backend we loaed above.\n",
    "\n",
    "The results are held in 'results'"
   ]
  },
  {
   "cell_type": "code",
   "execution_count": 11,
   "id": "91a11f19",
   "metadata": {},
   "outputs": [],
   "source": [
    "from qiskit import Aer\n",
    "import copy\n",
    "\n",
    "def get_results(circs_in, method = 'matrix',save_id_file = None):\n",
    "    circs = copy.deepcopy(circs_in)\n",
    "    #Exact Calculation\n",
    "    if method == 'matrix':\n",
    "        # add results\n",
    "        r = []\n",
    "        for l in range(len(circs)):\n",
    "            circs[l].remove_final_measurements()\n",
    "            wave = qi.Statevector.from_instruction(circs[l])\n",
    "            r_l = wave.probabilities_dict()\n",
    "            r.append(r_l)\n",
    "    #Qiskit Simulation        \n",
    "    if method == \"simulator\":\n",
    "        sim = Aer.get_backend(\"qasm_simulator\")\n",
    "        r = execute(circs, backend = sim).result().get_counts() \n",
    "    #Device\n",
    "    if method == \"quantum\":\n",
    "        job = backend.run(transpile(circs, backend), meas_level=2, shots=8192)\n",
    "        job_id = job.job_id()\n",
    "        print(job_id)\n",
    "        np.save(save_id_file,[job_id])\n",
    "        r = job.result().get_counts()\n",
    "    return r\n",
    "\n",
    "results = get_results(circs)\n",
    "#results = get_results(circs, method = 'simulator')\n",
    "\n",
    "#save_id_file = \"/Users/stenger/Documents/Research/Hubbard_symmetries/Gutzwiller/Data/Job_id_test3\"\n",
    "#results = get_results(circs, method = 'quantum',save_id_file = save_id_file)"
   ]
  },
  {
   "cell_type": "code",
   "execution_count": 226,
   "id": "0be028b6",
   "metadata": {},
   "outputs": [
    {
     "name": "stdout",
     "output_type": "stream",
     "text": [
      "[ 0.00000000e+00+0.00000000e+00j  0.00000000e+00+0.00000000e+00j\n",
      "  0.00000000e+00+0.00000000e+00j  3.53553391e-01+0.00000000e+00j\n",
      "  0.00000000e+00+0.00000000e+00j -3.53553391e-01-3.53553391e-01j\n",
      "  7.85046229e-17+3.53553391e-01j  0.00000000e+00+0.00000000e+00j\n",
      "  0.00000000e+00+0.00000000e+00j  5.88784672e-17+3.53553391e-01j\n",
      "  3.53553391e-01-3.53553391e-01j  0.00000000e+00+0.00000000e+00j\n",
      " -3.53553391e-01+2.15887713e-16j  0.00000000e+00+0.00000000e+00j\n",
      "  0.00000000e+00+0.00000000e+00j  0.00000000e+00+0.00000000e+00j]\n"
     ]
    },
    {
     "data": {
      "text/plain": [
       "(-0.7071067811865482-0.7071067811865469j)"
      ]
     },
     "execution_count": 226,
     "metadata": {},
     "output_type": "execute_result"
    }
   ],
   "source": [
    "def find_phase(result,ref,state):\n",
    "    a = results[0][ref]\n",
    "    b = results[0][state]\n",
    "    #circs[0].remove_final_measurements()\n",
    "    psi_tst = qi.Statevector.from_instruction(circs[0]).data\n",
    "    op = [I(4)]\n",
    "    for i in range(len(ref)):\n",
    "        if ref[i] != state[i]:\n",
    "            #print(i)\n",
    "            op.append(X(i,4))\n",
    "    psi_tst2 = Mdot([I(4)+1j*Mdot(op),psi_tst])\n",
    "    #print(psi_tst)\n",
    "    psi_tst2 = qi.Statevector(psi_tst2)\n",
    "    r2 = psi_tst2.probabilities_dict()\n",
    "    #print(r2[ref],a,b)\n",
    "    phi_s = np.arcsin( (r2[ref] - a - b)/np.sqrt(4*a*b) )\n",
    "    op = [I(4)]\n",
    "    for i in range(len(ref)):\n",
    "        if ref[i] != state[i]:\n",
    "            if len(op) < 2:\n",
    "                op.append(Y(i,4))\n",
    "            else:\n",
    "                op.append(X(i,4))\n",
    "    psi_tst2 = Mdot([I(4)+1j*Mdot(op),psi_tst])\n",
    "    #print(psi_tst)\n",
    "    psi_tst2 = qi.Statevector(psi_tst2)\n",
    "    r2 = psi_tst2.probabilities_dict()\n",
    "    #print(r2[ref],a,b)\n",
    "    phi_c = np.arccos( np.clip( (r2[ref] - a - b)/np.sqrt(4*a*b) ,-1,1) )\n",
    "    return -np.cos(phi_c) - 1j*np.sin(phi_s)\n",
    "\n",
    "\n",
    "print(-alphas(4)/1j)\n",
    "find_phase(results,'0011','0101')\n",
    "\n"
   ]
  },
  {
   "cell_type": "code",
   "execution_count": 215,
   "id": "2678f8a9",
   "metadata": {},
   "outputs": [
    {
     "data": {
      "text/plain": [
       "{'0000': 5.21671591517408e-33,\n",
       " '0001': 1.8632383593765265e-32,\n",
       " '0010': 3.170253012314097e-33,\n",
       " '0011': 0.1249999999999999,\n",
       " '0100': 2.4033728737300214e-32,\n",
       " '0101': 0.24999999999999983,\n",
       " '0110': 0.1249999999999999,\n",
       " '0111': 4.186217457605982e-32,\n",
       " '1000': 8.606833637299417e-33,\n",
       " '1001': 0.12499999999999982,\n",
       " '1010': 0.2499999999999999,\n",
       " '1011': 3.267346299019891e-32,\n",
       " '1100': 0.12499999999999994,\n",
       " '1101': 4.882046210271042e-32,\n",
       " '1110': 2.1264606329684788e-32,\n",
       " '1111': 1.0397572081788994e-32}"
      ]
     },
     "execution_count": 215,
     "metadata": {},
     "output_type": "execute_result"
    }
   ],
   "source": [
    "results[0]"
   ]
  },
  {
   "cell_type": "markdown",
   "id": "bb5c1851",
   "metadata": {},
   "source": [
    "# Analyzing the results\n",
    "\n",
    "We want to calculate \n",
    "$$E(g) = \\frac{<\\psi_0|\\hat{G}\\hat{H}\\hat{G}|\\psi_0>}{ <\\psi_0|\\hat{G}\\hat{G}|\\psi_0>  }$$\n",
    "where $|\\psi_0>$ is the slatter state which we have measured.  \n",
    "\n",
    "In order to use the measurements we have taken to calculate $E(g)$ we will need to reference the spin up states and their weights.  The following three functions 'bi', 'up_states', and 'up_states_dic' help to reference the spin up states."
   ]
  },
  {
   "cell_type": "code",
   "execution_count": 12,
   "id": "d09b49f4",
   "metadata": {},
   "outputs": [],
   "source": [
    "def bi(num,N):\n",
    "    bi = bin(num)\n",
    "    out = \"\"\n",
    "    for i in range(2,len(bi)):\n",
    "        out = out + bi[i]\n",
    "    L = len(out)\n",
    "    for i in range(L,N):\n",
    "        out = \"0\"+out\n",
    "    return out\n",
    "\n",
    "def up_states(N):\n",
    "    out = []\n",
    "    a = alphas(N)\n",
    "    for i in range(2**N):\n",
    "        out.append([bi(i,N),a[i]])\n",
    "    return out\n",
    "\n",
    "def up_states_dic(N):\n",
    "    out = {}\n",
    "    a = alphas(N)\n",
    "    for i in range(2**N):\n",
    "        out[bi(i,N)] = a[i]\n",
    "    return out\n",
    "\n"
   ]
  },
  {
   "cell_type": "markdown",
   "id": "a7dca5e3",
   "metadata": {},
   "source": [
    "Now we are ready to discuss how to analyze the results.  We need three brakets to calculate $E(g)$,\n",
    "$$ <\\psi_0|\\hat{G}\\hat{G}|\\psi_0>, \\quad <\\psi_0|\\hat{G}\\hat{D}\\hat{{G}}|\\psi_0>, \\quad <\\psi_0|\\hat{G}\\hat{K}\\hat{{G}}|\\psi_0>. $$\n",
    "\n",
    "The first two only require the measurement labeled 'ZZZZ' in 'paulis'.  In order to get these two brakets we simple need to check if the spin-up state and spin-down state have are both on for each index, result state, and spin-up state.  Let us refere to this value as $m_{irk}$ which is 1 if the spin-up state $k$ and the result state $r$ are both on at index $i$ and 0 otherwise.  \n",
    "\n",
    "The normalization braket is\n",
    "$$ <\\psi_0|\\hat{G}\\hat{G}|\\psi_0> = \\sum_k |\\alpha_k|^2\\sum_r w_r \\prod_i e^{-2m_{irk}g} $$\n",
    "\n",
    "The second bracket is \n",
    "$$ <\\psi_0|\\hat{G}\\hat{D}\\hat{G}|\\psi_0> = \\sum_k |\\alpha_k|^2\\sum_r w_r \\sum_p m_{prk}\\prod_i e^{-2m_{irk}g} $$\n",
    "\n",
    "The functions 'analyze_GG' and 'analyze_GDG' represent these two brakets."
   ]
  },
  {
   "cell_type": "markdown",
   "id": "9000c908",
   "metadata": {},
   "source": [
    "where $w_r$ is the results for state $r$ and $\\alpha_k$ is the weight of state $k$.\n",
    "\n",
    "The third bracket requires all of the results.  The braket can be inferece from the result\n",
    "$$ \\hat{G}\\hat{K}\\hat{G} = \\sum_{i=0}^{N-1}\\sum_{\\sigma}\\prod_{j \\neq i,i+1}e^{-2g n_{j\\uparrow}n_{j\\downarrow}} e^{-g n_{i\\sigma+1}}e^{-g n_{i+1\\sigma+1}}  \\frac{k}{2}\\left(X_{i\\sigma}X_{i+1\\sigma}+Y_{i+1\\sigma}Y_{i\\sigma}\\right) $$"
   ]
  },
  {
   "cell_type": "markdown",
   "id": "7628bd84",
   "metadata": {},
   "source": [
    "and the exact form of the braket is define below.  First we take the braket of each pauli term.  The spin-up Paulis need to be treaed seperately from the spin-down Paulis*.  Also the boundary term Paulis are treated seperetely from the bulk terms.  Finally, the function 'analyze_GKG' sums it all together. "
   ]
  },
  {
   "cell_type": "markdown",
   "id": "1abddf6a",
   "metadata": {},
   "source": [
    "*Note: that since the full state is $|\\psi_0>\\otimes|\\psi_0>$ the spin-down results and spin up results are the same.  Futhermore, due to translational symmetary, we only really need to measure the paulis at on site."
   ]
  },
  {
   "cell_type": "code",
   "execution_count": 13,
   "id": "53785b18",
   "metadata": {},
   "outputs": [],
   "source": [
    "def analyze_GG(g,N,result):\n",
    "    psi_up = up_states(N)\n",
    "    r_keys = list(result.keys())\n",
    "    gg = 0\n",
    "    for k in range(len(psi_up)):\n",
    "        s = psi_up[k][0]\n",
    "        a = psi_up[k][1]\n",
    "        for sr in r_keys:\n",
    "            w = result[sr]\n",
    "            gg_sr = 1\n",
    "            for i in range(N):\n",
    "                nu = int(s[i])\n",
    "                nd = int(sr[i])\n",
    "                gg_sr = gg_sr*np.exp(-2*g*nu*nd)\n",
    "            gg = gg + np.conjugate(a)*a*w*gg_sr\n",
    "    return gg\n",
    "    \n",
    "    \n",
    "def analyze_GDG(g,d,N,result):\n",
    "    psi_up = up_states(N)\n",
    "    r_keys = list(result.keys())\n",
    "    gg = 0\n",
    "    for p in range(N):\n",
    "        for k in range(len(psi_up)):\n",
    "            s = psi_up[k][0]\n",
    "            a = psi_up[k][1]\n",
    "            for sr in r_keys:\n",
    "                w = result[sr]\n",
    "                gg_sr = 1\n",
    "                for i in range(N):\n",
    "                    nu = int(s[i])\n",
    "                    nd = int(sr[i])\n",
    "                    gg_sr = gg_sr*np.exp(-2*g*nu*nd)\n",
    "                nu_p = int(s[p])\n",
    "                nd_p = int(sr[p])\n",
    "                gg_sr = d*gg_sr*nu_p*nd_p\n",
    "                gg = gg + np.conjugate(a)*a*w*gg_sr\n",
    "    return gg\n",
    "\n",
    "\n",
    "#################################################################################################\n",
    "\n",
    "\n",
    "def analyze_XuXu(g,i,N,result):\n",
    "    psi_up = up_states_dic(N)\n",
    "    up_keys = list(psi_up.keys())\n",
    "    r_keys = list(result.keys())\n",
    "    gg = 0\n",
    "    for su in up_keys:\n",
    "        sup = list(su)\n",
    "        sup[i] = str(np.mod(int(sup[i])+1,2) )\n",
    "        sup[i+1] = str(np.mod(int(sup[i+1])+1,2) )\n",
    "        sup = ''.join(sup)\n",
    "        a = psi_up[su]\n",
    "        aa = psi_up[sup]\n",
    "        for sr in r_keys:\n",
    "            w = result[sr]\n",
    "            gg_sr = 1\n",
    "            for j in range(N):\n",
    "                nu = int(su[j])\n",
    "                nd = int(sr[j])\n",
    "                if j == i:\n",
    "                    gg_sr = gg_sr*np.exp(-g*nd)\n",
    "                elif j == i+1:\n",
    "                    gg_sr = gg_sr*np.exp(-g*nd)\n",
    "                else:\n",
    "                    gg_sr = gg_sr*np.exp(-2*g*nu*nd)\n",
    "            gg = gg + np.conjugate(aa)*a*w*gg_sr\n",
    "    return gg\n",
    "\n",
    "def analyze_YuYu(g,i,N,result):\n",
    "    psi_up = up_states_dic(N)\n",
    "    up_keys = list(psi_up.keys())\n",
    "    r_keys = list(result.keys())\n",
    "    gg = 0\n",
    "    for su in up_keys:\n",
    "        sup = list(su)\n",
    "        sup[i] = str(np.mod(int(sup[i])+1,2) )\n",
    "        sup[i+1] = str(np.mod(int(sup[i+1])+1,2) )\n",
    "        sup = ''.join(sup)\n",
    "        a = psi_up[su]\n",
    "        aa = psi_up[sup]\n",
    "        for sr in r_keys:\n",
    "            w = result[sr]\n",
    "            gg_sr = 1\n",
    "            for j in range(N):\n",
    "                nu = int(su[j])\n",
    "                nd = int(sr[j])\n",
    "                if j == i:\n",
    "                    gg_sr = gg_sr*np.exp(-g*nd)\n",
    "                elif j == i+1:\n",
    "                    gg_sr = gg_sr*np.exp(-g*nd)\n",
    "                else:\n",
    "                    gg_sr = gg_sr*np.exp(-2*g*nu*nd)\n",
    "            gg = gg + (-1)**int(su[i])*(-1)**int(su[i])*np.conjugate(aa)*a*w*gg_sr\n",
    "    return gg\n",
    "            \n",
    "                \n",
    "def analyze_XdXd(g,i,N,results):\n",
    "    result = results[2*i+1]\n",
    "    psi_up = up_states_dic(N)\n",
    "    up_keys = list(psi_up.keys())\n",
    "    r_keys = list(result.keys())\n",
    "    gg = 0\n",
    "    for su in up_keys:\n",
    "        a = psi_up[su]\n",
    "        for sr in r_keys:\n",
    "            w = result[sr]\n",
    "            gg_sr = 1\n",
    "            z0 = (-1)**int(sr[i])\n",
    "            z1 = (-1)**int(sr[i+1])\n",
    "            gg_sr = gg_sr*z0*z1\n",
    "            for j in range(N):\n",
    "                nu = int(su[j])\n",
    "                nd = int(sr[j])\n",
    "                if j == i:\n",
    "                    gg_sr = gg_sr*np.exp(-g*nu)\n",
    "                elif j == i+1:\n",
    "                    gg_sr = gg_sr*np.exp(-g*nu)\n",
    "                else:\n",
    "                    gg_sr = gg_sr*np.exp(-2*g*nu*nd)\n",
    "            gg = gg + np.conjugate(a)*a*w*gg_sr\n",
    "    return gg  \n",
    "\n",
    "def analyze_YdYd(g,i,N,results):\n",
    "    result = results[2*i+2]\n",
    "    psi_up = up_states_dic(N)\n",
    "    up_keys = list(psi_up.keys())\n",
    "    r_keys = list(result.keys())\n",
    "    gg = 0\n",
    "    for su in up_keys:\n",
    "        a = psi_up[su]\n",
    "        for sr in r_keys:\n",
    "            w = result[sr]\n",
    "            gg_sr = 1\n",
    "            z0 = (-1)**int(sr[i])\n",
    "            z1 = (-1)**int(sr[i+1])\n",
    "            gg_sr = gg_sr*z0*z1\n",
    "            for j in range(N):\n",
    "                nu = int(su[j])\n",
    "                nd = int(sr[j])\n",
    "                if j == i:\n",
    "                    gg_sr = gg_sr*np.exp(-g*nu)\n",
    "                elif j == i+1:\n",
    "                    gg_sr = gg_sr*np.exp(-g*nu)\n",
    "                else:\n",
    "                    gg_sr = gg_sr*np.exp(-2*g*nu*nd)\n",
    "            gg = gg + np.conjugate(a)*a*w*gg_sr\n",
    "    return gg  \n",
    "       \n",
    "#################################################################################################\n",
    "\n",
    "\n",
    "def analyze_XuZZXu(g,N,result):\n",
    "    psi_up = up_states_dic(N)\n",
    "    up_keys = list(psi_up.keys())\n",
    "    r_keys = list(result.keys())\n",
    "    gg = 0\n",
    "    for su in up_keys:\n",
    "        sup = list(su)\n",
    "        sup[0] = str(np.mod(int(sup[0])+1,2) )\n",
    "        sup[N-1] = str(np.mod(int(sup[N-1])+1,2) )\n",
    "        sup = ''.join(sup)\n",
    "        a = psi_up[su]\n",
    "        aa = psi_up[sup]\n",
    "        for sr in r_keys:\n",
    "            w = result[sr]\n",
    "            gg_sr = 1\n",
    "            for j in range(N):\n",
    "                nu = int(su[j])\n",
    "                nd = int(sr[j])\n",
    "                if j == 0:\n",
    "                    gg_sr = gg_sr*np.exp(-g*nd)\n",
    "                elif j == N-1:\n",
    "                    gg_sr = gg_sr*np.exp(-g*nd)\n",
    "                else:\n",
    "                    gg_sr = (-1)**nu*gg_sr*np.exp(-2*g*nu*nd)\n",
    "            gg = gg + np.conjugate(aa)*a*w*gg_sr\n",
    "    return gg\n",
    "\n",
    "def analyze_YuZZYu(g,N,result):    \n",
    "    psi_up = up_states_dic(N)\n",
    "    up_keys = list(psi_up.keys())\n",
    "    r_keys = list(result.keys())\n",
    "    gg = 0\n",
    "    for su in up_keys:\n",
    "        sup = list(su)\n",
    "        sup[0] = str(np.mod(int(sup[0])+1,2) )\n",
    "        sup[N-1] = str(np.mod(int(sup[N-1])+1,2) )\n",
    "        sup = ''.join(sup)\n",
    "        a = psi_up[su]\n",
    "        aa = psi_up[sup]\n",
    "        for sr in r_keys:\n",
    "            w = result[sr]\n",
    "            gg_sr = 1\n",
    "            for j in range(N):\n",
    "                nu = int(su[j])\n",
    "                nd = int(sr[j])\n",
    "                if j == 0:\n",
    "                    gg_sr = gg_sr*np.exp(-g*nd)\n",
    "                elif j == N-1:\n",
    "                    gg_sr = gg_sr*np.exp(-g*nd)\n",
    "                else:\n",
    "                    gg_sr = (-1)**nu*gg_sr*np.exp(-2*g*nu*nd)\n",
    "            gg = gg - (-1)**int(su[0])*(-1)**int(su[N-1])*np.conjugate(aa)*a*w*gg_sr   #the sign does not match YuYu\n",
    "    return gg\n",
    "\n",
    "def analyze_XdZZXd(g,N,results):\n",
    "    result = results[2*N-1]\n",
    "    psi_up = up_states_dic(N)\n",
    "    up_keys = list(psi_up.keys())\n",
    "    r_keys = list(result.keys())\n",
    "    gg = 0\n",
    "    for su in up_keys:\n",
    "        a = psi_up[su]\n",
    "        for sr in r_keys:\n",
    "            w = result[sr]\n",
    "            gg_sr = 1\n",
    "            z0 = (-1)**int(sr[0])\n",
    "            z1 = (-1)**int(sr[N-1])\n",
    "            gg_sr = gg_sr*z0*z1\n",
    "            for j in range(N):\n",
    "                nu = int(su[j])\n",
    "                nd = int(sr[j])\n",
    "                if j == 0:\n",
    "                    gg_sr = gg_sr*np.exp(-g*nu)\n",
    "                elif j == N-1:\n",
    "                    gg_sr = gg_sr*np.exp(-g*nu)\n",
    "                else:\n",
    "                    gg_sr = (-1)**nd*gg_sr*np.exp(-2*g*nu*nd)\n",
    "            gg = gg + np.conjugate(a)*a*w*gg_sr\n",
    "    return gg \n",
    "\n",
    "def analyze_YdZZYd(g,N,results):\n",
    "    result = results[2*N]\n",
    "    psi_up = up_states_dic(N)\n",
    "    up_keys = list(psi_up.keys())\n",
    "    r_keys = list(result.keys())\n",
    "    gg = 0\n",
    "    for su in up_keys:\n",
    "        a = psi_up[su]\n",
    "        for sr in r_keys:\n",
    "            w = result[sr]\n",
    "            gg_sr = 1\n",
    "            z0 = (-1)**int(sr[0])\n",
    "            z1 = (-1)**int(sr[N-1])\n",
    "            gg_sr = gg_sr*z0*z1\n",
    "            for j in range(N):\n",
    "                nu = int(su[j])\n",
    "                nd = int(sr[j])\n",
    "                if j == 0:\n",
    "                    gg_sr = gg_sr*np.exp(-g*nu)\n",
    "                elif j == N-1:\n",
    "                    gg_sr = gg_sr*np.exp(-g*nu)\n",
    "                else:\n",
    "                    gg_sr = (-1)**nd*gg_sr*np.exp(-2*g*nu*nd)\n",
    "            gg = gg + np.conjugate(a)*a*w*gg_sr\n",
    "    return gg \n",
    "\n",
    "       \n",
    "########################################################################    \n",
    "\n",
    "def analyze_GKG(g,k,N,results):\n",
    "    gg = 0\n",
    "    for i in range(N-1):\n",
    "        gg = gg + k/2*analyze_XuXu(g,i,N,results[0])\n",
    "        gg = gg + k/2*analyze_YuYu(g,i,N,results[0])\n",
    "        gg = gg + k/2*analyze_XdXd(g,i,N,results)\n",
    "        gg = gg + k/2*analyze_YdYd(g,i,N,results)\n",
    "    gg = gg + k/2*analyze_XuZZXu(g,N,results[0])\n",
    "    gg = gg + k/2*analyze_YuZZYu(g,N,results[0])\n",
    "    gg = gg + k/2*analyze_XdZZXd(g,N,results)\n",
    "    gg = gg + k/2*analyze_YdZZYd(g,N,results)\n",
    "    return gg\n",
    "\n",
    "#################################################################################################\n",
    "\n",
    "def analyze_GMG(g,u,N,result):\n",
    "    psi_up = up_states(N)\n",
    "    r_keys = list(result.keys())\n",
    "    gg = 0\n",
    "    for p in range(N):\n",
    "        for k in range(len(psi_up)):\n",
    "            s = psi_up[k][0]\n",
    "            a = psi_up[k][1]\n",
    "            for sr in r_keys:\n",
    "                w = result[sr]\n",
    "                gg_sr = 1\n",
    "                for i in range(N):\n",
    "                    nu = int(s[i])\n",
    "                    nd = int(sr[i])\n",
    "                    gg_sr = gg_sr*np.exp(-2*g*nu*nd)\n",
    "                nu_p = int(s[p])\n",
    "                nd_p = int(sr[p])\n",
    "                gg_sr = u*gg_sr*nd_p + u*gg_sr*nu_p  # changed nu_p to nd_p on the first term.  Did not seem to make a difference for the exect data but does for the quantum data.\n",
    "                gg = gg + np.conjugate(a)*a*w*gg_sr\n",
    "    return gg\n",
    "\n",
    "\n"
   ]
  },
  {
   "cell_type": "code",
   "execution_count": 14,
   "id": "9e65e1a8",
   "metadata": {},
   "outputs": [
    {
     "name": "stdout",
     "output_type": "stream",
     "text": [
      "(9.71445146547012e-17+0j)\n",
      "(2.7755575615628914e-17+4.7704895589362195e-18j)\n",
      "(6.661338147750939e-16-1.1263668621613283e-17j)\n",
      "(-8.326672684688674e-17+1.5253209489518614e-18j)\n",
      "(-1.3877787807814457e-16-7.915397324550411e-19j)\n",
      "(-7.105427357601002e-15-6.115188838980658e-17j)\n"
     ]
    }
   ],
   "source": [
    "print( analyze_YdZZYd(1.2,4,results) - Mdot([np.conjugate(psi_spin),G(1.2,4),Y(4,8),Z(5,8),Z(6,8),Y(7,8),G(1.2,4),psi_spin]) )\n",
    "print( analyze_YdZZYd(1.2,4,results) - analyze_YuZZYu(1.2,4,results[0]) )    \n",
    "print( analyze_GKG(1.3,2.1,4,results) -  Mdot([np.conjugate(psi_spin),G(1.3,4),K(2.1,4),G(1.3,4),psi_spin]) )    \n",
    "print( analyze_GDG(1.3,2.1,4,results[0]) -  Mdot([np.conjugate(psi_spin),G(1.3,4),D(2.1,4),G(1.3,4),psi_spin]) )\n",
    "print( analyze_GG(1.3,4,results[0]) - Mdot([np.conjugate(psi_spin),G(1.3,4),G(1.3,4),psi_spin]) )\n",
    "print( analyze_GMG(1.3,10,4,results[0]) -  Mdot([np.conjugate(psi_spin),G(1.3,4),M(10,4),G(1.3,4),psi_spin]) )\n"
   ]
  },
  {
   "cell_type": "markdown",
   "id": "945fa6b2",
   "metadata": {},
   "source": [
    "Now we can combine the results to get the energy."
   ]
  },
  {
   "cell_type": "code",
   "execution_count": 15,
   "id": "76983c6b",
   "metadata": {},
   "outputs": [],
   "source": [
    "def analyze_energy(g,u,k,d,N,results):\n",
    "    num = analyze_GMG(g,u,N,results[0]) +analyze_GDG(g,d,N,results[0]) + analyze_GKG(g,k,N,results)\n",
    "    dom = analyze_GG(g,N,results[0])\n",
    "    return num/dom"
   ]
  },
  {
   "cell_type": "code",
   "execution_count": 16,
   "id": "e83b560a",
   "metadata": {},
   "outputs": [
    {
     "data": {
      "text/plain": [
       "(-1.7763568394002505e-15+1.734723475976844e-18j)"
      ]
     },
     "execution_count": 16,
     "metadata": {},
     "output_type": "execute_result"
    }
   ],
   "source": [
    "u = -2\n",
    "k = 1\n",
    "d = 0\n",
    "N=4\n",
    "H = M(u,4) + K(k,4) + D(d,4)\n",
    "bkt(psi_spin,H,psi_spin) - analyze_energy(0,u,k,d,N,results)"
   ]
  },
  {
   "cell_type": "markdown",
   "id": "b733d8cb",
   "metadata": {},
   "source": [
    "# Running Scans\n",
    "\n",
    "With everything in order we can now run scans of $E(g)$."
   ]
  },
  {
   "cell_type": "code",
   "execution_count": 17,
   "id": "0b03a5c9",
   "metadata": {},
   "outputs": [],
   "source": [
    "u = 0\n",
    "k = 1\n",
    "d = 0\n",
    "N=4\n",
    "H = M(u,4) + K(k,4) + D(d,4)\n",
    "e,y = np.linalg.eig(H)\n",
    "y = np.transpose(y)\n",
    "arg = np.argsort(e)\n",
    "\n",
    "\n",
    "eg = []\n",
    "gl = []\n",
    "eT = []\n",
    "for gi in range(-10,10):\n",
    "    g = gi\n",
    "    egl = analyze_energy(g,u,k,d,N,results)\n",
    "    eg.append(egl)\n",
    "    gl.append(g)\n",
    "    eT.append(e[arg[[1]]])"
   ]
  },
  {
   "cell_type": "code",
   "execution_count": 18,
   "id": "be700396",
   "metadata": {},
   "outputs": [
    {
     "name": "stderr",
     "output_type": "stream",
     "text": [
      "/opt/miniconda3/envs/qiskit_3.5/lib/python3.10/site-packages/matplotlib/cbook/__init__.py:1298: ComplexWarning: Casting complex values to real discards the imaginary part\n",
      "  return np.asarray(x, float)\n"
     ]
    },
    {
     "data": {
      "text/plain": [
       "[<matplotlib.lines.Line2D at 0x7f85672b7a00>]"
      ]
     },
     "execution_count": 18,
     "metadata": {},
     "output_type": "execute_result"
    },
    {
     "data": {
      "image/png": "[encoded data removed]",
      "text/plain": [
       "<Figure size 432x288 with 1 Axes>"
      ]
     },
     "metadata": {
      "needs_background": "light"
     },
     "output_type": "display_data"
    }
   ],
   "source": [
    "import matplotlib.pyplot as plt\n",
    "\n",
    "plt.plot(gl,eg)\n",
    "#plt.plot(gl,eg_h)\n",
    "plt.plot(gl,eT)"
   ]
  },
  {
   "cell_type": "markdown",
   "id": "e3c744a0",
   "metadata": {},
   "source": [
    "# Save Results"
   ]
  },
  {
   "cell_type": "code",
   "execution_count": 81,
   "id": "b95670de",
   "metadata": {},
   "outputs": [],
   "source": [
    "import pickle\n",
    "#fpath = \"/Users/stenger/Documents/Research/Hubbard_symmetries/Gutzwiller/Data/\"\n",
    "\n",
    "#file_to_store = open(fpath + \"Gutz3_lagos_test.pickle\", \"wb\")\n",
    "\n",
    "#pickle.dump(results, file_to_store)"
   ]
  },
  {
   "cell_type": "markdown",
   "id": "c20e2831",
   "metadata": {},
   "source": [
    "# Load Results"
   ]
  },
  {
   "cell_type": "code",
   "execution_count": 19,
   "id": "fa1372fe",
   "metadata": {},
   "outputs": [],
   "source": [
    "import pickle\n",
    "fpath = \"/Users/stenger/Documents/Research/Hubbard_symmetries/Gutzwiller/Data/\"\n",
    "\n",
    "file_to_read = open(fpath + \"Gutz3_lagos_test.pickle\", \"rb\")\n",
    "\n",
    "loaded_results = pickle.load(file_to_read)"
   ]
  },
  {
   "cell_type": "code",
   "execution_count": 20,
   "id": "ce459e10",
   "metadata": {},
   "outputs": [],
   "source": [
    "u = -10\n",
    "k = 1\n",
    "d = 20\n",
    "N=4\n",
    "H = M(u,4) + K(k,4) + D(d,4)\n",
    "e,y = np.linalg.eig(H)\n",
    "y = np.transpose(y)\n",
    "arg = np.argsort(e)\n",
    "\n",
    "\n",
    "eg = []\n",
    "gl = []\n",
    "eT = []\n",
    "for gi in range(-10,10):\n",
    "    g = gi\n",
    "    egl = analyze_energy(g,u,k,d,N,loaded_results)\n",
    "    eg.append(egl)\n",
    "    gl.append(g)\n",
    "    eT.append(e[arg[[0]]])"
   ]
  },
  {
   "cell_type": "code",
   "execution_count": 21,
   "id": "b38f73f4",
   "metadata": {},
   "outputs": [
    {
     "data": {
      "text/plain": [
       "[<matplotlib.lines.Line2D at 0x7f85673fe380>]"
      ]
     },
     "execution_count": 21,
     "metadata": {},
     "output_type": "execute_result"
    },
    {
     "data": {
      "image/png": "[encoded data removed]",
      "text/plain": [
       "<Figure size 432x288 with 1 Axes>"
      ]
     },
     "metadata": {
      "needs_background": "light"
     },
     "output_type": "display_data"
    }
   ],
   "source": [
    "import matplotlib.pyplot as plt\n",
    "\n",
    "plt.plot(gl,eg)\n",
    "#plt.plot(gl,eg_h)\n",
    "plt.plot(gl,eT)"
   ]
  },
  {
   "cell_type": "markdown",
   "id": "56d73e3e",
   "metadata": {},
   "source": [
    "# Compare to the correct state\n",
    "\n",
    "It is still not finding the right state.  I could compare it to $e^{-H}|\\psi_0>$"
   ]
  },
  {
   "cell_type": "code",
   "execution_count": 22,
   "id": "f1e90f74",
   "metadata": {},
   "outputs": [
    {
     "data": {
      "text/plain": [
       "2.6645943321621894e-15"
      ]
     },
     "execution_count": 22,
     "metadata": {},
     "output_type": "execute_result"
    }
   ],
   "source": [
    "def psi_d(w,u,k,d,N):\n",
    "    H = M(u,4) + K(k,4) + D(d,4)\n",
    "    norm = np.sqrt( Mdot([np.conjugate(psi_spin),ln.expm(-H*w),ln.expm(-H*w),psi_spin]) )\n",
    "    return Mdot([ln.expm(-H*w),psi_spin])/norm\n",
    "\n",
    "u = -2\n",
    "k = 1\n",
    "d = 5\n",
    "w=10\n",
    "N=4\n",
    "H = M(u,4) + K(k,4) + D(d,4)\n",
    "np.amax(np.abs( Mdot([H,psi_d(w,u,k,d,N)]) - bkt( psi_d(w,u,k,d,N), H, psi_d(w,u,k,d,N) )*psi_d(w,u,k,d,N) ))"
   ]
  },
  {
   "cell_type": "code",
   "execution_count": 27,
   "id": "4febeb55",
   "metadata": {},
   "outputs": [],
   "source": [
    "u = 1.5\n",
    "k = 1\n",
    "d = 0\n",
    "N=4\n",
    "H = M(u,4) + K(k,4) + D(d,4)\n",
    "\n",
    "\n",
    "\n",
    "eg = []\n",
    "egm = []\n",
    "gl = []\n",
    "eT = []\n",
    "for gi in range(-10,11):\n",
    "    g = gi\n",
    "    egl = analyze_energy(g,u,k,d,N,loaded_results)\n",
    "    eglm = analyze_energy(g,u,k,d,N,results)\n",
    "    eg.append(egl)\n",
    "    egm.append(eglm)\n",
    "    gl.append(g)\n",
    "    eT.append( bkt( psi_d(5,u,k,d,N), H, psi_d(5,u,k,d,N) ) )"
   ]
  },
  {
   "cell_type": "code",
   "execution_count": 28,
   "id": "3bea861c",
   "metadata": {},
   "outputs": [
    {
     "data": {
      "text/plain": [
       "[<matplotlib.lines.Line2D at 0x7f8568001240>]"
      ]
     },
     "execution_count": 28,
     "metadata": {},
     "output_type": "execute_result"
    },
    {
     "data": {
      "image/png": "[encoded data removed]",
      "text/plain": [
       "<Figure size 432x288 with 1 Axes>"
      ]
     },
     "metadata": {
      "needs_background": "light"
     },
     "output_type": "display_data"
    }
   ],
   "source": [
    "plt.plot(gl,egm)\n",
    "plt.plot(gl,eg)\n",
    "plt.plot(gl,eT)"
   ]
  },
  {
   "cell_type": "markdown",
   "id": "3a22754b",
   "metadata": {},
   "source": [
    "# Find u such that the  ground state is the correct state."
   ]
  },
  {
   "cell_type": "code",
   "execution_count": 23,
   "id": "048ffaa8",
   "metadata": {},
   "outputs": [
    {
     "name": "stdout",
     "output_type": "stream",
     "text": [
      "(-21.099877772749757-2.7173727497436036e-30j)\n",
      "nu (2+0j)\n",
      "nd (2+0j)\n"
     ]
    },
    {
     "data": {
      "text/plain": [
       "[(2+0j), (2+0j)]"
      ]
     },
     "execution_count": 23,
     "metadata": {},
     "output_type": "execute_result"
    }
   ],
   "source": [
    "def num_d(N):\n",
    "    out = 0*I(2*N)\n",
    "    for i in range(N):\n",
    "        out = out + n(i,2*N)\n",
    "    return out\n",
    "\n",
    "def num_u(N):\n",
    "    out = 0*I(2*N)\n",
    "    for i in range(N):\n",
    "        out = out + n(i+N,2*N)\n",
    "    return out\n",
    "\n",
    "def num(u,k,d,N):\n",
    "    H = M(u,4) + K(k,4) + D(d,4)\n",
    "    e,y = np.linalg.eig(H)\n",
    "    y = np.transpose(y)\n",
    "    arg = np.argsort(e)\n",
    "    psi = y[arg[0]]\n",
    "    nu = bkt(psi,num_u(N),psi)\n",
    "    nd = bkt(psi,num_d(N),psi)\n",
    "    return [nu,nd]\n",
    "\n",
    "k=1\n",
    "d=10\n",
    "u = -5\n",
    "N=4\n",
    "i=0\n",
    "H = M(u,4) + K(k,4) + D(d,4)\n",
    "e,y = np.linalg.eig(H)\n",
    "y = np.transpose(y)\n",
    "arg = np.argsort(e)\n",
    "psi = y[arg[i]]\n",
    "print(e[arg[i]])\n",
    "print('nu', bkt(psi,num_u(N),psi) )\n",
    "print('nd', bkt(psi,num_d(N),psi) )\n",
    "\n",
    "num(u,k,d,N)"
   ]
  },
  {
   "cell_type": "code",
   "execution_count": 24,
   "id": "d438f40d",
   "metadata": {},
   "outputs": [],
   "source": [
    "def dE(u,k,d,N):\n",
    "    w=5\n",
    "    H = M(u,4) + K(k,4) + D(d,4)\n",
    "    e,y = np.linalg.eig(H)\n",
    "    y = np.transpose(y)\n",
    "    arg = np.argsort(e)\n",
    "    e4 = bkt( psi_d(w,u,k,d,N), H, psi_d(w,u,k,d,N) )\n",
    "    return e4-e[arg[0]]\n",
    "\n",
    "ul = [-ui + 1 for ui in range(12)]\n",
    "dEl = [dE(u,1,5,4) for u in ul]\n",
    "nul = [num(u,1,5,4)[0] for u in ul]\n",
    "ndl = [num(u,1,5,4)[1] for u in ul]"
   ]
  },
  {
   "cell_type": "code",
   "execution_count": 25,
   "id": "8a180910",
   "metadata": {},
   "outputs": [
    {
     "data": {
      "text/plain": [
       "(0.0, 5.0)"
      ]
     },
     "execution_count": 25,
     "metadata": {},
     "output_type": "execute_result"
    },
    {
     "data": {
      "image/png": "[encoded data removed]",
      "text/plain": [
       "<Figure size 432x288 with 1 Axes>"
      ]
     },
     "metadata": {
      "needs_background": "light"
     },
     "output_type": "display_data"
    }
   ],
   "source": [
    "plt.plot(ul,dEl)\n",
    "plt.plot(ul,nul)\n",
    "plt.plot(ul,ndl)\n",
    "plt.ylim(0,5)"
   ]
  },
  {
   "cell_type": "markdown",
   "id": "5b88b7e0",
   "metadata": {},
   "source": [
    "It looks like the minimum is always centered at $$ u = -\\frac{d}{2} $$\n",
    "\n",
    "Let's look at how the eigenvalues change as a function of d."
   ]
  },
  {
   "cell_type": "code",
   "execution_count": 214,
   "id": "3d107a5e",
   "metadata": {},
   "outputs": [],
   "source": [
    "k = 1\n",
    "N = 4\n",
    "dl = []\n",
    "nl = []\n",
    "el = [[] for i in range(2**8)]\n",
    "for di in range(0,20):\n",
    "    d = di+0.001\n",
    "    u = -d/2\n",
    "    H = M(u,4) + K(k,4) + D(d,4)\n",
    "    e,y = np.linalg.eig(H)\n",
    "    y = np.transpose(y)\n",
    "    arg = np.argsort(e)\n",
    "    nl.append(num(u,k,d,N))\n",
    "    dl.append(d)\n",
    "    for i in range(2**8):\n",
    "        el[i].append(e[arg[i]] - e[arg[0]])\n",
    "\n"
   ]
  },
  {
   "cell_type": "code",
   "execution_count": 215,
   "id": "17413dd7",
   "metadata": {},
   "outputs": [
    {
     "data": {
      "text/plain": [
       "(0.0, 5.0)"
      ]
     },
     "execution_count": 215,
     "metadata": {},
     "output_type": "execute_result"
    },
    {
     "data": {
      "image/png": "[encoded data removed]",
      "text/plain": [
       "<Figure size 432x288 with 1 Axes>"
      ]
     },
     "metadata": {
      "needs_background": "light"
     },
     "output_type": "display_data"
    }
   ],
   "source": [
    "for i in range(2**8):\n",
    "    plt.plot(dl,el[i])\n",
    "plt.ylim(0,5)"
   ]
  },
  {
   "cell_type": "code",
   "execution_count": 216,
   "id": "235565a7",
   "metadata": {},
   "outputs": [
    {
     "data": {
      "text/plain": [
       "[[(1.9999999999999996+0j), (1.9999999999999996+0j)],\n",
       " [(1.9999999999999996+0j), (1.9999999999999996+0j)],\n",
       " [(2+0j), (2+0j)],\n",
       " [(2+0j), (2+0j)],\n",
       " [(2+0j), (2+0j)],\n",
       " [(2+0j), (2+0j)],\n",
       " [(2+0j), (2+0j)],\n",
       " [(2+0j), (2+0j)],\n",
       " [(1.9999999999999993+0j), (1.9999999999999993+0j)],\n",
       " [(2+0j), (2+0j)],\n",
       " [(1.9999999999999996+0j), (1.9999999999999996+0j)],\n",
       " [(2+0j), (2+0j)],\n",
       " [(2+0j), (2+0j)],\n",
       " [(2+0j), (2+0j)],\n",
       " [(1.9999999999999998+0j), (1.9999999999999998+0j)],\n",
       " [(2+0j), (2+0j)],\n",
       " [(2+0j), (2+0j)],\n",
       " [(1.9999999999999993+0j), (1.9999999999999993+0j)],\n",
       " [(1.9999999999999996+0j), (1.9999999999999996+0j)],\n",
       " [(1.9999999999999998+0j), (1.9999999999999998+0j)]]"
      ]
     },
     "execution_count": 216,
     "metadata": {},
     "output_type": "execute_result"
    }
   ],
   "source": [
    "nl"
   ]
  },
  {
   "cell_type": "markdown",
   "id": "413ceb30",
   "metadata": {},
   "source": [
    "We see that for large $d$ there are many eigenvalues close to the ground state so that a small error in the Hamiltonian could cause greater error in the energy calculation.  We also see that the number of particles is consistant.  "
   ]
  },
  {
   "cell_type": "markdown",
   "id": "8a46f20f",
   "metadata": {},
   "source": [
    "# Plots using optimized u"
   ]
  },
  {
   "cell_type": "markdown",
   "id": "bf871ccd",
   "metadata": {},
   "source": [
    "## Small plot"
   ]
  },
  {
   "cell_type": "code",
   "execution_count": 33,
   "id": "199b214d",
   "metadata": {},
   "outputs": [
    {
     "name": "stdout",
     "output_type": "stream",
     "text": [
      "(2.1316282072803006e-14-4.380708711404436e-31j)\n"
     ]
    }
   ],
   "source": [
    "k = 1\n",
    "d = 10\n",
    "u = -d/2\n",
    "N=4\n",
    "H = M(u,4) + K(k,4) + D(d,4)\n",
    "e,y = np.linalg.eig(H)\n",
    "y = np.transpose(y)\n",
    "arg = np.argsort(e)\n",
    "e4 = bkt( psi_d(w,u,k,d,N), H, psi_d(w,u,k,d,N) )\n",
    "print(e4-e[arg[0]])\n",
    "\n",
    "\n",
    "\n",
    "eg = []\n",
    "egm = []\n",
    "gl = []\n",
    "eT = []\n",
    "for gi in range(-100,101):\n",
    "    g = 0.1*gi\n",
    "    egl = analyze_energy(g,u,k,d,N,loaded_results)\n",
    "    eglm = analyze_energy(g,u,k,d,N,results)\n",
    "    eg.append(egl)\n",
    "    egm.append(eglm)\n",
    "    gl.append(g)\n",
    "    eT.append(e[arg[0]])"
   ]
  },
  {
   "cell_type": "code",
   "execution_count": 34,
   "id": "be4c1400",
   "metadata": {},
   "outputs": [
    {
     "data": {
      "text/plain": [
       "[<matplotlib.lines.Line2D at 0x7f8568d52ad0>]"
      ]
     },
     "execution_count": 34,
     "metadata": {},
     "output_type": "execute_result"
    },
    {
     "data": {
      "image/png": "[encoded data removed]",
      "text/plain": [
       "<Figure size 432x288 with 1 Axes>"
      ]
     },
     "metadata": {
      "needs_background": "light"
     },
     "output_type": "display_data"
    }
   ],
   "source": [
    "plt.plot(gl,egm)\n",
    "plt.plot(gl,eg)\n",
    "plt.plot(gl,eT)\n",
    "#plt.ylim(-45,-35)"
   ]
  },
  {
   "cell_type": "markdown",
   "id": "07e09a68",
   "metadata": {},
   "source": [
    "## big plot"
   ]
  },
  {
   "cell_type": "code",
   "execution_count": 68,
   "id": "7eb725fe",
   "metadata": {},
   "outputs": [
    {
     "name": "stdout",
     "output_type": "stream",
     "text": [
      "0 (-2.2374267578125004-5.4210108624275234e-17j) (-3.9999999999999982-9.194034422677084e-17j) [-4.-3.23351601e-31j]\n",
      "1 (-2.339901824208572-9.986519166624618e-17j) (-4.099999999999998-9.194034422677084e-17j) [-4.126004+3.24451359e-20j]\n",
      "2 (-2.445080463116405-9.986519166624618e-17j) (-4.200012477039241-2.1029711104480373e-18j) [-4.25397025+7.00916922e-21j]\n",
      "3 (-2.5502591020242384-9.986519166624618e-17j) (-4.307506186719221-2.1029711104480373e-18j) [-4.38383194-2.79658664e-19j]\n",
      "4 (-2.660259085825525+1.7108532160544544e-17j) (-4.414999896399202-2.1029711104480373e-18j) [-4.51552471+3.95219734e-22j]\n",
      "5 (-2.770472659197717+1.7108532160544544e-17j) (-4.522493606079181-2.1029711104480373e-18j) [-4.64898672+1.64733083e-20j]\n",
      "6 (-2.882570484112279-8.946804715165118e-18j) (-4.630095999627921+8.03695016067645e-17j) [-4.7841587+5.25591454e-22j]\n",
      "7 (-2.9976065514560815-8.946804715165118e-18j) (-4.745044738210693+8.03695016067645e-17j) [-4.92098388-1.37197602e-21j]\n",
      "8 (-3.1126426187998844-8.946804715165118e-18j) (-4.859993476793459+8.03695016067645e-17j) [-5.05940797-1.44877477e-20j]\n",
      "9 (-3.2311658183819465-3.1830802923026884e-17j) (-4.97494221537623+8.03695016067645e-17j) [-5.19937907-3.4996791e-18j]\n",
      "10 (-3.3507527685029936-3.1830802923026884e-17j) (-5.090283630842086-1.0343657168854604e-16j) [-5.34084762-2.36716262e-19j]\n",
      "11 (-3.4706361507415107-2.3399816549138983e-16j) (-5.2126056554832605-1.0343657168854604e-16j) [-5.48376622-1.60513285e-19j]\n",
      "12 (-3.5944554356746816-2.3399816549138983e-16j) (-5.334927680124439-1.0343657168854604e-16j) [-5.62808963+6.36686907e-19j]\n",
      "13 (-3.718274720607854-2.3399816549138983e-16j) (-5.457249704765614-1.0343657168854604e-16j) [-5.77377457-8.36312022e-18j]\n",
      "14 (-3.843198226982902-1.3707025595327562e-17j) (-5.580482431822482-1.7135230840097075e-17j) [-5.92077966+7.95195288e-21j]\n",
      "15 (-3.9708983146281644-1.3707025595327562e-17j) (-5.710045545744887-1.7135230840097075e-17j) [-6.0690653-1.18257266e-18j]\n",
      "16 (-4.098598402273424-1.3707025595327562e-17j) (-5.839608659667291-1.7135230840097075e-17j) [-6.21859356+5.023964e-20j]\n",
      "17 (-4.227663188798346+3.650279424237294e-17j) (-5.969171773589697-1.7135230840097075e-17j) [-6.36932807+1.11968305e-18j]\n",
      "18 (-4.358874051275891+3.650279424237294e-17j) (-6.100349915553729-1.0438644299846857e-32j) [-6.52123396-1.31276406e-19j]\n",
      "19 (-4.490084913753432+3.650279424237294e-17j) (-6.236963426938296-1.0438644299846857e-32j) [-6.67427771-5.74713735e-21j]\n",
      "20 (-4.622419170060263-5.0881829681854626e-17j) (-6.373576938322857-1.0438644299846857e-32j) [-6.82842712+2.22045168e-16j]\n",
      "21 (-4.756766097846967-5.0881829681854626e-17j) (-6.510190449707424-1.0438644299846857e-32j) [-6.98365121+2.31287836e-16j]\n",
      "22 (-4.891113025633666-5.0881829681854626e-17j) (-6.649171619264847-3.754277361797306e-17j) [-7.13992011-1.24012388e-18j]\n",
      "23 (-5.02591820481129-1.4123654293458653e-17j) (-6.792580347413687-3.754277361797306e-17j) [-7.29720504-2.14740505e-16j]\n",
      "24 (-5.163033925836997-1.4123654293458653e-17j) (-6.935989075562522-3.754277361797306e-17j) [-7.45547824+5.29240305e-19j]\n",
      "25 (-5.300149646862698-1.4123654293458653e-17j) (-7.079397803711355-3.754277361797306e-17j) [-7.61471289-1.17304932e-32j]\n",
      "26 (-5.437265367888402-1.4123654293458653e-17j) (-7.225776379605602+6.142353689606146e-19j) [-7.77488304+8.74329208e-19j]\n",
      "27 (-5.576267830717663+3.4860576887346606e-17j) (-7.375658999432032+6.142353689606146e-19j) [-7.93596363+8.40535527e-16j]\n",
      "28 (-5.7158022537975315+3.4860576887346606e-17j) (-7.525541619258451+6.142353689606146e-19j) [-8.09793036-6.71475252e-19j]\n",
      "29 (-5.855336676877388+3.4860576887346606e-17j) (-7.675424239084883+6.142353689606146e-19j) [-8.26075972-4.46518796e-16j]\n",
      "30 (-5.995223697435854-9.096483306363589e-17j) (-7.828514819886468-5.2636375965811025e-17j) [-8.4244289+7.91893893e-20j]\n",
      "31 (-6.136850989769547-9.096483306363589e-17j) (-7.984487830051216-5.2636375965811025e-17j) [-8.58891578+5.6438511e-32j]\n",
      "32 (-6.278478282103246-9.096483306363589e-17j) (-8.140460840215946-5.2636375965811025e-17j) [-8.75419891-2.23367677e-20j]\n",
      "33 (-6.420105574436942-9.096483306363589e-17j) (-8.296433850380694-5.2636375965811025e-17j) [-8.92025744-7.55677182e-20j]\n",
      "34 (-6.562261570389943+1.8277754837916437e-17j) (-8.455308625961292-4.46965258110125e-17j) [-9.08707115+5.64925013e-19j]\n",
      "35 (-6.70568462709854+1.8277754837916437e-17j) (-8.616935942815449-4.46965258110125e-17j) [-9.25462036+0.j]\n",
      "36 (-6.849107683807132+1.8277754837916437e-17j) (-8.77856325966959-4.46965258110125e-17j) [-9.42288597+1.55168598e-20j]\n",
      "37 (-6.99253074051572+1.8277754837916437e-17j) (-8.940190576523722-4.46965258110125e-17j) [-9.59184941+3.28678311e-16j]\n",
      "38 (-7.136135108436896+1.3062346649166326e-17j) (-9.103759682523838+1.5740521967523592e-18j) [-9.7614926-1.34061365e-20j]\n",
      "39 (-7.281087722138309+1.3062346649166326e-17j) (-9.270566688648593+1.5740521967523592e-18j) [-9.93179799+5.52401185e-25j]\n",
      "40 (-7.426040335839727+1.3062346649166326e-17j) (-9.437373694773362+1.5740521967523592e-18j) [-10.10274848+6.11911715e-19j]\n",
      "41 (-7.570992949541139+1.3062346649166326e-17j) (-9.604180700898098+1.5740521967523592e-18j) [-10.27432745-4.71518302e-17j]\n",
      "42 (-7.715945563242557+1.3062346649166326e-17j) (-9.771295050296889+3.8085652851632444e-17j) [-10.44651872-8.72732184e-23j]\n",
      "43 (-7.8616726484296+3.0365625090693126e-17j) (-9.942785170693343+3.8085652851632444e-17j) [-10.61930655+2.88749018e-21j]\n",
      "44 (-8.007919823468784+3.0365625090693126e-17j) (-10.114275291089797+3.8085652851632444e-17j) [-10.79267562+1.75098474e-18j]\n",
      "45 (-8.15416699850797+3.0365625090693126e-17j) (-10.285765411486235+3.8085652851632444e-17j) [-10.96661103+2.02068162e-19j]\n",
      "46 (-8.300414173547166+3.0365625090693126e-17j) (-10.457255531882675+3.8085652851632444e-17j) [-11.14109827-2.42052124e-19j]\n",
      "47 (-8.446661348586343+3.0365625090693126e-17j) (-10.630990982666752+1.5883044100421184e-17j) [-11.31612322+1.72109538e-17j]\n",
      "48 (-8.593657618236781-9.702821461433436e-17j) (-10.806662652547928+1.5883044100421184e-17j) [-11.49167214-2.75005212e-19j]\n",
      "49 (-8.740994512203326-9.702821461433436e-17j) (-10.982334322429091+1.5883044100421184e-17j) [-11.66773166+6.44426401e-19j]\n"
     ]
    }
   ],
   "source": [
    "k = 1\n",
    "eq = []\n",
    "em = []\n",
    "eh = []\n",
    "dl = []\n",
    "for di in range(0,50):\n",
    "    d = di*0.1\n",
    "    u = -d/2\n",
    "    N=4\n",
    "    H = M(u,4) + K(k,4) + D(d,4)\n",
    "    e,y = np.linalg.eig(H)\n",
    "    y = np.transpose(y)\n",
    "    arg = np.argsort(e)\n",
    "\n",
    "\n",
    "\n",
    "    eg = []\n",
    "    egm = []\n",
    "    gl = []\n",
    "    eT = []\n",
    "    for gi in range(0,30):\n",
    "        g = 0.1*gi\n",
    "        egl = analyze_energy(g,u,k,d,N,loaded_results)\n",
    "        eglm = analyze_energy(g,u,k,d,N,results)\n",
    "        eg.append(egl)\n",
    "        egm.append(eglm)\n",
    "        gl.append(g)\n",
    "        eT.append(e[arg[[0]]])\n",
    "    #print(d,min(eT))\n",
    "    eq.append(min(eg))\n",
    "    em.append(min(egm))\n",
    "    eh.append(min(eT))\n",
    "    dl.append(d)\n",
    "    print(di,min(eg),min(egm),min(eT))"
   ]
  },
  {
   "cell_type": "code",
   "execution_count": 69,
   "id": "ed09fda3",
   "metadata": {},
   "outputs": [
    {
     "data": {
      "text/plain": [
       "[<matplotlib.lines.Line2D at 0x7ffb44f5af80>]"
      ]
     },
     "execution_count": 69,
     "metadata": {},
     "output_type": "execute_result"
    },
    {
     "data": {
      "image/png": "[encoded data removed]",
      "text/plain": [
       "<Figure size 432x288 with 1 Axes>"
      ]
     },
     "metadata": {
      "needs_background": "light"
     },
     "output_type": "display_data"
    }
   ],
   "source": [
    "plt.plot(dl,em)\n",
    "plt.plot(dl,eq)\n",
    "plt.plot(dl,eh)"
   ]
  },
  {
   "cell_type": "code",
   "execution_count": null,
   "id": "70b4fb0d",
   "metadata": {},
   "outputs": [],
   "source": []
  }
 ],
 "metadata": {
  "kernelspec": {
   "display_name": "qiskit_3.5",
   "language": "python",
   "name": "qiskit_3.5"
  },
  "language_info": {
   "codemirror_mode": {
    "name": "ipython",
    "version": 3
   },
   "file_extension": ".py",
   "mimetype": "text/x-python",
   "name": "python",
   "nbconvert_exporter": "python",
   "pygments_lexer": "ipython3",
   "version": "3.10.4"
  },
  "toc": {
   "base_numbering": 1,
   "nav_menu": {},
   "number_sections": true,
   "sideBar": true,
   "skip_h1_title": false,
   "title_cell": "Table of Contents",
   "title_sidebar": "Contents",
   "toc_cell": false,
   "toc_position": {
    "height": "calc(100% - 180px)",
    "left": "10px",
    "top": "150px",
    "width": "240px"
   },
   "toc_section_display": true,
   "toc_window_display": true
  }
 },
 "nbformat": 4,
 "nbformat_minor": 5
}
