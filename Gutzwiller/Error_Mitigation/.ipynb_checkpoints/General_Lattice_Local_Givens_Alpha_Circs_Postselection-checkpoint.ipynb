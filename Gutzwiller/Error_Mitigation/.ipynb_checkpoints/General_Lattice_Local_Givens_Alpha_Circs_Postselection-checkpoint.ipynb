{
 "cells": [
  {
   "cell_type": "markdown",
   "id": "8584c143",
   "metadata": {},
   "source": [
    "# Gutzwiller state on a quantum computer\n",
    "\n",
    "Here I will generalize the Gutzwiller approach so that the lattice can be fed into the functions instead of making a new notebook for each lattice.  The rest of the procedure will be based on the notebook \"Triangular_Lattice_Local_Givens_Alpha_Circs\""
   ]
  },
  {
   "cell_type": "markdown",
   "id": "2314449a",
   "metadata": {},
   "source": [
    "# Initialize operators and fucntion\n",
    "\n",
    "Below I define the identiry operator $I$, the Pauli operators $X$, $Y$, and $Z$, fermion creations and analiation operators $c^{\\dagger}$, $c$, and the fermion number operator $n=c^{\\dagger}c$.\n",
    "\n",
    "I also define a function Mdot to take the dot product of multiple operators and btk to take brakets of operators."
   ]
  },
  {
   "cell_type": "code",
   "execution_count": 65,
   "id": "ff6f2222",
   "metadata": {},
   "outputs": [],
   "source": [
    "import qiskit.quantum_info as qi\n",
    "import scipy as sp\n",
    "import numpy as np\n",
    "import pandas as pd\n",
    "import math\n",
    "import scipy.linalg as ln\n",
    "import copy\n",
    "\n",
    "def I(N):\n",
    "    label = ['I' for i in range(N)]\n",
    "    label = ''.join(label)\n",
    "    return qi.Operator.from_label(label).data\n",
    "\n",
    "def X(i,N):\n",
    "    label = ['I' for i in range(N)]\n",
    "    label[N-1-i] = 'X'\n",
    "    label = ''.join(label)\n",
    "    return qi.Operator.from_label(label).data\n",
    "\n",
    "def Y(i,N):\n",
    "    label = ['I' for i in range(N)]\n",
    "    label[N-1-i] = 'Y'\n",
    "    label = ''.join(label)\n",
    "    return qi.Operator.from_label(label).data\n",
    "\n",
    "def Z(i,N):\n",
    "    label = ['I' for i in range(N)]\n",
    "    label[N-1-i] = 'Z'\n",
    "    label = ''.join(label)\n",
    "    return qi.Operator.from_label(label).data\n",
    "\n",
    "def c(i,N):\n",
    "    label_1 = ['Z' for j in range(N-i-1)]\n",
    "    label_2 = ['I' for j in range(N-i,N)]\n",
    "    label_x = label_1 + ['X'] + label_2\n",
    "    label_y = label_1 + ['Y'] + label_2\n",
    "    label_x = ''.join(label_x)\n",
    "    label_y = ''.join(label_y)\n",
    "    x = qi.Operator.from_label(label_x).data\n",
    "    y = qi.Operator.from_label(label_y).data\n",
    "    return 1/2*(x+1j*y)\n",
    "\n",
    "def cd(i,N):\n",
    "    label_1 = ['Z' for j in range(N-i-1)]\n",
    "    label_2 = ['I' for j in range(N-i,N)]\n",
    "    label_x = label_1 + ['X'] + label_2\n",
    "    label_y = label_1 + ['Y'] + label_2\n",
    "    label_x = ''.join(label_x)\n",
    "    label_y = ''.join(label_y)\n",
    "    x = qi.Operator.from_label(label_x).data\n",
    "    y = qi.Operator.from_label(label_y).data\n",
    "    return 1/2*(x-1j*y)\n",
    "\n",
    "def n(i,N):\n",
    "    return Mdot([cd(i,N),c(i,N)])\n",
    "\n",
    "\n",
    "import numpy as np\n",
    "\n",
    "\n",
    "def Mdot(Ol):\n",
    "    L = len(Ol)\n",
    "    out = Ol[L-1]\n",
    "    for i in range(1,len(Ol)):\n",
    "        out = np.dot(Ol[L-1-i],out)\n",
    "    return out\n",
    "\n",
    "def bkt(y1,O,y2):\n",
    "    return Mdot([np.conjugate(y1),O,y2])"
   ]
  },
  {
   "cell_type": "markdown",
   "id": "d11e8975",
   "metadata": {},
   "source": [
    "# Define the system\n",
    "\n",
    "The system is defined by its Hemiltonian which is composed of three parts.  A Kinetic term\n",
    "$$ \\hat{K} = k \\sum_{i\\sigma} \\left( c^{\\dagger}_{i\\sigma}c_{i+1\\sigma} + c^{\\dagger}_{i+1\\sigma}c_{i\\sigma} \\right)$$\n",
    "an interaction term\n",
    "$$ \\hat{D} = \\sum_i \\hat{n}_{i,\\uparrow}\\hat{n}_{i,\\downarrow}.  $$\n",
    "and a chemical potential\n",
    "$$ \\hat{M} = \\mu \\sum_{i\\sigma}  c^{\\dagger}_{i\\sigma}c_{i\\sigma} $$\n",
    "\n",
    "I also define the Gutzwiler operator,\n",
    "$$ \\hat{G} = \\prod_{i=0}^{N-1}e^{-g n_{i\\uparrow}n_{i\\downarrow}} = \\prod_{i=0}^{N-1} (1 - n_{i\\uparrow}n_{i\\downarrow} (e^{-g}-1) ), $$\n",
    "and the lowest energy two partcle eigenstate of $\\hat{K}$\n",
    "$$ |\\psi_1> = a^{\\dagger}_0a^{\\dagger}_1|0>. $$\n",
    "and \n",
    "$$ |\\psi_{\\text{spin}}> = |\\psi_1>\\otimes|\\psi_1> $$\n",
    "such that $\\hat{K}|\\psi_{\\text{spin}}> = E_{01}|\\psi_{\\text{spin}}>$"
   ]
  },
  {
   "cell_type": "code",
   "execution_count": 66,
   "id": "5f1c3957",
   "metadata": {},
   "outputs": [],
   "source": [
    "def G(g,N):\n",
    "    out = I(2*N)\n",
    "    for i in range(N):\n",
    "        out = Mdot([ out , I(2*N) + (np.exp(-g)-1)*Mdot([n(i,2*N),n(i+N,2*N)]) ])\n",
    "    return out\n",
    "\n",
    "def K_triag(k):\n",
    "    Kout = 0*I(8)\n",
    "    Kout = Kout + Mdot([cd(0,8),c(1,8)]) + Mdot([cd(0,8),c(2,8)])+ Mdot([cd(0,8),c(3,8)])\n",
    "    Kout = Kout + Mdot([cd(1,8),c(0,8)]) + Mdot([cd(1,8),c(2,8)])+ Mdot([cd(1,8),c(3,8)])\n",
    "    Kout = Kout + Mdot([cd(2,8),c(0,8)]) + Mdot([cd(2,8),c(1,8)])+ Mdot([cd(2,8),c(3,8)])\n",
    "    Kout = Kout + Mdot([cd(3,8),c(0,8)]) + Mdot([cd(3,8),c(1,8)])+ Mdot([cd(3,8),c(2,8)])\n",
    "    N=4\n",
    "    Kout = Kout + Mdot([cd(N+0,8),c(N+1,8)]) + Mdot([cd(N+0,8),c(N+2,8)])+ Mdot([cd(N+0,8),c(N+3,8)])\n",
    "    Kout = Kout + Mdot([cd(N+1,8),c(N+0,8)]) + Mdot([cd(N+1,8),c(N+2,8)])+ Mdot([cd(N+1,8),c(N+3,8)])\n",
    "    Kout = Kout + Mdot([cd(N+2,8),c(N+0,8)]) + Mdot([cd(N+2,8),c(N+1,8)])+ Mdot([cd(N+2,8),c(N+3,8)])\n",
    "    Kout = Kout + Mdot([cd(N+3,8),c(N+0,8)]) + Mdot([cd(N+3,8),c(N+1,8)])+ Mdot([cd(N+3,8),c(N+2,8)])\n",
    "    return k*Kout\n",
    "\n",
    "def K_square(k,N):\n",
    "    Kout = 0*I(2*N)\n",
    "    for i in range(0,N-1):\n",
    "        Kout = Kout + Mdot([cd(i,2*N),c(i+1,2*N)]) + Mdot([cd(i+1,2*N),c(i,2*N)])\n",
    "        Kout = Kout + Mdot([cd(i+N,2*N),c(i+1+N,2*N)]) + Mdot([cd(i+1+N,2*N),c(i+N,2*N)])\n",
    "    Kout = Kout + Mdot([cd(0,2*N),c(N-1,2*N)]) + Mdot([cd(N-1,2*N),c(0,2*N)])\n",
    "    Kout = Kout + Mdot([cd(0+N,2*N),c(N-1+N,2*N)]) + Mdot([cd(N-1+N,2*N),c(0+N,2*N)])\n",
    "    return k*Kout\n",
    "\n",
    "def K(k,lattice,N=None):\n",
    "    if lattice == \"square\":\n",
    "        return K_square(k,N)\n",
    "    if lattice == \"triangle\":\n",
    "        return K_triag(k)\n",
    "\n",
    "def D(d,N):\n",
    "    Dout = 0*I(2*N)\n",
    "    for i in range(0,N):\n",
    "        Dout = Dout + Mdot([n(i,2*N),n(i+N,2*N)])\n",
    "    return d*Dout\n",
    "\n",
    "def M(u,N):\n",
    "    Dout = 0*I(2*N)\n",
    "    for i in range(0,N):\n",
    "        Dout = Dout + n(i,2*N) \n",
    "        Dout = Dout + n(i+N,2*N)\n",
    "    return u*Dout\n",
    "\n",
    "def psi0(N):\n",
    "    y = [0 for i in range(2**N)]\n",
    "    y[0] = 1\n",
    "    return y\n"
   ]
  },
  {
   "cell_type": "markdown",
   "id": "cf6f4d94",
   "metadata": {},
   "source": [
    "# Defining the circuit representation of the slatter determinent\n",
    "\n",
    "This is described in detail in 'Gutzwiller_In_KSpace'.\n",
    "\n",
    "First we need the transformation function $f$ such that \n",
    "$$ a^{\\dagger}_n = \\sum_i f_{in} c^{\\dagger}_i $$\n",
    "or if we group the creation operators into a vector \n",
    "$$ \\vec{a}^{\\dagger} = \\hat{F} \\vec{c}^{\\dagger} $$"
   ]
  },
  {
   "cell_type": "code",
   "execution_count": 67,
   "id": "0b9c0fcb",
   "metadata": {},
   "outputs": [],
   "source": [
    "def K_single_triag(k):\n",
    "    h = [[0 for i in range(4)] for ii in range(4)]\n",
    "    h[0][1] = -k; h[0][2] = -k; h[0][3] = -k;\n",
    "    h[1][0] = -k; h[1][2] = -k; h[1][3] = -k;\n",
    "    h[2][0] = -k; h[2][1] = -k; h[2][3] = -k;\n",
    "    h[3][0] = -k; h[3][1] = -k; h[3][2] = -k;\n",
    "    return h\n",
    "\n",
    "def K_single_square(k,N):\n",
    "    h = [[0 for i in range(N)] for ii in range(N)]\n",
    "    for i in range(0,N-1):\n",
    "        h[i][i+1] = -k\n",
    "        h[i+1][i] = -k \n",
    "    h[N-1][0] = -k\n",
    "    h[0][N-1] = -k\n",
    "\n",
    "    return h\n",
    "\n",
    "def K_single(k,lattice,N=None):\n",
    "    if lattice == \"square\":\n",
    "        return K_single_square(k,N)\n",
    "    if lattice == \"triangle\":\n",
    "        return K_single_triag(k)"
   ]
  },
  {
   "cell_type": "code",
   "execution_count": 68,
   "id": "bf0e15e3",
   "metadata": {},
   "outputs": [
    {
     "data": {
      "text/html": [
       "<div>\n",
       "<style scoped>\n",
       "    .dataframe tbody tr th:only-of-type {\n",
       "        vertical-align: middle;\n",
       "    }\n",
       "\n",
       "    .dataframe tbody tr th {\n",
       "        vertical-align: top;\n",
       "    }\n",
       "\n",
       "    .dataframe thead th {\n",
       "        text-align: right;\n",
       "    }\n",
       "</style>\n",
       "<table border=\"1\" class=\"dataframe\">\n",
       "  <thead>\n",
       "    <tr style=\"text-align: right;\">\n",
       "      <th></th>\n",
       "      <th>0</th>\n",
       "      <th>1</th>\n",
       "      <th>2</th>\n",
       "      <th>3</th>\n",
       "    </tr>\n",
       "  </thead>\n",
       "  <tbody>\n",
       "    <tr>\n",
       "      <th>0</th>\n",
       "      <td>-4.000000e+00</td>\n",
       "      <td>0.0</td>\n",
       "      <td>-4.678717e-15</td>\n",
       "      <td>1.221245e-15</td>\n",
       "    </tr>\n",
       "    <tr>\n",
       "      <th>1</th>\n",
       "      <td>-9.197389e-17</td>\n",
       "      <td>0.0</td>\n",
       "      <td>1.972152e-31</td>\n",
       "      <td>0.000000e+00</td>\n",
       "    </tr>\n",
       "    <tr>\n",
       "      <th>2</th>\n",
       "      <td>-4.781849e-15</td>\n",
       "      <td>0.0</td>\n",
       "      <td>-4.801561e-30</td>\n",
       "      <td>-1.473497e-15</td>\n",
       "    </tr>\n",
       "    <tr>\n",
       "      <th>3</th>\n",
       "      <td>1.443290e-15</td>\n",
       "      <td>0.0</td>\n",
       "      <td>-1.538532e-15</td>\n",
       "      <td>4.000000e+00</td>\n",
       "    </tr>\n",
       "  </tbody>\n",
       "</table>\n",
       "</div>"
      ],
      "text/plain": [
       "              0    1             2             3\n",
       "0 -4.000000e+00  0.0 -4.678717e-15  1.221245e-15\n",
       "1 -9.197389e-17  0.0  1.972152e-31  0.000000e+00\n",
       "2 -4.781849e-15  0.0 -4.801561e-30 -1.473497e-15\n",
       "3  1.443290e-15  0.0 -1.538532e-15  4.000000e+00"
      ]
     },
     "execution_count": 68,
     "metadata": {},
     "output_type": "execute_result"
    }
   ],
   "source": [
    "def Fl(lattice, N=None):\n",
    "    e,y = ln.eigh(K_single(1,lattice,N=N))\n",
    "    return np.transpose(y)\n",
    "    \n",
    "def Fld(lattice, N=None):\n",
    "    e,y = ln.eigh(K_single(1,lattice,N=N))\n",
    "    return np.conjugate(y)\n",
    "\n",
    "N=4\n",
    "lattice = 'square'\n",
    "pd.DataFrame( Mdot([Fl(lattice,N),K_single(2,lattice,N),Fld(lattice,N)]) )"
   ]
  },
  {
   "cell_type": "code",
   "execution_count": 69,
   "id": "b40f0713",
   "metadata": {},
   "outputs": [],
   "source": [
    "def ad(n,F):\n",
    "    N = len(F)\n",
    "    Fd = np.conjugate(np.transpose(F))\n",
    "    out = Fd[0][n]*cd(0,N)\n",
    "    for i in range(1,N):\n",
    "        out = out + Fd[i][n]*cd(i,N)\n",
    "    return out\n",
    "\n",
    "def a(n,F):\n",
    "    N = len(F)\n",
    "    Fd = np.conjugate(np.transpose(F))\n",
    "    out = F[n][0]*c(0,N)\n",
    "    for i in range(1,N):\n",
    "        out = out + F[n][i]*c(i,N)\n",
    "    return out"
   ]
  },
  {
   "cell_type": "code",
   "execution_count": 70,
   "id": "6eacd438",
   "metadata": {},
   "outputs": [
    {
     "data": {
      "text/plain": [
       "3.1086244689504383e-15"
      ]
     },
     "execution_count": 70,
     "metadata": {},
     "output_type": "execute_result"
    }
   ],
   "source": [
    "N=4\n",
    "lattice = 'square'\n",
    "#lattice = 'triangle'\n",
    "F = Fl(lattice,N)\n",
    "psi1 = Mdot([ad(3,F),ad(2,F),psi0(4)])\n",
    "psi_spin = np.kron(psi1,psi1)\n",
    "\n",
    "k=1.3\n",
    "np.amax(np.abs( Mdot([K(k,lattice,N),psi_spin]) - Mdot([np.conjugate(psi_spin),K(k,lattice,N),psi_spin])*psi_spin ))"
   ]
  },
  {
   "cell_type": "markdown",
   "id": "ad2a7de5",
   "metadata": {},
   "source": [
    "The stratagy is then to find rotations which diagonalize $\\hat{F}$ then we can apply the reverse rotations to create $\\hat{F}$ on the quantum computer.  I should make it clear that we are talking about two different spaces.  The single particle space where $\\hat{F}$ acts and the manybody space in which the quantum computer lives.  Since the state we want to create has a representation in both spaces, we can map between them.  We will do the following rotations in the single particle space,\n",
    "\n",
    "$$ (r^y_{ij}(\\phi))_{kl} = \\cos(\\phi)\\delta_{ik}\\delta_{il}+\\cos(\\phi)\\delta_{jk}\\delta_{jl} + \\sin(\\phi)\\delta_{ik}\\delta_{jl} - \\sin(\\phi)\\delta_{jk}\\delta_{il}$$\n",
    "and \n",
    "$$ (r^z_j(\\phi))_{kl} = e^{i\\phi}\\delta_{ik}\\delta_{kl} $$\n",
    "\n",
    "these are combined in the 'givens' function below.  We preform the a number of givens rotations until $\\hat{F}$ is diagonalized.  This gives us the correct angles for the rotations.  Then we map these rotations to the manybody space.  $r^z$ maps simply to an $R^z$ rotation in the many body space while $r^y$ maps to the function $R_{cc}$ defined below. \n",
    "$$ r^z \\rightarrow R^z $$\n",
    "$$ r^y \\rightarrow R_{cc}$$\n",
    "\n",
    "$G_{cc}$ combines both manybody rotations and 'fswap' is a fermion swap which is nececcary for $R_{cc}$"
   ]
  },
  {
   "cell_type": "markdown",
   "id": "36544af7",
   "metadata": {},
   "source": [
    "As in the previous notebook we only perform Givens rotations on neihboring qubits so that we avoid fermion swap gates."
   ]
  },
  {
   "cell_type": "code",
   "execution_count": 71,
   "id": "0f385d0b",
   "metadata": {},
   "outputs": [],
   "source": [
    "def ry(i,j,phi,N):\n",
    "    M = (1+0*1j)*np.identity(N)\n",
    "    M[i,i] = np.cos(phi)\n",
    "    M[j,j] = np.cos(phi)\n",
    "    M[i,j] = np.sin(phi)\n",
    "    M[j,i] = -np.sin(phi)\n",
    "    return M\n",
    "\n",
    "\n",
    "def rz(j,phi,N):\n",
    "    M = (1+0*1j)*np.identity(N)\n",
    "    M[j,j] = np.exp(1j*phi)\n",
    "    return M\n",
    "\n",
    "\n",
    "from qiskit import QuantumCircuit\n",
    "\n",
    "def fswap(i,j,qc):\n",
    "    qc.swap(i,j)\n",
    "    qc.ry(np.pi/2,j)\n",
    "    qc.cx(i,j)\n",
    "    qc.ry(-np.pi/2,j)\n",
    "    return qc\n",
    "    \n",
    "\n",
    "def R_cc(i,j,phi,qc):\n",
    "    for l in range(i+1,j):\n",
    "        qc = fswap(l-1,l,qc)\n",
    "    qc.ry(-np.pi/2,j-1)\n",
    "    qc.cx(j-1,j)\n",
    "    qc.ry(-phi,j)\n",
    "    qc.cx(j-1,j)\n",
    "    qc.ry(np.pi/2,j-1)\n",
    "    qc.ry(-np.pi/2,j)\n",
    "    qc.cx(j,j-1)\n",
    "    qc.ry(phi,j-1)\n",
    "    qc.cx(j,j-1)\n",
    "    qc.ry(np.pi/2,j)\n",
    "    for l in range(j-1,i+1-1,-1):\n",
    "        qc = fswap(l-1,l,qc)\n",
    "    return qc\n",
    "\n",
    "def G_cc(i,j,phi,phiz,qc):\n",
    "    qc = R_cc(i,j,-phi,qc)\n",
    "    qc.rz(-phiz,j)\n",
    "    return qc\n"
   ]
  },
  {
   "cell_type": "code",
   "execution_count": 72,
   "id": "80e675ea",
   "metadata": {},
   "outputs": [],
   "source": [
    "def givens(ri,rj,c,F):\n",
    "    N = len(F)\n",
    "    if F[rj,c] == 0:\n",
    "        F_new = F\n",
    "        phiz = 0\n",
    "        phi = 0\n",
    "    elif F[ri,c] == 0:\n",
    "        phiz = 1j*np.log( F[rj,c]/np.abs(F[rj,c]) )\n",
    "        Fz =  Mdot([rz(rj,phiz,N) , F])\n",
    "        phi = np.pi/2\n",
    "        F_new = Mdot([ry(ri,rj,phi,N) , Fz])\n",
    "    else:\n",
    "        phiz = 1j*np.log( F[rj,c]/F[ri,c] * np.abs(F[ri,c])/np.abs(F[rj,c]) )\n",
    "        Fz =  Mdot([rz(rj,phiz,N) , F])\n",
    "        phi = np.arctan(Fz[rj,c]/Fz[ri,c])\n",
    "        F_new = Mdot([ry(ri,rj,phi,N) , Fz])\n",
    "    return F_new,phiz,phi"
   ]
  },
  {
   "cell_type": "code",
   "execution_count": 73,
   "id": "fda4fbe0",
   "metadata": {},
   "outputs": [
    {
     "data": {
      "text/html": [
       "<div>\n",
       "<style scoped>\n",
       "    .dataframe tbody tr th:only-of-type {\n",
       "        vertical-align: middle;\n",
       "    }\n",
       "\n",
       "    .dataframe tbody tr th {\n",
       "        vertical-align: top;\n",
       "    }\n",
       "\n",
       "    .dataframe thead th {\n",
       "        text-align: right;\n",
       "    }\n",
       "</style>\n",
       "<table border=\"1\" class=\"dataframe\">\n",
       "  <thead>\n",
       "    <tr style=\"text-align: right;\">\n",
       "      <th></th>\n",
       "      <th>0</th>\n",
       "      <th>1</th>\n",
       "      <th>2</th>\n",
       "      <th>3</th>\n",
       "    </tr>\n",
       "  </thead>\n",
       "  <tbody>\n",
       "    <tr>\n",
       "      <th>0</th>\n",
       "      <td>-1.000000e+00-9.184851e-17j</td>\n",
       "      <td>-3.640588e-17+6.123234e-17j</td>\n",
       "      <td>1.166819e-17+6.123234e-17j</td>\n",
       "      <td>1.166819e-17+6.123234e-17j</td>\n",
       "    </tr>\n",
       "    <tr>\n",
       "      <th>1</th>\n",
       "      <td>-3.471020e-17-7.153904e-33j</td>\n",
       "      <td>1.000000e+00+9.184851e-17j</td>\n",
       "      <td>3.630560e-16-6.123234e-17j</td>\n",
       "      <td>1.817573e-16-6.123234e-17j</td>\n",
       "    </tr>\n",
       "    <tr>\n",
       "      <th>2</th>\n",
       "      <td>-3.023651e-17-1.588532e-33j</td>\n",
       "      <td>3.549052e-18+1.743153e-32j</td>\n",
       "      <td>-1.000000e+00-6.123234e-17j</td>\n",
       "      <td>-1.014654e-17+6.709715e-33j</td>\n",
       "    </tr>\n",
       "    <tr>\n",
       "      <th>3</th>\n",
       "      <td>3.023651e-17+1.588532e-33j</td>\n",
       "      <td>-3.549052e-18-1.743153e-32j</td>\n",
       "      <td>-2.237114e-17-1.902693e-33j</td>\n",
       "      <td>1.000000e+00+6.123234e-17j</td>\n",
       "    </tr>\n",
       "  </tbody>\n",
       "</table>\n",
       "</div>"
      ],
      "text/plain": [
       "                            0                           1  \\\n",
       "0 -1.000000e+00-9.184851e-17j -3.640588e-17+6.123234e-17j   \n",
       "1 -3.471020e-17-7.153904e-33j  1.000000e+00+9.184851e-17j   \n",
       "2 -3.023651e-17-1.588532e-33j  3.549052e-18+1.743153e-32j   \n",
       "3  3.023651e-17+1.588532e-33j -3.549052e-18-1.743153e-32j   \n",
       "\n",
       "                            2                           3  \n",
       "0  1.166819e-17+6.123234e-17j  1.166819e-17+6.123234e-17j  \n",
       "1  3.630560e-16-6.123234e-17j  1.817573e-16-6.123234e-17j  \n",
       "2 -1.000000e+00-6.123234e-17j -1.014654e-17+6.709715e-33j  \n",
       "3 -2.237114e-17-1.902693e-33j  1.000000e+00+6.123234e-17j  "
      ]
     },
     "execution_count": 73,
     "metadata": {},
     "output_type": "execute_result"
    }
   ],
   "source": [
    "N=4\n",
    "#lattice = 'square'\n",
    "lattice = 'triangle'\n",
    "F = Fl(lattice,N)\n",
    "F0 = F\n",
    "F1,pz1,p1 = givens(2,3,0,F0)\n",
    "F2,pz2,p2 = givens(1,2,0,F1)\n",
    "F3,pz3,p3 = givens(0,1,0,F2)\n",
    "F4,pz4,p4 = givens(2,3,1,F3)\n",
    "F5,pz5,p5 = givens(1,2,1,F4)\n",
    "F6,pz6,p6 = givens(2,3,2,F5)\n",
    "pd.DataFrame(F6)"
   ]
  },
  {
   "cell_type": "code",
   "execution_count": 74,
   "id": "f22f75ba",
   "metadata": {},
   "outputs": [],
   "source": [
    "from qiskit import QuantumCircuit, transpile, QuantumRegister,ClassicalRegister, execute\n",
    "\n",
    "def slatter_circ(F0):\n",
    "    F1,pz1,p1 = givens(2,3,0,F0)\n",
    "    F2,pz2,p2 = givens(1,2,0,F1)\n",
    "    F3,pz3,p3 = givens(0,1,0,F2)\n",
    "    F4,pz4,p4 = givens(2,3,1,F3)\n",
    "    F5,pz5,p5 = givens(1,2,1,F4)\n",
    "    F6,pz6,p6 = givens(2,3,2,F5)\n",
    "    ph0 = -1j*np.log(F6[0,0])\n",
    "    ph1 = -1j*np.log(F6[1,1])\n",
    "    ph2 = -1j*np.log(F6[2,2])\n",
    "    ph3 = -1j*np.log(F6[3,3])\n",
    "    qr = QuantumRegister(4)\n",
    "    cr = ClassicalRegister(4)\n",
    "    qc = QuantumCircuit(qr , cr)\n",
    "    qc.x(2)\n",
    "    qc.x(3)\n",
    "    qc.rz(np.real(ph0),0)\n",
    "    qc.rz(np.real(ph1),1)\n",
    "    qc.rz(np.real(ph2),2)\n",
    "    qc.rz(np.real(ph3),3)\n",
    "    qc = G_cc(2,3,np.real(p6),np.real(pz6),qc)\n",
    "    qc = G_cc(1,2,np.real(p5),np.real(pz5),qc)\n",
    "    qc = G_cc(2,3,np.real(p4),np.real(pz4),qc)\n",
    "    qc = G_cc(0,1,np.real(p3),np.real(pz3),qc)\n",
    "    qc = G_cc(1,2,np.real(p2),np.real(pz2),qc)\n",
    "    qc = G_cc(2,3,np.real(p1),np.real(pz1),qc)\n",
    "    return qc"
   ]
  },
  {
   "cell_type": "code",
   "execution_count": 75,
   "id": "d02b4adc",
   "metadata": {},
   "outputs": [
    {
     "data": {
      "text/plain": [
       "2.262266701886419e-16"
      ]
     },
     "execution_count": 75,
     "metadata": {},
     "output_type": "execute_result"
    }
   ],
   "source": [
    "#Test\n",
    "N=4\n",
    "lattice = 'square'\n",
    "#lattice = 'triangle'\n",
    "F = Fl(lattice,N)\n",
    "Fd = Fld(lattice,N)\n",
    "F0 = Fd\n",
    "F1,pz1,p1 = givens(2,3,0,F0)\n",
    "F2,pz2,p2 = givens(1,2,0,F1)\n",
    "F3,pz3,p3 = givens(0,1,0,F2)\n",
    "F4,pz4,p4 = givens(2,3,1,F3)\n",
    "F5,pz5,p5 = givens(1,2,1,F4)\n",
    "F6,pz6,p6 = givens(2,3,2,F5)\n",
    "ph0 = -1j*np.log(F6[0,0])\n",
    "ph1 = -1j*np.log(F6[1,1])\n",
    "ph2 = -1j*np.log(F6[2,2])\n",
    "ph3 = -1j*np.log(F6[3,3])\n",
    "\n",
    "qc = slatter_circ(Fd)\n",
    "psi_tst = qi.Statevector.from_instruction(qc).data\n",
    "phase = np.exp(-1j*ph0/2)*np.exp(-1j*ph1/2)*np.exp(-1j*ph2/2)*np.exp(-1j*ph3/2)\n",
    "phase = phase*np.exp(1j*pz6/2)*np.exp(1j*pz5/2)*np.exp(1j*pz4/2)*np.exp(1j*pz3/2)*np.exp(1j*pz2/2)*np.exp(1j*pz1/2)\n",
    "psi1 = Mdot([ad(3,F),ad(2,F),psi0(4)])\n",
    "np.amax(np.abs( psi_tst - phase*psi1 ))"
   ]
  },
  {
   "cell_type": "markdown",
   "id": "8c197e31",
   "metadata": {},
   "source": [
    "# Running the circuits\n",
    "\n",
    "We will start by defining the standard functions for altering circuits to measure specific Pauli matrics.  These are 'create_circ' and 'create_circs'.  \n",
    "\n",
    "The Pauli strings we will need to measure are defined in 'paulis'.  The reason we need these specific Pauli strings will be discussed when I talk about analyzing the results.\n",
    "\n",
    "'circs' holds the circuits we will run."
   ]
  },
  {
   "cell_type": "markdown",
   "id": "6842e287",
   "metadata": {},
   "source": [
    "At this point we have to choose the lattice since the set of puali strings depends on the lattice.  "
   ]
  },
  {
   "cell_type": "markdown",
   "id": "9f00923c",
   "metadata": {},
   "source": [
    "In order to do post selection, we are going to change the way we create circuits.  \n",
    "\n",
    "First we need to know which two sites have the kinetic terms\n",
    "$$ XZXI + YZYI \\rightarrow XZXI + YZYI , [02] $$\n",
    "then we swap indices so that the kinetic terms are at 01\n",
    "$$ XZXI + YZYI, [02] \\rightarrow XXZI + YYZI, [02] $$\n",
    "then we apply $U_m$ \n",
    "$$ XXZI + YYZI, [02] \\rightarrow ZIZI-IZZI, [02] $$"
   ]
  },
  {
   "cell_type": "code",
   "execution_count": 76,
   "id": "561b86da",
   "metadata": {},
   "outputs": [],
   "source": [
    "def apply_riswap(qc_in,j,i):\n",
    "    qc = copy.deepcopy(qc_in)\n",
    "    qc.cx(j,i)\n",
    "    qc.ry(np.pi/2,j)\n",
    "    qc.rz(np.pi/8,j)\n",
    "    qc.cx(i,j)\n",
    "    qc.rz(-np.pi/4,j)\n",
    "    qc.cx(i,j)\n",
    "    qc.rz(np.pi/8,j)\n",
    "    qc.ry(-np.pi/2,j)\n",
    "    qc.cx(j,i)\n",
    "    return qc\n",
    "\n",
    "def apply_Um(qc_in,j,i):\n",
    "    qc = copy.deepcopy(qc_in)\n",
    "    qc.rz(-np.pi/4,j)\n",
    "    qc.rz(np.pi/4,i)\n",
    "    qc = apply_riswap(qc,i,j)\n",
    "    return qc"
   ]
  },
  {
   "cell_type": "code",
   "execution_count": 77,
   "id": "e717311e",
   "metadata": {},
   "outputs": [],
   "source": [
    "def swap_idx(i,j,Op):\n",
    "    S = np.identity(len(Op))\n",
    "    S[i,i] = 0\n",
    "    S[j,j] = 0\n",
    "    S[i,j] = 1\n",
    "    S[j,i] = 1\n",
    "    return Mdot([S,Op])\n",
    "\n",
    "def swap_pauli(i,j,pauli):\n",
    "    pauli_new = ''\n",
    "    for pi in range(len(pauli)):\n",
    "        if pi == i:\n",
    "            pauli_new = pauli_new + pauli[j]\n",
    "        elif pi == j:\n",
    "            pauli_new = pauli_new + pauli[i]\n",
    "        else:\n",
    "            pauli_new  = pauli_new + pauli[pi]\n",
    "    return pauli_new"
   ]
  },
  {
   "cell_type": "markdown",
   "id": "bbfca0fa",
   "metadata": {},
   "source": [
    "Since both XX and YY term show up for all kinetic part, we can safely replace one with ZI and the other with IZ.  So for example,\n",
    "$$ XZXI \\rightarrow XXZI \\rightarrow ZIZI $$\n",
    "$$ YZYI \\rightarrow YYZI \\rightarrow -IZZI $$"
   ]
  },
  {
   "cell_type": "code",
   "execution_count": 78,
   "id": "b6c4f69f",
   "metadata": {},
   "outputs": [],
   "source": [
    "import copy \n",
    "\n",
    "def create_circ(Fd,pauli):\n",
    "    label = ''\n",
    "    for pi in range(len(pauli)):\n",
    "        if pauli[pi] == 'X' or pauli[pi] == 'Y':\n",
    "            label = label + str(pi)\n",
    "    if label == '':\n",
    "        qc = slatter_circ(Fd)\n",
    "        psi = copy.deepcopy(qc)\n",
    "        psi.measure(psi.qubits,psi.clbits)\n",
    "        pauli_new = pauli\n",
    "    else:\n",
    "        i = int(label[0])\n",
    "        j = int(label[1])\n",
    "        Fd_swap = swap_idx(1,j,swap_idx(0,i,Fd))\n",
    "        pauli_new = swap_pauli(1,j,(swap_pauli(0,i,pauli)))\n",
    "        qc = slatter_circ(Fd_swap)\n",
    "        psi0 = copy.deepcopy(qc)\n",
    "        psi = apply_Um(psi0,0,1)\n",
    "        psi.measure(psi.qubits,psi.clbits)\n",
    "    sign = 1\n",
    "    if pauli_new[0] == 'X':\n",
    "        temp = list(pauli_new)\n",
    "        temp[0] = 'Z'\n",
    "        temp[1] = 'I'\n",
    "        pauli_new = ''.join(temp)\n",
    "    elif pauli_new[0] == 'Y':\n",
    "        temp = list(pauli_new)\n",
    "        temp[0] = 'I'\n",
    "        temp[1] = 'Z'\n",
    "        pauli_new = ''.join(temp)\n",
    "        sign = -1\n",
    "    return psi,pauli_new,sign\n",
    "\n",
    "\n",
    "def create_circs(Fd,paulis):\n",
    "    circs = []\n",
    "    paulis_new = []\n",
    "    signs = []\n",
    "    for pauli in paulis:\n",
    "        circ,pauli,sign = create_circ(Fd,pauli)\n",
    "        circs.append(circ)\n",
    "        paulis_new.append(pauli)\n",
    "        signs.append(sign)\n",
    "    return circs,paulis_new,signs\n",
    "\n",
    "paulis_triag = ['ZZZZ','XXII','YYII','XZXI','YZYI','XZZX','YZZY','IXXI','IYYI','IXZX','IYZY','IIXX','IIYY']\n",
    "paulis_square = ['ZZZZ','XXII','YYII','IXXI','IYYI','IIXX','IIYY','XZZX','YZZY']\n",
    "\n",
    "\n",
    "# choose the lattice\n",
    "circs_triag,paulis_new_triag,signs_triag = create_circs(Fld('triangle',N),paulis_triag)\n",
    "circs_square,paulis_new_square,signs_square = create_circs(Fld('square',N),paulis_square)\n"
   ]
  },
  {
   "cell_type": "code",
   "execution_count": 79,
   "id": "fe8180e9",
   "metadata": {},
   "outputs": [
    {
     "data": {
      "text/plain": [
       "['ZZZZ',\n",
       " 'ZIII',\n",
       " 'IZII',\n",
       " 'ZIZI',\n",
       " 'IZZI',\n",
       " 'ZIZZ',\n",
       " 'IZZZ',\n",
       " 'ZIII',\n",
       " 'IZII',\n",
       " 'ZIZI',\n",
       " 'IZZI',\n",
       " 'ZIII',\n",
       " 'IZII']"
      ]
     },
     "execution_count": 79,
     "metadata": {},
     "output_type": "execute_result"
    }
   ],
   "source": [
    "paulis_new_triag"
   ]
  },
  {
   "cell_type": "markdown",
   "id": "82c18af8",
   "metadata": {},
   "source": [
    "We are doing spin down on the quantum computer and spin up classically.  Therefore, we need weights for each spin up state.  Since the full state is simply $|\\psi_0>\\otimes|\\psi_0>$ we can pull these weights directely out of $|\\psi_0>$.  'alphas' holds these weights.  If we choose to pull the weights out of the quantum measurment then alphas is not used but I will put it here for reference.  "
   ]
  },
  {
   "cell_type": "code",
   "execution_count": 80,
   "id": "e5369b6a",
   "metadata": {},
   "outputs": [],
   "source": [
    "def alphas(F):\n",
    "    N = len(F)\n",
    "    psi1 = Mdot([ad(3,F),ad(2,F),psi0(N)])\n",
    "    psi_new = -1j*psi1#/psi1[3]\n",
    "    norm = Mdot([np.conjugate(psi_new),psi_new])\n",
    "    return psi_new/np.sqrt(norm)"
   ]
  },
  {
   "cell_type": "markdown",
   "id": "bc4ced4e",
   "metadata": {},
   "source": [
    "Before we run the circuits we need to load an account and get a backend."
   ]
  },
  {
   "cell_type": "code",
   "execution_count": 81,
   "id": "9c5d49f9",
   "metadata": {},
   "outputs": [
    {
     "name": "stderr",
     "output_type": "stream",
     "text": [
      "ibmqfactory.load_account:WARNING:2022-05-26 14:38:01,950: Credentials are already in use. The existing account in the session will be replaced.\n"
     ]
    }
   ],
   "source": [
    "from qiskit import IBMQ,transpile\n",
    "from qiskit.tools.monitor import job_monitor\n",
    "IBMQ.load_account()\n",
    "provider = IBMQ.get_provider(hub='ibm-q-afrl', group='air-force-lab', project='quantum-sim')\n",
    "#backend = provider.get_backend('ibmq_jakarta')\n",
    "backend = provider.get_backend('ibm_lagos')"
   ]
  },
  {
   "cell_type": "markdown",
   "id": "93e66f09",
   "metadata": {},
   "source": [
    "We need to choose a layout for the virtual qubits onto the physical qubits.  This should be done so that neighboring qubits are maintained.  "
   ]
  },
  {
   "cell_type": "code",
   "execution_count": 82,
   "id": "a8655f52",
   "metadata": {},
   "outputs": [
    {
     "data": {
      "image/png": "[encoded data removed]",
      "text/plain": [
       "<Figure size 864x648 with 5 Axes>"
      ]
     },
     "execution_count": 82,
     "metadata": {},
     "output_type": "execute_result"
    }
   ],
   "source": [
    "from qiskit.visualization import plot_gate_map, plot_error_map\n",
    "\n",
    "plot_error_map(backend)"
   ]
  },
  {
   "cell_type": "code",
   "execution_count": 83,
   "id": "9d98c2c3",
   "metadata": {},
   "outputs": [],
   "source": [
    "layout = [0,1,3,5]"
   ]
  },
  {
   "cell_type": "markdown",
   "id": "a2a4d2ca",
   "metadata": {},
   "source": [
    "The 'get_results' function has three methods for finding the results.\n",
    "\n",
    "'matrix' $\\rightarrow$ exact solution using matrix multiplication\n",
    "\n",
    "'simulator' $\\rightarrow$ approximate solution using the qasm simulator\n",
    "\n",
    "'quantum' $\\rightarrow$ using the quantum backend we loaded above.\n",
    "\n",
    "The results are held in 'results'"
   ]
  },
  {
   "cell_type": "markdown",
   "id": "5f778e69",
   "metadata": {},
   "source": [
    "## Running spin-down "
   ]
  },
  {
   "cell_type": "code",
   "execution_count": 84,
   "id": "23d3ffdb",
   "metadata": {},
   "outputs": [],
   "source": [
    "from qiskit import Aer\n",
    "import copy\n",
    "\n",
    "def get_results(circs_in, method = 'matrix',save_id_file = None):\n",
    "    circs = copy.deepcopy(circs_in)\n",
    "    #Exact Calculation\n",
    "    if method == 'matrix':\n",
    "        # add results\n",
    "        r = []\n",
    "        for l in range(len(circs)):\n",
    "            circs[l].remove_final_measurements()\n",
    "            wave = qi.Statevector.from_instruction(circs[l])\n",
    "            r_l = wave.probabilities_dict()\n",
    "            r.append(r_l)\n",
    "    #Qiskit Simulation        \n",
    "    if method == \"simulator\":\n",
    "        sim = Aer.get_backend(\"qasm_simulator\")\n",
    "        r = execute(circs, backend = sim).result().get_counts() \n",
    "    #Device\n",
    "    if method == \"quantum\":\n",
    "        job = backend.run(transpile(circs, backend,initial_layout = layout), meas_level=2, shots=8192)\n",
    "        job_id = job.job_id()\n",
    "        print(job_id)\n",
    "        np.save(save_id_file,[job_id])\n",
    "        r = job.result().get_counts()\n",
    "    return r\n",
    "\n",
    "results_triag = get_results(circs_triag)\n",
    "results_square = get_results(circs_square)\n",
    "#results = get_results(circs, method = 'simulator')\n",
    "\n",
    "#save_id_file = \"/Users/stenger/Documents/Research/Hubbard_symmetries/Gutzwiller/Data/Job_id_tria4\"\n",
    "#results = get_results(circs, method = 'quantum',save_id_file = save_id_file)"
   ]
  },
  {
   "cell_type": "code",
   "execution_count": 85,
   "id": "3c34bc3d",
   "metadata": {},
   "outputs": [],
   "source": [
    "def normalize_results(results):\n",
    "    results_out = []\n",
    "    for result in results:\n",
    "        result_out = {}\n",
    "        states = list(result.keys())\n",
    "        total = 0\n",
    "        for state in states:\n",
    "            total += result[state]\n",
    "        for state in states:\n",
    "            result_out[state] = result[state]/total\n",
    "        results_out.append(result_out)\n",
    "    return results_out\n",
    "        \n",
    "results_triag = normalize_results(results_triag)\n",
    "results_square = normalize_results(results_square)"
   ]
  },
  {
   "cell_type": "markdown",
   "id": "b9c00fe0",
   "metadata": {},
   "source": [
    "We can remove the states with zero weight and project out states with the wrong particle number"
   ]
  },
  {
   "cell_type": "code",
   "execution_count": 86,
   "id": "8cc4d546",
   "metadata": {},
   "outputs": [
    {
     "name": "stdout",
     "output_type": "stream",
     "text": [
      "['0011', '0101', '0110', '1001', '1100']\n"
     ]
    }
   ],
   "source": [
    "def relevent_states_chop(n,results):\n",
    "    states_0 = list(results[0].keys())\n",
    "    states = []\n",
    "    for state in states_0:\n",
    "        if results[0][state] > 10**(-2):\n",
    "            ns = 0\n",
    "            for i in range(len(state)):\n",
    "                ns += int(state[i])\n",
    "            if n == ns:\n",
    "                states.append(state)\n",
    "    return states\n",
    "\n",
    "print( relevent_states_chop(2,results_square) )\n",
    "#print( relevent_states_chop(2,loaded_results) )"
   ]
  },
  {
   "cell_type": "markdown",
   "id": "21f2008e",
   "metadata": {},
   "source": [
    "## Run spin-up alpha circuits"
   ]
  },
  {
   "cell_type": "markdown",
   "id": "813fbb41",
   "metadata": {},
   "source": [
    "Now we run the unrotated circuit again for each relevent state $s$ in order to find $\\alpha_s$.  The absolute value of $\\alpha_s$ can be taken from the result we already have.  In order to find the phase of $\\alpha_s$ we pick a reference state and then intefere each of the other states with the reference.  \n",
    "\n",
    "If we use $|0011>$ as a reference state and we want to find the reletive phase of $|0101>$ then we can apply $(I + iX_1X_2)$\n",
    "\n",
    "$$ (I + iX_1X_2)(\\alpha_1|0011> + \\alpha_2|0101>) = (\\alpha_1 + i \\alpha_2)|0011>  (\\alpha_1 + i \\alpha_2)|0101> $$\n",
    "\n",
    "Taking the counts in |0011> gives\n",
    "$$ |(\\alpha_1 + i \\alpha_2)|^2 = \\alpha_1^2 + \\alpha_1^2 + i \\alpha_1\\alpha_2^* - i \\alpha_1^* \\alpha_2  $$\n",
    "\n",
    "If we write $\\alpha_s = |\\alpha_s|e^{i\\phi_s}$ then we have\n",
    "$$ |(\\alpha_1 + i \\alpha_2)|^2 - \\alpha_1^2 - \\alpha_1^2 = 2 |\\alpha_1||\\alpha_2|\\sin(\\phi_1-\\phi_2) $$\n",
    "and we can find the reletive phase by \n",
    "$$ \\phi_1-\\phi_2 = \\sin^{-1}( \\frac{|(\\alpha_1 + i \\alpha_2)|^2 - \\alpha_1^2 - \\alpha_1^2}{2i |\\alpha_1||\\alpha_2|} )$$\n",
    "\n",
    "The only problem is that the arcsin function is not uniquely defined and so we want to do something similar except with an acrcoss.  To this end we apply $(I + iY_1X_2)$ as well.\n"
   ]
  },
  {
   "cell_type": "code",
   "execution_count": 87,
   "id": "35dc41b6",
   "metadata": {},
   "outputs": [],
   "source": [
    "def create_circ_nomeas(Fd,p_label):\n",
    "    qbits = [0,1,2,3]\n",
    "    qc = slatter_circ(Fd)\n",
    "    psi = copy.deepcopy(qc)\n",
    "    pauli_qs = []\n",
    "    Z_label = ''\n",
    "    Q = len(p_label)-1\n",
    "    for q,p in enumerate(p_label):\n",
    "        if p == 'X':\n",
    "            psi.ry(-np.pi/2,qbits[Q-q])\n",
    "            pauli_qs.append(1)\n",
    "            Z_label += 'Z'\n",
    "        if p == 'Y':\n",
    "            psi.rx(np.pi/2,qbits[Q-q])\n",
    "            pauli_qs.append(1)\n",
    "            Z_label += 'Z'\n",
    "        if p == 'Z':\n",
    "            pauli_qs.append(1)\n",
    "            Z_label += 'Z'\n",
    "        if p == 'I':\n",
    "            pauli_qs.append(0)\n",
    "            Z_label += 'I'\n",
    "    return [psi,pauli_qs,p_label]\n",
    "\n",
    "def r_xchain(circ_in,phi,xchain):\n",
    "    N = len(xchain)\n",
    "    circ = copy.deepcopy(circ_in)\n",
    "    jl = []\n",
    "    for i,P in enumerate(xchain):\n",
    "        if P == 'X':\n",
    "            jl.append(i)\n",
    "    Nx = len(jl)\n",
    "    jl = [N - 1 - jl[j] for j in range(Nx) ]\n",
    "    for j in range(Nx-1):\n",
    "        circ.cx(jl[Nx-2-j],jl[Nx-1-j])\n",
    "    circ.rx(phi,jl[0])\n",
    "    for j in range(Nx-1):\n",
    "        circ.cx(jl[j],jl[j+1])\n",
    "    return circ\n",
    "\n",
    "def find_xchain(ref,state):\n",
    "    op = \"\"\n",
    "    for i in range(len(ref)):\n",
    "        if ref[i] != state[i]:\n",
    "            op = op + 'X'\n",
    "        else:\n",
    "            op = op + 'I'\n",
    "    return op\n",
    "\n",
    "def find_i0(xchain):\n",
    "    N = len(xchain)\n",
    "    for i,l in enumerate(xchain):\n",
    "        if l == 'X':\n",
    "            return N-1-i\n",
    "\n",
    "def alpha_circ(circ,ref,state):\n",
    "    xchain = find_xchain(ref,state)\n",
    "    circx = r_xchain(circ,-np.pi/2,xchain) \n",
    "    circy = copy.deepcopy(circ)\n",
    "    i0 = find_i0(xchain)\n",
    "    #print(ref,state,xchain,i0)\n",
    "    circy.rz(-np.pi/2,i0)\n",
    "    circy = r_xchain(circy,-np.pi/2,xchain)  \n",
    "    circy.rz(np.pi/2,i0)\n",
    "    circx.measure(circx.qubits,circx.clbits)\n",
    "    circy.measure(circy.qubits,circy.clbits)\n",
    "    return [circx,circy]\n",
    "\n",
    "def alpha_circs(circ,results):\n",
    "    states = relevent_states_chop(2,results)\n",
    "    ref = states[0]\n",
    "    circ_out = []\n",
    "    for s in range(1,len(states)):\n",
    "        state = states[s]\n",
    "        circxy = alpha_circ(circ,ref,state) \n",
    "        circ_out.append(circxy[0])\n",
    "        circ_out.append(circxy[1])\n",
    "    return circ_out\n",
    "\n",
    "#Triangle lattice\n",
    "circs = create_circ_nomeas(Fld('triangle',N),['ZZZZ'])\n",
    "acircs_triag = alpha_circs(circs[0],results_triag) \n",
    "alpha_results_triag = get_results(acircs_triag)\n",
    "\n",
    "#Square lattice\n",
    "circs = create_circ_nomeas(Fld('square',N),['ZZZZ'])\n",
    "acircs_square = alpha_circs(circs[0],results_square) \n",
    "alpha_results_square = get_results(acircs_square)\n",
    "\n",
    "\n",
    "#alpha_results = get_results(acircs, method = 'simulator')\n",
    "\n",
    "#save_id_file = \"/Users/stenger/Documents/Research/Hubbard_symmetries/Gutzwiller/Data/Job_id_triag4_alphas\"\n",
    "#alpha_results = get_results(acircs, method = 'quantum',save_id_file = save_id_file)"
   ]
  },
  {
   "cell_type": "markdown",
   "id": "207ec6fe",
   "metadata": {},
   "source": [
    "# Analyzing the results\n",
    "\n",
    "## Analyze alpha"
   ]
  },
  {
   "cell_type": "code",
   "execution_count": 88,
   "id": "8acbce75",
   "metadata": {},
   "outputs": [],
   "source": [
    "def analyze_alphas(results,alpha_results):\n",
    "    ref = relevent_states_chop(2,results)[0]\n",
    "    alphas = [np.sqrt(results[0][ref])]\n",
    "    for i in range(0,len(relevent_states_chop(2,results))-1):\n",
    "        ref = relevent_states_chop(2,results)[0]\n",
    "        state = relevent_states_chop(2,results)[i+1]\n",
    "        a = results[0][ref]\n",
    "        b = results[0][state]\n",
    "        r2 = alpha_results[2*i]\n",
    "        if ref in r2:\n",
    "            phi_s = np.arcsin( np.clip( (2*r2[ref] - a - b)/np.sqrt(4*a*b), -1,1) )\n",
    "        else:\n",
    "            phi_s = np.arcsin( np.clip( (2*0 - a - b)/np.sqrt(4*a*b), -1,1) )\n",
    "        r2 = alpha_results[2*i+1]\n",
    "        if ref in r2:\n",
    "            phi_c = np.arccos( np.clip( (2*r2[ref] - a - b)/np.sqrt(4*a*b), -1,1) )\n",
    "        else:\n",
    "            phi_c = np.arccos( np.clip( (2*0 - a - b)/np.sqrt(4*a*b), -1,1) )\n",
    "        #print(state,phi_s,phi_c)\n",
    "        alpha = (np.cos(phi_c) + 1j*np.sin(phi_s))*np.sqrt(b)/np.sqrt( (np.cos(phi_c)**2 + np.sin(phi_s)**2) )\n",
    "        alphas.append(alpha)\n",
    "    return alphas\n",
    "\n"
   ]
  },
  {
   "cell_type": "code",
   "execution_count": 89,
   "id": "b3819cd8",
   "metadata": {},
   "outputs": [
    {
     "data": {
      "text/plain": [
       "[0.3535533905932731,\n",
       " (-0.7071067811865476-1.2560739669470223e-15j),\n",
       " (0.3535533905932745-5.102800490722293e-16j),\n",
       " (0.35355339059327295-4.514015818715874e-16j),\n",
       " (-0.35355339059327445-4.710277376051335e-16j)]"
      ]
     },
     "execution_count": 89,
     "metadata": {},
     "output_type": "execute_result"
    }
   ],
   "source": [
    "analyze_alphas(results_square,alpha_results_square)"
   ]
  },
  {
   "cell_type": "code",
   "execution_count": 90,
   "id": "f641ea09",
   "metadata": {},
   "outputs": [
    {
     "data": {
      "text/plain": [
       "array([-0.00000000e+00+0.j, -0.00000000e+00+0.j, -0.00000000e+00+0.j,\n",
       "        3.53553391e-01-0.j, -0.00000000e+00+0.j, -7.07106781e-01+0.j,\n",
       "        3.53553391e-01-0.j, -0.00000000e+00+0.j, -0.00000000e+00+0.j,\n",
       "        3.53553391e-01-0.j, -7.47694344e-33+0.j, -0.00000000e+00+0.j,\n",
       "       -3.53553391e-01+0.j, -0.00000000e+00+0.j, -0.00000000e+00+0.j,\n",
       "       -0.00000000e+00+0.j])"
      ]
     },
     "execution_count": 90,
     "metadata": {},
     "output_type": "execute_result"
    }
   ],
   "source": [
    "-1j*alphas(Fl(\"square\",N=4))"
   ]
  },
  {
   "cell_type": "code",
   "execution_count": 91,
   "id": "64c9801d",
   "metadata": {},
   "outputs": [
    {
     "data": {
      "text/plain": [
       "[0.6123724356957948,\n",
       " (-0.20412414523193143-2.2662332591841964e-16j),\n",
       " (-0.6123724356957941+0j),\n",
       " (0.2041241452319312-1.5863632814289373e-16j),\n",
       " (0.40824829046386335-1.586363281428939e-16j)]"
      ]
     },
     "execution_count": 91,
     "metadata": {},
     "output_type": "execute_result"
    }
   ],
   "source": [
    "analyze_alphas(results_triag,alpha_results_triag)"
   ]
  },
  {
   "cell_type": "code",
   "execution_count": 92,
   "id": "fcff719b",
   "metadata": {},
   "outputs": [
    {
     "data": {
      "text/plain": [
       "array([-0.        +0.j, -0.        +0.j, -0.        +0.j, -0.        +0.j,\n",
       "       -0.        +0.j,  0.61237244-0.j, -0.20412415+0.j, -0.        +0.j,\n",
       "       -0.        +0.j, -0.61237244+0.j,  0.20412415-0.j, -0.        +0.j,\n",
       "        0.40824829-0.j, -0.        +0.j, -0.        +0.j, -0.        +0.j])"
      ]
     },
     "execution_count": 92,
     "metadata": {},
     "output_type": "execute_result"
    }
   ],
   "source": [
    "-1j*alphas(Fl(\"triangle\",N=4))"
   ]
  },
  {
   "cell_type": "markdown",
   "id": "ca15f9a6",
   "metadata": {},
   "source": [
    "## Analyze energy\n",
    "\n",
    "We want to calculate \n",
    "$$E(g) = \\frac{<\\psi_0|\\hat{G}\\hat{H}\\hat{G}|\\psi_0>}{ <\\psi_0|\\hat{G}\\hat{G}|\\psi_0>  }$$\n",
    "where $|\\psi_0>$ is the slatter state which we have measured.  \n",
    "\n",
    "In order to use the measurements we have taken to calculate $E(g)$ we will need to reference the spin up states and their weights.  The following three functions 'bi', 'up_states', and 'up_states_dic' help to reference the spin up states."
   ]
  },
  {
   "cell_type": "code",
   "execution_count": 93,
   "id": "84747044",
   "metadata": {},
   "outputs": [],
   "source": [
    "def bi(num,N):\n",
    "    bi = bin(num)\n",
    "    out = \"\"\n",
    "    for i in range(2,len(bi)):\n",
    "        out = out + bi[i]\n",
    "    L = len(out)\n",
    "    for i in range(L,N):\n",
    "        out = \"0\"+out\n",
    "    return out\n",
    "\n",
    "################################# NEW ##############################\n",
    "def up_states_new(results,alpha_results):\n",
    "    out = []\n",
    "    a = analyze_alphas(results,alpha_results)\n",
    "    states = relevent_states_chop(2,results)\n",
    "    for i in range(len(a)):\n",
    "        out.append([states[i],a[i]])\n",
    "    return out\n",
    "\n",
    "def up_states_dic_new(results,alpha_results):\n",
    "    out = {}\n",
    "    a = analyze_alphas(results,alpha_results)\n",
    "    states = relevent_states_chop(2,results)\n",
    "    for i in range(len(a)):\n",
    "        out[states[i]] = a[i]\n",
    "    return out\n",
    "\n",
    "\n"
   ]
  },
  {
   "cell_type": "markdown",
   "id": "d08952bf",
   "metadata": {},
   "source": [
    "Now we are ready to discuss how to analyze the results.  We need four brakets to calculate $E(g)$,\n",
    "$$ <\\psi_0|\\hat{G}\\hat{G}|\\psi_0>, \\quad <\\psi_0|\\hat{G}\\hat{D}\\hat{{G}}|\\psi_0>, \\quad <\\psi_0|\\hat{G}\\hat{M}\\hat{{G}}|\\psi_0>, \\quad <\\psi_0|\\hat{G}\\hat{K}\\hat{{G}}|\\psi_0>. $$\n",
    "\n",
    "The first three only require the measurement labeled 'ZZZZ' in 'paulis'.  In order to get these two brakets we simple need to check if the spin-up state and spin-down state have are both on for each index, result state, and spin-up state.  Let us refere to this value as $m_{irk}$ which is 1 if the spin-up state $k$ and the result state $r$ are both on at index $i$ and 0 otherwise.  \n",
    "\n",
    "The normalization braket is\n",
    "$$ <\\psi_0|\\hat{G}\\hat{G}|\\psi_0> = \\sum_k |\\alpha_k|^2\\sum_r w_r \\prod_i e^{-2m_{irk}g} $$\n",
    "\n",
    "The second bracket is \n",
    "$$ <\\psi_0|\\hat{G}\\hat{D}\\hat{G}|\\psi_0> = \\sum_k |\\alpha_k|^2\\sum_r w_r \\sum_p m_{prk}\\prod_i e^{-2m_{irk}g} $$\n",
    "\n",
    "The third bracket is\n",
    "The second bracket is \n",
    "$$ <\\psi_0|\\hat{G}\\hat{M}\\hat{G}|\\psi_0> = \\sum_k |\\alpha_k|^2\\sum_r w_r N_{r}\\prod_i e^{-2m_{irk}g} $$\n",
    "\n",
    "The functions 'analyze_GG', 'analyze_GMG' and 'analyze_GDG' represent these three brakets."
   ]
  },
  {
   "cell_type": "markdown",
   "id": "e13dfd76",
   "metadata": {},
   "source": [
    "where $w_r$ is the results for state $r$ and $\\alpha_k$ is the weight of state $k$.\n",
    "\n",
    "The last bracket requires all of the results.  The braket can be inferd from the result\n",
    "$$ \\hat{G}\\hat{K}\\hat{G} = \\sum_{i=0}^{N-1}\\sum_{\\sigma}\\prod_{j \\neq i,i+1}e^{-2g n_{j\\uparrow}n_{j\\downarrow}} e^{-g n_{i\\sigma+1}}e^{-g n_{i+1\\sigma+1}}  \\frac{k}{2}\\left(X_{i\\sigma}X_{i+1\\sigma}+Y_{i+1\\sigma}Y_{i\\sigma}\\right) $$"
   ]
  },
  {
   "cell_type": "markdown",
   "id": "b748db8d",
   "metadata": {},
   "source": [
    "and the exact form of the braket is define below.  First we take the braket of each pauli term.  The spin-up Paulis need to be treaed seperately from the spin-down Paulis*.  Also the boundary term Paulis are treated seperetely from the bulk terms.  Finally, the function 'analyze_GKG' sums it all together. "
   ]
  },
  {
   "cell_type": "code",
   "execution_count": 94,
   "id": "2653d985",
   "metadata": {},
   "outputs": [],
   "source": [
    "\n",
    "\n",
    "def analyze_GG(g,N,result,alpha_results):\n",
    "    psi_up = up_states_new(results,alpha_results)\n",
    "    r_keys = list(result.keys())\n",
    "    gg = 0\n",
    "    for k in range(len(psi_up)):\n",
    "        s = psi_up[k][0]\n",
    "        a = psi_up[k][1]\n",
    "        for sr in r_keys:\n",
    "            w = result[sr]\n",
    "            gg_sr = 1\n",
    "            for i in range(N):\n",
    "                nu = int(s[i])\n",
    "                nd = int(sr[i])\n",
    "                gg_sr = gg_sr*np.exp(-2*g*nu*nd)\n",
    "            gg = gg + np.conjugate(a)*a*w*gg_sr\n",
    "    return gg\n",
    "\n",
    "\n",
    "def analyze_GDG(g,d,N,result,alpha_results):\n",
    "    psi_up = up_states_new(results,alpha_results)\n",
    "    r_keys = list(result.keys())\n",
    "    gg = 0\n",
    "    for p in range(N):\n",
    "        for k in range(len(psi_up)):\n",
    "            s = psi_up[k][0]\n",
    "            a = psi_up[k][1]\n",
    "            for sr in r_keys:\n",
    "                w = result[sr]\n",
    "                gg_sr = 1\n",
    "                for i in range(N):\n",
    "                    nu = int(s[i])\n",
    "                    nd = int(sr[i])\n",
    "                    gg_sr = gg_sr*np.exp(-2*g*nu*nd)\n",
    "                nu_p = int(s[p])\n",
    "                nd_p = int(sr[p])\n",
    "                gg_sr = d*gg_sr*nu_p*nd_p\n",
    "                gg = gg + np.conjugate(a)*a*w*gg_sr\n",
    "    return gg\n",
    "\n",
    "   \n",
    "\n",
    "def analyze_GMG(g,u,N,result,alpha_results):\n",
    "    psi_up = up_states_new(results,alpha_results)\n",
    "    r_keys = list(result.keys())\n",
    "    gg = 0\n",
    "    for p in range(N):\n",
    "        for k in range(len(psi_up)):\n",
    "            s = psi_up[k][0]\n",
    "            a = psi_up[k][1]\n",
    "            for sr in r_keys:\n",
    "                w = result[sr]\n",
    "                gg_sr = 1\n",
    "                for i in range(N):\n",
    "                    nu = int(s[i])\n",
    "                    nd = int(sr[i])\n",
    "                    gg_sr = gg_sr*np.exp(-2*g*nu*nd)\n",
    "                nu_p = int(s[p])\n",
    "                nd_p = int(sr[p])\n",
    "                gg_sr = u*gg_sr*nd_p + u*gg_sr*nu_p  # changed nu_p to nd_p on the first term.  Did not seem to make a difference for the exect data but does for the quantum data.\n",
    "                gg = gg + np.conjugate(a)*a*w*gg_sr\n",
    "    return gg\n",
    "\n",
    "\n",
    "\n"
   ]
  },
  {
   "cell_type": "code",
   "execution_count": 95,
   "id": "64a85135",
   "metadata": {},
   "outputs": [],
   "source": [
    "def find_sset(pauli):\n",
    "    sset = [i for i in range(len(pauli))] #Swapped set\n",
    "    fset = []\n",
    "    hset = []\n",
    "    N=len(pauli)\n",
    "    for i in range(len(pauli)-2):\n",
    "        if pauli[i] == 'Z' or pauli[i] == 'I':\n",
    "            fset.append(i)\n",
    "    for i in range(len(pauli)-2,len(pauli)):\n",
    "        if pauli[i] == 'X' or pauli[i] == 'Y':\n",
    "                hset.append(i)\n",
    "    for i in range(len(fset)):\n",
    "        sset[hset[i]] = fset[i]\n",
    "        sset[fset[i]] = hset[i]\n",
    "    return sset\n",
    "\n",
    "# Spin up is still in the original basis while spin down is in the swapped basis\n",
    "def analyze_pd(g,pauli,paulis,results,alpha_results):\n",
    "    sset = find_sset(pauli)\n",
    "    idx = paulis.index(pauli)\n",
    "    result = results[idx]\n",
    "    states = ['0011','0101','1001','0110','1010','1100']\n",
    "    alphas = up_states_dic_new(results,alpha_results)\n",
    "    up_keys = list(alphas.keys())\n",
    "    out = 0\n",
    "    for state_up in up_keys:\n",
    "        a = alphas[state_up]\n",
    "        for state_down in states:\n",
    "            w = result[state_down]\n",
    "            z0 = 1\n",
    "            z1 = 1\n",
    "            if state_down[N-1] == '1':\n",
    "                z0 = -1\n",
    "            if state_down[N-2] == '1':\n",
    "                z1 = -1\n",
    "            gg_sr = 1\n",
    "            for j in range(N):\n",
    "                nu = int(state_up[N-1-sset[j]])\n",
    "                nd = int(state_down[N-1-j])\n",
    "                if j == 0 or j == 1:\n",
    "                    gg_sr = gg_sr*np.exp(-g*nu)\n",
    "                else:\n",
    "                    gg_sr = gg_sr*np.exp(-2*g*nu*nd) \n",
    "            out = out + (z0- z1)*w*np.conjugate(a)*a*gg_sr\n",
    "    return out\n",
    "\n",
    "\n",
    "def analyze_pu(g,pauli,paulis,result,alpha_results):\n",
    "    N=len(pauli)\n",
    "    idxs = [i for i in range(4) if pauli[i] == 'X' or pauli[i] == 'Y']\n",
    "    psi_up = up_states_dic_new(results,alpha_results)\n",
    "    up_keys = list(psi_up.keys())\n",
    "    r_keys = list(result.keys())\n",
    "    gg = 0\n",
    "    for su in up_keys:\n",
    "        sup = list(su)\n",
    "        sup[idxs[0]] = str(np.mod(int(sup[idxs[0]])+1,2) )\n",
    "        sup[idxs[1]] = str(np.mod(int(sup[idxs[1]])+1,2) )\n",
    "        sup = ''.join(sup)\n",
    "        a = psi_up[su]\n",
    "        if sup in psi_up:\n",
    "            aa = psi_up[sup]\n",
    "        else:\n",
    "            aa = 0\n",
    "        for sr in r_keys:\n",
    "            w = result[sr]\n",
    "            gg_sr = 1\n",
    "            for j in range(N):\n",
    "                nu = int(su[j])\n",
    "                nd = int(sr[j])\n",
    "                if pauli[j] == 'X':\n",
    "                    gg_sr = gg_sr*np.exp(-g*nd)\n",
    "                if pauli[j] == 'Y':\n",
    "                    gg_sr = 1j*(-1)**int(su[j])*gg_sr*np.exp(-g*nd)\n",
    "                elif pauli[j] == 'Z':\n",
    "                    gg_sr = (-1)**nu*gg_sr*np.exp(-2*g*nu*nd)\n",
    "                elif pauli[j] == 'I':\n",
    "                    gg_sr = gg_sr*np.exp(-2*g*nu*nd)\n",
    "            gg = gg + np.conjugate(aa)*a*w*gg_sr\n",
    "    return gg\n",
    "\n",
    "def analyze_GKG(g,k,N,paulis,results,alpha_results):\n",
    "    out = 0\n",
    "    for p in range(1,len(paulis)):\n",
    "        out += k/2*analyze_pu(g,paulis[p],paulis,results[0],alpha_results)\n",
    "        out += k/2*analyze_pd(g,paulis[p],paulis,results,alpha_results)/2\n",
    "        #print(paulis[p],analyze_pd(g,paulis[p],paulis,paulis_new,results,alpha_results),analyze_pu(g,paulis[p],paulis,results[0],alpha_results))\n",
    "    return out"
   ]
  },
  {
   "cell_type": "code",
   "execution_count": null,
   "id": "e7a5a977",
   "metadata": {},
   "outputs": [],
   "source": []
  },
  {
   "cell_type": "code",
   "execution_count": 96,
   "id": "eed4a964",
   "metadata": {},
   "outputs": [
    {
     "name": "stdout",
     "output_type": "stream",
     "text": [
      "(-1.3877787807814457e-17+1.778757927768181e-33j)\n",
      "(2.0816681711721685e-17-4.81482486096809e-34j)\n",
      "(5.551115123125783e-17+0j)\n",
      "(-1.249000902703301e-16+0j)\n",
      "(-1.3322676295501878e-15+0j)\n",
      "(5.551115123125783e-16+1.1557960589618893e-32j)\n"
     ]
    }
   ],
   "source": [
    "results = results_triag\n",
    "alpha_results = alpha_results_triag\n",
    "paulis = paulis_triag\n",
    "signs = signs_triag\n",
    "paulis_new = paulis_new_triag\n",
    "N=4\n",
    "lattice = 'triangle'\n",
    "F = Fl(lattice,N)\n",
    "psi1 = Mdot([ad(3,F),ad(2,F),psi0(4)])\n",
    "psi_spin = np.kron(psi1,psi1)\n",
    "print( analyze_pd(1.2,'XZXI',paulis,results,alpha_results) - bkt(psi_spin,Mdot([G(1.2,4),X(0,8),Z(1,8),X(2,8),G(1.2,4)]),psi_spin) - bkt(psi_spin,Mdot([G(1.2,4),Y(0,8),Z(1,8),Y(2,8),G(1.2,4)]),psi_spin) )\n",
    "print( analyze_pu(1.2,'IXZX',paulis,results[0],alpha_results) - Mdot([np.conjugate(psi_spin),G(1.2,4),X(4,8),Z(5,8),X(6,8),G(1.2,4),psi_spin]) )\n",
    "print( analyze_GDG(1.3,2.1,4,results[0],alpha_results) -  Mdot([np.conjugate(psi_spin),G(1.3,4),D(2.1,4),G(1.3,4),psi_spin]) )\n",
    "print( analyze_GG(1.3,4,results[0],alpha_results) - Mdot([np.conjugate(psi_spin),G(1.3,4),G(1.3,4),psi_spin]) )\n",
    "print( analyze_GMG(1.3,2.1,4,results[0],alpha_results) -  Mdot([np.conjugate(psi_spin),G(1.3,4),M(2.1,4),G(1.3,4),psi_spin]) )\n",
    "print( analyze_GKG(1.3,2.1,4,paulis,results,alpha_results) - Mdot([np.conjugate(psi_spin),G(1.3,4),K(2.1,lattice,N=N),G(1.3,4),psi_spin]) )\n"
   ]
  },
  {
   "cell_type": "code",
   "execution_count": 97,
   "id": "e41c129d",
   "metadata": {},
   "outputs": [
    {
     "name": "stdout",
     "output_type": "stream",
     "text": [
      "(-1.1102230246251565e-16+4.740074059441967e-33j)\n",
      "(-5.551115123125783e-17-9.244463733058732e-33j)\n",
      "(2.3592239273284576e-16+0j)\n",
      "(2.7755575615628914e-16+0j)\n",
      "(2.7755575615628914e-15+0j)\n",
      "(-1.2212453270876722e-15-1.1548701962047795e-32j)\n"
     ]
    }
   ],
   "source": [
    "results = results_square\n",
    "alpha_results = alpha_results_square\n",
    "paulis = paulis_square\n",
    "paulis_new = paulis_new_square\n",
    "N=4\n",
    "lattice = 'square'\n",
    "F = Fl(lattice,N)\n",
    "psi1 = Mdot([ad(3,F),ad(2,F),psi0(4)])\n",
    "psi_spin = np.kron(psi1,psi1)\n",
    "print( analyze_pd(1.2,'XXII',paulis,results,alpha_results) - bkt(psi_spin,Mdot([G(1.2,4),X(0,8),X(1,8),G(1.2,4)]),psi_spin) - bkt(psi_spin,Mdot([G(1.2,4),Y(0,8),Y(1,8),G(1.2,4)]),psi_spin) )\n",
    "print( analyze_pu(1.2,'XXII',paulis,results[0],alpha_results) - Mdot([np.conjugate(psi_spin),G(1.2,4),X(2,8),X(3,8),G(1.2,4),psi_spin]) )\n",
    "\n",
    "print( analyze_GDG(1.3,2.1,4,results[0],alpha_results) -  Mdot([np.conjugate(psi_spin),G(1.3,4),D(2.1,4),G(1.3,4),psi_spin]) )\n",
    "print( analyze_GG(1.3,4,results[0],alpha_results) - Mdot([np.conjugate(psi_spin),G(1.3,4),G(1.3,4),psi_spin]) )\n",
    "print( analyze_GMG(1.3,2.1,4,results[0],alpha_results) -  Mdot([np.conjugate(psi_spin),G(1.3,4),M(2.1,4),G(1.3,4),psi_spin]) )\n",
    "print( analyze_GKG(1.3,2.1,4,paulis,results,alpha_results) - Mdot([np.conjugate(psi_spin),G(1.3,4),K(2.1,lattice,N=N),G(1.3,4),psi_spin]) )\n"
   ]
  },
  {
   "cell_type": "code",
   "execution_count": 98,
   "id": "b002fa4a",
   "metadata": {},
   "outputs": [],
   "source": [
    "def analyze_energy(g,u,k,d,N,paulis,results,alpha_results):\n",
    "    num = analyze_GMG(g,u,N,results[0],alpha_results) +analyze_GDG(g,d,N,results[0],alpha_results) + analyze_GKG(g,k,N,paulis,results,alpha_results)\n",
    "    dom = analyze_GG(g,N,results[0],alpha_results)\n",
    "    return num/dom"
   ]
  },
  {
   "cell_type": "code",
   "execution_count": 99,
   "id": "eddbfa4c",
   "metadata": {},
   "outputs": [
    {
     "data": {
      "text/plain": [
       "(1.5987211554602254e-14-2.4651903288156613e-32j)"
      ]
     },
     "execution_count": 99,
     "metadata": {},
     "output_type": "execute_result"
    }
   ],
   "source": [
    "#square\n",
    "results = results_square\n",
    "alpha_results = alpha_results_square\n",
    "paulis = paulis_square\n",
    "N=4\n",
    "lattice = 'square'\n",
    "F = Fl(lattice,N)\n",
    "psi1 = Mdot([ad(3,F),ad(2,F),psi0(4)])\n",
    "psi_spin = np.kron(psi1,psi1)\n",
    "\n",
    "u = -2\n",
    "k = 1\n",
    "d = 1.5\n",
    "N=4\n",
    "H = M(u,4) + K(k,lattice,N) + D(d,4)\n",
    "bkt(psi_spin,H,psi_spin) - analyze_energy(0,u,k,d,N,paulis,results,alpha_results)"
   ]
  },
  {
   "cell_type": "code",
   "execution_count": 100,
   "id": "17d82106",
   "metadata": {},
   "outputs": [
    {
     "data": {
      "text/plain": [
       "(5.329070518200751e-15-2.7925984193615043e-33j)"
      ]
     },
     "execution_count": 100,
     "metadata": {},
     "output_type": "execute_result"
    }
   ],
   "source": [
    "#Triangle\n",
    "results = results_triag\n",
    "alpha_results = alpha_results_triag\n",
    "paulis = paulis_triag\n",
    "N=4\n",
    "lattice = 'triangle'\n",
    "F = Fl(lattice,N)\n",
    "psi1 = Mdot([ad(3,F),ad(2,F),psi0(4)])\n",
    "psi_spin = np.kron(psi1,psi1)\n",
    "\n",
    "u = -2\n",
    "k = 1\n",
    "d = 1.5\n",
    "N=4\n",
    "H = M(u,4) + K(k,lattice,N) + D(d,4)\n",
    "bkt(psi_spin,H,psi_spin) - analyze_energy(0,u,k,d,N,paulis,results,alpha_results)"
   ]
  },
  {
   "cell_type": "markdown",
   "id": "b7c47be3",
   "metadata": {},
   "source": [
    "# Running Scans\n",
    "\n",
    "With everything in order we can now run scans of $E(g)$."
   ]
  },
  {
   "cell_type": "markdown",
   "id": "d8de9d55",
   "metadata": {},
   "source": [
    "## Square Lattice"
   ]
  },
  {
   "cell_type": "code",
   "execution_count": 101,
   "id": "faaba40b",
   "metadata": {},
   "outputs": [],
   "source": [
    "#square\n",
    "results = results_square\n",
    "alpha_results = alpha_results_square\n",
    "paulis = paulis_square\n",
    "N=4\n",
    "lattice = 'square'\n",
    "F = Fl(lattice,N)\n",
    "psi1 = Mdot([ad(3,F),ad(2,F),psi0(4)])\n",
    "psi_spin = np.kron(psi1,psi1)\n",
    "\n",
    "#parameters\n",
    "u = 0\n",
    "k = 1\n",
    "d = 0\n",
    "N=4\n",
    "\n",
    "#Exact Eigenvalue\n",
    "H = M(u,4) + K(k,lattice,N=N) + D(d,4)\n",
    "e,y = np.linalg.eig(H)\n",
    "y = np.transpose(y)\n",
    "arg = np.argsort(e)\n",
    "\n",
    "#Scan\n",
    "eg = []\n",
    "gl = []\n",
    "eT = []\n",
    "for gi in range(-10,10):\n",
    "    g = gi\n",
    "    egl = analyze_energy(g,u,k,d,N,paulis,results,alpha_results)\n",
    "    eg.append(egl)\n",
    "    gl.append(g)\n",
    "    eT.append(e[arg[[0]]])"
   ]
  },
  {
   "cell_type": "code",
   "execution_count": 102,
   "id": "eafd7932",
   "metadata": {},
   "outputs": [
    {
     "name": "stderr",
     "output_type": "stream",
     "text": [
      "/opt/miniconda3/envs/qiskit_3.5/lib/python3.10/site-packages/matplotlib/cbook/__init__.py:1298: ComplexWarning: Casting complex values to real discards the imaginary part\n",
      "  return np.asarray(x, float)\n"
     ]
    },
    {
     "data": {
      "text/plain": [
       "[<matplotlib.lines.Line2D at 0x7fa96909f1f0>]"
      ]
     },
     "execution_count": 102,
     "metadata": {},
     "output_type": "execute_result"
    },
    {
     "data": {
      "image/png": "[encoded data removed]",
      "text/plain": [
       "<Figure size 432x288 with 1 Axes>"
      ]
     },
     "metadata": {
      "needs_background": "light"
     },
     "output_type": "display_data"
    }
   ],
   "source": [
    "import matplotlib.pyplot as plt\n",
    "\n",
    "plt.plot(gl,eg)\n",
    "#plt.plot(gl,eg_h)\n",
    "plt.plot(gl,eT)"
   ]
  },
  {
   "cell_type": "markdown",
   "id": "5e0e9599",
   "metadata": {},
   "source": [
    "## Triangulare lattice"
   ]
  },
  {
   "cell_type": "code",
   "execution_count": 103,
   "id": "750d74e6",
   "metadata": {},
   "outputs": [],
   "source": [
    "#Triangle\n",
    "results = results_triag\n",
    "alpha_results = alpha_results_triag\n",
    "paulis = paulis_triag\n",
    "N=4\n",
    "lattice = 'triangle'\n",
    "F = Fl(lattice,N)\n",
    "psi1 = Mdot([ad(3,F),ad(2,F),psi0(4)])\n",
    "psi_spin = np.kron(psi1,psi1)\n",
    "\n",
    "#parameters\n",
    "u = 1\n",
    "k = 1\n",
    "d = 0\n",
    "N=4\n",
    "\n",
    "#Exact Eigenvalue\n",
    "H = M(u,4) + K(k,lattice,N=N) + D(d,4)\n",
    "e,y = np.linalg.eig(H)\n",
    "y = np.transpose(y)\n",
    "arg = np.argsort(e)\n",
    "\n",
    "#Scan\n",
    "eg = []\n",
    "gl = []\n",
    "eT = []\n",
    "for gi in range(-10,10):\n",
    "    g = gi\n",
    "    egl = analyze_energy(g,u,k,d,N,paulis,results,alpha_results)\n",
    "    eg.append(egl)\n",
    "    gl.append(g)\n",
    "    eT.append(e[arg[[0]]])"
   ]
  },
  {
   "cell_type": "code",
   "execution_count": 104,
   "id": "c29e0f63",
   "metadata": {},
   "outputs": [
    {
     "data": {
      "text/plain": [
       "[<matplotlib.lines.Line2D at 0x7fa964bf70a0>]"
      ]
     },
     "execution_count": 104,
     "metadata": {},
     "output_type": "execute_result"
    },
    {
     "data": {
      "image/png": "[encoded data removed]",
      "text/plain": [
       "<Figure size 432x288 with 1 Axes>"
      ]
     },
     "metadata": {
      "needs_background": "light"
     },
     "output_type": "display_data"
    }
   ],
   "source": [
    "import matplotlib.pyplot as plt\n",
    "\n",
    "plt.plot(gl,eg)\n",
    "#plt.plot(gl,eg_h)\n",
    "plt.plot(gl,eT)"
   ]
  },
  {
   "cell_type": "code",
   "execution_count": null,
   "id": "45c15c58",
   "metadata": {},
   "outputs": [],
   "source": []
  }
 ],
 "metadata": {
  "kernelspec": {
   "display_name": "qiskit_3.5",
   "language": "python",
   "name": "qiskit_3.5"
  },
  "language_info": {
   "codemirror_mode": {
    "name": "ipython",
    "version": 3
   },
   "file_extension": ".py",
   "mimetype": "text/x-python",
   "name": "python",
   "nbconvert_exporter": "python",
   "pygments_lexer": "ipython3",
   "version": "3.10.4"
  },
  "toc": {
   "base_numbering": 1,
   "nav_menu": {},
   "number_sections": true,
   "sideBar": true,
   "skip_h1_title": false,
   "title_cell": "Table of Contents",
   "title_sidebar": "Contents",
   "toc_cell": false,
   "toc_position": {
    "height": "calc(100% - 180px)",
    "left": "10px",
    "top": "150px",
    "width": "284.594px"
   },
   "toc_section_display": true,
   "toc_window_display": true
  }
 },
 "nbformat": 4,
 "nbformat_minor": 5
}
