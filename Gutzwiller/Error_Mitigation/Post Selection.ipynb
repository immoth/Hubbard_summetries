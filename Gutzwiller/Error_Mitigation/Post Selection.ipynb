{
 "cells": [
  {
   "cell_type": "markdown",
   "id": "2e663065",
   "metadata": {},
   "source": [
    "# Post Selection\n",
    "\n",
    "We can do some error mitigation by throwing out the states with the wrong number of particles.  To achieve this we need a rotation in which both the total number operator $$n = \\sum_i n_i \\rightarrow \\sum_i (I - Z_i)$$ and the Kinetic terms $$K_i = c^{\\dagger}_ic_{i+1} + c^{\\dagger}_{i+1}c_{i} \\rightarrow X_iX_{i+1} + Y_iY_{i+1}$$ are diagonal."
   ]
  },
  {
   "cell_type": "code",
   "execution_count": 340,
   "id": "a8c8e883",
   "metadata": {},
   "outputs": [],
   "source": [
    "import qiskit.quantum_info as qi\n",
    "import scipy as sp\n",
    "import scipy.linalg as ln\n",
    "import numpy as np\n",
    "import pandas as pd\n",
    "import math\n",
    "\n",
    "\n",
    "def Mdot(Ol):\n",
    "    out = Ol[0]\n",
    "    for i in range(1,len(Ol)):\n",
    "        out = np.dot(Ol[i],out)\n",
    "    return out\n",
    "\n",
    "def bkt(y1,O,y2):\n",
    "    return Mdot([np.conjugate(y1),O,y2])\n",
    "\n",
    "\n",
    "def X(i,N):\n",
    "    label = ['I' for i in range(N)]\n",
    "    label[N-1-i] = 'X'\n",
    "    label = ''.join(label)\n",
    "    return qi.Operator.from_label(label).data\n",
    "\n",
    "def Y(i,N):\n",
    "    label = ['I' for i in range(N)]\n",
    "    label[N-1-i] = 'Y'\n",
    "    label = ''.join(label)\n",
    "    return qi.Operator.from_label(label).data\n",
    "\n",
    "def Z(i,N):\n",
    "    label = ['I' for i in range(N)]\n",
    "    label[N-1-i] = 'Z'\n",
    "    label = ''.join(label)\n",
    "    return qi.Operator.from_label(label).data\n",
    "\n",
    "def c(i,N):\n",
    "    label_1 = ['Z' for j in range(N-i-1)]\n",
    "    label_2 = ['I' for j in range(N-i,N)]\n",
    "    label_x = label_1 + ['X'] + label_2\n",
    "    label_y = label_1 + ['Y'] + label_2\n",
    "    label_x = ''.join(label_x)\n",
    "    label_y = ''.join(label_y)\n",
    "    x = qi.Operator.from_label(label_x).data\n",
    "    y = qi.Operator.from_label(label_y).data\n",
    "    return 1/2*(x+1j*y)\n",
    "\n",
    "def cd(i,N):\n",
    "    label_1 = ['Z' for j in range(N-i-1)]\n",
    "    label_2 = ['I' for j in range(N-i,N)]\n",
    "    label_x = label_1 + ['X'] + label_2\n",
    "    label_y = label_1 + ['Y'] + label_2\n",
    "    label_x = ''.join(label_x)\n",
    "    label_y = ''.join(label_y)\n",
    "    x = qi.Operator.from_label(label_x).data\n",
    "    y = qi.Operator.from_label(label_y).data\n",
    "    return 1/2*(x-1j*y)\n",
    "\n",
    "import numpy as np\n",
    "\n",
    "def Mdot(Ol):\n",
    "    L = len(Ol)\n",
    "    out = Ol[L-1]\n",
    "    for i in range(1,len(Ol)):\n",
    "        out = np.dot(Ol[L-1-i],out)\n",
    "    return out\n",
    "\n",
    "def bkt(y1,O,y2):\n",
    "    return Mdot([np.conjugate(y1),O,y2])"
   ]
  },
  {
   "cell_type": "markdown",
   "id": "6f34797d",
   "metadata": {},
   "source": [
    "# Using operators"
   ]
  },
  {
   "cell_type": "markdown",
   "id": "c987f3fc",
   "metadata": {},
   "source": [
    "This rotation will be composed of $$\\sqrt{i\\text{SWAP}}_{ij} = e^{i \\frac{\\pi}{2}(X_iX_j + Y_iY_j)} $$ and $$T_i = e^{i\\frac{\\pi}{8}Z_i}$$\n",
    "\n",
    "The complete rotation is $$ U_{ij} = \\sqrt{i\\text{SWAP}}_{ij}T_iT^{\\dagger}_j $$"
   ]
  },
  {
   "cell_type": "code",
   "execution_count": 341,
   "id": "ec5a9797",
   "metadata": {},
   "outputs": [
    {
     "data": {
      "text/plain": [
       "1.1102230246251565e-16"
      ]
     },
     "execution_count": 341,
     "metadata": {},
     "output_type": "execute_result"
    }
   ],
   "source": [
    "riswap = 1/2*(I(2) + Mdot([Z(0,2),Z(1,2)]) + np.cos(np.pi/4)*(I(2) - Mdot([Z(0,2),Z(1,2)])) + 1j*np.sin(np.pi/4)*(Mdot([X(0,2),X(1,2)]) + Mdot([Y(0,2),Y(1,2)])))\n",
    "\n",
    "riswap_tst = ln.expm(1j*np.pi/8*( Mdot([X(0,2),X(1,2)]) + Mdot([Y(0,2),Y(1,2)]) ))\n",
    "\n",
    "\n",
    "np.amax(np.abs( riswap - riswap_tst ))"
   ]
  },
  {
   "cell_type": "code",
   "execution_count": 342,
   "id": "96298b68",
   "metadata": {},
   "outputs": [
    {
     "data": {
      "text/html": [
       "<div>\n",
       "<style scoped>\n",
       "    .dataframe tbody tr th:only-of-type {\n",
       "        vertical-align: middle;\n",
       "    }\n",
       "\n",
       "    .dataframe tbody tr th {\n",
       "        vertical-align: top;\n",
       "    }\n",
       "\n",
       "    .dataframe thead th {\n",
       "        text-align: right;\n",
       "    }\n",
       "</style>\n",
       "<table border=\"1\" class=\"dataframe\">\n",
       "  <thead>\n",
       "    <tr style=\"text-align: right;\">\n",
       "      <th></th>\n",
       "      <th>0</th>\n",
       "      <th>1</th>\n",
       "      <th>2</th>\n",
       "      <th>3</th>\n",
       "    </tr>\n",
       "  </thead>\n",
       "  <tbody>\n",
       "    <tr>\n",
       "      <th>0</th>\n",
       "      <td>0.0+0.0j</td>\n",
       "      <td>0.000000e+00+0.000000e+00j</td>\n",
       "      <td>0.000000e+00+0.000000e+00j</td>\n",
       "      <td>0.0+0.0j</td>\n",
       "    </tr>\n",
       "    <tr>\n",
       "      <th>1</th>\n",
       "      <td>0.0+0.0j</td>\n",
       "      <td>-1.000000e+00+0.000000e+00j</td>\n",
       "      <td>-2.220446e-16-2.220446e-16j</td>\n",
       "      <td>0.0+0.0j</td>\n",
       "    </tr>\n",
       "    <tr>\n",
       "      <th>2</th>\n",
       "      <td>0.0+0.0j</td>\n",
       "      <td>-2.220446e-16+2.220446e-16j</td>\n",
       "      <td>1.000000e+00+0.000000e+00j</td>\n",
       "      <td>0.0+0.0j</td>\n",
       "    </tr>\n",
       "    <tr>\n",
       "      <th>3</th>\n",
       "      <td>0.0+0.0j</td>\n",
       "      <td>0.000000e+00+0.000000e+00j</td>\n",
       "      <td>0.000000e+00+0.000000e+00j</td>\n",
       "      <td>0.0+0.0j</td>\n",
       "    </tr>\n",
       "  </tbody>\n",
       "</table>\n",
       "</div>"
      ],
      "text/plain": [
       "          0                           1                           2         3\n",
       "0  0.0+0.0j  0.000000e+00+0.000000e+00j  0.000000e+00+0.000000e+00j  0.0+0.0j\n",
       "1  0.0+0.0j -1.000000e+00+0.000000e+00j -2.220446e-16-2.220446e-16j  0.0+0.0j\n",
       "2  0.0+0.0j -2.220446e-16+2.220446e-16j  1.000000e+00+0.000000e+00j  0.0+0.0j\n",
       "3  0.0+0.0j  0.000000e+00+0.000000e+00j  0.000000e+00+0.000000e+00j  0.0+0.0j"
      ]
     },
     "execution_count": 342,
     "metadata": {},
     "output_type": "execute_result"
    }
   ],
   "source": [
    "riswap_tst = ln.expm(1j*np.pi/8*( Mdot([X(0,2),X(1,2)]) + Mdot([Y(0,2),Y(1,2)]) ))\n",
    "T0 = np.cos(np.pi/8)*I(2) + 1j*np.sin(np.pi/8)*Z(0,2)\n",
    "T1 = np.cos(np.pi/8)*I(2) - 1j*np.sin(np.pi/8)*Z(1,2)\n",
    "\n",
    "Um = Mdot([riswap,T0,T1])\n",
    "Umd = np.conjugate(np.transpose(Um))\n",
    "\n",
    "pd.DataFrame( Mdot([Um, 1/2*(Mdot([X(0,2),X(1,2)]) + Mdot([Y(0,2),Y(1,2)]) ) ,Umd]) )"
   ]
  },
  {
   "cell_type": "code",
   "execution_count": 343,
   "id": "c923de0d",
   "metadata": {},
   "outputs": [
    {
     "data": {
      "text/plain": [
       "array([[ 0.+0.j,  0.+0.j,  0.+0.j,  0.+0.j],\n",
       "       [ 0.+0.j, -1.+0.j,  0.+0.j,  0.+0.j],\n",
       "       [ 0.+0.j,  0.+0.j,  1.+0.j,  0.+0.j],\n",
       "       [ 0.+0.j,  0.+0.j,  0.+0.j,  0.+0.j]])"
      ]
     },
     "execution_count": 343,
     "metadata": {},
     "output_type": "execute_result"
    }
   ],
   "source": [
    "(Z(0,2) - Z(1,2))/2"
   ]
  },
  {
   "cell_type": "code",
   "execution_count": 344,
   "id": "699066c0",
   "metadata": {},
   "outputs": [
    {
     "data": {
      "text/html": [
       "<div>\n",
       "<style scoped>\n",
       "    .dataframe tbody tr th:only-of-type {\n",
       "        vertical-align: middle;\n",
       "    }\n",
       "\n",
       "    .dataframe tbody tr th {\n",
       "        vertical-align: top;\n",
       "    }\n",
       "\n",
       "    .dataframe thead th {\n",
       "        text-align: right;\n",
       "    }\n",
       "</style>\n",
       "<table border=\"1\" class=\"dataframe\">\n",
       "  <thead>\n",
       "    <tr style=\"text-align: right;\">\n",
       "      <th></th>\n",
       "      <th>0</th>\n",
       "      <th>1</th>\n",
       "      <th>2</th>\n",
       "      <th>3</th>\n",
       "    </tr>\n",
       "  </thead>\n",
       "  <tbody>\n",
       "    <tr>\n",
       "      <th>0</th>\n",
       "      <td>2.0+0.0j</td>\n",
       "      <td>0.0+0.0j</td>\n",
       "      <td>0.0+0.0j</td>\n",
       "      <td>0.0+0.0j</td>\n",
       "    </tr>\n",
       "    <tr>\n",
       "      <th>1</th>\n",
       "      <td>0.0+0.0j</td>\n",
       "      <td>0.0+0.0j</td>\n",
       "      <td>0.0+0.0j</td>\n",
       "      <td>0.0+0.0j</td>\n",
       "    </tr>\n",
       "    <tr>\n",
       "      <th>2</th>\n",
       "      <td>0.0+0.0j</td>\n",
       "      <td>0.0+0.0j</td>\n",
       "      <td>0.0+0.0j</td>\n",
       "      <td>0.0+0.0j</td>\n",
       "    </tr>\n",
       "    <tr>\n",
       "      <th>3</th>\n",
       "      <td>0.0+0.0j</td>\n",
       "      <td>0.0+0.0j</td>\n",
       "      <td>0.0+0.0j</td>\n",
       "      <td>-2.0+0.0j</td>\n",
       "    </tr>\n",
       "  </tbody>\n",
       "</table>\n",
       "</div>"
      ],
      "text/plain": [
       "          0         1         2         3\n",
       "0  2.0+0.0j  0.0+0.0j  0.0+0.0j  0.0+0.0j\n",
       "1  0.0+0.0j  0.0+0.0j  0.0+0.0j  0.0+0.0j\n",
       "2  0.0+0.0j  0.0+0.0j  0.0+0.0j  0.0+0.0j\n",
       "3  0.0+0.0j  0.0+0.0j  0.0+0.0j -2.0+0.0j"
      ]
     },
     "execution_count": 344,
     "metadata": {},
     "output_type": "execute_result"
    }
   ],
   "source": [
    "pd.DataFrame( Mdot([Um, Z(0,2) + Z(1,2) ,Umd]) )"
   ]
  },
  {
   "cell_type": "markdown",
   "id": "087c5918",
   "metadata": {},
   "source": [
    "In order to perform the $\\sqrt{i\\text{SWAP}}_{ij}$ gate using only two qubit gates we either have to expand $\\sqrt{i\\text{SWAP}}_{ij}$ in terms of many gates or we can re-run the slatter determinate circuit with new qubit indcices so that $i$ and $j$ are neighbors in the quantum hardware.  "
   ]
  },
  {
   "cell_type": "markdown",
   "id": "0b33133e",
   "metadata": {},
   "source": [
    "## $\\sqrt{\\text{iSWAP}}$ in terms of CNOT gates\n",
    "\n",
    "We need to be able to contruct $\\sqrt{\\text{iSWAP}}$ on the quantum computer using basic gates.  I found the following on a message board.\n",
    "\n",
    "$$ \\sqrt{\\text{iSWAP}} = C^X_{10}R^{Y}_1(\\frac{\\pi}{2}) R^{Z}_1(\\frac{\\pi}{8}) C^X_{01} R^{Z}_1(-\\frac{\\pi}{4}) C^X_{01} R^{Z}_1(\\frac{\\pi}{8}) R^{Y}_1(-\\frac{\\pi}{2})$$\n",
    "\n",
    "Let's test it."
   ]
  },
  {
   "cell_type": "code",
   "execution_count": 352,
   "id": "2c872488",
   "metadata": {},
   "outputs": [
    {
     "data": {
      "text/plain": [
       "2.2291027918243403e-16"
      ]
     },
     "execution_count": 352,
     "metadata": {},
     "output_type": "execute_result"
    }
   ],
   "source": [
    "def Rz(phi,i,N):\n",
    "    return np.cos(phi/2)*I(N) - 1j*np.sin(phi/2)*Z(i,N) \n",
    "\n",
    "def Ry(phi,i,N):\n",
    "    return np.cos(phi/2)*I(N) - 1j*np.sin(phi/2)*Y(i,N) \n",
    "\n",
    "def Rx(phi,i,N):\n",
    "    return np.cos(phi/2)*I(N) - 1j*np.sin(phi/2)*X(i,N) \n",
    "\n",
    "def Cx(i,j,N):\n",
    "    return 1/2*( I(N) + Z(i,N) + X(j,N) - Mdot([Z(i,N),X(j,N)]) )\n",
    "\n",
    "def Cxm(i,j,N):\n",
    "    return 1/2*( I(N) + Z(i,N) - X(j,N) + Mdot([Z(i,N),X(j,N)]) )\n",
    "\n",
    "\n",
    "\n",
    "riswap_tst2 = Mdot([Cx(1,0,2),Ry(np.pi/2,1,2),Rz(-np.pi/8,1,2),Cx(0,1,2),Rz(np.pi/4,1,2),Cx(0,1,2),Rz(-np.pi/8,1,2),Ry(-np.pi/2,1,2),Cx(1,0,2)])\n",
    "\n",
    "np.amax(np.abs( riswap_tst2-riswap ))\n"
   ]
  },
  {
   "cell_type": "code",
   "execution_count": 353,
   "id": "b1d6a1ee",
   "metadata": {},
   "outputs": [
    {
     "data": {
      "text/plain": [
       "2.2291027918243403e-16"
      ]
     },
     "execution_count": 353,
     "metadata": {},
     "output_type": "execute_result"
    }
   ],
   "source": [
    "np.amax(np.abs( Mdot([riswap_tst2,Rz(-np.pi/4,0,2),Rz(np.pi/4,1,2)]) - Um ))"
   ]
  },
  {
   "cell_type": "markdown",
   "id": "e7407770",
   "metadata": {},
   "source": [
    "# Using gates"
   ]
  },
  {
   "cell_type": "code",
   "execution_count": 388,
   "id": "932950c8",
   "metadata": {},
   "outputs": [
    {
     "data": {
      "text/html": [
       "<pre style=\"word-wrap: normal;white-space: pre;background: #fff0;line-height: 1.1;font-family: &quot;Courier New&quot;,Courier,monospace\">        ┌──────────┐┌───┐                                            »\n",
       "q114_0: ┤ Rz(-π/4) ├┤ X ├────────────────────────■────────────────■──»\n",
       "        ├─────────┬┘└─┬─┘┌─────────┐┌─────────┐┌─┴─┐┌──────────┐┌─┴─┐»\n",
       "q114_1: ┤ Rz(π/4) ├───■──┤ Ry(π/2) ├┤ Rz(π/8) ├┤ X ├┤ Rz(-π/4) ├┤ X ├»\n",
       "        └─────────┘      └─────────┘└─────────┘└───┘└──────────┘└───┘»\n",
       "c114: 2/═════════════════════════════════════════════════════════════»\n",
       "                                                                     »\n",
       "«                               ┌───┐\n",
       "«q114_0: ───────────────────────┤ X ├\n",
       "«        ┌─────────┐┌──────────┐└─┬─┘\n",
       "«q114_1: ┤ Rz(π/8) ├┤ Ry(-π/2) ├──■──\n",
       "«        └─────────┘└──────────┘     \n",
       "«c114: 2/════════════════════════════\n",
       "«                                    </pre>"
      ],
      "text/plain": [
       "        ┌──────────┐┌───┐                                            »\n",
       "q114_0: ┤ Rz(-π/4) ├┤ X ├────────────────────────■────────────────■──»\n",
       "        ├─────────┬┘└─┬─┘┌─────────┐┌─────────┐┌─┴─┐┌──────────┐┌─┴─┐»\n",
       "q114_1: ┤ Rz(π/4) ├───■──┤ Ry(π/2) ├┤ Rz(π/8) ├┤ X ├┤ Rz(-π/4) ├┤ X ├»\n",
       "        └─────────┘      └─────────┘└─────────┘└───┘└──────────┘└───┘»\n",
       "c114: 2/═════════════════════════════════════════════════════════════»\n",
       "                                                                     »\n",
       "«                               ┌───┐\n",
       "«q114_0: ───────────────────────┤ X ├\n",
       "«        ┌─────────┐┌──────────┐└─┬─┘\n",
       "«q114_1: ┤ Rz(π/8) ├┤ Ry(-π/2) ├──■──\n",
       "«        └─────────┘└──────────┘     \n",
       "«c114: 2/════════════════════════════\n",
       "«                                    "
      ]
     },
     "execution_count": 388,
     "metadata": {},
     "output_type": "execute_result"
    }
   ],
   "source": [
    "from qiskit import QuantumCircuit, transpile, QuantumRegister,ClassicalRegister, execute\n",
    "import copy\n",
    "\n",
    "def apply_riswap(qc_in,j,i):\n",
    "    qc = copy.deepcopy(qc_in)\n",
    "    qc.cx(j,i)\n",
    "    qc.ry(np.pi/2,j)\n",
    "    qc.rz(np.pi/8,j)\n",
    "    qc.cx(i,j)\n",
    "    qc.rz(-np.pi/4,j)\n",
    "    qc.cx(i,j)\n",
    "    qc.rz(np.pi/8,j)\n",
    "    qc.ry(-np.pi/2,j)\n",
    "    qc.cx(j,i)\n",
    "    return qc\n",
    "\n",
    "def apply_Um(qc_in,j,i):\n",
    "    qc = copy.deepcopy(qc_in)\n",
    "    qc.rz(-np.pi/4,j)\n",
    "    qc.rz(np.pi/4,i)\n",
    "    qc = apply_riswap(qc,i,j)\n",
    "    return qc\n",
    "\n",
    "qr = QuantumRegister(2)\n",
    "cr = ClassicalRegister(2)\n",
    "qc = QuantumCircuit(qr , cr)\n",
    "qc = apply_Um(qc,0,1)\n",
    "qc.draw()"
   ]
  },
  {
   "cell_type": "code",
   "execution_count": 390,
   "id": "7c80baa4",
   "metadata": {},
   "outputs": [
    {
     "name": "stdout",
     "output_type": "stream",
     "text": [
      "(-0.32404302839486837+0j)\n"
     ]
    },
    {
     "data": {
      "text/plain": [
       "{'01': 0.6620215141974342, '10': 0.3379784858025657}"
      ]
     },
     "execution_count": 390,
     "metadata": {},
     "output_type": "execute_result"
    }
   ],
   "source": [
    "import qiskit.quantum_info as qi\n",
    "\n",
    "#define a random state\n",
    "qr = QuantumRegister(2)\n",
    "cr = ClassicalRegister(2)\n",
    "circ = QuantumCircuit(qr , cr)\n",
    "\n",
    "circ.ry(0.33,0)\n",
    "circ.x(0)\n",
    "circ.cx(0,1)\n",
    "circ.y(0)\n",
    "\n",
    "psi = qi.Statevector.from_instruction(circ)\n",
    "\n",
    "pnum = bkt(psi,1/2*(I(2)-Z(0,2)) + 1/2*(I(2)-Z(1,2)),psi)\n",
    "\n",
    "kexp = bkt(psi, 1/2*(Mdot([X(0,2),X(1,2)])+Mdot([Y(0,2),Y(1,2)])) ,psi)\n",
    "\n",
    "circ2 = apply_Um(circ,0,1)\n",
    "\n",
    "psi2 = qi.Statevector.from_instruction(circ2)\n",
    "\n",
    "results = psi2.probabilities_dict()\n",
    "\n",
    "print(kexp)\n",
    "results"
   ]
  },
  {
   "cell_type": "code",
   "execution_count": 394,
   "id": "2061ed58",
   "metadata": {},
   "outputs": [
    {
     "data": {
      "text/plain": [
       "2.0014830212433605e-16"
      ]
     },
     "execution_count": 394,
     "metadata": {},
     "output_type": "execute_result"
    }
   ],
   "source": [
    "np.amax(np.abs( Mdot([Um,psi]) - psi2.data ))"
   ]
  },
  {
   "cell_type": "markdown",
   "id": "3776c524",
   "metadata": {},
   "source": [
    "Notice that the particle number is conserved so any weights for states outside of the correct particle number can be dropped.  \n",
    "\n",
    "Under this rotation, $$ \\frac{1}{2}(XX + YY) \\rightarrow \\frac{1}{2}(Z_0 - Z_1) $$"
   ]
  },
  {
   "cell_type": "code",
   "execution_count": 395,
   "id": "6a81d3a9",
   "metadata": {},
   "outputs": [],
   "source": [
    "Z0exp = -results['01'] + results['10']\n",
    "Z1exp = results['01'] - results['10']"
   ]
  },
  {
   "cell_type": "code",
   "execution_count": 396,
   "id": "93ed723c",
   "metadata": {},
   "outputs": [
    {
     "data": {
      "text/plain": [
       "-0.3240430283948685"
      ]
     },
     "execution_count": 396,
     "metadata": {},
     "output_type": "execute_result"
    }
   ],
   "source": [
    "1/2*(Z0exp - Z1exp)"
   ]
  },
  {
   "cell_type": "markdown",
   "id": "4e50657c",
   "metadata": {},
   "source": [
    "# Dealing with non-local XX+YY\n",
    "\n",
    "Let us use the slatter determinant as the trial wavefunction "
   ]
  },
  {
   "cell_type": "markdown",
   "id": "a7b3c063",
   "metadata": {},
   "source": [
    "## Using Slatter circuit"
   ]
  },
  {
   "cell_type": "code",
   "execution_count": 397,
   "id": "810c887a",
   "metadata": {},
   "outputs": [],
   "source": [
    "\n",
    "\n",
    "def F(K):\n",
    "    e,y = ln.eigh(K)\n",
    "    return np.transpose(y)\n",
    "    \n",
    "def Fd(K):\n",
    "    e,y = ln.eigh(K)\n",
    "    return np.conjugate(y)"
   ]
  },
  {
   "cell_type": "code",
   "execution_count": 488,
   "id": "8005fe42",
   "metadata": {},
   "outputs": [],
   "source": [
    "from qiskit import QuantumCircuit, transpile, QuantumRegister,ClassicalRegister, execute\n",
    "\n",
    "def ry(i,j,phi,N):\n",
    "    M = (1+0*1j)*np.identity(N)\n",
    "    M[i,i] = np.cos(phi)\n",
    "    M[j,j] = np.cos(phi)\n",
    "    M[i,j] = np.sin(phi)\n",
    "    M[j,i] = -np.sin(phi)\n",
    "    return M\n",
    "\n",
    "\n",
    "def rz(j,phi,N):\n",
    "    M = (1+0*1j)*np.identity(N)\n",
    "    M[j,j] = np.exp(1j*phi)\n",
    "    return M\n",
    "\n",
    "\n",
    "from qiskit import QuantumCircuit\n",
    "\n",
    "def fswap(i,j,qc):\n",
    "    qc.swap(i,j)\n",
    "    qc.ry(np.pi/2,j)\n",
    "    qc.cx(i,j)\n",
    "    qc.ry(-np.pi/2,j)\n",
    "    return qc\n",
    "    \n",
    "\n",
    "def R_cc(i,j,phi,qc):\n",
    "    for l in range(i+1,j):\n",
    "        qc = fswap(l-1,l,qc)\n",
    "    qc.ry(-np.pi/2,j-1)\n",
    "    qc.cx(j-1,j)\n",
    "    qc.ry(-phi,j)\n",
    "    qc.cx(j-1,j)\n",
    "    qc.ry(np.pi/2,j-1)\n",
    "    qc.ry(-np.pi/2,j)\n",
    "    qc.cx(j,j-1)\n",
    "    qc.ry(phi,j-1)\n",
    "    qc.cx(j,j-1)\n",
    "    qc.ry(np.pi/2,j)\n",
    "    for l in range(j-1,i+1-1,-1):\n",
    "        qc = fswap(l-1,l,qc)\n",
    "    return qc\n",
    "\n",
    "def G_cc(i,j,phi,phiz,qc):\n",
    "    qc = R_cc(i,j,-phi,qc)\n",
    "    qc.rz(-phiz,j)\n",
    "    return qc\n",
    "\n",
    "#Had to modify phiz so that it took imaginary values\n",
    "def givens(ri,rj,c,F):\n",
    "    N = len(F)\n",
    "    if F[rj,c] == 0:\n",
    "        F_new = F\n",
    "        phiz = 0\n",
    "        phi = 0\n",
    "    elif F[ri,c] == 0:\n",
    "        phiz = 1j*np.log( F[rj,c]/np.abs(F[rj,c]) )\n",
    "        Fz =  Mdot([rz(rj,phiz,N) , F])\n",
    "        phi = np.pi/2\n",
    "        F_new = Mdot([ry(ri,rj,phi,N) , Fz])\n",
    "    else:\n",
    "        phiz = 1j*np.log( F[rj,c]/F[ri,c] * np.abs(F[ri,c])/np.abs(F[rj,c]) +0*1j)\n",
    "        Fz =  Mdot([rz(rj,phiz,N) , F])\n",
    "        phi = np.arctan(Fz[rj,c]/Fz[ri,c])\n",
    "        F_new = Mdot([ry(ri,rj,phi,N) , Fz])\n",
    "    return F_new,phiz,phi\n",
    "\n",
    "def slatter_circ(F0):\n",
    "    F1,pz1,p1 = givens(2,3,0,F0)\n",
    "    F2,pz2,p2 = givens(1,2,0,F1)\n",
    "    F3,pz3,p3 = givens(0,1,0,F2)\n",
    "    F4,pz4,p4 = givens(2,3,1,F3)\n",
    "    F5,pz5,p5 = givens(1,2,1,F4)\n",
    "    F6,pz6,p6 = givens(2,3,2,F5)\n",
    "    ph0 = -1j*np.log(F6[0,0])\n",
    "    ph1 = -1j*np.log(F6[1,1])\n",
    "    ph2 = -1j*np.log(F6[2,2])\n",
    "    ph3 = -1j*np.log(F6[3,3])\n",
    "    qr = QuantumRegister(4)\n",
    "    cr = ClassicalRegister(4)\n",
    "    qc = QuantumCircuit(qr , cr)\n",
    "    qc.x(2)\n",
    "    qc.x(3)\n",
    "    qc.rz(np.real(ph0),0)\n",
    "    qc.rz(np.real(ph1),1)\n",
    "    qc.rz(np.real(ph2),2)\n",
    "    qc.rz(np.real(ph3),3)\n",
    "    qc = G_cc(2,3,np.real(p6),np.real(pz6),qc)\n",
    "    qc = G_cc(1,2,np.real(p5),np.real(pz5),qc)\n",
    "    qc = G_cc(2,3,np.real(p4),np.real(pz4),qc)\n",
    "    qc = G_cc(0,1,np.real(p3),np.real(pz3),qc)\n",
    "    qc = G_cc(1,2,np.real(p2),np.real(pz2),qc)\n",
    "    qc = G_cc(2,3,np.real(p1),np.real(pz1),qc)\n",
    "    return qc"
   ]
  },
  {
   "cell_type": "code",
   "execution_count": 489,
   "id": "553507d0",
   "metadata": {},
   "outputs": [
    {
     "name": "stdout",
     "output_type": "stream",
     "text": [
      "(1.9999999999999991+0j) (1.9999999999999987+0j)\n",
      "(-4.8316687112850974e-17+0j)\n",
      "\n"
     ]
    }
   ],
   "source": [
    "def K_single_triag(k):\n",
    "    h = [[0 for i in range(4)] for ii in range(4)]\n",
    "    h[0][1] = -k; h[0][2] = -k; h[0][3] = -k;\n",
    "    h[1][0] = -k; h[1][2] = -k; h[1][3] = -k;\n",
    "    h[2][0] = -k; h[2][1] = -k; h[2][3] = -k;\n",
    "    h[3][0] = -k; h[3][1] = -k; h[3][2] = -k;\n",
    "    return h\n",
    "\n",
    "K = K_single_triag(1.2)\n",
    "circ = slatter_circ(Fd(K))\n",
    "psi = qi.Statevector.from_instruction(circ)\n",
    "\n",
    "pnum = bkt(psi,1/2*(I(4)-Z(0,4)) + 1/2*(I(4)-Z(1,4)) + 1/2*(I(4)-Z(2,4)) + 1/2*(I(4)-Z(3,4)),psi)\n",
    "\n",
    "kexp = bkt(psi, 1/2*(Mdot([X(0,4),X(1,4)])+Mdot([Y(0,4),Y(1,4)])) ,psi)\n",
    "\n",
    "circ2 = apply_Um(circ,0,1)\n",
    "psi2 = qi.Statevector.from_instruction(circ2)\n",
    "results = psi2.probabilities_dict()\n",
    "\n",
    "pnum2 = bkt(psi2,1/2*(I(4)-Z(0,4)) + 1/2*(I(4)-Z(1,4)) + 1/2*(I(4)-Z(2,4)) + 1/2*(I(4)-Z(3,4)),psi2)\n",
    "\n",
    "print(pnum,pnum2)\n",
    "print(kexp)\n",
    "print()\n",
    "#print(results)"
   ]
  },
  {
   "cell_type": "code",
   "execution_count": 434,
   "id": "f7f9e5c6",
   "metadata": {},
   "outputs": [
    {
     "data": {
      "text/plain": [
       "-5.551115123125783e-17"
      ]
     },
     "execution_count": 434,
     "metadata": {},
     "output_type": "execute_result"
    }
   ],
   "source": [
    "Z0exp = -results['0011'] - results['0101'] - results['1001'] + results['0110'] + results['1010'] + results['1100']\n",
    "Z1exp = -results['0011'] + results['0101'] + results['1001'] - results['0110'] - results['1010'] + results['1100']\n",
    "\n",
    "1/2*(Z0exp - Z1exp)"
   ]
  },
  {
   "cell_type": "code",
   "execution_count": 435,
   "id": "efa0a202",
   "metadata": {},
   "outputs": [
    {
     "data": {
      "text/plain": [
       "7.711855592701269e-16"
      ]
     },
     "execution_count": 435,
     "metadata": {},
     "output_type": "execute_result"
    }
   ],
   "source": [
    "N=4 \n",
    "\n",
    "riswap_tst = ln.expm(1j*np.pi/8*( Mdot([X(0,N),X(1,N)]) + Mdot([Y(0,N),Y(1,N)]) ))\n",
    "T0 = np.cos(np.pi/8)*I(N) + 1j*np.sin(np.pi/8)*Z(0,N)\n",
    "T1 = np.cos(np.pi/8)*I(N) - 1j*np.sin(np.pi/8)*Z(1,N)\n",
    "Um = Mdot([riswap_tst,T0,T1])\n",
    "Umd = np.conjugate(np.transpose(Um))\n",
    "\n",
    "np.amax(np.abs( (Z(0,N) - Z(1,N)) - Mdot([Um, Mdot([X(0,N),X(1,N)])+Mdot([Y(0,N),Y(1,N)]), Umd])  ))"
   ]
  },
  {
   "cell_type": "code",
   "execution_count": 436,
   "id": "b2b0ac54",
   "metadata": {},
   "outputs": [
    {
     "data": {
      "text/plain": [
       "7.850462293418876e-17"
      ]
     },
     "execution_count": 436,
     "metadata": {},
     "output_type": "execute_result"
    }
   ],
   "source": [
    "np.amax(np.abs( Mdot([Um,psi]) - psi2.data ))"
   ]
  },
  {
   "cell_type": "markdown",
   "id": "ed96a4c3",
   "metadata": {},
   "source": [
    "## Non-local XX+YY\n",
    "\n",
    "### Without reorientation"
   ]
  },
  {
   "cell_type": "code",
   "execution_count": 529,
   "id": "db221c9f",
   "metadata": {},
   "outputs": [
    {
     "name": "stdout",
     "output_type": "stream",
     "text": [
      "(1.9999999999999991+0j) (1.9999999999999987+0j)\n",
      "(0.6666666666666664+0j)\n"
     ]
    }
   ],
   "source": [
    "def K_single_triag(k):\n",
    "    h = [[0 for i in range(4)] for ii in range(4)]\n",
    "    h[0][1] = -k; h[0][2] = -k; h[0][3] = -k;\n",
    "    h[1][0] = -k; h[1][2] = -k; h[1][3] = -k;\n",
    "    h[2][0] = -k; h[2][1] = -k; h[2][3] = -k;\n",
    "    h[3][0] = -k; h[3][1] = -k; h[3][2] = -k;\n",
    "    return h\n",
    "\n",
    "i = 1\n",
    "j = 3\n",
    "\n",
    "K = K_single_triag(1.2)\n",
    "circ = slatter_circ(Fd(K))\n",
    "psi = qi.Statevector.from_instruction(circ)\n",
    "\n",
    "pnum = bkt(psi,1/2*(I(4)-Z(0,4)) + 1/2*(I(4)-Z(1,4)) + 1/2*(I(4)-Z(2,4)) + 1/2*(I(4)-Z(3,4)),psi)\n",
    "\n",
    "kexp = bkt(psi, 1/2*(Mdot([X(i,4),X(j,4)])+Mdot([Y(i,4),Y(j,4)])) ,psi)\n",
    "\n",
    "circ2 = apply_Um(circ,i,j)\n",
    "psi2 = qi.Statevector.from_instruction(circ2)\n",
    "results = psi2.probabilities_dict()\n",
    "\n",
    "pnum2 = bkt(psi2,1/2*(I(4)-Z(0,4)) + 1/2*(I(4)-Z(1,4)) + 1/2*(I(4)-Z(2,4)) + 1/2*(I(4)-Z(3,4)),psi2)\n",
    "\n",
    "print(pnum,pnum2)\n",
    "print(kexp)"
   ]
  },
  {
   "cell_type": "code",
   "execution_count": 531,
   "id": "c7862d75",
   "metadata": {},
   "outputs": [
    {
     "data": {
      "text/plain": [
       "0.6666666666666663"
      ]
     },
     "execution_count": 531,
     "metadata": {},
     "output_type": "execute_result"
    }
   ],
   "source": [
    "Z0exp = -results['0011'] - results['0101'] - results['1001'] + results['0110'] + results['1010'] + results['1100']\n",
    "Z1exp = -results['0011'] + results['0101'] + results['1001'] - results['0110'] - results['1010'] + results['1100']\n",
    "Z2exp = results['0011'] - results['0101'] + results['1001'] - results['0110'] + results['1010'] - results['1100']\n",
    "Z3exp = results['0011'] + results['0101'] - results['1001'] + results['0110'] - results['1010'] - results['1100']\n",
    "\n",
    "\n",
    "1/2*(Z1exp - Z3exp)"
   ]
  },
  {
   "cell_type": "markdown",
   "id": "ca99a3ed",
   "metadata": {},
   "source": [
    "### With reorientation"
   ]
  },
  {
   "cell_type": "code",
   "execution_count": 560,
   "id": "ffeba0c6",
   "metadata": {},
   "outputs": [],
   "source": [
    "def swap_idx(i,j,Op):\n",
    "    S = np.identity(len(Op))\n",
    "    S[i,i] = 0\n",
    "    S[j,j] = 0\n",
    "    S[i,j] = 1\n",
    "    S[j,i] = 1\n",
    "    return Mdot([S,Op])"
   ]
  },
  {
   "cell_type": "code",
   "execution_count": 561,
   "id": "294e8863",
   "metadata": {},
   "outputs": [
    {
     "data": {
      "text/html": [
       "<div>\n",
       "<style scoped>\n",
       "    .dataframe tbody tr th:only-of-type {\n",
       "        vertical-align: middle;\n",
       "    }\n",
       "\n",
       "    .dataframe tbody tr th {\n",
       "        vertical-align: top;\n",
       "    }\n",
       "\n",
       "    .dataframe thead th {\n",
       "        text-align: right;\n",
       "    }\n",
       "</style>\n",
       "<table border=\"1\" class=\"dataframe\">\n",
       "  <thead>\n",
       "    <tr style=\"text-align: right;\">\n",
       "      <th></th>\n",
       "      <th>0</th>\n",
       "      <th>1</th>\n",
       "      <th>2</th>\n",
       "      <th>3</th>\n",
       "    </tr>\n",
       "  </thead>\n",
       "  <tbody>\n",
       "    <tr>\n",
       "      <th>0</th>\n",
       "      <td>0.5</td>\n",
       "      <td>0.866025</td>\n",
       "      <td>0.000000</td>\n",
       "      <td>0.000000e+00</td>\n",
       "    </tr>\n",
       "    <tr>\n",
       "      <th>1</th>\n",
       "      <td>0.5</td>\n",
       "      <td>-0.288675</td>\n",
       "      <td>-0.408248</td>\n",
       "      <td>7.071068e-01</td>\n",
       "    </tr>\n",
       "    <tr>\n",
       "      <th>2</th>\n",
       "      <td>0.5</td>\n",
       "      <td>-0.288675</td>\n",
       "      <td>-0.408248</td>\n",
       "      <td>-7.071068e-01</td>\n",
       "    </tr>\n",
       "    <tr>\n",
       "      <th>3</th>\n",
       "      <td>0.5</td>\n",
       "      <td>-0.288675</td>\n",
       "      <td>0.816497</td>\n",
       "      <td>8.756053e-17</td>\n",
       "    </tr>\n",
       "  </tbody>\n",
       "</table>\n",
       "</div>"
      ],
      "text/plain": [
       "     0         1         2             3\n",
       "0  0.5  0.866025  0.000000  0.000000e+00\n",
       "1  0.5 -0.288675 -0.408248  7.071068e-01\n",
       "2  0.5 -0.288675 -0.408248 -7.071068e-01\n",
       "3  0.5 -0.288675  0.816497  8.756053e-17"
      ]
     },
     "execution_count": 561,
     "metadata": {},
     "output_type": "execute_result"
    }
   ],
   "source": [
    "pd.DataFrame( swap_idx(1,3,Fd(K)) )"
   ]
  },
  {
   "cell_type": "code",
   "execution_count": 562,
   "id": "99c97be5",
   "metadata": {},
   "outputs": [
    {
     "data": {
      "text/html": [
       "<div>\n",
       "<style scoped>\n",
       "    .dataframe tbody tr th:only-of-type {\n",
       "        vertical-align: middle;\n",
       "    }\n",
       "\n",
       "    .dataframe tbody tr th {\n",
       "        vertical-align: top;\n",
       "    }\n",
       "\n",
       "    .dataframe thead th {\n",
       "        text-align: right;\n",
       "    }\n",
       "</style>\n",
       "<table border=\"1\" class=\"dataframe\">\n",
       "  <thead>\n",
       "    <tr style=\"text-align: right;\">\n",
       "      <th></th>\n",
       "      <th>0</th>\n",
       "      <th>1</th>\n",
       "      <th>2</th>\n",
       "      <th>3</th>\n",
       "    </tr>\n",
       "  </thead>\n",
       "  <tbody>\n",
       "    <tr>\n",
       "      <th>0</th>\n",
       "      <td>0.5</td>\n",
       "      <td>0.866025</td>\n",
       "      <td>0.000000</td>\n",
       "      <td>0.000000e+00</td>\n",
       "    </tr>\n",
       "    <tr>\n",
       "      <th>1</th>\n",
       "      <td>0.5</td>\n",
       "      <td>-0.288675</td>\n",
       "      <td>0.816497</td>\n",
       "      <td>8.756053e-17</td>\n",
       "    </tr>\n",
       "    <tr>\n",
       "      <th>2</th>\n",
       "      <td>0.5</td>\n",
       "      <td>-0.288675</td>\n",
       "      <td>-0.408248</td>\n",
       "      <td>-7.071068e-01</td>\n",
       "    </tr>\n",
       "    <tr>\n",
       "      <th>3</th>\n",
       "      <td>0.5</td>\n",
       "      <td>-0.288675</td>\n",
       "      <td>-0.408248</td>\n",
       "      <td>7.071068e-01</td>\n",
       "    </tr>\n",
       "  </tbody>\n",
       "</table>\n",
       "</div>"
      ],
      "text/plain": [
       "     0         1         2             3\n",
       "0  0.5  0.866025  0.000000  0.000000e+00\n",
       "1  0.5 -0.288675  0.816497  8.756053e-17\n",
       "2  0.5 -0.288675 -0.408248 -7.071068e-01\n",
       "3  0.5 -0.288675 -0.408248  7.071068e-01"
      ]
     },
     "execution_count": 562,
     "metadata": {},
     "output_type": "execute_result"
    }
   ],
   "source": [
    "pd.DataFrame( Fd(K) )"
   ]
  },
  {
   "cell_type": "code",
   "execution_count": 571,
   "id": "25105c5a",
   "metadata": {},
   "outputs": [
    {
     "data": {
      "text/plain": [
       "0.33333333333333315"
      ]
     },
     "execution_count": 571,
     "metadata": {},
     "output_type": "execute_result"
    }
   ],
   "source": [
    "K = K_single_triag(1.2)\n",
    "Fswap = swap_idx(1,3,Fd(K))\n",
    "circ = slatter_circ(Fswap)\n",
    "psi = qi.Statevector.from_instruction(circ)\n",
    "probs = psi.probabilities_dict()\n",
    "probs['1010']"
   ]
  },
  {
   "cell_type": "code",
   "execution_count": 567,
   "id": "5bc7ad04",
   "metadata": {},
   "outputs": [
    {
     "data": {
      "text/plain": [
       "0.33333333333333315"
      ]
     },
     "execution_count": 567,
     "metadata": {},
     "output_type": "execute_result"
    }
   ],
   "source": [
    "K = K_single_triag(1.2)\n",
    "circ = slatter_circ(Fd(K))\n",
    "psi = qi.Statevector.from_instruction(circ)\n",
    "probs = psi.probabilities_dict()\n",
    "probs['0110']"
   ]
  },
  {
   "cell_type": "code",
   "execution_count": 572,
   "id": "1a5423d2",
   "metadata": {},
   "outputs": [
    {
     "name": "stdout",
     "output_type": "stream",
     "text": [
      "(1.9999999999999987+0j) (1.9999999999999982+0j)\n",
      "(-0.6666666666666662+0j)\n"
     ]
    }
   ],
   "source": [
    "def K_single_triag(k):\n",
    "    h = [[0 for i in range(4)] for ii in range(4)]\n",
    "    h[0][1] = -k; h[0][2] = -k; h[0][3] = -k;\n",
    "    h[1][0] = -k; h[1][2] = -k; h[1][3] = -k;\n",
    "    h[2][0] = -k; h[2][1] = -k; h[2][3] = -k;\n",
    "    h[3][0] = -k; h[3][1] = -k; h[3][2] = -k;\n",
    "    return h\n",
    "\n",
    "i = 1\n",
    "j = 3\n",
    "\n",
    "K = K_single_triag(1.2)\n",
    "Fswap = swap_idx(1,j,swap_idx(0,i,Fd(K)))\n",
    "circ = slatter_circ(Fswap)\n",
    "psi = qi.Statevector.from_instruction(circ)\n",
    "\n",
    "pnum = bkt(psi,1/2*(I(4)-Z(0,4)) + 1/2*(I(4)-Z(1,4)) + 1/2*(I(4)-Z(2,4)) + 1/2*(I(4)-Z(3,4)),psi)\n",
    "\n",
    "kexp = bkt(psi, 1/2*(Mdot([X(0,4),X(1,4)])+Mdot([Y(0,4),Y(1,4)])) ,psi)\n",
    "\n",
    "circ2 = apply_Um(circ,0,1)\n",
    "psi2 = qi.Statevector.from_instruction(circ2)\n",
    "results = psi2.probabilities_dict()\n",
    "\n",
    "pnum2 = bkt(psi2,1/2*(I(4)-Z(0,4)) + 1/2*(I(4)-Z(1,4)) + 1/2*(I(4)-Z(2,4)) + 1/2*(I(4)-Z(3,4)),psi2)\n",
    "\n",
    "print(pnum,pnum2)\n",
    "print(kexp)\n"
   ]
  },
  {
   "cell_type": "code",
   "execution_count": 573,
   "id": "fe70fe1e",
   "metadata": {},
   "outputs": [
    {
     "data": {
      "text/plain": [
       "-0.6666666666666661"
      ]
     },
     "execution_count": 573,
     "metadata": {},
     "output_type": "execute_result"
    }
   ],
   "source": [
    "Z0exp = -results['0011'] - results['0101'] - results['1001'] + results['0110'] + results['1010'] + results['1100']\n",
    "Z1exp = -results['0011'] + results['0101'] + results['1001'] - results['0110'] - results['1010'] + results['1100']\n",
    "Z2exp = results['0011'] - results['0101'] + results['1001'] - results['0110'] + results['1010'] - results['1100']\n",
    "Z3exp = results['0011'] + results['0101'] - results['1001'] + results['0110'] - results['1010'] - results['1100']\n",
    "\n",
    "\n",
    "1/2*(Z0exp - Z1exp)"
   ]
  },
  {
   "cell_type": "code",
   "execution_count": null,
   "id": "f0d0647b",
   "metadata": {},
   "outputs": [],
   "source": []
  }
 ],
 "metadata": {
  "kernelspec": {
   "display_name": "qiskit_3.5",
   "language": "python",
   "name": "qiskit_3.5"
  },
  "language_info": {
   "codemirror_mode": {
    "name": "ipython",
    "version": 3
   },
   "file_extension": ".py",
   "mimetype": "text/x-python",
   "name": "python",
   "nbconvert_exporter": "python",
   "pygments_lexer": "ipython3",
   "version": "3.10.4"
  },
  "toc": {
   "base_numbering": 1,
   "nav_menu": {},
   "number_sections": true,
   "sideBar": true,
   "skip_h1_title": false,
   "title_cell": "Table of Contents",
   "title_sidebar": "Contents",
   "toc_cell": false,
   "toc_position": {},
   "toc_section_display": true,
   "toc_window_display": false
  }
 },
 "nbformat": 4,
 "nbformat_minor": 5
}
