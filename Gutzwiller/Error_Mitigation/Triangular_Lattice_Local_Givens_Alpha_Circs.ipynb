{
 "cells": [
  {
   "cell_type": "markdown",
   "id": "43757973",
   "metadata": {},
   "source": [
    "# Gutzwiller state on a quantum computer\n",
    "\n",
    "Here I use a simillar approach as the last Gutzwiller notebook, 'Gutzwiller_in_kspace', except that I will use the measurment scheme which grows only linearly with system size.  Instead of breaking the operators into Pauli matrices, I keep the exponentials of Pauli operators as well.  This measurement techinque is explored in detail in the notebook 'Measuring Gutzwiller'."
   ]
  },
  {
   "cell_type": "markdown",
   "id": "45a1c874",
   "metadata": {},
   "source": [
    "# Initialize operators and fucntion\n",
    "\n",
    "Below I define the identiry operator $I$, the Pauli operators $X$, $Y$, and $Z$, fermion creations and analiation operators $c^{\\dagger}$, $c$, the fermion number operator $n=c^{\\dagger}c$, and the k-space fermion operators $$ a^{\\dagger} = \\frac{1}{\\sqrt{N}}\\sum_{j=0}^{N-1}e^{i\\frac{2\\pi n}{N}j}c^{\\dagger}_j $$\n",
    "and $a = (a^{\\dagger})^{\\dagger}$ where $N$ is the number of sites in the system.\n",
    "\n",
    "I also define a function Mdot to take the dot product of multiple operators and btk to take brakets of operators."
   ]
  },
  {
   "cell_type": "code",
   "execution_count": 2,
   "id": "fed85cda",
   "metadata": {},
   "outputs": [],
   "source": [
    "import qiskit.quantum_info as qi\n",
    "import scipy as sp\n",
    "import numpy as np\n",
    "import pandas as pd\n",
    "import math\n",
    "import scipy.linalg as ln\n",
    "import copy\n",
    "\n",
    "def I(N):\n",
    "    label = ['I' for i in range(N)]\n",
    "    label = ''.join(label)\n",
    "    return qi.Operator.from_label(label).data\n",
    "\n",
    "def X(i,N):\n",
    "    label = ['I' for i in range(N)]\n",
    "    label[N-1-i] = 'X'\n",
    "    label = ''.join(label)\n",
    "    return qi.Operator.from_label(label).data\n",
    "\n",
    "def Y(i,N):\n",
    "    label = ['I' for i in range(N)]\n",
    "    label[N-1-i] = 'Y'\n",
    "    label = ''.join(label)\n",
    "    return qi.Operator.from_label(label).data\n",
    "\n",
    "def Z(i,N):\n",
    "    label = ['I' for i in range(N)]\n",
    "    label[N-1-i] = 'Z'\n",
    "    label = ''.join(label)\n",
    "    return qi.Operator.from_label(label).data\n",
    "\n",
    "def c(i,N):\n",
    "    label_1 = ['Z' for j in range(N-i-1)]\n",
    "    label_2 = ['I' for j in range(N-i,N)]\n",
    "    label_x = label_1 + ['X'] + label_2\n",
    "    label_y = label_1 + ['Y'] + label_2\n",
    "    label_x = ''.join(label_x)\n",
    "    label_y = ''.join(label_y)\n",
    "    x = qi.Operator.from_label(label_x).data\n",
    "    y = qi.Operator.from_label(label_y).data\n",
    "    return 1/2*(x+1j*y)\n",
    "\n",
    "def cd(i,N):\n",
    "    label_1 = ['Z' for j in range(N-i-1)]\n",
    "    label_2 = ['I' for j in range(N-i,N)]\n",
    "    label_x = label_1 + ['X'] + label_2\n",
    "    label_y = label_1 + ['Y'] + label_2\n",
    "    label_x = ''.join(label_x)\n",
    "    label_y = ''.join(label_y)\n",
    "    x = qi.Operator.from_label(label_x).data\n",
    "    y = qi.Operator.from_label(label_y).data\n",
    "    return 1/2*(x-1j*y)\n",
    "\n",
    "def n(i,N):\n",
    "    return Mdot([cd(i,N),c(i,N)])\n",
    "\n",
    "\n",
    "import numpy as np\n",
    "\n",
    "\n",
    "def Mdot(Ol):\n",
    "    L = len(Ol)\n",
    "    out = Ol[L-1]\n",
    "    for i in range(1,len(Ol)):\n",
    "        out = np.dot(Ol[L-1-i],out)\n",
    "    return out\n",
    "\n",
    "def bkt(y1,O,y2):\n",
    "    return Mdot([np.conjugate(y1),O,y2])"
   ]
  },
  {
   "cell_type": "markdown",
   "id": "f0a1c683",
   "metadata": {},
   "source": [
    "# Define the system\n",
    "\n",
    "The system is defined by its Hemiltonian which is composed of three parts.  A Kinetic term\n",
    "$$ \\hat{K} = k \\sum_{i\\sigma} \\left( c^{\\dagger}_{i\\sigma}c_{i+1\\sigma} + c^{\\dagger}_{i+1\\sigma}c_{i\\sigma} \\right)$$\n",
    "an interaction term\n",
    "$$ \\hat{D} = \\sum_i \\hat{n}_{i,\\uparrow}\\hat{n}_{i,\\downarrow}.  $$\n",
    "and a chemical potential\n",
    "$$ \\hat{M} = \\mu \\sum_{i\\sigma}  c^{\\dagger}_{i\\sigma}c_{i\\sigma} $$\n",
    "\n",
    "I also define the Gutzwiler operator,\n",
    "$$ \\hat{G} = \\prod_{i=0}^{N-1}e^{-g n_{i\\uparrow}n_{i\\downarrow}} = \\prod_{i=0}^{N-1} (1 - n_{i\\uparrow}n_{i\\downarrow} (e^{-g}-1) ), $$\n",
    "and the lowest energy two partcle eigenstate of $\\hat{K}$\n",
    "$$ |\\psi_1> = a^{\\dagger}_0a^{\\dagger}_1|0>. $$\n",
    "and \n",
    "$$ |\\psi_{\\text{spin}}> = |\\psi_1>\\otimes|\\psi_1> $$\n",
    "such that $\\hat{K}|\\psi_{\\text{spin}}> = E_{01}|\\psi_{\\text{spin}}>$"
   ]
  },
  {
   "cell_type": "code",
   "execution_count": 3,
   "id": "f6fecaf2",
   "metadata": {},
   "outputs": [],
   "source": [
    "def G(g,N):\n",
    "    out = I(2*N)\n",
    "    for i in range(N):\n",
    "        out = Mdot([ out , I(2*N) + (np.exp(-g)-1)*Mdot([n(i,2*N),n(i+N,2*N)]) ])\n",
    "    return out\n",
    "\n",
    "def K(k):\n",
    "    Kout = 0*I(8)\n",
    "    Kout = Kout + Mdot([cd(0,8),c(1,8)]) + Mdot([cd(0,8),c(2,8)])+ Mdot([cd(0,8),c(3,8)])\n",
    "    Kout = Kout + Mdot([cd(1,8),c(0,8)]) + Mdot([cd(1,8),c(2,8)])+ Mdot([cd(1,8),c(3,8)])\n",
    "    Kout = Kout + Mdot([cd(2,8),c(0,8)]) + Mdot([cd(2,8),c(1,8)])+ Mdot([cd(2,8),c(3,8)])\n",
    "    Kout = Kout + Mdot([cd(3,8),c(0,8)]) + Mdot([cd(3,8),c(1,8)])+ Mdot([cd(3,8),c(2,8)])\n",
    "    N=4\n",
    "    Kout = Kout + Mdot([cd(N+0,8),c(N+1,8)]) + Mdot([cd(N+0,8),c(N+2,8)])+ Mdot([cd(N+0,8),c(N+3,8)])\n",
    "    Kout = Kout + Mdot([cd(N+1,8),c(N+0,8)]) + Mdot([cd(N+1,8),c(N+2,8)])+ Mdot([cd(N+1,8),c(N+3,8)])\n",
    "    Kout = Kout + Mdot([cd(N+2,8),c(N+0,8)]) + Mdot([cd(N+2,8),c(N+1,8)])+ Mdot([cd(N+2,8),c(N+3,8)])\n",
    "    Kout = Kout + Mdot([cd(N+3,8),c(N+0,8)]) + Mdot([cd(N+3,8),c(N+1,8)])+ Mdot([cd(N+3,8),c(N+2,8)])\n",
    "    return k*Kout\n",
    "\n",
    "def D(d,N):\n",
    "    Dout = 0*I(2*N)\n",
    "    for i in range(0,N):\n",
    "        Dout = Dout + Mdot([n(i,2*N),n(i+N,2*N)])\n",
    "    return d*Dout\n",
    "\n",
    "def M(u,N):\n",
    "    Dout = 0*I(2*N)\n",
    "    for i in range(0,N):\n",
    "        Dout = Dout + n(i,2*N) \n",
    "        Dout = Dout + n(i+N,2*N)\n",
    "    return u*Dout\n",
    "\n",
    "def psi0(N):\n",
    "    y = [0 for i in range(2**N)]\n",
    "    y[0] = 1\n",
    "    return y\n"
   ]
  },
  {
   "cell_type": "code",
   "execution_count": null,
   "id": "e579f5db",
   "metadata": {},
   "outputs": [],
   "source": []
  },
  {
   "cell_type": "markdown",
   "id": "437aad43",
   "metadata": {},
   "source": [
    "# Defining the circuit representation of the slatter determinent\n",
    "\n",
    "This is described in detail in 'Gutzwiller_In_KSpace'.\n",
    "\n",
    "First we need the transformation function $f$ such that \n",
    "$$ a^{\\dagger}_n = \\sum_i f_{in} c^{\\dagger}_i $$\n",
    "or if we group the creation operators into a vector \n",
    "$$ \\vec{a}^{\\dagger} = \\hat{F} \\vec{c}^{\\dagger} $$"
   ]
  },
  {
   "cell_type": "code",
   "execution_count": 4,
   "id": "4c5dc852",
   "metadata": {},
   "outputs": [
    {
     "data": {
      "text/html": [
       "<div>\n",
       "<style scoped>\n",
       "    .dataframe tbody tr th:only-of-type {\n",
       "        vertical-align: middle;\n",
       "    }\n",
       "\n",
       "    .dataframe tbody tr th {\n",
       "        vertical-align: top;\n",
       "    }\n",
       "\n",
       "    .dataframe thead th {\n",
       "        text-align: right;\n",
       "    }\n",
       "</style>\n",
       "<table border=\"1\" class=\"dataframe\">\n",
       "  <thead>\n",
       "    <tr style=\"text-align: right;\">\n",
       "      <th></th>\n",
       "      <th>0</th>\n",
       "      <th>1</th>\n",
       "      <th>2</th>\n",
       "      <th>3</th>\n",
       "    </tr>\n",
       "  </thead>\n",
       "  <tbody>\n",
       "    <tr>\n",
       "      <th>0</th>\n",
       "      <td>-6.000000e+00</td>\n",
       "      <td>6.661338e-16</td>\n",
       "      <td>-1.221245e-15</td>\n",
       "      <td>0.000000e+00</td>\n",
       "    </tr>\n",
       "    <tr>\n",
       "      <th>1</th>\n",
       "      <td>7.216450e-16</td>\n",
       "      <td>2.000000e+00</td>\n",
       "      <td>-1.408470e-16</td>\n",
       "      <td>-3.490737e-16</td>\n",
       "    </tr>\n",
       "    <tr>\n",
       "      <th>2</th>\n",
       "      <td>-6.661338e-16</td>\n",
       "      <td>-1.015240e-16</td>\n",
       "      <td>2.000000e+00</td>\n",
       "      <td>1.472149e-17</td>\n",
       "    </tr>\n",
       "    <tr>\n",
       "      <th>3</th>\n",
       "      <td>0.000000e+00</td>\n",
       "      <td>-3.300253e-16</td>\n",
       "      <td>-1.385114e-17</td>\n",
       "      <td>2.000000e+00</td>\n",
       "    </tr>\n",
       "  </tbody>\n",
       "</table>\n",
       "</div>"
      ],
      "text/plain": [
       "              0             1             2             3\n",
       "0 -6.000000e+00  6.661338e-16 -1.221245e-15  0.000000e+00\n",
       "1  7.216450e-16  2.000000e+00 -1.408470e-16 -3.490737e-16\n",
       "2 -6.661338e-16 -1.015240e-16  2.000000e+00  1.472149e-17\n",
       "3  0.000000e+00 -3.300253e-16 -1.385114e-17  2.000000e+00"
      ]
     },
     "execution_count": 4,
     "metadata": {},
     "output_type": "execute_result"
    }
   ],
   "source": [
    "def Ks(k):\n",
    "    h = [[0 for i in range(4)] for ii in range(4)]\n",
    "    h[0][1] = -k; h[0][2] = -k; h[0][3] = -k;\n",
    "    h[1][0] = -k; h[1][2] = -k; h[1][3] = -k;\n",
    "    h[2][0] = -k; h[2][1] = -k; h[2][3] = -k;\n",
    "    h[3][0] = -k; h[3][1] = -k; h[3][2] = -k;\n",
    "    return h\n",
    "\n",
    "e,y = ln.eigh(Ks(1))\n",
    "F = np.transpose(y)\n",
    "Fd = np.conjugate(np.transpose(F))\n",
    "\n",
    "pd.DataFrame( Mdot([F,Ks(2),Fd]) )"
   ]
  },
  {
   "cell_type": "code",
   "execution_count": 5,
   "id": "ef47abf4",
   "metadata": {},
   "outputs": [
    {
     "data": {
      "text/plain": [
       "6.661338147750939e-16"
      ]
     },
     "execution_count": 5,
     "metadata": {},
     "output_type": "execute_result"
    }
   ],
   "source": [
    "def ad(n,F):\n",
    "    N = len(F)\n",
    "    Fd = np.conjugate(np.transpose(F))\n",
    "    out = Fd[0][n]*cd(0,N)\n",
    "    for i in range(1,N):\n",
    "        out = out + Fd[i][n]*cd(i,N)\n",
    "    return out\n",
    "\n",
    "def a(n,F):\n",
    "    N = len(F)\n",
    "    Fd = np.conjugate(np.transpose(F))\n",
    "    out = F[n][0]*c(0,N)\n",
    "    for i in range(1,N):\n",
    "        out = out + F[n][i]*c(i,N)\n",
    "    return out\n",
    "\n",
    "psi1 = Mdot([ad(3,F),ad(2,F),psi0(4)])\n",
    "psi_spin = np.kron(psi1,psi1)\n",
    "\n",
    "k=1.3\n",
    "np.amax(np.abs( Mdot([K(k),psi_spin]) - Mdot([np.conjugate(psi_spin),K(k),psi_spin])*psi_spin ))"
   ]
  },
  {
   "cell_type": "markdown",
   "id": "35ce2299",
   "metadata": {},
   "source": [
    "The stratagy is then to find rotations which diagonalize $\\hat{F}$ then we can apply the reverse rotations to create $\\hat{F}$ on the quantum computer.  I should make it clear that we are talking about two different spaces.  The single particle space where $\\hat{F}$ acts and the manybody space in which the quantum computer lives.  Since the state we want to create has a representation in both spaces, we can map between them.  We will do the following rotations in the single particle space,\n",
    "\n",
    "$$ (r^y_{ij}(\\phi))_{kl} = \\cos(\\phi)\\delta_{ik}\\delta_{il}+\\cos(\\phi)\\delta_{jk}\\delta_{jl} + \\sin(\\phi)\\delta_{ik}\\delta_{jl} - \\sin(\\phi)\\delta_{jk}\\delta_{il}$$\n",
    "and \n",
    "$$ (r^z_j(\\phi))_{kl} = e^{i\\phi}\\delta_{ik}\\delta_{kl} $$\n",
    "\n",
    "these are combined in the 'givens' function below.  We preform the a number of givens rotations until $\\hat{F}$ is diagonalized.  This gives us the correct angles for the rotations.  Then we map these rotations to the manybody space.  $r^z$ maps simply to and $R^z$ rotation in the many body space while $r^y$ maps to the function $R_{cc}$ defined below. \n",
    "$$ r^z \\rightarrow R^z $$\n",
    "$$ r^y \\rightarrow R_{cc}$$\n",
    "\n",
    "$G_{cc}$ combines both manybody rotations and 'fswap' is a fermion swap which is nececcary for $R_{cc}$"
   ]
  },
  {
   "cell_type": "markdown",
   "id": "37e5c3e6",
   "metadata": {},
   "source": [
    "What's new in this notebook is that we will only perform givens rotations on neighboring qubits so that we avoid uneccessary swaps.  In order to do this, we need to know the layout of the physical hardware. "
   ]
  },
  {
   "cell_type": "code",
   "execution_count": 6,
   "id": "03a8d333",
   "metadata": {},
   "outputs": [],
   "source": [
    "def ry(i,j,phi,N):\n",
    "    M = (1+0*1j)*np.identity(N)\n",
    "    M[i,i] = np.cos(phi)\n",
    "    M[j,j] = np.cos(phi)\n",
    "    M[i,j] = np.sin(phi)\n",
    "    M[j,i] = -np.sin(phi)\n",
    "    return M\n",
    "\n",
    "\n",
    "def rz(j,phi,N):\n",
    "    M = (1+0*1j)*np.identity(N)\n",
    "    M[j,j] = np.exp(1j*phi)\n",
    "    return M\n",
    "\n",
    "\n",
    "from qiskit import QuantumCircuit\n",
    "\n",
    "def fswap(i,j,qc):\n",
    "    qc.swap(i,j)\n",
    "    qc.ry(np.pi/2,j)\n",
    "    qc.cx(i,j)\n",
    "    qc.ry(-np.pi/2,j)\n",
    "    return qc\n",
    "    \n",
    "\n",
    "def R_cc(i,j,phi,qc):\n",
    "    for l in range(i+1,j):\n",
    "        qc = fswap(l-1,l,qc)\n",
    "    qc.ry(-np.pi/2,j-1)\n",
    "    qc.cx(j-1,j)\n",
    "    qc.ry(-phi,j)\n",
    "    qc.cx(j-1,j)\n",
    "    qc.ry(np.pi/2,j-1)\n",
    "    qc.ry(-np.pi/2,j)\n",
    "    qc.cx(j,j-1)\n",
    "    qc.ry(phi,j-1)\n",
    "    qc.cx(j,j-1)\n",
    "    qc.ry(np.pi/2,j)\n",
    "    for l in range(j-1,i+1-1,-1):\n",
    "        qc = fswap(l-1,l,qc)\n",
    "    return qc\n",
    "\n",
    "def G_cc(i,j,phi,phiz,qc):\n",
    "    qc = R_cc(i,j,-phi,qc)\n",
    "    qc.rz(-phiz,j)\n",
    "    return qc\n"
   ]
  },
  {
   "cell_type": "code",
   "execution_count": 7,
   "id": "512dff5d",
   "metadata": {},
   "outputs": [
    {
     "data": {
      "text/html": [
       "<div>\n",
       "<style scoped>\n",
       "    .dataframe tbody tr th:only-of-type {\n",
       "        vertical-align: middle;\n",
       "    }\n",
       "\n",
       "    .dataframe tbody tr th {\n",
       "        vertical-align: top;\n",
       "    }\n",
       "\n",
       "    .dataframe thead th {\n",
       "        text-align: right;\n",
       "    }\n",
       "</style>\n",
       "<table border=\"1\" class=\"dataframe\">\n",
       "  <thead>\n",
       "    <tr style=\"text-align: right;\">\n",
       "      <th></th>\n",
       "      <th>0</th>\n",
       "      <th>1</th>\n",
       "      <th>2</th>\n",
       "      <th>3</th>\n",
       "    </tr>\n",
       "  </thead>\n",
       "  <tbody>\n",
       "    <tr>\n",
       "      <th>0</th>\n",
       "      <td>-1.000000e+00-9.184851e-17j</td>\n",
       "      <td>-3.640588e-17+6.123234e-17j</td>\n",
       "      <td>1.166819e-17+6.123234e-17j</td>\n",
       "      <td>1.166819e-17+6.123234e-17j</td>\n",
       "    </tr>\n",
       "    <tr>\n",
       "      <th>1</th>\n",
       "      <td>-3.471020e-17-7.153904e-33j</td>\n",
       "      <td>1.000000e+00+9.184851e-17j</td>\n",
       "      <td>3.630560e-16-6.123234e-17j</td>\n",
       "      <td>1.817573e-16-6.123234e-17j</td>\n",
       "    </tr>\n",
       "    <tr>\n",
       "      <th>2</th>\n",
       "      <td>-3.023651e-17-1.588532e-33j</td>\n",
       "      <td>3.549052e-18+1.743153e-32j</td>\n",
       "      <td>-1.000000e+00-6.123234e-17j</td>\n",
       "      <td>-1.014654e-17+6.709715e-33j</td>\n",
       "    </tr>\n",
       "    <tr>\n",
       "      <th>3</th>\n",
       "      <td>3.023651e-17+1.588532e-33j</td>\n",
       "      <td>-3.549052e-18-1.743153e-32j</td>\n",
       "      <td>-2.237114e-17-1.902693e-33j</td>\n",
       "      <td>1.000000e+00+6.123234e-17j</td>\n",
       "    </tr>\n",
       "  </tbody>\n",
       "</table>\n",
       "</div>"
      ],
      "text/plain": [
       "                            0                           1  \\\n",
       "0 -1.000000e+00-9.184851e-17j -3.640588e-17+6.123234e-17j   \n",
       "1 -3.471020e-17-7.153904e-33j  1.000000e+00+9.184851e-17j   \n",
       "2 -3.023651e-17-1.588532e-33j  3.549052e-18+1.743153e-32j   \n",
       "3  3.023651e-17+1.588532e-33j -3.549052e-18-1.743153e-32j   \n",
       "\n",
       "                            2                           3  \n",
       "0  1.166819e-17+6.123234e-17j  1.166819e-17+6.123234e-17j  \n",
       "1  3.630560e-16-6.123234e-17j  1.817573e-16-6.123234e-17j  \n",
       "2 -1.000000e+00-6.123234e-17j -1.014654e-17+6.709715e-33j  \n",
       "3 -2.237114e-17-1.902693e-33j  1.000000e+00+6.123234e-17j  "
      ]
     },
     "execution_count": 7,
     "metadata": {},
     "output_type": "execute_result"
    }
   ],
   "source": [
    "def givens(ri,rj,c,F):\n",
    "    N = len(F)\n",
    "    if F[rj,c] == 0:\n",
    "        F_new = F\n",
    "        phiz = 0\n",
    "        phi = 0\n",
    "    elif F[ri,c] == 0:\n",
    "        phiz = 1j*np.log( F[rj,c]/np.abs(F[rj,c]) )\n",
    "        Fz =  Mdot([rz(rj,phiz,N) , F])\n",
    "        phi = np.pi/2\n",
    "        F_new = Mdot([ry(ri,rj,phi,N) , Fz])\n",
    "    else:\n",
    "        phiz = 1j*np.log( F[rj,c]/F[ri,c] * np.abs(F[ri,c])/np.abs(F[rj,c]) )\n",
    "        Fz =  Mdot([rz(rj,phiz,N) , F])\n",
    "        phi = np.arctan(Fz[rj,c]/Fz[ri,c])\n",
    "        F_new = Mdot([ry(ri,rj,phi,N) , Fz])\n",
    "    return F_new,phiz,phi\n",
    "\n",
    "F0 = F\n",
    "F1,pz1,p1 = givens(2,3,0,F0)\n",
    "F2,pz2,p2 = givens(1,2,0,F1)\n",
    "F3,pz3,p3 = givens(0,1,0,F2)\n",
    "F4,pz4,p4 = givens(2,3,1,F3)\n",
    "F5,pz5,p5 = givens(1,2,1,F4)\n",
    "F6,pz6,p6 = givens(2,3,2,F5)\n",
    "pd.DataFrame(F6)"
   ]
  },
  {
   "cell_type": "code",
   "execution_count": 8,
   "id": "92fb6eb3",
   "metadata": {},
   "outputs": [],
   "source": [
    "from qiskit import QuantumCircuit, transpile, QuantumRegister,ClassicalRegister, execute\n",
    "\n",
    "def slatter_circ(F0):\n",
    "    F1,pz1,p1 = givens(2,3,0,F0)\n",
    "    F2,pz2,p2 = givens(1,2,0,F1)\n",
    "    F3,pz3,p3 = givens(0,1,0,F2)\n",
    "    F4,pz4,p4 = givens(2,3,1,F3)\n",
    "    F5,pz5,p5 = givens(1,2,1,F4)\n",
    "    F6,pz6,p6 = givens(2,3,2,F5)\n",
    "    ph0 = -1j*np.log(F6[0,0])\n",
    "    ph1 = -1j*np.log(F6[1,1])\n",
    "    ph2 = -1j*np.log(F6[2,2])\n",
    "    ph3 = -1j*np.log(F6[3,3])\n",
    "    qr = QuantumRegister(4)\n",
    "    cr = ClassicalRegister(4)\n",
    "    qc = QuantumCircuit(qr , cr)\n",
    "    qc.x(2)\n",
    "    qc.x(3)\n",
    "    qc.rz(np.real(ph0),0)\n",
    "    qc.rz(np.real(ph1),1)\n",
    "    qc.rz(np.real(ph2),2)\n",
    "    qc.rz(np.real(ph3),3)\n",
    "    qc = G_cc(2,3,np.real(p6),np.real(pz6),qc)\n",
    "    qc = G_cc(1,2,np.real(p5),np.real(pz5),qc)\n",
    "    qc = G_cc(2,3,np.real(p4),np.real(pz4),qc)\n",
    "    qc = G_cc(0,1,np.real(p3),np.real(pz3),qc)\n",
    "    qc = G_cc(1,2,np.real(p2),np.real(pz2),qc)\n",
    "    qc = G_cc(2,3,np.real(p1),np.real(pz1),qc)\n",
    "    return qc"
   ]
  },
  {
   "cell_type": "code",
   "execution_count": 9,
   "id": "6c7cbb7c",
   "metadata": {},
   "outputs": [
    {
     "data": {
      "text/plain": [
       "3.0531133177191805e-16"
      ]
     },
     "execution_count": 9,
     "metadata": {},
     "output_type": "execute_result"
    }
   ],
   "source": [
    "#Test\n",
    "F0 = Fd\n",
    "F1,pz1,p1 = givens(2,3,0,F0)\n",
    "F2,pz2,p2 = givens(1,2,0,F1)\n",
    "F3,pz3,p3 = givens(0,1,0,F2)\n",
    "F4,pz4,p4 = givens(2,3,1,F3)\n",
    "F5,pz5,p5 = givens(1,2,1,F4)\n",
    "F6,pz6,p6 = givens(2,3,2,F5)\n",
    "ph0 = -1j*np.log(F6[0,0])\n",
    "ph1 = -1j*np.log(F6[1,1])\n",
    "ph2 = -1j*np.log(F6[2,2])\n",
    "ph3 = -1j*np.log(F6[3,3])\n",
    "\n",
    "qc = slatter_circ(Fd)\n",
    "psi_tst = qi.Statevector.from_instruction(qc).data\n",
    "phase = np.exp(-1j*ph0/2)*np.exp(-1j*ph1/2)*np.exp(-1j*ph2/2)*np.exp(-1j*ph3/2)\n",
    "phase = phase*np.exp(1j*pz6/2)*np.exp(1j*pz5/2)*np.exp(1j*pz4/2)*np.exp(1j*pz3/2)*np.exp(1j*pz2/2)*np.exp(1j*pz1/2)\n",
    "psi1 = Mdot([ad(3,F),ad(2,F),psi0(4)])\n",
    "np.amax(np.abs( psi_tst - phase*psi1 ))"
   ]
  },
  {
   "cell_type": "markdown",
   "id": "505ed1b8",
   "metadata": {},
   "source": [
    "# Running the circuits\n",
    "\n",
    "We will start by defining the standard functions for altering circuits to measure specific Pauli matrics.  These are 'create_circ' and 'create_circs'.  \n",
    "\n",
    "The Pauli strings we will need to measure are defined in 'paulis'.  The reason we need these specific Pauli strings be discussed when I talk about analyzing the results.\n",
    "\n",
    "'circs' holds the circuits we will run."
   ]
  },
  {
   "cell_type": "code",
   "execution_count": 10,
   "id": "b1aed625",
   "metadata": {},
   "outputs": [],
   "source": [
    "import copy \n",
    "\n",
    "def create_circ(p_label):\n",
    "    qbits = [0,1,2,3]\n",
    "    qc = slatter_circ(Fd)\n",
    "    psi = copy.deepcopy(qc)\n",
    "    pauli_qs = []\n",
    "    Z_label = ''\n",
    "    Q = len(p_label)-1\n",
    "    for q,p in enumerate(p_label):\n",
    "        if p == 'X':\n",
    "            psi.ry(-np.pi/2,qbits[Q-q])\n",
    "            pauli_qs.append(1)\n",
    "            Z_label += 'Z'\n",
    "        if p == 'Y':\n",
    "            psi.rx(np.pi/2,qbits[Q-q])\n",
    "            pauli_qs.append(1)\n",
    "            Z_label += 'Z'\n",
    "        if p == 'Z':\n",
    "            pauli_qs.append(1)\n",
    "            Z_label += 'Z'\n",
    "        if p == 'I':\n",
    "            pauli_qs.append(0)\n",
    "            Z_label += 'I'\n",
    "    psi.measure(psi.qubits,psi.clbits)\n",
    "    return [psi,pauli_qs,p_label]\n",
    "\n",
    "def create_circs(paulis):\n",
    "    circs = []\n",
    "    for p_label in paulis:\n",
    "        circ, pauli_qs, labels = create_circ(p_label)\n",
    "        circs.append(circ)\n",
    "    return circs\n",
    "\n",
    "paulis = ['ZZZZ','XXII','YYII','XZXI','YZYI','XZZX','YZZY','IXXI','IYYI','IXZX','IYZY','IIXX','IIYY']\n",
    "\n",
    "circs = create_circs(paulis)\n"
   ]
  },
  {
   "cell_type": "markdown",
   "id": "e7169369",
   "metadata": {},
   "source": [
    "We are doing spin down on the quantum computer and spin up classically.  Therefore, we need weights for each spin up state.  Since the full state is simply $|\\psi_0>\\otimes|\\psi_0>$ we can pull these weights directely out of $|\\psi_0>$.  'alphas' holds these weights. "
   ]
  },
  {
   "cell_type": "code",
   "execution_count": 11,
   "id": "c36967f2",
   "metadata": {},
   "outputs": [],
   "source": [
    "def alphas(F):\n",
    "    N = len(F)\n",
    "    psi1 = Mdot([ad(3,F),ad(2,F),psi0(N)])\n",
    "    psi_new = -1j*psi1#/psi1[3]\n",
    "    norm = Mdot([np.conjugate(psi_new),psi_new])\n",
    "    return psi_new/np.sqrt(norm)"
   ]
  },
  {
   "cell_type": "code",
   "execution_count": 12,
   "id": "f1841707",
   "metadata": {},
   "outputs": [
    {
     "data": {
      "text/plain": [
       "array([0.-0.j        , 0.-0.j        , 0.-0.j        , 0.-0.j        ,\n",
       "       0.-0.j        , 0.+0.61237244j, 0.-0.20412415j, 0.-0.j        ,\n",
       "       0.-0.j        , 0.-0.61237244j, 0.+0.20412415j, 0.-0.j        ,\n",
       "       0.+0.40824829j, 0.-0.j        , 0.-0.j        , 0.-0.j        ])"
      ]
     },
     "execution_count": 12,
     "metadata": {},
     "output_type": "execute_result"
    }
   ],
   "source": [
    "alphas(F)"
   ]
  },
  {
   "cell_type": "markdown",
   "id": "e05a779b",
   "metadata": {},
   "source": [
    "Before we run the circuits we need to load an account and get a backend."
   ]
  },
  {
   "cell_type": "code",
   "execution_count": 13,
   "id": "a1a8e9b4",
   "metadata": {},
   "outputs": [],
   "source": [
    "from qiskit import IBMQ,transpile\n",
    "from qiskit.tools.monitor import job_monitor\n",
    "IBMQ.load_account()\n",
    "provider = IBMQ.get_provider(hub='ibm-q-afrl', group='air-force-lab', project='quantum-sim')\n",
    "#backend = provider.get_backend('ibmq_jakarta')\n",
    "backend = provider.get_backend('ibm_lagos')"
   ]
  },
  {
   "cell_type": "markdown",
   "id": "d0c77dfe",
   "metadata": {},
   "source": [
    "We need to choose a layout for the virtual qubits onto the physical qubits.  This should be done so that neighboring qubits are maintained.  "
   ]
  },
  {
   "cell_type": "code",
   "execution_count": 14,
   "id": "7db464ed",
   "metadata": {},
   "outputs": [
    {
     "data": {
      "image/png": "[encoded data removed]",
      "text/plain": [
       "<Figure size 864x648 with 5 Axes>"
      ]
     },
     "execution_count": 14,
     "metadata": {},
     "output_type": "execute_result"
    }
   ],
   "source": [
    "from qiskit.visualization import plot_gate_map, plot_error_map\n",
    "\n",
    "plot_error_map(backend)"
   ]
  },
  {
   "cell_type": "code",
   "execution_count": 15,
   "id": "4cd7ce7c",
   "metadata": {},
   "outputs": [],
   "source": [
    "layout = [0,1,3,5]"
   ]
  },
  {
   "cell_type": "markdown",
   "id": "c8af04d7",
   "metadata": {},
   "source": [
    "The 'get_results' function has three methods for finding the results.\n",
    "\n",
    "'matrix' $\\rightarrow$ exact solution using matrix multiplication\n",
    "\n",
    "'simulator' $\\rightarrow$ approximate solution using the qasm simulator\n",
    "\n",
    "'quantum' $\\rightarrow$ using the quantum backend we loaed above.\n",
    "\n",
    "The results are held in 'results'"
   ]
  },
  {
   "cell_type": "markdown",
   "id": "7fe2d176",
   "metadata": {},
   "source": [
    "## Run spin-down circuits"
   ]
  },
  {
   "cell_type": "code",
   "execution_count": 16,
   "id": "a1e8f201",
   "metadata": {},
   "outputs": [],
   "source": [
    "from qiskit import Aer\n",
    "import copy\n",
    "\n",
    "def get_results(circs_in, method = 'matrix',save_id_file = None):\n",
    "    circs = copy.deepcopy(circs_in)\n",
    "    #Exact Calculation\n",
    "    if method == 'matrix':\n",
    "        # add results\n",
    "        r = []\n",
    "        for l in range(len(circs)):\n",
    "            circs[l].remove_final_measurements()\n",
    "            wave = qi.Statevector.from_instruction(circs[l])\n",
    "            r_l = wave.probabilities_dict()\n",
    "            r.append(r_l)\n",
    "    #Qiskit Simulation        \n",
    "    if method == \"simulator\":\n",
    "        sim = Aer.get_backend(\"qasm_simulator\")\n",
    "        r = execute(circs, backend = sim).result().get_counts() \n",
    "    #Device\n",
    "    if method == \"quantum\":\n",
    "        job = backend.run(transpile(circs, backend,initial_layout = layout), meas_level=2, shots=8192)\n",
    "        job_id = job.job_id()\n",
    "        print(job_id)\n",
    "        np.save(save_id_file,[job_id])\n",
    "        r = job.result().get_counts()\n",
    "    return r\n",
    "\n",
    "results = get_results(circs)\n",
    "#results = get_results(circs, method = 'simulator')\n",
    "\n",
    "#save_id_file = \"/Users/stenger/Documents/Research/Hubbard_symmetries/Gutzwiller/Data/Job_id_tria4\"\n",
    "#results = get_results(circs, method = 'quantum',save_id_file = save_id_file)"
   ]
  },
  {
   "cell_type": "code",
   "execution_count": 17,
   "id": "4b43796c",
   "metadata": {},
   "outputs": [],
   "source": [
    "def normalize_results(results):\n",
    "    results_out = []\n",
    "    for result in results:\n",
    "        result_out = {}\n",
    "        states = list(result.keys())\n",
    "        total = 0\n",
    "        for state in states:\n",
    "            total += result[state]\n",
    "        for state in states:\n",
    "            result_out[state] = result[state]/total\n",
    "        results_out.append(result_out)\n",
    "    return results_out\n",
    "        \n",
    "results = normalize_results(results)"
   ]
  },
  {
   "cell_type": "markdown",
   "id": "ec679bce",
   "metadata": {},
   "source": [
    "We can remove the states with zero weight and project out states with the wrong particle number"
   ]
  },
  {
   "cell_type": "code",
   "execution_count": 18,
   "id": "55705563",
   "metadata": {},
   "outputs": [
    {
     "name": "stdout",
     "output_type": "stream",
     "text": [
      "['0101', '0110', '1001', '1010', '1100']\n"
     ]
    }
   ],
   "source": [
    "def relevent_states_chop(n,results):\n",
    "    states_0 = list(results[0].keys())\n",
    "    states = []\n",
    "    for state in states_0:\n",
    "        if results[0][state] > 10**(-2):\n",
    "            ns = 0\n",
    "            for i in range(len(state)):\n",
    "                ns += int(state[i])\n",
    "            if n == ns:\n",
    "                states.append(state)\n",
    "    return states\n",
    "\n",
    "print( relevent_states_chop(2,results) )\n",
    "#print( relevent_states_chop(2,loaded_results) )"
   ]
  },
  {
   "cell_type": "markdown",
   "id": "29b4a521",
   "metadata": {},
   "source": [
    "Now we run the unrotated circuit again for each relevent state $s$ in order to find $\\alpha_s$.  The absolute value of $\\alpha_s$ can be taken from the result we already have.  In order to find the phase of $\\alpha_s$ we pick a reference state and then intefere each of the other states with the reference.  \n",
    "\n",
    "If we use $|0011>$ as a reference state and we want to find the reletive phase of $|0101>$ then we can apply $(I + iX_1X_2)$\n",
    "\n",
    "$$ (I + iX_1X_2)(\\alpha_1|0011> + \\alpha_2|0101>) = (\\alpha_1 + i \\alpha_2)|0011>  (\\alpha_1 + i \\alpha_2)|0101> $$\n",
    "\n",
    "Taking the counts in |0011> gives\n",
    "$$ |(\\alpha_1 + i \\alpha_2)|^2 = \\alpha_1^2 + \\alpha_1^2 + i \\alpha_1\\alpha_2^* - i \\alpha_1^* \\alpha_2  $$\n",
    "\n",
    "If we write $\\alpha_s = |\\alpha_s|e^{i\\phi_s}$ then we have\n",
    "$$ |(\\alpha_1 + i \\alpha_2)|^2 - \\alpha_1^2 - \\alpha_1^2 = 2 |\\alpha_1||\\alpha_2|\\sin(\\phi_1-\\phi_2) $$\n",
    "and we can find the reletive phase by \n",
    "$$ \\phi_1-\\phi_2 = \\sin^{-1}( \\frac{|(\\alpha_1 + i \\alpha_2)|^2 - \\alpha_1^2 - \\alpha_1^2}{2i |\\alpha_1||\\alpha_2|} )$$\n",
    "\n",
    "The only problem is that the arcsin function is not uniquely defined and so we want to do something similar except with an acrcoss.  To this end we apply $(I + iY_1X_2)$ as well.\n"
   ]
  },
  {
   "cell_type": "markdown",
   "id": "4fbdc04e",
   "metadata": {},
   "source": [
    "## Run spin-up alpha circuits"
   ]
  },
  {
   "cell_type": "code",
   "execution_count": 19,
   "id": "a8ef5220",
   "metadata": {},
   "outputs": [],
   "source": [
    "def create_circ_nomeas(p_label):\n",
    "    qbits = [0,1,2,3]\n",
    "    qc = slatter_circ(Fd)\n",
    "    psi = copy.deepcopy(qc)\n",
    "    pauli_qs = []\n",
    "    Z_label = ''\n",
    "    Q = len(p_label)-1\n",
    "    for q,p in enumerate(p_label):\n",
    "        if p == 'X':\n",
    "            psi.ry(-np.pi/2,qbits[Q-q])\n",
    "            pauli_qs.append(1)\n",
    "            Z_label += 'Z'\n",
    "        if p == 'Y':\n",
    "            psi.rx(np.pi/2,qbits[Q-q])\n",
    "            pauli_qs.append(1)\n",
    "            Z_label += 'Z'\n",
    "        if p == 'Z':\n",
    "            pauli_qs.append(1)\n",
    "            Z_label += 'Z'\n",
    "        if p == 'I':\n",
    "            pauli_qs.append(0)\n",
    "            Z_label += 'I'\n",
    "    return [psi,pauli_qs,p_label]\n",
    "\n",
    "def r_xchain(circ_in,phi,xchain):\n",
    "    N = len(xchain)\n",
    "    circ = copy.deepcopy(circ_in)\n",
    "    jl = []\n",
    "    for i,P in enumerate(xchain):\n",
    "        if P == 'X':\n",
    "            jl.append(i)\n",
    "    Nx = len(jl)\n",
    "    jl = [N - 1 - jl[j] for j in range(Nx) ]\n",
    "    for j in range(Nx-1):\n",
    "        circ.cx(jl[Nx-2-j],jl[Nx-1-j])\n",
    "    circ.rx(phi,jl[0])\n",
    "    for j in range(Nx-1):\n",
    "        circ.cx(jl[j],jl[j+1])\n",
    "    return circ\n",
    "\n",
    "def find_xchain(ref,state):\n",
    "    op = \"\"\n",
    "    for i in range(len(ref)):\n",
    "        if ref[i] != state[i]:\n",
    "            op = op + 'X'\n",
    "        else:\n",
    "            op = op + 'I'\n",
    "    return op\n",
    "\n",
    "def find_i0(xchain):\n",
    "    N = len(xchain)\n",
    "    for i,l in enumerate(xchain):\n",
    "        if l == 'X':\n",
    "            return N-1-i\n",
    "\n",
    "def alpha_circ(circ,ref,state):\n",
    "    xchain = find_xchain(ref,state)\n",
    "    circx = r_xchain(circ,-np.pi/2,xchain) \n",
    "    circy = copy.deepcopy(circ)\n",
    "    i0 = find_i0(xchain)\n",
    "    #print(ref,state,xchain,i0)\n",
    "    circy.rz(-np.pi/2,i0)\n",
    "    circy = r_xchain(circy,-np.pi/2,xchain)  \n",
    "    circy.rz(np.pi/2,i0)\n",
    "    circx.measure(circx.qubits,circx.clbits)\n",
    "    circy.measure(circy.qubits,circy.clbits)\n",
    "    return [circx,circy]\n",
    "\n",
    "def alpha_circs(circ,results):\n",
    "    states = relevent_states_chop(2,results)\n",
    "    ref = states[0]\n",
    "    circ_out = []\n",
    "    for s in range(1,len(states)):\n",
    "        state = states[s]\n",
    "        circxy = alpha_circ(circ,ref,state) \n",
    "        circ_out.append(circxy[0])\n",
    "        circ_out.append(circxy[1])\n",
    "    return circ_out\n",
    "\n",
    "\n",
    "circs = create_circ_nomeas(['ZZZZ'])\n",
    "acircs = alpha_circs(circs[0],results) \n",
    "alpha_results = get_results(acircs)\n",
    "#alpha_results = get_results(acircs, method = 'simulator')\n",
    "\n",
    "#save_id_file = \"/Users/stenger/Documents/Research/Hubbard_symmetries/Gutzwiller/Data/Job_id_triag4_alphas\"\n",
    "#alpha_results = get_results(acircs, method = 'quantum',save_id_file = save_id_file)"
   ]
  },
  {
   "cell_type": "markdown",
   "id": "8d2d5d9f",
   "metadata": {},
   "source": [
    "# Analyzing the results\n",
    "\n",
    "## Analyze alpha"
   ]
  },
  {
   "cell_type": "code",
   "execution_count": 20,
   "id": "8855c131",
   "metadata": {},
   "outputs": [],
   "source": [
    "def analyze_alphas(results,alpha_results):\n",
    "    ref = relevent_states_chop(2,results)[0]\n",
    "    alphas = [np.sqrt(results[0][ref])]\n",
    "    for i in range(0,len(relevent_states_chop(2,results))-1):\n",
    "        ref = relevent_states_chop(2,results)[0]\n",
    "        state = relevent_states_chop(2,results)[i+1]\n",
    "        a = results[0][ref]\n",
    "        b = results[0][state]\n",
    "        r2 = alpha_results[2*i]\n",
    "        if ref in r2:\n",
    "            phi_s = np.arcsin( np.clip( (2*r2[ref] - a - b)/np.sqrt(4*a*b), -1,1) )\n",
    "        else:\n",
    "            phi_s = np.arcsin( np.clip( (2*0 - a - b)/np.sqrt(4*a*b), -1,1) )\n",
    "        r2 = alpha_results[2*i+1]\n",
    "        if ref in r2:\n",
    "            phi_c = np.arccos( np.clip( (2*r2[ref] - a - b)/np.sqrt(4*a*b), -1,1) )\n",
    "        else:\n",
    "            phi_c = np.arccos( np.clip( (2*0 - a - b)/np.sqrt(4*a*b), -1,1) )\n",
    "        #print(state,phi_s,phi_c)\n",
    "        alpha = (np.cos(phi_c) + 1j*np.sin(phi_s))*np.sqrt(b)/np.sqrt( (np.cos(phi_c)**2 + np.sin(phi_s)**2) )\n",
    "        alphas.append(alpha)\n",
    "    return alphas\n",
    "\n"
   ]
  },
  {
   "cell_type": "code",
   "execution_count": 21,
   "id": "1c606a16",
   "metadata": {},
   "outputs": [
    {
     "data": {
      "text/plain": [
       "[0.6123724356957948,\n",
       " (-0.20412414523193143-2.2662332591841964e-16j),\n",
       " (-0.6123724356957941+0j),\n",
       " (0.2041241452319312-1.5863632814289373e-16j),\n",
       " (0.40824829046386335-1.586363281428939e-16j)]"
      ]
     },
     "execution_count": 21,
     "metadata": {},
     "output_type": "execute_result"
    }
   ],
   "source": [
    "analyze_alphas(results,alpha_results)"
   ]
  },
  {
   "cell_type": "code",
   "execution_count": 22,
   "id": "5cbbdfaf",
   "metadata": {},
   "outputs": [
    {
     "data": {
      "text/plain": [
       "array([0.-0.j        , 0.-0.j        , 0.-0.j        , 0.-0.j        ,\n",
       "       0.-0.j        , 0.+0.61237244j, 0.-0.20412415j, 0.-0.j        ,\n",
       "       0.-0.j        , 0.-0.61237244j, 0.+0.20412415j, 0.-0.j        ,\n",
       "       0.+0.40824829j, 0.-0.j        , 0.-0.j        , 0.-0.j        ])"
      ]
     },
     "execution_count": 22,
     "metadata": {},
     "output_type": "execute_result"
    }
   ],
   "source": [
    "alphas(F)"
   ]
  },
  {
   "cell_type": "markdown",
   "id": "1d7f89ad",
   "metadata": {},
   "source": [
    "## Analyze energy\n",
    "\n",
    "We want to calculate \n",
    "$$E(g) = \\frac{<\\psi_0|\\hat{G}\\hat{H}\\hat{G}|\\psi_0>}{ <\\psi_0|\\hat{G}\\hat{G}|\\psi_0>  }$$\n",
    "where $|\\psi_0>$ is the slatter state which we have measured.  \n",
    "\n",
    "In order to use the measurements we have taken to calculate $E(g)$ we will need to reference the spin up states and their weights.  The following three functions 'bi', 'up_states', and 'up_states_dic' help to reference the spin up states."
   ]
  },
  {
   "cell_type": "code",
   "execution_count": 23,
   "id": "55313b36",
   "metadata": {},
   "outputs": [],
   "source": [
    "def bi(num,N):\n",
    "    bi = bin(num)\n",
    "    out = \"\"\n",
    "    for i in range(2,len(bi)):\n",
    "        out = out + bi[i]\n",
    "    L = len(out)\n",
    "    for i in range(L,N):\n",
    "        out = \"0\"+out\n",
    "    return out\n",
    "\n",
    "def up_states(N):\n",
    "    out = []\n",
    "    a = alphas(N)\n",
    "    for i in range(2**N):\n",
    "        out.append([bi(i,N),a[i]])\n",
    "    return out\n",
    "\n",
    "def up_states_dic(N):\n",
    "    out = {}\n",
    "    a = alphas(N)\n",
    "    for i in range(2**N):\n",
    "        out[bi(i,N)] = a[i]\n",
    "    return out\n",
    "\n",
    "################################# NEW ##############################\n",
    "def up_states_new(results,alpha_results):\n",
    "    out = []\n",
    "    a = analyze_alphas(results,alpha_results)\n",
    "    states = relevent_states_chop(2,results)\n",
    "    for i in range(len(a)):\n",
    "        out.append([states[i],a[i]])\n",
    "    return out\n",
    "\n",
    "def up_states_dic_new(results,alpha_results):\n",
    "    out = {}\n",
    "    a = analyze_alphas(results,alpha_results)\n",
    "    states = relevent_states_chop(2,results)\n",
    "    for i in range(len(a)):\n",
    "        out[states[i]] = a[i]\n",
    "    return out\n",
    "\n",
    "\n"
   ]
  },
  {
   "cell_type": "markdown",
   "id": "3231120a",
   "metadata": {},
   "source": [
    "Now we are ready to discuss how to analyze the results.  We need four brakets to calculate $E(g)$,\n",
    "$$ <\\psi_0|\\hat{G}\\hat{G}|\\psi_0>, \\quad <\\psi_0|\\hat{G}\\hat{D}\\hat{{G}}|\\psi_0>, \\quad <\\psi_0|\\hat{G}\\hat{M}\\hat{{G}}|\\psi_0>, \\quad <\\psi_0|\\hat{G}\\hat{K}\\hat{{G}}|\\psi_0>. $$\n",
    "\n",
    "The first three only require the measurement labeled 'ZZZZ' in 'paulis'.  In order to get these two brakets we simple need to check if the spin-up state and spin-down state have are both on for each index, result state, and spin-up state.  Let us refere to this value as $m_{irk}$ which is 1 if the spin-up state $k$ and the result state $r$ are both on at index $i$ and 0 otherwise.  \n",
    "\n",
    "The normalization braket is\n",
    "$$ <\\psi_0|\\hat{G}\\hat{G}|\\psi_0> = \\sum_k |\\alpha_k|^2\\sum_r w_r \\prod_i e^{-2m_{irk}g} $$\n",
    "\n",
    "The second bracket is \n",
    "$$ <\\psi_0|\\hat{G}\\hat{D}\\hat{G}|\\psi_0> = \\sum_k |\\alpha_k|^2\\sum_r w_r \\sum_p m_{prk}\\prod_i e^{-2m_{irk}g} $$\n",
    "\n",
    "The third bracket is\n",
    "The second bracket is \n",
    "$$ <\\psi_0|\\hat{G}\\hat{M}\\hat{G}|\\psi_0> = \\sum_k |\\alpha_k|^2\\sum_r w_r N_{r}\\prod_i e^{-2m_{irk}g} $$\n",
    "\n",
    "The functions 'analyze_GG' and 'analyze_GDG' represent these two brakets."
   ]
  },
  {
   "cell_type": "markdown",
   "id": "56f54fda",
   "metadata": {},
   "source": [
    "where $w_r$ is the results for state $r$ and $\\alpha_k$ is the weight of state $k$.\n",
    "\n",
    "The third bracket requires all of the results.  The braket can be inferd from the result\n",
    "$$ \\hat{G}\\hat{K}\\hat{G} = \\sum_{i=0}^{N-1}\\sum_{\\sigma}\\prod_{j \\neq i,i+1}e^{-2g n_{j\\uparrow}n_{j\\downarrow}} e^{-g n_{i\\sigma+1}}e^{-g n_{i+1\\sigma+1}}  \\frac{k}{2}\\left(X_{i\\sigma}X_{i+1\\sigma}+Y_{i+1\\sigma}Y_{i\\sigma}\\right) $$"
   ]
  },
  {
   "cell_type": "markdown",
   "id": "fd19ef2c",
   "metadata": {},
   "source": [
    "and the exact form of the braket is define below.  First we take the braket of each pauli term.  The spin-up Paulis need to be treaed seperately from the spin-down Paulis*.  Also the boundary term Paulis are treated seperetely from the bulk terms.  Finally, the function 'analyze_GKG' sums it all together. "
   ]
  },
  {
   "cell_type": "code",
   "execution_count": 24,
   "id": "0db39e48",
   "metadata": {},
   "outputs": [],
   "source": [
    "\n",
    "\n",
    "def analyze_GG(g,N,result,alpha_results):\n",
    "    psi_up = up_states_new(results,alpha_results)\n",
    "    r_keys = list(result.keys())\n",
    "    gg = 0\n",
    "    for k in range(len(psi_up)):\n",
    "        s = psi_up[k][0]\n",
    "        a = psi_up[k][1]\n",
    "        for sr in r_keys:\n",
    "            w = result[sr]\n",
    "            gg_sr = 1\n",
    "            for i in range(N):\n",
    "                nu = int(s[i])\n",
    "                nd = int(sr[i])\n",
    "                gg_sr = gg_sr*np.exp(-2*g*nu*nd)\n",
    "            gg = gg + np.conjugate(a)*a*w*gg_sr\n",
    "    return gg\n",
    "\n",
    "\n",
    "def analyze_GDG(g,d,N,result,alpha_results):\n",
    "    psi_up = up_states_new(results,alpha_results)\n",
    "    r_keys = list(result.keys())\n",
    "    gg = 0\n",
    "    for p in range(N):\n",
    "        for k in range(len(psi_up)):\n",
    "            s = psi_up[k][0]\n",
    "            a = psi_up[k][1]\n",
    "            for sr in r_keys:\n",
    "                w = result[sr]\n",
    "                gg_sr = 1\n",
    "                for i in range(N):\n",
    "                    nu = int(s[i])\n",
    "                    nd = int(sr[i])\n",
    "                    gg_sr = gg_sr*np.exp(-2*g*nu*nd)\n",
    "                nu_p = int(s[p])\n",
    "                nd_p = int(sr[p])\n",
    "                gg_sr = d*gg_sr*nu_p*nd_p\n",
    "                gg = gg + np.conjugate(a)*a*w*gg_sr\n",
    "    return gg\n",
    "\n",
    "   \n",
    "\n",
    "def analyze_GMG(g,u,N,result,alpha_results):\n",
    "    psi_up = up_states_new(results,alpha_results)\n",
    "    r_keys = list(result.keys())\n",
    "    gg = 0\n",
    "    for p in range(N):\n",
    "        for k in range(len(psi_up)):\n",
    "            s = psi_up[k][0]\n",
    "            a = psi_up[k][1]\n",
    "            for sr in r_keys:\n",
    "                w = result[sr]\n",
    "                gg_sr = 1\n",
    "                for i in range(N):\n",
    "                    nu = int(s[i])\n",
    "                    nd = int(sr[i])\n",
    "                    gg_sr = gg_sr*np.exp(-2*g*nu*nd)\n",
    "                nu_p = int(s[p])\n",
    "                nd_p = int(sr[p])\n",
    "                gg_sr = u*gg_sr*nd_p + u*gg_sr*nu_p  # changed nu_p to nd_p on the first term.  Did not seem to make a difference for the exect data but does for the quantum data.\n",
    "                gg = gg + np.conjugate(a)*a*w*gg_sr\n",
    "    return gg\n",
    "\n",
    "\n",
    "\n"
   ]
  },
  {
   "cell_type": "code",
   "execution_count": 25,
   "id": "4b750a1b",
   "metadata": {},
   "outputs": [],
   "source": [
    "def analyze_pd(g,pauli,results,alpha_results):\n",
    "    N = len(pauli)\n",
    "    idx = paulis.index(pauli)\n",
    "    result = results[idx]\n",
    "    psi_up = up_states_dic_new(results,alpha_results)\n",
    "    up_keys = list(psi_up.keys())\n",
    "    r_keys = list(result.keys())\n",
    "    gg = 0\n",
    "    for su in up_keys:\n",
    "        a = psi_up[su]\n",
    "        for sr in r_keys:\n",
    "            w = result[sr]\n",
    "            gg_sr = 1\n",
    "            for j in range(N):\n",
    "                nu = int(su[j])\n",
    "                nd = int(sr[j])\n",
    "                if pauli[j] == 'Y' or pauli[j] == 'X':\n",
    "                    z0 = (-1)**int(sr[j])\n",
    "                    gg_sr = gg_sr*z0\n",
    "                    gg_sr = gg_sr*np.exp(-g*nu)\n",
    "                elif pauli[j] == 'Z':\n",
    "                    gg_sr = (-1)**nd*gg_sr*np.exp(-2*g*nu*nd)\n",
    "                elif pauli[j] == 'I':\n",
    "                    gg_sr = gg_sr*np.exp(-2*g*nu*nd)\n",
    "            gg = gg + np.conjugate(a)*a*w*gg_sr\n",
    "    return gg \n",
    "\n",
    "def analyze_pu(g,pauli,result,alpha_results):\n",
    "    N=len(pauli)\n",
    "    idxs = [i for i in range(4) if pauli[i] == 'X' or pauli[i] == 'Y']\n",
    "    psi_up = up_states_dic_new(results,alpha_results)\n",
    "    up_keys = list(psi_up.keys())\n",
    "    r_keys = list(result.keys())\n",
    "    gg = 0\n",
    "    for su in up_keys:\n",
    "        sup = list(su)\n",
    "        sup[idxs[0]] = str(np.mod(int(sup[idxs[0]])+1,2) )\n",
    "        sup[idxs[1]] = str(np.mod(int(sup[idxs[1]])+1,2) )\n",
    "        sup = ''.join(sup)\n",
    "        a = psi_up[su]\n",
    "        if sup in psi_up:\n",
    "            aa = psi_up[sup]\n",
    "        else:\n",
    "            aa = 0\n",
    "        for sr in r_keys:\n",
    "            w = result[sr]\n",
    "            gg_sr = 1\n",
    "            for j in range(N):\n",
    "                nu = int(su[j])\n",
    "                nd = int(sr[j])\n",
    "                if pauli[j] == 'X':\n",
    "                    gg_sr = gg_sr*np.exp(-g*nd)\n",
    "                if pauli[j] == 'Y':\n",
    "                    gg_sr = 1j*(-1)**int(su[j])*gg_sr*np.exp(-g*nd)\n",
    "                elif pauli[j] == 'Z':\n",
    "                    gg_sr = (-1)**nu*gg_sr*np.exp(-2*g*nu*nd)\n",
    "                elif pauli[j] == 'I':\n",
    "                    gg_sr = gg_sr*np.exp(-2*g*nu*nd)\n",
    "            gg = gg + np.conjugate(aa)*a*w*gg_sr\n",
    "    return gg\n",
    "\n",
    "def analyze_GKG(g,k,N,results,alpha_results):\n",
    "    out = 0\n",
    "    for p in range(1,len(paulis)):\n",
    "        out += k/2*analyze_pu(g,paulis[p],results[0],alpha_results)\n",
    "        out += k/2*analyze_pd(g,paulis[p],results,alpha_results)\n",
    "    return out"
   ]
  },
  {
   "cell_type": "code",
   "execution_count": 26,
   "id": "4ff62a08",
   "metadata": {},
   "outputs": [
    {
     "name": "stdout",
     "output_type": "stream",
     "text": [
      "(-2.42861286636753e-17-2.8888949165808555e-34j)\n",
      "(-1.3877787807814457e-17+0j)\n",
      "(3.3306690738754696e-16+1.1931136005478927e-32j)\n",
      "(5.551115123125783e-17+0j)\n",
      "(-1.249000902703301e-16+0j)\n",
      "(-1.3322676295501878e-15+0j)\n"
     ]
    }
   ],
   "source": [
    "print( analyze_pu(1.2,'YZYI',results[0],alpha_results) - Mdot([np.conjugate(psi_spin),G(1.2,4),Y(1,8),Z(2,8),Y(3,8),G(1.2,4),psi_spin]) )\n",
    "print( analyze_pd(1.2,'IXZX',results,alpha_results) - Mdot([np.conjugate(psi_spin),G(1.2,4),X(4,8),Z(5,8),X(6,8),G(1.2,4),psi_spin]) )\n",
    "\n",
    "print( analyze_GKG(1.3,2.1,4,results,alpha_results) - Mdot([np.conjugate(psi_spin),G(1.3,4),K(2.1),G(1.3,4),psi_spin]) )\n",
    "print( analyze_GDG(1.3,2.1,4,results[0],alpha_results) -  Mdot([np.conjugate(psi_spin),G(1.3,4),D(2.1,4),G(1.3,4),psi_spin]) )\n",
    "print( analyze_GG(1.3,4,results[0],alpha_results) - Mdot([np.conjugate(psi_spin),G(1.3,4),G(1.3,4),psi_spin]) )\n",
    "\n",
    "print( analyze_GMG(1.3,2.1,4,results[0],alpha_results) -  Mdot([np.conjugate(psi_spin),G(1.3,4),M(2.1,4),G(1.3,4),psi_spin]) )\n"
   ]
  },
  {
   "cell_type": "code",
   "execution_count": 27,
   "id": "25159c9e",
   "metadata": {},
   "outputs": [],
   "source": [
    "def analyze_energy(g,u,k,d,N,results,alpha_results):\n",
    "    num = analyze_GMG(g,u,N,results[0],alpha_results) +analyze_GDG(g,d,N,results[0],alpha_results) + analyze_GKG(g,k,N,results,alpha_results)\n",
    "    dom = analyze_GG(g,N,results[0],alpha_results)\n",
    "    return num/dom\n",
    "\n"
   ]
  },
  {
   "cell_type": "code",
   "execution_count": 28,
   "id": "6db0935c",
   "metadata": {},
   "outputs": [
    {
     "data": {
      "text/plain": [
       "(3.552713678800501e-15-1.5407439555098e-33j)"
      ]
     },
     "execution_count": 28,
     "metadata": {},
     "output_type": "execute_result"
    }
   ],
   "source": [
    "u = -2\n",
    "k = 1\n",
    "d = 1.5\n",
    "N=4\n",
    "H = M(u,4) + K(k) + D(d,4)\n",
    "bkt(psi_spin,H,psi_spin) - analyze_energy(0,u,k,d,N,results,alpha_results)"
   ]
  },
  {
   "cell_type": "markdown",
   "id": "40474667",
   "metadata": {},
   "source": [
    "# Running Scans\n",
    "\n",
    "With everything in order we can now run scans of $E(g)$."
   ]
  },
  {
   "cell_type": "code",
   "execution_count": 177,
   "id": "0a457a39",
   "metadata": {},
   "outputs": [],
   "source": [
    "u = 1\n",
    "k = 1\n",
    "d = 0\n",
    "N=4\n",
    "H = M(u,4) + K(k) + D(d,4)\n",
    "e,y = np.linalg.eig(H)\n",
    "y = np.transpose(y)\n",
    "arg = np.argsort(e)\n",
    "\n",
    "\n",
    "eg = []\n",
    "gl = []\n",
    "eT = []\n",
    "for gi in range(-10,10):\n",
    "    g = gi\n",
    "    egl = analyze_energy(g,u,k,d,N,results,alpha_results)\n",
    "    eg.append(egl)\n",
    "    gl.append(g)\n",
    "    eT.append(e[arg[[0]]])"
   ]
  },
  {
   "cell_type": "code",
   "execution_count": 178,
   "id": "4a5951f1",
   "metadata": {},
   "outputs": [
    {
     "data": {
      "text/plain": [
       "[<matplotlib.lines.Line2D at 0x7fc1e4177b50>]"
      ]
     },
     "execution_count": 178,
     "metadata": {},
     "output_type": "execute_result"
    },
    {
     "data": {
      "image/png": "[encoded data removed]",
      "text/plain": [
       "<Figure size 432x288 with 1 Axes>"
      ]
     },
     "metadata": {
      "needs_background": "light"
     },
     "output_type": "display_data"
    }
   ],
   "source": [
    "import matplotlib.pyplot as plt\n",
    "\n",
    "plt.plot(gl,eg)\n",
    "#plt.plot(gl,eg_h)\n",
    "plt.plot(gl,eT)"
   ]
  },
  {
   "cell_type": "markdown",
   "id": "36f14792",
   "metadata": {},
   "source": [
    "# Save Results"
   ]
  },
  {
   "cell_type": "code",
   "execution_count": 47,
   "id": "f836fe12",
   "metadata": {},
   "outputs": [],
   "source": [
    "#import pickle\n",
    "#fpath = \"/Users/stenger/Documents/Research/Hubbard_symmetries/Gutzwiller/Data/\"\n",
    "\n",
    "#file_to_store = open(fpath + \"Gutz4_lagos_triag.pickle\", \"wb\")\n",
    "\n",
    "#pickle.dump(results, file_to_store)"
   ]
  },
  {
   "cell_type": "code",
   "execution_count": 143,
   "id": "598388b6",
   "metadata": {},
   "outputs": [],
   "source": [
    "#alphas\n",
    "#import pickle\n",
    "#fpath = \"/Users/stenger/Documents/Research/Hubbard_symmetries/Gutzwiller/Data/\"\n",
    "\n",
    "#file_to_store = open(fpath + \"Gutz4_lagos_alphas2_triag.pickle\", \"wb\")\n",
    "\n",
    "#pickle.dump(alpha_results, file_to_store)"
   ]
  },
  {
   "cell_type": "markdown",
   "id": "59619088",
   "metadata": {},
   "source": [
    "# Load Data"
   ]
  },
  {
   "cell_type": "code",
   "execution_count": 29,
   "id": "6966e5f6",
   "metadata": {},
   "outputs": [],
   "source": [
    "import pickle\n",
    "fpath = \"/Users/stenger/Documents/Research/Hubbard_symmetries/Gutzwiller/Data/\"\n",
    "\n",
    "file_to_read = open(fpath + \"Gutz4_lagos_triag.pickle\", \"rb\")\n",
    "\n",
    "loaded_results = pickle.load(file_to_read)"
   ]
  },
  {
   "cell_type": "code",
   "execution_count": 30,
   "id": "591b85d6",
   "metadata": {},
   "outputs": [],
   "source": [
    "import pickle\n",
    "fpath = \"/Users/stenger/Documents/Research/Hubbard_symmetries/Gutzwiller/Data/\"\n",
    "\n",
    "file_to_read = open(fpath + \"Gutz4_lagos_alphas2_triag.pickle\", \"rb\")\n",
    "\n",
    "loaded_alpha_results = pickle.load(file_to_read)"
   ]
  },
  {
   "cell_type": "code",
   "execution_count": 31,
   "id": "27f550a6",
   "metadata": {},
   "outputs": [],
   "source": [
    "loaded_results = normalize_results(loaded_results)"
   ]
  },
  {
   "cell_type": "code",
   "execution_count": 32,
   "id": "5721ced2",
   "metadata": {},
   "outputs": [],
   "source": [
    "def psi_d(w,u,k,d,N):\n",
    "    H = M(u,4) + K(k) + D(d,4)\n",
    "    norm = np.sqrt( Mdot([np.conjugate(psi_spin),ln.expm(-H*w),ln.expm(-H*w),psi_spin]) )\n",
    "    return Mdot([ln.expm(-H*w),psi_spin])/norm"
   ]
  },
  {
   "cell_type": "markdown",
   "id": "a65ec718",
   "metadata": {},
   "source": [
    "## Small Plot"
   ]
  },
  {
   "cell_type": "code",
   "execution_count": 42,
   "id": "645a0ab5",
   "metadata": {},
   "outputs": [
    {
     "name": "stdout",
     "output_type": "stream",
     "text": [
      "(2.9737449042635364e-15+5.595332073399434e-17j)\n"
     ]
    }
   ],
   "source": [
    "k = 1\n",
    "d = 0\n",
    "u = 1-2*d/3\n",
    "N=4\n",
    "w=5\n",
    "H = M(u,4) + K(k) + D(d,4)\n",
    "e,y = np.linalg.eig(H)\n",
    "y = np.transpose(y)\n",
    "arg = np.argsort(e)\n",
    "e4 = bkt( psi_d(w,u,k,d,N), H, psi_d(w,u,k,d,N) )\n",
    "print(e4-e[arg[0]])\n",
    "\n",
    "\n",
    "\n",
    "eg = []\n",
    "egh = []\n",
    "egm = []\n",
    "gl = []\n",
    "eT = []\n",
    "for gi in range(-100,101):\n",
    "    g = 0.05*gi\n",
    "    egl = analyze_energy(g,u,k,d,N,loaded_results,loaded_alpha_results)\n",
    "    eghl = analyze_energy(g,u,k,d,N,loaded_results,alpha_results)\n",
    "    eglm = analyze_energy(g,u,k,d,N,results,alpha_results)\n",
    "    eg.append(egl)\n",
    "    egh.append(eghl)\n",
    "    egm.append(eglm)\n",
    "    gl.append(g)\n",
    "    eT.append(e[arg[0]])"
   ]
  },
  {
   "cell_type": "code",
   "execution_count": 43,
   "id": "6983e18e",
   "metadata": {},
   "outputs": [
    {
     "data": {
      "text/plain": [
       "[<matplotlib.lines.Line2D at 0x7fdfd234cee0>]"
      ]
     },
     "execution_count": 43,
     "metadata": {},
     "output_type": "execute_result"
    },
    {
     "data": {
      "image/png": "[encoded data removed]",
      "text/plain": [
       "<Figure size 432x288 with 1 Axes>"
      ]
     },
     "metadata": {
      "needs_background": "light"
     },
     "output_type": "display_data"
    }
   ],
   "source": [
    "import matplotlib.pyplot as plt\n",
    "\n",
    "plt.plot(gl,egm)\n",
    "plt.plot(gl,eg)\n",
    "plt.plot(gl,egh)\n",
    "plt.plot(gl,eT)\n",
    "#plt.ylim(-45,-35)"
   ]
  },
  {
   "cell_type": "code",
   "execution_count": 36,
   "id": "a291371b",
   "metadata": {},
   "outputs": [
    {
     "data": {
      "text/plain": [
       "[<matplotlib.lines.Line2D at 0x7fdfd7f07ca0>]"
      ]
     },
     "execution_count": 36,
     "metadata": {},
     "output_type": "execute_result"
    },
    {
     "data": {
      "image/png": "[encoded data removed]",
      "text/plain": [
       "<Figure size 432x288 with 1 Axes>"
      ]
     },
     "metadata": {
      "needs_background": "light"
     },
     "output_type": "display_data"
    }
   ],
   "source": [
    "import matplotlib.pyplot as plt\n",
    "\n",
    "plt.plot(gl,egm)\n",
    "plt.plot(gl,eg)\n",
    "plt.plot(gl,egh)\n",
    "plt.plot(gl,eT)\n",
    "#plt.ylim(-45,-35)"
   ]
  },
  {
   "cell_type": "markdown",
   "id": "df3e4b53",
   "metadata": {},
   "source": [
    "## Big Plot"
   ]
  },
  {
   "cell_type": "code",
   "execution_count": 47,
   "id": "bf98c906",
   "metadata": {
    "scrolled": true
   },
   "outputs": [
    {
     "name": "stdout",
     "output_type": "stream",
     "text": [
      "0 (3.8596183945354445+2.197393529908462e-17j) (0.8464160438147618+4.686699183228208e-32j) (3.108624468950439e-15+1.5407439555098e-33j) [-2.93847219e-15-5.59533207e-17j]\n",
      "1 (3.621947516757532+2.197393529908462e-17j) (0.6934854437982712+4.686699183228208e-32j) (-0.1416666666666653+1.5407439555098e-33j) [-0.2+0.j]\n",
      "2 (3.384276638979617+2.197393529908462e-17j) (0.5393960320882518-1.2796264571681718e-32j) (-0.2833333333333297+1.5407439555098e-33j) [-0.4+0.j]\n",
      "3 (3.1466057612017027+2.197393529908462e-17j) (0.3812347317038118-1.2796264571681718e-32j) (-0.42902165730474984-7.176019531935443e-32j) [-0.6-4.28165005e-17j]\n",
      "4 (2.9089348834237874+2.197393529908462e-17j) (0.22307343131936816-1.2796264571681718e-32j) (-0.5769338975492018-7.176019531935443e-32j) [-0.8+2.2212619e-16j]\n",
      "5 (2.671264005645875+2.197393529908462e-17j) (0.06491213093492457-1.2796264571681718e-32j) (-0.724846137793653-7.176019531935443e-32j) [-1.-1.47540287e-18j]\n",
      "6 (2.4335931278679626+2.197393529908462e-17j) (-0.09478385457199735-9.00969565677775e-32j) (-0.8727583780381077-7.176019531935443e-32j) [-1.2+1.68850051e-16j]\n",
      "7 (2.195922250090046+2.197393529908462e-17j) (-0.25813443795340807-9.00969565677775e-32j) (-1.021478449922025-9.910466983993725e-33j) [-1.4+0.j]\n",
      "8 (1.958251372312135+2.197393529908462e-17j) (-0.4214850213348183-9.00969565677775e-32j) (-1.1756158280883575-9.910466983993725e-33j) [-1.6-1.7892634e-16j]\n",
      "9 (1.7205804945342202+2.197393529908462e-17j) (-0.5848356047162303-9.00969565677775e-32j) (-1.3297532062546915-9.910466983993725e-33j) [-1.8+0.j]\n",
      "10 (1.4829096167563067+2.197393529908462e-17j) (-0.7516094787478652-1.5205569301825619e-31j) (-1.4838905844210244-9.910466983993725e-33j) [-2.00751428+4.9960059e-16j]\n",
      "11 (1.245238738978392+2.197393529908462e-17j) (-0.9200988731545163-1.5205569301825619e-31j) (-1.6380279625873575-9.910466983993725e-33j) [-2.21709956+0.j]\n",
      "12 (1.0075678612004788+2.197393529908462e-17j) (-1.0885882675611651-1.5205569301825619e-31j) (-1.7982012785150385-4.3172738535370094e-32j) [-2.42808963+1.32496894e-24j]\n",
      "13 (0.7698969834225651+2.197393529908462e-17j) (-1.2589976551788842-5.7792525628813945e-33j) (-1.9585386291141393-4.3172738535370094e-32j) [-2.64044124+0.j]\n",
      "14 (0.5322261056446511+2.197393529908462e-17j) (-1.4325722127522424-5.7792525628813945e-33j) (-2.1188759797132413-4.3172738535370094e-32j) [-2.854113+2.38032663e-16j]\n",
      "15 (0.29455522786673793+2.197393529908462e-17j) (-1.6061467703255994-5.7792525628813945e-33j) (-2.2807518873159123+4.738729577918441e-33j) [-3.0690653-5.45392795e-17j]\n",
      "16 (0.05688435008882449+2.197393529908462e-17j) (-1.7819853544838289-2.4817412031590847e-32j) (-2.4472727301764206+4.738729577918441e-33j) [-3.28526022+1.85190611e-18j]\n",
      "17 (-0.18078652768908987+2.197393529908462e-17j) (-1.960589066726851-2.4817412031590847e-32j) (-2.6137935730369297+4.738729577918441e-33j) [-3.50266141-7.37135694e-17j]\n",
      "18 (-0.4184574054670033+2.197393529908462e-17j) (-2.1391927789698717-2.4817412031590847e-32j) (-2.780340859628963-3.567422111385477e-32j) [-3.72123396+5.41584297e-17j]\n",
      "19 (-0.6561282832449166+2.197393529908462e-17j) (-2.322134887911251-2.4527648119153964e-32j) (-2.9530447841615994-3.567422111385477e-32j) [-3.94094438+1.26826649e-16j]\n",
      "20 (-0.8937991610228304+2.197393529908462e-17j) (-2.505705312049947-2.4527648119153964e-32j) (-3.125748708694234-3.567422111385477e-32j) [-4.16176046+5.69373413e-17j]\n",
      "21 (-1.131470038800745+2.197393529908462e-17j) (-2.6922474893325457+2.364272421546079e-32j) (-3.299999178935335+2.9672608676705426e-32j) [-4.38365121+1.22554305e-18j]\n",
      "22 (-1.3691409165786594+2.197393529908462e-17j) (-2.880707938562158+2.364272421546079e-32j) (-3.478902019199121+2.9672608676705426e-32j) [-4.60658677+5.65519853e-16j]\n",
      "23 (-1.6068117943565714+2.197393529908462e-17j) (-3.072001682040789+2.3939291929203094e-32j) (-3.6578048594629053+2.9672608676705426e-32j) [-4.83053838+2.20428971e-16j]\n",
      "24 (-1.844482672134488+2.197393529908462e-17j) (-3.265251568286983+2.3939291929203094e-32j) (-3.8426242869736265+2.9833876257437927e-32j) [-5.05547824+6.40912562e-16j]\n",
      "25 (-2.0821535499123995+2.197393529908462e-17j) (-3.4620064565292274+1.39446045507766e-32j) (-4.027985545502629+7.553659636147077e-32j) [-5.28137955+2.388117e-17j]\n",
      "26 (-2.3198244276903117+2.197393529908462e-17j) (-3.6599926452209504+1.1076012089670964e-31j) (-4.219357277949171+7.553659636147077e-32j) [-5.50821638+8.43538513e-16j]\n",
      "27 (-2.557495305468227+2.197393529908462e-17j) (-3.8623801786581176+1.1076012089670964e-31j) (-4.413342564404367+6.241167164873399e-32j) [-5.73596363-1.00303126e-15j]\n",
      "28 (-2.7951661832461427+2.197393529908462e-17j) (-4.066126823686947+1.8965892849619536e-32j) (-4.610959154652776+6.241167164873399e-32j) [-5.96459703+4.04561845e-17j]\n",
      "29 (-3.032837061024057+2.197393529908462e-17j) (-4.272779916793197+1.8965892849619536e-32j) (-4.814756909395026-1.5754472606944948e-33j) [-6.19409306+1.70292474e-21j]\n",
      "30 (-3.2705079388019684+2.197393529908462e-17j) (-4.481816391033818+1.2272344722070722e-31j) (-5.022730825454035+3.0183952360919683e-33j) [-6.4244289+3.76218154e-16j]\n",
      "31 (-3.50817881657988+2.197393529908462e-17j) (-4.692477840365812+1.2272344722070722e-31j) (-5.234989698354927-5.851942640888539e-32j) [-6.65558245-2.95201147e-16j]\n",
      "32 (-3.745849694357795+2.197393529908462e-17j) (-4.906091767859427-4.543189744307615e-32j) (-5.451260471031608+5.1348888927107e-32j) [-6.88753224+0.j]\n",
      "33 (-3.9835205721357125+2.197393529908462e-17j) (-5.1204698352422096-4.543189744307615e-32j) (-5.6728560739679+5.1348888927107e-32j) [-7.12025744+4.48157056e-20j]\n",
      "34 (-4.221191449913626+2.197393529908462e-17j) (-5.337819127930492-1.3685159062562178e-32j) (-5.898031876461523-4.262505016591074e-32j) [-7.35373781-1.37916064e-16j]\n",
      "35 (-4.458862327691537+2.197393529908462e-17j) (-5.555597054746666-1.3685159062562178e-32j) (-6.125704842742387+2.8310038628895416e-32j) [-7.58795369-1.39180331e-15j]\n",
      "36 (-4.696533205469449+2.197393529908462e-17j) (-5.7758141476181715-1.0388059875521277e-32j) (-6.35776444391617+2.8310038628895416e-32j) [-7.82288597+2.77555832e-17j]\n",
      "37 (-4.934204083247361+2.197393529908462e-17j) (-5.996661401213746-1.0388059875521277e-32j) (-6.591899022324717-5.440749700497791e-33j) [-8.05851607-4.88471695e-19j]\n",
      "38 (-5.171874961025288+2.197393529908462e-17j) (-6.218936717732005+3.7633065956202845e-32j) (-6.828603920782219-5.440749700497791e-33j) [-8.29482594-4.44343892e-17j]\n",
      "39 (-5.409545838803192+2.197393529908462e-17j) (-6.442520408387661+3.7633065956202845e-32j) (-7.067747751256373-9.850373031689286e-33j) [-8.53179799+1.39129835e-15j]\n",
      "40 (-5.647216716581106+2.197393529908462e-17j) (-6.6661585586298475-5.202082092520041e-32j) (-7.3086643958644455-9.850373031689286e-33j) [-8.76941515+5.56208061e-21j]\n",
      "41 (-5.884887594359022+2.197393529908462e-17j) (-6.8921537418090795-5.202082092520041e-32j) (-7.551477196742188-4.901659057598278e-33j) [-9.00766079+1.35897966e-16j]\n",
      "42 (-6.122558472136937+2.197393529908462e-17j) (-7.118148924988303-5.202082092520041e-32j) (-7.796161902296915-4.901659057598278e-33j) [-9.24651872+1.66533377e-16j]\n",
      "43 (-6.36022934991485+2.197393529908462e-17j) (-7.3447002542193935+4.1996299985422364e-32j) (-8.04149262166393-6.007683988137869e-33j) [-9.48597322-3.13045014e-16j]\n",
      "44 (-6.597900227692761+2.197393529908462e-17j) (-7.572798278736336+4.1996299985422364e-32j) (-8.28950732517396-6.007683988137869e-33j) [-9.72600895-4.11149793e-16j]\n",
      "45 (-6.835571105470674+2.197393529908462e-17j) (-7.800896303253274+4.1996299985422364e-32j) (-8.537522028683972-6.007683988137869e-33j) [-9.96661103+1.26686041e-16j]\n",
      "46 (-7.073241983248591+2.197393529908462e-17j) (-8.029384068849453-7.431855279825496e-32j) (-8.78735737993609+5.4047391242610254e-33j) [-10.20776493-5.98999469e-20j]\n",
      "47 (-7.3109128610264955+2.197393529908462e-17j) (-8.259298600620259-7.431855279825496e-32j) (-9.03828251132676+5.4047391242610254e-33j) [-10.44945655+5.30042725e-16j]\n",
      "48 (-7.548583738804415+2.197393529908462e-17j) (-8.489213132391066-7.431855279825496e-32j) (-9.289207642717445+5.4047391242610254e-33j) [-10.69167214-1.17730715e-26j]\n",
      "49 (-7.78625461658233+2.197393529908462e-17j) (-8.719127664161883-7.431855279825496e-32j) (-9.542073270299491-1.2193082315368153e-32j) [-10.93439833-4.98230073e-23j]\n"
     ]
    }
   ],
   "source": [
    "k = 1\n",
    "eq = []\n",
    "er = []\n",
    "em = []\n",
    "eh = []\n",
    "dl = []\n",
    "for di in range(0,50):\n",
    "    d = di*0.1\n",
    "    u = 1-2*d/3\n",
    "    N=4\n",
    "    H = M(u,4) + K(k) + D(d,4)\n",
    "    e,y = np.linalg.eig(H)\n",
    "    y = np.transpose(y)\n",
    "    arg = np.argsort(e)\n",
    "\n",
    "\n",
    "\n",
    "    eg = []\n",
    "    egr = []\n",
    "    egm = []\n",
    "    gl = []\n",
    "    eT = []\n",
    "    for gi in range(0,30):\n",
    "        g = 0.1*gi\n",
    "        egl = analyze_energy(g,u,k,d,N,loaded_results,loaded_alpha_results)\n",
    "        egrl = analyze_energy(g,u,k,d,N,loaded_results,alpha_results)\n",
    "        egml = analyze_energy(g,u,k,d,N,results,alpha_results)\n",
    "        eg.append(egl)\n",
    "        egr.append(egrl)\n",
    "        egm.append(egml)\n",
    "        gl.append(g)\n",
    "        eT.append(e[arg[[0]]])\n",
    "    #print(d,min(eT))\n",
    "    eq.append(min(eg))\n",
    "    er.append(min(egr))\n",
    "    em.append(min(egm))\n",
    "    eh.append(min(eT))\n",
    "    dl.append(d)\n",
    "    print(di,min(eg),min(egr),min(egm),min(eT))"
   ]
  },
  {
   "cell_type": "code",
   "execution_count": 48,
   "id": "74df5bec",
   "metadata": {},
   "outputs": [
    {
     "data": {
      "text/plain": [
       "[<matplotlib.lines.Line2D at 0x7fdfd8c84610>]"
      ]
     },
     "execution_count": 48,
     "metadata": {},
     "output_type": "execute_result"
    },
    {
     "data": {
      "image/png": "[encoded data removed]",
      "text/plain": [
       "<Figure size 432x288 with 1 Axes>"
      ]
     },
     "metadata": {
      "needs_background": "light"
     },
     "output_type": "display_data"
    }
   ],
   "source": [
    "plt.plot(dl,em)\n",
    "plt.plot(dl,eq)\n",
    "plt.plot(dl,er)\n",
    "plt.plot(dl,eh)"
   ]
  },
  {
   "cell_type": "code",
   "execution_count": null,
   "id": "79683e50",
   "metadata": {},
   "outputs": [],
   "source": []
  }
 ],
 "metadata": {
  "kernelspec": {
   "display_name": "qiskit_3.5",
   "language": "python",
   "name": "qiskit_3.5"
  },
  "language_info": {
   "codemirror_mode": {
    "name": "ipython",
    "version": 3
   },
   "file_extension": ".py",
   "mimetype": "text/x-python",
   "name": "python",
   "nbconvert_exporter": "python",
   "pygments_lexer": "ipython3",
   "version": "3.10.4"
  },
  "toc": {
   "base_numbering": 1,
   "nav_menu": {},
   "number_sections": true,
   "sideBar": true,
   "skip_h1_title": false,
   "title_cell": "Table of Contents",
   "title_sidebar": "Contents",
   "toc_cell": false,
   "toc_position": {
    "height": "calc(100% - 180px)",
    "left": "10px",
    "top": "150px",
    "width": "271.594px"
   },
   "toc_section_display": true,
   "toc_window_display": true
  }
 },
 "nbformat": 4,
 "nbformat_minor": 5
}
