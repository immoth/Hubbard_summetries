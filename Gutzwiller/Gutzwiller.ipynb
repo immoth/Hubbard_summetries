{
 "cells": [
  {
   "cell_type": "markdown",
   "id": "10f50165",
   "metadata": {},
   "source": [
    "# Gutzwiller Using Split Evolution\n",
    "\n",
    "The Gutzwiller wavefunction is found using a non-unitary operator.  Because quantum computers use unitary operations, it becomes tricky to implement the Gutzwiller wavefunction.  Here, I use the Split-Evolution technique described by other files in this folder.  The idea is to break the non-unitary operator into unitary parts and sum over these parts classically.   \n",
    "\n",
    "The Gutzwiller wavefunction is,\n",
    "$$ |\\psi_g> = \\frac{e^{-g \\hat{D}} |\\psi_0>}{\\sqrt{<\\psi_0|e^{-2g \\hat{D}}|\\psi_0>}} $$"
   ]
  },
  {
   "cell_type": "markdown",
   "id": "9a6fa098",
   "metadata": {},
   "source": [
    "where $|\\psi_0>$ is the many-body ground state of the non-interacting system and $\\hat{D}$ is the interaction part of the Hamiltonian.  Let's write $\\hat{D}$ as a sum over operators.\n",
    "$$ \\hat{D} = \\sum_{i}\\hat{d}_i $$\n",
    "where $d_i$ are some let of operators, for example: $\\hat{d}_i = c_i^{\\dagger}c_ic_{i+1}^{\\dagger}c_{i+1}$.  Then we can write the non-unitary operator as,\n",
    "$$ e^{-g \\hat{D}} \\approx \\prod^{N_g} e^{-dg \\hat{D}} \\approx \\prod^{N_g}\\prod_i e^{-dg \\hat{d}_i} = \\prod^{N_g}\\prod_i(\\cosh(dg) - \\sinh(dg)\\hat{d}_i)$$"
   ]
  },
  {
   "cell_type": "markdown",
   "id": "1814dddb",
   "metadata": {},
   "source": [
    "For the above approximations to hold, $dg$ must be small.  Since $dg$ is small we do not need to keep all order of $dg$ but instead can cut it off.  Therefore, the number of circuits we need does not grow exponentially with system size.  "
   ]
  },
  {
   "cell_type": "code",
   "execution_count": 2529,
   "id": "250614b3",
   "metadata": {},
   "outputs": [],
   "source": [
    "import qiskit.quantum_info as qi\n",
    "import scipy as sp\n",
    "import numpy as np\n",
    "import pandas as pd"
   ]
  },
  {
   "cell_type": "markdown",
   "id": "a8832a62",
   "metadata": {},
   "source": [
    "# Slatter Determinant\n",
    "\n",
    "The Gutzwiller wavefunction uses the slatter determinant in its construction.  I want to first create the slatter determinant classically and then try to find a way to implement it on the quantum computer.\n",
    "\n",
    "Let's use \n",
    "$$ \\hat{K} = k \\sum_{i\\sigma} c^{\\dagger}_{i\\sigma}c_{i+1\\sigma} + h.c.$$\n",
    "as the example Hamiltonian."
   ]
  },
  {
   "cell_type": "markdown",
   "id": "326e9a69",
   "metadata": {},
   "source": [
    "## Single particle wavefunction"
   ]
  },
  {
   "cell_type": "code",
   "execution_count": 2530,
   "id": "8dff4b87",
   "metadata": {},
   "outputs": [],
   "source": [
    "def K(k,N):\n",
    "    h = [[0 for i in range(N)] for ii in range(N)]\n",
    "    h[0][N-1] = -k\n",
    "    h[N-1][0] = -k\n",
    "    for i in range(N-1):\n",
    "        h[i][i+1] = -k\n",
    "        h[i+1][i] = -k\n",
    "    return h\n",
    "#print(pd.DataFrame(K(k,N)))\n",
    "      \n",
    "#We know the eigenvalues and vectors\n",
    "def E0(k,n,N):\n",
    "    #return -2*k*np.cos((n+1)*np.pi/(N+1))\n",
    "    return -2*k*np.cos(2*(n)*np.pi/(N))\n",
    "\n",
    "\n",
    "def psi0(n,N):\n",
    "    #y = [np.sqrt(2/(N+1))*np.sin((i+1)*(N-n)*np.pi/(N+1)) for i in range(N)]\n",
    "    y = [np.sqrt(1/(N))*np.exp(1j*2*np.pi*(i)*(n)/N) for i in range(N)]\n",
    "    return y\n",
    "\n"
   ]
  },
  {
   "cell_type": "code",
   "execution_count": 2534,
   "id": "ea172eba",
   "metadata": {},
   "outputs": [
    {
     "data": {
      "text/plain": [
       "<matplotlib.collections.PathCollection at 0x7ffc89cce520>"
      ]
     },
     "execution_count": 2534,
     "metadata": {},
     "output_type": "execute_result"
    },
    {
     "data": {
      "image/png": "[encoded data removed]",
      "text/plain": [
       "<Figure size 432x288 with 1 Axes>"
      ]
     },
     "metadata": {
      "needs_background": "light"
     },
     "output_type": "display_data"
    }
   ],
   "source": [
    "import matplotlib.pyplot as plt\n",
    "\n",
    "N=4\n",
    "e,y = np.linalg.eig(K(k,N))\n",
    "e = np.sort(e)\n",
    "nl = [n for n in range(len(e))]\n",
    "etst = [E0(k,n,N) for n in range(-int(N/2),int(math.ceil(N/2)))]\n",
    "etst2 = [bkt(psi0(n,N),K(k,N),psi0(n,N)) for n in range(-int(N/2),int(math.ceil(N/2)))]\n",
    "ntst = [n for n in range(int(-N/2),int(math.ceil(N/2)))]\n",
    "plt.scatter(nl,e,s=180)\n",
    "plt.scatter(ntst,etst,s=80)\n",
    "plt.scatter(ntst,etst2,s=30)"
   ]
  },
  {
   "cell_type": "markdown",
   "id": "8deeb64c",
   "metadata": {},
   "source": [
    "## Creating the slater determinant from the single particle wavefunction"
   ]
  },
  {
   "cell_type": "code",
   "execution_count": 1866,
   "id": "cb9fb0d1",
   "metadata": {},
   "outputs": [
    {
     "name": "stdout",
     "output_type": "stream",
     "text": [
      "dict_keys(['00011', '00101', '01001', '10001', '00110', '01010', '10010', '01100', '10100', '11000'])\n"
     ]
    },
    {
     "data": {
      "text/plain": [
       "array([0.+0.j, 0.+0.j, 0.+0.j, 0.+0.j, 0.+0.j, 0.+0.j, 0.+0.j, 0.+0.j,\n",
       "       0.+0.j, 0.+0.j, 0.+0.j, 0.+0.j, 0.+0.j, 0.+0.j, 0.+0.j, 0.+0.j,\n",
       "       0.+0.j, 1.+0.j, 0.+0.j, 0.+0.j, 0.+0.j, 0.+0.j, 0.+0.j, 0.+0.j,\n",
       "       0.+0.j, 0.+0.j, 0.+0.j, 0.+0.j, 0.+0.j, 0.+0.j, 0.+0.j, 0.+0.j])"
      ]
     },
     "execution_count": 1866,
     "metadata": {},
     "output_type": "execute_result"
    }
   ],
   "source": [
    "#Creates all states with N fermions and S orbitals\n",
    "def Generate_States(N,S):\n",
    "    s = [i for i in range(0,N)]\n",
    "    psi_l = []\n",
    "    while s[0] < S-N:\n",
    "        ### create the state and store it\n",
    "        psi = 0\n",
    "        for i in s:\n",
    "            psi += 2**i\n",
    "        psi_l.append(psi)\n",
    "        ###\n",
    "        ###Update the particle locations\n",
    "        exit = 0\n",
    "        i = len(s)-1\n",
    "        while exit == 0:\n",
    "            if s[i] < S-len(s)+i:\n",
    "                s[i] += 1\n",
    "                for j in range(i+1,len(s)):\n",
    "                    s[j] = s[j-1]+1\n",
    "                exit = 1\n",
    "            else:\n",
    "                i -= 1\n",
    "        ###\n",
    "    ###Create the finale state\n",
    "    psi = 0\n",
    "    for i in s:\n",
    "        psi += 2**i\n",
    "    psi_l.append(psi)\n",
    "    ###\n",
    "    return psi_l\n",
    "\n",
    "# A function to print out the binary number\n",
    "def bi(num,N):\n",
    "    bi = bin(num)\n",
    "    out = \"\"\n",
    "    for i in range(2,len(bi)):\n",
    "        out = out + bi[i]\n",
    "    for i in range(len(out),N):\n",
    "        out = '0' + out \n",
    "    return out\n",
    "\n",
    "\n",
    "def generate_vectors(N,S):\n",
    "    states = Generate_States(N,S)\n",
    "    labels = [bi(s,S) for s in states]\n",
    "    psi = {}\n",
    "    for l in labels:\n",
    "        psi[l] = qi.Statevector.from_label(l).data\n",
    "    return psi\n",
    "\n",
    "psi = generate_vectors(2,5)\n",
    "print(psi.keys())\n",
    "psi['10001']"
   ]
  },
  {
   "cell_type": "code",
   "execution_count": 1867,
   "id": "7bd8397f",
   "metadata": {},
   "outputs": [],
   "source": [
    "def slat(X,N):\n",
    "    e,y = np.linalg.eig(K(k,N))\n",
    "    psi = np.transpose(y)\n",
    "    odr = np.argsort(e)\n",
    "    D = []\n",
    "    for n in range(len(X)):\n",
    "        Dx = []\n",
    "        for x in X:\n",
    "            Dx.append(psi[odr[n]][x])\n",
    "        D.append(Dx)\n",
    "    return D\n",
    "\n",
    "\n",
    "def psi_slat(Ns,N):\n",
    "    basis = generate_vectors(Ns,N)\n",
    "    keys = list(basis.keys())\n",
    "    psi = 0*basis[keys[0]]\n",
    "    for key in keys:\n",
    "        X = []\n",
    "        for i in range(len(key)):\n",
    "            if key[i] == '1':\n",
    "                X.append(i)\n",
    "        psi_key = np.linalg.det(slat(X,N))*basis[key]\n",
    "        psi = psi + psi_key\n",
    "    return psi\n",
    "            \n",
    "            \n",
    "    "
   ]
  },
  {
   "cell_type": "code",
   "execution_count": 1868,
   "id": "85bce040",
   "metadata": {},
   "outputs": [
    {
     "data": {
      "text/plain": [
       "array([0. +0.j, 0. +0.j, 0. +0.j, 0. +0.j, 0. +0.j, 0. +0.j, 0. +0.j,\n",
       "       0.5+0.j, 0. +0.j, 0. +0.j, 0. +0.j, 0.5+0.j, 0. +0.j, 0.5+0.j,\n",
       "       0.5+0.j, 0. +0.j])"
      ]
     },
     "execution_count": 1868,
     "metadata": {},
     "output_type": "execute_result"
    }
   ],
   "source": [
    "psi_slat(3,4)"
   ]
  },
  {
   "cell_type": "markdown",
   "id": "2b10fe19",
   "metadata": {},
   "source": [
    "# Many Body "
   ]
  },
  {
   "cell_type": "markdown",
   "id": "4a0dab65",
   "metadata": {},
   "source": [
    "## Hamiltonian"
   ]
  },
  {
   "cell_type": "code",
   "execution_count": 1869,
   "id": "4bca7834",
   "metadata": {},
   "outputs": [],
   "source": [
    "\n",
    "def I(N):\n",
    "    label = ['I' for i in range(N)]\n",
    "    label = ''.join(label)\n",
    "    return qi.Operator.from_label(label).data\n",
    "\n",
    "def X(i,N):\n",
    "    label = ['I' for i in range(N)]\n",
    "    label[i] = 'X'\n",
    "    label = ''.join(label)\n",
    "    return qi.Operator.from_label(label).data\n",
    "\n",
    "def Y(i,N):\n",
    "    label = ['I' for i in range(N)]\n",
    "    label[i] = 'Y'\n",
    "    label = ''.join(label)\n",
    "    return qi.Operator.from_label(label).data\n",
    "\n",
    "def Z(i,N):\n",
    "    label = ['I' for i in range(N)]\n",
    "    label[i] = 'Z'\n",
    "    label = ''.join(label)\n",
    "    return qi.Operator.from_label(label).data\n",
    "\n",
    "def c(i,N):\n",
    "    label_1 = ['Z' for j in range(i)]\n",
    "    label_2 = ['I' for j in range(i+1,N)]\n",
    "    label_x = label_1 + ['X'] + label_2\n",
    "    label_y = label_1 + ['Y'] + label_2\n",
    "    label_x = ''.join(label_x)\n",
    "    label_y = ''.join(label_y)\n",
    "    x = qi.Operator.from_label(label_x).data\n",
    "    y = qi.Operator.from_label(label_y).data\n",
    "    return 1/2*(x+1j*y)\n",
    "\n",
    "def cd(i,N):\n",
    "    label_1 = ['Z' for j in range(i)]\n",
    "    label_2 = ['I' for j in range(i+1,N)]\n",
    "    label_x = label_1 + ['X'] + label_2\n",
    "    label_y = label_1 + ['Y'] + label_2\n",
    "    label_x = ''.join(label_x)\n",
    "    label_y = ''.join(label_y)\n",
    "    x = qi.Operator.from_label(label_x).data\n",
    "    y = qi.Operator.from_label(label_y).data\n",
    "    return 1/2*(x-1j*y)\n",
    "\n",
    "import numpy as np\n",
    "\n",
    "def Mdot(Ol):\n",
    "    out = Ol[0]\n",
    "    for i in range(1,len(Ol)):\n",
    "        out = np.dot(Ol[i],out)\n",
    "    return out\n",
    "\n",
    "def bkt(y1,O,y2):\n",
    "    return Mdot([np.conjugate(y1),O,y2])"
   ]
  },
  {
   "cell_type": "code",
   "execution_count": 1870,
   "id": "d7076146",
   "metadata": {},
   "outputs": [],
   "source": [
    "def Km(k,N):\n",
    "    m = 0*I(N)\n",
    "    for i in range(0,N-1):\n",
    "        m = m + Mdot([cd(i,N),c(i+1,N)])+ Mdot([cd(i+1,N),c(i,N)])\n",
    "    m = m + Mdot([cd(N-1,N),c(0,N)])+ Mdot([cd(0,N),c(N-1,N)])\n",
    "    return m"
   ]
  },
  {
   "cell_type": "code",
   "execution_count": 1871,
   "id": "e06dca13",
   "metadata": {},
   "outputs": [
    {
     "name": "stdout",
     "output_type": "stream",
     "text": [
      "Is it an eigensate:  3.3306690738754696e-16\n",
      "What is the expectation value:  (-1.9999999999999996+0j)\n",
      "All eigenvalues:\n",
      "[-2.00000000e+00+0.00000000e+00j -2.00000000e+00+0.00000000e+00j\n",
      " -2.00000000e+00+0.00000000e+00j -2.00000000e+00+0.00000000e+00j\n",
      " -4.44992209e-17-7.86143308e-17j -4.44992209e-17+7.86143308e-17j\n",
      "  0.00000000e+00+0.00000000e+00j  0.00000000e+00+0.00000000e+00j\n",
      "  0.00000000e+00+0.00000000e+00j  4.09927614e-18+0.00000000e+00j\n",
      "  7.77977866e-17+0.00000000e+00j  2.08579555e-16+1.23259516e-32j\n",
      "  2.00000000e+00+0.00000000e+00j  2.00000000e+00+0.00000000e+00j\n",
      "  2.00000000e+00+0.00000000e+00j  2.00000000e+00+0.00000000e+00j]\n"
     ]
    }
   ],
   "source": [
    "eM = Mdot([psi_slat(2,4),Km(1.5,4),psi_slat(2,4)])\n",
    "diff_tst = np.amax(np.abs(Mdot([Km(1.5,4),psi_slat(2,4)]) - eM*psi_slat(2,4)))\n",
    "e,y = np.linalg.eig(Km(1.5,4))\n",
    "print(\"Is it an eigensate: \",diff_tst)\n",
    "print(\"What is the expectation value: \", eM)\n",
    "print(\"All eigenvalues:\")\n",
    "print(np.sort(e))"
   ]
  },
  {
   "cell_type": "markdown",
   "id": "4f5eb034",
   "metadata": {},
   "source": [
    "# Generate Slatter from Circuit\n",
    "\n",
    "We restrict ourselves to the two particle space since this is the space the Hamiltoniain will act on.  I need to make sure that the Hamiltonian generated in \"Example_matrix_creation\" acts on the same basis as is generated for the slatter circuit.  \n",
    "\n",
    "1) I need to translate the slatter weights onto the basis in which VQE is performed\n",
    "    \n",
    "    - First I restrict to two particle states\n",
    "    \n",
    "    -then I add spin\n",
    "    \n",
    "    -then I break the Hamiltonain into blocks\n",
    "    \n",
    "    -then I write onto a 2^q space leaving extra states empty\n",
    "\n",
    "2) I need to generate the slatter state from unitary operators\n",
    "    \n",
    "    -using projectors and then completing the unitary could help\n",
    "    \n",
    "\\begin{equation}\n",
    "\\begin{split}\n",
    "&|0><0| = \\frac{1}{2}(1+Z) \\quad \\quad |1><1| = \\frac{1}{2}(1-Z)\n",
    "\\\\\n",
    "&|0><1| = \\frac{1}{2}(X+iY) \\quad \\quad |1><0| = \\frac{1}{2}(X-iY)\n",
    "\\end{split}\n",
    "\\end{equation}"
   ]
  },
  {
   "cell_type": "markdown",
   "id": "163dcea0",
   "metadata": {},
   "source": [
    "## Translate to VQE basis"
   ]
  },
  {
   "cell_type": "markdown",
   "id": "2df8a917",
   "metadata": {},
   "source": [
    "### Restrict onto the two particle states"
   ]
  },
  {
   "cell_type": "code",
   "execution_count": 1872,
   "id": "40a33614",
   "metadata": {},
   "outputs": [
    {
     "data": {
      "text/plain": [
       "array([ 0.35355339,  0.70710678,  0.35355339,  0.35355339,  0.        ,\n",
       "       -0.35355339])"
      ]
     },
     "execution_count": 1872,
     "metadata": {},
     "output_type": "execute_result"
    }
   ],
   "source": [
    "def generate_2P_vectors(N,S):\n",
    "    states = Generate_States(N,S)\n",
    "    labels = [bi(s,S) for s in states]\n",
    "    psi = {}\n",
    "    for l in range(len(labels)):\n",
    "        psi_l = [0 for i in range(len(labels))]\n",
    "        psi_l[l] = 1\n",
    "        psi[labels[l]] = np.array(psi_l)\n",
    "    return psi\n",
    "\n",
    "def psi_2P_slat(Ns,N):\n",
    "    basis = generate_2P_vectors(Ns,N)\n",
    "    keys = list(basis.keys())\n",
    "    psi = 0*basis[keys[0]]\n",
    "    for key in keys:\n",
    "        X = []\n",
    "        for i in range(len(key)):\n",
    "            if key[i] == '1':\n",
    "                X.append(i)\n",
    "        psi_key = np.linalg.det(slat(X,N))*basis[key]\n",
    "        psi = psi + psi_key\n",
    "    return psi\n",
    "            \n",
    "basis = generate_2P_vectors(2,4)\n",
    "psi_2P_slat(2,4)"
   ]
  },
  {
   "cell_type": "code",
   "execution_count": 1873,
   "id": "c763e700",
   "metadata": {},
   "outputs": [
    {
     "name": "stdout",
     "output_type": "stream",
     "text": [
      "H = \n",
      "[[ 0.+0.j -1.+0.j  0.+0.j  0.+0.j  1.+0.j  0.+0.j]\n",
      " [-1.+0.j  0.+0.j -1.+0.j -1.+0.j  0.+0.j  1.+0.j]\n",
      " [ 0.+0.j -1.+0.j  0.+0.j  0.+0.j -1.+0.j  0.+0.j]\n",
      " [ 0.+0.j -1.+0.j  0.+0.j  0.+0.j -1.+0.j  0.+0.j]\n",
      " [ 1.+0.j  0.+0.j -1.+0.j -1.+0.j  0.+0.j -1.+0.j]\n",
      " [ 0.+0.j  1.+0.j  0.+0.j  0.+0.j -1.+0.j  0.+0.j]]\n",
      "Is the slatter wavevector an eighenvector? 3.3306690738754696e-16\n"
     ]
    }
   ],
   "source": [
    "def Km_2P(Ns,N):\n",
    "    basis = generate_vectors(Ns,N)\n",
    "    keys = list(basis.keys())\n",
    "    m = Km(Ns,N)\n",
    "    m_2p = []\n",
    "    for key1 in keys:\n",
    "        ml = []\n",
    "        psia = basis[key1]\n",
    "        for key2 in keys:\n",
    "            psib = basis[key2]\n",
    "            h = bkt(psia,m,psib)\n",
    "            ml.append(h)\n",
    "        m_2p.append(ml)\n",
    "    return np.array(m_2p)\n",
    "\n",
    "print('H = ')\n",
    "print(Km_2P(2,4))\n",
    "e2p = bkt(psi_2P_slat(2,4),Km_2P(2,4),psi_2P_slat(2,4))\n",
    "print( \"Is the slatter wavevector an eighenvector?\" , np.amax(np.abs(Mdot([Km_2P(2,4),psi_2P_slat(2,4)]) - e2p*psi_2P_slat(2,4))) )"
   ]
  },
  {
   "cell_type": "markdown",
   "id": "def8efeb",
   "metadata": {},
   "source": [
    "### Add spin"
   ]
  },
  {
   "cell_type": "code",
   "execution_count": 1874,
   "id": "29a4c93e",
   "metadata": {},
   "outputs": [
    {
     "name": "stdout",
     "output_type": "stream",
     "text": [
      "check eigenvector 8.881784197001252e-16\n",
      "compare eigenvalue to bracket (-8.881784197001252e-15-2.7155915767439864e-18j)\n"
     ]
    }
   ],
   "source": [
    "def psi_spin(Ns,N):\n",
    "    return np.kron(psi_2P_slat(Ns,N),psi_2P_slat(Ns,N))\n",
    "\n",
    "def K_spin(Ns,N):\n",
    "    I0 = np.identity(len(Km_2P(Ns,N)))\n",
    "    return np.kron(Km_2P(Ns,N),I0) + np.kron(I0,Km_2P(Ns,N))\n",
    "\n",
    "psi_tst = psi_spin(2,4)\n",
    "h_tst = K_spin(2,4)\n",
    "\n",
    "e,y = np.linalg.eig(h_tst)\n",
    "e = np.sort(e)\n",
    "print('check eigenvector', np.amax(np.abs(Mdot([h_tst,psi_tst]) - bkt(psi_tst,h_tst,psi_tst)*psi_tst)) )\n",
    "print(\"compare eigenvalue to bracket\", e[0] - bkt(psi_tst,h_tst,psi_tst) )\n"
   ]
  },
  {
   "cell_type": "markdown",
   "id": "41b254e9",
   "metadata": {},
   "source": [
    "#### Gutzwiller on matrix\n",
    "\n",
    "With spin included we can now test the Gutzwiler idea before we move on to breaking the Hamiltonian into blocks.  \n",
    "\n",
    "The full Hamiltonian will be\n",
    "$$ H = t\\hat{K} + u\\hat{D} $$\n",
    "where\n",
    "$$ \\hat{D} = \\sum_i \\hat{n}_{i,\\uparrow}\\hat{n}_{i,\\downarrow} $$\n",
    "\n",
    "The Gutzwiller approach is to generate the eigenvector of the full Hamiltonian $ |\\psi> $ from the eigenvector of the non-interacting Hamiltoniain $ |\\psi_0> $ via\n",
    "$$ |\\psi> = \\frac{e^{-g\\hat{D}}|\\psi_0>}{\\sqrt{<\\psi_0|e^{-2g\\hat{D}}|\\psi_0>}}$$"
   ]
  },
  {
   "cell_type": "markdown",
   "id": "26ebc5e0",
   "metadata": {},
   "source": [
    "The idea is to then break up the exponential in small setps $dg$ such taht $N_g dg = g$.\n",
    "$$ e^{-g\\hat{D}} = \\prod_{i=1}^N e^{-g \\hat{n}_{i\\uparrow}\\hat{n}_{i\\downarrow}}  $$\n",
    "Since $\\hat{D}$ is diagonal, this is exact.  Using J-W we have,\n",
    "$$ e^{-g\\hat{D}}  \\rightarrow \\prod_{i=1}^N e^{-\\frac{g}{4} (I +Z_{i\\uparrow} + Z_{i\\downarrow} + Z_{i\\uparrow}Z_{i\\downarrow})} $$\n",
    "$$ = \\prod_{i=1}^N (\\cosh(\\frac{g}{4})-\\sinh(\\frac{g}{4}))(\\cosh(\\frac{g}{4})-\\sinh(\\frac{g}{4})Z_{i\\uparrow})(\\cosh(\\frac{g}{4})-\\sinh(\\frac{g}{4})Z_{i\\downarrow})(\\cosh(\\frac{g}{4})-\\sinh(\\frac{g}{4})Z_{i\\uparrow}Z_{i\\downarrow}) $$\n",
    "$$ = (C^4 - C^3S + C^2S^2 - C S^3 + S^4)I + (2C^2S^2 - C^3S - CS^3)(Z_{i\\uparrow} + Z_{i\\downarrow} + Z_{i\\uparrow}Z_{i\\downarrow})$$\n"
   ]
  },
  {
   "cell_type": "code",
   "execution_count": 1875,
   "id": "bbd431b7",
   "metadata": {},
   "outputs": [
    {
     "name": "stdout",
     "output_type": "stream",
     "text": [
      "[[0.36787944+0.j 0.        +0.j 0.        +0.j 0.        +0.j]\n",
      " [0.        +0.j 1.        +0.j 0.        +0.j 0.        +0.j]\n",
      " [0.        +0.j 0.        +0.j 1.        +0.j 0.        +0.j]\n",
      " [0.        +0.j 0.        +0.j 0.        +0.j 1.        +0.j]]\n"
     ]
    },
    {
     "data": {
      "text/plain": [
       "array([[0.36787944+0.j, 0.        +0.j, 0.        +0.j, 0.        +0.j],\n",
       "       [0.        +0.j, 1.        +0.j, 0.        +0.j, 0.        +0.j],\n",
       "       [0.        +0.j, 0.        +0.j, 1.        +0.j, 0.        +0.j],\n",
       "       [0.        +0.j, 0.        +0.j, 0.        +0.j, 1.        +0.j]])"
      ]
     },
     "execution_count": 1875,
     "metadata": {},
     "output_type": "execute_result"
    }
   ],
   "source": [
    "print( sp.linalg.expm(-Mdot([cd(0,2),c(0,2),cd(1,2),c(1,2)])) )\n",
    "    \n",
    "C = np.cosh(1/4)\n",
    "S = np.sinh(1/4)\n",
    "\n",
    "(C**4 - C**3*S  - C*S**3 + S**4)*I(2) + (- C**3*S + C**2*S**2 + C**2*S**2 - C*S**3)*(Z(0,2) + Z(1,2) + Mdot([Z(0,2),Z(1,2)]) )  \n"
   ]
  },
  {
   "cell_type": "code",
   "execution_count": 1876,
   "id": "4d7242ea",
   "metadata": {},
   "outputs": [
    {
     "data": {
      "text/plain": [
       "8.881784197001252e-16"
      ]
     },
     "execution_count": 1876,
     "metadata": {},
     "output_type": "execute_result"
    }
   ],
   "source": [
    "def D(N):\n",
    "    out = 0*I(2*N)\n",
    "    for i in range(N):\n",
    "        out = out + Mdot([cd(i,2*N),c(i,2*N),cd(i+N,2*N),c(i+N,2*N)])\n",
    "    return out\n",
    "\n",
    "def G(g,N):\n",
    "    out = I(2*N)\n",
    "    C = np.cosh(g/4)\n",
    "    S = np.sinh(g/4)\n",
    "    a = (C**4 - C**3*S  - C*S**3 + S**4)\n",
    "    b = (- C**3*S + C**2*S**2 + C**2*S**2 - C*S**3)\n",
    "    for i in range(N):\n",
    "        out = Mdot([  out, a*I(2*N) + b*( Z(i,2*N) + Z(i+N,2*N) + Mdot([Z(i,2*N),Z(i+N,2*N)]) ) ]) \n",
    "    return out\n",
    "        \n",
    "np.amax(np.abs( sp.linalg.expm(-D(4)) - G(1,4) ))\n",
    "\n"
   ]
  },
  {
   "cell_type": "markdown",
   "id": "7aeb1fe4",
   "metadata": {},
   "source": [
    "We want to write this in the 2 particle basis.  "
   ]
  },
  {
   "cell_type": "code",
   "execution_count": 1877,
   "id": "74085a9e",
   "metadata": {},
   "outputs": [
    {
     "data": {
      "text/plain": [
       "8.881784197001252e-16"
      ]
     },
     "execution_count": 1877,
     "metadata": {},
     "output_type": "execute_result"
    }
   ],
   "source": [
    "def states_full(states):\n",
    "    keys = list(states.keys())\n",
    "    out = {}\n",
    "    for k in keys:\n",
    "        for kk in keys:\n",
    "            new_key = k+kk\n",
    "            out[new_key] = np.kron(states[k],states[kk])\n",
    "    return out\n",
    "\n",
    "def D_spin(Ns,N):\n",
    "    basis = states_full(generate_vectors(Ns,N))\n",
    "    keys = list(basis.keys())\n",
    "    m = D(N)\n",
    "    m_2p = []\n",
    "    for key1 in keys:\n",
    "        ml = []\n",
    "        psia = basis[key1]\n",
    "        for key2 in keys:\n",
    "            psib = basis[key2]\n",
    "            h = bkt(psia,m,psib)\n",
    "            ml.append(h)\n",
    "        m_2p.append(ml)\n",
    "    return np.array(m_2p)\n",
    "\n",
    "def G_spin(g,Ns,N):\n",
    "    basis = states_full(generate_vectors(Ns,N))\n",
    "    keys = list(basis.keys())\n",
    "    m = G(g,N)\n",
    "    m_2p = []\n",
    "    for key1 in keys:\n",
    "        ml = []\n",
    "        psia = basis[key1]\n",
    "        for key2 in keys:\n",
    "            psib = basis[key2]\n",
    "            h = bkt(psia,m,psib)\n",
    "            ml.append(h)\n",
    "        m_2p.append(ml)\n",
    "    return np.array(m_2p)\n",
    "\n",
    "np.amax(np.abs( sp.linalg.expm(-D_spin(2,4)) - G_spin(1,2,4) ))"
   ]
  },
  {
   "cell_type": "code",
   "execution_count": 1878,
   "id": "9e6f422e",
   "metadata": {},
   "outputs": [
    {
     "name": "stdout",
     "output_type": "stream",
     "text": [
      "is psi0 an eigenstate of K: 4.440892098500626e-16\n"
     ]
    }
   ],
   "source": [
    "#one spin up one spin down\n",
    "len(D_spin(1,4))\n",
    "len(K_spin(1,4))\n",
    "psi0 = psi_spin(1,4)\n",
    "\n",
    "H = K_spin(1,4) + 10*D_spin(1,4)\n",
    "e,y = np.linalg.eig(H)\n",
    "y = np.transpose(y)\n",
    "arg = np.argsort(e)\n",
    "e = np.sort(e)\n",
    "\n",
    "print( 'is psi0 an eigenstate of K:',np.amax(np.abs(np.dot(K_spin(1,4),psi0)  - bkt(psi0,K_spin(1,4),psi0)*psi0)) )\n",
    "\n"
   ]
  },
  {
   "cell_type": "code",
   "execution_count": 1879,
   "id": "51575499",
   "metadata": {},
   "outputs": [
    {
     "name": "stdout",
     "output_type": "stream",
     "text": [
      "[16.85105379+0.j 18.        +0.j 18.        +0.j 19.61483519+0.j\n",
      " 19.61483519+0.j 20.        +0.j 20.        +0.j 20.        +0.j\n",
      " 20.        +0.j 22.        +0.j 22.        +0.j 22.35329173+0.j\n",
      " 30.        +0.j 30.38516481+0.j 30.38516481+0.j 30.79565449+0.j]\n"
     ]
    },
    {
     "name": "stderr",
     "output_type": "stream",
     "text": [
      "/opt/miniconda3/envs/qiskit_u3.1/lib/python3.9/site-packages/numpy/core/_asarray.py:102: ComplexWarning: Casting complex values to real discards the imaginary part\n",
      "  return array(a, dtype, copy=False, order=order)\n"
     ]
    },
    {
     "data": {
      "image/png": "[encoded data removed]",
      "text/plain": [
       "<Figure size 432x288 with 1 Axes>"
      ]
     },
     "metadata": {
      "needs_background": "light"
     },
     "output_type": "display_data"
    }
   ],
   "source": [
    "#one spin up one spin down\n",
    "eg = []\n",
    "gl = []\n",
    "eT = []\n",
    "for gi in range(-10,10):\n",
    "    g = gi\n",
    "    expD = sp.linalg.expm(-g*D_spin(1,4))\n",
    "    psi = Mdot([expD,psi_spin(1,4)])\n",
    "    psi = psi/np.sqrt(Mdot([np.conjugate(psi),psi]))\n",
    "    egl = bkt(psi,H,psi)\n",
    "    eg.append(egl)\n",
    "    gl.append(g)\n",
    "    eT.append(e[0])\n",
    "\n",
    "plt.plot(gl,eg)\n",
    "plt.plot(gl,eT)\n",
    "print(e)"
   ]
  },
  {
   "cell_type": "code",
   "execution_count": null,
   "id": "659de21c",
   "metadata": {},
   "outputs": [],
   "source": []
  },
  {
   "cell_type": "code",
   "execution_count": 1880,
   "id": "9e73f7ad",
   "metadata": {},
   "outputs": [
    {
     "name": "stdout",
     "output_type": "stream",
     "text": [
      "true ground state energy: (-2.102748483462077+0j)\n",
      "non-interacting ground state energy: (-3.9999999999999982+0j)\n",
      "expectation value with psi0: (0.9999999999999993+0j)\n",
      "[-2.10274848e+00+0.j -1.80642385e+00+0.j -1.06814039e+00+0.j\n",
      " -8.28427125e-01+0.j -8.28427125e-01+0.j -9.10047016e-16+0.j\n",
      "  5.81449281e-01+0.j  2.00000000e+00+0.j  2.00000000e+00+0.j\n",
      "  2.00000000e+00+0.j  2.00000000e+00+0.j  2.38787313e+00+0.j\n",
      "  2.96539191e+00+0.j  3.17157288e+00+0.j  3.17157288e+00+0.j\n",
      "  4.00000000e+00+0.j  4.00000000e+00+0.j  4.00000000e+00+0.j\n",
      "  4.00000000e+00+0.j  4.00000000e+00+0.j  4.00000000e+00+0.j\n",
      "  4.82842712e+00+0.j  4.82842712e+00+0.j  5.03460809e+00+0.j\n",
      "  5.61212687e+00+0.j  6.00000000e+00+0.j  6.00000000e+00+0.j\n",
      "  6.00000000e+00+0.j  6.00000000e+00+0.j  7.41855072e+00+0.j\n",
      "  8.00000000e+00+0.j  8.82842712e+00+0.j  8.82842712e+00+0.j\n",
      "  9.06814039e+00+0.j  9.80642385e+00+0.j  1.01027485e+01+0.j]\n"
     ]
    },
    {
     "data": {
      "image/png": "[encoded data removed]",
      "text/plain": [
       "<Figure size 432x288 with 1 Axes>"
      ]
     },
     "metadata": {
      "needs_background": "light"
     },
     "output_type": "display_data"
    }
   ],
   "source": [
    "#two spin up two spin down\n",
    "H = K_spin(2,4) + 4*D_spin(2,4)\n",
    "e,y = np.linalg.eig(H)\n",
    "e = np.sort(e)\n",
    "\n",
    "print('true ground state energy:', e[0])\n",
    "print('non-interacting ground state energy:',bkt(psi_spin(2,4),K_spin(2,4),psi_spin(2,4)) )\n",
    "print('expectation value with psi0:',bkt(psi_spin(2,4),H,psi_spin(2,4)) )\n",
    "\n",
    "eg = []\n",
    "eT = []\n",
    "gl = []\n",
    "for gi in range(-10,10):\n",
    "    g = gi\n",
    "    psi_g = Mdot([G_spin(g,2,4),psi_spin(2,4)])\n",
    "    norm = 1/np.sqrt(Mdot([np.conjugate(psi_g),psi_g]))\n",
    "    psi_g = norm*psi_g\n",
    "    egl = bkt(psi_g,H,psi_g)\n",
    "    eg.append(egl)\n",
    "    gl.append(g)\n",
    "    eT.append(e[0])\n",
    "\n",
    "plt.plot(gl,eg)\n",
    "plt.plot(gl,eT)\n",
    "print(e)\n"
   ]
  },
  {
   "cell_type": "code",
   "execution_count": null,
   "id": "3657c8cd",
   "metadata": {},
   "outputs": [],
   "source": []
  },
  {
   "cell_type": "markdown",
   "id": "18b9c8c2",
   "metadata": {},
   "source": [
    "### Break into blocks"
   ]
  },
  {
   "cell_type": "code",
   "execution_count": 1881,
   "id": "3460f6d5",
   "metadata": {},
   "outputs": [
    {
     "name": "stdout",
     "output_type": "stream",
     "text": [
      "energy =  (-3.999999999999999+0j)\n",
      "check eigenvecor for set0 1.6653345369377348e-16\n",
      "check eigenvecor for set1 4.440892098500626e-16\n",
      "check eigenvecor for set2 2.220446049250313e-16\n",
      "check eigenvecor for set3 2.220446049250313e-16\n",
      "check eigenvecor for set4 2.7755575615628914e-17\n",
      "check eigenvecor for set5 2.7755575615628914e-16\n"
     ]
    }
   ],
   "source": [
    "import math\n",
    "import copy\n",
    "\n",
    "def K_blocks(Ns,N):\n",
    "    bL = math.comb(N,Ns)\n",
    "    H_tu = K_spin(Ns,N)\n",
    "    blocks = {}\n",
    "    for bi in range(bL):\n",
    "        for bj in range(bi,bL):\n",
    "            bij = [[H_tu[i + bL*bi][j + bL*bj] for j in range(0,bL)] for i in range(0,bL)]\n",
    "            blocks[str(bi) + ',' + str(bj)] = np.array(bij)\n",
    "    return blocks\n",
    "\n",
    "def D_blocks(Ns,N):\n",
    "    bL = math.comb(N,Ns)\n",
    "    H_tu = D_spin(Ns,N)\n",
    "    blocks = {}\n",
    "    for bi in range(bL):\n",
    "        for bj in range(bi,bL):\n",
    "            bij = [[H_tu[i + bL*bi][j + bL*bj] for j in range(0,bL)] for i in range(0,bL)]\n",
    "            blocks[str(bi) + ',' + str(bj)] = np.array(bij)\n",
    "    return blocks\n",
    "\n",
    "def G_blocks(g,Ns,N):\n",
    "    bL = math.comb(N,Ns)\n",
    "    H_tu = G_spin(g,Ns,N)\n",
    "    blocks = {}\n",
    "    for bi in range(bL):\n",
    "        for bj in range(bi,bL):\n",
    "            bij = [[H_tu[i + bL*bi][j + bL*bj] for j in range(0,bL)] for i in range(0,bL)]\n",
    "            blocks[str(bi) + ',' + str(bj)] = np.array(bij)\n",
    "    return blocks\n",
    "\n",
    "def psi_sets(Ns,N):\n",
    "    bL = math.comb(N,Ns)\n",
    "    psi = psi_spin(Ns,N)\n",
    "    sets = {}\n",
    "    for bi in range(bL):\n",
    "        psi_i = [psi[i + bL*bi] for i in range(0,bL)]\n",
    "        sets[str(bi)] = np.array(psi_i)\n",
    "    return sets\n",
    "\n",
    "def find_e(psi_tst,k_tst):\n",
    "    etst = 0\n",
    "    bL = len(psi_tst)\n",
    "    for bi in range(bL):\n",
    "        e11 = bkt(psi_tst[str(bi)],k_tst[str(bi) + ',' + str(bi)],psi_tst[str(bi)])\n",
    "        etst += e11\n",
    "        for bj in range(bi+1,bL):\n",
    "            e12 = 2*bkt(psi_tst[str(bi)],k_tst[str(bi) + ',' + str(bj)],psi_tst[str(bj)])\n",
    "            etst += e12\n",
    "    return etst\n",
    "\n",
    "def Bdot(M,Psi):\n",
    "    bL = len(Psi)\n",
    "    out = copy.deepcopy(Psi)\n",
    "    for bi in range(bL):\n",
    "        out[str(bi)] = Mdot([M[str(bi) + ',' + str(bi)],Psi[str(bi)]])\n",
    "    for bi in range(bL):\n",
    "        for bj in range(bi+1,bL):\n",
    "            out[str(bi)] = out[str(bi)] + Mdot([M[str(bi) + ',' + str(bj)],Psi[str(bj)]])\n",
    "            out[str(bj)] = out[str(bj)] + Mdot([np.conjugate(M[str(bi) + ',' + str(bj)]),Psi[str(bi)]])\n",
    "    return out\n",
    "\n",
    "def Bdot2(Psi1,Psi2):\n",
    "    bL = len(Psi1)\n",
    "    out = 0\n",
    "    for bi in range(bL):\n",
    "        out += Mdot([Psi1[str(bi)],Psi2[str(bi)]])\n",
    "    return out\n",
    "\n",
    "\n",
    "etst = find_e(psi_sets(2,4), K_blocks(2,4))\n",
    "print('energy = ', etst)\n",
    "epsi = Bdot(K_blocks(2,4),psi_sets(2,4))\n",
    "keys = list(epsi.keys())\n",
    "for key in keys:\n",
    "    print( \"check eigenvecor for set\" + key , np.amax(np.abs( epsi[key] - etst*psi_sets(2,4)[key] )) )"
   ]
  },
  {
   "cell_type": "markdown",
   "id": "edf8c2cb",
   "metadata": {},
   "source": [
    "### Add zeros to fill $2^q$"
   ]
  },
  {
   "cell_type": "code",
   "execution_count": 2464,
   "id": "3e2c0ffa",
   "metadata": {},
   "outputs": [
    {
     "name": "stdout",
     "output_type": "stream",
     "text": [
      "energy =  (-3.9999999999999996+0j)\n",
      "check eigenvecor for set0 0.0\n",
      "check eigenvecor for set1 6.661338147750939e-16\n",
      "check eigenvecor for set2 2.220446049250313e-16\n",
      "check eigenvecor for set3 0.0\n",
      "check eigenvecor for set4 0.0\n",
      "check eigenvecor for set5 2.220446049250313e-16\n"
     ]
    }
   ],
   "source": [
    "def complete_block_on(b11):\n",
    "    b11 = list(b11)\n",
    "    for i in range(len(b11)):\n",
    "        b11[i] = list(b11[i])\n",
    "    size = int(2**np.ceil(np.log2(len(b11))) )\n",
    "    for v in b11:\n",
    "        while len(v) < size:\n",
    "            v.append(0.0)\n",
    "    while len(b11) < size:\n",
    "        i = len(b11)\n",
    "        vnew = [0.0 for i in range(0,size)]\n",
    "        vnew[i] = 0 #0 #1000\n",
    "        b11.append(vnew)\n",
    "    return np.array(b11)\n",
    "\n",
    "def complete_block_off(b11):\n",
    "    b11 = list(b11)\n",
    "    for i in range(len(b11)):\n",
    "        b11[i] = list(b11[i])\n",
    "    size = int(2**np.ceil(np.log2(len(b11))) )\n",
    "    for v in b11:\n",
    "        while len(v) < size:\n",
    "            v.append(0.0)\n",
    "    while len(b11) < size:\n",
    "        i = len(b11)\n",
    "        vnew = [0.0 for i in range(0,size)]\n",
    "        b11.append(vnew)\n",
    "    return np.array(b11)\n",
    "\n",
    "def complete_set(s1):\n",
    "    s1 = list(s1)\n",
    "    size = 2**np.ceil(np.log2(len(s1)))\n",
    "    while len(s1) < size:\n",
    "        s1.append(0)\n",
    "    return np.array(s1)\n",
    "\n",
    "def complete_blocks(blocks):\n",
    "    keys = list(blocks.keys())\n",
    "    for key in keys:\n",
    "        if key[0] == key[2]:\n",
    "            blocks[key] = complete_block_on(blocks[key])\n",
    "        else:\n",
    "            blocks[key] = complete_block_off(blocks[key])\n",
    "    return blocks\n",
    "\n",
    "def complete_sets(sets):\n",
    "    kets = list(sets.keys())\n",
    "    for key in keys:\n",
    "        sets[key] = complete_set(sets[key])\n",
    "    return sets\n",
    "\n",
    "\n",
    "psi_comp =  complete_sets(psi_sets(2,4))\n",
    "k_comp =  complete_blocks(K_blocks(2,4))\n",
    "\n",
    "\n",
    "etst = find_e(psi_comp, k_comp)\n",
    "print('energy = ', etst)\n",
    "epsi = Bdot(k_comp,psi_comp)\n",
    "keys = list(epsi.keys())\n",
    "for key in keys:\n",
    "    print( \"check eigenvecor for set\" + key , np.amax(np.abs( epsi[key] - etst*psi_comp[key] )) )"
   ]
  },
  {
   "cell_type": "markdown",
   "id": "84747167",
   "metadata": {},
   "source": [
    "#### Do Gutzwiller on the sets"
   ]
  },
  {
   "cell_type": "code",
   "execution_count": 2465,
   "id": "34662e28",
   "metadata": {},
   "outputs": [],
   "source": [
    "def G_comp(g):\n",
    "    return complete_blocks(G_blocks(g,2,4))\n",
    "psi_comp =  complete_sets(psi_sets(2,4))\n",
    "K_comp =  complete_blocks(K_blocks(2,4))\n",
    "D_comp = complete_blocks(D_blocks(2,4))\n",
    "\n",
    "\n",
    "H_comp = {}\n",
    "for key in list(K_comp.keys()):\n",
    "    H_comp[key] = K_comp[key] + 4*D_comp[key]\n",
    "    \n",
    "eg = []\n",
    "eT = []\n",
    "gl = []\n",
    "for gi in range(-10,10):\n",
    "    g = gi\n",
    "    psi_g = Bdot(G_comp(g),psi_comp)\n",
    "    norm = 1/np.sqrt(Bdot2(psi_g,psi_g))\n",
    "    Hpsi_g = Bdot(H_comp,psi_g)\n",
    "    egl = norm**2*Bdot2(psi_g,Hpsi_g)\n",
    "    eg.append(egl)\n",
    "    gl.append(g)\n",
    "    eT.append(e[0])\n"
   ]
  },
  {
   "cell_type": "code",
   "execution_count": 2466,
   "id": "9aca1115",
   "metadata": {},
   "outputs": [
    {
     "name": "stderr",
     "output_type": "stream",
     "text": [
      "/opt/miniconda3/envs/qiskit_u3.1/lib/python3.9/site-packages/numpy/core/_asarray.py:102: ComplexWarning: Casting complex values to real discards the imaginary part\n",
      "  return array(a, dtype, copy=False, order=order)\n"
     ]
    },
    {
     "data": {
      "text/plain": [
       "[<matplotlib.lines.Line2D at 0x7ffc886ec6a0>]"
      ]
     },
     "execution_count": 2466,
     "metadata": {},
     "output_type": "execute_result"
    },
    {
     "data": {
      "image/png": "[encoded data removed]",
      "text/plain": [
       "<Figure size 432x288 with 1 Axes>"
      ]
     },
     "metadata": {
      "needs_background": "light"
     },
     "output_type": "display_data"
    }
   ],
   "source": [
    "plt.plot(gl,eg)"
   ]
  },
  {
   "cell_type": "markdown",
   "id": "291f9d60",
   "metadata": {},
   "source": [
    "Note: the wavevectors are assumed to be real!"
   ]
  },
  {
   "cell_type": "markdown",
   "id": "7e9064ae",
   "metadata": {},
   "source": [
    "## Generate from quantum gates"
   ]
  },
  {
   "cell_type": "markdown",
   "id": "c8a0bc4b",
   "metadata": {},
   "source": [
    "### Find gates to generate Slater Determinant\n"
   ]
  },
  {
   "cell_type": "markdown",
   "id": "7be4c05e",
   "metadata": {},
   "source": [
    "We need to return these states"
   ]
  },
  {
   "cell_type": "code",
   "execution_count": 2467,
   "id": "87495000",
   "metadata": {},
   "outputs": [
    {
     "data": {
      "text/plain": [
       "{'0': array([ 0.125,  0.25 ,  0.125,  0.125,  0.   , -0.125,  0.   ,  0.   ]),\n",
       " '1': array([ 0.25,  0.5 ,  0.25,  0.25,  0.  , -0.25,  0.  ,  0.  ]),\n",
       " '2': array([ 0.125,  0.25 ,  0.125,  0.125,  0.   , -0.125,  0.   ,  0.   ]),\n",
       " '3': array([ 0.125,  0.25 ,  0.125,  0.125,  0.   , -0.125,  0.   ,  0.   ]),\n",
       " '4': array([ 0.,  0.,  0.,  0.,  0., -0.,  0.,  0.]),\n",
       " '5': array([-0.125, -0.25 , -0.125, -0.125, -0.   ,  0.125,  0.   ,  0.   ])}"
      ]
     },
     "execution_count": 2467,
     "metadata": {},
     "output_type": "execute_result"
    }
   ],
   "source": [
    "psi_comp"
   ]
  },
  {
   "cell_type": "markdown",
   "id": "71e4d8dc",
   "metadata": {},
   "source": [
    "These all hace the form:\n",
    "$$ |\\psi> = a |000> + b |001> + a |010> + a |011>  -a |101> $$\n",
    "\n",
    "#### From Unitary\n",
    "\n",
    "We can create a unitary which takes $|000> \\rightarrow |\\psi>$ by having the first row match the vector then find a set of orthoginal vectors to fill the remaining rows."
   ]
  },
  {
   "cell_type": "code",
   "execution_count": 2468,
   "id": "c8a1fec7",
   "metadata": {},
   "outputs": [
    {
     "name": "stdout",
     "output_type": "stream",
     "text": [
      "wave  [ 0.125  0.25   0.125  0.125  0.    -0.125  0.     0.   ]\n",
      "Is U unitary: 2.220446049250313e-16\n"
     ]
    },
    {
     "data": {
      "text/html": [
       "<div>\n",
       "<style scoped>\n",
       "    .dataframe tbody tr th:only-of-type {\n",
       "        vertical-align: middle;\n",
       "    }\n",
       "\n",
       "    .dataframe tbody tr th {\n",
       "        vertical-align: top;\n",
       "    }\n",
       "\n",
       "    .dataframe thead th {\n",
       "        text-align: right;\n",
       "    }\n",
       "</style>\n",
       "<table border=\"1\" class=\"dataframe\">\n",
       "  <thead>\n",
       "    <tr style=\"text-align: right;\">\n",
       "      <th></th>\n",
       "      <th>0</th>\n",
       "      <th>1</th>\n",
       "      <th>2</th>\n",
       "      <th>3</th>\n",
       "      <th>4</th>\n",
       "      <th>5</th>\n",
       "      <th>6</th>\n",
       "      <th>7</th>\n",
       "    </tr>\n",
       "  </thead>\n",
       "  <tbody>\n",
       "    <tr>\n",
       "      <th>0</th>\n",
       "      <td>0.353553</td>\n",
       "      <td>0.707107</td>\n",
       "      <td>0.353553</td>\n",
       "      <td>0.353553</td>\n",
       "      <td>0.000000</td>\n",
       "      <td>-0.353553</td>\n",
       "      <td>0.0</td>\n",
       "      <td>0.0</td>\n",
       "    </tr>\n",
       "    <tr>\n",
       "      <th>1</th>\n",
       "      <td>0.353553</td>\n",
       "      <td>0.000000</td>\n",
       "      <td>-0.353553</td>\n",
       "      <td>-0.353553</td>\n",
       "      <td>0.707107</td>\n",
       "      <td>-0.353553</td>\n",
       "      <td>0.0</td>\n",
       "      <td>0.0</td>\n",
       "    </tr>\n",
       "    <tr>\n",
       "      <th>2</th>\n",
       "      <td>0.707107</td>\n",
       "      <td>0.000000</td>\n",
       "      <td>0.000000</td>\n",
       "      <td>0.000000</td>\n",
       "      <td>0.000000</td>\n",
       "      <td>0.707107</td>\n",
       "      <td>0.0</td>\n",
       "      <td>0.0</td>\n",
       "    </tr>\n",
       "    <tr>\n",
       "      <th>3</th>\n",
       "      <td>0.000000</td>\n",
       "      <td>0.000000</td>\n",
       "      <td>0.707107</td>\n",
       "      <td>-0.707107</td>\n",
       "      <td>0.000000</td>\n",
       "      <td>0.000000</td>\n",
       "      <td>0.0</td>\n",
       "      <td>0.0</td>\n",
       "    </tr>\n",
       "    <tr>\n",
       "      <th>4</th>\n",
       "      <td>0.353553</td>\n",
       "      <td>-0.707107</td>\n",
       "      <td>0.353553</td>\n",
       "      <td>0.353553</td>\n",
       "      <td>0.000000</td>\n",
       "      <td>-0.353553</td>\n",
       "      <td>0.0</td>\n",
       "      <td>0.0</td>\n",
       "    </tr>\n",
       "    <tr>\n",
       "      <th>5</th>\n",
       "      <td>0.353553</td>\n",
       "      <td>0.000000</td>\n",
       "      <td>-0.353553</td>\n",
       "      <td>-0.353553</td>\n",
       "      <td>-0.707107</td>\n",
       "      <td>-0.353553</td>\n",
       "      <td>0.0</td>\n",
       "      <td>0.0</td>\n",
       "    </tr>\n",
       "    <tr>\n",
       "      <th>6</th>\n",
       "      <td>0.000000</td>\n",
       "      <td>0.000000</td>\n",
       "      <td>0.000000</td>\n",
       "      <td>0.000000</td>\n",
       "      <td>0.000000</td>\n",
       "      <td>0.000000</td>\n",
       "      <td>1.0</td>\n",
       "      <td>0.0</td>\n",
       "    </tr>\n",
       "    <tr>\n",
       "      <th>7</th>\n",
       "      <td>0.000000</td>\n",
       "      <td>0.000000</td>\n",
       "      <td>0.000000</td>\n",
       "      <td>0.000000</td>\n",
       "      <td>0.000000</td>\n",
       "      <td>0.000000</td>\n",
       "      <td>0.0</td>\n",
       "      <td>1.0</td>\n",
       "    </tr>\n",
       "  </tbody>\n",
       "</table>\n",
       "</div>"
      ],
      "text/plain": [
       "          0         1         2         3         4         5    6    7\n",
       "0  0.353553  0.707107  0.353553  0.353553  0.000000 -0.353553  0.0  0.0\n",
       "1  0.353553  0.000000 -0.353553 -0.353553  0.707107 -0.353553  0.0  0.0\n",
       "2  0.707107  0.000000  0.000000  0.000000  0.000000  0.707107  0.0  0.0\n",
       "3  0.000000  0.000000  0.707107 -0.707107  0.000000  0.000000  0.0  0.0\n",
       "4  0.353553 -0.707107  0.353553  0.353553  0.000000 -0.353553  0.0  0.0\n",
       "5  0.353553  0.000000 -0.353553 -0.353553 -0.707107 -0.353553  0.0  0.0\n",
       "6  0.000000  0.000000  0.000000  0.000000  0.000000  0.000000  1.0  0.0\n",
       "7  0.000000  0.000000  0.000000  0.000000  0.000000  0.000000  0.0  1.0"
      ]
     },
     "execution_count": 2468,
     "metadata": {},
     "output_type": "execute_result"
    }
   ],
   "source": [
    "U = 1/np.sqrt(2)*np.array([[0.5,1,0.5,0.5,0,-0.5,0,0],[0.5,0,-0.5,-0.5,1,-0.5,0,0],[1,0,0,0,0,1,0,0],[0,0,1,-1,0,0,0,0],[0.5,-1,0.5,0.5,0,-0.5,0,0],[0.5,0,-0.5,-0.5,-1,-0.5,0,0],[0,0,0,0,0,0,np.sqrt(2),0],[0,0,0,0,0,0,0,np.sqrt(2)]])\n",
    "\n",
    "\n",
    "\n",
    "\n",
    "print('wave ',1/np.sqrt(8)*Mdot([U,[1,0,0,0,0,0,0,0]]))\n",
    "print('Is U unitary:', np.amax(np.abs( Mdot([np.transpose(U),U]) - I(3) )) )\n",
    "pd.DataFrame(U)\n",
    "\n"
   ]
  },
  {
   "cell_type": "code",
   "execution_count": 2469,
   "id": "f2554536",
   "metadata": {},
   "outputs": [
    {
     "data": {
      "text/html": [
       "<pre style=\"word-wrap: normal;white-space: pre;background: #fff0;line-height: 1.1;font-family: &quot;Courier New&quot;,Courier,monospace\">     ┌──────────┐\n",
       "q_0: ┤0         ├\n",
       "     │          │\n",
       "q_1: ┤1 Unitary ├\n",
       "     │          │\n",
       "q_2: ┤2         ├\n",
       "     └──────────┘</pre>"
      ],
      "text/plain": [
       "     ┌──────────┐\n",
       "q_0: ┤0         ├\n",
       "     │          │\n",
       "q_1: ┤1 Unitary ├\n",
       "     │          │\n",
       "q_2: ┤2         ├\n",
       "     └──────────┘"
      ]
     },
     "execution_count": 2469,
     "metadata": {},
     "output_type": "execute_result"
    }
   ],
   "source": [
    "from qiskit import QuantumCircuit, transpile\n",
    "\n",
    "qc = QuantumCircuit(3)\n",
    "qc.unitary(U,[0,1,2])\n",
    "qc.draw()"
   ]
  },
  {
   "cell_type": "code",
   "execution_count": 2535,
   "id": "bc879852",
   "metadata": {},
   "outputs": [],
   "source": [
    "qc_trans = transpile(qc,basis_gates = ['cx','u3'])\n",
    "#qc_trans.draw()"
   ]
  },
  {
   "cell_type": "markdown",
   "id": "3b26540a",
   "metadata": {},
   "source": [
    "#### Directly from state"
   ]
  },
  {
   "cell_type": "code",
   "execution_count": 2471,
   "id": "3bc04ad9",
   "metadata": {},
   "outputs": [
    {
     "data": {
      "text/html": [
       "<pre style=\"word-wrap: normal;white-space: pre;background: #fff0;line-height: 1.1;font-family: &quot;Courier New&quot;,Courier,monospace\">     ┌─────────────────────────────────────────────────────────────┐\n",
       "q_0: ┤0                                                            ├\n",
       "     │                                                             │\n",
       "q_1: ┤1 Initialize(0.35355,0.70711,0.35355,0.35355,0,-0.35355,0,0) ├\n",
       "     │                                                             │\n",
       "q_2: ┤2                                                            ├\n",
       "     └─────────────────────────────────────────────────────────────┘</pre>"
      ],
      "text/plain": [
       "     ┌─────────────────────────────────────────────────────────────┐\n",
       "q_0: ┤0                                                            ├\n",
       "     │                                                             │\n",
       "q_1: ┤1 Initialize(0.35355,0.70711,0.35355,0.35355,0,-0.35355,0,0) ├\n",
       "     │                                                             │\n",
       "q_2: ┤2                                                            ├\n",
       "     └─────────────────────────────────────────────────────────────┘"
      ]
     },
     "execution_count": 2471,
     "metadata": {},
     "output_type": "execute_result"
    }
   ],
   "source": [
    "from qiskit import QuantumCircuit, transpile\n",
    "psi = np.array([0.5,1,0.5,0.5,0,-0.5,0,0])/np.sqrt(2)\n",
    "\n",
    "qc = QuantumCircuit(3)\n",
    "qc.initialize(psi,[0,1,2])\n",
    "\n",
    "qc.draw()"
   ]
  },
  {
   "cell_type": "code",
   "execution_count": 2472,
   "id": "fd35356a",
   "metadata": {},
   "outputs": [
    {
     "data": {
      "text/html": [
       "<pre style=\"word-wrap: normal;white-space: pre;background: #fff0;line-height: 1.1;font-family: &quot;Courier New&quot;,Courier,monospace\">global phase: π/8\n",
       "      ┌────────────┐                                                           »\n",
       "q_0: ─┤ Ry(1.7317) ├───────────────────────────────────────────────────────────»\n",
       "     ┌┴────────────┤           ┌───┐┌─────────────┐┌─────────┐┌───┐┌──────────┐»\n",
       "q_1: ┤ Ry(0.56394) ├───────────┤ X ├┤ Ry(0.56394) ├┤ Rz(π/4) ├┤ X ├┤ Rz(-π/4) ├»\n",
       "     ├─────────────┤┌─────────┐└─┬─┘└─────────────┘└─────────┘└─┬─┘└──────────┘»\n",
       "q_2: ┤ Ry(0.72273) ├┤ Rz(π/4) ├──■──────────────────────────────■──────────────»\n",
       "     └─────────────┘└─────────┘                                                »\n",
       "«     ┌───┐┌─────────────┐┌───┐┌──────────────┐┌───┐┌─────────────┐┌──────────┐»\n",
       "«q_0: ┤ X ├┤ Ry(0.94627) ├┤ X ├┤ Ry(-0.62452) ├┤ X ├┤ Ry(0.16088) ├┤ Rz(-π/4) ├»\n",
       "«     └─┬─┘└─────────────┘└─┬─┘└──────────────┘└─┬─┘└─────────────┘└──────────┘»\n",
       "«q_1: ──■───────────────────┼────────────────────■─────────────────────────────»\n",
       "«                           │                                                  »\n",
       "«q_2: ──────────────────────■──────────────────────────────────────────────────»\n",
       "«                                                                              »\n",
       "«     ┌───┐┌──────────┐┌───┐┌─────────┐┌───┐┌─────────┐\n",
       "«q_0: ┤ X ├┤ Rz(-π/4) ├┤ X ├┤ Rz(π/4) ├┤ X ├┤ Rz(π/4) ├\n",
       "«     └─┬─┘└──────────┘└─┬─┘└─────────┘└─┬─┘└─────────┘\n",
       "«q_1: ──■────────────────┼───────────────■─────────────\n",
       "«                        │                             \n",
       "«q_2: ───────────────────■─────────────────────────────\n",
       "«                                                      </pre>"
      ],
      "text/plain": [
       "global phase: π/8\n",
       "      ┌────────────┐                                                           »\n",
       "q_0: ─┤ Ry(1.7317) ├───────────────────────────────────────────────────────────»\n",
       "     ┌┴────────────┤           ┌───┐┌─────────────┐┌─────────┐┌───┐┌──────────┐»\n",
       "q_1: ┤ Ry(0.56394) ├───────────┤ X ├┤ Ry(0.56394) ├┤ Rz(π/4) ├┤ X ├┤ Rz(-π/4) ├»\n",
       "     ├─────────────┤┌─────────┐└─┬─┘└─────────────┘└─────────┘└─┬─┘└──────────┘»\n",
       "q_2: ┤ Ry(0.72273) ├┤ Rz(π/4) ├──■──────────────────────────────■──────────────»\n",
       "     └─────────────┘└─────────┘                                                »\n",
       "«     ┌───┐┌─────────────┐┌───┐┌──────────────┐┌───┐┌─────────────┐┌──────────┐»\n",
       "«q_0: ┤ X ├┤ Ry(0.94627) ├┤ X ├┤ Ry(-0.62452) ├┤ X ├┤ Ry(0.16088) ├┤ Rz(-π/4) ├»\n",
       "«     └─┬─┘└─────────────┘└─┬─┘└──────────────┘└─┬─┘└─────────────┘└──────────┘»\n",
       "«q_1: ──■───────────────────┼────────────────────■─────────────────────────────»\n",
       "«                           │                                                  »\n",
       "«q_2: ──────────────────────■──────────────────────────────────────────────────»\n",
       "«                                                                              »\n",
       "«     ┌───┐┌──────────┐┌───┐┌─────────┐┌───┐┌─────────┐\n",
       "«q_0: ┤ X ├┤ Rz(-π/4) ├┤ X ├┤ Rz(π/4) ├┤ X ├┤ Rz(π/4) ├\n",
       "«     └─┬─┘└──────────┘└─┬─┘└─────────┘└─┬─┘└─────────┘\n",
       "«q_1: ──■────────────────┼───────────────■─────────────\n",
       "«                        │                             \n",
       "«q_2: ───────────────────■─────────────────────────────\n",
       "«                                                      "
      ]
     },
     "execution_count": 2472,
     "metadata": {},
     "output_type": "execute_result"
    }
   ],
   "source": [
    "qc_trans = transpile(qc,basis_gates = ['cx','ry','rz'])\n",
    "qc_trans.draw()"
   ]
  },
  {
   "cell_type": "markdown",
   "id": "acf24da3",
   "metadata": {},
   "source": [
    "## Gutzwiller using gates\n",
    "\n",
    "There are two possible methods here.  1) we find the Pauli decomposition of the Gutzwiler blocks and multiply them directly to the circuits one by one.  2) we mutiply the Gutzwiler with the Hamiltoniain and find the puali decomposition of the entire matrix.  \n",
    "\n",
    "We will use the second method since it requries fewer circuits.  \n",
    "\n",
    "If we were not using blocks, we could find the Pauli decomposition by hand using \n",
    "$$ \\hat{K} = k\\sum_{i\\sigma}\\left(c^{\\dagger}_{i\\sigma}c_{i+1\\sigma} +c ^{\\dagger}_{i+1\\sigma}c_{i\\sigma} \\right) $$\n",
    "\n",
    "$$ \\hat{D} = d\\sum_{i\\sigma}n_{i\\uparrow}n_{i\\downarrow} $$\n",
    "\n",
    "$$ \\hat{G} = \\prod_{i}\\left[ A(g) + B(g)(n_{i\\uparrow}n_{i\\downarrow} - 1) \\right] $$\n",
    "\n",
    "The form \n",
    "$$ H = \\hat{G}(\\hat{K} + \\hat{D})\\hat{G} $$\n",
    "\n",
    "However, since we want to use the block formulation, we will simply let the computer find the Pauli decomposition for us.  \n",
    "\n",
    "Remeber to take care of normalization"
   ]
  },
  {
   "cell_type": "code",
   "execution_count": 2473,
   "id": "3b5633ea",
   "metadata": {},
   "outputs": [],
   "source": [
    "def H_spin(k,d,Ns,N):\n",
    "    return k*K_spin(Ns,N) + d*D_spin(Ns,N)\n",
    "\n",
    "def GHG_spin(g,k,d,Ns,N):\n",
    "    return Mdot([G_spin(g,Ns,N),H_spin(k,d,Ns,N),G_spin(g,Ns,N)])\n",
    "\n",
    "def norm_spin(g,Ns,N):\n",
    "    return Mdot([G_spin(g,Ns,N),G_spin(g,Ns,N)])\n",
    "\n",
    "def GHG_blocks(g,k,d,Ns,N):\n",
    "    bL = math.comb(N,Ns)\n",
    "    H_tu = GHG_spin(g,k,d,Ns,N)\n",
    "    blocks = {}\n",
    "    for bi in range(bL):\n",
    "        for bj in range(bi,bL):\n",
    "            bij = [[H_tu[i + bL*bi][j + bL*bj] for j in range(0,bL)] for i in range(0,bL)]\n",
    "            blocks[str(bi) + ',' + str(bj)] = np.array(bij)\n",
    "    return blocks\n",
    "\n",
    "def norm_blocks(g,Ns,N):\n",
    "    bL = math.comb(N,Ns)\n",
    "    H_tu = norm_spin(g,Ns,N)\n",
    "    blocks = {}\n",
    "    for bi in range(bL):\n",
    "        for bj in range(bi,bL):\n",
    "            bij = [[H_tu[i + bL*bi][j + bL*bj] for j in range(0,bL)] for i in range(0,bL)]\n",
    "            blocks[str(bi) + ',' + str(bj)] = np.array(bij)\n",
    "    return blocks"
   ]
  },
  {
   "cell_type": "code",
   "execution_count": 2474,
   "id": "e91ec830",
   "metadata": {},
   "outputs": [],
   "source": [
    "def GHG_comp(g,k,d,Ns,N):\n",
    "    return complete_blocks(GHG_blocks(g,k,d,Ns,N))\n",
    "\n",
    "def norm_comp(g,Ns,N):\n",
    "    return complete_blocks(norm_blocks(g,Ns,N))\n",
    "\n",
    "def find_paulis(blocks):\n",
    "    keys = list(blocks.keys())\n",
    "    paulis = {}\n",
    "    for key in keys:\n",
    "        if np.amax(np.abs(blocks[key])) > 10**(-8):\n",
    "            paulis[key] = MatrixOp(blocks[key]).to_pauli_op()\n",
    "    return paulis\n",
    "\n",
    "\n",
    "\n",
    "def GHG_paulis(g,k,d,Ns,N):\n",
    "    return find_paulis(GHG_comp(g,k,d,Ns,N))\n",
    "\n",
    "def norm_paulis(g,Ns,N):\n",
    "    return find_paulis(norm_comp(g,Ns,N))"
   ]
  },
  {
   "cell_type": "code",
   "execution_count": 2475,
   "id": "bcd415de",
   "metadata": {},
   "outputs": [],
   "source": [
    "#There is an issue with the second off diagonal braket \n",
    "def bkt_paulis(psi1,O,psi2):\n",
    "    keys = list(O.keys())\n",
    "    out = 0\n",
    "    for key in keys:\n",
    "        for pauli in O[key]:\n",
    "            p = pauli.primitive.to_label()\n",
    "            P = qi.Operator.from_label(p).data\n",
    "            w = pauli.coeff\n",
    "            if key[0] == key[2]:\n",
    "                out += w*Mdot([np.conjugate(psi1[key[0]]) , P , psi2[key[2]] ])\n",
    "            else:\n",
    "                out += w*Mdot([np.conjugate(psi1[key[0]]) , P , psi2[key[2]] ])\n",
    "                out += w*np.conjugate( Mdot([ psi1[key[0]] , P , psi2[key[2]] ]) )\n",
    "    return out"
   ]
  },
  {
   "cell_type": "code",
   "execution_count": 2476,
   "id": "c7105f31",
   "metadata": {},
   "outputs": [
    {
     "name": "stdout",
     "output_type": "stream",
     "text": [
      "check norm: 0j\n",
      "check GHG:  (-4.163336342344337e-17+0j)\n"
     ]
    }
   ],
   "source": [
    "print ( 'check norm:',  bkt_paulis(psi_comp,norm_paulis(2,2,4),psi_comp) - bkt(psi_spin(2,4),norm_spin(2,2,4),psi_spin(2,4)) )\n",
    "\n",
    "print('check GHG: ', bkt_paulis(psi_comp,GHG_paulis(2,1,4,2,4),psi_comp) - Mdot([psi_spin(2,4),G_spin(2,2,4),K_spin(2,4) + 4*D_spin(2,4),G_spin(2,2,4),psi_spin(2,4)]))\n"
   ]
  },
  {
   "cell_type": "code",
   "execution_count": 2477,
   "id": "51406097",
   "metadata": {},
   "outputs": [],
   "source": [
    "def find_energy_paulis(g,k,d,Ns,N):\n",
    "    psi =  complete_sets(psi_sets(Ns,N))\n",
    "    GHG = GHG_paulis(g,k,d,Ns,N)\n",
    "    norm = norm_paulis(g,Ns,N)\n",
    "    e = bkt_paulis(psi,GHG,psi)/bkt_paulis(psi,norm,psi)\n",
    "    return e"
   ]
  },
  {
   "cell_type": "code",
   "execution_count": 2479,
   "id": "f0991be2",
   "metadata": {},
   "outputs": [
    {
     "name": "stdout",
     "output_type": "stream",
     "text": [
      "check energy: (-5.551115123125783e-16+0j)\n"
     ]
    }
   ],
   "source": [
    "psi_g = Mdot([G_spin(2,2,4),psi_spin(2,4)])\n",
    "norm = 1/np.sqrt(Mdot([np.conjugate(psi_g),psi_g]))\n",
    "psi_g = norm*psi_g\n",
    "egl = bkt(psi_g,H,psi_g)\n",
    "print('check energy:', find_energy_paulis(2,1,4,2,4) - egl)"
   ]
  },
  {
   "cell_type": "code",
   "execution_count": 2480,
   "id": "315111eb",
   "metadata": {},
   "outputs": [
    {
     "name": "stdout",
     "output_type": "stream",
     "text": [
      "[-2.10274848e+00+0.j -1.80642385e+00+0.j -1.06814039e+00+0.j\n",
      " -8.28427125e-01+0.j -8.28427125e-01+0.j -9.10047016e-16+0.j\n",
      "  5.81449281e-01+0.j  2.00000000e+00+0.j  2.00000000e+00+0.j\n",
      "  2.00000000e+00+0.j  2.00000000e+00+0.j  2.38787313e+00+0.j\n",
      "  2.96539191e+00+0.j  3.17157288e+00+0.j  3.17157288e+00+0.j\n",
      "  4.00000000e+00+0.j  4.00000000e+00+0.j  4.00000000e+00+0.j\n",
      "  4.00000000e+00+0.j  4.00000000e+00+0.j  4.00000000e+00+0.j\n",
      "  4.82842712e+00+0.j  4.82842712e+00+0.j  5.03460809e+00+0.j\n",
      "  5.61212687e+00+0.j  6.00000000e+00+0.j  6.00000000e+00+0.j\n",
      "  6.00000000e+00+0.j  6.00000000e+00+0.j  7.41855072e+00+0.j\n",
      "  8.00000000e+00+0.j  8.82842712e+00+0.j  8.82842712e+00+0.j\n",
      "  9.06814039e+00+0.j  9.80642385e+00+0.j  1.01027485e+01+0.j]\n"
     ]
    },
    {
     "name": "stderr",
     "output_type": "stream",
     "text": [
      "/opt/miniconda3/envs/qiskit_u3.1/lib/python3.9/site-packages/numpy/core/_asarray.py:102: ComplexWarning: Casting complex values to real discards the imaginary part\n",
      "  return array(a, dtype, copy=False, order=order)\n"
     ]
    },
    {
     "data": {
      "image/png": "[encoded data removed]",
      "text/plain": [
       "<Figure size 432x288 with 1 Axes>"
      ]
     },
     "metadata": {
      "needs_background": "light"
     },
     "output_type": "display_data"
    }
   ],
   "source": [
    "#two spin up two spin down\n",
    "H = K_spin(2,4) + 4*D_spin(2,4)\n",
    "e,y = np.linalg.eig(H)\n",
    "e = np.sort(e)\n",
    "\n",
    "eg = []\n",
    "eT = []\n",
    "gl = []\n",
    "for gi in range(-10,10):\n",
    "    g = gi\n",
    "    egl = find_energy_paulis(g,1,4,2,4)\n",
    "    eg.append(egl)\n",
    "    gl.append(g)\n",
    "    eT.append(e[0])\n",
    "\n",
    "plt.plot(gl,eg)\n",
    "plt.plot(gl,eT)\n",
    "print(e)"
   ]
  },
  {
   "cell_type": "markdown",
   "id": "665ad475",
   "metadata": {},
   "source": [
    "## Full thing using gates\n",
    "\n",
    "Notice that the slatter statevector is the same in all sets up to a weight.  Therefore, doing off diagonal brakets can be handeled completely classically.  \n",
    "\n",
    "Additionally, g does not chenge the structure of the pualis but only the wieghts.  Therefore, only one run has to be done on the quantum computer, the rest can be delt with classically.  \n",
    "\n",
    "The method will be to \n",
    "\n",
    "1) sort out a collection of unique pauli terms\n",
    "\n",
    "2) measure each of those terms on the qunatum computer.\n",
    "\n",
    "3) use those measurments to construct a calculation of the brackets.  "
   ]
  },
  {
   "cell_type": "markdown",
   "id": "4a34eb47",
   "metadata": {},
   "source": [
    "### Find the collection of unique Pauli terms"
   ]
  },
  {
   "cell_type": "code",
   "execution_count": 2481,
   "id": "91701dae",
   "metadata": {},
   "outputs": [],
   "source": [
    "def pauli_collection(Ops):\n",
    "    out = {}\n",
    "    for O in Ops:\n",
    "        keys = list(O.keys())\n",
    "        for key in keys:\n",
    "            block = O[key]\n",
    "            for p in block:\n",
    "                pauli = p.primitive.to_label()\n",
    "                if pauli not in out:\n",
    "                    out[pauli] = 0\n",
    "    return out\n",
    "\n",
    "paulis = pauli_collection([GHG_paulis(2,1,4,2,4),norm_paulis(2,2,4)])\n"
   ]
  },
  {
   "cell_type": "markdown",
   "id": "96ed81b1",
   "metadata": {},
   "source": [
    "### Create circuits"
   ]
  },
  {
   "cell_type": "code",
   "execution_count": 2482,
   "id": "a277d188",
   "metadata": {},
   "outputs": [],
   "source": [
    "from qiskit import QuantumCircuit, transpile, QuantumRegister,ClassicalRegister, execute\n",
    "\n",
    "\n",
    "def create_circ(p_label):\n",
    "    psi0 = np.array([0.5,1,0.5,0.5,0,-0.5,0,0])/np.sqrt(2)\n",
    "    qbits = [0,1,2]\n",
    "    qr = QuantumRegister(3)\n",
    "    cr = ClassicalRegister(3)\n",
    "    qc = QuantumCircuit(qr , cr)\n",
    "    qc.initialize(psi0,qbits)\n",
    "    qc_trans = transpile(qc,basis_gates = ['cx','ry','rz'])\n",
    "    psi = copy.deepcopy(qc_trans)\n",
    "    pauli_qs = []\n",
    "    Z_label = ''\n",
    "    Q = len(p_label)-1\n",
    "    for q,p in enumerate(p_label):\n",
    "        if p == 'X':\n",
    "            psi.ry(-np.pi/2,qbits[Q-q])\n",
    "            pauli_qs.append(1)\n",
    "            Z_label += 'Z'\n",
    "        if p == 'Y':\n",
    "            psi.rx(np.pi/2,qbits[Q-q])\n",
    "            pauli_qs.append(1)\n",
    "            Z_label += 'Z'\n",
    "        if p == 'Z':\n",
    "            pauli_qs.append(1)\n",
    "            Z_label += 'Z'\n",
    "        if p == 'I':\n",
    "            pauli_qs.append(0)\n",
    "            Z_label += 'I'\n",
    "    psi.measure(psi.qubits,psi.clbits)\n",
    "    return [psi,pauli_qs,p_label]\n",
    "\n",
    "def create_circs(paulis):\n",
    "    keys = list(paulis.keys())\n",
    "    circs = []\n",
    "    meas = []\n",
    "    labels = []\n",
    "    for key in keys:\n",
    "        ck, mk, lk = create_circ(key)\n",
    "        circs.append(ck)\n",
    "        meas.append(mk)\n",
    "        labels.append(lk)\n",
    "    return circs, meas, labels\n"
   ]
  },
  {
   "cell_type": "code",
   "execution_count": 2483,
   "id": "da392d1f",
   "metadata": {},
   "outputs": [],
   "source": [
    "circs,meas,labels  = create_circs(paulis)"
   ]
  },
  {
   "cell_type": "code",
   "execution_count": 2484,
   "id": "4df92569",
   "metadata": {},
   "outputs": [
    {
     "name": "stdout",
     "output_type": "stream",
     "text": [
      "IXZ\n",
      "[0, 1, 1]\n"
     ]
    },
    {
     "data": {
      "text/html": [
       "<pre style=\"word-wrap: normal;white-space: pre;background: #fff0;line-height: 1.1;font-family: &quot;Courier New&quot;,Courier,monospace\">global phase: π/8\n",
       "           ┌────────────┐                                               »\n",
       "q35024_0: ─┤ Ry(1.7317) ├───────────────────────────────────────────────»\n",
       "          ┌┴────────────┤           ┌───┐┌─────────────┐┌─────────┐┌───┐»\n",
       "q35024_1: ┤ Ry(0.56394) ├───────────┤ X ├┤ Ry(0.56394) ├┤ Rz(π/4) ├┤ X ├»\n",
       "          ├─────────────┤┌─────────┐└─┬─┘└─────────────┘└─────────┘└─┬─┘»\n",
       "q35024_2: ┤ Ry(0.72273) ├┤ Rz(π/4) ├──■──────────────────────────────■──»\n",
       "          └─────────────┘└─────────┘                                    »\n",
       "  c696: 3/══════════════════════════════════════════════════════════════»\n",
       "                                                                        »\n",
       "«                      ┌───┐┌─────────────┐┌───┐┌──────────────┐┌───┐»\n",
       "«q35024_0: ────────────┤ X ├┤ Ry(0.94627) ├┤ X ├┤ Ry(-0.62452) ├┤ X ├»\n",
       "«          ┌──────────┐└─┬─┘└─────────────┘└─┬─┘└──────────────┘└─┬─┘»\n",
       "«q35024_1: ┤ Rz(-π/4) ├──■───────────────────┼────────────────────■──»\n",
       "«          └──────────┘                      │                       »\n",
       "«q35024_2: ──────────────────────────────────■───────────────────────»\n",
       "«                                                                    »\n",
       "«  c696: 3/══════════════════════════════════════════════════════════»\n",
       "«                                                                    »\n",
       "«          ┌─────────────┐┌──────────┐┌───┐┌──────────┐┌───┐┌─────────┐┌───┐»\n",
       "«q35024_0: ┤ Ry(0.16088) ├┤ Rz(-π/4) ├┤ X ├┤ Rz(-π/4) ├┤ X ├┤ Rz(π/4) ├┤ X ├»\n",
       "«          └─────────────┘└──────────┘└─┬─┘└──────────┘└─┬─┘└─────────┘└─┬─┘»\n",
       "«q35024_1: ─────────────────────────────■────────────────┼───────────────■──»\n",
       "«                                                        │      ┌─┐         »\n",
       "«q35024_2: ──────────────────────────────────────────────■──────┤M├─────────»\n",
       "«                                                               └╥┘         »\n",
       "«  c696: 3/══════════════════════════════════════════════════════╩══════════»\n",
       "«                                                                2          »\n",
       "«          ┌─────────┐ ┌─┐   \n",
       "«q35024_0: ┤ Rz(π/4) ├─┤M├───\n",
       "«          ├─────────┴┐└╥┘┌─┐\n",
       "«q35024_1: ┤ Ry(-π/2) ├─╫─┤M├\n",
       "«          └──────────┘ ║ └╥┘\n",
       "«q35024_2: ─────────────╫──╫─\n",
       "«                       ║  ║ \n",
       "«  c696: 3/═════════════╩══╩═\n",
       "«                       0  1 </pre>"
      ],
      "text/plain": [
       "global phase: π/8\n",
       "           ┌────────────┐                                               »\n",
       "q35024_0: ─┤ Ry(1.7317) ├───────────────────────────────────────────────»\n",
       "          ┌┴────────────┤           ┌───┐┌─────────────┐┌─────────┐┌───┐»\n",
       "q35024_1: ┤ Ry(0.56394) ├───────────┤ X ├┤ Ry(0.56394) ├┤ Rz(π/4) ├┤ X ├»\n",
       "          ├─────────────┤┌─────────┐└─┬─┘└─────────────┘└─────────┘└─┬─┘»\n",
       "q35024_2: ┤ Ry(0.72273) ├┤ Rz(π/4) ├──■──────────────────────────────■──»\n",
       "          └─────────────┘└─────────┘                                    »\n",
       "  c696: 3/══════════════════════════════════════════════════════════════»\n",
       "                                                                        »\n",
       "«                      ┌───┐┌─────────────┐┌───┐┌──────────────┐┌───┐»\n",
       "«q35024_0: ────────────┤ X ├┤ Ry(0.94627) ├┤ X ├┤ Ry(-0.62452) ├┤ X ├»\n",
       "«          ┌──────────┐└─┬─┘└─────────────┘└─┬─┘└──────────────┘└─┬─┘»\n",
       "«q35024_1: ┤ Rz(-π/4) ├──■───────────────────┼────────────────────■──»\n",
       "«          └──────────┘                      │                       »\n",
       "«q35024_2: ──────────────────────────────────■───────────────────────»\n",
       "«                                                                    »\n",
       "«  c696: 3/══════════════════════════════════════════════════════════»\n",
       "«                                                                    »\n",
       "«          ┌─────────────┐┌──────────┐┌───┐┌──────────┐┌───┐┌─────────┐┌───┐»\n",
       "«q35024_0: ┤ Ry(0.16088) ├┤ Rz(-π/4) ├┤ X ├┤ Rz(-π/4) ├┤ X ├┤ Rz(π/4) ├┤ X ├»\n",
       "«          └─────────────┘└──────────┘└─┬─┘└──────────┘└─┬─┘└─────────┘└─┬─┘»\n",
       "«q35024_1: ─────────────────────────────■────────────────┼───────────────■──»\n",
       "«                                                        │      ┌─┐         »\n",
       "«q35024_2: ──────────────────────────────────────────────■──────┤M├─────────»\n",
       "«                                                               └╥┘         »\n",
       "«  c696: 3/══════════════════════════════════════════════════════╩══════════»\n",
       "«                                                                2          »\n",
       "«          ┌─────────┐ ┌─┐   \n",
       "«q35024_0: ┤ Rz(π/4) ├─┤M├───\n",
       "«          ├─────────┴┐└╥┘┌─┐\n",
       "«q35024_1: ┤ Ry(-π/2) ├─╫─┤M├\n",
       "«          └──────────┘ ║ └╥┘\n",
       "«q35024_2: ─────────────╫──╫─\n",
       "«                       ║  ║ \n",
       "«  c696: 3/═════════════╩══╩═\n",
       "«                       0  1 "
      ]
     },
     "execution_count": 2484,
     "metadata": {},
     "output_type": "execute_result"
    }
   ],
   "source": [
    "\n",
    "pi = 5\n",
    "print(labels[pi])\n",
    "print(meas[pi])\n",
    "circs[pi].draw()"
   ]
  },
  {
   "cell_type": "markdown",
   "id": "f086d5a7",
   "metadata": {},
   "source": [
    "### Measure Circuits"
   ]
  },
  {
   "cell_type": "code",
   "execution_count": 2493,
   "id": "413ae222",
   "metadata": {},
   "outputs": [],
   "source": [
    "from qiskit import IBMQ,transpile\n",
    "from qiskit.tools.monitor import job_monitor\n",
    "IBMQ.load_account()\n",
    "provider = IBMQ.get_provider(hub='ibm-q-afrl', group='air-force-lab', project='quantum-sim')\n",
    "backend = provider.get_backend('ibmq_jakarta')"
   ]
  },
  {
   "cell_type": "code",
   "execution_count": 2514,
   "id": "f4c57e58",
   "metadata": {},
   "outputs": [],
   "source": [
    "from qiskit import Aer\n",
    "import copy\n",
    "\n",
    "def get_results(circs_in, method = 'matrix',save_id_file = None):\n",
    "    circs = copy.deepcopy(circs_in)\n",
    "    #Exact Calculation\n",
    "    if method == 'matrix':\n",
    "        # add results\n",
    "        r = []\n",
    "        for l in range(len(circs)):\n",
    "            circs[l].remove_final_measurements()\n",
    "            wave = qi.Statevector.from_instruction(circs[l])\n",
    "            r_l = wave.probabilities_dict()\n",
    "            r.append(r_l)\n",
    "    #Qiskit Simulation        \n",
    "    if method == \"simulator\":\n",
    "        sim = Aer.get_backend(\"qasm_simulator\")\n",
    "        r = execute(circs, backend = sim).result().get_counts() \n",
    "    #Device\n",
    "    if method == \"quantum\":\n",
    "        job = backend.run(transpile(circs, backend), meas_level=2, shots=8192)\n",
    "        job_id = job.job_id()\n",
    "        print(job_id)\n",
    "        np.save(save_id_file,[job_id])\n",
    "        r = job.result().get_counts()\n",
    "    return r\n",
    "\n",
    "results = get_results(circs)\n",
    "#results = get_results(circs, method = 'simulator')\n",
    "\n",
    "#save_id_file = \"/Users/stenger/Documents/Research/Half_Classical_Evolution/Data/Job_id_test\"\n",
    "#results = get_results(circs, method = 'quantum',save_id_file = save_id_file)"
   ]
  },
  {
   "cell_type": "code",
   "execution_count": 2515,
   "id": "84cbd286",
   "metadata": {},
   "outputs": [],
   "source": [
    "def analyze_result(r,meas):\n",
    "    qbits = [0,1,2]\n",
    "    QL=len(list(r.keys())[0])\n",
    "    Q = len(meas)\n",
    "    z_measure = 0\n",
    "    total = 0\n",
    "    for key in list(r.keys()):\n",
    "        n = 0\n",
    "        for q in range(Q):\n",
    "            if key[QL-1-qbits[q]] == '1' and meas[Q-1-q] == 1:\n",
    "                n += 1\n",
    "        z_measure += (-1)**n * r[key] \n",
    "        total += r[key]\n",
    "    return z_measure/total\n",
    "\n",
    "def analyze_results(r,meas,labels):\n",
    "    paulis = {}\n",
    "    for pi in range(len(r)):\n",
    "        paulis[labels[pi]] = analyze_result(r[pi],meas[pi])\n",
    "    return paulis\n",
    "\n",
    "\n",
    "pauli_meas = analyze_results(results,meas,labels)"
   ]
  },
  {
   "cell_type": "markdown",
   "id": "8dac833e",
   "metadata": {},
   "source": [
    "### Calculate Bracket\n",
    "\n",
    "The brackets are of the form\n",
    "$$ <\\psi_i|O_{ij}|\\psi_j> $$\n",
    "where $i$ and $j$ label the blocks.\n",
    "\n",
    "The operator is a composed of pauli components $P_{ij,p}$ and weights $w_{ij,p}$\n",
    "$$ O_{ij} = \\sum_p w_{ij,p}P_{ij,p} $$\n",
    "\n",
    "The statevectors are all of the same form $|\\bar{\\psi}>$ but with different wieghts $\\alpha_i$\n",
    "$$ |\\psi_i> = \\alpha_i  |\\bar{\\psi}>$$\n",
    "\n",
    "So the braket can be expressed as,\n",
    "$$ <\\psi_i|O_{ij}|\\psi_j> = \\alpha_i^*\\alpha_j \\sum_p w_{ij,p} <\\bar{\\psi}|P_{ij,p}|\\bar{\\psi}> $$"
   ]
  },
  {
   "cell_type": "code",
   "execution_count": 2516,
   "id": "1904030e",
   "metadata": {},
   "outputs": [],
   "source": [
    "def alphas(psi_comp):\n",
    "    keys = list(psi_comp.keys())\n",
    "    total = sum(Mdot([psi_comp[key],psi_comp[key]]) for key in keys)\n",
    "    a = {}\n",
    "    for key in keys:\n",
    "        a[key] = np.sign(psi_comp[key][0])*np.sqrt(Mdot([psi_comp[key],psi_comp[key]])/total)\n",
    "    return a\n",
    "\n",
    "def bkt_from_result(p_meas, O, psi):\n",
    "    out = 0\n",
    "    #check =[]\n",
    "    a = alphas(psi)\n",
    "    block_keys = list(O.keys())\n",
    "    for bk in block_keys:\n",
    "        for pauli in O[bk]:\n",
    "            p = pauli.primitive.to_label()\n",
    "            w = pauli.coeff\n",
    "            if bk[0] == bk[2]:\n",
    "                out += a[bk[0]]*a[bk[2]]*w*p_meas[p]\n",
    "            else:\n",
    "                out += 2*a[bk[0]]*a[bk[2]]*w*p_meas[p]\n",
    "            #check.append([bk,p,a[bk[0]]*a[bk[2]]*w*p_meas[p]])\n",
    "    return out\n",
    "    #return check\n",
    "        "
   ]
  },
  {
   "cell_type": "code",
   "execution_count": 2517,
   "id": "86af99f0",
   "metadata": {},
   "outputs": [
    {
     "name": "stdout",
     "output_type": "stream",
     "text": [
      "check that norm has the right expectation value: (2.7755575615628914e-17+0j)\n"
     ]
    }
   ],
   "source": [
    "tst1 = bkt_from_result(pauli_meas,norm_paulis(2,2,4),psi_comp)\n",
    "tst2 = Mdot([psi_spin(2,4),norm_spin(2,2,4),psi_spin(2,4)])\n",
    "print('check that norm has the right expectation value:', tst1-tst2)"
   ]
  },
  {
   "cell_type": "code",
   "execution_count": 2518,
   "id": "ceccfffc",
   "metadata": {},
   "outputs": [
    {
     "name": "stdout",
     "output_type": "stream",
     "text": [
      "check that GHG has the right expectation values: (6.938893903907228e-18+0j)\n"
     ]
    }
   ],
   "source": [
    "tst1 = bkt_from_result(pauli_meas,GHG_paulis(2,1,4,2,4),psi_comp)\n",
    "tst2 = bkt_paulis(psi_comp,GHG_paulis(2,1,4,2,4),psi_comp)\n",
    "print('check that GHG has the right expectation values:', tst1-tst2)"
   ]
  },
  {
   "cell_type": "code",
   "execution_count": 2519,
   "id": "c96eb351",
   "metadata": {},
   "outputs": [],
   "source": [
    "def energy_from_results(r,g,k,d,Ns,N):\n",
    "    num = bkt_from_result(pauli_meas,GHG_paulis(g,k,d,Ns,N),psi_comp)\n",
    "    dnm = bkt_from_result(pauli_meas,norm_paulis(g,Ns,N),psi_comp)\n",
    "    return num/dnm\n",
    "    "
   ]
  },
  {
   "cell_type": "code",
   "execution_count": 2520,
   "id": "364dc513",
   "metadata": {},
   "outputs": [
    {
     "data": {
      "text/plain": [
       "-0.6151399249253594"
      ]
     },
     "execution_count": 2520,
     "metadata": {},
     "output_type": "execute_result"
    }
   ],
   "source": [
    "energy_from_results(results,2,1,4,2,4)"
   ]
  },
  {
   "cell_type": "code",
   "execution_count": 2523,
   "id": "d0ebe3c9",
   "metadata": {},
   "outputs": [],
   "source": [
    "k=1\n",
    "d=4\n",
    "Ns=2\n",
    "N=4\n",
    "\n",
    "H = k*K_spin(Ns,N) + d*D_spin(Ns,N)\n",
    "e,y = np.linalg.eig(H)\n",
    "e = np.sort(e)\n",
    "\n",
    "\n",
    "\n",
    "eg = []\n",
    "gl = []\n",
    "eT = []\n",
    "for gi in range(-10,10):\n",
    "    g = gi\n",
    "    egl = energy_from_results(results,g,k,d,Ns,N)\n",
    "    eg.append(egl)\n",
    "    gl.append(g)\n",
    "    eT.append(e[0])\n",
    "\n"
   ]
  },
  {
   "cell_type": "code",
   "execution_count": 2524,
   "id": "8c566056",
   "metadata": {},
   "outputs": [
    {
     "data": {
      "text/plain": [
       "[<matplotlib.lines.Line2D at 0x7ffc887ee400>]"
      ]
     },
     "execution_count": 2524,
     "metadata": {},
     "output_type": "execute_result"
    },
    {
     "data": {
      "image/png": "[encoded data removed]",
      "text/plain": [
       "<Figure size 432x288 with 1 Axes>"
      ]
     },
     "metadata": {
      "needs_background": "light"
     },
     "output_type": "display_data"
    }
   ],
   "source": [
    "plt.scatter(gl,eg,s=80)\n",
    "plt.scatter(gl,eg_h,s=40)\n",
    "plt.plot(gl,eT)\n",
    "#print(e)"
   ]
  },
  {
   "cell_type": "markdown",
   "id": "b3f24a8f",
   "metadata": {},
   "source": [
    "So from just one run of the quantum computer you can construct the energy for all g, k, and d"
   ]
  },
  {
   "cell_type": "markdown",
   "id": "8c51b0e2",
   "metadata": {},
   "source": [
    "### Save Results"
   ]
  },
  {
   "cell_type": "code",
   "execution_count": 2508,
   "id": "85e353ae",
   "metadata": {},
   "outputs": [],
   "source": [
    "import pickle\n",
    "T=0\n",
    "fpath = \"/Users/stenger/Documents/Research/Half_Classical_Evolution/Data/Job_id_test\"\n",
    "\n",
    "file_to_store = open(fpath + \"Gutz_matrix_test.pickle\", \"wb\")\n",
    "\n",
    "pickle.dump(results, file_to_store)"
   ]
  },
  {
   "cell_type": "code",
   "execution_count": 2511,
   "id": "d32ca460",
   "metadata": {},
   "outputs": [],
   "source": [
    "import pickle\n",
    "fpath = \"/Users/stenger/Documents/Research/Half_Classical_Evolution/Data/Job_id_test\"\n",
    "\n",
    "file_to_read = open(fpath + \"Gutz_jakarta_test.pickle\", \"rb\")\n",
    "\n",
    "loaded_results = pickle.load(file_to_read)"
   ]
  },
  {
   "cell_type": "code",
   "execution_count": 2512,
   "id": "dc3e6aea",
   "metadata": {},
   "outputs": [
    {
     "data": {
      "text/plain": [
       "[<matplotlib.lines.Line2D at 0x7ffc89564370>]"
      ]
     },
     "execution_count": 2512,
     "metadata": {},
     "output_type": "execute_result"
    },
    {
     "data": {
      "image/png": "[encoded data removed]",
      "text/plain": [
       "<Figure size 432x288 with 1 Axes>"
      ]
     },
     "metadata": {
      "needs_background": "light"
     },
     "output_type": "display_data"
    }
   ],
   "source": [
    "k=1\n",
    "d=4\n",
    "Ns=2\n",
    "N=4\n",
    "\n",
    "H = k*K_spin(Ns,N) + d*D_spin(Ns,N)\n",
    "e,y = np.linalg.eig(H)\n",
    "e = np.sort(e)\n",
    "\n",
    "\n",
    "\n",
    "eg = []\n",
    "gl = []\n",
    "eT = []\n",
    "for gi in range(-10,10):\n",
    "    g = gi\n",
    "    egl = energy_from_results(loaded_results,g,k,d,Ns,N)\n",
    "    eg.append(egl)\n",
    "    gl.append(g)\n",
    "    eT.append(e[0])\n",
    "\n",
    "plt.plot(gl,eg)\n",
    "plt.plot(gl,eT)"
   ]
  },
  {
   "cell_type": "code",
   "execution_count": null,
   "id": "060926a8",
   "metadata": {},
   "outputs": [],
   "source": []
  }
 ],
 "metadata": {
  "kernelspec": {
   "display_name": "Python (qiskit_u3.1)",
   "language": "python",
   "name": "qiskit_u3.1"
  },
  "language_info": {
   "codemirror_mode": {
    "name": "ipython",
    "version": 3
   },
   "file_extension": ".py",
   "mimetype": "text/x-python",
   "name": "python",
   "nbconvert_exporter": "python",
   "pygments_lexer": "ipython3",
   "version": "3.9.5"
  },
  "toc": {
   "base_numbering": 1,
   "nav_menu": {},
   "number_sections": true,
   "sideBar": true,
   "skip_h1_title": false,
   "title_cell": "Table of Contents",
   "title_sidebar": "Contents",
   "toc_cell": false,
   "toc_position": {
    "height": "calc(100% - 180px)",
    "left": "10px",
    "top": "150px",
    "width": "237.594px"
   },
   "toc_section_display": true,
   "toc_window_display": true
  }
 },
 "nbformat": 4,
 "nbformat_minor": 5
}
