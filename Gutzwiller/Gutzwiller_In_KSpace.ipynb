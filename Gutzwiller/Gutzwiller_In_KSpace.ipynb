{
 "cells": [
  {
   "cell_type": "markdown",
   "id": "1a3de299",
   "metadata": {},
   "source": [
    "# Gutzwiller in Kspace\n",
    "\n",
    "The goal is to implement the slatter deteminant on a quantum computer by writing the manybody state in k-space and then fourier transforming to get the real space state vector.  I anticipate that their will be some subtlties with the fourier transorm so let us begin with the non-interacting states and work our way up.  "
   ]
  },
  {
   "cell_type": "code",
   "execution_count": 1,
   "id": "d0f748c7",
   "metadata": {},
   "outputs": [],
   "source": [
    "import qiskit.quantum_info as qi\n",
    "import scipy as sp\n",
    "import numpy as np\n",
    "import pandas as pd\n",
    "import math\n",
    "\n",
    "\n",
    "def Mdot(Ol):\n",
    "    out = Ol[0]\n",
    "    for i in range(1,len(Ol)):\n",
    "        out = np.dot(Ol[i],out)\n",
    "    return out\n",
    "\n",
    "def bkt(y1,O,y2):\n",
    "    return Mdot([np.conjugate(y1),O,y2])"
   ]
  },
  {
   "cell_type": "markdown",
   "id": "94fa4716",
   "metadata": {},
   "source": [
    "# Single Particle Wavefunction\n",
    "\n",
    "We have $$ \\hat{K} = k \\sum_{i\\sigma} \\left( c^{\\dagger}_{i\\sigma}c_{i+1\\sigma} + c^{\\dagger}_{i+1\\sigma}c_{i\\sigma} \\right)$$\n",
    "\n",
    "This gives,\n",
    "$$ |n> = \\frac{1}{\\sqrt{N}}\\sum_{j=0}^{N-1} e^{i \\frac{2\\pi n}{N} j}|j> $$\n",
    "$$ E_n = -2k\\cos\\left(\\frac{2\\pi n}{N}\\right)$$"
   ]
  },
  {
   "cell_type": "code",
   "execution_count": 2,
   "id": "4e4fa7bd",
   "metadata": {},
   "outputs": [],
   "source": [
    "def K(k,N):\n",
    "    h = [[0 for i in range(N)] for ii in range(N)]\n",
    "    h[0][N-1] = -k\n",
    "    h[N-1][0] = -k\n",
    "    for i in range(N-1):\n",
    "        h[i][i+1] = -k\n",
    "        h[i+1][i] = -k\n",
    "    return h\n",
    "#print(pd.DataFrame(K(k,N)))\n",
    "      \n",
    "#We know the eigenvalues and vectors\n",
    "def E0(k,n,N):\n",
    "    #return -2*k*np.cos((n+1)*np.pi/(N+1))\n",
    "    return -2*k*np.cos(2*(n)*np.pi/(N))\n",
    "\n",
    "\n",
    "def psi0(n,N):\n",
    "    #y = [np.sqrt(2/(N+1))*np.sin((i+1)*(N-n)*np.pi/(N+1)) for i in range(N)]\n",
    "    y = [np.sqrt(1/(N))*np.exp(1j*2*np.pi*(i)*(n)/N) for i in range(N)]\n",
    "    return y"
   ]
  },
  {
   "cell_type": "code",
   "execution_count": 3,
   "id": "65702028",
   "metadata": {},
   "outputs": [
    {
     "name": "stderr",
     "output_type": "stream",
     "text": [
      "/opt/miniconda3/envs/qiskit_nick/lib/python3.9/site-packages/matplotlib/collections.py:202: ComplexWarning: Casting complex values to real discards the imaginary part\n",
      "  offsets = np.asanyarray(offsets, float)\n"
     ]
    },
    {
     "data": {
      "text/plain": [
       "<matplotlib.collections.PathCollection at 0x7f8c55856fa0>"
      ]
     },
     "execution_count": 3,
     "metadata": {},
     "output_type": "execute_result"
    },
    {
     "data": {
      "image/png": "[encoded data removed]",
      "text/plain": [
       "<Figure size 432x288 with 1 Axes>"
      ]
     },
     "metadata": {
      "needs_background": "light"
     },
     "output_type": "display_data"
    }
   ],
   "source": [
    "import matplotlib.pyplot as plt\n",
    "\n",
    "k=1.0\n",
    "N=4\n",
    "e,y = np.linalg.eig(K(k,N))\n",
    "e = np.sort(e)\n",
    "nl = [n for n in range(len(e))]\n",
    "etst = [E0(k,n,N) for n in range(-int(N/2),int(math.ceil(N/2)))]\n",
    "etst2 = [bkt(psi0(n,N),K(k,N),psi0(n,N)) for n in range(-int(N/2),int(math.ceil(N/2)))]\n",
    "ntst = [n for n in range(int(-N/2),int(math.ceil(N/2)))]\n",
    "plt.scatter(nl,e,s=180)\n",
    "plt.scatter(ntst,etst,s=80)\n",
    "plt.scatter(ntst,etst2,s=30)"
   ]
  },
  {
   "cell_type": "markdown",
   "id": "755d84b1",
   "metadata": {},
   "source": [
    "## Single Particle Fourier transform\n",
    "\n",
    "We can diagonalize $\\hat{K}$ using the fourier transform.\n",
    "\n",
    "$$ \\bar{K}_{nm} = <n|\\hat{K}|m> = \\frac{1}{N}\\sum_{ij}e^{ik_n i}\\hat{K}_{ij}e^{ik_mj} = -2k\\cos\\left(\\frac{2\\pi n}{N}\\right) \\delta_{nm}$$\n",
    "\n"
   ]
  },
  {
   "cell_type": "code",
   "execution_count": 4,
   "id": "56b296cd",
   "metadata": {},
   "outputs": [
    {
     "data": {
      "text/html": [
       "<div>\n",
       "<style scoped>\n",
       "    .dataframe tbody tr th:only-of-type {\n",
       "        vertical-align: middle;\n",
       "    }\n",
       "\n",
       "    .dataframe tbody tr th {\n",
       "        vertical-align: top;\n",
       "    }\n",
       "\n",
       "    .dataframe thead th {\n",
       "        text-align: right;\n",
       "    }\n",
       "</style>\n",
       "<table border=\"1\" class=\"dataframe\">\n",
       "  <thead>\n",
       "    <tr style=\"text-align: right;\">\n",
       "      <th></th>\n",
       "      <th>0</th>\n",
       "      <th>1</th>\n",
       "      <th>2</th>\n",
       "      <th>3</th>\n",
       "    </tr>\n",
       "  </thead>\n",
       "  <tbody>\n",
       "    <tr>\n",
       "      <th>0</th>\n",
       "      <td>-2.000000e+00+0.000000e+00j</td>\n",
       "      <td>5.551115e-17-8.612732e-17j</td>\n",
       "      <td>0.000000e+00-1.224647e-16j</td>\n",
       "      <td>-2.220446e-16-1.751152e-16j</td>\n",
       "    </tr>\n",
       "    <tr>\n",
       "      <th>1</th>\n",
       "      <td>9.184851e-17+0.000000e+00j</td>\n",
       "      <td>0.000000e+00+0.000000e+00j</td>\n",
       "      <td>9.756970e-17+1.110223e-16j</td>\n",
       "      <td>0.000000e+00+0.000000e+00j</td>\n",
       "    </tr>\n",
       "    <tr>\n",
       "      <th>2</th>\n",
       "      <td>0.000000e+00-1.224647e-16j</td>\n",
       "      <td>1.110223e-16+5.837175e-17j</td>\n",
       "      <td>2.000000e+00-7.347881e-16j</td>\n",
       "      <td>-1.665335e-16+2.028708e-16j</td>\n",
       "    </tr>\n",
       "    <tr>\n",
       "      <th>3</th>\n",
       "      <td>-1.645232e-16-2.220446e-16j</td>\n",
       "      <td>0.000000e+00+0.000000e+00j</td>\n",
       "      <td>-2.257556e-16+2.220446e-16j</td>\n",
       "      <td>-9.860761e-32+0.000000e+00j</td>\n",
       "    </tr>\n",
       "  </tbody>\n",
       "</table>\n",
       "</div>"
      ],
      "text/plain": [
       "                            0                           1  \\\n",
       "0 -2.000000e+00+0.000000e+00j  5.551115e-17-8.612732e-17j   \n",
       "1  9.184851e-17+0.000000e+00j  0.000000e+00+0.000000e+00j   \n",
       "2  0.000000e+00-1.224647e-16j  1.110223e-16+5.837175e-17j   \n",
       "3 -1.645232e-16-2.220446e-16j  0.000000e+00+0.000000e+00j   \n",
       "\n",
       "                            2                           3  \n",
       "0  0.000000e+00-1.224647e-16j -2.220446e-16-1.751152e-16j  \n",
       "1  9.756970e-17+1.110223e-16j  0.000000e+00+0.000000e+00j  \n",
       "2  2.000000e+00-7.347881e-16j -1.665335e-16+2.028708e-16j  \n",
       "3 -2.257556e-16+2.220446e-16j -9.860761e-32+0.000000e+00j  "
      ]
     },
     "execution_count": 4,
     "metadata": {},
     "output_type": "execute_result"
    }
   ],
   "source": [
    "def Kn(k,N):\n",
    "    h = K(k,4)\n",
    "    hn = []\n",
    "    for n in range(N):\n",
    "        hm = []\n",
    "        for m in range(N):\n",
    "            hnm = 0\n",
    "            for i in range(N):\n",
    "                for j in range(N):\n",
    "                     hnm += (1/N)*np.exp(1j*2*np.pi*(i)*(n)/N)*h[i][j]*np.exp(1j*2*np.pi*(j)*(m)/N)\n",
    "            hm.append(hnm)\n",
    "        hn.append(hm)\n",
    "    return hn\n",
    "\n",
    "pd.DataFrame(Kn(1,4))"
   ]
  },
  {
   "cell_type": "markdown",
   "id": "f0e5fd3b",
   "metadata": {},
   "source": [
    "# Many Body"
   ]
  },
  {
   "cell_type": "code",
   "execution_count": 5,
   "id": "61b7c57d",
   "metadata": {},
   "outputs": [],
   "source": [
    "\n",
    "def I(N):\n",
    "    label = ['I' for i in range(N)]\n",
    "    label = ''.join(label)\n",
    "    return qi.Operator.from_label(label).data\n",
    "\n",
    "def X(i,N):\n",
    "    label = ['I' for i in range(N)]\n",
    "    label[i] = 'X'\n",
    "    label = ''.join(label)\n",
    "    return qi.Operator.from_label(label).data\n",
    "\n",
    "def Y(i,N):\n",
    "    label = ['I' for i in range(N)]\n",
    "    label[i] = 'Y'\n",
    "    label = ''.join(label)\n",
    "    return qi.Operator.from_label(label).data\n",
    "\n",
    "def Z(i,N):\n",
    "    label = ['I' for i in range(N)]\n",
    "    label[i] = 'Z'\n",
    "    label = ''.join(label)\n",
    "    return qi.Operator.from_label(label).data\n",
    "\n",
    "def c(i,N):\n",
    "    label_1 = ['Z' for j in range(i)]\n",
    "    label_2 = ['I' for j in range(i+1,N)]\n",
    "    label_x = label_1 + ['X'] + label_2\n",
    "    label_y = label_1 + ['Y'] + label_2\n",
    "    label_x = ''.join(label_x)\n",
    "    label_y = ''.join(label_y)\n",
    "    x = qi.Operator.from_label(label_x).data\n",
    "    y = qi.Operator.from_label(label_y).data\n",
    "    return 1/2*(x+1j*y)\n",
    "\n",
    "def cd(i,N):\n",
    "    label_1 = ['Z' for j in range(i)]\n",
    "    label_2 = ['I' for j in range(i+1,N)]\n",
    "    label_x = label_1 + ['X'] + label_2\n",
    "    label_y = label_1 + ['Y'] + label_2\n",
    "    label_x = ''.join(label_x)\n",
    "    label_y = ''.join(label_y)\n",
    "    x = qi.Operator.from_label(label_x).data\n",
    "    y = qi.Operator.from_label(label_y).data\n",
    "    return 1/2*(x-1j*y)\n",
    "\n",
    "import numpy as np\n",
    "\n",
    "def Mdot(Ol):\n",
    "    out = Ol[0]\n",
    "    for i in range(1,len(Ol)):\n",
    "        out = np.dot(Ol[i],out)\n",
    "    return out\n",
    "\n",
    "def bkt(y1,O,y2):\n",
    "    return Mdot([np.conjugate(y1),O,y2])"
   ]
  },
  {
   "cell_type": "code",
   "execution_count": 6,
   "id": "56f99265",
   "metadata": {},
   "outputs": [],
   "source": [
    "def Km(k,N):\n",
    "    m = 0*I(N)\n",
    "    for i in range(0,N-1):\n",
    "        m = m + Mdot([cd(i,N),c(i+1,N)])+ Mdot([cd(i+1,N),c(i,N)])\n",
    "    m = m + Mdot([cd(N-1,N),c(0,N)])+ Mdot([cd(0,N),c(N-1,N)])\n",
    "    return m"
   ]
  },
  {
   "cell_type": "markdown",
   "id": "ac10956d",
   "metadata": {},
   "source": [
    "$\\hat{K}$ contains modes of the form \n",
    "$$ a^{\\dagger}_n = \\frac{1}{\\sqrt{N}}\\sum_{j=0}^{N}e^{i \\frac{2\\pi n}{N}j}c^{\\dagger}_j $$\n",
    "\n",
    "so that,\n",
    "$$ \\hat{K} \\prod_{\\{n\\}}a^{\\dagger}_n |0> = E_{\\{n\\}}|0>$$"
   ]
  },
  {
   "cell_type": "code",
   "execution_count": 7,
   "id": "7aea79b8",
   "metadata": {},
   "outputs": [],
   "source": [
    "def ad(n,N):\n",
    "    out = cd(0,N)\n",
    "    for i in range(1,N):\n",
    "        out = out + np.exp(1j*2*np.pi*n*i/N)*cd(i,N)\n",
    "    return 1/np.sqrt(N)*out\n",
    "\n",
    "def a(n,N):\n",
    "    out = c(0,N)\n",
    "    for i in range(1,N):\n",
    "        out = out + np.exp(-1j*2*np.pi*n*i/N)*c(i,N)\n",
    "    return 1/np.sqrt(N)*out"
   ]
  },
  {
   "cell_type": "code",
   "execution_count": 8,
   "id": "37b65e69",
   "metadata": {},
   "outputs": [
    {
     "name": "stdout",
     "output_type": "stream",
     "text": [
      "check normalization:  (1+0j)\n",
      "check eigenvalue 1.224646799147353e-16\n"
     ]
    }
   ],
   "source": [
    "def psi0(N):\n",
    "    y = [0 for i in range(2**N)]\n",
    "    y[-1] = 1\n",
    "    return y\n",
    "\n",
    "\n",
    "psi1 = Mdot([ad(2,4),ad(0,4),psi0(4)])\n",
    "print('check normalization: ',Mdot([np.conjugate(psi1),psi1]))\n",
    "print('check eigenvalue', np.amax(np.abs(Mdot([Km(1,4),psi1]) - bkt(psi1,Km(1,4),psi1)*psi1)) )"
   ]
  },
  {
   "cell_type": "markdown",
   "id": "e8ec37b0",
   "metadata": {},
   "source": [
    "A general rotation between $\\prod_i c^{\\dagger}_i|0> \\rightarrow \\prod_n a^{\\dagger}_n|0>$ where \n",
    "$$ a^{\\dagger}_n = \\sum_{i=0}^{N}f_{in} c^{\\dagger}_i$$\n",
    "can be generated by the Thouless operator\n",
    "$$ T = e^{\\sum_{in}\\log(f)_{in}c^{\\dagger}_nc_i} $$"
   ]
  },
  {
   "cell_type": "markdown",
   "id": "5b6e2124",
   "metadata": {},
   "source": [
    "We have to do the full expansion of the exponenation to see that this operator works.  To start notice that \n",
    "$$ T^{\\dagger}|0> = e^{\\log(f)_{in}c^{\\dagger}_ic_n} |0> = |0> $$\n",
    "\n",
    "Therefore, we can insert a $T^{\\dagger}$ in\n",
    "$$ T \\prod_i c^{\\dagger}_i |0> = \\prod_i T c^{\\dagger}_i T^{\\dagger} |0> $$\n",
    "\n",
    "Let $K = \\sum_{in}\\log(f)_{in}c^{\\dagger}_nc_i $ we can evaluate \n",
    "$$ T c^{\\dagger}_i T^{\\dagger} = c^{\\dagger}_i + \\left[K, c^{\\dagger}_i \\right] + \\frac{1}{2}\\left[K, \\left[K, c^{\\dagger}_i \\right] \\right] + \\ldots$$\n",
    "\n",
    "The commutators are\n",
    "$$ \\left[K, c^{\\dagger}_i \\right] = \\left[\\sum_{jm}\\log(f)_{jm}c^{\\dagger}_mc_j , c^{\\dagger}_i \\right] = \\sum_{m}\\log(f)_{im}c^{\\dagger}_m $$\n",
    "\n",
    "Thus,\n",
    "$$ T c^{\\dagger}_i T^{\\dagger} = \\sum_{m} f(i,m)c^{\\dagger}_m = a^{\\dagger}_i$$"
   ]
  },
  {
   "cell_type": "code",
   "execution_count": 9,
   "id": "61f9dc69",
   "metadata": {},
   "outputs": [],
   "source": [
    "def f(i,n,N):\n",
    "    return np.sqrt(1/(N))*np.exp(1j*2*np.pi*(i)*(n)/N)\n",
    "\n",
    "def F(N): \n",
    "    return np.array([[f(i,n,N) for i in range(N)] for n in range(N)])\n",
    "\n",
    "def logF(N):\n",
    "    Fin = F(N)\n",
    "    return np.pi/4*(I(2)-(1+1j)*Fin+Mdot([Fin,Fin])-(1-1j)*Mdot([Fin,Fin,Fin]))\n",
    "\n",
    "def T(N):\n",
    "    cMc = 0*I(N)\n",
    "    for i in range(N):\n",
    "        for j in range(N):\n",
    "            cMc = cMc + logF(N)[i,j]*Mdot([cd(i,N),c(j,N)])\n",
    "    return sp.linalg.expm(1j*cMc)\n",
    "\n"
   ]
  },
  {
   "cell_type": "code",
   "execution_count": 10,
   "id": "6f4f13ec",
   "metadata": {},
   "outputs": [
    {
     "data": {
      "text/plain": [
       "6.337625854564865e-16"
      ]
     },
     "execution_count": 10,
     "metadata": {},
     "output_type": "execute_result"
    }
   ],
   "source": [
    "psi1 = Mdot([ad(0,4),ad(1,4),ad(3,4),psi0(4)])\n",
    "psi1p = Mdot([cd(0,4),cd(1,4),cd(3,4),psi0(4)])\n",
    "np.amax(np.abs( Mdot([T(N),psi1p])-psi1 ))"
   ]
  },
  {
   "cell_type": "markdown",
   "id": "02b781c2",
   "metadata": {},
   "source": [
    "$T(f)$ has the spacial property that $$ T(a)T(b) = T(ab) $$ Therefore, we can buld T(f) out of discrete rotations. \n",
    "\n",
    "For a stratagy see: https://arxiv.org/pdf/1711.04789.pdf or https://arxiv.org/pdf/1711.05395.pdf"
   ]
  },
  {
   "cell_type": "markdown",
   "id": "352da02f",
   "metadata": {},
   "source": [
    "The basic idea is to find a set of rotations which diagonalize $f$.  "
   ]
  },
  {
   "cell_type": "code",
   "execution_count": 11,
   "id": "aafe02e4",
   "metadata": {},
   "outputs": [],
   "source": [
    "def U(M):\n",
    "    N = len(M)\n",
    "    logM = sp.linalg.logm(M)\n",
    "    cMc = 0*I(N)\n",
    "    for i in range(N):\n",
    "        for j in range(N):\n",
    "            cMc = cMc + logM[i,j]*Mdot([cd(i,N),c(j,N)])\n",
    "    return sp.linalg.expm(cMc)\n",
    "\n",
    "def R(i,j,phi,N):\n",
    "    return sp.linalg.expm( phi*(Mdot([cd(i,N),c(j,N)]) - Mdot([cd(j,N),c(i,N)]))  )\n",
    "\n",
    "def r(i,j,phi,N):\n",
    "    M = (1+0*1j)*np.identity(N)\n",
    "    M[i,i] = np.cos(phi)\n",
    "    M[j,j] = np.cos(phi)\n",
    "    M[i,j] = np.sin(phi)\n",
    "    M[j,i] = -np.sin(phi)\n",
    "    return M"
   ]
  },
  {
   "cell_type": "code",
   "execution_count": 12,
   "id": "0f530966",
   "metadata": {},
   "outputs": [
    {
     "data": {
      "text/plain": [
       "1.0427989341167268e-16"
      ]
     },
     "execution_count": 12,
     "metadata": {},
     "output_type": "execute_result"
    }
   ],
   "source": [
    "M=r(1,2,0.34,4)\n",
    "np.amax(np.abs( U(M) - R(1,2,0.34,4) ))"
   ]
  },
  {
   "cell_type": "code",
   "execution_count": 13,
   "id": "cda38498",
   "metadata": {},
   "outputs": [],
   "source": [
    "def bd(M,n,N):\n",
    "    out = M[0,n]*cd(0,N)\n",
    "    for i in range(1,N):\n",
    "        out = out + M[i,n]*cd(i,N)\n",
    "    return out\n",
    "\n",
    "\n",
    "\n"
   ]
  },
  {
   "cell_type": "code",
   "execution_count": 14,
   "id": "62e3532d",
   "metadata": {},
   "outputs": [
    {
     "data": {
      "text/plain": [
       "3.738470343699757e-15"
      ]
     },
     "execution_count": 14,
     "metadata": {},
     "output_type": "execute_result"
    }
   ],
   "source": [
    "Ma=F(4)\n",
    "Mb=r(1,2,0.34,4)\n",
    "M = Mdot([Mb,Ma])\n",
    "np.amax(np.abs( Mdot([ U(M), cd(1,4) ,np.conjugate(np.transpose(U(M))) ]) - bd(M,1,4) ))\n",
    "np.amax(np.abs( Mdot([ U(Ma),U(Mb), cd(1,4) ,np.conjugate(np.transpose(U(Mb))),np.conjugate(np.transpose(U(Ma))) ]) - bd(M,1,4) ))\n",
    "np.amax(np.abs( Mdot([ U(Ma),U(Mb)]) - U(M) ))"
   ]
  },
  {
   "cell_type": "code",
   "execution_count": 15,
   "id": "a9577b81",
   "metadata": {},
   "outputs": [
    {
     "data": {
      "text/html": [
       "<div>\n",
       "<style scoped>\n",
       "    .dataframe tbody tr th:only-of-type {\n",
       "        vertical-align: middle;\n",
       "    }\n",
       "\n",
       "    .dataframe tbody tr th {\n",
       "        vertical-align: top;\n",
       "    }\n",
       "\n",
       "    .dataframe thead th {\n",
       "        text-align: right;\n",
       "    }\n",
       "</style>\n",
       "<table border=\"1\" class=\"dataframe\">\n",
       "  <thead>\n",
       "    <tr style=\"text-align: right;\">\n",
       "      <th></th>\n",
       "      <th>0</th>\n",
       "      <th>1</th>\n",
       "      <th>2</th>\n",
       "      <th>3</th>\n",
       "    </tr>\n",
       "  </thead>\n",
       "  <tbody>\n",
       "    <tr>\n",
       "      <th>0</th>\n",
       "      <td>0.5+0.0j</td>\n",
       "      <td>0.5+0.0j</td>\n",
       "      <td>0.5+0.0j</td>\n",
       "      <td>0.5+0.0j</td>\n",
       "    </tr>\n",
       "    <tr>\n",
       "      <th>1</th>\n",
       "      <td>0.5+0.0j</td>\n",
       "      <td>0.0+0.5j</td>\n",
       "      <td>-0.5+0.0j</td>\n",
       "      <td>-0.0-0.5j</td>\n",
       "    </tr>\n",
       "    <tr>\n",
       "      <th>2</th>\n",
       "      <td>0.5+0.0j</td>\n",
       "      <td>-0.5+0.0j</td>\n",
       "      <td>0.5-0.0j</td>\n",
       "      <td>-0.5+0.0j</td>\n",
       "    </tr>\n",
       "    <tr>\n",
       "      <th>3</th>\n",
       "      <td>0.5+0.0j</td>\n",
       "      <td>-0.0-0.5j</td>\n",
       "      <td>-0.5+0.0j</td>\n",
       "      <td>0.0+0.5j</td>\n",
       "    </tr>\n",
       "  </tbody>\n",
       "</table>\n",
       "</div>"
      ],
      "text/plain": [
       "          0         1         2         3\n",
       "0  0.5+0.0j  0.5+0.0j  0.5+0.0j  0.5+0.0j\n",
       "1  0.5+0.0j  0.0+0.5j -0.5+0.0j -0.0-0.5j\n",
       "2  0.5+0.0j -0.5+0.0j  0.5-0.0j -0.5+0.0j\n",
       "3  0.5+0.0j -0.0-0.5j -0.5+0.0j  0.0+0.5j"
      ]
     },
     "execution_count": 15,
     "metadata": {},
     "output_type": "execute_result"
    }
   ],
   "source": [
    "pd.DataFrame( F(4) )"
   ]
  },
  {
   "cell_type": "code",
   "execution_count": 16,
   "id": "339f3bc7",
   "metadata": {},
   "outputs": [
    {
     "data": {
      "text/html": [
       "<div>\n",
       "<style scoped>\n",
       "    .dataframe tbody tr th:only-of-type {\n",
       "        vertical-align: middle;\n",
       "    }\n",
       "\n",
       "    .dataframe tbody tr th {\n",
       "        vertical-align: top;\n",
       "    }\n",
       "\n",
       "    .dataframe thead th {\n",
       "        text-align: right;\n",
       "    }\n",
       "</style>\n",
       "<table border=\"1\" class=\"dataframe\">\n",
       "  <thead>\n",
       "    <tr style=\"text-align: right;\">\n",
       "      <th></th>\n",
       "      <th>0</th>\n",
       "      <th>1</th>\n",
       "      <th>2</th>\n",
       "      <th>3</th>\n",
       "    </tr>\n",
       "  </thead>\n",
       "  <tbody>\n",
       "    <tr>\n",
       "      <th>0</th>\n",
       "      <td>0.921061+0.000000j</td>\n",
       "      <td>0.0+0.0j</td>\n",
       "      <td>0.0+0.0j</td>\n",
       "      <td>0.389418+0.000000j</td>\n",
       "    </tr>\n",
       "    <tr>\n",
       "      <th>1</th>\n",
       "      <td>0.000000+0.000000j</td>\n",
       "      <td>1.0+0.0j</td>\n",
       "      <td>0.0+0.0j</td>\n",
       "      <td>0.000000+0.000000j</td>\n",
       "    </tr>\n",
       "    <tr>\n",
       "      <th>2</th>\n",
       "      <td>0.000000+0.000000j</td>\n",
       "      <td>0.0+0.0j</td>\n",
       "      <td>1.0+0.0j</td>\n",
       "      <td>0.000000+0.000000j</td>\n",
       "    </tr>\n",
       "    <tr>\n",
       "      <th>3</th>\n",
       "      <td>-0.389418+0.000000j</td>\n",
       "      <td>0.0+0.0j</td>\n",
       "      <td>0.0+0.0j</td>\n",
       "      <td>0.921061+0.000000j</td>\n",
       "    </tr>\n",
       "  </tbody>\n",
       "</table>\n",
       "</div>"
      ],
      "text/plain": [
       "                    0         1         2                   3\n",
       "0  0.921061+0.000000j  0.0+0.0j  0.0+0.0j  0.389418+0.000000j\n",
       "1  0.000000+0.000000j  1.0+0.0j  0.0+0.0j  0.000000+0.000000j\n",
       "2  0.000000+0.000000j  0.0+0.0j  1.0+0.0j  0.000000+0.000000j\n",
       "3 -0.389418+0.000000j  0.0+0.0j  0.0+0.0j  0.921061+0.000000j"
      ]
     },
     "execution_count": 16,
     "metadata": {},
     "output_type": "execute_result"
    }
   ],
   "source": [
    "pd.DataFrame( r(0,3,0.4,4) )"
   ]
  },
  {
   "cell_type": "markdown",
   "id": "4bc4adc9",
   "metadata": {},
   "source": [
    "## Let's find the rotations which diagonalize F"
   ]
  },
  {
   "cell_type": "markdown",
   "id": "af243e8f",
   "metadata": {},
   "source": [
    "We use two types of rotations on the single particle space,\n",
    "\n",
    "$$ (r^y_{ij}(\\phi))_{kl} = \\cos(\\phi)\\delta_{ik}\\delta_{il}+\\cos(\\phi)\\delta_{jk}\\delta_{jl} + \\sin(\\phi)\\delta_{ik}\\delta_{jl} - \\sin(\\phi)\\delta_{jk}\\delta_{il}$$\n",
    "and \n",
    "$$ (r^z_j(\\phi))_{kl} = e^{i\\phi}\\delta_{ik}\\delta_{kl} $$\n",
    "\n",
    "we can use there to zero out each term in the matrix $F$.  Since $F$ is unitary we only have to zero out the bottom traingle and the upper triangle will automitically zero out.  Once we are done, we are left with a diagonal matrix $F_D$.  This can be obtained from a set of $r^z$ rotations (one for each diagonal entry).\n",
    "\n",
    "Since $F$ is an $N \\times N$ matrix.  We require $N^2/2$ steps to get to digaonalize F. "
   ]
  },
  {
   "cell_type": "code",
   "execution_count": 17,
   "id": "c05a7ca3",
   "metadata": {},
   "outputs": [],
   "source": [
    "def Mdot(Ol):\n",
    "    L = len(Ol)\n",
    "    out = Ol[L-1]\n",
    "    for i in range(1,len(Ol)):\n",
    "        out = np.dot(Ol[L-1-i],out)\n",
    "    return out\n",
    "\n",
    "def ry(i,j,phi,N):\n",
    "    M = (1+0*1j)*np.identity(N)\n",
    "    M[i,i] = np.cos(phi)\n",
    "    M[j,j] = np.cos(phi)\n",
    "    M[i,j] = np.sin(phi)\n",
    "    M[j,i] = -np.sin(phi)\n",
    "    return M\n",
    "\n",
    "def rz(j,phi,N):\n",
    "    M = (1+0*1j)*np.identity(N)\n",
    "    M[j,j] = np.exp(1j*phi)\n",
    "    return M\n",
    "\n"
   ]
  },
  {
   "cell_type": "code",
   "execution_count": 18,
   "id": "31235026",
   "metadata": {},
   "outputs": [
    {
     "data": {
      "text/html": [
       "<div>\n",
       "<style scoped>\n",
       "    .dataframe tbody tr th:only-of-type {\n",
       "        vertical-align: middle;\n",
       "    }\n",
       "\n",
       "    .dataframe tbody tr th {\n",
       "        vertical-align: top;\n",
       "    }\n",
       "\n",
       "    .dataframe thead th {\n",
       "        text-align: right;\n",
       "    }\n",
       "</style>\n",
       "<table border=\"1\" class=\"dataframe\">\n",
       "  <thead>\n",
       "    <tr style=\"text-align: right;\">\n",
       "      <th></th>\n",
       "      <th>0</th>\n",
       "      <th>1</th>\n",
       "      <th>2</th>\n",
       "      <th>3</th>\n",
       "    </tr>\n",
       "  </thead>\n",
       "  <tbody>\n",
       "    <tr>\n",
       "      <th>0</th>\n",
       "      <td>1.000000e+00+0.000000e+00j</td>\n",
       "      <td>1.530808e-17+8.326673e-17j</td>\n",
       "      <td>0.000000e+00+6.123234e-17j</td>\n",
       "      <td>1.463720e-16+5.551115e-17j</td>\n",
       "    </tr>\n",
       "    <tr>\n",
       "      <th>1</th>\n",
       "      <td>-8.294989e-18-5.361965e-17j</td>\n",
       "      <td>5.468656e-18+1.000000e+00j</td>\n",
       "      <td>-1.302706e-16+8.989670e-17j</td>\n",
       "      <td>-3.367610e-17+2.163368e-17j</td>\n",
       "    </tr>\n",
       "    <tr>\n",
       "      <th>2</th>\n",
       "      <td>-5.246212e-18+1.573864e-17j</td>\n",
       "      <td>-4.644396e-17-3.405807e-18j</td>\n",
       "      <td>3.162278e-01-9.486833e-01j</td>\n",
       "      <td>-2.393954e-16+2.070996e-16j</td>\n",
       "    </tr>\n",
       "    <tr>\n",
       "      <th>3</th>\n",
       "      <td>-3.880778e-17+3.791873e-17j</td>\n",
       "      <td>-2.937374e-17+2.007192e-17j</td>\n",
       "      <td>-5.129048e-17+1.806368e-16j</td>\n",
       "      <td>6.000000e-01-8.000000e-01j</td>\n",
       "    </tr>\n",
       "  </tbody>\n",
       "</table>\n",
       "</div>"
      ],
      "text/plain": [
       "                            0                           1  \\\n",
       "0  1.000000e+00+0.000000e+00j  1.530808e-17+8.326673e-17j   \n",
       "1 -8.294989e-18-5.361965e-17j  5.468656e-18+1.000000e+00j   \n",
       "2 -5.246212e-18+1.573864e-17j -4.644396e-17-3.405807e-18j   \n",
       "3 -3.880778e-17+3.791873e-17j -2.937374e-17+2.007192e-17j   \n",
       "\n",
       "                            2                           3  \n",
       "0  0.000000e+00+6.123234e-17j  1.463720e-16+5.551115e-17j  \n",
       "1 -1.302706e-16+8.989670e-17j -3.367610e-17+2.163368e-17j  \n",
       "2  3.162278e-01-9.486833e-01j -2.393954e-16+2.070996e-16j  \n",
       "3 -5.129048e-17+1.806368e-16j  6.000000e-01-8.000000e-01j  "
      ]
     },
     "execution_count": 18,
     "metadata": {},
     "output_type": "execute_result"
    }
   ],
   "source": [
    "def givens(i,j,F):\n",
    "    phiz = 1j*np.log( F[j,i]/F[i,i] * np.abs(F[i,i])/np.abs(F[j,i]) )\n",
    "    Fz =  Mdot([rz(j,phiz,4) , F])\n",
    "    phi = np.arctan(Fz[j,i]/Fz[i,i])\n",
    "    F_new = Mdot([ry(i,j,phi,4) , Fz])\n",
    "    return F_new,phiz,phi\n",
    "\n",
    "def g(i,j,phi,phiz):\n",
    "    return Mdot([rz(j,-phiz,4),ry(i,j,-phi,4)])\n",
    "    \n",
    "\n",
    "\n",
    "F1,pz1,p1 = givens(0,3,F(4))\n",
    "F2,pz2,p2 = givens(0,2,F1)\n",
    "F3,pz3,p3 = givens(0,1,F2)\n",
    "F4,pz4,p4 = givens(1,3,F3)\n",
    "F5,pz5,p5 = givens(1,2,F4)\n",
    "F6,pz6,p6 = givens(2,3,F5)\n",
    "pd.DataFrame( F6 )"
   ]
  },
  {
   "cell_type": "code",
   "execution_count": 19,
   "id": "f353042e",
   "metadata": {},
   "outputs": [
    {
     "data": {
      "text/plain": [
       "2.22240502577538e-16"
      ]
     },
     "execution_count": 19,
     "metadata": {},
     "output_type": "execute_result"
    }
   ],
   "source": [
    "np.amax(np.abs(  Mdot([g(0,3,p1,pz1),g(0,2,p2,pz2),g(0,1,p3,pz3),g(1,3,p4,pz4),g(1,2,p5,pz5),g(2,3,p6,pz6),F6]) - F(4)  ))\n"
   ]
  },
  {
   "cell_type": "markdown",
   "id": "7ee1df97",
   "metadata": {},
   "source": [
    "## Now let's translate these rotations into Thouless operators to generate the many body state"
   ]
  },
  {
   "cell_type": "markdown",
   "id": "58ba66bb",
   "metadata": {},
   "source": [
    "$$ T(r^z_j(\\phi)) = e^{i\\phi c^{\\dagger}_jc_j} $$\n",
    "\n",
    "$$ T(r^y_{ij}(\\phi)) = e^{\\phi (c^{\\dagger}_ic_j - c^{\\dagger}_jc_i)} $$"
   ]
  },
  {
   "cell_type": "code",
   "execution_count": 20,
   "id": "b9cd53ea",
   "metadata": {},
   "outputs": [],
   "source": [
    "def Ry(i,j,phi,N):\n",
    "    return sp.linalg.expm(phi*(Mdot([cd(i,N),c(j,N)]) - Mdot([cd(j,N),c(i,N)]))  )\n",
    "\n",
    "def ry(i,j,phi,N):\n",
    "    M = (1+0*1j)*np.identity(N)\n",
    "    M[i,i] = np.cos(phi)\n",
    "    M[j,j] = np.cos(phi)\n",
    "    M[i,j] = np.sin(phi)\n",
    "    M[j,i] = -np.sin(phi)\n",
    "    return M\n",
    "\n",
    "def Rz(j,phi,N):\n",
    "    return sp.linalg.expm(1j*phi*Mdot([cd(j,N),c(j,N)])   )\n",
    "\n",
    "def rz(j,phi,N):\n",
    "    M = (1+0*1j)*np.identity(N)\n",
    "    M[j,j] = np.exp(1j*phi)\n",
    "    return M\n",
    "\n"
   ]
  },
  {
   "cell_type": "code",
   "execution_count": 21,
   "id": "b1bad5c7",
   "metadata": {},
   "outputs": [
    {
     "data": {
      "text/plain": [
       "2.2243064008712035e-16"
      ]
     },
     "execution_count": 21,
     "metadata": {},
     "output_type": "execute_result"
    }
   ],
   "source": [
    "My=ry(1,2,0.34,4)\n",
    "Mz=rz(2,0.76,4)\n",
    "M = Mdot([My,Mz])\n",
    "np.amax(np.abs( Mdot([ U(M), cd(1,4) ,np.conjugate(np.transpose(U(M))) ]) - bd(M,1,4) ))\n",
    "np.amax(np.abs( Mdot([ Rz(2,0.76,4), cd(1,4) ,np.conjugate(np.transpose(Rz(2,0.76,4))) ]) - bd(M,1,4) ))\n",
    "np.amax(np.abs( Mdot([ Ry(1,2,0.34,4), cd(1,4) ,np.conjugate(np.transpose(Ry(1,2,0.34,4))) ]) - bd(M,1,4) ))\n",
    "np.amax(np.abs( Mdot([Ry(1,2,0.34,4), Rz(2,0.76,4), cd(1,4),np.conjugate(np.transpose(Rz(2,0.76,4))) ,np.conjugate(np.transpose(Ry(1,2,0.34,4))) ]) - bd(M,1,4) ))\n",
    "\n"
   ]
  },
  {
   "cell_type": "code",
   "execution_count": 22,
   "id": "7bfb46cb",
   "metadata": {},
   "outputs": [],
   "source": [
    "def Ry_gate(i,j,phi,N):\n",
    "    Zchain = Mdot([I(4)]+[Z(l,N) for l in range(i+1,j)])\n",
    "    g1 = sp.linalg.expm(1j*phi/2*Mdot([X(i,N),Zchain,Y(j,N)]) )\n",
    "    g2 = sp.linalg.expm(-1j*phi/2* Mdot([Y(i,N),Zchain,X(j,N)]) )\n",
    "    return Mdot([g1,g2])\n",
    "\n",
    "def Rz_gate(j,phi,N):\n",
    "    return np.exp(1j*phi/2)*sp.linalg.expm(-1j*phi/2*Z(j,N))\n",
    "\n",
    "\n"
   ]
  },
  {
   "cell_type": "code",
   "execution_count": 23,
   "id": "660610fc",
   "metadata": {},
   "outputs": [
    {
     "name": "stdout",
     "output_type": "stream",
     "text": [
      "2.220446049250313e-16\n",
      "2.2887833992611187e-16\n"
     ]
    }
   ],
   "source": [
    "i=1\n",
    "j=3\n",
    "phi = 1.27\n",
    "print( np.amax(np.abs( Ry_gate(i,j,phi,N) - Ry(i,j,phi,N) )) )\n",
    "print( np.amax(np.abs( Rz_gate(j,phi,N) - Rz(j,phi,N) )) )"
   ]
  },
  {
   "cell_type": "code",
   "execution_count": 24,
   "id": "7edb354c",
   "metadata": {},
   "outputs": [],
   "source": [
    "def G(i,j,phi,phiz,N):\n",
    "    out = Mdot([Rz_gate(j,-phiz,N),Ry_gate(i,j,-phi,N)])\n",
    "    return out"
   ]
  },
  {
   "cell_type": "code",
   "execution_count": 25,
   "id": "4b99ffd8",
   "metadata": {},
   "outputs": [
    {
     "data": {
      "text/plain": [
       "1.0578003994148167e-15"
      ]
     },
     "execution_count": 25,
     "metadata": {},
     "output_type": "execute_result"
    }
   ],
   "source": [
    "ph0 = -1j*np.log(F6[0,0])\n",
    "ph1 = -1j*np.log(F6[1,1])\n",
    "ph2 = -1j*np.log(F6[2,2])\n",
    "ph3 = -1j*np.log(F6[3,3])\n",
    "u0 = Mdot([Rz_gate(0,ph0,4),Rz_gate(1,ph1,4),Rz_gate(2,ph2,4),Rz_gate(3,ph3,4)])\n",
    "ua = G(2,3,p6,pz6,4)\n",
    "ub = G(1,2,p5,pz5,4)\n",
    "uc = G(1,3,p4,pz4,4)\n",
    "ud = G(0,1,p3,pz3,4)\n",
    "ue = G(0,2,p2,pz2,4)\n",
    "uf = G(0,3,p1,pz1,4)\n",
    "np.amax(np.abs( Mdot([uf,ue,ud,uc,ub,ua,u0]) - U(F(4)) ))"
   ]
  },
  {
   "cell_type": "code",
   "execution_count": 26,
   "id": "c62403e5",
   "metadata": {},
   "outputs": [
    {
     "data": {
      "text/plain": [
       "5.291975941026304e-16"
      ]
     },
     "execution_count": 26,
     "metadata": {},
     "output_type": "execute_result"
    }
   ],
   "source": [
    "def psi0(N):\n",
    "    y = [0 for i in range(2**N)]\n",
    "    y[0] = 1\n",
    "    return y\n",
    "\n",
    "psi1 = Mdot([ad(0,4),ad(1,4),ad(3,4),psi0(4)])\n",
    "psi1p = Mdot([cd(0,4),cd(1,4),cd(3,4),psi0(4)])\n",
    "np.amax(np.abs( Mdot([Mdot([uf,ue,ud,uc,ub,ua,u0]),psi1p])-psi1 ))"
   ]
  },
  {
   "cell_type": "markdown",
   "id": "82979383",
   "metadata": {},
   "source": [
    "## Now Let us do this using quantum gates"
   ]
  },
  {
   "cell_type": "code",
   "execution_count": 27,
   "id": "d96274b8",
   "metadata": {},
   "outputs": [],
   "source": [
    "def I(N):\n",
    "    label = ['I' for i in range(N)]\n",
    "    label = ''.join(label)\n",
    "    return qi.Operator.from_label(label).data\n",
    "\n",
    "def X(i,N):\n",
    "    label = ['I' for i in range(N)]\n",
    "    label[N-1-i] = 'X'\n",
    "    label = ''.join(label)\n",
    "    return qi.Operator.from_label(label).data\n",
    "\n",
    "def Y(i,N):\n",
    "    label = ['I' for i in range(N)]\n",
    "    label[N-1-i] = 'Y'\n",
    "    label = ''.join(label)\n",
    "    return qi.Operator.from_label(label).data\n",
    "\n",
    "def Z(i,N):\n",
    "    label = ['I' for i in range(N)]\n",
    "    label[N-1-i] = 'Z'\n",
    "    label = ''.join(label)\n",
    "    return qi.Operator.from_label(label).data\n",
    "\n",
    "def c(i,N):\n",
    "    label_1 = ['Z' for j in range(N-i-1)]\n",
    "    label_2 = ['I' for j in range(N-i,N)]\n",
    "    label_x = label_1 + ['X'] + label_2\n",
    "    label_y = label_1 + ['Y'] + label_2\n",
    "    label_x = ''.join(label_x)\n",
    "    label_y = ''.join(label_y)\n",
    "    x = qi.Operator.from_label(label_x).data\n",
    "    y = qi.Operator.from_label(label_y).data\n",
    "    return 1/2*(x+1j*y)\n",
    "\n",
    "def cd(i,N):\n",
    "    label_1 = ['Z' for j in range(N-i-1)]\n",
    "    label_2 = ['I' for j in range(N-i,N)]\n",
    "    label_x = label_1 + ['X'] + label_2\n",
    "    label_y = label_1 + ['Y'] + label_2\n",
    "    label_x = ''.join(label_x)\n",
    "    label_y = ''.join(label_y)\n",
    "    x = qi.Operator.from_label(label_x).data\n",
    "    y = qi.Operator.from_label(label_y).data\n",
    "    return 1/2*(x-1j*y)\n",
    "\n",
    "def Ry_gate(i,j,phi,N):\n",
    "    Zchain = Mdot([I(4)]+[Z(l,N) for l in range(i+1,j)])\n",
    "    g1 = sp.linalg.expm(1j*phi/2*Mdot([X(i,N),Zchain,Y(j,N)]) )\n",
    "    g2 = sp.linalg.expm(-1j*phi/2* Mdot([Y(i,N),Zchain,X(j,N)]) )\n",
    "    return Mdot([g1,g2])\n",
    "\n",
    "def Rz_gate(j,phi,N):\n",
    "    return np.exp(1j*phi/2)*sp.linalg.expm(-1j*phi/2*Z(j,N))"
   ]
  },
  {
   "cell_type": "markdown",
   "id": "a43cf8c1",
   "metadata": {},
   "source": [
    "Using Jordan-Wigner we have a simple transformation for the $r^z$ rotation,\n",
    "\n",
    "$$ T(r^z_{j}(\\phi)) = R^z_j(\\phi/2) $$\n",
    "\n",
    "The $r^y$ rotation is a little more involved,\n",
    "\n",
    "$$ T(r^y_{ij}(\\phi)) = e^{i \\phi/2 X_i Z_{i+1}\\ldots Z_{j-1}Y_j} e^{-i \\phi/2 Y_i Z_{i+1}\\ldots Z_{j-1}X_j} $$\n",
    "\n",
    "The goal is to implement this by first swapping the sites so that $j=i+1$ then we can apply,\n",
    "\n",
    "$$ T(r^y_{ij}(\\phi)) =  [\\text{fSWAPS}] R^{XY}_{i,i+1}(\\phi/4)R^{YX}_{i,i+1}(-\\phi/4) [\\text{fSWAPS}] $$"
   ]
  },
  {
   "cell_type": "markdown",
   "id": "56abd6aa",
   "metadata": {},
   "source": [
    "There is a subtlety here that we cannot just use normal swaps.  We have to use fermion swaps which applys a negetive sign with both sites are filled. "
   ]
  },
  {
   "cell_type": "markdown",
   "id": "d867f26a",
   "metadata": {},
   "source": [
    "We see that this can be performed with a normal swap fallowed by $\\sqrt{Y}C^x\\sqrt{-Y}$"
   ]
  },
  {
   "cell_type": "markdown",
   "id": "d6e91141",
   "metadata": {},
   "source": [
    "$R^{XY}$ and $R^{YX}$ each contain 2 $C^x$ gates.  A normal swap contains 3 $C^x$ gates, so a fermion swap contains 4.  The furthest away two sites can be is $N$.  So the number of $C^x$ gates in each $T$ is less than 2N+4.  We need $N^2/2$ applications of $T$ to diagonalize $F$.  So the total number of $C^x$ gates is less than \n",
    "\n",
    "$$ N_{C^x} < N^3+2N^2 $$"
   ]
  },
  {
   "cell_type": "code",
   "execution_count": 28,
   "id": "fda98449",
   "metadata": {},
   "outputs": [
    {
     "data": {
      "text/html": [
       "<pre style=\"word-wrap: normal;white-space: pre;background: #fff0;line-height: 1.1;font-family: &quot;Courier New&quot;,Courier,monospace\">                                                                               »\n",
       "q_0: ─X──────────────■─────────────────────────────────────────────────────────»\n",
       "      │ ┌─────────┐┌─┴─┐┌──────────┐                                           »\n",
       "q_1: ─X─┤ Ry(π/2) ├┤ X ├┤ Ry(-π/2) ├─X──────────────■──────────────────────────»\n",
       "        └─────────┘└───┘└──────────┘ │ ┌─────────┐┌─┴─┐┌──────────┐┌──────────┐»\n",
       "q_2: ────────────────────────────────X─┤ Ry(π/2) ├┤ X ├┤ Ry(-π/2) ├┤ Ry(-π/2) ├»\n",
       "                                       └─────────┘└───┘└──────────┘└──────────┘»\n",
       "q_3: ──────────────────────────────────────────────────────────────────────────»\n",
       "                                                                               »\n",
       "«                                                                         »\n",
       "«q_0: ────────────────────────────────────────────────────────────────────»\n",
       "«                                                                         »\n",
       "«q_1: ──────────────────────────────────────────────────────────────X─────»\n",
       "«                           ┌─────────┐ ┌───┐┌───────────┐┌───┐     │     »\n",
       "«q_2: ──■────────────────■──┤ Ry(π/2) ├─┤ X ├┤ Ry(-0.34) ├┤ X ├─────X─────»\n",
       "«     ┌─┴─┐┌──────────┐┌─┴─┐├─────────┴┐└─┬─┘└───────────┘└─┬─┘┌─────────┐»\n",
       "«q_3: ┤ X ├┤ Ry(0.34) ├┤ X ├┤ Ry(-π/2) ├──■─────────────────■──┤ Ry(π/2) ├»\n",
       "«     └───┘└──────────┘└───┘└──────────┘                       └─────────┘»\n",
       "«                                                               \n",
       "«q_0: ───────────────────────X───────────────────■──────────────\n",
       "«                            │      ┌─────────┐┌─┴─┐┌──────────┐\n",
       "«q_1: ───────────────■───────X──────┤ Ry(π/2) ├┤ X ├┤ Ry(-π/2) ├\n",
       "«      ┌─────────┐ ┌─┴─┐┌──────────┐└─────────┘└───┘└──────────┘\n",
       "«q_2: ─┤ Ry(π/2) ├─┤ X ├┤ Ry(-π/2) ├────────────────────────────\n",
       "«     ┌┴─────────┴┐└───┘└──────────┘                            \n",
       "«q_3: ┤ Rz(-0.11) ├─────────────────────────────────────────────\n",
       "«     └───────────┘                                             </pre>"
      ],
      "text/plain": [
       "                                                                               »\n",
       "q_0: ─X──────────────■─────────────────────────────────────────────────────────»\n",
       "      │ ┌─────────┐┌─┴─┐┌──────────┐                                           »\n",
       "q_1: ─X─┤ Ry(π/2) ├┤ X ├┤ Ry(-π/2) ├─X──────────────■──────────────────────────»\n",
       "        └─────────┘└───┘└──────────┘ │ ┌─────────┐┌─┴─┐┌──────────┐┌──────────┐»\n",
       "q_2: ────────────────────────────────X─┤ Ry(π/2) ├┤ X ├┤ Ry(-π/2) ├┤ Ry(-π/2) ├»\n",
       "                                       └─────────┘└───┘└──────────┘└──────────┘»\n",
       "q_3: ──────────────────────────────────────────────────────────────────────────»\n",
       "                                                                               »\n",
       "«                                                                         »\n",
       "«q_0: ────────────────────────────────────────────────────────────────────»\n",
       "«                                                                         »\n",
       "«q_1: ──────────────────────────────────────────────────────────────X─────»\n",
       "«                           ┌─────────┐ ┌───┐┌───────────┐┌───┐     │     »\n",
       "«q_2: ──■────────────────■──┤ Ry(π/2) ├─┤ X ├┤ Ry(-0.34) ├┤ X ├─────X─────»\n",
       "«     ┌─┴─┐┌──────────┐┌─┴─┐├─────────┴┐└─┬─┘└───────────┘└─┬─┘┌─────────┐»\n",
       "«q_3: ┤ X ├┤ Ry(0.34) ├┤ X ├┤ Ry(-π/2) ├──■─────────────────■──┤ Ry(π/2) ├»\n",
       "«     └───┘└──────────┘└───┘└──────────┘                       └─────────┘»\n",
       "«                                                               \n",
       "«q_0: ───────────────────────X───────────────────■──────────────\n",
       "«                            │      ┌─────────┐┌─┴─┐┌──────────┐\n",
       "«q_1: ───────────────■───────X──────┤ Ry(π/2) ├┤ X ├┤ Ry(-π/2) ├\n",
       "«      ┌─────────┐ ┌─┴─┐┌──────────┐└─────────┘└───┘└──────────┘\n",
       "«q_2: ─┤ Ry(π/2) ├─┤ X ├┤ Ry(-π/2) ├────────────────────────────\n",
       "«     ┌┴─────────┴┐└───┘└──────────┘                            \n",
       "«q_3: ┤ Rz(-0.11) ├─────────────────────────────────────────────\n",
       "«     └───────────┘                                             "
      ]
     },
     "execution_count": 28,
     "metadata": {},
     "output_type": "execute_result"
    }
   ],
   "source": [
    "from qiskit import QuantumCircuit\n",
    "\n",
    "def fswap(i,j,qc):\n",
    "    qc.swap(i,j)\n",
    "    qc.ry(np.pi/2,j)\n",
    "    qc.cx(i,j)\n",
    "    qc.ry(-np.pi/2,j)\n",
    "    return qc\n",
    "    \n",
    "\n",
    "def R_cc(i,j,phi,qc):\n",
    "    for l in range(i+1,j):\n",
    "        qc = fswap(l-1,l,qc)\n",
    "    qc.ry(-np.pi/2,j-1)\n",
    "    qc.cx(j-1,j)\n",
    "    qc.ry(-phi,j)\n",
    "    qc.cx(j-1,j)\n",
    "    qc.ry(np.pi/2,j-1)\n",
    "    qc.ry(-np.pi/2,j)\n",
    "    qc.cx(j,j-1)\n",
    "    qc.ry(phi,j-1)\n",
    "    qc.cx(j,j-1)\n",
    "    qc.ry(np.pi/2,j)\n",
    "    for l in range(j-1,i+1-1,-1):\n",
    "        qc = fswap(l-1,l,qc)\n",
    "    return qc\n",
    "\n",
    "def G_cc(i,j,phi,phiz,qc):\n",
    "    qc = R_cc(i,j,-phi,qc)\n",
    "    qc.rz(-phiz,j)\n",
    "    return qc\n",
    "\n",
    "qc = QuantumCircuit(4)\n",
    "qc = G_cc(0,3,0.34,0.11,qc)\n",
    "qc.draw()"
   ]
  },
  {
   "cell_type": "code",
   "execution_count": 29,
   "id": "39d106fb",
   "metadata": {},
   "outputs": [
    {
     "data": {
      "text/plain": [
       "2.830524433501838e-16"
      ]
     },
     "execution_count": 29,
     "metadata": {},
     "output_type": "execute_result"
    }
   ],
   "source": [
    "qc = QuantumCircuit(4)\n",
    "qc.x(0)\n",
    "qc.x(1)\n",
    "qc.rz(np.real(ph0),0)\n",
    "qc.rz(np.real(ph1),1)\n",
    "qc.rz(np.real(ph2),2)\n",
    "qc.rz(np.real(ph3),3)\n",
    "qc = G_cc(2,3,np.real(p6),np.real(pz6),qc)\n",
    "qc = G_cc(1,2,np.real(p5),np.real(pz5),qc)\n",
    "qc = G_cc(1,3,np.real(p4),np.real(pz4),qc)\n",
    "qc = G_cc(0,1,np.real(p3),np.real(pz3),qc)\n",
    "qc = G_cc(0,2,np.real(p2),np.real(pz2),qc)\n",
    "qc = G_cc(0,3,np.real(p1),np.real(pz1),qc)\n",
    "psi_tst = qi.Statevector.from_instruction(qc).data\n",
    "\n",
    "u0 = Mdot([Rz_gate(0,ph0,4),Rz_gate(1,ph1,4),Rz_gate(2,ph2,4),Rz_gate(3,ph3,4)])\n",
    "ua = G(2,3,p6,pz6,4)\n",
    "ub = G(1,2,p5,pz5,4)\n",
    "uc = G(1,3,p4,pz4,4)\n",
    "ud = G(0,1,p3,pz3,4)\n",
    "ue = G(0,2,p2,pz2,4)\n",
    "uf = G(0,3,p1,pz1,4)\n",
    "phase = np.exp(-1j*ph0/2)*np.exp(-1j*ph1/2)*np.exp(-1j*ph2/2)*np.exp(-1j*ph3/2)\n",
    "phase = phase*np.exp(1j*pz6/2)*np.exp(1j*pz5/2)*np.exp(1j*pz4/2)*np.exp(1j*pz3/2)*np.exp(1j*pz2/2)*np.exp(1j*pz1/2)\n",
    "np.amax(np.abs( phase*Mdot([uf,ue,ud,uc,ub,ua,u0,cd(1,4),cd(0,4),psi0(4)]) - psi_tst ))\n",
    "\n"
   ]
  },
  {
   "cell_type": "code",
   "execution_count": 30,
   "id": "025de2bb",
   "metadata": {},
   "outputs": [],
   "source": [
    "#qc.draw()"
   ]
  },
  {
   "cell_type": "code",
   "execution_count": 31,
   "id": "df81a5e6",
   "metadata": {},
   "outputs": [
    {
     "data": {
      "text/plain": [
       "3.0103076614886674e-16"
      ]
     },
     "execution_count": 31,
     "metadata": {},
     "output_type": "execute_result"
    }
   ],
   "source": [
    "psi1 = Mdot([ad(1,4),ad(0,4),psi0(4)])\n",
    "np.amax(np.abs( psi_tst - phase*psi1 ))"
   ]
  },
  {
   "cell_type": "markdown",
   "id": "7f6d171a",
   "metadata": {},
   "source": [
    "Okay so at long last, we have formed the Slatter determinent usinging quantum gates!\n",
    "\n",
    "# Gutzwiller rotation\n",
    "\n",
    "Now let us apply the Gutzwiller rotation $e^{-g\\hat{D}}$ where\n",
    "$$ \\hat{D} = \\sum_i \\hat{n}_{i,\\uparrow}\\hat{n}_{i,\\downarrow}  $$\n",
    "\n",
    "The Gutzwiller approach is to generate the eigenvector of the full Hamiltonian $ |\\psi> $ from the eigenvector of the non-interacting Hamiltoniain $ |\\psi_0> $ via\n",
    "$$ |\\psi> = \\frac{e^{-g\\hat{D}}|\\psi_0>}{\\sqrt{<\\psi_0|e^{-2g\\hat{D}}|\\psi_0>}}$$\n",
    "\n",
    "The idea is to then break up the exponential in small setps $dg$ such taht $N_g dg = g$.\n",
    "$$ e^{-g\\hat{D}} = \\prod_{i=1}^N e^{-g \\hat{n}_{i\\uparrow}\\hat{n}_{i\\downarrow}}  $$\n",
    "Since $\\hat{D}$ is diagonal, this is exact.  Using J-W we have,\n",
    "$$ e^{-g\\hat{D}}  \\rightarrow \\prod_{i=1}^N e^{-\\frac{g}{4} (I -Z_{i\\uparrow} - Z_{i\\downarrow} + Z_{i\\uparrow}Z_{i\\downarrow})} $$\n",
    "$$ = \\prod_{i=1}^N (\\cosh(\\frac{g}{4})-\\sinh(\\frac{g}{4}))(\\cosh(\\frac{g}{4})+\\sinh(\\frac{g}{4})Z_{i\\uparrow})(\\cosh(\\frac{g}{4})+\\sinh(\\frac{g}{4})Z_{i\\downarrow})(\\cosh(\\frac{g}{4})-\\sinh(\\frac{g}{4})Z_{i\\uparrow}Z_{i\\downarrow}) $$\n",
    "$$ = \\prod_{i=1}^N \\left( (C^4 - C^3S + C^2S^2 - C S^3 + S^4)I + (2C^2S^2 - C^3S - CS^3)(-Z_{i\\uparrow} - Z_{i\\downarrow} + Z_{i\\uparrow}Z_{i\\downarrow}) \\right)$$"
   ]
  },
  {
   "cell_type": "markdown",
   "id": "10afc040",
   "metadata": {},
   "source": [
    "## Not using quantum gates\n",
    "\n",
    "Let's strat by reminding ourselves how Gutzwiller works without worrying about writing things in terms of gates."
   ]
  },
  {
   "cell_type": "code",
   "execution_count": 32,
   "id": "14aaa9fa",
   "metadata": {},
   "outputs": [
    {
     "data": {
      "text/plain": [
       "8.881784197001252e-16"
      ]
     },
     "execution_count": 32,
     "metadata": {},
     "output_type": "execute_result"
    }
   ],
   "source": [
    "def Ks(N):\n",
    "    I0 = np.identity(len(Km(1,N)))\n",
    "    return np.kron(Km(1,N),I0) + np.kron(I0,Km(1,N))\n",
    "\n",
    "def Ds(N):\n",
    "    out = 0*I(2*N)\n",
    "    for i in range(N):\n",
    "        out = out + Mdot([cd(i,2*N),c(i,2*N),cd(i+N,2*N),c(i+N,2*N)])\n",
    "    return out\n",
    "\n",
    "def Hs(k,d,N):\n",
    "    return k*Ks(N) + d*Ds(N)\n",
    "\n",
    "def Gz(g,N):\n",
    "    out = I(2*N)\n",
    "    C = np.cosh(g/4)\n",
    "    S = np.sinh(g/4)\n",
    "    a = (C**4 - C**3*S  - C*S**3 + S**4)\n",
    "    b = (- C**3*S + C**2*S**2 + C**2*S**2 - C*S**3)\n",
    "    for i in range(N):\n",
    "        out = Mdot([  out, a*I(2*N) + b*( -Z(i,2*N) - Z(i+N,2*N) + Mdot([Z(i,2*N),Z(i+N,2*N)]) ) ]) \n",
    "    return out\n",
    "        \n",
    "np.amax(np.abs( sp.linalg.expm(-Ds(4)) - Gz(1,4) ))"
   ]
  },
  {
   "cell_type": "code",
   "execution_count": 33,
   "id": "4ecd290d",
   "metadata": {},
   "outputs": [
    {
     "name": "stdout",
     "output_type": "stream",
     "text": [
      "eigenvalue is:  (-4+5.551115123125786e-17j)\n",
      "check if eigenstate:  2.482534153247273e-16\n"
     ]
    }
   ],
   "source": [
    "psi1 = Mdot([ad(3,4),ad(2,4),psi0(4)])\n",
    "psi_spin = np.kron(psi1,psi1)\n",
    "\n",
    "print('eigenvalue is: ',bkt(psi_spin,Ks(4),psi_spin))\n",
    "print('check if eigenstate: ', np.amax(np.abs( bkt(psi_spin,Ks(4),psi_spin)*psi_spin - Mdot([Ks(4),psi_spin]) )) )\n"
   ]
  },
  {
   "cell_type": "code",
   "execution_count": 34,
   "id": "594d04be",
   "metadata": {},
   "outputs": [
    {
     "name": "stderr",
     "output_type": "stream",
     "text": [
      "/opt/miniconda3/envs/qiskit_nick/lib/python3.9/site-packages/matplotlib/cbook/__init__.py:1289: ComplexWarning: Casting complex values to real discards the imaginary part\n",
      "  return np.asarray(x, float)\n"
     ]
    },
    {
     "data": {
      "text/plain": [
       "[<matplotlib.lines.Line2D at 0x7f8c55b1f610>]"
      ]
     },
     "execution_count": 34,
     "metadata": {},
     "output_type": "execute_result"
    },
    {
     "data": {
      "image/png": "[encoded data removed]",
      "text/plain": [
       "<Figure size 432x288 with 1 Axes>"
      ]
     },
     "metadata": {
      "needs_background": "light"
     },
     "output_type": "display_data"
    }
   ],
   "source": [
    "H = Hs(1,10,4)\n",
    "e,y = np.linalg.eig(H)\n",
    "y = np.transpose(y)\n",
    "arg = np.argsort(e)\n",
    "e = np.sort(e)\n",
    "\n",
    "\n",
    "eg = []\n",
    "gl = []\n",
    "eT = []\n",
    "for gi in range(-10,10):\n",
    "    g = gi\n",
    "    #expD = sp.linalg.expm(-g*Ds(4))\n",
    "    expD = Gz(g,4)\n",
    "    psi = Mdot([expD,psi_spin])\n",
    "    psi = psi/np.sqrt(Mdot([np.conjugate(psi),psi]))\n",
    "    egl = bkt(psi,H,psi)\n",
    "    eg.append(egl)\n",
    "    gl.append(g)\n",
    "    eT.append(e[0])\n",
    "\n",
    "plt.plot(gl,eg)\n",
    "plt.plot(gl,eT)\n",
    "#print(e)"
   ]
  },
  {
   "cell_type": "markdown",
   "id": "73a5361e",
   "metadata": {},
   "source": [
    "## Seperate into blocks\n",
    "\n",
    "First we need everything in terms of Pauli matrices.  We already have $\\hat{D}$,\n",
    "$$ \\hat{D} = \\sum_i (I -Z_{i\\uparrow} - Z_{i\\downarrow} + Z_{i\\uparrow}Z_{i\\downarrow})$$\n",
    "\n",
    "We can also write $\\hat{K}$ in terms of Paulis\n",
    "$$ \\hat{K} = \\sum_{\\sigma}\\sum_{i=0}^{N-2}(X_{i\\sigma}X_{i+1\\sigma}+Y_{i\\sigma}Y_{i+1\\sigma}) + \\sum_{\\sigma}(X_{0\\sigma}\\left(\\prod_{j=1}^{N-2}Z_{j\\sigma}\\right)X_{N\\sigma} +  Y_{0\\sigma}\\left(\\prod_{j=1}^{N-2}Z_{j\\sigma}\\right)Y_{N\\sigma} )$$\n"
   ]
  },
  {
   "cell_type": "code",
   "execution_count": 35,
   "id": "99387dbb",
   "metadata": {},
   "outputs": [
    {
     "data": {
      "text/plain": [
       "0.0"
      ]
     },
     "execution_count": 35,
     "metadata": {},
     "output_type": "execute_result"
    }
   ],
   "source": [
    "def Kmp(k,N):\n",
    "    m = 0*I(N)\n",
    "    for i in range(0,N-1):\n",
    "        m = m + Mdot([X(i,N),X(i+1,N)])+ Mdot([Y(i+1,N),Y(i,N)])\n",
    "    m = m + Mdot([X(N-1,N),Mdot([Z(j,N) for j in range(1,N-1)]),X(0,N)])+ Mdot([Y(0,N),Mdot([Z(j,N) for j in range(1,N-1)]),Y(N-1,N)])\n",
    "    return 1/2*m\n",
    "\n",
    "def Km(k,N):\n",
    "    m = 0*I(N)\n",
    "    for i in range(0,N-1):\n",
    "        m = m + Mdot([cd(i,N),c(i+1,N)])+ Mdot([cd(i+1,N),c(i,N)])\n",
    "    m = m + Mdot([cd(N-1,N),c(0,N)])+ Mdot([cd(0,N),c(N-1,N)])\n",
    "    return m\n",
    "\n",
    "np.amax(np.abs( Km(1,4) - Kmp(1,4) ))"
   ]
  },
  {
   "cell_type": "markdown",
   "id": "c3930e78",
   "metadata": {},
   "source": [
    "We also need the Gutzwiller rotation in terms of Paulis which we have as,\n",
    "$$ \\hat{G}= \\prod_{i=0}^{N-1}\\left((C^4 - C^3S + C^2S^2 - C S^3 + S^4)I + (2C^2S^2 - C^3S - CS^3)(-Z_{i\\uparrow} - Z_{i\\downarrow} + Z_{i\\uparrow}Z_{i\\downarrow})\\right)$$\n",
    "\n",
    "We now need to find $\\hat{G}(k\\hat{K}+d\\hat{D})\\hat{G}$.  This could be done analytically but let's do it numerically for now."
   ]
  },
  {
   "cell_type": "code",
   "execution_count": 36,
   "id": "2793392e",
   "metadata": {},
   "outputs": [
    {
     "data": {
      "text/plain": [
       "1.850014188630019e-17j"
      ]
     },
     "execution_count": 36,
     "metadata": {},
     "output_type": "execute_result"
    }
   ],
   "source": [
    "import copy\n",
    "\n",
    "def GHG(g,k,d,N):\n",
    "    return Mdot([Gz(g,N),Hs(k,d,N),Gz(g,N)])\n",
    "\n",
    "def norm(g,N):\n",
    "    return Mdot([Gz(g,N),Gz(g,N)])\n",
    "\n",
    "def find_blocks(O,N):\n",
    "    bL = 2**N\n",
    "    H_tu = O\n",
    "    blocks = {}\n",
    "    for bi in range(bL):\n",
    "        for bj in range(bi,bL):\n",
    "            bij = [[H_tu[i + bL*bi][j + bL*bj] for j in range(0,bL)] for i in range(0,bL)]\n",
    "            blocks[str(bi) + ',' + str(bj)] = np.array(bij)\n",
    "    return blocks\n",
    "\n",
    "def find_sets(psi,N):\n",
    "    bL = 2**N\n",
    "    sets = {}\n",
    "    for bi in range(bL):\n",
    "        psi_i = [psi[i + bL*bi] for i in range(0,bL)]\n",
    "        sets[str(bi)] = np.array(psi_i)\n",
    "    return sets\n",
    "\n",
    "def G_blocks(g,N):\n",
    "    return find_blocks(Gz(g,N),N)\n",
    "\n",
    "def H_blocks(k,d,N):\n",
    "    return find_blocks(Hs(k,d,N),N)\n",
    "            \n",
    "            \n",
    "def GHG_blocks(g,k,d,N):\n",
    "    return find_blocks(GHG(g,k,d,N),N)\n",
    "\n",
    "def norm_blocks(g,N):\n",
    "    return find_blocks(norm(g,N),N)\n",
    "\n",
    "\n",
    "\n",
    "def psi_sets(N):\n",
    "    return find_sets(psi_spin,N)\n",
    "\n",
    "def Bdot(M,Psi):\n",
    "    bL = len(Psi)\n",
    "    out = copy.deepcopy(Psi)\n",
    "    for bi in range(bL):\n",
    "        out[str(bi)] = Mdot([M[str(bi) + ',' + str(bi)],Psi[str(bi)]])\n",
    "    for bi in range(bL):\n",
    "        for bj in range(bi+1,bL):\n",
    "            out[str(bi)] = out[str(bi)] + Mdot([M[str(bi) + ',' + str(bj)],Psi[str(bj)]])\n",
    "            out[str(bj)] = out[str(bj)] + Mdot([np.conjugate(M[str(bi) + ',' + str(bj)]),Psi[str(bi)]])\n",
    "    return out\n",
    "\n",
    "def Bdot2(Psi1,Psi2):\n",
    "    bL = len(Psi1)\n",
    "    out = 0\n",
    "    for bi in range(bL):\n",
    "        out += Mdot([np.conjugate(Psi1[str(bi)]),Psi2[str(bi)]])\n",
    "    return out\n",
    "\n",
    "def compare_sets(seta,setb):\n",
    "    out = 0\n",
    "    ka = seta.keys()\n",
    "    kb = seta.keys()\n",
    "    if ka == kb:\n",
    "        for k in ka:\n",
    "            out += np.amax(np.abs(seta[k]-setb[k]))\n",
    "    else:\n",
    "        return 'keys are different'\n",
    "    return out\n",
    "\n",
    "GHGpsi = Bdot(GHG_blocks(1,1,10,4),psi_sets(4))\n",
    "Mdot([np.conjugate(psi_spin),GHG(1,1,10,4),psi_spin]) - Bdot2(psi_sets(4),GHGpsi)"
   ]
  },
  {
   "cell_type": "code",
   "execution_count": 37,
   "id": "acfd03db",
   "metadata": {},
   "outputs": [
    {
     "name": "stdout",
     "output_type": "stream",
     "text": [
      "(-2.220446049250313e-16-1.8681319025814155e-17j)\n"
     ]
    }
   ],
   "source": [
    "g=2\n",
    "k=1\n",
    "d=10\n",
    "\n",
    "expD = Gz(g,N)\n",
    "psi = Mdot([expD,psi_spin])\n",
    "psi = psi/np.sqrt(Mdot([np.conjugate(psi),psi]))\n",
    "egl1 = bkt(psi,Hs(k,d,N),psi)\n",
    "\n",
    "psi_g = Bdot(G_blocks(g,N),psi_sets(N))\n",
    "norm2 = 1/np.sqrt(Bdot2(psi_g,psi_g))\n",
    "Hpsi_g = Bdot(H_blocks(k,d,N),psi_g)\n",
    "egl2 = norm2**2*Bdot2(psi_g,Hpsi_g)\n",
    "\n",
    "print(egl1-egl2)"
   ]
  },
  {
   "cell_type": "code",
   "execution_count": 38,
   "id": "399446fa",
   "metadata": {},
   "outputs": [
    {
     "data": {
      "text/plain": [
       "[<matplotlib.lines.Line2D at 0x7f8c515046a0>]"
      ]
     },
     "execution_count": 38,
     "metadata": {},
     "output_type": "execute_result"
    },
    {
     "data": {
      "image/png": "[encoded data removed]",
      "text/plain": [
       "<Figure size 432x288 with 1 Axes>"
      ]
     },
     "metadata": {
      "needs_background": "light"
     },
     "output_type": "display_data"
    }
   ],
   "source": [
    "eg = []\n",
    "eT = []\n",
    "gl = []\n",
    "for gi in range(-10,10):\n",
    "    g = gi\n",
    "    psi_g = Bdot(G_blocks(g,4),psi_sets(4))\n",
    "    norm_i = 1/np.sqrt(Bdot2(psi_g,psi_g))\n",
    "    Hpsi_g = Bdot(H_blocks(1,10,4),psi_g)\n",
    "    egl = norm_i**2*Bdot2(psi_g,Hpsi_g)\n",
    "    eg.append(egl)\n",
    "    gl.append(g)\n",
    "    eT.append(e[0])\n",
    "    \n",
    "plt.plot(gl,eg)"
   ]
  },
  {
   "cell_type": "markdown",
   "id": "689b7b7f",
   "metadata": {},
   "source": [
    "## Using Pauli Matrices"
   ]
  },
  {
   "cell_type": "code",
   "execution_count": 39,
   "id": "7e151e3f",
   "metadata": {},
   "outputs": [],
   "source": [
    "from qiskit.opflow.primitive_ops import MatrixOp\n",
    "from qiskit.opflow.list_ops import SummedOp"
   ]
  },
  {
   "cell_type": "code",
   "execution_count": 40,
   "id": "ea25d9c2",
   "metadata": {},
   "outputs": [],
   "source": [
    "def find_paulis(blocks):\n",
    "    keys = list(blocks.keys())\n",
    "    paulis = {}\n",
    "    for key in keys:\n",
    "        if np.amax(np.abs(blocks[key])) > 10**(-8):\n",
    "            paulis[key] = MatrixOp(blocks[key]).to_pauli_op()\n",
    "            if type(paulis[key]) is not SummedOp:\n",
    "                paulis[key] = [paulis[key]]\n",
    "    return paulis\n",
    "\n",
    "#The off diagonal double is turned off since I keep all blocks\n",
    "def bkt_paulis(psi1,O,psi2):\n",
    "    keys = list(O.keys())\n",
    "    out = 0\n",
    "    for key in keys:\n",
    "        key_split = key.split(',')\n",
    "        for pauli in O[key]:\n",
    "            p = pauli.primitive.to_label()\n",
    "            P = qi.Operator.from_label(p).data\n",
    "            w = pauli.coeff\n",
    "            if key_split[0] == key_split[1]:\n",
    "                out += w*Mdot([np.conjugate(psi1[key_split[0]]) , P , psi2[key_split[1]] ])\n",
    "            else:\n",
    "                out += w*Mdot([np.conjugate(psi1[key_split[0]]) , P , psi2[key_split[1]] ])\n",
    "                out += w*np.conjugate( Mdot([ np.conjugate(psi1[key_split[0]]), P , psi2[key_split[1]] ]) )\n",
    "    return out"
   ]
  },
  {
   "cell_type": "code",
   "execution_count": 41,
   "id": "0aa91d3b",
   "metadata": {},
   "outputs": [],
   "source": [
    "def GHG_paulis(g,k,d,N):\n",
    "    return find_paulis(GHG_blocks(g,k,d,N))\n",
    "\n",
    "def norm_paulis(g,N):\n",
    "    return find_paulis(norm_blocks(g,N))"
   ]
  },
  {
   "cell_type": "code",
   "execution_count": 42,
   "id": "9e4c5e04",
   "metadata": {},
   "outputs": [
    {
     "name": "stdout",
     "output_type": "stream",
     "text": [
      "1.734723475976807e-17\n",
      "1.3877787807814457e-16\n"
     ]
    }
   ],
   "source": [
    "g=2\n",
    "k=1\n",
    "d=10\n",
    "N=4\n",
    "print( np.amax(np.abs(norm_paulis(g,N)['1,1'].to_matrix() - norm_blocks(g,N)['1,1'])) )\n",
    "print( np.amax(np.abs(GHG_paulis(g,k,d,N)['1,2'].to_matrix() - GHG_blocks(g,k,d,N)['1,2'])) )"
   ]
  },
  {
   "cell_type": "code",
   "execution_count": 43,
   "id": "47eaea12",
   "metadata": {},
   "outputs": [
    {
     "name": "stdout",
     "output_type": "stream",
     "text": [
      "(2.24162189942428+1.0359211144934273e-18j) (2.2416218994242794+0j) (2.2416218994242794+0j)\n"
     ]
    }
   ],
   "source": [
    "g=2\n",
    "N=4\n",
    "psi1 = Mdot([ad(3,4),ad(2,4),psi0(4)])\n",
    "psi_spin = np.kron(psi1,psi1)\n",
    "norm0 = 1/np.sqrt(Mdot([np.conjugate(psi_spin),norm(g,N),psi_spin]))\n",
    "\n",
    "psi_g = Bdot(G_blocks(g,N),psi_sets(N))\n",
    "norm1 = 1/np.sqrt(Bdot2(psi_g,psi_g))\n",
    "\n",
    "norm2 = 1/np.sqrt( bkt_paulis(psi_sets(4),norm_paulis(g,N),psi_sets(4)) )\n",
    "print(norm0,norm1,norm2)"
   ]
  },
  {
   "cell_type": "code",
   "execution_count": 44,
   "id": "74965295",
   "metadata": {},
   "outputs": [
    {
     "name": "stdout",
     "output_type": "stream",
     "text": [
      "(-0.1093059640994295-2.452201406808581e-18j) (-0.10930596409942947+0j)\n"
     ]
    }
   ],
   "source": [
    "ghg1 = bkt(psi_spin,GHG(g,k,d,N),psi_spin)\n",
    "ghg2 = bkt_paulis(psi_sets(N),GHG_paulis(g,k,d,N),psi_sets(N)) \n",
    "print(ghg1,ghg2)"
   ]
  },
  {
   "cell_type": "code",
   "execution_count": 45,
   "id": "221d3133",
   "metadata": {},
   "outputs": [],
   "source": [
    "def find_energy_paulis(g,k,d,N):\n",
    "    psi =  psi_sets(N)\n",
    "    GHG = GHG_paulis(g,k,d,N)\n",
    "    norm = norm_paulis(g,N)\n",
    "    e = bkt_paulis(psi,GHG,psi)/bkt_paulis(psi,norm,psi)\n",
    "    return e"
   ]
  },
  {
   "cell_type": "code",
   "execution_count": 46,
   "id": "3b09032e",
   "metadata": {},
   "outputs": [
    {
     "name": "stdout",
     "output_type": "stream",
     "text": [
      "(-0.5492481220964371-1.7275521802509475e-17j) (-0.5492481220964368+0j)\n"
     ]
    }
   ],
   "source": [
    "g=2\n",
    "k=1\n",
    "d=10\n",
    "\n",
    "expD = Gz(g,N)\n",
    "psi = Mdot([expD,psi_spin])\n",
    "psi = psi/np.sqrt(Mdot([np.conjugate(psi),psi]))\n",
    "egl1 = bkt(psi,Hs(k,d,N),psi)\n",
    "\n",
    "egl2 = find_energy_paulis(g,k,d,N)\n",
    "\n",
    "print(egl1,egl2)"
   ]
  },
  {
   "cell_type": "code",
   "execution_count": 47,
   "id": "461e48f0",
   "metadata": {},
   "outputs": [
    {
     "data": {
      "text/plain": [
       "[<matplotlib.lines.Line2D at 0x7f8c584e0d30>]"
      ]
     },
     "execution_count": 47,
     "metadata": {},
     "output_type": "execute_result"
    },
    {
     "data": {
      "image/png": "[encoded data removed]",
      "text/plain": [
       "<Figure size 432x288 with 1 Axes>"
      ]
     },
     "metadata": {
      "needs_background": "light"
     },
     "output_type": "display_data"
    }
   ],
   "source": [
    "k=1\n",
    "d=10\n",
    "N=4\n",
    "H = Hs(k,d,N)\n",
    "e,y = np.linalg.eig(H)\n",
    "e = np.sort(e)\n",
    "\n",
    "eg = []\n",
    "eT = []\n",
    "gl = []\n",
    "for gi in range(-10,10):\n",
    "    g = gi\n",
    "    egl = find_energy_paulis(g,k,d,N)\n",
    "    eg.append(egl)\n",
    "    gl.append(g)\n",
    "    eT.append(e[0])\n",
    "\n",
    "plt.plot(gl,eg)\n",
    "plt.plot(gl,eT)"
   ]
  },
  {
   "cell_type": "markdown",
   "id": "f813ea1d",
   "metadata": {},
   "source": [
    "## Using Quantum Gates"
   ]
  },
  {
   "cell_type": "code",
   "execution_count": 48,
   "id": "b98ccb9f",
   "metadata": {},
   "outputs": [],
   "source": [
    "#Finds the collection of unique Pauli terms\n",
    "def pauli_collection(Ops):\n",
    "    out = {}\n",
    "    for O in Ops:\n",
    "        keys = list(O.keys())\n",
    "        for key in keys:\n",
    "            block = O[key]\n",
    "            for p in block:\n",
    "                pauli = p.primitive.to_label()\n",
    "                if pauli not in out:\n",
    "                    out[pauli] = 0\n",
    "    return out\n",
    "\n",
    "paulis = pauli_collection([GHG_paulis(2,1,10,4),norm_paulis(2,4)])"
   ]
  },
  {
   "cell_type": "code",
   "execution_count": 49,
   "id": "2c6aec13",
   "metadata": {},
   "outputs": [
    {
     "data": {
      "text/plain": [
       "2.187358838057016e-16"
      ]
     },
     "execution_count": 49,
     "metadata": {},
     "output_type": "execute_result"
    }
   ],
   "source": [
    "from qiskit import QuantumCircuit, transpile, QuantumRegister,ClassicalRegister, execute\n",
    "\n",
    "def slatter_circ(F):\n",
    "    F1,pz1,p1 = givens(0,3,F)\n",
    "    F2,pz2,p2 = givens(0,2,F1)\n",
    "    F3,pz3,p3 = givens(0,1,F2)\n",
    "    F4,pz4,p4 = givens(1,3,F3)\n",
    "    F5,pz5,p5 = givens(1,2,F4)\n",
    "    F6,pz6,p6 = givens(2,3,F5)\n",
    "    ph0 = -1j*np.log(F6[0,0])\n",
    "    ph1 = -1j*np.log(F6[1,1])\n",
    "    ph2 = -1j*np.log(F6[2,2])\n",
    "    ph3 = -1j*np.log(F6[3,3])\n",
    "    qr = QuantumRegister(4)\n",
    "    cr = ClassicalRegister(4)\n",
    "    qc = QuantumCircuit(qr , cr)\n",
    "    qc.x(2)\n",
    "    qc.x(3)\n",
    "    qc.rz(np.real(ph0),0)\n",
    "    qc.rz(np.real(ph1),1)\n",
    "    qc.rz(np.real(ph2),2)\n",
    "    qc.rz(np.real(ph3),3)\n",
    "    qc = G_cc(2,3,np.real(p6),np.real(pz6),qc)\n",
    "    qc = G_cc(1,2,np.real(p5),np.real(pz5),qc)\n",
    "    qc = G_cc(1,3,np.real(p4),np.real(pz4),qc)\n",
    "    qc = G_cc(0,1,np.real(p3),np.real(pz3),qc)\n",
    "    qc = G_cc(0,2,np.real(p2),np.real(pz2),qc)\n",
    "    qc = G_cc(0,3,np.real(p1),np.real(pz1),qc)\n",
    "    return qc\n",
    "\n",
    "#Test\n",
    "qc = slatter_circ(F(4))\n",
    "psi_tst = qi.Statevector.from_instruction(qc).data\n",
    "phase = np.exp(-1j*ph0/2)*np.exp(-1j*ph1/2)*np.exp(-1j*ph2/2)*np.exp(-1j*ph3/2)\n",
    "phase = phase*np.exp(1j*pz6/2)*np.exp(1j*pz5/2)*np.exp(1j*pz4/2)*np.exp(1j*pz3/2)*np.exp(1j*pz2/2)*np.exp(1j*pz1/2)\n",
    "psi1 = Mdot([ad(3,4),ad(2,4),psi0(4)])\n",
    "np.amax(np.abs( psi_tst - phase*psi1 ))\n"
   ]
  },
  {
   "cell_type": "code",
   "execution_count": 50,
   "id": "c5f1fb6f",
   "metadata": {},
   "outputs": [
    {
     "name": "stdout",
     "output_type": "stream",
     "text": [
      "3.370167668204841e-16\n"
     ]
    },
    {
     "ename": "NameError",
     "evalue": "name 'analyze_result' is not defined",
     "output_type": "error",
     "traceback": [
      "\u001b[0;31m---------------------------------------------------------------------------\u001b[0m",
      "\u001b[0;31mNameError\u001b[0m                                 Traceback (most recent call last)",
      "\u001b[0;32m<ipython-input-50-88d361629119>\u001b[0m in \u001b[0;36m<module>\u001b[0;34m\u001b[0m\n\u001b[1;32m     50\u001b[0m \u001b[0mpsi_tst\u001b[0m \u001b[0;34m=\u001b[0m \u001b[0mqi\u001b[0m\u001b[0;34m.\u001b[0m\u001b[0mStatevector\u001b[0m\u001b[0;34m.\u001b[0m\u001b[0mfrom_instruction\u001b[0m\u001b[0;34m(\u001b[0m\u001b[0mqc\u001b[0m\u001b[0;34m)\u001b[0m\u001b[0;34m\u001b[0m\u001b[0;34m\u001b[0m\u001b[0m\n\u001b[1;32m     51\u001b[0m \u001b[0mr1\u001b[0m \u001b[0;34m=\u001b[0m \u001b[0mpsi_tst\u001b[0m\u001b[0;34m.\u001b[0m\u001b[0mprobabilities_dict\u001b[0m\u001b[0;34m(\u001b[0m\u001b[0;34m)\u001b[0m\u001b[0;34m\u001b[0m\u001b[0;34m\u001b[0m\u001b[0m\n\u001b[0;32m---> 52\u001b[0;31m \u001b[0mp1\u001b[0m \u001b[0;34m=\u001b[0m \u001b[0manalyze_result\u001b[0m\u001b[0;34m(\u001b[0m\u001b[0mr1\u001b[0m\u001b[0;34m,\u001b[0m\u001b[0mm\u001b[0m\u001b[0;34m)\u001b[0m\u001b[0;34m\u001b[0m\u001b[0;34m\u001b[0m\u001b[0m\n\u001b[0m\u001b[1;32m     53\u001b[0m \u001b[0mpsi1\u001b[0m \u001b[0;34m=\u001b[0m \u001b[0mMdot\u001b[0m\u001b[0;34m(\u001b[0m\u001b[0;34m[\u001b[0m\u001b[0mad\u001b[0m\u001b[0;34m(\u001b[0m\u001b[0;36m3\u001b[0m\u001b[0;34m,\u001b[0m\u001b[0;36m4\u001b[0m\u001b[0;34m)\u001b[0m\u001b[0;34m,\u001b[0m\u001b[0mad\u001b[0m\u001b[0;34m(\u001b[0m\u001b[0;36m2\u001b[0m\u001b[0;34m,\u001b[0m\u001b[0;36m4\u001b[0m\u001b[0;34m)\u001b[0m\u001b[0;34m,\u001b[0m\u001b[0mpsi0\u001b[0m\u001b[0;34m(\u001b[0m\u001b[0;36m4\u001b[0m\u001b[0;34m)\u001b[0m\u001b[0;34m]\u001b[0m\u001b[0;34m)\u001b[0m\u001b[0;34m\u001b[0m\u001b[0;34m\u001b[0m\u001b[0m\n\u001b[1;32m     54\u001b[0m \u001b[0mp2\u001b[0m \u001b[0;34m=\u001b[0m \u001b[0mMdot\u001b[0m\u001b[0;34m(\u001b[0m\u001b[0;34m[\u001b[0m\u001b[0mnp\u001b[0m\u001b[0;34m.\u001b[0m\u001b[0mconjugate\u001b[0m\u001b[0;34m(\u001b[0m\u001b[0mpsi1\u001b[0m\u001b[0;34m)\u001b[0m\u001b[0;34m,\u001b[0m\u001b[0mY\u001b[0m\u001b[0;34m(\u001b[0m\u001b[0;36m0\u001b[0m\u001b[0;34m,\u001b[0m\u001b[0;36m4\u001b[0m\u001b[0;34m)\u001b[0m\u001b[0;34m,\u001b[0m\u001b[0mZ\u001b[0m\u001b[0;34m(\u001b[0m\u001b[0;36m1\u001b[0m\u001b[0;34m,\u001b[0m\u001b[0;36m4\u001b[0m\u001b[0;34m)\u001b[0m\u001b[0;34m,\u001b[0m\u001b[0mZ\u001b[0m\u001b[0;34m(\u001b[0m\u001b[0;36m2\u001b[0m\u001b[0;34m,\u001b[0m\u001b[0;36m4\u001b[0m\u001b[0;34m)\u001b[0m\u001b[0;34m,\u001b[0m\u001b[0mX\u001b[0m\u001b[0;34m(\u001b[0m\u001b[0;36m3\u001b[0m\u001b[0;34m,\u001b[0m\u001b[0;36m4\u001b[0m\u001b[0;34m)\u001b[0m\u001b[0;34m,\u001b[0m\u001b[0mpsi1\u001b[0m\u001b[0;34m]\u001b[0m\u001b[0;34m)\u001b[0m\u001b[0;34m\u001b[0m\u001b[0;34m\u001b[0m\u001b[0m\n",
      "\u001b[0;31mNameError\u001b[0m: name 'analyze_result' is not defined"
     ]
    }
   ],
   "source": [
    "def create_circ(p_label):\n",
    "    qbits = [0,1,2,3]\n",
    "    qc = slatter_circ(F(4))\n",
    "    psi = copy.deepcopy(qc)\n",
    "    pauli_qs = []\n",
    "    Z_label = ''\n",
    "    Q = len(p_label)-1\n",
    "    for q,p in enumerate(p_label):\n",
    "        if p == 'X':\n",
    "            psi.ry(-np.pi/2,qbits[Q-q])\n",
    "            pauli_qs.append(1)\n",
    "            Z_label += 'Z'\n",
    "        if p == 'Y':\n",
    "            psi.rx(np.pi/2,qbits[Q-q])\n",
    "            pauli_qs.append(1)\n",
    "            Z_label += 'Z'\n",
    "        if p == 'Z':\n",
    "            pauli_qs.append(1)\n",
    "            Z_label += 'Z'\n",
    "        if p == 'I':\n",
    "            pauli_qs.append(0)\n",
    "            Z_label += 'I'\n",
    "    psi.measure(psi.qubits,psi.clbits)\n",
    "    return [psi,pauli_qs,p_label]\n",
    "\n",
    "def create_circs(paulis):\n",
    "    keys = list(paulis.keys())\n",
    "    circs = []\n",
    "    meas = []\n",
    "    labels = []\n",
    "    for key in keys:\n",
    "        ck, mk, lk = create_circ(key)\n",
    "        circs.append(ck)\n",
    "        meas.append(mk)\n",
    "        labels.append(lk)\n",
    "    return circs, meas, labels\n",
    "\n",
    "#Test No Paulis\n",
    "qc,m,l = create_circ('IIII')\n",
    "qc.remove_final_measurements()\n",
    "psi_tst = qi.Statevector.from_instruction(qc).data\n",
    "phase = np.exp(-1j*ph0/2)*np.exp(-1j*ph1/2)*np.exp(-1j*ph2/2)*np.exp(-1j*ph3/2)\n",
    "phase = phase*np.exp(1j*pz6/2)*np.exp(1j*pz5/2)*np.exp(1j*pz4/2)*np.exp(1j*pz3/2)*np.exp(1j*pz2/2)*np.exp(1j*pz1/2)\n",
    "psi1 = Mdot([ad(3,4),ad(2,4),psi0(4)])\n",
    "print(np.amax(np.abs( psi_tst - phase*psi1 )))\n",
    "\n",
    "#Test Paulis\n",
    "qc,m,l = create_circ('XZZY')\n",
    "qc.remove_final_measurements()\n",
    "psi_tst = qi.Statevector.from_instruction(qc)\n",
    "r1 = psi_tst.probabilities_dict()\n",
    "p1 = analyze_result(r1,m)\n",
    "psi1 = Mdot([ad(3,4),ad(2,4),psi0(4)])\n",
    "p2 = Mdot([np.conjugate(psi1),Y(0,4),Z(1,4),Z(2,4),X(3,4),psi1])\n",
    "print(p1-p2)\n",
    "\n",
    "#Test Paulis\n",
    "label = list(paulis.keys())[3]\n",
    "qc,m,l = create_circ(label)\n",
    "qc.remove_final_measurements()\n",
    "psi_tst = qi.Statevector.from_instruction(qc)\n",
    "r1 = psi_tst.probabilities_dict()\n",
    "p1 = analyze_result(r1,m)\n",
    "psi1 = Mdot([ad(3,4),ad(2,4),psi0(4)])\n",
    "Op = qi.Operator.from_label(label)\n",
    "p2 = Mdot([np.conjugate(psi1),Op,psi1])\n",
    "print(label,p1-p2)\n",
    "\n",
    "#Test Circs\n",
    "nl=4\n",
    "label = list(paulis.keys())[nl]\n",
    "circs,meas,labels  = create_circs(paulis)\n",
    "qc = circs[nl]\n",
    "qc.remove_final_measurements()\n",
    "psi_tst = qi.Statevector.from_instruction(qc)\n",
    "r1 = psi_tst.probabilities_dict()\n",
    "p1 = analyze_result(r1,meas[nl])\n",
    "psi1 = Mdot([ad(3,4),ad(2,4),psi0(4)])\n",
    "Op = qi.Operator.from_label(label)\n",
    "p2 = Mdot([np.conjugate(psi1),Op,psi1])\n",
    "print(label,p1-p2)\n",
    "\n",
    "#Test Circs\n",
    "nl=15\n",
    "label = list(paulis.keys())[nl]\n",
    "circs,meas,labels  = create_circs(paulis)\n",
    "results = get_results(circs)\n",
    "r1 = results[nl]\n",
    "p1 = analyze_result(r1,meas[nl])\n",
    "psi1 = Mdot([ad(3,4),ad(2,4),psi0(4)])\n",
    "Op = qi.Operator.from_label(label)\n",
    "p2 = Mdot([np.conjugate(psi1),Op,psi1])\n",
    "print(label,p1-p2)"
   ]
  },
  {
   "cell_type": "code",
   "execution_count": 51,
   "id": "bc724bc7",
   "metadata": {},
   "outputs": [],
   "source": [
    "circs,meas,labels  = create_circs(paulis)"
   ]
  },
  {
   "cell_type": "code",
   "execution_count": 52,
   "id": "c2794166",
   "metadata": {},
   "outputs": [],
   "source": [
    "from qiskit import IBMQ,transpile\n",
    "from qiskit.tools.monitor import job_monitor\n",
    "IBMQ.load_account()\n",
    "provider = IBMQ.get_provider(hub='ibm-q-afrl', group='air-force-lab', project='quantum-sim')\n",
    "#backend = provider.get_backend('ibmq_jakarta')\n",
    "backend = provider.get_backend('ibm_lagos')"
   ]
  },
  {
   "cell_type": "code",
   "execution_count": 53,
   "id": "247b5cc6",
   "metadata": {},
   "outputs": [],
   "source": [
    "from qiskit import Aer\n",
    "import copy\n",
    "\n",
    "def get_results(circs_in, method = 'matrix',save_id_file = None):\n",
    "    circs = copy.deepcopy(circs_in)\n",
    "    #Exact Calculation\n",
    "    if method == 'matrix':\n",
    "        # add results\n",
    "        r = []\n",
    "        for l in range(len(circs)):\n",
    "            circs[l].remove_final_measurements()\n",
    "            wave = qi.Statevector.from_instruction(circs[l])\n",
    "            r_l = wave.probabilities_dict()\n",
    "            r.append(r_l)\n",
    "    #Qiskit Simulation        \n",
    "    if method == \"simulator\":\n",
    "        sim = Aer.get_backend(\"qasm_simulator\")\n",
    "        r = execute(circs, backend = sim).result().get_counts() \n",
    "    #Device\n",
    "    if method == \"quantum\":\n",
    "        job = backend.run(transpile(circs, backend), meas_level=2, shots=8192)\n",
    "        job_id = job.job_id()\n",
    "        print(job_id)\n",
    "        np.save(save_id_file,[job_id])\n",
    "        r = job.result().get_counts()\n",
    "    return r\n",
    "\n",
    "results = get_results(circs)\n",
    "results = get_results(circs, method = 'simulator')\n",
    "\n",
    "#save_id_file = \"/Users/stenger/Documents/Research/Half_Classical_Evolution/Data/Job_id_test2\"\n",
    "#results = get_results(circs, method = 'quantum',save_id_file = save_id_file)"
   ]
  },
  {
   "cell_type": "code",
   "execution_count": 54,
   "id": "de225d95",
   "metadata": {},
   "outputs": [],
   "source": [
    "def analyze_result(r,meas):\n",
    "    qbits = [0,1,2,3]\n",
    "    QL=len(list(r.keys())[0])\n",
    "    Q = len(meas)\n",
    "    z_measure = 0\n",
    "    total = 0\n",
    "    for key in list(r.keys()):\n",
    "        n = 0\n",
    "        for q in range(Q):\n",
    "            if key[QL-1-qbits[q]] == '1' and meas[Q-1-q] == 1:\n",
    "                n += 1\n",
    "        z_measure += (-1)**n * r[key] \n",
    "        total += r[key]\n",
    "    return z_measure/total\n",
    "\n",
    "def analyze_results(r,meas,labels):\n",
    "    paulis = {}\n",
    "    for pi in range(len(r)):\n",
    "        paulis[labels[pi]] = analyze_result(r[pi],meas[pi])\n",
    "    return paulis\n",
    "\n",
    "\n",
    "pauli_meas = analyze_results(results,meas,labels)\n",
    "\n",
    "\n",
    "#check pauli_mease\n",
    "for nl in range(len(labels)):\n",
    "    p1 = pauli_meas[labels[nl]]\n",
    "    psi1 = Mdot([ad(3,4),ad(2,4),psi0(4)])\n",
    "    Op = qi.Operator.from_label(labels[nl])\n",
    "    p2 = Mdot([np.conjugate(psi1),Op,psi1])\n",
    "    p3 = analyze_result(results[nl],meas[nl])\n",
    "    #print(labels[nl],p1-p2)\n",
    "    "
   ]
  },
  {
   "cell_type": "code",
   "execution_count": 55,
   "id": "a9fac330",
   "metadata": {},
   "outputs": [],
   "source": [
    "#Need to find the first non-zero term for this to work\n",
    "def alphas(psi):\n",
    "    keys = list(psi.keys())\n",
    "    a = {}\n",
    "    for key in keys:\n",
    "        a[key] = psi[key][3]/psi['3'][3]\n",
    "    total = sum([a[key]*np.conjugate(a[key]) for key in keys])\n",
    "    for key in keys:\n",
    "        a[key] = a[key]/total\n",
    "    return a\n",
    "\n",
    "def alphas(psi_comp):\n",
    "    keys = list(psi_comp.keys())\n",
    "    total = sum([Mdot([np.conjugate(psi_comp[key]),psi_comp[key]]) for key in keys])\n",
    "    a = {}\n",
    "    for key in keys:\n",
    "        if np.abs(psi_comp[key][3]) > 0:\n",
    "            sgn = psi_comp[key][3]/np.abs(psi_comp[key][3])\n",
    "        else:\n",
    "            sgn = 0\n",
    "        a[key] = sgn*np.sqrt(Mdot([np.conjugate(psi_comp[key]),psi_comp[key]])/total)\n",
    "    return a\n",
    "\n",
    "def bkt_from_result(p_meas, O, psi):\n",
    "    out = 0\n",
    "    check =[]\n",
    "    a = alphas(psi)\n",
    "    block_keys = list(O.keys())\n",
    "    for bk in block_keys:\n",
    "        bks = bk.split(',')\n",
    "        for pauli in O[bk]:\n",
    "            p = pauli.primitive.to_label()\n",
    "            w = pauli.coeff\n",
    "            if bks[0] == bks[1]:\n",
    "                out += np.conjugate(a[bks[0]])*a[bks[1]]*w*p_meas[p]\n",
    "            else:\n",
    "                out += np.conjugate(a[bks[0]])*a[bks[1]]*w*p_meas[p]\n",
    "                out += np.conjugate(a[bks[1]])*a[bks[0]]*w*p_meas[p]\n",
    "            check.append([bk,p,np.conjugate(a[bks[0]])*a[bks[1]]*w*p_meas[p]])\n",
    "    return out\n",
    "    #return check\n"
   ]
  },
  {
   "cell_type": "code",
   "execution_count": 56,
   "id": "6a086690",
   "metadata": {},
   "outputs": [
    {
     "data": {
      "text/plain": [
       "(0.20641709328084176+0j)"
      ]
     },
     "execution_count": 56,
     "metadata": {},
     "output_type": "execute_result"
    }
   ],
   "source": [
    "bkt_from_result(pauli_meas,norm_paulis(2,4),psi_sets(4))"
   ]
  },
  {
   "cell_type": "code",
   "execution_count": 57,
   "id": "de1131dc",
   "metadata": {},
   "outputs": [
    {
     "data": {
      "text/plain": [
       "(0.19901017354819017-1.8393721156143213e-19j)"
      ]
     },
     "execution_count": 57,
     "metadata": {},
     "output_type": "execute_result"
    }
   ],
   "source": [
    "g=2\n",
    "N=4\n",
    "psi1 = Mdot([ad(3,4),ad(2,4),psi0(4)])\n",
    "psi_spin = np.kron(psi1,psi1)\n",
    "norm0 = Mdot([np.conjugate(psi_spin),norm(g,N),psi_spin])\n",
    "norm0"
   ]
  },
  {
   "cell_type": "code",
   "execution_count": 58,
   "id": "a168aa6b",
   "metadata": {},
   "outputs": [
    {
     "data": {
      "text/plain": [
       "(-0.11772951292108008+0j)"
      ]
     },
     "execution_count": 58,
     "metadata": {},
     "output_type": "execute_result"
    }
   ],
   "source": [
    "bkt_from_result(pauli_meas,GHG_paulis(2,1,10,4),psi_sets(4))"
   ]
  },
  {
   "cell_type": "code",
   "execution_count": 59,
   "id": "36593b1d",
   "metadata": {},
   "outputs": [
    {
     "data": {
      "text/plain": [
       "(-0.1093059640994295-2.452201406808581e-18j)"
      ]
     },
     "execution_count": 59,
     "metadata": {},
     "output_type": "execute_result"
    }
   ],
   "source": [
    "g=2\n",
    "k=1\n",
    "d=10\n",
    "N=4\n",
    "psi1 = Mdot([ad(3,4),ad(2,4),psi0(4)])\n",
    "psi_spin = np.kron(psi1,psi1)\n",
    "ghg0 = Mdot([np.conjugate(psi_spin),GHG(g,k,d,N),psi_spin])\n",
    "ghg0"
   ]
  },
  {
   "cell_type": "code",
   "execution_count": 60,
   "id": "149f807d",
   "metadata": {},
   "outputs": [],
   "source": [
    "def energy_from_results(r,g,k,d,N):\n",
    "    num = bkt_from_result(pauli_meas,GHG_paulis(g,k,d,N),psi_sets(N))\n",
    "    dnm = bkt_from_result(pauli_meas,norm_paulis(g,N),psi_sets(N))\n",
    "    return num/dnm"
   ]
  },
  {
   "cell_type": "code",
   "execution_count": 61,
   "id": "ef21e84e",
   "metadata": {},
   "outputs": [
    {
     "name": "stdout",
     "output_type": "stream",
     "text": [
      "(-0.5703476928671921+0j) (-0.5492481220964371-1.7275521802509475e-17j)\n"
     ]
    }
   ],
   "source": [
    "g=2\n",
    "k=1\n",
    "d=10\n",
    "N=4\n",
    "e1 = energy_from_results(results,g,k,d,N)\n",
    "expD = Gz(g,N)\n",
    "psi = Mdot([expD,psi_spin])\n",
    "psi = psi/np.sqrt(Mdot([np.conjugate(psi),psi]))\n",
    "e2 = bkt(psi,Hs(k,d,N),psi)\n",
    "print( e1,e2 )"
   ]
  },
  {
   "cell_type": "code",
   "execution_count": 62,
   "id": "b94735bd",
   "metadata": {},
   "outputs": [],
   "source": [
    "k=1\n",
    "d=10\n",
    "N=4\n",
    "\n",
    "H = Hs(1,10,4)\n",
    "e,y = np.linalg.eig(H)\n",
    "y = np.transpose(y)\n",
    "arg = np.argsort(e)\n",
    "e = np.sort(e)\n",
    "\n",
    "\n",
    "\n",
    "\n",
    "eg = []\n",
    "gl = []\n",
    "eT = []\n",
    "for gi in range(-10,10):\n",
    "    g = gi\n",
    "    egl = energy_from_results(results,g,k,d,N)\n",
    "    eg.append(egl)\n",
    "    gl.append(g)\n",
    "    eT.append(e[0])"
   ]
  },
  {
   "cell_type": "code",
   "execution_count": 63,
   "id": "6f8e984b",
   "metadata": {},
   "outputs": [
    {
     "name": "stderr",
     "output_type": "stream",
     "text": [
      "/opt/miniconda3/envs/qiskit_nick/lib/python3.9/site-packages/matplotlib/cbook/__init__.py:1289: ComplexWarning: Casting complex values to real discards the imaginary part\n",
      "  return np.asarray(x, float)\n"
     ]
    },
    {
     "data": {
      "text/plain": [
       "[<matplotlib.lines.Line2D at 0x7f8c594d6400>]"
      ]
     },
     "execution_count": 63,
     "metadata": {},
     "output_type": "execute_result"
    },
    {
     "data": {
      "image/png": "[encoded data removed]",
      "text/plain": [
       "<Figure size 432x288 with 1 Axes>"
      ]
     },
     "metadata": {
      "needs_background": "light"
     },
     "output_type": "display_data"
    }
   ],
   "source": [
    "plt.plot(gl,eg)\n",
    "#plt.plot(gl,eg_h)\n",
    "plt.plot(gl,eT)"
   ]
  },
  {
   "cell_type": "markdown",
   "id": "8d233211",
   "metadata": {},
   "source": [
    "## Save Results"
   ]
  },
  {
   "cell_type": "code",
   "execution_count": 1068,
   "id": "c11b82db",
   "metadata": {},
   "outputs": [],
   "source": [
    "import pickle\n",
    "#fpath = \"/Users/stenger/Documents/Research/Half_Classical_Evolution/Data/Job_id_test\"\n",
    "\n",
    "#file_to_store = open(fpath + \"Gutz2_lagos_test.pickle\", \"wb\")\n",
    "\n",
    "#pickle.dump(results, file_to_store)"
   ]
  },
  {
   "cell_type": "code",
   "execution_count": 179,
   "id": "e294ece8",
   "metadata": {},
   "outputs": [],
   "source": [
    "import pickle\n",
    "fpath = \"/Users/stenger/Documents/Research/Hubbard_symmetries/Gutzwiller/Data/Job_id_test\"\n",
    "\n",
    "file_to_read = open(fpath + \"Gutz2_lagos_test.pickle\", \"rb\")\n",
    "\n",
    "loaded_results = pickle.load(file_to_read)"
   ]
  },
  {
   "cell_type": "markdown",
   "id": "de7a17aa",
   "metadata": {},
   "source": [
    "## Analyze "
   ]
  },
  {
   "cell_type": "code",
   "execution_count": 72,
   "id": "db90e8ae",
   "metadata": {},
   "outputs": [],
   "source": [
    "pauli_meas = analyze_results(loaded_results,meas,labels)"
   ]
  },
  {
   "cell_type": "code",
   "execution_count": 102,
   "id": "b0336311",
   "metadata": {},
   "outputs": [],
   "source": [
    "k=1\n",
    "d=0\n",
    "N=4\n",
    "\n",
    "H = Hs(k,d,N)\n",
    "e,y = np.linalg.eig(H)\n",
    "y = np.transpose(y)\n",
    "arg = np.argsort(e)\n",
    "e = np.sort(e)\n",
    "\n",
    "\n",
    "\n",
    "\n",
    "eg = []\n",
    "egh = []\n",
    "gl = []\n",
    "eT = []\n",
    "for gi in range(-10,10):\n",
    "    g = gi\n",
    "    egl = energy_from_results(loaded_results,g,k,d,N)\n",
    "    eg.append(egl)\n",
    "    gl.append(g)\n",
    "    eT.append(e[0])\n",
    "    expD = Gz(g,4)\n",
    "    psi = Mdot([expD,psi_spin])\n",
    "    psi = psi/np.sqrt(Mdot([np.conjugate(psi),psi]))\n",
    "    egl = bkt(psi,H,psi)\n",
    "    egh.append(egl)"
   ]
  },
  {
   "cell_type": "code",
   "execution_count": 107,
   "id": "13c1423d",
   "metadata": {},
   "outputs": [
    {
     "data": {
      "text/plain": [
       "[<matplotlib.lines.Line2D at 0x7fc6e4e98b50>]"
      ]
     },
     "execution_count": 107,
     "metadata": {},
     "output_type": "execute_result"
    },
    {
     "data": {
      "image/png": "[encoded data removed]",
      "text/plain": [
       "<Figure size 432x288 with 1 Axes>"
      ]
     },
     "metadata": {
      "needs_background": "light"
     },
     "output_type": "display_data"
    }
   ],
   "source": [
    "plt.plot(gl,egh)\n",
    "plt.plot(gl,eg)\n",
    "plt.plot(gl,eT)\n",
    "#plt.ylim(-5,21)"
   ]
  },
  {
   "cell_type": "code",
   "execution_count": 180,
   "id": "7af5cb14",
   "metadata": {},
   "outputs": [
    {
     "data": {
      "text/plain": [
       "[{'0000': 356,\n",
       "  '0001': 407,\n",
       "  '0010': 364,\n",
       "  '0011': 513,\n",
       "  '0100': 479,\n",
       "  '0101': 674,\n",
       "  '0110': 500,\n",
       "  '0111': 405,\n",
       "  '1000': 333,\n",
       "  '1001': 483,\n",
       "  '1010': 519,\n",
       "  '1011': 630,\n",
       "  '1100': 786,\n",
       "  '1101': 657,\n",
       "  '1110': 481,\n",
       "  '1111': 605},\n",
       " {'0000': 503,\n",
       "  '0001': 298,\n",
       "  '0010': 290,\n",
       "  '0011': 405,\n",
       "  '0100': 522,\n",
       "  '0101': 566,\n",
       "  '0110': 463,\n",
       "  '0111': 954,\n",
       "  '1000': 512,\n",
       "  '1001': 345,\n",
       "  '1010': 342,\n",
       "  '1011': 1093,\n",
       "  '1100': 671,\n",
       "  '1101': 613,\n",
       "  '1110': 317,\n",
       "  '1111': 298},\n",
       " {'0000': 355,\n",
       "  '0001': 340,\n",
       "  '0010': 747,\n",
       "  '0011': 308,\n",
       "  '0100': 265,\n",
       "  '0101': 653,\n",
       "  '0110': 402,\n",
       "  '0111': 478,\n",
       "  '1000': 414,\n",
       "  '1001': 291,\n",
       "  '1010': 1327,\n",
       "  '1011': 403,\n",
       "  '1100': 543,\n",
       "  '1101': 652,\n",
       "  '1110': 430,\n",
       "  '1111': 584},\n",
       " {'0000': 274,\n",
       "  '0001': 322,\n",
       "  '0010': 282,\n",
       "  '0011': 299,\n",
       "  '0100': 721,\n",
       "  '0101': 475,\n",
       "  '0110': 813,\n",
       "  '0111': 342,\n",
       "  '1000': 434,\n",
       "  '1001': 456,\n",
       "  '1010': 945,\n",
       "  '1011': 676,\n",
       "  '1100': 651,\n",
       "  '1101': 394,\n",
       "  '1110': 817,\n",
       "  '1111': 291},\n",
       " {'0000': 1060,\n",
       "  '0001': 295,\n",
       "  '0010': 333,\n",
       "  '0011': 292,\n",
       "  '0100': 521,\n",
       "  '0101': 838,\n",
       "  '0110': 495,\n",
       "  '0111': 563,\n",
       "  '1000': 1014,\n",
       "  '1001': 377,\n",
       "  '1010': 452,\n",
       "  '1011': 240,\n",
       "  '1100': 459,\n",
       "  '1101': 626,\n",
       "  '1110': 380,\n",
       "  '1111': 247},\n",
       " {'0000': 419,\n",
       "  '0001': 714,\n",
       "  '0010': 315,\n",
       "  '0011': 180,\n",
       "  '0100': 900,\n",
       "  '0101': 520,\n",
       "  '0110': 552,\n",
       "  '0111': 668,\n",
       "  '1000': 613,\n",
       "  '1001': 495,\n",
       "  '1010': 358,\n",
       "  '1011': 317,\n",
       "  '1100': 543,\n",
       "  '1101': 977,\n",
       "  '1110': 375,\n",
       "  '1111': 246},\n",
       " {'0000': 380,\n",
       "  '0001': 302,\n",
       "  '0010': 333,\n",
       "  '0011': 457,\n",
       "  '0100': 475,\n",
       "  '0101': 883,\n",
       "  '0110': 740,\n",
       "  '0111': 270,\n",
       "  '1000': 912,\n",
       "  '1001': 545,\n",
       "  '1010': 536,\n",
       "  '1011': 235,\n",
       "  '1100': 570,\n",
       "  '1101': 621,\n",
       "  '1110': 601,\n",
       "  '1111': 332},\n",
       " {'0000': 450,\n",
       "  '0001': 616,\n",
       "  '0010': 698,\n",
       "  '0011': 276,\n",
       "  '0100': 832,\n",
       "  '0101': 323,\n",
       "  '0110': 186,\n",
       "  '0111': 474,\n",
       "  '1000': 449,\n",
       "  '1001': 599,\n",
       "  '1010': 616,\n",
       "  '1011': 271,\n",
       "  '1100': 891,\n",
       "  '1101': 892,\n",
       "  '1110': 246,\n",
       "  '1111': 373},\n",
       " {'0000': 301,\n",
       "  '0001': 413,\n",
       "  '0010': 489,\n",
       "  '0011': 251,\n",
       "  '0100': 723,\n",
       "  '0101': 506,\n",
       "  '0110': 502,\n",
       "  '0111': 142,\n",
       "  '1000': 693,\n",
       "  '1001': 642,\n",
       "  '1010': 899,\n",
       "  '1011': 230,\n",
       "  '1100': 1106,\n",
       "  '1101': 608,\n",
       "  '1110': 295,\n",
       "  '1111': 392},\n",
       " {'0000': 527,\n",
       "  '0001': 459,\n",
       "  '0010': 671,\n",
       "  '0011': 286,\n",
       "  '0100': 741,\n",
       "  '0101': 590,\n",
       "  '0110': 415,\n",
       "  '0111': 248,\n",
       "  '1000': 645,\n",
       "  '1001': 586,\n",
       "  '1010': 431,\n",
       "  '1011': 192,\n",
       "  '1100': 1003,\n",
       "  '1101': 572,\n",
       "  '1110': 607,\n",
       "  '1111': 219},\n",
       " {'0000': 438,\n",
       "  '0001': 333,\n",
       "  '0010': 513,\n",
       "  '0011': 301,\n",
       "  '0100': 640,\n",
       "  '0101': 584,\n",
       "  '0110': 427,\n",
       "  '0111': 521,\n",
       "  '1000': 519,\n",
       "  '1001': 283,\n",
       "  '1010': 777,\n",
       "  '1011': 477,\n",
       "  '1100': 755,\n",
       "  '1101': 384,\n",
       "  '1110': 596,\n",
       "  '1111': 644},\n",
       " {'0000': 267,\n",
       "  '0001': 343,\n",
       "  '0010': 318,\n",
       "  '0011': 242,\n",
       "  '0100': 772,\n",
       "  '0101': 371,\n",
       "  '0110': 819,\n",
       "  '0111': 249,\n",
       "  '1000': 470,\n",
       "  '1001': 425,\n",
       "  '1010': 1100,\n",
       "  '1011': 548,\n",
       "  '1100': 801,\n",
       "  '1101': 440,\n",
       "  '1110': 689,\n",
       "  '1111': 338},\n",
       " {'0000': 726,\n",
       "  '0001': 224,\n",
       "  '0010': 448,\n",
       "  '0011': 223,\n",
       "  '0100': 409,\n",
       "  '0101': 1127,\n",
       "  '0110': 692,\n",
       "  '0111': 248,\n",
       "  '1000': 1058,\n",
       "  '1001': 398,\n",
       "  '1010': 833,\n",
       "  '1011': 223,\n",
       "  '1100': 420,\n",
       "  '1101': 357,\n",
       "  '1110': 550,\n",
       "  '1111': 256},\n",
       " {'0000': 395,\n",
       "  '0001': 358,\n",
       "  '0010': 286,\n",
       "  '0011': 514,\n",
       "  '0100': 738,\n",
       "  '0101': 726,\n",
       "  '0110': 614,\n",
       "  '0111': 262,\n",
       "  '1000': 829,\n",
       "  '1001': 616,\n",
       "  '1010': 470,\n",
       "  '1011': 214,\n",
       "  '1100': 911,\n",
       "  '1101': 477,\n",
       "  '1110': 445,\n",
       "  '1111': 337},\n",
       " {'0000': 512,\n",
       "  '0001': 391,\n",
       "  '0010': 333,\n",
       "  '0011': 317,\n",
       "  '0100': 636,\n",
       "  '0101': 686,\n",
       "  '0110': 523,\n",
       "  '0111': 313,\n",
       "  '1000': 677,\n",
       "  '1001': 900,\n",
       "  '1010': 600,\n",
       "  '1011': 370,\n",
       "  '1100': 947,\n",
       "  '1101': 379,\n",
       "  '1110': 414,\n",
       "  '1111': 194},\n",
       " {'0000': 271,\n",
       "  '0001': 517,\n",
       "  '0010': 438,\n",
       "  '0011': 247,\n",
       "  '0100': 592,\n",
       "  '0101': 539,\n",
       "  '0110': 514,\n",
       "  '0111': 467,\n",
       "  '1000': 496,\n",
       "  '1001': 976,\n",
       "  '1010': 871,\n",
       "  '1011': 405,\n",
       "  '1100': 936,\n",
       "  '1101': 381,\n",
       "  '1110': 367,\n",
       "  '1111': 175},\n",
       " {'0000': 257,\n",
       "  '0001': 520,\n",
       "  '0010': 428,\n",
       "  '0011': 239,\n",
       "  '0100': 604,\n",
       "  '0101': 545,\n",
       "  '0110': 461,\n",
       "  '0111': 473,\n",
       "  '1000': 498,\n",
       "  '1001': 912,\n",
       "  '1010': 935,\n",
       "  '1011': 422,\n",
       "  '1100': 961,\n",
       "  '1101': 381,\n",
       "  '1110': 364,\n",
       "  '1111': 192},\n",
       " {'0000': 526,\n",
       "  '0001': 442,\n",
       "  '0010': 515,\n",
       "  '0011': 147,\n",
       "  '0100': 777,\n",
       "  '0101': 425,\n",
       "  '0110': 387,\n",
       "  '0111': 310,\n",
       "  '1000': 767,\n",
       "  '1001': 394,\n",
       "  '1010': 423,\n",
       "  '1011': 289,\n",
       "  '1100': 1175,\n",
       "  '1101': 470,\n",
       "  '1110': 597,\n",
       "  '1111': 548},\n",
       " {'0000': 750,\n",
       "  '0001': 223,\n",
       "  '0010': 416,\n",
       "  '0011': 243,\n",
       "  '0100': 405,\n",
       "  '0101': 1100,\n",
       "  '0110': 697,\n",
       "  '0111': 242,\n",
       "  '1000': 1084,\n",
       "  '1001': 402,\n",
       "  '1010': 852,\n",
       "  '1011': 231,\n",
       "  '1100': 390,\n",
       "  '1101': 372,\n",
       "  '1110': 525,\n",
       "  '1111': 260},\n",
       " {'0000': 684,\n",
       "  '0001': 640,\n",
       "  '0010': 296,\n",
       "  '0011': 756,\n",
       "  '0100': 773,\n",
       "  '0101': 501,\n",
       "  '0110': 340,\n",
       "  '0111': 282,\n",
       "  '1000': 420,\n",
       "  '1001': 527,\n",
       "  '1010': 353,\n",
       "  '1011': 586,\n",
       "  '1100': 458,\n",
       "  '1101': 712,\n",
       "  '1110': 615,\n",
       "  '1111': 249},\n",
       " {'0000': 507,\n",
       "  '0001': 301,\n",
       "  '0010': 371,\n",
       "  '0011': 286,\n",
       "  '0100': 629,\n",
       "  '0101': 1008,\n",
       "  '0110': 487,\n",
       "  '0111': 376,\n",
       "  '1000': 994,\n",
       "  '1001': 305,\n",
       "  '1010': 427,\n",
       "  '1011': 460,\n",
       "  '1100': 707,\n",
       "  '1101': 585,\n",
       "  '1110': 430,\n",
       "  '1111': 319},\n",
       " {'0000': 461,\n",
       "  '0001': 557,\n",
       "  '0010': 639,\n",
       "  '0011': 327,\n",
       "  '0100': 690,\n",
       "  '0101': 363,\n",
       "  '0110': 210,\n",
       "  '0111': 565,\n",
       "  '1000': 466,\n",
       "  '1001': 735,\n",
       "  '1010': 562,\n",
       "  '1011': 462,\n",
       "  '1100': 978,\n",
       "  '1101': 526,\n",
       "  '1110': 343,\n",
       "  '1111': 308},\n",
       " {'0000': 460,\n",
       "  '0001': 495,\n",
       "  '0010': 411,\n",
       "  '0011': 234,\n",
       "  '0100': 797,\n",
       "  '0101': 487,\n",
       "  '0110': 309,\n",
       "  '0111': 466,\n",
       "  '1000': 641,\n",
       "  '1001': 699,\n",
       "  '1010': 419,\n",
       "  '1011': 236,\n",
       "  '1100': 1152,\n",
       "  '1101': 463,\n",
       "  '1110': 510,\n",
       "  '1111': 413},\n",
       " {'0000': 314,\n",
       "  '0001': 448,\n",
       "  '0010': 504,\n",
       "  '0011': 243,\n",
       "  '0100': 761,\n",
       "  '0101': 514,\n",
       "  '0110': 497,\n",
       "  '0111': 146,\n",
       "  '1000': 707,\n",
       "  '1001': 634,\n",
       "  '1010': 841,\n",
       "  '1011': 217,\n",
       "  '1100': 1059,\n",
       "  '1101': 653,\n",
       "  '1110': 273,\n",
       "  '1111': 381},\n",
       " {'0000': 558,\n",
       "  '0001': 264,\n",
       "  '0010': 584,\n",
       "  '0011': 350,\n",
       "  '0100': 492,\n",
       "  '0101': 1268,\n",
       "  '0110': 421,\n",
       "  '0111': 358,\n",
       "  '1000': 856,\n",
       "  '1001': 457,\n",
       "  '1010': 905,\n",
       "  '1011': 209,\n",
       "  '1100': 391,\n",
       "  '1101': 353,\n",
       "  '1110': 334,\n",
       "  '1111': 392},\n",
       " {'0000': 296,\n",
       "  '0001': 410,\n",
       "  '0010': 264,\n",
       "  '0011': 234,\n",
       "  '0100': 728,\n",
       "  '0101': 524,\n",
       "  '0110': 750,\n",
       "  '0111': 234,\n",
       "  '1000': 884,\n",
       "  '1001': 769,\n",
       "  '1010': 627,\n",
       "  '1011': 248,\n",
       "  '1100': 987,\n",
       "  '1101': 441,\n",
       "  '1110': 435,\n",
       "  '1111': 361},\n",
       " {'0000': 417,\n",
       "  '0001': 473,\n",
       "  '0010': 422,\n",
       "  '0011': 367,\n",
       "  '0100': 1007,\n",
       "  '0101': 656,\n",
       "  '0110': 423,\n",
       "  '0111': 411,\n",
       "  '1000': 572,\n",
       "  '1001': 607,\n",
       "  '1010': 399,\n",
       "  '1011': 266,\n",
       "  '1100': 1071,\n",
       "  '1101': 427,\n",
       "  '1110': 433,\n",
       "  '1111': 241},\n",
       " {'0000': 368,\n",
       "  '0001': 380,\n",
       "  '0010': 389,\n",
       "  '0011': 242,\n",
       "  '0100': 772,\n",
       "  '0101': 746,\n",
       "  '0110': 460,\n",
       "  '0111': 247,\n",
       "  '1000': 717,\n",
       "  '1001': 649,\n",
       "  '1010': 982,\n",
       "  '1011': 273,\n",
       "  '1100': 1016,\n",
       "  '1101': 412,\n",
       "  '1110': 268,\n",
       "  '1111': 271},\n",
       " {'0000': 386,\n",
       "  '0001': 370,\n",
       "  '0010': 503,\n",
       "  '0011': 332,\n",
       "  '0100': 884,\n",
       "  '0101': 831,\n",
       "  '0110': 493,\n",
       "  '0111': 301,\n",
       "  '1000': 631,\n",
       "  '1001': 805,\n",
       "  '1010': 559,\n",
       "  '1011': 187,\n",
       "  '1100': 919,\n",
       "  '1101': 366,\n",
       "  '1110': 449,\n",
       "  '1111': 176},\n",
       " {'0000': 360,\n",
       "  '0001': 399,\n",
       "  '0010': 500,\n",
       "  '0011': 293,\n",
       "  '0100': 800,\n",
       "  '0101': 904,\n",
       "  '0110': 446,\n",
       "  '0111': 297,\n",
       "  '1000': 693,\n",
       "  '1001': 837,\n",
       "  '1010': 598,\n",
       "  '1011': 189,\n",
       "  '1100': 885,\n",
       "  '1101': 357,\n",
       "  '1110': 458,\n",
       "  '1111': 176},\n",
       " {'0000': 323,\n",
       "  '0001': 276,\n",
       "  '0010': 326,\n",
       "  '0011': 518,\n",
       "  '0100': 522,\n",
       "  '0101': 449,\n",
       "  '0110': 689,\n",
       "  '0111': 420,\n",
       "  '1000': 475,\n",
       "  '1001': 517,\n",
       "  '1010': 418,\n",
       "  '1011': 1175,\n",
       "  '1100': 622,\n",
       "  '1101': 408,\n",
       "  '1110': 594,\n",
       "  '1111': 460},\n",
       " {'0000': 567,\n",
       "  '0001': 254,\n",
       "  '0010': 303,\n",
       "  '0011': 314,\n",
       "  '0100': 391,\n",
       "  '0101': 389,\n",
       "  '0110': 444,\n",
       "  '0111': 918,\n",
       "  '1000': 921,\n",
       "  '1001': 600,\n",
       "  '1010': 455,\n",
       "  '1011': 559,\n",
       "  '1100': 591,\n",
       "  '1101': 333,\n",
       "  '1110': 672,\n",
       "  '1111': 481},\n",
       " {'0000': 507,\n",
       "  '0001': 495,\n",
       "  '0010': 550,\n",
       "  '0011': 223,\n",
       "  '0100': 855,\n",
       "  '0101': 893,\n",
       "  '0110': 525,\n",
       "  '0111': 292,\n",
       "  '1000': 425,\n",
       "  '1001': 541,\n",
       "  '1010': 407,\n",
       "  '1011': 328,\n",
       "  '1100': 296,\n",
       "  '1101': 1178,\n",
       "  '1110': 423,\n",
       "  '1111': 254},\n",
       " {'0000': 610,\n",
       "  '0001': 631,\n",
       "  '0010': 609,\n",
       "  '0011': 286,\n",
       "  '0100': 748,\n",
       "  '0101': 288,\n",
       "  '0110': 210,\n",
       "  '0111': 487,\n",
       "  '1000': 649,\n",
       "  '1001': 511,\n",
       "  '1010': 468,\n",
       "  '1011': 352,\n",
       "  '1100': 801,\n",
       "  '1101': 817,\n",
       "  '1110': 340,\n",
       "  '1111': 385},\n",
       " {'0000': 317,\n",
       "  '0001': 405,\n",
       "  '0010': 539,\n",
       "  '0011': 277,\n",
       "  '0100': 750,\n",
       "  '0101': 501,\n",
       "  '0110': 493,\n",
       "  '0111': 163,\n",
       "  '1000': 680,\n",
       "  '1001': 628,\n",
       "  '1010': 788,\n",
       "  '1011': 238,\n",
       "  '1100': 1111,\n",
       "  '1101': 652,\n",
       "  '1110': 273,\n",
       "  '1111': 377},\n",
       " {'0000': 269,\n",
       "  '0001': 474,\n",
       "  '0010': 379,\n",
       "  '0011': 230,\n",
       "  '0100': 652,\n",
       "  '0101': 518,\n",
       "  '0110': 517,\n",
       "  '0111': 487,\n",
       "  '1000': 516,\n",
       "  '1001': 942,\n",
       "  '1010': 934,\n",
       "  '1011': 410,\n",
       "  '1100': 960,\n",
       "  '1101': 392,\n",
       "  '1110': 329,\n",
       "  '1111': 183},\n",
       " {'0000': 470,\n",
       "  '0001': 682,\n",
       "  '0010': 428,\n",
       "  '0011': 218,\n",
       "  '0100': 592,\n",
       "  '0101': 862,\n",
       "  '0110': 807,\n",
       "  '0111': 264,\n",
       "  '1000': 417,\n",
       "  '1001': 554,\n",
       "  '1010': 519,\n",
       "  '1011': 315,\n",
       "  '1100': 332,\n",
       "  '1101': 1028,\n",
       "  '1110': 456,\n",
       "  '1111': 248},\n",
       " {'0000': 383,\n",
       "  '0001': 753,\n",
       "  '0010': 774,\n",
       "  '0011': 491,\n",
       "  '0100': 698,\n",
       "  '0101': 478,\n",
       "  '0110': 387,\n",
       "  '0111': 171,\n",
       "  '1000': 393,\n",
       "  '1001': 463,\n",
       "  '1010': 579,\n",
       "  '1011': 318,\n",
       "  '1100': 697,\n",
       "  '1101': 812,\n",
       "  '1110': 388,\n",
       "  '1111': 407},\n",
       " {'0000': 299,\n",
       "  '0001': 431,\n",
       "  '0010': 534,\n",
       "  '0011': 252,\n",
       "  '0100': 740,\n",
       "  '0101': 521,\n",
       "  '0110': 538,\n",
       "  '0111': 159,\n",
       "  '1000': 745,\n",
       "  '1001': 623,\n",
       "  '1010': 864,\n",
       "  '1011': 205,\n",
       "  '1100': 1039,\n",
       "  '1101': 651,\n",
       "  '1110': 264,\n",
       "  '1111': 327},\n",
       " {'0000': 411,\n",
       "  '0001': 402,\n",
       "  '0010': 548,\n",
       "  '0011': 324,\n",
       "  '0100': 941,\n",
       "  '0101': 516,\n",
       "  '0110': 461,\n",
       "  '0111': 465,\n",
       "  '1000': 445,\n",
       "  '1001': 676,\n",
       "  '1010': 533,\n",
       "  '1011': 203,\n",
       "  '1100': 1189,\n",
       "  '1101': 368,\n",
       "  '1110': 375,\n",
       "  '1111': 335},\n",
       " {'0000': 315,\n",
       "  '0001': 313,\n",
       "  '0010': 278,\n",
       "  '0011': 517,\n",
       "  '0100': 590,\n",
       "  '0101': 404,\n",
       "  '0110': 715,\n",
       "  '0111': 389,\n",
       "  '1000': 581,\n",
       "  '1001': 506,\n",
       "  '1010': 568,\n",
       "  '1011': 1213,\n",
       "  '1100': 392,\n",
       "  '1101': 378,\n",
       "  '1110': 512,\n",
       "  '1111': 521},\n",
       " {'0000': 593,\n",
       "  '0001': 284,\n",
       "  '0010': 368,\n",
       "  '0011': 327,\n",
       "  '0100': 426,\n",
       "  '0101': 700,\n",
       "  '0110': 401,\n",
       "  '0111': 634,\n",
       "  '1000': 816,\n",
       "  '1001': 453,\n",
       "  '1010': 468,\n",
       "  '1011': 785,\n",
       "  '1100': 583,\n",
       "  '1101': 484,\n",
       "  '1110': 532,\n",
       "  '1111': 338},\n",
       " {'0000': 475,\n",
       "  '0001': 304,\n",
       "  '0010': 656,\n",
       "  '0011': 299,\n",
       "  '0100': 314,\n",
       "  '0101': 554,\n",
       "  '0110': 559,\n",
       "  '0111': 456,\n",
       "  '1000': 640,\n",
       "  '1001': 359,\n",
       "  '1010': 1172,\n",
       "  '1011': 253,\n",
       "  '1100': 480,\n",
       "  '1101': 388,\n",
       "  '1110': 692,\n",
       "  '1111': 591},\n",
       " {'0000': 397,\n",
       "  '0001': 426,\n",
       "  '0010': 349,\n",
       "  '0011': 439,\n",
       "  '0100': 565,\n",
       "  '0101': 460,\n",
       "  '0110': 710,\n",
       "  '0111': 361,\n",
       "  '1000': 489,\n",
       "  '1001': 628,\n",
       "  '1010': 597,\n",
       "  '1011': 294,\n",
       "  '1100': 902,\n",
       "  '1101': 411,\n",
       "  '1110': 725,\n",
       "  '1111': 439},\n",
       " {'0000': 364,\n",
       "  '0001': 326,\n",
       "  '0010': 719,\n",
       "  '0011': 269,\n",
       "  '0100': 241,\n",
       "  '0101': 667,\n",
       "  '0110': 443,\n",
       "  '0111': 498,\n",
       "  '1000': 407,\n",
       "  '1001': 280,\n",
       "  '1010': 1384,\n",
       "  '1011': 385,\n",
       "  '1100': 534,\n",
       "  '1101': 692,\n",
       "  '1110': 426,\n",
       "  '1111': 557},\n",
       " {'0000': 250,\n",
       "  '0001': 341,\n",
       "  '0010': 339,\n",
       "  '0011': 286,\n",
       "  '0100': 765,\n",
       "  '0101': 388,\n",
       "  '0110': 871,\n",
       "  '0111': 270,\n",
       "  '1000': 442,\n",
       "  '1001': 451,\n",
       "  '1010': 1028,\n",
       "  '1011': 555,\n",
       "  '1100': 788,\n",
       "  '1101': 400,\n",
       "  '1110': 683,\n",
       "  '1111': 335},\n",
       " {'0000': 360,\n",
       "  '0001': 355,\n",
       "  '0010': 335,\n",
       "  '0011': 484,\n",
       "  '0100': 514,\n",
       "  '0101': 762,\n",
       "  '0110': 473,\n",
       "  '0111': 426,\n",
       "  '1000': 360,\n",
       "  '1001': 538,\n",
       "  '1010': 525,\n",
       "  '1011': 569,\n",
       "  '1100': 746,\n",
       "  '1101': 702,\n",
       "  '1110': 459,\n",
       "  '1111': 584},\n",
       " {'0000': 664,\n",
       "  '0001': 307,\n",
       "  '0010': 339,\n",
       "  '0011': 532,\n",
       "  '0100': 509,\n",
       "  '0101': 302,\n",
       "  '0110': 429,\n",
       "  '0111': 353,\n",
       "  '1000': 600,\n",
       "  '1001': 358,\n",
       "  '1010': 510,\n",
       "  '1011': 827,\n",
       "  '1100': 699,\n",
       "  '1101': 422,\n",
       "  '1110': 514,\n",
       "  '1111': 827}]"
      ]
     },
     "execution_count": 180,
     "metadata": {},
     "output_type": "execute_result"
    }
   ],
   "source": [
    "loaded_results"
   ]
  },
  {
   "cell_type": "code",
   "execution_count": null,
   "id": "6ded992b",
   "metadata": {},
   "outputs": [],
   "source": []
  }
 ],
 "metadata": {
  "kernelspec": {
   "display_name": "Python (qiskit_nick)",
   "language": "python",
   "name": "qiskit_nick"
  },
  "language_info": {
   "codemirror_mode": {
    "name": "ipython",
    "version": 3
   },
   "file_extension": ".py",
   "mimetype": "text/x-python",
   "name": "python",
   "nbconvert_exporter": "python",
   "pygments_lexer": "ipython3",
   "version": "3.9.6"
  },
  "toc": {
   "base_numbering": 1,
   "nav_menu": {},
   "number_sections": true,
   "sideBar": true,
   "skip_h1_title": false,
   "title_cell": "Table of Contents",
   "title_sidebar": "Contents",
   "toc_cell": false,
   "toc_position": {
    "height": "calc(100% - 180px)",
    "left": "10px",
    "top": "150px",
    "width": "240px"
   },
   "toc_section_display": true,
   "toc_window_display": true
  }
 },
 "nbformat": 4,
 "nbformat_minor": 5
}
