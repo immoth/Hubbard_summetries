{
 "cells": [
  {
   "cell_type": "code",
   "execution_count": 1,
   "id": "4163c5b0",
   "metadata": {},
   "outputs": [],
   "source": [
    "from Object_Oriented.Define_Paulis import I,X,Y,Z,Mdot,bkt,c,cd,n"
   ]
  },
  {
   "cell_type": "markdown",
   "id": "82947a4c",
   "metadata": {},
   "source": [
    "The goal is to find an expresion for $G_2KG_2$ where $G_2$ contains nearest neighbor interactions.\n",
    "$$ G_2 = e^{-g\\sum_{j}n_jn_{j+1}} = \\prod_j e^{-g n_jn_{j+1}}$$\n",
    "with \n",
    "$$ n_i = n_{i\\uparrow} + n_{i\\downarrow} $$\n",
    "and $K$ is the kinetic energy term\n",
    "$$ K = k\\sum_i c^{\\dagger}_ic_{i+1} + c^{\\dagger}_{i+1}c_i $$"
   ]
  },
  {
   "cell_type": "markdown",
   "id": "06e68e51",
   "metadata": {},
   "source": [
    "The expansion of $G_2$ is more difficult than the normal Gutzwiller term because $n_j^2 \\neq n_j$, in fact,\n",
    "$$ n_j^{m} = n_j + \\lambda_m n_{j\\uparrow}n_{j\\downarrow} $$\n",
    "where \n",
    "$\\lambda_m = \\sum_{l=1}^{m-1}2^l$.  "
   ]
  },
  {
   "cell_type": "markdown",
   "id": "574c7236",
   "metadata": {},
   "source": [
    "We will need to be able to commute the following terms: $n_i^m c^{\\dagger}_{i\\sigma}$, $n_i^m c_{i\\sigma}$, $c^{\\dagger}_{i\\sigma} n_i^m $, $c_{i\\sigma} n_i^m $, "
   ]
  },
  {
   "cell_type": "markdown",
   "id": "64c85814",
   "metadata": {},
   "source": [
    "\\begin{equation}\n",
    "\\begin{split}\n",
    "n^{m}_i c^{\\dagger}_{i\\uparrow} &= n^{m-1}(n_{i\\uparrow} + n_{i\\downarrow})c^{\\dagger}_{i\\uparrow} \n",
    "\\\\\n",
    "& = n^{m-1}c^{\\dagger}_{i\\uparrow} (1 + n_{i\\downarrow})\n",
    "\\\\\n",
    "& = c^{\\dagger}_{i\\uparrow} (1 + n_{i\\downarrow})^m\n",
    "\\end{split}\n",
    "\\end{equation}"
   ]
  },
  {
   "cell_type": "code",
   "execution_count": 2,
   "id": "31555823",
   "metadata": {},
   "outputs": [
    {
     "data": {
      "text/plain": [
       "0.0"
      ]
     },
     "execution_count": 2,
     "metadata": {},
     "output_type": "execute_result"
    }
   ],
   "source": [
    "import numpy as np \n",
    "\n",
    "n0 = n(0,2) + n(1,2)\n",
    "cd0 = cd(0,2)\n",
    "\n",
    "np.amax(np.abs( Mdot([n0,n0,n0,n0,cd0]) - Mdot([cd0,I(2)+n(1,2),I(2)+n(1,2),I(2)+n(1,2),I(2)+n(1,2)]) ))"
   ]
  },
  {
   "cell_type": "markdown",
   "id": "aa102eed",
   "metadata": {},
   "source": [
    "\\begin{equation}\n",
    "\\begin{split}\n",
    "n^{m}_i c_{i\\uparrow} &= n^{m-1}(n_{i\\uparrow} + n_{i\\downarrow})c_{i\\uparrow} \n",
    "\\\\\n",
    "& = n^{m-1}c_{i\\uparrow} ( n_{i\\downarrow})\n",
    "\\\\\n",
    "& =  c_{i\\uparrow} n_{i\\downarrow}^m\n",
    "\\end{split}\n",
    "\\end{equation}"
   ]
  },
  {
   "cell_type": "code",
   "execution_count": 3,
   "id": "a9f0be5d",
   "metadata": {},
   "outputs": [
    {
     "data": {
      "text/plain": [
       "0.0"
      ]
     },
     "execution_count": 3,
     "metadata": {},
     "output_type": "execute_result"
    }
   ],
   "source": [
    "c0 = c(0,2)\n",
    "\n",
    "np.amax(np.abs( Mdot([n0,n0,n0,n0,c0]) - Mdot([c0,n(1,2),n(1,2),n(1,2),n(1,2)]) ))"
   ]
  },
  {
   "cell_type": "markdown",
   "id": "b66feb11",
   "metadata": {},
   "source": [
    "\\begin{equation}\n",
    "\\begin{split}\n",
    "c^{\\dagger}_{i\\uparrow} n^{m}_i  &= c^{\\dagger}_{i\\uparrow} (n_{i\\uparrow} + n_{i\\downarrow}) n^{m-1}\n",
    "\\\\\n",
    "& = (n_{i\\downarrow})c^{\\dagger}_{i\\uparrow} n^{m-1}\n",
    "\\\\\n",
    "& = c^{\\dagger}_{i\\uparrow} n_{i\\downarrow}^m\n",
    "\\end{split}\n",
    "\\end{equation}"
   ]
  },
  {
   "cell_type": "code",
   "execution_count": 4,
   "id": "63a996b8",
   "metadata": {},
   "outputs": [
    {
     "data": {
      "text/plain": [
       "0.0"
      ]
     },
     "execution_count": 4,
     "metadata": {},
     "output_type": "execute_result"
    }
   ],
   "source": [
    "np.amax(np.abs( Mdot([cd0,n0,n0,n0,n0]) - Mdot([cd0,n(1,2),n(1,2),n(1,2),n(1,2)]) ))"
   ]
  },
  {
   "cell_type": "markdown",
   "id": "8c44ce8b",
   "metadata": {},
   "source": [
    "\\begin{equation}\n",
    "\\begin{split}\n",
    "c_{i\\uparrow} n^{m}_i  &= c_{i\\uparrow} (n_{i\\uparrow} + n_{i\\downarrow}) n^{m-1}\n",
    "\\\\\n",
    "& = (1 + n_{i\\downarrow})c_{i\\uparrow} n^{m-1}\n",
    "\\\\\n",
    "& = c_{i\\uparrow} (1+n_{i\\downarrow})^m\n",
    "\\end{split}\n",
    "\\end{equation}"
   ]
  },
  {
   "cell_type": "code",
   "execution_count": 5,
   "id": "4be0772e",
   "metadata": {},
   "outputs": [
    {
     "data": {
      "text/plain": [
       "0.0"
      ]
     },
     "execution_count": 5,
     "metadata": {},
     "output_type": "execute_result"
    }
   ],
   "source": [
    "np.amax(np.abs( Mdot([c0,n0,n0,n0,n0]) - Mdot([c0,I(2)+n(1,2),I(2)+n(1,2),I(2)+n(1,2),I(2)+n(1,2)]) ))"
   ]
  },
  {
   "cell_type": "markdown",
   "id": "40bdf7a3",
   "metadata": {},
   "source": [
    "To summerize, we have\n",
    "$$ n^{m}_i c^{\\dagger}_{i\\uparrow} = c^{\\dagger}_{i\\uparrow} (1 + n_{i\\downarrow})^m \\quad \\quad c_{i\\uparrow} n^{m}_i   = c_{i\\uparrow} (1+n_{i\\downarrow})^m $$\n",
    "$$ c^{\\dagger}_{i\\uparrow} n^{m}_i  = c^{\\dagger}_{i\\uparrow} n_{i\\downarrow}^m \\quad \\quad n^{m}_i c_{i\\uparrow} =  c_{i\\uparrow} n_{i\\downarrow}^m $$ "
   ]
  },
  {
   "cell_type": "markdown",
   "id": "3d6f8b73",
   "metadata": {},
   "source": [
    "Let us start by evaluating \n",
    "\\begin{equation}\n",
    "\\begin{split}\n",
    "G_2 c^{\\dagger}_{i\\uparrow} c_{i+1\\uparrow} G_2 &= \\left(\\prod_{j\\neq i-1,i,i+1} e^{-2g n_j n_{j+1}}\\right) e^{-g n_{i-1}n_i}e^{-g n_{i}n_{i+1}}e^{-g n_{i+1}n_{i+2}} c^{\\dagger}_{i\\uparrow} c_{i+1\\uparrow}  e^{-g n_{i-1}n_i}e^{-g n_{i}n_{i+1}}e^{-g n_{i+1}n_{i+2}}\n",
    "\\\\\n",
    "&= \\left(\\prod_{j\\neq i-1,i,i+1} e^{-2g n_j n_{j+1}}\\right) e^{-g n_{i-1}(1+n_{i\\downarrow})}e^{-g (1+n_{i\\downarrow})n_{i+1\\downarrow}}e^{-g n_{i+1\\downarrow}n_{i+2}} c^{\\dagger}_{i\\uparrow} c_{i+1\\uparrow}  e^{-g n_{i-1}n_{i\\downarrow}}e^{-g n_{i\\downarrow}(1+n_{i+1\\downarrow})}e^{-g (1+n_{i+1\\downarrow})n_{i+2}}\n",
    "\\\\\n",
    "&= \\left(\\prod_{j\\neq i-1,i,i+1} e^{-2g n_j n_{j+1}}\\right) e^{-g n_{i-1}(1+2n_{i\\downarrow})}e^{-g (n_{i+1\\downarrow}+n_{i\\downarrow})^2}e^{-g (1+2n_{i+1\\downarrow})n_{i+2}} c^{\\dagger}_{i\\uparrow} c_{i+1\\uparrow} \n",
    "\\end{split}\n",
    "\\end{equation}"
   ]
  },
  {
   "cell_type": "code",
   "execution_count": 6,
   "id": "a3b18f69",
   "metadata": {},
   "outputs": [
    {
     "data": {
      "text/plain": [
       "0.0"
      ]
     },
     "execution_count": 6,
     "metadata": {},
     "output_type": "execute_result"
    }
   ],
   "source": [
    "import scipy.linalg as ln\n",
    "\n",
    "e1 = ln.expm(Mdot([n(0,4)+n(2,4),n(1,4)+n(3,4)]))\n",
    "e1b = ln.expm(Mdot([I(4)+2*n(2,4),n(1,4)+n(3,4)]))\n",
    "\n",
    "np.amax(np.abs( Mdot([e1,cd(0,4),e1]) - Mdot([cd(0,4),e1b]) ))"
   ]
  },
  {
   "cell_type": "code",
   "execution_count": 7,
   "id": "c334b0a6",
   "metadata": {},
   "outputs": [
    {
     "name": "stdout",
     "output_type": "stream",
     "text": [
      "spin up  6.938893903907228e-18\n",
      "spin down  6.938893903907228e-18\n"
     ]
    }
   ],
   "source": [
    "\n",
    "\n",
    "def G2(g,N):\n",
    "    D = 0*I(2*N)\n",
    "    for i in range(0,N-1):\n",
    "        ni = n(i,2*N) + n(N+i,2*N)\n",
    "        nj = n(i+1,2*N) + n(N+i+1,2*N)\n",
    "        D = D + Mdot([ni,nj])\n",
    "    return ln.expm(-g*D)\n",
    "\n",
    "\n",
    "def G2b(g,s,k,N):\n",
    "    D = 0*I(2*N)\n",
    "    for i in range(0,N-1):\n",
    "        if s == 0:\n",
    "            if i == k-1:\n",
    "                ni = n(i,2*N) + n(N+i,2*N)\n",
    "                nj = I(2*N) + 2*n(N+i+1,2*N)\n",
    "                D = D + Mdot([ni,nj])\n",
    "            elif i == k:\n",
    "                nij = n(N+i,2*N) + n(N+i+1,2*N)\n",
    "                D = D + Mdot([nij,nij])\n",
    "            elif i == k+1:\n",
    "                ni = I(2*N) + 2*n(N+i,2*N)\n",
    "                nj = n(i+1,2*N) + n(N+i+1,2*N)\n",
    "                D = D + Mdot([ni,nj])\n",
    "            else:\n",
    "                ni = n(i,2*N) + n(N+i,2*N)\n",
    "                nj = n(i+1,2*N) + n(N+i+1,2*N)\n",
    "                D = D + 2*Mdot([ni,nj])\n",
    "        if s == 1:\n",
    "            if i == k-1:\n",
    "                ni = n(i,2*N) + n(N+i,2*N)\n",
    "                nj = 2*n(i+1,2*N) + I(2*N)\n",
    "                D = D + Mdot([ni,nj])\n",
    "            elif i == k:\n",
    "                nij = n(i,2*N) + n(i+1,2*N)\n",
    "                D = D + Mdot([nij,nij])\n",
    "            elif i == k+1:\n",
    "                ni = 2*n(i,2*N) + I(2*N)\n",
    "                nj = n(i+1,2*N) + n(N+i+1,2*N)\n",
    "                D = D + Mdot([ni,nj])\n",
    "            else:\n",
    "                ni = n(i,2*N) + n(N+i,2*N)\n",
    "                nj = n(i+1,2*N) + n(N+i+1,2*N)\n",
    "                D = D + 2*Mdot([ni,nj])\n",
    "    return ln.expm(-g*D)\n",
    "\n",
    "N=4 #tested up to N=6\n",
    "k=2\n",
    "G = G2(1,N)\n",
    "Gb = G2b(1,0,k,N)\n",
    "print('spin up ', np.amax(np.abs( Mdot([G,cd(k,2*N),c(k+1,2*N),G]) - Mdot([cd(k,2*N),c(k+1,2*N),Gb]) )) )\n",
    "Gb = G2b(1,1,k,N)\n",
    "print('spin down ', np.amax(np.abs( Mdot([G,cd(k+N,2*N),c(k+1+N,2*N),G]) - Mdot([cd(k+N,2*N),c(k+1+N,2*N),Gb]) )) )"
   ]
  },
  {
   "cell_type": "markdown",
   "id": "9125515f",
   "metadata": {},
   "source": [
    "Now we can evaluate the full thing,\n",
    "\\begin{equation}\n",
    "\\begin{split}\n",
    "G_2 K G_2 &= \\sum_i G_2\\left( c^{\\dagger}_ic_{i+1} + c^{\\dagger}_{i+1}c_{i} \\right) G_2\n",
    "\\\\\n",
    "&=\\sum_i \\left(\\prod_{j\\neq i-1,i,i+1} e^{-2g n_j n_{j+1}}\\right) e^{-g n_{i-1}(1+2n_{i\\downarrow})}e^{-g (n_{i+1\\downarrow}+n_{i\\downarrow})^2}e^{-g (1+2n_{i+1\\downarrow})n_{i+2}} \\left( c^{\\dagger}_ic_{i+1} + c^{\\dagger}_{i+1}c_{i} \\right)\n",
    "\\end{split}\n",
    "\\end{equation}"
   ]
  },
  {
   "cell_type": "code",
   "execution_count": 8,
   "id": "2a6eb3dc",
   "metadata": {},
   "outputs": [
    {
     "data": {
      "text/plain": [
       "1.1102230246251565e-16"
      ]
     },
     "execution_count": 8,
     "metadata": {},
     "output_type": "execute_result"
    }
   ],
   "source": [
    "def GKG(g,k,N):\n",
    "    out = 0*I(2*N)\n",
    "    for i in range(N-1):\n",
    "        #spin up\n",
    "        Ki = k*Mdot([cd(i,2*N),c(i+1,2*N)]) + Mdot([cd(i+1,2*N),c(i,2*N)])\n",
    "        out = out + Mdot([G2b(g,0,i,N),Ki])\n",
    "        #spin down\n",
    "        Ki = k*Mdot([cd(i+N,2*N),c(i+1+N,2*N)]) + Mdot([cd(i+1+N,2*N),c(i+N,2*N)])\n",
    "        out = out + Mdot([G2b(g,1,i,N),Ki])\n",
    "    return out\n",
    "\n",
    "def K(k,N):\n",
    "    out = 0*I(2*N)\n",
    "    for i in range(N-1):\n",
    "        Kiu = k*Mdot([cd(i,2*N),c(i+1,2*N)]) + Mdot([cd(i+1,2*N),c(i,2*N)])\n",
    "        Kid = k*Mdot([cd(i+N,2*N),c(i+1+N,2*N)]) + Mdot([cd(i+1+N,2*N),c(i+N,2*N)])\n",
    "        out = out + Kiu + Kid\n",
    "    return out\n",
    "\n",
    "g=0.3\n",
    "k=1.7\n",
    "N=4\n",
    "np.amax(np.abs( Mdot([G2(g,N),K(k,N),G2(g,N)]) - GKG(g,k,N) ))"
   ]
  },
  {
   "cell_type": "markdown",
   "id": "76082da1",
   "metadata": {},
   "source": [
    "So far we have done nearest neighbors on a line.  We would like to write eveything as a function of the set of nearest neighbors."
   ]
  },
  {
   "cell_type": "code",
   "execution_count": 9,
   "id": "db0b3fb0",
   "metadata": {},
   "outputs": [
    {
     "data": {
      "text/plain": [
       "5.421010862427522e-20"
      ]
     },
     "execution_count": 9,
     "metadata": {},
     "output_type": "execute_result"
    }
   ],
   "source": [
    "nbrs = [[0,1],[1,2],[2,3],[0,3],\n",
    "        [1,0],[2,1],[3,2],[3,0]]\n",
    "\n",
    "def G2(g,nbrs,N):\n",
    "    D = 0*I(2*N)\n",
    "    for pair in nbrs:\n",
    "        i = pair[0]\n",
    "        j = pair[1]\n",
    "        ni = n(i,2*N) + n(N+i,2*N)\n",
    "        nj = n(j,2*N) + n(N+j,2*N)\n",
    "        D = D + Mdot([ni,nj])\n",
    "    return ln.expm(-g*D)\n",
    "\n",
    "def G2b(g,s,nbr,nbrs,N):\n",
    "    ii = nbr[0]\n",
    "    jj = nbr[1]\n",
    "    D = 0*I(2*N)\n",
    "    ns = 1-s\n",
    "    for pair in nbrs:\n",
    "        i = pair[0]\n",
    "        j = pair[1]\n",
    "        if i == ii and j == jj:\n",
    "            nij = n(ns*N+i,2*N) + n(ns*N+j,2*N)\n",
    "            D = D + Mdot([nij,nij])\n",
    "        elif i == jj and j == ii:\n",
    "            nij = n(ns*N+j,2*N) + n(ns*N+i,2*N)\n",
    "            D = D + Mdot([nij,nij])    \n",
    "        elif i == ii or i == jj:\n",
    "            ni = I(2*N) + 2*n(ns*N+i,2*N)\n",
    "            nj = n(j,2*N) + n(N+j,2*N)\n",
    "            D = D + Mdot([ni,nj])\n",
    "        elif j == ii or j == jj:\n",
    "            ni = n(i,2*N) + n(N+i,2*N)\n",
    "            nj = I(2*N) + 2*n(ns*N+j,2*N)\n",
    "            D = D + Mdot([ni,nj])    \n",
    "        else:\n",
    "            ni = n(i,2*N) + n(N+i,2*N)\n",
    "            nj = n(j,2*N) + n(N+j,2*N)\n",
    "            D = D + 2*Mdot([ni,nj])\n",
    "    return ln.expm(-g*D)\n",
    "\n",
    "g = 1\n",
    "s = 0\n",
    "N=4 \n",
    "ii=1\n",
    "jj=2\n",
    "G = G2(g,nbrs,N)\n",
    "Gb = G2b(g,s,[ii,jj],nbrs,N)\n",
    "np.amax(np.abs( Mdot([G,cd(ii+s*N,2*N),c(jj+s*N,2*N),G]) - Mdot([cd(ii+s*N,2*N),c(jj+s*N,2*N),Gb]) ))  "
   ]
  },
  {
   "cell_type": "code",
   "execution_count": 10,
   "id": "f4c120af",
   "metadata": {},
   "outputs": [
    {
     "data": {
      "text/plain": [
       "5.551115123125783e-17"
      ]
     },
     "execution_count": 10,
     "metadata": {},
     "output_type": "execute_result"
    }
   ],
   "source": [
    "def GKG(g,k,nbrs,N):\n",
    "    out = 0*I(2*N)\n",
    "    for pair in nbrs:\n",
    "        i = pair[0]\n",
    "        j = pair[1]\n",
    "        Kiu = k*Mdot([cd(i,2*N),c(j,2*N)])\n",
    "        Kid = k*Mdot([cd(i+N,2*N),c(j+N,2*N)])\n",
    "        out = out + Mdot([G2b(g,0,pair,nbrs,N),Kiu])        \n",
    "        out = out + Mdot([G2b(g,1,pair,nbrs,N),Kid])\n",
    "    return out\n",
    "\n",
    "def K(k,nbrs,N):\n",
    "    Kout = 0*I(2*N)\n",
    "    for pair in nbrs:\n",
    "        i = pair[0]\n",
    "        j = pair[1]\n",
    "        Kout = Kout + k*Mdot([cd(i,2*N),c(j,2*N)])\n",
    "        Kout = Kout + k*Mdot([cd(i+N,2*N),c(j+N,2*N)])\n",
    "    return Kout\n",
    "\n",
    "\n",
    "g=0.3\n",
    "k=1.7\n",
    "N=4\n",
    "np.amax(np.abs( Mdot([G2(g,nbrs,N),K(k,nbrs,N),G2(g,nbrs,N)]) - GKG(g,k,nbrs,N) ))"
   ]
  },
  {
   "cell_type": "markdown",
   "id": "71115ecd",
   "metadata": {},
   "source": [
    "G double counts because [0,1] and [1,0] are the same in G.  One can simple take G(g/2) but maybe I should be more explicit about this somehow."
   ]
  },
  {
   "cell_type": "markdown",
   "id": "dedfd00e",
   "metadata": {},
   "source": [
    "## Combining N.N. and Onsite.\n",
    "\n",
    "We have \n",
    "$$ G(g) = \\prod_j e^{-g n_{j\\uparrow}n_{j\\downarrow}} $$\n",
    "and\n",
    "$$ G_2(g) = \\prod_{j} e^{-g n_{j}n_{j+1}} $$\n",
    "where $n_j = n_{j\\uparrow} + n_{j\\downarrow}$.  What we really want is a combination of the two\n",
    "$$ G_{12}(g_1,g_2) = G(g_1)G_2(g_2) = \\prod_j e^{g_1 n_{j\\uparrow}n_{j\\downarrow} + g_2 n_{j}n_{j+1}} $$\n",
    "\n",
    "Since $G$ and $G_2$ commute, there is really no issue.  We just combine the two results above,\n",
    "$$ G_{12} K G_{12} = G_2 G K G G_2 \\rightarrow \\sum_{i\\sigma} \\left(\\prod_{j\\neq N,0,1} e^{-2g_1n_{j\\uparrow}n_{j\\downarrow}-2g_1 n_j n_{j+1}}\\right) e^{-g_2 n_{N}(1+2n_{0\\sigma+1})}e^{-g_2 (n_{1\\sigma+1}+n_{0\\sigma+1})^2}e^{-g_2 (1+2n_{1\\sigma+1})n_{2}} e^{-g_1 n_{0\\sigma+1}}e^{-g_1 n_{1\\sigma+1}}\\left( Z_0 - Z_1 \\right)  $$"
   ]
  },
  {
   "cell_type": "code",
   "execution_count": 21,
   "id": "4d5cff94",
   "metadata": {},
   "outputs": [
    {
     "data": {
      "text/plain": [
       "4.336808689942018e-19"
      ]
     },
     "execution_count": 21,
     "metadata": {},
     "output_type": "execute_result"
    }
   ],
   "source": [
    "def G1(g1,N):\n",
    "    D1 = 0*I(2*N)\n",
    "    for i in range(N):\n",
    "        nu = n(i,2*N)\n",
    "        nd = n(i+N,2*N)\n",
    "        D1 = D1 + Mdot([nu,nd])\n",
    "    return ln.expm(-g1*D1)\n",
    "\n",
    "def G12(g1,g2,nbrs,N):\n",
    "    D1 = 0*I(2*N)\n",
    "    D2 = 0*I(2*N)\n",
    "    for i in range(N):\n",
    "        nu = n(i,2*N)\n",
    "        nd = n(i+N,2*N)\n",
    "        D1 = D1 + Mdot([nu,nd])\n",
    "    for pair in nbrs:\n",
    "        i = pair[0]\n",
    "        j = pair[1]\n",
    "        ni = n(i,2*N) + n(N+i,2*N)\n",
    "        nj = n(j,2*N) + n(N+j,2*N)\n",
    "        D2 = D2 + Mdot([ni,nj])\n",
    "    return ln.expm(-g1*D1 - g2*D2)\n",
    "        \n",
    "    \n",
    "np.amax(np.abs( G12(0.5,1.3,nbrs,4) - Mdot([G1(0.5,4),G2(1.3,nbrs,4)]) ))"
   ]
  },
  {
   "cell_type": "code",
   "execution_count": 40,
   "id": "8049e657",
   "metadata": {},
   "outputs": [],
   "source": [
    "def G1b(g1,s,nbr,N):\n",
    "    ii = nbr[0]\n",
    "    jj = nbr[1]\n",
    "    D1 = 0*I(2*N)\n",
    "    D2 = 0*I(2*N)\n",
    "    ns = 1-s\n",
    "    for i in range(N):\n",
    "        if i == ii or i == jj:\n",
    "            D1 = D1 + n(ns*N+i,2*N)\n",
    "        else:\n",
    "            D1 = D1 + 2*Mdot([n(i,2*N),n(i+N,2*N)])\n",
    "    return ln.expm(-g1*D1)\n",
    "\n",
    "def G12b(g1,g2,s,nbr,nbrs,N):\n",
    "    ii = nbr[0]\n",
    "    jj = nbr[1]\n",
    "    D1 = 0*I(2*N)\n",
    "    D2 = 0*I(2*N)\n",
    "    ns = 1-s\n",
    "    for i in range(N):\n",
    "        if i == ii or i ==jj:\n",
    "            D1 = D1 + n(ns*N+i,2*N)\n",
    "        else:\n",
    "            D1 = D1 + 2*Mdot([n(i,2*N),n(i+N,2*N)])\n",
    "    for pair in nbrs:\n",
    "        i = pair[0]\n",
    "        j = pair[1]\n",
    "        if i == ii and j == jj:\n",
    "            nij = n(ns*N+i,2*N) + n(ns*N+j,2*N)\n",
    "            D2 = D2 + Mdot([nij,nij])\n",
    "        elif i == jj and j == ii:\n",
    "            nij = n(ns*N+j,2*N) + n(ns*N+i,2*N)\n",
    "            D2 = D2 + Mdot([nij,nij])    \n",
    "        elif i == ii or i == jj:\n",
    "            ni = I(2*N) + 2*n(ns*N+i,2*N)\n",
    "            nj = n(j,2*N) + n(N+j,2*N)\n",
    "            D2 = D2 + Mdot([ni,nj])\n",
    "        elif j == ii or j == jj:\n",
    "            ni = n(i,2*N) + n(N+i,2*N)\n",
    "            nj = I(2*N) + 2*n(ns*N+j,2*N)\n",
    "            D2 = D2 + Mdot([ni,nj])    \n",
    "        else:\n",
    "            ni = n(i,2*N) + n(N+i,2*N)\n",
    "            nj = n(j,2*N) + n(N+j,2*N)\n",
    "            D2 = D2 + 2*Mdot([ni,nj])\n",
    "    return ln.expm(-g1*D1-g2*D2)"
   ]
  },
  {
   "cell_type": "code",
   "execution_count": 43,
   "id": "137d579a",
   "metadata": {},
   "outputs": [
    {
     "data": {
      "text/plain": [
       "3.469446951953614e-18"
      ]
     },
     "execution_count": 43,
     "metadata": {},
     "output_type": "execute_result"
    }
   ],
   "source": [
    "g1 = 1\n",
    "g2 = 1.4\n",
    "s = 0\n",
    "N=4 \n",
    "ii=1\n",
    "jj=2\n",
    "G = G12(g1,g2,nbrs,N)\n",
    "Gb = G12b(g1,g2,s,[ii,jj],nbrs,N)\n",
    "np.amax(np.abs( Mdot([G,cd(ii+s*N,2*N),c(jj+s*N,2*N),G]) - Mdot([cd(ii+s*N,2*N),c(jj+s*N,2*N),Gb]) ))  "
   ]
  },
  {
   "cell_type": "code",
   "execution_count": 44,
   "id": "8bf5ae47",
   "metadata": {},
   "outputs": [
    {
     "data": {
      "text/plain": [
       "1.0842021724855044e-19"
      ]
     },
     "execution_count": 44,
     "metadata": {},
     "output_type": "execute_result"
    }
   ],
   "source": [
    "g1 = 1\n",
    "g2 = 1.4\n",
    "s = 0\n",
    "N=4 \n",
    "ii=1\n",
    "jj=2\n",
    "G = G12(g1,g2,nbrs,N)\n",
    "G1bb = G1b(g1,s,[ii,jj],N)\n",
    "G2bb = G2b(g2,s,[ii,jj],nbrs,N)\n",
    "np.amax(np.abs( Mdot([G,cd(ii+s*N,2*N),c(jj+s*N,2*N),G]) - Mdot([cd(ii+s*N,2*N),c(jj+s*N,2*N),G1bb,G2bb]) ))  "
   ]
  },
  {
   "cell_type": "code",
   "execution_count": 45,
   "id": "365cf897",
   "metadata": {},
   "outputs": [],
   "source": [
    "def GKG1(g,k,nbrs,N):\n",
    "    out = 0*I(2*N)\n",
    "    for pair in nbrs:\n",
    "        i = pair[0]\n",
    "        j = pair[1]\n",
    "        Kiu = k*Mdot([cd(i,2*N),c(j,2*N)])\n",
    "        Kid = k*Mdot([cd(i+N,2*N),c(j+N,2*N)])\n",
    "        out = out + Mdot([G1b(g,0,pair,N),Kiu])        \n",
    "        out = out + Mdot([G1b(g,1,pair,N),Kid])\n",
    "    return out\n",
    "\n",
    "def GKG2(g,k,nbrs,N):\n",
    "    out = 0*I(2*N)\n",
    "    for pair in nbrs:\n",
    "        i = pair[0]\n",
    "        j = pair[1]\n",
    "        Kiu = k*Mdot([cd(i,2*N),c(j,2*N)])\n",
    "        Kid = k*Mdot([cd(i+N,2*N),c(j+N,2*N)])\n",
    "        out = out + Mdot([G2b(g,0,pair,nbrs,N),Kiu])        \n",
    "        out = out + Mdot([G2b(g,1,pair,nbrs,N),Kid])\n",
    "    return out\n",
    "\n",
    "def GKG12(g1,g2,k,nbrs,N):\n",
    "    out = 0*I(2*N)\n",
    "    for pair in nbrs:\n",
    "        i = pair[0]\n",
    "        j = pair[1]\n",
    "        Kiu = k*Mdot([cd(i,2*N),c(j,2*N)])\n",
    "        Kid = k*Mdot([cd(i+N,2*N),c(j+N,2*N)])\n",
    "        out = out + Mdot([G2b(g2,0,pair,nbrs,N),G1b(g1,0,pair,N),Kiu])        \n",
    "        out = out + Mdot([G2b(g2,1,pair,nbrs,N),G1b(g1,1,pair,N),Kid])\n",
    "    return out\n",
    "\n"
   ]
  },
  {
   "cell_type": "code",
   "execution_count": 49,
   "id": "8db686b6",
   "metadata": {},
   "outputs": [
    {
     "data": {
      "text/plain": [
       "2.7755575615628914e-17"
      ]
     },
     "execution_count": 49,
     "metadata": {},
     "output_type": "execute_result"
    }
   ],
   "source": [
    "g1=0.3\n",
    "g2=0.5\n",
    "k=1.7\n",
    "N=4\n",
    "np.amax(np.abs( Mdot([G12(g1,g2,nbrs,N),K(k,nbrs,N),G12(g1,g2,nbrs,N)]) - GKG12(g1,g2,k,nbrs,N) ))"
   ]
  },
  {
   "cell_type": "code",
   "execution_count": null,
   "id": "0cbcc721",
   "metadata": {},
   "outputs": [],
   "source": []
  }
 ],
 "metadata": {
  "kernelspec": {
   "display_name": "qiskit_3.5",
   "language": "python",
   "name": "qiskit_3.5"
  },
  "language_info": {
   "codemirror_mode": {
    "name": "ipython",
    "version": 3
   },
   "file_extension": ".py",
   "mimetype": "text/x-python",
   "name": "python",
   "nbconvert_exporter": "python",
   "pygments_lexer": "ipython3",
   "version": "3.10.4"
  },
  "toc": {
   "base_numbering": 1,
   "nav_menu": {},
   "number_sections": true,
   "sideBar": true,
   "skip_h1_title": false,
   "title_cell": "Table of Contents",
   "title_sidebar": "Contents",
   "toc_cell": false,
   "toc_position": {},
   "toc_section_display": true,
   "toc_window_display": false
  }
 },
 "nbformat": 4,
 "nbformat_minor": 5
}
