{
 "cells": [
  {
   "cell_type": "markdown",
   "id": "ad915e9b",
   "metadata": {},
   "source": [
    "# Generating Circuits To Measure Paulis\n",
    "\n",
    "Here I prepare the circuit for measurement.  A basis rotation is applied to the end of the circuit based on the pauli string we want to measure.  \n",
    "\n",
    "The basis transormation F is always oriented to that the Pauli string we want to measure has non-identity elements on sites 0 and 1.\n",
    "\n",
    "We perform measurements in the basis $ \\frac{1}{2}(XX + YY) \\rightarrow \\frac{1}{2}(Z_0 - Z_1) $.  See the Post Selection notebook in the Error_Mitigation file for details."
   ]
  },
  {
   "cell_type": "code",
   "execution_count": 19,
   "id": "23a91474",
   "metadata": {
    "scrolled": true
   },
   "outputs": [
    {
     "name": "stdout",
     "output_type": "stream",
     "text": [
      "Overwriting Define_Measurment_Circuits.py\n"
     ]
    }
   ],
   "source": [
    "%%writefile Define_Measurment_Circuits.py\n",
    "\n",
    "import copy \n",
    "from Define_Slater_Circuit import slater_circ\n",
    "import numpy as np\n",
    "from Define_Paulis import  Mdot\n",
    "\n",
    "# Applies a square-root of the iSWAP operator.  This is needed for the measurment basis roation.\n",
    "def apply_riswap(qc_in,j,i):\n",
    "    qc = copy.deepcopy(qc_in)\n",
    "    qc.cx(j,i)\n",
    "    qc.ry(np.pi/2,j)\n",
    "    qc.rz(np.pi/8,j)\n",
    "    qc.cx(i,j)\n",
    "    qc.rz(-np.pi/4,j)\n",
    "    qc.cx(i,j)\n",
    "    qc.rz(np.pi/8,j)\n",
    "    qc.ry(-np.pi/2,j)\n",
    "    qc.cx(j,i)\n",
    "    return qc\n",
    "\n",
    "# Applies the measurment basis rotation\n",
    "def apply_Um(qc_in,j,i):\n",
    "    qc = copy.deepcopy(qc_in)\n",
    "    qc.rz(-np.pi/4,j)\n",
    "    qc.rz(np.pi/4,i)\n",
    "    qc = apply_riswap(qc,i,j)\n",
    "    return qc\n",
    "\n",
    "# Used to swap the indecies in F\n",
    "def swap_idx(i,j,Op):\n",
    "    S = np.identity(len(Op))\n",
    "    S[i,i] = 0\n",
    "    S[j,j] = 0\n",
    "    S[i,j] = 1\n",
    "    S[j,i] = 1\n",
    "    return Mdot([S,Op])\n",
    "\n",
    "# Creates a single circuit which is ready to be measured\n",
    "def create_circ(Fd,pauli):\n",
    "    label = ''\n",
    "    for pi in range(len(pauli)):\n",
    "        if pauli[pi] == 'X' or pauli[pi] == 'Y':\n",
    "            label = label + str(pi)\n",
    "    if label == '':\n",
    "        qc = slater_circ(Fd)\n",
    "        psi = copy.deepcopy(qc)\n",
    "        psi.measure(psi.qubits,psi.clbits)\n",
    "    else:\n",
    "        i = int(label[0])\n",
    "        j = int(label[1])\n",
    "        Fd_swap = swap_idx(1,j,swap_idx(0,i,Fd))\n",
    "        qc = slater_circ(Fd_swap)\n",
    "        psi0 = copy.deepcopy(qc)\n",
    "        psi = apply_Um(psi0,0,1)\n",
    "        psi.measure(psi.qubits,psi.clbits)\n",
    "    return psi\n",
    "\n",
    "# Collects all the circuits that need to be measured into a list\n",
    "def create_circs(Fd,paulis):\n",
    "    circs = []\n",
    "    for pauli in paulis:\n",
    "        circ = create_circ(Fd,pauli)\n",
    "        circs.append(circ)\n",
    "    return circs\n"
   ]
  },
  {
   "cell_type": "code",
   "execution_count": null,
   "id": "9c39ff50",
   "metadata": {},
   "outputs": [],
   "source": []
  }
 ],
 "metadata": {
  "kernelspec": {
   "display_name": "qiskit_3.5",
   "language": "python",
   "name": "qiskit_3.5"
  },
  "language_info": {
   "codemirror_mode": {
    "name": "ipython",
    "version": 3
   },
   "file_extension": ".py",
   "mimetype": "text/x-python",
   "name": "python",
   "nbconvert_exporter": "python",
   "pygments_lexer": "ipython3",
   "version": "3.10.4"
  },
  "toc": {
   "base_numbering": 1,
   "nav_menu": {},
   "number_sections": true,
   "sideBar": true,
   "skip_h1_title": false,
   "title_cell": "Table of Contents",
   "title_sidebar": "Contents",
   "toc_cell": false,
   "toc_position": {},
   "toc_section_display": true,
   "toc_window_display": false
  }
 },
 "nbformat": 4,
 "nbformat_minor": 5
}
