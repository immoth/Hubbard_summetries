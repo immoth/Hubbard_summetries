{
 "cells": [
  {
   "cell_type": "code",
   "execution_count": 1,
   "id": "84744dd9",
   "metadata": {},
   "outputs": [],
   "source": [
    "#%%writefile Define_Lancozos.py\n",
    "\n",
    "from Define_System import system\n",
    "from Define_Paulis import I,X,Y,Z, cd,c,n, Mdot, bkt\n",
    "import scipy.linalg as ln\n",
    "import numpy as np\n",
    "from random import random\n",
    "from scipy.linalg import eigh_tridiagonal \n",
    "\n",
    "\n",
    "\n",
    "def Krolov(H,Lamb):\n",
    "    N = int(np.log2(len(H)))\n",
    "    \n",
    "    #Define containers\n",
    "    vt_l = []\n",
    "    v_l = []\n",
    "    a_l = []\n",
    "    b_l = []\n",
    "\n",
    "    #Initialize\n",
    "    v0t = np.array([random() for i in range(0,len(H))])\n",
    "    v0 = v0t/np.sqrt(bkt(v0t,I(N),v0t))\n",
    "    a0 = bkt(v0,H,v0)\n",
    "    vt_l.append(v0t)\n",
    "    v_l.append(v0)\n",
    "    a_l.append(a0)\n",
    "    b_l.append(0)\n",
    "\n",
    "    #first step\n",
    "    v1t = Mdot([H,v0]) - a0*v0\n",
    "    b1 = np.sqrt(bkt(v1t,I(N),v1t))\n",
    "    v1 = (1/b1)*v1t\n",
    "    a1 = bkt(v1,H,v1)\n",
    "    vt_l.append(v1t)\n",
    "    v_l.append(v1)\n",
    "    a_l.append(a1)\n",
    "    b_l.append(b1)\n",
    "    \n",
    "    #Iterate through further steps\n",
    "    for i in range(2,Lamb):\n",
    "        vit = Mdot([H,v_l[i-1]]) - a_l[i-1]*v_l[i-1] - b_l[i-1]*v_l[i-2]\n",
    "        bi = np.sqrt(bkt(vit,I(N),vit))\n",
    "        vi = (1/bi)*vit\n",
    "        ai = bkt(vi,H,vi)\n",
    "        vt_l.append(vit)\n",
    "        v_l.append(vi)\n",
    "        a_l.append(ai)\n",
    "        b_l.append(bi)\n",
    "    b_l = np.delete(b_l,0)\n",
    "    return a_l, b_l\n",
    "\n",
    "\n",
    "def Lancozos(H,Lamb):\n",
    "    a_l, b_l = Krolov(H,20)\n",
    "    e,y = eigh_tridiagonal(np.real(a_l),np.real(b_l))\n",
    "    return np.sort(e)"
   ]
  },
  {
   "cell_type": "markdown",
   "id": "bb5b2d33",
   "metadata": {},
   "source": [
    "### Issue: we really should be doing everything without matrix multiplication (using masks)"
   ]
  },
  {
   "cell_type": "code",
   "execution_count": 2,
   "id": "6130a33d",
   "metadata": {},
   "outputs": [],
   "source": [
    "systemQ = system(\"square\",4)"
   ]
  },
  {
   "cell_type": "code",
   "execution_count": 3,
   "id": "adb4294f",
   "metadata": {},
   "outputs": [],
   "source": [
    "k=1.0\n",
    "u=0.3\n",
    "d=1.5\n",
    "\n",
    "D = systemQ.D(d)"
   ]
  },
  {
   "cell_type": "code",
   "execution_count": 4,
   "id": "3ccfe4a3",
   "metadata": {},
   "outputs": [],
   "source": [
    "k=1.0\n",
    "u=0.3\n",
    "d=1.5\n",
    "\n",
    "H = systemQ.H(k,u,d)"
   ]
  },
  {
   "cell_type": "code",
   "execution_count": 5,
   "id": "895c4f05",
   "metadata": {},
   "outputs": [
    {
     "data": {
      "text/plain": [
       "256"
      ]
     },
     "execution_count": 5,
     "metadata": {},
     "output_type": "execute_result"
    }
   ],
   "source": [
    "len(H)"
   ]
  },
  {
   "cell_type": "code",
   "execution_count": 6,
   "id": "dc656d74",
   "metadata": {},
   "outputs": [
    {
     "data": {
      "text/plain": [
       "array([-3.1003317 , -2.46989529, -1.76407141, -1.38276929, -1.04520436,\n",
       "       -0.13051791,  0.55866332,  1.20694448,  2.20476155,  2.86947285,\n",
       "        3.67200538,  4.64603909,  5.31958759,  5.96646922,  6.5064182 ,\n",
       "        7.24620645,  7.86322261,  8.39240513,  8.5989385 ,  9.27577506])"
      ]
     },
     "execution_count": 6,
     "metadata": {},
     "output_type": "execute_result"
    }
   ],
   "source": [
    "Lancozos(H,20)"
   ]
  },
  {
   "cell_type": "code",
   "execution_count": null,
   "id": "89957e2e",
   "metadata": {},
   "outputs": [],
   "source": []
  }
 ],
 "metadata": {
  "kernelspec": {
   "display_name": "qiskit_3.5",
   "language": "python",
   "name": "qiskit_3.5"
  },
  "language_info": {
   "codemirror_mode": {
    "name": "ipython",
    "version": 3
   },
   "file_extension": ".py",
   "mimetype": "text/x-python",
   "name": "python",
   "nbconvert_exporter": "python",
   "pygments_lexer": "ipython3",
   "version": "3.10.4"
  },
  "toc": {
   "base_numbering": 1,
   "nav_menu": {},
   "number_sections": true,
   "sideBar": true,
   "skip_h1_title": false,
   "title_cell": "Table of Contents",
   "title_sidebar": "Contents",
   "toc_cell": false,
   "toc_position": {},
   "toc_section_display": true,
   "toc_window_display": false
  }
 },
 "nbformat": 4,
 "nbformat_minor": 5
}
