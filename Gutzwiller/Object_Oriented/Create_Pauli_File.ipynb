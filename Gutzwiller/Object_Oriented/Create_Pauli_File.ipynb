{
 "cells": [
  {
   "cell_type": "markdown",
   "id": "d3c96a48",
   "metadata": {},
   "source": [
    "# Defining Paulis and matrix products"
   ]
  },
  {
   "cell_type": "code",
   "execution_count": 81,
   "id": "aa617195",
   "metadata": {},
   "outputs": [
    {
     "name": "stdout",
     "output_type": "stream",
     "text": [
      "Overwriting Define_Paulis.py\n"
     ]
    }
   ],
   "source": [
    "%%writefile Define_Paulis.py\n",
    "\n",
    "import qiskit.quantum_info as qi\n",
    "import numpy as np\n",
    "\n",
    "i0 = np.array([[1,0],[0,1]])\n",
    "x0 = np.array([[0,1],[1,0]])\n",
    "y0 = np.array([[0,-1j],[1j,0]])\n",
    "z0 = np.array([[1,0],[0,-1]])\n",
    "\n",
    "def I(N):\n",
    "    out = 1\n",
    "    for i in range(N):\n",
    "        out = np.kron(i0,out)\n",
    "    return out\n",
    "\n",
    "def X(i,N):\n",
    "    out = 1\n",
    "    for j in range(i):\n",
    "        out = np.kron(i0,out)\n",
    "    out = np.kron(x0,out)\n",
    "    for j in range(i+1,N):\n",
    "        out = np.kron(i0,out)\n",
    "    return out\n",
    "\n",
    "def Y(i,N):\n",
    "    out = 1\n",
    "    for j in range(i):\n",
    "        out = np.kron(i0,out)\n",
    "    out = np.kron(y0,out)\n",
    "    for j in range(i+1,N):\n",
    "        out = np.kron(i0,out)\n",
    "    return out\n",
    "\n",
    "def Z(i,N):\n",
    "    out = 1\n",
    "    for j in range(i):\n",
    "        out = np.kron(i0,out)\n",
    "    out = np.kron(z0,out)\n",
    "    for j in range(i+1,N):\n",
    "        out = np.kron(i0,out)\n",
    "    return out\n",
    "\n",
    "def c(i,N):\n",
    "    out = 1\n",
    "    for j in range(i):\n",
    "        out = np.kron(i0,out)\n",
    "    out = 1/2*np.kron(x0 + 1j*y0, out)\n",
    "    for j in range(i+1,N):\n",
    "        out = np.kron(z0,out)\n",
    "    return out\n",
    "\n",
    "def cd(i,N):\n",
    "    out = 1\n",
    "    for j in range(i):\n",
    "        out = np.kron(i0,out)\n",
    "    out = 1/2*np.kron(x0 - 1j*y0, out)\n",
    "    for j in range(i+1,N):\n",
    "        out = np.kron(z0,out)\n",
    "    return out\n",
    "\n",
    "\n",
    "def n(i,N):\n",
    "    return Mdot([cd(i,N),c(i,N)])\n",
    "\n",
    "\n",
    "import numpy as np\n",
    "\n",
    "\n",
    "def Mdot(Ol):\n",
    "    L = len(Ol)\n",
    "    out = Ol[L-1]\n",
    "    for i in range(1,len(Ol)):\n",
    "        out = np.dot(Ol[L-1-i],out)\n",
    "    return out\n",
    "\n",
    "def bkt(y1,O,y2):\n",
    "    return Mdot([np.conjugate(y1),O,y2])"
   ]
  },
  {
   "cell_type": "code",
   "execution_count": null,
   "id": "8b012f59",
   "metadata": {},
   "outputs": [],
   "source": []
  }
 ],
 "metadata": {
  "kernelspec": {
   "display_name": "qiskit_3.5",
   "language": "python",
   "name": "qiskit_3.5"
  },
  "language_info": {
   "codemirror_mode": {
    "name": "ipython",
    "version": 3
   },
   "file_extension": ".py",
   "mimetype": "text/x-python",
   "name": "python",
   "nbconvert_exporter": "python",
   "pygments_lexer": "ipython3",
   "version": "3.10.4"
  },
  "toc": {
   "base_numbering": 1,
   "nav_menu": {},
   "number_sections": true,
   "sideBar": true,
   "skip_h1_title": false,
   "title_cell": "Table of Contents",
   "title_sidebar": "Contents",
   "toc_cell": false,
   "toc_position": {},
   "toc_section_display": true,
   "toc_window_display": false
  }
 },
 "nbformat": 4,
 "nbformat_minor": 5
}
