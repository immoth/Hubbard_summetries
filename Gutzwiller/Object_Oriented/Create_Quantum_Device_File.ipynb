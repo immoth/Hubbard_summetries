{
 "cells": [
  {
   "cell_type": "markdown",
   "id": "a62121a8",
   "metadata": {},
   "source": [
    "# Function to run the circuits\n",
    "\n",
    "Here I create the quantum device which is used to send jobs to the backend, collect results, and do basic operatons on those results.  "
   ]
  },
  {
   "cell_type": "code",
   "execution_count": 1,
   "id": "999be06e",
   "metadata": {},
   "outputs": [
    {
     "name": "stdout",
     "output_type": "stream",
     "text": [
      "Overwriting Define_Quantum_Device.py\n"
     ]
    }
   ],
   "source": [
    "%%writefile Define_Quantum_Device.py\n",
    "\n",
    "from qiskit import IBMQ,transpile\n",
    "from qiskit.tools.monitor import job_monitor\n",
    "IBMQ.load_account()\n",
    "provider = IBMQ.get_provider(hub='ibm-q-afrl', group='air-force-lab', project='quantum-sim')\n",
    "from qiskit import Aer\n",
    "import copy\n",
    "from qiskit import quantum_info as qi\n",
    "from qiskit import execute\n",
    "import numpy as np\n",
    "\n",
    "class Quantum_Device:\n",
    "    \n",
    "    def __init__(self, backend = 'ibm_lagos', layout = [0,1,3,5]):\n",
    "        self.backend = provider.get_backend(backend)\n",
    "        self.layout = layout\n",
    "\n",
    "    #Returns the results of measuring circs_in\n",
    "    #The method can be:\n",
    "    #    'matrix' which computes the results classicaly using matrix multiplication\n",
    "    #    'simulator' which computes the results using the qasm simulator\n",
    "    #    'quantum' which computers the results on the phasical backend using the qubits defined in the layout\n",
    "    def get_results(self,circs_in, method = 'matrix',save_id_file = None):\n",
    "        circs = copy.deepcopy(circs_in)\n",
    "        #Exact Calculation\n",
    "        if method == 'matrix':\n",
    "            # add results\n",
    "            r = []\n",
    "            for l in range(len(circs)):\n",
    "                circs[l].remove_final_measurements()\n",
    "                wave = qi.Statevector.from_instruction(circs[l])\n",
    "                r_l = wave.probabilities_dict()\n",
    "                r.append(r_l)\n",
    "        #Qiskit Simulation        \n",
    "        if method == \"simulator\":\n",
    "            sim = Aer.get_backend(\"qasm_simulator\")\n",
    "            r = execute(circs, backend = sim).result().get_counts() \n",
    "        #Device\n",
    "        if method == \"quantum\":\n",
    "            backend = self.backend\n",
    "            layout = self.layout\n",
    "            job = backend.run(transpile(circs, backend,initial_layout = layout), meas_level=2, shots=8192)\n",
    "            job_id = job.job_id()\n",
    "            print(job_id)\n",
    "            np.save(save_id_file,[job_id])\n",
    "            r = job.result().get_counts()\n",
    "        return r\n",
    "    \n",
    "    #Normalizes the results\n",
    "    def normalize_results(self,results):\n",
    "        results_out = []\n",
    "        for result in results:\n",
    "            result_out = {}\n",
    "            states = list(result.keys())\n",
    "            total = 0\n",
    "            for state in states:\n",
    "                total += result[state]\n",
    "            for state in states:\n",
    "                result_out[state] = result[state]/total\n",
    "            results_out.append(result_out)\n",
    "        return results_out\n",
    "    \n",
    "    #Removes states from the results with close to zero wieght\n",
    "    #This can greatly imporve runtime \n",
    "    def chop_results(self,results):\n",
    "        results_chop = []\n",
    "        for result in results:\n",
    "            result_chop = {}\n",
    "            states = list(result.keys())\n",
    "            for state in states:\n",
    "                if result[state] > 10**(-5):\n",
    "                    result_chop[state] = result[state]\n",
    "            results_chop.append(result_chop)\n",
    "        return results_chop\n"
   ]
  },
  {
   "cell_type": "code",
   "execution_count": null,
   "id": "98daa952",
   "metadata": {},
   "outputs": [],
   "source": []
  }
 ],
 "metadata": {
  "kernelspec": {
   "display_name": "qiskit_3.5",
   "language": "python",
   "name": "qiskit_3.5"
  },
  "language_info": {
   "codemirror_mode": {
    "name": "ipython",
    "version": 3
   },
   "file_extension": ".py",
   "mimetype": "text/x-python",
   "name": "python",
   "nbconvert_exporter": "python",
   "pygments_lexer": "ipython3",
   "version": "3.10.4"
  },
  "toc": {
   "base_numbering": 1,
   "nav_menu": {},
   "number_sections": true,
   "sideBar": true,
   "skip_h1_title": false,
   "title_cell": "Table of Contents",
   "title_sidebar": "Contents",
   "toc_cell": false,
   "toc_position": {},
   "toc_section_display": true,
   "toc_window_display": false
  }
 },
 "nbformat": 4,
 "nbformat_minor": 5
}
