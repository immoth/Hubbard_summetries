{
 "cells": [
  {
   "cell_type": "code",
   "execution_count": 1,
   "id": "c3fdc152",
   "metadata": {},
   "outputs": [],
   "source": [
    "from Define_System import system\n",
    "from Define_Slater_Circuit import slater_circ\n",
    "from Define_Measurment_Circuits import create_circs\n",
    "from Define_Quantum_Device import Quantum_Device\n",
    "from Define_Analyzers import analyze_energy\n",
    "from Define_Lancozos import Lancozos"
   ]
  },
  {
   "cell_type": "code",
   "execution_count": 2,
   "id": "eb065163",
   "metadata": {},
   "outputs": [
    {
     "name": "stdout",
     "output_type": "stream",
     "text": [
      " \n",
      " \n",
      " \n",
      " \n",
      " \n",
      " \n",
      " \n",
      " \n",
      " \n"
     ]
    }
   ],
   "source": [
    "systemQ = system('square',4) \n",
    "Fd = systemQ.Fld()\n",
    "paulis = systemQ.pauli_strings()\n",
    "circs = create_circs(Fd,paulis)\n",
    "QD = Quantum_Device(layout = [0,1,3,5])\n",
    "\n",
    "results = QD.get_results(circs, method = 'matrix')\n",
    "results = QD.chop_results(results)\n",
    "\n",
    "#save_id_file = \"/Users/stenger/Documents/Research/Hubbard_symmetries/Gutzwiller/Data/Job_id_main_post_select\"\n",
    "#results = QD.get_results(circs, method = 'quantum', save_id_file = save_id_file)"
   ]
  },
  {
   "cell_type": "markdown",
   "id": "1c0ab8ef",
   "metadata": {},
   "source": [
    "# Save and Load"
   ]
  },
  {
   "cell_type": "code",
   "execution_count": 3,
   "id": "605a8a23",
   "metadata": {},
   "outputs": [],
   "source": [
    "#import pickle\n",
    "#fpath = \"/Users/stenger/Documents/Research/Hubbard_symmetries/Gutzwiller/Data/\"\n",
    "\n",
    "#file_to_store = open(fpath + \"main_line_4_lagos.pickle\", \"wb\")\n",
    "\n",
    "#pickle.dump(results, file_to_store)"
   ]
  },
  {
   "cell_type": "code",
   "execution_count": 4,
   "id": "31ec47d2",
   "metadata": {},
   "outputs": [],
   "source": [
    "#import pickle\n",
    "#fpath = \"/Users/stenger/Documents/Research/Hubbard_symmetries/Gutzwiller/Data/\"\n",
    "\n",
    "#file_to_read = open(fpath + \"main_line_4_lagos.pickle\", \"rb\")\n",
    "\n",
    "#loaded_results = pickle.load(file_to_read)"
   ]
  },
  {
   "cell_type": "markdown",
   "id": "238901b2",
   "metadata": {},
   "source": [
    "# Plots"
   ]
  },
  {
   "cell_type": "code",
   "execution_count": 5,
   "id": "033dc14f",
   "metadata": {},
   "outputs": [],
   "source": [
    "import numpy as np\n",
    "\n",
    "paulis = systemQ.pauli_strings()\n",
    "F = systemQ.Fl()\n",
    "#psi_spin = systemQ.psi_spin([1,2])\n",
    "psi_spin = systemQ.psi_spin([2,3])\n",
    "#psi_spin = systemQ.psi_spin([3,4])\n",
    "#psi_spin = systemQ.psi_spin([6,7])\n",
    "\n",
    "#parameters\n",
    "u = 0\n",
    "k = 1\n",
    "d = 0\n",
    "\n",
    "#Exact Eigenvalue\n",
    "H = systemQ.H(k,u,d)\n",
    "e0 = Lancozos(H,20)[0]\n",
    "#e,y = np.linalg.eig(H)\n",
    "#y = np.transpose(y)\n",
    "#arg = np.argsort(e)\n",
    "\n",
    "#Scan\n",
    "eg = []\n",
    "gl = []\n",
    "eT = []\n",
    "for gi in range(-10,10):\n",
    "    g = gi\n",
    "    egl = analyze_energy(g,u,k,d,paulis,results)\n",
    "    eg.append(egl)\n",
    "    gl.append(g)\n",
    "    eT.append(e0)\n",
    "    #eT.append(e[arg[[0]]])"
   ]
  },
  {
   "cell_type": "code",
   "execution_count": 6,
   "id": "d3082fcc",
   "metadata": {},
   "outputs": [
    {
     "data": {
      "text/plain": [
       "[<matplotlib.lines.Line2D at 0x7f87776119c0>]"
      ]
     },
     "execution_count": 6,
     "metadata": {},
     "output_type": "execute_result"
    },
    {
     "data": {
      "image/png": "[encoded data removed]",
      "text/plain": [
       "<Figure size 432x288 with 1 Axes>"
      ]
     },
     "metadata": {
      "needs_background": "light"
     },
     "output_type": "display_data"
    }
   ],
   "source": [
    "import matplotlib.pyplot as plt\n",
    "\n",
    "plt.plot(gl,eg)\n",
    "plt.plot(gl,eT)"
   ]
  },
  {
   "cell_type": "code",
   "execution_count": 7,
   "id": "e8768474",
   "metadata": {},
   "outputs": [
    {
     "data": {
      "image/png": "[encoded data removed]",
      "text/plain": [
       "<Figure size 432x288 with 1 Axes>"
      ]
     },
     "metadata": {
      "needs_background": "light"
     },
     "output_type": "display_data"
    }
   ],
   "source": [
    "systemQ.draw()"
   ]
  },
  {
   "cell_type": "markdown",
   "id": "9cefee21",
   "metadata": {},
   "source": [
    "# Tests"
   ]
  },
  {
   "cell_type": "code",
   "execution_count": 8,
   "id": "d618f5a6",
   "metadata": {},
   "outputs": [
    {
     "name": "stdout",
     "output_type": "stream",
     "text": [
      " \n"
     ]
    },
    {
     "data": {
      "text/plain": [
       "2.262266701886419e-16"
      ]
     },
     "execution_count": 8,
     "metadata": {},
     "output_type": "execute_result"
    }
   ],
   "source": [
    "from Define_Slater_Circuit import givens, phase_offset\n",
    "import numpy as np\n",
    "from qiskit import quantum_info as qi\n",
    "\n",
    "\n",
    "qc = slater_circ(Fd)\n",
    "psi_tst = qi.Statevector.from_instruction(qc).data\n",
    "#psi1 = systemQ.psi1([1,2])\n",
    "psi1 = systemQ.psi1([2,3])\n",
    "#psi1 = systemQ.psi1([3,4])\n",
    "phase = phase_offset(Fd)\n",
    "np.amax(np.abs( psi_tst - phase*psi1 ))"
   ]
  },
  {
   "cell_type": "code",
   "execution_count": 9,
   "id": "13e62833",
   "metadata": {},
   "outputs": [],
   "source": [
    "\n",
    "results = QD.normalize_results(results)"
   ]
  },
  {
   "cell_type": "code",
   "execution_count": 10,
   "id": "93447344",
   "metadata": {},
   "outputs": [
    {
     "name": "stdout",
     "output_type": "stream",
     "text": [
      "(-3.0531133177191805e-16+0j)\n",
      "(-1.0408340855860843e-16+0j)\n",
      "(-2.4424906541753444e-15+0j)\n",
      "(9.992007221626409e-16+0j)\n",
      "0j\n"
     ]
    }
   ],
   "source": [
    "from Define_Paulis import bkt,Mdot\n",
    "from Define_Analyzers import analyze_GG, analyze_GMG, analyze_GDG, analyze_GKG\n",
    "g = 1.1\n",
    "m = 2.1\n",
    "k = 1.6\n",
    "d = 0.7\n",
    "G = systemQ.G(g)\n",
    "D = systemQ.D(d)\n",
    "M = systemQ.M(m)\n",
    "K = systemQ.K(k)\n",
    "#psi_spin = systemQ.psi_spin([1,2])\n",
    "psi_spin = systemQ.psi_spin([2,3])\n",
    "#psi_spin = systemQ.psi_spin([3,4])\n",
    "GG = bkt(psi_spin,Mdot([G,G]),psi_spin)\n",
    "GDG = bkt(psi_spin,Mdot([G,D,G]),psi_spin)\n",
    "GKG = bkt(psi_spin,Mdot([G,K,G]),psi_spin)\n",
    "GMG = bkt(psi_spin,Mdot([G,M,G]),psi_spin)\n",
    "E = (GMG + GKG + GDG)/GG \n",
    "print(GG - analyze_GG(g,results[0]))\n",
    "print(GDG - analyze_GDG(g,d,results[0]))\n",
    "print(GMG - analyze_GMG(g,m,results[0]))\n",
    "print(GKG - analyze_GKG(g,k,paulis,results))\n",
    "print(E - analyze_energy(g,m,k,d,paulis,results))"
   ]
  },
  {
   "cell_type": "code",
   "execution_count": null,
   "id": "76b98a8e",
   "metadata": {},
   "outputs": [],
   "source": []
  }
 ],
 "metadata": {
  "kernelspec": {
   "display_name": "qiskit_3.5",
   "language": "python",
   "name": "qiskit_3.5"
  },
  "language_info": {
   "codemirror_mode": {
    "name": "ipython",
    "version": 3
   },
   "file_extension": ".py",
   "mimetype": "text/x-python",
   "name": "python",
   "nbconvert_exporter": "python",
   "pygments_lexer": "ipython3",
   "version": "3.10.4"
  },
  "toc": {
   "base_numbering": 1,
   "nav_menu": {},
   "number_sections": true,
   "sideBar": true,
   "skip_h1_title": false,
   "title_cell": "Table of Contents",
   "title_sidebar": "Contents",
   "toc_cell": false,
   "toc_position": {},
   "toc_section_display": true,
   "toc_window_display": false
  }
 },
 "nbformat": 4,
 "nbformat_minor": 5
}
