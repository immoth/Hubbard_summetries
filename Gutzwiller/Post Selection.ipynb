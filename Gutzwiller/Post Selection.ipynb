{
 "cells": [
  {
   "cell_type": "markdown",
   "id": "2e663065",
   "metadata": {},
   "source": [
    "# Post Selection\n",
    "\n",
    "We can do some error mitigation by throwing out the states with the wrong number of particles.  To achieve this we need a rotation in which both the total number operator $$n = \\sum_i n_i \\rightarrow \\sum_i (I - Z_i)$$ and the Kinetic terms $$K_i = c^{\\dagger}_ic_{i+1} + c^{\\dagger}_{i+1}c_{i} \\rightarrow X_iX_{i+1} + Y_iY_{i+1}$$ are diagonal."
   ]
  },
  {
   "cell_type": "code",
   "execution_count": 2,
   "id": "a8c8e883",
   "metadata": {},
   "outputs": [],
   "source": [
    "import qiskit.quantum_info as qi\n",
    "import scipy as sp\n",
    "import scipy.linalg as ln\n",
    "import numpy as np\n",
    "import pandas as pd\n",
    "import math\n",
    "\n",
    "\n",
    "def Mdot(Ol):\n",
    "    out = Ol[0]\n",
    "    for i in range(1,len(Ol)):\n",
    "        out = np.dot(Ol[i],out)\n",
    "    return out\n",
    "\n",
    "def bkt(y1,O,y2):\n",
    "    return Mdot([np.conjugate(y1),O,y2])\n",
    "\n",
    "\n",
    "def I(N):\n",
    "    label = ['I' for i in range(N)]\n",
    "    label = ''.join(label)\n",
    "    return qi.Operator.from_label(label).data\n",
    "\n",
    "def X(i,N):\n",
    "    label = ['I' for i in range(N)]\n",
    "    label[i] = 'X'\n",
    "    label = ''.join(label)\n",
    "    return qi.Operator.from_label(label).data\n",
    "\n",
    "def Y(i,N):\n",
    "    label = ['I' for i in range(N)]\n",
    "    label[i] = 'Y'\n",
    "    label = ''.join(label)\n",
    "    return qi.Operator.from_label(label).data\n",
    "\n",
    "def Z(i,N):\n",
    "    label = ['I' for i in range(N)]\n",
    "    label[i] = 'Z'\n",
    "    label = ''.join(label)\n",
    "    return qi.Operator.from_label(label).data\n",
    "\n",
    "def c(i,N):\n",
    "    label_1 = ['Z' for j in range(i)]\n",
    "    label_2 = ['I' for j in range(i+1,N)]\n",
    "    label_x = label_1 + ['X'] + label_2\n",
    "    label_y = label_1 + ['Y'] + label_2\n",
    "    label_x = ''.join(label_x)\n",
    "    label_y = ''.join(label_y)\n",
    "    x = qi.Operator.from_label(label_x).data\n",
    "    y = qi.Operator.from_label(label_y).data\n",
    "    return 1/2*(x+1j*y)\n",
    "\n",
    "def cd(i,N):\n",
    "    label_1 = ['Z' for j in range(i)]\n",
    "    label_2 = ['I' for j in range(i+1,N)]\n",
    "    label_x = label_1 + ['X'] + label_2\n",
    "    label_y = label_1 + ['Y'] + label_2\n",
    "    label_x = ''.join(label_x)\n",
    "    label_y = ''.join(label_y)\n",
    "    x = qi.Operator.from_label(label_x).data\n",
    "    y = qi.Operator.from_label(label_y).data\n",
    "    return 1/2*(x-1j*y)\n",
    "\n",
    "import numpy as np\n",
    "\n",
    "def Mdot(Ol):\n",
    "    out = Ol[0]\n",
    "    for i in range(1,len(Ol)):\n",
    "        out = np.dot(Ol[i],out)\n",
    "    return out\n",
    "\n",
    "def bkt(y1,O,y2):\n",
    "    return Mdot([np.conjugate(y1),O,y2])"
   ]
  },
  {
   "cell_type": "markdown",
   "id": "c987f3fc",
   "metadata": {},
   "source": [
    "This rotation will be composed of $$\\sqrt{i\\text{SWAP}}_{ij} = e^{i \\frac{\\pi}{2}(X_iX_j + Y_iY_j)} $$ and $$T_i = e^{i\\frac{\\pi}{8}Z_i}$$\n",
    "\n",
    "The complete rotation is $$ U_{ij} = \\sqrt{i\\text{SWAP}}_{ij}T_iT^{\\dagger}_j $$"
   ]
  },
  {
   "cell_type": "code",
   "execution_count": 56,
   "id": "ec5a9797",
   "metadata": {},
   "outputs": [
    {
     "data": {
      "text/plain": [
       "1.1102230246251565e-16"
      ]
     },
     "execution_count": 56,
     "metadata": {},
     "output_type": "execute_result"
    }
   ],
   "source": [
    "riswap = 1/2*(I(2) + Mdot([Z(0,2),Z(1,2)]) + np.cos(np.pi/4)*(I(2) - Mdot([Z(0,2),Z(1,2)])) + 1j*np.sin(np.pi/4)*(Mdot([X(0,2),X(1,2)]) + Mdot([Y(0,2),Y(1,2)])))\n",
    "\n",
    "riswap_tst = ln.expm(1j*np.pi/8*( Mdot([X(0,2),X(1,2)]) + Mdot([Y(0,2),Y(1,2)]) ))\n",
    "\n",
    "np.amax(np.abs( riswap - riswap_tst ))"
   ]
  },
  {
   "cell_type": "code",
   "execution_count": 49,
   "id": "96298b68",
   "metadata": {},
   "outputs": [
    {
     "data": {
      "text/html": [
       "<div>\n",
       "<style scoped>\n",
       "    .dataframe tbody tr th:only-of-type {\n",
       "        vertical-align: middle;\n",
       "    }\n",
       "\n",
       "    .dataframe tbody tr th {\n",
       "        vertical-align: top;\n",
       "    }\n",
       "\n",
       "    .dataframe thead th {\n",
       "        text-align: right;\n",
       "    }\n",
       "</style>\n",
       "<table border=\"1\" class=\"dataframe\">\n",
       "  <thead>\n",
       "    <tr style=\"text-align: right;\">\n",
       "      <th></th>\n",
       "      <th>0</th>\n",
       "      <th>1</th>\n",
       "      <th>2</th>\n",
       "      <th>3</th>\n",
       "    </tr>\n",
       "  </thead>\n",
       "  <tbody>\n",
       "    <tr>\n",
       "      <th>0</th>\n",
       "      <td>0.0+0.0j</td>\n",
       "      <td>0.000000e+00+0.000000e+00j</td>\n",
       "      <td>0.000000e+00+0.000000e+00j</td>\n",
       "      <td>0.0+0.0j</td>\n",
       "    </tr>\n",
       "    <tr>\n",
       "      <th>1</th>\n",
       "      <td>0.0+0.0j</td>\n",
       "      <td>1.000000e+00+0.000000e+00j</td>\n",
       "      <td>-5.551115e-17-1.665335e-16j</td>\n",
       "      <td>0.0+0.0j</td>\n",
       "    </tr>\n",
       "    <tr>\n",
       "      <th>2</th>\n",
       "      <td>0.0+0.0j</td>\n",
       "      <td>-5.551115e-17+1.665335e-16j</td>\n",
       "      <td>-1.000000e+00+0.000000e+00j</td>\n",
       "      <td>0.0+0.0j</td>\n",
       "    </tr>\n",
       "    <tr>\n",
       "      <th>3</th>\n",
       "      <td>0.0+0.0j</td>\n",
       "      <td>0.000000e+00+0.000000e+00j</td>\n",
       "      <td>0.000000e+00+0.000000e+00j</td>\n",
       "      <td>0.0+0.0j</td>\n",
       "    </tr>\n",
       "  </tbody>\n",
       "</table>\n",
       "</div>"
      ],
      "text/plain": [
       "          0                           1                           2         3\n",
       "0  0.0+0.0j  0.000000e+00+0.000000e+00j  0.000000e+00+0.000000e+00j  0.0+0.0j\n",
       "1  0.0+0.0j  1.000000e+00+0.000000e+00j -5.551115e-17-1.665335e-16j  0.0+0.0j\n",
       "2  0.0+0.0j -5.551115e-17+1.665335e-16j -1.000000e+00+0.000000e+00j  0.0+0.0j\n",
       "3  0.0+0.0j  0.000000e+00+0.000000e+00j  0.000000e+00+0.000000e+00j  0.0+0.0j"
      ]
     },
     "execution_count": 49,
     "metadata": {},
     "output_type": "execute_result"
    }
   ],
   "source": [
    "T0 = np.cos(np.pi/8)*I(2) + 1j*np.sin(np.pi/8)*Z(0,2)\n",
    "T1 = np.cos(np.pi/8)*I(2) - 1j*np.sin(np.pi/8)*Z(1,2)\n",
    "\n",
    "Um = Mdot([riswap,T0,T1])\n",
    "Umd = np.conjugate(np.transpose(Um))\n",
    "\n",
    "pd.DataFrame( Mdot([Um, 1/2*(Mdot([X(0,2),X(1,2)]) + Mdot([Y(0,2),Y(1,2)]) ) ,Umd]) )"
   ]
  },
  {
   "cell_type": "code",
   "execution_count": 54,
   "id": "699066c0",
   "metadata": {},
   "outputs": [
    {
     "data": {
      "text/html": [
       "<div>\n",
       "<style scoped>\n",
       "    .dataframe tbody tr th:only-of-type {\n",
       "        vertical-align: middle;\n",
       "    }\n",
       "\n",
       "    .dataframe tbody tr th {\n",
       "        vertical-align: top;\n",
       "    }\n",
       "\n",
       "    .dataframe thead th {\n",
       "        text-align: right;\n",
       "    }\n",
       "</style>\n",
       "<table border=\"1\" class=\"dataframe\">\n",
       "  <thead>\n",
       "    <tr style=\"text-align: right;\">\n",
       "      <th></th>\n",
       "      <th>0</th>\n",
       "      <th>1</th>\n",
       "      <th>2</th>\n",
       "      <th>3</th>\n",
       "    </tr>\n",
       "  </thead>\n",
       "  <tbody>\n",
       "    <tr>\n",
       "      <th>0</th>\n",
       "      <td>2.0+0.0j</td>\n",
       "      <td>0.0+0.0j</td>\n",
       "      <td>0.0+0.0j</td>\n",
       "      <td>0.0+0.0j</td>\n",
       "    </tr>\n",
       "    <tr>\n",
       "      <th>1</th>\n",
       "      <td>0.0+0.0j</td>\n",
       "      <td>0.0+0.0j</td>\n",
       "      <td>0.0+0.0j</td>\n",
       "      <td>0.0+0.0j</td>\n",
       "    </tr>\n",
       "    <tr>\n",
       "      <th>2</th>\n",
       "      <td>0.0+0.0j</td>\n",
       "      <td>0.0+0.0j</td>\n",
       "      <td>0.0+0.0j</td>\n",
       "      <td>0.0+0.0j</td>\n",
       "    </tr>\n",
       "    <tr>\n",
       "      <th>3</th>\n",
       "      <td>0.0+0.0j</td>\n",
       "      <td>0.0+0.0j</td>\n",
       "      <td>0.0+0.0j</td>\n",
       "      <td>-2.0+0.0j</td>\n",
       "    </tr>\n",
       "  </tbody>\n",
       "</table>\n",
       "</div>"
      ],
      "text/plain": [
       "          0         1         2         3\n",
       "0  2.0+0.0j  0.0+0.0j  0.0+0.0j  0.0+0.0j\n",
       "1  0.0+0.0j  0.0+0.0j  0.0+0.0j  0.0+0.0j\n",
       "2  0.0+0.0j  0.0+0.0j  0.0+0.0j  0.0+0.0j\n",
       "3  0.0+0.0j  0.0+0.0j  0.0+0.0j -2.0+0.0j"
      ]
     },
     "execution_count": 54,
     "metadata": {},
     "output_type": "execute_result"
    }
   ],
   "source": [
    "pd.DataFrame( Mdot([Um, Z(0,2) + Z(1,2) ,Umd]) )"
   ]
  },
  {
   "cell_type": "markdown",
   "id": "087c5918",
   "metadata": {},
   "source": [
    "In order to perform the $\\sqrt{i\\text{SWAP}}_{ij}$ gate using only two qubit gates we either have to expand $\\sqrt{i\\text{SWAP}}_{ij}$ in terms of many gates or we can re-run the slatter determinate circuit with new qubit indcices so that $i$ and $j$ are neighbors in the quantum hardware.  "
   ]
  },
  {
   "cell_type": "code",
   "execution_count": null,
   "id": "c16188c3",
   "metadata": {},
   "outputs": [],
   "source": []
  }
 ],
 "metadata": {
  "kernelspec": {
   "display_name": "qiskit_3.5",
   "language": "python",
   "name": "qiskit_3.5"
  },
  "language_info": {
   "codemirror_mode": {
    "name": "ipython",
    "version": 3
   },
   "file_extension": ".py",
   "mimetype": "text/x-python",
   "name": "python",
   "nbconvert_exporter": "python",
   "pygments_lexer": "ipython3",
   "version": "3.10.4"
  },
  "toc": {
   "base_numbering": 1,
   "nav_menu": {},
   "number_sections": true,
   "sideBar": true,
   "skip_h1_title": false,
   "title_cell": "Table of Contents",
   "title_sidebar": "Contents",
   "toc_cell": false,
   "toc_position": {},
   "toc_section_display": true,
   "toc_window_display": false
  }
 },
 "nbformat": 4,
 "nbformat_minor": 5
}
