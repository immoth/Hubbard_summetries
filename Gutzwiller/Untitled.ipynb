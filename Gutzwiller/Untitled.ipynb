{
 "cells": [
  {
   "cell_type": "code",
   "execution_count": 1,
   "id": "47bc47dc",
   "metadata": {},
   "outputs": [],
   "source": [
    "import numpy as np"
   ]
  },
  {
   "cell_type": "code",
   "execution_count": 2,
   "id": "48481d42",
   "metadata": {},
   "outputs": [],
   "source": [
    "f = np.array([[1,2,3,4],[5,6,7,8],[9,10,11,12],[13,14,15,16]])"
   ]
  },
  {
   "cell_type": "code",
   "execution_count": 22,
   "id": "05f1e95e",
   "metadata": {},
   "outputs": [
    {
     "name": "stdout",
     "output_type": "stream",
     "text": [
      "[[  1.   2.   3.   4.]\n",
      " [-60. -64. -68. -72.]\n",
      " [  4.   0.  -4.  -8.]\n",
      " [ 13.  14.  15.  16.]]\n",
      "[[ 1.000e+00  2.000e+00  3.000e+00  4.000e+00]\n",
      " [ 3.658e+03  3.900e+03  4.142e+03  4.384e+03]\n",
      " [ 4.000e+00  0.000e+00 -4.000e+00 -8.000e+00]\n",
      " [ 8.000e+00  0.000e+00 -8.000e+00 -1.600e+01]]\n",
      "[[-6.300e+01  2.000e+00  6.700e+01  1.320e+02]\n",
      " [ 3.658e+03  3.900e+03  4.142e+03  4.384e+03]\n",
      " [ 4.000e+00  0.000e+00 -4.000e+00 -8.000e+00]\n",
      " [ 0.000e+00 -1.600e+01 -3.200e+01 -4.800e+01]]\n"
     ]
    }
   ],
   "source": [
    "def r(i,j,a,b):\n",
    "    ro = np.identity(4)\n",
    "    ro[i,i] = a\n",
    "    ro[j,j] = a\n",
    "    ro[i,j] = b\n",
    "    ro[j,i] = b\n",
    "    return ro\n",
    "\n",
    "f1 = np.dot(r(1,2,f[1,1],-f[2,1]),f)\n",
    "print(f1)\n",
    "f2 = np.dot(r(1,3,f1[1,1],-f1[3,1]),f1)\n",
    "print(f2)\n",
    "f3 = np.dot(r(0,3,f2[0,0],-f2[3,0]),f2)\n",
    "print(f3)"
   ]
  },
  {
   "cell_type": "code",
   "execution_count": 23,
   "id": "21e94f47",
   "metadata": {},
   "outputs": [
    {
     "data": {
      "text/plain": [
       "array([[ 1.,  0.,  0., -8.],\n",
       "       [ 0.,  1.,  0.,  0.],\n",
       "       [ 0.,  0.,  1.,  0.],\n",
       "       [-8.,  0.,  0.,  1.]])"
      ]
     },
     "execution_count": 23,
     "metadata": {},
     "output_type": "execute_result"
    }
   ],
   "source": [
    "r(0,3,f2[0,0],-f2[3,0])"
   ]
  },
  {
   "cell_type": "code",
   "execution_count": 24,
   "id": "54a7eb76",
   "metadata": {},
   "outputs": [
    {
     "data": {
      "text/plain": [
       "array([[ 1.000e+00,  2.000e+00,  3.000e+00,  4.000e+00],\n",
       "       [ 3.658e+03,  3.900e+03,  4.142e+03,  4.384e+03],\n",
       "       [ 4.000e+00,  0.000e+00, -4.000e+00, -8.000e+00],\n",
       "       [ 8.000e+00,  0.000e+00, -8.000e+00, -1.600e+01]])"
      ]
     },
     "execution_count": 24,
     "metadata": {},
     "output_type": "execute_result"
    }
   ],
   "source": [
    "f2"
   ]
  },
  {
   "cell_type": "code",
   "execution_count": 46,
   "id": "0fe63e4f",
   "metadata": {},
   "outputs": [
    {
     "data": {
      "text/plain": [
       "array([[ 1.00000000e+00,  2.23711432e-17,  0.00000000e+00,\n",
       "         0.00000000e+00],\n",
       "       [ 2.23711432e-17,  1.00000000e+00,  0.00000000e+00,\n",
       "         0.00000000e+00],\n",
       "       [ 0.00000000e+00,  0.00000000e+00,  1.00000000e+00,\n",
       "        -2.23711432e-17],\n",
       "       [ 0.00000000e+00,  0.00000000e+00,  2.23711432e-17,\n",
       "        -1.00000000e+00]])"
      ]
     },
     "execution_count": 46,
     "metadata": {},
     "output_type": "execute_result"
    }
   ],
   "source": [
    "ry = 1/np.sqrt(2)*np.array( [[1,1,0,0],[-1,1,0,0],[0,0,1,1],[0,0,-1,1]] )\n",
    "rym = 1/np.sqrt(2)*np.array( [[1,-1,0,0],[1,1,0,0],[0,0,1,-1],[0,0,1,1]] )\n",
    "cx = np.array( [[1,0,0,0],[0,1,0,0],[0,0,0,1],[0,0,1,0]] )\n",
    "np.dot(ry,np.dot(cx,rym))"
   ]
  },
  {
   "cell_type": "code",
   "execution_count": 49,
   "id": "a6f7a5f5",
   "metadata": {},
   "outputs": [
    {
     "data": {
      "text/plain": [
       "array([[ 2,  0,  0,  0],\n",
       "       [ 0,  0,  0,  0],\n",
       "       [ 0,  0,  0,  0],\n",
       "       [ 0,  0,  0, -2]])"
      ]
     },
     "execution_count": 49,
     "metadata": {},
     "output_type": "execute_result"
    }
   ],
   "source": [
    "z1 = np.array( [[1,0,0,0],[0,-1,0,0],[0,0,1,0],[0,0,0,-1]] )\n",
    "z2 = np.array( [[1,0,0,0],[0,1,0,0],[0,0,-1,0],[0,0,0,-1]] )\n",
    "\n",
    "z1+z2"
   ]
  },
  {
   "cell_type": "code",
   "execution_count": 59,
   "id": "77b96a4b",
   "metadata": {},
   "outputs": [
    {
     "data": {
      "text/plain": [
       "array([[ 1.,  0.,  0.,  0.],\n",
       "       [ 0.,  1.,  0.,  0.],\n",
       "       [ 0.,  0.,  1.,  0.],\n",
       "       [ 0.,  0.,  0., -1.]])"
      ]
     },
     "execution_count": 59,
     "metadata": {},
     "output_type": "execute_result"
    }
   ],
   "source": [
    "1/2*(np.identity(4) - np.dot(z1,z2) + z1+ z2)"
   ]
  },
  {
   "cell_type": "code",
   "execution_count": 61,
   "id": "85e479e0",
   "metadata": {},
   "outputs": [
    {
     "data": {
      "text/plain": [
       "array([[0.+2.j, 0.+0.j, 0.+0.j, 0.+0.j],\n",
       "       [0.+0.j, 2.+0.j, 0.+0.j, 0.+0.j],\n",
       "       [0.+0.j, 0.+0.j, 2.+0.j, 0.+0.j],\n",
       "       [0.+0.j, 0.+0.j, 0.+0.j, 0.-2.j]])"
      ]
     },
     "execution_count": 61,
     "metadata": {},
     "output_type": "execute_result"
    }
   ],
   "source": [
    "np.dot((np.identity(4)+1j*z1),(np.identity(4)+1j*z2))"
   ]
  },
  {
   "cell_type": "code",
   "execution_count": null,
   "id": "5b08ec27",
   "metadata": {},
   "outputs": [],
   "source": []
  }
 ],
 "metadata": {
  "kernelspec": {
   "display_name": "qiskit_3.5",
   "language": "python",
   "name": "qiskit_3.5"
  },
  "language_info": {
   "codemirror_mode": {
    "name": "ipython",
    "version": 3
   },
   "file_extension": ".py",
   "mimetype": "text/x-python",
   "name": "python",
   "nbconvert_exporter": "python",
   "pygments_lexer": "ipython3",
   "version": "3.10.4"
  },
  "toc": {
   "base_numbering": 1,
   "nav_menu": {},
   "number_sections": true,
   "sideBar": true,
   "skip_h1_title": false,
   "title_cell": "Table of Contents",
   "title_sidebar": "Contents",
   "toc_cell": false,
   "toc_position": {},
   "toc_section_display": true,
   "toc_window_display": false
  }
 },
 "nbformat": 4,
 "nbformat_minor": 5
}
