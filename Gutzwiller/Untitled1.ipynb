{
 "cells": [
  {
   "cell_type": "markdown",
   "id": "891fd8e8",
   "metadata": {},
   "source": []
  },
  {
   "cell_type": "code",
   "execution_count": 1,
   "id": "a5ac620f",
   "metadata": {},
   "outputs": [],
   "source": [
    "K = [[0,1,0,1,1,0,1,0],[1,0,1,0,0,1,0,1],[0,1,0,1,1,0,1,0],[1,0,1,0,0,1,0,1],[1,0,1,0,0,1,0,1],[0,1,0,1,1,0,1,0],[1,0,1,0,0,1,0,1],[0,1,0,1,1,0,1,0]]\n"
   ]
  },
  {
   "cell_type": "code",
   "execution_count": 23,
   "id": "e4069d69",
   "metadata": {},
   "outputs": [
    {
     "data": {
      "text/plain": [
       "array([ 3.14018492e-16,  3.38613783e-16, -8.16496581e-01, -1.12871261e-16,\n",
       "       -1.12871261e-16,  4.08248290e-01, -1.12871261e-16,  4.08248290e-01])"
      ]
     },
     "execution_count": 23,
     "metadata": {},
     "output_type": "execute_result"
    }
   ],
   "source": [
    "import pandas as pd\n",
    "import scipy.linalg as ln\n",
    "import numpy as np\n",
    "\n",
    "e,y = ln.eig(K)\n",
    "psi = np.transpose(y)\n",
    "\n",
    "psi[7]"
   ]
  },
  {
   "cell_type": "code",
   "execution_count": 9,
   "id": "b1e139a6",
   "metadata": {},
   "outputs": [
    {
     "data": {
      "text/plain": [
       "array([-2.00000000e+00+0.j,  6.59737022e-17+0.j,  2.00000000e+00+0.j,\n",
       "        0.00000000e+00+0.j])"
      ]
     },
     "execution_count": 9,
     "metadata": {},
     "output_type": "execute_result"
    }
   ],
   "source": [
    "T = [[0,1,0,1],[1,0,1,0],[0,1,0,1],[1,0,1,0]]\n",
    "\n",
    "e,y = ln.eig(T)\n",
    "\n",
    "e"
   ]
  },
  {
   "cell_type": "code",
   "execution_count": null,
   "id": "9b34c713",
   "metadata": {},
   "outputs": [],
   "source": []
  }
 ],
 "metadata": {
  "kernelspec": {
   "display_name": "qiskit_3.5",
   "language": "python",
   "name": "qiskit_3.5"
  },
  "language_info": {
   "codemirror_mode": {
    "name": "ipython",
    "version": 3
   },
   "file_extension": ".py",
   "mimetype": "text/x-python",
   "name": "python",
   "nbconvert_exporter": "python",
   "pygments_lexer": "ipython3",
   "version": "3.10.4"
  },
  "toc": {
   "base_numbering": 1,
   "nav_menu": {},
   "number_sections": true,
   "sideBar": true,
   "skip_h1_title": false,
   "title_cell": "Table of Contents",
   "title_sidebar": "Contents",
   "toc_cell": false,
   "toc_position": {},
   "toc_section_display": true,
   "toc_window_display": false
  }
 },
 "nbformat": 4,
 "nbformat_minor": 5
}
