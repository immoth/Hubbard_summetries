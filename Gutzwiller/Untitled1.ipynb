{
 "cells": [
  {
   "cell_type": "markdown",
   "id": "891fd8e8",
   "metadata": {},
   "source": []
  },
  {
   "cell_type": "code",
   "execution_count": 1,
   "id": "a5ac620f",
   "metadata": {},
   "outputs": [],
   "source": [
    "K = [[0,1,0,1,1,0,1,0],[1,0,1,0,0,1,0,1],[0,1,0,1,1,0,1,0],[1,0,1,0,0,1,0,1],[1,0,1,0,0,1,0,1],[0,1,0,1,1,0,1,0],[1,0,1,0,0,1,0,1],[0,1,0,1,1,0,1,0]]\n"
   ]
  },
  {
   "cell_type": "code",
   "execution_count": 3,
   "id": "e4069d69",
   "metadata": {},
   "outputs": [],
   "source": [
    "import pandas as pd\n",
    "import scipy.linalg as ln\n",
    "import numpy as np\n",
    "\n",
    "e,y = ln.eig(K)\n",
    "psi = np.transpose(y)\n",
    "\n"
   ]
  },
  {
   "cell_type": "code",
   "execution_count": 4,
   "id": "c296ea92",
   "metadata": {},
   "outputs": [
    {
     "data": {
      "text/html": [
       "<div>\n",
       "<style scoped>\n",
       "    .dataframe tbody tr th:only-of-type {\n",
       "        vertical-align: middle;\n",
       "    }\n",
       "\n",
       "    .dataframe tbody tr th {\n",
       "        vertical-align: top;\n",
       "    }\n",
       "\n",
       "    .dataframe thead th {\n",
       "        text-align: right;\n",
       "    }\n",
       "</style>\n",
       "<table border=\"1\" class=\"dataframe\">\n",
       "  <thead>\n",
       "    <tr style=\"text-align: right;\">\n",
       "      <th></th>\n",
       "      <th>0</th>\n",
       "      <th>1</th>\n",
       "      <th>2</th>\n",
       "      <th>3</th>\n",
       "      <th>4</th>\n",
       "      <th>5</th>\n",
       "      <th>6</th>\n",
       "      <th>7</th>\n",
       "    </tr>\n",
       "  </thead>\n",
       "  <tbody>\n",
       "    <tr>\n",
       "      <th>0</th>\n",
       "      <td>0</td>\n",
       "      <td>1</td>\n",
       "      <td>0</td>\n",
       "      <td>1</td>\n",
       "      <td>1</td>\n",
       "      <td>0</td>\n",
       "      <td>1</td>\n",
       "      <td>0</td>\n",
       "    </tr>\n",
       "    <tr>\n",
       "      <th>1</th>\n",
       "      <td>1</td>\n",
       "      <td>0</td>\n",
       "      <td>1</td>\n",
       "      <td>0</td>\n",
       "      <td>0</td>\n",
       "      <td>1</td>\n",
       "      <td>0</td>\n",
       "      <td>1</td>\n",
       "    </tr>\n",
       "    <tr>\n",
       "      <th>2</th>\n",
       "      <td>0</td>\n",
       "      <td>1</td>\n",
       "      <td>0</td>\n",
       "      <td>1</td>\n",
       "      <td>1</td>\n",
       "      <td>0</td>\n",
       "      <td>1</td>\n",
       "      <td>0</td>\n",
       "    </tr>\n",
       "    <tr>\n",
       "      <th>3</th>\n",
       "      <td>1</td>\n",
       "      <td>0</td>\n",
       "      <td>1</td>\n",
       "      <td>0</td>\n",
       "      <td>0</td>\n",
       "      <td>1</td>\n",
       "      <td>0</td>\n",
       "      <td>1</td>\n",
       "    </tr>\n",
       "    <tr>\n",
       "      <th>4</th>\n",
       "      <td>1</td>\n",
       "      <td>0</td>\n",
       "      <td>1</td>\n",
       "      <td>0</td>\n",
       "      <td>0</td>\n",
       "      <td>1</td>\n",
       "      <td>0</td>\n",
       "      <td>1</td>\n",
       "    </tr>\n",
       "    <tr>\n",
       "      <th>5</th>\n",
       "      <td>0</td>\n",
       "      <td>1</td>\n",
       "      <td>0</td>\n",
       "      <td>1</td>\n",
       "      <td>1</td>\n",
       "      <td>0</td>\n",
       "      <td>1</td>\n",
       "      <td>0</td>\n",
       "    </tr>\n",
       "    <tr>\n",
       "      <th>6</th>\n",
       "      <td>1</td>\n",
       "      <td>0</td>\n",
       "      <td>1</td>\n",
       "      <td>0</td>\n",
       "      <td>0</td>\n",
       "      <td>1</td>\n",
       "      <td>0</td>\n",
       "      <td>1</td>\n",
       "    </tr>\n",
       "    <tr>\n",
       "      <th>7</th>\n",
       "      <td>0</td>\n",
       "      <td>1</td>\n",
       "      <td>0</td>\n",
       "      <td>1</td>\n",
       "      <td>1</td>\n",
       "      <td>0</td>\n",
       "      <td>1</td>\n",
       "      <td>0</td>\n",
       "    </tr>\n",
       "  </tbody>\n",
       "</table>\n",
       "</div>"
      ],
      "text/plain": [
       "   0  1  2  3  4  5  6  7\n",
       "0  0  1  0  1  1  0  1  0\n",
       "1  1  0  1  0  0  1  0  1\n",
       "2  0  1  0  1  1  0  1  0\n",
       "3  1  0  1  0  0  1  0  1\n",
       "4  1  0  1  0  0  1  0  1\n",
       "5  0  1  0  1  1  0  1  0\n",
       "6  1  0  1  0  0  1  0  1\n",
       "7  0  1  0  1  1  0  1  0"
      ]
     },
     "execution_count": 4,
     "metadata": {},
     "output_type": "execute_result"
    }
   ],
   "source": [
    "pd.DataFrame(K)"
   ]
  },
  {
   "cell_type": "code",
   "execution_count": 7,
   "id": "0d7ddb53",
   "metadata": {},
   "outputs": [
    {
     "data": {
      "text/plain": [
       "array([[0, 0, 0, 0, 0, 0, 0, 0],\n",
       "       [0, 0, 0, 0, 0, 0, 0, 0],\n",
       "       [0, 0, 0, 0, 0, 0, 0, 0],\n",
       "       [0, 0, 0, 0, 0, 0, 0, 0],\n",
       "       [0, 0, 0, 0, 0, 0, 0, 0],\n",
       "       [0, 0, 0, 0, 0, 0, 0, 0],\n",
       "       [0, 0, 0, 0, 0, 0, 0, 0],\n",
       "       [0, 0, 0, 0, 0, 0, 0, 0]])"
      ]
     },
     "execution_count": 7,
     "metadata": {},
     "output_type": "execute_result"
    }
   ],
   "source": [
    "k=1\n",
    "\n",
    "h = [[0 for i in range(8)] for j in range(8)]\n",
    "h[0][1] = k;  h[0][3] = k;  h[0][4] = k;  h[0][6] = k;\n",
    "h[1][0] = k;  h[1][2] = k;  h[1][5] = k;  h[1][7] = k;\n",
    "h[2][1] = k;  h[2][3] = k;  h[2][4] = k;  h[2][6] = k;\n",
    "h[3][0] = k;  h[3][2] = k;  h[3][5] = k;  h[3][7] = k;\n",
    "h[4][0] = k;  h[4][2] = k;  h[4][5] = k;  h[4][7] = k;\n",
    "h[5][1] = k;  h[5][3] = k;  h[5][4] = k;  h[5][6] = k;\n",
    "h[6][0] = k;  h[6][2] = k;  h[6][5] = k;  h[6][7] = k;\n",
    "h[7][1] = k;  h[7][3] = k;  h[7][4] = k;  h[7][6] = k;\n",
    "\n",
    "\n",
    "np.array(h)-np.array(K)"
   ]
  },
  {
   "cell_type": "code",
   "execution_count": 11,
   "id": "d1b7ddbf",
   "metadata": {},
   "outputs": [],
   "source": [
    "nbrs = [[0,1],[0,3],[0,4],[0,6],\n",
    "        [1,0],[1,2],[1,5],[1,7],\n",
    "        [2,1],[2,3],[2,4],[2,6],\n",
    "        [3,0],[3,2],[3,5],[3,7],\n",
    "        [4,0],[4,2],[4,5],[4,7],\n",
    "        [5,1],[5,3],[5,4],[5,6],\n",
    "        [6,0],[6,2],[6,5],[6,7],\n",
    "        [7,1],[7,3],[7,4],[7,6]]"
   ]
  },
  {
   "cell_type": "code",
   "execution_count": 14,
   "id": "bb7ab4aa",
   "metadata": {},
   "outputs": [
    {
     "data": {
      "text/plain": [
       "array([[0, 0, 0, 0, 0, 0, 0, 0],\n",
       "       [0, 0, 0, 0, 0, 0, 0, 0],\n",
       "       [0, 0, 0, 0, 0, 0, 0, 0],\n",
       "       [0, 0, 0, 0, 0, 0, 0, 0],\n",
       "       [0, 0, 0, 0, 0, 0, 0, 0],\n",
       "       [0, 0, 0, 0, 0, 0, 0, 0],\n",
       "       [0, 0, 0, 0, 0, 0, 0, 0],\n",
       "       [0, 0, 0, 0, 0, 0, 0, 0]])"
      ]
     },
     "execution_count": 14,
     "metadata": {},
     "output_type": "execute_result"
    }
   ],
   "source": [
    "k=1\n",
    "\n",
    "h = [[0 for i in range(8)] for j in range(8)]\n",
    "for pair in nbrs:\n",
    "    h[pair[0]][pair[1]] = k\n",
    "    \n",
    "np.array(h)-K"
   ]
  },
  {
   "cell_type": "code",
   "execution_count": 31,
   "id": "d608bf65",
   "metadata": {},
   "outputs": [],
   "source": [
    "N=8\n",
    "pauli = ''\n",
    "for i in range(N):\n",
    "    pauli = pauli + 'Z'\n",
    "paulis = [pauli]\n",
    "for pair in nbrs:\n",
    "    if pair[0] < pair[1]:\n",
    "        pauliX = ''\n",
    "        pauliY = ''\n",
    "        nonp = 'I'\n",
    "        for i in range(N):\n",
    "            if i == pair[0]:\n",
    "                pauliX = pauliX + 'X'\n",
    "                pauliY = pauliY + 'Y'\n",
    "                nonp = 'Z'\n",
    "            elif i == pair[1]:\n",
    "                pauliX = pauliX + 'X'\n",
    "                pauliY = pauliY + 'Y'\n",
    "                nonp = 'I'\n",
    "            else:\n",
    "                pauliX = pauliX + nonp\n",
    "                pauliY = pauliY + nonp\n",
    "        paulis.append(pauliX)\n",
    "        paulis.append(pauliY)"
   ]
  },
  {
   "cell_type": "code",
   "execution_count": 32,
   "id": "f7026d28",
   "metadata": {},
   "outputs": [
    {
     "data": {
      "text/plain": [
       "['ZZZZZZZZ',\n",
       " 'XXIIIIII',\n",
       " 'YYIIIIII',\n",
       " 'XZZXIIII',\n",
       " 'YZZYIIII',\n",
       " 'XZZZXIII',\n",
       " 'YZZZYIII',\n",
       " 'XZZZZZXI',\n",
       " 'YZZZZZYI',\n",
       " 'IXXIIIII',\n",
       " 'IYYIIIII',\n",
       " 'IXZZZXII',\n",
       " 'IYZZZYII',\n",
       " 'IXZZZZZX',\n",
       " 'IYZZZZZY',\n",
       " 'IIXXIIII',\n",
       " 'IIYYIIII',\n",
       " 'IIXZXIII',\n",
       " 'IIYZYIII',\n",
       " 'IIXZZZXI',\n",
       " 'IIYZZZYI',\n",
       " 'IIIXZXII',\n",
       " 'IIIYZYII',\n",
       " 'IIIXZZZX',\n",
       " 'IIIYZZZY',\n",
       " 'IIIIXXII',\n",
       " 'IIIIYYII',\n",
       " 'IIIIXZZX',\n",
       " 'IIIIYZZY',\n",
       " 'IIIIIXXI',\n",
       " 'IIIIIYYI',\n",
       " 'IIIIIIXX',\n",
       " 'IIIIIIYY']"
      ]
     },
     "execution_count": 32,
     "metadata": {},
     "output_type": "execute_result"
    }
   ],
   "source": [
    "paulis"
   ]
  },
  {
   "cell_type": "code",
   "execution_count": 35,
   "id": "1afc3715",
   "metadata": {},
   "outputs": [
    {
     "name": "stdout",
     "output_type": "stream",
     "text": [
      "no\n"
     ]
    }
   ],
   "source": [
    "tst = 5\n",
    "if tst not in [4,8]:\n",
    "    print('no')"
   ]
  },
  {
   "cell_type": "code",
   "execution_count": null,
   "id": "0c157baa",
   "metadata": {},
   "outputs": [],
   "source": []
  }
 ],
 "metadata": {
  "kernelspec": {
   "display_name": "qiskit_3.5",
   "language": "python",
   "name": "qiskit_3.5"
  },
  "language_info": {
   "codemirror_mode": {
    "name": "ipython",
    "version": 3
   },
   "file_extension": ".py",
   "mimetype": "text/x-python",
   "name": "python",
   "nbconvert_exporter": "python",
   "pygments_lexer": "ipython3",
   "version": "3.10.4"
  },
  "toc": {
   "base_numbering": 1,
   "nav_menu": {},
   "number_sections": true,
   "sideBar": true,
   "skip_h1_title": false,
   "title_cell": "Table of Contents",
   "title_sidebar": "Contents",
   "toc_cell": false,
   "toc_position": {},
   "toc_section_display": true,
   "toc_window_display": false
  }
 },
 "nbformat": 4,
 "nbformat_minor": 5
}
