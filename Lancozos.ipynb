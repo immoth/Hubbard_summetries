{
 "cells": [
  {
   "cell_type": "markdown",
   "metadata": {},
   "source": [
    "# Decomposing the Heisenberg model using symmeteries\n",
    "\n",
    "## Following https://arxiv.org/pdf/1101.3281.pdf"
   ]
  },
  {
   "cell_type": "code",
   "execution_count": 5,
   "metadata": {},
   "outputs": [],
   "source": [
    "from qiskit import quantum_info as qi\n",
    "import numpy as np\n",
    "import pandas as pd\n",
    "pd.options.display.float_format = '{:,.1f}'.format"
   ]
  },
  {
   "cell_type": "code",
   "execution_count": 6,
   "metadata": {},
   "outputs": [],
   "source": [
    "def I0(L):\n",
    "    label = \"\"\n",
    "    for i in range(0,L):\n",
    "        label += \"I\"\n",
    "    return qi.Operator.from_label(label).data\n",
    "\n",
    "def Sx(l,L):\n",
    "    label = \"\"\n",
    "    for i in range(0,l):\n",
    "        label += \"I\"\n",
    "    label += \"X\"\n",
    "    for i in range(l+1,L):\n",
    "        label += \"I\"\n",
    "    return qi.Operator.from_label(label).data\n",
    "\n",
    "def Sy(l,L):\n",
    "    label = \"\"\n",
    "    for i in range(0,l):\n",
    "        label += \"I\"\n",
    "    label += \"Y\"\n",
    "    for i in range(l+1,L):\n",
    "        label += \"I\"\n",
    "    return qi.Operator.from_label(label).data\n",
    "\n",
    "def Sz(l,L):\n",
    "    label = \"\"\n",
    "    for i in range(0,l):\n",
    "        label += \"I\"\n",
    "    label += \"Z\"\n",
    "    for i in range(l+1,L):\n",
    "        label += \"I\"\n",
    "    return qi.Operator.from_label(label).data\n",
    "    \n",
    "def Sp(l,L):\n",
    "    return Sx(0,L)+Sy(0,L)\n",
    "\n",
    "def Sm(l,L):\n",
    "    return Sx(0,L)-Sy(0,L)"
   ]
  },
  {
   "cell_type": "code",
   "execution_count": 23,
   "metadata": {},
   "outputs": [],
   "source": [
    "#Computes the braket of an operator <psi_a| U |psi_b>\n",
    "def bkt(psi_a,U,psi_b):\n",
    "    return np.dot(np.conjugate(psi_a),np.dot(U,psi_b))\n",
    "\n",
    "#Computes the dot product of matrices and vectors in a list\n",
    "def Mdot(Ol):\n",
    "    m = Ol[0]\n",
    "    for i in range(1,len(Ol)):\n",
    "        m = np.dot(Ol[i],m)\n",
    "    return m"
   ]
  },
  {
   "cell_type": "code",
   "execution_count": 21,
   "metadata": {},
   "outputs": [],
   "source": [
    "def Hf(Jx,Jy,Jz,L):\n",
    "    h=0\n",
    "    for i in range(0,L-1):\n",
    "        h+= Jx*np.dot(Sz(i,L),Sz(i+1,L))\n",
    "        h+= Jy*np.dot(Sx(i,L),Sx(i+1,L))\n",
    "        h+= Jz*np.dot(Sy(i,L),Sy(i+1,L))\n",
    "    h+= Jx*np.dot(Sz(L-1,L),Sz(0,L))\n",
    "    h+= Jy*np.dot(Sx(L-1,L),Sx(0,L))\n",
    "    h+= Jz*np.dot(Sy(L-1,L),Sy(0,L))\n",
    "    return h\n",
    "        "
   ]
  },
  {
   "cell_type": "code",
   "execution_count": 58,
   "metadata": {},
   "outputs": [],
   "source": [
    "from random import random\n",
    "\n",
    "N = 4\n",
    "H = Hf(0.1,0.2,0.3,N)\n",
    "v0t = np.array([random() for i in range(0,2**N)])\n",
    "\n",
    "v0 = v0t/np.sqrt(bkt(v0t,I0(N),v0t))\n",
    "a0 = bkt(v0,H,v0)\n",
    "\n",
    "v1t = Mdot([H,v0]) - a0*v0\n",
    "b1 = np.sqrt(bkt(v1t,I0(N),v1t))\n",
    "v1 = (1/b1)*v1t\n",
    "a1 = bkt(v1,H,v1)\n",
    " \n",
    "v2t = Mdot([H,v1]) - a1*v1 - b1*v0\n",
    "b2 = np.sqrt(bkt(v2t,I0(N),v2t))\n",
    "v2 = (1/b2)*v2t\n",
    "a2 = bkt(v2,H,v2)\n",
    "\n",
    "v3t = Mdot([H,v2]) - a2*v2 - b2*v1\n",
    "b3 = np.sqrt(bkt(v3t,I0(N),v3t))\n",
    "v3 = (1/b3)*v3t\n",
    "a3 = bkt(v3,H,v3)"
   ]
  },
  {
   "cell_type": "code",
   "execution_count": 101,
   "metadata": {},
   "outputs": [],
   "source": [
    "#Set Hamiltonian\n",
    "N = 4\n",
    "H = Hf(0.1,0.2,0.3,N)\n",
    "\n",
    "#Define containers\n",
    "vt_l = []\n",
    "v_l = []\n",
    "a_l = []\n",
    "b_l = []\n",
    "\n",
    "#Initialize\n",
    "v0t = np.array([random() for i in range(0,2**N)])\n",
    "v0 = v0t/np.sqrt(bkt(v0t,I0(N),v0t))\n",
    "a0 = bkt(v0,H,v0)\n",
    "vt_l.append(v0t)\n",
    "v_l.append(v0)\n",
    "a_l.append(a0)\n",
    "b_l.append(0)\n",
    "\n",
    "#first step\n",
    "v1t = Mdot([H,v0]) - a0*v0\n",
    "b1 = np.sqrt(bkt(v1t,I0(N),v1t))\n",
    "v1 = (1/b1)*v1t\n",
    "a1 = bkt(v1,H,v1)\n",
    "vt_l.append(v1t)\n",
    "v_l.append(v1)\n",
    "a_l.append(a1)\n",
    "b_l.append(b1)\n",
    "\n",
    "\n",
    "\n",
    "#Iterate through further steps\n",
    "for i in range(2,10):\n",
    "    vit = Mdot([H,v_l[i-1]]) - a_l[i-1]*v_l[i-1] - b_l[i-1]*v_l[i-2]\n",
    "    bi = np.sqrt(bkt(vit,I0(N),vit))\n",
    "    vi = (1/bi)*vit\n",
    "    ai = bkt(vi,H,vi)\n",
    "    vt_l.append(vit)\n",
    "    v_l.append(vi)\n",
    "    a_l.append(ai)\n",
    "    b_l.append(bi)\n",
    "b_l = np.delete(b_l,0)"
   ]
  },
  {
   "cell_type": "code",
   "execution_count": 103,
   "metadata": {},
   "outputs": [],
   "source": [
    "from scipy.linalg import eigh_tridiagonal \n",
    "\n",
    "e,y = eigh_tridiagonal(np.real(a_l),np.real(b_l))"
   ]
  },
  {
   "cell_type": "code",
   "execution_count": 106,
   "metadata": {},
   "outputs": [],
   "source": [
    "from scipy.linalg import eig\n",
    "\n",
    "e0,y0 = eig(H)"
   ]
  },
  {
   "cell_type": "code",
   "execution_count": 107,
   "metadata": {},
   "outputs": [
    {
     "data": {
      "text/plain": [
       "array([-1.64523623e+00+0.00000000e+00j,  1.28076471e+00+0.00000000e+00j,\n",
       "        3.64471523e-01+0.00000000e+00j,  4.00000000e-01+0.00000000e+00j,\n",
       "       -1.20000000e+00+0.00000000e+00j, -8.00000000e-01+0.00000000e+00j,\n",
       "        1.20000000e+00+0.00000000e+00j,  8.00000000e-01+0.00000000e+00j,\n",
       "       -8.92023574e-17+0.00000000e+00j, -1.46122710e-18+0.00000000e+00j,\n",
       "       -4.00000000e-01+0.00000000e+00j, -6.75458196e-18+4.81482486e-34j,\n",
       "        1.48243981e-17+1.96389829e-18j,  1.48243981e-17-1.96389829e-18j,\n",
       "        2.56615572e-18+7.65534257e-37j,  5.70213702e-34+0.00000000e+00j])"
      ]
     },
     "execution_count": 107,
     "metadata": {},
     "output_type": "execute_result"
    }
   ],
   "source": [
    "e0"
   ]
  },
  {
   "cell_type": "code",
   "execution_count": 108,
   "metadata": {},
   "outputs": [
    {
     "data": {
      "text/plain": [
       "array([-1.64523623e+00, -1.20000000e+00, -8.00000000e-01, -4.00000000e-01,\n",
       "        2.22044605e-16,  3.64471523e-01,  4.00000000e-01,  8.00000000e-01,\n",
       "        1.20000000e+00,  1.28076471e+00])"
      ]
     },
     "execution_count": 108,
     "metadata": {},
     "output_type": "execute_result"
    }
   ],
   "source": [
    "e"
   ]
  },
  {
   "cell_type": "code",
   "execution_count": 116,
   "metadata": {},
   "outputs": [],
   "source": [
    "#Set Hamiltonian\n",
    "N = 7\n",
    "H = Hf(0.1,0.2,0.3,N)\n",
    "\n",
    "#Define containers\n",
    "e_l = []\n",
    "t_l = []\n",
    "\n",
    "for T in range(2,20):\n",
    "    vt_l = []\n",
    "    v_l = []\n",
    "    a_l = []\n",
    "    b_l = []\n",
    "\n",
    "    #Initialize\n",
    "    v0t = np.array([random() for i in range(0,2**N)])\n",
    "    v0 = v0t/np.sqrt(bkt(v0t,I0(N),v0t))\n",
    "    a0 = bkt(v0,H,v0)\n",
    "    vt_l.append(v0t)\n",
    "    v_l.append(v0)\n",
    "    a_l.append(a0)\n",
    "    b_l.append(0)\n",
    "\n",
    "    #first step\n",
    "    v1t = Mdot([H,v0]) - a0*v0\n",
    "    b1 = np.sqrt(bkt(v1t,I0(N),v1t))\n",
    "    v1 = (1/b1)*v1t\n",
    "    a1 = bkt(v1,H,v1)\n",
    "    vt_l.append(v1t)\n",
    "    v_l.append(v1)\n",
    "    a_l.append(a1)\n",
    "    b_l.append(b1)\n",
    "\n",
    "\n",
    "\n",
    "    #Iterate through further steps\n",
    "    for i in range(2,T):\n",
    "        vit = Mdot([H,v_l[i-1]]) - a_l[i-1]*v_l[i-1] - b_l[i-1]*v_l[i-2]\n",
    "        bi = np.sqrt(bkt(vit,I0(N),vit))\n",
    "        vi = (1/bi)*vit\n",
    "        ai = bkt(vi,H,vi)\n",
    "        vt_l.append(vit)\n",
    "        v_l.append(vi)\n",
    "        a_l.append(ai)\n",
    "        b_l.append(bi)\n",
    "    b_l = np.delete(b_l,0)\n",
    "    e,y = eigh_tridiagonal(np.real(a_l),np.real(b_l))\n",
    "    e_l.append(e[0])\n",
    "    t_l.append(T)"
   ]
  },
  {
   "cell_type": "code",
   "execution_count": 117,
   "metadata": {},
   "outputs": [
    {
     "data": {
      "text/plain": [
       "[<matplotlib.lines.Line2D at 0x26aca8bebb0>]"
      ]
     },
     "execution_count": 117,
     "metadata": {},
     "output_type": "execute_result"
    },
    {
     "data": {
      "image/png": "[encoded data removed]",
      "text/plain": [
       "<Figure size 432x288 with 1 Axes>"
      ]
     },
     "metadata": {
      "needs_background": "light"
     },
     "output_type": "display_data"
    }
   ],
   "source": [
    "import matplotlib.pyplot as plt\n",
    "\n",
    "plt.plot(t_l,e_l)"
   ]
  },
  {
   "cell_type": "code",
   "execution_count": null,
   "metadata": {},
   "outputs": [],
   "source": []
  }
 ],
 "metadata": {
  "kernelspec": {
   "display_name": "Python [conda env:qiskit20_new]",
   "language": "python",
   "name": "conda-env-qiskit20_new-py"
  },
  "language_info": {
   "codemirror_mode": {
    "name": "ipython",
    "version": 3
   },
   "file_extension": ".py",
   "mimetype": "text/x-python",
   "name": "python",
   "nbconvert_exporter": "python",
   "pygments_lexer": "ipython3",
   "version": "3.8.5"
  }
 },
 "nbformat": 4,
 "nbformat_minor": 4
}
