{
 "cells": [
  {
   "cell_type": "code",
   "execution_count": 9,
   "id": "be58a500",
   "metadata": {},
   "outputs": [],
   "source": [
    "import numpy as np\n",
    "\n",
    "g = 1.4\n",
    "u = 0.3\n",
    "def Hs(n1,n2,g,u):\n",
    "    return [[u*n1,g],[g,u*n2]]"
   ]
  },
  {
   "cell_type": "code",
   "execution_count": 11,
   "id": "04fbbff6",
   "metadata": {},
   "outputs": [
    {
     "data": {
      "text/plain": [
       "[array([-0.91468968,  1.90468968]),\n",
       " array([[-0.74734431,  0.66443697],\n",
       "        [-0.66443697, -0.74734431]])]"
      ]
     },
     "execution_count": 11,
     "metadata": {},
     "output_type": "execute_result"
    }
   ],
   "source": [
    "def eigs(n1,n2,g,u):\n",
    "    e,y = np.linalg.eig(Hs(n1,n2,g,u))\n",
    "    psi = np.transpose(y)\n",
    "    return [e,psi]\n",
    "\n",
    "eigs(1.1,2.2,g,u)"
   ]
  },
  {
   "cell_type": "code",
   "execution_count": 13,
   "id": "0a5dfb23",
   "metadata": {},
   "outputs": [
    {
     "data": {
      "text/plain": [
       "[1.9046896821641277, -0.9146896821641278]"
      ]
     },
     "execution_count": 13,
     "metadata": {},
     "output_type": "execute_result"
    }
   ],
   "source": [
    "def E(n1,n2,g,y):\n",
    "    ep = u/2*(n1+n2) + np.sqrt(u**2/4*(n1 - n2)**2 + g**2)\n",
    "    em = u/2*(n1+n2) - np.sqrt(u**2/4*(n1 - n2)**2 + g**2)\n",
    "    return [ep,em]\n",
    "\n",
    "E(1.1,2.2,g,u)"
   ]
  },
  {
   "cell_type": "code",
   "execution_count": 24,
   "id": "6f7d43de",
   "metadata": {},
   "outputs": [
    {
     "name": "stdout",
     "output_type": "stream",
     "text": [
      "Right Hand Side of Eigen\n",
      "[4.571 3.026]\n",
      "[4.571, 3.0260000000000002]\n",
      "Left Hand Side of Eigen\n",
      "[1.33328278 5.90453801]\n",
      "[1.3332827775148892, 5.9045380147087965]\n"
     ]
    }
   ],
   "source": [
    "n1 = 1.1\n",
    "n2 = 2.2\n",
    "y1 = 0.7\n",
    "y2 = 3.1\n",
    "\n",
    "print(\"Right Hand Side of Eigen\")\n",
    "print(np.dot(Hs(n1,n2,g,u),[y1,y2]))\n",
    "print([u*n1*y1 + g*y2, u*n2*y2 + g*y1])\n",
    "\n",
    "print(\"Left Hand Side of Eigen\")\n",
    "print(E(n1,n2,g,y)[0]*np.array([y1,y2]))\n",
    "print([y1*(u/2*(n1+n2) + np.sqrt(u**2/4*(n1 - n2)**2 + g**2)),y2*(u/2*(n1+n2) + np.sqrt(u**2/4*(n1 - n2)**2 + g**2))])"
   ]
  },
  {
   "cell_type": "code",
   "execution_count": 41,
   "id": "4234137f",
   "metadata": {},
   "outputs": [
    {
     "name": "stdout",
     "output_type": "stream",
     "text": [
      "+ state\n",
      "-1.1247783444029487\n",
      "-1.1247783444029484\n",
      "- state\n",
      "0.8890640586886627\n",
      "0.8890640586886627\n"
     ]
    }
   ],
   "source": [
    "#  u*n1*y1 + g*y2 == y1*(u/2*(n1+n2) + np.sqrt(u**2/4*(n1 - n2)**2 + g**2))\n",
    "# y2/y1 = 1/g*(u/2*(-n1+n2) + np.sqrt(u**2/4*(n1 - n2)**2 + g**2)\n",
    "\n",
    "psi = eigs(n1,n2,g,u)[1]\n",
    "\n",
    "print('+ state')\n",
    "print(psi[0][0]/psi[0][1])\n",
    "print(u/(2*g)*(n1-n2) - np.sqrt(u**2/(4*g**2)*(n1 - n2)**2 + 1))\n",
    "print('- state')\n",
    "print(psi[1][0]/psi[1][1])\n",
    "print(u/(2*g)*(n1-n2) + np.sqrt(u**2/(4*g**2)*(n1 - n2)**2 + 1))"
   ]
  },
  {
   "cell_type": "code",
   "execution_count": 44,
   "id": "d8c4cc54",
   "metadata": {},
   "outputs": [
    {
     "name": "stdout",
     "output_type": "stream",
     "text": [
      "square both sides\n",
      "1.0138903061224493\n",
      "1.013890306122449\n"
     ]
    }
   ],
   "source": [
    "print('square both sides')\n",
    "print(psi[0][0]**2/psi[0][1]**2 + u**2/(4*g**2)*(n1-n2)**2 - 2*psi[0][0]/psi[0][1]*u/(2*g)*(n1-n2))\n",
    "print(u**2/(4*g**2)*(n1 - n2)**2 + 1)"
   ]
  },
  {
   "cell_type": "code",
   "execution_count": 52,
   "id": "a754a0c3",
   "metadata": {},
   "outputs": [
    {
     "name": "stdout",
     "output_type": "stream",
     "text": [
      "simplify\n",
      "1.6653345369377348e-16\n",
      "0\n"
     ]
    }
   ],
   "source": [
    "print('simplify')\n",
    "print(psi[0][0]**2 - 2*psi[0][0]*psi[0][1]*u/(2*g)*(n1-n2) - psi[0][1]**2)\n",
    "print(0)"
   ]
  },
  {
   "cell_type": "code",
   "execution_count": 95,
   "id": "93b5d94f",
   "metadata": {},
   "outputs": [
    {
     "name": "stdout",
     "output_type": "stream",
     "text": [
      "Unpoloraized\n",
      "0.0\n",
      "0\n",
      "Simplified\n",
      "0.0\n",
      "0\n",
      "Use n2 = 1 - n1\n",
      "0.0\n",
      "0\n",
      "Simplify\n",
      "0.0\n",
      "0\n",
      "factor\n",
      "0.0\n",
      "0\n",
      "Solution\n",
      "n1 = 0.5\n",
      "0.0\n",
      "n1 = (0.5+2.101586702153082j)\n",
      "0j\n",
      "n1 = (0.5-2.101586702153082j)\n",
      "0j\n"
     ]
    }
   ],
   "source": [
    "# Unoolarized psi^2 = n\n",
    "n1=0.5\n",
    "n2 = 0.5\n",
    "print('Unpoloraized')\n",
    "print(n1 - 2*n1*n2*u/(2*g)*(n1-n2) - n2)\n",
    "print(0)\n",
    "\n",
    "print('Simplified')\n",
    "print(g/u*n1 - n1**2*n2 + n1*n2**2 - g/u*n2)\n",
    "print(0)\n",
    "\n",
    "print('Use n2 = 1 - n1')\n",
    "print(g/u*n1 - n1**2*(1-n1) + n1*(1-n1)**2 - g/u*(1-n1))\n",
    "print(0)\n",
    "\n",
    "print('Simplify')\n",
    "print(2*n1**3 - 3*n1**2  + (1+2*g/u)*n1 - g/u)\n",
    "print(0)\n",
    "\n",
    "print('factor')\n",
    "print((2*n1-1)*(n1**2 - n1 + g/u))\n",
    "print(0)\n",
    "\n",
    "print('Solution')\n",
    "n1 = 1/2\n",
    "print('n1 = ' + str(n1))\n",
    "print((2*n1-1)*(n1**2 - n1 + g/u))\n",
    "n1 = 1/2*(1+1j*np.sqrt(-1+4*g/u))\n",
    "print('n1 = ' + str(n1))\n",
    "print((2*n1-1)*(n1**2 - n1 + g/u))\n",
    "n1 = 1/2*(1-1j*np.sqrt(-1+4*g/u))\n",
    "print('n1 = ' + str(n1))\n",
    "print((2*n1-1)*(n1**2 - n1 + g/u))"
   ]
  },
  {
   "cell_type": "code",
   "execution_count": null,
   "id": "1b818410",
   "metadata": {},
   "outputs": [],
   "source": []
  }
 ],
 "metadata": {
  "kernelspec": {
   "display_name": "Python 3",
   "language": "python",
   "name": "python3"
  },
  "language_info": {
   "codemirror_mode": {
    "name": "ipython",
    "version": 3
   },
   "file_extension": ".py",
   "mimetype": "text/x-python",
   "name": "python",
   "nbconvert_exporter": "python",
   "pygments_lexer": "ipython3",
   "version": "3.9.5"
  }
 },
 "nbformat": 4,
 "nbformat_minor": 5
}
