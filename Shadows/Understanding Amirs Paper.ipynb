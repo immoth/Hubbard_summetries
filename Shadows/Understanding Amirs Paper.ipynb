{
 "cells": [
  {
   "cell_type": "markdown",
   "id": "619c60a5",
   "metadata": {},
   "source": [
    "# Understanding Amir's Paper\n",
    "\n"
   ]
  },
  {
   "cell_type": "markdown",
   "id": "8dd43ce8",
   "metadata": {},
   "source": [
    "# Density Matrix Kernal\n",
    "\n",
    "Equation (1) of the paper is a special case of the formula,\n",
    "$$ A = \\int dg Tr(A T(g))T^{\\dagger}(g) $$\n",
    "where $A$ is an arbitrary operator and $T(g)$ is a complete representation of the unitary operators for the Hilbert space and $A$ is an arbitrary operator."
   ]
  },
  {
   "cell_type": "markdown",
   "id": "187e2430",
   "metadata": {},
   "source": [
    "To prove this we will use the fact that\n",
    "$$ Tr(A) = \\int dg T(g) A T^{\\dagger}(g) $$\n",
    "\n",
    "which can be proved using the a decomposition of $A = \\sum_{ij}a_{ij}|i><j|$ into basis vectors $|i>$.\n",
    "\n",
    "$$\\int dg T(g) A T^{\\dagger}(g) =  \\sum_{ij}\\int dg T(g)  a_{ij}|i><j| T^{\\dagger}(g) = \\sum_{ij}\\int dg <j| T^{\\dagger}(g)T(g)  a_{ij}|i> = \\sum_{ij}a_{ij}<i|j> = \\sum_i a_{ii}$$"
   ]
  },
  {
   "cell_type": "markdown",
   "id": "98c7f15e",
   "metadata": {},
   "source": [
    "Now we can use the genereral form of the trace to prove the first equation.  \n",
    "$$\\int dg Tr[A T(g)]T^{\\dagger}(g) = \\int dg \\int dg' T(g') A T(g) T^{\\dagger}(g') T^{\\dagger}(g) =  \\int dg' T(g') A Tr[ T^{\\dagger}(g') ] =  \\int dg' Tr[ T^{\\dagger}(g') ]T(g') A = \\int dg \\int dg' T(g) T^{\\dagger}(g') T^{\\dagger}(g) T(g') A = \\int dg  T(g) \\int dg' T^{\\dagger}(g') \\delta_{g,g'} A = \\int dg  T(g) T^{\\dagger}(g) A = A $$\n",
    "\n",
    "where I have not been careful about normalization.  "
   ]
  },
  {
   "cell_type": "markdown",
   "id": "7e8736c1",
   "metadata": {},
   "source": [
    "If we replace $A$ with the density matrix $\\rho$ then we have,\n",
    "$$ \\rho = \\int dg Tr(\\rho T(g))T^{\\dagger}(g) $$"
   ]
  },
  {
   "cell_type": "markdown",
   "id": "9e65e13f",
   "metadata": {},
   "source": [
    "## Single Particle\n",
    "\n",
    "For a single particle, $T$ can be written as,\n",
    "$$ T(\\vec{n},\\psi) = e^{i \\vec{\\sigma}\\cdot\\vec{n}\\psi} $$"
   ]
  },
  {
   "cell_type": "markdown",
   "id": "8791a50d",
   "metadata": {},
   "source": [
    "where \n",
    "$$\\vec{n} = \\{\\sin(\\theta)\\cos(\\phi), \\sin(\\theta)\\sin(\\phi), \\cos(\\theta)\\}.$$\n",
    "The metric of integration can be written in terms of these variables, \n",
    "$$dg(\\vec{n},\\psi) = \\frac{2s + 1}{4\\pi^2}\\int d\\psi \\sin^2(\\psi/2)\\int d\\vec{n} $$\n",
    "where we are using $s=1/2$"
   ]
  },
  {
   "cell_type": "markdown",
   "id": "f96f767a",
   "metadata": {},
   "source": [
    "we can evaluate the trace as \n",
    "$$ Tr(\\rho T(\\vec{n},\\psi)) = \\sum_m P(\\vec{n},m) e^{im\\psi} $$"
   ]
  },
  {
   "cell_type": "markdown",
   "id": "f90c8a70",
   "metadata": {},
   "source": [
    "Putting all of this together, we have \n",
    "$$ \\rho = \\sum_m \\int \\frac{d\\vec{n}}{4\\pi} P(n,m) \\frac{2s+1}{\\pi}\\int d\\psi \\sin^2\\left(\\frac{\\psi}{2}\\right)e^{i(m-\\vec{\\sigma}\\cdot\\vec{n})\\psi}  = \\sum_m \\int \\frac{d\\vec{n}}{4\\pi} P(n,m) K(n,m) $$"
   ]
  },
  {
   "cell_type": "code",
   "execution_count": null,
   "id": "0eb01248",
   "metadata": {},
   "outputs": [],
   "source": []
  }
 ],
 "metadata": {
  "kernelspec": {
   "display_name": "Python (qiskit_u3.1)",
   "language": "python",
   "name": "qiskit_u3.1"
  },
  "language_info": {
   "codemirror_mode": {
    "name": "ipython",
    "version": 3
   },
   "file_extension": ".py",
   "mimetype": "text/x-python",
   "name": "python",
   "nbconvert_exporter": "python",
   "pygments_lexer": "ipython3",
   "version": "3.9.5"
  },
  "toc": {
   "base_numbering": 1,
   "nav_menu": {},
   "number_sections": true,
   "sideBar": true,
   "skip_h1_title": false,
   "title_cell": "Table of Contents",
   "title_sidebar": "Contents",
   "toc_cell": false,
   "toc_position": {},
   "toc_section_display": true,
   "toc_window_display": false
  }
 },
 "nbformat": 4,
 "nbformat_minor": 5
}
