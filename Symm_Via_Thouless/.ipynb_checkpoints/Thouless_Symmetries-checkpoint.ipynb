{
 "cells": [
  {
   "cell_type": "markdown",
   "id": "a1a6eca3",
   "metadata": {},
   "source": [
    "# Using Thouless to Preserve Symmetries"
   ]
  },
  {
   "cell_type": "markdown",
   "id": "34bb36a2",
   "metadata": {},
   "source": [
    "Say $H$ is simple to decompose for a certian Jordan-Wigner transformation\n",
    "\\begin{equation}\n",
    "\\begin{split}\n",
    "c_i = (X_i + i Y_i) \\prod_{j=0}^{i-1} Z_j\n",
    "\\\\\n",
    "c^{\\dagger}_i = (X_i - i Y_i) \\prod_{j=0}^{i-1} Z_j\n",
    "\\end{split}\n",
    "\\end{equation}\n",
    "\n",
    "and let $$ \\tilde{c}^{\\dagger}_j = \\sum_i f_{ij} c^{\\dagger}_i $$ and $$ \\tilde{c}_j = \\sum_i f^*_{ji} c_i $$ be another basis such that there is a subset of creation operators in this basis $ j \\in \\{0,\\ldots,L\\} $ such that\n",
    "$$ H \\sum_{nm}A_{nm}\\prod_{j=0}^L (\\tilde{c}^{\\dagger}_{j})^{n_j}\\prod_{k=0}^L (\\tilde{c}_{k})^{m_k}|0> =  \\sum_{nm}B_{nm}\\prod_{j=0}^L (\\tilde{c}^{\\dagger}_{j})^{n_j}\\prod_{k=0}^L (\\tilde{c}_{k})^{m_k}|0>$$\n",
    "In otherwords $H$ is block diagonal in this basis.  \n",
    "\n",
    "Then we can do VQE in the subspace defined by $ j \\in \\{0,\\ldots,L\\} $.  Say our ansatz operator has the form,\n",
    "$$ V =  A_{nm}\\prod_{j=0}^L (c^{\\dagger}_{j})^{n_j}\\prod_{k=0}^L (c_{k})^{m_k} $$\n",
    "meaning that it only acts on qubits $ 0,\\ldots,L $.  We can apply the ansatz and then apply the Thouless operator U\n",
    "$$ U V |0> =  A_{nm}\\prod_{j=0}^L (\\tilde{c}^{\\dagger}_{j})^{n_j}\\prod_{k=0}^L (\\tilde{c}_{k})^{m_k}|0>$$.\n",
    "In order to apply $U$ we need access to the full system, however, V only needs to act on the first $L$ qubits.  So if the amount of gates we save by simplifying V is more than the amount of gates needed to apply U then it is worth it.  "
   ]
  },
  {
   "cell_type": "code",
   "execution_count": 117,
   "id": "788f06a6",
   "metadata": {},
   "outputs": [
    {
     "data": {
      "text/plain": [
       "8.500145032286355e-17j"
      ]
     },
     "execution_count": 117,
     "metadata": {},
     "output_type": "execute_result"
    }
   ],
   "source": [
    "from Define_Paulis import I, X, Y, Z, cd, c, n, Mdot, bkt\n",
    "import pandas as pd\n",
    "import numpy as np\n",
    "import scipy.linalg as ln\n",
    "\n",
    "H = n(0,4) + 2*n(1,4) + n(2,4) + 3*n(3,4) + Mdot([cd(0,4),c(1,4)]) + Mdot([cd(1,4),c(0,4)]) + Mdot([cd(2,4),c(3,4)]) + Mdot([cd(3,4),c(2,4)])\n",
    "\n",
    "psi0 = [0 for i in range(16)]\n",
    "psi0[0] = 1\n",
    "\n",
    "#bkt(psi0,Mdot([c(0,4),c(1,4),H,cd(0,4),cd(2,4)]),psi0)\n",
    "\n",
    "f = 1/2*np.array( [[1,1,1,1],[1,1,-1,-1],[1,-1,-1,1],[1,-1,1,-1,]])\n",
    "\n",
    "ad0 = 1/2*( cd(0,4) + cd(1,4) + cd(2,4) + cd(3,4) )\n",
    "ad1 = 1/2*( cd(0,4) + cd(1,4) - cd(2,4) - cd(3,4) )\n",
    "ad2 = 1/2*( cd(0,4) - cd(1,4) - cd(2,4) + cd(3,4) )\n",
    "ad3 = 1/2*( cd(0,4) - cd(1,4) + cd(2,4) - cd(3,4) )\n",
    "ad = [ad0,ad1,ad2,ad3]\n",
    "a0 = 1/2*( c(0,4) + c(1,4) + c(2,4) + c(3,4) )\n",
    "a1 = 1/2*( c(0,4) + c(1,4) - c(2,4) - c(3,4) )\n",
    "a2 = 1/2*( c(0,4) - c(1,4) - c(2,4) + c(3,4) )\n",
    "a3 = 1/2*( c(0,4) - c(1,4) + c(2,4) - c(3,4) )\n",
    "a = [a0,a1,a2,a3]\n",
    "\n",
    "Ha = (Mdot([ad0,a0]) + 2*Mdot([ad1,a1]) + Mdot([ad2,a2]) + 3*Mdot([ad3,a3]) + Mdot([ad1,a0]) + Mdot([ad0,a1]) + Mdot([ad2,a3]) + Mdot([ad3,a2]))\n",
    "\n",
    "e,y = ln.eig(H)\n",
    "ea,ya = ln.eig(Ha)\n",
    "\n",
    "#print(np.sort(e))\n",
    "#print(np.sort(ea))\n",
    "\n",
    "#bkt(psi0,Mdot([c(3,4),Ha,cd(0,4)]),psi0)\n",
    "\n",
    "logf = ln.logm(f)\n",
    "kappa = 0*I(4)\n",
    "for i in range(4):\n",
    "    for j in range(4):\n",
    "        kappa = kappa + logf[i][j]*Mdot([cd(i,4),c(j,4)])\n",
    "T = ln.expm(kappa)\n",
    "Td = np.conjugate(np.transpose(T))\n",
    "\n",
    "#np.amax(np.abs( Mdot([np.conjugate(np.transpose(T)),T]) - I(4) ))\n",
    "#np.amax(np.abs( Mdot([np.conjugate(np.transpose(T)),cd(1,4),T]) - ad1 ))\n",
    "#np.amax(np.abs( Mdot([np.conjugate(np.transpose(T)),c(3,4),T]) - a3 ))\n",
    "\n",
    "bkt(psi0,Mdot([a2,Ha,Td,cd(0,4)]),psi0)\n",
    "\n",
    "G1 = np.cos(1.3)*I(4) -1j*np.sin(1.3)*X(0,4)\n",
    "G2 = np.cos(1.7)*I(4) -1j*np.sin(1.7)*Y(1,4)\n",
    "G3 = np.cos(0.4)*I(4) -1j*np.sin(0.4)*Mdot([X(0,4),X(1,4)])\n",
    "\n",
    "bkt(psi0,Mdot([a2,Ha,Td,G2,G3,G1]),psi0)\n"
   ]
  },
  {
   "cell_type": "markdown",
   "id": "554a8fb9",
   "metadata": {},
   "source": [
    "## Extracting $\\hat{f}$ from the symmetry operator."
   ]
  },
  {
   "cell_type": "markdown",
   "id": "737b2c07",
   "metadata": {},
   "source": [
    "Say we have a map U which reorients the orbital indecis $U: i \\rightarrow i'$ in such a way that the Hamiltonain is unchanged $$ U^{\\dagger}HU = H$$\n",
    "\n",
    "What we need is a way to find $f$ such that when $H$ is written in terms of $$ \\tilde{c}^{\\dagger}_i = \\sum_j f_{ji} c^{\\dagger}_j $$ it is block diagonal"
   ]
  },
  {
   "cell_type": "code",
   "execution_count": 129,
   "id": "1364d69d",
   "metadata": {},
   "outputs": [
    {
     "data": {
      "text/plain": [
       "0.0"
      ]
     },
     "execution_count": 129,
     "metadata": {},
     "output_type": "execute_result"
    }
   ],
   "source": [
    "H = 0*I(4)\n",
    "for i in range(4):\n",
    "    j = np.mod(i+1,4)\n",
    "    H = H + Mdot([cd(i,4),c(j,4)])\n",
    "    H = H + Mdot([cd(j,4),c(i,4)])\n",
    "    H = H + Mdot([n(i,4),n(j,4)])\n",
    "    \n",
    "Ht = 0*I(4)\n",
    "for i in range(4):\n",
    "    k = np.mod(i+1,4)\n",
    "    j = np.mod(i+2,4)\n",
    "    Ht = Ht + Mdot([cd(k,4),c(j,4)])\n",
    "    Ht = Ht + Mdot([cd(j,4),c(k,4)])\n",
    "    Ht = Ht + Mdot([n(k,4),n(j,4)])\n",
    "    \n",
    "np.amax(np.abs(H - Ht))"
   ]
  },
  {
   "cell_type": "code",
   "execution_count": 305,
   "id": "042e5a25",
   "metadata": {},
   "outputs": [
    {
     "data": {
      "text/plain": [
       "array([[ 0. +0.j, -2.5+0.j,  0. +0.j,  0. +0.j],\n",
       "       [ 2.5+0.j,  0. +0.j,  0. +0.j,  0. +0.j],\n",
       "       [ 0. +0.j,  0. +0.j,  0. +0.j, -0.5+0.j],\n",
       "       [ 0. +0.j,  0. +0.j,  0.5+0.j,  0. +0.j]])"
      ]
     },
     "execution_count": 305,
     "metadata": {},
     "output_type": "execute_result"
    }
   ],
   "source": [
    "f = 1/2*np.array( [[1,1,1,1],[1,1,-1,-1],[1,-1,-1,1],[1,-1,1,-1,]])\n",
    "def ad(i):\n",
    "    out = 0*I(4)\n",
    "    for j in range(4):\n",
    "        out = out + f[i][j]*cd(j,4)\n",
    "    return out\n",
    "\n",
    "def a(i):\n",
    "    out = 0*I(4)\n",
    "    for j in range(4):\n",
    "        out = out + np.conjugate(f)[j][i]*c(j,4)\n",
    "    return out\n",
    "\n",
    "check = [[ Mdot([psi0,a(i),a(j),H,ad(1),ad(0),psi0]) for i in range(4)] for j in range(4)]\n",
    "\n",
    "np.round(check ,3)"
   ]
  },
  {
   "cell_type": "code",
   "execution_count": 310,
   "id": "b7f8934d",
   "metadata": {},
   "outputs": [
    {
     "name": "stdout",
     "output_type": "stream",
     "text": [
      "[-0.5+0.j  0.5+0.j -0.5+0.j  0.5+0.j]\n",
      "[ 0. -0.5j  0.5+0.j  -0. +0.5j -0.5+0.j ]\n",
      "[ 0. +0.5j  0.5-0.j  -0. -0.5j -0.5-0.j ]\n",
      "[-0.5+0.j -0.5+0.j -0.5+0.j -0.5+0.j]\n"
     ]
    }
   ],
   "source": [
    "U = [[0,1,0,0],[0,0,1,0],[0,0,0,1],[1,0,0,0]]\n",
    "\n",
    "e,y = ln.eig(U)\n",
    "psi = np.transpose(y)\n",
    "\n",
    "print(psi[0])\n",
    "print(np.round(psi[1],2))\n",
    "print(np.round(psi[2],2))\n",
    "print(np.round(psi[3],2))"
   ]
  },
  {
   "cell_type": "code",
   "execution_count": 306,
   "id": "5e4eeeb9",
   "metadata": {},
   "outputs": [
    {
     "data": {
      "text/plain": [
       "array([-1. , -0.5,  0.5, -0. ])"
      ]
     },
     "execution_count": 306,
     "metadata": {},
     "output_type": "execute_result"
    }
   ],
   "source": [
    "np.real( 1j*np.log(e)/np.pi )"
   ]
  },
  {
   "cell_type": "code",
   "execution_count": 353,
   "id": "ef69f1ab",
   "metadata": {},
   "outputs": [
    {
     "data": {
      "text/plain": [
       "array([[ 0. +0.j,  0.5-0.j,  0. -0.j,  0. +0.j],\n",
       "       [-0.5+0.j,  0. -0.j,  0. +0.j, -0. -0.j],\n",
       "       [-0. +0.j,  0. -0.j,  0. +0.j, -2.5-0.j],\n",
       "       [-0. -0.j,  0. +0.j,  2.5+0.j,  0. -0.j]])"
      ]
     },
     "execution_count": 353,
     "metadata": {},
     "output_type": "execute_result"
    }
   ],
   "source": [
    "f = psi\n",
    "def ad(i):\n",
    "    out = 0*I(4)\n",
    "    for j in range(4):\n",
    "        out = out + f[i][j]*cd(j,4)\n",
    "    return out\n",
    "\n",
    "def a(i):\n",
    "    out = 0*I(4)\n",
    "    for j in range(4):\n",
    "        out = out + np.conjugate(f)[i][j]*c(j,4)\n",
    "    return out\n",
    "\n",
    "#[Mdot([psi0,a(i),H,ad(3),psi0]) for i in range(4)]\n",
    "\n",
    "check = [[ Mdot([psi0,a(i),a(j),H,ad(3),ad(2),psi0]) for i in range(4)] for j in range(4)]\n",
    "np.round(check ,3)"
   ]
  },
  {
   "cell_type": "markdown",
   "id": "7d8315da",
   "metadata": {},
   "source": [
    "It looks like $0,1$ couples to $2,3$ is this because $k0 + k1 = 0.5\\pi$ and $k2 + k3 = -1.5 \\pi = -2\\pi + k0 + k1$?"
   ]
  },
  {
   "cell_type": "code",
   "execution_count": null,
   "id": "836ce3a7",
   "metadata": {},
   "outputs": [],
   "source": []
  }
 ],
 "metadata": {
  "kernelspec": {
   "display_name": "qiskit_3.5",
   "language": "python",
   "name": "qiskit_3.5"
  },
  "language_info": {
   "codemirror_mode": {
    "name": "ipython",
    "version": 3
   },
   "file_extension": ".py",
   "mimetype": "text/x-python",
   "name": "python",
   "nbconvert_exporter": "python",
   "pygments_lexer": "ipython3",
   "version": "3.10.4"
  },
  "toc": {
   "base_numbering": 1,
   "nav_menu": {},
   "number_sections": true,
   "sideBar": true,
   "skip_h1_title": false,
   "title_cell": "Table of Contents",
   "title_sidebar": "Contents",
   "toc_cell": false,
   "toc_position": {},
   "toc_section_display": true,
   "toc_window_display": false
  }
 },
 "nbformat": 4,
 "nbformat_minor": 5
}
