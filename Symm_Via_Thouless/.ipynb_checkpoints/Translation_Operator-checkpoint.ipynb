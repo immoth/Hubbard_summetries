{
 "cells": [
  {
   "cell_type": "code",
   "execution_count": 76,
   "id": "cff6f849",
   "metadata": {},
   "outputs": [],
   "source": [
    "from Define_Paulis import I, X, Y, Z, cd, c, n, Mdot, bkt\n",
    "import scipy.linalg as ln\n",
    "import numpy as np\n",
    "\n",
    "def dgr(M):\n",
    "    return np.conjugate(np.transpose(M))"
   ]
  },
  {
   "cell_type": "markdown",
   "id": "ed44d43d",
   "metadata": {},
   "source": [
    "We know what the single particle translation operator looks like:\n",
    "\\begin{equation}\n",
    "T_{\\text{single}}(4) = \\begin{pmatrix} 0 & 0 & 0 & 1 \\\\ 1 & 0 & 0 & 0 \\\\ 0 & 1 & 0 & 0 \\\\ 0 & 0 & 1 & 0  \\end{pmatrix}\n",
    "\\end{equation}\n",
    "\n",
    "The many body operator can then be found using the Thouless translation\n",
    "$$\n",
    "T(N) = e^{\\sum_{ij}(\\ln T_{\\text{single}})_{ij} c^{\\dagger}_ic_j}\n",
    "$$"
   ]
  },
  {
   "cell_type": "code",
   "execution_count": 82,
   "id": "c82f3a06",
   "metadata": {},
   "outputs": [
    {
     "name": "stdout",
     "output_type": "stream",
     "text": [
      "normalized:\n",
      "0.0\n",
      "3.1086244689504383e-15\n",
      "\n",
      "Translates cd and c:\n",
      "2.501374596100256e-15\n",
      "2.501374596100256e-15\n",
      "2.5877758945392665e-15\n",
      "2.8934665993866104e-15\n",
      "3.1086244689504383e-15\n",
      "\n",
      "Translates psi\n",
      "2.220446049250313e-16\n",
      "2.037397855853302e-15\n",
      "2.376958388704457e-15\n"
     ]
    }
   ],
   "source": [
    "def T_single(N):\n",
    "    t = 0*np.identity(N)\n",
    "    for i in range(0,N):\n",
    "        t[i,np.mod(i-1,N)] = 1\n",
    "    return t\n",
    "\n",
    "def T(N):\n",
    "    logT = ln.logm(T_single(N))\n",
    "    phi = 0*I(N)\n",
    "    for i in range(N):\n",
    "        for j in range(N):\n",
    "            phi = phi + logT[i][j]*Mdot([cd(i,N),c(j,N)])\n",
    "    return ln.expm(phi)\n",
    "\n",
    "N=4\n",
    "print('normalized:')\n",
    "print( np.amax(np.abs( Mdot([dgr(T_single(N)),T_single(N)]) - np.identity(N) )) )\n",
    "print( np.amax(np.abs( Mdot([dgr(T(N)),T(N)]) - I(N) )) )\n",
    "print()\n",
    "\n",
    "print('Translates cd and c:')\n",
    "print( np.amax(np.abs( Mdot([T(N),cd(1,N),dgr(T(N))]) - cd(2,N) )) )\n",
    "print( np.amax(np.abs( Mdot([T(N),c(1,N),dgr(T(N))]) - c(2,N) )) )\n",
    "print( np.amax(np.abs( Mdot([T(N),cd(0,N),dgr(T(N))]) - cd(1,N) )) )\n",
    "print( np.amax(np.abs( Mdot([T(N),cd(N-1,N),dgr(T(N))]) - cd(0,N) )) )\n",
    "print( np.amax(np.abs( Mdot([T(N),n(N-1,N),dgr(T(N))]) - n(0,N) )) )\n",
    "print()\n",
    "\n",
    "psi0 = [0 for i in range(2**N)]\n",
    "psi0[0] = 1\n",
    "print('Translates psi')\n",
    "print( np.amax(np.abs( Mdot([T(N),psi0]) - psi0 )) )\n",
    "print( np.amax(np.abs( Mdot([T(N),cd(1,N),psi0]) - Mdot([cd(2,N),psi0]) )) )\n",
    "print( np.amax(np.abs( Mdot([T(N),cd(0,N),cd(2,N),psi0]) - Mdot([cd(1,N),cd(3,N),psi0]) )) )"
   ]
  },
  {
   "cell_type": "markdown",
   "id": "5155aa93",
   "metadata": {},
   "source": [
    "The question I am interested in is if we find the eigenstates of the single particle operator \n",
    "$$ |k> = \\sum_i f_{ki} |i> $$\n",
    "and we use those to build creation operators\n",
    "$$ a^{\\dagger}_k = f_{ki}c^{\\dagger}_i $$\n",
    "can we generate the many body eigenstates with Slater determinants\n",
    "$$ T a^{\\dagger}_k a^{\\dagger}_{k'} |0> = (k + k') a^{\\dagger}_k a^{\\dagger}_{k'} |0> ?$$\n",
    "and if so, does this imply that $H$ is block diagonal in this many body basis?"
   ]
  },
  {
   "cell_type": "code",
   "execution_count": 239,
   "id": "7539968d",
   "metadata": {},
   "outputs": [],
   "source": [
    "def f(N):\n",
    "    phi,y = ln.eig(T_single(N))\n",
    "    arg = np.argsort(np.abs( np.log(phi)) )\n",
    "    fn = np.transpose(y)\n",
    "    phi = [phi[arg[n]] for n in range(N)]\n",
    "    fn = [fn[arg[n]] for n in range(N)]\n",
    "    return fn\n",
    "\n",
    "def phi(N):\n",
    "    phin,y = ln.eig(T_single(N))\n",
    "    arg = np.argsort(np.abs( np.log(phin)) )\n",
    "    fn = dgr(y)\n",
    "    phin = [phin[arg[n]] for n in range(N)]\n",
    "    fn = [fn[arg[n]] for n in range(N)]\n",
    "    return phin\n",
    "\n",
    "\n",
    "def ad(n,N):\n",
    "    F = f(N)\n",
    "    out = 0*cd(0,N)\n",
    "    for i in range(N):\n",
    "        #print(F[n][i])\n",
    "        out = out + F[n][i]*cd(i,N)\n",
    "    return out\n",
    "\n"
   ]
  },
  {
   "cell_type": "code",
   "execution_count": 252,
   "id": "34805476",
   "metadata": {},
   "outputs": [],
   "source": [
    "N = 4\n",
    "psi0 = [0 for i in range(2**N)]\n",
    "psi0[0] = 1\n"
   ]
  },
  {
   "cell_type": "code",
   "execution_count": 259,
   "id": "0b06b452",
   "metadata": {},
   "outputs": [
    {
     "name": "stdout",
     "output_type": "stream",
     "text": [
      "Single particle\n",
      "2.7755575615628914e-16\n",
      "7.226859497166928e-16\n",
      "7.226859497166928e-16\n",
      "6.661338147750939e-16\n"
     ]
    }
   ],
   "source": [
    "print('Single particle')\n",
    "print( np.amax(np.abs( Mdot([T_single(N),f(N)[0]]) - phi(N)[0]*f(N)[0] )) )\n",
    "print( np.amax(np.abs( Mdot([T_single(N),f(N)[1]]) - phi(N)[1]*f(N)[1] )) )\n",
    "print( np.amax(np.abs( Mdot([T_single(N),f(N)[2]]) - phi(N)[2]*f(N)[2] )) )\n",
    "print( np.amax(np.abs( Mdot([T_single(N),f(N)[3]]) - phi(N)[3]*f(N)[3] )) )"
   ]
  },
  {
   "cell_type": "code",
   "execution_count": 255,
   "id": "c1ede6bd",
   "metadata": {},
   "outputs": [
    {
     "name": "stdout",
     "output_type": "stream",
     "text": [
      "Many Body T single particle subspace\n",
      "1.1122824539168496e-15\n",
      "1.7407249664330277e-15\n",
      "1.7038524493107782e-15\n",
      "1.531556499417396e-15\n"
     ]
    }
   ],
   "source": [
    "print('Many Body T single particle subspace')\n",
    "print( np.amax(np.abs( Mdot([T(N),ad(0,N),psi0]) - phi(N)[0]*Mdot([ad(0,N),psi0]) )) )\n",
    "print( np.amax(np.abs( Mdot([T(N),ad(1,N),psi0]) - phi(N)[1]*Mdot([ad(1,N),psi0]) )) )\n",
    "print( np.amax(np.abs( Mdot([T(N),ad(2,N),psi0]) - phi(N)[2]*Mdot([ad(2,N),psi0]) )) )\n",
    "print( np.amax(np.abs( Mdot([T(N),ad(3,N),psi0]) - phi(N)[3]*Mdot([ad(3,N),psi0]) )) )"
   ]
  },
  {
   "cell_type": "code",
   "execution_count": 299,
   "id": "a8708015",
   "metadata": {},
   "outputs": [
    {
     "name": "stdout",
     "output_type": "stream",
     "text": [
      "Many Body T two particle subspace\n",
      "1.6337732681760999e-15\n",
      "1.2383298361060908e-15\n",
      "1.4099419585860534e-15\n",
      "1.557421899916321e-15\n",
      "1.1215077876880563e-15\n",
      "2.764360880687203e-15\n"
     ]
    }
   ],
   "source": [
    "print('Many Body T two particle subspace')\n",
    "print(  np.amax(np.abs( Mdot([T(N),ad(1,N),ad(0,N),psi0]) - phi(N)[1]*phi(N)[0]*Mdot([ad(1,N),ad(0,N),psi0]) )) )\n",
    "print(  np.amax(np.abs( Mdot([T(N),ad(2,N),ad(0,N),psi0]) - phi(N)[2]*phi(N)[0]*Mdot([ad(2,N),ad(0,N),psi0]) )) )\n",
    "print(  np.amax(np.abs( Mdot([T(N),ad(3,N),ad(0,N),psi0]) - phi(N)[0]*phi(N)[3]*Mdot([ad(3,N),ad(0,N),psi0]) )) )\n",
    "print(  np.amax(np.abs( Mdot([T(N),ad(1,N),ad(2,N),psi0]) - phi(N)[1]*phi(N)[2]*Mdot([ad(1,N),ad(2,N),psi0]) )) )\n",
    "print(  np.amax(np.abs( Mdot([T(N),ad(1,N),ad(3,N),psi0]) - phi(N)[1]*phi(N)[3]*Mdot([ad(1,N),ad(3,N),psi0]) )) )\n",
    "print(  np.amax(np.abs( Mdot([T(N),ad(3,N),ad(2,N),psi0]) - phi(N)[3]*phi(N)[2]*Mdot([ad(3,N),ad(2,N),psi0]) )) )"
   ]
  },
  {
   "cell_type": "code",
   "execution_count": 304,
   "id": "ea5bd913",
   "metadata": {},
   "outputs": [
    {
     "name": "stdout",
     "output_type": "stream",
     "text": [
      "Many Body T three particle subspace\n",
      "6.132906689981832e-16\n",
      "2.3858616067346122e-15\n",
      "2.6234963077402188e-15\n",
      "7.153187701884205e-16\n"
     ]
    }
   ],
   "source": [
    "print('Many Body T three particle subspace')\n",
    "print(  np.amax(np.abs( Mdot([T(N),ad(2,N),ad(1,N),ad(0,N),psi0]) - phi(N)[2]*phi(N)[1]*phi(N)[0]*Mdot([ad(2,N),ad(1,N),ad(0,N),psi0]) )) )\n",
    "print(  np.amax(np.abs( Mdot([T(N),ad(2,N),ad(1,N),ad(3,N),psi0]) - phi(N)[2]*phi(N)[1]*phi(N)[3]*Mdot([ad(2,N),ad(1,N),ad(3,N),psi0]) )) )\n",
    "print(  np.amax(np.abs( Mdot([T(N),ad(2,N),ad(0,N),ad(3,N),psi0]) - phi(N)[2]*phi(N)[0]*phi(N)[3]*Mdot([ad(2,N),ad(0,N),ad(3,N),psi0]) )) )\n",
    "print(  np.amax(np.abs( Mdot([T(N),ad(1,N),ad(0,N),ad(3,N),psi0]) - phi(N)[1]*phi(N)[0]*phi(N)[3]*Mdot([ad(1,N),ad(0,N),ad(3,N),psi0]) )) )\n",
    "\n",
    "\n"
   ]
  },
  {
   "cell_type": "code",
   "execution_count": 305,
   "id": "364e2983",
   "metadata": {},
   "outputs": [
    {
     "name": "stdout",
     "output_type": "stream",
     "text": [
      "Many Body T four particle subspace\n",
      "3.0303191209571234e-15\n"
     ]
    }
   ],
   "source": [
    "print('Many Body T four particle subspace')\n",
    "print(  np.amax(np.abs( Mdot([T(N),ad(3,N),ad(2,N),ad(1,N),ad(0,N),psi0]) - phi(N)[3]*phi(N)[2]*phi(N)[1]*phi(N)[0]*Mdot([ad(3,N),ad(2,N),ad(1,N),ad(0,N),psi0]) )) )\n"
   ]
  },
  {
   "cell_type": "markdown",
   "id": "bfc52b37",
   "metadata": {},
   "source": [
    "Since $[H,T] = 0$ we know that H cannot change an eigenvector of T into one with a different eigenvalue. However, for many-body states, there can be degenerate eigenvalues. "
   ]
  },
  {
   "cell_type": "code",
   "execution_count": 314,
   "id": "58890941",
   "metadata": {},
   "outputs": [
    {
     "name": "stdout",
     "output_type": "stream",
     "text": [
      "single particle eigenvalues\n",
      "0: (1+0j)\n",
      "1: 1j\n",
      "2: -1j\n",
      "3: (-1+0j)\n",
      "two particle eigenvalues\n",
      "01: 1j\n",
      "02: -1j\n",
      "03: (-1+0j)\n",
      "12: (1+0j)\n",
      "13: (-0-1j)\n",
      "23: (-0+1j)\n",
      "01 = 23 and 02 = 13\n",
      "three particle eigenvalues\n",
      "012: (1+0j)\n",
      "013: (-0-1j)\n",
      "023: (-0+1j)\n",
      "123: (-1+0j)\n"
     ]
    }
   ],
   "source": [
    "print('single particle eigenvalues')\n",
    "print( '0:', np.round( phi(N)[0] ,3) )\n",
    "print( '1:', np.round( phi(N)[1] ,3) )\n",
    "print( '2:', np.round( phi(N)[2] ,3) )\n",
    "print( '3:', np.round( phi(N)[3] ,3) )\n",
    "\n",
    "print('two particle eigenvalues')\n",
    "print( '01:', np.round( phi(N)[0]*phi(N)[1]  ,3) )\n",
    "print( '02:', np.round( phi(N)[0]*phi(N)[2]  ,3) )\n",
    "print( '03:', np.round( phi(N)[0]*phi(N)[3]  ,3) )\n",
    "print( '12:', np.round( phi(N)[1]*phi(N)[2]  ,3) )\n",
    "print( '13:', np.round( phi(N)[1]*phi(N)[3]  ,3) )\n",
    "print( '23:', np.round( phi(N)[2]*phi(N)[3]  ,3) )\n",
    "print( '01 = 23 and 02 = 13')\n",
    "\n",
    "print('three particle eigenvalues')\n",
    "print( '012:', np.round( phi(N)[0]*phi(N)[1]*phi(N)[2]  ,3) )\n",
    "print( '013:', np.round( phi(N)[0]*phi(N)[1]*phi(N)[3]  ,3) )\n",
    "print( '023:', np.round( phi(N)[0]*phi(N)[2]*phi(N)[3]  ,3) )\n",
    "print( '123:', np.round( phi(N)[1]*phi(N)[2]*phi(N)[3]  ,3) )"
   ]
  },
  {
   "cell_type": "markdown",
   "id": "57059949",
   "metadata": {},
   "source": [
    "Now let us check how this works with the Hamiltonian"
   ]
  },
  {
   "cell_type": "code",
   "execution_count": 362,
   "id": "23da6919",
   "metadata": {},
   "outputs": [],
   "source": [
    "def neighbors(N):\n",
    "    nbrs = []\n",
    "    for i in range(N-1):\n",
    "        nbrs.append([i,i+1])\n",
    "        nbrs.append([i+1,i])\n",
    "    nbrs.append([N-1,0])\n",
    "    nbrs.append([0,N-1])\n",
    "    return nbrs\n",
    "\n",
    "def K(k,N):\n",
    "    nbrs = neighbors(N)\n",
    "    Kout = 0*I(N)\n",
    "    for pair in nbrs:\n",
    "        i = pair[0]\n",
    "        j = pair[1]\n",
    "        Kout = Kout + k*Mdot([cd(i,N),c(j,N)])\n",
    "    return Kout\n",
    " \n",
    "def D(d,N):\n",
    "    Dout = 0*I(N)\n",
    "    for i in range(0,N):\n",
    "        j = np.mod(i+1,N)\n",
    "        Dout = Dout + Mdot([n(i,N),n(j,N)])\n",
    "    return d*Dout\n",
    "\n",
    "def H(k,d,N):\n",
    "    return K(k,N) + D(d,N) \n",
    "\n",
    "\n"
   ]
  },
  {
   "cell_type": "code",
   "execution_count": 363,
   "id": "0d488495",
   "metadata": {},
   "outputs": [
    {
     "name": "stdout",
     "output_type": "stream",
     "text": [
      "commutes: 3.0178014525816443e-15\n"
     ]
    }
   ],
   "source": [
    "print('commutes:', np.amax(np.abs( Mdot([H(1,0.7,4),T(4)]) - Mdot([T(4),H(1,0.7,4)]) )) )"
   ]
  },
  {
   "cell_type": "code",
   "execution_count": 390,
   "id": "39fa174c",
   "metadata": {},
   "outputs": [
    {
     "data": {
      "text/plain": [
       "array([[ 2.35-0.j,  0.  -0.j, -0.  +0.j, -0.  +0.j,  0.  +0.j, -0.35-0.j],\n",
       "       [ 0.  +0.j,  2.35+0.j, -0.  -0.j,  0.  +0.j, -0.35+0.j,  0.  -0.j],\n",
       "       [-0.  -0.j, -0.  +0.j,  0.7 +0.j, -0.  +0.j,  0.  -0.j,  0.  +0.j],\n",
       "       [-0.  -0.j,  0.  -0.j, -0.  -0.j,  0.7 -0.j, -0.  -0.j,  0.  -0.j],\n",
       "       [-0.  -0.j, -0.35-0.j,  0.  +0.j, -0.  +0.j, -1.65-0.j, -0.  +0.j],\n",
       "       [-0.35+0.j, -0.  +0.j,  0.  -0.j,  0.  +0.j, -0.  -0.j, -1.65+0.j]])"
      ]
     },
     "execution_count": 390,
     "metadata": {},
     "output_type": "execute_result"
    }
   ],
   "source": [
    "h = H(1,0.7,4) \n",
    "psi01 = Mdot([ad(0,N),ad(1,N),psi0])\n",
    "psi02 = Mdot([ad(0,N),ad(2,N),psi0])\n",
    "psi03 = Mdot([ad(0,N),ad(3,N),psi0])\n",
    "psi12 = Mdot([ad(1,N),ad(2,N),psi0])\n",
    "psi13 = Mdot([ad(1,N),ad(3,N),psi0])\n",
    "psi23 = Mdot([ad(2,N),ad(3,N),psi0])\n",
    "\n",
    "psi2p = [psi01,psi02,psi03,psi12,psi13,psi23]\n",
    "\n",
    "test = [ [ bkt(psi2p[i],h,psi2p[j]) for i in range(6)] for j in range(6)]\n",
    "\n",
    "np.round( test ,5)"
   ]
  },
  {
   "cell_type": "markdown",
   "id": "914d26ad",
   "metadata": {},
   "source": [
    "As expected, the blocks are exectly those which have denenerate eigenvalues of T.  "
   ]
  },
  {
   "cell_type": "code",
   "execution_count": null,
   "id": "4253cde3",
   "metadata": {},
   "outputs": [],
   "source": []
  }
 ],
 "metadata": {
  "kernelspec": {
   "display_name": "qiskit_3.5",
   "language": "python",
   "name": "qiskit_3.5"
  },
  "language_info": {
   "codemirror_mode": {
    "name": "ipython",
    "version": 3
   },
   "file_extension": ".py",
   "mimetype": "text/x-python",
   "name": "python",
   "nbconvert_exporter": "python",
   "pygments_lexer": "ipython3",
   "version": "3.10.4"
  },
  "toc": {
   "base_numbering": 1,
   "nav_menu": {},
   "number_sections": true,
   "sideBar": true,
   "skip_h1_title": false,
   "title_cell": "Table of Contents",
   "title_sidebar": "Contents",
   "toc_cell": false,
   "toc_position": {},
   "toc_section_display": true,
   "toc_window_display": false
  }
 },
 "nbformat": 4,
 "nbformat_minor": 5
}
