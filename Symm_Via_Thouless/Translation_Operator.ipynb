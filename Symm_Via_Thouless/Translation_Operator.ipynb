{
 "cells": [
  {
   "cell_type": "code",
   "execution_count": 1,
   "id": "cff6f849",
   "metadata": {},
   "outputs": [],
   "source": [
    "from Define_Paulis import I, X, Y, Z, cd, c, n, Mdot, bkt\n",
    "import scipy.linalg as ln\n",
    "import numpy as np\n",
    "\n",
    "def dgr(M):\n",
    "    return np.conjugate(np.transpose(M))"
   ]
  },
  {
   "cell_type": "markdown",
   "id": "ed44d43d",
   "metadata": {},
   "source": [
    "We know what the single particle translation operator looks like:\n",
    "\\begin{equation}\n",
    "T_{\\text{single}}(4) = \\begin{pmatrix} 0 & 0 & 0 & 1 \\\\ 1 & 0 & 0 & 0 \\\\ 0 & 1 & 0 & 0 \\\\ 0 & 0 & 1 & 0  \\end{pmatrix}\n",
    "\\end{equation}\n",
    "\n",
    "The many body operator can then be found using the Thouless translation\n",
    "$$\n",
    "T(N) = e^{\\sum_{ij}(\\ln T_{\\text{single}})_{ij} c^{\\dagger}_ic_j}\n",
    "$$"
   ]
  },
  {
   "cell_type": "code",
   "execution_count": 2,
   "id": "c82f3a06",
   "metadata": {},
   "outputs": [
    {
     "name": "stdout",
     "output_type": "stream",
     "text": [
      "normalized:\n",
      "0.0\n",
      "3.1086244689504383e-15\n",
      "\n",
      "Translates cd and c:\n",
      "2.501374596100256e-15\n",
      "2.501374596100256e-15\n",
      "2.5877758945392665e-15\n",
      "2.8934665993866104e-15\n",
      "3.1086244689504383e-15\n",
      "\n",
      "Translates psi\n",
      "2.220446049250313e-16\n",
      "2.037397855853302e-15\n",
      "2.376958388704457e-15\n"
     ]
    }
   ],
   "source": [
    "def T_single(N):\n",
    "    t = 0*np.identity(N)\n",
    "    for i in range(0,N):\n",
    "        t[i,np.mod(i-1,N)] = 1\n",
    "    return t\n",
    "\n",
    "def T(N):\n",
    "    logT = ln.logm(T_single(N))\n",
    "    phi = 0*I(N)\n",
    "    for i in range(N):\n",
    "        for j in range(N):\n",
    "            phi = phi + logT[i][j]*Mdot([cd(i,N),c(j,N)])\n",
    "    return ln.expm(phi)\n",
    "\n",
    "N=4\n",
    "print('normalized:')\n",
    "print( np.amax(np.abs( Mdot([dgr(T_single(N)),T_single(N)]) - np.identity(N) )) )\n",
    "print( np.amax(np.abs( Mdot([dgr(T(N)),T(N)]) - I(N) )) )\n",
    "print()\n",
    "\n",
    "print('Translates cd and c:')\n",
    "print( np.amax(np.abs( Mdot([T(N),cd(1,N),dgr(T(N))]) - cd(2,N) )) )\n",
    "print( np.amax(np.abs( Mdot([T(N),c(1,N),dgr(T(N))]) - c(2,N) )) )\n",
    "print( np.amax(np.abs( Mdot([T(N),cd(0,N),dgr(T(N))]) - cd(1,N) )) )\n",
    "print( np.amax(np.abs( Mdot([T(N),cd(N-1,N),dgr(T(N))]) - cd(0,N) )) )\n",
    "print( np.amax(np.abs( Mdot([T(N),n(N-1,N),dgr(T(N))]) - n(0,N) )) )\n",
    "print()\n",
    "\n",
    "psi0 = [0 for i in range(2**N)]\n",
    "psi0[0] = 1\n",
    "print('Translates psi')\n",
    "print( np.amax(np.abs( Mdot([T(N),psi0]) - psi0 )) )\n",
    "print( np.amax(np.abs( Mdot([T(N),cd(1,N),psi0]) - Mdot([cd(2,N),psi0]) )) )\n",
    "print( np.amax(np.abs( Mdot([T(N),cd(0,N),cd(2,N),psi0]) - Mdot([cd(1,N),cd(3,N),psi0]) )) )"
   ]
  },
  {
   "cell_type": "markdown",
   "id": "5155aa93",
   "metadata": {},
   "source": [
    "The question I am interested in is if we find the eigenstates of the single particle operator \n",
    "$$ |k> = \\sum_i f_{ki} |i> $$\n",
    "and we use those to build creation operators\n",
    "$$ a^{\\dagger}_k = f_{ki}c^{\\dagger}_i $$\n",
    "can we generate the many body eigenstates with Slater determinants\n",
    "$$ T a^{\\dagger}_k a^{\\dagger}_{k'} |0> = (k + k') a^{\\dagger}_k a^{\\dagger}_{k'} |0> ?$$\n",
    "and if so, does this imply that $H$ is block diagonal in this many body basis?"
   ]
  },
  {
   "cell_type": "code",
   "execution_count": 3,
   "id": "7539968d",
   "metadata": {},
   "outputs": [],
   "source": [
    "def f(N):\n",
    "    phi,y = ln.eig(T_single(N))\n",
    "    arg = np.argsort( 1j*np.log(phi) )\n",
    "    fn = np.transpose(y)\n",
    "    phi = [phi[arg[n]] for n in range(N)]\n",
    "    fn = [np.abs(fn[arg[n]][0])/fn[arg[n]][0] *fn[arg[n]] for n in range(N)]\n",
    "    return fn\n",
    "\n",
    "def phi(N):\n",
    "    phin,y = ln.eig(T_single(N))\n",
    "    arg = np.argsort(1j*np.log(phin)) \n",
    "    fn = dgr(y)\n",
    "    phin = [phin[arg[n]] for n in range(N)]\n",
    "    fn = [fn[arg[n]] for n in range(N)]\n",
    "    return phin\n",
    "\n",
    "\n",
    "def ad(n,N):\n",
    "    F = f(N)\n",
    "    out = 0*cd(0,N)\n",
    "    for i in range(N):\n",
    "        #print(F[n][i])\n",
    "        out = out + F[n][i]*cd(i,N)\n",
    "    return out\n",
    "\n"
   ]
  },
  {
   "cell_type": "code",
   "execution_count": 4,
   "id": "34805476",
   "metadata": {},
   "outputs": [],
   "source": [
    "N = 4\n",
    "psi0 = [0 for i in range(2**N)]\n",
    "psi0[0] = 1\n"
   ]
  },
  {
   "cell_type": "code",
   "execution_count": 5,
   "id": "0b06b452",
   "metadata": {},
   "outputs": [
    {
     "name": "stdout",
     "output_type": "stream",
     "text": [
      "Single particle\n",
      "6.661338147750939e-16\n",
      "7.226859497166928e-16\n",
      "2.7755575615628914e-16\n",
      "7.226859497166928e-16\n"
     ]
    }
   ],
   "source": [
    "print('Single particle')\n",
    "print( np.amax(np.abs( Mdot([T_single(N),f(N)[0]]) - phi(N)[0]*f(N)[0] )) )\n",
    "print( np.amax(np.abs( Mdot([T_single(N),f(N)[1]]) - phi(N)[1]*f(N)[1] )) )\n",
    "print( np.amax(np.abs( Mdot([T_single(N),f(N)[2]]) - phi(N)[2]*f(N)[2] )) )\n",
    "print( np.amax(np.abs( Mdot([T_single(N),f(N)[3]]) - phi(N)[3]*f(N)[3] )) )"
   ]
  },
  {
   "cell_type": "code",
   "execution_count": 6,
   "id": "c1ede6bd",
   "metadata": {},
   "outputs": [
    {
     "name": "stdout",
     "output_type": "stream",
     "text": [
      "Many Body T single particle subspace\n",
      "1.531556499417396e-15\n",
      "1.7407249664330279e-15\n",
      "1.1122824539168496e-15\n",
      "1.7038524493107786e-15\n"
     ]
    }
   ],
   "source": [
    "print('Many Body T single particle subspace')\n",
    "print( np.amax(np.abs( Mdot([T(N),ad(0,N),psi0]) - phi(N)[0]*Mdot([ad(0,N),psi0]) )) )\n",
    "print( np.amax(np.abs( Mdot([T(N),ad(1,N),psi0]) - phi(N)[1]*Mdot([ad(1,N),psi0]) )) )\n",
    "print( np.amax(np.abs( Mdot([T(N),ad(2,N),psi0]) - phi(N)[2]*Mdot([ad(2,N),psi0]) )) )\n",
    "print( np.amax(np.abs( Mdot([T(N),ad(3,N),psi0]) - phi(N)[3]*Mdot([ad(3,N),psi0]) )) )"
   ]
  },
  {
   "cell_type": "code",
   "execution_count": 7,
   "id": "a8708015",
   "metadata": {},
   "outputs": [
    {
     "name": "stdout",
     "output_type": "stream",
     "text": [
      "Many Body T two particle subspace\n",
      "1.1215077876880563e-15\n",
      "1.4099419585860534e-15\n",
      "2.764360880687203e-15\n",
      "1.6337732681760999e-15\n",
      "1.557421899916321e-15\n",
      "1.238329836106091e-15\n"
     ]
    }
   ],
   "source": [
    "print('Many Body T two particle subspace')\n",
    "print(  np.amax(np.abs( Mdot([T(N),ad(1,N),ad(0,N),psi0]) - phi(N)[1]*phi(N)[0]*Mdot([ad(1,N),ad(0,N),psi0]) )) )\n",
    "print(  np.amax(np.abs( Mdot([T(N),ad(2,N),ad(0,N),psi0]) - phi(N)[2]*phi(N)[0]*Mdot([ad(2,N),ad(0,N),psi0]) )) )\n",
    "print(  np.amax(np.abs( Mdot([T(N),ad(3,N),ad(0,N),psi0]) - phi(N)[0]*phi(N)[3]*Mdot([ad(3,N),ad(0,N),psi0]) )) )\n",
    "print(  np.amax(np.abs( Mdot([T(N),ad(1,N),ad(2,N),psi0]) - phi(N)[1]*phi(N)[2]*Mdot([ad(1,N),ad(2,N),psi0]) )) )\n",
    "print(  np.amax(np.abs( Mdot([T(N),ad(1,N),ad(3,N),psi0]) - phi(N)[1]*phi(N)[3]*Mdot([ad(1,N),ad(3,N),psi0]) )) )\n",
    "print(  np.amax(np.abs( Mdot([T(N),ad(3,N),ad(2,N),psi0]) - phi(N)[3]*phi(N)[2]*Mdot([ad(3,N),ad(2,N),psi0]) )) )"
   ]
  },
  {
   "cell_type": "code",
   "execution_count": 8,
   "id": "ea5bd913",
   "metadata": {},
   "outputs": [
    {
     "name": "stdout",
     "output_type": "stream",
     "text": [
      "Many Body T three particle subspace\n",
      "8.427316352953737e-16\n",
      "5.092714773960294e-16\n",
      "2.6408673257912432e-15\n",
      "2.38498770010664e-15\n"
     ]
    }
   ],
   "source": [
    "print('Many Body T three particle subspace')\n",
    "print(  np.amax(np.abs( Mdot([T(N),ad(2,N),ad(1,N),ad(0,N),psi0]) - phi(N)[2]*phi(N)[1]*phi(N)[0]*Mdot([ad(2,N),ad(1,N),ad(0,N),psi0]) )) )\n",
    "print(  np.amax(np.abs( Mdot([T(N),ad(2,N),ad(1,N),ad(3,N),psi0]) - phi(N)[2]*phi(N)[1]*phi(N)[3]*Mdot([ad(2,N),ad(1,N),ad(3,N),psi0]) )) )\n",
    "print(  np.amax(np.abs( Mdot([T(N),ad(2,N),ad(0,N),ad(3,N),psi0]) - phi(N)[2]*phi(N)[0]*phi(N)[3]*Mdot([ad(2,N),ad(0,N),ad(3,N),psi0]) )) )\n",
    "print(  np.amax(np.abs( Mdot([T(N),ad(1,N),ad(0,N),ad(3,N),psi0]) - phi(N)[1]*phi(N)[0]*phi(N)[3]*Mdot([ad(1,N),ad(0,N),ad(3,N),psi0]) )) )\n",
    "\n",
    "\n"
   ]
  },
  {
   "cell_type": "code",
   "execution_count": 9,
   "id": "364e2983",
   "metadata": {},
   "outputs": [
    {
     "name": "stdout",
     "output_type": "stream",
     "text": [
      "Many Body T four particle subspace\n",
      "3.0303191209571234e-15\n"
     ]
    }
   ],
   "source": [
    "print('Many Body T four particle subspace')\n",
    "print(  np.amax(np.abs( Mdot([T(N),ad(3,N),ad(2,N),ad(1,N),ad(0,N),psi0]) - phi(N)[3]*phi(N)[2]*phi(N)[1]*phi(N)[0]*Mdot([ad(3,N),ad(2,N),ad(1,N),ad(0,N),psi0]) )) )\n"
   ]
  },
  {
   "cell_type": "markdown",
   "id": "bfc52b37",
   "metadata": {},
   "source": [
    "Since $[H,T] = 0$ we know that H cannot change an eigenvector of T into one with a different eigenvalue. However, for many-body states, there can be degenerate eigenvalues. "
   ]
  },
  {
   "cell_type": "code",
   "execution_count": 10,
   "id": "58890941",
   "metadata": {},
   "outputs": [
    {
     "name": "stdout",
     "output_type": "stream",
     "text": [
      "single particle eigenvalues\n",
      "0: (-1+0j)\n",
      "1: 1j\n",
      "2: (1+0j)\n",
      "3: -1j\n",
      "two particle eigenvalues\n",
      "01: (-0-1j)\n",
      "02: (-1+0j)\n",
      "03: (-0+1j)\n",
      "12: 1j\n",
      "13: (1+0j)\n",
      "23: -1j\n",
      "01 = 23 and 02 = 13\n",
      "three particle eigenvalues\n",
      "012: (-0-1j)\n",
      "013: (-1+0j)\n",
      "023: (-0+1j)\n",
      "123: (1+0j)\n"
     ]
    }
   ],
   "source": [
    "print('single particle eigenvalues')\n",
    "print( '0:', np.round( phi(N)[0] ,3) )\n",
    "print( '1:', np.round( phi(N)[1] ,3) )\n",
    "print( '2:', np.round( phi(N)[2] ,3) )\n",
    "print( '3:', np.round( phi(N)[3] ,3) )\n",
    "\n",
    "print('two particle eigenvalues')\n",
    "print( '01:', np.round( phi(N)[0]*phi(N)[1]  ,3) )\n",
    "print( '02:', np.round( phi(N)[0]*phi(N)[2]  ,3) )\n",
    "print( '03:', np.round( phi(N)[0]*phi(N)[3]  ,3) )\n",
    "print( '12:', np.round( phi(N)[1]*phi(N)[2]  ,3) )\n",
    "print( '13:', np.round( phi(N)[1]*phi(N)[3]  ,3) )\n",
    "print( '23:', np.round( phi(N)[2]*phi(N)[3]  ,3) )\n",
    "print( '01 = 23 and 02 = 13')\n",
    "\n",
    "print('three particle eigenvalues')\n",
    "print( '012:', np.round( phi(N)[0]*phi(N)[1]*phi(N)[2]  ,3) )\n",
    "print( '013:', np.round( phi(N)[0]*phi(N)[1]*phi(N)[3]  ,3) )\n",
    "print( '023:', np.round( phi(N)[0]*phi(N)[2]*phi(N)[3]  ,3) )\n",
    "print( '123:', np.round( phi(N)[1]*phi(N)[2]*phi(N)[3]  ,3) )"
   ]
  },
  {
   "cell_type": "markdown",
   "id": "57059949",
   "metadata": {},
   "source": [
    "Now let us check how this works with the Hamiltonian"
   ]
  },
  {
   "cell_type": "code",
   "execution_count": 11,
   "id": "23da6919",
   "metadata": {},
   "outputs": [],
   "source": [
    "def neighbors(N):\n",
    "    nbrs = []\n",
    "    for i in range(N-1):\n",
    "        nbrs.append([i,i+1])\n",
    "        nbrs.append([i+1,i])\n",
    "    nbrs.append([N-1,0])\n",
    "    nbrs.append([0,N-1])\n",
    "    return nbrs\n",
    "\n",
    "def K(k,N):\n",
    "    nbrs = neighbors(N)\n",
    "    Kout = 0*I(N)\n",
    "    for pair in nbrs:\n",
    "        i = pair[0]\n",
    "        j = pair[1]\n",
    "        Kout = Kout + k*Mdot([cd(i,N),c(j,N)])\n",
    "    return Kout\n",
    " \n",
    "def D(d,N):\n",
    "    Dout = 0*I(N)\n",
    "    for i in range(0,N):\n",
    "        j = np.mod(i+1,N)\n",
    "        Dout = Dout + Mdot([n(i,N),n(j,N)])\n",
    "    return d*Dout\n",
    "\n",
    "def H(k,d,N):\n",
    "    return K(k,N) + D(d,N) \n",
    "\n",
    "\n"
   ]
  },
  {
   "cell_type": "code",
   "execution_count": 12,
   "id": "0d488495",
   "metadata": {},
   "outputs": [
    {
     "name": "stdout",
     "output_type": "stream",
     "text": [
      "commutes: 3.0178014525816443e-15\n"
     ]
    }
   ],
   "source": [
    "print('commutes:', np.amax(np.abs( Mdot([H(1,0.7,4),T(4)]) - Mdot([T(4),H(1,0.7,4)]) )) )"
   ]
  },
  {
   "cell_type": "code",
   "execution_count": 13,
   "id": "39fa174c",
   "metadata": {},
   "outputs": [
    {
     "data": {
      "text/plain": [
       "array([[-1.65-0.j,  0.  -0.j,  0.  -0.j,  0.  +0.j, -0.  -0.j, -0.35-0.j],\n",
       "       [ 0.  +0.j,  0.7 +0.j,  0.  -0.j,  0.  -0.j,  0.  -0.j, -0.  -0.j],\n",
       "       [ 0.  +0.j,  0.  +0.j, -1.65+0.j,  0.35-0.j,  0.  -0.j,  0.  +0.j],\n",
       "       [ 0.  +0.j,  0.  +0.j,  0.35-0.j,  2.35-0.j, -0.  -0.j,  0.  -0.j],\n",
       "       [-0.  +0.j,  0.  +0.j,  0.  +0.j, -0.  +0.j,  0.7 +0.j, -0.  -0.j],\n",
       "       [-0.35-0.j, -0.  +0.j, -0.  +0.j,  0.  +0.j, -0.  +0.j,  2.35+0.j]])"
      ]
     },
     "execution_count": 13,
     "metadata": {},
     "output_type": "execute_result"
    }
   ],
   "source": [
    "h = H(1,0.7,4) \n",
    "psi01 = Mdot([ad(0,N),ad(1,N),psi0])\n",
    "psi02 = Mdot([ad(0,N),ad(2,N),psi0])\n",
    "psi03 = Mdot([ad(0,N),ad(3,N),psi0])\n",
    "psi12 = Mdot([ad(1,N),ad(2,N),psi0])\n",
    "psi13 = Mdot([ad(1,N),ad(3,N),psi0])\n",
    "psi23 = Mdot([ad(2,N),ad(3,N),psi0])\n",
    "\n",
    "psi2p = [psi01,psi02,psi03,psi12,psi13,psi23]\n",
    "\n",
    "test = [ [ bkt(psi2p[i],h,psi2p[j]) for i in range(6)] for j in range(6)]\n",
    "\n",
    "np.round( test ,5)"
   ]
  },
  {
   "cell_type": "markdown",
   "id": "914d26ad",
   "metadata": {},
   "source": [
    "As expected, the blocks are exectly those which have denenerate eigenvalues of T.  "
   ]
  },
  {
   "cell_type": "markdown",
   "id": "8c1448e5",
   "metadata": {},
   "source": [
    "## Rewrite H in terms of a"
   ]
  },
  {
   "cell_type": "code",
   "execution_count": 14,
   "id": "f7852a7a",
   "metadata": {},
   "outputs": [
    {
     "name": "stdout",
     "output_type": "stream",
     "text": [
      "5.125906774580067e-16\n",
      "8.326672684688674e-16\n",
      "3.3782125623021557e-16\n",
      "8.881784197001252e-16\n"
     ]
    }
   ],
   "source": [
    "N = 4\n",
    "\n",
    "fd = dgr( f(4) )\n",
    "\n",
    "print( np.amax(np.abs(   fd[0][0]*ad(0,N) + fd[0][1]*ad(1,N) + fd[0][2]*ad(2,N) + fd[0][3]*ad(3,N)  - cd(0,N)  )))\n",
    "print( np.amax(np.abs(   fd[1][0]*ad(0,N) + fd[1][1]*ad(1,N) + fd[1][2]*ad(2,N) + fd[1][3]*ad(3,N)  - cd(1,N)  )))\n",
    "print( np.amax(np.abs(   fd[2][0]*ad(0,N) + fd[2][1]*ad(1,N) + fd[2][2]*ad(2,N) + fd[2][3]*ad(3,N)  - cd(2,N)  )))\n",
    "print( np.amax(np.abs(   fd[3][0]*ad(0,N) + fd[3][1]*ad(1,N) + fd[3][2]*ad(2,N) + fd[3][3]*ad(3,N)  - cd(3,N)  )))"
   ]
  },
  {
   "cell_type": "code",
   "execution_count": 15,
   "id": "e2434343",
   "metadata": {},
   "outputs": [
    {
     "data": {
      "text/plain": [
       "array([ 5.00000000e-01-3.85185989e-34j, -1.37002935e-16-5.00000000e-01j,\n",
       "       -5.00000000e-01-2.61083821e-16j,  2.85804968e-18+5.00000000e-01j])"
      ]
     },
     "execution_count": 15,
     "metadata": {},
     "output_type": "execute_result"
    }
   ],
   "source": [
    "f(N)[1]"
   ]
  },
  {
   "cell_type": "code",
   "execution_count": 16,
   "id": "94f4b353",
   "metadata": {},
   "outputs": [
    {
     "name": "stdout",
     "output_type": "stream",
     "text": [
      "3.3306690738754696e-16\n",
      "4.540754989429367e-16\n",
      "2.220446049250313e-16\n",
      "4.540754989429367e-16\n"
     ]
    }
   ],
   "source": [
    "print(np.amax(np.abs( f(N)[0] - [1/2*np.exp(-1j*np.pi*j) for j in range(N)] )))\n",
    "print(np.amax(np.abs( f(N)[1] - [1/2*np.exp(-1j*np.pi/2*j) for j in range(N)] )))\n",
    "print(np.amax(np.abs( f(N)[2] - [1/2*np.exp(1j*0*j) for j in range(N)] )))\n",
    "print(np.amax(np.abs( f(N)[3] - [1/2*np.exp(1j*np.pi/2*j) for j in range(N)] )))"
   ]
  },
  {
   "cell_type": "code",
   "execution_count": 17,
   "id": "cba0fdc6",
   "metadata": {},
   "outputs": [
    {
     "name": "stdout",
     "output_type": "stream",
     "text": [
      "3.3306690738754696e-16\n",
      "4.041120497397176e-16\n",
      "4.482315075900194e-16\n",
      "4.529177942200601e-16\n"
     ]
    }
   ],
   "source": [
    "print(np.amax(np.abs( fd[0] - [1/2*np.exp(1j*0*j) for j in range(N)] )))\n",
    "print(np.amax(np.abs( fd[1] + [1/2*np.exp(-1j*np.pi/2*j) for j in range(N)] )))\n",
    "print(np.amax(np.abs( fd[2] - [1/2*np.exp(1j*np.pi*j) for j in range(N)] )))\n",
    "print(np.amax(np.abs( fd[3] + [1/2*np.exp(1j*np.pi/2*j) for j in range(N)] )))"
   ]
  },
  {
   "cell_type": "code",
   "execution_count": 18,
   "id": "a9b7c9a5",
   "metadata": {},
   "outputs": [
    {
     "name": "stdout",
     "output_type": "stream",
     "text": [
      "6.921144475284663e-16\n",
      "1.0010751633254106e-15\n",
      "5.143910172419463e-16\n",
      "9.069760197110526e-16\n"
     ]
    }
   ],
   "source": [
    "print( np.amax(np.abs(   ad(0,N) + ad(1,N) + ad(2,N) + ad(3,N)  - 2*cd(0,N)  )))\n",
    "print( np.amax(np.abs(   -ad(0,N) - np.exp(-1j*np.pi/2)*ad(1,N) - np.exp(-1j*np.pi/2*2)*ad(2,N) - np.exp(-1j*np.pi/2*3)*ad(3,N)  - 2*cd(1,N)  )))\n",
    "print( np.amax(np.abs(   ad(0,N) + np.exp(1j*np.pi)*ad(1,N) + np.exp(1j*np.pi*2)*ad(2,N) + np.exp(1j*np.pi*3)*ad(3,N)  - 2*cd(2,N)  )))\n",
    "print( np.amax(np.abs(   -ad(0,N) - np.exp(1j*np.pi/2)*ad(1,N) - np.exp(1j*np.pi/2*2)*ad(2,N) - np.exp(1j*np.pi/2*3)*ad(3,N)  - 2*cd(3,N)  )))\n"
   ]
  },
  {
   "cell_type": "markdown",
   "id": "8cca8afc",
   "metadata": {},
   "source": [
    "We should have that $$ c^{\\dagger}_j = \\sum_n e^{i \\frac{j n \\pi}{N}} $$\n",
    "but because of the ordering something is a little off.  Let me just set $a^{\\dagger}$ and $a$ by hand instead of getting them from the eigenstates of T."
   ]
  },
  {
   "cell_type": "code",
   "execution_count": 19,
   "id": "8250670a",
   "metadata": {},
   "outputs": [],
   "source": [
    "def ad(n,N):\n",
    "    out = 0*cd(0,N)\n",
    "    for j in range(N):\n",
    "        out = out + 1/np.sqrt(N)*np.exp(1j*j*n*2*np.pi/N)*cd(j,N)\n",
    "    return out\n",
    "\n",
    "def a(n,N):\n",
    "    return dgr(ad(n,N))"
   ]
  },
  {
   "cell_type": "code",
   "execution_count": 20,
   "id": "5bbf4cbf",
   "metadata": {},
   "outputs": [
    {
     "data": {
      "text/plain": [
       "3.85210819184729e-16"
      ]
     },
     "execution_count": 20,
     "metadata": {},
     "output_type": "execute_result"
    }
   ],
   "source": [
    "psin = Mdot([ad(3,N),ad(1,N),psi0])\n",
    "np.amax(np.abs( Mdot([T(N),psin]) - bkt(psin,T(N),psin)*psin ))"
   ]
  },
  {
   "cell_type": "code",
   "execution_count": 21,
   "id": "a65ec598",
   "metadata": {},
   "outputs": [
    {
     "data": {
      "text/plain": [
       "array([[ 2.35-0.j, -0.  -0.j, -0.  -0.j, -0.  +0.j, -0.  +0.j, -0.35-0.j],\n",
       "       [-0.  +0.j,  0.7 +0.j,  0.  +0.j,  0.  -0.j,  0.  -0.j, -0.  +0.j],\n",
       "       [-0.  +0.j,  0.  -0.j,  2.35-0.j,  0.35+0.j, -0.  -0.j, -0.  -0.j],\n",
       "       [-0.  -0.j, -0.  -0.j,  0.35-0.j, -1.65+0.j,  0.  +0.j,  0.  -0.j],\n",
       "       [-0.  -0.j,  0.  +0.j, -0.  +0.j,  0.  -0.j,  0.7 +0.j, -0.  -0.j],\n",
       "       [-0.35+0.j, -0.  -0.j,  0.  +0.j, -0.  +0.j, -0.  +0.j, -1.65+0.j]])"
      ]
     },
     "execution_count": 21,
     "metadata": {},
     "output_type": "execute_result"
    }
   ],
   "source": [
    "h = H(1,0.7,4) \n",
    "psi01 = Mdot([ad(0,N),ad(1,N),psi0])\n",
    "psi02 = Mdot([ad(0,N),ad(2,N),psi0])\n",
    "psi03 = Mdot([ad(0,N),ad(3,N),psi0])\n",
    "psi12 = Mdot([ad(1,N),ad(2,N),psi0])\n",
    "psi13 = Mdot([ad(1,N),ad(3,N),psi0])\n",
    "psi23 = Mdot([ad(2,N),ad(3,N),psi0])\n",
    "\n",
    "psi2p = [psi01,psi02,psi03,psi12,psi13,psi23]\n",
    "\n",
    "test = [ [ bkt(psi2p[i],h,psi2p[j]) for i in range(6)] for j in range(6)]\n",
    "\n",
    "np.round( test ,5)"
   ]
  },
  {
   "cell_type": "code",
   "execution_count": 22,
   "id": "f1a25dae",
   "metadata": {},
   "outputs": [
    {
     "name": "stdout",
     "output_type": "stream",
     "text": [
      "2.3409673969408664e-16\n",
      "1.4409059796375077e-16\n",
      "7.347880794884119e-16\n",
      "7.347880794884119e-16\n"
     ]
    }
   ],
   "source": [
    "print( np.amax(np.abs(   ad(0,N) + ad(1,N) + ad(2,N) + ad(3,N)  - 2*cd(0,N)  )))\n",
    "print( np.amax(np.abs(   ad(0,N) + np.exp(-1j*np.pi/2)*ad(1,N) + np.exp(-1j*np.pi/2*2)*ad(2,N) + np.exp(-1j*np.pi/2*3)*ad(3,N)  - 2*cd(1,N)  )))\n",
    "print( np.amax(np.abs(   ad(0,N) + np.exp(1j*np.pi)*ad(1,N) + np.exp(1j*np.pi*2)*ad(2,N) + np.exp(1j*np.pi*3)*ad(3,N)  - 2*cd(2,N)  )))\n",
    "print( np.amax(np.abs(   ad(0,N) + np.exp(1j*np.pi/2)*ad(1,N) + np.exp(1j*np.pi/2*2)*ad(2,N) + np.exp(1j*np.pi/2*3)*ad(3,N)  - 2*cd(3,N)  )))\n"
   ]
  },
  {
   "cell_type": "markdown",
   "id": "ad99a174",
   "metadata": {},
   "source": [
    "Okay now we are set.  Let's write $K$ and $D$ in terms of $a^{\\dagger}$ and $a$."
   ]
  },
  {
   "cell_type": "code",
   "execution_count": 23,
   "id": "4b4ae68e",
   "metadata": {},
   "outputs": [
    {
     "name": "stdout",
     "output_type": "stream",
     "text": [
      "3 (0.25+0.24999999999999997j) 0b11\n",
      "5 (-0.5+9.184850993605148e-17j) 0b101\n",
      "6 (0.24999999999999992-0.2500000000000001j) 0b110\n",
      "9 (0.24999999999999994-0.2500000000000001j) 0b1001\n",
      "10 (1.8369701987210297e-16+0.5j) 0b1010\n",
      "12 (-0.2500000000000001-0.2499999999999999j) 0b1100\n"
     ]
    }
   ],
   "source": [
    "#Let's take a look at what states are in these eigenstates of T.\n",
    "psin = Mdot([ad(1,N),ad(2,N),psi0])\n",
    "for i in range(len(psin)):\n",
    "    if np.abs(psin[i]) > 0.0001:\n",
    "        print(i,psin[i],bin(i))"
   ]
  },
  {
   "cell_type": "markdown",
   "id": "84ebff40",
   "metadata": {},
   "source": [
    "We know that $K$ is diagonal in this basis:\n",
    "$$ K = \\sum_n 2k\\cos(n \\frac{2\\pi}{N}) a^{\\dagger}_n a_n $$"
   ]
  },
  {
   "cell_type": "code",
   "execution_count": 25,
   "id": "3493b5b0",
   "metadata": {},
   "outputs": [
    {
     "data": {
      "text/plain": [
       "2.46154006628618e-16"
      ]
     },
     "execution_count": 25,
     "metadata": {},
     "output_type": "execute_result"
    }
   ],
   "source": [
    "def Kn(k,N):\n",
    "    Ktst = 0*I(N)\n",
    "    for n in range(N):\n",
    "        Ktst = Ktst + 2*k*np.cos(n*2*np.pi/N)*Mdot([ad(n,N),a(n,N)])\n",
    "    return Ktst\n",
    "\n",
    "k=0.67\n",
    "np.amax(np.abs( Kn(k,N) - K(k,N) ))"
   ]
  },
  {
   "cell_type": "markdown",
   "id": "ec7f8940",
   "metadata": {},
   "source": [
    "On the other hand, $D$ is only block diagonal,\n",
    "\n",
    "$$ D = \\frac{d}{N}\\sum_{nn'mm'} e^{i \\frac{2\\pi}{N}(m-m')} a^{\\dagger}_{n}a_{n'}a^{\\dagger}_{m}a_{m'} \\delta_{0,n-n'+m-m'}$$\n",
    "\n",
    "So we have the condition that $D$ only connects modes with the property $\\text{mod}(n-n'+m-m',N) = 0$.  For $N=4$ there are only two off diagonal elements: $$0+3 = 1+2$$ and $$ \\text{mod(2+3,N)} = 0+1 $$\n",
    "\n",
    "So for N=4,\n",
    "$$ D = \\frac{d}{4} (\\sum_{mm'}a^{\\dagger}_ma_m a^{\\dagger}_{m'}a_{m'} + a^{\\dagger}_0a^{\\dagger}_2a_3a_1 + a^{\\dagger}_0a^{\\dagger}_1a_2a_3 + h.c.) $$\n",
    "\n"
   ]
  },
  {
   "cell_type": "markdown",
   "id": "2bf14bc5",
   "metadata": {},
   "source": [
    "\n",
    "The number of possible terms in $D$ is less than $N^4$ so it is subexponential.  We can find the terms by checking all possible combinations of $n,n',m,m'$ which is again $N\\times N\\times N \\times N = N^4$."
   ]
  },
  {
   "cell_type": "code",
   "execution_count": 76,
   "id": "bb574f77",
   "metadata": {},
   "outputs": [
    {
     "data": {
      "text/plain": [
       "[[0, 3, 1, 2],\n",
       " [0, 4, 1, 3],\n",
       " [0, 5, 1, 4],\n",
       " [0, 1, 2, 5],\n",
       " [0, 5, 2, 3],\n",
       " [0, 1, 3, 4],\n",
       " [0, 2, 3, 5],\n",
       " [0, 3, 4, 5],\n",
       " [1, 4, 2, 3],\n",
       " [1, 5, 2, 4],\n",
       " [1, 2, 4, 5],\n",
       " [2, 5, 3, 4]]"
      ]
     },
     "execution_count": 76,
     "metadata": {},
     "output_type": "execute_result"
    }
   ],
   "source": [
    "def find_terms(N):\n",
    "    out = []\n",
    "    for n in range(N):\n",
    "        for nn in range(N):\n",
    "            for m in range(N):\n",
    "                for mm in range(N):\n",
    "                    if np.mod(n-nn+m-mm,N) == 0:\n",
    "                        if n != m and nn != mm:\n",
    "                            if n != nn:\n",
    "                                if n != mm:\n",
    "                                    in_list = 0\n",
    "                                    for old in out:\n",
    "                                        if n == old[0] and m == old[1] and nn == old[2] and mm == old[3]:\n",
    "                                            in_list = 1\n",
    "                                        if n == old[1] and m == old[0] and nn == old[2] and mm == old[3]:\n",
    "                                            in_list = 1\n",
    "                                        if n == old[0] and m == old[1] and nn == old[3] and mm == old[2]:\n",
    "                                            in_list = 1\n",
    "                                        if n == old[1] and m == old[0] and nn == old[3] and mm == old[2]:\n",
    "                                            in_list = 1\n",
    "                                        if nn == old[0] and mm == old[1] and n == old[2] and m == old[3]:\n",
    "                                            in_list = 1\n",
    "                                        if nn == old[1] and mm == old[0] and n == old[2] and m == old[3]:\n",
    "                                            in_list = 1\n",
    "                                        if nn == old[0] and mm == old[1] and n == old[3] and m == old[2]:\n",
    "                                            in_list = 1\n",
    "                                        if nn == old[1] and mm == old[0] and n == old[3] and m == old[2]:\n",
    "                                            in_list = 1\n",
    "                                    if in_list == 0:\n",
    "                                        out.append([n,m,nn,mm])\n",
    "    return out\n",
    "\n",
    "find_terms(6)"
   ]
  },
  {
   "cell_type": "markdown",
   "id": "aad6064e",
   "metadata": {},
   "source": [
    "In general, $D$ connects states with particles in \n",
    "\\begin{eqnarray}\n",
    " &[0,N-1] &\\leftrightarrow [1,N-2] &\\leftrightarrow [2,N-3] &\\ldots [N-1,1] &\\leftrightarrow [0,N-1]   \\\\\n",
    " &[0,N-2] &\\leftrightarrow [1,N-3] &\\leftrightarrow [2,N-4] &\\ldots [N-1,N-1] &\\leftrightarrow [0,N-2] \\\\\n",
    " &[0,N-3] &\\leftrightarrow [1,N-4] &\\leftrightarrow [2,N-5] &\\ldots [N-1,N-2] &\\leftrightarrow [0,N-3] \\\\\n",
    "  &  &  & \\vdots & &  \\\\\n",
    " &[0,1] &\\leftrightarrow [1,0] &\\leftrightarrow [2,N-1] &\\ldots [N-1,2] &\\leftrightarrow [0,1] \\\\\n",
    " &[0,0] &\\leftrightarrow [1,N-1] &\\leftrightarrow [2,N-2] &\\ldots [N-1,1] &\\leftrightarrow [0,0] \n",
    "\\end{eqnarray}"
   ]
  },
  {
   "cell_type": "code",
   "execution_count": 44,
   "id": "e8469212",
   "metadata": {},
   "outputs": [],
   "source": [
    "def Du(d,N):\n",
    "    Dtst = 0*I(N)\n",
    "    for n in range(N):\n",
    "        for nn in range(N):\n",
    "            for m in range(N):\n",
    "                for mm in range(N):\n",
    "                    if np.mod(n-nn+m-mm,N) == 0:\n",
    "                        Dtst = Dtst + d/N*np.exp(1j*2*np.pi*(m-mm)/N)*Mdot([cd(n,N),c(nn,N),cd(m,N),c(mm,N)])\n",
    "    return Dtst"
   ]
  },
  {
   "cell_type": "code",
   "execution_count": 32,
   "id": "7666ec53",
   "metadata": {},
   "outputs": [],
   "source": [
    "def Dn(d,N):\n",
    "    Dtst = 0*I(N)\n",
    "    for n in range(N):\n",
    "        for nn in range(N):\n",
    "            for m in range(N):\n",
    "                for mm in range(N):\n",
    "                    if np.mod(n-nn+m-mm,N) == 0:\n",
    "                        Dtst = Dtst + d/N*np.exp(1j*2*np.pi*(m-mm)/N)*Mdot([ad(n,N),a(nn,N),ad(m,N),a(mm,N)])\n",
    "    return Dtst"
   ]
  },
  {
   "cell_type": "code",
   "execution_count": 33,
   "id": "0e86330a",
   "metadata": {},
   "outputs": [
    {
     "data": {
      "text/plain": [
       "2.220446049250313e-16"
      ]
     },
     "execution_count": 33,
     "metadata": {},
     "output_type": "execute_result"
    }
   ],
   "source": [
    "from Define_Paulis import n as num\n",
    "\n",
    "def D(d,N):\n",
    "    Dout = 0*I(N)\n",
    "    for i in range(0,N):\n",
    "        j = np.mod(i+1,N)\n",
    "        Dout = Dout + Mdot([num(i,N),num(j,N)])\n",
    "    return d*Dout\n",
    "\n",
    "d=0.4\n",
    "np.amax(np.abs( Dn(d,N) - D(d,N) ))"
   ]
  },
  {
   "cell_type": "code",
   "execution_count": null,
   "id": "1c3734bd",
   "metadata": {},
   "outputs": [],
   "source": []
  },
  {
   "cell_type": "code",
   "execution_count": null,
   "id": "253f4c8d",
   "metadata": {},
   "outputs": [],
   "source": []
  }
 ],
 "metadata": {
  "kernelspec": {
   "display_name": "qiskit_3.5",
   "language": "python",
   "name": "qiskit_3.5"
  },
  "language_info": {
   "codemirror_mode": {
    "name": "ipython",
    "version": 3
   },
   "file_extension": ".py",
   "mimetype": "text/x-python",
   "name": "python",
   "nbconvert_exporter": "python",
   "pygments_lexer": "ipython3",
   "version": "3.10.4"
  },
  "toc": {
   "base_numbering": 1,
   "nav_menu": {},
   "number_sections": true,
   "sideBar": true,
   "skip_h1_title": false,
   "title_cell": "Table of Contents",
   "title_sidebar": "Contents",
   "toc_cell": false,
   "toc_position": {},
   "toc_section_display": true,
   "toc_window_display": false
  }
 },
 "nbformat": 4,
 "nbformat_minor": 5
}
