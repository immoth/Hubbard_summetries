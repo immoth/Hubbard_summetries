{
 "cells": [
  {
   "cell_type": "code",
   "execution_count": 6,
   "metadata": {},
   "outputs": [
    {
     "data": {
      "application/javascript": [
       "MathJax.Hub.Config({\n",
       "    TeX: { equationNumbers: { autoNumber: \"AMS\" } }\n",
       "});\n"
      ],
      "text/plain": [
       "<IPython.core.display.Javascript object>"
      ]
     },
     "metadata": {},
     "output_type": "display_data"
    }
   ],
   "source": [
    "\n",
    "%%javascript\n",
    "MathJax.Hub.Config({\n",
    "    TeX: { equationNumbers: { autoNumber: \"AMS\" } }\n",
    "});\n"
   ]
  },
  {
   "cell_type": "markdown",
   "metadata": {},
   "source": [
    "# Finding Symmetry Blocks Using Quantum Phase Estimation"
   ]
  },
  {
   "cell_type": "markdown",
   "metadata": {},
   "source": [
    " Finding a state with a particular quatnum number $o$ corresponding to an eiganstate of a period symmetary operator $\\hat{O}$ is very simillar to quantum phase estimation (QPE) and can be performed on a quantum computer. "
   ]
  },
  {
   "cell_type": "markdown",
   "metadata": {},
   "source": [
    "## Finding an eigenstate of $\\hat{O}$"
   ]
  },
  {
   "cell_type": "markdown",
   "metadata": {},
   "source": [
    "Let $L$ be the period of $\\hat{O}$ such that $\\hat{O}^L = I$\n",
    "\n",
    "Then that state \n",
    "\\begin{equation}\n",
    "|o,\\lambda> = \\frac{1}{N}\\sum_{r=0}^{L-1}e^{ior}\\hat{O}^r |\\psi>\n",
    "\\end{equation}\n",
    "is an Eigenstate of $\\hat{O}$ where $N$ is a normalization factor, $|\\psi>$ is an arbitrary state, and $o = 2\\pi n/L$ with $n \\in \\{-N/2+1,...., N/2\\}$\n",
    "\n",
    "## Generating this state on a quantum computer\n",
    "\n",
    "QPE creates a very simillar state to the one in the previous section.  I will use an analogy to QPE to generate this symmetry state.\n",
    "\n",
    "Let \n",
    "\\begin{equation}\n",
    "U_o = e^{i o} \\hat{O}\n",
    "\\end{equation}\n",
    "where $o$ and $\\hat{O}$ are the same as in the last section.\n",
    "\n",
    "Define a state \n",
    "\\begin{equation}\n",
    "|\\Psi> = \\frac{1}{2^{n/2}}(|0>+|1>)^{\\otimes L}|\\psi>\n",
    "\\end{equation}\n",
    "where $|\\psi>$ is an arbitary state.\n",
    "\n",
    "Finally let us define a controlled version of $U_o$ as $U_{oj}$ such that\n",
    "\\begin{equation}\n",
    "U_{oj}|\\Psi> =   \\frac{1}{2^{n/2}} (|0>+|1>)_{L-1} ... (|0>+U_o|1>)_j ... (|0>+|1>)_0|\\psi>\n",
    "\\end{equation}\n",
    "\n",
    "Now we apply a product of controlled gates\n",
    "\\begin{equation}\n",
    " \\prod_{j=0}^{L-1} U_{oj}^{2^j}|\\Psi> = \\frac{1}{2^{n/2}} (|0>+e^{io2^{L-1}}\\hat{O}^{2^{L-1}}|1>)_{L-1} ... (|0>+e^{io2^{j}}\\hat{O}^{2^{j}}|1>)_j ... (|0>+|1>)_0|\\psi> = \\frac{1}{2^{n/2}} \\sum_{r=0}^{2^{L-1}}|r>e^{ior}\\hat{O}^r|\\psi>\n",
    "\\end{equation}\n",
    "where $|r>$ is the state like $|01101...>$ with $r=01101...$ in binary. \n",
    "\n",
    "We are now very close to the symmetry eigenstate.  All we have to do is measure the auxillary qubits in the basis\n",
    "\\begin{equation}\n",
    "|m> = \\sum_{r=0}^{2^{L-1}}|r> = \\frac{1}{2^{n/2}}(|0>+|1>)^{\\otimes L} \n",
    "\\end{equation}\n",
    "\n",
    "Then we have\n",
    "\\begin{equation}\n",
    " <m|\\prod_{j=0}^{L-1} U_{oj}^{2^j}|\\Psi> = \\frac{1}{N} \\sum_{r=0}^{2^{L-1}}\\sum_{r'=0}^{2^{L-1}}<r'|r>e^{ior}\\hat{O}^r|\\psi> = \\frac{1}{N} \\sum_{r=0}^{2^{L-1}}e^{ior}\\hat{O}^r|\\psi>  \n",
    "\\end{equation}\n",
    "where $N$ is some normalization constant."
   ]
  },
  {
   "cell_type": "code",
   "execution_count": 1,
   "metadata": {},
   "outputs": [
    {
     "data": {
      "text/plain": [
       "'C:\\\\Users\\\\jsten\\\\IBMQ\\\\Hubbard_symmetries'"
      ]
     },
     "execution_count": 1,
     "metadata": {},
     "output_type": "execute_result"
    }
   ],
   "source": [
    "pwd"
   ]
  },
  {
   "cell_type": "code",
   "execution_count": null,
   "metadata": {},
   "outputs": [],
   "source": []
  }
 ],
 "metadata": {
  "kernelspec": {
   "display_name": "Python [conda env:qiskit20_new]",
   "language": "python",
   "name": "conda-env-qiskit20_new-py"
  },
  "language_info": {
   "codemirror_mode": {
    "name": "ipython",
    "version": 3
   },
   "file_extension": ".py",
   "mimetype": "text/x-python",
   "name": "python",
   "nbconvert_exporter": "python",
   "pygments_lexer": "ipython3",
   "version": "3.8.5"
  }
 },
 "nbformat": 4,
 "nbformat_minor": 4
}
