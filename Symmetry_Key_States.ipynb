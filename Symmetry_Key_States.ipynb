{
 "cells": [
  {
   "cell_type": "code",
   "execution_count": 2,
   "id": "f36687d5",
   "metadata": {},
   "outputs": [],
   "source": [
    "import numpy as np"
   ]
  },
  {
   "cell_type": "code",
   "execution_count": 104,
   "id": "d96bfcf8",
   "metadata": {},
   "outputs": [],
   "source": [
    "#Generates all of the three electron states which cannot be connected via translation\n",
    "#This is not getting all of them.  I need to think a bit more.\n",
    "#Seems to be missing things like |111> and |222>\n",
    "def symkey3(N):\n",
    "    keys = []\n",
    "    for a in range(0,int(N/2)):\n",
    "        for b in range(a,N-2*a-3):\n",
    "            n = 0\n",
    "            psi = ''\n",
    "            psi += '1'\n",
    "            n += 1\n",
    "            for l in range(0,a):\n",
    "                psi += '0'\n",
    "                n += 1\n",
    "            psi += '1'\n",
    "            n += 1\n",
    "            for l in range(0,b):\n",
    "                psi += '0'\n",
    "                n += 1\n",
    "            psi += '1'\n",
    "            n += 1\n",
    "            for l in range(3+a+b,N):\n",
    "                psi +=  '0'\n",
    "                n += 1\n",
    "            #print(a,b,psi)\n",
    "            keys.append(psi)\n",
    "    return keys"
   ]
  },
  {
   "cell_type": "code",
   "execution_count": 118,
   "id": "0f7145f5",
   "metadata": {},
   "outputs": [
    {
     "data": {
      "text/plain": [
       "['111000000',\n",
       " '110100000',\n",
       " '110010000',\n",
       " '110001000',\n",
       " '110000100',\n",
       " '110000010',\n",
       " '101010000',\n",
       " '101001000',\n",
       " '101000100']"
      ]
     },
     "execution_count": 118,
     "metadata": {},
     "output_type": "execute_result"
    }
   ],
   "source": [
    "symkey3(9)"
   ]
  },
  {
   "cell_type": "markdown",
   "id": "841a27a8",
   "metadata": {},
   "source": [
    "Question: given an arbitrary state, can we efficiently figure out its translational symetary key state?\n",
    "\n",
    "For example, $\\hat{K}|111000> = -|011001> + |110100>$\n",
    "\n",
    "Is there an efficient way to relate $|011001> \\rightarrow |110010>$?\n",
    "\n",
    "If so, then we could act on the translational symmetary states by acting on the symmetry key."
   ]
  },
  {
   "cell_type": "markdown",
   "id": "c43ced92",
   "metadata": {},
   "source": [
    "### Brute force method:\n",
    "\n",
    "Translate the state until it matches a key.\n",
    "\n",
    "This takes $\\mathcal{O}(N)$ translations per state.  Let $S$ be the number of electrons then there are $2S$ states for every application os $\\hat{K}$ and we need to apply $\\hat{K}$ to $M$ states where $M$ is the number of symmetry keys.  That means the total number of translations we will need to do is $\\mathcal{O}(2 N S M)$.  This seems small until you relize that \n",
    "$$ N\\times M \\geq {N \\choose S} $$\n",
    "So finding the key in this way is the same as generating all of the states."
   ]
  },
  {
   "cell_type": "markdown",
   "id": "e903ce24",
   "metadata": {},
   "source": [
    "### Towards an efficient method\n",
    "\n",
    "We can realize that $\\hat{K}$ is always going to change the number of zeros between ones by one.  In other words, if we describe our symmetary states by a set of numbers which tells us how many zeros are between each one (for the three electron example, the keys are described by $a$ and $b$)  then $\\hat{K}$ will change each of those numbers by one.\n",
    "\n",
    "For example,\n",
    "$$ \\hat{K}|a=1,b=2> = |a=0, b=2> + |a=2, b=2> + |a=1, b=1> + |a=1, b=3> + |a=0,b=3> + |a=2,b=1> $$\n",
    "$$ \\hat{K}|010100100> = |001100100> + |100100100> + |010101000> + |010100010> + |011000100> + |010010100>$$ \n",
    "\n",
    "We have to be careful to avoid forbiden states and so forth but this might actually work."
   ]
  },
  {
   "cell_type": "markdown",
   "id": "138aad2c",
   "metadata": {},
   "source": [
    "Although it is redundant, I think it will be helpful to use one more label to describe the number of zeros to the end of the state.  So the previesou example becomes:\n",
    "$$ \\hat{K}|a=1,b=2,c=3> = |a=0, b=2,c=4> + |a=2, b=2,c=2> + |a=1, b=1,c=4> + |a=1, b=3,c=2> + |a=0,b=3,c=3> + |a=2,b=1,c=3> $$\n",
    "$$ \\hat{K}|010100100> = |001100100> + |100100100> + |010101000> + |010100010> + |011000100> + |010010100>$$ "
   ]
  },
  {
   "cell_type": "markdown",
   "id": "f34f7e4f",
   "metadata": {},
   "source": [
    "In general, we can write each symmetary state $|z>$ with $S = N-a-b-c$ particles in terms of the translation operator $T$ and the key state  $|a,b,c>$\n",
    "\n",
    "$$ |z> = \\frac{1}{2^{\\frac{M}{2}}}\\sum_{m=0}^{M-1} e^{i \\phi}T^{m}|a,b,c>$$\n",
    "\n",
    "The trick is that $\\hat{K}$ commutes with $T$ so\n",
    "$$ \\hat{K}|z> = \\frac{1}{2^{\\frac{M}{2}}}\\sum_{m=0}^{M-1} e^{i \\phi}T^{m}\\hat{K}|a,b,c> \\frac{1}{2^{\\frac{M}{2}}}\\sum_{m=0}^{M-1} e^{i \\phi}T^{m}\\sum_{\\text{key}}|\\text{key}> = \\sum_{\\text{key}}|z_{\\text{key}}>$$\n",
    "where the keys in the summation can be found efficiently by applying $\\hat{K}|a,b,c>$\n",
    "\n",
    "\n",
    "This only works if $M$ is the same for every key state.  If that is not the case then we have to be careful."
   ]
  },
  {
   "cell_type": "markdown",
   "id": "c1908cc4",
   "metadata": {},
   "source": [
    "In general, we should have \n",
    "$$ \\hat{K}|z> =  \\sum_{\\text{key}}2^{\\frac{M_{key}-M}{2}}\\left(\\sum_{m=0}^{M/M_{\\text{key}}}e^{mi M_{key}\\phi}\\right)|z_{\\text{key}}>$$"
   ]
  },
  {
   "cell_type": "markdown",
   "id": "4dafa4c0",
   "metadata": {},
   "source": [
    "!!!!!!!!!!!!!!! This result should be checked carefully !!!!!!!!!!!!!!!!!!!!!"
   ]
  },
  {
   "cell_type": "markdown",
   "id": "15a96f4e",
   "metadata": {},
   "source": [
    "### Method for $\\hat{N}$\n",
    "\n",
    "$$ \\hat{N} = \\sum_{i=0}^{N-1} \\hat{n}_{i\\uparrow}\\hat{n}_{i\\downarrow} $$\n",
    "\n",
    "We can write each symmetary state $|z>$ with $S = N-a-b-c$ down particles in terms of the translation operator $T$ and the key state  $|a,b,c>$.\n",
    "\n",
    "$$ |z> = \\frac{1}{2^{\\frac{M}{2}}}\\sum_{m=0}^{M-1} e^{i \\phi}T^{m}|a,b,c>$$\n",
    "\n",
    "since $T^{m}|a,b,c>$ and $T^{m'}|a',b',c'>$ are orthogonal for $\\{a,b,c\\} \\neq \\{a',b',c'\\}$ regardless of $m$ and $m'$, $\\hat{N}$ is diognal in the |z> basis.  We can check\n",
    "\n",
    "$$ <z| \\hat{n}_{i} |z> = \\frac{1}{2^M}\\sum_{m=0}^{M-1}<a,b,c|T^{m}\\hat{n}_i T^{m}|a,b,c> $$ \n",
    "\n",
    "Now realize that there will be exactly $S$ different values for $m$ for which $<a,b,c|T^{m}\\hat{n}_i T^{m}|a,b,c> = 1$ and it will be zero everywhere else.  Therefore,\n",
    "\n",
    "$$ <z| \\hat{n}_{i} |z> = \\frac{S}{2^M} $$\n",
    "\n",
    "Then we can check the whole opperator \n",
    "$$ <z_{\\uparrow}z_{\\downarrow}|\\hat{N}|z_{\\uparrow}z_{\\downarrow}> =  \\sum_{i=0}^{N-1}<z_\\uparrow| \\hat{n}_{i\\uparrow}|z_\\uparrow><z_{\\downarrow}|\\hat{n}_{i\\downarrow}|z_{\\downarrow}> =  \\sum_{i=0}^{N-1}\\frac{S}{2^M}\\frac{S}{2^M} = \\frac{N S^2}{4^M}$$"
   ]
  },
  {
   "cell_type": "markdown",
   "id": "e40e049d",
   "metadata": {},
   "source": [
    "### Generating all of the keys\n",
    "\n",
    "In fact we do not need to generate them before hand.  We can just start with any key state $|a,b,...>$ and repetedly apply $\\hat{K}$ to it until no new states arise.  \n",
    "\n",
    "We already have a rule for applying $\\hat{K}$ the key states but we need to make sure that we do not have two labels for the same state.  For example, the state $|112>$ is the same as the state $|121>$.  We can gaurantee uniqueness by always rotating until the lowest number is first, if this still isnt unique then the next lowest number possible should be second as well, and so on.  Take another example, $|3123143>$ and $|4331231>$ are the same state.  Under this rule, that state should be written as $|123142>$ since $1$ is the smallest number and $2 < 4$. \n",
    "\n",
    "If there is more than one way to write the state and still get the same label then the normalization is determined by how many ways this can be done.  For example, the state $|123123123>$ has three different rotations which give the same label.  So the normalization becomes $2^{-N/(2\\times3)}$."
   ]
  },
  {
   "cell_type": "markdown",
   "id": "8e4d2319",
   "metadata": {},
   "source": [
    "Just to be clear, the rule for applying $\\hat{K}$ to a key state is\n",
    "$$ \\hat{K}|a,b,c,...x> = |a\\pm 1,b \\mp 1,c,...x> + |a,b\\pm 1,c\\mp 1,...x>  + ... + |a\\mp 1,b,c,...x\\pm 1>$$"
   ]
  },
  {
   "cell_type": "markdown",
   "id": "f35b6720",
   "metadata": {},
   "source": [
    "So the steps are:\n",
    "    \n",
    "    1) apply $\\hat{K}$ as above.\n",
    "    \n",
    "    2) rewrite each state by\n",
    "        \n",
    "        a) finding the lowest number\n",
    "        \n",
    "        b) if there are multiple copies of this number then find the lowest number one space to the right of each \n",
    "        \n",
    "        c) repeat until you find a unique chain\n",
    "        \n",
    "        d) if there is no unique chain then any chain will do and the normalization is reduced"
   ]
  },
  {
   "cell_type": "code",
   "execution_count": 119,
   "id": "d5120e5b",
   "metadata": {},
   "outputs": [
    {
     "data": {
      "text/plain": [
       "'/Users/stenger/Documents/Research/Hubbard_symmetries'"
      ]
     },
     "execution_count": 119,
     "metadata": {},
     "output_type": "execute_result"
    }
   ],
   "source": [
    "pwd"
   ]
  },
  {
   "cell_type": "code",
   "execution_count": null,
   "id": "fc3a1902",
   "metadata": {},
   "outputs": [],
   "source": []
  }
 ],
 "metadata": {
  "kernelspec": {
   "display_name": "Python 3",
   "language": "python",
   "name": "python3"
  },
  "language_info": {
   "codemirror_mode": {
    "name": "ipython",
    "version": 3
   },
   "file_extension": ".py",
   "mimetype": "text/x-python",
   "name": "python",
   "nbconvert_exporter": "python",
   "pygments_lexer": "ipython3",
   "version": "3.9.5"
  }
 },
 "nbformat": 4,
 "nbformat_minor": 5
}
