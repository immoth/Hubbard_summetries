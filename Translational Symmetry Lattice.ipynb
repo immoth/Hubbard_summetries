{
 "cells": [
  {
   "cell_type": "markdown",
   "id": "28e1f281",
   "metadata": {},
   "source": [
    "# Translational Symmetary \n",
    "\n",
    "The full Hamilatonian is composed of two terms:\n",
    "$$ H = \\hat{K} + \\hat{U} $$\n",
    "where $\\hat{K}$ is the kinetic term\n",
    "$$ \\hat{K} = t \\sum_i \\left( c^{\\dagger}_{i\\sigma} c_{i+1\\sigma} +c^{\\dagger}_{i+1\\sigma} c_{i\\sigma} \\right) $$\n",
    "and $\\hat{U}$ is the ineraction term\n",
    "$$ \\hat{U} = u\\sum_i c^{\\dagger}_{i\\uparrow}c^{\\dagger}_{i\\downarrow}c_{i\\uparrow}c_{i\\downarrow} $$"
   ]
  },
  {
   "cell_type": "markdown",
   "id": "eb1a9c41",
   "metadata": {},
   "source": [
    "Both terms obay translational symetery $T: i \\rightarrow i+1$ which means we can build symmetary blocks using the states\n",
    "$$ |a,n> = \\frac{1}{\\sqrt{N_a}}\\sum_j e^{i n j\\frac{2\\pi}{N}} T^j |a> $$\n",
    "where $|a>$ is an arbitrary many body state in real space.  Neither $\\hat{U}$ or $\\hat{K}$ will change the value of $n$."
   ]
  },
  {
   "cell_type": "markdown",
   "id": "9734ecf1",
   "metadata": {},
   "source": [
    "We would like to find a Pauli representation of both $\\hat{U}$ and $\\hat{K}$ in this basis.  To this end, let us calculate the matrix elements of both operators.  First we will look at the simpler case:\n",
    "\\begin{equation}\n",
    "    <b,n|\\hat{U}|a,n> = \\frac{1}{\\sqrt{N_a N_b}}\\sum_{j,j'} e^{in (j-j')\\frac{2\\pi}{N}} <b|(T^{\\dagger})^{j'}T^j\\hat{U}|a> = \\frac{1}{\\sqrt{N_a N_b}}\\sum_{j,j'} e^{in (j-j')\\frac{2\\pi}{N}}  \\delta_{jj'}\\delta_{ab}u_a = \\delta_{ab}u_a\n",
    "\\end{equation}\n",
    "where I used the fact that $|a>$ and $|b>$ cannot be related by translational symmetary and $\\hat{U}|a> = |a>u_a$.  Thus we see that the $\\hat{U}$ is diagonal."
   ]
  },
  {
   "cell_type": "markdown",
   "id": "a109ecb7",
   "metadata": {},
   "source": [
    "## Finding $\\hat{K}$\n",
    "\n",
    "$$ <b,n|\\hat{K}|a,n> = \\frac{1}{\\sqrt{N_a N_b}}\\sum_{j,j'} e^{in (j-j')\\frac{2\\pi}{N}} <b|(T^{\\dagger})^{j'}T^j\\hat{K}|a>  $$"
   ]
  },
  {
   "cell_type": "markdown",
   "id": "5551c743",
   "metadata": {},
   "source": [
    "The state $\\hat{K}|a>$ may or may not have any overlap with $T^{j'-j}|b>$.  If it does then the weight will depend on several factors including the normalizations $N_a$ and $N_b$.  Let us forget about the weigths for now and just ask which states does $\\hat{K}$ connect.  Hopefully we will then be able to go back and calculate the wieghts."
   ]
  },
  {
   "cell_type": "markdown",
   "id": "dd52f551",
   "metadata": {},
   "source": [
    "Finding the states the $\\hat{K}$ connects will be nicer if we introduce a new notation.  Let us write the symmetary state in terms of the number of zeros between its base state.  Let us say $|a> = |10010101000>$ then we would write $|a,n> \\rightarrow |2113>$. "
   ]
  },
  {
   "cell_type": "markdown",
   "id": "be4df8f8",
   "metadata": {},
   "source": [
    "Let us also make the temporary simplification that the chain is infinitely long.  This makes every state we can write unique.  For example, the states $|123>$ and $|231>$ are really the same state since they are related by translation but the states $|123N>$ and $|231N>$ are unique.  It also makes all of the normalizations the same.  \n",
    "\n",
    "With all of this in hand, let build the connectivity of \\hat{K} starting with two particles and then adding more particles on at a time.  "
   ]
  },
  {
   "cell_type": "markdown",
   "id": "254f4604",
   "metadata": {},
   "source": [
    "### Two particles.\n",
    "\n",
    "With two particles in an infinite long chain, the action of $\\hat{K}$ is simple.  \n",
    "$$ \\lim_{N\\rightarrow\\infty}\\hat{K}|a,N> = \\lim_{N\\rightarrow\\infty}|a+1,N-1> + |a-1,N+1> $$\n",
    "\n",
    "So the connectivity of $\\hat{K}$ in this case is just a line.  See the diagram below."
   ]
  },
  {
   "cell_type": "markdown",
   "id": "36b93f25",
   "metadata": {},
   "source": [
    "![Slide1](K_2/Slide1.jpeg)"
   ]
  },
  {
   "cell_type": "markdown",
   "id": "485c1e7e",
   "metadata": {},
   "source": [
    "Since we are using the limit that $N$ goes to inifinity, all of the periodicities are the same and we can calculate \n",
    "\n",
    "\\begin{equation}\n",
    "\\begin{split}\n",
    "<0,N|\\hat{K}|1,N-1> &= \\frac{1}{N}\\sum_{j,j'} e^{in (j-j')\\frac{2\\pi}{N}} <11000\\ldots|(T^{\\dagger})^{j'}T^j\\hat{K}|10100\\ldots> \n",
    "\\\\\n",
    "&=  \\frac{t}{N}\\sum_{j,j'} e^{in (j-j')\\frac{2\\pi}{N}} <11000\\ldots|(T^{\\dagger})^{j'}T^j\\left(|11000\\ldots> + |01100\\ldots>\\right)\n",
    "\\\\\n",
    "&=  \\frac{t}{N}\\sum_{j,j'} e^{in (j-j')\\frac{2\\pi}{N}} \\left(\\delta_{j,j'} + \\delta_{j,j'+1}\\right)\n",
    "\\\\\n",
    "&= t \\left(1 + e^{in \\frac{2\\pi}{N}}\\right)\n",
    "\\end{split}\n",
    "\\end{equation}"
   ]
  },
  {
   "cell_type": "markdown",
   "id": "8c10d38c",
   "metadata": {},
   "source": [
    "Every transition will have the same phase and we get,\n",
    "$$ \\hat{K} \\rightarrow t \\left(1 + e^{in \\frac{2\\pi}{N}}\\right)X\\otimes I\\otimes I\\otimes \\ldots $$"
   ]
  },
  {
   "cell_type": "markdown",
   "id": "5f435cf9",
   "metadata": {},
   "source": [
    "### Three particles"
   ]
  },
  {
   "cell_type": "markdown",
   "id": "045e72e1",
   "metadata": {},
   "source": [
    "For three particles we have\n",
    "\n",
    "\\begin{equation}\n",
    "\\begin{split}\n",
    "\\lim_{N\\rightarrow\\infty}\\hat{K}|a,b,N> = \\lim_{N\\rightarrow\\infty}|a+1,b,N-1> + |a-1,b,N+1> + |a,b+1,N-1> + |a,b-1,N+1>\n",
    "\\\\\n",
    "+ |a+1,b-1,N> + |a-1,b+1,N> \n",
    "\\end{split}\n",
    "\\end{equation}\n",
    "\n",
    "Again it will be helpful to look at a diagram.  You should notice right away that the 2-particle diagram will be embeded into the three particle diagram.  "
   ]
  },
  {
   "cell_type": "markdown",
   "id": "ef9c32af",
   "metadata": {},
   "source": [
    "![Slide1](K_3/Slide1.jpeg)"
   ]
  },
  {
   "cell_type": "markdown",
   "id": "eda9933a",
   "metadata": {},
   "source": [
    "As before, we do not have to worry about normalization in the $N\\rightarrow \\infty$ case.  So we can calculate\n",
    "\n",
    "\\begin{equation}\n",
    "\\begin{split}\n",
    "<1,1,N|\\hat{K}|1,0,N+1> &= \\frac{1}{N}\\sum_{j,j'} e^{in (j-j')\\frac{2\\pi}{N}} <1010100\\ldots|(T^{\\dagger})^{j'}T^j\\hat{K}|1011000\\ldots> \n",
    "\\\\\n",
    "&= \\frac{t}{N}\\sum_{j,j'} e^{in (j-j')\\frac{2\\pi}{N}} <1010100\\ldots|(T^{\\dagger})^{j'}T^j|1010100\\ldots> \n",
    "\\\\\n",
    "&= \\frac{t}{N}\\sum_{j,j'} e^{in (j-j')\\frac{2\\pi}{N}} \\delta_{j,j'} \n",
    "\\\\\n",
    "&= t\n",
    "\\end{split}\n",
    "\\end{equation}\n",
    "\n",
    "Unlike in the two particle case, only one state from \\hat{K}|1,0,N-1> contributes to the matrix element so there is not phase.  There are three other types of matrix elements.  Let's see what happens with them.  \n",
    "\n",
    "\\begin{equation}\n",
    "\\begin{split}\n",
    "<1,1,N|\\hat{K}|2,0,N> &= \\frac{1}{N}\\sum_{j,j'} e^{in (j-j')\\frac{2\\pi}{N}} <1010100\\ldots|(T^{\\dagger})^{j'}T^j\\hat{K}|1001100\\ldots> \n",
    "\\\\\n",
    "&= \\frac{t}{N}\\sum_{j,j'} e^{in (j-j')\\frac{2\\pi}{N}} <1010100\\ldots|(T^{\\dagger})^{j'}T^j|1010100\\ldots> \n",
    "\\\\\n",
    "&= \\frac{t}{N}\\sum_{j,j'} e^{in (j-j')\\frac{2\\pi}{N}} \\delta_{j,j'} \n",
    "\\\\\n",
    "&= t\n",
    "\\end{split}\n",
    "\\end{equation}\n",
    "\n",
    "\\begin{equation}\n",
    "\\begin{split}\n",
    "<1,1,N|\\hat{K}|0,1,N+1> &= \\frac{1}{N}\\sum_{j,j'} e^{in (j-j')\\frac{2\\pi}{N}} <1010100\\ldots|(T^{\\dagger})^{j'}T^j\\hat{K}|110100\\ldots> \n",
    "\\\\\n",
    "&= \\frac{t}{N}\\sum_{j,j'} e^{in (j-j')\\frac{2\\pi}{N}} <1010100\\ldots|(T^{\\dagger})^{j'}T^j|010100\\ldots 1> \n",
    "\\\\\n",
    "&= \\frac{t}{N}\\sum_{j,j'} e^{in (j-j')\\frac{2\\pi}{N}} \\delta_{j,j'-1} \n",
    "\\\\\n",
    "&= t e^{in \\frac{2\\pi}{N}}\n",
    "\\end{split}\n",
    "\\end{equation}"
   ]
  },
  {
   "cell_type": "markdown",
   "id": "531642e5",
   "metadata": {},
   "source": [
    "So we get a phase only when we are acting on the first particle.  With this information and the triangular lattice we can do the Pauli decomposition\n",
    "\\begin{equation}\n",
    "\\begin{split}\n",
    "\\hat{K} = &t X\\otimes I \\otimes I \\ldots I\\otimes I \\otimes I \\ldots\n",
    "\\\\\n",
    "+ &t e^{in \\frac{2\\pi}{N}}I\\otimes I \\otimes I \\ldots X \\otimes I \\otimes I \\ldots\n",
    "\\\\\n",
    "+ &tX\\otimes I \\otimes I \\ldots X\\otimes I \\otimes I \\ldots \n",
    "\\\\\n",
    "+ &itY\\otimes I \\otimes I \\ldots X\\otimes I \\otimes I \\ldots \n",
    "\\end{split}\n",
    "\\end{equation}"
   ]
  },
  {
   "cell_type": "markdown",
   "id": "624a2f27",
   "metadata": {},
   "source": [
    "### Four Particles\n",
    "\n",
    "For four particles let me just show the diagram for the unit cell and then we will talk about the general case.  \n",
    "\n"
   ]
  },
  {
   "cell_type": "markdown",
   "id": "16406bdb",
   "metadata": {},
   "source": [
    "![Slide1](K_4/Slide1.jpeg)"
   ]
  },
  {
   "cell_type": "markdown",
   "id": "d3cd32f5",
   "metadata": {},
   "source": [
    "### General number of particles\n",
    "\n",
    "We can think of the movement of zeros from between one pair of particle to a neighbouring pair as a dimension with the constraint that moving in through each dimension consecutively brings you back to were you started.  \n",
    "\n"
   ]
  },
  {
   "cell_type": "markdown",
   "id": "e31ed5a0",
   "metadata": {},
   "source": [
    "<div>\n",
    "<img src=\"K_g/Slide1.jpeg\" width=\"300\"/>\n",
    "</div>"
   ]
  },
  {
   "cell_type": "markdown",
   "id": "5cd9ccf4",
   "metadata": {},
   "source": [
    "In the above example, moving once in the x-directin, then in the y-direction, then in the z-direction, is the same as moving in the w-direction.\n",
    "\n",
    "\n",
    "We see that for Q particles, $\\hat{K}$ forms a Q-dimensional square lattice with a connection through the diagonal of the unit cell. "
   ]
  },
  {
   "cell_type": "markdown",
   "id": "f9962690",
   "metadata": {},
   "source": [
    "As in the three particle case, the only phase is when you move the first particle.  That is go accross the diagonal (w-axis in the above diagram)."
   ]
  },
  {
   "cell_type": "markdown",
   "id": "0e225080",
   "metadata": {},
   "source": [
    "## Finite chains."
   ]
  },
  {
   "cell_type": "markdown",
   "id": "ab490772",
   "metadata": {},
   "source": [
    "Finite length chains create boundary conditions on the $\\hat{K}$ lattice.  Let us look at the thirteen site, three fermion case."
   ]
  },
  {
   "cell_type": "markdown",
   "id": "05ea63e8",
   "metadata": {},
   "source": [
    "![Slide1](K_3_10s/Slide1.jpeg)"
   ]
  },
  {
   "cell_type": "markdown",
   "id": "82c58fbc",
   "metadata": {},
   "source": [
    "As long as the last number of zeros is the biggest, then it works like the infinite case.  Along the boundary, the axis can switch (e.g. the x-axis can become the y-axis ect...).  When the axis switch we pick up a phase.  Let's look at an example.\n",
    "\n",
    "\\begin{equation}\n",
    "\\begin{split}\n",
    "<4,1,5|\\hat{K}|1,4,5> &= \\frac{1}{N}\\sum_{j,j'} e^{in (j-j')\\frac{2\\pi}{N}} <1000010100000\\ldots|(T^{\\dagger})^{j'}T^j\\hat{K}|1010000100000\\ldots> \n",
    "\\\\\n",
    "&= \\frac{t}{N}\\sum_{j,j'} e^{in (j-j')\\frac{2\\pi}{N}} <1000010100000\\ldots|(T^{\\dagger})^{j'}T^j\\hat{K}|1010000010000\\ldots> \n",
    "\\\\\n",
    "&= \\frac{t}{N}\\sum_{j,j'} e^{in (j-j')\\frac{2\\pi}{N}} \\delta_{j,j'+8} \n",
    "\\\\\n",
    "&= t e^{in 8\\frac{2\\pi}{N}}\n",
    "\\end{split}\n",
    "\\end{equation}\n",
    "\n",
    "Let's look at another one\n",
    "\n",
    "\\begin{equation}\n",
    "\\begin{split}\n",
    "<4,0,6|\\hat{K}|0,5,5> &= \\frac{1}{N}\\sum_{j,j'} e^{in (j-j')\\frac{2\\pi}{N}} <1000011000000\\ldots|(T^{\\dagger})^{j'}T^j\\hat{K}|1100000100000\\ldots> \n",
    "\\\\\n",
    "&= \\frac{t}{N}\\sum_{j,j'} e^{in (j-j')\\frac{2\\pi}{N}} <1000011000000\\ldots|(T^{\\dagger})^{j'}T^j|1100000010000\\ldots> \n",
    "\\\\\n",
    "&= \\frac{t}{N}\\sum_{j,j'} e^{in (j-j')\\frac{2\\pi}{N}} \\delta_{j,j'+8}\n",
    "\\\\\n",
    "&= t e^{in8\\frac{2\\pi}{N}} \n",
    "\\end{split}\n",
    "\\end{equation}\n",
    "\n",
    "These give the same phase because we are swapping the same two axis. In the three particle case there are only two axis which can be swapped so you always get a phase of $N-\\frac{N-3}{2}$\n",
    "\n",
    "The normalization happens to be all the same for the thirteen site, three particle case.  For the three particle case in general, the only normalization that can be different is when all three number of zeros are the same.  For other fillings, the normalization changes based on the periodicity of the state.  Note that while the last set of zeros is the largest, the periodicity is the same for all states.  Thus, the periodicity can only be different along the lattice boundary.  "
   ]
  },
  {
   "cell_type": "markdown",
   "id": "82acde06",
   "metadata": {},
   "source": [
    "In general there are three things to figure out:\n",
    "\n",
    "1) The connectivity\n",
    "\n",
    "2) The periodicity\n",
    "\n",
    "3) The phase\n",
    "\n",
    "\n",
    "I think the connectivity is clear in all cases from what I have written above.  The peridocity and phase is solved except at the boundary.  I need to do a little more thinking to figure out what the phase and periodicity will be in general at the boundary.  "
   ]
  },
  {
   "cell_type": "code",
   "execution_count": 2,
   "id": "bcd2ef3c",
   "metadata": {},
   "outputs": [
    {
     "data": {
      "text/plain": [
       "'/Users/stenger/Documents/Research/Hubbard_symmetries'"
      ]
     },
     "execution_count": 2,
     "metadata": {},
     "output_type": "execute_result"
    }
   ],
   "source": [
    "pwd"
   ]
  },
  {
   "cell_type": "code",
   "execution_count": null,
   "id": "480153d1",
   "metadata": {},
   "outputs": [],
   "source": []
  }
 ],
 "metadata": {
  "kernelspec": {
   "display_name": "Python 3",
   "language": "python",
   "name": "python3"
  },
  "language_info": {
   "codemirror_mode": {
    "name": "ipython",
    "version": 3
   },
   "file_extension": ".py",
   "mimetype": "text/x-python",
   "name": "python",
   "nbconvert_exporter": "python",
   "pygments_lexer": "ipython3",
   "version": "3.9.5"
  }
 },
 "nbformat": 4,
 "nbformat_minor": 5
}
