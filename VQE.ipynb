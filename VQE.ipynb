{
 "cells": [
  {
   "cell_type": "markdown",
   "metadata": {},
   "source": [
    "# Symmetry Reduced VQE"
   ]
  },
  {
   "cell_type": "markdown",
   "metadata": {},
   "source": [
    "The first step is to find the blocks of a Hamiltonian which has have been reduced due to the application of some symmerty consideration.  Each block will then have an associated wavefunction,\n",
    "$$ |\\psi^b> = U(\\phi^b_1,\\phi^b_1,\\ldots)|000\\ldots> $$\n",
    "where $|000\\ldots>$ is the state in which $Q$ qubits are in their ground state with $Q$ deterimed by the size of the block $N$ as $Q = \\log_2 N$ rounded up and $U$ is a linear transformation with some set of parameters $\\{\\phi^b_i\\}$ which depend on the block.  \n",
    "\n",
    "For this notebook we will use the linear transformation Anzatz from here: https://arxiv.org/abs/1907.01493.  It gives $U$ as applying y-rotations to each qubit, then coupling each qubit pair with a C-not gate and repreating. \n",
    "$$ U^b_i = \\prod_q R^y_q(\\phi_{q0}^b)\\prod_{q'}C_{4q',4q'+1}C_{4q'+3,4q'+2}\\prod_{q''}C_{4q''+1,4q''+2}C_{4q''+4,4q''+3} $$\n",
    "$$ U^b = \\prod_i U^b_i $$\n",
    "where the $\\pm$ in the subscripts of the C-not gates alternates (see below for an exact definition).\n",
    "\n",
    "The Hamiltonian might be block diagonal or it might have some nonzero off diagonal blocks.  In the most general case, the minimization function invovles wave functions from different blocks.  \n",
    "\n",
    "$$ E = \\sum_{a,b}<\\psi^a|H_{ab}|\\psi^b> $$\n",
    "\n",
    "To minimize this function we will use the simultaneous perturbation stochastic approximation algorithm."
   ]
  },
  {
   "cell_type": "markdown",
   "metadata": {},
   "source": [
    "## Hamiltonian"
   ]
  },
  {
   "cell_type": "markdown",
   "metadata": {},
   "source": [
    "As an example for this notebook we will use the Hamiltonian generated from Example_Matrix_Creation_Sign_Fix.ipynb\n",
    "\n",
    "I do not know how to export the summed operator from OpFlow so I will import the numpy matrix and then re-extract the Pauli terms here."
   ]
  },
  {
   "cell_type": "code",
   "execution_count": 1,
   "metadata": {},
   "outputs": [],
   "source": [
    "import numpy as np \n",
    "\n",
    "H = np.load('Hamiltonian_Example.npy')"
   ]
  },
  {
   "cell_type": "code",
   "execution_count": 2,
   "metadata": {},
   "outputs": [
    {
     "data": {
      "text/plain": [
       "array([-3.34084762e+00+0.00000000e+00j, -3.29295138e+00+0.00000000e+00j,\n",
       "       -2.86387634e+00+0.00000000e+00j, -2.78526086e+00+0.00000000e+00j,\n",
       "       -1.56155281e+00+0.00000000e+00j, -1.56155281e+00+0.00000000e+00j,\n",
       "       -1.00000000e+00+0.00000000e+00j, -1.00000000e+00+0.00000000e+00j,\n",
       "       -1.00000000e+00+0.00000000e+00j, -1.00000000e+00+0.00000000e+00j,\n",
       "       -5.61552813e-01+0.00000000e+00j, -5.61552813e-01+0.00000000e+00j,\n",
       "        7.31507328e-16+0.00000000e+00j,  5.07690516e-01+0.00000000e+00j,\n",
       "        5.23028722e-01+0.00000000e+00j,  1.00000000e+00+0.00000000e+00j,\n",
       "        1.00000000e+00+0.00000000e+00j,  1.00000000e+00+0.00000000e+00j,\n",
       "        1.00000000e+00+0.00000000e+00j,  1.00000000e+00-1.27192026e-16j,\n",
       "        1.00000000e+00+1.27192026e-16j,  1.47697128e+00+0.00000000e+00j,\n",
       "        1.49230948e+00+0.00000000e+00j,  2.00000000e+00+0.00000000e+00j,\n",
       "        2.56155281e+00+0.00000000e+00j,  2.56155281e+00+0.00000000e+00j,\n",
       "        3.00000000e+00+0.00000000e+00j,  3.00000000e+00+0.00000000e+00j,\n",
       "        3.00000000e+00+0.00000000e+00j,  3.00000000e+00+0.00000000e+00j,\n",
       "        3.56155281e+00+0.00000000e+00j,  3.56155281e+00+0.00000000e+00j,\n",
       "        4.78526086e+00+0.00000000e+00j,  4.86387634e+00+0.00000000e+00j,\n",
       "        5.29295138e+00+0.00000000e+00j,  5.34084762e+00+0.00000000e+00j])"
      ]
     },
     "execution_count": 2,
     "metadata": {},
     "output_type": "execute_result"
    }
   ],
   "source": [
    "e,y = np.linalg.eig(H)\n",
    "\n",
    "np.sort(e)"
   ]
  },
  {
   "cell_type": "markdown",
   "metadata": {},
   "source": [
    "Now that the Hamiltonian has been imported let us break it into blocks and exctract the Pauli coordinates.  "
   ]
  },
  {
   "cell_type": "code",
   "execution_count": 38,
   "metadata": {},
   "outputs": [],
   "source": [
    "from qiskit.opflow import (I, X, Y, Z)\n",
    "from qiskit.opflow.primitive_ops import MatrixOp\n",
    "from qiskit import quantum_info as qi\n",
    "\n",
    "# Function to add elements to a block so that it fits onto qubits\n",
    "def complete_diagonal(b11):\n",
    "    size = 2**np.ceil(np.log2(len(b11)))\n",
    "    for v in b11:\n",
    "        while len(v) < size:\n",
    "            v.append(0.0)\n",
    "    while len(b11) < size:\n",
    "        i = len(b11)\n",
    "        vnew = [0.0 for i in range(0,8)]\n",
    "        vnew[i] = 10\n",
    "        b11.append(vnew)\n",
    "    return b11\n",
    "\n",
    "def complete_off_diagonal(b11):\n",
    "    size = 2**np.ceil(np.log2(len(b11)))\n",
    "    for v in b11:\n",
    "        while len(v) < size:\n",
    "            v.append(0.0)\n",
    "    while len(b11) < size:\n",
    "        i = len(b11)\n",
    "        vnew = [0.0 for i in range(0,8)]\n",
    "        b11.append(vnew)\n",
    "    return b11\n",
    "\n"
   ]
  },
  {
   "cell_type": "code",
   "execution_count": 4,
   "metadata": {},
   "outputs": [],
   "source": [
    "import math\n",
    "N = 4\n",
    "S = 2\n",
    "bL = math.comb(4,2)\n",
    "\n",
    "blocks = {}\n",
    "for bi in range(bL):\n",
    "    for bj in range(bi,bL):\n",
    "        bij = [[H[i + bL*bi][j + bL*bj] for j in range(0,bL)] for i in range(0,bL)]\n",
    "        if np.amax(np.abs(bij)) > 10**(-5):\n",
    "            if bi == bj:\n",
    "                bij = complete_diagonal(bij)\n",
    "            else:\n",
    "                bij = complete_off_diagonal(bij)\n",
    "            bij_pauli = MatrixOp(bij).to_pauli_op()\n",
    "            blocks[str(bi) + ',' + str(bj)] = bij_pauli\n",
    "        "
   ]
  },
  {
   "cell_type": "markdown",
   "metadata": {},
   "source": [
    "The object *blocks* is a dictionary of *SumedOp* lists of *PauliOp* objects.  "
   ]
  },
  {
   "cell_type": "code",
   "execution_count": 5,
   "metadata": {},
   "outputs": [
    {
     "data": {
      "text/html": [
       "<div>\n",
       "<style scoped>\n",
       "    .dataframe tbody tr th:only-of-type {\n",
       "        vertical-align: middle;\n",
       "    }\n",
       "\n",
       "    .dataframe tbody tr th {\n",
       "        vertical-align: top;\n",
       "    }\n",
       "\n",
       "    .dataframe thead th {\n",
       "        text-align: right;\n",
       "    }\n",
       "</style>\n",
       "<table border=\"1\" class=\"dataframe\">\n",
       "  <thead>\n",
       "    <tr style=\"text-align: right;\">\n",
       "      <th></th>\n",
       "      <th>0</th>\n",
       "      <th>1</th>\n",
       "      <th>2</th>\n",
       "      <th>3</th>\n",
       "      <th>4</th>\n",
       "      <th>5</th>\n",
       "      <th>6</th>\n",
       "      <th>7</th>\n",
       "    </tr>\n",
       "  </thead>\n",
       "  <tbody>\n",
       "    <tr>\n",
       "      <th>0</th>\n",
       "      <td>-1.0+0.0j</td>\n",
       "      <td>0.0+0.0j</td>\n",
       "      <td>0.0+0.0j</td>\n",
       "      <td>0.0+0.0j</td>\n",
       "      <td>0.0+0.0j</td>\n",
       "      <td>0.0+0.0j</td>\n",
       "      <td>0.0+0.0j</td>\n",
       "      <td>0.0+0.0j</td>\n",
       "    </tr>\n",
       "    <tr>\n",
       "      <th>1</th>\n",
       "      <td>0.0+0.0j</td>\n",
       "      <td>-1.0+0.0j</td>\n",
       "      <td>0.0+0.0j</td>\n",
       "      <td>0.0+0.0j</td>\n",
       "      <td>0.0+0.0j</td>\n",
       "      <td>0.0+0.0j</td>\n",
       "      <td>0.0+0.0j</td>\n",
       "      <td>0.0+0.0j</td>\n",
       "    </tr>\n",
       "    <tr>\n",
       "      <th>2</th>\n",
       "      <td>0.0+0.0j</td>\n",
       "      <td>0.0+0.0j</td>\n",
       "      <td>-1.0+0.0j</td>\n",
       "      <td>0.0+0.0j</td>\n",
       "      <td>0.0+0.0j</td>\n",
       "      <td>0.0+0.0j</td>\n",
       "      <td>0.0+0.0j</td>\n",
       "      <td>0.0+0.0j</td>\n",
       "    </tr>\n",
       "    <tr>\n",
       "      <th>3</th>\n",
       "      <td>0.0+0.0j</td>\n",
       "      <td>0.0+0.0j</td>\n",
       "      <td>0.0+0.0j</td>\n",
       "      <td>-1.0+0.0j</td>\n",
       "      <td>0.0+0.0j</td>\n",
       "      <td>0.0+0.0j</td>\n",
       "      <td>0.0+0.0j</td>\n",
       "      <td>0.0+0.0j</td>\n",
       "    </tr>\n",
       "    <tr>\n",
       "      <th>4</th>\n",
       "      <td>0.0+0.0j</td>\n",
       "      <td>0.0+0.0j</td>\n",
       "      <td>0.0+0.0j</td>\n",
       "      <td>0.0+0.0j</td>\n",
       "      <td>-1.0+0.0j</td>\n",
       "      <td>0.0+0.0j</td>\n",
       "      <td>0.0+0.0j</td>\n",
       "      <td>0.0+0.0j</td>\n",
       "    </tr>\n",
       "    <tr>\n",
       "      <th>5</th>\n",
       "      <td>0.0+0.0j</td>\n",
       "      <td>0.0+0.0j</td>\n",
       "      <td>0.0+0.0j</td>\n",
       "      <td>0.0+0.0j</td>\n",
       "      <td>0.0+0.0j</td>\n",
       "      <td>-1.0+0.0j</td>\n",
       "      <td>0.0+0.0j</td>\n",
       "      <td>0.0+0.0j</td>\n",
       "    </tr>\n",
       "    <tr>\n",
       "      <th>6</th>\n",
       "      <td>0.0+0.0j</td>\n",
       "      <td>0.0+0.0j</td>\n",
       "      <td>0.0+0.0j</td>\n",
       "      <td>0.0+0.0j</td>\n",
       "      <td>0.0+0.0j</td>\n",
       "      <td>0.0+0.0j</td>\n",
       "      <td>0.0+0.0j</td>\n",
       "      <td>0.0+0.0j</td>\n",
       "    </tr>\n",
       "    <tr>\n",
       "      <th>7</th>\n",
       "      <td>0.0+0.0j</td>\n",
       "      <td>0.0+0.0j</td>\n",
       "      <td>0.0+0.0j</td>\n",
       "      <td>0.0+0.0j</td>\n",
       "      <td>0.0+0.0j</td>\n",
       "      <td>0.0+0.0j</td>\n",
       "      <td>0.0+0.0j</td>\n",
       "      <td>0.0+0.0j</td>\n",
       "    </tr>\n",
       "  </tbody>\n",
       "</table>\n",
       "</div>"
      ],
      "text/plain": [
       "          0         1         2         3         4         5         6  \\\n",
       "0 -1.0+0.0j  0.0+0.0j  0.0+0.0j  0.0+0.0j  0.0+0.0j  0.0+0.0j  0.0+0.0j   \n",
       "1  0.0+0.0j -1.0+0.0j  0.0+0.0j  0.0+0.0j  0.0+0.0j  0.0+0.0j  0.0+0.0j   \n",
       "2  0.0+0.0j  0.0+0.0j -1.0+0.0j  0.0+0.0j  0.0+0.0j  0.0+0.0j  0.0+0.0j   \n",
       "3  0.0+0.0j  0.0+0.0j  0.0+0.0j -1.0+0.0j  0.0+0.0j  0.0+0.0j  0.0+0.0j   \n",
       "4  0.0+0.0j  0.0+0.0j  0.0+0.0j  0.0+0.0j -1.0+0.0j  0.0+0.0j  0.0+0.0j   \n",
       "5  0.0+0.0j  0.0+0.0j  0.0+0.0j  0.0+0.0j  0.0+0.0j -1.0+0.0j  0.0+0.0j   \n",
       "6  0.0+0.0j  0.0+0.0j  0.0+0.0j  0.0+0.0j  0.0+0.0j  0.0+0.0j  0.0+0.0j   \n",
       "7  0.0+0.0j  0.0+0.0j  0.0+0.0j  0.0+0.0j  0.0+0.0j  0.0+0.0j  0.0+0.0j   \n",
       "\n",
       "          7  \n",
       "0  0.0+0.0j  \n",
       "1  0.0+0.0j  \n",
       "2  0.0+0.0j  \n",
       "3  0.0+0.0j  \n",
       "4  0.0+0.0j  \n",
       "5  0.0+0.0j  \n",
       "6  0.0+0.0j  \n",
       "7  0.0+0.0j  "
      ]
     },
     "execution_count": 5,
     "metadata": {},
     "output_type": "execute_result"
    }
   ],
   "source": [
    "import pandas as pd\n",
    "\n",
    "pd.DataFrame(blocks['3,4'].to_matrix())"
   ]
  },
  {
   "cell_type": "code",
   "execution_count": 6,
   "metadata": {},
   "outputs": [
    {
     "name": "stdout",
     "output_type": "stream",
     "text": [
      "SummedOp([\n",
      "  3.25 * III,\n",
      "  -0.5 * IIX,\n",
      "  0.25 * IIZ,\n",
      "  -0.25 * IXI,\n",
      "  -0.25 * IXX,\n",
      "  0.25 * IXZ,\n",
      "  -0.25 * IYY,\n",
      "  -2.25 * IZI,\n",
      "  -0.5 * IZX,\n",
      "  0.25 * IZZ,\n",
      "  0.5 * XII,\n",
      "  -0.25 * XXI,\n",
      "  -0.25 * XXX,\n",
      "  -0.25 * XXZ,\n",
      "  0.25 * XYY,\n",
      "  0.5 * XZI,\n",
      "  -0.25 * YXY,\n",
      "  -0.25 * YYI,\n",
      "  -0.25 * YYX,\n",
      "  -0.25 * YYZ,\n",
      "  -2.0 * ZII,\n",
      "  -0.25 * ZXI,\n",
      "  -0.25 * ZXX,\n",
      "  0.25 * ZXZ,\n",
      "  -0.25 * ZYY,\n",
      "  2.5 * ZZI\n",
      "])\n"
     ]
    }
   ],
   "source": [
    "print(blocks['0,0'])"
   ]
  },
  {
   "cell_type": "markdown",
   "metadata": {},
   "source": [
    "Let's take a sanity check here and make sure we can rebuild a Hamiltonian with these completed blocks and that the ground state is still the same."
   ]
  },
  {
   "cell_type": "code",
   "execution_count": 7,
   "metadata": {},
   "outputs": [
    {
     "name": "stderr",
     "output_type": "stream",
     "text": [
      "<ipython-input-7-ce06f5abc6d5>:15: ComplexWarning: Casting complex values to real discards the imaginary part\n",
      "  H_complete[i + bi*size, j + bj*size] = block[i,j]\n",
      "<ipython-input-7-ce06f5abc6d5>:16: ComplexWarning: Casting complex values to real discards the imaginary part\n",
      "  H_complete[i + bj*size, j + bi*size] = block[j,i]\n"
     ]
    }
   ],
   "source": [
    "keys = list(blocks.keys())\n",
    "\n",
    "size = int(2**np.ceil(np.log2(bL)))\n",
    "H_complete = np.array([[0 for i in range(size**2)] for j in range(size**2)])\n",
    "\n",
    "for bi in range(bL):\n",
    "    for bj in range(bi,bL):\n",
    "        key = str(bi) + ',' + str(bj)\n",
    "        if key  in keys:\n",
    "            block = blocks[key].to_matrix()\n",
    "        else:\n",
    "            block = np.array([[0.0 for i in range(size)] for j in range(size)])\n",
    "        for i in range(size):\n",
    "            for j in range(size):\n",
    "                H_complete[i + bi*size, j + bj*size] = block[i,j]\n",
    "                H_complete[i + bj*size, j + bi*size] = block[j,i]"
   ]
  },
  {
   "cell_type": "code",
   "execution_count": 8,
   "metadata": {},
   "outputs": [
    {
     "name": "stdout",
     "output_type": "stream",
     "text": [
      "-3.3408476172483366\n",
      "(-3.340847617248337+0j)\n"
     ]
    }
   ],
   "source": [
    "e_comp,y_comp = np.linalg.eig(H_complete)\n",
    "\n",
    "print(np.sort(e_comp)[0])\n",
    "print(np.sort(e)[0])"
   ]
  },
  {
   "cell_type": "markdown",
   "metadata": {},
   "source": [
    "## The Anzatz circuit"
   ]
  },
  {
   "cell_type": "markdown",
   "metadata": {},
   "source": [
    "Here we define the paramaterized circuit which we will optimize. \n",
    "\n",
    "$$ U^b_i = \\prod_q R^y_q(\\phi_{q0}^b)\\prod_{q'}C_{4q',4q'+1}C_{4q'+3,4q'+2}\\prod_{q''}C_{4q''+1,4q''+2}C_{4q''+4,4q''+3} $$\n",
    "$$ U^b = \\prod_i U^b_i $$"
   ]
  },
  {
   "cell_type": "code",
   "execution_count": 9,
   "metadata": {},
   "outputs": [],
   "source": [
    "from qiskit import QuantumCircuit, QuantumRegister,ClassicalRegister, execute\n",
    "\n",
    "\n",
    "# the number of qubits is given by the size of the blocks\n",
    "# note: the size of the blocks has already been adjusted to fit the qubits\n",
    "Q = int(np.log2(len(blocks['0,0'].to_matrix())))\n"
   ]
  },
  {
   "cell_type": "code",
   "execution_count": 19,
   "metadata": {},
   "outputs": [],
   "source": [
    "def Ui(cir_i,phi_i):  \n",
    "    \n",
    "    for q in range(0,Q):\n",
    "        cir_i.ry(phi_i[q],q)\n",
    "    for q in range(0,Q,4):\n",
    "        cir_i.cx(q,q+1)\n",
    "        if q + 3 < Q:\n",
    "            cir_i.cx(q+3,q+2)\n",
    "    for q in range(1,Q,4):\n",
    "        cir_i.cx(q,q+1)\n",
    "        if q + 3 < Q:\n",
    "            cir_i.cx(q+3,q+2)\n",
    "    \n",
    "    return cir_i\n"
   ]
  },
  {
   "cell_type": "code",
   "execution_count": 20,
   "metadata": {},
   "outputs": [
    {
     "data": {
      "image/png": "[encoded data removed]",
      "text/plain": [
       "<Figure size 293.449x264.88 with 1 Axes>"
      ]
     },
     "execution_count": 20,
     "metadata": {},
     "output_type": "execute_result"
    }
   ],
   "source": [
    "qr = QuantumRegister(Q)\n",
    "cr = ClassicalRegister(Q)\n",
    "cir_i = QuantumCircuit(qr , cr)\n",
    "tst = Ui(cir_i,[0.2,0.3,0.4])\n",
    "\n",
    "tst.draw(output = 'mpl')"
   ]
  },
  {
   "cell_type": "code",
   "execution_count": 21,
   "metadata": {},
   "outputs": [],
   "source": [
    "def U(cir,phi_b):\n",
    "    T = len(phi_b)\n",
    "    for t in range(T):\n",
    "        cir = Ui(cir,phi_b[t])\n",
    "    return cir\n"
   ]
  },
  {
   "cell_type": "code",
   "execution_count": 22,
   "metadata": {},
   "outputs": [
    {
     "data": {
      "image/png": "[encoded data removed]",
      "text/plain": [
       "<Figure size 654.795x264.88 with 1 Axes>"
      ]
     },
     "execution_count": 22,
     "metadata": {},
     "output_type": "execute_result"
    }
   ],
   "source": [
    "qr = QuantumRegister(Q)\n",
    "cr = ClassicalRegister(Q)\n",
    "cir = QuantumCircuit(qr , cr)\n",
    "tst = U(cir,[[0.2,0.3,0.4],[0.5,0.6,0.7],[0.8,0.9,0.1]])\n",
    "\n",
    "tst.draw(output = 'mpl')"
   ]
  },
  {
   "cell_type": "markdown",
   "metadata": {},
   "source": [
    "In order to deal with off diagonal blocks, we will also need to form $$ U^{ab} = I\\otimes U^a + X \\otimes U^b$$\n",
    "\n",
    "In order to great this gate we need a controled-Ry gate.  The controled-Ry can be built as $C_{R_y}(\\phi) = R_y(\\phi/2)C_{NOT}R_y(-\\phi/2)C_{NOT}$"
   ]
  },
  {
   "cell_type": "code",
   "execution_count": 131,
   "metadata": {},
   "outputs": [],
   "source": [
    "def Ui_off(cir_i,phi_a, phi_b):  \n",
    "    \n",
    "    for q in range(0,Q):\n",
    "        cir_i.ry(phi_a[q],q)\n",
    "        cir_i.cx(Q,q)\n",
    "        cir_i.ry(-(phi_b[q]-phi_a[q])/2,q)\n",
    "        cir_i.cx(Q,q)\n",
    "        cir_i.ry((phi_b[q]-phi_a[q])/2,q)\n",
    "    for q in range(0,Q,4):\n",
    "        cir_i.cx(q,q+1)\n",
    "        if q + 3 < Q:\n",
    "            cir_i.cx(q+3,q+2)\n",
    "    for q in range(1,Q,4):\n",
    "        cir_i.cx(q,q+1)\n",
    "        if q + 3 < Q:\n",
    "            cir_i.cx(q+3,q+2)\n",
    "    \n",
    "    return cir_i"
   ]
  },
  {
   "cell_type": "code",
   "execution_count": 132,
   "metadata": {},
   "outputs": [
    {
     "data": {
      "image/png": "[encoded data removed]",
      "text/plain": [
       "<Figure size 848.521x325.08 with 1 Axes>"
      ]
     },
     "execution_count": 132,
     "metadata": {},
     "output_type": "execute_result"
    }
   ],
   "source": [
    "qr = QuantumRegister(Q+1)\n",
    "cr = ClassicalRegister(Q+1)\n",
    "cir_i = QuantumCircuit(qr , cr)\n",
    "tst = Ui_off(cir_i,[0.2,0.3,0.4],[2.2,0.7,0.1])\n",
    "\n",
    "tst.draw(output = 'mpl')"
   ]
  },
  {
   "cell_type": "markdown",
   "metadata": {},
   "source": [
    "Let's check to make sure we are generating the right thing"
   ]
  },
  {
   "cell_type": "code",
   "execution_count": 134,
   "metadata": {},
   "outputs": [
    {
     "name": "stdout",
     "output_type": "stream",
     "text": [
      "A:\n",
      "[0.68180665+0.j 0.01033899+0.j 0.02088826+0.j 0.01386716+0.j\n",
      " 0.13820905+0.j 0.00209582+0.j 0.103045  +0.j 0.06840885+0.j]\n",
      "B:\n",
      "[0.3009187 +0.j 0.21581687+0.j 0.00549678+0.j 0.02958631+0.j\n",
      " 0.01505849+0.j 0.01079984+0.j 0.1098439 +0.j 0.59123293+0.j]\n",
      "AB:\n",
      "[0.68180665+0.j 0.01033899+0.j 0.02088826+0.j 0.01386716+0.j\n",
      " 0.13820905+0.j 0.00209582+0.j 0.103045  +0.j 0.06840885+0.j\n",
      " 0.3009187 +0.j 0.21581687+0.j 0.00549678+0.j 0.02958631+0.j\n",
      " 0.01505849+0.j 0.01079984+0.j 0.1098439 +0.j 0.59123293+0.j]\n"
     ]
    }
   ],
   "source": [
    "#An example block a circuit\n",
    "qr = QuantumRegister(Q)\n",
    "cr = ClassicalRegister(Q)\n",
    "cir_i = QuantumCircuit(qr , cr)\n",
    "tst_a = Ui(cir_i,[0.2,0.3,0.4])\n",
    "\n",
    "#An example block b circuit\n",
    "qr = QuantumRegister(Q)\n",
    "cr = ClassicalRegister(Q)\n",
    "cir_i = QuantumCircuit(qr , cr)\n",
    "tst_b = Ui(cir_i,[2.2,0.7,0.1])\n",
    "\n",
    "#The combination of the two blocks\n",
    "qr = QuantumRegister(Q+1)\n",
    "cr = ClassicalRegister(Q+1)\n",
    "cir_i = QuantumCircuit(qr , cr)\n",
    "cir_i.h(Q)\n",
    "tst_off = Ui_off(cir_i,[0.2,0.3,0.4],[2.2,0.7,0.1])\n",
    "\n",
    "print('A:')\n",
    "print(1/np.sqrt(2)*qi.Statevector.from_instruction(tst_a).data)\n",
    "print('B:')\n",
    "print(1/np.sqrt(2)*qi.Statevector.from_instruction(tst_b).data)\n",
    "print('AB:')\n",
    "print(qi.Statevector.from_instruction(tst_off).data)"
   ]
  },
  {
   "cell_type": "code",
   "execution_count": 135,
   "metadata": {},
   "outputs": [],
   "source": [
    "def U_off(cir,phi_a,phi_b):\n",
    "    T = len(phi_b)\n",
    "    cir.h(Q)\n",
    "    for t in range(T):\n",
    "        cir = Ui_off(cir,phi_a[t],phi_b[t])\n",
    "    return cir"
   ]
  },
  {
   "cell_type": "code",
   "execution_count": 136,
   "metadata": {},
   "outputs": [
    {
     "data": {
      "image/png": "[encoded data removed]",
      "text/plain": [
       "<Figure size 1631.12x686.28 with 1 Axes>"
      ]
     },
     "execution_count": 136,
     "metadata": {},
     "output_type": "execute_result"
    }
   ],
   "source": [
    "qr = QuantumRegister(Q+1)\n",
    "cr = ClassicalRegister(Q+1)\n",
    "cir = QuantumCircuit(qr , cr)\n",
    "tst = U_off(cir,[[0.2,0.3,0.4],[0.5,0.6,0.7],[0.8,0.9,0.1]],[[2.2,1.3,0.1],[0.5,0.6,0.7],[0.5,0.2,0.4]])\n",
    "\n",
    "tst.draw(output = 'mpl')"
   ]
  },
  {
   "cell_type": "markdown",
   "metadata": {},
   "source": [
    "# Calculating E\n",
    "\n",
    "$$ E = \\sum_{ab}<\\psi^a|H_{ab}|\\psi^b> = \\sum_{ab}<000\\ldots|U^{\\dagger}(\\{\\phi^a\\})H_{ab}U(\\{\\phi^b\\})|000\\ldots>$$\n",
    "\n",
    "each $H_{ab}$ can be brocken down into its Puali components so that $H_{ab} = \\sum_p c_p P_{ab,p}$.  The we have\n",
    "\n",
    "$$ E = \\sum_{ab}\\sum_p c_p <000\\ldots|U^{\\dagger}(\\{\\phi^a\\})  P_{ab,p}U(\\{\\phi^b\\})|000\\ldots>$$.\n",
    "\n",
    "### !!! Issue: We only get counts from the quantum computer.  If $<\\psi^a|P_{ab,p}|\\psi^b> ~< 0$  we will not know !!!"
   ]
  },
  {
   "cell_type": "markdown",
   "metadata": {},
   "source": [
    "To fix the issue we need to go through the circuit and add a Hadamard gate on each qubit with an X (ect...) then take $(-1)^n$ where n is the number of up qubits with a Puali. \n",
    "\n",
    "for example:\n",
    "$$<\\psi|XZ|\\psi> = <(R^{\\dagger}_y(\\pi/2)\\otimes I)\\psi|R_y(\\pi/2)XR^{\\dagger}_y(\\pi/2)\\otimes Z|(R_y(\\pi/2)\\otimes I)\\psi>$$\n",
    "$$ = <(R_y(\\pi/2)\\otimes I)\\psi|ZZ|(R_y(\\pi/2)\\otimes I)\\psi>$$\n",
    "$$ = |<00|R^{\\dagger}_y(\\pi/2)\\psi>|^2 + (-1)^1|<10|R_y(\\pi/2) \\psi>|^2 + (-1)^1|<01|R_y(\\pi/2) \\psi>|^2 + (-1)^2|<11|R_y(\\pi/2) \\psi>|^2$$\n",
    "\n",
    "This unfortunetly does not work for $|\\psi^a> \\neq |\\psi_b>$\n",
    "\n"
   ]
  },
  {
   "cell_type": "code",
   "execution_count": 137,
   "metadata": {},
   "outputs": [
    {
     "name": "stdout",
     "output_type": "stream",
     "text": [
      "(0.7209464513295367+0j)\n",
      "0.7209464513295368\n",
      "0.71484375\n",
      "Moon_Cheese is not a recognized method\n"
     ]
    }
   ],
   "source": [
    "from qiskit import Aer\n",
    "from qiskit.visualization import *\n",
    "from qiskit import quantum_info as qi\n",
    "\n",
    "def measure_pauli(p_label,psi0,method = 'simple'):\n",
    "    \n",
    "    #Simple method of calculation####\n",
    "    if method == 'simple':\n",
    "        wave0 = qi.Statevector.from_instruction(psi0)\n",
    "        Op = qi.Operator.from_label(p_label)\n",
    "        return np.dot(np.conjugate(wave0),np.dot(Op,wave0))\n",
    "    #################################\n",
    "        \n",
    "    #apply rotations#################\n",
    "    psi = copy.deepcopy(psi0)\n",
    "    pauli_qs = []\n",
    "    Z_label = ''\n",
    "    Q = len(p_label)\n",
    "    for q,p in enumerate(p_label):\n",
    "        if p == 'X':\n",
    "            psi.ry(-np.pi/2,Q-1-q)\n",
    "            pauli_qs.append(1)\n",
    "            Z_label += 'Z'\n",
    "        if p == 'Y':\n",
    "            psi.rx(np.pi/2,Q-1-q)\n",
    "            pauli_qs.append(1)\n",
    "            Z_label += 'Z'\n",
    "        if p == 'Z':\n",
    "            pauli_qs.append(1)\n",
    "            Z_label += 'Z'\n",
    "        if p == 'I':\n",
    "            pauli_qs.append(0)\n",
    "            Z_label += 'I'\n",
    "    ################################\n",
    "    \n",
    "    #Using matrix multiplication####\n",
    "    if method == 'matrix':\n",
    "        # add results\n",
    "        wave = qi.Statevector.from_instruction(psi)\n",
    "        r = wave.probabilities_dict()\n",
    "        z_measure = 0\n",
    "        for key in list(r.keys()):\n",
    "            n = 0\n",
    "            for q in range(len(key)):\n",
    "                if key[q] == '1' and pauli_qs[q] == 1:\n",
    "                    n += 1\n",
    "            z_measure += (-1)**n * r[key] \n",
    "        return z_measure\n",
    "    #################################\n",
    "    \n",
    "    #Using the qasm simulator########\n",
    "    if method == \"simulator\":\n",
    "        sim = Aer.get_backend(\"qasm_simulator\")\n",
    "        psi.measure(qr,cr)\n",
    "        r = execute(psi, backend = sim).result().get_counts()\n",
    "        z_measure = 0\n",
    "        total = 0\n",
    "        for key in list(r.keys()):\n",
    "            n = 0\n",
    "            for q in range(len(key)):\n",
    "                if key[q] == '1' and pauli_qs[q] == 1:\n",
    "                    n += 1\n",
    "            z_measure += (-1)**n * r[key] \n",
    "            total += r[key]\n",
    "        return z_measure/total\n",
    "    ###################################\n",
    "    \n",
    "    return method + ' is not a recognized method'\n",
    "  \n",
    "\n",
    "#Run a test\n",
    "import copy\n",
    "qr = QuantumRegister(Q)\n",
    "cr = ClassicalRegister(Q)\n",
    "cir = QuantumCircuit(qr , cr)\n",
    "psi0 = U(cir,[[1.2,2.3,3.4]])\n",
    "p_label = blocks['0,0'][17].primitive.to_label()\n",
    "        \n",
    "    \n",
    "print( measure_pauli(p_label,psi0,method = 'simple') )\n",
    "print( measure_pauli(p_label,psi0,method = 'matrix') )\n",
    "print( measure_pauli(p_label,psi0,method = 'simulator') )\n",
    "print( measure_pauli(p_label,psi0,method = 'Moon_Cheese') )"
   ]
  },
  {
   "cell_type": "markdown",
   "metadata": {},
   "source": [
    "In order to calculate things like \n",
    "$$<\\psi^a|ZZ|\\psi^b>$$ \n",
    "we will need to add another qubit and build the combined statevector \n",
    "$$ |\\psi^{ab}> = |0>|\\psi^a> + |1>|\\psi_b> $$\n",
    "then we can calculate\n",
    "$$ <\\psi^{ab}|X\\otimes ZZ|\\psi^{ab}> = <\\psi^{ab}|\\left(|1>ZZ|\\psi^a> + |0>ZZ|\\psi_b> \\right) = <\\psi^{a}|ZZ|\\psi^{b}> + <\\psi^{b}|ZZ|\\psi^{a}>  $$ \n",
    "\n",
    "In order to form the combined statevector we need to create a circuit which performs \n",
    "$$ U^{ab} = I\\otimes U^a + X \\otimes U^b$$\n",
    "In order to great this gate we need a controled-Ry gate.  We see below that the controled-Ry can be built as $C_{R_y}(\\phi) = R_y(\\phi/2)C_{NOT}R_y(-\\phi/2)C_{NOT}$"
   ]
  },
  {
   "cell_type": "code",
   "execution_count": 176,
   "metadata": {},
   "outputs": [
    {
     "name": "stdout",
     "output_type": "stream",
     "text": [
      "YYX\n",
      "Test: (0.5738814342502425+0j)\n",
      "Simple: (0.5738814342502424+0j)\n",
      "Matrix: 0.5738814342502425\n",
      "Simulator 0.59375\n",
      "Moon_Cheese is not a recognized method\n"
     ]
    }
   ],
   "source": [
    "#Run a test\n",
    "p_label = blocks['0,0'][18].primitive.to_label()\n",
    "\n",
    "#A\n",
    "qr = QuantumRegister(Q)\n",
    "cr = ClassicalRegister(Q)\n",
    "cir = QuantumCircuit(qr , cr)\n",
    "psi_a = U(cir,[[1.2,2.3,3.4]])\n",
    "\n",
    "#A\n",
    "qr = QuantumRegister(Q)\n",
    "cr = ClassicalRegister(Q)\n",
    "cir = QuantumCircuit(qr , cr)\n",
    "psi_b = U(cir,[[2.5,0.7,1.8]])\n",
    "\n",
    "\n",
    "#combined \n",
    "qr = QuantumRegister(Q+1)\n",
    "cr = ClassicalRegister(Q+1)\n",
    "cir = QuantumCircuit(qr , cr)\n",
    "psi0 = U_off(cir,[[1.2,2.3,3.4]],[[2.5,0.7,1.8]])\n",
    "\n",
    "\n",
    "wave_a = qi.Statevector.from_instruction(psi_a).data\n",
    "wave_b = qi.Statevector.from_instruction(psi_b).data\n",
    "puali = qi.Operator.from_label(p_label).data\n",
    "\n",
    "print(p_label)\n",
    "print('Test:', np.dot(np.conjugate(wave_b),np.dot(puali,wave_a)))\n",
    "print('Simple:', measure_pauli('X' + p_label,psi0,method = 'simple') )\n",
    "print('Matrix:', measure_pauli('X' + p_label,psi0,method = 'matrix') )\n",
    "print('Simulator', measure_pauli('X' + p_label,psi0,method = 'simulator') )\n",
    "print( measure_pauli('X' + p_label,psi0,method = 'Moon_Cheese') )"
   ]
  },
  {
   "cell_type": "code",
   "execution_count": 109,
   "metadata": {},
   "outputs": [
    {
     "name": "stdout",
     "output_type": "stream",
     "text": [
      "[[ 0.78999223+0.j -0.61311685+0.j  0.        +0.j  0.        +0.j]\n",
      " [ 0.61311685+0.j  0.78999223+0.j  0.        +0.j  0.        +0.j]\n",
      " [ 0.        +0.j  0.        +0.j  0.78999223+0.j -0.61311685+0.j]\n",
      " [ 0.        +0.j  0.        +0.j  0.61311685+0.j  0.78999223+0.j]]\n"
     ]
    },
    {
     "data": {
      "text/html": [
       "<div>\n",
       "<style scoped>\n",
       "    .dataframe tbody tr th:only-of-type {\n",
       "        vertical-align: middle;\n",
       "    }\n",
       "\n",
       "    .dataframe tbody tr th {\n",
       "        vertical-align: top;\n",
       "    }\n",
       "\n",
       "    .dataframe thead th {\n",
       "        text-align: right;\n",
       "    }\n",
       "</style>\n",
       "<table border=\"1\" class=\"dataframe\">\n",
       "  <thead>\n",
       "    <tr style=\"text-align: right;\">\n",
       "      <th></th>\n",
       "      <th>0</th>\n",
       "      <th>1</th>\n",
       "      <th>2</th>\n",
       "      <th>3</th>\n",
       "    </tr>\n",
       "  </thead>\n",
       "  <tbody>\n",
       "    <tr>\n",
       "      <th>0</th>\n",
       "      <td>1.000000e+00+0.000000e+00j</td>\n",
       "      <td>2.437775e-17+0.000000e+00j</td>\n",
       "      <td>0.000000+0.000000j</td>\n",
       "      <td>0.000000+0.000000j</td>\n",
       "    </tr>\n",
       "    <tr>\n",
       "      <th>1</th>\n",
       "      <td>2.437775e-17+0.000000e+00j</td>\n",
       "      <td>1.000000e+00+0.000000e+00j</td>\n",
       "      <td>0.000000+0.000000j</td>\n",
       "      <td>0.000000+0.000000j</td>\n",
       "    </tr>\n",
       "    <tr>\n",
       "      <th>2</th>\n",
       "      <td>0.000000e+00+0.000000e+00j</td>\n",
       "      <td>0.000000e+00+0.000000e+00j</td>\n",
       "      <td>0.789992+0.000000j</td>\n",
       "      <td>-0.613117+0.000000j</td>\n",
       "    </tr>\n",
       "    <tr>\n",
       "      <th>3</th>\n",
       "      <td>0.000000e+00+0.000000e+00j</td>\n",
       "      <td>0.000000e+00+0.000000e+00j</td>\n",
       "      <td>0.613117+0.000000j</td>\n",
       "      <td>0.789992+0.000000j</td>\n",
       "    </tr>\n",
       "  </tbody>\n",
       "</table>\n",
       "</div>"
      ],
      "text/plain": [
       "                            0                           1                   2  \\\n",
       "0  1.000000e+00+0.000000e+00j  2.437775e-17+0.000000e+00j  0.000000+0.000000j   \n",
       "1  2.437775e-17+0.000000e+00j  1.000000e+00+0.000000e+00j  0.000000+0.000000j   \n",
       "2  0.000000e+00+0.000000e+00j  0.000000e+00+0.000000e+00j  0.789992+0.000000j   \n",
       "3  0.000000e+00+0.000000e+00j  0.000000e+00+0.000000e+00j  0.613117+0.000000j   \n",
       "\n",
       "                    3  \n",
       "0  0.000000+0.000000j  \n",
       "1  0.000000+0.000000j  \n",
       "2 -0.613117+0.000000j  \n",
       "3  0.789992+0.000000j  "
      ]
     },
     "execution_count": 109,
     "metadata": {},
     "output_type": "execute_result"
    }
   ],
   "source": [
    "from qiskit import quantum_info as qi\n",
    "\n",
    "II = qi.Operator.from_label('II')\n",
    "IX = qi.Operator.from_label('IX')\n",
    "ZI = qi.Operator.from_label('ZI')\n",
    "ZX = qi.Operator.from_label('ZX')\n",
    "IZ = qi.Operator.from_label('IZ')\n",
    "IY = qi.Operator.from_label('IY')\n",
    "\n",
    "Cnot = 1/2*(II + IX + ZI - ZX).data\n",
    "CRiz = (np.cos(0.33)*II + 1j*np.sin(0.33)*IZ).data\n",
    "Riz = (np.cos(0.33)*II - 1j*np.sin(0.33)*IZ).data\n",
    "CRiy = (np.cos(0.33)*II + 1j*np.sin(0.33)*IY).data\n",
    "Riy = (np.cos(0.33)*II - 1j*np.sin(0.33)*IY).data\n",
    "\n",
    "print(np.dot(Riy,Riy))\n",
    "pd.DataFrame(np.dot(np.dot(Riy,np.dot(Cnot,CRiy)),Cnot))"
   ]
  },
  {
   "cell_type": "markdown",
   "metadata": {},
   "source": [
    "This should be everything I need to make this work but I need to write it all down in a coincise way before I attempt to code it."
   ]
  },
  {
   "cell_type": "markdown",
   "metadata": {},
   "source": [
    "For now we will ignore this issue.\n",
    "\n",
    "### !!! End of issue disscusion !!!"
   ]
  },
  {
   "cell_type": "markdown",
   "metadata": {},
   "source": [
    "First we need to inialize our set of parameters.  To do this we need to decide on the number of times we will apply Ui.  As a first attempt let's just have a depth of 1 (i.e. $U = Ui$).  \n",
    "\n",
    "In this case, we need a parameter for each qubit for each section."
   ]
  },
  {
   "cell_type": "code",
   "execution_count": 18,
   "metadata": {},
   "outputs": [],
   "source": [
    "#number of blocks\n",
    "T = 1\n",
    "\n",
    "phi = []\n",
    "for b in range(bL):\n",
    "    phi_b = []\n",
    "    for t in range(T):\n",
    "        phi_t = []\n",
    "        for q in range(Q):\n",
    "            phi_t.append(0)\n",
    "        phi_b.append(phi_t)\n",
    "    phi.append(phi_b)"
   ]
  },
  {
   "cell_type": "markdown",
   "metadata": {},
   "source": [
    "The structure of $\\phi_{b,t,q}$ is by section in the first index, by number of application of $U_i$ in the second index, and by qubit in the third index\n",
    "\n",
    "Now let us define a list of circuits whose projection onto $|000\\ldots>$ are summed to get the value of $E$.  I will only do the upper blocks meaning that the wieght of the off diagonal blocks is doubled."
   ]
  },
  {
   "cell_type": "code",
   "execution_count": 19,
   "metadata": {},
   "outputs": [],
   "source": [
    "def E_Circs(phi,blocks):\n",
    "    cir_l = []\n",
    "    for key in list(blocks.keys()):\n",
    "        for p in blocks[key]:\n",
    "            qr = QuantumRegister(Q)\n",
    "            cr = ClassicalRegister(Q)\n",
    "            cir = QuantumCircuit(qr , cr)\n",
    "            a = int(key.split(',')[0])\n",
    "            b = int(key.split(',')[1])\n",
    "            w = p.coeff\n",
    "            if a != b:\n",
    "                w = 2*p.coeff\n",
    "            \n",
    "            cir = U(cir,phi[b])\n",
    "            p_cir = p.to_circuit()\n",
    "            cir = cir.compose(p_cir)\n",
    "            cir = U_dagger(cir,phi[a])\n",
    "            cir.measure(qr, cr)\n",
    "            \n",
    "            cir_l.append([w,cir])\n",
    "    \n",
    "    return cir_l\n",
    "            \n",
    "        \n",
    "        "
   ]
  },
  {
   "cell_type": "code",
   "execution_count": 20,
   "metadata": {},
   "outputs": [
    {
     "name": "stdout",
     "output_type": "stream",
     "text": [
      "-0.5\n"
     ]
    },
    {
     "data": {
      "image/png": "[encoded data removed]",
      "text/plain": [
       "<Figure size 581.469x264.88 with 1 Axes>"
      ]
     },
     "execution_count": 20,
     "metadata": {},
     "output_type": "execute_result"
    }
   ],
   "source": [
    "e_circs = E_Circs(phi,blocks)\n",
    "p = 1\n",
    "print(e_circs[p][0])\n",
    "e_circs[p][1].draw(output = 'mpl')"
   ]
  },
  {
   "cell_type": "markdown",
   "metadata": {},
   "source": [
    "## Simulate finding E"
   ]
  },
  {
   "cell_type": "markdown",
   "metadata": {},
   "source": [
    "Before we move on to the optimization method, let's see how we can use *E_Circs* to find the value of E.  To do this I will use the qasm simulator from Aer."
   ]
  },
  {
   "cell_type": "code",
   "execution_count": 21,
   "metadata": {},
   "outputs": [],
   "source": [
    "from qiskit import Aer\n",
    "from qiskit.visualization import *"
   ]
  },
  {
   "cell_type": "code",
   "execution_count": 22,
   "metadata": {},
   "outputs": [],
   "source": [
    "#get the simulator\n",
    "sim = Aer.get_backend(\"qasm_simulator\")"
   ]
  },
  {
   "cell_type": "markdown",
   "metadata": {},
   "source": [
    "To get a value for E, we execute each circuit, find the projection of the final circuit onto $|000\\ldots>$, and multiply the result by the wieght of the circuit."
   ]
  },
  {
   "cell_type": "code",
   "execution_count": 23,
   "metadata": {},
   "outputs": [],
   "source": [
    "def find_E(e_circs):\n",
    "    E = 0\n",
    "    for p_circ in e_circs:\n",
    "        circ = p_circ[1]\n",
    "        w = p_circ[0]\n",
    "        r = execute(circ, backend = sim).result().get_counts()\n",
    "        r_keys = list(r.keys())\n",
    "        total = 0\n",
    "        for key in r_keys:\n",
    "            total += r[key]\n",
    "        if '000' in r:\n",
    "            num = r['000']/total\n",
    "        else:\n",
    "            num = 0\n",
    "        E += num*w\n",
    "\n",
    "    #Normalize\n",
    "    E = E/bL\n",
    "    \n",
    "    return E"
   ]
  },
  {
   "cell_type": "code",
   "execution_count": 24,
   "metadata": {},
   "outputs": [
    {
     "data": {
      "text/plain": [
       "-0.3333333333333333"
      ]
     },
     "execution_count": 24,
     "metadata": {},
     "output_type": "execute_result"
    }
   ],
   "source": [
    "find_E(e_circs)"
   ]
  },
  {
   "cell_type": "markdown",
   "metadata": {},
   "source": [
    "For a sanity check, let's compare this to simple matrix multiplication"
   ]
  },
  {
   "cell_type": "code",
   "execution_count": 25,
   "metadata": {},
   "outputs": [
    {
     "data": {
      "text/plain": [
       "-0.3333333333333334"
      ]
     },
     "execution_count": 25,
     "metadata": {},
     "output_type": "execute_result"
    }
   ],
   "source": [
    "all_down = [0 for i in range(len(H))]\n",
    "for b in range(bL):\n",
    "    all_down[bL*b + 1] = 1/np.sqrt(bL)\n",
    "    \n",
    "np.dot(all_down,np.dot(H,all_down))"
   ]
  },
  {
   "cell_type": "markdown",
   "metadata": {},
   "source": [
    "# Optimization"
   ]
  },
  {
   "cell_type": "markdown",
   "metadata": {},
   "source": [
    "I will be using the simultaneous perturbation stochastic approximation algorithm.  The algorithm works by calculating the gradiant of the cost function $E(\\hat{\\phi})$ by randomly purturbating all parameters in $\\hat{\\phi}$\n",
    "\n",
    "Let $\\hat{\\Delta}_k$ be a set of randomly selected purturbations during step $k$ of the algorithm. I will use the Bernoulli distribution to select $\\hat{\\Delta}_k$.  Then the gradient is \n",
    "$$ \\hat{g}_k(\\hat{\\phi}_k) = \\frac{E(\\hat{\\phi}_k + c_k \\hat{\\Delta}_k)-E(\\hat{\\phi}_k - c_k \\hat{\\Delta}_k)}{2 c_k} \\hat{\\Delta}_k$$.\n",
    "The gradiant is then used to update the parameters \n",
    "$$ \\hat{\\phi}_{k+1} = \\hat{\\phi}_k - a_k \\hat{g}_k(\\hat{\\phi}_k) $$\n",
    "\n",
    "$c_k$ and $a_k$ decrease with each iteration of the algorithm so that we zero in on the the minimum of $E$.  They are given by\n",
    "$$c_k = \\frac{c}{(k+1)^{\\gamma}}$$\n",
    "$$a_k = \\frac{a}{(A+k+1)^{\\alpha}}$$\n",
    "where $a$, $A$, $\\alpha$, $c$, and $\\gamma$ are choosen at the begining of the algorithm."
   ]
  },
  {
   "cell_type": "code",
   "execution_count": 26,
   "metadata": {},
   "outputs": [],
   "source": [
    "import copy"
   ]
  },
  {
   "cell_type": "code",
   "execution_count": 27,
   "metadata": {},
   "outputs": [],
   "source": [
    "def SPSA(k_max):\n",
    "    #Initalization\n",
    "    #Initalization\n",
    "    k = 0\n",
    "    #alpha = 0.602\n",
    "    alpha = 0.201\n",
    "    A = 10\n",
    "    a = 0.6\n",
    "    gamma = 0.101\n",
    "    c = 0.4\n",
    "    phi_k = np.array(phi)\n",
    "    E_l = []\n",
    "    \n",
    "    #Begin Iterations\n",
    "    for k in range(k_max):\n",
    "        #Update c and a\n",
    "        a_k = a/((A + k + 1)**alpha)\n",
    "        c_k = c/((k + 1)**gamma)\n",
    "\n",
    "        #Find Delta\n",
    "        Delta_k = np.array(phi_k)\n",
    "        for b in range(bL):\n",
    "            for t in range(T):\n",
    "                for q in range(Q):\n",
    "                    Delta_k[b][t][q] = 1 - 2*np.random.binomial(size=None, n=1, p= 0.5)\n",
    "            \n",
    "        #Find E    \n",
    "        E_Circs_A = E_Circs(phi_k + c_k*Delta_k ,blocks)\n",
    "        E_Circs_B = E_Circs(phi_k - c_k*Delta_k ,blocks)\n",
    "        E_A = find_E(E_Circs_A)\n",
    "        E_B = find_E(E_Circs_B)\n",
    "        \n",
    "        #Calculate gradiant\n",
    "        g = (E_A-E_B)/(2*c_k) \n",
    "        g_k = g * Delta_k\n",
    "        phi_k = phi_k - a_k * g_k\n",
    "        \n",
    "        #Calculate new E\n",
    "        E_Circs_f = E_Circs(phi_k,blocks)\n",
    "        E_f = find_E(E_Circs_f)\n",
    "        \n",
    "        #Print and save E\n",
    "        print('k=',k,'c_k=',c_k,'a_k=',a_k,'g=',g,'E_A=',E_A,'E_B=',E_B,'E_f=',E_f)\n",
    "        E_l.append(E_f)\n",
    "        \n",
    "    return E_l"
   ]
  },
  {
   "cell_type": "code",
   "execution_count": 28,
   "metadata": {},
   "outputs": [
    {
     "name": "stdout",
     "output_type": "stream",
     "text": [
      "k= 0 c_k= 0.4 a_k= 0.37053677789517936 g= -0.007578531901041713 E_A= 0.9276529947916666 E_B= 0.9337158203125 E_f= -0.3329671223958333\n",
      "k= 1 c_k= 0.372954594574733 a_k= 0.36411269399518237 g= -0.0327851606601757 E_A= 0.7898763020833334 E_B= 0.8143310546875 E_f= -0.333251953125\n",
      "k= 2 c_k= 0.3579898757427053 a_k= 0.35830150846605 g= 0.045180932485014785 E_A= 0.8417561848958334 E_B= 0.8094075520833334 E_f= -0.3261311848958333\n",
      "k= 3 c_k= 0.34773782403600867 a_k= 0.3530039095073033 g= -0.03955064493331966 E_A= 0.8016764322916666 E_B= 0.8291829427083334 E_f= -0.3275146484375\n",
      "k= 4 c_k= 0.33998833831625347 a_k= 0.3481423907099719 g= 0.06229389903088187 E_A= 0.7687581380208334 E_B= 0.7263997395833334 E_f= -0.3260498046875\n",
      "k= 5 c_k= 0.3337849224236992 a_k= 0.3436553693939271 g= 0.03651059523427836 E_A= 0.6127522786458334 E_B= 0.58837890625 E_f= -0.3322347005208333\n",
      "k= 6 c_k= 0.32862839767254015 a_k= 0.3394931510171673 g= 0.08382477204018918 E_A= 0.60009765625 E_B= 0.5450032552083334 E_f= -0.3184407552083333\n",
      "k= 7 c_k= 0.3242260479541237 a_k= 0.33561508800432555 g= -0.04863093346162713 E_A= 0.6148274739583334 E_B= 0.6463623046875 E_f= -0.3118489583333333\n",
      "k= 8 c_k= 0.3203918778356939 a_k= 0.3319875341277904 g= -0.10591887379992547 E_A= 0.602294921875 E_B= 0.670166015625 E_f= -0.310791015625\n",
      "k= 9 c_k= 0.3170005321921887 a_k= 0.3285823423742081 g= -0.10358630578762525 E_A= 0.5732014973958334 E_B= 0.6388753255208334 E_f= -0.2962239583333333\n",
      "k= 10 c_k= 0.31396362164265085 a_k= 0.32537574248024465 g= 0.2514265878012466 E_A= 0.69091796875 E_B= 0.5330403645833334 E_f= -0.2569580078125\n",
      "k= 11 c_k= 0.31121655104422363 a_k= 0.32234748901110455 g= 0.07982001121212885 E_A= 0.6434733072916666 E_B= 0.5937906901041666 E_f= -0.24918619791666666\n",
      "k= 12 c_k= 0.3087107214903736 a_k= 0.31948020567017194 g= 0.12706154236334105 E_A= 0.6905517578125 E_B= 0.6121012369791666 E_f= -0.2510579427083333\n",
      "k= 13 c_k= 0.3064086770492659 a_k= 0.31675887422872395 g= 0.3254186572672831 E_A= 0.6319173177083334 E_B= 0.4324951171875 E_f= -0.19913736979166666\n",
      "k= 14 c_k= 0.30428095746951106 a_k= 0.3141704315882842 g= 0.3083708589215126 E_A= 0.7532552083333334 E_B= 0.5655924479166666 E_f= -0.13814290364583334\n",
      "k= 15 c_k= 0.3023039856632453 a_k= 0.3117034487615564 g= -0.3095799063912634 E_A= 0.5968017578125 E_B= 0.7839762369791666 E_f= -0.061726888020833336\n",
      "k= 16 c_k= 0.30045860758866744 a_k= 0.309347872660659 g= -0.08701162578398847 E_A= 0.6328531901041666 E_B= 0.6851399739583334 E_f= -0.061075846354166664\n",
      "k= 17 c_k= 0.2987290572581215 a_k= 0.30709481657168264 g= -0.39603270920631856 E_A= 0.54443359375 E_B= 0.7810465494791666 E_f= -0.004191080729166667\n",
      "k= 18 c_k= 0.29710220679082217 a_k= 0.30493638875269324 g= 0.7629166666540513 E_A= 0.9685872395833334 E_B= 0.5152587890625 E_f= 0.3033040364583333\n",
      "k= 19 c_k= 0.29556701240928085 a_k= 0.3028655511638008 g= 0.7460914455023455 E_A= 1.1285807291666667 E_B= 0.6875406901041666 E_f= 0.5401611328125\n",
      "k= 20 c_k= 0.2941140981207925 a_k= 0.30087600221972294 g= 0.767208964473294 E_A= 1.2418212890625 E_B= 0.79052734375 E_f= 0.6170247395833334\n",
      "k= 21 c_k= 0.2927354380523743 a_k= 0.29896207884836035 g= -0.35444893968196634 E_A= 1.0611572265625 E_B= 1.2686767578125 E_f= 0.67138671875\n",
      "k= 22 c_k= 0.29142411071599983 a_k= 0.2971186741813143 g= -0.21593012993723842 E_A= 1.0659586588541667 E_B= 1.1918131510416667 E_f= 0.7029622395833334\n",
      "k= 23 c_k= 0.2901741065491128 a_k= 0.2953411679901029 g= -0.27848986195231923 E_A= 1.1469319661458333 E_B= 1.3085530598958333 E_f= 0.6739095052083334\n",
      "k= 24 c_k= 0.2889801754776181 a_k= 0.29362536758281893 g= 0.4085482232283005 E_A= 1.338134765625 E_B= 1.1020100911458333 E_f= 0.7615966796875\n",
      "k= 25 c_k= 0.28783770493578903 a_k= 0.2919674573384438 g= 0.40239475066775837 E_A= 1.376708984375 E_B= 1.1450602213541667 E_f= 0.7789713541666666\n",
      "k= 26 c_k= 0.2867426213384302 a_k= 0.29036395541481486 g= 1.0035495083482382 E_A= 1.5207926432291667 E_B= 0.9452718098958334 E_f= 0.9698486328125\n",
      "k= 27 c_k= 0.2856913098077231 a_k= 0.2888116764467441 g= -2.7046852725238595 E_A= 0.6180419921875 E_B= 2.1634521484375 E_f= 2.3998616536458335\n",
      "k= 28 c_k= 0.28468054825101563 a_k= 0.2873076992716592 g= -1.1887696522762305 E_A= 2.0982259114583335 E_B= 2.7750651041666665 E_f= 2.1138916015625\n",
      "k= 29 c_k= 0.2837074528246327 a_k= 0.2858493388952498 g= 0.04883544767967072 E_A= 2.3568522135416665 E_B= 2.3291422526041665 E_f= 2.1214192708333335\n",
      "k= 30 c_k= 0.2827694325084489 a_k= 0.28443412204933055 g= 0.5792635111577084 E_A= 2.3299560546875 E_B= 2.0023600260416665 E_f= 2.0475667317708335\n",
      "k= 31 c_k= 0.2818641510284039 a_k= 0.2830597658063005 g= -0.13772010109610644 E_A= 2.2078043619791665 E_B= 2.2854410807291665 E_f= 2.0019124348958335\n",
      "k= 32 c_k= 0.28098949474895574 a_k= 0.2817241588051502 g= -1.1780297967778866 E_A= 1.8326009114583333 E_B= 2.49462890625 E_f= 1.8804524739583333\n",
      "k= 33 c_k= 0.28014354544930065 a_k= 0.2804253447174913 g= -1.731057771402757 E_A= 1.5791422526041667 E_B= 2.5490315755208335 E_f= 1.582275390625\n",
      "k= 34 c_k= 0.2793245571205497 a_k= 0.2791615076420886 g= -0.17393380974388273 E_A= 1.7876790364583333 E_B= 1.8848470052083333 E_f= 1.6072184244791667\n",
      "k= 35 c_k= 0.2785309360934873 a_k= 0.27793095916558136 g= 0.8337988332229649 E_A= 2.0167643229166665 E_B= 1.5522867838541667 E_f= 1.5312093098958333\n",
      "k= 36 c_k= 0.277761223940729 a_k= 0.2767321268676262 g= 0.6086056050663475 E_A= 1.987060546875 E_B= 1.6489664713541667 E_f= 1.567626953125\n",
      "k= 37 c_k= 0.27701408270232386 a_k= 0.2755635440822508 g= 0.02981830766600216 E_A= 1.6958821614583333 E_B= 1.6793619791666667 E_f= 1.5536702473958333\n",
      "k= 38 c_k= 0.2762882820669494 a_k= 0.2744238407551038 g= -0.6730425722383943 E_A= 1.6153971354166667 E_B= 1.9873046875 E_f= 1.5242513020833333\n",
      "k= 39 c_k= 0.27558268820692106 a_k= 0.27331173525956215 g= 0.8126719961639043 E_A= 2.0264485677083335 E_B= 1.5785319010416667 E_f= 1.5380045572916667\n",
      "k= 40 c_k= 0.27489625401810586 a_k= 0.27222602705416843 g= 0.763264391815238 E_A= 1.9493815104166667 E_B= 1.5297444661458333 E_f= 1.4957275390625\n",
      "k= 41 c_k= 0.2742280105583835 a_k= 0.2711655900802725 g= -0.334672339857045 E_A= 1.5862223307291667 E_B= 1.769775390625 E_f= 1.4693603515625\n",
      "k= 42 c_k= 0.2735770595127504 a_k= 0.2701293668125993 g= -0.44322616316086005 E_A= 1.6142578125 E_B= 1.8567708333333333 E_f= 1.4894205729166667\n",
      "k= 43 c_k= 0.27294256654120025 a_k= 0.26911636288719304 g= -0.9641707852050719 E_A= 1.3944091796875 E_B= 1.9207356770833333 E_f= 1.3330078125\n",
      "k= 44 c_k= 0.27232375538845416 a_k= 0.268125642241155 g= 0.18841625212231505 E_A= 1.6603597005208333 E_B= 1.5577392578125 E_f= 1.3868408203125\n",
      "k= 45 c_k= 0.27171990265346957 a_k= 0.267156322707084 g= -0.7343000046474597 E_A= 1.4506429036458333 E_B= 1.8496907552083333 E_f= 1.4281005859375\n",
      "k= 46 c_k= 0.2711303331322349 a_k= 0.2662075720123982 g= 1.0668889282106013 E_A= 1.733642578125 E_B= 1.1551106770833333 E_f= 1.2327880859375\n",
      "k= 47 c_k= 0.2705544156602744 a_k= 0.2652786041399415 g= 0.08865801117202758 E_A= 1.4964192708333333 E_B= 1.4484456380208333 E_f= 1.1654052734375\n",
      "k= 48 c_k= 0.269991559392053 a_k= 0.26436867601164055 g= 0.4323081953558246 E_A= 1.6005045572916667 E_B= 1.3670654296875 E_f= 1.1958821614583333\n",
      "k= 49 c_k= 0.26944121046347563 a_k= 0.26347708446159496 g= -0.29153760836595644 E_A= 1.394775390625 E_B= 1.5518798828125 E_f= 1.2300211588541667\n",
      "k= 50 c_k= 0.26890284899123323 a_k= 0.2626031634689808 g= 1.6655679857713281 E_A= 1.8357747395833333 E_B= 0.9400227864583334 E_f= 0.9990641276041666\n",
      "k= 51 c_k= 0.268375986369122 a_k= 0.2617462816246101 g= -0.23682425379488392 E_A= 1.2009684244791667 E_B= 1.3280843098958333 E_f= 0.9694010416666666\n",
      "k= 52 c_k= 0.267860162826851 a_k= 0.2609058398079971 g= -0.629886561504659 E_A= 1.0962320963541667 E_B= 1.4336751302083333 E_f= 0.9646402994791666\n",
      "k= 53 c_k= 0.26735494522142605 a_k= 0.26008126905440593 g= 0.655504159463696 E_A= 1.4227701822916667 E_B= 1.072265625 E_f= 0.991943359375\n",
      "k= 54 c_k= 0.2668599250350944 a_k= 0.2592720285936403 g= 0.7905190148889552 E_A= 1.4350179036458333 E_B= 1.0131022135416667 E_f= 0.9708251953125\n",
      "k= 55 c_k= 0.26637471655715955 a_k= 0.25847760404433856 g= 1.3801425897226438 E_A= 1.6305338541666667 E_B= 0.895263671875 E_f= 0.9674479166666666\n",
      "k= 56 c_k= 0.2658989552298248 a_k= 0.2576975057492954 g= 0.09709654959507007 E_A= 1.3633626302083333 E_B= 1.3117268880208333 E_f= 1.010986328125\n"
     ]
    },
    {
     "name": "stdout",
     "output_type": "stream",
     "text": [
      "k= 57 c_k= 0.26543229614067565 a_k= 0.2569312672388709 g= 0.6898386948849529 E_A= 1.5123291015625 E_B= 1.1461181640625 E_f= 0.9781087239583334\n",
      "k= 58 c_k= 0.26497441264651617 a_k= 0.2561784438109081 g= -0.6995534688797703 E_A= 0.9934488932291666 E_B= 1.3641764322916667 E_f= 0.9565022786458334\n",
      "k= 59 c_k= 0.2645249951151027 a_k= 0.2554386112167778 g= -0.2357341868895338 E_A= 1.1517740885416667 E_B= 1.2764892578125 E_f= 0.9415283203125\n",
      "k= 60 c_k= 0.26408374977289106 a_k= 0.25471136444422837 g= -0.7901237934788145 E_A= 0.8966471354166666 E_B= 1.31396484375 E_f= 0.8489583333333334\n",
      "k= 61 c_k= 0.26365039764828974 a_k= 0.2539963165886551 g= -0.5060597395361657 E_A= 1.1110026041666667 E_B= 1.3778483072916667 E_f= 0.8792317708333334\n",
      "k= 62 c_k= 0.2632246736011008 a_k= 0.2532930978052379 g= -0.13587860542549998 E_A= 1.1294352213541667 E_B= 1.2009684244791667 E_f= 0.8346761067708334\n",
      "k= 63 c_k= 0.26280632542987425 a_k= 0.2526013543351309 g= -0.7900936220726766 E_A= 0.8802083333333334 E_B= 1.2954915364583333 E_f= 0.7791748046875\n",
      "k= 64 c_k= 0.2623951130498096 a_k= 0.2519207475995509 g= -0.27269390555875406 E_A= 1.0044759114583333 E_B= 1.1475830078125 E_f= 0.8577473958333334\n",
      "k= 65 c_k= 0.2619908077346396 a_k= 0.2512509533561924 g= 0.3767072917925166 E_A= 1.2193603515625 E_B= 1.02197265625 E_f= 0.8255208333333334\n",
      "k= 66 c_k= 0.2615931914166275 a_k= 0.25059166091292473 g= 1.5549281848634104 E_A= 1.5868733723958333 E_B= 0.7733561197916666 E_f= 1.0165201822916667\n",
      "k= 67 c_k= 0.26120205603943053 a_k= 0.24994257239419304 g= 0.19122017499373492 E_A= 1.3291829427083333 E_B= 1.2292887369791667 E_f= 1.0088297526041667\n",
      "k= 68 c_k= 0.2608172029591229 a_k= 0.2493034020559649 g= 0.8951076463036811 E_A= 1.4599609375 E_B= 0.9930419921875 E_f= 0.9818929036458334\n",
      "k= 69 c_k= 0.26043844238915365 a_k= 0.24867387564544055 g= 0.783137639990397 E_A= 1.4857584635416667 E_B= 1.0778401692708333 E_f= 0.9924723307291666\n",
      "k= 70 c_k= 0.26006559288543923 a_k= 0.24805372980208248 g= -0.3602512881626008 E_A= 1.186767578125 E_B= 1.3741455078125 E_f= 1.0074869791666667\n",
      "k= 71 c_k= 0.25969848086816855 a_k= 0.24744271149682437 g= 0.02358065652371699 E_A= 1.25439453125 E_B= 1.2421468098958333 E_f= 1.0025634765625\n",
      "k= 72 c_k= 0.2593369401772328 a_k= 0.2468405775065927 g= 0.27371297999521044 E_A= 1.4230550130208333 E_B= 1.2810872395833333 E_f= 1.0045979817708333\n",
      "k= 73 c_k= 0.2589808116584905 a_k= 0.2462470939215218 g= 0.4237426326480594 E_A= 1.3861083984375 E_B= 1.1666259765625 E_f= 0.9981689453125\n",
      "k= 74 c_k= 0.25862994277834417 a_k= 0.2456620356824657 g= 0.7016106394407939 E_A= 1.403564453125 E_B= 1.0406494140625 E_f= 0.9416097005208334\n",
      "k= 75 c_k= 0.25828418726434194 a_k= 0.24508518614661196 g= 0.23055986538955286 E_A= 1.3414713541666667 E_B= 1.2223714192708333 E_f= 0.9215494791666666\n",
      "k= 76 c_k= 0.25794340476973 a_k= 0.24451633667918504 g= -1.1688351834080206 E_A= 0.9019775390625 E_B= 1.5049641927083333 E_f= 0.9496256510416666\n",
      "k= 77 c_k= 0.25760746056007144 a_k= 0.2439552862693924 g= -0.830916513455695 E_A= 1.0973307291666667 E_B= 1.5254313151041667 E_f= 0.9909261067708334\n",
      "k= 78 c_k= 0.25727622522021726 a_k= 0.24340184116891617 g= 2.1048359631309195 E_A= 1.8098551432291667 E_B= 0.726806640625 E_f= 1.1941731770833333\n",
      "k= 79 c_k= 0.2569495743800682 a_k= 0.24285581455139074 g= 3.2773838908474073 E_A= 2.2262369791666665 E_B= 0.5419921875 E_f= 1.656494140625\n",
      "k= 80 c_k= 0.2566273884577055 a_k= 0.2423170261914289 g= 1.275275058439201 E_A= 2.2530924479166665 E_B= 1.5985514322916667 E_f= 1.6363118489583333\n",
      "k= 81 c_k= 0.2563095524185887 a_k= 0.24178530216187363 g= -1.353375770616327 E_A= 1.4193929036458333 E_B= 2.1131591796875 E_f= 1.4078776041666667\n",
      "k= 82 c_k= 0.2559959555496353 a_k= 0.24126047454805513 g= -0.9881811494288163 E_A= 1.3466389973958333 E_B= 1.8525797526041667 E_f= 1.3212890625\n",
      "k= 83 c_k= 0.2556864912470938 a_k= 0.2407423811779259 g= -0.33578668694192304 E_A= 1.4819742838541667 E_B= 1.6536865234375 E_f= 1.3020426432291667\n",
      "k= 84 c_k= 0.2553810568172158 a_k= 0.24023086536703334 g= 0.9379015858193306 E_A= 1.6604817708333333 E_B= 1.1814371744791667 E_f= 1.1681722005208333\n",
      "k= 85 c_k= 0.25507955328881354 a_k= 0.2397257756773677 g= -0.757636773500099 E_A= 1.1643473307291667 E_B= 1.5508626302083333 E_f= 1.1419270833333333\n",
      "k= 86 c_k= 0.2547818852368658 a_k= 0.2392269656891939 g= 0.009262927148343215 E_A= 1.5066731770833333 E_B= 1.501953125 E_f= 1.1971028645833333\n",
      "k= 87 c_k= 0.2544879606164011 a_k= 0.2387342937850429 g= -0.601586481954843 E_A= 1.2850341796875 E_B= 1.5912272135416667 E_f= 1.1885986328125\n",
      "k= 88 c_k= 0.25419769060595165 a_k= 0.23824762294509752 g= -1.9319971439114434 E_A= 0.9053548177083334 E_B= 1.8875732421875 E_f= 1.1588948567708333\n",
      "k= 89 c_k= 0.2539109894599242 a_k= 0.23776682055326365 g= 0.8544712297728659 E_A= 1.6020100911458333 E_B= 1.1680908203125 E_f= 1.1292317708333333\n",
      "k= 90 c_k= 0.25362777436928824 a_k= 0.23729175821326742 g= 2.0191215542661562 E_A= 1.8272705078125 E_B= 0.8030598958333334 E_f= 1.0697835286458333\n",
      "k= 91 c_k= 0.2533479653300266 a_k= 0.23682231157416733 g= 0.15025023942201454 E_A= 1.4523111979166667 E_B= 1.3761800130208333 E_f= 1.0767008463541667\n",
      "k= 92 c_k= 0.25307148501883725 a_k= 0.23635836016471182 g= -0.11455932783810874 E_A= 1.3320719401041667 E_B= 1.3900553385416667 E_f= 1.0899658203125\n",
      "k= 93 c_k= 0.25279825867561245 a_k= 0.23589978723601226 g= 1.5863294459206256 E_A= 1.7606201171875 E_B= 0.9585774739583334 E_f= 1.1735026041666667\n",
      "k= 94 c_k= 0.25252821399225883 a_k= 0.23544647961203974 g= 1.742147537872684 E_A= 1.904541015625 E_B= 1.024658203125 E_f= 1.2650146484375\n",
      "k= 95 c_k= 0.25226128100745354 a_k= 0.23499832754748484 g= 0.25421104622382323 E_A= 1.4993896484375 E_B= 1.3711344401041667 E_f= 1.2995198567708333\n",
      "k= 96 c_k= 0.2519973920069601 a_k= 0.23455522459255276 g= -0.6874599657951955 E_A= 1.3955485026041667 E_B= 1.7420247395833333 E_f= 1.2721354166666667\n",
      "k= 97 c_k= 0.25173648142915767 a_k= 0.23411706746429423 g= 0.484508985535762 E_A= 1.5682779947916667 E_B= 1.3243408203125 E_f= 1.2689208984375\n",
      "k= 98 c_k= 0.2514784857754605 a_k= 0.23368375592409837 g= 1.745779077492324 E_A= 1.9761149088541667 E_B= 1.0980631510416667 E_f= 1.38525390625\n",
      "k= 99 c_k= 0.25122334352532716 a_k= 0.2332551926609996 g= -1.6039675927721906 E_A= 1.2218831380208333 E_B= 2.0277913411458335 E_f= 1.4306233723958333\n"
     ]
    }
   ],
   "source": [
    "El = SPSA(100)"
   ]
  },
  {
   "cell_type": "code",
   "execution_count": 29,
   "metadata": {},
   "outputs": [
    {
     "data": {
      "text/plain": [
       "[<matplotlib.lines.Line2D at 0x246f73efb50>]"
      ]
     },
     "execution_count": 29,
     "metadata": {},
     "output_type": "execute_result"
    },
    {
     "data": {
      "image/png": "[encoded data removed]",
      "text/plain": [
       "<Figure size 432x288 with 1 Axes>"
      ]
     },
     "metadata": {
      "needs_background": "light"
     },
     "output_type": "display_data"
    }
   ],
   "source": [
    "import matplotlib.pyplot as plt\n",
    "\n",
    "tl = [i for i in range(len(El))]\n",
    "\n",
    "plt.plot(tl,El)"
   ]
  },
  {
   "cell_type": "code",
   "execution_count": 30,
   "metadata": {},
   "outputs": [
    {
     "data": {
      "text/plain": [
       "'C:\\\\Users\\\\jsten\\\\IBMQ\\\\Hubbard_symmetries'"
      ]
     },
     "execution_count": 30,
     "metadata": {},
     "output_type": "execute_result"
    }
   ],
   "source": [
    "pwd"
   ]
  },
  {
   "cell_type": "markdown",
   "metadata": {},
   "source": []
  }
 ],
 "metadata": {
  "kernelspec": {
   "display_name": "Python [conda env:qiskit_25v]",
   "language": "python",
   "name": "conda-env-qiskit_25v-py"
  },
  "language_info": {
   "codemirror_mode": {
    "name": "ipython",
    "version": 3
   },
   "file_extension": ".py",
   "mimetype": "text/x-python",
   "name": "python",
   "nbconvert_exporter": "python",
   "pygments_lexer": "ipython3",
   "version": "3.9.4"
  }
 },
 "nbformat": 4,
 "nbformat_minor": 4
}
