{
 "cells": [
  {
   "cell_type": "markdown",
   "metadata": {},
   "source": [
    "# Symmetry Reduced VQE"
   ]
  },
  {
   "cell_type": "markdown",
   "metadata": {},
   "source": [
    "The first step is to find the blocks of a Hamiltonian which has have been reduced due to the application of some symmerty consideration.  Each block will then have an associated wavefunction,\n",
    "$$ |\\psi^b> = U(\\phi^b_1,\\phi^b_1,\\ldots)|000\\ldots> $$\n",
    "where $|000\\ldots>$ is the state in which $Q$ qubits are in their ground state with $Q$ deterimed by the size of the block $N$ as $Q = \\log_2 N$ rounded up and $U$ is a linear transformation with some set of parameters $\\{\\phi^b_i\\}$ which depend on the block.  \n",
    "\n",
    "For this notebook we will use the linear transformation Anzatz from here: https://arxiv.org/abs/1907.01493.  It gives $U$ as applying y-rotations to each qubit, then coupling each qubit pair with a C-not gate and repreating. \n",
    "$$ U^b_i = \\prod_q R^y_q(\\phi_{q0}^b)\\prod_{q'}C_{4q',4q'+1}C_{4q'+3,4q'+2}\\prod_{q''}C_{4q''+1,4q''+2}C_{4q''+4,4q''+3} $$\n",
    "$$ U^b = \\prod_i U^b_i $$\n",
    "where the $\\pm$ in the subscripts of the C-not gates alternates (see below for an exact definition).\n",
    "\n",
    "The Hamiltonian might be block diagonal or it might have some nonzero off diagonal blocks.  In the most general case, the minimization function invovles wave functions from different blocks.  \n",
    "\n",
    "$$ E = \\sum_{a,b}<\\psi^a|H_{ab}|\\psi^b> $$\n",
    "\n",
    "To minimize this function we will use the simultaneous perturbation stochastic approximation algorithm."
   ]
  },
  {
   "cell_type": "markdown",
   "metadata": {},
   "source": [
    "## Hamiltonian"
   ]
  },
  {
   "cell_type": "markdown",
   "metadata": {},
   "source": [
    "As an example for this notebook we will use the Hamiltonian generated from Example_Matrix_Creation_Sign_Fix.ipynb\n",
    "\n",
    "I do not know how to export the summed operator from OpFlow so I will import the numpy matrix and then re-extract the Pauli terms here."
   ]
  },
  {
   "cell_type": "code",
   "execution_count": 1,
   "metadata": {},
   "outputs": [],
   "source": [
    "import numpy as np \n",
    "\n",
    "H = np.load('Hamiltonian_Example.npy')"
   ]
  },
  {
   "cell_type": "markdown",
   "metadata": {},
   "source": [
    "Now that the Hamiltonian has been imported let us break it into blocks and exctract the Pauli coordinates.  "
   ]
  },
  {
   "cell_type": "code",
   "execution_count": 2,
   "metadata": {},
   "outputs": [],
   "source": [
    "from qiskit.opflow import (I, X, Y, Z)\n",
    "from qiskit.opflow.primitive_ops import MatrixOp\n",
    "\n",
    "# Function to add elements to a block so that it fits onto qubits\n",
    "def complete(b11):\n",
    "    size = 2**np.ceil(np.log2(len(b11)))\n",
    "    for v in b11:\n",
    "        while len(v) < size:\n",
    "            v.append(0.0)\n",
    "    while len(b11) < size:\n",
    "        i = len(b11)\n",
    "        vnew = [0.0 for i in range(0,8)]\n",
    "        vnew[i] = 1000\n",
    "        b11.append(vnew)\n",
    "    return b11\n",
    "\n"
   ]
  },
  {
   "cell_type": "code",
   "execution_count": 3,
   "metadata": {},
   "outputs": [],
   "source": [
    "import math\n",
    "N = 4\n",
    "S = 2\n",
    "bL = math.comb(4,2)\n",
    "\n",
    "blocks = {}\n",
    "for bi in range(bL):\n",
    "    for bj in range(bi,bL):\n",
    "        bij = [[H[i + bL*bi][j + bL*bj] for j in range(0,bL)] for i in range(0,bL)]\n",
    "        if np.amax(np.abs(bij)) > 10**(-5):\n",
    "            bij = complete(bij)\n",
    "            bij_pauli = MatrixOp(bij).to_pauli_op()\n",
    "            blocks[str(bi) + ',' + str(bj)] = bij_pauli\n",
    "        "
   ]
  },
  {
   "cell_type": "markdown",
   "metadata": {},
   "source": [
    "The object *blocks* is a dictionary of *SumedOp* lists of *PauliOp* objects.  "
   ]
  },
  {
   "cell_type": "code",
   "execution_count": 4,
   "metadata": {},
   "outputs": [
    {
     "data": {
      "text/html": [
       "<div>\n",
       "<style scoped>\n",
       "    .dataframe tbody tr th:only-of-type {\n",
       "        vertical-align: middle;\n",
       "    }\n",
       "\n",
       "    .dataframe tbody tr th {\n",
       "        vertical-align: top;\n",
       "    }\n",
       "\n",
       "    .dataframe thead th {\n",
       "        text-align: right;\n",
       "    }\n",
       "</style>\n",
       "<table border=\"1\" class=\"dataframe\">\n",
       "  <thead>\n",
       "    <tr style=\"text-align: right;\">\n",
       "      <th></th>\n",
       "      <th>0</th>\n",
       "      <th>1</th>\n",
       "      <th>2</th>\n",
       "      <th>3</th>\n",
       "      <th>4</th>\n",
       "      <th>5</th>\n",
       "      <th>6</th>\n",
       "      <th>7</th>\n",
       "    </tr>\n",
       "  </thead>\n",
       "  <tbody>\n",
       "    <tr>\n",
       "      <th>0</th>\n",
       "      <td>2.0+0.0j</td>\n",
       "      <td>-1.0+0.0j</td>\n",
       "      <td>0.0+0.0j</td>\n",
       "      <td>0.0+0.0j</td>\n",
       "      <td>1.0+0.0j</td>\n",
       "      <td>0.0+0.0j</td>\n",
       "      <td>0.00+0.00j</td>\n",
       "      <td>0.00+0.00j</td>\n",
       "    </tr>\n",
       "    <tr>\n",
       "      <th>1</th>\n",
       "      <td>-1.0+0.0j</td>\n",
       "      <td>1.0+0.0j</td>\n",
       "      <td>-1.0+0.0j</td>\n",
       "      <td>-1.0+0.0j</td>\n",
       "      <td>0.0+0.0j</td>\n",
       "      <td>1.0+0.0j</td>\n",
       "      <td>0.00+0.00j</td>\n",
       "      <td>0.00+0.00j</td>\n",
       "    </tr>\n",
       "    <tr>\n",
       "      <th>2</th>\n",
       "      <td>0.0+0.0j</td>\n",
       "      <td>-1.0+0.0j</td>\n",
       "      <td>1.0+0.0j</td>\n",
       "      <td>0.0+0.0j</td>\n",
       "      <td>-1.0+0.0j</td>\n",
       "      <td>0.0+0.0j</td>\n",
       "      <td>0.00+0.00j</td>\n",
       "      <td>0.00+0.00j</td>\n",
       "    </tr>\n",
       "    <tr>\n",
       "      <th>3</th>\n",
       "      <td>0.0+0.0j</td>\n",
       "      <td>-1.0+0.0j</td>\n",
       "      <td>0.0+0.0j</td>\n",
       "      <td>1.0+0.0j</td>\n",
       "      <td>-1.0+0.0j</td>\n",
       "      <td>0.0+0.0j</td>\n",
       "      <td>0.00+0.00j</td>\n",
       "      <td>0.00+0.00j</td>\n",
       "    </tr>\n",
       "    <tr>\n",
       "      <th>4</th>\n",
       "      <td>1.0+0.0j</td>\n",
       "      <td>0.0+0.0j</td>\n",
       "      <td>-1.0+0.0j</td>\n",
       "      <td>-1.0+0.0j</td>\n",
       "      <td>1.0+0.0j</td>\n",
       "      <td>-1.0+0.0j</td>\n",
       "      <td>0.00+0.00j</td>\n",
       "      <td>0.00+0.00j</td>\n",
       "    </tr>\n",
       "    <tr>\n",
       "      <th>5</th>\n",
       "      <td>0.0+0.0j</td>\n",
       "      <td>1.0+0.0j</td>\n",
       "      <td>0.0+0.0j</td>\n",
       "      <td>0.0+0.0j</td>\n",
       "      <td>-1.0+0.0j</td>\n",
       "      <td>0.0+0.0j</td>\n",
       "      <td>0.00+0.00j</td>\n",
       "      <td>0.00+0.00j</td>\n",
       "    </tr>\n",
       "    <tr>\n",
       "      <th>6</th>\n",
       "      <td>0.0+0.0j</td>\n",
       "      <td>0.0+0.0j</td>\n",
       "      <td>0.0+0.0j</td>\n",
       "      <td>0.0+0.0j</td>\n",
       "      <td>0.0+0.0j</td>\n",
       "      <td>0.0+0.0j</td>\n",
       "      <td>1000.0+0.0j</td>\n",
       "      <td>0.00+0.00j</td>\n",
       "    </tr>\n",
       "    <tr>\n",
       "      <th>7</th>\n",
       "      <td>0.0+0.0j</td>\n",
       "      <td>0.0+0.0j</td>\n",
       "      <td>0.0+0.0j</td>\n",
       "      <td>0.0+0.0j</td>\n",
       "      <td>0.0+0.0j</td>\n",
       "      <td>0.0+0.0j</td>\n",
       "      <td>0.00+0.00j</td>\n",
       "      <td>1000.0+0.0j</td>\n",
       "    </tr>\n",
       "  </tbody>\n",
       "</table>\n",
       "</div>"
      ],
      "text/plain": [
       "          0         1         2         3         4         5            6  \\\n",
       "0  2.0+0.0j -1.0+0.0j  0.0+0.0j  0.0+0.0j  1.0+0.0j  0.0+0.0j   0.00+0.00j   \n",
       "1 -1.0+0.0j  1.0+0.0j -1.0+0.0j -1.0+0.0j  0.0+0.0j  1.0+0.0j   0.00+0.00j   \n",
       "2  0.0+0.0j -1.0+0.0j  1.0+0.0j  0.0+0.0j -1.0+0.0j  0.0+0.0j   0.00+0.00j   \n",
       "3  0.0+0.0j -1.0+0.0j  0.0+0.0j  1.0+0.0j -1.0+0.0j  0.0+0.0j   0.00+0.00j   \n",
       "4  1.0+0.0j  0.0+0.0j -1.0+0.0j -1.0+0.0j  1.0+0.0j -1.0+0.0j   0.00+0.00j   \n",
       "5  0.0+0.0j  1.0+0.0j  0.0+0.0j  0.0+0.0j -1.0+0.0j  0.0+0.0j   0.00+0.00j   \n",
       "6  0.0+0.0j  0.0+0.0j  0.0+0.0j  0.0+0.0j  0.0+0.0j  0.0+0.0j  1000.0+0.0j   \n",
       "7  0.0+0.0j  0.0+0.0j  0.0+0.0j  0.0+0.0j  0.0+0.0j  0.0+0.0j   0.00+0.00j   \n",
       "\n",
       "             7  \n",
       "0   0.00+0.00j  \n",
       "1   0.00+0.00j  \n",
       "2   0.00+0.00j  \n",
       "3   0.00+0.00j  \n",
       "4   0.00+0.00j  \n",
       "5   0.00+0.00j  \n",
       "6   0.00+0.00j  \n",
       "7  1000.0+0.0j  "
      ]
     },
     "execution_count": 4,
     "metadata": {},
     "output_type": "execute_result"
    }
   ],
   "source": [
    "import pandas as pd\n",
    "\n",
    "pd.DataFrame(blocks['0,0'].to_matrix())"
   ]
  },
  {
   "cell_type": "code",
   "execution_count": 5,
   "metadata": {},
   "outputs": [
    {
     "name": "stdout",
     "output_type": "stream",
     "text": [
      "SummedOp([\n",
      "  250.75 * III,\n",
      "  -0.5 * IIX,\n",
      "  0.25 * IIZ,\n",
      "  -0.25 * IXI,\n",
      "  -0.25 * IXX,\n",
      "  0.25 * IXZ,\n",
      "  -0.25 * IYY,\n",
      "  -249.75 * IZI,\n",
      "  -0.5 * IZX,\n",
      "  0.25 * IZZ,\n",
      "  0.5 * XII,\n",
      "  -0.25 * XXI,\n",
      "  -0.25 * XXX,\n",
      "  -0.25 * XXZ,\n",
      "  0.25 * XYY,\n",
      "  0.5 * XZI,\n",
      "  -0.25 * YXY,\n",
      "  -0.25 * YYI,\n",
      "  -0.25 * YYX,\n",
      "  -0.25 * YYZ,\n",
      "  -249.5 * ZII,\n",
      "  -0.25 * ZXI,\n",
      "  -0.25 * ZXX,\n",
      "  0.25 * ZXZ,\n",
      "  -0.25 * ZYY,\n",
      "  250.0 * ZZI\n",
      "])\n"
     ]
    }
   ],
   "source": [
    "print(blocks['0,0'])"
   ]
  },
  {
   "cell_type": "markdown",
   "metadata": {},
   "source": [
    "## The Anzatz circuit"
   ]
  },
  {
   "cell_type": "markdown",
   "metadata": {},
   "source": [
    "Here we define the paramaterized circuit which we will optimize. \n",
    "\n",
    "$$ U^b_i = \\prod_q R^y_q(\\phi_{q0}^b)\\prod_{q'}C_{4q',4q'+1}C_{4q'+3,4q'+2}\\prod_{q''}C_{4q''+1,4q''+2}C_{4q''+4,4q''+3} $$\n",
    "$$ U^b = \\prod_i U^b_i $$"
   ]
  },
  {
   "cell_type": "code",
   "execution_count": 6,
   "metadata": {},
   "outputs": [],
   "source": [
    "from qiskit import QuantumCircuit, QuantumRegister,ClassicalRegister, execute\n",
    "\n",
    "\n",
    "# the number of qubits is given by the size of the blocks\n",
    "# note: the size of the blocks has already been adjusted to fit the qubits\n",
    "Q = int(np.log2(len(blocks['0,0'].to_matrix())))\n"
   ]
  },
  {
   "cell_type": "code",
   "execution_count": 7,
   "metadata": {},
   "outputs": [],
   "source": [
    "def Ui(cir_i,phi_i):  \n",
    "    \n",
    "    for q in range(0,Q):\n",
    "        cir_i.ry(phi_i[q],q)\n",
    "    for q in range(0,Q,4):\n",
    "        cir_i.cx(q,q+1)\n",
    "        if q + 3 < Q:\n",
    "            cir_i.cx(q+3,q+2)\n",
    "    for q in range(1,Q,4):\n",
    "        cir_i.cx(q,q+1)\n",
    "        if q + 3 < Q:\n",
    "            cir_i.cx(q+3,q+2)\n",
    "    \n",
    "    return cir_i\n",
    "\n",
    "def Ui_dagger(cir_i,phi_i):  \n",
    "    \n",
    "    for q in range(1,Q,4):\n",
    "        cir_i.cx(q,q+1)\n",
    "        if q + 3 < Q:\n",
    "            cir_i.cx(q+3,q+2)\n",
    "    for q in range(0,Q,4):\n",
    "        cir_i.cx(q,q+1)\n",
    "        if q + 3 < Q:\n",
    "            cir_i.cx(q+3,q+2)\n",
    "    for q in range(0,Q):\n",
    "        cir_i.ry(-phi_i[q],q)\n",
    "    \n",
    "    return cir_i"
   ]
  },
  {
   "cell_type": "code",
   "execution_count": 8,
   "metadata": {},
   "outputs": [
    {
     "data": {
      "image/png": "[encoded data removed]",
      "text/plain": [
       "<Figure size 280.178x264.88 with 1 Axes>"
      ]
     },
     "execution_count": 8,
     "metadata": {},
     "output_type": "execute_result"
    }
   ],
   "source": [
    "qr = QuantumRegister(Q)\n",
    "cr = ClassicalRegister(Q)\n",
    "cir_i = QuantumCircuit(qr , cr)\n",
    "tst = Ui(cir_i,[0.2,0.3,0.4])\n",
    "\n",
    "tst.draw(output = 'mpl')"
   ]
  },
  {
   "cell_type": "code",
   "execution_count": 9,
   "metadata": {},
   "outputs": [
    {
     "data": {
      "image/png": "[encoded data removed]",
      "text/plain": [
       "<Figure size 280.323x264.88 with 1 Axes>"
      ]
     },
     "execution_count": 9,
     "metadata": {},
     "output_type": "execute_result"
    }
   ],
   "source": [
    "qr = QuantumRegister(Q)\n",
    "cr = ClassicalRegister(Q)\n",
    "cir_i = QuantumCircuit(qr , cr)\n",
    "\n",
    "tst_dagger = Ui_dagger(cir_i,[0.2,0.3,0.4])\n",
    "tst_dagger.draw(output = 'mpl')"
   ]
  },
  {
   "cell_type": "code",
   "execution_count": 10,
   "metadata": {},
   "outputs": [],
   "source": [
    "def U(cir,phi_b):\n",
    "    T = len(phi_b)\n",
    "    for t in range(T):\n",
    "        cir = Ui(cir,phi_b[t])\n",
    "    return cir\n",
    "\n",
    "def U_dagger(cir,phi_b):\n",
    "    T = len(phi_b)\n",
    "    for t in range(T):\n",
    "        cir = Ui_dagger(cir,phi_b[T-1-t])\n",
    "    return cir"
   ]
  },
  {
   "cell_type": "code",
   "execution_count": 11,
   "metadata": {},
   "outputs": [
    {
     "data": {
      "image/png": "[encoded data removed]",
      "text/plain": [
       "<Figure size 641.669x264.88 with 1 Axes>"
      ]
     },
     "execution_count": 11,
     "metadata": {},
     "output_type": "execute_result"
    }
   ],
   "source": [
    "qr = QuantumRegister(Q)\n",
    "cr = ClassicalRegister(Q)\n",
    "cir = QuantumCircuit(qr , cr)\n",
    "tst = U(cir,[[0.2,0.3,0.4],[0.5,0.6,0.7],[0.8,0.9,0.1]])\n",
    "\n",
    "tst.draw(output = 'mpl')"
   ]
  },
  {
   "cell_type": "code",
   "execution_count": 12,
   "metadata": {},
   "outputs": [
    {
     "data": {
      "image/png": "[encoded data removed]",
      "text/plain": [
       "<Figure size 641.669x264.88 with 1 Axes>"
      ]
     },
     "execution_count": 12,
     "metadata": {},
     "output_type": "execute_result"
    }
   ],
   "source": [
    "qr = QuantumRegister(Q)\n",
    "cr = ClassicalRegister(Q)\n",
    "cir = QuantumCircuit(qr , cr)\n",
    "tst = U_dagger(cir,[[0.2,0.3,0.4],[0.5,0.6,0.7],[0.8,0.9,0.1]])\n",
    "\n",
    "tst.draw(output = 'mpl')"
   ]
  },
  {
   "cell_type": "markdown",
   "metadata": {},
   "source": [
    "# Calculating E\n",
    "\n",
    "$$ E = \\sum_{ab}<\\psi^a|H_{ab}|\\psi^b> = \\sum_{ab}<000\\ldots|U^{\\dagger}(\\{\\phi^a\\})H_{ab}U(\\{\\phi^b\\})|000\\ldots>$$"
   ]
  },
  {
   "cell_type": "markdown",
   "metadata": {},
   "source": [
    "First we need to inialize our set of parameters.  To do this we need to decide on the number of times we will apply Ui.  As a first attempt let's just have a depth of 1 (i.e. $U = Ui$).  \n",
    "\n",
    "In this case, we need a parameter for each qubit for each section."
   ]
  },
  {
   "cell_type": "code",
   "execution_count": 13,
   "metadata": {},
   "outputs": [],
   "source": [
    "#number of blocks\n",
    "T = 1\n",
    "\n",
    "phi = []\n",
    "for b in range(bL):\n",
    "    phi_b = []\n",
    "    for t in range(T):\n",
    "        phi_t = []\n",
    "        for q in range(Q):\n",
    "            phi_t.append(0)\n",
    "        phi_b.append(phi_t)\n",
    "    phi.append(phi_b)"
   ]
  },
  {
   "cell_type": "markdown",
   "metadata": {},
   "source": [
    "The structure of $\\phi_{b,t,q}$ is by section in the first index, by number of application of $U_i$ in the second index, and by qubit in the third index\n",
    "\n",
    "Now let us define a list of circuits whose projection onto $|000\\ldots>$ are summed to get the value of $E$.  I will only do the upper blocks meaning that the wieght of the off diagonal blocks is doubled."
   ]
  },
  {
   "cell_type": "code",
   "execution_count": 14,
   "metadata": {},
   "outputs": [],
   "source": [
    "def E_Circs(phi,blocks):\n",
    "    cir_l = []\n",
    "    for key in list(blocks.keys()):\n",
    "        for p in blocks[key]:\n",
    "            qr = QuantumRegister(Q)\n",
    "            cr = ClassicalRegister(Q)\n",
    "            cir = QuantumCircuit(qr , cr)\n",
    "            a = int(key.split(',')[0])\n",
    "            b = int(key.split(',')[1])\n",
    "            w = p.coeff\n",
    "            if a != b:\n",
    "                w = 2*p.coeff\n",
    "            \n",
    "            cir = U(cir,phi[b])\n",
    "            p_cir = p.to_circuit()\n",
    "            cir = cir.compose(p_cir)\n",
    "            cir = U_dagger(cir,phi[a])\n",
    "            cir.measure(qr, cr)\n",
    "            \n",
    "            cir_l.append([w,cir])\n",
    "    \n",
    "    return cir_l\n",
    "            \n",
    "        \n",
    "        "
   ]
  },
  {
   "cell_type": "code",
   "execution_count": 15,
   "metadata": {},
   "outputs": [
    {
     "name": "stdout",
     "output_type": "stream",
     "text": [
      "-0.5\n"
     ]
    },
    {
     "data": {
      "image/png": "[encoded data removed]",
      "text/plain": [
       "<Figure size 581.469x264.88 with 1 Axes>"
      ]
     },
     "execution_count": 15,
     "metadata": {},
     "output_type": "execute_result"
    }
   ],
   "source": [
    "e_circs = E_Circs(phi,blocks)\n",
    "p = 1\n",
    "print(e_circs[p][0])\n",
    "e_circs[p][1].draw(output = 'mpl')"
   ]
  },
  {
   "cell_type": "markdown",
   "metadata": {},
   "source": [
    "## Simulate finding E"
   ]
  },
  {
   "cell_type": "markdown",
   "metadata": {},
   "source": [
    "Before we move on to the optimization method, let's see how we can use *E_Circs* to find the value of E.  To do this I will use the qasm simulator from Aer."
   ]
  },
  {
   "cell_type": "code",
   "execution_count": 16,
   "metadata": {},
   "outputs": [],
   "source": [
    "from qiskit import Aer\n",
    "from qiskit.visualization import *"
   ]
  },
  {
   "cell_type": "code",
   "execution_count": 17,
   "metadata": {},
   "outputs": [],
   "source": [
    "#get the simulator\n",
    "sim = Aer.get_backend(\"qasm_simulator\")"
   ]
  },
  {
   "cell_type": "markdown",
   "metadata": {},
   "source": [
    "To get a value for E, we execute each circuit, find the projection of the final circuit onto $|000\\ldots>$, and multiply the result by the wieght of the circuit."
   ]
  },
  {
   "cell_type": "code",
   "execution_count": 18,
   "metadata": {},
   "outputs": [],
   "source": [
    "def find_E(e_circs):\n",
    "    E = 0\n",
    "    for p_circ in e_circs:\n",
    "        circ = p_circ[1]\n",
    "        w = p_circ[0]\n",
    "        r = execute(circ, backend = sim).result().get_counts()\n",
    "        r_keys = list(r.keys())\n",
    "        total = 0\n",
    "        for key in r_keys:\n",
    "            total += r[key]\n",
    "        if '000' in r:\n",
    "            num = r['000']/total\n",
    "        else:\n",
    "            num = 0\n",
    "        E += num*w\n",
    "\n",
    "    #Normalize\n",
    "    E = E/bL\n",
    "    \n",
    "    return E"
   ]
  },
  {
   "cell_type": "code",
   "execution_count": 19,
   "metadata": {},
   "outputs": [
    {
     "data": {
      "text/plain": [
       "-0.3333333333333333"
      ]
     },
     "execution_count": 19,
     "metadata": {},
     "output_type": "execute_result"
    }
   ],
   "source": [
    "find_E(e_circs)"
   ]
  },
  {
   "cell_type": "markdown",
   "metadata": {},
   "source": [
    "For a sanity check, let's compare this to simple matrix multiplication"
   ]
  },
  {
   "cell_type": "code",
   "execution_count": 20,
   "metadata": {},
   "outputs": [
    {
     "data": {
      "text/plain": [
       "-0.3333333333333334"
      ]
     },
     "execution_count": 20,
     "metadata": {},
     "output_type": "execute_result"
    }
   ],
   "source": [
    "all_down = [0 for i in range(len(H))]\n",
    "for b in range(bL):\n",
    "    all_down[bL*b + 1] = 1/np.sqrt(bL)\n",
    "    \n",
    "np.dot(all_down,np.dot(H,all_down))"
   ]
  },
  {
   "cell_type": "markdown",
   "metadata": {},
   "source": [
    "# Optimization"
   ]
  },
  {
   "cell_type": "markdown",
   "metadata": {},
   "source": [
    "I will be using the simultaneous perturbation stochastic approximation algorithm.  The algorithm works by calculating the gradiant of the cost function $E(\\hat{\\phi})$ by randomly purturbating all parameters in $\\hat{\\phi}$\n",
    "\n",
    "Let $\\hat{\\Delta}_k$ be a set of randomly selected purturbations during step $k$ of the algorithm. I will use the Bernoulli distribution to select $\\hat{\\Delta}_k$.  Then the gradient is \n",
    "$$ \\hat{g}_k(\\hat{\\phi}_k) = \\frac{E(\\hat{\\phi}_k + c_k \\hat{\\Delta}_k)-E(\\hat{\\phi}_k - c_k \\hat{\\Delta}_k)}{2 c_k} \\hat{\\Delta}_k$$.\n",
    "The gradiant is then used to update the parameters \n",
    "$$ \\hat{\\phi}_{k+1} = \\hat{\\phi}_k - a_k \\hat{g}_k(\\hat{\\phi}_k) $$\n",
    "\n",
    "$c_k$ and $a_k$ decrease with each iteration of the algorithm so that we zero in on the the minimum of $E$.  They are given by\n",
    "$$c_k = \\frac{c}{(k+1)^{\\gamma}}$$\n",
    "$$a_k = \\frac{a}{(A+k+1)^{\\alpha}}$$\n",
    "where $a$, $A$, $\\alpha$, $c$, and $\\gamma$ are choosen at the begining of the algorithm."
   ]
  },
  {
   "cell_type": "code",
   "execution_count": 21,
   "metadata": {},
   "outputs": [],
   "source": [
    "import copy"
   ]
  },
  {
   "cell_type": "code",
   "execution_count": 96,
   "metadata": {},
   "outputs": [],
   "source": [
    "def SPSA(k_max):\n",
    "    #Initalization\n",
    "    k = 0\n",
    "    alpha = 0.602\n",
    "    A = 10\n",
    "    a = 0.002\n",
    "    gamma = 0.101\n",
    "    c = 0.02\n",
    "    phi_k = np.array(phi)\n",
    "    E_l = []\n",
    "    \n",
    "    #Being Iterations\n",
    "    for k in range(k_max):\n",
    "        #Update c and a\n",
    "        a_k = a/((A + k + 1)**alpha)\n",
    "        c_k = c/((k + 1)**gamma)\n",
    "\n",
    "        #Find Delta\n",
    "        Delta_k = np.array(phi_k)\n",
    "        for b in range(bL):\n",
    "            for t in range(T):\n",
    "                for q in range(Q):\n",
    "                    Delta_k[b][t][q] = 1 - 2*np.random.binomial(size=None, n=1, p= 0.5)\n",
    "            \n",
    "        #Find E    \n",
    "        E_Circs_A = E_Circs(phi_k + c_k*Delta_k ,blocks)\n",
    "        E_Circs_B = E_Circs(phi_k - c_k*Delta_k ,blocks)\n",
    "        E_A = find_E(E_Circs_A)\n",
    "        E_B = find_E(E_Circs_B)\n",
    "        \n",
    "        #Calculate gradiant\n",
    "        g = (E_A-E_B)/(2*c_k) \n",
    "        g_k = g * Delta_k\n",
    "        phi_k = phi_k - a_k * g_k\n",
    "        \n",
    "        #Calculate new E\n",
    "        E_Circs_f = E_Circs(phi_k,blocks)\n",
    "        E_f = find_E(E_Circs_f)\n",
    "        \n",
    "        #Print and save E\n",
    "        print('k=',k,'c_k=',c_k,'a_k=',a_k,'g=',g,'E_A=',E_A,'E_B=',E_B,'E_f=',E_f)\n",
    "        E_l.append(E_f)\n",
    "        \n",
    "    return E_l"
   ]
  },
  {
   "cell_type": "code",
   "execution_count": null,
   "metadata": {},
   "outputs": [
    {
     "name": "stdout",
     "output_type": "stream",
     "text": [
      "k= 0 c_k= 0.02 a_k= 0.00047218436130948207 g= 27.461751302083332 E_A= 0.3184000651041667 E_B= -0.7800699869791666 E_f= -0.2927652994791667\n",
      "k= 1 c_k= 0.01864772972873665 a_k= 0.00044808755848694924 g= -32.614961490026424 E_A= -0.9416097005208334 E_B= 0.2747802734375 E_f= -0.21036783854166666\n",
      "k= 2 c_k= 0.017899493787135266 a_k= 0.00042700808451946097 g= -11.415147294264239 E_A= -0.048380533854166664 E_B= 0.3602701822916667 E_f= -0.2108154296875\n",
      "k= 3 c_k= 0.017386891201800432 a_k= 0.0004083766650268662 g= -3.5092421347640648 E_A= 0.8076578776041666 E_B= 0.9296875 E_f= 0.15506998697916666\n",
      "k= 4 c_k= 0.016999416915812672 a_k= 0.0003917626761548003 g= -1.1345747604471859 E_A= 0.5229899088541666 E_B= 0.5615641276041666 E_f= -0.16959635416666666\n",
      "k= 5 c_k= 0.016689246121184963 a_k= 0.0003768337273895953 g= -32.85465950447527 E_A= -0.16817220052083334 E_B= 0.928466796875 E_f= -0.290771484375\n",
      "k= 6 c_k= 0.016431419883627008 a_k= 0.00036332873351345896 g= 32.27067996578216 E_A= 1.3382568359375 E_B= 0.2777506510416667 E_f= 0.2774251302083333\n",
      "k= 7 c_k= 0.016211302397706184 a_k= 0.0003510394678945771 g= -7.514891085631578 E_A= -0.6977132161458334 E_B= -0.4540608723958333 E_f= -0.779541015625\n",
      "k= 8 c_k= 0.016019593891784697 a_k= 0.00033979761625905016 g= 33.09139299437479 E_A= 0.767333984375 E_B= -0.2928873697916667 E_f= -0.4556477864583333\n",
      "k= 9 c_k= 0.015850026609609436 a_k= 0.00032946549555188347 g= -39.66957596488919 E_A= -0.4132893880208333 E_B= 0.84423828125 E_f= 0.11376953125\n",
      "k= 10 c_k= 0.015698181082132542 a_k= 0.0003199292738134982 g= 36.23523695018069 E_A= 1.2942708333333333 E_B= 0.1566162109375 E_f= 0.4001057942708333\n",
      "k= 11 c_k= 0.01556082755221118 a_k= 0.00031109393320994706 g= 14.523188936025019 E_A= 0.9312337239583334 E_B= 0.479248046875 E_f= -0.4533284505208333\n",
      "k= 12 c_k= 0.01543553607451868 a_k= 0.0003028794711997623 g= 60.63234450473079 E_A= 2.0279947916666665 E_B= 0.15620930989583334 E_f= -0.047078450520833336\n",
      "k= 13 c_k= 0.015320433852463294 a_k= 0.00029521799621987603 g= -14.587732911981654 E_A= -0.17106119791666666 E_B= 0.2759195963541667 E_f= -1.4707845052083333\n",
      "k= 14 c_k= 0.015214047873475552 a_k= 0.00028805147965703365 g= -10.419886091571664 E_A= 0.0780029296875 E_B= 0.3950602213541667 E_f= 0.3594970703125\n",
      "k= 15 c_k= 0.015115199283162264 a_k= 0.0002813299960998455 g= 68.5584892697348 E_A= 2.5543619791666665 E_B= 0.4818115234375 E_f= -1.4279378255208333\n",
      "k= 16 c_k= 0.015022930379433372 a_k= 0.00027501033154281817 g= 62.09989261205892 E_A= 0.9278157552083334 E_B= -0.9380289713541666 E_f= -1.6282145182291667\n",
      "k= 17 c_k= 0.014936452862906076 a_k= 0.0002690548721309751 g= 89.7070273280101 E_A= 1.7071940104166667 E_B= -0.9726155598958334 E_f= 0.0014241536458333333\n",
      "k= 18 c_k= 0.014855110339541107 a_k= 0.00026343070911505556 g= -82.01508242691177 E_A= -0.4845377604166667 E_B= 1.9521484375 E_f= -1.2563883463541667\n",
      "k= 19 c_k= 0.014778350620464044 a_k= 0.0002581089121034474 g= -195.06859926276377 E_A= -4.381754557291667 E_B= 1.3838297526041667 E_f= 3.8826904296875\n",
      "k= 20 c_k= 0.014705704906039624 a_k= 0.0002530639345267166 g= -6.7264809039205815 E_A= 2.226318359375 E_B= 2.4241536458333335 E_f= 1.85498046875\n",
      "k= 21 c_k= 0.014636771902618714 a_k= 0.00024827312385925903 g= 140.38263005168702 E_A= 5.273274739583333 E_B= 1.1637776692708333 E_f= 4.534220377604167\n",
      "k= 22 c_k= 0.014571205535799991 a_k= 0.00024371631550763447 g= -135.1472684579057 E_A= -1.0723876953125 E_B= 2.8661295572916665 E_f= 0.4681396484375\n",
      "k= 23 c_k= 0.014508705327455641 a_k= 0.00023937549401982042 g= 74.27798583894436 E_A= 1.7345377604166667 E_B= -0.4208170572916667 E_f= 0.8736979166666666\n",
      "k= 24 c_k= 0.014449008773880907 a_k= 0.00023523450884117413 g= 36.660215543587896 E_A= 4.9813232421875 E_B= 3.9219156901041665 E_f= -0.2616373697916667\n",
      "k= 25 c_k= 0.014391885246789452 a_k= 0.00023127883455605232 g= 258.5250209471925 E_A= 6.1607666015625 E_B= -1.2805582682291667 E_f= -6.398885091145833\n"
     ]
    }
   ],
   "source": [
    "El = SPSA(100)"
   ]
  },
  {
   "cell_type": "code",
   "execution_count": null,
   "metadata": {},
   "outputs": [],
   "source": [
    "import matplotlib.pyplot as plt\n",
    "\n",
    "tl = [i for i in range(len(El))]\n",
    "\n",
    "plt.plot(tl,El)"
   ]
  },
  {
   "cell_type": "code",
   "execution_count": null,
   "metadata": {},
   "outputs": [],
   "source": [
    "pwd"
   ]
  },
  {
   "cell_type": "code",
   "execution_count": null,
   "metadata": {},
   "outputs": [],
   "source": []
  }
 ],
 "metadata": {
  "kernelspec": {
   "display_name": "Python [conda env:qiskit_25v]",
   "language": "python",
   "name": "conda-env-qiskit_25v-py"
  },
  "language_info": {
   "codemirror_mode": {
    "name": "ipython",
    "version": 3
   },
   "file_extension": ".py",
   "mimetype": "text/x-python",
   "name": "python",
   "nbconvert_exporter": "python",
   "pygments_lexer": "ipython3",
   "version": "3.9.4"
  }
 },
 "nbformat": 4,
 "nbformat_minor": 4
}
