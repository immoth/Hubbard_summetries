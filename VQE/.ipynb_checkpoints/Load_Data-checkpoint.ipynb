{
 "cells": [
  {
   "cell_type": "markdown",
   "id": "31f82bde",
   "metadata": {},
   "source": [
    "# Load Data\n",
    "\n",
    "I have included two data sets.  One is a data set generated from a simulation of our algorithm and another from running the algorithm on a real quantum device.  "
   ]
  },
  {
   "cell_type": "code",
   "execution_count": 131,
   "id": "6935e264",
   "metadata": {},
   "outputs": [],
   "source": [
    "#Load = 'Quantum'\n",
    "Load = 'Simulation'"
   ]
  },
  {
   "cell_type": "markdown",
   "id": "9638e037",
   "metadata": {},
   "source": [
    "## Parameter set used to save and load the data"
   ]
  },
  {
   "cell_type": "code",
   "execution_count": 132,
   "id": "8a6c04f6",
   "metadata": {},
   "outputs": [],
   "source": [
    "#Parameters\n",
    "u=4.0\n",
    "t=-1\n",
    "beta = 0.201\n",
    "A = 10\n",
    "a = 0.05\n",
    "gamma = 0.101\n",
    "c = 0.4\n",
    "beta_a = 0.201\n",
    "A_a = 10\n",
    "a_a = 0.05\n",
    "gamma_a = 0.101\n",
    "c_a = 0.4\n",
    "T=2"
   ]
  },
  {
   "cell_type": "markdown",
   "id": "25786c56",
   "metadata": {},
   "source": [
    "## Load the data\n",
    "\n",
    "The file we are loading contains information about each iteration of the algorithm.  We will be interested specfically in the final iteration."
   ]
  },
  {
   "cell_type": "code",
   "execution_count": 133,
   "id": "956cbaae",
   "metadata": {},
   "outputs": [],
   "source": [
    "import pickle\n",
    "\n",
    "if Load == 'Simulation':\n",
    "    file_to_read = open(\"VQE_Gunlycke_2_T\"+str(T)+\"_A_\"+str(A)+\"_a_\"+str(a)+\"_c_\"+str(c)+\"_beta_\"+str(beta)+\"_gamma_\"+str(gamma)+\"_t_\"+str(t)+\"_u_\"+str(u)+\".pickle\", \"rb\")\n",
    "if Load == 'Quantum':\n",
    "    file_to_read = open(\"VQE_jakarta_T\"+str(T)+\"_A_\"+str(A)+\"_a_\"+str(a)+\"_c_\"+str(c)+\"_beta_\"+str(beta)+\"_gamma_\"+str(gamma)+\"_t_\"+str(t)+\"_u_\"+str(u)+\".pickle\", \"rb\")\n",
    "\n",
    "\n",
    "loaded_object = pickle.load(file_to_read)"
   ]
  },
  {
   "cell_type": "markdown",
   "id": "32a33c61",
   "metadata": {},
   "source": [
    "## Plot the energy of each iteration\n",
    "\n",
    "Just for reference this is how the energy looks during the algorithm.  "
   ]
  },
  {
   "cell_type": "code",
   "execution_count": 134,
   "id": "48ae6e70",
   "metadata": {},
   "outputs": [
    {
     "data": {
      "text/plain": [
       "Text(0, 0.5, 'Energy')"
      ]
     },
     "execution_count": 134,
     "metadata": {},
     "output_type": "execute_result"
    },
    {
     "data": {
      "image/png": "[encoded data removed]",
      "text/plain": [
       "<Figure size 432x288 with 1 Axes>"
      ]
     },
     "metadata": {
      "needs_background": "light"
     },
     "output_type": "display_data"
    }
   ],
   "source": [
    "import matplotlib.pyplot as plt\n",
    "\n",
    "El = [loaded_object[i]['E'] for i in range(len(loaded_object))]\n",
    "tl = [i for i in range(len(El))]\n",
    "\n",
    "plt.plot(tl,El)\n",
    "plt.xlabel(\"Iteration\")\n",
    "plt.ylabel(\"Energy\")"
   ]
  },
  {
   "cell_type": "markdown",
   "id": "a38ca486",
   "metadata": {},
   "source": [
    "## Get the final rotation angles and weights\n",
    "\n",
    "The structure of the angles is $\\phi_{S,T,Q}$ where the first index $S$ runs over the sections of the wave function, the second $T$ runs over the sequential applications of the bare ansatz, here we run the bare ansatz twice, and the final index $Q$ runs over the qubits.\n",
    "\n",
    "The structure of the weights is $\\alpha_S$ where the only index is $S$ which runs over the sections of the wave function.  These act as weights for each section of the wavefunction generated by $\\phi_{S,\\ldots}$"
   ]
  },
  {
   "cell_type": "code",
   "execution_count": 98,
   "id": "99282e2a",
   "metadata": {},
   "outputs": [],
   "source": [
    "final_iteration = len(loaded_object)-1\n",
    "phi = loaded_object[final_iteration]['phi']  #Rotation angles\n",
    "alpha = loaded_object[final_iteration]['alpha']  #Weights"
   ]
  },
  {
   "cell_type": "markdown",
   "id": "574d19ba",
   "metadata": {},
   "source": [
    "## Reconstructing the circuits"
   ]
  },
  {
   "cell_type": "code",
   "execution_count": 99,
   "id": "73e9bedc",
   "metadata": {},
   "outputs": [],
   "source": [
    "from qiskit import QuantumCircuit, QuantumRegister,ClassicalRegister, execute\n",
    "\n",
    "Q = 3\n",
    "# A single instance of the bare ansatz\n",
    "def Ui(cir_i,phi_i):  \n",
    "    \n",
    "    for q in range(0,Q):\n",
    "        cir_i.ry(phi_i[q],q)\n",
    "    for q in range(0,Q,4):\n",
    "        cir_i.cx(q,q+1)\n",
    "        if q + 3 < Q:\n",
    "            cir_i.cx(q+3,q+2)\n",
    "    for q in range(1,Q,4):\n",
    "        cir_i.cx(q,q+1)\n",
    "        if q + 3 < Q:\n",
    "            cir_i.cx(q+3,q+2)\n",
    "    \n",
    "    return cir_i\n",
    "# The full ansatz\n",
    "def U(cir,phi_b):\n",
    "    T = len(phi_b)\n",
    "    for t in range(T):\n",
    "        cir = Ui(cir,phi_b[t])\n",
    "    return cir\n",
    "# Needed to connect different sections of the wavefunction\n",
    "def Ui_off(cir_i,phi_a, phi_b):  \n",
    "    \n",
    "    for q in range(0,Q):\n",
    "        cir_i.ry(phi_a[q],q)\n",
    "        cir_i.cx(Q,q)\n",
    "        cir_i.ry(-(phi_b[q]-phi_a[q])/2,q)\n",
    "        cir_i.cx(Q,q)\n",
    "        cir_i.ry((phi_b[q]-phi_a[q])/2,q)\n",
    "    for q in range(0,Q,4):\n",
    "        cir_i.cx(q,q+1)\n",
    "        if q + 3 < Q:\n",
    "            cir_i.cx(q+3,q+2)\n",
    "    for q in range(1,Q,4):\n",
    "        cir_i.cx(q,q+1)\n",
    "        if q + 3 < Q:\n",
    "            cir_i.cx(q+3,q+2)\n",
    "    \n",
    "    return cir_i\n",
    "# The full off diagonal ansatz\n",
    "def U_off(cir,phi_a,phi_b):\n",
    "    T = len(phi_b)\n",
    "    cir.h(Q)\n",
    "    for t in range(T):\n",
    "        cir = Ui_off(cir,phi_a[t],phi_b[t])\n",
    "    return cir"
   ]
  },
  {
   "cell_type": "code",
   "execution_count": 100,
   "id": "a17be110",
   "metadata": {},
   "outputs": [
    {
     "data": {
      "image/png": "[encoded data removed]",
      "text/plain": [
       "<Figure size 474.34x264.88 with 1 Axes>"
      ]
     },
     "execution_count": 100,
     "metadata": {},
     "output_type": "execute_result"
    }
   ],
   "source": [
    "#Example of a circuit for a section S.   \n",
    "S = 1\n",
    "qr = QuantumRegister(Q)\n",
    "cr = ClassicalRegister(Q)\n",
    "cir = QuantumCircuit(qr , cr)\n",
    "tst = U(cir,phi[S])\n",
    "\n",
    "tst.draw(output = 'mpl')"
   ]
  },
  {
   "cell_type": "code",
   "execution_count": 101,
   "id": "88b0f1c6",
   "metadata": {},
   "outputs": [
    {
     "data": {
      "image/png": "[encoded data removed]",
      "text/plain": [
       "<Figure size 1497.45x325.08 with 1 Axes>"
      ]
     },
     "execution_count": 101,
     "metadata": {},
     "output_type": "execute_result"
    }
   ],
   "source": [
    "#Example of a sercet which connects two sections S1 and S2\n",
    "S1 = 1\n",
    "S2 = 4\n",
    "qr = QuantumRegister(Q+1)\n",
    "cr = ClassicalRegister(Q+1)\n",
    "cir = QuantumCircuit(qr , cr)\n",
    "tst = U_off(cir,phi[S1],phi[S2])\n",
    "\n",
    "tst.draw(output = 'mpl')"
   ]
  },
  {
   "cell_type": "markdown",
   "id": "b3225101",
   "metadata": {},
   "source": [
    "## Calculating the energy\n",
    "\n",
    "First we need to load the list of Pauli strings which define the Hamiltonian.  The Hamiltonian is divided into blocks which act on the sections of the wavefunction.  Each block contains a list of Pauli strings which defines the part of the Hamiltonain which lives in that block.  "
   ]
  },
  {
   "cell_type": "code",
   "execution_count": 102,
   "id": "cd111842",
   "metadata": {},
   "outputs": [],
   "source": [
    "import pickle\n",
    "\n",
    "file_to_read = open(\"Blocks_t_\"+str(t)+\"_u_\"+str(u)+\".pickle\", \"rb\")\n",
    "\n",
    "loaded_blocks = pickle.load(file_to_read)"
   ]
  },
  {
   "cell_type": "code",
   "execution_count": 103,
   "id": "7ffe7698",
   "metadata": {},
   "outputs": [],
   "source": [
    "E0 = -2.1027484834620758 #The target ground state energy\n",
    "blocks = loaded_blocks"
   ]
  },
  {
   "cell_type": "markdown",
   "id": "98d9b7eb",
   "metadata": {},
   "source": [
    "The structure of the blocks is $H_{S1,S2,P}$ where $S1$ and $S2$ define sections of the wavefunction and $P$ runs of the set of Pauli strings the define the Hamiltoniain in the block defined by $S1$ and $S2$.  Each Pauli string also comes with a coeficient which tells you how much it contributes to the total energy."
   ]
  },
  {
   "cell_type": "code",
   "execution_count": 104,
   "id": "82f2dc9e",
   "metadata": {},
   "outputs": [
    {
     "data": {
      "text/plain": [
       "{'coef': 0.25, 'pauli': 'ZZI'}"
      ]
     },
     "execution_count": 104,
     "metadata": {},
     "output_type": "execute_result"
    }
   ],
   "source": [
    "#An example of a Pauli string held used for calculating the energy\n",
    "S1 = 0\n",
    "S2 = 1\n",
    "P = 3\n",
    "blocks[str(S1)+','+str(S2)][P]"
   ]
  },
  {
   "cell_type": "markdown",
   "id": "46709244",
   "metadata": {},
   "source": [
    "The total energy is given by\n",
    "$$ E = \\sum_{S1,S2} <\\psi_{S1}|\\sum_p H_{S1,S2,P}|\\psi_{S1}> $$\n",
    "where $ |\\psi_{S}> $ is the state generated by the circuit using the angles $\\phi_{S,T,Q}$ for all $T$ and $Q$.\n"
   ]
  },
  {
   "cell_type": "code",
   "execution_count": 105,
   "id": "c5ab3501",
   "metadata": {},
   "outputs": [],
   "source": [
    "import copy \n",
    "from qiskit import quantum_info as qi\n",
    "import numpy as np\n",
    "\n",
    "#Measure a puali string given a circuit\n",
    "def measure_pauli(p_label,psi0):\n",
    "    wave0 = qi.Statevector.from_instruction(psi0)\n",
    "    Op = qi.Operator.from_label(p_label)\n",
    "    return np.dot(np.conjugate(wave0),np.dot(Op,wave0))\n",
    "\n",
    "#Calculate the energy for a block that connects the same section of the wavefunction (on-diagonal) \n",
    "def E_on_block(phi_b,block):\n",
    "    E = 0\n",
    "    qr = QuantumRegister(Q)\n",
    "    cr = ClassicalRegister(Q)\n",
    "    cir = QuantumCircuit(qr , cr)\n",
    "    psi0 = U(cir,phi_b)\n",
    "    for p in block:\n",
    "        psi = copy.deepcopy(psi0)\n",
    "        w = p['coef']\n",
    "        p_label = p['pauli']\n",
    "        E_p = measure_pauli( p_label,psi)\n",
    "        E += w*E_p\n",
    "    return E\n",
    "\n",
    "#Calculate the energy for a block that connects different sections of the wavefunction (off-diagonal)\n",
    "def E_off_block(phi_a,phi_b,block):\n",
    "    E = 0\n",
    "    qr = QuantumRegister(Q+1)\n",
    "    cr = ClassicalRegister(Q+1)\n",
    "    cir = QuantumCircuit(qr , cr)\n",
    "    psi0 = U_off(cir,phi_a,phi_b)\n",
    "    for p in block:\n",
    "        psi = copy.deepcopy(psi0)\n",
    "        w = p['coef']\n",
    "        p_label = p['pauli']\n",
    "        E_p = measure_pauli('X' + p_label,psi)\n",
    "        E += w*E_p\n",
    "    return E\n",
    "\n",
    "#Find the total energy summing over all blocks\n",
    "def find_E(alpha,phi,blocks):\n",
    "    E = 0\n",
    "    for key in list(blocks.keys()):\n",
    "        if key[0] == key[2]:\n",
    "            E += alpha[int(key[0])]*alpha[int(key[2])]*E_on_block(phi[int(key[0])],blocks[key])\n",
    "        else:\n",
    "            E += 2*alpha[int(key[0])]*alpha[int(key[2])]*E_off_block(phi[int(key[0])],phi[int(key[2])],blocks[key])\n",
    "    return E\n",
    "            "
   ]
  },
  {
   "cell_type": "code",
   "execution_count": 106,
   "id": "594b8294",
   "metadata": {},
   "outputs": [
    {
     "data": {
      "text/plain": [
       "(0.01801680528778638+0j)"
      ]
     },
     "execution_count": 106,
     "metadata": {},
     "output_type": "execute_result"
    }
   ],
   "source": [
    "find_E(alpha,phi,blocks)"
   ]
  },
  {
   "cell_type": "code",
   "execution_count": null,
   "id": "6c2a328b",
   "metadata": {},
   "outputs": [],
   "source": []
  }
 ],
 "metadata": {
  "kernelspec": {
   "display_name": "Python (qiskit_u3.1)",
   "language": "python",
   "name": "qiskit_u3.1"
  },
  "language_info": {
   "codemirror_mode": {
    "name": "ipython",
    "version": 3
   },
   "file_extension": ".py",
   "mimetype": "text/x-python",
   "name": "python",
   "nbconvert_exporter": "python",
   "pygments_lexer": "ipython3",
   "version": "3.9.5"
  },
  "toc": {
   "base_numbering": 1,
   "nav_menu": {},
   "number_sections": true,
   "sideBar": true,
   "skip_h1_title": false,
   "title_cell": "Table of Contents",
   "title_sidebar": "Contents",
   "toc_cell": false,
   "toc_position": {},
   "toc_section_display": true,
   "toc_window_display": false
  }
 },
 "nbformat": 4,
 "nbformat_minor": 5
}
