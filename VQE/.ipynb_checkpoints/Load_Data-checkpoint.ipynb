{
 "cells": [
  {
   "cell_type": "markdown",
   "id": "a9a329f4",
   "metadata": {},
   "source": [
    "# Load Data"
   ]
  },
  {
   "cell_type": "markdown",
   "id": "4e10e823",
   "metadata": {},
   "source": [
    "## Parameter set used to save and load the data"
   ]
  },
  {
   "cell_type": "code",
   "execution_count": 9,
   "id": "b5b5480f",
   "metadata": {},
   "outputs": [],
   "source": [
    "#Parameters\n",
    "u=4.0\n",
    "t=-1\n",
    "beta = 0.201\n",
    "A = 10\n",
    "a = 0.05\n",
    "gamma = 0.101\n",
    "c = 0.4\n",
    "beta_a = 0.201\n",
    "A_a = 10\n",
    "a_a = 0.05\n",
    "gamma_a = 0.101\n",
    "c_a = 0.4\n",
    "T=2"
   ]
  },
  {
   "cell_type": "markdown",
   "id": "2e76ebdf",
   "metadata": {},
   "source": [
    "## Load the data\n",
    "\n",
    "The file we are loading contains information about each iteration of the algorithm.  We will be interested specfically in the final iteration."
   ]
  },
  {
   "cell_type": "code",
   "execution_count": 2,
   "id": "ca9b0ae6",
   "metadata": {},
   "outputs": [],
   "source": [
    "import pickle\n",
    "\n",
    "file_to_read = open(\"VQE_Gunlycke_2_T\"+str(T)+\"_A_\"+str(A)+\"_a_\"+str(a)+\"_c_\"+str(c)+\"_beta_\"+str(beta)+\"_gamma_\"+str(gamma)+\"_t_\"+str(t)+\"_u_\"+str(u)+\".pickle\", \"rb\")\n",
    "\n",
    "loaded_object = pickle.load(file_to_read)"
   ]
  },
  {
   "cell_type": "markdown",
   "id": "2075f773",
   "metadata": {},
   "source": [
    "## Plot the energy of each iteration\n",
    "\n",
    "Just for reference this is how the energy looks during the algorithm.  "
   ]
  },
  {
   "cell_type": "code",
   "execution_count": 10,
   "id": "cef20624",
   "metadata": {},
   "outputs": [
    {
     "data": {
      "text/plain": [
       "Text(0, 0.5, 'Energy')"
      ]
     },
     "execution_count": 10,
     "metadata": {},
     "output_type": "execute_result"
    },
    {
     "data": {
      "image/png": "[encoded data removed]",
      "text/plain": [
       "<Figure size 432x288 with 1 Axes>"
      ]
     },
     "metadata": {
      "needs_background": "light"
     },
     "output_type": "display_data"
    }
   ],
   "source": [
    "import matplotlib.pyplot as plt\n",
    "\n",
    "El = [loaded_object[i]['E'] for i in range(len(loaded_object))]\n",
    "tl = [i for i in range(len(El))]\n",
    "\n",
    "plt.plot(tl,El)\n",
    "plt.xlabel(\"Iteration\")\n",
    "plt.ylabel(\"Energy\")"
   ]
  },
  {
   "cell_type": "markdown",
   "id": "4ed52035",
   "metadata": {},
   "source": [
    "## Get the final rotation angles and weights\n",
    "\n",
    "The structure of the angles is $\\phi_{S,T,Q}$ where the first index $S$ runs over the sections of the wave function, the second $T$ runs over the sequential applications of the bare ansatz, here we run the bare ansatz twice, and the final index $Q$ runs over the qubits.\n",
    "\n",
    "The structure of the weights is $\\alpha_S$ where the only index is $S$ which runs over the sections of the wave function.  These act as weights for each section of the wavefunction generated by $\\phi_{S,\\ldots}$"
   ]
  },
  {
   "cell_type": "code",
   "execution_count": 11,
   "id": "7cfeecc2",
   "metadata": {},
   "outputs": [],
   "source": [
    "final_iteration = len(loaded_object)-1\n",
    "phi = loaded_object[final_iteration]['phi']  #Rotation angles\n",
    "alpha = loaded_object[final_iteration]['alpha']  #Weights"
   ]
  },
  {
   "cell_type": "markdown",
   "id": "5ed3c32f",
   "metadata": {},
   "source": [
    "## Reconstructing the circuits"
   ]
  },
  {
   "cell_type": "code",
   "execution_count": 43,
   "id": "d6d177bc",
   "metadata": {},
   "outputs": [],
   "source": [
    "from qiskit import QuantumCircuit, QuantumRegister,ClassicalRegister, execute\n",
    "\n",
    "Q = 3\n",
    "# A single instance of the bare ansatz\n",
    "def Ui(cir_i,phi_i):  \n",
    "    \n",
    "    for q in range(0,Q):\n",
    "        cir_i.ry(phi_i[q],q)\n",
    "    for q in range(0,Q,4):\n",
    "        cir_i.cx(q,q+1)\n",
    "        if q + 3 < Q:\n",
    "            cir_i.cx(q+3,q+2)\n",
    "    for q in range(1,Q,4):\n",
    "        cir_i.cx(q,q+1)\n",
    "        if q + 3 < Q:\n",
    "            cir_i.cx(q+3,q+2)\n",
    "    \n",
    "    return cir_i\n",
    "# The full ansatz\n",
    "def U(cir,phi_b):\n",
    "    T = len(phi_b)\n",
    "    for t in range(T):\n",
    "        cir = Ui(cir,phi_b[t])\n",
    "    return cir\n",
    "# Needed to connect different sections of the wavefunction\n",
    "def Ui_off(cir_i,phi_a, phi_b):  \n",
    "    \n",
    "    for q in range(0,Q):\n",
    "        cir_i.ry(phi_a[q],q)\n",
    "        cir_i.cx(Q,q)\n",
    "        cir_i.ry(-(phi_b[q]-phi_a[q])/2,q)\n",
    "        cir_i.cx(Q,q)\n",
    "        cir_i.ry((phi_b[q]-phi_a[q])/2,q)\n",
    "    for q in range(0,Q,4):\n",
    "        cir_i.cx(q,q+1)\n",
    "        if q + 3 < Q:\n",
    "            cir_i.cx(q+3,q+2)\n",
    "    for q in range(1,Q,4):\n",
    "        cir_i.cx(q,q+1)\n",
    "        if q + 3 < Q:\n",
    "            cir_i.cx(q+3,q+2)\n",
    "    \n",
    "    return cir_i\n",
    "# The full off diagonal ansatz\n",
    "def U_off(cir,phi_a,phi_b):\n",
    "    T = len(phi_b)\n",
    "    cir.h(Q)\n",
    "    for t in range(T):\n",
    "        cir = Ui_off(cir,phi_a[t],phi_b[t])\n",
    "    return cir"
   ]
  },
  {
   "cell_type": "code",
   "execution_count": 45,
   "id": "16c88065",
   "metadata": {},
   "outputs": [
    {
     "data": {
      "image/png": "[encoded data removed]",
      "text/plain": [
       "<Figure size 474.049x264.88 with 1 Axes>"
      ]
     },
     "execution_count": 45,
     "metadata": {},
     "output_type": "execute_result"
    }
   ],
   "source": [
    "#Example of a circuit for a section S.   \n",
    "S = 1\n",
    "qr = QuantumRegister(Q)\n",
    "cr = ClassicalRegister(Q)\n",
    "cir = QuantumCircuit(qr , cr)\n",
    "tst = U(cir,phi[S])\n",
    "\n",
    "tst.draw(output = 'mpl')"
   ]
  },
  {
   "cell_type": "code",
   "execution_count": 47,
   "id": "1c1f2e67",
   "metadata": {},
   "outputs": [
    {
     "data": {
      "image/png": "[encoded data removed]",
      "text/plain": [
       "<Figure size 1497.59x325.08 with 1 Axes>"
      ]
     },
     "execution_count": 47,
     "metadata": {},
     "output_type": "execute_result"
    }
   ],
   "source": [
    "#Example of a sercet which connects two sections S1 and S2\n",
    "S1 = 1\n",
    "S2 = 4\n",
    "qr = QuantumRegister(Q+1)\n",
    "cr = ClassicalRegister(Q+1)\n",
    "cir = QuantumCircuit(qr , cr)\n",
    "tst = U_off(cir,phi[S1],phi[S2])\n",
    "\n",
    "tst.draw(output = 'mpl')"
   ]
  },
  {
   "cell_type": "markdown",
   "id": "21ec9097",
   "metadata": {},
   "source": [
    "## Calculating the energy\n",
    "\n",
    "First we need to load the list of Pauli strings which define the Hamiltonian.  The Hamiltonian is divided into blocks which act on the sections of the wavefunction.  Each block contains a list of Pauli strings which defines the part of the Hamiltonain which lives in that block.  "
   ]
  },
  {
   "cell_type": "code",
   "execution_count": 57,
   "id": "89bb30f2",
   "metadata": {},
   "outputs": [],
   "source": [
    "import pickle\n",
    "\n",
    "file_to_read = open(\"Blocks_t_\"+str(t)+\"_u_\"+str(u)+\".pickle\", \"rb\")\n",
    "\n",
    "loaded_blocks = pickle.load(file_to_read)"
   ]
  },
  {
   "cell_type": "code",
   "execution_count": 61,
   "id": "ae503bed",
   "metadata": {},
   "outputs": [],
   "source": [
    "E0 = -2.1027484834620758 #The target ground state energy\n",
    "blocks = loaded_blocks"
   ]
  },
  {
   "cell_type": "markdown",
   "id": "fd7308db",
   "metadata": {},
   "source": [
    "The structure of the blocks is $H_{S1,S2,P}$ where $S1$ and $S2$ define sections of the wavefunction and $P$ runs of the set of Pauli strings the define the Hamiltoniain in the block defined by $S1$ and $S2$.  Each Pauli string also comes with a coeficient which tells you how much it contributes to the total energy."
   ]
  },
  {
   "cell_type": "code",
   "execution_count": 71,
   "id": "e7d09db5",
   "metadata": {},
   "outputs": [
    {
     "data": {
      "text/plain": [
       "{'coef': 0.25, 'pauli': 'ZZI'}"
      ]
     },
     "execution_count": 71,
     "metadata": {},
     "output_type": "execute_result"
    }
   ],
   "source": [
    "#An example of a Pauli string held used for calculating the energy\n",
    "S1 = 0\n",
    "S2 = 1\n",
    "P = 3\n",
    "blocks[str(S1)+','+str(S2)][P]"
   ]
  },
  {
   "cell_type": "markdown",
   "id": "807816f7",
   "metadata": {},
   "source": [
    "The total energy is given by\n",
    "$$ E = \\sum_{S1,S2} <\\psi_{S1}|\\sum_p H_{S1,S2,P}|\\psi_{S1}> $$\n",
    "where $ |\\psi_{S}> $ is the state generated by the circuit using the angles $\\phi_{S,T,Q}$ for all $T$ and $Q$.\n"
   ]
  },
  {
   "cell_type": "code",
   "execution_count": 93,
   "id": "2efc362d",
   "metadata": {},
   "outputs": [],
   "source": [
    "import copy \n",
    "from qiskit import quantum_info as qi\n",
    "import numpy as np\n",
    "\n",
    "#Measure a puali string given a circuit\n",
    "def measure_pauli(p_label,psi0):\n",
    "    wave0 = qi.Statevector.from_instruction(psi0)\n",
    "    Op = qi.Operator.from_label(p_label)\n",
    "    return np.dot(np.conjugate(wave0),np.dot(Op,wave0))\n",
    "\n",
    "#Calculate the energy for a block that connects the same section of the wavefunction (on-diagonal) \n",
    "def E_on_block(phi_b,block):\n",
    "    E = 0\n",
    "    qr = QuantumRegister(Q)\n",
    "    cr = ClassicalRegister(Q)\n",
    "    cir = QuantumCircuit(qr , cr)\n",
    "    psi0 = U(cir,phi_b)\n",
    "    for p in block:\n",
    "        psi = copy.deepcopy(psi0)\n",
    "        w = p['coef']\n",
    "        p_label = p['pauli']\n",
    "        E_p = measure_pauli( p_label,psi)\n",
    "        E += w*E_p\n",
    "    return E\n",
    "\n",
    "#Calculate the energy for a block that connects different sections of the wavefunction (off-diagonal)\n",
    "def E_off_block(phi_a,phi_b,block):\n",
    "    E = 0\n",
    "    qr = QuantumRegister(Q+1)\n",
    "    cr = ClassicalRegister(Q+1)\n",
    "    cir = QuantumCircuit(qr , cr)\n",
    "    psi0 = U_off(cir,phi_a,phi_b)\n",
    "    for p in block:\n",
    "        psi = copy.deepcopy(psi0)\n",
    "        w = p['coef']\n",
    "        p_label = p['pauli']\n",
    "        E_p = measure_pauli('X' + p_label,psi)\n",
    "        E += w*E_p\n",
    "    return E\n",
    "\n",
    "#Find the total energy summing over all blocks\n",
    "def find_E(alpha,phi,blocks):\n",
    "    E = 0\n",
    "    for key in list(blocks.keys()):\n",
    "        if key[0] == key[2]:\n",
    "            E += alpha[int(key[0])]*alpha[int(key[2])]*E_on_block(phi[int(key[0])],blocks[key])\n",
    "        else:\n",
    "            E += 2*alpha[int(key[0])]*alpha[int(key[2])]*E_off_block(phi[int(key[0])],phi[int(key[2])],blocks[key])\n",
    "    return E\n",
    "            "
   ]
  },
  {
   "cell_type": "code",
   "execution_count": 94,
   "id": "9742a86f",
   "metadata": {},
   "outputs": [
    {
     "data": {
      "text/plain": [
       "(-1.9005966776860888+0j)"
      ]
     },
     "execution_count": 94,
     "metadata": {},
     "output_type": "execute_result"
    }
   ],
   "source": [
    "find_E(alpha,phi,blocks)"
   ]
  },
  {
   "cell_type": "code",
   "execution_count": null,
   "id": "1b70887f",
   "metadata": {},
   "outputs": [],
   "source": []
  }
 ],
 "metadata": {
  "kernelspec": {
   "display_name": "Python (qiskit_u3.1)",
   "language": "python",
   "name": "qiskit_u3.1"
  },
  "language_info": {
   "codemirror_mode": {
    "name": "ipython",
    "version": 3
   },
   "file_extension": ".py",
   "mimetype": "text/x-python",
   "name": "python",
   "nbconvert_exporter": "python",
   "pygments_lexer": "ipython3",
   "version": "3.9.5"
  },
  "toc": {
   "base_numbering": 1,
   "nav_menu": {},
   "number_sections": true,
   "sideBar": true,
   "skip_h1_title": false,
   "title_cell": "Table of Contents",
   "title_sidebar": "Contents",
   "toc_cell": false,
   "toc_position": {},
   "toc_section_display": true,
   "toc_window_display": false
  }
 },
 "nbformat": 4,
 "nbformat_minor": 5
}
