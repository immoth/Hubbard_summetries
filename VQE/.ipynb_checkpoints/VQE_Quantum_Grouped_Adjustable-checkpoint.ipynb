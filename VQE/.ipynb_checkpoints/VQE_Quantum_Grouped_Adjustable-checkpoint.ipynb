{
 "cells": [
  {
   "cell_type": "markdown",
   "metadata": {},
   "source": [
    "# Symmetry Reduced VQE"
   ]
  },
  {
   "cell_type": "markdown",
   "metadata": {},
   "source": [
    "The first step is to find the blocks of a Hamiltonian which has have been reduced due to the application of some symmerty consideration.  Each block will then have an associated wavefunction,\n",
    "$$ |\\psi^b> = U(\\phi^b_1,\\phi^b_1,\\ldots)|000\\ldots> $$\n",
    "where $|000\\ldots>$ is the state in which $Q$ qubits are in their ground state with $Q$ deterimed by the size of the block $N$ as $Q = \\log_2 N$ rounded up and $U$ is a linear transformation with some set of parameters $\\{\\phi^b_i\\}$ which depend on the block.  \n",
    "\n",
    "For this notebook we will use the linear transformation Anzatz from here: https://arxiv.org/abs/1907.01493.  It gives $U$ as applying y-rotations to each qubit, then coupling each qubit pair with a C-not gate and repreating. \n",
    "$$ U^b_i = \\prod_q R^y_q(\\phi_{q0}^b)\\prod_{q'}C_{4q',4q'+1}C_{4q'+3,4q'+2}\\prod_{q''}C_{4q''+1,4q''+2}C_{4q''+4,4q''+3} $$\n",
    "$$ U^b = \\prod_i U^b_i $$\n",
    "where the $\\pm$ in the subscripts of the C-not gates alternates (see below for an exact definition).\n",
    "\n",
    "The Hamiltonian might be block diagonal or it might have some nonzero off diagonal blocks.  In the most general case, the minimization function invovles wave functions from different blocks.  \n",
    "\n",
    "$$ E = \\sum_{a,b}<\\psi^a|H_{ab}|\\psi^b> $$\n",
    "\n",
    "To minimize this function we will use the simultaneous perturbation stochastic approximation algorithm."
   ]
  },
  {
   "cell_type": "code",
   "execution_count": 238,
   "metadata": {},
   "outputs": [
    {
     "name": "stderr",
     "output_type": "stream",
     "text": [
      "ibmqfactory.load_account:WARNING:2022-01-12 13:42:27,971: Credentials are already in use. The existing account in the session will be replaced.\n"
     ]
    }
   ],
   "source": [
    "#Only needed if running on the quantum device\n",
    "from qiskit import IBMQ,transpile\n",
    "from qiskit.tools.monitor import job_monitor\n",
    "IBMQ.load_account()\n",
    "provider = IBMQ.get_provider(hub='ibm-q-afrl', group='air-force-lab', project='quantum-sim')\n",
    "backend = provider.get_backend('ibmq_jakarta')\n",
    "#backend = provider.get_backend('ibmq_lima')"
   ]
  },
  {
   "cell_type": "markdown",
   "metadata": {},
   "source": [
    "## Hamiltonian"
   ]
  },
  {
   "cell_type": "markdown",
   "metadata": {},
   "source": [
    "As an example for this notebook we will use the Hamiltonian generated from Example_Matrix_Creation_Sign_Fix.ipynb\n",
    "\n",
    "I do not know how to export the summed operator from OpFlow so I will import the numpy matrix and then re-extract the Pauli terms here."
   ]
  },
  {
   "cell_type": "code",
   "execution_count": 239,
   "metadata": {},
   "outputs": [],
   "source": [
    "import numpy as np \n",
    "\n",
    "#H = np.load('Hamiltonian_Example.npy')\n",
    "# I have -2.0 < u 2.0 in steps of 0.1\n",
    "u=4.0\n",
    "t=-1\n",
    "H = np.load('H_mu_'+str(u)+\"_t_\"+str(t)+'.npy')"
   ]
  },
  {
   "cell_type": "code",
   "execution_count": 240,
   "metadata": {},
   "outputs": [
    {
     "data": {
      "text/plain": [
       "array([-2.10274848e+00, -1.80642385e+00, -1.06814039e+00, -8.28427125e-01,\n",
       "       -8.28427125e-01,  8.70432672e-16,  5.81449281e-01,  2.00000000e+00,\n",
       "        2.00000000e+00,  2.00000000e+00,  2.00000000e+00,  2.38787313e+00,\n",
       "        2.96539191e+00,  3.17157288e+00,  3.17157288e+00,  4.00000000e+00,\n",
       "        4.00000000e+00,  4.00000000e+00,  4.00000000e+00,  4.00000000e+00,\n",
       "        4.00000000e+00,  4.82842712e+00,  4.82842712e+00,  5.03460809e+00,\n",
       "        5.61212687e+00,  6.00000000e+00,  6.00000000e+00,  6.00000000e+00,\n",
       "        6.00000000e+00,  7.41855072e+00,  8.00000000e+00,  8.82842712e+00,\n",
       "        8.82842712e+00,  9.06814039e+00,  9.80642385e+00,  1.01027485e+01])"
      ]
     },
     "execution_count": 240,
     "metadata": {},
     "output_type": "execute_result"
    }
   ],
   "source": [
    "e,y = np.linalg.eig(H)\n",
    "\n",
    "np.sort(e)"
   ]
  },
  {
   "cell_type": "markdown",
   "metadata": {},
   "source": [
    "Now that the Hamiltonian has been imported let us break it into blocks and exctract the Pauli coordinates.  "
   ]
  },
  {
   "cell_type": "code",
   "execution_count": 241,
   "metadata": {},
   "outputs": [],
   "source": [
    "from qiskit.opflow import (I, X, Y, Z)\n",
    "from qiskit.opflow.primitive_ops import MatrixOp\n",
    "from qiskit import quantum_info as qi\n",
    "\n",
    "# Function to add elements to a block so that it fits onto qubits\n",
    "def complete_diagonal(b11):\n",
    "    size = 2**np.ceil(np.log2(len(b11)))\n",
    "    for v in b11:\n",
    "        while len(v) < size:\n",
    "            v.append(0.0)\n",
    "    while len(b11) < size:\n",
    "        i = len(b11)\n",
    "        vnew = [0.0 for i in range(0,8)]\n",
    "        vnew[i] = 10\n",
    "        b11.append(vnew)\n",
    "    return b11\n",
    "\n",
    "def complete_off_diagonal(b11):\n",
    "    size = 2**np.ceil(np.log2(len(b11)))\n",
    "    for v in b11:\n",
    "        while len(v) < size:\n",
    "            v.append(0.0)\n",
    "    while len(b11) < size:\n",
    "        i = len(b11)\n",
    "        vnew = [0.0 for i in range(0,8)]\n",
    "        b11.append(vnew)\n",
    "    return b11\n",
    "\n"
   ]
  },
  {
   "cell_type": "code",
   "execution_count": 242,
   "metadata": {},
   "outputs": [],
   "source": [
    "import math\n",
    "N = 4\n",
    "S = 2\n",
    "bL = math.comb(4,2)\n",
    "\n",
    "blocks = {}\n",
    "for bi in range(bL):\n",
    "    for bj in range(bi,bL):\n",
    "        bij = [[H[i + bL*bi][j + bL*bj] for j in range(0,bL)] for i in range(0,bL)]\n",
    "        if np.amax(np.abs(bij)) > 10**(-5):\n",
    "            if bi == bj:\n",
    "                bij = complete_diagonal(bij)\n",
    "            else:\n",
    "                bij = complete_off_diagonal(bij)\n",
    "            bij_pauli = MatrixOp(bij).to_pauli_op()\n",
    "            blocks[str(bi) + ',' + str(bj)] = bij_pauli\n",
    "        "
   ]
  },
  {
   "cell_type": "markdown",
   "metadata": {},
   "source": [
    "The object *blocks* is a dictionary of *SumedOp* lists of *PauliOp* objects.  "
   ]
  },
  {
   "cell_type": "code",
   "execution_count": 243,
   "metadata": {},
   "outputs": [
    {
     "data": {
      "text/html": [
       "<div>\n",
       "<style scoped>\n",
       "    .dataframe tbody tr th:only-of-type {\n",
       "        vertical-align: middle;\n",
       "    }\n",
       "\n",
       "    .dataframe tbody tr th {\n",
       "        vertical-align: top;\n",
       "    }\n",
       "\n",
       "    .dataframe thead th {\n",
       "        text-align: right;\n",
       "    }\n",
       "</style>\n",
       "<table border=\"1\" class=\"dataframe\">\n",
       "  <thead>\n",
       "    <tr style=\"text-align: right;\">\n",
       "      <th></th>\n",
       "      <th>0</th>\n",
       "      <th>1</th>\n",
       "      <th>2</th>\n",
       "      <th>3</th>\n",
       "      <th>4</th>\n",
       "      <th>5</th>\n",
       "      <th>6</th>\n",
       "      <th>7</th>\n",
       "    </tr>\n",
       "  </thead>\n",
       "  <tbody>\n",
       "    <tr>\n",
       "      <th>0</th>\n",
       "      <td>4.0+0.0j</td>\n",
       "      <td>-1.0+0.0j</td>\n",
       "      <td>0.0+0.0j</td>\n",
       "      <td>0.0+0.0j</td>\n",
       "      <td>1.0+0.0j</td>\n",
       "      <td>0.0+0.0j</td>\n",
       "      <td>0.0+0.0j</td>\n",
       "      <td>0.0+0.0j</td>\n",
       "    </tr>\n",
       "    <tr>\n",
       "      <th>1</th>\n",
       "      <td>-1.0+0.0j</td>\n",
       "      <td>4.0+0.0j</td>\n",
       "      <td>-1.0+0.0j</td>\n",
       "      <td>-1.0+0.0j</td>\n",
       "      <td>0.0+0.0j</td>\n",
       "      <td>1.0+0.0j</td>\n",
       "      <td>0.0+0.0j</td>\n",
       "      <td>0.0+0.0j</td>\n",
       "    </tr>\n",
       "    <tr>\n",
       "      <th>2</th>\n",
       "      <td>0.0+0.0j</td>\n",
       "      <td>-1.0+0.0j</td>\n",
       "      <td>0.0+0.0j</td>\n",
       "      <td>0.0+0.0j</td>\n",
       "      <td>-1.0+0.0j</td>\n",
       "      <td>0.0+0.0j</td>\n",
       "      <td>0.0+0.0j</td>\n",
       "      <td>0.0+0.0j</td>\n",
       "    </tr>\n",
       "    <tr>\n",
       "      <th>3</th>\n",
       "      <td>0.0+0.0j</td>\n",
       "      <td>-1.0+0.0j</td>\n",
       "      <td>0.0+0.0j</td>\n",
       "      <td>8.0+0.0j</td>\n",
       "      <td>-1.0+0.0j</td>\n",
       "      <td>0.0+0.0j</td>\n",
       "      <td>0.0+0.0j</td>\n",
       "      <td>0.0+0.0j</td>\n",
       "    </tr>\n",
       "    <tr>\n",
       "      <th>4</th>\n",
       "      <td>1.0+0.0j</td>\n",
       "      <td>0.0+0.0j</td>\n",
       "      <td>-1.0+0.0j</td>\n",
       "      <td>-1.0+0.0j</td>\n",
       "      <td>4.0+0.0j</td>\n",
       "      <td>-1.0+0.0j</td>\n",
       "      <td>0.0+0.0j</td>\n",
       "      <td>0.0+0.0j</td>\n",
       "    </tr>\n",
       "    <tr>\n",
       "      <th>5</th>\n",
       "      <td>0.0+0.0j</td>\n",
       "      <td>1.0+0.0j</td>\n",
       "      <td>0.0+0.0j</td>\n",
       "      <td>0.0+0.0j</td>\n",
       "      <td>-1.0+0.0j</td>\n",
       "      <td>4.0+0.0j</td>\n",
       "      <td>0.0+0.0j</td>\n",
       "      <td>0.0+0.0j</td>\n",
       "    </tr>\n",
       "    <tr>\n",
       "      <th>6</th>\n",
       "      <td>0.0+0.0j</td>\n",
       "      <td>0.0+0.0j</td>\n",
       "      <td>0.0+0.0j</td>\n",
       "      <td>0.0+0.0j</td>\n",
       "      <td>0.0+0.0j</td>\n",
       "      <td>0.0+0.0j</td>\n",
       "      <td>10.0+0.0j</td>\n",
       "      <td>0.0+0.0j</td>\n",
       "    </tr>\n",
       "    <tr>\n",
       "      <th>7</th>\n",
       "      <td>0.0+0.0j</td>\n",
       "      <td>0.0+0.0j</td>\n",
       "      <td>0.0+0.0j</td>\n",
       "      <td>0.0+0.0j</td>\n",
       "      <td>0.0+0.0j</td>\n",
       "      <td>0.0+0.0j</td>\n",
       "      <td>0.0+0.0j</td>\n",
       "      <td>10.0+0.0j</td>\n",
       "    </tr>\n",
       "  </tbody>\n",
       "</table>\n",
       "</div>"
      ],
      "text/plain": [
       "          0         1         2         3         4         5          6  \\\n",
       "0  4.0+0.0j -1.0+0.0j  0.0+0.0j  0.0+0.0j  1.0+0.0j  0.0+0.0j   0.0+0.0j   \n",
       "1 -1.0+0.0j  4.0+0.0j -1.0+0.0j -1.0+0.0j  0.0+0.0j  1.0+0.0j   0.0+0.0j   \n",
       "2  0.0+0.0j -1.0+0.0j  0.0+0.0j  0.0+0.0j -1.0+0.0j  0.0+0.0j   0.0+0.0j   \n",
       "3  0.0+0.0j -1.0+0.0j  0.0+0.0j  8.0+0.0j -1.0+0.0j  0.0+0.0j   0.0+0.0j   \n",
       "4  1.0+0.0j  0.0+0.0j -1.0+0.0j -1.0+0.0j  4.0+0.0j -1.0+0.0j   0.0+0.0j   \n",
       "5  0.0+0.0j  1.0+0.0j  0.0+0.0j  0.0+0.0j -1.0+0.0j  4.0+0.0j   0.0+0.0j   \n",
       "6  0.0+0.0j  0.0+0.0j  0.0+0.0j  0.0+0.0j  0.0+0.0j  0.0+0.0j  10.0+0.0j   \n",
       "7  0.0+0.0j  0.0+0.0j  0.0+0.0j  0.0+0.0j  0.0+0.0j  0.0+0.0j   0.0+0.0j   \n",
       "\n",
       "           7  \n",
       "0   0.0+0.0j  \n",
       "1   0.0+0.0j  \n",
       "2   0.0+0.0j  \n",
       "3   0.0+0.0j  \n",
       "4   0.0+0.0j  \n",
       "5   0.0+0.0j  \n",
       "6   0.0+0.0j  \n",
       "7  10.0+0.0j  "
      ]
     },
     "execution_count": 243,
     "metadata": {},
     "output_type": "execute_result"
    }
   ],
   "source": [
    "import pandas as pd\n",
    "\n",
    "pd.DataFrame(blocks['3,3'].to_matrix())"
   ]
  },
  {
   "cell_type": "code",
   "execution_count": 244,
   "metadata": {},
   "outputs": [
    {
     "name": "stdout",
     "output_type": "stream",
     "text": [
      "SummedOp([\n",
      "  5.5 * III,\n",
      "  -0.5 * IIX,\n",
      "  IIZ,\n",
      "  -0.25 * IXI,\n",
      "  -0.25 * IXX,\n",
      "  0.25 * IXZ,\n",
      "  -0.25 * IYY,\n",
      "  -1.5 * IZI,\n",
      "  -0.5 * IZX,\n",
      "  IZZ,\n",
      "  0.5 * XII,\n",
      "  -0.25 * XXI,\n",
      "  -0.25 * XXX,\n",
      "  -0.25 * XXZ,\n",
      "  0.25 * XYY,\n",
      "  0.5 * XZI,\n",
      "  -0.25 * YXY,\n",
      "  -0.25 * YYI,\n",
      "  -0.25 * YYX,\n",
      "  -0.25 * YYZ,\n",
      "  -0.5 * ZII,\n",
      "  -0.25 * ZXI,\n",
      "  -0.25 * ZXX,\n",
      "  0.25 * ZXZ,\n",
      "  -0.25 * ZYY,\n",
      "  2.5 * ZZI\n",
      "])\n"
     ]
    }
   ],
   "source": [
    "print(blocks['0,0'])"
   ]
  },
  {
   "cell_type": "markdown",
   "metadata": {},
   "source": [
    "Let's take a sanity check here and make sure we can rebuild a Hamiltonian with these completed blocks and that the ground state is still the same."
   ]
  },
  {
   "cell_type": "code",
   "execution_count": 245,
   "metadata": {},
   "outputs": [
    {
     "name": "stderr",
     "output_type": "stream",
     "text": [
      "<ipython-input-245-4f4400865c4e>:15: ComplexWarning: Casting complex values to real discards the imaginary part\n",
      "  H_complete[i + bi*size, j + bj*size] = block[i,j]\n",
      "<ipython-input-245-4f4400865c4e>:16: ComplexWarning: Casting complex values to real discards the imaginary part\n",
      "  H_complete[i + bj*size, j + bi*size] = block[j,i]\n"
     ]
    }
   ],
   "source": [
    "keys = list(blocks.keys())\n",
    "\n",
    "size = int(2**np.ceil(np.log2(bL)))\n",
    "H_complete = np.array([[0 for i in range(size*bL)] for j in range(size*bL)])\n",
    "\n",
    "for bi in range(bL):\n",
    "    for bj in range(bi,bL):\n",
    "        key = str(bi) + ',' + str(bj)\n",
    "        if key  in keys:\n",
    "            block = blocks[key].to_matrix()\n",
    "        else:\n",
    "            block = np.array([[0.0 for i in range(size)] for j in range(size)])\n",
    "        for i in range(size):\n",
    "            for j in range(size):\n",
    "                H_complete[i + bi*size, j + bj*size] = block[i,j]\n",
    "                H_complete[i + bj*size, j + bi*size] = block[j,i]\n",
    "                "
   ]
  },
  {
   "cell_type": "code",
   "execution_count": 246,
   "metadata": {},
   "outputs": [
    {
     "data": {
      "text/html": [
       "<div>\n",
       "<style scoped>\n",
       "    .dataframe tbody tr th:only-of-type {\n",
       "        vertical-align: middle;\n",
       "    }\n",
       "\n",
       "    .dataframe tbody tr th {\n",
       "        vertical-align: top;\n",
       "    }\n",
       "\n",
       "    .dataframe thead th {\n",
       "        text-align: right;\n",
       "    }\n",
       "</style>\n",
       "<table border=\"1\" class=\"dataframe\">\n",
       "  <thead>\n",
       "    <tr style=\"text-align: right;\">\n",
       "      <th></th>\n",
       "      <th>0</th>\n",
       "      <th>1</th>\n",
       "      <th>2</th>\n",
       "      <th>3</th>\n",
       "      <th>4</th>\n",
       "      <th>5</th>\n",
       "      <th>6</th>\n",
       "      <th>...</th>\n",
       "      <th>41</th>\n",
       "      <th>42</th>\n",
       "      <th>43</th>\n",
       "      <th>44</th>\n",
       "      <th>45</th>\n",
       "      <th>46</th>\n",
       "      <th>47</th>\n",
       "    </tr>\n",
       "  </thead>\n",
       "  <tbody>\n",
       "    <tr>\n",
       "      <th>0</th>\n",
       "      <td>8</td>\n",
       "      <td>-1</td>\n",
       "      <td>0</td>\n",
       "      <td>0</td>\n",
       "      <td>1</td>\n",
       "      <td>0</td>\n",
       "      <td>0</td>\n",
       "      <td>...</td>\n",
       "      <td>0</td>\n",
       "      <td>0</td>\n",
       "      <td>0</td>\n",
       "      <td>0</td>\n",
       "      <td>0</td>\n",
       "      <td>0</td>\n",
       "      <td>0</td>\n",
       "    </tr>\n",
       "    <tr>\n",
       "      <th>1</th>\n",
       "      <td>-1</td>\n",
       "      <td>4</td>\n",
       "      <td>-1</td>\n",
       "      <td>-1</td>\n",
       "      <td>0</td>\n",
       "      <td>1</td>\n",
       "      <td>0</td>\n",
       "      <td>...</td>\n",
       "      <td>0</td>\n",
       "      <td>0</td>\n",
       "      <td>0</td>\n",
       "      <td>0</td>\n",
       "      <td>0</td>\n",
       "      <td>0</td>\n",
       "      <td>0</td>\n",
       "    </tr>\n",
       "    <tr>\n",
       "      <th>2</th>\n",
       "      <td>0</td>\n",
       "      <td>-1</td>\n",
       "      <td>4</td>\n",
       "      <td>0</td>\n",
       "      <td>-1</td>\n",
       "      <td>0</td>\n",
       "      <td>0</td>\n",
       "      <td>...</td>\n",
       "      <td>0</td>\n",
       "      <td>0</td>\n",
       "      <td>0</td>\n",
       "      <td>0</td>\n",
       "      <td>0</td>\n",
       "      <td>0</td>\n",
       "      <td>0</td>\n",
       "    </tr>\n",
       "    <tr>\n",
       "      <th>3</th>\n",
       "      <td>0</td>\n",
       "      <td>-1</td>\n",
       "      <td>0</td>\n",
       "      <td>4</td>\n",
       "      <td>-1</td>\n",
       "      <td>0</td>\n",
       "      <td>0</td>\n",
       "      <td>...</td>\n",
       "      <td>0</td>\n",
       "      <td>0</td>\n",
       "      <td>0</td>\n",
       "      <td>0</td>\n",
       "      <td>0</td>\n",
       "      <td>0</td>\n",
       "      <td>0</td>\n",
       "    </tr>\n",
       "    <tr>\n",
       "      <th>4</th>\n",
       "      <td>1</td>\n",
       "      <td>0</td>\n",
       "      <td>-1</td>\n",
       "      <td>-1</td>\n",
       "      <td>4</td>\n",
       "      <td>-1</td>\n",
       "      <td>0</td>\n",
       "      <td>...</td>\n",
       "      <td>0</td>\n",
       "      <td>0</td>\n",
       "      <td>0</td>\n",
       "      <td>0</td>\n",
       "      <td>0</td>\n",
       "      <td>0</td>\n",
       "      <td>0</td>\n",
       "    </tr>\n",
       "    <tr>\n",
       "      <th>...</th>\n",
       "      <td>...</td>\n",
       "      <td>...</td>\n",
       "      <td>...</td>\n",
       "      <td>...</td>\n",
       "      <td>...</td>\n",
       "      <td>...</td>\n",
       "      <td>...</td>\n",
       "      <td>...</td>\n",
       "      <td>...</td>\n",
       "      <td>...</td>\n",
       "      <td>...</td>\n",
       "      <td>...</td>\n",
       "      <td>...</td>\n",
       "      <td>...</td>\n",
       "      <td>...</td>\n",
       "    </tr>\n",
       "    <tr>\n",
       "      <th>43</th>\n",
       "      <td>0</td>\n",
       "      <td>0</td>\n",
       "      <td>0</td>\n",
       "      <td>0</td>\n",
       "      <td>0</td>\n",
       "      <td>0</td>\n",
       "      <td>0</td>\n",
       "      <td>...</td>\n",
       "      <td>-1</td>\n",
       "      <td>0</td>\n",
       "      <td>4</td>\n",
       "      <td>-1</td>\n",
       "      <td>0</td>\n",
       "      <td>0</td>\n",
       "      <td>0</td>\n",
       "    </tr>\n",
       "    <tr>\n",
       "      <th>44</th>\n",
       "      <td>0</td>\n",
       "      <td>0</td>\n",
       "      <td>0</td>\n",
       "      <td>0</td>\n",
       "      <td>0</td>\n",
       "      <td>0</td>\n",
       "      <td>0</td>\n",
       "      <td>...</td>\n",
       "      <td>0</td>\n",
       "      <td>-1</td>\n",
       "      <td>-1</td>\n",
       "      <td>4</td>\n",
       "      <td>-1</td>\n",
       "      <td>0</td>\n",
       "      <td>0</td>\n",
       "    </tr>\n",
       "    <tr>\n",
       "      <th>45</th>\n",
       "      <td>0</td>\n",
       "      <td>0</td>\n",
       "      <td>0</td>\n",
       "      <td>0</td>\n",
       "      <td>0</td>\n",
       "      <td>0</td>\n",
       "      <td>0</td>\n",
       "      <td>...</td>\n",
       "      <td>1</td>\n",
       "      <td>0</td>\n",
       "      <td>0</td>\n",
       "      <td>-1</td>\n",
       "      <td>8</td>\n",
       "      <td>0</td>\n",
       "      <td>0</td>\n",
       "    </tr>\n",
       "    <tr>\n",
       "      <th>46</th>\n",
       "      <td>0</td>\n",
       "      <td>0</td>\n",
       "      <td>0</td>\n",
       "      <td>0</td>\n",
       "      <td>0</td>\n",
       "      <td>0</td>\n",
       "      <td>0</td>\n",
       "      <td>...</td>\n",
       "      <td>0</td>\n",
       "      <td>0</td>\n",
       "      <td>0</td>\n",
       "      <td>0</td>\n",
       "      <td>0</td>\n",
       "      <td>10</td>\n",
       "      <td>0</td>\n",
       "    </tr>\n",
       "    <tr>\n",
       "      <th>47</th>\n",
       "      <td>0</td>\n",
       "      <td>0</td>\n",
       "      <td>0</td>\n",
       "      <td>0</td>\n",
       "      <td>0</td>\n",
       "      <td>0</td>\n",
       "      <td>0</td>\n",
       "      <td>...</td>\n",
       "      <td>0</td>\n",
       "      <td>0</td>\n",
       "      <td>0</td>\n",
       "      <td>0</td>\n",
       "      <td>0</td>\n",
       "      <td>0</td>\n",
       "      <td>10</td>\n",
       "    </tr>\n",
       "  </tbody>\n",
       "</table>\n",
       "<p>48 rows × 48 columns</p>\n",
       "</div>"
      ],
      "text/plain": [
       "    0   1   2   3   4   5   6   ...  41  42  43  44  45  46  47\n",
       "0    8  -1   0   0   1   0   0  ...   0   0   0   0   0   0   0\n",
       "1   -1   4  -1  -1   0   1   0  ...   0   0   0   0   0   0   0\n",
       "2    0  -1   4   0  -1   0   0  ...   0   0   0   0   0   0   0\n",
       "3    0  -1   0   4  -1   0   0  ...   0   0   0   0   0   0   0\n",
       "4    1   0  -1  -1   4  -1   0  ...   0   0   0   0   0   0   0\n",
       "..  ..  ..  ..  ..  ..  ..  ..  ...  ..  ..  ..  ..  ..  ..  ..\n",
       "43   0   0   0   0   0   0   0  ...  -1   0   4  -1   0   0   0\n",
       "44   0   0   0   0   0   0   0  ...   0  -1  -1   4  -1   0   0\n",
       "45   0   0   0   0   0   0   0  ...   1   0   0  -1   8   0   0\n",
       "46   0   0   0   0   0   0   0  ...   0   0   0   0   0  10   0\n",
       "47   0   0   0   0   0   0   0  ...   0   0   0   0   0   0  10\n",
       "\n",
       "[48 rows x 48 columns]"
      ]
     },
     "execution_count": 246,
     "metadata": {},
     "output_type": "execute_result"
    }
   ],
   "source": [
    "pd.set_option(\"display.max_rows\", 15, \"display.max_columns\", 15)\n",
    "pd.DataFrame(H_complete)"
   ]
  },
  {
   "cell_type": "code",
   "execution_count": 247,
   "metadata": {},
   "outputs": [
    {
     "name": "stdout",
     "output_type": "stream",
     "text": [
      "(-2.1027484834620758+0j)\n",
      "-2.1027484834620758\n"
     ]
    }
   ],
   "source": [
    "e_comp,y_comp = np.linalg.eig(H_complete)\n",
    "\n",
    "print(np.sort(e_comp)[0])\n",
    "print(np.sort(e)[0])"
   ]
  },
  {
   "cell_type": "markdown",
   "metadata": {},
   "source": [
    "## The Anzatz circuit"
   ]
  },
  {
   "cell_type": "markdown",
   "metadata": {},
   "source": [
    "Here we define the paramaterized circuit which we will optimize. \n",
    "\n",
    "$$ U^b_i = \\prod_q R^y_q(\\phi_{q0}^b)\\prod_{q'}C_{4q',4q'+1}C_{4q'+3,4q'+2}\\prod_{q''}C_{4q''+1,4q''+2}C_{4q''+4,4q''+3} $$\n",
    "$$ U^b = \\prod_i U^b_i $$"
   ]
  },
  {
   "cell_type": "code",
   "execution_count": 248,
   "metadata": {},
   "outputs": [],
   "source": [
    "from qiskit import QuantumCircuit, QuantumRegister,ClassicalRegister, execute\n",
    "\n",
    "\n",
    "# the number of qubits is given by the size of the blocks\n",
    "# note: the size of the blocks has already been adjusted to fit the qubits\n",
    "Q = int(np.log2(len(blocks['0,0'].to_matrix())))\n"
   ]
  },
  {
   "cell_type": "code",
   "execution_count": 249,
   "metadata": {},
   "outputs": [],
   "source": [
    "def Ui(cir_i,phi_i):  \n",
    "    \n",
    "    for q in range(0,Q):\n",
    "        cir_i.ry(phi_i[q],q)\n",
    "    for q in range(0,Q,4):\n",
    "        cir_i.cx(q,q+1)\n",
    "        if q + 3 < Q:\n",
    "            cir_i.cx(q+3,q+2)\n",
    "    for q in range(1,Q,4):\n",
    "        cir_i.cx(q,q+1)\n",
    "        if q + 3 < Q:\n",
    "            cir_i.cx(q+3,q+2)\n",
    "    \n",
    "    return cir_i\n"
   ]
  },
  {
   "cell_type": "code",
   "execution_count": 250,
   "metadata": {},
   "outputs": [
    {
     "data": {
      "image/png": "[encoded data removed]",
      "text/plain": [
       "<Figure size 346.39x264.88 with 1 Axes>"
      ]
     },
     "execution_count": 250,
     "metadata": {},
     "output_type": "execute_result"
    }
   ],
   "source": [
    "qr = QuantumRegister(Q)\n",
    "cr = ClassicalRegister(Q)\n",
    "cir_i = QuantumCircuit(qr , cr)\n",
    "tst = Ui(cir_i,[0.2,0.3,0.4])\n",
    "\n",
    "tst.draw(output = 'mpl')"
   ]
  },
  {
   "cell_type": "code",
   "execution_count": 251,
   "metadata": {},
   "outputs": [],
   "source": [
    "def U(cir,phi_b):\n",
    "    T = len(phi_b)\n",
    "    for t in range(T):\n",
    "        cir = Ui(cir,phi_b[t])\n",
    "    return cir\n"
   ]
  },
  {
   "cell_type": "code",
   "execution_count": 252,
   "metadata": {},
   "outputs": [
    {
     "data": {
      "image/png": "[encoded data removed]",
      "text/plain": [
       "<Figure size 707.59x264.88 with 1 Axes>"
      ]
     },
     "execution_count": 252,
     "metadata": {},
     "output_type": "execute_result"
    }
   ],
   "source": [
    "qr = QuantumRegister(Q)\n",
    "cr = ClassicalRegister(Q)\n",
    "cir = QuantumCircuit(qr , cr)\n",
    "tst = U(cir,[[0.2,0.3,0.4],[0.5,0.6,0.7],[0.8,0.9,0.1]])\n",
    "\n",
    "tst.draw(output = 'mpl')"
   ]
  },
  {
   "cell_type": "markdown",
   "metadata": {},
   "source": [
    "In order to deal with off diagonal blocks, we will also need to form $$ U^{ab} = I\\otimes U^a + X \\otimes U^b$$\n",
    "\n",
    "In order to create this gate we need a controled-Ry gate.  The controled-Ry can be built as $C_{R_y}(\\phi) = R_y(\\phi/2)C_{NOT}R_y(-\\phi/2)C_{NOT}$"
   ]
  },
  {
   "cell_type": "code",
   "execution_count": 253,
   "metadata": {},
   "outputs": [],
   "source": [
    "def Ui_off(cir_i,phi_a, phi_b):  \n",
    "    \n",
    "    for q in range(0,Q):\n",
    "        cir_i.ry(phi_a[q],q)\n",
    "        cir_i.cx(Q,q)\n",
    "        cir_i.ry(-(phi_b[q]-phi_a[q])/2,q)\n",
    "        cir_i.cx(Q,q)\n",
    "        cir_i.ry((phi_b[q]-phi_a[q])/2,q)\n",
    "    for q in range(0,Q,4):\n",
    "        cir_i.cx(q,q+1)\n",
    "        if q + 3 < Q:\n",
    "            cir_i.cx(q+3,q+2)\n",
    "    for q in range(1,Q,4):\n",
    "        cir_i.cx(q,q+1)\n",
    "        if q + 3 < Q:\n",
    "            cir_i.cx(q+3,q+2)\n",
    "    \n",
    "    return cir_i"
   ]
  },
  {
   "cell_type": "code",
   "execution_count": 254,
   "metadata": {},
   "outputs": [
    {
     "data": {
      "image/png": "[encoded data removed]",
      "text/plain": [
       "<Figure size 888.044x325.08 with 1 Axes>"
      ]
     },
     "execution_count": 254,
     "metadata": {},
     "output_type": "execute_result"
    }
   ],
   "source": [
    "qr = QuantumRegister(Q+1)\n",
    "cr = ClassicalRegister(Q+1)\n",
    "cir_i = QuantumCircuit(qr , cr)\n",
    "tst = Ui_off(cir_i,[0.2,0.3,0.4],[2.2,0.7,0.1])\n",
    "\n",
    "tst.draw(output = 'mpl')"
   ]
  },
  {
   "cell_type": "markdown",
   "metadata": {},
   "source": [
    "Let's check to make sure we are generating the right thing"
   ]
  },
  {
   "cell_type": "code",
   "execution_count": 255,
   "metadata": {},
   "outputs": [
    {
     "name": "stdout",
     "output_type": "stream",
     "text": [
      "A:\n",
      "[0.68180665+0.j 0.01033899+0.j 0.02088826+0.j 0.01386716+0.j\n",
      " 0.13820905+0.j 0.00209582+0.j 0.103045  +0.j 0.06840885+0.j]\n",
      "B:\n",
      "[0.3009187 +0.j 0.21581687+0.j 0.00549678+0.j 0.02958631+0.j\n",
      " 0.01505849+0.j 0.01079984+0.j 0.1098439 +0.j 0.59123293+0.j]\n",
      "AB:\n",
      "[0.68180665+0.j 0.01033899+0.j 0.02088826+0.j 0.01386716+0.j\n",
      " 0.13820905+0.j 0.00209582+0.j 0.103045  +0.j 0.06840885+0.j\n",
      " 0.3009187 +0.j 0.21581687+0.j 0.00549678+0.j 0.02958631+0.j\n",
      " 0.01505849+0.j 0.01079984+0.j 0.1098439 +0.j 0.59123293+0.j]\n"
     ]
    }
   ],
   "source": [
    "#An example block a circuit\n",
    "qr = QuantumRegister(Q)\n",
    "cr = ClassicalRegister(Q)\n",
    "cir_i = QuantumCircuit(qr , cr)\n",
    "tst_a = Ui(cir_i,[0.2,0.3,0.4])\n",
    "\n",
    "#An example block b circuit\n",
    "qr = QuantumRegister(Q)\n",
    "cr = ClassicalRegister(Q)\n",
    "cir_i = QuantumCircuit(qr , cr)\n",
    "tst_b = Ui(cir_i,[2.2,0.7,0.1])\n",
    "\n",
    "#The combination of the two blocks\n",
    "qr = QuantumRegister(Q+1)\n",
    "cr = ClassicalRegister(Q+1)\n",
    "cir_i = QuantumCircuit(qr , cr)\n",
    "cir_i.h(Q)\n",
    "tst_off = Ui_off(cir_i,[0.2,0.3,0.4],[2.2,0.7,0.1])\n",
    "\n",
    "print('A:')\n",
    "print(1/np.sqrt(2)*qi.Statevector.from_instruction(tst_a).data)\n",
    "print('B:')\n",
    "print(1/np.sqrt(2)*qi.Statevector.from_instruction(tst_b).data)\n",
    "print('AB:')\n",
    "print(qi.Statevector.from_instruction(tst_off).data)"
   ]
  },
  {
   "cell_type": "code",
   "execution_count": 256,
   "metadata": {},
   "outputs": [],
   "source": [
    "def U_off(cir,phi_a,phi_b):\n",
    "    T = len(phi_b)\n",
    "    cir.h(Q)\n",
    "    for t in range(T):\n",
    "        cir = Ui_off(cir,phi_a[t],phi_b[t])\n",
    "    return cir"
   ]
  },
  {
   "cell_type": "code",
   "execution_count": 257,
   "metadata": {},
   "outputs": [
    {
     "data": {
      "image/png": "[encoded data removed]",
      "text/plain": [
       "<Figure size 1670.64x686.28 with 1 Axes>"
      ]
     },
     "execution_count": 257,
     "metadata": {},
     "output_type": "execute_result"
    }
   ],
   "source": [
    "qr = QuantumRegister(Q+1)\n",
    "cr = ClassicalRegister(Q+1)\n",
    "cir = QuantumCircuit(qr , cr)\n",
    "tst = U_off(cir,[[0.2,0.3,0.4],[0.5,0.6,0.7],[0.8,0.9,0.1]],[[2.2,1.3,0.1],[0.5,0.6,0.7],[0.5,0.2,0.4]])\n",
    "\n",
    "tst.draw(output = 'mpl')"
   ]
  },
  {
   "cell_type": "markdown",
   "metadata": {},
   "source": [
    "# Calculating E\n",
    "\n",
    "$$ E = \\sum_{ab}<\\psi^a|H_{ab}|\\psi^b> = \\sum_{ab}<000\\ldots|U^{\\dagger}(\\{\\phi^a\\})H_{ab}U(\\{\\phi^b\\})|000\\ldots>$$\n",
    "\n",
    "each $H_{ab}$ can be brocken down into its Puali components so that $H_{ab} = \\sum_p c_p P_{ab,p}$.  Then we have\n",
    "\n",
    "$$ E = \\sum_{ab}\\sum_p c_p <000\\ldots|U^{\\dagger}(\\{\\phi^a\\})  P_{ab,p}U(\\{\\phi^b\\})|000\\ldots>$$.\n",
    "\n",
    "We cannot measure $<\\psi^a|P_{ab,p}|\\psi^b>$ directly.  Instead we measure $|<\\psi^a|P_{ab,p}|\\psi^b>|^2$ which tells us nothing about the sign.  \n"
   ]
  },
  {
   "cell_type": "markdown",
   "metadata": {},
   "source": [
    "To fix the issue we need to find a way to use the counts to recreate the desired measurement.  This can be done by looking at the counts in each occupation state. \n",
    "\n",
    "First we need to go through the circuit and add a $R_y(-\\pi/2)$ gate on each qubit where $P_{ab,p}$ applies an X and an $R_x(\\pi/2)$ gate to each qubit where $P_{ab,p}$ applies an Y.  This rotates all of the Pauli terms to Z.   Then we can take the count for each occupation state mulitply that count by $(-1)^n$ where n is the number of up qubits with a Puali term in $P_{ab,p}$. \n",
    "\n",
    "for example:\n",
    "\n",
    "\\begin{equation}\n",
    "\\begin{split}\n",
    "<\\psi|XZ|\\psi> &= <(R_y(\\pi/2)\\otimes I)\\psi|R^{\\dagger}_y(\\pi/2)XR_y(\\pi/2)\\otimes Z|(R^{\\dagger}_y(\\pi/2)\\otimes I)\\psi>\n",
    "\\\\\n",
    "& = <(R_y(\\pi/2)\\otimes I)\\psi|ZZ|(R^{\\dagger}_y(\\pi/2)\\otimes I)\\psi>\n",
    "\\\\\n",
    "& = |<00|R^{\\dagger}_y(\\pi/2)\\psi>|^2 + (-1)^1|<10|R^{\\dagger}_y(\\pi/2) \\psi>|^2 + (-1)^1|<01|R^{\\dagger}_y(\\pi/2) \\psi>|^2 + (-1)^2|<11|R^{\\dagger}_y(\\pi/2) \\psi>|^2\n",
    "\\end{split}\n",
    "\\end{equation}\n",
    "\n",
    "This unfortunetly does not work for $|\\psi^a> \\neq |\\psi_b>$\n",
    "\n"
   ]
  },
  {
   "cell_type": "markdown",
   "metadata": {},
   "source": [
    "### Stratagy\n",
    "\n",
    "In order to run on the quantum device, I would like to group together all of the runs so that each time I measure energy, I only have to que once.  \n",
    "\n",
    "1) We prepare the circuit to be measured for a given p_label and include measurment instructions.  \n",
    "\n",
    "2) We collect all of the p_labels from a block into a circuit array\n",
    "\n",
    "3) We collect all of the blocks into a circuit array\n",
    "\n",
    "4) we send to the backend\n",
    "\n",
    "5) we use the measurment instructions to decode the results\n",
    "\n",
    "6) sum everything together to get the energy"
   ]
  },
  {
   "cell_type": "markdown",
   "metadata": {},
   "source": [
    "### Prepare the circuits\n",
    "\n",
    "This is where I left off."
   ]
  },
  {
   "cell_type": "code",
   "execution_count": 258,
   "metadata": {},
   "outputs": [],
   "source": [
    "import random\n",
    "\n",
    "alpha = 1/np.sqrt(bL)*np.array([1 for b in range(bL)])\n",
    "\n",
    "#Create an arbitrary collection of rotation angles\n",
    "T = 1\n",
    "phi = []\n",
    "for b in range(bL):\n",
    "    phi_b = []\n",
    "    for ti in range(T):\n",
    "        phi_t = []\n",
    "        for q in range(Q):\n",
    "            rand = random.random()\n",
    "            phi_t.append(rand)\n",
    "        phi_b.append(phi_t)\n",
    "    phi.append(phi_b)"
   ]
  },
  {
   "cell_type": "code",
   "execution_count": 259,
   "metadata": {},
   "outputs": [
    {
     "name": "stdout",
     "output_type": "stream",
     "text": [
      "IXI\n",
      "[0, 1, 0]\n"
     ]
    },
    {
     "data": {
      "text/html": [
       "<pre style=\"word-wrap: normal;white-space: pre;background: #fff0;line-height: 1.1;font-family: &quot;Courier New&quot;,Courier,monospace\">           ┌─────────┐          ┌─┐               \n",
       "q133171_0: ┤ RY(1.2) ├──■───────┤M├───────────────\n",
       "           ├─────────┤┌─┴─┐     └╥┘┌──────────┐┌─┐\n",
       "q133171_1: ┤ RY(2.3) ├┤ X ├──■───╫─┤ RY(-π/2) ├┤M├\n",
       "           ├─────────┤└───┘┌─┴─┐ ║ └───┬─┬────┘└╥┘\n",
       "q133171_2: ┤ RY(3.4) ├─────┤ X ├─╫─────┤M├──────╫─\n",
       "           └─────────┘     └───┘ ║     └╥┘      ║ \n",
       "c128528: 3/══════════════════════╩══════╩═══════╩═\n",
       "                                 0      2       1 </pre>"
      ],
      "text/plain": [
       "           ┌─────────┐          ┌─┐               \n",
       "q133171_0: ┤ RY(1.2) ├──■───────┤M├───────────────\n",
       "           ├─────────┤┌─┴─┐     └╥┘┌──────────┐┌─┐\n",
       "q133171_1: ┤ RY(2.3) ├┤ X ├──■───╫─┤ RY(-π/2) ├┤M├\n",
       "           ├─────────┤└───┘┌─┴─┐ ║ └───┬─┬────┘└╥┘\n",
       "q133171_2: ┤ RY(3.4) ├─────┤ X ├─╫─────┤M├──────╫─\n",
       "           └─────────┘     └───┘ ║     └╥┘      ║ \n",
       "c128528: 3/══════════════════════╩══════╩═══════╩═\n",
       "                                 0      2       1 "
      ]
     },
     "execution_count": 259,
     "metadata": {},
     "output_type": "execute_result"
    }
   ],
   "source": [
    "from qiskit import Aer\n",
    "from qiskit.visualization import *\n",
    "from qiskit import quantum_info as qi\n",
    "\n",
    "def convert_to_circ(p_label,psi0):\n",
    "    #apply rotations\n",
    "    psi = copy.deepcopy(psi0)\n",
    "    pauli_qs = []\n",
    "    Z_label = ''\n",
    "    Q = len(p_label)\n",
    "    for q,p in enumerate(p_label):\n",
    "        if p == 'X':\n",
    "            psi.ry(-np.pi/2,Q-1-q)\n",
    "            pauli_qs.append(1)\n",
    "            Z_label += 'Z'\n",
    "        if p == 'Y':\n",
    "            psi.rx(np.pi/2,Q-1-q)\n",
    "            pauli_qs.append(1)\n",
    "            Z_label += 'Z'\n",
    "        if p == 'Z':\n",
    "            pauli_qs.append(1)\n",
    "            Z_label += 'Z'\n",
    "        if p == 'I':\n",
    "            pauli_qs.append(0)\n",
    "            Z_label += 'I'       \n",
    "    #apply measurment \n",
    "    psi.measure(psi.qubits,psi.clbits)\n",
    "    #return circut and measurement instructions\n",
    "    return [psi,pauli_qs]\n",
    "\n",
    "\n",
    "#Run a test\n",
    "import copy\n",
    "qr = QuantumRegister(Q)\n",
    "cr = ClassicalRegister(Q)\n",
    "cir = QuantumCircuit(qr , cr)\n",
    "psi0 = U(cir,[[1.2,2.3,3.4]])\n",
    "p_label = blocks['0,0'][3].primitive.to_label()\n",
    "        \n",
    "    \n",
    "cir_tst, lab_tst =  convert_to_circ(p_label,psi0) \n",
    "print(p_label)\n",
    "print(lab_tst)\n",
    "cir_tst.draw()"
   ]
  },
  {
   "cell_type": "markdown",
   "metadata": {},
   "source": [
    "### Collect the circuits"
   ]
  },
  {
   "cell_type": "code",
   "execution_count": 260,
   "metadata": {},
   "outputs": [
    {
     "name": "stdout",
     "output_type": "stream",
     "text": [
      "-0.5\n",
      "[0, 0, 1]\n"
     ]
    },
    {
     "data": {
      "text/html": [
       "<pre style=\"word-wrap: normal;white-space: pre;background: #fff0;line-height: 1.1;font-family: &quot;Courier New&quot;,Courier,monospace\">           ┌─────────────┐     ┌──────────┐┌─┐      \n",
       "q133172_0: ┤ RY(0.46811) ├──■──┤ RY(-π/2) ├┤M├──────\n",
       "           ├─────────────┤┌─┴─┐└──────────┘└╥┘┌─┐   \n",
       "q133172_1: ┤ RY(0.10616) ├┤ X ├─────■───────╫─┤M├───\n",
       "           ├─────────────┤└───┘   ┌─┴─┐     ║ └╥┘┌─┐\n",
       "q133172_2: ┤ RY(0.41707) ├────────┤ X ├─────╫──╫─┤M├\n",
       "           └─────────────┘        └───┘     ║  ║ └╥┘\n",
       "c128529: 3/═════════════════════════════════╩══╩══╩═\n",
       "                                            0  1  2 </pre>"
      ],
      "text/plain": [
       "           ┌─────────────┐     ┌──────────┐┌─┐      \n",
       "q133172_0: ┤ RY(0.46811) ├──■──┤ RY(-π/2) ├┤M├──────\n",
       "           ├─────────────┤┌─┴─┐└──────────┘└╥┘┌─┐   \n",
       "q133172_1: ┤ RY(0.10616) ├┤ X ├─────■───────╫─┤M├───\n",
       "           ├─────────────┤└───┘   ┌─┴─┐     ║ └╥┘┌─┐\n",
       "q133172_2: ┤ RY(0.41707) ├────────┤ X ├─────╫──╫─┤M├\n",
       "           └─────────────┘        └───┘     ║  ║ └╥┘\n",
       "c128529: 3/═════════════════════════════════╩══╩══╩═\n",
       "                                            0  1  2 "
      ]
     },
     "execution_count": 260,
     "metadata": {},
     "output_type": "execute_result"
    }
   ],
   "source": [
    "#This collects the circuits for the on-diagonal blocks only\n",
    "def collect_diag_circs(phi_b,block):\n",
    "    qr = QuantumRegister(Q)\n",
    "    cr = ClassicalRegister(Q)\n",
    "    cir = QuantumCircuit(qr , cr)\n",
    "    psi0 = U(cir,phi_b)\n",
    "    cirs = []\n",
    "    meas = []\n",
    "    coef = []\n",
    "    for p in block:\n",
    "        psi = copy.deepcopy(psi0)\n",
    "        w = p.coeff\n",
    "        if np.abs(w) > 0:\n",
    "            p_label = p.primitive.to_label()\n",
    "            cir_p,meas_p  = convert_to_circ(p_label,psi)\n",
    "            cirs.append(cir_p)\n",
    "            meas.append(meas_p)\n",
    "            coef.append(w)\n",
    "    return cirs,meas,coef\n",
    "\n",
    "block = blocks['0,0']\n",
    "phi_b = phi[0]\n",
    "\n",
    "circs, meas, coefs = collect_diag_circs(phi_b,block)\n",
    "\n",
    "n=1\n",
    "print(coefs[n])\n",
    "print(meas[n])\n",
    "circs[n].draw()"
   ]
  },
  {
   "cell_type": "code",
   "execution_count": 261,
   "metadata": {},
   "outputs": [
    {
     "name": "stdout",
     "output_type": "stream",
     "text": [
      "-0.75\n",
      "[1, 0, 0, 0]\n"
     ]
    },
    {
     "data": {
      "text/html": [
       "<pre style=\"word-wrap: normal;white-space: pre;background: #fff0;line-height: 1.1;font-family: &quot;Courier New&quot;,Courier,monospace\">           ┌─────────────┐┌───┐┌─────────────┐┌───┐┌──────────────┐»\n",
       "q133173_0: ┤ RY(0.46811) ├┤ X ├┤ RY(0.16893) ├┤ X ├┤ RY(-0.16893) ├»\n",
       "           ├─────────────┤└─┬─┘└─────────────┘└─┬─┘└────┬───┬─────┘»\n",
       "q133173_1: ┤ RY(0.10616) ├──┼───────────────────┼───────┤ X ├──────»\n",
       "           ├─────────────┤  │                   │       └─┬─┘      »\n",
       "q133173_2: ┤ RY(0.41707) ├──┼───────────────────┼─────────┼────────»\n",
       "           └────┬───┬────┘  │                   │         │        »\n",
       "q133173_3: ─────┤ H ├───────■───────────────────■─────────■────────»\n",
       "                └───┘                                              »\n",
       "c128530: 4/════════════════════════════════════════════════════════»\n",
       "                                                                   »\n",
       "«                                                                    ┌─┐»\n",
       "«q133173_0: ───────────────────────────────────────────■─────────────┤M├»\n",
       "«           ┌──────────────┐┌───┐┌─────────────┐     ┌─┴─┐           └╥┘»\n",
       "«q133173_1: ┤ RY(-0.22345) ├┤ X ├┤ RY(0.22345) ├─────┤ X ├────────────╫─»\n",
       "«           └──────────────┘└─┬─┘└────┬───┬────┘┌────┴───┴─────┐┌───┐ ║ »\n",
       "«q133173_2: ──────────────────┼───────┤ X ├─────┤ RY(-0.28965) ├┤ X ├─╫─»\n",
       "«                             │       └─┬─┘     └──────────────┘└─┬─┘ ║ »\n",
       "«q133173_3: ──────────────────■─────────■─────────────────────────■───╫─»\n",
       "«                                                                     ║ »\n",
       "«c128530: 4/══════════════════════════════════════════════════════════╩═»\n",
       "«                                                                     0 »\n",
       "«                                     \n",
       "«q133173_0: ──────────────────────────\n",
       "«                               ┌─┐   \n",
       "«q133173_1: ─────────────────■──┤M├───\n",
       "«           ┌─────────────┐┌─┴─┐└╥┘┌─┐\n",
       "«q133173_2: ┤ RY(0.28965) ├┤ X ├─╫─┤M├\n",
       "«           └─┬──────────┬┘└┬─┬┘ ║ └╥┘\n",
       "«q133173_3: ──┤ RY(-π/2) ├──┤M├──╫──╫─\n",
       "«             └──────────┘  └╥┘  ║  ║ \n",
       "«c128530: 4/═════════════════╩═══╩══╩═\n",
       "«                            3   1  2 </pre>"
      ],
      "text/plain": [
       "           ┌─────────────┐┌───┐┌─────────────┐┌───┐┌──────────────┐»\n",
       "q133173_0: ┤ RY(0.46811) ├┤ X ├┤ RY(0.16893) ├┤ X ├┤ RY(-0.16893) ├»\n",
       "           ├─────────────┤└─┬─┘└─────────────┘└─┬─┘└────┬───┬─────┘»\n",
       "q133173_1: ┤ RY(0.10616) ├──┼───────────────────┼───────┤ X ├──────»\n",
       "           ├─────────────┤  │                   │       └─┬─┘      »\n",
       "q133173_2: ┤ RY(0.41707) ├──┼───────────────────┼─────────┼────────»\n",
       "           └────┬───┬────┘  │                   │         │        »\n",
       "q133173_3: ─────┤ H ├───────■───────────────────■─────────■────────»\n",
       "                └───┘                                              »\n",
       "c128530: 4/════════════════════════════════════════════════════════»\n",
       "                                                                   »\n",
       "«                                                                    ┌─┐»\n",
       "«q133173_0: ───────────────────────────────────────────■─────────────┤M├»\n",
       "«           ┌──────────────┐┌───┐┌─────────────┐     ┌─┴─┐           └╥┘»\n",
       "«q133173_1: ┤ RY(-0.22345) ├┤ X ├┤ RY(0.22345) ├─────┤ X ├────────────╫─»\n",
       "«           └──────────────┘└─┬─┘└────┬───┬────┘┌────┴───┴─────┐┌───┐ ║ »\n",
       "«q133173_2: ──────────────────┼───────┤ X ├─────┤ RY(-0.28965) ├┤ X ├─╫─»\n",
       "«                             │       └─┬─┘     └──────────────┘└─┬─┘ ║ »\n",
       "«q133173_3: ──────────────────■─────────■─────────────────────────■───╫─»\n",
       "«                                                                     ║ »\n",
       "«c128530: 4/══════════════════════════════════════════════════════════╩═»\n",
       "«                                                                     0 »\n",
       "«                                     \n",
       "«q133173_0: ──────────────────────────\n",
       "«                               ┌─┐   \n",
       "«q133173_1: ─────────────────■──┤M├───\n",
       "«           ┌─────────────┐┌─┴─┐└╥┘┌─┐\n",
       "«q133173_2: ┤ RY(0.28965) ├┤ X ├─╫─┤M├\n",
       "«           └─┬──────────┬┘└┬─┬┘ ║ └╥┘\n",
       "«q133173_3: ──┤ RY(-π/2) ├──┤M├──╫──╫─\n",
       "«             └──────────┘  └╥┘  ║  ║ \n",
       "«c128530: 4/═════════════════╩═══╩══╩═\n",
       "«                            3   1  2 "
      ]
     },
     "execution_count": 261,
     "metadata": {},
     "output_type": "execute_result"
    }
   ],
   "source": [
    "# This collects circuits for both on and off diagonal blocks but is unefficient for on-diagonal blocks\n",
    "def collect_off_circs(phi_a,phi_b,block):\n",
    "    qr = QuantumRegister(Q+1)\n",
    "    cr = ClassicalRegister(Q+1)\n",
    "    cir = QuantumCircuit(qr , cr)\n",
    "    psi0 = U_off(cir,phi_a,phi_b)\n",
    "    cirs = []\n",
    "    meas = []\n",
    "    coef = []\n",
    "    for p in block:\n",
    "        psi = copy.deepcopy(psi0)\n",
    "        w = p.coeff\n",
    "        if np.abs(w) > 0.0:\n",
    "            p_label = p.primitive.to_label()\n",
    "            circ_x,meas_x = convert_to_circ('X' + p_label,psi)\n",
    "            circ_y,meas_y = convert_to_circ('Y' + p_label,psi)\n",
    "            cirs.append(circ_x)\n",
    "            meas.append(meas_x)\n",
    "            coef.append(w)\n",
    "            cirs.append(circ_y)\n",
    "            meas.append(meas_y)\n",
    "            coef.append(1j*w)\n",
    "    return cirs,meas,coef\n",
    "\n",
    "\n",
    "block = blocks['0,1']\n",
    "phi_a = phi[0]\n",
    "phi_b = phi[1]\n",
    "\n",
    "circs, meas, coefs = collect_off_circs(phi_a,phi_b,block)\n",
    "\n",
    "n=0\n",
    "print(coefs[n])\n",
    "print(meas[n])\n",
    "circs[n].draw()"
   ]
  },
  {
   "cell_type": "code",
   "execution_count": 262,
   "metadata": {},
   "outputs": [
    {
     "name": "stdout",
     "output_type": "stream",
     "text": [
      "224\n",
      "-0.08333333333333336j\n",
      "[1, 1, 0, 0]\n"
     ]
    },
    {
     "data": {
      "text/html": [
       "<pre style=\"word-wrap: normal;white-space: pre;background: #fff0;line-height: 1.1;font-family: &quot;Courier New&quot;,Courier,monospace\">           ┌─────────────┐┌───┐┌─────────────┐┌───┐┌──────────────┐»\n",
       "q133175_0: ┤ RY(0.46811) ├┤ X ├┤ RY(0.16893) ├┤ X ├┤ RY(-0.16893) ├»\n",
       "           ├─────────────┤└─┬─┘└─────────────┘└─┬─┘└────┬───┬─────┘»\n",
       "q133175_1: ┤ RY(0.10616) ├──┼───────────────────┼───────┤ X ├──────»\n",
       "           ├─────────────┤  │                   │       └─┬─┘      »\n",
       "q133175_2: ┤ RY(0.41707) ├──┼───────────────────┼─────────┼────────»\n",
       "           └────┬───┬────┘  │                   │         │        »\n",
       "q133175_3: ─────┤ H ├───────■───────────────────■─────────■────────»\n",
       "                └───┘                                              »\n",
       "c128532: 4/════════════════════════════════════════════════════════»\n",
       "                                                                   »\n",
       "«                                                                    ┌─┐»\n",
       "«q133175_0: ───────────────────────────────────────────■─────────────┤M├»\n",
       "«           ┌──────────────┐┌───┐┌─────────────┐     ┌─┴─┐           └╥┘»\n",
       "«q133175_1: ┤ RY(-0.22345) ├┤ X ├┤ RY(0.22345) ├─────┤ X ├────────────╫─»\n",
       "«           └──────────────┘└─┬─┘└────┬───┬────┘┌────┴───┴─────┐┌───┐ ║ »\n",
       "«q133175_2: ──────────────────┼───────┤ X ├─────┤ RY(-0.28965) ├┤ X ├─╫─»\n",
       "«                             │       └─┬─┘     └──────────────┘└─┬─┘ ║ »\n",
       "«q133175_3: ──────────────────■─────────■─────────────────────────■───╫─»\n",
       "«                                                                     ║ »\n",
       "«c128532: 4/══════════════════════════════════════════════════════════╩═»\n",
       "«                                                                     0 »\n",
       "«                                     \n",
       "«q133175_0: ──────────────────────────\n",
       "«                               ┌─┐   \n",
       "«q133175_1: ─────────────────■──┤M├───\n",
       "«           ┌─────────────┐┌─┴─┐└╥┘┌─┐\n",
       "«q133175_2: ┤ RY(0.28965) ├┤ X ├─╫─┤M├\n",
       "«           └─┬─────────┬─┘└┬─┬┘ ║ └╥┘\n",
       "«q133175_3: ──┤ RX(π/2) ├───┤M├──╫──╫─\n",
       "«             └─────────┘   └╥┘  ║  ║ \n",
       "«c128532: 4/═════════════════╩═══╩══╩═\n",
       "«                            3   1  2 </pre>"
      ],
      "text/plain": [
       "           ┌─────────────┐┌───┐┌─────────────┐┌───┐┌──────────────┐»\n",
       "q133175_0: ┤ RY(0.46811) ├┤ X ├┤ RY(0.16893) ├┤ X ├┤ RY(-0.16893) ├»\n",
       "           ├─────────────┤└─┬─┘└─────────────┘└─┬─┘└────┬───┬─────┘»\n",
       "q133175_1: ┤ RY(0.10616) ├──┼───────────────────┼───────┤ X ├──────»\n",
       "           ├─────────────┤  │                   │       └─┬─┘      »\n",
       "q133175_2: ┤ RY(0.41707) ├──┼───────────────────┼─────────┼────────»\n",
       "           └────┬───┬────┘  │                   │         │        »\n",
       "q133175_3: ─────┤ H ├───────■───────────────────■─────────■────────»\n",
       "                └───┘                                              »\n",
       "c128532: 4/════════════════════════════════════════════════════════»\n",
       "                                                                   »\n",
       "«                                                                    ┌─┐»\n",
       "«q133175_0: ───────────────────────────────────────────■─────────────┤M├»\n",
       "«           ┌──────────────┐┌───┐┌─────────────┐     ┌─┴─┐           └╥┘»\n",
       "«q133175_1: ┤ RY(-0.22345) ├┤ X ├┤ RY(0.22345) ├─────┤ X ├────────────╫─»\n",
       "«           └──────────────┘└─┬─┘└────┬───┬────┘┌────┴───┴─────┐┌───┐ ║ »\n",
       "«q133175_2: ──────────────────┼───────┤ X ├─────┤ RY(-0.28965) ├┤ X ├─╫─»\n",
       "«                             │       └─┬─┘     └──────────────┘└─┬─┘ ║ »\n",
       "«q133175_3: ──────────────────■─────────■─────────────────────────■───╫─»\n",
       "«                                                                     ║ »\n",
       "«c128532: 4/══════════════════════════════════════════════════════════╩═»\n",
       "«                                                                     0 »\n",
       "«                                     \n",
       "«q133175_0: ──────────────────────────\n",
       "«                               ┌─┐   \n",
       "«q133175_1: ─────────────────■──┤M├───\n",
       "«           ┌─────────────┐┌─┴─┐└╥┘┌─┐\n",
       "«q133175_2: ┤ RY(0.28965) ├┤ X ├─╫─┤M├\n",
       "«           └─┬─────────┬─┘└┬─┬┘ ║ └╥┘\n",
       "«q133175_3: ──┤ RX(π/2) ├───┤M├──╫──╫─\n",
       "«             └─────────┘   └╥┘  ║  ║ \n",
       "«c128532: 4/═════════════════╩═══╩══╩═\n",
       "«                            3   1  2 "
      ]
     },
     "execution_count": 262,
     "metadata": {},
     "output_type": "execute_result"
    }
   ],
   "source": [
    "# collect all the circuits \n",
    "# The off diagonal coefs are doubled to take care of the Hermition conjugate\n",
    "def collect_circs(alpha,phi,blocks):\n",
    "    circs = []\n",
    "    meas = []\n",
    "    coefs = []\n",
    "    for key in list(blocks.keys()):\n",
    "        if key[0] == key[2]:\n",
    "            circ_b, meas_b, coef_b = collect_diag_circs(phi[int(key[0])],blocks[key])\n",
    "            for b in range(len(coef_b)):\n",
    "                circs.append(circ_b[b])\n",
    "                meas.append(meas_b[b])\n",
    "                coefs.append(alpha[int(key[0])]*alpha[int(key[2])]*coef_b[b])\n",
    "        else:\n",
    "            circ_b, meas_b, coef_b = collect_off_circs(phi[int(key[0])],phi[int(key[2])],blocks[key])\n",
    "            for b in range(len(coef_b)):\n",
    "                circs.append(circ_b[b])\n",
    "                meas.append(meas_b[b])\n",
    "                coefs.append(2*alpha[int(key[0])]*alpha[int(key[2])]*coef_b[b])\n",
    "    return circs, meas, coefs\n",
    "\n",
    "circs, meas, coefs = collect_circs(alpha,phi,blocks)\n",
    "\n",
    "n=31\n",
    "print(len(circs))\n",
    "print(coefs[n])\n",
    "print(meas[n])\n",
    "circs[n].draw()"
   ]
  },
  {
   "cell_type": "markdown",
   "metadata": {},
   "source": [
    "### Run function"
   ]
  },
  {
   "cell_type": "code",
   "execution_count": 263,
   "metadata": {},
   "outputs": [],
   "source": [
    "circs, meas, coefs = collect_circs(alpha,phi,blocks)\n",
    "\n",
    "def get_results(circs, method = 'matrix',save_id_file = None):\n",
    "    if method == 'matrix':\n",
    "        # add results\n",
    "        r = []\n",
    "        for l in range(len(circs)):\n",
    "            circs[l].remove_final_measurements()\n",
    "            wave = qi.Statevector.from_instruction(circs[l])\n",
    "            r_l = wave.probabilities_dict()\n",
    "            r.append(r_l)\n",
    "    \n",
    "    if method == \"simulator\":\n",
    "        sim = Aer.get_backend(\"qasm_simulator\")\n",
    "        r = execute(circs, backend = sim).result().get_counts()\n",
    "        \n",
    "    if method == \"quantum\":\n",
    "        job = backend.run(transpile(circs, backend), meas_level=2, shots=8192)\n",
    "        job_id = job.job_id()\n",
    "        print(job_id)\n",
    "        np.save(save_id_file,[job_id])\n",
    "        r = job.result().get_counts()\n",
    "        \n",
    "        \n",
    "    return r\n",
    "\n",
    "r = get_results(circs, method = 'matrix')\n",
    "#r = get_results(circs, method = 'simulator')\n",
    "#r = get_results(circs, method = 'quantum')"
   ]
  },
  {
   "cell_type": "markdown",
   "metadata": {},
   "source": [
    "### Analyze results"
   ]
  },
  {
   "cell_type": "code",
   "execution_count": 264,
   "metadata": {},
   "outputs": [
    {
     "data": {
      "text/plain": [
       "3.8812870318908503"
      ]
     },
     "execution_count": 264,
     "metadata": {},
     "output_type": "execute_result"
    }
   ],
   "source": [
    "def energy_from_results(r,meas,coefs):\n",
    "    E = 0\n",
    "    for l in range(len(r)):\n",
    "        z_measure = 0\n",
    "        total = 0\n",
    "        for key in list(r[l].keys()):\n",
    "            n = 0\n",
    "            for q in range(len(key)):\n",
    "                if key[q] == '1' and meas[l][q] == 1:\n",
    "                    n += 1\n",
    "            z_measure += (-1)**n * r[l][key] \n",
    "            total += r[l][key]\n",
    "        E += coefs[l]*z_measure/total\n",
    "    return np.real(E)\n",
    "\n",
    "energy_from_results(r,meas,coefs)"
   ]
  },
  {
   "cell_type": "code",
   "execution_count": 265,
   "metadata": {},
   "outputs": [
    {
     "data": {
      "text/plain": [
       "(3.8812870318908494+0j)"
      ]
     },
     "execution_count": 265,
     "metadata": {},
     "output_type": "execute_result"
    }
   ],
   "source": [
    "#Check against H_complete               \n",
    "wave_full = []\n",
    "for b in range(bL):\n",
    "    qr = QuantumRegister(Q)\n",
    "    cr = ClassicalRegister(Q)\n",
    "    cir = QuantumCircuit(qr , cr)\n",
    "    psi_b = U(cir,phi[b])\n",
    "    wave_b = alpha[b]*qi.Statevector.from_instruction(psi_b).data\n",
    "    wave_full.append(wave_b)\n",
    "wave_full = np.array(wave_full).flatten()\n",
    "\n",
    "np.dot(np.conjugate(wave_full),np.dot(H_complete,wave_full))\n"
   ]
  },
  {
   "cell_type": "code",
   "execution_count": 266,
   "metadata": {},
   "outputs": [
    {
     "data": {
      "text/plain": [
       "2.6666666666666683"
      ]
     },
     "execution_count": 266,
     "metadata": {},
     "output_type": "execute_result"
    }
   ],
   "source": [
    "#Set alpha and phi to initial value\n",
    "\n",
    "alpha = 1/np.sqrt(bL)*np.array([1 for b in range(bL)])\n",
    "\n",
    "#number of blocks\n",
    "T = 2\n",
    "phi = []\n",
    "for b in range(bL):\n",
    "    phi_b = []\n",
    "    for ti in range(T):\n",
    "        phi_t = []\n",
    "        for q in range(Q):\n",
    "            phi_t.append(0)\n",
    "        phi_b.append(phi_t)\n",
    "    phi.append(phi_b)\n",
    "    \n",
    "circs, meas, coefs = collect_circs(alpha,phi,blocks)\n",
    "r = get_results(circs, method = 'matrix')\n",
    "energy_from_results(r,meas,coefs)"
   ]
  },
  {
   "cell_type": "markdown",
   "metadata": {},
   "source": [
    "### Grouping three energies to be run together\n",
    "\n",
    "In the optimization below we use three energies at each step.  One for the current values and two to define the derivetive.  Since the bottle neck is sending jobs to the device, it will be useful to group these three energies into one job."
   ]
  },
  {
   "cell_type": "code",
   "execution_count": 267,
   "metadata": {},
   "outputs": [],
   "source": [
    "def collect_energy_circs(a1, p1, b1, a2, p2, b2, a3, p3, b3):\n",
    "    circs1, meas1, coefs1 = collect_circs(a1,p1,b1)\n",
    "    circs2, meas2, coefs2 = collect_circs(a2,p2,b2)\n",
    "    circs3, meas3, coefs3 = collect_circs(a3,p3,b3)\n",
    "    L1 = len(circs1)\n",
    "    L2 = len(circs2)\n",
    "    L3 = len(circs3)\n",
    "    circs = circs1+circs2+circs3\n",
    "    meas = meas1+meas2+meas3\n",
    "    coefs = coefs1+coefs2+coefs3\n",
    "    lengths = [L1,L2,L3]\n",
    "    return circs,meas,coefs,lengths\n",
    "\n",
    "def three_energies_from_results(r,meas,coefs,lengths):\n",
    "    L1 = lengths[0]\n",
    "    L2 = lengths[1]\n",
    "    L3 = lengths[2]\n",
    "    r1 = r[0 : L1]\n",
    "    r2 = r[L1 : L1+L2]\n",
    "    r3 = r[L1+L2 : L1+L2+L3]\n",
    "    m1 = meas[0 : L1]\n",
    "    m2 = meas[L1 : L1+L2]\n",
    "    m3 = meas[L1+L2 : L1+L2+L3]\n",
    "    c1 = coefs[0 : L1]\n",
    "    c2 = coefs[L1 : L1+L2]\n",
    "    c3 = coefs[L1+L2 : L1+L2+L3]\n",
    "    E1 = energy_from_results(r1,m1,c1)\n",
    "    E2 = energy_from_results(r2,m2,c2)\n",
    "    E3 = energy_from_results(r3,m3,c3)\n",
    "    return E1,E2,E3\n",
    "    "
   ]
  },
  {
   "cell_type": "code",
   "execution_count": 268,
   "metadata": {},
   "outputs": [
    {
     "name": "stdout",
     "output_type": "stream",
     "text": [
      "2.6666666666666683 2.6666666666666683 2.6666666666666683\n"
     ]
    }
   ],
   "source": [
    "circs, meas, coefs, lengths = collect_energy_circs(alpha,phi,blocks,alpha,phi,blocks,alpha,phi,blocks)\n",
    "r = get_results(circs, method = 'matrix')\n",
    "E1,E2,E3 = three_energies_from_results(r,meas,coefs,lengths)\n",
    "print(E1,E2,E3)"
   ]
  },
  {
   "cell_type": "markdown",
   "metadata": {},
   "source": [
    "# Optimization"
   ]
  },
  {
   "cell_type": "markdown",
   "metadata": {},
   "source": [
    "I will be using the simultaneous perturbation stochastic approximation algorithm.  The algorithm works by calculating the gradiant of the cost function $E(\\hat{\\phi})$ by randomly purturbating all parameters in $\\hat{\\phi}$\n",
    "\n",
    "Let $\\hat{\\Delta}_k$ be a set of randomly selected purturbations during step $k$ of the algorithm. I will use the Bernoulli distribution to select $\\hat{\\Delta}_k$.  Then the gradient is \n",
    "$$ \\hat{g}_k(\\hat{\\phi}_k) = \\frac{E(\\hat{\\phi}_k + c_k \\hat{\\Delta}_k)-E(\\hat{\\phi}_k - c_k \\hat{\\Delta}_k)}{2 c_k} \\hat{\\Delta}_k$$.\n",
    "The gradiant is then used to update the parameters \n",
    "$$ \\hat{\\phi}_{k+1} = \\hat{\\phi}_k - a_k \\hat{g}_k(\\hat{\\phi}_k) $$\n",
    "\n",
    "$c_k$ and $a_k$ decrease with each iteration of the algorithm so that we zero in on the the minimum of $E$.  They are given by\n",
    "$$c_k = \\frac{c}{(k+1)^{\\gamma}}$$\n",
    "$$a_k = \\frac{a}{(A+k+1)^{\\alpha}}$$\n",
    "where $a$, $A$, $\\alpha$, $c$, and $\\gamma$ are choosen at the begining of the algorithm."
   ]
  },
  {
   "cell_type": "code",
   "execution_count": 269,
   "metadata": {},
   "outputs": [],
   "source": [
    "import copy"
   ]
  },
  {
   "cell_type": "code",
   "execution_count": 270,
   "metadata": {},
   "outputs": [],
   "source": [
    "#beta = 0.602\n",
    "beta = 0.201\n",
    "A = 10\n",
    "a = 0.05\n",
    "gamma = 0.101\n",
    "c = 0.4\n",
    "\n",
    "beta_a = 0.201\n",
    "A_a = 10\n",
    "a_a = 0.05\n",
    "gamma_a = 0.101\n",
    "c_a = 0.4\n",
    "\n",
    "def SPSA(k_max,method = 'simple', group = False ,hold = False):\n",
    "    #Initalization\n",
    "    k = 0\n",
    "    phi_k = np.array(phi)\n",
    "    alpha_k = np.array(alpha)\n",
    "    E_l = []\n",
    "    hold_l = []\n",
    "    \n",
    "    #Begin Iterations\n",
    "    for k in range(k_max):\n",
    "        #Update c and a\n",
    "        a_k = a/((A + k + 1)**beta)\n",
    "        c_k = c/((k + 1)**gamma)\n",
    "        a_ak = a_a/((A_a + k + 1)**beta_a)\n",
    "        c_ak = c_a/((k + 1)**gamma_a)\n",
    "\n",
    "        #Find Delta\n",
    "        Delta_k = np.array(phi_k)\n",
    "        for b in range(bL):\n",
    "            for t in range(T):\n",
    "                for q in range(Q):\n",
    "                    Delta_k[b][t][q] = 1 - 2*np.random.binomial(size=None, n=1, p=0.5)\n",
    "        phi_k_A = phi_k + c_k*Delta_k\n",
    "        phi_k_B = phi_k - c_k*Delta_k\n",
    "        \n",
    "        #Find Delta Alpha\n",
    "        Delta_ak = np.array(alpha_k)\n",
    "        for n in range(bL):\n",
    "            Delta_ak[n] = 1 - 2*np.random.binomial(size=None, n=1, p= 0.5)\n",
    "        alpha_k_A = alpha_k + c_ak*Delta_ak\n",
    "        alpha_k_B = alpha_k - c_ak*Delta_ak\n",
    "        norm_A = 1/np.sqrt(np.dot(alpha_k_A,alpha_k_A))\n",
    "        norm_B = 1/np.sqrt(np.dot(alpha_k_B,alpha_k_B))\n",
    "        alpha_k_A = norm_A*alpha_k_A\n",
    "        alpha_k_B = norm_B*alpha_k_B\n",
    "           \n",
    "        #Find E    \n",
    "        if group:\n",
    "            save_id_file = \"/Users/stenger/Documents/Research/Hubbard_symmetries/VQE_By_Qubit/Job_id/job_\"+str(k)\n",
    "            circs,meas,coefs,lengths = collect_energy_circs(alpha_k_A,phi_k_A,blocks,alpha_k_B,phi_k_B,blocks,alpha_k,phi_k,blocks)\n",
    "            r = get_results(circs, method = method,save_id_file = save_id_file)\n",
    "            E_Ap, E_Bp, E_fp = three_energies_from_results(r,meas,coefs,lengths)\n",
    "        else:\n",
    "            #A\n",
    "            save_id_file = \"/Users/stenger/Documents/Research/Hubbard_symmetries/VQE_By_Qubit/Job_id/jobA_\"+str(k)\n",
    "            circs_A, meas_A, coefs_A = collect_circs(alpha_k_A,phi_k_A,blocks)\n",
    "            r_A = get_results(circs_A, method = method,save_id_file = save_id_file)\n",
    "            E_A = energy_from_results(r_A,meas_A,coefs_A)\n",
    "            #B\n",
    "            save_id_file = \"/Users/stenger/Documents/Research/Hubbard_symmetries/VQE_By_Qubit/Job_id/jobB_\"+str(k)\n",
    "            circs_B, meas_B, coefs_B = collect_circs(alpha_k_B,phi_k_B,blocks)\n",
    "            r_B = get_results(circs_B, method = method,save_id_file = save_id_file)\n",
    "            E_B = energy_from_results(r_B,meas_B,coefs_B)\n",
    "            #f\n",
    "            save_id_file = \"/Users/stenger/Documents/Research/Hubbard_symmetries/VQE_By_Qubit/Job_id/jobf_\"+str(k)\n",
    "            circs_f, meas_f, coefs_f = collect_circs(alpha_k,phi_k,blocks)\n",
    "            r_f = get_results(circs_f, method = method,save_id_file = save_id_file)\n",
    "            E_f = energy_from_results(r_f,meas_f,coefs_f)\n",
    "\n",
    "        \n",
    "        #Calculate gradiant\n",
    "        g = np.real((E_A-E_B)/(2*c_k)) \n",
    "        \n",
    "        #Update phi\n",
    "        g_k = g * Delta_k\n",
    "        phi_k = phi_k - a_k * g_k\n",
    "        \n",
    "        #Update alpha\n",
    "        g_ak = g * Delta_ak\n",
    "        alpha_k = alpha_k - a_ak * g_ak\n",
    "        norm = 1/np.sqrt(np.dot(alpha_k,alpha_k))\n",
    "        alpha_k = norm*alpha_k\n",
    "\n",
    "        \n",
    "        #Print and save E\n",
    "        print(k,E_f)\n",
    "        #print('k=',k,'c_k=',c_k,'a_k=',a_k,'g=',g,'E_A=',E_A,'E_B=',E_B,'E_f=',E_f)\n",
    "        E_l.append(E_f)\n",
    "        \n",
    "        if hold == True:\n",
    "            hold_k = {'E':E_f,'c':c_k,'a':a_k,'phi':phi_k,'Delta':Delta_k,'c_a':c_ak,'a_a':a_ak,'alpha':alpha_k,'Delta_a':Delta_ak}\n",
    "            np.save(\"/Users/stenger/Documents/Research/Hubbard_symmetries/VQE_By_Qubit/Job_results/run_\"+str(k),[hold_k])\n",
    "            hold_l.append(hold_k)\n",
    "    if hold == True:\n",
    "        return hold_l\n",
    "    else:\n",
    "        return E_l,phi_k"
   ]
  },
  {
   "cell_type": "code",
   "execution_count": 271,
   "metadata": {
    "scrolled": true
   },
   "outputs": [
    {
     "name": "stdout",
     "output_type": "stream",
     "text": [
      "61df213e9710ffefd3ddf6f0\n",
      "61df23a29710ff1d3fddf6f2\n",
      "61df2640fde78b7afcdbbcb8\n",
      "0 4.330159505208335\n",
      "61df28defde78b17c3dbbcba\n",
      "61df2bc30a744a6f1199d617\n",
      "61df2e7f6113fa86955a7e32\n",
      "1 3.604782632590423\n",
      "61df311cd1eb0782254932fb\n",
      "61df33e587d4f8492b240165\n",
      "61df36a8fde78b3f1edbbcd2\n",
      "2 3.1190502351125775\n",
      "61df395a9710ff4b41ddf717\n",
      "61df3c2633a1ee692cf16f62\n",
      "61df3f05fde78b43c6dbbce1\n",
      "3 3.092862283853569\n",
      "61df41a36113fa42f35a7e58\n",
      "61df444187d4f8665e240181\n",
      "61df46e89710fffcfeddf728\n",
      "4 3.1854008695737046\n",
      "61df49886113fafdc15a7e65\n",
      "61df4c4e0a744a5dbd99d645\n",
      "61df4f3c6d650877151a2219\n",
      "5 3.2508045108899375\n",
      "61df51da8df39413ea331aea\n",
      "61df54789307b9195d6bcd3f\n",
      "61df5716fde78b3a73dbbd19\n",
      "6 3.3381845624288666\n",
      "61df59b49710ff6e71ddf74c\n",
      "61df5c7933a1eed692f16faa\n",
      "61df5f91fde78b6fd1dbbd35\n",
      "7 3.005882503238711\n",
      "61df62376d65086bc71a2251\n",
      "61df6486d1eb0728de493368\n",
      "61df66b69307b9fe8e6bcd6c\n",
      "8 2.525878419364044\n",
      "61df68f0fde78bcd05dbbd46\n",
      "61df6b206113faef835a7eb7\n",
      "61df6d3cd1eb07606249337a\n",
      "9 2.671033769295049\n",
      "61df6f9efde78bb9b1dbbd50\n",
      "61df7250d1eb076952493385\n",
      "61df749e87d4f846fe2401df\n",
      "10 2.451962140724043\n",
      "61df76ec9710ff815eddf78d\n",
      "61df793a9710ff837dddf791\n",
      "61df7bf5d1eb074953493394\n",
      "11 2.2918166760733456\n",
      "61df82a4d1eb07538b4933a4\n",
      "61df84f39710ff5f9eddf7a5\n",
      "61df8741fde78bad8edbbd79\n",
      "12 2.3898837188257143\n",
      "61df8990d1eb0724294933af\n",
      "61df8be69307b909d26bcda0\n",
      "61df8e5c33a1eeb8d5f16ffb\n",
      "13 1.687722606957094\n",
      "61df911987d4f850fa2401fb\n",
      "61df93679710ff5404ddf7b3\n",
      "61df95b5fde78b7697dbbd8e\n",
      "14 1.3412187167955025\n",
      "61df97f96113fa9c925a7ef3\n",
      "61df9a470a744a36f099d6dd\n",
      "61df9c8b8df394ca2c331b69\n",
      "15 1.0637924579489921\n",
      "61df9ecf0a744ab8d399d6e9\n",
      "61dfa1776113fa6d175a7f18\n",
      "61dfa4bf6d6508c50a1a22b9\n",
      "16 1.2495749571366574\n",
      "61dfa7fe33a1ee2077f17031\n",
      "61dfab958df3948469331b8c\n",
      "61dfb05b87d4f857e2240246\n",
      "17 1.2010573110508853\n",
      "61dfbc8a87d4f8cbc92402af\n",
      "61dfc0196d6508838e1a233c\n",
      "61dfc2a26113fac2b55a7f95\n",
      "18 0.9815432712875863\n",
      "61dfc8ba87d4f861132402d1\n",
      "61dfcb6333a1ee7d44f170db\n",
      "61dfced2d1eb07813d49349e\n",
      "19 1.1161710404412974\n"
     ]
    }
   ],
   "source": [
    "out = SPSA(20,method = 'quantum',hold = True)"
   ]
  },
  {
   "cell_type": "code",
   "execution_count": 274,
   "metadata": {},
   "outputs": [
    {
     "data": {
      "text/plain": [
       "[<matplotlib.lines.Line2D at 0x7fc146ad4f40>]"
      ]
     },
     "execution_count": 274,
     "metadata": {},
     "output_type": "execute_result"
    },
    {
     "data": {
      "image/png": "[encoded data removed]",
      "text/plain": [
       "<Figure size 432x288 with 1 Axes>"
      ]
     },
     "metadata": {
      "needs_background": "light"
     },
     "output_type": "display_data"
    }
   ],
   "source": [
    "import matplotlib.pyplot as plt\n",
    "\n",
    "E0 = [np.sort(e)[0] for i in range(len(out))]\n",
    "\n",
    "El = [out[i]['E'] for i in range(len(out))]\n",
    "tl = [i for i in range(len(El))]\n",
    "\n",
    "plt.plot(tl,El)\n",
    "plt.plot(tl,E0)"
   ]
  },
  {
   "cell_type": "code",
   "execution_count": 275,
   "metadata": {},
   "outputs": [],
   "source": [
    "k=19\n",
    "job_id = np.load(\"/Users/stenger/Documents/Research/Hubbard_symmetries/VQE_By_Qubit/Job_id/jobA_\"+str(k)+\".npy\")\n",
    "job_info = backend.retrieve_job(job_id[0])\n",
    "hold = np.load(\"/Users/stenger/Documents/Research/Hubbard_symmetries/VQE_By_Qubit/Job_results/run_\"+str(k)+\".npy\",allow_pickle=True)\n",
    "            "
   ]
  },
  {
   "cell_type": "code",
   "execution_count": 276,
   "metadata": {},
   "outputs": [],
   "source": [
    "#beta = 0.602\n",
    "beta = 0.201\n",
    "A = 10\n",
    "a = 0.05\n",
    "gamma = 0.101\n",
    "c = 0.4\n",
    "\n",
    "beta_a = 0.201\n",
    "A_a = 10\n",
    "a_a = 0.05\n",
    "gamma_a = 0.101\n",
    "c_a = 0.4\n",
    "\n",
    "def SPSA_from_load(k_min,k_max,load,method = 'simple', group = False ,hold = False):\n",
    "    #Initalization\n",
    "    k = 0\n",
    "    phi_k = load['phi']\n",
    "    alpha_k = load['alpha']\n",
    "    E_l = []\n",
    "    hold_l = []\n",
    "    \n",
    "    #Begin Iterations\n",
    "    for k in range(k_min,k_max):\n",
    "        #Update c and a\n",
    "        a_k = a/((A + k + 1)**beta)\n",
    "        c_k = c/((k + 1)**gamma)\n",
    "        a_ak = a_a/((A_a + k + 1)**beta_a)\n",
    "        c_ak = c_a/((k + 1)**gamma_a)\n",
    "\n",
    "        #Find Delta\n",
    "        Delta_k = np.array(phi_k)\n",
    "        for b in range(bL):\n",
    "            for t in range(T):\n",
    "                for q in range(Q):\n",
    "                    Delta_k[b][t][q] = 1 - 2*np.random.binomial(size=None, n=1, p=0.5)\n",
    "        phi_k_A = phi_k + c_k*Delta_k\n",
    "        phi_k_B = phi_k - c_k*Delta_k\n",
    "        \n",
    "        #Find Delta Alpha\n",
    "        Delta_ak = np.array(alpha_k)\n",
    "        for n in range(bL):\n",
    "            Delta_ak[n] = 1 - 2*np.random.binomial(size=None, n=1, p= 0.5)\n",
    "        alpha_k_A = alpha_k + c_ak*Delta_ak\n",
    "        alpha_k_B = alpha_k - c_ak*Delta_ak\n",
    "        norm_A = 1/np.sqrt(np.dot(alpha_k_A,alpha_k_A))\n",
    "        norm_B = 1/np.sqrt(np.dot(alpha_k_B,alpha_k_B))\n",
    "        alpha_k_A = norm_A*alpha_k_A\n",
    "        alpha_k_B = norm_B*alpha_k_B\n",
    "           \n",
    "        #Find E    \n",
    "        if group:\n",
    "            save_id_file = \"/Users/stenger/Documents/Research/Hubbard_symmetries/VQE_By_Qubit/Job_id/job_\"+str(k)\n",
    "            circs,meas,coefs,lengths = collect_energy_circs(alpha_k_A,phi_k_A,blocks,alpha_k_B,phi_k_B,blocks,alpha_k,phi_k,blocks)\n",
    "            r = get_results(circs, method = method,save_id_file = save_id_file)\n",
    "            E_Ap, E_Bp, E_fp = three_energies_from_results(r,meas,coefs,lengths)\n",
    "        else:\n",
    "            #A\n",
    "            save_id_file = \"/Users/stenger/Documents/Research/Hubbard_symmetries/VQE_By_Qubit/Job_id/jobA_\"+str(k)\n",
    "            circs_A, meas_A, coefs_A = collect_circs(alpha_k_A,phi_k_A,blocks)\n",
    "            r_A = get_results(circs_A, method = method,save_id_file = save_id_file)\n",
    "            E_A = energy_from_results(r_A,meas_A,coefs_A)\n",
    "            #B\n",
    "            save_id_file = \"/Users/stenger/Documents/Research/Hubbard_symmetries/VQE_By_Qubit/Job_id/jobB_\"+str(k)\n",
    "            circs_B, meas_B, coefs_B = collect_circs(alpha_k_B,phi_k_B,blocks)\n",
    "            r_B = get_results(circs_B, method = method,save_id_file = save_id_file)\n",
    "            E_B = energy_from_results(r_B,meas_B,coefs_B)\n",
    "            #f\n",
    "            save_id_file = \"/Users/stenger/Documents/Research/Hubbard_symmetries/VQE_By_Qubit/Job_id/jobf_\"+str(k)\n",
    "            circs_f, meas_f, coefs_f = collect_circs(alpha_k,phi_k,blocks)\n",
    "            r_f = get_results(circs_f, method = method,save_id_file = save_id_file)\n",
    "            E_f = energy_from_results(r_f,meas_f,coefs_f)\n",
    "\n",
    "        \n",
    "        #Calculate gradiant\n",
    "        g = np.real((E_A-E_B)/(2*c_k)) \n",
    "        \n",
    "        #Update phi\n",
    "        g_k = g * Delta_k\n",
    "        phi_k = phi_k - a_k * g_k\n",
    "        \n",
    "        #Update alpha\n",
    "        g_ak = g * Delta_ak\n",
    "        alpha_k = alpha_k - a_ak * g_ak\n",
    "        norm = 1/np.sqrt(np.dot(alpha_k,alpha_k))\n",
    "        alpha_k = norm*alpha_k\n",
    "\n",
    "        \n",
    "        #Print and save E\n",
    "        print(k,E_f)\n",
    "        #print('k=',k,'c_k=',c_k,'a_k=',a_k,'g=',g,'E_A=',E_A,'E_B=',E_B,'E_f=',E_f)\n",
    "        E_l.append(E_f)\n",
    "        \n",
    "        if hold == True:\n",
    "            hold_k = {'E':E_f,'c':c_k,'a':a_k,'phi':phi_k,'Delta':Delta_k,'c_a':c_ak,'a_a':a_ak,'alpha':alpha_k,'Delta_a':Delta_ak}\n",
    "            np.save(\"/Users/stenger/Documents/Research/Hubbard_symmetries/VQE_By_Qubit/Job_results/run_\"+str(k),[hold_k])\n",
    "            hold_l.append(hold_k)\n",
    "    if hold == True:\n",
    "        return hold_l\n",
    "    else:\n",
    "        return E_l,phi_k"
   ]
  },
  {
   "cell_type": "code",
   "execution_count": 277,
   "metadata": {},
   "outputs": [
    {
     "name": "stdout",
     "output_type": "stream",
     "text": [
      "61e02adb87d4f81d5724037e\n",
      "61e02e1333a1eea485f1718d\n",
      "61e031dc6113fa38b95a8058\n",
      "20 0.9773885480981853\n",
      "61e034536d650864d21a23f1\n",
      "61e0366f9710ff9c10ddf912\n",
      "61e0388e9710ffc386ddf913\n",
      "21 0.8816727915324747\n",
      "61e03c0e8df39474b4331cd1\n",
      "61e03f940a744ab42599d87d\n",
      "61e0438e6113fadc7f5a807d\n",
      "22 1.036718514733145\n",
      "61e045be6113fa03c05a8085\n",
      "61e047e36113fa11d25a808a\n",
      "61e04a339307b908db6bcf69\n",
      "23 0.9217944488617902\n",
      "61e04c4d33a1eeb605f171f8\n",
      "61e04e94fde78b1545dbbf57\n",
      "61e050e2fde78b8c36dbbf5d\n",
      "24 0.99133246707022\n"
     ]
    }
   ],
   "source": [
    "out = SPSA_from_load(20,25,hold[0],method = 'quantum',hold = True)"
   ]
  },
  {
   "cell_type": "code",
   "execution_count": 278,
   "metadata": {},
   "outputs": [
    {
     "name": "stderr",
     "output_type": "stream",
     "text": [
      "/opt/miniconda3/envs/qiskit_25/lib/python3.9/site-packages/numpy/core/_asarray.py:102: ComplexWarning: Casting complex values to real discards the imaginary part\n",
      "  return array(a, dtype, copy=False, order=order)\n"
     ]
    },
    {
     "data": {
      "text/plain": [
       "[<matplotlib.lines.Line2D at 0x7fc14aa46dc0>]"
      ]
     },
     "execution_count": 278,
     "metadata": {},
     "output_type": "execute_result"
    },
    {
     "data": {
      "image/png": "[encoded data removed]",
      "text/plain": [
       "<Figure size 432x288 with 1 Axes>"
      ]
     },
     "metadata": {
      "needs_background": "light"
     },
     "output_type": "display_data"
    }
   ],
   "source": [
    "e,y = np.linalg.eig(H_complete)\n",
    "\n",
    "import matplotlib.pyplot as plt\n",
    "\n",
    "E0 = [np.sort(e)[0] for i in range(len(out))]\n",
    "\n",
    "El = [out[i]['E'] for i in range(len(out))]\n",
    "tl = [i for i in range(len(El))]\n",
    "\n",
    "plt.plot(tl,El)\n",
    "plt.plot(tl,E0)"
   ]
  },
  {
   "cell_type": "code",
   "execution_count": 302,
   "metadata": {},
   "outputs": [],
   "source": [
    "El = []\n",
    "kl = []\n",
    "for k in range(0,25):\n",
    "    job_id = np.load(\"/Users/stenger/Documents/Research/Hubbard_symmetries/VQE_By_Qubit/Job_id/jobA_\"+str(k)+\".npy\")\n",
    "    job_info = backend.retrieve_job(job_id[0])\n",
    "    hold = np.load(\"/Users/stenger/Documents/Research/Hubbard_symmetries/VQE_By_Qubit/Job_results/run_\"+str(k)+\".npy\",allow_pickle=True)\n",
    "    El.append(hold[0]['E'])\n",
    "    kl.append(k)"
   ]
  },
  {
   "cell_type": "code",
   "execution_count": 305,
   "metadata": {},
   "outputs": [
    {
     "data": {
      "text/plain": [
       "[<matplotlib.lines.Line2D at 0x7fc1315abdf0>]"
      ]
     },
     "execution_count": 305,
     "metadata": {},
     "output_type": "execute_result"
    },
    {
     "data": {
      "image/png": "[encoded data removed]",
      "text/plain": [
       "<Figure size 432x288 with 1 Axes>"
      ]
     },
     "metadata": {
      "needs_background": "light"
     },
     "output_type": "display_data"
    }
   ],
   "source": [
    "e,y = np.linalg.eig(H_complete)\n",
    "\n",
    "import matplotlib.pyplot as plt\n",
    "\n",
    "E0 = [np.sort(e)[0] for i in range(len(El))]\n",
    "tl = [i for i in range(len(El))]\n",
    "\n",
    "plt.plot(tl,El)\n",
    "plt.plot(tl,E0)"
   ]
  },
  {
   "cell_type": "markdown",
   "metadata": {},
   "source": [
    "# Save Data"
   ]
  },
  {
   "cell_type": "code",
   "execution_count": 61,
   "metadata": {},
   "outputs": [],
   "source": [
    "import pickle\n",
    "\n",
    "file_to_store = open(\"VQE_lightbringer_T\"+str(T)+\"_A_\"+str(A)+\"_a_\"+str(a)+\"_c_\"+str(c)+\"_beta_\"+str(beta)+\"_gamma_\"+str(gamma)+\"_t_\"+str(t)+\"_u_\"+str(u)+\".pickle\", \"wb\")\n",
    "\n",
    "pickle.dump(out, file_to_store)"
   ]
  },
  {
   "cell_type": "code",
   "execution_count": 114,
   "metadata": {},
   "outputs": [],
   "source": [
    "import pickle\n",
    "\n",
    "file_to_read = open(\"VQE_lightbringer_2_T\"+str(T)+\"_A_\"+str(A)+\"_a_\"+str(a)+\"_c_\"+str(c)+\"_beta_\"+str(beta)+\"_gamma_\"+str(gamma)+\"_t_\"+str(t)+\"_u_\"+str(u)+\".pickle\", \"rb\")\n",
    "\n",
    "loaded_object = pickle.load(file_to_read)"
   ]
  },
  {
   "cell_type": "code",
   "execution_count": 115,
   "metadata": {},
   "outputs": [
    {
     "data": {
      "text/plain": [
       "[<matplotlib.lines.Line2D at 0x7ff180b8bc10>]"
      ]
     },
     "execution_count": 115,
     "metadata": {},
     "output_type": "execute_result"
    },
    {
     "data": {
      "image/png": "[encoded data removed]",
      "text/plain": [
       "<Figure size 432x288 with 1 Axes>"
      ]
     },
     "metadata": {
      "needs_background": "light"
     },
     "output_type": "display_data"
    }
   ],
   "source": [
    "import matplotlib.pyplot as plt\n",
    "\n",
    "El = [loaded_object[i]['E'] for i in range(len(loaded_object))]\n",
    "tl = [i for i in range(len(El))]\n",
    "\n",
    "plt.plot(tl,El)"
   ]
  }
 ],
 "metadata": {
  "kernelspec": {
   "display_name": "Python (qiskit_25)",
   "language": "python",
   "name": "qiskit_25"
  },
  "language_info": {
   "codemirror_mode": {
    "name": "ipython",
    "version": 3
   },
   "file_extension": ".py",
   "mimetype": "text/x-python",
   "name": "python",
   "nbconvert_exporter": "python",
   "pygments_lexer": "ipython3",
   "version": "3.9.5"
  },
  "toc": {
   "base_numbering": 1,
   "nav_menu": {},
   "number_sections": true,
   "sideBar": true,
   "skip_h1_title": false,
   "title_cell": "Table of Contents",
   "title_sidebar": "Contents",
   "toc_cell": false,
   "toc_position": {
    "height": "calc(100% - 180px)",
    "left": "10px",
    "top": "150px",
    "width": "238.391px"
   },
   "toc_section_display": true,
   "toc_window_display": true
  }
 },
 "nbformat": 4,
 "nbformat_minor": 4
}
