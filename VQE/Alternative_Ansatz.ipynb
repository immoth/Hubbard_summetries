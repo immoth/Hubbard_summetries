{
 "cells": [
  {
   "cell_type": "markdown",
   "metadata": {},
   "source": [
    "# Zero Fitting Ansatz\n",
    "\n",
    "Here I will desribe an alternetive Ansatz which is restricted to give zero wieght to the states which are not actually part of the system.\n",
    "\n",
    "For the Hamiltonian I have been working with, the last two entries are extra."
   ]
  },
  {
   "cell_type": "code",
   "execution_count": 1,
   "metadata": {},
   "outputs": [],
   "source": [
    "from qiskit.opflow import (I, X, Y, Z)\n",
    "from qiskit.opflow.primitive_ops import MatrixOp\n",
    "from qiskit import quantum_info as qi\n",
    "from qiskit import QuantumCircuit, QuantumRegister,ClassicalRegister\n",
    "import numpy as np"
   ]
  },
  {
   "cell_type": "markdown",
   "metadata": {},
   "source": [
    "Since this Ansatz is case dependent, I will write it for the specific case I have been studying and not worry about a generalized version.  The idea is to apply a controled-Ry gate so that if the last qubit is on then the second qubit is off.  "
   ]
  },
  {
   "cell_type": "code",
   "execution_count": 2,
   "metadata": {},
   "outputs": [],
   "source": [
    "def Ui(cir_i,phi_i):  \n",
    "    \n",
    "    for q in range(0,Q):\n",
    "        cir_i.ry(phi_i[q],q)\n",
    "    cir_i.cx(2,1)\n",
    "    cir_i.ry(phi_i[1],1)\n",
    "    cir_i.cx(2,1)\n",
    "    cir_i.cx(1,0)\n",
    "    \n",
    "    return cir_i"
   ]
  },
  {
   "cell_type": "code",
   "execution_count": 5,
   "metadata": {},
   "outputs": [
    {
     "data": {
      "image/png": "[encoded data removed]",
      "text/plain": [
       "<Figure size 400.578x264.88 with 1 Axes>"
      ]
     },
     "execution_count": 5,
     "metadata": {},
     "output_type": "execute_result"
    }
   ],
   "source": [
    "Q=3\n",
    "qr = QuantumRegister(Q)\n",
    "cr = ClassicalRegister(Q)\n",
    "cir_i = QuantumCircuit(qr , cr)\n",
    "tst = Ui(cir_i,[1.7,-2.3,0.8])\n",
    "\n",
    "tst.draw(output = 'mpl')"
   ]
  },
  {
   "cell_type": "code",
   "execution_count": 6,
   "metadata": {},
   "outputs": [
    {
     "name": "stdout",
     "output_type": "stream",
     "text": [
      "Statevector([-4.05019021e-01+0.j, -4.61046401e-01+0.j, -5.16009421e-01+0.j,\n",
      "             -4.53302813e-01+0.j,  2.57009543e-01+0.j,  2.92562370e-01+0.j,\n",
      "             -1.45440722e-18+0.j, -1.04686435e-18+0.j],\n",
      "            dims=(2, 2, 2))\n"
     ]
    }
   ],
   "source": [
    "qi.Statevector.from_instruction(tst)"
   ]
  },
  {
   "cell_type": "markdown",
   "metadata": {},
   "source": [
    "Notice that the last two entries are zero no matter what the parameter values happen to be.\n",
    "\n",
    "Now we need to create the off diagonal version of the Ansatz.  To do this we need to add controlled-Ry gates after each regular Ry gate which flips $\\phi_a$ to $\\phi_b$ based on the occupation of an extra qubit."
   ]
  },
  {
   "cell_type": "code",
   "execution_count": 7,
   "metadata": {},
   "outputs": [],
   "source": [
    "def Ui_off(cir_i,phi_a, phi_b):  \n",
    "    \n",
    "    for q in range(0,Q):\n",
    "        cir_i.ry(phi_a[q],q)\n",
    "        cir_i.cx(Q,q)\n",
    "        cir_i.ry(-(phi_b[q]-phi_a[q])/2,q)\n",
    "        cir_i.cx(Q,q)\n",
    "        cir_i.ry((phi_b[q]-phi_a[q])/2,q)\n",
    "    cir_i.cx(2,1)\n",
    "    cir_i.ry(phi_a[1],1)\n",
    "    cir_i.cx(Q,1)\n",
    "    cir_i.ry(-(phi_b[1]-phi_a[1])/2,1)\n",
    "    cir_i.cx(Q,1)\n",
    "    cir_i.ry((phi_b[1]-phi_a[1])/2,1)\n",
    "    cir_i.cx(2,1)\n",
    "    cir_i.cx(1,0)\n",
    "    \n",
    "    return cir_i"
   ]
  },
  {
   "cell_type": "code",
   "execution_count": 8,
   "metadata": {},
   "outputs": [
    {
     "data": {
      "image/png": "[encoded data removed]",
      "text/plain": [
       "<Figure size 1243.52x325.08 with 1 Axes>"
      ]
     },
     "execution_count": 8,
     "metadata": {},
     "output_type": "execute_result"
    }
   ],
   "source": [
    "qr = QuantumRegister(Q+1)\n",
    "cr = ClassicalRegister(Q+1)\n",
    "cir_i = QuantumCircuit(qr , cr)\n",
    "tst = Ui_off(cir_i,[0.2,0.3,0.4],[2.2,0.7,0.1])\n",
    "\n",
    "tst.draw(output = 'mpl')"
   ]
  },
  {
   "cell_type": "code",
   "execution_count": 9,
   "metadata": {},
   "outputs": [],
   "source": [
    "phi_a = [0.2,0.3,0.4]\n",
    "phi_b = [2.2,0.7,0.1]\n",
    "\n",
    "qr = QuantumRegister(Q)\n",
    "cr = ClassicalRegister(Q)\n",
    "cir_i = QuantumCircuit(qr , cr)\n",
    "tst_a = Ui(cir_i,phi_a)\n",
    "\n",
    "qr = QuantumRegister(Q)\n",
    "cr = ClassicalRegister(Q)\n",
    "cir_i = QuantumCircuit(qr , cr)\n",
    "tst_b = Ui(cir_i,phi_b)\n",
    "\n",
    "qr = QuantumRegister(Q+1)\n",
    "cr = ClassicalRegister(Q+1)\n",
    "cir_i = QuantumCircuit(qr , cr)\n",
    "cir_i.h(Q)\n",
    "tst_ab = Ui_off(cir_i,[0.2,0.3,0.4],[2.2,0.7,0.1])\n"
   ]
  },
  {
   "cell_type": "code",
   "execution_count": 10,
   "metadata": {},
   "outputs": [
    {
     "name": "stdout",
     "output_type": "stream",
     "text": [
      "Statevector([ 6.58751847e-01+0.j,  6.60956506e-02+0.j,  2.04457807e-02+0.j,\n",
      "              2.03775826e-01+0.j,  1.39778614e-01+0.j,  1.40246414e-02+0.j,\n",
      "             -1.64291053e-19+0.j,  1.51316259e-20+0.j],\n",
      "            dims=(2, 2, 2))\n",
      "Statevector([ 2.45009585e-01+0.j,  4.81384948e-01+0.j,  4.05464949e-01+0.j,\n",
      "              2.06368727e-01+0.j,  1.60303634e-02+0.j,  3.14958113e-02+0.j,\n",
      "             -1.53339781e-18+0.j,  7.26660298e-19+0.j],\n",
      "            dims=(2, 2, 2))\n",
      "Statevector([ 6.58751847e-01+0.j,  6.60956506e-02+0.j,  2.04457807e-02+0.j,\n",
      "              2.03775826e-01+0.j,  1.39778614e-01+0.j,  1.40246414e-02+0.j,\n",
      "             -1.72720547e-19+0.j,  3.27628044e-18+0.j,  2.45009585e-01+0.j,\n",
      "              4.81384948e-01+0.j,  4.05464949e-01+0.j,  2.06368727e-01+0.j,\n",
      "              1.60303634e-02+0.j,  3.14958113e-02+0.j,  6.31991825e-18+0.j,\n",
      "             -4.64144274e-18+0.j],\n",
      "            dims=(2, 2, 2, 2))\n"
     ]
    }
   ],
   "source": [
    "psi_a = qi.Statevector.from_instruction(tst_a)\n",
    "psi_b = qi.Statevector.from_instruction(tst_b)\n",
    "psi_ab = qi.Statevector.from_instruction(tst_ab)\n",
    "\n",
    "print(1/np.sqrt(2)*psi_a)\n",
    "print(1/np.sqrt(2)*psi_b)\n",
    "print(psi_ab)"
   ]
  },
  {
   "cell_type": "markdown",
   "metadata": {},
   "source": [
    "The property of having zero at the ends only holds for $T=1$.  Observe:"
   ]
  },
  {
   "cell_type": "code",
   "execution_count": 11,
   "metadata": {},
   "outputs": [],
   "source": [
    "def U(cir,phi_b):\n",
    "    T = len(phi_b)\n",
    "    for t in range(T):\n",
    "        cir = Ui(cir,phi_b[t])\n",
    "    return cir"
   ]
  },
  {
   "cell_type": "code",
   "execution_count": 12,
   "metadata": {},
   "outputs": [
    {
     "data": {
      "image/png": "[encoded data removed]",
      "text/plain": [
       "<Figure size 1002.87x264.88 with 1 Axes>"
      ]
     },
     "execution_count": 12,
     "metadata": {},
     "output_type": "execute_result"
    }
   ],
   "source": [
    "qr = QuantumRegister(Q)\n",
    "cr = ClassicalRegister(Q)\n",
    "cir = QuantumCircuit(qr , cr)\n",
    "tst = U(cir,[[0.2,0.3,0.4],[0.5,0.6,0.7],[0.8,0.9,0.1]])\n",
    "\n",
    "tst.draw(output = 'mpl')"
   ]
  },
  {
   "cell_type": "code",
   "execution_count": 13,
   "metadata": {},
   "outputs": [
    {
     "name": "stdout",
     "output_type": "stream",
     "text": [
      "Statevector([ 0.19398496+0.j, -0.20914968+0.j,  0.55892557+0.j,\n",
      "              0.54949459+0.j,  0.39950061+0.j,  0.36188911+0.j,\n",
      "              0.05018589+0.j,  0.1058351 +0.j],\n",
      "            dims=(2, 2, 2))\n"
     ]
    }
   ],
   "source": [
    "qi.Statevector.from_instruction(tst)"
   ]
  },
  {
   "cell_type": "code",
   "execution_count": null,
   "metadata": {},
   "outputs": [],
   "source": []
  }
 ],
 "metadata": {
  "kernelspec": {
   "display_name": "Python [conda env:qiskit_25v]",
   "language": "python",
   "name": "conda-env-qiskit_25v-py"
  },
  "language_info": {
   "codemirror_mode": {
    "name": "ipython",
    "version": 3
   },
   "file_extension": ".py",
   "mimetype": "text/x-python",
   "name": "python",
   "nbconvert_exporter": "python",
   "pygments_lexer": "ipython3",
   "version": "3.9.4"
  }
 },
 "nbformat": 4,
 "nbformat_minor": 4
}
