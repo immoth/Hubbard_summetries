{
 "cells": [
  {
   "cell_type": "markdown",
   "id": "641132ce",
   "metadata": {},
   "source": [
    "# Title: Collecting Paulis\n",
    "\n",
    "The Hamiltonian we are interested in for this folder is:\n",
    "\\begin{equation}\n",
    "\\begin{split}\n",
    "<\\phi|\\hat{H}|\\phi> \n",
    " =&\\mu\\sum_{\\vec{n}_{\\uparrow}}|\\alpha_{\\vec{n}_{\\uparrow}}|^2N_{\\vec{n}_{\\uparrow}} + \\mu\\sum_{\\vec{n}_{\\uparrow}}|\\alpha_{\\vec{n}_{\\uparrow}}|^2 <\\phi_{\\downarrow \\vec{n}_{\\uparrow}}|\\hat{N}_{\\downarrow}|\\phi_{\\downarrow \\vec{n}_{\\uparrow}}> \n",
    " \\\\\n",
    " &+t\\sum_{\\vec{n}_{\\uparrow},\\vec{n}_{\\uparrow}^{\\prime}}(\\alpha_{\\vec{n}_{\\uparrow}^{\\prime}})^*\\alpha_{\\vec{n}_{\\uparrow}}  T_{\\vec{n}_{\\uparrow}^{\\prime}\\vec{n}_{\\uparrow}}<\\phi_{\\downarrow \\vec{n}_{\\uparrow}^{\\prime}}|\\phi_{\\downarrow \\vec{n}_{\\uparrow}}> \n",
    " \\\\\n",
    " &+t\\sum_{\\vec{n}_{\\uparrow}}|\\alpha_{\\vec{n}_{\\uparrow}}|^2 <\\phi_{\\downarrow \\vec{n}_{\\uparrow}}|\\hat{T}_{\\downarrow}|\\phi_{\\downarrow \\vec{n}_{\\uparrow}}>\n",
    "\\\\\n",
    "& +U\\sum_{\\vec{n}_{\\uparrow}}|\\alpha_{\\vec{n}_{\\uparrow}}|^2  \\sum_i n_{i\\uparrow}<\\phi_{\\downarrow \\vec{n}_{\\uparrow}}|\\hat{n}_{i\\downarrow} |\\phi_{\\downarrow \\vec{n}_{\\uparrow}}> \n",
    "\\end{split}\n",
    "\\end{equation}"
   ]
  },
  {
   "cell_type": "markdown",
   "id": "95f037a8",
   "metadata": {},
   "source": [
    "where \n",
    "\\begin{equation}\n",
    "\\begin{split}\n",
    "\t\\hat N_\\sigma &= \\sum_i\\hat n_{i\\sigma}, \\\\\n",
    "\t\\hat T_\\sigma &= \\sum_i\\left(c^{\\dagger}_{i-1\\sigma}c_{i\\sigma}+\\text{h.c.}\\right).\n",
    "\\end{split} \n",
    "\\end{equation}"
   ]
  },
  {
   "cell_type": "markdown",
   "id": "05ef70d3",
   "metadata": {},
   "source": [
    "using Jordan-Wigner we have \n",
    "\\begin{equation}\n",
    "\\begin{split}\n",
    "\t\\hat N_\\sigma &= \\sum_i Z_{i\\sigma}, \\\\\n",
    "\t\\hat T_\\sigma &= \\sum_i\\left(X_iX_{i+1}+Y_iY_{i+1}\\right).\n",
    "\\end{split} \n",
    "\\end{equation}"
   ]
  },
  {
   "cell_type": "markdown",
   "id": "b4ffaa89",
   "metadata": {},
   "source": [
    "While the first $t$-term is the identity and therefore it commutes with all other terms, it is measured on off diagonal blocks.  Therefore, it must be measured seperately.\n",
    "\n",
    "Everything else is on diagonal blocks.  All of the $\\mu$-terms and $U$-terms commute and are already in the measurement basis.  \n",
    "\n",
    "The second $t$-terms do not commute with themselves.  However, they can be brocken up into $XX$ and $YY$ terms.  This gives us a total of three on-diagonal measurement sets.\n",
    "\n",
    "$$ G_X = \\{X_0X_1, X_1X_2, X_2X_3,\\ldots\\} $$\n",
    "$$ G_Y = \\{Y_0Y_1, Y_1Y_2, Y_2Y_3,\\ldots\\} $$\n",
    "$$ G_Z = \\{Z_1,Z_2,Z_3,\\ldots\\}$$"
   ]
  },
  {
   "cell_type": "markdown",
   "id": "4f26ef33",
   "metadata": {},
   "source": [
    "These can be transformed using single qubit rotations\n",
    "\n",
    "$$ \\prod_i R^Y_i\\left(\\frac{\\pi}{2}\\right)G_X \\prod_j R^Y_j\\left(-\\frac{\\pi}{2}\\right) = \\{Z_0Z_1, Z_1Z_2, Z_2Z_3,\\ldots\\} $$\n",
    "$$ \\prod_j R^X_j\\left(-\\frac{\\pi}{2}\\right)G_Y\\prod_i R^X_i\\left(\\frac{\\pi}{2}\\right) = \\{Z_0Z_1, Z_1Z_2, Z_2Z_3,\\ldots\\} $$\n",
    "$$ G_Z = \\{Z_1,Z_2,Z_3,\\ldots\\}$$"
   ]
  },
  {
   "cell_type": "code",
   "execution_count": 4,
   "id": "79dbbdcc",
   "metadata": {},
   "outputs": [],
   "source": [
    "from qiskit import QuantumCircuit, QuantumRegister,ClassicalRegister\n",
    "import numpy as np"
   ]
  },
  {
   "cell_type": "code",
   "execution_count": 14,
   "id": "ace56a4c",
   "metadata": {},
   "outputs": [
    {
     "name": "stdout",
     "output_type": "stream",
     "text": [
      "GX-circuit\n"
     ]
    },
    {
     "data": {
      "image/png": "[encoded data removed]",
      "text/plain": [
       "<Figure size 340.669x264.88 with 1 Axes>"
      ]
     },
     "execution_count": 14,
     "metadata": {},
     "output_type": "execute_result"
    }
   ],
   "source": [
    "N_q = 3\n",
    "print('GX-circuit')\n",
    "qr = QuantumRegister(N_q)\n",
    "cr = ClassicalRegister(N_q)\n",
    "cir_X = QuantumCircuit(qr , cr)\n",
    "for i in range(0,N_q):\n",
    "    cir_X.ry(-np.pi/2,i)\n",
    "cir_X.measure(qr,cr)\n",
    "cir_X.draw(output = 'mpl')"
   ]
  },
  {
   "cell_type": "code",
   "execution_count": 13,
   "id": "28363b71",
   "metadata": {},
   "outputs": [
    {
     "name": "stdout",
     "output_type": "stream",
     "text": [
      "GY-circuit\n"
     ]
    },
    {
     "data": {
      "image/png": "[encoded data removed]",
      "text/plain": [
       "<Figure size 340.523x264.88 with 1 Axes>"
      ]
     },
     "execution_count": 13,
     "metadata": {},
     "output_type": "execute_result"
    }
   ],
   "source": [
    "N_q = 3\n",
    "print('GY-circuit')\n",
    "qr = QuantumRegister(N_q)\n",
    "cr = ClassicalRegister(N_q)\n",
    "cir_Y = QuantumCircuit(qr , cr)\n",
    "for i in range(0,N_q):\n",
    "    cir_Y.rx(np.pi/2,i)\n",
    "cir_Y.measure(qr,cr)\n",
    "cir_Y.draw(output = 'mpl')"
   ]
  },
  {
   "cell_type": "code",
   "execution_count": 12,
   "id": "81d64912",
   "metadata": {},
   "outputs": [
    {
     "name": "stdout",
     "output_type": "stream",
     "text": [
      "GZ-circuit\n"
     ]
    },
    {
     "data": {
      "image/png": "[encoded data removed]",
      "text/plain": [
       "<Figure size 280.469x264.88 with 1 Axes>"
      ]
     },
     "execution_count": 12,
     "metadata": {},
     "output_type": "execute_result"
    }
   ],
   "source": [
    "N_q = 3\n",
    "print('GZ-circuit')\n",
    "qr = QuantumRegister(N_q)\n",
    "cr = ClassicalRegister(N_q)\n",
    "cir_Z = QuantumCircuit(qr , cr)\n",
    "cir_Z.measure(qr,cr)\n",
    "cir_Z.draw(output = 'mpl')"
   ]
  },
  {
   "cell_type": "code",
   "execution_count": null,
   "id": "9e21d7ea",
   "metadata": {},
   "outputs": [],
   "source": []
  }
 ],
 "metadata": {
  "kernelspec": {
   "display_name": "Python (qiskit_u3.1)",
   "language": "python",
   "name": "qiskit_u3.1"
  },
  "language_info": {
   "codemirror_mode": {
    "name": "ipython",
    "version": 3
   },
   "file_extension": ".py",
   "mimetype": "text/x-python",
   "name": "python",
   "nbconvert_exporter": "python",
   "pygments_lexer": "ipython3",
   "version": "3.9.5"
  },
  "toc": {
   "base_numbering": 1,
   "nav_menu": {},
   "number_sections": true,
   "sideBar": true,
   "skip_h1_title": false,
   "title_cell": "Table of Contents",
   "title_sidebar": "Contents",
   "toc_cell": false,
   "toc_position": {},
   "toc_section_display": true,
   "toc_window_display": false
  }
 },
 "nbformat": 4,
 "nbformat_minor": 5
}
