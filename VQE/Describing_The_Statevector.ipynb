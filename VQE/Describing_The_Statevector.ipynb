{
 "cells": [
  {
   "cell_type": "code",
   "execution_count": 1,
   "metadata": {},
   "outputs": [],
   "source": [
    "import numpy as np \n",
    "\n",
    "H = np.load('Hamiltonian_Example.npy')"
   ]
  },
  {
   "cell_type": "code",
   "execution_count": 12,
   "metadata": {},
   "outputs": [
    {
     "data": {
      "text/plain": [
       "array([-3.34084762e+00+0.00000000e+00j, -3.29295138e+00+0.00000000e+00j,\n",
       "       -2.86387634e+00+0.00000000e+00j, -2.78526086e+00+0.00000000e+00j,\n",
       "       -1.56155281e+00+0.00000000e+00j, -1.56155281e+00+0.00000000e+00j,\n",
       "       -1.00000000e+00+0.00000000e+00j, -1.00000000e+00+0.00000000e+00j,\n",
       "       -1.00000000e+00+0.00000000e+00j, -1.00000000e+00+0.00000000e+00j,\n",
       "       -5.61552813e-01+0.00000000e+00j, -5.61552813e-01+0.00000000e+00j,\n",
       "        7.31507328e-16+0.00000000e+00j,  5.07690516e-01+0.00000000e+00j,\n",
       "        5.23028722e-01+0.00000000e+00j,  1.00000000e+00+0.00000000e+00j,\n",
       "        1.00000000e+00+0.00000000e+00j,  1.00000000e+00+0.00000000e+00j,\n",
       "        1.00000000e+00+0.00000000e+00j,  1.00000000e+00-1.27192026e-16j,\n",
       "        1.00000000e+00+1.27192026e-16j,  1.47697128e+00+0.00000000e+00j,\n",
       "        1.49230948e+00+0.00000000e+00j,  2.00000000e+00+0.00000000e+00j,\n",
       "        2.56155281e+00+0.00000000e+00j,  2.56155281e+00+0.00000000e+00j,\n",
       "        3.00000000e+00+0.00000000e+00j,  3.00000000e+00+0.00000000e+00j,\n",
       "        3.00000000e+00+0.00000000e+00j,  3.00000000e+00+0.00000000e+00j,\n",
       "        3.56155281e+00+0.00000000e+00j,  3.56155281e+00+0.00000000e+00j,\n",
       "        4.78526086e+00+0.00000000e+00j,  4.86387634e+00+0.00000000e+00j,\n",
       "        5.29295138e+00+0.00000000e+00j,  5.34084762e+00+0.00000000e+00j])"
      ]
     },
     "execution_count": 12,
     "metadata": {},
     "output_type": "execute_result"
    }
   ],
   "source": [
    "e,y = np.linalg.eig(H)\n",
    "psi = np.transpose(y)\n",
    "\n",
    "np.sort(e)"
   ]
  },
  {
   "cell_type": "code",
   "execution_count": 13,
   "metadata": {},
   "outputs": [],
   "source": [
    "order = np.argsort(e)\n",
    "psi0 = psi[order[0]]"
   ]
  },
  {
   "cell_type": "code",
   "execution_count": 14,
   "metadata": {},
   "outputs": [
    {
     "data": {
      "text/plain": [
       "(-3.3408476172483446+0j)"
      ]
     },
     "execution_count": 14,
     "metadata": {},
     "output_type": "execute_result"
    }
   ],
   "source": [
    "np.dot(np.conjugate(psi0),np.dot(H,psi0))"
   ]
  },
  {
   "cell_type": "code",
   "execution_count": 17,
   "metadata": {},
   "outputs": [
    {
     "name": "stderr",
     "output_type": "stream",
     "text": [
      "C:\\Users\\jsten\\Anaconda3\\envs\\qiskit_25v\\lib\\site-packages\\numpy\\core\\_asarray.py:171: ComplexWarning: Casting complex values to real discards the imaginary part\n",
      "  return array(a, dtype, copy=False, order=order, subok=True)\n"
     ]
    },
    {
     "data": {
      "text/plain": [
       "<matplotlib.collections.PathCollection at 0x1cffc9d3d30>"
      ]
     },
     "execution_count": 17,
     "metadata": {},
     "output_type": "execute_result"
    },
    {
     "data": {
      "image/png": "[encoded data removed]",
      "text/plain": [
       "<Figure size 432x288 with 1 Axes>"
      ]
     },
     "metadata": {
      "needs_background": "light"
     },
     "output_type": "display_data"
    }
   ],
   "source": [
    "import matplotlib.pyplot as plt\n",
    "\n",
    "si = [i for i in range(len(psi0))]\n",
    "\n",
    "plt.scatter(si,psi0)"
   ]
  },
  {
   "cell_type": "code",
   "execution_count": 18,
   "metadata": {},
   "outputs": [
    {
     "data": {
      "text/plain": [
       "array([-1.25795764e-01+0.j, -1.67964002e-01+0.j, -5.30577273e-16+0.j,\n",
       "       -5.60658926e-16+0.j,  1.67964002e-01+0.j,  2.01103458e-01+0.j,\n",
       "       -1.67964002e-01+0.j, -6.82785690e-17+0.j,  1.67964002e-01+0.j,\n",
       "        1.67964002e-01+0.j,  4.02206915e-01+0.j,  1.67964002e-01+0.j,\n",
       "        3.88797682e-16+0.j,  1.67964002e-01+0.j,  1.25795764e-01+0.j,\n",
       "        2.01103458e-01+0.j,  1.67964002e-01+0.j, -4.13667999e-16+0.j,\n",
       "        3.86445875e-16+0.j,  1.67964002e-01+0.j,  2.01103458e-01+0.j,\n",
       "        1.25795764e-01+0.j,  1.67964002e-01+0.j, -4.03698098e-16+0.j,\n",
       "        1.67964002e-01+0.j,  4.02206915e-01+0.j,  1.67964002e-01+0.j,\n",
       "        1.67964002e-01+0.j,  1.96971449e-16+0.j, -1.67964002e-01+0.j,\n",
       "        2.01103458e-01+0.j,  1.67964002e-01+0.j,  4.92585159e-16+0.j,\n",
       "        4.84536895e-16+0.j, -1.67964002e-01+0.j, -1.25795764e-01+0.j])"
      ]
     },
     "execution_count": 18,
     "metadata": {},
     "output_type": "execute_result"
    }
   ],
   "source": [
    "psi0"
   ]
  },
  {
   "cell_type": "code",
   "execution_count": 19,
   "metadata": {},
   "outputs": [],
   "source": [
    "#Creates all states with N fermions and S orbitals\n",
    "def Generate_States(N,S):\n",
    "    s = [i for i in range(0,N)]\n",
    "    psi_l = []\n",
    "    while s[0] < S-N:\n",
    "        ### create the state and store it\n",
    "        psi = 0\n",
    "        for i in s:\n",
    "            psi += 2**i\n",
    "        psi_l.append(psi)\n",
    "        ###\n",
    "        ###Update the particle locations\n",
    "        exit = 0\n",
    "        i = len(s)-1\n",
    "        while exit == 0:\n",
    "            if s[i] < S-len(s)+i:\n",
    "                s[i] += 1\n",
    "                for j in range(i+1,len(s)):\n",
    "                    s[j] = s[j-1]+1\n",
    "                exit = 1\n",
    "            else:\n",
    "                i -= 1\n",
    "        ###\n",
    "    ###Create the finale state\n",
    "    psi = 0\n",
    "    for i in s:\n",
    "        psi += 2**i\n",
    "    psi_l.append(psi)\n",
    "    ###\n",
    "    return psi_l"
   ]
  },
  {
   "cell_type": "code",
   "execution_count": 28,
   "metadata": {},
   "outputs": [
    {
     "name": "stdout",
     "output_type": "stream",
     "text": [
      "0b11\n",
      "0b101\n",
      "0b1001\n",
      "0b110\n",
      "0b1010\n",
      "0b1100\n"
     ]
    }
   ],
   "source": [
    "S = 4\n",
    "states = Generate_States(2,S)\n",
    "\n",
    "for state in states:\n",
    "    print(bin(state))"
   ]
  },
  {
   "cell_type": "code",
   "execution_count": 40,
   "metadata": {},
   "outputs": [],
   "source": [
    "states_full = []\n",
    "for i in range(0,len(states)):\n",
    "    for j in range(0,len(states)):\n",
    "        states_full.append(states[i]*2**S+states[j])\n",
    "        \n",
    "group_A = []\n",
    "group_B = []\n",
    "group_C = []\n",
    "group_Ap = []\n",
    "group_Bp = []\n",
    "group_D = []\n",
    "\n",
    "for i,psi_b in enumerate(states_full):\n",
    "    if -0.168 < psi0[i] < -0.167:\n",
    "        group_A.append(bin(psi_b))\n",
    "        #print(\"A: \", bin(psi_b),psi0[i])\n",
    "    if -0.126 < psi0[i] < -0.125:\n",
    "        group_B.append(bin(psi_b))\n",
    "        #print(\"B: \", bin(psi_b),psi0[i])\n",
    "    if -0.001 < psi0[i] < 0.001:\n",
    "        group_C.append(bin(psi_b))\n",
    "        #print(\"C: \", bin(psi_b),psi0[i])\n",
    "    if 0.125 < psi0[i] < 0.126:\n",
    "        group_Bp.append(bin(psi_b))\n",
    "        #print(\"Bp: \", bin(psi_b),psi0[i])\n",
    "    if 0.167 < psi0[i] < 0.168:\n",
    "        group_Ap.append(bin(psi_b))\n",
    "        #print(\"Ap: \", bin(psi_b),psi0[i])\n",
    "    if 0.402 < psi0[i] < 0.403:\n",
    "        group_D.append(bin(psi_b))\n",
    "        #print(\"D: \", bin(psi_b),psi0[i])"
   ]
  },
  {
   "cell_type": "code",
   "execution_count": 41,
   "metadata": {},
   "outputs": [
    {
     "data": {
      "text/plain": [
       "['0b1011010', '0b10100101']"
      ]
     },
     "execution_count": 41,
     "metadata": {},
     "output_type": "execute_result"
    }
   ],
   "source": [
    "group_D"
   ]
  },
  {
   "cell_type": "markdown",
   "metadata": {},
   "source": [
    "Rule: a state is in group D if both are true:\n",
    "\n",
    "    1) None of the spin up electrons and spin down electrons are on the same site\n",
    "    2) None of the electrons with the same spin are on neighboring sites"
   ]
  },
  {
   "cell_type": "code",
   "execution_count": 50,
   "metadata": {},
   "outputs": [
    {
     "name": "stdout",
     "output_type": "stream",
     "text": [
      "['0b110011', '0b11001100']\n"
     ]
    }
   ],
   "source": [
    "print(group_B)"
   ]
  },
  {
   "cell_type": "markdown",
   "metadata": {},
   "source": [
    "Rule: a state is in group B if both are true:\n",
    "\n",
    "    1) None of the spin up electrons and spin down electrons are on the same site\n",
    "    2) Both of the electrons with the same spin are on neigboring sites"
   ]
  },
  {
   "cell_type": "code",
   "execution_count": 51,
   "metadata": {},
   "outputs": [
    {
     "name": "stdout",
     "output_type": "stream",
     "text": [
      "['0b10011001', '0b1100110']\n"
     ]
    }
   ],
   "source": [
    "print(group_Bp)"
   ]
  },
  {
   "cell_type": "markdown",
   "metadata": {},
   "source": [
    "Rule: a state is in group Bp if both are true:\n",
    "\n",
    "    1) Both of the spin up electrons and spin down electrons are on the same site\n",
    "    2) Both of the electrons with the same spin are on neigboring sites"
   ]
  },
  {
   "cell_type": "code",
   "execution_count": 52,
   "metadata": {},
   "outputs": [
    {
     "name": "stdout",
     "output_type": "stream",
     "text": [
      "['0b110101', '0b1010011', '0b10101100', '0b11001010']\n"
     ]
    }
   ],
   "source": [
    "print(group_A)\n",
    "print(group_Ap)"
   ]
  },
  {
   "cell_type": "markdown",
   "metadata": {},
   "source": [
    "Rule: a state is in group A or Ap if both are true:\n",
    "\n",
    "    1) Only one of either spin up electrons or spin down electrons are on the same site\n",
    "    2) Only one of either electrons with the same spin are on neigboring sites\n",
    "    \n",
    "The difference seems to be the order of the electrons:\n",
    "\n",
    "    a) If the first electron of spin up matches the second electron of spin down (or visa-versa) then group Ap\n",
    "    b) If the electrons neigbor each other accross the boundary of the wire then group Ap\n",
    "    c) If the electrons neibor each other in the center of the wire then group Ap\n",
    "    d) All else is group A"
   ]
  },
  {
   "cell_type": "code",
   "execution_count": 54,
   "metadata": {},
   "outputs": [
    {
     "name": "stdout",
     "output_type": "stream",
     "text": [
      "['0b111001', '0b110110', '0b1010101', '0b10010011', '0b10011100', '0b1100011', '0b1101100', '0b10101010', '0b11001001', '0b11000110']\n"
     ]
    }
   ],
   "source": [
    "print(group_C)"
   ]
  },
  {
   "cell_type": "markdown",
   "metadata": {},
   "source": [
    "There are two ways to get into group C\n",
    "\n",
    "Rule 1: a state is in group C if both are true:\n",
    "\n",
    "    1) Only one of either spin up electrons or spin down electrons are on the same site\n",
    "    2) Both of the electrons with the same spin are on neigboring sites\n",
    "    \n",
    "Rule 2: a state is in group C if both are true:\n",
    "\n",
    "    1) Both of the spin up electrons and spin down electrons are on the same site\n",
    "    2) None of the electrons with the same spin are on neighboring sites\n",
    "\n"
   ]
  },
  {
   "cell_type": "code",
   "execution_count": 80,
   "metadata": {},
   "outputs": [],
   "source": [
    "chart = np.array([['Electrions from different spins touching', 'Both', 'One', 'None'],\n",
    "          ['Electrons from the same spin neigboring',' ', ' ', ' '],\n",
    "          ['Both','Bp','C','B'],\n",
    "          ['One','N/A','A,Ap','N/A'],\n",
    "          ['None','C','N/A','D']])"
   ]
  },
  {
   "cell_type": "code",
   "execution_count": 81,
   "metadata": {},
   "outputs": [
    {
     "data": {
      "text/html": [
       "<div>\n",
       "<style scoped>\n",
       "    .dataframe tbody tr th:only-of-type {\n",
       "        vertical-align: middle;\n",
       "    }\n",
       "\n",
       "    .dataframe tbody tr th {\n",
       "        vertical-align: top;\n",
       "    }\n",
       "\n",
       "    .dataframe thead th {\n",
       "        text-align: right;\n",
       "    }\n",
       "</style>\n",
       "<table border=\"1\" class=\"dataframe\">\n",
       "  <thead>\n",
       "    <tr style=\"text-align: right;\">\n",
       "      <th></th>\n",
       "      <th>0</th>\n",
       "      <th>1</th>\n",
       "      <th>2</th>\n",
       "      <th>3</th>\n",
       "    </tr>\n",
       "  </thead>\n",
       "  <tbody>\n",
       "    <tr>\n",
       "      <th>0</th>\n",
       "      <td>Electrions from different spins touching</td>\n",
       "      <td>Both</td>\n",
       "      <td>One</td>\n",
       "      <td>None</td>\n",
       "    </tr>\n",
       "    <tr>\n",
       "      <th>1</th>\n",
       "      <td>Electrons from the same spin neigboring</td>\n",
       "      <td></td>\n",
       "      <td></td>\n",
       "      <td></td>\n",
       "    </tr>\n",
       "    <tr>\n",
       "      <th>2</th>\n",
       "      <td>Both</td>\n",
       "      <td>Bp</td>\n",
       "      <td>C</td>\n",
       "      <td>B</td>\n",
       "    </tr>\n",
       "    <tr>\n",
       "      <th>3</th>\n",
       "      <td>One</td>\n",
       "      <td>N/A</td>\n",
       "      <td>A,Ap</td>\n",
       "      <td>N/A</td>\n",
       "    </tr>\n",
       "    <tr>\n",
       "      <th>4</th>\n",
       "      <td>None</td>\n",
       "      <td>C</td>\n",
       "      <td>N/A</td>\n",
       "      <td>D</td>\n",
       "    </tr>\n",
       "  </tbody>\n",
       "</table>\n",
       "</div>"
      ],
      "text/plain": [
       "                                          0     1     2     3\n",
       "0  Electrions from different spins touching  Both   One  None\n",
       "1   Electrons from the same spin neigboring                  \n",
       "2                                      Both    Bp     C     B\n",
       "3                                       One   N/A  A,Ap   N/A\n",
       "4                                      None     C   N/A     D"
      ]
     },
     "execution_count": 81,
     "metadata": {},
     "output_type": "execute_result"
    }
   ],
   "source": [
    "import pandas as pd\n",
    "\n",
    "pd.DataFrame(chart)"
   ]
  },
  {
   "cell_type": "markdown",
   "metadata": {},
   "source": [
    "## From H_Complete"
   ]
  },
  {
   "cell_type": "code",
   "execution_count": 108,
   "metadata": {},
   "outputs": [],
   "source": [
    "from qiskit.opflow import (I, X, Y, Z)\n",
    "from qiskit.opflow.primitive_ops import MatrixOp\n",
    "\n",
    "# Function to add elements to a block so that it fits onto qubits\n",
    "def complete_diagonal(b11):\n",
    "    size = 2**np.ceil(np.log2(len(b11)))\n",
    "    for v in b11:\n",
    "        while len(v) < size:\n",
    "            v.append(0.0)\n",
    "    while len(b11) < size:\n",
    "        i = len(b11)\n",
    "        vnew = [0.0 for i in range(0,8)]\n",
    "        vnew[i] = 10\n",
    "        b11.append(vnew)\n",
    "    return b11\n",
    "\n",
    "def complete_off_diagonal(b11):\n",
    "    size = 2**np.ceil(np.log2(len(b11)))\n",
    "    for v in b11:\n",
    "        while len(v) < size:\n",
    "            v.append(0.0)\n",
    "    while len(b11) < size:\n",
    "        i = len(b11)\n",
    "        vnew = [0.0 for i in range(0,8)]\n",
    "        b11.append(vnew)\n",
    "    return b11\n",
    "\n"
   ]
  },
  {
   "cell_type": "code",
   "execution_count": 109,
   "metadata": {},
   "outputs": [],
   "source": [
    "import math\n",
    "N = 4\n",
    "S = 2\n",
    "bL = math.comb(4,2)\n",
    "\n",
    "blocks = {}\n",
    "for bi in range(bL):\n",
    "    for bj in range(bi,bL):\n",
    "        bij = [[H[i + bL*bi][j + bL*bj] for j in range(0,bL)] for i in range(0,bL)]\n",
    "        if np.amax(np.abs(bij)) > 10**(-5):\n",
    "            if bi == bj:\n",
    "                bij = complete_diagonal(bij)\n",
    "            else:\n",
    "                bij = complete_off_diagonal(bij)\n",
    "            bij_pauli = MatrixOp(bij).to_pauli_op()\n",
    "            blocks[str(bi) + ',' + str(bj)] = bij_pauli\n",
    "        "
   ]
  },
  {
   "cell_type": "code",
   "execution_count": 110,
   "metadata": {},
   "outputs": [
    {
     "name": "stderr",
     "output_type": "stream",
     "text": [
      "<ipython-input-110-ce06f5abc6d5>:15: ComplexWarning: Casting complex values to real discards the imaginary part\n",
      "  H_complete[i + bi*size, j + bj*size] = block[i,j]\n",
      "<ipython-input-110-ce06f5abc6d5>:16: ComplexWarning: Casting complex values to real discards the imaginary part\n",
      "  H_complete[i + bj*size, j + bi*size] = block[j,i]\n"
     ]
    }
   ],
   "source": [
    "keys = list(blocks.keys())\n",
    "\n",
    "size = int(2**np.ceil(np.log2(bL)))\n",
    "H_complete = np.array([[0 for i in range(size**2)] for j in range(size**2)])\n",
    "\n",
    "for bi in range(bL):\n",
    "    for bj in range(bi,bL):\n",
    "        key = str(bi) + ',' + str(bj)\n",
    "        if key  in keys:\n",
    "            block = blocks[key].to_matrix()\n",
    "        else:\n",
    "            block = np.array([[0.0 for i in range(size)] for j in range(size)])\n",
    "        for i in range(size):\n",
    "            for j in range(size):\n",
    "                H_complete[i + bi*size, j + bj*size] = block[i,j]\n",
    "                H_complete[i + bj*size, j + bi*size] = block[j,i]"
   ]
  },
  {
   "cell_type": "code",
   "execution_count": 113,
   "metadata": {},
   "outputs": [
    {
     "data": {
      "text/plain": [
       "-3.340847617248346"
      ]
     },
     "execution_count": 113,
     "metadata": {},
     "output_type": "execute_result"
    }
   ],
   "source": [
    "e,y = np.linalg.eig(H_complete)\n",
    "psi = np.transpose(y)\n",
    "\n",
    "order = np.argsort(e)\n",
    "psi0_c = psi[order[0]]\n",
    "\n",
    "np.dot(np.conjugate(psi0_c),np.dot(H_complete,psi0_c))"
   ]
  },
  {
   "cell_type": "markdown",
   "metadata": {},
   "source": [
    "## Anzats space"
   ]
  },
  {
   "cell_type": "code",
   "execution_count": 87,
   "metadata": {},
   "outputs": [],
   "source": [
    "from qiskit import QuantumCircuit, QuantumRegister,ClassicalRegister\n",
    "from qiskit import quantum_info as qi"
   ]
  },
  {
   "cell_type": "code",
   "execution_count": 88,
   "metadata": {},
   "outputs": [],
   "source": [
    "Q = 3\n",
    "def Ui(cir_i,phi_i):  \n",
    "    \n",
    "    for q in range(0,Q):\n",
    "        cir_i.ry(phi_i[q],q)\n",
    "    for q in range(0,Q,4):\n",
    "        cir_i.cx(q,q+1)\n",
    "        if q + 3 < Q:\n",
    "            cir_i.cx(q+3,q+2)\n",
    "    for q in range(1,Q,4):\n",
    "        cir_i.cx(q,q+1)\n",
    "        if q + 3 < Q:\n",
    "            cir_i.cx(q+3,q+2)\n",
    "    \n",
    "    return cir_i"
   ]
  },
  {
   "cell_type": "code",
   "execution_count": 124,
   "metadata": {},
   "outputs": [
    {
     "name": "stdout",
     "output_type": "stream",
     "text": [
      "Statevector([-0.00255534+0.j,  0.00122983+0.j, -0.25700727+0.j,\n",
      "              0.69196896+0.j,  0.60787936+0.j, -0.29255979+0.j,\n",
      "              0.00108038+0.j, -0.00290883+0.j],\n",
      "            dims=(2, 2, 2))\n"
     ]
    },
    {
     "data": {
      "image/png": "[encoded data removed]",
      "text/plain": [
       "<Figure size 293.74x264.88 with 1 Axes>"
      ]
     },
     "execution_count": 124,
     "metadata": {},
     "output_type": "execute_result"
    }
   ],
   "source": [
    "qr = QuantumRegister(Q)\n",
    "cr = ClassicalRegister(Q)\n",
    "cir_i = QuantumCircuit(qr , cr)\n",
    "tst = Ui(cir_i,[1.7,-0.8,3.15])\n",
    "\n",
    "print(qi.Statevector.from_instruction(cir_i))\n",
    "\n",
    "tst.draw(output = 'mpl')"
   ]
  },
  {
   "cell_type": "code",
   "execution_count": 116,
   "metadata": {},
   "outputs": [
    {
     "data": {
      "text/plain": [
       "array([-1.25795764e-01, -1.67964002e-01, -1.06324026e-16, -6.78869764e-17,\n",
       "        1.67964002e-01,  2.01103458e-01,  0.00000000e+00,  0.00000000e+00,\n",
       "       -1.67964002e-01,  2.06340312e-15,  1.67964002e-01,  1.67964002e-01,\n",
       "        4.02206915e-01,  1.67964002e-01,  0.00000000e+00,  0.00000000e+00,\n",
       "        7.74532275e-17,  1.67964002e-01,  1.25795764e-01,  2.01103458e-01,\n",
       "        1.67964002e-01, -8.59006072e-17,  0.00000000e+00,  0.00000000e+00,\n",
       "        7.83166450e-17,  1.67964002e-01,  2.01103458e-01,  1.25795764e-01,\n",
       "        1.67964002e-01, -8.89953560e-17,  0.00000000e+00,  0.00000000e+00,\n",
       "        1.67964002e-01,  4.02206915e-01,  1.67964002e-01,  1.67964002e-01,\n",
       "        1.96925173e-15, -1.67964002e-01,  0.00000000e+00,  0.00000000e+00,\n",
       "        2.01103458e-01,  1.67964002e-01,  8.61514686e-17,  6.58767881e-17,\n",
       "       -1.67964002e-01, -1.25795764e-01,  0.00000000e+00,  0.00000000e+00,\n",
       "        0.00000000e+00,  0.00000000e+00,  0.00000000e+00,  0.00000000e+00,\n",
       "        0.00000000e+00,  0.00000000e+00,  0.00000000e+00,  0.00000000e+00,\n",
       "        0.00000000e+00,  0.00000000e+00,  0.00000000e+00,  0.00000000e+00,\n",
       "        0.00000000e+00,  0.00000000e+00,  0.00000000e+00,  0.00000000e+00])"
      ]
     },
     "execution_count": 116,
     "metadata": {},
     "output_type": "execute_result"
    }
   ],
   "source": [
    "psi0_c"
   ]
  },
  {
   "cell_type": "markdown",
   "metadata": {},
   "source": [
    "An issue which is clear right away is that we need the last two terms to be zero in every section which is difficult (impossible?) to achieve with the Anzatz"
   ]
  },
  {
   "cell_type": "code",
   "execution_count": 151,
   "metadata": {},
   "outputs": [],
   "source": [
    "import pickle\n",
    "\n",
    "T=1\n",
    "file_to_read = open(\"VQE_Gunlycke_T\"+str(T)+\".pickle\", \"rb\")\n",
    "\n",
    "loaded_object = pickle.load(file_to_read)"
   ]
  },
  {
   "cell_type": "code",
   "execution_count": 152,
   "metadata": {},
   "outputs": [
    {
     "name": "stdout",
     "output_type": "stream",
     "text": [
      "Statevector([-0.02190586+0.j, -0.01943355+0.j, -0.49240658+0.j,\n",
      "             -0.50495032+0.j, -0.52940788+0.j, -0.46965841+0.j,\n",
      "             -0.02037482+0.j, -0.02089386+0.j],\n",
      "            dims=(2, 2, 2))\n"
     ]
    },
    {
     "data": {
      "image/png": "[encoded data removed]",
      "text/plain": [
       "<Figure size 293.595x264.88 with 1 Axes>"
      ]
     },
     "execution_count": 152,
     "metadata": {},
     "output_type": "execute_result"
    }
   ],
   "source": [
    "\n",
    "qr = QuantumRegister(Q)\n",
    "cr = ClassicalRegister(Q)\n",
    "cir_i = QuantumCircuit(qr , cr)\n",
    "tst = Ui(cir_i,loaded_object[499]['phi'][0,0])\n",
    "\n",
    "print(qi.Statevector.from_instruction(cir_i))\n",
    "\n",
    "tst.draw(output = 'mpl')"
   ]
  },
  {
   "cell_type": "code",
   "execution_count": 153,
   "metadata": {},
   "outputs": [
    {
     "data": {
      "text/plain": [
       "'C:\\\\Users\\\\jsten\\\\IBMQ\\\\Hubbard_symmetries'"
      ]
     },
     "execution_count": 153,
     "metadata": {},
     "output_type": "execute_result"
    }
   ],
   "source": [
    "pwd"
   ]
  },
  {
   "cell_type": "code",
   "execution_count": null,
   "metadata": {},
   "outputs": [],
   "source": []
  }
 ],
 "metadata": {
  "kernelspec": {
   "display_name": "Python 3",
   "language": "python",
   "name": "python3"
  },
  "language_info": {
   "codemirror_mode": {
    "name": "ipython",
    "version": 3
   },
   "file_extension": ".py",
   "mimetype": "text/x-python",
   "name": "python",
   "nbconvert_exporter": "python",
   "pygments_lexer": "ipython3",
   "version": "3.9.5"
  }
 },
 "nbformat": 4,
 "nbformat_minor": 4
}
