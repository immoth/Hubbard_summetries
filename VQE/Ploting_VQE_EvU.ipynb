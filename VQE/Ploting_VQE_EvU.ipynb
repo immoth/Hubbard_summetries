{
 "cells": [
  {
   "cell_type": "code",
   "execution_count": 6,
   "id": "cfa1fd3e",
   "metadata": {},
   "outputs": [],
   "source": [
    "import pickle\n",
    "import numpy as np\n",
    "\n",
    "beta = 0.201\n",
    "A = 10\n",
    "a = 0.05\n",
    "gamma = 0.101\n",
    "c = 0.4\n",
    "T=2\n",
    "u=5.0\n",
    "t=-1\n",
    "\n",
    "\n",
    "file_to_read = open(\"VQE_Gunlycke_2_T\"+str(T)+\"_A_\"+str(A)+\"_a_\"+str(a)+\"_c_\"+str(c)+\"_beta_\"+str(beta)+\"_gamma_\"+str(gamma)+\"_t_\"+str(t)+\"_u_\"+str(u)+\".pickle\", \"rb\")\n",
    "loaded_object = pickle.load(file_to_read)\n",
    "\n",
    "H = np.load('H_mu_'+str(u)+\"_t_\"+str(t)+'.npy')\n",
    "e,y = np.linalg.eig(H)\n",
    "E0 = [np.sort(e)[0] for i in range(len(loaded_object))]\n"
   ]
  },
  {
   "cell_type": "code",
   "execution_count": 7,
   "id": "e0c5b1f8",
   "metadata": {},
   "outputs": [
    {
     "data": {
      "text/plain": [
       "[<matplotlib.lines.Line2D at 0x7fde5b1382b0>]"
      ]
     },
     "execution_count": 7,
     "metadata": {},
     "output_type": "execute_result"
    },
    {
     "data": {
      "image/png": "[encoded data removed]",
      "text/plain": [
       "<Figure size 432x288 with 1 Axes>"
      ]
     },
     "metadata": {
      "needs_background": "light"
     },
     "output_type": "display_data"
    }
   ],
   "source": [
    "import matplotlib.pyplot as plt\n",
    "\n",
    "El = [loaded_object[i]['E'] for i in range(len(loaded_object))]\n",
    "tl = [i for i in range(len(El))]\n",
    "\n",
    "plt.plot(tl,El)\n",
    "plt.plot(tl,E0)"
   ]
  },
  {
   "cell_type": "code",
   "execution_count": null,
   "id": "482371f8",
   "metadata": {},
   "outputs": [],
   "source": []
  },
  {
   "cell_type": "code",
   "execution_count": 3,
   "id": "7eef6415",
   "metadata": {},
   "outputs": [],
   "source": [
    "ul = []\n",
    "el = []\n",
    "for u_i in range(13):\n",
    "    u = -2 + u_i*1.0\n",
    "    u = round(u,2)\n",
    "    if u == 0.0:\n",
    "        u = int(u)\n",
    "    H = np.load('H_mu_'+str(u)+\"_t_\"+str(t)+'.npy')\n",
    "    e,y = np.linalg.eig(H)\n",
    "    el.append(np.sort(e)[0])\n",
    "    ul.append(u)\n",
    "    "
   ]
  },
  {
   "cell_type": "code",
   "execution_count": 15,
   "id": "346a4e95",
   "metadata": {},
   "outputs": [],
   "source": [
    "beta = 0.201\n",
    "A = 10\n",
    "a = 0.05\n",
    "gamma = 0.101\n",
    "c = 0.4\n",
    "T=2\n",
    "t=-1\n",
    "\n",
    "uLl = [] \n",
    "ELl = []\n",
    "\n",
    "u=10.0\n",
    "file_to_read = open(\"VQE_Gunlycke_2_T\"+str(T)+\"_A_\"+str(A)+\"_a_\"+str(a)+\"_c_\"+str(c)+\"_beta_\"+str(beta)+\"_gamma_\"+str(gamma)+\"_t_\"+str(t)+\"_u_\"+str(u)+\".pickle\", \"rb\")\n",
    "LO2 = pickle.load(file_to_read)\n",
    "EL2 = LO2[len(LO2)-1]['E']\n",
    "ELl.append(EL2)\n",
    "uLl.append(u)\n",
    "\n",
    "u=9.0\n",
    "file_to_read = open(\"VQE_Gunlycke_2_T\"+str(T)+\"_A_\"+str(A)+\"_a_\"+str(a)+\"_c_\"+str(c)+\"_beta_\"+str(beta)+\"_gamma_\"+str(gamma)+\"_t_\"+str(t)+\"_u_\"+str(u)+\".pickle\", \"rb\")\n",
    "LO2 = pickle.load(file_to_read)\n",
    "EL2 = LO2[len(LO2)-1]['E']\n",
    "ELl.append(EL2)\n",
    "uLl.append(u)\n",
    "\n",
    "u=8.0\n",
    "file_to_read = open(\"VQE_Gunlycke_2_T\"+str(T)+\"_A_\"+str(A)+\"_a_\"+str(a)+\"_c_\"+str(c)+\"_beta_\"+str(beta)+\"_gamma_\"+str(gamma)+\"_t_\"+str(t)+\"_u_\"+str(u)+\".pickle\", \"rb\")\n",
    "LO2 = pickle.load(file_to_read)\n",
    "EL2 = LO2[len(LO2)-1]['E']\n",
    "ELl.append(EL2)\n",
    "uLl.append(u)\n",
    "\n",
    "u=7.0\n",
    "file_to_read = open(\"VQE_Gunlycke_2_T\"+str(T)+\"_A_\"+str(A)+\"_a_\"+str(a)+\"_c_\"+str(c)+\"_beta_\"+str(beta)+\"_gamma_\"+str(gamma)+\"_t_\"+str(t)+\"_u_\"+str(u)+\".pickle\", \"rb\")\n",
    "LO2 = pickle.load(file_to_read)\n",
    "EL2 = LO2[len(LO2)-1]['E']\n",
    "ELl.append(EL2)\n",
    "uLl.append(u)\n",
    "\n",
    "u=6.0\n",
    "file_to_read = open(\"VQE_Gunlycke_2_T\"+str(T)+\"_A_\"+str(A)+\"_a_\"+str(a)+\"_c_\"+str(c)+\"_beta_\"+str(beta)+\"_gamma_\"+str(gamma)+\"_t_\"+str(t)+\"_u_\"+str(u)+\".pickle\", \"rb\")\n",
    "LO2 = pickle.load(file_to_read)\n",
    "EL2 = LO2[len(LO2)-1]['E']\n",
    "ELl.append(EL2)\n",
    "uLl.append(u)\n",
    "\n",
    "u=5.0\n",
    "file_to_read = open(\"VQE_Gunlycke_2_T\"+str(T)+\"_A_\"+str(A)+\"_a_\"+str(a)+\"_c_\"+str(c)+\"_beta_\"+str(beta)+\"_gamma_\"+str(gamma)+\"_t_\"+str(t)+\"_u_\"+str(u)+\".pickle\", \"rb\")\n",
    "LO2 = pickle.load(file_to_read)\n",
    "EL2 = LO2[len(LO2)-1]['E']\n",
    "ELl.append(EL2)\n",
    "uLl.append(u)\n",
    "\n",
    "u=4.0\n",
    "file_to_read = open(\"VQE_Gunlycke_2_T\"+str(T)+\"_A_\"+str(A)+\"_a_\"+str(a)+\"_c_\"+str(c)+\"_beta_\"+str(beta)+\"_gamma_\"+str(gamma)+\"_t_\"+str(t)+\"_u_\"+str(u)+\".pickle\", \"rb\")\n",
    "LO2 = pickle.load(file_to_read)\n",
    "EL2 = LO2[len(LO2)-1]['E']\n",
    "ELl.append(EL2)\n",
    "uLl.append(u)\n",
    "\n",
    "u=3.0\n",
    "file_to_read = open(\"VQE_Gunlycke_2_T\"+str(T)+\"_A_\"+str(A)+\"_a_\"+str(a)+\"_c_\"+str(c)+\"_beta_\"+str(beta)+\"_gamma_\"+str(gamma)+\"_t_\"+str(t)+\"_u_\"+str(u)+\".pickle\", \"rb\")\n",
    "LO2 = pickle.load(file_to_read)\n",
    "EL2 = LO2[len(LO2)-1]['E']\n",
    "ELl.append(EL2)\n",
    "uLl.append(u)\n",
    "\n",
    "u=2.0\n",
    "file_to_read = open(\"VQE_Gunlycke_2_T\"+str(T)+\"_A_\"+str(A)+\"_a_\"+str(a)+\"_c_\"+str(c)+\"_beta_\"+str(beta)+\"_gamma_\"+str(gamma)+\"_t_\"+str(t)+\"_u_\"+str(u)+\".pickle\", \"rb\")\n",
    "LO2 = pickle.load(file_to_read)\n",
    "EL2 = LO2[len(LO2)-1]['E']\n",
    "ELl.append(EL2)\n",
    "uLl.append(u)\n",
    "\n",
    "\n",
    "u=1.0\n",
    "file_to_read = open(\"VQE_Gunlycke_2_T\"+str(T)+\"_A_\"+str(A)+\"_a_\"+str(a)+\"_c_\"+str(c)+\"_beta_\"+str(beta)+\"_gamma_\"+str(gamma)+\"_t_\"+str(t)+\"_u_\"+str(u)+\".pickle\", \"rb\")\n",
    "LO2 = pickle.load(file_to_read)\n",
    "EL2 = LO2[len(LO2)-1]['E']\n",
    "ELl.append(EL2)\n",
    "uLl.append(u)\n",
    "\n",
    "u=0\n",
    "file_to_read = open(\"VQE_Gunlycke_2_T\"+str(T)+\"_A_\"+str(A)+\"_a_\"+str(a)+\"_c_\"+str(c)+\"_beta_\"+str(beta)+\"_gamma_\"+str(gamma)+\"_t_\"+str(t)+\"_u_\"+str(u)+\".pickle\", \"rb\")\n",
    "LO2 = pickle.load(file_to_read)\n",
    "EL2 = LO2[len(LO2)-1]['E']\n",
    "ELl.append(EL2)\n",
    "uLl.append(u)\n",
    "\n",
    "u=-1.0\n",
    "file_to_read = open(\"VQE_Gunlycke_2_T\"+str(T)+\"_A_\"+str(A)+\"_a_\"+str(a)+\"_c_\"+str(c)+\"_beta_\"+str(beta)+\"_gamma_\"+str(gamma)+\"_t_\"+str(t)+\"_u_\"+str(u)+\".pickle\", \"rb\")\n",
    "LO2 = pickle.load(file_to_read)\n",
    "EL2 = LO2[len(LO2)-1]['E']\n",
    "ELl.append(EL2)\n",
    "uLl.append(u)\n",
    "\n",
    "u=-2.0\n",
    "file_to_read = open(\"VQE_Gunlycke_2_T\"+str(T)+\"_A_\"+str(A)+\"_a_\"+str(a)+\"_c_\"+str(c)+\"_beta_\"+str(beta)+\"_gamma_\"+str(gamma)+\"_t_\"+str(t)+\"_u_\"+str(u)+\".pickle\", \"rb\")\n",
    "LO2 = pickle.load(file_to_read)\n",
    "EL2 = LO2[len(LO2)-1]['E']\n",
    "ELl.append(EL2)\n",
    "uLl.append(u)"
   ]
  },
  {
   "cell_type": "code",
   "execution_count": 16,
   "id": "56a75726",
   "metadata": {},
   "outputs": [
    {
     "data": {
      "image/png": "[encoded data removed]",
      "text/plain": [
       "<Figure size 432x288 with 1 Axes>"
      ]
     },
     "metadata": {
      "needs_background": "light"
     },
     "output_type": "display_data"
    }
   ],
   "source": [
    "plt.title(\"Ground state energy for t = -1\")\n",
    "plt.plot(ul,el, label = \"Exact Diagonalization\",color = 'black')\n",
    "plt.scatter(uLl,ELl, label = \"VQE Simulation\",color = 'g')\n",
    "plt.xlabel('U')\n",
    "plt.ylabel('E')\n",
    "plt.legend()\n",
    "plt.show()"
   ]
  },
  {
   "cell_type": "code",
   "execution_count": 1,
   "id": "181f90ab",
   "metadata": {},
   "outputs": [
    {
     "data": {
      "text/plain": [
       "'/Users/stenger/Documents/Research/Hubbard_symmetries/VQE'"
      ]
     },
     "execution_count": 1,
     "metadata": {},
     "output_type": "execute_result"
    }
   ],
   "source": [
    "pwd"
   ]
  },
  {
   "cell_type": "code",
   "execution_count": null,
   "id": "c97c8fe3",
   "metadata": {},
   "outputs": [],
   "source": []
  }
 ],
 "metadata": {
  "kernelspec": {
   "display_name": "Python 3",
   "language": "python",
   "name": "python3"
  },
  "language_info": {
   "codemirror_mode": {
    "name": "ipython",
    "version": 3
   },
   "file_extension": ".py",
   "mimetype": "text/x-python",
   "name": "python",
   "nbconvert_exporter": "python",
   "pygments_lexer": "ipython3",
   "version": "3.9.5"
  }
 },
 "nbformat": 4,
 "nbformat_minor": 5
}
