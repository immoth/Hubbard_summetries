{
 "cells": [
  {
   "cell_type": "markdown",
   "metadata": {},
   "source": [
    "# Symmetry Reduced VQE"
   ]
  },
  {
   "cell_type": "markdown",
   "metadata": {},
   "source": [
    "The first step is to find the blocks of a Hamiltonian which has have been reduced due to the application of some symmerty consideration.  Each block will then have an associated wavefunction,\n",
    "$$ |\\psi^b> = U(\\phi^b_1,\\phi^b_1,\\ldots)|000\\ldots> $$\n",
    "where $|000\\ldots>$ is the state in which $Q$ qubits are in their ground state with $Q$ deterimed by the size of the block $N$ as $Q = \\log_2 N$ rounded up and $U$ is a linear transformation with some set of parameters $\\{\\phi^b_i\\}$ which depend on the block.  \n",
    "\n",
    "For this notebook we will use the linear transformation Anzatz from here: https://arxiv.org/abs/1907.01493.  It gives $U$ as applying y-rotations to each qubit, then coupling each qubit pair with a C-not gate and repreating. \n",
    "$$ U^b_i = \\prod_q R^y_q(\\phi_{q0}^b)\\prod_{q'}C_{4q',4q'+1}C_{4q'+3,4q'+2}\\prod_{q''}C_{4q''+1,4q''+2}C_{4q''+4,4q''+3} $$\n",
    "$$ U^b = \\prod_i U^b_i $$\n",
    "where the $\\pm$ in the subscripts of the C-not gates alternates (see below for an exact definition).\n",
    "\n",
    "The Hamiltonian might be block diagonal or it might have some nonzero off diagonal blocks.  In the most general case, the minimization function invovles wave functions from different blocks.  \n",
    "\n",
    "$$ E = \\sum_{a,b}<\\psi^a|H_{ab}|\\psi^b> $$\n",
    "\n",
    "To minimize this function we will use the simultaneous perturbation stochastic approximation algorithm."
   ]
  },
  {
   "cell_type": "markdown",
   "metadata": {},
   "source": [
    "## Hamiltonian"
   ]
  },
  {
   "cell_type": "markdown",
   "metadata": {},
   "source": [
    "As an example for this notebook we will use the Hamiltonian generated from Example_Matrix_Creation_Sign_Fix.ipynb\n",
    "\n",
    "I do not know how to export the summed operator from OpFlow so I will import the numpy matrix and then re-extract the Pauli terms here."
   ]
  },
  {
   "cell_type": "code",
   "execution_count": 2,
   "metadata": {},
   "outputs": [],
   "source": [
    "import numpy as np \n",
    "\n",
    "H = np.load('Hamiltonian_Example.npy')"
   ]
  },
  {
   "cell_type": "code",
   "execution_count": 3,
   "metadata": {},
   "outputs": [
    {
     "data": {
      "text/plain": [
       "array([-3.34084762e+00+0.00000000e+00j, -3.29295138e+00+0.00000000e+00j,\n",
       "       -2.86387634e+00+0.00000000e+00j, -2.78526086e+00+0.00000000e+00j,\n",
       "       -1.56155281e+00+0.00000000e+00j, -1.56155281e+00+0.00000000e+00j,\n",
       "       -1.00000000e+00+0.00000000e+00j, -1.00000000e+00+0.00000000e+00j,\n",
       "       -1.00000000e+00+0.00000000e+00j, -1.00000000e+00+0.00000000e+00j,\n",
       "       -5.61552813e-01+0.00000000e+00j, -5.61552813e-01+0.00000000e+00j,\n",
       "        7.31507328e-16+0.00000000e+00j,  5.07690516e-01+0.00000000e+00j,\n",
       "        5.23028722e-01+0.00000000e+00j,  1.00000000e+00+0.00000000e+00j,\n",
       "        1.00000000e+00+0.00000000e+00j,  1.00000000e+00+0.00000000e+00j,\n",
       "        1.00000000e+00+0.00000000e+00j,  1.00000000e+00-1.27192026e-16j,\n",
       "        1.00000000e+00+1.27192026e-16j,  1.47697128e+00+0.00000000e+00j,\n",
       "        1.49230948e+00+0.00000000e+00j,  2.00000000e+00+0.00000000e+00j,\n",
       "        2.56155281e+00+0.00000000e+00j,  2.56155281e+00+0.00000000e+00j,\n",
       "        3.00000000e+00+0.00000000e+00j,  3.00000000e+00+0.00000000e+00j,\n",
       "        3.00000000e+00+0.00000000e+00j,  3.00000000e+00+0.00000000e+00j,\n",
       "        3.56155281e+00+0.00000000e+00j,  3.56155281e+00+0.00000000e+00j,\n",
       "        4.78526086e+00+0.00000000e+00j,  4.86387634e+00+0.00000000e+00j,\n",
       "        5.29295138e+00+0.00000000e+00j,  5.34084762e+00+0.00000000e+00j])"
      ]
     },
     "execution_count": 3,
     "metadata": {},
     "output_type": "execute_result"
    }
   ],
   "source": [
    "e,y = np.linalg.eig(H)\n",
    "\n",
    "np.sort(e)"
   ]
  },
  {
   "cell_type": "markdown",
   "metadata": {},
   "source": [
    "Now that the Hamiltonian has been imported let us break it into blocks and exctract the Pauli coordinates.  "
   ]
  },
  {
   "cell_type": "code",
   "execution_count": 4,
   "metadata": {},
   "outputs": [],
   "source": [
    "from qiskit.opflow import (I, X, Y, Z)\n",
    "from qiskit.opflow.primitive_ops import MatrixOp\n",
    "\n",
    "# Function to add elements to a block so that it fits onto qubits\n",
    "def complete_diagonal(b11):\n",
    "    size = 2**np.ceil(np.log2(len(b11)))\n",
    "    for v in b11:\n",
    "        while len(v) < size:\n",
    "            v.append(0.0)\n",
    "    while len(b11) < size:\n",
    "        i = len(b11)\n",
    "        vnew = [0.0 for i in range(0,8)]\n",
    "        vnew[i] = 10\n",
    "        b11.append(vnew)\n",
    "    return b11\n",
    "\n",
    "def complete_off_diagonal(b11):\n",
    "    size = 2**np.ceil(np.log2(len(b11)))\n",
    "    for v in b11:\n",
    "        while len(v) < size:\n",
    "            v.append(0.0)\n",
    "    while len(b11) < size:\n",
    "        i = len(b11)\n",
    "        vnew = [0.0 for i in range(0,8)]\n",
    "        b11.append(vnew)\n",
    "    return b11\n",
    "\n"
   ]
  },
  {
   "cell_type": "code",
   "execution_count": 5,
   "metadata": {},
   "outputs": [],
   "source": [
    "import math\n",
    "N = 4\n",
    "S = 2\n",
    "bL = math.comb(4,2)\n",
    "\n",
    "blocks = {}\n",
    "for bi in range(bL):\n",
    "    for bj in range(bi,bL):\n",
    "        bij = [[H[i + bL*bi][j + bL*bj] for j in range(0,bL)] for i in range(0,bL)]\n",
    "        if np.amax(np.abs(bij)) > 10**(-5):\n",
    "            if bi == bj:\n",
    "                bij = complete_diagonal(bij)\n",
    "            else:\n",
    "                bij = complete_off_diagonal(bij)\n",
    "            bij_pauli = MatrixOp(bij).to_pauli_op()\n",
    "            blocks[str(bi) + ',' + str(bj)] = bij_pauli\n",
    "        "
   ]
  },
  {
   "cell_type": "markdown",
   "metadata": {},
   "source": [
    "The object *blocks* is a dictionary of *SumedOp* lists of *PauliOp* objects.  "
   ]
  },
  {
   "cell_type": "code",
   "execution_count": 6,
   "metadata": {},
   "outputs": [
    {
     "data": {
      "text/html": [
       "<div>\n",
       "<style scoped>\n",
       "    .dataframe tbody tr th:only-of-type {\n",
       "        vertical-align: middle;\n",
       "    }\n",
       "\n",
       "    .dataframe tbody tr th {\n",
       "        vertical-align: top;\n",
       "    }\n",
       "\n",
       "    .dataframe thead th {\n",
       "        text-align: right;\n",
       "    }\n",
       "</style>\n",
       "<table border=\"1\" class=\"dataframe\">\n",
       "  <thead>\n",
       "    <tr style=\"text-align: right;\">\n",
       "      <th></th>\n",
       "      <th>0</th>\n",
       "      <th>1</th>\n",
       "      <th>2</th>\n",
       "      <th>3</th>\n",
       "      <th>4</th>\n",
       "      <th>5</th>\n",
       "      <th>6</th>\n",
       "      <th>7</th>\n",
       "    </tr>\n",
       "  </thead>\n",
       "  <tbody>\n",
       "    <tr>\n",
       "      <th>0</th>\n",
       "      <td>-1.0+0.0j</td>\n",
       "      <td>0.0+0.0j</td>\n",
       "      <td>0.0+0.0j</td>\n",
       "      <td>0.0+0.0j</td>\n",
       "      <td>0.0+0.0j</td>\n",
       "      <td>0.0+0.0j</td>\n",
       "      <td>0.0+0.0j</td>\n",
       "      <td>0.0+0.0j</td>\n",
       "    </tr>\n",
       "    <tr>\n",
       "      <th>1</th>\n",
       "      <td>0.0+0.0j</td>\n",
       "      <td>-1.0+0.0j</td>\n",
       "      <td>0.0+0.0j</td>\n",
       "      <td>0.0+0.0j</td>\n",
       "      <td>0.0+0.0j</td>\n",
       "      <td>0.0+0.0j</td>\n",
       "      <td>0.0+0.0j</td>\n",
       "      <td>0.0+0.0j</td>\n",
       "    </tr>\n",
       "    <tr>\n",
       "      <th>2</th>\n",
       "      <td>0.0+0.0j</td>\n",
       "      <td>0.0+0.0j</td>\n",
       "      <td>-1.0+0.0j</td>\n",
       "      <td>0.0+0.0j</td>\n",
       "      <td>0.0+0.0j</td>\n",
       "      <td>0.0+0.0j</td>\n",
       "      <td>0.0+0.0j</td>\n",
       "      <td>0.0+0.0j</td>\n",
       "    </tr>\n",
       "    <tr>\n",
       "      <th>3</th>\n",
       "      <td>0.0+0.0j</td>\n",
       "      <td>0.0+0.0j</td>\n",
       "      <td>0.0+0.0j</td>\n",
       "      <td>-1.0+0.0j</td>\n",
       "      <td>0.0+0.0j</td>\n",
       "      <td>0.0+0.0j</td>\n",
       "      <td>0.0+0.0j</td>\n",
       "      <td>0.0+0.0j</td>\n",
       "    </tr>\n",
       "    <tr>\n",
       "      <th>4</th>\n",
       "      <td>0.0+0.0j</td>\n",
       "      <td>0.0+0.0j</td>\n",
       "      <td>0.0+0.0j</td>\n",
       "      <td>0.0+0.0j</td>\n",
       "      <td>-1.0+0.0j</td>\n",
       "      <td>0.0+0.0j</td>\n",
       "      <td>0.0+0.0j</td>\n",
       "      <td>0.0+0.0j</td>\n",
       "    </tr>\n",
       "    <tr>\n",
       "      <th>5</th>\n",
       "      <td>0.0+0.0j</td>\n",
       "      <td>0.0+0.0j</td>\n",
       "      <td>0.0+0.0j</td>\n",
       "      <td>0.0+0.0j</td>\n",
       "      <td>0.0+0.0j</td>\n",
       "      <td>-1.0+0.0j</td>\n",
       "      <td>0.0+0.0j</td>\n",
       "      <td>0.0+0.0j</td>\n",
       "    </tr>\n",
       "    <tr>\n",
       "      <th>6</th>\n",
       "      <td>0.0+0.0j</td>\n",
       "      <td>0.0+0.0j</td>\n",
       "      <td>0.0+0.0j</td>\n",
       "      <td>0.0+0.0j</td>\n",
       "      <td>0.0+0.0j</td>\n",
       "      <td>0.0+0.0j</td>\n",
       "      <td>0.0+0.0j</td>\n",
       "      <td>0.0+0.0j</td>\n",
       "    </tr>\n",
       "    <tr>\n",
       "      <th>7</th>\n",
       "      <td>0.0+0.0j</td>\n",
       "      <td>0.0+0.0j</td>\n",
       "      <td>0.0+0.0j</td>\n",
       "      <td>0.0+0.0j</td>\n",
       "      <td>0.0+0.0j</td>\n",
       "      <td>0.0+0.0j</td>\n",
       "      <td>0.0+0.0j</td>\n",
       "      <td>0.0+0.0j</td>\n",
       "    </tr>\n",
       "  </tbody>\n",
       "</table>\n",
       "</div>"
      ],
      "text/plain": [
       "          0         1         2         3         4         5         6  \\\n",
       "0 -1.0+0.0j  0.0+0.0j  0.0+0.0j  0.0+0.0j  0.0+0.0j  0.0+0.0j  0.0+0.0j   \n",
       "1  0.0+0.0j -1.0+0.0j  0.0+0.0j  0.0+0.0j  0.0+0.0j  0.0+0.0j  0.0+0.0j   \n",
       "2  0.0+0.0j  0.0+0.0j -1.0+0.0j  0.0+0.0j  0.0+0.0j  0.0+0.0j  0.0+0.0j   \n",
       "3  0.0+0.0j  0.0+0.0j  0.0+0.0j -1.0+0.0j  0.0+0.0j  0.0+0.0j  0.0+0.0j   \n",
       "4  0.0+0.0j  0.0+0.0j  0.0+0.0j  0.0+0.0j -1.0+0.0j  0.0+0.0j  0.0+0.0j   \n",
       "5  0.0+0.0j  0.0+0.0j  0.0+0.0j  0.0+0.0j  0.0+0.0j -1.0+0.0j  0.0+0.0j   \n",
       "6  0.0+0.0j  0.0+0.0j  0.0+0.0j  0.0+0.0j  0.0+0.0j  0.0+0.0j  0.0+0.0j   \n",
       "7  0.0+0.0j  0.0+0.0j  0.0+0.0j  0.0+0.0j  0.0+0.0j  0.0+0.0j  0.0+0.0j   \n",
       "\n",
       "          7  \n",
       "0  0.0+0.0j  \n",
       "1  0.0+0.0j  \n",
       "2  0.0+0.0j  \n",
       "3  0.0+0.0j  \n",
       "4  0.0+0.0j  \n",
       "5  0.0+0.0j  \n",
       "6  0.0+0.0j  \n",
       "7  0.0+0.0j  "
      ]
     },
     "execution_count": 6,
     "metadata": {},
     "output_type": "execute_result"
    }
   ],
   "source": [
    "import pandas as pd\n",
    "\n",
    "pd.DataFrame(blocks['3,4'].to_matrix())"
   ]
  },
  {
   "cell_type": "code",
   "execution_count": 7,
   "metadata": {},
   "outputs": [
    {
     "name": "stdout",
     "output_type": "stream",
     "text": [
      "SummedOp([\n",
      "  3.25 * III,\n",
      "  -0.5 * IIX,\n",
      "  0.25 * IIZ,\n",
      "  -0.25 * IXI,\n",
      "  -0.25 * IXX,\n",
      "  0.25 * IXZ,\n",
      "  -0.25 * IYY,\n",
      "  -2.25 * IZI,\n",
      "  -0.5 * IZX,\n",
      "  0.25 * IZZ,\n",
      "  0.5 * XII,\n",
      "  -0.25 * XXI,\n",
      "  -0.25 * XXX,\n",
      "  -0.25 * XXZ,\n",
      "  0.25 * XYY,\n",
      "  0.5 * XZI,\n",
      "  -0.25 * YXY,\n",
      "  -0.25 * YYI,\n",
      "  -0.25 * YYX,\n",
      "  -0.25 * YYZ,\n",
      "  -2.0 * ZII,\n",
      "  -0.25 * ZXI,\n",
      "  -0.25 * ZXX,\n",
      "  0.25 * ZXZ,\n",
      "  -0.25 * ZYY,\n",
      "  2.5 * ZZI\n",
      "])\n"
     ]
    }
   ],
   "source": [
    "print(blocks['0,0'])"
   ]
  },
  {
   "cell_type": "markdown",
   "metadata": {},
   "source": [
    "Let's take a sanity check here and make sure we can rebuild a Hamiltonian with these completed blocks and that the ground state is still the same."
   ]
  },
  {
   "cell_type": "code",
   "execution_count": 8,
   "metadata": {},
   "outputs": [
    {
     "name": "stderr",
     "output_type": "stream",
     "text": [
      "<ipython-input-8-ce06f5abc6d5>:15: ComplexWarning: Casting complex values to real discards the imaginary part\n",
      "  H_complete[i + bi*size, j + bj*size] = block[i,j]\n",
      "<ipython-input-8-ce06f5abc6d5>:16: ComplexWarning: Casting complex values to real discards the imaginary part\n",
      "  H_complete[i + bj*size, j + bi*size] = block[j,i]\n"
     ]
    }
   ],
   "source": [
    "keys = list(blocks.keys())\n",
    "\n",
    "size = int(2**np.ceil(np.log2(bL)))\n",
    "H_complete = np.array([[0 for i in range(size**2)] for j in range(size**2)])\n",
    "\n",
    "for bi in range(bL):\n",
    "    for bj in range(bi,bL):\n",
    "        key = str(bi) + ',' + str(bj)\n",
    "        if key  in keys:\n",
    "            block = blocks[key].to_matrix()\n",
    "        else:\n",
    "            block = np.array([[0.0 for i in range(size)] for j in range(size)])\n",
    "        for i in range(size):\n",
    "            for j in range(size):\n",
    "                H_complete[i + bi*size, j + bj*size] = block[i,j]\n",
    "                H_complete[i + bj*size, j + bi*size] = block[j,i]"
   ]
  },
  {
   "cell_type": "code",
   "execution_count": 9,
   "metadata": {},
   "outputs": [
    {
     "name": "stdout",
     "output_type": "stream",
     "text": [
      "-3.3408476172483366\n",
      "(-3.340847617248337+0j)\n"
     ]
    }
   ],
   "source": [
    "e_comp,y_comp = np.linalg.eig(H_complete)\n",
    "\n",
    "print(np.sort(e_comp)[0])\n",
    "print(np.sort(e)[0])"
   ]
  },
  {
   "cell_type": "markdown",
   "metadata": {},
   "source": [
    "## The Anzatz circuit"
   ]
  },
  {
   "cell_type": "markdown",
   "metadata": {},
   "source": [
    "Here we define the paramaterized circuit which we will optimize. \n",
    "\n",
    "$$ U^b_i = \\prod_q R^y_q(\\phi_{q0}^b)\\prod_{q'}C_{4q',4q'+1}C_{4q'+3,4q'+2}\\prod_{q''}C_{4q''+1,4q''+2}C_{4q''+4,4q''+3} $$\n",
    "$$ U^b = \\prod_i U^b_i $$"
   ]
  },
  {
   "cell_type": "code",
   "execution_count": 10,
   "metadata": {},
   "outputs": [],
   "source": [
    "from qiskit import QuantumCircuit, QuantumRegister,ClassicalRegister, execute\n",
    "\n",
    "\n",
    "# the number of qubits is given by the size of the blocks\n",
    "# note: the size of the blocks has already been adjusted to fit the qubits\n",
    "Q = int(np.log2(len(blocks['0,0'].to_matrix())))\n"
   ]
  },
  {
   "cell_type": "code",
   "execution_count": 11,
   "metadata": {},
   "outputs": [],
   "source": [
    "def Ui(cir_i,phi_i):  \n",
    "    \n",
    "    for q in range(0,Q):\n",
    "        cir_i.ry(phi_i[q],q)\n",
    "    for q in range(0,Q,4):\n",
    "        cir_i.cx(q,q+1)\n",
    "        if q + 3 < Q:\n",
    "            cir_i.cx(q+3,q+2)\n",
    "    for q in range(1,Q,4):\n",
    "        cir_i.cx(q,q+1)\n",
    "        if q + 3 < Q:\n",
    "            cir_i.cx(q+3,q+2)\n",
    "    \n",
    "    return cir_i\n",
    "\n",
    "def Ui_dagger(cir_i,phi_i):  \n",
    "    \n",
    "    for q in range(1,Q,4):\n",
    "        cir_i.cx(q,q+1)\n",
    "        if q + 3 < Q:\n",
    "            cir_i.cx(q+3,q+2)\n",
    "    for q in range(0,Q,4):\n",
    "        cir_i.cx(q,q+1)\n",
    "        if q + 3 < Q:\n",
    "            cir_i.cx(q+3,q+2)\n",
    "    for q in range(0,Q):\n",
    "        cir_i.ry(-phi_i[q],q)\n",
    "    \n",
    "    return cir_i"
   ]
  },
  {
   "cell_type": "code",
   "execution_count": 12,
   "metadata": {},
   "outputs": [
    {
     "data": {
      "image/png": "[encoded data removed]",
      "text/plain": [
       "<Figure size 280.178x264.88 with 1 Axes>"
      ]
     },
     "execution_count": 12,
     "metadata": {},
     "output_type": "execute_result"
    }
   ],
   "source": [
    "qr = QuantumRegister(Q)\n",
    "cr = ClassicalRegister(Q)\n",
    "cir_i = QuantumCircuit(qr , cr)\n",
    "tst = Ui(cir_i,[0.2,0.3,0.4])\n",
    "\n",
    "tst.draw(output = 'mpl')"
   ]
  },
  {
   "cell_type": "code",
   "execution_count": 13,
   "metadata": {},
   "outputs": [
    {
     "data": {
      "image/png": "[encoded data removed]",
      "text/plain": [
       "<Figure size 280.323x264.88 with 1 Axes>"
      ]
     },
     "execution_count": 13,
     "metadata": {},
     "output_type": "execute_result"
    }
   ],
   "source": [
    "qr = QuantumRegister(Q)\n",
    "cr = ClassicalRegister(Q)\n",
    "cir_i = QuantumCircuit(qr , cr)\n",
    "\n",
    "tst_dagger = Ui_dagger(cir_i,[0.2,0.3,0.4])\n",
    "tst_dagger.draw(output = 'mpl')"
   ]
  },
  {
   "cell_type": "code",
   "execution_count": 14,
   "metadata": {},
   "outputs": [],
   "source": [
    "def U(cir,phi_b):\n",
    "    T = len(phi_b)\n",
    "    for t in range(T):\n",
    "        cir = Ui(cir,phi_b[t])\n",
    "    return cir\n",
    "\n",
    "def U_dagger(cir,phi_b):\n",
    "    T = len(phi_b)\n",
    "    for t in range(T):\n",
    "        cir = Ui_dagger(cir,phi_b[T-1-t])\n",
    "    return cir"
   ]
  },
  {
   "cell_type": "code",
   "execution_count": 15,
   "metadata": {},
   "outputs": [
    {
     "data": {
      "image/png": "[encoded data removed]",
      "text/plain": [
       "<Figure size 641.669x264.88 with 1 Axes>"
      ]
     },
     "execution_count": 15,
     "metadata": {},
     "output_type": "execute_result"
    }
   ],
   "source": [
    "qr = QuantumRegister(Q)\n",
    "cr = ClassicalRegister(Q)\n",
    "cir = QuantumCircuit(qr , cr)\n",
    "tst = U(cir,[[0.2,0.3,0.4],[0.5,0.6,0.7],[0.8,0.9,0.1]])\n",
    "\n",
    "tst.draw(output = 'mpl')"
   ]
  },
  {
   "cell_type": "code",
   "execution_count": 16,
   "metadata": {},
   "outputs": [
    {
     "data": {
      "image/png": "[encoded data removed]",
      "text/plain": [
       "<Figure size 641.669x264.88 with 1 Axes>"
      ]
     },
     "execution_count": 16,
     "metadata": {},
     "output_type": "execute_result"
    }
   ],
   "source": [
    "qr = QuantumRegister(Q)\n",
    "cr = ClassicalRegister(Q)\n",
    "cir = QuantumCircuit(qr , cr)\n",
    "tst = U_dagger(cir,[[0.2,0.3,0.4],[0.5,0.6,0.7],[0.8,0.9,0.1]])\n",
    "\n",
    "tst.draw(output = 'mpl')"
   ]
  },
  {
   "cell_type": "markdown",
   "metadata": {},
   "source": [
    "# Calculating E\n",
    "\n",
    "$$ E = \\sum_{ab}<\\psi^a|H_{ab}|\\psi^b> = \\sum_{ab}<000\\ldots|U^{\\dagger}(\\{\\phi^a\\})H_{ab}U(\\{\\phi^b\\})|000\\ldots>$$"
   ]
  },
  {
   "cell_type": "markdown",
   "metadata": {},
   "source": [
    "First we need to inialize our set of parameters.  To do this we need to decide on the number of times we will apply Ui.  As a first attempt let's just have a depth of 1 (i.e. $U = Ui$).  \n",
    "\n",
    "In this case, we need a parameter for each qubit for each section."
   ]
  },
  {
   "cell_type": "code",
   "execution_count": 17,
   "metadata": {},
   "outputs": [],
   "source": [
    "#number of blocks\n",
    "T = 2\n",
    "\n",
    "phi = []\n",
    "for b in range(bL):\n",
    "    phi_b = []\n",
    "    for t in range(T):\n",
    "        phi_t = []\n",
    "        for q in range(Q):\n",
    "            phi_t.append(0)\n",
    "        phi_b.append(phi_t)\n",
    "    phi.append(phi_b)"
   ]
  },
  {
   "cell_type": "markdown",
   "metadata": {},
   "source": [
    "The structure of $\\phi_{b,t,q}$ is by section in the first index, by number of application of $U_i$ in the second index, and by qubit in the third index\n",
    "\n",
    "Instead of using circuits to find $E$ I will convert $U$ into a statevector and each block into a matrix.  This should run faster so that we can explore the parameters in SPSA."
   ]
  },
  {
   "cell_type": "code",
   "execution_count": 18,
   "metadata": {},
   "outputs": [],
   "source": [
    "import copy"
   ]
  },
  {
   "cell_type": "code",
   "execution_count": 19,
   "metadata": {},
   "outputs": [],
   "source": [
    "from qiskit import quantum_info as qi\n",
    "\n",
    "def bkt(psi2,h,psi1):\n",
    "    return np.dot(np.conjugate(psi2),np.dot(h,psi1))\n",
    "\n",
    "\n",
    "\n",
    "def E_From_Matrix(phi,blocks):\n",
    "    E = 0\n",
    "    for key in list(blocks.keys()):\n",
    "        qr = QuantumRegister(Q)\n",
    "        cr = ClassicalRegister(Q)\n",
    "        cir0 = QuantumCircuit(qr , cr)\n",
    "        a = int(key.split(',')[0])\n",
    "        b = int(key.split(',')[1])\n",
    "        w = 1\n",
    "        if a != b:\n",
    "            w = 2\n",
    "        cir = copy.deepcopy(cir0)\n",
    "        psi_1 = qi.Statevector.from_instruction(U(cir,phi[b])).data\n",
    "        h = blocks[key].to_matrix()\n",
    "        cir = copy.deepcopy(cir0)\n",
    "        psi_2 = qi.Statevector.from_instruction(U(cir,phi[a])).data\n",
    "        E_key = bkt(psi_2,h,psi_1)\n",
    "        E += w*E_key\n",
    "    return E/bL\n",
    "            "
   ]
  },
  {
   "cell_type": "code",
   "execution_count": 20,
   "metadata": {},
   "outputs": [
    {
     "data": {
      "text/plain": [
       "(-0.3333333333333333+0j)"
      ]
     },
     "execution_count": 20,
     "metadata": {},
     "output_type": "execute_result"
    }
   ],
   "source": [
    "qr = QuantumRegister(Q)\n",
    "cr = ClassicalRegister(Q)\n",
    "cir = QuantumCircuit(qr , cr)\n",
    "qi.Statevector.from_instruction(U(cir,phi[0])).data\n",
    "\n",
    "E_From_Matrix(phi,blocks)"
   ]
  },
  {
   "cell_type": "markdown",
   "metadata": {},
   "source": [
    "For a sanity check, let's compare this to simple matrix multiplication"
   ]
  },
  {
   "cell_type": "code",
   "execution_count": 21,
   "metadata": {},
   "outputs": [
    {
     "data": {
      "text/plain": [
       "-0.3333333333333334"
      ]
     },
     "execution_count": 21,
     "metadata": {},
     "output_type": "execute_result"
    }
   ],
   "source": [
    "all_down = [0 for i in range(len(H))]\n",
    "for b in range(bL):\n",
    "    all_down[bL*b + 1] = 1/np.sqrt(bL)\n",
    "    \n",
    "np.dot(all_down,np.dot(H,all_down))"
   ]
  },
  {
   "cell_type": "markdown",
   "metadata": {},
   "source": [
    "# Optimization"
   ]
  },
  {
   "cell_type": "markdown",
   "metadata": {},
   "source": [
    "I will be using the simultaneous perturbation stochastic approximation algorithm.  The algorithm works by calculating the gradiant of the cost function $E(\\hat{\\phi})$ by randomly purturbating all parameters in $\\hat{\\phi}$\n",
    "\n",
    "Let $\\hat{\\Delta}_k$ be a set of randomly selected purturbations during step $k$ of the algorithm. I will use the Bernoulli distribution to select $\\hat{\\Delta}_k$.  Then the gradient is \n",
    "$$ \\hat{g}_k(\\hat{\\phi}_k) = \\frac{E(\\hat{\\phi}_k + c_k \\hat{\\Delta}_k)-E(\\hat{\\phi}_k - c_k \\hat{\\Delta}_k)}{2 c_k} \\hat{\\Delta}_k$$.\n",
    "The gradiant is then used to update the parameters \n",
    "$$ \\hat{\\phi}_{k+1} = \\hat{\\phi}_k - a_k \\hat{g}_k(\\hat{\\phi}_k) $$\n",
    "\n",
    "$c_k$ and $a_k$ decrease with each iteration of the algorithm so that we zero in on the the minimum of $E$.  They are given by\n",
    "$$c_k = \\frac{c}{(k+1)^{\\gamma}}$$\n",
    "$$a_k = \\frac{a}{(A+k+1)^{\\alpha}}$$\n",
    "where $a$, $A$, $\\alpha$, $c$, and $\\gamma$ are choosen at the begining of the algorithm."
   ]
  },
  {
   "cell_type": "code",
   "execution_count": 26,
   "metadata": {},
   "outputs": [],
   "source": [
    "def SPSA(k_max,hold = False):\n",
    "    #Initalization\n",
    "    k = 0\n",
    "    #alpha = 0.602\n",
    "    alpha = 0.201\n",
    "    A = 10\n",
    "    a = 0.4\n",
    "    gamma = 0.101\n",
    "    c = 0.4\n",
    "    phi_k = np.array(phi)\n",
    "    E_l = []\n",
    "    hold_l = []\n",
    "    \n",
    "    #Begin Iterations\n",
    "    for k in range(k_max):\n",
    "        #Update c and a\n",
    "        a_k = a/((A + k + 1)**alpha)\n",
    "        c_k = c/((k + 1)**gamma)\n",
    "\n",
    "        #Find Delta\n",
    "        Delta_k = np.array(phi_k)\n",
    "        for b in range(bL):\n",
    "            for t in range(T):\n",
    "                for q in range(Q):\n",
    "                    Delta_k[b][t][q] = 1 - 2*np.random.binomial(size=None, n=1, p= 0.5)\n",
    "            \n",
    "        #Find E    \n",
    "        E_A = E_From_Matrix(phi_k + c_k*Delta_k ,blocks)\n",
    "        E_B = E_From_Matrix(phi_k - c_k*Delta_k ,blocks)\n",
    "        \n",
    "        #Calculate gradiant\n",
    "        g = np.real((E_A-E_B)/(2*c_k)) \n",
    "        g_k = g * Delta_k\n",
    "        phi_k = phi_k - a_k * g_k\n",
    "\n",
    "        \n",
    "        #Calculate new E\n",
    "        E_f = np.real(E_From_Matrix(phi_k,blocks))\n",
    "        \n",
    "        #Print and save E\n",
    "        print('k=',k,'c_k=',c_k,'a_k=',a_k,'g=',g,'E_A=',E_A,'E_B=',E_B,'E_f=',E_f)\n",
    "        E_l.append(E_f)\n",
    "        \n",
    "        if hold == True:\n",
    "            hold_k = {'E':E_f,'c':c_k,'a':a_k,'phi':phi_k,'Delta':Delta_k}\n",
    "            hold_l.append(hold_k)\n",
    "    if hold == True:\n",
    "        return hold_l\n",
    "    else:\n",
    "        return E_l,phi_k"
   ]
  },
  {
   "cell_type": "code",
   "execution_count": 27,
   "metadata": {
    "scrolled": true
   },
   "outputs": [
    {
     "name": "stdout",
     "output_type": "stream",
     "text": [
      "k= 0 c_k= 0.4 a_k= 0.24702451859678626 g= -0.10329282230457343 E_A= (0.46439028971806384+0j) E_B= (0.5470245475617226+0j) E_f= -0.320870733764678\n",
      "k= 1 c_k= 0.372954594574733 a_k= 0.24274179599678827 g= 0.8932749210959717 E_A= (0.7531238867218759+0j) E_B= (0.08682191463962642+0j) E_f= -0.28959018415117277\n",
      "k= 2 c_k= 0.3579898757427053 a_k= 0.23886767231070002 g= -0.10495287636943877 E_A= (0.4071733200579576+0j) E_B= (0.4823174543986274+0j) E_f= -0.28949095580558704\n",
      "k= 3 c_k= 0.34773782403600867 a_k= 0.23533593967153557 g= -0.6790940933750187 E_A= (0.11974599183015422+0j) E_B= (0.5920393965220244+0j) E_f= -0.23526977792398865\n",
      "k= 4 c_k= 0.33998833831625347 a_k= 0.23209492713998128 g= -0.8647476680198487 E_A= (-0.017742702518269517+0j) E_B= (0.5702655429075777+0j) E_f= -0.22517191054988475\n",
      "k= 5 c_k= 0.3337849224236992 a_k= 0.2291035795959514 g= 2.01059256850685 E_A= (1.0779688176827131+0j) E_B= (-0.2642421513267369+0j) E_f= -0.04384638033110744\n",
      "k= 6 c_k= 0.32862839767254015 a_k= 0.22632876734477822 g= -0.7394594353761745 E_A= (0.3008121976715225+0j) E_B= (0.7868269364545495+0j) E_f= -0.019869991560069966\n",
      "k= 7 c_k= 0.3242260479541237 a_k= 0.2237433920028837 g= 1.3007255778276685 E_A= (1.0326994219505268+0j) E_B= (0.18924119480670898+0j) E_f= 0.12941989060300363\n",
      "k= 8 c_k= 0.3203918778356939 a_k= 0.2213250227518603 g= 0.9498085656494448 E_A= (0.8470969273423314+0j) E_B= (0.23847502747662633+0j) E_f= 0.05539071380809849\n",
      "k= 9 c_k= 0.3170005321921887 a_k= 0.21905489491613872 g= 0.08642160434307036 E_A= (0.6653287976985485+0j) E_B= (0.6105374085592363+0j) E_f= 0.05728299156410899\n",
      "k= 10 c_k= 0.31396362164265085 a_k= 0.21691716165349642 g= 0.5509326241085025 E_A= (0.6065042135503652+0j) E_B= (0.26055860965797584+0j) E_f= 0.04191774769594284\n",
      "k= 11 c_k= 0.31121655104422363 a_k= 0.21489832600740305 g= -0.6840443708187337 E_A= (0.2908137525915939+0j) E_B= (0.7165856122864385+0j) E_f= 0.06670257028571161\n",
      "k= 12 c_k= 0.3087107214903736 a_k= 0.21298680378011467 g= -0.5658245441685732 E_A= (0.40230081987506383+0j) E_B= (0.7516530264095478+0j) E_f= 0.08846852354464843\n",
      "k= 13 c_k= 0.3064086770492659 a_k= 0.2111725828191493 g= -0.4716968645050873 E_A= (0.4512980968305532+0j) E_B= (0.7403621212731345+0j) E_f= 0.08883657800333847\n",
      "k= 14 c_k= 0.30428095746951106 a_k= 0.2094469543921895 g= 0.03490090150573585 E_A= (0.6785790726470753+0j) E_B= (0.6573397131936465+0j) E_f= 0.0890219186818775\n",
      "k= 15 c_k= 0.3023039856632453 a_k= 0.20780229917437096 g= 1.080338407411264 E_A= (0.6768172601385302+0j) E_B= (0.023636047287514117+0j) E_f= -0.010052011562097266\n",
      "k= 16 c_k= 0.30045860758866744 a_k= 0.206231915107106 g= 0.42802706081730774 E_A= (0.5840014505198861+0j) E_B= (0.3267926211130097+0j) E_f= 0.003134096042634038\n",
      "k= 17 c_k= 0.2987290572581215 a_k= 0.2047298777144551 g= -1.0406160684405015 E_A= (0.25627839612419717+0j) E_B= (0.8780029103099648+0j) E_f= 0.07097254888407414\n",
      "k= 18 c_k= 0.29710220679082217 a_k= 0.20329092583512887 g= -0.7118545598471848 E_A= (0.3139976212164081+0j) E_B= (0.7369847425058241+0j) E_f= 0.06653710865238589\n",
      "k= 19 c_k= 0.29556701240928085 a_k= 0.2019103674425339 g= 0.7331225589072895 E_A= (0.8300813712556947+0j) E_B= (0.3967076823235456+0j) E_f= 0.09422414411796409\n",
      "k= 20 c_k= 0.2941140981207925 a_k= 0.2005840014798153 g= 1.1975181470956724 E_A= (1.046602575548589+0j) E_B= (0.3421886359159366+0j) E_f= 0.19880734750439724\n",
      "k= 21 c_k= 0.2927354380523743 a_k= 0.19930805256557357 g= 0.77017872037727 E_A= (0.7231926521458583+0j) E_B= (0.27227544196934383+0j) E_f= 0.17740309888126482\n",
      "k= 22 c_k= 0.29142411071599983 a_k= 0.19807911612087625 g= 1.5185570705723088 E_A= (1.0053128466117496+0j) E_B= (0.12022455888569172+0j) E_f= 0.1337474571668124\n",
      "k= 23 c_k= 0.2901741065491128 a_k= 0.19689411199340195 g= -1.3883368683085358 E_A= (0.23446606772300793+0j) E_B= (1.0401848884242533+0j) E_f= 0.19912997437889926\n",
      "k= 24 c_k= 0.2889801754776181 a_k= 0.19575024505521263 g= -0.2144213055934788 E_A= (0.520339758503743+0j) E_B= (0.64426677153683+0j) E_f= 0.1929895146290689\n",
      "k= 25 c_k= 0.28783770493578903 a_k= 0.19464497155896257 g= 0.9688640811595176 E_A= (0.7938841558172466+0j) E_B= (0.23613292878589143+0j) E_f= 0.1550811456652183\n",
      "k= 26 c_k= 0.2867426213384302 a_k= 0.19357597027654325 g= -0.09659532063968965 E_A= (0.869207563131912+0j) E_B= (0.9246035540304136+0j) E_f= 0.15665480459884668\n",
      "k= 27 c_k= 0.2856913098077231 a_k= 0.19254111763116277 g= -1.79005404357805 E_A= (0.5558884009998479+0j) E_B= (1.5786941696726964+0j) E_f= 0.8367642211098865\n",
      "k= 28 c_k= 0.28468054825101563 a_k= 0.19153846618110615 g= 0.9188585648412707 E_A= (1.5728375592874608+0j) E_B= (1.0496752392791522+0j) E_f= 0.839684652959962\n",
      "k= 29 c_k= 0.2837074528246327 a_k= 0.19056622593016656 g= 0.8588068207896766 E_A= (1.5502160346800786+0j) E_B= (1.0629162434907586+0j) E_f= 0.8374744994709579\n",
      "k= 30 c_k= 0.2827694325084489 a_k= 0.18962274803288706 g= -1.766595072385891 E_A= (0.5532977715652779+0j) E_B= (1.552375943746839+0j) E_f= 0.5894271175453307\n",
      "k= 31 c_k= 0.2818641510284039 a_k= 0.18870651053753368 g= -0.22285936680472257 E_A= (0.7075293359105862+0j) E_B= (0.8331614683568678+0j) E_f= 0.590742641443122\n",
      "k= 32 c_k= 0.28098949474895574 a_k= 0.18781610587010017 g= -0.4623910251827129 E_A= (0.8342603901941216+0j) E_B= (1.094114431279206+0j) E_f= 0.5771713897187654\n",
      "k= 33 c_k= 0.28014354544930065 a_k= 0.1869502298116609 g= 0.07236632023653461 E_A= (0.9858358483715289+0j) E_B= (0.9452899333271644+0j) E_f= 0.5790416306763753\n",
      "k= 34 c_k= 0.2793245571205497 a_k= 0.18610767176139242 g= 0.5436692601168743 E_A= (1.1147203695475234+0j) E_B= (0.8110000189431177+0j) E_f= 0.5673191793440591\n",
      "k= 35 c_k= 0.2785309360934873 a_k= 0.1852873061103876 g= -0.31538820556572117 E_A= (0.8914046449691606+0j) E_B= (1.0670953892272916+0j) E_f= 0.579282882656267\n",
      "k= 36 c_k= 0.277761223940729 a_k= 0.18448808457841748 g= 0.23375517202430876 E_A= (0.9599974452973277+0j) E_B= (0.8301411999294324+0j) E_f= 0.5728354912892886\n",
      "k= 37 c_k= 0.27701408270232386 a_k= 0.18370902938816724 g= -0.7657342300894996 E_A= (0.8412237425085838+0j) E_B= (1.2654620731926096+0j) E_f= 0.5854145193442544\n",
      "k= 38 c_k= 0.2762882820669494 a_k= 0.18294922717006923 g= 0.5697183689457456 E_A= (1.1698624671256799+0j) E_B= (0.8550494482896709+0j) E_f= 0.5907671456873301\n",
      "k= 39 c_k= 0.27558268820692106 a_k= 0.18220782350637477 g= 2.378052409468499 E_A= (1.5556788630600462+0j) E_B= (0.244978711663497+0j) E_f= 0.43835268453189125\n",
      "k= 40 c_k= 0.27489625401810586 a_k= 0.1814840180361123 g= 1.10786960283489 E_A= (1.0804872895459978+0j) E_B= (0.47138888202632195+0j) E_f= 0.41760143335842637\n",
      "k= 41 c_k= 0.2742280105583835 a_k= 0.18077706005351504 g= -1.156642065169596 E_A= (0.5597396212042577+0j) E_B= (1.1941069261234545+0j) E_f= 0.4424189035822358\n",
      "k= 42 c_k= 0.2735770595127504 a_k= 0.1800862445417329 g= -2.654318690922318 E_A= (0.21086272271530776+0j) E_B= (1.6631841276598291+0j) E_f= 0.5896457282474913\n",
      "k= 43 c_k= 0.27294256654120025 a_k= 0.17941090859146205 g= -0.2924574159560084 E_A= (0.8252208005672147+0j) E_B= (0.9848689559972953+0j) E_f= 0.5874745516869897\n",
      "k= 44 c_k= 0.27232375538845416 a_k= 0.17875042816077 g= 0.06462391503790414 E_A= (0.7568367677619682+0j) E_B= (0.7216395132999153+0j) E_f= 0.5872830149916997\n",
      "k= 45 c_k= 0.27171990265346957 a_k= 0.17810421513805602 g= -1.5073444024695875 E_A= (0.3013638578948921+0j) E_B= (1.1205148065034691+0j) E_f= 0.3027549591469486\n",
      "k= 46 c_k= 0.2711303331322349 a_k= 0.17747171467493214 g= -1.8654942270375492 E_A= (0.129432732436404+0j) E_B= (1.1410168749023075+0j) E_f= 0.18151331488015465\n",
      "k= 47 c_k= 0.2705544156602744 a_k= 0.176852402759961 g= 1.354006393143229 E_A= (0.8413723235342858+0j) E_B= (0.10870750654000168+0j) E_f= 0.07093536740620912\n",
      "k= 48 c_k= 0.269991559392053 a_k= 0.17624578400776036 g= -0.9625989104662577 E_A= (0.10529575215794809+0j) E_B= (0.6250829139697003+0j) E_f= 0.014998464401427786\n",
      "k= 49 c_k= 0.26944121046347563 a_k= 0.17565138964106333 g= -0.11750051709529115 E_A= (0.16015301361450132+0j) E_B= (0.22347197672698044+0j) E_f= 0.016408412016699216\n",
      "k= 50 c_k= 0.26890284899123323 a_k= 0.17506877564598725 g= 0.158598671706952 E_A= (0.34437819377118417+0j) E_B= (0.2590829244347348+0j) E_f= 0.022674125471653\n",
      "k= 51 c_k= 0.268375986369122 a_k= 0.17449752108307343 g= -0.602507377583367 E_A= (0.07809857534911924+0j) E_B= (0.40149559885633757+0j) E_f= -0.012224620919407162\n"
     ]
    },
    {
     "name": "stdout",
     "output_type": "stream",
     "text": [
      "k= 52 c_k= 0.267860162826851 a_k= 0.17393722653866475 g= 0.08917298225864688 E_A= (0.33512268309699644+0j) E_B= (0.28735090400188235+0j) E_f= -0.008254837907243646\n",
      "k= 53 c_k= 0.26735494522142605 a_k= 0.1733875127029373 g= 2.0538805624071985 E_A= (0.7674780523510629+0j) E_B= (-0.33075219815639356+0j) E_f= -0.302701130864267\n",
      "k= 54 c_k= 0.2668599250350944 a_k= 0.1728480190624269 g= -0.07902712106786121 E_A= (-0.13952066755612536+0j) E_B= (-0.09734232434830781+0j) E_f= -0.30403129932276096\n",
      "k= 55 c_k= 0.26637471655715955 a_k= 0.17231840269622573 g= -0.44742583985641426 E_A= (-0.18318253133983475+0j) E_B= (0.055183331204368094+0j) E_f= -0.3275781856698002\n",
      "k= 56 c_k= 0.2658989552298248 a_k= 0.17179833716619697 g= 1.7348239008896413 E_A= (0.5455847695201139+0j) E_B= (-0.37699095598845567+0j) E_f= -0.33156391329072354\n",
      "k= 57 c_k= 0.26543229614067565 a_k= 0.17128751149258062 g= 1.9736521981800768 E_A= (0.5666565600815363+0j) E_B= (-0.48108550941052297+0j) E_f= -0.39540996901280645\n",
      "k= 58 c_k= 0.26497441264651617 a_k= 0.17078562920727208 g= 0.7669077683113747 E_A= (0.3460570712962648+0j) E_B= (-0.06036479962844932+0j) E_f= -0.3563779591773889\n",
      "k= 59 c_k= 0.2645249951151027 a_k= 0.1702924074778519 g= -1.4213384215293987 E_A= (-0.11414939205996062+0j) E_B= (0.6378096859639832+0j) E_f= -0.1832130130545826\n",
      "k= 60 c_k= 0.26408374977289106 a_k= 0.16980757629615226 g= 0.3543003860591148 E_A= (0.3528334270031518+0j) E_B= (0.16570347801020385+0j) E_f= -0.17433948773034286\n",
      "k= 61 c_k= 0.26365039764828974 a_k= 0.1693308777257701 g= 0.9284856826760243 E_A= (0.4243199707274965+0j) E_B= (-0.0652712681690586+0j) E_f= -0.20918471872634395\n",
      "k= 62 c_k= 0.2632246736011008 a_k= 0.16886206520349192 g= -0.25455675483555196 E_A= (0.017939315468622263+0j) E_B= (0.15195055287770948+0j) E_f= -0.1948728858889901\n",
      "k= 63 c_k= 0.26280632542987425 a_k= 0.16840090289008727 g= 0.5857652728875046 E_A= (0.2907552000615315+0j) E_B= (-0.017130437802453786+0j) E_f= -0.20447757901762556\n",
      "k= 64 c_k= 0.2623951130498096 a_k= 0.16794716506636728 g= 0.032067750609874913 E_A= (0.044456119335373113+0j) E_B= (0.027627277242310656+0j) E_f= -0.20532708090954915\n",
      "k= 65 c_k= 0.2619908077346396 a_k= 0.16750063557079495 g= -0.12986918244003087 E_A= (0.10643437022004743+0j) E_B= (0.17448343423464935+0j) E_f= -0.2024386793577087\n",
      "k= 66 c_k= 0.2615931914166275 a_k= 0.16706110727528317 g= -0.5366991429083183 E_A= (-0.13713223896908988+0j) E_B= (0.14366144427882138+0j) E_f= -0.2449467521028308\n",
      "k= 67 c_k= 0.26120205603943053 a_k= 0.16662838159612872 g= 0.43682265809983833 E_A= (0.1582178241576429+0j) E_B= (-0.06998012868293105+0j) E_f= -0.2655502501480114\n",
      "k= 68 c_k= 0.2608172029591229 a_k= 0.16620226803730995 g= 0.2759373580615487 E_A= (0.21548525259479448+0j) E_B= (0.07154683275170826+0j) E_f= -0.2656680254588304\n",
      "k= 69 c_k= 0.26043844238915365 a_k= 0.16578258376362706 g= 0.4004298565551277 E_A= (0.3563977815979579+0j) E_B= (0.1478231253432985+0j) E_f= -0.23304752412534602\n",
      "k= 70 c_k= 0.26006559288543923 a_k= 0.16536915320138834 g= 0.025890229266463206 E_A= (0.08285535739075978+0j) E_B= (0.06938904174251437+0j) E_f= -0.23385820620343867\n",
      "k= 71 c_k= 0.25969848086816855 a_k= 0.1649618076645496 g= 0.3347253520017545 E_A= (0.13559815899862304+0j) E_B= (-0.03825717184721422+0j) E_f= -0.24337824635464625\n",
      "k= 72 c_k= 0.2593369401772328 a_k= 0.16456038500439515 g= -0.2742071979007994 E_A= (0.0796312250357456+0j) E_B= (0.2218553363920781+0j) E_f= -0.24186433460640627\n",
      "k= 73 c_k= 0.2589808116584905 a_k= 0.16416472928101455 g= -1.125539862911196 E_A= (-0.23091761912106495+0j) E_B= (0.35206883538039035+0j) E_f= -0.3060201198986786\n",
      "k= 74 c_k= 0.25862994277834417 a_k= 0.16377469045497714 g= 1.3524592066700587 E_A= (0.4558033391510244+0j) E_B= (-0.24376955531121972+0j) E_f= -0.3035769187877344\n",
      "k= 75 c_k= 0.25828418726434194 a_k= 0.1633901240977413 g= 1.1189496924163993 E_A= (0.39702518884196025+0j) E_B= (-0.1809888349489499+0j) E_f= -0.29614118861968813\n",
      "k= 76 c_k= 0.25794340476973 a_k= 0.1630108911194567 g= -2.6717838436221517 E_A= (-0.7905330945122495+0j) E_B= (0.5878049483530579+0j) E_f= -0.7251271924490938\n",
      "k= 77 c_k= 0.25760746056007144 a_k= 0.16263685751292828 g= 0.250156107475542 E_A= (-0.11357256143841146+0j) E_B= (-0.24245672061914483+0j) E_f= -0.7297186712618855\n",
      "k= 78 c_k= 0.25727622522021726 a_k= 0.16226789411261078 g= -1.5809669895388936 E_A= (-0.8568655474518386+0j) E_B= (-0.043375108919164185+0j) E_f= -0.857439406274066\n",
      "k= 79 c_k= 0.2569495743800682 a_k= 0.16190387636759385 g= 0.39781848079772875 E_A= (-0.21028740356260633+0j) E_B= (-0.4147259822056098+0j) E_f= -0.8426700239508444\n",
      "k= 80 c_k= 0.2566273884577055 a_k= 0.16154468412761927 g= -0.4730642394873244 E_A= (-0.6841031717897661+0j) E_B= (-0.44130069108504083+0j) E_f= -0.8580239027351162\n",
      "k= 81 c_k= 0.2563095524185887 a_k= 0.1611902014412491 g= 0.09535907867747906 E_A= (-0.3207327683743624+0j) E_B= (-0.36961565392410967+0j) E_f= -0.8548189893706326\n",
      "k= 82 c_k= 0.2559959555496353 a_k= 0.1608403163653701 g= -0.7265640549052083 E_A= (-0.5000684494104628+0j) E_B= (-0.12807353040350988+0j) E_f= -0.8089973741796082\n",
      "k= 83 c_k= 0.2556864912470938 a_k= 0.16049492078528393 g= 1.4761271524658772 E_A= (-0.08358259514727964+0j) E_B= (-0.8384341396444077+0j) E_f= -0.8656340018413076\n",
      "k= 84 c_k= 0.2553810568172158 a_k= 0.16015391024468892 g= -1.2814141319681045 E_A= (-0.653901912455454+0j) E_B= (0.0005958780296055158+0j) E_f= -0.772071757616245\n",
      "k= 85 c_k= 0.25507955328881354 a_k= 0.1598171837849118 g= 0.3792922263629341 E_A= (-0.41316596045971377+0j) E_B= (-0.6066653437928673+0j) E_f= -0.7866905029225878\n",
      "k= 86 c_k= 0.2547818852368658 a_k= 0.15948464379279595 g= -1.2654727352692465 E_A= (-0.4569127570786698+0j) E_B= (0.1879263013368338+0j) E_f= -0.6131521879345226\n",
      "k= 87 c_k= 0.2544879606164011 a_k= 0.1591561958566953 g= -1.6410625517564086 E_A= (-0.6541166164304293+0j) E_B= (0.18114470765044205+0j) E_f= -0.6437225009426828\n",
      "k= 88 c_k= 0.25419769060595165 a_k= 0.15883174863006502 g= 0.1695887543049123 E_A= (-0.14939852849303842+0j) E_B= (-0.23561666788713612+0j) E_f= -0.6434615399680261\n",
      "k= 89 c_k= 0.2539109894599242 a_k= 0.15851121370217577 g= 1.1037007675967117 E_A= (0.023863523939809894+0j) E_B= (-0.5366199839965078+0j) E_f= -0.6573216718817543\n",
      "k= 90 c_k= 0.25362777436928824 a_k= 0.15819450547551162 g= -2.3669325397177654 E_A= (-1.0775651198752638+0j) E_B= (0.1230745443864639+0j) E_f= -1.034093570256844\n",
      "k= 91 c_k= 0.2533479653300266 a_k= 0.1578815410494449 g= -0.7036921287920517 E_A= (-0.8955733524749503+0j) E_B= (-0.5390154143785076+0j) E_f= -1.0596963219204318\n",
      "k= 92 c_k= 0.25307148501883725 a_k= 0.1575722401098079 g= -1.1629806227677935 E_A= (-1.066620937877663+0j) E_B= (-0.47798647137370764+0j) E_f= -1.1270057035626577\n",
      "k= 93 c_k= 0.25279825867561245 a_k= 0.15726652482400819 g= -0.14254399844559346 E_A= (-0.7145853559717124+0j) E_B= (-0.6425156067883019+0j) E_f= -1.1289471810917064\n",
      "k= 94 c_k= 0.25252821399225883 a_k= 0.15696431974135985 g= -0.33942926588419803 E_A= (-0.8927483257635764+0j) E_B= (-0.7213173931826963+0j) E_f= -1.1398163924860505\n",
      "k= 95 c_k= 0.25226128100745354 a_k= 0.15666555169832325 g= -0.5300471712018942 E_A= (-0.8272497535870295+0j) E_B= (-0.5598289967834957+0j) E_f= -1.1379027565228281\n",
      "k= 96 c_k= 0.2519973920069601 a_k= 0.15637014972836852 g= 0.782120458243189 E_A= (-0.45081649622679765+0j) E_B= (-0.8450011276519419+0j) E_f= -1.1259846920648182\n",
      "k= 97 c_k= 0.25173648142915767 a_k= 0.15607804497619615 g= -1.4862476264716324 E_A= (-1.0938520869520585+0j) E_B= (-0.345566590911247+0j) E_f= -1.1298974309044412\n",
      "k= 98 c_k= 0.2514784857754605 a_k= 0.1557891706160656 g= 0.7380650363127048 E_A= (-0.5749079255729852+0j) E_B= (-0.9461228810444438+0j) E_f= -1.1508111627643705\n",
      "k= 99 c_k= 0.25122334352532716 a_k= 0.15550346177399973 g= -0.647647392886346 E_A= (-0.95100496957864+0j) E_B= (-0.625596682645902+0j) E_f= -1.164008576509461\n",
      "k= 100 c_k= 0.2509709950555822 a_k= 0.15522085545364786 g= -1.028173228800796 E_A= (-0.9596664063761843+0j) E_B= (-0.4435830897328912+0j) E_f= -1.1631399152953337\n",
      "k= 101 c_k= 0.2507213825637901 a_k= 0.15494129046560384 g= -1.2287471243101262 E_A= (-1.2048860002773627+0j) E_B= (-0.5887396446207305+0j) E_f= -1.246774960578306\n",
      "k= 102 c_k= 0.25047444999544133 a_k= 0.15466470735998908 g= 0.2938096601605979 E_A= (-0.8812019831145721+0j) E_B= (-1.0283856091787187+0j) E_f= -1.249031161761613\n"
     ]
    },
    {
     "name": "stdout",
     "output_type": "stream",
     "text": [
      "k= 103 c_k= 0.25023014297472496 a_k= 0.15439104836212222 g= -0.297233627456263 E_A= (-1.0135351609730021+0j) E_B= (-0.8647815347824485+0j) E_f= -1.2509559891173272\n",
      "k= 104 c_k= 0.24998840873867942 a_k= 0.1541202573111085 g= -0.19653630780283302 E_A= (-0.9939777823825945+0j) E_B= (-0.8957141846885834+0j) E_f= -1.2498566124758623\n",
      "k= 105 c_k= 0.24974919607452548 a_k= 0.15385227960119216 g= -0.9166369063135213 E_A= (-0.9064877173021106+0j) E_B= (-0.4486290564140265+0j) E_f= -1.2082999461761865\n",
      "k= 106 c_k= 0.2495124552599996 a_k= 0.15358706212572473 g= 0.7352620765128646 E_A= (-0.6052310775733907+0j) E_B= (-0.9721451695139717+0j) E_f= -1.196066216900969\n",
      "k= 107 c_k= 0.24927813800651724 a_k= 0.1533245532236118 g= 0.18842415857622533 E_A= (-0.7878404221982795+0j) E_B= (-0.8817804690089319+0j) E_f= -1.1968413893821872\n",
      "k= 108 c_k= 0.24904619740500722 a_k= 0.15306470262810792 g= 0.8181704813035556 E_A= (-0.3740017996197319+0j) E_B= (-0.7815262940150821+0j) E_f= -1.1385724023626689\n",
      "k= 109 c_k= 0.24881658787426822 a_k= 0.15280746141783874 g= 0.09352638882735703 E_A= (-0.5977891204959246+0j) E_B= (-0.6443309543843747+0j) E_f= -1.140061459726974\n",
      "k= 110 c_k= 0.24858926511170829 a_k= 0.152552781969935 g= -2.0056599683269707 E_A= (-1.253178579249619+0j) E_B= (-0.2560075040688717+0j) E_f= -1.1401738137346094\n",
      "k= 111 c_k= 0.24836418604633714 a_k= 0.1523006179151713 g= 0.8942038662164585 E_A= (-0.5155898303963531+0j) E_B= (-0.95976626118103+0j) E_f= -1.1646254013161634\n",
      "k= 112 c_k= 0.24814130879388893 a_k= 0.15205092409500823 g= -0.27681049083292625 E_A= (-0.9085974275005647+0j) E_B= (-0.7712211925342425+0j) E_f= -1.1701404377061937\n",
      "k= 113 c_k= 0.24792059261396104 a_k= 0.15180365652044167 g= -2.067399920786221 E_A= (-1.1345650893300323+0j) E_B= (-0.10946306226728016+0j) E_f= -0.9696743018443161\n",
      "k= 114 c_k= 0.24770199786906166 a_k= 0.15155877233257045 g= -0.5930523924423302 E_A= (-0.6953808895316526+0j) E_B= (-0.40158036463366853+0j) E_f= -0.9708950690378357\n",
      "k= 115 c_k= 0.24748548598546538 a_k= 0.15131622976479625 g= 0.27388215899469914 E_A= (-0.5435509323756289+0j) E_B= (-0.6791146508187321+0j) E_f= -0.9734247852710207\n",
      "k= 116 c_k= 0.24727101941578178 a_k= 0.15107598810657713 g= -0.9269385673271091 E_A= (-0.8398971609179651+0j) E_B= (-0.381487071960408+0j) E_f= -1.000950268372699\n",
      "k= 117 c_k= 0.24705856160314865 a_k= 0.15083800766865788 g= -1.1566425389368935 E_A= (-0.963897860653669+0j) E_B= (-0.39238097673614347+0j) E_f= -1.0401513364662298\n",
      "k= 118 c_k= 0.24684807694696573 a_k= 0.15060224974970707 g= -1.9602628550847634 E_A= (-1.2160226079561292+0j) E_B= (-0.24824837577964443+0j) E_f= -1.18382323142076\n",
      "k= 119 c_k= 0.2466395307700909 a_k= 0.15036867660429268 g= -0.3306528566593558 E_A= (-1.0035769399664667+0j) E_B= (-0.8404728091379594+0j) E_f= -1.1886181163589167\n",
      "k= 120 c_k= 0.246432889287424 a_k= 0.15013725141213338 g= -3.211129254303909 E_A= (-1.5748320567569012+0j) E_B= (0.00782366327006619+0j) E_f= -0.946167595557228\n",
      "k= 121 c_k= 0.24622811957580956 a_k= 0.1499079382485648 g= 0.43591093511224904 E_A= (-0.5400503906277738+0j) E_B= (-0.7547174503382175+0j) E_f= -0.9543927982206037\n",
      "k= 122 c_k= 0.24602518954519215 a_k= 0.14968070205616446 g= -0.14136410512776945 E_A= (-0.6717356816791634+0j) E_B= (-0.6021774201612715+0j) E_f= -0.9540202321276628\n",
      "k= 123 c_k= 0.2458240679109626 a_k= 0.14945550861748125 g= 1.6896328776311196 E_A= (-0.2000908733600996+0j) E_B= (-1.0307957278708746+0j) E_f= -1.0218011445823754\n",
      "k= 124 c_k= 0.24562472416743683 a_k= 0.14923232452881852 g= -1.2842422877215878 E_A= (-0.9200330379898216+0j) E_B= (-0.2891497226182756+0j) E_f= -1.0258766170418223\n",
      "k= 125 c_k= 0.24542712856241244 a_k= 0.1490111171750231 g= 1.6567103717822658 E_A= (-0.2274988084836222+0j) E_B= (-1.0407021472957987+0j) E_f= -1.0385891880186386\n",
      "k= 126 c_k= 0.24523125207275073 a_k= 0.14879185470523393 g= -0.16094733178194912 E_A= (-0.8009856552337423+0j) E_B= (-0.7220470238524307+0j) E_f= -1.0349687266291334\n",
      "k= 127 c_k= 0.2450370663809352 a_k= 0.14857450600954755 g= 0.39171278344182947 E_A= (-0.5445773401982887+0j) E_B= (-0.7365456428352817+0j) E_f= -1.039760519524194\n",
      "k= 128 c_k= 0.24484454385256046 a_k= 0.1483590406965591 g= 0.18342529007186323 E_A= (-0.642133439221533+0j) E_B= (-0.7319548021788709+0j) E_f= -1.036997693778146\n",
      "k= 129 c_k= 0.24465365751470747 a_k= 0.14814542907174008 g= -0.09725890836951871 E_A= (-0.8320578587697418+0j) E_B= (-0.7844683634527607+0j) E_f= -1.0374240381918853\n",
      "k= 130 c_k= 0.2444643810351635 a_k= 0.14793364211661628 g= -0.41437206772136126 E_A= (-0.8379480600355924+0j) E_B= (-0.6353496379280655+0j) E_f= -1.0451867399708954\n",
      "k= 131 c_k= 0.2442766887024484 a_k= 0.1477236514687099 g= -0.8314369041365673 E_A= (-0.863085571425089+0j) E_B= (-0.4568842638100976+0j) E_f= -1.0605939015963126\n",
      "k= 132 c_k= 0.2440905554066089 a_k= 0.1475154294022139 g= 0.0664098171622887 E_A= (-0.8589270778961815+0j) E_B= (-0.8913470962073703+0j) E_f= -1.061360874325967\n",
      "k= 133 c_k= 0.2439059566207471 a_k= 0.14730894880936596 g= -0.8254840444558716 E_A= (-1.0422556491781265+0j) E_B= (-0.6395746981017811+0j) E_f= -1.1259699149660538\n",
      "k= 134 c_k= 0.24372286838324891 a_k= 0.14710418318249233 g= 0.46165195502776935 E_A= (-0.569410579877109+0j) E_B= (-0.7944408572253141+0j) E_f= -1.122166988622808\n",
      "k= 135 c_k= 0.24354126728068126 a_k= 0.14690110659669336 g= 0.3928251553171996 E_A= (-0.6227072933030954+0j) E_B= (-0.8140455655944578+0j) E_f= -1.1199117464951827\n",
      "k= 136 c_k= 0.24336113043132843 a_k= 0.14669969369314326 g= -1.1246489331301899 E_A= (-0.925943315529298+0j) E_B= (-0.37855164411939707+0j) E_f= -1.0996222575127048\n",
      "k= 137 c_k= 0.24318243546933885 a_k= 0.14649991966297798 g= 1.2125294431168956 E_A= (-0.5434745498518836+0j) E_B= (-1.1332062759627792+0j) E_f= -1.189034121172626\n",
      "k= 138 c_k= 0.24300516052945542 a_k= 0.14630176023174768 g= 0.3811848993720705 E_A= (-0.5501470797058308+0j) E_B= (-0.7354068750324594+0j) E_f= -1.178527006153061\n",
      "k= 139 c_k= 0.24282928423230438 a_k= 0.14610519164440902 g= 0.35451639706084764 E_A= (-0.7860668511018218+0j) E_B= (-0.9582407769956239+0j) E_f= -1.194738689650083\n",
      "k= 140 c_k= 0.24265478567021764 a_k= 0.1459101906508363 g= 0.657851696332992 E_A= (-0.7073218458419936+0j) E_B= (-1.0265835705949362+0j) E_f= -1.2206658837931694\n",
      "k= 141 c_k= 0.2424816443935664 a_k= 0.14571673449182954 g= -0.5499277145128628 E_A= (-0.8507219762514684+0j) E_B= (-0.584027223226119+0j) E_f= -1.2166374556702535\n",
      "k= 142 c_k= 0.24230984039758352 a_k= 0.1455248008855991 g= 0.22250482281972292 E_A= (-0.8175339522116968+0j) E_B= (-0.9253641684219761+0j) E_f= -1.2154499156438705\n",
      "k= 143 c_k= 0.24213935410965462 a_k= 0.1453343680147085 g= 0.6861607634499874 E_A= (-0.7301773358340025+0j) E_B= (-1.0624703839883374+0j) E_f= -1.2458473522605833\n",
      "k= 144 c_k= 0.24197016637705707 a_k= 0.1451454145134562 g= -0.27777891020671175 E_A= (-0.9716392410451296+0j) E_B= (-0.8372108228076183+0j) E_f= -1.2519397948465345\n",
      "k= 145 c_k= 0.24180225845512912 a_k= 0.14495791945567904 g= 0.008773223380075265 E_A= (-0.776301107548921+0j) E_B= (-0.7805438780033881+0j) E_f= -1.2518602874941764\n",
      "k= 146 c_k= 0.2416356119958507 a_k= 0.14477186234296108 g= -0.03855872540489677 E_A= (-0.8305801719160109+0j) E_B= (-0.8119458494940265+0j) E_f= -1.252214120064655\n",
      "k= 147 c_k= 0.24147020903681907 a_k= 0.14458722309323138 g= -1.12949502891315 E_A= (-1.2876555213830323+0j) E_B= (-0.7421767199076197+0j) E_f= -1.324921172771252\n",
      "k= 148 c_k= 0.24130603199060283 a_k= 0.14440398202973567 g= 0.7160642482666273 E_A= (-0.8861468941680856+0j) E_B= (-1.231728138967193+0j) E_f= -1.3480195076829538\n",
      "k= 149 c_k= 0.24114306363445936 a_k= 0.14422211987036748 g= -0.3495296743380299 E_A= (-1.1001970792278952+0j) E_B= (-0.9316237662258404+0j) E_f= -1.343295356624599\n",
      "k= 150 c_k= 0.24098128710040054 a_k= 0.14404161771734483 g= -0.4219923497926611 E_A= (-0.9784461556914286+0j) E_B= (-0.7750616364923127+0j) E_f= -1.3356075680512396\n",
      "k= 151 c_k= 0.24082068586559263 a_k= 0.14386245704721906 g= -0.9018021541770616 E_A= (-1.0245719151386665+0j) E_B= (-0.5902266885706887+0j) E_f= -1.3044975953767604\n",
      "k= 152 c_k= 0.24066124374307757 a_k= 0.14368461970120333 g= -0.2145473887631685 E_A= (-0.983050423348765+0j) E_B= (-0.8797839405056176+0j) E_f= -1.3085680552909094\n",
      "k= 153 c_k= 0.24050294487280224 a_k= 0.14350808787580852 g= -0.160617985596983 E_A= (-0.9936626462108851+0j) E_B= (-0.9164044491396616+0j) E_f= -1.3101463408819893\n"
     ]
    },
    {
     "name": "stdout",
     "output_type": "stream",
     "text": [
      "k= 154 c_k= 0.24034577371294386 a_k= 0.14333284411377514 g= 1.3992978690766753 E_A= (-0.5558143252290175+0j) E_B= (-1.2284449832252318+0j) E_f= -1.2927972186490158\n",
      "k= 155 c_k= 0.2401897150315199 a_k= 0.1431588712952899 g= 0.04559881046188474 E_A= (-0.9342026819532501+0j) E_B= (-0.9561074125344828+0j) E_f= -1.29252411406133\n",
      "k= 156 c_k= 0.24003475389827156 a_k= 0.1429861526294766 g= 0.4433652423545208 E_A= (-0.8148103053153705+0j) E_B= (-1.0276564389866003+0j) E_f= -1.3000511602882048\n",
      "k= 157 c_k= 0.23988087567680955 a_k= 0.14281467164615091 g= 1.2122405781869927 E_A= (-0.7881428051688799+0j) E_B= (-1.3697294680217953+0j) E_f= -1.4110677078791327\n",
      "k= 158 c_k= 0.239728066017013 a_k= 0.14264441218782992 g= 0.8456686168962926 E_A= (-0.6859536742221933+0j) E_B= (-1.0914146782618543+0j) E_f= -1.3922397410282914\n",
      "k= 159 c_k= 0.23957631084767136 a_k= 0.14247535840198608 g= -0.9809690838623306 E_A= (-1.3262059877296104+0j) E_B= (-0.8561720793948961+0j) E_f= -1.4304789435110101\n",
      "k= 160 c_k= 0.2394255963693599 a_k= 0.14230749473353793 g= 0.8712669180977195 E_A= (-0.7474310866168801+0j) E_B= (-1.1646382895417615+0j) E_f= -1.420911954034563\n",
      "k= 161 c_k= 0.23927590904754018 a_k= 0.14214080591756798 g= -1.0387087778708748 E_A= (-1.2390688969036994+0j) E_B= (-0.7419929227822732+0j) E_f= -1.4186318398404032\n",
      "k= 162 c_k= 0.2391272356058773 a_k= 0.14197527697226028 g= 0.23581348772632585 E_A= (-0.8543607623220055+0j) E_B= (-0.9671396171991591+0j) E_f= -1.4168005448196195\n",
      "k= 163 c_k= 0.23897956301976508 a_k= 0.14181089319204948 g= -0.9128139733878136 E_A= (-1.2464994860169067+0j) E_B= (-0.8102117170597964+0j) E_f= -1.4435145561450953\n",
      "k= 164 c_k= 0.23883287851005275 a_k= 0.14164764014097397 g= -0.5928092459628188 E_A= (-0.9822945322724165+0j) E_B= (-0.6991298550310687+0j) E_f= -1.4170211400390413\n",
      "k= 165 c_k= 0.238687169536964 a_k= 0.141485503646226 g= 0.4420785784175405 E_A= (-0.975455560648479+0j) E_B= (-1.186492529839294+0j) E_f= -1.4263768747168337\n",
      "k= 166 c_k= 0.23854242379420307 a_k= 0.14132446979189145 g= -0.06169839566825063 E_A= (-0.7960420799607308+0j) E_B= (-0.7666067102668943+0j) E_f= -1.4262202346299395\n",
      "k= 167 c_k= 0.23839862920323973 a_k= 0.1411645249128734 g= -0.5415743086185328 E_A= (-1.2842072245495892+0j) E_B= (-1.0259860789768882+0j) E_f= -1.441192403161032\n",
      "k= 168 c_k= 0.2382557739077676 a_k= 0.14100565558899228 g= -0.30634442027509023 E_A= (-1.1120484810265578+0j) E_B= (-0.9660718271566218+0j) E_f= -1.443449433929831\n",
      "k= 169 c_k= 0.2381138462683289 a_k= 0.14084784863925695 g= 0.8201078398059639 E_A= (-0.8638693977963827+0j) E_B= (-1.2544274619784+0j) E_f= -1.4623570724270718\n",
      "k= 170 c_k= 0.23797283485710038 a_k= 0.14069109111630088 g= -0.7435013616735417 E_A= (-1.2223976101250968+0j) E_B= (-0.8685313566099628+0j) E_f= -1.455261164226725\n",
      "k= 171 c_k= 0.23783272845283365 a_k= 0.14053537030097757 g= -0.6492128738893078 E_A= (-1.1881197477638197+0j) E_B= (-0.8793116094762207+0j) E_f= -1.4514203265376184\n",
      "k= 172 c_k= 0.23769351603594574 a_k= 0.14038067369711005 g= 0.29580627620052735 E_A= (-0.9285211650527778+0j) E_B= (-1.0691436327639847+0j) E_f= -1.4492247642742557\n",
      "k= 173 c_k= 0.23755518678375354 a_k= 0.1402269890263888 g= -0.7911056561481283 E_A= (-1.290220050147606+0j) E_B= (-0.9143575463237009+0j) E_f= -1.4620256751210912\n",
      "k= 174 c_k= 0.23741773006584782 a_k= 0.14007430422341388 g= 1.0021033803647625 E_A= (-0.7886238698528443+0j) E_B= (-1.2644580895678739+0j) E_f= -1.4502038412301954\n",
      "k= 175 c_k= 0.23728113543960122 a_k= 0.1399226074308756 g= 0.009800736709159617 E_A= (-1.1461536634477647+0j) E_B= (-1.1508047233167527+0j) E_f= -1.4503772518704894\n",
      "k= 176 c_k= 0.23714539264580659 a_k= 0.1397718869948697 g= -0.23674613970362668 E_A= (-1.105794617242855+0j) E_B= (-0.993508104728064+0j) E_f= -1.4543396035193044\n",
      "k= 177 c_k= 0.2370104916044403 a_k= 0.13962213146034239 g= 0.3035034321457254 E_A= (-1.1346888737502092+0j) E_B= (-1.2785558690631957+0j) E_f= -1.4518135100173268\n",
      "k= 178 c_k= 0.2368764224105464 a_k= 0.13947332956666095 g= -0.42935352677100447 E_A= (-1.2280585223662173+0j) E_B= (-1.0246510676244847+0j) E_f= -1.4554172840398851\n",
      "k= 179 c_k= 0.23674317533023834 a_k= 0.13932547024330597 g= 0.7109261965037134 E_A= (-0.8738111405810667+0j) E_B= (-1.2104249909525429+0j) E_f= -1.4593533054779306\n",
      "k= 180 c_k= 0.23661074079681305 a_k= 0.139178542605681 g= 0.2425802326703555 E_A= (-1.0682683780007438+0j) E_B= (-1.183062555110336+0j) E_f= -1.4579250087217823\n",
      "k= 181 c_k= 0.23647910940697436 a_k= 0.13903253595103596 g= 0.47379190184496073 E_A= (-0.9523626780115511+0j) E_B= (-1.176446451996617+0j) E_f= -1.4479770728704162\n",
      "k= 182 c_k= 0.23634827191716234 a_k= 0.13888743975450066 g= 1.223057768439932 E_A= (-0.855329876889699+0j) E_B= (-1.4334650569409766+0j) E_f= -1.513858916533184\n",
      "k= 183 c_k= 0.23621821923998398 a_k= 0.138743243665225 g= -0.6607455785608541 E_A= (-1.2507767809153327+0j) E_B= (-0.9386164930386569+0j) E_f= -1.5114881326005039\n",
      "k= 184 c_k= 0.23608894244074305 a_k= 0.13859993750262212 g= 0.6147085315583648 E_A= (-1.006617809907037+0j) E_B= (-1.29686958415687+0j) E_f= -1.516087901522165\n",
      "k= 185 c_k= 0.2359604327340652 a_k= 0.1384575112527116 g= 0.3043940689057317 E_A= (-1.1968197924498443+0j) E_B= (-1.3404697048912029+0j) E_f= -1.522077478796389\n",
      "k= 186 c_k= 0.2358326814806152 a_k= 0.13831595506455927 g= -0.8038398231203114 E_A= (-1.2580235419874666+0j) E_B= (-0.8788801400527336+0j) E_f= -1.5153310293937765\n",
      "k= 187 c_k= 0.23570568018390378 a_k= 0.13817525924681096 g= -1.3472398599883564 E_A= (-1.4702577892630941+0j) E_B= (-0.8351536141242484+0j) E_f= -1.548304243816891\n",
      "k= 188 c_k= 0.23557942048718056 a_k= 0.13803541426431665 g= -0.26549703298410554 E_A= (-1.2957321125170858+0j) E_B= (-1.1706408381741629+0j) E_f= -1.5525028168705122\n",
      "k= 189 c_k= 0.2354538941704108 a_k= 0.13789641073484302 g= 0.5773923869156806 E_A= (-0.8494062960828463+0j) E_B= (-1.1213048680101374+0j) E_f= -1.5313642239577974\n",
      "k= 190 c_k= 0.2353290931473328 a_k= 0.1377582394258709 g= -0.3087442462395897 E_A= (-1.3365297320347116+0j) E_B= (-1.1912167250706727+0j) E_f= -1.5418517307553037\n",
      "k= 191 c_k= 0.2352050094625941 a_k= 0.13762089125147547 g= 0.3598911187951893 E_A= (-1.099107731507102+0j) E_B= (-1.2684041195105542+0j) E_f= -1.537443895761114\n",
      "k= 192 c_k= 0.23508163528896314 a_k= 0.13748435726928662 g= 1.3150040452455123 E_A= (-0.812554210241434+0j) E_B= (-1.4308208129772675+0j) E_f= -1.5422128788675231\n",
      "k= 193 c_k= 0.23495896292461463 a_k= 0.13734862867752679 g= 0.4296067184996009 E_A= (-1.0533306722395663+0j) E_B= (-1.2552105703277925+0j) E_f= -1.5459498729955095\n",
      "k= 194 c_k= 0.23483698479048612 a_k= 0.13721369681212423 g= -0.1454731498090345 E_A= (-1.1903637883225224+0j) E_B= (-1.1220388365842657+0j) E_f= -1.5476273335922741\n",
      "k= 195 c_k= 0.23471569342770326 a_k= 0.13707955314389925 g= 0.31016209468089584 E_A= (-1.119096466134173+0j) E_B= (-1.2646962883902038+0j) E_f= -1.5483206632027076\n",
      "k= 196 c_k= 0.2345950814950722 a_k= 0.13694618927582142 g= -0.0004357298901711989 E_A= (-1.144729820158682+0j) E_B= (-1.1445253799804929+0j) E_f= -1.5483223987623238\n",
      "k= 197 c_k= 0.23447514176663659 a_k= 0.13681359694033524 g= -1.5788786956606042 E_A= (-1.3866959343435123+0j) E_B= (-0.6462803223488275+0j) E_f= -1.4387288105770906\n",
      "k= 198 c_k= 0.23435586712929732 a_k= 0.13668176799675263 g= -0.08139788302568396 E_A= (-1.0902883113275035+0j) E_B= (-1.052136168409557+0j) E_f= -1.4381708854462691\n",
      "k= 199 c_k= 0.23423725058049316 a_k= 0.1365506944287102 g= 1.1631208499550678 E_A= (-0.8133652002920029+0j) E_B= (-1.3582576602646457+0j) E_f= -1.4760070330386261\n",
      "k= 200 c_k= 0.23411928522594053 a_k= 0.13642036834168925 g= -0.3168569416495995 E_A= (-1.2633293898289608+0j) E_B= (-1.1149647484331973+0j) E_f= -1.4788868772132278\n",
      "k= 201 c_k= 0.23400196427742995 a_k= 0.13629078196059657 g= 1.3590220268118154 E_A= (-0.7919907476739381+0j) E_B= (-1.4280183952144558+0j) E_f= -1.500168856718274\n",
      "k= 202 c_k= 0.2338852810506788 a_k= 0.1361619276274047 g= 1.0832789757223775 E_A= (-1.0091692816554962+0j) E_B= (-1.5158952970417356+0j) E_f= -1.563609832379716\n",
      "k= 203 c_k= 0.23376922896323718 a_k= 0.13603379779884953 g= -0.35409266928943134 E_A= (-1.2844386706211108+0j) E_B= (-1.118886730058461+0j) E_f= -1.5633758895831191\n",
      "k= 204 c_k= 0.23365380153244633 a_k= 0.13590638504418354 g= -0.08440671483310894 E_A= (-1.2299494147572196+0j) E_B= (-1.1905055151659776+0j) E_f= -1.5641849973172306\n"
     ]
    },
    {
     "name": "stdout",
     "output_type": "stream",
     "text": [
      "k= 205 c_k= 0.23353899237344763 a_k= 0.13577968204298357 g= 0.7321098743498563 E_A= (-0.9915711176478796+0j) E_B= (-1.3335235223725133+0j) E_f= -1.572105274229318\n",
      "k= 206 c_k= 0.23342479519724088 a_k= 0.13565368158301086 g= 0.46413522450152156 E_A= (-1.2333307644572282+0j) E_B= (-1.4500121039034144+0j) E_f= -1.579538188151988\n",
      "k= 207 c_k= 0.23331120380879006 a_k= 0.13552837655812258 g= 0.2472574817834779 E_A= (-1.137579360162286+0j) E_B= (-1.2529552416135523+0j) E_f= -1.5840289188549024\n",
      "k= 208 c_k= 0.2331982121051757 a_k= 0.13540375996623283 g= -0.4530746991466771 E_A= (-1.4221040875899336+0j) E_B= (-1.2107916680077426+0j) E_f= -1.5976611943885959\n",
      "k= 209 c_k= 0.23308581407379206 a_k= 0.1352798249073219 g= 0.394180024831059 E_A= (-1.2920180261212817+0j) E_B= (-1.4757735700800316+0j) E_f= -1.6150803506518694\n",
      "k= 210 c_k= 0.232974003790588 a_k= 0.1351565645814929 g= -0.679146441420857 E_A= (-1.3848034711643193+0j) E_B= (-1.0683565399284252+0j) E_f= -1.625726247319354\n",
      "k= 211 c_k= 0.23286277541835038 a_k= 0.1350339722870731 g= -0.20666280552290997 E_A= (-1.356314996168905+0j) E_B= (-1.2600668472292897+0j) E_f= -1.6281438497405347\n",
      "k= 212 c_k= 0.23275212320502842 a_k= 0.13491204141876076 g= -0.3712156156689513 E_A= (-1.288554555309804+0j) E_B= (-1.1157521098821834+0j) E_f= -1.6291682158175977\n",
      "k= 213 c_k= 0.23264204148209838 a_k= 0.13479076546581417 g= -0.25219136597448183 E_A= (-1.334457001303376+0j) E_B= (-1.2171163728544512+0j) E_f= -1.6303912562744647\n",
      "k= 214 c_k= 0.23253252466296698 a_k= 0.13467013801028305 g= -0.5100275266110809 E_A= (-1.4020872829842101+0j) E_B= (-1.1648913061632438+0j) E_f= -1.6373817870392204\n",
      "k= 215 c_k= 0.23242356724141247 a_k= 0.13455015272528068 g= -0.30812359913285875 E_A= (-1.339189740251862+0j) E_B= (-1.195959368128418+0j) E_f= -1.636252104650469\n",
      "k= 216 c_k= 0.23231516379006265 a_k= 0.13443080337329547 g= -0.09751019245417775 E_A= (-1.43699559835246+0j) E_B= (-1.3916894056900744+0j) E_f= -1.636472527177099\n",
      "k= 217 c_k= 0.23220730895890848 a_k= 0.1343120838045415 g= -0.49666689433564065 E_A= (-1.2985818223202243+0j) E_B= (-1.067922456354909+0j) E_f= -1.6369877154782495\n",
      "k= 218 c_k= 0.2320999974738524 a_k= 0.13419398795534623 g= 0.29237461940159526 E_A= (-1.1478089204016644+0j) E_B= (-1.283529217250722+0j) E_f= -1.6361740968083573\n",
      "k= 219 c_k= 0.2319932241352903 a_k= 0.13407650984657493 g= 0.29155455143993886 E_A= (-1.2070727633712708+0j) E_B= (-1.3423501241710103+0j) E_f= -1.6394805628012776\n",
      "k= 220 c_k= 0.23188698381672643 a_k= 0.13395964358209053 g= 0.03623443769607515 E_A= (-1.315715875184929+0j) E_B= (-1.3325204641202049+0j) E_f= -1.6396100810741752\n",
      "k= 221 c_k= 0.23178127146341995 a_k= 0.13384338334724827 g= 0.03066421668200586 E_A= (-1.3205099700162575+0j) E_B= (-1.3347247522782277+0j) E_f= -1.6392708274163805\n",
      "k= 222 c_k= 0.23167608209106294 a_k= 0.1337277234074236 g= 0.5129115473267499 E_A= (-1.0698283429069466+0j) E_B= (-1.307487018394799+0j) E_f= -1.6388967207312457\n",
      "k= 223 c_k= 0.23157141078448806 a_k= 0.1336126581065733 g= -0.23414978113665272 E_A= (-1.2431673665962513+0j) E_B= (-1.1347225762908637+0j) E_f= -1.6332317413570347\n",
      "k= 224 c_k= 0.23146725269640603 a_k= 0.13349818186582837 g= 0.6147630895615803 E_A= (-1.076904387824942+0j) E_B= (-1.3614994346248892+0j) E_f= -1.6270415555702842\n",
      "k= 225 c_k= 0.23136360304617118 a_k= 0.1333842891821177 g= 0.5662325850855652 E_A= (-1.1503829579386093+0j) E_B= (-1.4123941800336974+0j) E_f= -1.6364253383162863\n",
      "k= 226 c_k= 0.23126045711857537 a_k= 0.1332709746268224 g= 0.9708415287086718 E_A= (-1.0919355466498328+0j) E_B= (-1.5409700580875607+0j) E_f= -1.6632641375987698\n",
      "k= 227 c_k= 0.23115781026266843 a_k= 0.13315823284445935 g= -0.6182579231866402 E_A= (-1.4243670827441854+0j) E_B= (-1.1385367873414478+0j) E_f= -1.6737112502830467\n",
      "k= 228 c_k= 0.23105565789060523 a_k= 0.1330460585513935 g= 0.28115186091320554 E_A= (-1.3053693711119916+0j) E_B= (-1.4352928274929289+0j) E_f= -1.6742497129910368\n",
      "k= 229 c_k= 0.23095399547651818 a_k= 0.13293444653457812 g= 0.051895875298767526 E_A= (-1.2095149900472322+0j) E_B= (-1.2334861095452352+0j) E_f= -1.6750653051288673\n",
      "k= 230 c_k= 0.2308528185554149 a_k= 0.13282339165032228 g= -0.11788890480365995 E_A= (-1.268758724932877+0j) E_B= (-1.214328753032205+0j) E_f= -1.674609221137125\n",
      "k= 231 c_k= 0.23075212272210002 a_k= 0.13271288882308493 g= -0.4131268398579672 E_A= (-1.3974465441196746+0j) E_B= (-1.2067867536182766+0j) E_f= -1.6724476894885296\n",
      "k= 232 c_k= 0.23065190363012056 a_k= 0.13260293304429469 g= 0.15245699846089233 E_A= (-1.3310267317535858+0j) E_B= (-1.4013557255870641+0j) E_f= -1.6748209743702973\n",
      "k= 233 c_k= 0.23055215699073456 a_k= 0.132493519371195 g= -0.30326091163401764 E_A= (-1.3952774194969444+0j) E_B= (-1.2554425048805458+0j) E_f= -1.680816962087103\n",
      "k= 234 c_k= 0.23045287857190197 a_k= 0.13238464292571364 g= 0.09927334976438255 E_A= (-1.2104763653222035+0j) E_B= (-1.256232023759558+0j) E_f= -1.6813503634176263\n",
      "k= 235 c_k= 0.23035406419729748 a_k= 0.1322762988933564 g= 0.030558715175984644 E_A= (-1.4405457248011646+0j) E_B= (-1.454624373276036+0j) E_f= -1.6814236581522604\n",
      "k= 236 c_k= 0.23025570974534454 a_k= 0.13216848252212396 g= 0.2430148750518874 E_A= (-1.3007898208135114+0j) E_B= (-1.4127009458810085+0j) E_f= -1.682220034885494\n",
      "k= 237 c_k= 0.23015781114827027 a_k= 0.13206118912145154 g= -0.8354782363478931 E_A= (-1.535306634787647+0j) E_B= (-1.1507229505079504+0j) E_f= -1.7111347711914213\n",
      "k= 238 c_k= 0.23006036439118038 a_k= 0.13195441406117067 g= 0.5119637338204688 E_A= (-1.2010934406480445+0j) E_B= (-1.4366585669636571+0j) E_f= -1.71382345118918\n",
      "k= 239 c_k= 0.2299633655111541 a_k= 0.13184815277049275 g= 0.6236020786771681 E_A= (-1.2489924304697058+0j) E_B= (-1.535803695974412+0j) E_f= -1.723693133474049\n",
      "k= 240 c_k= 0.22986681059635786 a_k= 0.13174240073701357 g= 0.787010318360161 E_A= (-1.1582059984699393+0j) E_B= (-1.5200211020456882+0j) E_f= -1.7214113991854338\n",
      "k= 241 c_k= 0.2297706957851782 a_k= 0.13163715350573843 g= 0.7309868638582311 E_A= (-1.3887039221699393+0j) E_B= (-1.7246226428070015+0j) E_f= -1.7639885474878938\n",
      "k= 242 c_k= 0.22967501726537237 a_k= 0.1315324066781275 g= -0.1455340537667994 E_A= (-1.4943260355638226+0j) E_B= (-1.427474962940644+0j) E_f= -1.7634805451810949\n",
      "k= 243 c_k= 0.22957977127323734 a_k= 0.1314281559111604 g= 0.3173165522840995 E_A= (-1.317457182104691+0j) E_B= (-1.4631561050938826+0j) E_f= -1.7630615427174257\n",
      "k= 244 c_k= 0.2294849540927954 a_k= 0.1313243969164202 g= 0.475223714868004 E_A= (-1.2080799152100554+0j) E_B= (-1.4261932999906386+0j) E_f= -1.7596146948999567\n",
      "k= 245 c_k= 0.22939056205499744 a_k= 0.1312211254591961 g= 0.5500432795542679 E_A= (-1.3785380220077823+0j) E_B= (-1.6308874961108375+0j) E_f= -1.7701966568245808\n",
      "k= 246 c_k= 0.2292965915369422 a_k= 0.1311183373576039 g= 0.2551202468971557 E_A= (-1.3201522796015044+0j) E_B= (-1.4371486856926663+0j) E_f= -1.7744154008095763\n",
      "k= 247 c_k= 0.2292030389611117 a_k= 0.1310160284817247 g= 0.14661383819929732 E_A= (-1.5267359166973997+0j) E_B= (-1.593944591235463+0j) E_f= -1.7778940637305491\n",
      "k= 248 c_k= 0.2291099007946226 a_k= 0.13091419475276067 g= -0.24479991916370633 E_A= (-1.5523752042062313+0j) E_B= (-1.4402030338179745+0j) E_f= -1.780352681125285\n",
      "k= 249 c_k= 0.22901717354849255 a_k= 0.13081283214220765 g= -0.3189770475585406 E_A= (-1.4902467310846754+0j) E_B= (-1.3441442873672753+0j) E_f= -1.7795371266211224\n",
      "k= 250 c_k= 0.22892485377692168 a_k= 0.13071193667104453 g= -0.4165543307205622 E_A= (-1.4348214768975267+0j) E_B= (-1.2441021983968303+0j) E_f= -1.7740566286714554\n",
      "k= 251 c_k= 0.22883293807658853 a_k= 0.13061150440893857 g= 0.3243926492177536 E_A= (-1.199817290378928+0j) E_B= (-1.3482807364008214+0j) E_f= -1.7720689022628824\n",
      "k= 252 c_k= 0.22874142308596035 a_k= 0.13051153147346647 g= 0.4614588044737407 E_A= (-1.3179853262326107+0j) E_B= (-1.5290948134943494+0j) E_f= -1.773978866090235\n",
      "k= 253 c_k= 0.22865030548461726 a_k= 0.13041201402935085 g= -0.4824340383635088 E_A= (-1.524462549112877+0j) E_B= (-1.3038451686168893+0j) E_f= -1.7777148617676688\n",
      "k= 254 c_k= 0.22855958199258958 a_k= 0.1303129482877117 g= 0.2968824955045654 E_A= (-1.3783598906613606+0j) E_B= (-1.5140705688082412+0j) E_f= -1.7804745975146368\n",
      "k= 255 c_k= 0.22846924936970905 a_k= 0.13021433050533257 g= 1.2208220663702967 E_A= (-1.075639428245431+0j) E_B= (-1.6334800304806285+0j) E_f= -1.754991459096659\n"
     ]
    },
    {
     "name": "stdout",
     "output_type": "stream",
     "text": [
      "k= 256 c_k= 0.22837930441497245 a_k= 0.13011615698394097 g= -0.37397898146781167 E_A= (-1.5643177129257273+0j) E_B= (-1.39349959361885+0j) E_f= -1.7692582349856996\n",
      "k= 257 c_k= 0.22828974396591784 a_k= 0.13001842406950276 g= 0.2515531463039518 E_A= (-1.4399152331260283+0j) E_B= (-1.5547692398531288+0j) E_f= -1.7707828426458305\n",
      "k= 258 c_k= 0.22820056489801344 a_k= 0.1299211281515303 g= 0.4901581372710921 E_A= (-1.3493774369670781+0j) E_B= (-1.5730861645963206+0j) E_f= -1.7823178611527006\n",
      "k= 259 c_k= 0.22811176412405826 a_k= 0.12982426566240393 g= -0.13728337697819756 E_A= (-1.5525341739316394+0j) E_B= (-1.4899022673168298+0j) E_f= -1.7834805113875514\n",
      "k= 260 c_k= 0.22802333859359442 a_k= 0.12972783307670635 g= 0.031533396937693726 E_A= (-1.452764587419793+0j) E_B= (-1.4671452883136529+0j) E_f= -1.7835391216221583\n",
      "k= 261 c_k= 0.22793528529233112 a_k= 0.1296318269105699 g= -0.19509253110737734 E_A= (-1.5848192572255837+0j) E_B= (-1.4958823137528576+0j) E_f= -1.7858960171420262\n",
      "k= 262 c_k= 0.22784760124157974 a_k= 0.12953624372103634 g= 0.19745596335001023 E_A= (-1.3164021532438925+0j) E_B= (-1.4063818884441828+0j) E_f= -1.781686593739403\n",
      "k= 263 c_k= 0.22776028349769972 a_k= 0.12944108010542846 g= 0.39775966085999725 E_A= (-1.2438765917031809+0j) E_B= (-1.4250642979460246+0j) E_f= -1.7754388366403513\n",
      "k= 264 c_k= 0.22767332915155544 a_k= 0.12934633270073415 g= -0.2902772143176925 E_A= (-1.4757308228808657+0j) E_B= (-1.3435540633597685+0j) E_f= -1.7722580213565158\n",
      "k= 265 c_k= 0.22758673532798307 a_k= 0.12925199818300143 g= -0.5287953038238938 E_A= (-1.5039761910569802+0j) E_B= (-1.2632825973488824+0j) E_f= -1.7711408732003096\n",
      "k= 266 c_k= 0.22750049918526816 a_k= 0.12915807326674553 g= -0.8056170796405755 E_A= (-1.5226515364121154+0j) E_B= (-1.1560949608712976+0j) E_f= -1.7655022886515814\n",
      "k= 267 c_k= 0.22741461791463288 a_k= 0.12906455470436656 g= -0.5407446768258822 E_A= (-1.5375722913890277+0j) E_B= (-1.2916258032495684+0j) E_f= -1.7729411553264165\n",
      "k= 268 c_k= 0.22732908873973287 a_k= 0.12897143928557828 g= 0.7280451132861371 E_A= (-1.2240800323269116+0j) E_B= (-1.5550916966564179+0j) E_f= -1.7832108233469302\n",
      "k= 269 c_k= 0.22724390891616403 a_k= 0.12887872383684748 g= -0.4266151686321818 E_A= (-1.6021549807443887+0j) E_B= (-1.4082635836985777+0j) E_f= -1.7940807123315867\n",
      "k= 270 c_k= 0.22715907573097813 a_k= 0.12878640522084372 g= -0.17361042709361163 E_A= (-1.4373996559361075+0j) E_B= (-1.3585252876244172+0j) E_f= -1.7960427019543155\n",
      "k= 271 c_k= 0.2270745865022079 a_k= 0.12869448033589928 g= 0.10026827798554815 E_A= (-1.3322317918108926+0j) E_B= (-1.3777685473366061+0j) E_f= -1.7958290190402675\n",
      "k= 272 c_k= 0.22699043857840095 a_k= 0.1286029461154789 g= 0.44885066287917474 E_A= (-1.3684218105112147+0j) E_B= (-1.5721914281575144+0j) E_f= -1.8012744847064575\n",
      "k= 273 c_k= 0.22690662933816205 a_k= 0.12851179952765956 g= 0.36441976765815864 E_A= (-1.473858122895411+0j) E_B= (-1.639236645182429+0j) E_f= -1.8140800567145745\n",
      "k= 274 c_k= 0.22682315618970433 a_k= 0.1284210375746193 g= -0.1234085662182036 E_A= (-1.5614899452854856+0j) E_B= (-1.5055061043045674+0j) E_f= -1.8141074451517947\n",
      "k= 275 c_k= 0.22674001657040857 a_k= 0.12833065729213583 g= -0.16479265538643584 E_A= (-1.575282374270274+0j) E_B= (-1.5005521954442698+0j) E_f= -1.8128078774053056\n",
      "k= 276 c_k= 0.2266572079463908 a_k= 0.128240655749094 g= 0.6010626794082972 E_A= (-1.2886079534031287+0j) E_B= (-1.5610783308340512+0j) E_f= -1.8135913106183876\n",
      "k= 277 c_k= 0.2265747278120774 a_k= 0.12815103004700204 g= -0.7032650723864737 E_A= (-1.6117978218107516+0j) E_B= (-1.2931136370993392+0j) E_f= -1.8240898516869475\n",
      "k= 278 c_k= 0.22649257368978862 a_k= 0.12806177731951687 g= 0.4218094679740769 E_A= (-1.193534104657648+0j) E_B= (-1.3846075286739863+0j) E_f= -1.8182563757127297\n",
      "k= 279 c_k= 0.2264107431293292 a_k= 0.12797289473197762 g= -0.7085015627251582 E_A= (-1.640265055846014+0j) E_B= (-1.3194403251962257+0j) E_f= -1.8298374155024588\n",
      "k= 280 c_k= 0.2263292337075867 a_k= 0.12788437948094764 g= 0.3954851547066232 E_A= (-1.488796865278613+0j) E_B= (-1.6678165692935658+0j) E_f= -1.8435578870381975\n",
      "k= 281 c_k= 0.22624804302813686 a_k= 0.1277962287937647 g= -0.7446021498677597 E_A= (-1.651022306099002+0j) E_B= (-1.3140927476147537+0j) E_f= -1.850158352522093\n",
      "k= 282 c_k= 0.2261671687208565 a_k= 0.1277084399280992 g= 0.1170160966999473 E_A= (-1.4785378503253557+0j) E_B= (-1.5314682488961417+0j) E_f= -1.852043237510663\n",
      "k= 283 c_k= 0.22608660844154282 a_k= 0.12762101017151992 g= -0.4371759675098935 E_A= (-1.6294215009844106+0j) E_B= (-1.4317422374114868+0j) E_f= -1.857222446586523\n",
      "k= 284 c_k= 0.22600635987154008 a_k= 0.12753393684106798 g= -0.7357500234529829 E_A= (-1.6971982578944973+0j) E_B= (-1.3646298887424795+0j) E_f= -1.8762809758429217\n",
      "k= 285 c_k= 0.22592642071737257 a_k= 0.12744721728283773 g= -0.47874570669348304 E_A= (-1.698114840670676+0j) E_B= (-1.4817922327765407+0j) E_f= -1.8887484153104543\n",
      "k= 286 c_k= 0.22584678871038427 a_k= 0.12736084887156537 g= 0.4466454096121192 E_A= (-1.4730803170032325+0j) E_B= (-1.6748271799094951+0j) E_f= -1.887559841598585\n",
      "k= 287 c_k= 0.2257674616063849 a_k= 0.12727482901022466 g= 0.49823211269374734 E_A= (-1.4467099767608245+0j) E_B= (-1.6716791755081317+0j) E_f= -1.8950486980230707\n",
      "k= 288 c_k= 0.2256884371853021 a_k= 0.12718915512962947 g= -0.26031649727001205 E_A= (-1.630166075742727+0j) E_B= (-1.512665228857885+0j) E_f= -1.8914395248617768\n",
      "k= 289 c_k= 0.22560971325084006 a_k= 0.1271038246880437 g= -0.06115003284274119 E_A= (-1.5078087359898371+0j) E_B= (-1.4802166532399765+0j) E_f= -1.8911351295008973\n",
      "k= 290 c_k= 0.2255312876301436 a_k= 0.1270188351707973 g= -0.6772350836180105 E_A= (-1.7662895768260474+0j) E_B= (-1.4608141759526916+0j) E_f= -1.9115395533149084\n",
      "k= 291 c_k= 0.22545315817346873 a_k= 0.12693418408990959 g= 0.2968902569179429 E_A= (-1.3920948021576889+0j) E_B= (-1.5259644942638544+0j) E_f= -1.9105973096969748\n",
      "k= 292 c_k= 0.22537532275385858 a_k= 0.12684986898371847 g= -0.5503050692519202 E_A= (-1.8768220191492655+0j) E_B= (-1.6287716539577934+0j) E_f= -1.9340017103176614\n",
      "k= 293 c_k= 0.22529777926682498 a_k= 0.12676588741651643 g= 0.15374530869270753 E_A= (-1.4876875020297133+0j) E_B= (-1.5569644552720323+0j) E_f= -1.9305064625364576\n",
      "k= 294 c_k= 0.22522052563003578 a_k= 0.12668223697819253 g= -0.42706496365373886 E_A= (-1.6622845076787416+0j) E_B= (-1.4699169164942072+0j) E_f= -1.9323720308776258\n",
      "k= 295 c_k= 0.2251435597830072 a_k= 0.12659891528388045 g= 0.37264940141106884 E_A= (-1.4899328251152746+0j) E_B= (-1.6577320506846642+0j) E_f= -1.9414351879662375\n",
      "k= 296 c_k= 0.22506687968680195 a_k= 0.1265159199736127 g= 0.11965966799422034 E_A= (-1.445688421607926+0j) E_B= (-1.4995512778075617+0j) E_f= -1.9435602019889742\n",
      "k= 297 c_k= 0.22499048332373206 a_k= 0.12643324871198047 g= -0.4205992922034115 E_A= (-1.7228699182134097+0j) E_B= (-1.5336082421364794+0j) E_f= -1.9479304133723896\n",
      "k= 298 c_k= 0.22491436869706707 a_k= 0.12635089918779946 g= -0.36481162981612814 E_A= (-1.6811921812228408+0j) E_B= (-1.5170894263959556+0j) E_f= -1.9498002984962313\n",
      "k= 299 c_k= 0.2248385338307471 a_k= 0.126268869113781 g= -0.3856713087527605 E_A= (-1.7621254042074264+0j) E_B= (-1.5886978610063143+0j) E_f= -1.960872468776769\n",
      "k= 300 c_k= 0.2247629767691008 a_k= 0.12618715622620894 g= 0.23504715359501216 E_A= (-1.6025712727954762+0j) E_B= (-1.7082310686417141+0j) E_f= -1.9637710563388944\n",
      "k= 301 c_k= 0.22468769557656806 a_k= 0.12610575828462178 g= 0.09207217195399593 E_A= (-1.6790033936120765+0j) E_B= (-1.7203783618982222+0j) E_f= -1.9645408317933424\n",
      "k= 302 c_k= 0.22461268833742742 a_k= 0.12602467307150036 g= 0.3492801058638536 E_A= (-1.4411616532340397+0j) E_B= (-1.5980671403557625+0j) E_f= -1.9632736037534557\n",
      "k= 303 c_k= 0.2245379531555281 a_k= 0.1259438983919602 g= 0.5086990452681398 E_A= (-1.4829218544720533+0j) E_B= (-1.7113663392654122+0j) E_f= -1.970110044138518\n",
      "k= 304 c_k= 0.22446348815402628 a_k= 0.1258634320734495 g= 0.03857486171621235 E_A= (-1.7248548632526017+0j) E_B= (-1.7421721592843622+0j) E_f= -1.970121788260482\n",
      "k= 305 c_k= 0.22438929147512626 a_k= 0.12578327196545175 g= 0.16269622262742825 E_A= (-1.536864909620692+0j) E_B= (-1.6098794898627882+0j) E_f= -1.9702147180642444\n",
      "k= 306 c_k= 0.2243153612798253 a_k= 0.12570341593919337 g= -0.16791241853600597 E_A= (-1.733275699768898+0j) E_B= (-1.6579450301143512+0j) E_f= -1.9719497831091284\n"
     ]
    },
    {
     "name": "stdout",
     "output_type": "stream",
     "text": [
      "k= 307 c_k= 0.2242416957476633 a_k= 0.1256238618873561 g= -0.6412362334369759 E_A= (-1.8455389894094059+0j) E_B= (-1.557955188687902+0j) E_f= -1.9899006666423358\n",
      "k= 308 c_k= 0.22416829307647623 a_k= 0.12554460772379422 g= 0.48527924561270924 E_A= (-1.533269982985857+0j) E_B= (-1.7508384232947392+0j) E_f= -1.9969524232149622\n",
      "k= 309 c_k= 0.22409515148215373 a_k= 0.12546565138325588 g= -0.4756599248973802 E_A= (-1.6471078099520897+0j) E_B= (-1.4339216441043532+0j) E_f= -1.9883723518910874\n",
      "k= 310 c_k= 0.2240222691984007 a_k= 0.12538699082110985 g= -0.3878472445157734 E_A= (-1.746903824123506+0j) E_B= (-1.573130984485965+0j) E_f= -1.9935613852345384\n",
      "k= 311 c_k= 0.2239496444765029 a_k= 0.12530862401307563 g= -0.2034632801660615 E_A= (-1.7089160919615902+0j) E_B= (-1.617785033447165+0j) E_f= -1.9959676378409168\n",
      "k= 312 c_k= 0.22387727558509607 a_k= 0.12523054895495883 g= -0.3738579457306356 E_A= (-1.7062126750715862+0j) E_B= (-1.5388160783795555+0j) E_f= -2.0054193280479864\n",
      "k= 313 c_k= 0.2238051608099392 a_k= 0.12515276366239023 g= -0.6504716395274984 E_A= (-1.844434803032198+0j) E_B= (-1.5532769832586848+0j) E_f= -2.0164095520570373\n",
      "k= 314 c_k= 0.22373329845369114 a_k= 0.12507526617056913 g= 0.8160851216460412 E_A= (-1.4720861339819962+0j) E_B= (-1.8372569661516973+0j) E_f= -2.0241834790228954\n",
      "k= 315 c_k= 0.22366168683569107 a_k= 0.12499805453401108 g= -0.5570718686478873 E_A= (-1.668749597335156+0j) E_B= (-1.419558329674162+0j) E_f= -2.019805832752464\n",
      "k= 316 c_k= 0.2235903242917423 a_k= 0.12492112682629929 g= 0.2536784892241849 E_A= (-1.4960252815892585+0j) E_B= (-1.609465392932208+0j) E_f= -2.015807811745402\n",
      "k= 317 c_k= 0.22351920917389975 a_k= 0.12484448113984005 g= 0.5387188808906334 E_A= (-1.5326541150276207+0j) E_B= (-1.773482151475066+0j) E_f= -2.0205090623066124\n",
      "k= 318 c_k= 0.22344833985026066 a_k= 0.12476811558562224 g= -0.898636126621236 E_A= (-1.7544921572941852+0j) E_B= (-1.3528946560482176+0j) E_f= -2.008907506714167\n",
      "k= 319 c_k= 0.22337771470475873 a_k= 0.12469202829298039 g= 0.28942738193687434 E_A= (-1.5818381833454511+0j) E_B= (-1.7111414376455318+0j) E_f= -2.0153150826093507\n",
      "k= 320 c_k= 0.22330733213696138 a_k= 0.12461621740936157 g= -0.8067573783120714 E_A= (-1.776419824704369+0j) E_B= (-1.416110149039013+0j) E_f= -1.9975097848264138\n",
      "k= 321 c_k= 0.22323719056187072 a_k= 0.1245406811000959 g= -0.18803562161525916 E_A= (-1.7225183766213459+0j) E_B= (-1.638565288831455+0j) E_f= -1.9992641934113247\n",
      "k= 322 c_k= 0.22316728840972688 a_k= 0.12446541754817071 g= 0.05472452570569025 E_A= (-1.6855555434774863+0j) E_B= (-1.7099809914999808+0j) E_f= -1.9998150587083299\n",
      "k= 323 c_k= 0.2230976241258151 a_k= 0.12439042495400822 g= -0.14096309419371128 E_A= (-1.585128495586351+0j) E_B= (-1.52223143277827+0j) E_f= -1.9985176006282988\n",
      "k= 324 c_k= 0.22302819617027564 a_k= 0.12431570153524653 g= -0.21333791753528425 E_A= (-1.6858580173234956+0j) E_B= (-1.5906972754782607+0j) E_f= -2.0007934887879033\n",
      "k= 325 c_k= 0.22295900301791655 a_k= 0.12424124552652419 g= -0.9298816637943539 E_A= (-1.8090687282110318+0j) E_B= (-1.3944177508425706+0j) E_f= -1.995751401020998\n",
      "k= 326 c_k= 0.22289004315802943 a_k= 0.12416705517926804 g= -0.0989434217573129 E_A= (-1.6229117450738413+0j) E_B= (-1.5788047379824601+0j) E_f= -1.9967305447940027\n",
      "k= 327 c_k= 0.22282131509420836 a_k= 0.12409312876148423 g= 1.0431631344083232 E_A= (-1.3416337573335468+0j) E_B= (-1.8065117202668648+0j) E_f= -1.9844923264580567\n",
      "k= 328 c_k= 0.22275281734417096 a_k= 0.12401946455755258 g= -0.2061180446706014 E_A= (-1.6665823041219943+0j) E_B= (-1.574755553810298+0j) E_f= -1.9853328036703455\n",
      "k= 329 c_k= 0.22268454843958294 a_k= 0.12394606086802402 g= -0.6156489865240685 E_A= (-1.6625243146858486+0j) E_B= (-1.3883332815630505+0j) E_f= -1.9676538403972552\n",
      "k= 330 c_k= 0.22261650692588505 a_k= 0.12387291600942109 g= 0.5133582307312283 E_A= (-1.415934396842144+0j) E_B= (-1.6444984290962212+0j) E_f= -1.9703812741275257\n",
      "k= 331 c_k= 0.22254869136212244 a_k= 0.12380002831404159 g= 0.41247975968633666 E_A= (-1.5995288495033748+0j) E_B= (-1.7831225109664888+0j) E_f= -1.974780791481286\n",
      "k= 332 c_k= 0.22248110032077717 a_k= 0.12372739612976506 g= 0.05685005640185005 E_A= (-1.5448401407960315+0j) E_B= (-1.5701362669991952+0j) E_f= -1.9745304324059059\n",
      "k= 333 c_k= 0.22241373238760287 a_k= 0.12365501781986239 g= 1.0777940791733716 E_A= (-1.3529587606422675+0j) E_B= (-1.8323911684306857+0j) E_f= -1.983134767799437\n",
      "k= 334 c_k= 0.22234658616146202 a_k= 0.12358289176280803 g= -0.1619445957312929 E_A= (-1.661063591952527+0j) E_B= (-1.5890479359362248+0j) E_f= -1.9881325483385952\n",
      "k= 335 c_k= 0.22227966025416593 a_k= 0.12351101635209528 g= -0.4754186789553989 E_A= (-1.7919889131903226+0j) E_B= (-1.5806371083169417+0j) E_f= -1.992697291707235\n",
      "k= 336 c_k= 0.22221295329031662 a_k= 0.1234393899960543 g= -0.45549059463750813 E_A= (-1.6426227228571362+0j) E_B= (-1.44019090239641+0j) E_f= -1.9875469840814337\n",
      "k= 337 c_k= 0.22214646390715176 a_k= 0.12336801111767266 g= -0.03071921917554234 E_A= (-1.557314364940824+0j) E_B= (-1.543666033113153+0j) E_f= -1.9876951329912171\n",
      "k= 338 c_k= 0.2220801907543914 a_k= 0.12329687815441878 g= -0.4037786394871041 E_A= (-1.6866287969733265+0j) E_B= (-1.507286322413637+0j) E_f= -1.9941709859561803\n",
      "k= 339 c_k= 0.2220141324940873 a_k= 0.12322598955806792 g= 0.6332102891152048 E_A= (-1.5026534598023054+0j) E_B= (-1.7838167258507902+0j) E_f= -2.0047976013155044\n",
      "k= 340 c_k= 0.22194828780047435 a_k= 0.12315534379453076 g= 0.05629837610640623 E_A= (-1.4684420924340014+0j) E_B= (-1.4934327487995294+0j) E_f= -2.0045191468168078\n",
      "k= 341 c_k= 0.2218826553598244 a_k= 0.12308493934368443 g= 0.059626516864953606 E_A= (-1.6583740879303264+0j) E_B= (-1.6848342677140329+0j) E_f= -2.0047600718704204\n",
      "k= 342 c_k= 0.22181723387030208 a_k= 0.12301477469920627 g= 0.6509259459274128 E_A= (-1.567726137385835+0j) E_B= (-1.8564993229458921+0j) E_f= -2.0356155504435667\n",
      "k= 343 c_k= 0.22175202204182284 a_k= 0.12294484836840965 g= 0.41945647432122307 E_A= (-1.6476607629428008+0j) E_B= (-1.8336914056213311+0j) E_f= -2.0411656447961715\n",
      "k= 344 c_k= 0.22168701859591308 a_k= 0.12287515887208261 g= 0.261002915837075 E_A= (-1.6748498112647099+0j) E_B= (-1.7905717277782323+0j) E_f= -2.0407865794980427\n",
      "k= 345 c_k= 0.22162222226557235 a_k= 0.12280570474432859 g= 0.7240456396052767 E_A= (-1.5596380543770239+0j) E_B= (-1.880567261719062+0j) E_f= -2.053966377959118\n",
      "k= 346 c_k= 0.2215576317951376 a_k= 0.12273648453240961 g= -0.4266346639598156 E_A= (-1.8231389741594408+0j) E_B= (-1.6340906425821387+0j) E_f= -2.0620052753846148\n",
      "k= 347 c_k= 0.22149324594014944 a_k= 0.1226674967965916 g= 0.4163391834749613 E_A= (-1.5140956731270647+0j) E_B= (-1.698528307446946+0j) E_f= -2.0525860023500075\n",
      "k= 348 c_k= 0.22142906346722022 a_k= 0.12259874010999215 g= -0.004552630264312844 E_A= (-1.7194858093424275+0j) E_B= (-1.7174696400309488+0j) E_f= -2.0525811058126493\n",
      "k= 349 c_k= 0.22136508315390419 a_k= 0.12253021305843032 g= 0.4758978718519597 E_A= (-1.582082776433987+0j) E_B= (-1.7927771203845373+0j) E_f= -2.056146528589226\n",
      "k= 350 c_k= 0.22130130378856946 a_k= 0.12246191424027869 g= 0.002866357877872614 E_A= (-1.6265685079538186+0j) E_B= (-1.6278371654248143+0j) E_f= -2.0561489712946317\n",
      "k= 351 c_k= 0.22123772417027196 a_k= 0.12239384226631751 g= -0.16051429394016223 E_A= (-1.7366510101290704+0j) E_B= (-1.6656273759528313+0j) E_f= -2.0548454513546512\n",
      "k= 352 c_k= 0.22117434310863096 a_k= 0.12232599575959095 g= 0.5964905603669092 E_A= (-1.6744931567820172+0j) E_B= (-1.9383499725013178+0j) E_f= -2.0709549141186563\n",
      "k= 353 c_k= 0.22111115942370668 a_k= 0.12225837335526538 g= 0.8916991451838129 E_A= (-1.5246619696018664+0j) E_B= (-1.9189912332993084+0j) E_f= -2.091214396738733\n",
      "k= 354 c_k= 0.2210481719458794 a_k= 0.12219097370048973 g= -0.2945392396650867 E_A= (-1.780602287190038+0j) E_B= (-1.6503875662014447+0j) E_f= -2.087403651820747\n",
      "k= 355 c_k= 0.22098537951573047 a_k= 0.12212379545425779 g= 0.969957249800453 E_A= (-1.389432666044602+0j) E_B= (-1.8181254079669764+0j) E_f= -2.0520316966783323\n",
      "k= 356 c_k= 0.22092278098392504 a_k= 0.12205683728727247 g= -0.5271154329622755 E_A= (-1.7617443272761113+0j) E_B= (-1.528840712576968+0j) E_f= -2.0593511644742373\n",
      "k= 357 c_k= 0.2208603752110963 a_k= 0.12199009788181196 g= -0.030741230817349138 E_A= (-1.7546322140675141+0j) E_B= (-1.7410531745219728+0j) E_f= -2.0595116015845383\n"
     ]
    },
    {
     "name": "stdout",
     "output_type": "stream",
     "text": [
      "k= 358 c_k= 0.22079816106773162 a_k= 0.12192357593159786 g= -0.04636566563125685 E_A= (-1.7440990754854246+0j) E_B= (-1.723624168069299+0j) E_f= -2.060125179249044\n",
      "k= 359 c_k= 0.22073613743405993 a_k= 0.12185727014166509 g= -0.538809706945865 E_A= (-1.7737591451303185+0j) E_B= (-1.5358895980839025+0j) E_f= -2.059765752243025\n",
      "k= 360 c_k= 0.22067430319994108 a_k= 0.12179117922823361 g= 0.4631647477620806 E_A= (-1.5349554447793372+0j) E_B= (-1.7393725607376844+0j) E_f= -2.0601967046268435\n",
      "k= 361 c_k= 0.2206126572647566 a_k= 0.12172530191858201 g= 0.003160715710406964 E_A= (-1.794298210694603+0j) E_B= (-1.7956927984780657+0j) E_f= -2.060199052047788\n",
      "k= 362 c_k= 0.2205511985373019 a_k= 0.12165963695092283 g= 0.15459495017047617 E_A= (-1.7407016770126325+0j) E_B= (-1.8088938801084584+0j) E_f= -2.060609887347144\n",
      "k= 363 c_k= 0.22048992593568012 a_k= 0.12159418307427958 g= -0.1806243680703701 E_A= (-1.8190235666055534+0j) E_B= (-1.7393718595295236+0j) E_f= -2.0618910533835235\n",
      "k= 364 c_k= 0.22042883838719754 a_k= 0.12152893904836551 g= -0.13315423672487578 E_A= (-1.6360617558667025+0j) E_B= (-1.577359688411506+0j) E_f= -2.0635765344250827\n",
      "k= 365 c_k= 0.2203679348282601 a_k= 0.12146390364346407 g= 0.023766106422531866 E_A= (-1.6991596778419704+0j) E_B= (-1.7096342534244544+0j) E_f= -2.0633157120314953\n",
      "k= 366 c_k= 0.22030721420427177 a_k= 0.12139907564031095 g= 0.16899296108797904 E_A= (-1.6940891392996384+0j) E_B= (-1.7685498762544856+0j) E_f= -2.0662582962213145\n",
      "k= 367 c_k= 0.22024667546953405 a_k= 0.12133445382997787 g= 0.15266615560711846 E_A= (-1.7341351130057538+0j) E_B= (-1.8013835394641187+0j) E_f= -2.066149918493141\n",
      "k= 368 c_k= 0.22018631758714713 a_k= 0.12127003701375781 g= -0.04328956668164001 E_A= (-1.7915090896363495+0j) E_B= (-1.7724455490812023+0j) E_f= -2.0662751859214996\n",
      "k= 369 c_k= 0.220126139528912 a_k= 0.12120582400305192 g= 0.0431559269161434 E_A= (-1.6945259035014688+0j) E_B= (-1.7135253986811538+0j) E_f= -2.0665065795597175\n",
      "k= 370 c_k= 0.22006614027523438 a_k= 0.12114181361925801 g= -0.4282146364304973 E_A= (-1.8523748227184873+0j) E_B= (-1.6639037382212427+0j) E_f= -2.0746972133716217\n",
      "k= 371 c_k= 0.2200063188150296 a_k= 0.12107800469366035 g= 0.47136769184492344 E_A= (-1.647613764909067+0j) E_B= (-1.8550215062913447+0j) E_f= -2.0800091514069616\n",
      "k= 372 c_k= 0.219946674145629 a_k= 0.12101439606732127 g= -0.8430623040922007 E_A= (-1.823077813420973+0j) E_B= (-1.4522203136557121+0j) E_f= -2.0673954583075718\n",
      "k= 373 c_k= 0.21988720527268746 a_k= 0.12095098659097403 g= 0.6560828099822786 E_A= (-1.6386940770887044+0j) E_B= (-1.9272225081176142+0j) E_f= -2.095972387413597\n",
      "k= 374 c_k= 0.2198279112100924 a_k= 0.12088777512491711 g= 0.09418923112444683 E_A= (-1.6665912555778069+0j) E_B= (-1.7080020994509504+0j) E_f= -2.09493043593284\n",
      "k= 375 c_k= 0.21976879097987378 a_k= 0.12082476053891006 g= -0.6128173301885067 E_A= (-2.0147266279889724+0j) E_B= (-1.745370380494888+0j) E_f= -2.1171126090368393\n",
      "k= 376 c_k= 0.2197098436121154 a_k= 0.12076194171207073 g= 0.06773337259277107 E_A= (-1.8538339060909348+0j) E_B= (-1.8835972834902925+0j) E_f= -2.117378918834148\n",
      "k= 377 c_k= 0.21965106814486746 a_k= 0.12069931753277376 g= 0.03378829386613806 E_A= (-1.6647087153245144+0j) E_B= (-1.6795519850014942+0j) E_f= -2.11710051880479\n",
      "k= 378 c_k= 0.2195924636240603 a_k= 0.12063688689855057 g= 0.10572181928190764 E_A= (-1.677517027949647+0j) E_B= (-1.7239484574595105+0j) E_f= -2.1168685801296565\n",
      "k= 379 c_k= 0.21953402910341913 a_k= 0.12057464871599056 g= -0.32623456652318394 E_A= (-1.8491727005750995+0j) E_B= (-1.7059335229318155+0j) E_f= -2.1195733789751783\n",
      "k= 380 c_k= 0.21947576364438018 a_k= 0.12051260190064375 g= 0.03817557618501469 E_A= (-1.6164009796322834+0j) E_B= (-1.633158207103824+0j) E_f= -2.1192438862574488\n",
      "k= 381 c_k= 0.21941766631600768 a_k= 0.12045074537692467 g= 0.10098744142001938 E_A= (-1.7305483472739278+0j) E_B= (-1.7748652047211382+0j) E_f= -2.118421179636876\n",
      "k= 382 c_k= 0.21935973619491225 a_k= 0.12038907807801738 g= -0.399038982673284 E_A= (-2.0318838103798313+0j) E_B= (-1.8568176384384358+0j) E_f= -2.1320883371900643\n",
      "k= 383 c_k= 0.21930197236517004 a_k= 0.12032759894578204 g= -0.17898278633561787 E_A= (-1.776034183817018+0j) E_B= (-1.6975316276913883+0j) E_f= -2.1323695134443135\n",
      "k= 384 c_k= 0.21924437391824317 a_k= 0.12026630693066238 g= 0.13974272077562178 E_A= (-1.8427681299610374+0j) E_B= (-1.9040437406132036+0j) E_f= -2.1313986076862084\n",
      "k= 385 c_k= 0.21918693995290123 a_k= 0.12020520099159471 g= -0.5990360002792761 E_A= (-1.8904769997094948+0j) E_B= (-1.6278752640638152+0j) E_f= -2.144528236987227\n",
      "k= 386 c_k= 0.2191296695751437 a_k= 0.12014428009591778 g= 0.4230748309847368 E_A= (-1.6650028982089025+0j) E_B= (-1.8504193940473928+0j) E_f= -2.1457269751348553\n",
      "k= 387 c_k= 0.21907256189812344 a_k= 0.1200835432192842 g= -0.4480135657418514 E_A= (-1.862565218196536+0j) E_B= (-1.6662702589721745+0j) E_f= -2.1489126105686127\n",
      "k= 388 c_k= 0.21901561604207126 a_k= 0.12002298934557264 g= -0.24475620231164621 E_A= (-1.7981794676480363+0j) E_B= (-1.6909686067892302+0j) E_f= -2.15207062748993\n",
      "k= 389 c_k= 0.21895883113422124 a_k= 0.11996261746680145 g= -0.13227315768853615 E_A= (-1.8733774971922916+0j) E_B= (-1.8154527451964628+0j) E_f= -2.151612728140837\n",
      "k= 390 c_k= 0.2189022063087374 a_k= 0.11990242658304331 g= 0.5070336050588702 E_A= (-1.7252519841827385+0j) E_B= (-1.947233533822858+0j) E_f= -2.1553243459332343\n",
      "k= 391 c_k= 0.218845740706641 a_k= 0.11984241570234087 g= -0.32041693405537935 E_A= (-1.8988977028339824+0j) E_B= (-1.7586539402973815+0j) E_f= -2.157042425806834\n",
      "k= 392 c_k= 0.21878943347573884 a_k= 0.11978258384062372 g= 0.5511725715709449 E_A= (-1.666459666424504+0j) E_B= (-1.9076411357872503+0j) E_f= -2.153362921251576\n",
      "k= 393 c_k= 0.21873328377055276 a_k= 0.11972293002162622 g= -0.20088826900818493 E_A= (-1.7846752476652061+0j) E_B= (-1.6967933461629212+0j) E_f= -2.154676435003558\n",
      "k= 394 c_k= 0.21867729075224962 a_k= 0.11966345327680644 g= -0.36993486796573194 E_A= (-1.7843923001389754+0j) E_B= (-1.6225995907759005+0j) E_f= -2.1513668968953206\n",
      "k= 395 c_k= 0.2186214535885725 a_k= 0.11960415264526625 g= 0.18578166518488654 E_A= (-1.723567269843295+0j) E_B= (-1.8047989852289457+0j) E_f= -2.149446475826303\n",
      "k= 396 c_k= 0.2185657714537727 a_k= 0.11954502717367226 g= -0.6066988617648114 E_A= (-2.0036631795493793+0j) E_B= (-1.7384559700258757+0j) E_f= -2.1626177128340234\n",
      "k= 397 c_k= 0.21851024352854267 a_k= 0.11948607591617788 g= 0.6219015113658749 E_A= (-1.61293333575874+0j) E_B= (-1.8847170371573922+0j) E_f= -2.1662607960405786\n",
      "k= 398 c_k= 0.2184548689999496 a_k= 0.11942729793434641 g= -0.5320704214596298 E_A= (-1.9068291574625627+0j) E_B= (-1.6743624090251399+0j) E_f= -2.174079620111863\n",
      "k= 399 c_k= 0.21839964706136994 a_k= 0.11936869229707489 g= 0.4154929952791713 E_A= (-1.6964413162063272+0j) E_B= (-1.8779283632572121+0j) E_f= -2.1711760024161135\n",
      "k= 400 c_k= 0.2183445769124251 a_k= 0.11931025808051922 g= 0.03666615602123902 E_A= (-1.6692877424758472+0j) E_B= (-1.685299455122772+0j) E_f= -2.171160681837059\n",
      "k= 401 c_k= 0.2182896577589173 a_k= 0.11925199436801995 g= -0.11403056351696561 E_A= (-1.8531963982034343+0j) E_B= (-1.8034130128350845+0j) E_f= -2.172166589728125\n",
      "k= 402 c_k= 0.21823488881276693 a_k= 0.1191939002500293 g= 0.381260161383553 E_A= (-1.7927579691420565+0j) E_B= (-1.959166506998611+0j) E_f= -2.1789508789031014\n",
      "k= 403 c_k= 0.2181802692919501 a_k= 0.11913597482403866 g= 0.24517897365609587 E_A= (-1.7072235876363528+0j) E_B= (-1.8142100166303747+0j) E_f= -2.176251934278714\n",
      "k= 404 c_k= 0.2181257984204375 a_k= 0.11907821719450758 g= -0.5954207530349187 E_A= (-1.9047060467290877+0j) E_B= (-1.6449527924254082+0j) E_f= -2.1783106117881843\n",
      "k= 405 c_k= 0.2180714754281335 a_k= 0.11902062647279299 g= 0.07989800988756518 E_A= (-1.8998249410967478+0j) E_B= (-1.9346718948966537+0j) E_f= -2.1773660808440827\n",
      "k= 406 c_k= 0.2180172995508166 a_k= 0.11896320177708 g= -0.566742339156852 E_A= (-2.0498450291514545+0j) E_B= (-1.8027257605032747+0j) E_f= -2.1860492482470684\n",
      "k= 407 c_k= 0.21796327003008015 a_k= 0.11890594223231293 g= 0.17516422340458124 E_A= (-1.8592681208147035+0j) E_B= (-1.9356268546657875+0j) E_f= -2.1887803866713065\n",
      "k= 408 c_k= 0.2179093861132739 a_k= 0.1188488469701276 g= 0.32158745984349674 E_A= (-1.694688675140438+0j) E_B= (-1.834842527052885+0j) E_f= -2.191738237440773\n"
     ]
    },
    {
     "name": "stdout",
     "output_type": "stream",
     "text": [
      "k= 409 c_k= 0.21785564705344662 a_k= 0.11879191512878434 g= 0.28884057765328947 E_A= (-1.8744972484646514+0j) E_B= (-2.0003483503445487+0j) E_f= -2.197705854173801\n",
      "k= 410 c_k= 0.2178020521092889 a_k= 0.11873514585310181 g= 0.02140260981976619 E_A= (-1.8021299038082619+0j) E_B= (-1.8114529684867409+0j) E_f= -2.197622563722602\n",
      "k= 411 c_k= 0.21774860054507708 a_k= 0.1186785382943916 g= -0.12907452774683287 E_A= (-1.8837578476375747+0j) E_B= (-1.8275462520717956+0j) E_f= -2.200764582509059\n",
      "k= 412 c_k= 0.21769529163061768 a_k= 0.11862209161039372 g= 0.4895178517058803 E_A= (-1.7243587496360964+0j) E_B= (-1.9374902126071065+0j) E_f= -2.2089781454391506\n",
      "k= 413 c_k= 0.21764212464119265 a_k= 0.1185658049652129 g= -0.04272011570429918 E_A= (-1.768246804126722+0j) E_B= (-1.7496514106331196+0j) E_f= -2.208845365896315\n",
      "k= 414 c_k= 0.217589098857505 a_k= 0.11850967752925558 g= -0.7733197708647079 E_A= (-1.9177807591859506+0j) E_B= (-1.5812488550436625+0j) E_f= -2.1908797694965716\n",
      "k= 415 c_k= 0.2175362135656255 a_k= 0.11845370847916763 g= -0.37628933119722824 E_A= (-1.8893941420642222+0j) E_B= (-1.725681029436649+0j) E_f= -2.1931285595468366\n",
      "k= 416 c_k= 0.21748346805693974 a_k= 0.11839789699777299 g= -0.38313847454594036 E_A= (-1.913828463533449+0j) E_B= (-1.7471758951528558+0j) E_f= -2.195941502079306\n",
      "k= 417 c_k= 0.217430861628096 a_k= 0.11834224227401302 g= 0.9826582746885517 E_A= (-1.592521872494928+0j) E_B= (-2.019842343197948+0j) E_f= -2.205207910185994\n",
      "k= 418 c_k= 0.2173783935809535 a_k= 0.11828674350288641 g= -0.09965094925952686 E_A= (-1.9277911981670295+0j) E_B= (-1.8844672716293234+0j) E_f= -2.204923863513862\n",
      "k= 419 c_k= 0.21732606322253178 a_k= 0.11823139988539004 g= 0.41226618781330937 E_A= (-1.7663963212374005+0j) E_B= (-1.9455886964318554+0j) E_f= -2.2063152335404763\n",
      "k= 420 c_k= 0.21727386986496003 a_k= 0.11817621062846041 g= -0.19550143480702237 E_A= (-1.927110127504885+0j) E_B= (-1.842155420895537+0j) E_f= -2.2090803185477745\n",
      "k= 421 c_k= 0.21722181282542763 a_k= 0.11812117494491588 g= -0.03925231691495479 E_A= (-1.8534394949367492+0j) E_B= (-1.8363865760610198+0j) E_f= -2.209386717633396\n",
      "k= 422 c_k= 0.217169891426135 a_k= 0.11806629205339948 g= -0.7253024191243217 E_A= (-2.0815106700631554+0j) E_B= (-1.7664829748384714+0j) E_f= -2.2299861305895865\n",
      "k= 423 c_k= 0.21711810499424491 a_k= 0.11801156117832255 g= 0.18808193938435974 E_A= (-1.916725169338376+0j) E_B= (-1.9983971578639252+0j) E_f= -2.228817623312751\n",
      "k= 424 c_k= 0.21706645286183476 a_k= 0.11795698154980892 g= -0.7513200534705594 E_A= (-2.094396793988814+0j) E_B= (-1.7682240360471773+0j) E_f= -2.244732176758238\n",
      "k= 425 c_k= 0.2170149343658492 a_k= 0.1179025524036399 g= -0.0771216450841175 E_A= (-1.8543719455254897+0j) E_B= (-1.8208988480332575+0j) E_f= -2.245280854454162\n",
      "k= 426 c_k= 0.21696354884805308 a_k= 0.1178482729811997 g= 0.5297372356274833 E_A= (-1.8495039535943447+0j) E_B= (-2.079371294791737+0j) E_f= -2.2589320679606484\n",
      "k= 427 c_k= 0.21691229565498554 a_k= 0.11779414252942182 g= 0.17648198224709274 E_A= (-1.8515218184051863+0j) E_B= (-1.9280840422271048+0j) E_f= -2.2590416844283476\n",
      "k= 428 c_k= 0.2168611741379142 a_k= 0.11774016030073574 g= 0.2996161295680862 E_A= (-1.9331259267024454+0j) E_B= (-2.0630761380000306+0j) E_f= -2.2643195391803084\n",
      "k= 429 c_k= 0.21681018365278987 a_k= 0.1176863255530145 g= -0.22106066605112276 E_A= (-1.9666950707457698+0j) E_B= (-1.8708386635358658+0j) E_f= -2.2669622570583856\n",
      "k= 430 c_k= 0.2167593235602022 a_k= 0.11763263754952277 g= -0.28416262401286463 E_A= (-1.9689586703610353+0j) E_B= (-1.8457688740367941+0j) E_f= -2.2691912094466766\n",
      "k= 431 c_k= 0.21670859322533542 a_k= 0.11757909555886552 g= -0.1572276530318731 E_A= (-1.9007545583193022+0j) E_B= (-1.8326093913099855+0j) E_f= -2.2698061581826363\n",
      "k= 432 c_k= 0.21665799201792482 a_k= 0.11752569885493738 g= 0.07309162036708615 E_A= (-1.732705351019987+0j) E_B= (-1.7643771184241257+0j) E_f= -2.27109132257172\n",
      "k= 433 c_k= 0.21660751931221373 a_k= 0.11747244671687254 g= 0.2859264280321366 E_A= (-1.8229259095648036+0j) E_B= (-1.9467935381284902+0j) E_f= -2.268920608698882\n",
      "k= 434 c_k= 0.21655717448691097 a_k= 0.11741933842899523 g= -0.08711033472429038 E_A= (-1.948395352757906+0j) E_B= (-1.9106666168449034+0j) E_f= -2.268417238366081\n",
      "k= 435 c_k= 0.21650695692514868 a_k= 0.11736637328077075 g= 0.08633130180459607 E_A= (-1.8554065833156346+0j) E_B= (-1.892789238197834+0j) E_f= -2.2688983514900607\n",
      "k= 436 c_k= 0.21645686601444106 a_k= 0.11731355056675721 g= 0.31573868661545157 E_A= (-1.8560099864753064+0j) E_B= (-1.9926975996438991+0j) E_f= -2.2677640047069882\n",
      "k= 437 c_k= 0.21640690114664293 a_k= 0.11726086958655767 g= -0.03856668704903043 E_A= (-1.9278862569397877+0j) E_B= (-1.9111940624762416+0j) E_f= -2.267176540125053\n",
      "k= 438 c_k= 0.2163570617179095 a_k= 0.1172083296447728 g= -0.3101121911602275 E_A= (-2.0064522363040402+0j) E_B= (-1.8722623113393813+0j) E_f= -2.2721520656600465\n",
      "k= 439 c_k= 0.2163073471286559 a_k= 0.1171559300509544 g= -0.2660623849107746 E_A= (-2.0272662350099484+0j) E_B= (-1.9121637377084024+0j) E_f= -2.2721951761657935\n",
      "k= 440 c_k= 0.21625775678351783 a_k= 0.11710367011955905 g= -0.16776912816118808 E_A= (-2.0182846813956434+0j) E_B= (-1.9457219307683133+0j) E_f= -2.2713209567258064\n",
      "k= 441 c_k= 0.21620829009131218 a_k= 0.11705154916990257 g= 0.1652036617783701 E_A= (-1.73509333964583+0j) E_B= (-1.8065301421056796+0j) E_f= -2.2712855152739384\n",
      "k= 442 c_k= 0.2161589464649983 a_k= 0.11699956652611491 g= -0.40019209328009153 E_A= (-1.9428709230484333+0j) E_B= (-1.7698607205143395+0j) E_f= -2.266249699989137\n",
      "k= 443 c_k= 0.2161097253216398 a_k= 0.11694772151709555 g= 0.43968820032995604 E_A= (-1.7517098993527274+0j) E_B= (-1.9417516917536732+0j) E_f= -2.2614573536782814\n",
      "k= 444 c_k= 0.21606062608236656 a_k= 0.11689601347646941 g= 0.1465509065641978 E_A= (-1.889809408535427+0j) E_B= (-1.9531371697858249+0j) E_f= -2.2615840513300602\n",
      "k= 445 c_k= 0.21601164817233734 a_k= 0.11684444174254331 g= -0.20438212168651293 E_A= (-1.9882601426211028+0j) E_B= (-1.899962304696177+0j) E_f= -2.262513661906915\n",
      "k= 446 c_k= 0.2159627910207029 a_k= 0.1167930056582629 g= -0.042090903321364545 E_A= (-1.9094691323920012+0j) E_B= (-1.8912889944762723+0j) E_f= -2.2626118522664385\n",
      "k= 447 c_k= 0.21591405406056924 a_k= 0.11674170457117002 g= 0.018496006425590992 E_A= (-1.8938921869382805+0j) E_B= (-1.90187928240084+0j) E_f= -2.262763642689726\n",
      "k= 448 c_k= 0.21586543672896158 a_k= 0.11669053783336061 g= 0.024125605787150835 E_A= (-1.7940982783904345+0j) E_B= (-1.8045140472496226+0j) E_f= -2.2631096274962803\n",
      "k= 449 c_k= 0.21581693846678845 a_k= 0.1166395048014432 g= -0.0489216271427105 E_A= (-1.896654370626096+0j) E_B= (-1.875538139036589+0j) E_f= -2.2630574641162706\n",
      "k= 450 c_k= 0.21576855871880654 a_k= 0.11658860483649754 g= 0.4003073655942421 E_A= (-1.7982524036281575+0j) E_B= (-1.9709998902657415+0j) E_f= -2.266232152758891\n",
      "k= 451 c_k= 0.2157202969335856 a_k= 0.11653783730403407 g= 0.1206841469329272 E_A= (-1.8976899948052532+0j) E_B= (-1.9497580348283483+0j) E_f= -2.2672927747153557\n",
      "k= 452 c_k= 0.21567215256347394 a_k= 0.11648720157395365 g= 0.012935274458717146 E_A= (-1.8173014776283856+0j) E_B= (-1.8228810346014073+0j) E_f= -2.2673438960246743\n",
      "k= 453 c_k= 0.2156241250645643 a_k= 0.11643669702050774 g= -0.41543448239681147 E_A= (-1.907523572283102+0j) E_B= (-1.7283681787061769+0j) E_f= -2.265090137158545\n",
      "k= 454 c_k= 0.21557621389665993 a_k= 0.11638632302225908 g= -0.1957578822428451 E_A= (-1.9690271199382416+0j) E_B= (-1.8846256337495602+0j) E_f= -2.2679809465594314\n",
      "k= 455 c_k= 0.21552841852324142 a_k= 0.1163360789620428 g= -0.4017822587115201 E_A= (-2.007762979438968+0j) E_B= (-1.8345719898173887+0j) E_f= -2.2697835176773595\n",
      "k= 456 c_k= 0.21548073841143345 a_k= 0.11628596422692798 g= -0.009275737004081954 E_A= (-1.8289238739356866+0j) E_B= (-1.8249263886177869+0j) E_f= -2.269837244569704\n",
      "k= 457 c_k= 0.2154331730319722 a_k= 0.11623597820817949 g= -0.041026570972539235 E_A= (-1.9137493256069682+0j) E_B= (-1.8960723568804971+0j) E_f= -2.2697861653206552\n",
      "k= 458 c_k= 0.21538572185917312 a_k= 0.11618612030122055 g= -0.03414946499847934 E_A= (-1.8310180342915245+0j) E_B= (-1.8163074199519205+0j) E_f= -2.2699335746016214\n"
     ]
    },
    {
     "name": "stdout",
     "output_type": "stream",
     "text": [
      "k= 459 c_k= 0.2153383843708989 a_k= 0.1161363899055954 g= -0.06907880496132812 E_A= (-1.94511791949759+0j) E_B= (-1.9153672829883004+0j) E_f= -2.2697653515926595\n",
      "k= 460 c_k= 0.21529116004852789 a_k= 0.11608678642493254 g= 0.2868593989485405 E_A= (-1.9512903371336048+0j) E_B= (-2.0748069226745143+0j) E_f= -2.276274074500177\n",
      "k= 461 c_k= 0.2152440483769229 a_k= 0.11603730926690842 g= -0.052942141942132696 E_A= (-1.9386115552545644+0j) E_B= (-1.9158205933318238+0j) E_f= -2.276591127733115\n",
      "k= 462 c_k= 0.21519704884440038 a_k= 0.11598795784321132 g= 0.19249496882332137 E_A= (-1.8378364277180688+0j) E_B= (-1.920685126134416+0j) E_f= -2.279256366805724\n",
      "k= 463 c_k= 0.21515016094269962 a_k= 0.11593873156950592 g= -0.13052103426345182 E_A= (-1.9863590890647391+0j) E_B= (-1.9301958460083606+0j) E_f= -2.281017840560758\n",
      "k= 464 c_k= 0.21510338416695282 a_k= 0.11588962986539796 g= -0.49311841079127894 E_A= (-1.9409525434611026+0j) E_B= (-1.7288096655486351+0j) E_f= -2.2785969681303917\n",
      "k= 465 c_k= 0.215056718015655 a_k= 0.11584065215439954 g= 0.22180449794600282 E_A= (-2.0076199577051637+0j) E_B= (-2.1030210524439186+0j) E_f= -2.2811268844017096\n",
      "k= 466 c_k= 0.21501016199063455 a_k= 0.11579179786389458 g= 0.018478660797388424 E_A= (-1.8681298204558807+0j) E_B= (-1.8760760201587137+0j) E_f= -2.281018880360028\n",
      "k= 467 c_k= 0.214963715597024 a_k= 0.11574306642510493 g= -0.0593209012671434 E_A= (-1.950059047260159+0j) E_B= (-1.9245553645622604+0j) E_f= -2.280689114718098\n",
      "k= 468 c_k= 0.21491737834323096 a_k= 0.11569445727305644 g= -0.5786045769165935 E_A= (-1.9614624670874972+0j) E_B= (-1.71275810955088+0j) E_f= -2.2823672366543724\n",
      "k= 469 c_k= 0.21487114974090968 a_k= 0.1156459698465459 g= -0.5524607833222797 E_A= (-1.9818824806210937+0j) E_B= (-1.7444667132226501+0j) E_f= -2.278881786818158\n",
      "k= 470 c_k= 0.2148250293049327 a_k= 0.11559760358810786 g= 0.12882825782135 E_A= (-1.9257657739321474+0j) E_B= (-1.9811168424556973+0j) E_f= -2.2810881006994963\n",
      "k= 471 c_k= 0.21477901655336276 a_k= 0.11554935794398218 g= 0.6034637016866271 E_A= (-1.879151101938895+0j) E_B= (-2.138373782686706+0j) E_f= -2.2897324020827607\n",
      "k= 472 c_k= 0.21473311100742531 a_k= 0.11550123236408166 g= -0.06055877456801348 E_A= (-2.0950060471455134+0j) E_B= (-2.0689980990219397+0j) E_f= -2.2896958428567773\n",
      "k= 473 c_k= 0.21468731219148093 a_k= 0.11545322630196021 g= -0.3253068607512541 E_A= (-1.9068665435590069+0j) E_B= (-1.7671880324147367+0j) E_f= -2.28463536236857\n",
      "k= 474 c_k= 0.21464161963299838 a_k= 0.1154053392147813 g= -0.19946901664222935 E_A= (-2.0395224067192466+0j) E_B= (-1.9538937011218673+0j) E_f= -2.284393112635647\n",
      "k= 475 c_k= 0.21459603286252774 a_k= 0.11535757056328663 g= 0.27084224769193205 E_A= (-1.8198248540786164+0j) E_B= (-1.9360681978511338+0j) E_f= -2.282394704598615\n",
      "k= 476 c_k= 0.21455055141367382 a_k= 0.11530991981176536 g= -0.44015547522887044 E_A= (-1.9206067432788265+0j) E_B= (-1.731735543442623+0j) E_f= -2.2763333255168154\n",
      "k= 477 c_k= 0.21450517482307005 a_k= 0.11526238642802342 g= -0.43932612827777295 E_A= (-2.027087242747072+0j) E_B= (-1.8386117868459397+0j) E_f= -2.2783049808930738\n",
      "k= 478 c_k= 0.21445990263035244 a_k= 0.1152149698833534 g= 0.2412127580517315 E_A= (-1.741104146499795+0j) E_B= (-1.8445650757097412+0j) E_f= -2.2779003682992327\n",
      "k= 479 c_k= 0.21441473437813402 a_k= 0.11516766965250458 g= 0.37249259314386507 E_A= (-1.7940694318813826+0j) E_B= (-1.953805232714911+0j) E_f= -2.274709067245318\n",
      "k= 480 c_k= 0.21436966961197923 a_k= 0.11512048521365327 g= -0.6943194542546984 E_A= (-1.9764955371773563+0j) E_B= (-1.6788134731498574+0j) E_f= -2.2649392329283677\n",
      "k= 481 c_k= 0.21432470788037897 a_k= 0.11507341604837362 g= 0.42940033010758466 E_A= (-1.7831012720026433+0j) E_B= (-1.967163472630736+0j) E_f= -2.2633752010832415\n",
      "k= 482 c_k= 0.21427984873472566 a_k= 0.1150264616416086 g= -0.6748776969087902 E_A= (-1.9834887334429716+0j) E_B= (-1.6942633518268604+0j) E_f= -2.2552372858295984\n",
      "k= 483 c_k= 0.21423509172928862 a_k= 0.11497962148164131 g= -0.23767570546138703 E_A= (-2.017712102059352+0j) E_B= (-1.9158751489366648+0j) E_f= -2.2554200251117136\n",
      "k= 484 c_k= 0.21419043642118973 a_k= 0.11493289506006668 g= 0.12670118211022838 E_A= (-1.9092216670338695+0j) E_B= (-1.9634980300164104+0j) E_f= -2.255629095568913\n",
      "k= 485 c_k= 0.2141458823703794 a_k= 0.11488628187176325 g= -0.4758465046838343 E_A= (-1.7805542740051568+0j) E_B= (-1.5767531347683956+0j) E_f= -2.246555771733845\n",
      "k= 486 c_k= 0.2141014291396126 a_k= 0.11483978141486556 g= 0.34313428160714515 E_A= (-1.7793395436719202+0j) E_B= (-1.9262706238296883+0j) E_f= -2.242514513370492\n",
      "k= 487 c_k= 0.2140570762944254 a_k= 0.11479339319073659 g= -0.6686824631856849 E_A= (-1.9157261076260306+0j) E_B= (-1.6294536815482656+0j) E_f= -2.250529764806974\n",
      "k= 488 c_k= 0.21401282340311154 a_k= 0.11474711670394054 g= -0.17083556706379957 E_A= (-1.9352100843141895+0j) E_B= (-1.8620880802241988+0j) E_f= -2.2496753124110844\n",
      "k= 489 c_k= 0.2139686700366993 a_k= 0.11470095146221593 g= 0.07913665636495897 E_A= (-1.9064323368488183+0j) E_B= (-1.9402978670759414+0j) E_f= -2.2501119118407207\n",
      "k= 490 c_k= 0.21392461576892882 a_k= 0.11465489697644894 g= -0.3887891434896912 E_A= (-1.8296476777090143+0j) E_B= (-1.663304541436688+0j) E_f= -2.247047311569619\n",
      "k= 491 c_k= 0.21388066017622928 a_k= 0.11460895276064716 g= 0.22853741161506116 E_A= (-1.7915847953754631+0j) E_B= (-1.889344260317855+0j) E_f= -2.246713536733254\n",
      "k= 492 c_k= 0.21383680283769652 a_k= 0.11456311833191327 g= 1.0815345496972897 E_A= (-1.4319206083046918+0j) E_B= (-1.8944643888362442+0j) E_f= -2.176367948857841\n",
      "k= 493 c_k= 0.21379304333507107 a_k= 0.11451739321041944 g= -0.10536499669020317 E_A= (-1.9262543045492544+0j) E_B= (-1.881201697942478+0j) E_f= -2.176443637240036\n",
      "k= 494 c_k= 0.213749381252716 a_k= 0.11447177691938172 g= 0.3217553319099885 E_A= (-1.833835809770953+0j) E_B= (-1.9713858159919977+0j) E_f= -2.175406274456999\n",
      "k= 495 c_k= 0.21370581617759538 a_k= 0.11442626898503466 g= -0.6172355068610068 E_A= (-1.8794887560664109+0j) E_B= (-1.6156751205313644+0j) E_f= -2.1731634971725766\n",
      "k= 496 c_k= 0.2136623476992526 a_k= 0.1143808689366064 g= -1.2453946378484906 E_A= (-2.082900922915623+0j) E_B= (-1.550713038646085+0j) E_f= -2.1904826723188386\n",
      "k= 497 c_k= 0.21361897540978944 a_k= 0.11433557630629378 g= 0.45894745342405185 E_A= (-1.7508909557981491+0j) E_B= (-1.9469707253329052+0j) E_f= -2.199678205600316\n",
      "k= 498 c_k= 0.2135756989038446 a_k= 0.1142903906292379 g= 0.18589266579218283 E_A= (-1.9377761099992075+0j) E_B= (-2.017180422034536+0j) E_f= -2.201556814254337\n",
      "k= 499 c_k= 0.21353251777857327 a_k= 0.11424531144349985 g= -0.2860470103370819 E_A= (-1.8638759814358332+0j) E_B= (-1.7417153047952119+0j) E_f= -2.2061402179968073\n"
     ]
    }
   ],
   "source": [
    "out = SPSA(500,hold=True)"
   ]
  },
  {
   "cell_type": "code",
   "execution_count": 29,
   "metadata": {},
   "outputs": [
    {
     "data": {
      "text/plain": [
       "[<matplotlib.lines.Line2D at 0x1ef57168fd0>]"
      ]
     },
     "execution_count": 29,
     "metadata": {},
     "output_type": "execute_result"
    },
    {
     "data": {
      "image/png": "[encoded data removed]",
      "text/plain": [
       "<Figure size 432x288 with 1 Axes>"
      ]
     },
     "metadata": {
      "needs_background": "light"
     },
     "output_type": "display_data"
    }
   ],
   "source": [
    "import matplotlib.pyplot as plt\n",
    "\n",
    "El = [out[i]['E'] for i in range(len(out))]\n",
    "tl = [i for i in range(len(El))]\n",
    "\n",
    "plt.plot(tl,El)"
   ]
  },
  {
   "cell_type": "code",
   "execution_count": 135,
   "metadata": {},
   "outputs": [
    {
     "data": {
      "text/plain": [
       "(-1.9823161057295846+0j)"
      ]
     },
     "execution_count": 135,
     "metadata": {},
     "output_type": "execute_result"
    }
   ],
   "source": [
    "phi_f = out[len(out)-1]['phi']\n",
    "\n",
    "E_From_Matrix(phi_f,blocks)"
   ]
  },
  {
   "cell_type": "code",
   "execution_count": 136,
   "metadata": {},
   "outputs": [
    {
     "data": {
      "text/plain": [
       "array([-3.34084762e+00+0.00000000e+00j, -3.29295138e+00+0.00000000e+00j,\n",
       "       -2.86387634e+00+0.00000000e+00j, -2.78526086e+00+0.00000000e+00j,\n",
       "       -1.56155281e+00+0.00000000e+00j, -1.56155281e+00+0.00000000e+00j,\n",
       "       -1.00000000e+00+0.00000000e+00j, -1.00000000e+00+0.00000000e+00j,\n",
       "       -1.00000000e+00+0.00000000e+00j, -1.00000000e+00+0.00000000e+00j,\n",
       "       -5.61552813e-01+0.00000000e+00j, -5.61552813e-01+0.00000000e+00j,\n",
       "        7.31507328e-16+0.00000000e+00j,  5.07690516e-01+0.00000000e+00j,\n",
       "        5.23028722e-01+0.00000000e+00j,  1.00000000e+00+0.00000000e+00j,\n",
       "        1.00000000e+00+0.00000000e+00j,  1.00000000e+00+0.00000000e+00j,\n",
       "        1.00000000e+00+0.00000000e+00j,  1.00000000e+00-1.27192026e-16j,\n",
       "        1.00000000e+00+1.27192026e-16j,  1.47697128e+00+0.00000000e+00j,\n",
       "        1.49230948e+00+0.00000000e+00j,  2.00000000e+00+0.00000000e+00j,\n",
       "        2.56155281e+00+0.00000000e+00j,  2.56155281e+00+0.00000000e+00j,\n",
       "        3.00000000e+00+0.00000000e+00j,  3.00000000e+00+0.00000000e+00j,\n",
       "        3.00000000e+00+0.00000000e+00j,  3.00000000e+00+0.00000000e+00j,\n",
       "        3.56155281e+00+0.00000000e+00j,  3.56155281e+00+0.00000000e+00j,\n",
       "        4.78526086e+00+0.00000000e+00j,  4.86387634e+00+0.00000000e+00j,\n",
       "        5.29295138e+00+0.00000000e+00j,  5.34084762e+00+0.00000000e+00j])"
      ]
     },
     "execution_count": 136,
     "metadata": {},
     "output_type": "execute_result"
    }
   ],
   "source": [
    "np.sort(e)"
   ]
  },
  {
   "cell_type": "code",
   "execution_count": 139,
   "metadata": {},
   "outputs": [],
   "source": [
    "import pickle\n",
    "\n",
    "file_to_store = open(\"VQE_Example.pickle\", \"wb\")\n",
    "\n",
    "pickle.dump(out, file_to_store)"
   ]
  },
  {
   "cell_type": "code",
   "execution_count": 1,
   "metadata": {},
   "outputs": [],
   "source": [
    "import pickle\n",
    "\n",
    "file_to_read = open(\"VQE_Example.pickle\", \"rb\")\n",
    "\n",
    "loaded_object = pickle.load(file_to_read)"
   ]
  },
  {
   "cell_type": "code",
   "execution_count": 2,
   "metadata": {},
   "outputs": [
    {
     "data": {
      "text/plain": [
       "[<matplotlib.lines.Line2D at 0x11cff5f3a00>]"
      ]
     },
     "execution_count": 2,
     "metadata": {},
     "output_type": "execute_result"
    },
    {
     "data": {
      "image/png": "[encoded data removed]",
      "text/plain": [
       "<Figure size 432x288 with 1 Axes>"
      ]
     },
     "metadata": {
      "needs_background": "light"
     },
     "output_type": "display_data"
    }
   ],
   "source": [
    "import matplotlib.pyplot as plt\n",
    "\n",
    "El = [loaded_object[i]['E'] for i in range(len(loaded_object))]\n",
    "tl = [i for i in range(len(El))]\n",
    "\n",
    "plt.plot(tl,El)"
   ]
  },
  {
   "cell_type": "code",
   "execution_count": 5,
   "metadata": {},
   "outputs": [
    {
     "data": {
      "text/plain": [
       "array([[[ 1, -1, -1]],\n",
       "\n",
       "       [[-1,  1,  1]],\n",
       "\n",
       "       [[ 1, -1, -1]],\n",
       "\n",
       "       [[ 1, -1,  1]],\n",
       "\n",
       "       [[-1, -1,  1]],\n",
       "\n",
       "       [[ 1, -1,  1]]])"
      ]
     },
     "execution_count": 5,
     "metadata": {},
     "output_type": "execute_result"
    }
   ],
   "source": [
    "loaded_object[0]['Delta']"
   ]
  },
  {
   "cell_type": "code",
   "execution_count": null,
   "metadata": {},
   "outputs": [],
   "source": []
  }
 ],
 "metadata": {
  "kernelspec": {
   "display_name": "Python [conda env:qiskit_25v]",
   "language": "python",
   "name": "conda-env-qiskit_25v-py"
  },
  "language_info": {
   "codemirror_mode": {
    "name": "ipython",
    "version": 3
   },
   "file_extension": ".py",
   "mimetype": "text/x-python",
   "name": "python",
   "nbconvert_exporter": "python",
   "pygments_lexer": "ipython3",
   "version": "3.9.4"
  }
 },
 "nbformat": 4,
 "nbformat_minor": 4
}
