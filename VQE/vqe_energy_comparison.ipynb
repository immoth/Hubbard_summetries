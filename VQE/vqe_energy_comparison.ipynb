{
 "cells": [
  {
   "cell_type": "code",
   "execution_count": 1,
   "metadata": {},
   "outputs": [],
   "source": [
    "import pickle\n",
    "\n",
    "file_to_read = open(\"VQE_Example.pickle\", \"rb\")\n",
    "\n",
    "loaded_object = pickle.load(file_to_read)"
   ]
  },
  {
   "cell_type": "code",
   "execution_count": 2,
   "metadata": {},
   "outputs": [
    {
     "data": {
      "text/plain": [
       "[<matplotlib.lines.Line2D at 0x1e6a3133a00>]"
      ]
     },
     "execution_count": 2,
     "metadata": {},
     "output_type": "execute_result"
    },
    {
     "data": {
      "image/png": "[encoded data removed]",
      "text/plain": [
       "<Figure size 432x288 with 1 Axes>"
      ]
     },
     "metadata": {
      "needs_background": "light"
     },
     "output_type": "display_data"
    }
   ],
   "source": [
    "import matplotlib.pyplot as plt\n",
    "\n",
    "El = [loaded_object[i]['E'] for i in range(len(loaded_object))]\n",
    "tl = [i for i in range(len(El))]\n",
    "\n",
    "plt.plot(tl,El)"
   ]
  },
  {
   "cell_type": "code",
   "execution_count": 16,
   "metadata": {},
   "outputs": [],
   "source": [
    "phi_K = [loaded_object[i]['phi'] for i in range(len(loaded_object))]\n",
    "Delta_K = [loaded_object[i]['Delta'] for i in range(len(loaded_object))]"
   ]
  },
  {
   "cell_type": "code",
   "execution_count": 3,
   "metadata": {},
   "outputs": [],
   "source": [
    "import numpy as np \n",
    "\n",
    "H = np.load('Hamiltonian_Example.npy')"
   ]
  },
  {
   "cell_type": "code",
   "execution_count": 4,
   "metadata": {},
   "outputs": [
    {
     "data": {
      "text/plain": [
       "array([-3.34084762e+00+0.00000000e+00j, -3.29295138e+00+0.00000000e+00j,\n",
       "       -2.86387634e+00+0.00000000e+00j, -2.78526086e+00+0.00000000e+00j,\n",
       "       -1.56155281e+00+0.00000000e+00j, -1.56155281e+00+0.00000000e+00j,\n",
       "       -1.00000000e+00+0.00000000e+00j, -1.00000000e+00+0.00000000e+00j,\n",
       "       -1.00000000e+00+0.00000000e+00j, -1.00000000e+00+0.00000000e+00j,\n",
       "       -5.61552813e-01+0.00000000e+00j, -5.61552813e-01+0.00000000e+00j,\n",
       "        7.31507328e-16+0.00000000e+00j,  5.07690516e-01+0.00000000e+00j,\n",
       "        5.23028722e-01+0.00000000e+00j,  1.00000000e+00+0.00000000e+00j,\n",
       "        1.00000000e+00+0.00000000e+00j,  1.00000000e+00+0.00000000e+00j,\n",
       "        1.00000000e+00+0.00000000e+00j,  1.00000000e+00-1.27192026e-16j,\n",
       "        1.00000000e+00+1.27192026e-16j,  1.47697128e+00+0.00000000e+00j,\n",
       "        1.49230948e+00+0.00000000e+00j,  2.00000000e+00+0.00000000e+00j,\n",
       "        2.56155281e+00+0.00000000e+00j,  2.56155281e+00+0.00000000e+00j,\n",
       "        3.00000000e+00+0.00000000e+00j,  3.00000000e+00+0.00000000e+00j,\n",
       "        3.00000000e+00+0.00000000e+00j,  3.00000000e+00+0.00000000e+00j,\n",
       "        3.56155281e+00+0.00000000e+00j,  3.56155281e+00+0.00000000e+00j,\n",
       "        4.78526086e+00+0.00000000e+00j,  4.86387634e+00+0.00000000e+00j,\n",
       "        5.29295138e+00+0.00000000e+00j,  5.34084762e+00+0.00000000e+00j])"
      ]
     },
     "execution_count": 4,
     "metadata": {},
     "output_type": "execute_result"
    }
   ],
   "source": [
    "e,y = np.linalg.eig(H)\n",
    "\n",
    "np.sort(e)"
   ]
  },
  {
   "cell_type": "code",
   "execution_count": 5,
   "metadata": {},
   "outputs": [],
   "source": [
    "from qiskit.opflow import (I, X, Y, Z)\n",
    "from qiskit.opflow.primitive_ops import MatrixOp\n",
    "\n",
    "# Function to add elements to a block so that it fits onto qubits\n",
    "def complete_diagonal(b11):\n",
    "    size = 2**np.ceil(np.log2(len(b11)))\n",
    "    for v in b11:\n",
    "        while len(v) < size:\n",
    "            v.append(0.0)\n",
    "    while len(b11) < size:\n",
    "        i = len(b11)\n",
    "        vnew = [0.0 for i in range(0,8)]\n",
    "        vnew[i] = 10\n",
    "        b11.append(vnew)\n",
    "    return b11\n",
    "\n",
    "def complete_off_diagonal(b11):\n",
    "    size = 2**np.ceil(np.log2(len(b11)))\n",
    "    for v in b11:\n",
    "        while len(v) < size:\n",
    "            v.append(0.0)\n",
    "    while len(b11) < size:\n",
    "        i = len(b11)\n",
    "        vnew = [0.0 for i in range(0,8)]\n",
    "        b11.append(vnew)\n",
    "    return b11\n",
    "\n"
   ]
  },
  {
   "cell_type": "code",
   "execution_count": 6,
   "metadata": {},
   "outputs": [],
   "source": [
    "import math\n",
    "N = 4\n",
    "S = 2\n",
    "bL = math.comb(4,2)\n",
    "\n",
    "blocks = {}\n",
    "for bi in range(bL):\n",
    "    for bj in range(bi,bL):\n",
    "        bij = [[H[i + bL*bi][j + bL*bj] for j in range(0,bL)] for i in range(0,bL)]\n",
    "        if np.amax(np.abs(bij)) > 10**(-5):\n",
    "            if bi == bj:\n",
    "                bij = complete_diagonal(bij)\n",
    "            else:\n",
    "                bij = complete_off_diagonal(bij)\n",
    "            bij_pauli = MatrixOp(bij).to_pauli_op()\n",
    "            blocks[str(bi) + ',' + str(bj)] = bij_pauli\n",
    "        "
   ]
  },
  {
   "cell_type": "code",
   "execution_count": 18,
   "metadata": {},
   "outputs": [],
   "source": [
    "from qiskit import QuantumCircuit, QuantumRegister,ClassicalRegister, execute\n",
    "\n",
    "\n",
    "# the number of qubits is given by the size of the blocks\n",
    "# note: the size of the blocks has already been adjusted to fit the qubits\n",
    "Q = int(np.log2(len(blocks['0,0'].to_matrix())))"
   ]
  },
  {
   "cell_type": "code",
   "execution_count": 19,
   "metadata": {},
   "outputs": [],
   "source": [
    "def Ui(cir_i,phi_i):  \n",
    "    \n",
    "    for q in range(0,Q):\n",
    "        cir_i.ry(phi_i[q],q)\n",
    "    for q in range(0,Q,4):\n",
    "        cir_i.cx(q,q+1)\n",
    "        if q + 3 < Q:\n",
    "            cir_i.cx(q+3,q+2)\n",
    "    for q in range(1,Q,4):\n",
    "        cir_i.cx(q,q+1)\n",
    "        if q + 3 < Q:\n",
    "            cir_i.cx(q+3,q+2)\n",
    "    \n",
    "    return cir_i\n",
    "\n",
    "def Ui_dagger(cir_i,phi_i):  \n",
    "    \n",
    "    for q in range(1,Q,4):\n",
    "        cir_i.cx(q,q+1)\n",
    "        if q + 3 < Q:\n",
    "            cir_i.cx(q+3,q+2)\n",
    "    for q in range(0,Q,4):\n",
    "        cir_i.cx(q,q+1)\n",
    "        if q + 3 < Q:\n",
    "            cir_i.cx(q+3,q+2)\n",
    "    for q in range(0,Q):\n",
    "        cir_i.ry(-phi_i[q],q)\n",
    "    \n",
    "    return cir_i"
   ]
  },
  {
   "cell_type": "code",
   "execution_count": 20,
   "metadata": {},
   "outputs": [],
   "source": [
    "def U(cir,phi_b):\n",
    "    T = len(phi_b)\n",
    "    for t in range(T):\n",
    "        cir = Ui(cir,phi_b[t])\n",
    "    return cir\n",
    "\n",
    "def U_dagger(cir,phi_b):\n",
    "    T = len(phi_b)\n",
    "    for t in range(T):\n",
    "        cir = Ui_dagger(cir,phi_b[T-1-t])\n",
    "    return cir"
   ]
  },
  {
   "cell_type": "code",
   "execution_count": 224,
   "metadata": {},
   "outputs": [],
   "source": [
    "import copy\n",
    "\n",
    "from qiskit import quantum_info as qi\n",
    "\n",
    "def bkt(psi2,h,psi1):\n",
    "    return np.dot(np.conjugate(psi2),np.dot(h,psi1))\n",
    "\n",
    "\n",
    "\n",
    "def E_From_Matrix(phi,blocks):\n",
    "    E = 0\n",
    "    E_keys = {}\n",
    "    for key in list(blocks.keys()):\n",
    "        qr = QuantumRegister(Q)\n",
    "        cr = ClassicalRegister(Q)\n",
    "        cir0 = QuantumCircuit(qr , cr)\n",
    "        a = int(key.split(',')[0])\n",
    "        b = int(key.split(',')[1])\n",
    "        w = 1\n",
    "        if a != b:\n",
    "            w = 2\n",
    "        cir = copy.deepcopy(cir0)\n",
    "        psi_1 = qi.Statevector.from_instruction(U(cir,phi[b])).data\n",
    "        h = blocks[key].to_matrix()\n",
    "        cir = copy.deepcopy(cir0)\n",
    "        psi_2 = qi.Statevector.from_instruction(U(cir,phi[a])).data\n",
    "        E_key = bkt(psi_2,h,psi_1)\n",
    "        E += w*E_key\n",
    "        E_keys[key] = w*E_key/bL\n",
    "    return E_keys, 'Result: ',E/bL\n",
    "            "
   ]
  },
  {
   "cell_type": "code",
   "execution_count": 225,
   "metadata": {},
   "outputs": [],
   "source": [
    "def E_Circs(phi,blocks):\n",
    "    cir_l = []\n",
    "    for key in list(blocks.keys()):\n",
    "        for p in blocks[key]:\n",
    "            qr = QuantumRegister(Q)\n",
    "            cr = ClassicalRegister(Q)\n",
    "            cir = QuantumCircuit(qr , cr)\n",
    "            a = int(key.split(',')[0])\n",
    "            b = int(key.split(',')[1])\n",
    "            w = p.coeff\n",
    "            if a != b:\n",
    "                w = 2*p.coeff\n",
    "            \n",
    "            cir = U(cir,phi[b])\n",
    "            p_cir = p.to_circuit()\n",
    "            cir = cir.compose(p_cir)\n",
    "            cir = U_dagger(cir,phi[a])\n",
    "            cir.measure(qr, cr)\n",
    "            \n",
    "            cir_l.append([w,cir,key])\n",
    "    \n",
    "    return cir_l\n",
    "            \n",
    "    \n",
    "from qiskit import Aer\n",
    "from qiskit.visualization import *\n",
    "from qiskit.providers.aer import QasmSimulator\n",
    "\n",
    "#get the simulator\n",
    "sim = Aer.get_backend(\"qasm_simulator\")\n",
    "#sim = QasmSimulator(method='statevector')\n",
    "\n",
    "def find_E(e_circs):\n",
    "    E = 0\n",
    "    E_key = {}\n",
    "    for p_circ in e_circs:\n",
    "        circ = p_circ[1]\n",
    "        w = p_circ[0]\n",
    "        r = execute(circ, backend = sim).result().get_counts()\n",
    "        r_keys = list(r.keys())\n",
    "        total = 0\n",
    "        for key in r_keys:\n",
    "            total += r[key]\n",
    "        if '000' in r:\n",
    "            num = r['000']/total\n",
    "        else:\n",
    "            num = 0\n",
    "        if p_circ[2] in E_key.keys():\n",
    "            E_key[p_circ[2]] += num*w/bL\n",
    "        else:\n",
    "            E_key[p_circ[2]] = num*w/bL\n",
    "        E += num*w\n",
    "\n",
    "    #Normalize\n",
    "    E = E/bL\n",
    "    \n",
    "    return E_key, 'Result: ', E\n",
    "        \n",
    "        "
   ]
  },
  {
   "cell_type": "code",
   "execution_count": 394,
   "metadata": {},
   "outputs": [
    {
     "data": {
      "text/plain": [
       "({'0,0': (0.15896773492559213+0j),\n",
       "  '0,1': (-0.22427681443620884+0j),\n",
       "  '0,4': (0.10416390790122859+0j),\n",
       "  '1,1': (-0.18513201816394934+0j),\n",
       "  '1,2': (-0.31817546101998023+0j),\n",
       "  '1,3': (-0.3074465374903439+0j),\n",
       "  '1,5': (-0.014420927824605873+0j),\n",
       "  '2,2': (-0.13754598795502254+0j),\n",
       "  '2,4': (-0.3023968106333942+0j),\n",
       "  '3,3': (-0.13318569716521664+0j),\n",
       "  '3,4': (-0.3156374269516054+0j),\n",
       "  '4,4': (-0.03496229766075226+0j),\n",
       "  '4,5': (-0.04313575957701005+0j),\n",
       "  '5,5': (0.2447773495083352+0j)},\n",
       " 'Result: ',\n",
       " (-1.5084067465429334+0j))"
      ]
     },
     "execution_count": 394,
     "metadata": {},
     "output_type": "execute_result"
    }
   ],
   "source": [
    "out_m = E_From_Matrix(phi_K[70],blocks)\n",
    "out_m"
   ]
  },
  {
   "cell_type": "code",
   "execution_count": 395,
   "metadata": {},
   "outputs": [
    {
     "data": {
      "text/plain": [
       "({'0,0': 0.46431477864583315,\n",
       "  '0,1': -0.18587239583333334,\n",
       "  '0,4': 0.06754557291666666,\n",
       "  '1,1': 0.5823974609375,\n",
       "  '1,2': -0.174072265625,\n",
       "  '1,3': -0.17000325520833331,\n",
       "  '1,5': 0.022298177083333332,\n",
       "  '2,2': 0.7532552083333333,\n",
       "  '2,4': -0.140380859375,\n",
       "  '3,3': 0.6799723307291666,\n",
       "  '3,4': -0.15315755208333331,\n",
       "  '4,4': 0.61962890625,\n",
       "  '4,5': -0.09326171875,\n",
       "  '5,5': 0.45495605468749983},\n",
       " 'Result: ',\n",
       " 2.7276204427083335)"
      ]
     },
     "execution_count": 395,
     "metadata": {},
     "output_type": "execute_result"
    }
   ],
   "source": [
    "e_circs = E_Circs(phi_K[70],blocks)\n",
    "out = find_E(e_circs)\n",
    "\n",
    "out"
   ]
  },
  {
   "cell_type": "code",
   "execution_count": 396,
   "metadata": {},
   "outputs": [
    {
     "name": "stdout",
     "output_type": "stream",
     "text": [
      "(0.15896773492559213+0j)\n",
      "0.46431477864583315\n",
      "0,0  :  (0.15896773492559213+0j) 0.46431477864583315\n",
      "0,1  :  (-0.22427681443620884+0j) -0.18587239583333334\n",
      "0,4  :  (0.10416390790122859+0j) 0.06754557291666666\n",
      "1,1  :  (-0.18513201816394934+0j) 0.5823974609375\n",
      "1,2  :  (-0.31817546101998023+0j) -0.174072265625\n",
      "1,3  :  (-0.3074465374903439+0j) -0.17000325520833331\n",
      "1,5  :  (-0.014420927824605873+0j) 0.022298177083333332\n",
      "2,2  :  (-0.13754598795502254+0j) 0.7532552083333333\n",
      "2,4  :  (-0.3023968106333942+0j) -0.140380859375\n",
      "3,3  :  (-0.13318569716521664+0j) 0.6799723307291666\n",
      "3,4  :  (-0.3156374269516054+0j) -0.15315755208333331\n",
      "4,4  :  (-0.03496229766075226+0j) 0.61962890625\n",
      "4,5  :  (-0.04313575957701005+0j) -0.09326171875\n",
      "5,5  :  (0.2447773495083352+0j) 0.45495605468749983\n"
     ]
    }
   ],
   "source": [
    "print(out_m[0]['0,0'])\n",
    "print(out[0]['0,0'])\n",
    "\n",
    "for key in list(out[0].keys()):\n",
    "    print(key, ' : ', out_m[0][key], out[0][key])"
   ]
  },
  {
   "cell_type": "code",
   "execution_count": 397,
   "metadata": {},
   "outputs": [
    {
     "name": "stdout",
     "output_type": "stream",
     "text": [
      "3,3  :  (-0.13318569716521664+0j)\n"
     ]
    }
   ],
   "source": [
    "phi = phi_K[70]\n",
    "key = '3,3'\n",
    "qr = QuantumRegister(Q)\n",
    "cr = ClassicalRegister(Q)\n",
    "cir0 = QuantumCircuit(qr , cr)\n",
    "a = int(key.split(',')[0])\n",
    "b = int(key.split(',')[1])\n",
    "w = 1\n",
    "if a != b:\n",
    "    w = 2\n",
    "cir = copy.deepcopy(cir0)\n",
    "psi_1 = qi.Statevector.from_instruction(U(cir,phi[b])).data\n",
    "h = blocks[key].to_matrix()\n",
    "cir = copy.deepcopy(cir0)\n",
    "psi_2 = qi.Statevector.from_instruction(U(cir,phi[a])).data\n",
    "E_key = bkt(psi_2,h,psi_1)\n",
    "E += w*E_key\n",
    "print(key, ' : ',w* E_key/bL)\n"
   ]
  },
  {
   "cell_type": "code",
   "execution_count": 398,
   "metadata": {},
   "outputs": [
    {
     "name": "stdout",
     "output_type": "stream",
     "text": [
      "(-0.13318569716521664+0j)\n"
     ]
    }
   ],
   "source": [
    "phi = phi_K[70]\n",
    "key = '3,3'\n",
    "qr = QuantumRegister(Q)\n",
    "cr = ClassicalRegister(Q)\n",
    "cir0 = QuantumCircuit(qr , cr)\n",
    "a = int(key.split(',')[0])\n",
    "b = int(key.split(',')[1])\n",
    "w = 1\n",
    "if a != b:\n",
    "    w = 2\n",
    "cir = copy.deepcopy(cir0)\n",
    "psi_1 = qi.Statevector.from_instruction(U(cir,phi[b])).data\n",
    "h = blocks[key].to_matrix()\n",
    "cir = copy.deepcopy(cir0)\n",
    "psi_2 = qi.Statevector.from_instruction(U(cir,phi[a])).data\n",
    "E_key = bkt(psi_2,h,psi_1)\n",
    "print(w*E_key/bL)"
   ]
  },
  {
   "cell_type": "code",
   "execution_count": 399,
   "metadata": {},
   "outputs": [
    {
     "name": "stdout",
     "output_type": "stream",
     "text": [
      "(-0.13318569716521672+0j)\n"
     ]
    }
   ],
   "source": [
    "phi = phi_K[70]\n",
    "key = '3,3'\n",
    "E = 0\n",
    "E_pm = []\n",
    "for p in blocks[key]:\n",
    "    qr = QuantumRegister(Q)\n",
    "    cr = ClassicalRegister(Q)\n",
    "    cir0 = QuantumCircuit(qr , cr)\n",
    "    a = int(key.split(',')[0])\n",
    "    b = int(key.split(',')[1])\n",
    "    w = 1\n",
    "    if a != b:\n",
    "        w = 2\n",
    "    cir = copy.deepcopy(cir0)\n",
    "    psi_1 = qi.Statevector.from_instruction(U(cir,phi[b])).data\n",
    "    h = p.to_matrix()\n",
    "    cir = copy.deepcopy(cir0)\n",
    "    psi_2 = qi.Statevector.from_instruction(U(cir,phi[a])).data\n",
    "    E_key = bkt(psi_2,h,psi_1)\n",
    "    E_pm.append(E_key*w/bL)\n",
    "    E += w*E_key\n",
    "print(E/bL)"
   ]
  },
  {
   "cell_type": "code",
   "execution_count": 400,
   "metadata": {},
   "outputs": [
    {
     "name": "stdout",
     "output_type": "stream",
     "text": [
      "0.6803385416666666\n"
     ]
    },
    {
     "data": {
      "text/plain": [
       "{'3,3': 0.6803385416666666}"
      ]
     },
     "execution_count": 400,
     "metadata": {},
     "output_type": "execute_result"
    }
   ],
   "source": [
    "phi = phi_K[70]\n",
    "key = '3,3' \n",
    "cir_l = []\n",
    "for p in blocks[key]:\n",
    "    qr = QuantumRegister(Q)\n",
    "    cr = ClassicalRegister(Q)\n",
    "    cir = QuantumCircuit(qr , cr)\n",
    "    a = int(key.split(',')[0])\n",
    "    b = int(key.split(',')[1])\n",
    "    w = p.coeff\n",
    "    if a != b:\n",
    "        w = 2*p.coeff\n",
    "\n",
    "    cir = U(cir,phi[b])\n",
    "    p_cir = p.to_circuit()\n",
    "    cir = cir.compose(p_cir)\n",
    "    cir = U_dagger(cir,phi[a])\n",
    "    cir.measure(qr, cr)\n",
    "\n",
    "    cir_l.append([w,cir,key])\n",
    "    \n",
    "E = 0\n",
    "E_p = []\n",
    "E_key = {}\n",
    "for p_circ in cir_l:\n",
    "    circ = p_circ[1]\n",
    "    w = p_circ[0]\n",
    "    r = execute(circ, backend = sim).result().get_counts()\n",
    "    r_keys = list(r.keys())\n",
    "    total = 0\n",
    "    for key in r_keys:\n",
    "        total += r[key]\n",
    "    if '000' in r:\n",
    "        num = r['000']/total\n",
    "    else:\n",
    "        num = 0\n",
    "    if p_circ[2] in E_key.keys():\n",
    "        E_key[p_circ[2]] += num*w/bL\n",
    "    else:\n",
    "        E_key[p_circ[2]] = num*w/bL\n",
    "    E_p.append(num*w/bL)\n",
    "    E += num*w\n",
    "\n",
    "#Normalize\n",
    "print(E/bL)\n",
    "E_key"
   ]
  },
  {
   "cell_type": "code",
   "execution_count": 401,
   "metadata": {},
   "outputs": [
    {
     "data": {
      "text/plain": [
       "[[0, 0.5416666666666666, (0.5416666666666667+0j)],\n",
       " [1, -0.043538411458333336, (-0.05937754877235399+0j)],\n",
       " [2, -0.017618815104166668, (-0.026729046191631384+0j)],\n",
       " [3, -8.138020833333333e-05, (0.0021556882657299634+0j)],\n",
       " [4, -0.00020345052083333334, (0.0017803903487298063+0j)],\n",
       " [5, 4.0690104166666664e-05, (-0.0013828677895068946+0j)],\n",
       " [6, -0.0, (-0.0006596371867171134+0j)],\n",
       " [7, -0.0216064453125, (-0.08912835076562042+0j)],\n",
       " [8, -0.0, 0j],\n",
       " [9, 0.005859375, (0.015437559970760574+0j)],\n",
       " [10, 0.0003255208333333333, (-0.0046417188824904336+0j)],\n",
       " [11, -0.035563151041666664, (-0.03870132883067818+0j)],\n",
       " [12, -0.024332682291666668, (-0.03196356051501063+0j)],\n",
       " [13, -0.013631184895833334, (-0.02482679054382509+0j)],\n",
       " [14, 0.0032145182291666665, (-0.011842545175908277+0j)],\n",
       " [15, 0.0, (-0.0011032233299040294+0j)],\n",
       " [16, -0.0032145182291666665, (-0.011824159802088615+0j)],\n",
       " [17, -0.035441080729166664, (-0.03864124559795241+0j)],\n",
       " [18, -0.024943033854166668, (-0.03191393756656952+0j)],\n",
       " [19, -0.015096028645833334, (-0.02478824732375622+0j)],\n",
       " [20, -0.021240234375, (0.08898998033743838+0j)],\n",
       " [21, -0.0052490234375, (0.015413593390375202+0j)],\n",
       " [22, -0.0, (1.4456028966473392e-19+0j)],\n",
       " [23, -0.0, 0j],\n",
       " [24, 0.0, (-1.4456028966473392e-19+0j)],\n",
       " [25, -0.0, (-7.228014483236696e-20+0j)],\n",
       " [26, 0.374267578125, (-0.3744178181227125+0j)],\n",
       " [27, 0.0167236328125, (-0.02668754974819152+0j)]]"
      ]
     },
     "execution_count": 401,
     "metadata": {},
     "output_type": "execute_result"
    }
   ],
   "source": [
    "[[i,E_p[i],E_pm[i]] for i in range(len(E_p))]"
   ]
  },
  {
   "cell_type": "code",
   "execution_count": 402,
   "metadata": {},
   "outputs": [
    {
     "name": "stdout",
     "output_type": "stream",
     "text": [
      "(-0.3744178181227125+0j)\n"
     ]
    }
   ],
   "source": [
    "phi = phi_K[70]\n",
    "key = '3,3'\n",
    "E = 0\n",
    "p = blocks[key][26]\n",
    "qr = QuantumRegister(Q)\n",
    "cr = ClassicalRegister(Q)\n",
    "cir0 = QuantumCircuit(qr , cr)\n",
    "a = int(key.split(',')[0])\n",
    "b = int(key.split(',')[1])\n",
    "w = 1\n",
    "if a != b:\n",
    "    w = 2\n",
    "cir = copy.deepcopy(cir0)\n",
    "psi_1 = qi.Statevector.from_instruction(U(cir,phi[b])).data\n",
    "h = p.to_matrix()\n",
    "cir = copy.deepcopy(cir0)\n",
    "psi_2 = qi.Statevector.from_instruction(U(cir,phi[a])).data\n",
    "E_key = bkt(psi_2,h,psi_1)\n",
    "E += w*E_key\n",
    "print(E/bL)"
   ]
  },
  {
   "cell_type": "code",
   "execution_count": 403,
   "metadata": {},
   "outputs": [
    {
     "name": "stdout",
     "output_type": "stream",
     "text": [
      "{'000': 1024}\n",
      "0.375\n"
     ]
    },
    {
     "data": {
      "text/plain": [
       "{'3,3': 0.375}"
      ]
     },
     "execution_count": 403,
     "metadata": {},
     "output_type": "execute_result"
    }
   ],
   "source": [
    "phi = phi_K[70]\n",
    "key = '3,3' \n",
    "cir_l = []\n",
    "p = blocks[key][26]\n",
    "qr = QuantumRegister(Q)\n",
    "cr = ClassicalRegister(Q)\n",
    "cir = QuantumCircuit(qr , cr)\n",
    "a = int(key.split(',')[0])\n",
    "b = int(key.split(',')[1])\n",
    "w = p.coeff\n",
    "if a != b:\n",
    "    w = 2*p.coeff\n",
    "\n",
    "cir = U(cir,phi[b])\n",
    "p_cir = p.to_circuit()\n",
    "cir = cir.compose(p_cir)\n",
    "cir = U_dagger(cir,phi[a])\n",
    "cir.measure(qr, cr)\n",
    "\n",
    "cir_l.append([w,cir,key])\n",
    "    \n",
    "E = 0\n",
    "E_key = {}\n",
    "p_circ = cir_l[0]\n",
    "circ = p_circ[1]\n",
    "w = p_circ[0]\n",
    "r = execute(circ, backend = sim).result().get_counts()\n",
    "print(r)\n",
    "r_keys = list(r.keys())\n",
    "total = 0\n",
    "for key in r_keys:\n",
    "    total += r[key]\n",
    "if '000' in r:\n",
    "    num = r['000']/total\n",
    "else:\n",
    "    num = 0\n",
    "if p_circ[2] in E_key.keys():\n",
    "    E_key[p_circ[2]] += num*w/bL\n",
    "else:\n",
    "    E_key[p_circ[2]] = num*w/bL\n",
    "E += num*w\n",
    "\n",
    "#Normalize\n",
    "print(E/bL)\n",
    "E_key"
   ]
  },
  {
   "cell_type": "code",
   "execution_count": 404,
   "metadata": {},
   "outputs": [
    {
     "data": {
      "text/plain": [
       "array([-3.74417818e-01+0.j, -3.77327081e-18+0.j, -2.48833217e-17+0.j,\n",
       "       -5.20904960e-19+0.j,  2.08877350e-02+0.j,  1.31915073e-19+0.j,\n",
       "        1.30041775e-18+0.j,  2.88769032e-19+0.j])"
      ]
     },
     "execution_count": 404,
     "metadata": {},
     "output_type": "execute_result"
    }
   ],
   "source": [
    "phi = phi_K[70]\n",
    "key = '3,3' \n",
    "cir_l = []\n",
    "p = blocks[key][26]\n",
    "qr = QuantumRegister(Q)\n",
    "cr = ClassicalRegister(Q)\n",
    "cir = QuantumCircuit(qr , cr)\n",
    "a = int(key.split(',')[0])\n",
    "b = int(key.split(',')[1])\n",
    "w = p.coeff\n",
    "if a != b:\n",
    "    w = 2*p.coeff\n",
    "\n",
    "cir = U(cir,phi[b])\n",
    "p_cir = p.to_circuit()\n",
    "cir = cir.compose(p_cir)\n",
    "cir = U_dagger(cir,phi[a])\n",
    "w/bL*qi.Statevector.from_instruction(cir).data"
   ]
  },
  {
   "cell_type": "code",
   "execution_count": 405,
   "metadata": {},
   "outputs": [
    {
     "data": {
      "text/plain": [
       "0.3739013671875"
      ]
     },
     "execution_count": 405,
     "metadata": {},
     "output_type": "execute_result"
    }
   ],
   "source": [
    "cir.measure(qr, cr)\n",
    "out = execute(cir, backend = sim).result().get_counts()\n",
    "w/bL*out['000']/1024"
   ]
  },
  {
   "cell_type": "code",
   "execution_count": 407,
   "metadata": {},
   "outputs": [
    {
     "data": {
      "text/plain": [
       "PauliOp(Pauli('ZZI'), coeff=2.25)"
      ]
     },
     "execution_count": 407,
     "metadata": {},
     "output_type": "execute_result"
    }
   ],
   "source": [
    "p"
   ]
  },
  {
   "cell_type": "code",
   "execution_count": 408,
   "metadata": {},
   "outputs": [
    {
     "name": "stdout",
     "output_type": "stream",
     "text": [
      "[-1.+0.j  0.+0.j  0.+0.j  0.+0.j  0.+0.j  0.+0.j  0.+0.j  0.+0.j]\n"
     ]
    },
    {
     "data": {
      "text/plain": [
       "{'000': 1024}"
      ]
     },
     "execution_count": 408,
     "metadata": {},
     "output_type": "execute_result"
    }
   ],
   "source": [
    "# A simple test \n",
    "\n",
    "qr = QuantumRegister(Q)\n",
    "cr = ClassicalRegister(Q)\n",
    "cir = QuantumCircuit(qr , cr)\n",
    "cir.x(0)\n",
    "cir.z(0)\n",
    "cir.x(0)\n",
    "\n",
    "print(qi.Statevector.from_instruction(cir).data)\n",
    "\n",
    "cir.measure(qr,cr)\n",
    "out = execute(cir, backend = sim).result().get_counts()\n",
    "out"
   ]
  },
  {
   "cell_type": "code",
   "execution_count": null,
   "metadata": {},
   "outputs": [],
   "source": []
  }
 ],
 "metadata": {
  "kernelspec": {
   "display_name": "Python [conda env:qiskit_25v]",
   "language": "python",
   "name": "conda-env-qiskit_25v-py"
  },
  "language_info": {
   "codemirror_mode": {
    "name": "ipython",
    "version": 3
   },
   "file_extension": ".py",
   "mimetype": "text/x-python",
   "name": "python",
   "nbconvert_exporter": "python",
   "pygments_lexer": "ipython3",
   "version": "3.9.4"
  }
 },
 "nbformat": 4,
 "nbformat_minor": 4
}
