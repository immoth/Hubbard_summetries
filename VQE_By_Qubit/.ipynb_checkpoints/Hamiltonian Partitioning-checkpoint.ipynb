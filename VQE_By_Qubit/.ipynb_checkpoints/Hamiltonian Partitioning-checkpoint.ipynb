{
 "cells": [
  {
   "cell_type": "markdown",
   "id": "95f084ae",
   "metadata": {},
   "source": [
    "# Block VQE by Qubit\n",
    "\n",
    "Here we will split the Hilbert space into two groups, one which will be calculated classically and the other with will be calculated using block-VQE.  Instead of splitting the Hilbert space into spin-up and spin-down as we did before, here I will split the Hilbert space into general sets of qubits.  \n",
    "\n",
    "The wavefunction is divided into classical and quantum parts\n",
    "$$\n",
    "    |\\psi> = \\sum_c \\alpha_c |c>|\\psi_{qc}>\n",
    "$$\n",
    "where $|c>$ is a basis state in the classical section and $|\\psi_q>$ is the wavefunction in the quantum section.  The weights $\\alpha_c$ have to be solved classically while the wavefunctions $|\\psi_{qc}>$ will be updated using VQE.  "
   ]
  },
  {
   "cell_type": "markdown",
   "id": "17f072e8",
   "metadata": {},
   "source": [
    "Let's do a simple X-Y-Z model with closed boundary conditions to test the algorithm.  \n",
    "$$ \n",
    "    H =  \\sum_{i} \\left(x X_{i}X_{i+1} + y Y_{i} Y_{i+1} + z Z_{i} Z_{i+1}\\right) \n",
    "$$"
   ]
  },
  {
   "cell_type": "markdown",
   "id": "7b7303c6",
   "metadata": {},
   "source": [
    "Let us take the first $N_c$ qubits to be in the classical sector.  Then we can take energy expectation values as,\n",
    "\\begin{equation}\n",
    "\\begin{split}\n",
    "&<\\psi|H|\\psi> = \\sum_{cc'}\\alpha_c\\alpha_c'<\\psi_{qc'}|<c'| H |c> |\\psi_{qc}>=\n",
    "\\\\\n",
    "& \\sum_{cc'}\\alpha_c\\alpha_c' \\left( \\sum_{i=0}^{N_c-2}  <c'|\\left(x X_{i}X_{i+1} + y Y_{i} Y_{i+1} + z Z_{i} Z_{i+1}\\right)|c><\\psi_{qc'}|\\psi_{qc}>  + \\delta_{cc'}\\sum_{i=N_c+1}^{N} <\\psi_{qc'}| \\ \\left(x X_{i}X_{i+1} + y Y_{i} Y_{i+1} + z Z_{i} Z_{i+1}\\right) |\\psi_{qc}> \\right) \n",
    "\\\\\n",
    "&+ \\sum_{cc'}\\alpha_c\\alpha_c'  \\left( <c'|X_{N_c-1}|c><\\psi_{qc'}|X_{N_c}|\\psi_{qc}> + <c'|Y_{N_c-1}|c> <\\psi_{qc'}|Y_{N_c}|\\psi_{qc}> + <c'|Z_{N_c-1}|c><\\psi_{qc'}|Z_{N_c}|\\psi_{qc}> \\right) \n",
    "\\end{split}\n",
    "\\end{equation}"
   ]
  },
  {
   "cell_type": "markdown",
   "id": "08a4ecaa",
   "metadata": {},
   "source": [
    "Anything in the classical brakets are calculated classically while anything in the quantum brackets are calculated using quantum hardware.  Notice that some of the quantum brakets are wieghted by classical brackets.  This is not a problem.  "
   ]
  },
  {
   "cell_type": "markdown",
   "id": "ea54d5b6",
   "metadata": {},
   "source": [
    "## Classical part\n",
    "\n",
    "### Define Pauli Matrices\n",
    "\n",
    "Let us define the Pauli matrices so we can do the classical calculations."
   ]
  },
  {
   "cell_type": "code",
   "execution_count": 568,
   "id": "89baf3f4",
   "metadata": {},
   "outputs": [],
   "source": [
    "import qiskit.quantum_info as qi\n",
    "\n",
    "def X(i,N):\n",
    "    label = ['I' for i in range(N)]\n",
    "    label[i] = 'X'\n",
    "    label = ''.join(label)\n",
    "    return qi.Operator.from_label(label).data\n",
    "\n",
    "def Y(i,N):\n",
    "    label = ['I' for i in range(N)]\n",
    "    label[i] = 'Y'\n",
    "    label = ''.join(label)\n",
    "    return qi.Operator.from_label(label).data\n",
    "\n",
    "def Z(i,N):\n",
    "    label = ['I' for i in range(N)]\n",
    "    label[i] = 'Z'\n",
    "    label = ''.join(label)\n",
    "    return qi.Operator.from_label(label).data"
   ]
  },
  {
   "cell_type": "markdown",
   "id": "fda3ac51",
   "metadata": {},
   "source": [
    "### Generate the states\n",
    "\n",
    "We need a function which gives you the classical basss for a given number of qubits."
   ]
  },
  {
   "cell_type": "code",
   "execution_count": 569,
   "id": "a2e69931",
   "metadata": {},
   "outputs": [],
   "source": [
    "# A function to print the state given the numerical represenations\n",
    "def bi(num,N):\n",
    "    bi = bin(num)\n",
    "    out = []\n",
    "    Sdiff = N - len(bi) + 2\n",
    "    for i in range(0,Sdiff):\n",
    "        out.append(0)\n",
    "    for i in range(2,len(bi)):\n",
    "        out.append(int(bi[i]))\n",
    "    return out\n",
    "\n",
    "# A function which retruns the numerical representation of states given N\n",
    "def states(N):\n",
    "    out = [i for i in range(0,2**N)]\n",
    "    return out\n",
    "\n",
    "# A function to print the basis vectors given the number of qubits N\n",
    "def vecs(N):\n",
    "    out = []\n",
    "    for i in range(2**N):\n",
    "        v = [0 for i in range(2**N)]\n",
    "        v[i] = 1\n",
    "        out.append(v)\n",
    "    return out"
   ]
  },
  {
   "cell_type": "code",
   "execution_count": 570,
   "id": "f34272d3",
   "metadata": {},
   "outputs": [],
   "source": [
    "import numpy as np\n",
    "\n",
    "def Mdot(Ol):\n",
    "    out = Ol[0]\n",
    "    for i in range(1,len(Ol)):\n",
    "        out = np.dot(Ol[i],out)\n",
    "    return out\n",
    "\n",
    "def bkt(y1,O,y2):\n",
    "    return Mdot([np.conjugate(y1),O,y2])\n"
   ]
  },
  {
   "cell_type": "markdown",
   "id": "a2f007f8",
   "metadata": {},
   "source": [
    "### Full Hamiltoniain\n",
    "\n",
    "Let us write the un-partitioned Hamiltonain so we can compare to it later."
   ]
  },
  {
   "cell_type": "code",
   "execution_count": 571,
   "id": "7d167bee",
   "metadata": {},
   "outputs": [],
   "source": [
    "def H(x,y,z,N):\n",
    "    h = 0*X(0,N)\n",
    "    for i in range(0,N-1):\n",
    "        h += x*Mdot([X(i,N),X(i+1,N)]) + y*Mdot([Y(i,N),Y(i+1,N)]) + z*Mdot([Z(i,N),Z(i+1,N)])\n",
    "    return h\n",
    "        \n",
    "    \n",
    "import pandas as pd\n",
    "#pd.DataFrame(H(1,2,3,4))"
   ]
  },
  {
   "cell_type": "markdown",
   "id": "df0e1d03",
   "metadata": {},
   "source": [
    "### Calculating the classical brakets\n",
    "\n",
    "We can calculate all of the classical brakets before we start VQE.  Once we have the value of each braket we simply store it as a weight for the various quantum brakets.  There are five types of classical brakets we need to calculate.\n",
    "\n",
    "\\begin{equation}\n",
    "\\begin{split}\n",
    "& T_{c,c'} =  <c'|\\sum_{i=0}^{N_c-2}\\left(x X_{i\\sigma}X_{i+1\\sigma} + y Y_{i\\sigma} Y_{i+1\\sigma} + z Z_{i\\sigma} Z_{i+1\\sigma}\\right)|c> \n",
    "\\\\\n",
    "& B1^x_{c,c'} =  x<c'|X_{N_c-1}|c>\n",
    "\\\\\n",
    "&B1^y_{c,c'} = y<c'|Y_{N_c-1}|c> \n",
    "\\\\\n",
    "&B1^z_{c,c'} = z<c'|Y_{N_c-1}|c> \n",
    "\\end{split}\n",
    "\\end{equation}"
   ]
  },
  {
   "cell_type": "code",
   "execution_count": 572,
   "id": "41d9f69c",
   "metadata": {},
   "outputs": [],
   "source": [
    "def T(x,y,z,c,cc,Nc):\n",
    "    out = 0\n",
    "    v = vecs(Nc)\n",
    "    for i in range(0,Nc-1):\n",
    "        O = x*Mdot([X(i,Nc),X(i+1,Nc)]) + y*Mdot([Y(i,Nc),Y(i+1,Nc)]) + z*Mdot([Z(i,Nc),Z(i+1,Nc)])\n",
    "        out += bkt(v[cc],O,v[c])\n",
    "    return out\n",
    "\n",
    "def Bx(x,c,cc,Nc):\n",
    "    out = 0\n",
    "    v = vecs(Nc)\n",
    "    O = X(Nc-1,Nc)\n",
    "    out += bkt(v[cc],x*O,v[c])\n",
    "    return out\n",
    "\n",
    "def By(y,c,cc,Nc):\n",
    "    out = 0\n",
    "    v = vecs(Nc)\n",
    "    O = Y(Nc-1,Nc)\n",
    "    out += bkt(v[cc],y*O,v[c])\n",
    "    return out\n",
    "\n",
    "def Bz(z,c,cc,Nc):\n",
    "    out = 0\n",
    "    v = vecs(Nc)\n",
    "    O = Z(Nc-1,Nc)\n",
    "    out += bkt(v[cc],z*O,v[c])\n",
    "    return out\n",
    "\n"
   ]
  },
  {
   "cell_type": "markdown",
   "id": "534bedd3",
   "metadata": {},
   "source": [
    "We Can use these to rewrite the Hamiltoniain.  I will shift the indicies so $ N_c \\rightarrow 0 $.\n",
    "\n",
    "\\begin{equation}\n",
    "\\begin{split}\n",
    "H_{c,c'}=& T_{c,c'} + \\delta_{cc'}\\sum_{i=0}^{N_q} \\left(x X_{i}X_{i+1} + y Y_{i} Y_{i+1}  + z Z_{i} Z_{i+1}\\right) \n",
    "\\\\\n",
    "&+ \\left(B^{1x}_{c,c'}X_{0} + B^{1y}_{c,c'} Y_{0} + B^{1z}_{c,c'} Z_{0} \\right)\n",
    "\\end{split}\n",
    "\\end{equation}"
   ]
  },
  {
   "cell_type": "code",
   "execution_count": 573,
   "id": "36f2db14",
   "metadata": {},
   "outputs": [],
   "source": [
    "from qiskit.opflow.primitive_ops import MatrixOp\n",
    "from qiskit import quantum_info as qi\n",
    "\n",
    "\n",
    "def H_quantum(x,y,z,c,cc,Nc,Nq):\n",
    "    tcc = T(x,y,z,c,cc,Nc)\n",
    "    Iq = np.identity(2**Nq)\n",
    "    h = tcc*Iq\n",
    "    h += Bx(x,c,cc,Nc)*X(0,Nq)\n",
    "    h += By(y,c,cc,Nc)*Y(0,Nq)\n",
    "    h += Bz(z,c,cc,Nc)*Z(0,Nq)\n",
    "    if c == cc:\n",
    "        for i in range(0,Nq-1):\n",
    "            h += x*Mdot([X(i,Nq),X(i+1,Nq)]) + y*Mdot([Y(i,Nq),Y(i+1,Nq)]) + z*Mdot([Z(i,Nq),Z(i+1,Nq)])\n",
    "    return h\n",
    "    \n",
    "    \n",
    "#H_quantum(1,1,1,3,2,2,2)"
   ]
  },
  {
   "cell_type": "code",
   "execution_count": 574,
   "id": "32cbd39c",
   "metadata": {},
   "outputs": [],
   "source": [
    "def H_quantum(x,y,z,c,cc,Nc,Nq):\n",
    "    tcc = T(x,y,z,c,cc,Nc)\n",
    "    Iq = np.identity(2**Nq)\n",
    "    h = [MatrixOp(tcc*Iq).to_pauli_op()]\n",
    "    h.append(MatrixOp(Bx(x,c,cc,Nc)*X(0,Nq)).to_pauli_op())\n",
    "    h.append(MatrixOp(By(y,c,cc,Nc)*Y(0,Nq)).to_pauli_op())\n",
    "    h.append(MatrixOp(Bz(z,c,cc,Nc)*Z(0,Nq)).to_pauli_op())\n",
    "    if c == cc:\n",
    "        for i in range(0,Nq-1):\n",
    "            h.append(MatrixOp(x*Mdot([X(i,Nq),X(i+1,Nq)])).to_pauli_op())\n",
    "            h.append(MatrixOp(y*Mdot([Y(i,Nq),Y(i+1,Nq)])).to_pauli_op())\n",
    "            h.append(MatrixOp(z*Mdot([Z(i,Nq),Z(i+1,Nq)])).to_pauli_op())\n",
    "    return h"
   ]
  },
  {
   "cell_type": "code",
   "execution_count": 575,
   "id": "2020b22d",
   "metadata": {},
   "outputs": [],
   "source": [
    "from qiskit.opflow import SummedOp, PauliOp\n",
    "\n",
    "def Blocks(x,y,z,Nc,Nq):\n",
    "    bks = {}\n",
    "    Mc = len(states(Nc))\n",
    "    for c in range(0,Mc):\n",
    "        for cc in range(0,Mc):\n",
    "            Op = H_quantum(x,y,z,c,cc,Nc,Nq)\n",
    "            bks[str(c) + ',' + str(cc)] =  Op\n",
    "    return bks\n",
    "        \n",
    "    "
   ]
  },
  {
   "cell_type": "code",
   "execution_count": 576,
   "id": "2150c9e3",
   "metadata": {},
   "outputs": [
    {
     "data": {
      "text/plain": [
       "[PauliOp(Pauli('II'), coeff=3.0),\n",
       " PauliOp(Pauli('II'), coeff=0.0),\n",
       " PauliOp(Pauli('II'), coeff=0.0),\n",
       " PauliOp(Pauli('ZI'), coeff=3.0),\n",
       " PauliOp(Pauli('XX'), coeff=1.0),\n",
       " PauliOp(Pauli('YY'), coeff=2.0),\n",
       " PauliOp(Pauli('ZZ'), coeff=3.0)]"
      ]
     },
     "execution_count": 576,
     "metadata": {},
     "output_type": "execute_result"
    }
   ],
   "source": [
    "Blocks(1,2,3,2,2)['0,0']"
   ]
  },
  {
   "cell_type": "markdown",
   "id": "41f86aa3",
   "metadata": {},
   "source": [
    "Let us check that we can rebuild the Hamiltoniain."
   ]
  },
  {
   "cell_type": "code",
   "execution_count": 577,
   "id": "3d0f9617",
   "metadata": {},
   "outputs": [
    {
     "name": "stderr",
     "output_type": "stream",
     "text": [
      "<ipython-input-577-ef49c2b99a7a>:24: ComplexWarning: Casting complex values to real discards the imaginary part\n",
      "  H_complete[i + bi*size, j + bj*size] = block[i,j]\n",
      "<ipython-input-577-ef49c2b99a7a>:25: ComplexWarning: Casting complex values to real discards the imaginary part\n",
      "  H_complete[i + bj*size, j + bi*size] = block[j,i]\n"
     ]
    }
   ],
   "source": [
    "Nc = 2\n",
    "Nq = 3\n",
    "x = 1\n",
    "y = 2\n",
    "z = 3\n",
    "blocks = Blocks(x,y,z,Nc,Nq)\n",
    "\n",
    "keys = list(blocks.keys())\n",
    "\n",
    "bL = len(states(Nc))\n",
    "size = 2**Nq\n",
    "H_complete = np.array([[0 for i in range(size*bL)] for j in range(size*bL)])\n",
    "\n",
    "for bi in range(bL):\n",
    "    for bj in range(bi,bL):\n",
    "        key = str(bi) + ',' + str(bj)\n",
    "        if key  in keys:\n",
    "            hl = blocks[key]\n",
    "            block = np.sum(hl).to_matrix()\n",
    "        else:\n",
    "            block = np.array([[0.0 for i in range(size)] for j in range(size)])\n",
    "        for i in range(size):\n",
    "            for j in range(size):\n",
    "                H_complete[i + bi*size, j + bj*size] = block[i,j]\n",
    "                H_complete[i + bj*size, j + bi*size] = block[j,i]\n",
    "                "
   ]
  },
  {
   "cell_type": "code",
   "execution_count": 578,
   "id": "47336bf0",
   "metadata": {},
   "outputs": [
    {
     "data": {
      "text/plain": [
       "0.0"
      ]
     },
     "execution_count": 578,
     "metadata": {},
     "output_type": "execute_result"
    }
   ],
   "source": [
    "np.amax(np.abs(H_complete - np.real(H(x,y,z,Nc+Nq))))"
   ]
  },
  {
   "cell_type": "markdown",
   "id": "2940cc77",
   "metadata": {},
   "source": [
    "## Anzats Circuit\n",
    "\n",
    "Here we define the paramaterized circuit which we will optimize. \n",
    "\n",
    "$$ U^b_i = \\prod_q R^y_q(\\phi_{q0}^b)\\prod_{q'}C_{4q',4q'+1}C_{4q'+3,4q'+2}\\prod_{q''}C_{4q''+1,4q''+2}C_{4q''+4,4q''+3} $$\n",
    "$$ U^b = \\prod_i U^b_i $$"
   ]
  },
  {
   "cell_type": "code",
   "execution_count": 579,
   "id": "6dbde29a",
   "metadata": {},
   "outputs": [],
   "source": [
    "from qiskit import QuantumCircuit, QuantumRegister,ClassicalRegister, execute\n",
    "\n",
    "Q = Nq"
   ]
  },
  {
   "cell_type": "markdown",
   "id": "5f4fff85",
   "metadata": {},
   "source": [
    "### Diagonal Blocks"
   ]
  },
  {
   "cell_type": "code",
   "execution_count": 580,
   "id": "de476e63",
   "metadata": {},
   "outputs": [],
   "source": [
    "def Ui(cir_i,phi_i):  \n",
    "    \n",
    "    for q in range(0,Q):\n",
    "        cir_i.ry(phi_i[q],q)\n",
    "    for q in range(0,Q,4):\n",
    "        cir_i.cx(q,q+1)\n",
    "        if q + 3 < Q:\n",
    "            cir_i.cx(q+3,q+2)\n",
    "    for q in range(1,Q,4):\n",
    "        cir_i.cx(q,q+1)\n",
    "        if q + 3 < Q:\n",
    "            cir_i.cx(q+3,q+2)\n",
    "    \n",
    "    return cir_i"
   ]
  },
  {
   "cell_type": "code",
   "execution_count": 581,
   "id": "72af1fe8",
   "metadata": {},
   "outputs": [
    {
     "data": {
      "image/png": "[encoded data removed]",
      "text/plain": [
       "<Figure size 319.992x264.88 with 1 Axes>"
      ]
     },
     "execution_count": 581,
     "metadata": {},
     "output_type": "execute_result"
    }
   ],
   "source": [
    "qr = QuantumRegister(Q)\n",
    "cr = ClassicalRegister(Q)\n",
    "cir_i = QuantumCircuit(qr , cr)\n",
    "tst = Ui(cir_i,[0.2,0.3,0.4])\n",
    "\n",
    "tst.draw(output = 'mpl')"
   ]
  },
  {
   "cell_type": "code",
   "execution_count": 582,
   "id": "306be095",
   "metadata": {},
   "outputs": [],
   "source": [
    "def U(cir,phi_b):\n",
    "    T = len(phi_b)\n",
    "    for t in range(T):\n",
    "        cir = Ui(cir,phi_b[t])\n",
    "    return cir"
   ]
  },
  {
   "cell_type": "code",
   "execution_count": 583,
   "id": "70115491",
   "metadata": {},
   "outputs": [
    {
     "data": {
      "image/png": "[encoded data removed]",
      "text/plain": [
       "<Figure size 681.047x264.88 with 1 Axes>"
      ]
     },
     "execution_count": 583,
     "metadata": {},
     "output_type": "execute_result"
    }
   ],
   "source": [
    "qr = QuantumRegister(Q)\n",
    "cr = ClassicalRegister(Q)\n",
    "cir = QuantumCircuit(qr , cr)\n",
    "tst = U(cir,[[0.2,0.3,0.4],[0.5,0.6,0.7],[0.8,0.9,0.1]])\n",
    "\n",
    "tst.draw(output = 'mpl')"
   ]
  },
  {
   "cell_type": "markdown",
   "id": "d0ae3ded",
   "metadata": {},
   "source": [
    "### Off Diagonal Blocks"
   ]
  },
  {
   "cell_type": "code",
   "execution_count": 584,
   "id": "6883a225",
   "metadata": {},
   "outputs": [],
   "source": [
    "def Ui_off(cir_i,phi_a, phi_b):  \n",
    "    \n",
    "    for q in range(0,Q):\n",
    "        cir_i.ry(phi_a[q],q)\n",
    "        cir_i.cx(Q,q)\n",
    "        cir_i.ry(-(phi_b[q]-phi_a[q])/2,q)\n",
    "        cir_i.cx(Q,q)\n",
    "        cir_i.ry((phi_b[q]-phi_a[q])/2,q)\n",
    "    for q in range(0,Q,4):\n",
    "        cir_i.cx(q,q+1)\n",
    "        if q + 3 < Q:\n",
    "            cir_i.cx(q+3,q+2)\n",
    "    for q in range(1,Q,4):\n",
    "        cir_i.cx(q,q+1)\n",
    "        if q + 3 < Q:\n",
    "            cir_i.cx(q+3,q+2)\n",
    "    \n",
    "    return cir_i"
   ]
  },
  {
   "cell_type": "code",
   "execution_count": 585,
   "id": "d12fdb7d",
   "metadata": {},
   "outputs": [
    {
     "data": {
      "image/png": "[encoded data removed]",
      "text/plain": [
       "<Figure size 861.792x325.08 with 1 Axes>"
      ]
     },
     "execution_count": 585,
     "metadata": {},
     "output_type": "execute_result"
    }
   ],
   "source": [
    "qr = QuantumRegister(Q+1)\n",
    "cr = ClassicalRegister(Q+1)\n",
    "cir_i = QuantumCircuit(qr , cr)\n",
    "tst = Ui_off(cir_i,[0.2,0.3,0.4],[2.2,0.7,0.1])\n",
    "\n",
    "tst.draw(output = 'mpl')"
   ]
  },
  {
   "cell_type": "code",
   "execution_count": 586,
   "id": "452f88a4",
   "metadata": {},
   "outputs": [
    {
     "name": "stdout",
     "output_type": "stream",
     "text": [
      "A:\n",
      "[0.68180665+0.j 0.01033899+0.j 0.02088826+0.j 0.01386716+0.j\n",
      " 0.13820905+0.j 0.00209582+0.j 0.103045  +0.j 0.06840885+0.j]\n",
      "B:\n",
      "[0.3009187 +0.j 0.21581687+0.j 0.00549678+0.j 0.02958631+0.j\n",
      " 0.01505849+0.j 0.01079984+0.j 0.1098439 +0.j 0.59123293+0.j]\n",
      "AB:\n",
      "[0.68180665+0.j 0.01033899+0.j 0.02088826+0.j 0.01386716+0.j\n",
      " 0.13820905+0.j 0.00209582+0.j 0.103045  +0.j 0.06840885+0.j\n",
      " 0.3009187 +0.j 0.21581687+0.j 0.00549678+0.j 0.02958631+0.j\n",
      " 0.01505849+0.j 0.01079984+0.j 0.1098439 +0.j 0.59123293+0.j]\n"
     ]
    }
   ],
   "source": [
    "#An example block a circuit\n",
    "qr = QuantumRegister(Q)\n",
    "cr = ClassicalRegister(Q)\n",
    "cir_i = QuantumCircuit(qr , cr)\n",
    "tst_a = Ui(cir_i,[0.2,0.3,0.4])\n",
    "\n",
    "#An example block b circuit\n",
    "qr = QuantumRegister(Q)\n",
    "cr = ClassicalRegister(Q)\n",
    "cir_i = QuantumCircuit(qr , cr)\n",
    "tst_b = Ui(cir_i,[2.2,0.7,0.1])\n",
    "\n",
    "#The combination of the two blocks\n",
    "qr = QuantumRegister(Q+1)\n",
    "cr = ClassicalRegister(Q+1)\n",
    "cir_i = QuantumCircuit(qr , cr)\n",
    "cir_i.h(Q)\n",
    "tst_off = Ui_off(cir_i,[0.2,0.3,0.4],[2.2,0.7,0.1])\n",
    "\n",
    "print('A:')\n",
    "print(1/np.sqrt(2)*qi.Statevector.from_instruction(tst_a).data)\n",
    "print('B:')\n",
    "print(1/np.sqrt(2)*qi.Statevector.from_instruction(tst_b).data)\n",
    "print('AB:')\n",
    "print(qi.Statevector.from_instruction(tst_off).data)"
   ]
  },
  {
   "cell_type": "code",
   "execution_count": 587,
   "id": "eac7d799",
   "metadata": {},
   "outputs": [],
   "source": [
    "def U_off(cir,phi_a,phi_b):\n",
    "    T = len(phi_b)\n",
    "    cir.h(Q)\n",
    "    for t in range(T):\n",
    "        cir = Ui_off(cir,phi_a[t],phi_b[t])\n",
    "    return cir"
   ]
  },
  {
   "cell_type": "code",
   "execution_count": 588,
   "id": "9c51d6b4",
   "metadata": {},
   "outputs": [
    {
     "data": {
      "image/png": "[encoded data removed]",
      "text/plain": [
       "<Figure size 1644.54x686.28 with 1 Axes>"
      ]
     },
     "execution_count": 588,
     "metadata": {},
     "output_type": "execute_result"
    }
   ],
   "source": [
    "qr = QuantumRegister(Q+1)\n",
    "cr = ClassicalRegister(Q+1)\n",
    "cir = QuantumCircuit(qr , cr)\n",
    "tst = U_off(cir,[[0.2,0.3,0.4],[0.5,0.6,0.7],[0.8,0.9,0.1]],[[2.2,1.3,0.1],[0.5,0.6,0.7],[0.5,0.2,0.4]])\n",
    "\n",
    "tst.draw(output = 'mpl')"
   ]
  },
  {
   "cell_type": "markdown",
   "id": "649886b4",
   "metadata": {},
   "source": [
    "# Calculating E\n",
    "\n",
    "$$ E = \\sum_{ab}<\\psi^a|H_{ab}|\\psi^b> = \\sum_{ab}<000\\ldots|U^{\\dagger}(\\{\\phi^a\\})H_{ab}U(\\{\\phi^b\\})|000\\ldots>$$\n",
    "\n",
    "each $H_{ab}$ can be brocken down into its Puali components so that $H_{ab} = \\sum_p c_p P_{ab,p}$.  Then we have\n",
    "\n",
    "$$ E = \\sum_{ab}\\sum_p c_p <000\\ldots|U^{\\dagger}(\\{\\phi^a\\})  P_{ab,p}U(\\{\\phi^b\\})|000\\ldots>$$.\n",
    "\n",
    "We cannot measure $<\\psi^a|P_{ab,p}|\\psi^b>$ directly.  Instead we measure $|<\\psi^a|P_{ab,p}|\\psi^b>|^2$ which tells us nothing about the sign.  \n",
    "\n",
    "To fix the issue we need to find a way to use the counts to recreate the desired measurement.  This can be done by looking at the counts in each occupation state. \n",
    "\n",
    "First we need to go through the circuit and add a $R_y(-\\pi/2)$ gate on each qubit where $P_{ab,p}$ applies an X and an $R_x(\\pi/2)$ gate to each qubit where $P_{ab,p}$ applies an Y.  This rotates all of the Pauli terms to Z.   Then we can take the count for each occupation state mulitply that count by $(-1)^n$ where n is the number of up qubits with a Puali term in $P_{ab,p}$. \n",
    "\n",
    "for example:\n",
    "\n",
    "\\begin{equation}\n",
    "\\begin{split}\n",
    "<\\psi|XZ|\\psi> &= <(R_y(\\pi/2)\\otimes I)\\psi|R^{\\dagger}_y(\\pi/2)XR_y(\\pi/2)\\otimes Z|(R^{\\dagger}_y(\\pi/2)\\otimes I)\\psi>\n",
    "\\\\\n",
    "& = <(R_y(\\pi/2)\\otimes I)\\psi|ZZ|(R^{\\dagger}_y(\\pi/2)\\otimes I)\\psi>\n",
    "\\\\\n",
    "& = |<00|R^{\\dagger}_y(\\pi/2)\\psi>|^2 + (-1)^1|<10|R^{\\dagger}_y(\\pi/2) \\psi>|^2 + (-1)^1|<01|R^{\\dagger}_y(\\pi/2) \\psi>|^2 + (-1)^2|<11|R^{\\dagger}_y(\\pi/2) \\psi>|^2\n",
    "\\end{split}\n",
    "\\end{equation}\n",
    "\n",
    "This unfortunetly does not work for $|\\psi^a> \\neq |\\psi_b>$\n",
    "\n"
   ]
  },
  {
   "cell_type": "code",
   "execution_count": 589,
   "id": "9bb97d52",
   "metadata": {},
   "outputs": [
    {
     "name": "stdout",
     "output_type": "stream",
     "text": [
      "(-0.2381742951601455+0j)\n",
      "-0.2381742951601454\n",
      "-0.296875\n"
     ]
    }
   ],
   "source": [
    "from qiskit import Aer\n",
    "from qiskit.visualization import *\n",
    "from qiskit import quantum_info as qi\n",
    "\n",
    "def measure_pauli(p_label,psi0,method = 'simple'):\n",
    "    \n",
    "    #Simple method of calculation####\n",
    "    if method == 'simple':\n",
    "        wave0 = qi.Statevector.from_instruction(psi0)\n",
    "        Op = qi.Operator.from_label(p_label)\n",
    "        return np.dot(np.conjugate(wave0),np.dot(Op,wave0))\n",
    "    #################################\n",
    "        \n",
    "    #apply rotations#################\n",
    "    psi = copy.deepcopy(psi0)\n",
    "    pauli_qs = []\n",
    "    Z_label = ''\n",
    "    Q = len(p_label)\n",
    "    for q,p in enumerate(p_label):\n",
    "        if p == 'X':\n",
    "            psi.ry(-np.pi/2,Q-1-q)\n",
    "            pauli_qs.append(1)\n",
    "            Z_label += 'Z'\n",
    "        if p == 'Y':\n",
    "            psi.rx(np.pi/2,Q-1-q)\n",
    "            pauli_qs.append(1)\n",
    "            Z_label += 'Z'\n",
    "        if p == 'Z':\n",
    "            pauli_qs.append(1)\n",
    "            Z_label += 'Z'\n",
    "        if p == 'I':\n",
    "            pauli_qs.append(0)\n",
    "            Z_label += 'I'\n",
    "    ################################\n",
    "    \n",
    "    #Using matrix multiplication####\n",
    "    if method == 'matrix':\n",
    "        # add results\n",
    "        wave = qi.Statevector.from_instruction(psi)\n",
    "        r = wave.probabilities_dict()\n",
    "        z_measure = 0\n",
    "        for key in list(r.keys()):\n",
    "            n = 0\n",
    "            for q in range(len(key)):\n",
    "                if key[q] == '1' and pauli_qs[q] == 1:\n",
    "                    n += 1\n",
    "            z_measure += (-1)**n * r[key] \n",
    "        return z_measure\n",
    "    #################################\n",
    "    \n",
    "    #Using the qasm simulator########\n",
    "    if method == \"simulator\":\n",
    "        sim = Aer.get_backend(\"qasm_simulator\")\n",
    "        psi.measure(psi.qubits,psi.clbits)\n",
    "        r = execute(psi, backend = sim).result().get_counts()\n",
    "        z_measure = 0\n",
    "        total = 0\n",
    "        for key in list(r.keys()):\n",
    "            n = 0\n",
    "            for q in range(len(key)):\n",
    "                if key[q] == '1' and pauli_qs[q] == 1:\n",
    "                    n += 1\n",
    "            z_measure += (-1)**n * r[key] \n",
    "            total += r[key]\n",
    "        return z_measure/total\n",
    "    ###################################\n",
    "    \n",
    "    raise NameError(method + ' is not a recognized method')\n",
    "    return method + ' is not a recognized method'\n",
    "  \n",
    "\n",
    "#Run a test\n",
    "import copy\n",
    "qr = QuantumRegister(Q)\n",
    "cr = ClassicalRegister(Q)\n",
    "cir = QuantumCircuit(qr , cr)\n",
    "psi0 = U(cir,[[1.2,2.3,3.4]])\n",
    "p_label = blocks['0,0'][7].primitive.to_label()\n",
    "        \n",
    "    \n",
    "print( measure_pauli(p_label,psi0,method = 'simple') )\n",
    "print( measure_pauli(p_label,psi0,method = 'matrix') )\n",
    "print( measure_pauli(p_label,psi0,method = 'simulator') )\n",
    "#print( measure_pauli(p_label,psi0,method = 'Moon_Cheese') )"
   ]
  },
  {
   "cell_type": "markdown",
   "id": "e98a44dd",
   "metadata": {},
   "source": [
    "In order to calculate things like \n",
    "$$<\\psi^a|ZZ|\\psi^b>$$ \n",
    "we will need to add another qubit and build the combined statevector \n",
    "$$ |\\psi^{ab}> = |0>|\\psi^a> + |1>|\\psi_b> $$\n",
    "then we can calculate\n",
    "$$ <\\psi^{ab}|X\\otimes ZZ|\\psi^{ab}> = <\\psi^{ab}|\\left(|1>ZZ|\\psi^a> + |0>ZZ|\\psi_b> \\right) = <\\psi^{a}|ZZ|\\psi^{b}> + <\\psi^{b}|ZZ|\\psi^{a}>  $$ \n",
    "$$ <\\psi^{ab}|Y\\otimes ZZ|\\psi^{ab}> = <\\psi^{ab}|\\left(|1>ZZ|\\psi^a> + |0>ZZ|\\psi_b> \\right) = i<\\psi^{a}|ZZ|\\psi^{b}> - i<\\psi^{b}|ZZ|\\psi^{a}>  $$ \n",
    "\n",
    "$$ <\\psi^{ab}|X\\otimes ZZ|\\psi^{ab}> +  i <\\psi^{ab}|Y\\otimes ZZ|\\psi^{ab}> = <\\psi^{a}|ZZ|\\psi^{b}> $$\n",
    "\n",
    "In order to form the combined statevector we need to create a circuit which performs \n",
    "$$ U^{ab} = I\\otimes U^a + X \\otimes U^b$$\n",
    "This as done in the Ansatz section.   Here we will use that result to calculate E."
   ]
  },
  {
   "cell_type": "code",
   "execution_count": 590,
   "id": "b2fb0615",
   "metadata": {},
   "outputs": [
    {
     "name": "stdout",
     "output_type": "stream",
     "text": [
      "check: (9.080750055327195+0j)\n",
      "simple: (9.080750055327194+0j)\n",
      "matrix: 9.080750055327194\n",
      "simulator: 9.13671875\n"
     ]
    }
   ],
   "source": [
    "import random\n",
    "\n",
    "alpha = 1/np.sqrt(bL)*np.array([1 for b in range(bL)])\n",
    "\n",
    "#Create an arbitrary collection of rotation angles\n",
    "T = 1\n",
    "phi = []\n",
    "for b in range(bL):\n",
    "    phi_b = []\n",
    "    for ti in range(T):\n",
    "        phi_t = []\n",
    "        for q in range(Q):\n",
    "            rand = random.random()\n",
    "            phi_t.append(rand)\n",
    "        phi_b.append(phi_t)\n",
    "    phi.append(phi_b)\n",
    "\n",
    "#Find the energy contribution from diagonal blocks\n",
    "def E_on_block(phi_b,block,method = 'simple'):\n",
    "    E = 0\n",
    "    qr = QuantumRegister(Q)\n",
    "    cr = ClassicalRegister(Q)\n",
    "    cir = QuantumCircuit(qr , cr)\n",
    "    psi0 = U(cir,phi_b)\n",
    "    for p in block:\n",
    "        psi = copy.deepcopy(psi0)\n",
    "        w = p.coeff\n",
    "        p_label = p.primitive.to_label()\n",
    "        E_p = measure_pauli( p_label,psi,method = method)\n",
    "        E += w*E_p\n",
    "    return E\n",
    "        \n",
    "        \n",
    "block = blocks['0,0']\n",
    "phi_b = phi[0]\n",
    "\n",
    "M_b = np.sum(block).to_matrix()\n",
    "qr = QuantumRegister(Q)\n",
    "cr = ClassicalRegister(Q)\n",
    "cir = QuantumCircuit(qr , cr)\n",
    "psi0 = U(cir,phi_b)\n",
    "wave = qi.Statevector.from_instruction(psi0).data\n",
    "print('check:',np.dot(np.conjugate(wave),np.dot(M_b,wave)))\n",
    "\n",
    "print('simple:',E_on_block(phi_b,block,method = 'simple'))\n",
    "print('matrix:',E_on_block(phi_b,block,method = 'matrix'))\n",
    "print('simulator:',E_on_block(phi_b,block,method = 'simulator'))\n",
    "#print('mooncheese:',E_on_block(phi_b,block,method = 'mooncheese'))"
   ]
  },
  {
   "cell_type": "code",
   "execution_count": 591,
   "id": "23013450",
   "metadata": {},
   "outputs": [
    {
     "name": "stdout",
     "output_type": "stream",
     "text": [
      "check: (0.3272342622847604+0j)\n",
      "simple: (0.3272342622847603+0j)\n",
      "matrix: (0.3272342622847603-1.1649752343356745e-16j)\n",
      "simulator: (0.3271484375-0.005859375j)\n"
     ]
    }
   ],
   "source": [
    "# Find the energy contribution from off diagonal blocks\n",
    "def E_off_block(phi_a,phi_b,block,method = 'simple'):\n",
    "    E = 0\n",
    "    qr = QuantumRegister(Q+1)\n",
    "    cr = ClassicalRegister(Q+1)\n",
    "    cir = QuantumCircuit(qr , cr)\n",
    "    psi0 = U_off(cir,phi_a,phi_b)\n",
    "    for p in block:\n",
    "        psi = copy.deepcopy(psi0)\n",
    "        w = p.coeff\n",
    "        p_label = p.primitive.to_label()\n",
    "        E_px = measure_pauli('X' + p_label,psi,method = method)\n",
    "        E_py = measure_pauli('Y' + p_label,psi,method = method)\n",
    "        E += w*(E_px + 1j*E_py)/2\n",
    "    return E\n",
    "\n",
    "block = blocks['0,1']\n",
    "phi_a = phi[0]\n",
    "phi_b = phi[1]\n",
    "M_b = np.sum(block).to_matrix()\n",
    "#A\n",
    "qr = QuantumRegister(Q)\n",
    "cr = ClassicalRegister(Q)\n",
    "cir = QuantumCircuit(qr , cr)\n",
    "psi_a = U(cir,phi_a)\n",
    "wave_a = qi.Statevector.from_instruction(psi_a).data\n",
    "#B\n",
    "qr = QuantumRegister(Q)\n",
    "cr = ClassicalRegister(Q)\n",
    "cir = QuantumCircuit(qr , cr)\n",
    "psi_b = U(cir,phi_b)\n",
    "wave_b = qi.Statevector.from_instruction(psi_b).data\n",
    "print('check:',1/2*np.dot(np.conjugate(wave_a),np.dot(M_b,wave_b)))\n",
    "\n",
    "print('simple:',E_off_block(phi_a,phi_b,block,method = 'simple'))\n",
    "print('matrix:',E_off_block(phi_a,phi_b,block,method = 'matrix'))\n",
    "print('simulator:',E_off_block(phi_a,phi_b,block,method = 'simulator'))\n",
    "#print('mooncheese:',E_off_block(phi_a,phi_b,block,method = 'mooncheese'))"
   ]
  },
  {
   "cell_type": "code",
   "execution_count": 592,
   "id": "fa003243",
   "metadata": {},
   "outputs": [
    {
     "data": {
      "text/plain": [
       "(6.570203891559073+0j)"
      ]
     },
     "execution_count": 592,
     "metadata": {},
     "output_type": "execute_result"
    }
   ],
   "source": [
    "# The total energy \n",
    "def find_E(alpha,phi,blocks,method = 'simple'):\n",
    "    E = 0\n",
    "    for key in list(blocks.keys()):\n",
    "        if key[0] == key[2]:\n",
    "            E += alpha[int(key[0])]*alpha[int(key[2])]*E_on_block(phi[int(key[0])],blocks[key],method = method)\n",
    "        else:\n",
    "            E += 2*alpha[int(key[0])]*alpha[int(key[2])]*E_off_block(phi[int(key[0])],phi[int(key[2])],blocks[key],method = method)\n",
    "    return E\n",
    "            \n",
    "find_E(alpha,phi,blocks)"
   ]
  },
  {
   "cell_type": "code",
   "execution_count": 593,
   "id": "94a3c0d2",
   "metadata": {},
   "outputs": [
    {
     "data": {
      "text/plain": [
       "(6.570203891559075+0j)"
      ]
     },
     "execution_count": 593,
     "metadata": {},
     "output_type": "execute_result"
    }
   ],
   "source": [
    "#Check against H_complete               \n",
    "wave_full = []\n",
    "for b in range(bL):\n",
    "    qr = QuantumRegister(Q)\n",
    "    cr = ClassicalRegister(Q)\n",
    "    cir = QuantumCircuit(qr , cr)\n",
    "    psi_b = U(cir,phi[b])\n",
    "    wave_b = alpha[b]*qi.Statevector.from_instruction(psi_b).data\n",
    "    wave_full.append(wave_b)\n",
    "wave_full = np.array(wave_full).flatten()\n",
    "\n",
    "np.dot(np.conjugate(wave_full),np.dot(H_complete,wave_full))\n"
   ]
  },
  {
   "cell_type": "markdown",
   "id": "8265f56a",
   "metadata": {},
   "source": [
    "First we need to inialize our set of parameters.  To do this we need to decide on the number of times we will apply Ui.  As a first attempt let's just have a depth of 1 (i.e. $U = Ui$).  \n",
    "\n",
    "In this case, we need a parameter for each qubit for each section."
   ]
  },
  {
   "cell_type": "code",
   "execution_count": 594,
   "id": "8f3c3a40",
   "metadata": {},
   "outputs": [
    {
     "data": {
      "text/plain": [
       "(7+0j)"
      ]
     },
     "execution_count": 594,
     "metadata": {},
     "output_type": "execute_result"
    }
   ],
   "source": [
    "alpha = 1/np.sqrt(bL)*np.array([1 for b in range(bL)])\n",
    "\n",
    "#number of blocks\n",
    "T = 2\n",
    "phi = []\n",
    "for b in range(bL):\n",
    "    phi_b = []\n",
    "    for ti in range(T):\n",
    "        phi_t = []\n",
    "        for q in range(Q):\n",
    "            phi_t.append(0)\n",
    "        phi_b.append(phi_t)\n",
    "    phi.append(phi_b)\n",
    "    \n",
    "find_E(alpha,phi,blocks)"
   ]
  },
  {
   "cell_type": "code",
   "execution_count": null,
   "id": "03169081",
   "metadata": {},
   "outputs": [],
   "source": []
  }
 ],
 "metadata": {
  "kernelspec": {
   "display_name": "Python (qiskit_25)",
   "language": "python",
   "name": "qiskit_25"
  },
  "language_info": {
   "codemirror_mode": {
    "name": "ipython",
    "version": 3
   },
   "file_extension": ".py",
   "mimetype": "text/x-python",
   "name": "python",
   "nbconvert_exporter": "python",
   "pygments_lexer": "ipython3",
   "version": "3.9.5"
  },
  "toc": {
   "base_numbering": 1,
   "nav_menu": {},
   "number_sections": true,
   "sideBar": true,
   "skip_h1_title": false,
   "title_cell": "Table of Contents",
   "title_sidebar": "Contents",
   "toc_cell": false,
   "toc_position": {},
   "toc_section_display": true,
   "toc_window_display": false
  }
 },
 "nbformat": 4,
 "nbformat_minor": 5
}
