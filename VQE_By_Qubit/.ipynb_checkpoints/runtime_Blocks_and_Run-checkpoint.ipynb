{
 "cells": [
  {
   "cell_type": "markdown",
   "id": "8b6df058",
   "metadata": {},
   "source": [
    "# Title: Block VQE with Runtime\n",
    "\n",
    "In this file we will generate the blocks from the Hamiltoniain and run a previously saved runtime program.  "
   ]
  },
  {
   "cell_type": "markdown",
   "id": "0ad251b7",
   "metadata": {},
   "source": [
    "# Generating the blocks\n",
    "\n",
    "For now I will generate the blocks from a matrix representation of the Hamiltonian.  This can be optimized later on using binary numbers and masks.  "
   ]
  },
  {
   "cell_type": "markdown",
   "id": "c8d00d62",
   "metadata": {},
   "source": [
    "We will explore this Hamiltonian:\n",
    "$$ \n",
    "    H =  \\sum_{i} \\left(x X_{i}X_{i+1} + y Y_{i} Y_{i+1} + z Z_{i} Z_{i+1}\\right) \n",
    "$$\n",
    "breaking it up into two piecies, one which will be solved classically and the other which will be solved via VQE.\n",
    "\n",
    "\\begin{equation}\n",
    "\\begin{split}\n",
    "H_{c,c'}=& T_{c,c'} + \\delta_{cc'}\\sum_{i=0}^{N_q} \\left(x X_{i}X_{i+1} + y Y_{i} Y_{i+1}  + z Z_{i} Z_{i+1}\\right) \n",
    "\\\\\n",
    "&+ \\left(B^{1x}_{c,c'}X_{0} + B^{1y}_{c,c'} Y_{0} + B^{1z}_{c,c'} Z_{0} \\right)\n",
    "\\end{split}\n",
    "\\end{equation}\n",
    "Notice that I have shifted the chaing so that the quantum part now starts at $i=0$.  The classical part contains the following paramters\n",
    "\\begin{equation}\n",
    "\\begin{split}\n",
    "& T_{c,c'} =  <c'|\\sum_{i=0}^{N_c-2}\\left(x X_{i}X_{i+1} + y Y_{i} Y_{i+1} + z Z_{i} Z_{i+1}\\right)|c> \n",
    "\\\\\n",
    "& B1^x_{c,c'} =  x<c'|X_{N_c-1}|c>\n",
    "\\\\\n",
    "&B1^y_{c,c'} = y<c'|Y_{N_c-1}|c> \n",
    "\\\\\n",
    "&B1^z_{c,c'} = z<c'|Y_{N_c-1}|c> \n",
    "\\end{split}\n",
    "\\end{equation}"
   ]
  },
  {
   "cell_type": "code",
   "execution_count": 2,
   "id": "f0f491d9",
   "metadata": {},
   "outputs": [],
   "source": [
    "import qiskit.quantum_info as qi\n",
    "\n",
    "def X(i,N):\n",
    "    label = ['I' for i in range(N)]\n",
    "    label[i] = 'X'\n",
    "    label = ''.join(label)\n",
    "    return qi.Operator.from_label(label).data\n",
    "\n",
    "def Y(i,N):\n",
    "    label = ['I' for i in range(N)]\n",
    "    label[i] = 'Y'\n",
    "    label = ''.join(label)\n",
    "    return qi.Operator.from_label(label).data\n",
    "\n",
    "def Z(i,N):\n",
    "    label = ['I' for i in range(N)]\n",
    "    label[i] = 'Z'\n",
    "    label = ''.join(label)\n",
    "    return qi.Operator.from_label(label).data"
   ]
  },
  {
   "cell_type": "code",
   "execution_count": 12,
   "id": "493f8250",
   "metadata": {},
   "outputs": [],
   "source": [
    "# A function to print the state given the numerical represenations\n",
    "def bi(num,N):\n",
    "    bi = bin(num)\n",
    "    out = []\n",
    "    Sdiff = N - len(bi) + 2\n",
    "    for i in range(0,Sdiff):\n",
    "        out.append(0)\n",
    "    for i in range(2,len(bi)):\n",
    "        out.append(int(bi[i]))\n",
    "    return out\n",
    "\n",
    "# A function which retruns the numerical representation of states given N\n",
    "def states(N):\n",
    "    out = [i for i in range(0,2**N)]\n",
    "    return out\n",
    "\n",
    "# A function to print the basis vectors given the number of qubits N\n",
    "def vecs(N):\n",
    "    out = []\n",
    "    for i in range(2**N):\n",
    "        v = [0 for i in range(2**N)]\n",
    "        v[i] = 1\n",
    "        out.append(v)\n",
    "    return out"
   ]
  },
  {
   "cell_type": "code",
   "execution_count": 13,
   "id": "23e6510a",
   "metadata": {},
   "outputs": [],
   "source": [
    "import numpy as np\n",
    "\n",
    "def Mdot(Ol):\n",
    "    out = Ol[0]\n",
    "    for i in range(1,len(Ol)):\n",
    "        out = np.dot(Ol[i],out)\n",
    "    return out\n",
    "\n",
    "def bkt(y1,O,y2):\n",
    "    return Mdot([np.conjugate(y1),O,y2])"
   ]
  },
  {
   "cell_type": "code",
   "execution_count": 14,
   "id": "233abf1b",
   "metadata": {},
   "outputs": [],
   "source": [
    "def H(x,y,z,N):\n",
    "    h = 0*X(0,N)\n",
    "    for i in range(0,N-1):\n",
    "        h += x*Mdot([X(i,N),X(i+1,N)]) + y*Mdot([Y(i,N),Y(i+1,N)]) + z*Mdot([Z(i,N),Z(i+1,N)])\n",
    "    return h\n",
    "        \n",
    "    \n",
    "import pandas as pd"
   ]
  },
  {
   "cell_type": "code",
   "execution_count": 15,
   "id": "9746a970",
   "metadata": {},
   "outputs": [],
   "source": [
    "def T(x,y,z,c,cc,Nc):\n",
    "    out = 0\n",
    "    v = vecs(Nc)\n",
    "    for i in range(0,Nc-1):\n",
    "        O = x*Mdot([X(i,Nc),X(i+1,Nc)]) + y*Mdot([Y(i,Nc),Y(i+1,Nc)]) + z*Mdot([Z(i,Nc),Z(i+1,Nc)])\n",
    "        out += bkt(v[cc],O,v[c])\n",
    "    return out\n",
    "\n",
    "def Bx(x,c,cc,Nc):\n",
    "    out = 0\n",
    "    v = vecs(Nc)\n",
    "    O = X(Nc-1,Nc)\n",
    "    out += bkt(v[cc],x*O,v[c])\n",
    "    return out\n",
    "\n",
    "def By(y,c,cc,Nc):\n",
    "    out = 0\n",
    "    v = vecs(Nc)\n",
    "    O = Y(Nc-1,Nc)\n",
    "    out += bkt(v[cc],y*O,v[c])\n",
    "    return out\n",
    "\n",
    "def Bz(z,c,cc,Nc):\n",
    "    out = 0\n",
    "    v = vecs(Nc)\n",
    "    O = Z(Nc-1,Nc)\n",
    "    out += bkt(v[cc],z*O,v[c])\n",
    "    return out"
   ]
  },
  {
   "cell_type": "code",
   "execution_count": 16,
   "id": "1c39792c",
   "metadata": {},
   "outputs": [],
   "source": [
    "from qiskit.opflow.primitive_ops import MatrixOp\n",
    "from qiskit import quantum_info as qi\n",
    "\n",
    "def H_quantum(x,y,z,c,cc,Nc,Nq):\n",
    "    tcc = T(x,y,z,c,cc,Nc)\n",
    "    Iq = np.identity(2**Nq)\n",
    "    h = [MatrixOp(tcc*Iq).to_pauli_op()]\n",
    "    h.append(MatrixOp(Bx(x,c,cc,Nc)*X(0,Nq)).to_pauli_op())\n",
    "    h.append(MatrixOp(By(y,c,cc,Nc)*Y(0,Nq)).to_pauli_op())\n",
    "    h.append(MatrixOp(Bz(z,c,cc,Nc)*Z(0,Nq)).to_pauli_op())\n",
    "    if c == cc:\n",
    "        for i in range(0,Nq-1):\n",
    "            h.append(MatrixOp(x*Mdot([X(i,Nq),X(i+1,Nq)])).to_pauli_op())\n",
    "            h.append(MatrixOp(y*Mdot([Y(i,Nq),Y(i+1,Nq)])).to_pauli_op())\n",
    "            h.append(MatrixOp(z*Mdot([Z(i,Nq),Z(i+1,Nq)])).to_pauli_op())\n",
    "    return h"
   ]
  },
  {
   "cell_type": "code",
   "execution_count": 17,
   "id": "7d578726",
   "metadata": {},
   "outputs": [],
   "source": [
    "from qiskit.opflow import SummedOp, PauliOp\n",
    "\n",
    "def Blocks(x,y,z,Nc,Nq):\n",
    "    bks = {}\n",
    "    Mc = len(states(Nc))\n",
    "    for c in range(0,Mc):\n",
    "        for cc in range(0,Mc):\n",
    "            Op = H_quantum(x,y,z,c,cc,Nc,Nq)\n",
    "            bks[str(c) + ',' + str(cc)] =  Op\n",
    "    return bks"
   ]
  },
  {
   "cell_type": "code",
   "execution_count": 22,
   "id": "b6002fdf",
   "metadata": {},
   "outputs": [
    {
     "data": {
      "text/plain": [
       "{'0,0': [PauliOp(Pauli('III'), coeff=3.0),\n",
       "  PauliOp(Pauli('III'), coeff=0.0),\n",
       "  PauliOp(Pauli('III'), coeff=0.0),\n",
       "  PauliOp(Pauli('ZII'), coeff=3.0),\n",
       "  PauliOp(Pauli('XXI'), coeff=1.0),\n",
       "  PauliOp(Pauli('YYI'), coeff=2.0),\n",
       "  PauliOp(Pauli('ZZI'), coeff=3.0),\n",
       "  PauliOp(Pauli('IXX'), coeff=1.0),\n",
       "  PauliOp(Pauli('IYY'), coeff=2.0),\n",
       "  PauliOp(Pauli('IZZ'), coeff=3.0)],\n",
       " '0,1': [PauliOp(Pauli('III'), coeff=0.0),\n",
       "  PauliOp(Pauli('XII'), coeff=1.0),\n",
       "  PauliOp(Pauli('YII'), coeff=-2j),\n",
       "  PauliOp(Pauli('III'), coeff=0.0)],\n",
       " '0,2': [PauliOp(Pauli('III'), coeff=0.0),\n",
       "  PauliOp(Pauli('III'), coeff=0.0),\n",
       "  PauliOp(Pauli('III'), coeff=0.0),\n",
       "  PauliOp(Pauli('III'), coeff=0.0)],\n",
       " '0,3': [PauliOp(Pauli('III'), coeff=-1.0),\n",
       "  PauliOp(Pauli('III'), coeff=0.0),\n",
       "  PauliOp(Pauli('III'), coeff=0.0),\n",
       "  PauliOp(Pauli('III'), coeff=0.0)],\n",
       " '1,0': [PauliOp(Pauli('III'), coeff=0.0),\n",
       "  PauliOp(Pauli('XII'), coeff=1.0),\n",
       "  PauliOp(Pauli('YII'), coeff=2j),\n",
       "  PauliOp(Pauli('III'), coeff=0.0)],\n",
       " '1,1': [PauliOp(Pauli('III'), coeff=-3.0),\n",
       "  PauliOp(Pauli('III'), coeff=0.0),\n",
       "  PauliOp(Pauli('III'), coeff=0.0),\n",
       "  PauliOp(Pauli('ZII'), coeff=-3.0),\n",
       "  PauliOp(Pauli('XXI'), coeff=1.0),\n",
       "  PauliOp(Pauli('YYI'), coeff=2.0),\n",
       "  PauliOp(Pauli('ZZI'), coeff=3.0),\n",
       "  PauliOp(Pauli('IXX'), coeff=1.0),\n",
       "  PauliOp(Pauli('IYY'), coeff=2.0),\n",
       "  PauliOp(Pauli('IZZ'), coeff=3.0)],\n",
       " '1,2': [PauliOp(Pauli('III'), coeff=3.0),\n",
       "  PauliOp(Pauli('III'), coeff=0.0),\n",
       "  PauliOp(Pauli('III'), coeff=0.0),\n",
       "  PauliOp(Pauli('III'), coeff=0.0)],\n",
       " '1,3': [PauliOp(Pauli('III'), coeff=0.0),\n",
       "  PauliOp(Pauli('III'), coeff=0.0),\n",
       "  PauliOp(Pauli('III'), coeff=0.0),\n",
       "  PauliOp(Pauli('III'), coeff=0.0)],\n",
       " '2,0': [PauliOp(Pauli('III'), coeff=0.0),\n",
       "  PauliOp(Pauli('III'), coeff=0.0),\n",
       "  PauliOp(Pauli('III'), coeff=0.0),\n",
       "  PauliOp(Pauli('III'), coeff=0.0)],\n",
       " '2,1': [PauliOp(Pauli('III'), coeff=3.0),\n",
       "  PauliOp(Pauli('III'), coeff=0.0),\n",
       "  PauliOp(Pauli('III'), coeff=0.0),\n",
       "  PauliOp(Pauli('III'), coeff=0.0)],\n",
       " '2,2': [PauliOp(Pauli('III'), coeff=-3.0),\n",
       "  PauliOp(Pauli('III'), coeff=0.0),\n",
       "  PauliOp(Pauli('III'), coeff=0.0),\n",
       "  PauliOp(Pauli('ZII'), coeff=3.0),\n",
       "  PauliOp(Pauli('XXI'), coeff=1.0),\n",
       "  PauliOp(Pauli('YYI'), coeff=2.0),\n",
       "  PauliOp(Pauli('ZZI'), coeff=3.0),\n",
       "  PauliOp(Pauli('IXX'), coeff=1.0),\n",
       "  PauliOp(Pauli('IYY'), coeff=2.0),\n",
       "  PauliOp(Pauli('IZZ'), coeff=3.0)],\n",
       " '2,3': [PauliOp(Pauli('III'), coeff=0.0),\n",
       "  PauliOp(Pauli('XII'), coeff=1.0),\n",
       "  PauliOp(Pauli('YII'), coeff=-2j),\n",
       "  PauliOp(Pauli('III'), coeff=0.0)],\n",
       " '3,0': [PauliOp(Pauli('III'), coeff=-1.0),\n",
       "  PauliOp(Pauli('III'), coeff=0.0),\n",
       "  PauliOp(Pauli('III'), coeff=0.0),\n",
       "  PauliOp(Pauli('III'), coeff=0.0)],\n",
       " '3,1': [PauliOp(Pauli('III'), coeff=0.0),\n",
       "  PauliOp(Pauli('III'), coeff=0.0),\n",
       "  PauliOp(Pauli('III'), coeff=0.0),\n",
       "  PauliOp(Pauli('III'), coeff=0.0)],\n",
       " '3,2': [PauliOp(Pauli('III'), coeff=0.0),\n",
       "  PauliOp(Pauli('XII'), coeff=1.0),\n",
       "  PauliOp(Pauli('YII'), coeff=2j),\n",
       "  PauliOp(Pauli('III'), coeff=0.0)],\n",
       " '3,3': [PauliOp(Pauli('III'), coeff=3.0),\n",
       "  PauliOp(Pauli('III'), coeff=0.0),\n",
       "  PauliOp(Pauli('III'), coeff=0.0),\n",
       "  PauliOp(Pauli('ZII'), coeff=-3.0),\n",
       "  PauliOp(Pauli('XXI'), coeff=1.0),\n",
       "  PauliOp(Pauli('YYI'), coeff=2.0),\n",
       "  PauliOp(Pauli('ZZI'), coeff=3.0),\n",
       "  PauliOp(Pauli('IXX'), coeff=1.0),\n",
       "  PauliOp(Pauli('IYY'), coeff=2.0),\n",
       "  PauliOp(Pauli('IZZ'), coeff=3.0)]}"
      ]
     },
     "execution_count": 22,
     "metadata": {},
     "output_type": "execute_result"
    }
   ],
   "source": [
    "Blocks(1,2,3,2,3)"
   ]
  },
  {
   "cell_type": "markdown",
   "id": "15057bea",
   "metadata": {},
   "source": [
    "Compare the blocks to the original Hamiltonian"
   ]
  },
  {
   "cell_type": "code",
   "execution_count": 19,
   "id": "78ce1178",
   "metadata": {},
   "outputs": [
    {
     "name": "stderr",
     "output_type": "stream",
     "text": [
      "<ipython-input-19-f43942b05d04>:24: ComplexWarning: Casting complex values to real discards the imaginary part\n",
      "  H_complete[i + bi*size, j + bj*size] = block[i,j]\n",
      "<ipython-input-19-f43942b05d04>:25: ComplexWarning: Casting complex values to real discards the imaginary part\n",
      "  H_complete[i + bj*size, j + bi*size] = block[j,i]\n"
     ]
    }
   ],
   "source": [
    "Nc = 2\n",
    "Nq = 3\n",
    "x = 1\n",
    "y = 2\n",
    "z = 3\n",
    "blocks = Blocks(x,y,z,Nc,Nq)\n",
    "\n",
    "keys = list(blocks.keys())\n",
    "\n",
    "bL = len(states(Nc))\n",
    "size = 2**Nq\n",
    "H_complete = np.array([[0 for i in range(size*bL)] for j in range(size*bL)])\n",
    "\n",
    "for bi in range(bL):\n",
    "    for bj in range(bi,bL):\n",
    "        key = str(bi) + ',' + str(bj)\n",
    "        if key  in keys:\n",
    "            hl = blocks[key]\n",
    "            block = np.sum(hl).to_matrix()\n",
    "        else:\n",
    "            block = np.array([[0.0 for i in range(size)] for j in range(size)])\n",
    "        for i in range(size):\n",
    "            for j in range(size):\n",
    "                H_complete[i + bi*size, j + bj*size] = block[i,j]\n",
    "                H_complete[i + bj*size, j + bi*size] = block[j,i]"
   ]
  },
  {
   "cell_type": "code",
   "execution_count": 20,
   "id": "b3dfe4d7",
   "metadata": {},
   "outputs": [
    {
     "data": {
      "text/plain": [
       "0.0"
      ]
     },
     "execution_count": 20,
     "metadata": {},
     "output_type": "execute_result"
    }
   ],
   "source": [
    "np.amax(np.abs(H_complete - np.real(H(x,y,z,Nc+Nq))))"
   ]
  },
  {
   "cell_type": "markdown",
   "id": "96ad42ba",
   "metadata": {},
   "source": [
    "# Running the program"
   ]
  },
  {
   "cell_type": "markdown",
   "id": "54d9075c",
   "metadata": {},
   "source": [
    "## Build the initial anzats angles"
   ]
  },
  {
   "cell_type": "code",
   "execution_count": 32,
   "id": "34a9b556",
   "metadata": {},
   "outputs": [],
   "source": [
    "bL = 2**Nc\n",
    "alpha = 1/np.sqrt(bL)*np.array([1 for b in range(bL)])\n",
    "#number of blocks\n",
    "T = 2\n",
    "phi = []\n",
    "for b in range(bL):\n",
    "    phi_b = []\n",
    "    for ti in range(T):\n",
    "        phi_t = []\n",
    "        for q in range(Nq):\n",
    "            phi_t.append(0)\n",
    "        phi_b.append(phi_t)\n",
    "    phi.append(phi_b)"
   ]
  },
  {
   "cell_type": "markdown",
   "id": "930fdfd6",
   "metadata": {},
   "source": [
    "## Importing the runtime program"
   ]
  },
  {
   "cell_type": "code",
   "execution_count": 73,
   "id": "d3af9fbb",
   "metadata": {},
   "outputs": [
    {
     "name": "stderr",
     "output_type": "stream",
     "text": [
      "ibmqfactory.load_account:WARNING:2021-10-26 13:52:24,381: Credentials are already in use. The existing account in the session will be replaced.\n"
     ]
    }
   ],
   "source": [
    "import os\n",
    "from qiskit import IBMQ\n",
    "\n",
    "IBMQ.load_account()\n",
    "provider = IBMQ.get_provider(hub='ibm-q-afrl', group='air-force-lab', project='quantum-sim')  # Substitute with your provider.\n"
   ]
  },
  {
   "cell_type": "code",
   "execution_count": 74,
   "id": "bf499080",
   "metadata": {},
   "outputs": [
    {
     "name": "stdout",
     "output_type": "stream",
     "text": [
      "block-vqe:\n",
      "  Name: Block_VQE\n",
      "  Description: Performs VQE on Hamiltonian blocks so that the Hamitonian can be split into classical and quantum parts.  This program was written by Dr. John Stenger.  For help email me at jstenge2@gmail.com\n",
      "  Version: 1.0\n",
      "  Creation date: 2021-10-26T17:52:18.000000\n",
      "  Max execution time: 28800\n",
      "  Input parameters:\n",
      "    - k_max:\n",
      "      Description: The number of iterations for the VQE algorithm\n",
      "      Type: int\n",
      "      Required: True\n",
      "    - phi:\n",
      "      Description: The starting angles for the anzats circuit.  The form must be [classical block index][circuit depth index][qubit index]\n",
      "      Type: nested list of dim 3\n",
      "      Required: True\n",
      "    - alpha:\n",
      "      Description: The starting values of the wieghts of each block.  The form must be [classical block index]\n",
      "      Type: nested list of dim 3\n",
      "      Required: True\n",
      "  Interim results:\n",
      "    - k:\n",
      "      Description: Iteration number.\n",
      "      Type: int\n",
      "    - Ef:\n",
      "      Description: The energy at the end of the step\n",
      "      Type: int\n",
      "  Returns:\n",
      "    - output:\n",
      "      Description: A collection of paramter values at each iteration\n",
      "      Type: list of dictionaries\n"
     ]
    }
   ],
   "source": [
    "program_id = 'block-vqe'\n",
    "my_program = provider.runtime.program(program_id)\n",
    "\n",
    "print(my_program)"
   ]
  },
  {
   "cell_type": "markdown",
   "id": "abb608e9",
   "metadata": {},
   "source": [
    "## Run the program"
   ]
  },
  {
   "cell_type": "markdown",
   "id": "a4483dfb",
   "metadata": {},
   "source": [
    "### Simulation"
   ]
  },
  {
   "cell_type": "code",
   "execution_count": 75,
   "id": "e65eb8f4",
   "metadata": {},
   "outputs": [],
   "source": [
    "def interim_result_callback(job_id, interim_result):\n",
    "    print(f\"interim result: {interim_result}\")"
   ]
  },
  {
   "cell_type": "code",
   "execution_count": 76,
   "id": "838eac70",
   "metadata": {},
   "outputs": [],
   "source": [
    "backend = provider.backend.ibmq_qasm_simulator\n",
    "options = {'backend_name': backend.name()}\n",
    "inputs = {\"k_max\": 3, \"phi\": phi, \"alpha\": alpha, \"blocks\":blocks}\n",
    "job = provider.runtime.run(program_id, options=options, inputs=inputs, callback=interim_result_callback)"
   ]
  },
  {
   "cell_type": "code",
   "execution_count": 77,
   "id": "664330c6",
   "metadata": {},
   "outputs": [
    {
     "name": "stdout",
     "output_type": "stream",
     "text": [
      "job id: c5s40pqkh8krlc7eitrg\n",
      "interim result: {'Starting program with k_max': 3}\n",
      "interim result: {'starting iteration': 0}\n",
      "interim result: {'k': 0, 'E_A': (6.285488441342215-0.010734182889344265j)}\n",
      "interim result: {'k': 0, 'E_B': (6.795782180059522+0.0026971726190476177j)}\n",
      "interim result: {'k': 0, 'E_f': 7.052145774104182}\n",
      "interim result: {'starting iteration': 1}\n",
      "interim result: {'k': 1, 'E_A': (8.424949010827513-0.004419393878275295j)}\n",
      "interim result: {'k': 1, 'E_B': (3.215891028270295+0.002251822620527931j)}\n",
      "interim result: {'k': 1, 'E_f': 4.362256211579018}\n",
      "interim result: {'starting iteration': 2}\n",
      "interim result: {'k': 2, 'E_A': (2.5832647567674787+0.0021054931873116765j)}\n",
      "interim result: {'k': 2, 'E_B': (4.153117623554433-0.03677950614368143j)}\n",
      "interim result: {'k': 2, 'E_f': 4.054818703360807}\n"
     ]
    }
   ],
   "source": [
    "print(f\"job id: {job.job_id()}\")\n",
    "result = job.result()\n",
    "#print(result)"
   ]
  },
  {
   "cell_type": "code",
   "execution_count": 78,
   "id": "6a90dda5",
   "metadata": {
    "scrolled": true
   },
   "outputs": [
    {
     "data": {
      "text/plain": [
       "4.054818703360807"
      ]
     },
     "execution_count": 78,
     "metadata": {},
     "output_type": "execute_result"
    }
   ],
   "source": [
    "result[2]['E']"
   ]
  },
  {
   "cell_type": "markdown",
   "id": "cc7bc2ac",
   "metadata": {},
   "source": [
    "### On Chip"
   ]
  },
  {
   "cell_type": "code",
   "execution_count": 82,
   "id": "f7a0bf96",
   "metadata": {},
   "outputs": [],
   "source": [
    "def interim_result_callback(job_id, interim_result):\n",
    "    print(f\"interim result: {interim_result}\")"
   ]
  },
  {
   "cell_type": "code",
   "execution_count": 83,
   "id": "a953c11f",
   "metadata": {},
   "outputs": [],
   "source": [
    "backend = provider.get_backend('ibmq_bogota')\n",
    "options = {'backend_name': backend.name()}\n",
    "inputs = {\"k_max\": 3, \"phi\": phi, \"alpha\": alpha, \"blocks\":blocks}\n",
    "job = provider.runtime.run(program_id, options=options, inputs=inputs, callback=interim_result_callback)"
   ]
  },
  {
   "cell_type": "code",
   "execution_count": 84,
   "id": "7c5cdaf1",
   "metadata": {},
   "outputs": [
    {
     "name": "stdout",
     "output_type": "stream",
     "text": [
      "job id: c5s5phjrrcfjv06gleng\n",
      "interim result: {'Starting program with k_max': 3}\n",
      "interim result: {'starting iteration': 0}\n"
     ]
    },
    {
     "ename": "RuntimeJobFailureError",
     "evalue": "'Unable to retrieve job result. Job c5s5phjrrcfjv06gleng has failed:\\n2021-10-26T16:08:39.659520218-04:00 Traceback (most recent call last):\\n2021-10-26T16:08:39.659520218-04:00   File \"/code/program_starter.py\", line 78, in <module>\\n2021-10-26T16:08:39.659520218-04:00     final_result = main(backend, messenger, **user_params)\\n2021-10-26T16:08:39.659520218-04:00   File \"/code/program.py\", line 301, in main\\n2021-10-26T16:08:39.659520218-04:00     out = SPSA(backend, user_messenger, k_max, phi, alpha, blocks, method = \\'quantum\\', hold = True)\\n2021-10-26T16:08:39.659520218-04:00   File \"/code/program.py\", line 257, in SPSA\\n2021-10-26T16:08:39.659520218-04:00     E_A = find_E(backend,alpha_k_A, phi_k_A, blocks, method = method)\\n2021-10-26T16:08:39.659520218-04:00   File \"/code/program.py\", line 193, in find_E\\n2021-10-26T16:08:39.659520218-04:00     E += 2*alpha[int(key[0])]*alpha[int(key[2])]*E_off_block(backend,phi[int(key[0])],phi[int(key[2])],blocks[key],method = method)\\n2021-10-26T16:08:39.659520218-04:00   File \"/code/program.py\", line 182, in E_off_block\\n2021-10-26T16:08:39.659520218-04:00     E_py = measure_pauli(backend,\\'Y\\' + p_label,psi,method = method)\\n2021-10-26T16:08:39.659520218-04:00   File \"/code/program.py\", line 135, in measure_pauli\\n2021-10-26T16:08:39.659520218-04:00     r = job.result().get_counts()\\n2021-10-26T16:08:39.659520218-04:00   File \"/provider/programruntime/runtime_job.py\", line 60, in result\\n2021-10-26T16:08:39.659520218-04:00     raise JobError(f\\'Unable to retrieve result for job {self.job_id()}. \\'\\n2021-10-26T16:08:39.659520218-04:00 qiskit.providers.exceptions.JobError: \\'Unable to retrieve result for job block-vqe_c5s5phjrrcfjv06gleng_6c64_81. Job has failed: Internal Error. Error code: 9443.\\'\\n'",
     "output_type": "error",
     "traceback": [
      "\u001b[0;31m---------------------------------------------------------------------------\u001b[0m",
      "\u001b[0;31mRuntimeJobFailureError\u001b[0m                    Traceback (most recent call last)",
      "\u001b[0;32m<ipython-input-84-e013d4a23f1b>\u001b[0m in \u001b[0;36m<module>\u001b[0;34m\u001b[0m\n\u001b[1;32m      1\u001b[0m \u001b[0mprint\u001b[0m\u001b[0;34m(\u001b[0m\u001b[0;34mf\"job id: {job.job_id()}\"\u001b[0m\u001b[0;34m)\u001b[0m\u001b[0;34m\u001b[0m\u001b[0;34m\u001b[0m\u001b[0m\n\u001b[0;32m----> 2\u001b[0;31m \u001b[0mresult\u001b[0m \u001b[0;34m=\u001b[0m \u001b[0mjob\u001b[0m\u001b[0;34m.\u001b[0m\u001b[0mresult\u001b[0m\u001b[0;34m(\u001b[0m\u001b[0;34m)\u001b[0m\u001b[0;34m\u001b[0m\u001b[0;34m\u001b[0m\u001b[0m\n\u001b[0m",
      "\u001b[0;32m/opt/miniconda3/envs/qiskit_u3.1/lib/python3.9/site-packages/qiskit/providers/ibmq/runtime/runtime_job.py\u001b[0m in \u001b[0;36mresult\u001b[0;34m(self, timeout, wait, decoder)\u001b[0m\n\u001b[1;32m    149\u001b[0m             \u001b[0mself\u001b[0m\u001b[0;34m.\u001b[0m\u001b[0mwait_for_final_state\u001b[0m\u001b[0;34m(\u001b[0m\u001b[0mtimeout\u001b[0m\u001b[0;34m=\u001b[0m\u001b[0mtimeout\u001b[0m\u001b[0;34m,\u001b[0m \u001b[0mwait\u001b[0m\u001b[0;34m=\u001b[0m\u001b[0mwait\u001b[0m\u001b[0;34m)\u001b[0m\u001b[0;34m\u001b[0m\u001b[0;34m\u001b[0m\u001b[0m\n\u001b[1;32m    150\u001b[0m             \u001b[0;32mif\u001b[0m \u001b[0mself\u001b[0m\u001b[0;34m.\u001b[0m\u001b[0m_status\u001b[0m \u001b[0;34m==\u001b[0m \u001b[0mJobStatus\u001b[0m\u001b[0;34m.\u001b[0m\u001b[0mERROR\u001b[0m\u001b[0;34m:\u001b[0m\u001b[0;34m\u001b[0m\u001b[0;34m\u001b[0m\u001b[0m\n\u001b[0;32m--> 151\u001b[0;31m                 raise RuntimeJobFailureError(f\"Unable to retrieve job result. \"\n\u001b[0m\u001b[1;32m    152\u001b[0m                                              f\"{self.error_message()}\")\n\u001b[1;32m    153\u001b[0m             \u001b[0mresult_raw\u001b[0m \u001b[0;34m=\u001b[0m \u001b[0mself\u001b[0m\u001b[0;34m.\u001b[0m\u001b[0m_api_client\u001b[0m\u001b[0;34m.\u001b[0m\u001b[0mjob_results\u001b[0m\u001b[0;34m(\u001b[0m\u001b[0mjob_id\u001b[0m\u001b[0;34m=\u001b[0m\u001b[0mself\u001b[0m\u001b[0;34m.\u001b[0m\u001b[0mjob_id\u001b[0m\u001b[0;34m(\u001b[0m\u001b[0;34m)\u001b[0m\u001b[0;34m)\u001b[0m\u001b[0;34m\u001b[0m\u001b[0;34m\u001b[0m\u001b[0m\n",
      "\u001b[0;31mRuntimeJobFailureError\u001b[0m: 'Unable to retrieve job result. Job c5s5phjrrcfjv06gleng has failed:\\n2021-10-26T16:08:39.659520218-04:00 Traceback (most recent call last):\\n2021-10-26T16:08:39.659520218-04:00   File \"/code/program_starter.py\", line 78, in <module>\\n2021-10-26T16:08:39.659520218-04:00     final_result = main(backend, messenger, **user_params)\\n2021-10-26T16:08:39.659520218-04:00   File \"/code/program.py\", line 301, in main\\n2021-10-26T16:08:39.659520218-04:00     out = SPSA(backend, user_messenger, k_max, phi, alpha, blocks, method = \\'quantum\\', hold = True)\\n2021-10-26T16:08:39.659520218-04:00   File \"/code/program.py\", line 257, in SPSA\\n2021-10-26T16:08:39.659520218-04:00     E_A = find_E(backend,alpha_k_A, phi_k_A, blocks, method = method)\\n2021-10-26T16:08:39.659520218-04:00   File \"/code/program.py\", line 193, in find_E\\n2021-10-26T16:08:39.659520218-04:00     E += 2*alpha[int(key[0])]*alpha[int(key[2])]*E_off_block(backend,phi[int(key[0])],phi[int(key[2])],blocks[key],method = method)\\n2021-10-26T16:08:39.659520218-04:00   File \"/code/program.py\", line 182, in E_off_block\\n2021-10-26T16:08:39.659520218-04:00     E_py = measure_pauli(backend,\\'Y\\' + p_label,psi,method = method)\\n2021-10-26T16:08:39.659520218-04:00   File \"/code/program.py\", line 135, in measure_pauli\\n2021-10-26T16:08:39.659520218-04:00     r = job.result().get_counts()\\n2021-10-26T16:08:39.659520218-04:00   File \"/provider/programruntime/runtime_job.py\", line 60, in result\\n2021-10-26T16:08:39.659520218-04:00     raise JobError(f\\'Unable to retrieve result for job {self.job_id()}. \\'\\n2021-10-26T16:08:39.659520218-04:00 qiskit.providers.exceptions.JobError: \\'Unable to retrieve result for job block-vqe_c5s5phjrrcfjv06gleng_6c64_81. Job has failed: Internal Error. Error code: 9443.\\'\\n'"
     ]
    }
   ],
   "source": [
    "print(f\"job id: {job.job_id()}\")\n",
    "result = job.result()"
   ]
  },
  {
   "cell_type": "code",
   "execution_count": null,
   "id": "b626dcdc",
   "metadata": {},
   "outputs": [],
   "source": [
    "result[2]['E']"
   ]
  },
  {
   "cell_type": "code",
   "execution_count": null,
   "id": "f3d6fbb6",
   "metadata": {},
   "outputs": [],
   "source": []
  }
 ],
 "metadata": {
  "kernelspec": {
   "display_name": "Python (qiskit_u3.1)",
   "language": "python",
   "name": "qiskit_u3.1"
  },
  "language_info": {
   "codemirror_mode": {
    "name": "ipython",
    "version": 3
   },
   "file_extension": ".py",
   "mimetype": "text/x-python",
   "name": "python",
   "nbconvert_exporter": "python",
   "pygments_lexer": "ipython3",
   "version": "3.9.5"
  },
  "toc": {
   "base_numbering": 1,
   "nav_menu": {},
   "number_sections": true,
   "sideBar": true,
   "skip_h1_title": false,
   "title_cell": "Table of Contents",
   "title_sidebar": "Contents",
   "toc_cell": false,
   "toc_position": {},
   "toc_section_display": true,
   "toc_window_display": false
  }
 },
 "nbformat": 4,
 "nbformat_minor": 5
}
