{
 "cells": [
  {
   "cell_type": "markdown",
   "id": "80b873e4",
   "metadata": {},
   "source": [
    "# Title: Collecting Pauli's\n",
    "\n",
    "The Hamiltoniain I am studying in this folder is\n",
    "\\begin{equation}\n",
    "\\begin{split}\n",
    "H_{c,c'}=& T_{c,c'} + \\delta_{cc'}\\sum_{i=0}^{N_q-1} \\left(x X_{i}X_{i+1} + y Y_{i} Y_{i+1}  + z Z_{i} Z_{i+1}\\right) \n",
    "\\\\\n",
    "&+ \\left(B^{1x}_{c,c'}X_{0} + B^{1y}_{c,c'} Y_{0} + B^{1z}_{c,c'} Z_{0} \\right)\n",
    "\\end{split}\n",
    "\\end{equation}"
   ]
  },
  {
   "cell_type": "markdown",
   "id": "a8ff878c",
   "metadata": {},
   "source": [
    "Instead of measuring each one of these terms seperately, we can group terms which commute and measure them simultaniously.  To do this we need first to define the groups and then to find the basis in which they can be simulataniously measured.  "
   ]
  },
  {
   "cell_type": "markdown",
   "id": "c6b1644c",
   "metadata": {},
   "source": [
    "There will only ever be three boundry terms $X_0$, $Y_0$ and $Z_0, therefore, I will not worry about them.  Each boundary term will be in its own commutivity group and will be measured seperately.  \n",
    "\n",
    "The identity term commutes with all other operators so it can be put in any group. \n",
    "\n",
    "The majority of the terms are paired terms $X_iX_{i+1}$, $Y_iY_{i+1}$, $Z_iZ_{i+1}$.  If we measure each one seperately, that is $3N_q$ measurements that need to be performed.  We can reduce this to just two measurments by grouping all of the even $i$ terms together and all of the odd $i$ terms together.  For example, for $N_q = 6$ we have the even group:\n",
    "$$ G_E = \\{X_0X_1, X_2X_3, X_4X_5, Y_0Y_1, Y_2Y_3, Y_4Y_5, Z_0Z_1, Z_2Z_3, Z_4Z_5\\} $$\n",
    "and the odd group:\n",
    "$$ G_O = \\{ X_1X_2, X_3X_4, Y_1Y_2, Y_3Y_4, Z_1Z_2, Z_3Z_4 \\} $$"
   ]
  },
  {
   "cell_type": "markdown",
   "id": "a6d6152c",
   "metadata": {},
   "source": [
    "# Some helpful functions"
   ]
  },
  {
   "cell_type": "code",
   "execution_count": 88,
   "id": "38810759",
   "metadata": {},
   "outputs": [],
   "source": [
    "import qiskit.quantum_info as qi\n",
    "\n",
    "def I(N):\n",
    "    label = ['I' for i in range(N)]\n",
    "    label = ''.join(label)\n",
    "    return qi.Operator.from_label(label).data\n",
    "\n",
    "def X(i,N):\n",
    "    label = ['I' for i in range(N)]\n",
    "    label[i] = 'X'\n",
    "    label = ''.join(label)\n",
    "    return qi.Operator.from_label(label).data\n",
    "\n",
    "def Y(i,N):\n",
    "    label = ['I' for i in range(N)]\n",
    "    label[i] = 'Y'\n",
    "    label = ''.join(label)\n",
    "    return qi.Operator.from_label(label).data\n",
    "\n",
    "def Z(i,N):\n",
    "    label = ['I' for i in range(N)]\n",
    "    label[i] = 'Z'\n",
    "    label = ''.join(label)\n",
    "    return qi.Operator.from_label(label).data\n",
    "\n",
    "import numpy as np\n",
    "\n",
    "def Mdot(Ol):\n",
    "    out = Ol[0]\n",
    "    for i in range(1,len(Ol)):\n",
    "        out = np.dot(Ol[i],out)\n",
    "    return out\n",
    "\n",
    "def bkt(y1,O,y2):\n",
    "    return Mdot([np.conjugate(y1),O,y2])\n",
    "\n",
    "def Cnot(i,j,N):\n",
    "    return 1/2*(I(N) + Z(i,N) + X(j,N) - Mdot([Z(i,N),X(j,N)]))\n",
    "\n",
    "def Had(i,N):\n",
    "    return 1/np.sqrt(2)*(X(i,N) + Z(i,N))"
   ]
  },
  {
   "cell_type": "markdown",
   "id": "392b6ebe",
   "metadata": {},
   "source": [
    "# Check Comutivity\n",
    "\n",
    "Let us check that each group contains commuting terms.\n",
    "\n",
    "$$ G_E = \\{X_0X_1, X_2X_3, X_4X_5, Y_0Y_1, Y_2Y_3, Y_4Y_5, Z_0Z_1, Z_2Z_3, Z_4Z_5\\} $$\n",
    "\n",
    "$$ G_O = \\{ X_1X_2, X_3X_4, Y_1Y_2, Y_3Y_4, Z_1Z_2, Z_3Z_4 \\} $$"
   ]
  },
  {
   "cell_type": "code",
   "execution_count": 6,
   "id": "58d0a37e",
   "metadata": {},
   "outputs": [],
   "source": [
    "#GE\n",
    "x0x1 = Mdot([X(0,6),X(1,6)])\n",
    "x2x3 = Mdot([X(2,6),X(3,6)])\n",
    "x4x5 = Mdot([X(4,6),X(5,6)])\n",
    "y0y1 = Mdot([Y(0,6),Y(1,6)])\n",
    "y2y3 = Mdot([Y(2,6),Y(3,6)])\n",
    "y4y5 = Mdot([Y(4,6),Y(5,6)])\n",
    "z0z1 = Mdot([Z(0,6),Z(1,6)])\n",
    "z2z3 = Mdot([Z(2,6),Z(3,6)])\n",
    "z4z5 = Mdot([Z(4,6),Z(5,6)])\n",
    "\n",
    "#GO\n",
    "x1x2 = Mdot([X(1,6),X(2,6)])\n",
    "x3x4 = Mdot([X(3,6),X(4,6)])\n",
    "y1y2 = Mdot([Y(1,6),Y(2,6)])\n",
    "y3y4 = Mdot([Y(3,6),Y(4,6)])\n",
    "z1z2 = Mdot([Z(1,6),Z(2,6)])\n",
    "z3z4 = Mdot([Z(3,6),Z(4,6)])"
   ]
  },
  {
   "cell_type": "code",
   "execution_count": 17,
   "id": "4bd5f09d",
   "metadata": {},
   "outputs": [
    {
     "name": "stdout",
     "output_type": "stream",
     "text": [
      "0.0\n",
      "0.0\n",
      "0.0\n"
     ]
    }
   ],
   "source": [
    "print(np.amax(np.abs(Mdot([x0x1,x2x3]) - Mdot([x2x3,x0x1])))) #same type differnt sites\n",
    "print(np.amax(np.abs(Mdot([x0x1,y2y3]) - Mdot([y2y3,x0x1])))) #different type different sites\n",
    "print(np.amax(np.abs(Mdot([x0x1,y0y1]) - Mdot([y0y1,x0x1])))) #different type same sites"
   ]
  },
  {
   "cell_type": "markdown",
   "id": "7239aeef",
   "metadata": {},
   "source": [
    "# Find the shared basis"
   ]
  },
  {
   "cell_type": "markdown",
   "id": "c3d1df07",
   "metadata": {},
   "source": [
    "Any pair can be transformed into the measurment basis by the application of a CNOT gate and a Hadamard gate.\n",
    "\n",
    "$$ <H_iC_{ij} X_iX_j C_{ij}H_i> = Z_i$$\n",
    "$$ <H_iC_{ij} Z_iZ_j C_{ij}H_i> = Z_j$$\n",
    "$$ <H_iC_{ij} Y_iY_j C_{ij}H_i> = -Z_iZ_j$$"
   ]
  },
  {
   "cell_type": "code",
   "execution_count": 101,
   "id": "5ab21714",
   "metadata": {},
   "outputs": [
    {
     "name": "stdout",
     "output_type": "stream",
     "text": [
      "0.0\n",
      "0.0\n",
      "0.0\n"
     ]
    }
   ],
   "source": [
    "print(np.amax(np.abs(Mdot([Cnot(1,2,6),x1x2,Cnot(1,2,6)]) - X(1,6))))\n",
    "print(np.amax(np.abs(Mdot([Cnot(1,2,6),z1z2,Cnot(1,2,6)]) - Z(2,6) ))) \n",
    "print(np.amax(np.abs(Mdot([Cnot(1,2,6),y1y2,Cnot(1,2,6)]) + Mdot([X(1,6),Z(2,6)]) ))) "
   ]
  },
  {
   "cell_type": "code",
   "execution_count": 102,
   "id": "5c3c63ed",
   "metadata": {},
   "outputs": [
    {
     "name": "stdout",
     "output_type": "stream",
     "text": [
      "2.220446049250313e-16\n",
      "2.220446049250313e-16\n",
      "2.220446049250313e-16\n"
     ]
    }
   ],
   "source": [
    "print(np.amax(np.abs( Mdot([Had(1,6),Cnot(1,2,6),x1x2,Cnot(1,2,6),Had(1,6)])-Z(1,6) )))\n",
    "print(np.amax(np.abs( Mdot([Had(1,6),Cnot(1,2,6),z1z2,Cnot(1,2,6),Had(1,6)])-Z(2,6) ))) \n",
    "print(np.amax(np.abs( Mdot([Had(1,6),Cnot(1,2,6),y1y2,Cnot(1,2,6),Had(1,6)])+Mdot([Z(1,6),Z(2,6)]) ))) "
   ]
  },
  {
   "cell_type": "markdown",
   "id": "04368f21",
   "metadata": {},
   "source": [
    "So the total basis rotation is generated by applying $C_{i,i+1}H_i$ to all even $i$ value for GE and all odd $i$ values for GO.  The circuits for the $N_q = 6$ example are drawn below."
   ]
  },
  {
   "cell_type": "code",
   "execution_count": 104,
   "id": "01d68010",
   "metadata": {},
   "outputs": [],
   "source": [
    "from qiskit import QuantumCircuit, QuantumRegister,ClassicalRegister"
   ]
  },
  {
   "cell_type": "code",
   "execution_count": 112,
   "id": "dc7158e6",
   "metadata": {},
   "outputs": [
    {
     "data": {
      "image/png": "[encoded data removed]",
      "text/plain": [
       "<Figure size 581.469x445.48 with 1 Axes>"
      ]
     },
     "execution_count": 112,
     "metadata": {},
     "output_type": "execute_result"
    }
   ],
   "source": [
    "N_q = 6\n",
    "qr = QuantumRegister(N_q)\n",
    "cr = ClassicalRegister(N_q)\n",
    "cir_E = QuantumCircuit(qr , cr)\n",
    "for i in range(0,N_q,2):\n",
    "    cir_E.h(i)\n",
    "    cir_E.cx(i,i+1)\n",
    "cir_E.measure(qr,cr)\n",
    "cir_E.draw(output = 'mpl')"
   ]
  },
  {
   "cell_type": "code",
   "execution_count": 115,
   "id": "436c03de",
   "metadata": {},
   "outputs": [
    {
     "data": {
      "image/png": "[encoded data removed]",
      "text/plain": [
       "<Figure size 534.104x445.48 with 1 Axes>"
      ]
     },
     "execution_count": 115,
     "metadata": {},
     "output_type": "execute_result"
    }
   ],
   "source": [
    "N_q = 6\n",
    "qr = QuantumRegister(N_q)\n",
    "cr = ClassicalRegister(N_q)\n",
    "cir_O = QuantumCircuit(qr , cr)\n",
    "for i in range(1,N_q-1,2):\n",
    "    cir_O.h(i)\n",
    "    cir_O.cx(i,i+1)\n",
    "cir_O.measure(qr,cr)\n",
    "cir_O.draw(output = 'mpl')"
   ]
  },
  {
   "cell_type": "markdown",
   "id": "94ff751b",
   "metadata": {},
   "source": [
    "This transforms GE and GO as follows:\n",
    "$$ G_E = \\{X_0X_1, X_2X_3, X_4X_5, Y_0Y_1, Y_2Y_3, Y_4Y_5, Z_0Z_1, Z_2Z_3, Z_4Z_5\\} \\rightarrow \\{Z_0, Z_2, Z_4, Z_0Z_1, Z_2Z_3, Z_4Z_5, Z_1, Z_3, Z_5\\}$$\n",
    "\n",
    "$$ G_O = \\{ X_1X_2, X_3X_4, Y_1Y_2, Y_3Y_4, Z_1Z_2, Z_3Z_4 \\} \\rightarrow \\{ Z_1, Z_3, Z_1Z_2, Z_3Z_4, Z_2, Z_4 \\} $$"
   ]
  },
  {
   "cell_type": "code",
   "execution_count": null,
   "id": "49275460",
   "metadata": {},
   "outputs": [],
   "source": []
  }
 ],
 "metadata": {
  "kernelspec": {
   "display_name": "Python (qiskit_u3.1)",
   "language": "python",
   "name": "qiskit_u3.1"
  },
  "language_info": {
   "codemirror_mode": {
    "name": "ipython",
    "version": 3
   },
   "file_extension": ".py",
   "mimetype": "text/x-python",
   "name": "python",
   "nbconvert_exporter": "python",
   "pygments_lexer": "ipython3",
   "version": "3.9.5"
  },
  "toc": {
   "base_numbering": 1,
   "nav_menu": {},
   "number_sections": true,
   "sideBar": true,
   "skip_h1_title": false,
   "title_cell": "Table of Contents",
   "title_sidebar": "Contents",
   "toc_cell": false,
   "toc_position": {},
   "toc_section_display": true,
   "toc_window_display": false
  }
 },
 "nbformat": 4,
 "nbformat_minor": 5
}
