{
 "cells": [
  {
   "cell_type": "markdown",
   "id": "95f084ae",
   "metadata": {},
   "source": [
    "# Block VQE by Qubit\n",
    "\n",
    "Here we will split the Hilbert space into two groups, one which will be calculated classically and the other with will be calculated using block-VQE.  Instead of splitting the Hilbert space into spin-up and spin-down as we did before, here I will split the Hilbert space into general sets of qubits.  \n",
    "\n",
    "The wavefunction is divided into classical and quantum parts\n",
    "$$\n",
    "    |\\psi> = \\sum_c \\alpha_c |c>|\\psi_{qc}>\n",
    "$$\n",
    "where $|c>$ is a basis state in the classical section and $|\\psi_q>$ is the wavefunction in the quantum section.  The weights $\\alpha_c$ have to be solved classically while the wavefunction $|\\psi_q>$ will be updated using VQE.  "
   ]
  },
  {
   "cell_type": "markdown",
   "id": "17f072e8",
   "metadata": {},
   "source": [
    "For the Hamiltonian we will take the Hubbard model.  Using the Jordan-Wigner transformation, we have,\n",
    "$$ \n",
    "    H = t \\sum_{i\\sigma} \\left(X_{i\\sigma}X_{i+1\\sigma} + Y_{i\\sigma} Y_{i+1\\sigma}\\right) + U \\sum_i Z_{i\\uparrow} Z_{i\\downarrow}\n",
    "$$"
   ]
  },
  {
   "cell_type": "markdown",
   "id": "7b7303c6",
   "metadata": {},
   "source": [
    "Let us take the first $N_c$ qubits to be in the classical sector.  Then we can take energy expectation values as,\n",
    "\\begin{equation}\n",
    "\\begin{split}\n",
    "&<\\psi|H|\\psi> = \\sum_{cc'}\\alpha_c\\alpha_c'<\\psi_{qc'}|<c'| H |c> |\\psi_{qc}>=\n",
    "\\\\\n",
    "& \\sum_{cc'\\sigma}\\alpha_c\\alpha_c't \\left( \\sum_{i=0}^{N_c-2}  <c'|\\left(X_{i\\sigma}X_{i+1\\sigma} + Y_{i\\sigma} Y_{i+1\\sigma}\\right)|c><\\psi_{qc'}|\\psi_{qc}>  + \\delta_{cc'}\\sum_{i=N_c+1}^{N} <\\psi_{qc'}| \\ \\left(X_{i\\sigma}X_{i+1\\sigma} + Y_{i\\sigma} Y_{i+1\\sigma}\\right) |\\psi_{qc}> \\right) \n",
    "\\\\\n",
    "&+ \\sum_{cc'\\sigma}\\alpha_c\\alpha_c' t \\left( <c'|X_{N_c-1\\sigma}|c><\\psi_{qc'}|X_{N_c\\sigma}|\\psi_{qc}> + <c'|Y_{N_c-1\\sigma}|c> <\\psi_{qc'}|Y_{N_c\\sigma}|\\psi_{qc}>\\right) \n",
    "\\\\\n",
    "&+ \\sum_{cc'\\sigma}\\alpha_c\\alpha_c' t \\left( <c'|X_{0\\sigma}|c><\\psi_{qc'}|X_{N\\sigma}|\\psi_{qc}> + <c'|Y_{0\\sigma}|c> <\\psi_{qc'}|Y_{N\\sigma}|\\psi_{qc}>\\right) \n",
    "\\\\\n",
    "&+\\sum_{cc'}\\alpha_c\\alpha_c'U \\left(\\sum_{i=0}^{N_c-1} <c'|Z_{i\\uparrow} Z_{i\\downarrow}|c><\\psi_{qc'}|\\psi_{qc}> + \\delta_{cc'}\\sum_{i=0}^{N_c-1} <\\psi_{qc'}|Z_{i\\uparrow} Z_{i\\downarrow}|\\psi_{qc}> \\right)\n",
    "\\end{split}\n",
    "\\end{equation}"
   ]
  },
  {
   "cell_type": "markdown",
   "id": "08a4ecaa",
   "metadata": {},
   "source": [
    "Anything in the classical brakets are calculated classically while anything in the quantum brackets are calculated using quantum hardware.  Notice that some of the quantum brakets are wieghted by classical brackets.  This is not a problem.  "
   ]
  },
  {
   "cell_type": "markdown",
   "id": "ea54d5b6",
   "metadata": {},
   "source": [
    "## Classical part\n",
    "\n",
    "### Define Pauli Matrices\n",
    "\n",
    "Let us define the Pauli matrices so we can do the classical calculations."
   ]
  },
  {
   "cell_type": "code",
   "execution_count": 40,
   "id": "89baf3f4",
   "metadata": {},
   "outputs": [],
   "source": [
    "import qiskit.quantum_info as qi\n",
    "\n",
    "def X(i,s,N):\n",
    "    label = ['I' for i in range(2*N)]\n",
    "    label[i+s*N] = 'X'\n",
    "    label = ''.join(label)\n",
    "    return qi.Operator.from_label(label).data\n",
    "\n",
    "def Y(i,s,N):\n",
    "    label = ['I' for i in range(2*N)]\n",
    "    label[i+s*N] = 'Y'\n",
    "    label = ''.join(label)\n",
    "    return qi.Operator.from_label(label).data\n",
    "\n",
    "def Z(i,s,N):\n",
    "    label = ['I' for i in range(2*N)]\n",
    "    label[i+s*N] = 'Z'\n",
    "    label = ''.join(label)\n",
    "    return qi.Operator.from_label(label).data"
   ]
  },
  {
   "cell_type": "markdown",
   "id": "e7af43e0",
   "metadata": {},
   "source": [
    "### Generate the states\n",
    "\n",
    "We need a function which gives you the classical bassi for a given number of qubits."
   ]
  },
  {
   "cell_type": "code",
   "execution_count": 41,
   "id": "a2e69931",
   "metadata": {},
   "outputs": [],
   "source": [
    "# A function to print the state given the numerical represenations\n",
    "def bi(num,N):\n",
    "    bi = bin(num)\n",
    "    out = []\n",
    "    Sdiff = 2*N - len(bi) + 2\n",
    "    for i in range(0,Sdiff):\n",
    "        out.append(0)\n",
    "    for i in range(2,len(bi)):\n",
    "        out.append(int(bi[i]))\n",
    "    return out\n",
    "\n",
    "# A function which retruns the numerical representation of states given N\n",
    "def states(N):\n",
    "    out = [i for i in range(0,4**N)]\n",
    "    return out\n",
    "\n",
    "# A function to print the basis vectors given the number of qubits N\n",
    "def vecs(N):\n",
    "    out = []\n",
    "    for i in range(4**N):\n",
    "        v = [0 for i in range(4**N)]\n",
    "        v[i] = 1\n",
    "        out.append(v)\n",
    "    return out"
   ]
  },
  {
   "cell_type": "code",
   "execution_count": 58,
   "id": "f34272d3",
   "metadata": {},
   "outputs": [],
   "source": [
    "import numpy as np\n",
    "\n",
    "def Mdot(Ol):\n",
    "    out = Ol[0]\n",
    "    for i in range(1,len(Ol)):\n",
    "        out = np.dot(Ol[i],out)\n",
    "    return out\n",
    "\n",
    "def bkt(y1,O,y2):\n",
    "    return Mdot([np.conjugate(y1),O,y2])\n"
   ]
  },
  {
   "cell_type": "markdown",
   "id": "df0e1d03",
   "metadata": {},
   "source": [
    "### Calculating the classical brakets\n",
    "\n",
    "We can calculate all of the classical brakets before we start VQE.  Once we have the value of each braket we simply store it as a weight for the various quantum brakets.  There are five types of classical brakets we need to calculate.\n",
    "\n",
    "\\begin{equation}\n",
    "\\begin{split}\n",
    "& T_{c,c'} =  t<c'|\\sum_{\\sigma}\\sum_{i=0}^{N_c-2}\\left(X_{i\\sigma}X_{i+1\\sigma} + Y_{i\\sigma} Y_{i+1\\sigma}\\right)|c> \n",
    "\\\\\n",
    "& B1^x_{c,c'} =  t<c'|\\sum_{\\sigma}X_{N_c-1\\sigma}|c>\n",
    "\\\\\n",
    "&B1^y_{c,c'} = t<c'|\\sum_{\\sigma}Y_{N_c-1\\sigma}|c> \n",
    "\\\\\n",
    "& B0^x_{c,c'} =  t<c'|\\sum_{\\sigma}X_{0\\sigma}|c>\n",
    "\\\\\n",
    "&B0^y_{c,c'} = t<c'|\\sum_{\\sigma}Y_{0\\sigma}|c> \n",
    "\\\\\n",
    "&U_{c,c'} = U<c'|\\sum_{\\sigma}\\sum_{i=0}^{N_c-1} Z_{i\\uparrow} Z_{i\\downarrow}|c>\n",
    "\\end{split}\n",
    "\\end{equation}"
   ]
  },
  {
   "cell_type": "code",
   "execution_count": 117,
   "id": "41d9f69c",
   "metadata": {},
   "outputs": [],
   "source": [
    "def T(t,c,cc,Nc):\n",
    "    out = 0\n",
    "    v = vecs(Nc)\n",
    "    for i in range(0,Nc-1):\n",
    "        for s in range(0,2):\n",
    "            O = Mdot([X(i,s,Nc),X(i+1,s,Nc)]) + Mdot([Y(i,s,Nc),Y(i+1,s,Nc)])\n",
    "            out += bkt(v[c],t*O,v[cc])\n",
    "    return out\n",
    "\n",
    "def B1x(t,c,cc,Nc):\n",
    "    out = 0\n",
    "    v = vecs(Nc)\n",
    "    for s in range(0,2):\n",
    "        O = X(Nc-1,s,Nc)\n",
    "        out += bkt(v[c],t*O,v[cc])\n",
    "    return out\n",
    "\n",
    "def B1y(t,c,cc,Nc):\n",
    "    out = 0\n",
    "    v = vecs(Nc)\n",
    "    for s in range(0,2):\n",
    "        O = Y(Nc-1,s,Nc)\n",
    "        out += bkt(v[c],t*O,v[cc])\n",
    "    return out\n",
    "\n",
    "def B0x(t,c,cc,Nc):\n",
    "    out = 0\n",
    "    v = vecs(Nc)\n",
    "    for s in range(0,2):\n",
    "        O = X(0,s,Nc)\n",
    "        out += bkt(v[c],t*O,v[cc])\n",
    "    return out\n",
    "\n",
    "def B0y(t,c,cc,Nc):\n",
    "    out = 0\n",
    "    v = vecs(Nc)\n",
    "    for s in range(0,2):\n",
    "        O = X(0,s,Nc)\n",
    "        out += bkt(v[c],t*O,v[cc])\n",
    "    return out\n",
    "\n",
    "def U(u,c,cc,Nc):\n",
    "    out = 0\n",
    "    v = vecs(Nc)\n",
    "    for i in range(0,Nc):\n",
    "        O = Mdot([Z(i,0,Nc),Z(i,1,Nc)])\n",
    "        out += bkt(v[c],u*O,v[cc])\n",
    "    return out"
   ]
  },
  {
   "cell_type": "markdown",
   "id": "534bedd3",
   "metadata": {},
   "source": [
    "We Can use these to rewrite the Hamiltoniain.  I will shift the indicies so $ N_c \\rightarrow 0 $ and $N \\rightarrow N-N_c = N_q $\n",
    "\n",
    "\\begin{equation}\n",
    "\\begin{split}\n",
    "H_{c,c'}=& T_{c,c'}+ U_{c,c'} + t\\delta_{cc'}\\sum_{i=0}^{N_q} \\sum_{\\sigma} \\left(X_{i\\sigma}X_{i+1\\sigma} + Y_{i\\sigma} Y_{i+1\\sigma}\\right) + U\\delta_{cc'}\\sum_{i=0}^{N_q} Z_{i\\uparrow} Z_{i\\downarrow}\n",
    "\\\\\n",
    "&+\\sum_{\\sigma}  \\left(B^{1x}_{c,c'}X_{0\\sigma}+ B^{1y}_{c,c'} Y_{0\\sigma}+  B^{0x}_{c,c'}X_{N_q\\sigma} + B^{0y}_{c,c'} Y_{N_q\\sigma} \\right)\n",
    "\\end{split}\n",
    "\\end{equation}"
   ]
  },
  {
   "cell_type": "code",
   "execution_count": null,
   "id": "36f2db14",
   "metadata": {},
   "outputs": [],
   "source": []
  }
 ],
 "metadata": {
  "kernelspec": {
   "display_name": "Python 3",
   "language": "python",
   "name": "python3"
  },
  "language_info": {
   "codemirror_mode": {
    "name": "ipython",
    "version": 3
   },
   "file_extension": ".py",
   "mimetype": "text/x-python",
   "name": "python",
   "nbconvert_exporter": "python",
   "pygments_lexer": "ipython3",
   "version": "3.9.5"
  }
 },
 "nbformat": 4,
 "nbformat_minor": 5
}
