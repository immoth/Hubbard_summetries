{
 "cells": [
  {
   "cell_type": "markdown",
   "id": "95f084ae",
   "metadata": {},
   "source": [
    "# Block VQE by Qubit\n",
    "\n",
    "Here we will split the Hilbert space into two groups, one which will be calculated classically and the other with will be calculated using block-VQE.  Instead of splitting the Hilbert space into spin-up and spin-down as we did before, here I will split the Hilbert space into general sets of qubits.  \n",
    "\n",
    "The wavefunction is divided into classical and quantum parts\n",
    "$$\n",
    "    |\\psi> = \\sum_c \\alpha_c |c>|\\psi_{qc}>\n",
    "$$\n",
    "where $|c>$ is a basis state in the classical section and $|\\psi_q>$ is the wavefunction in the quantum section.  The weights $\\alpha_c$ have to be solved classically while the wavefunctions $|\\psi_{qc}>$ will be updated using VQE.  "
   ]
  },
  {
   "cell_type": "markdown",
   "id": "17f072e8",
   "metadata": {},
   "source": [
    "Let's do a simple X-Y-Z model with closed boundary conditions to test the algorithm.  \n",
    "$$ \n",
    "    H =  \\sum_{i} \\left(x X_{i}X_{i+1} + y Y_{i} Y_{i+1} + z Z_{i} Z_{i+1}\\right) \n",
    "$$"
   ]
  },
  {
   "cell_type": "markdown",
   "id": "7b7303c6",
   "metadata": {},
   "source": [
    "Let us take the first $N_c$ qubits to be in the classical sector.  Then we can take energy expectation values as,\n",
    "\\begin{equation}\n",
    "\\begin{split}\n",
    "&<\\psi|H|\\psi> = \\sum_{cc'}\\alpha_c\\alpha_c'<\\psi_{qc'}|<c'| H |c> |\\psi_{qc}>=\n",
    "\\\\\n",
    "& \\sum_{cc'}\\alpha_c\\alpha_c' \\left( \\sum_{i=0}^{N_c-2}  <c'|\\left(x X_{i}X_{i+1} + y Y_{i} Y_{i+1} + z Z_{i} Z_{i+1}\\right)|c><\\psi_{qc'}|\\psi_{qc}>  + \\delta_{cc'}\\sum_{i=N_c+1}^{N} <\\psi_{qc'}| \\ \\left(x X_{i}X_{i+1} + y Y_{i} Y_{i+1} + z Z_{i} Z_{i+1}\\right) |\\psi_{qc}> \\right) \n",
    "\\\\\n",
    "&+ \\sum_{cc'}\\alpha_c\\alpha_c'  \\left( <c'|X_{N_c-1}|c><\\psi_{qc'}|X_{N_c}|\\psi_{qc}> + <c'|Y_{N_c-1}|c> <\\psi_{qc'}|Y_{N_c}|\\psi_{qc}> + <c'|Z_{N_c-1}|c><\\psi_{qc'}|Z_{N_c}|\\psi_{qc}> \\right) \n",
    "\\end{split}\n",
    "\\end{equation}"
   ]
  },
  {
   "cell_type": "markdown",
   "id": "08a4ecaa",
   "metadata": {},
   "source": [
    "Anything in the classical brakets are calculated classically while anything in the quantum brackets are calculated using quantum hardware.  Notice that some of the quantum brakets are wieghted by classical brackets.  This is not a problem.  "
   ]
  },
  {
   "cell_type": "code",
   "execution_count": 41,
   "id": "2e1046a8",
   "metadata": {},
   "outputs": [
    {
     "name": "stderr",
     "output_type": "stream",
     "text": [
      "ibmqfactory.load_account:WARNING:2021-12-09 09:56:11,504: Credentials are already in use. The existing account in the session will be replaced.\n"
     ]
    }
   ],
   "source": [
    "#Only needed if running on the quantum device\n",
    "from qiskit import IBMQ,transpile\n",
    "from qiskit.tools.monitor import job_monitor\n",
    "IBMQ.load_account()\n",
    "provider = IBMQ.get_provider(hub='ibm-q-afrl', group='air-force-lab', project='quantum-sim')\n",
    "#backend = provider.get_backend('ibmq_bogota')\n",
    "backend = provider.get_backend('ibm_lagos')"
   ]
  },
  {
   "cell_type": "markdown",
   "id": "ea54d5b6",
   "metadata": {},
   "source": [
    "## Classical part\n",
    "\n",
    "### Define Pauli Matrices\n",
    "\n",
    "Let us define the Pauli matrices so we can do the classical calculations."
   ]
  },
  {
   "cell_type": "code",
   "execution_count": 42,
   "id": "89baf3f4",
   "metadata": {},
   "outputs": [],
   "source": [
    "import qiskit.quantum_info as qi\n",
    "\n",
    "def X(i,N):\n",
    "    label = ['I' for i in range(N)]\n",
    "    label[i] = 'X'\n",
    "    label = ''.join(label)\n",
    "    return qi.Operator.from_label(label).data\n",
    "\n",
    "def Y(i,N):\n",
    "    label = ['I' for i in range(N)]\n",
    "    label[i] = 'Y'\n",
    "    label = ''.join(label)\n",
    "    return qi.Operator.from_label(label).data\n",
    "\n",
    "def Z(i,N):\n",
    "    label = ['I' for i in range(N)]\n",
    "    label[i] = 'Z'\n",
    "    label = ''.join(label)\n",
    "    return qi.Operator.from_label(label).data"
   ]
  },
  {
   "cell_type": "markdown",
   "id": "fda3ac51",
   "metadata": {},
   "source": [
    "### Generate the states\n",
    "\n",
    "We need a function which gives you the classical basss for a given number of qubits."
   ]
  },
  {
   "cell_type": "code",
   "execution_count": 43,
   "id": "a2e69931",
   "metadata": {},
   "outputs": [],
   "source": [
    "# A function to print the state given the numerical represenations\n",
    "def bi(num,N):\n",
    "    bi = bin(num)\n",
    "    out = []\n",
    "    Sdiff = N - len(bi) + 2\n",
    "    for i in range(0,Sdiff):\n",
    "        out.append(0)\n",
    "    for i in range(2,len(bi)):\n",
    "        out.append(int(bi[i]))\n",
    "    return out\n",
    "\n",
    "# A function which retruns the numerical representation of states given N\n",
    "def states(N):\n",
    "    out = [i for i in range(0,2**N)]\n",
    "    return out\n",
    "\n",
    "# A function to print the basis vectors given the number of qubits N\n",
    "def vecs(N):\n",
    "    out = []\n",
    "    for i in range(2**N):\n",
    "        v = [0 for i in range(2**N)]\n",
    "        v[i] = 1\n",
    "        out.append(v)\n",
    "    return out"
   ]
  },
  {
   "cell_type": "code",
   "execution_count": 44,
   "id": "f34272d3",
   "metadata": {},
   "outputs": [],
   "source": [
    "import numpy as np\n",
    "\n",
    "def Mdot(Ol):\n",
    "    out = Ol[0]\n",
    "    for i in range(1,len(Ol)):\n",
    "        out = np.dot(Ol[i],out)\n",
    "    return out\n",
    "\n",
    "def bkt(y1,O,y2):\n",
    "    return Mdot([np.conjugate(y1),O,y2])\n"
   ]
  },
  {
   "cell_type": "markdown",
   "id": "a2f007f8",
   "metadata": {},
   "source": [
    "### Full Hamiltoniain\n",
    "\n",
    "Let us write the un-partitioned Hamiltonain so we can compare to it later."
   ]
  },
  {
   "cell_type": "code",
   "execution_count": 45,
   "id": "7d167bee",
   "metadata": {},
   "outputs": [],
   "source": [
    "def H(x,y,z,N):\n",
    "    h = 0*X(0,N)\n",
    "    for i in range(0,N-1):\n",
    "        h += x*Mdot([X(i,N),X(i+1,N)]) + y*Mdot([Y(i,N),Y(i+1,N)]) + z*Mdot([Z(i,N),Z(i+1,N)])\n",
    "    return h\n",
    "        \n",
    "    \n",
    "import pandas as pd\n",
    "#pd.DataFrame(H(1,2,3,4))"
   ]
  },
  {
   "cell_type": "markdown",
   "id": "df0e1d03",
   "metadata": {},
   "source": [
    "### Calculating the classical brakets\n",
    "\n",
    "We can calculate all of the classical brakets before we start VQE.  Once we have the value of each braket we simply store it as a weight for the various quantum brakets.  There are five types of classical brakets we need to calculate.\n",
    "\n",
    "\\begin{equation}\n",
    "\\begin{split}\n",
    "& T_{c,c'} =  <c'|\\sum_{i=0}^{N_c-2}\\left(x X_{i}X_{i+1} + y Y_{i} Y_{i+1} + z Z_{i} Z_{i+1}\\right)|c> \n",
    "\\\\\n",
    "& B1^x_{c,c'} =  x<c'|X_{N_c-1}|c>\n",
    "\\\\\n",
    "&B1^y_{c,c'} = y<c'|Y_{N_c-1}|c> \n",
    "\\\\\n",
    "&B1^z_{c,c'} = z<c'|Y_{N_c-1}|c> \n",
    "\\end{split}\n",
    "\\end{equation}"
   ]
  },
  {
   "cell_type": "code",
   "execution_count": 46,
   "id": "41d9f69c",
   "metadata": {},
   "outputs": [],
   "source": [
    "def T(x,y,z,c,cc,Nc):\n",
    "    out = 0\n",
    "    v = vecs(Nc)\n",
    "    for i in range(0,Nc-1):\n",
    "        O = x*Mdot([X(i,Nc),X(i+1,Nc)]) + y*Mdot([Y(i,Nc),Y(i+1,Nc)]) + z*Mdot([Z(i,Nc),Z(i+1,Nc)])\n",
    "        out += bkt(v[cc],O,v[c])\n",
    "    return out\n",
    "\n",
    "def Bx(x,c,cc,Nc):\n",
    "    out = 0\n",
    "    v = vecs(Nc)\n",
    "    O = X(Nc-1,Nc)\n",
    "    out += bkt(v[cc],x*O,v[c])\n",
    "    return out\n",
    "\n",
    "def By(y,c,cc,Nc):\n",
    "    out = 0\n",
    "    v = vecs(Nc)\n",
    "    O = Y(Nc-1,Nc)\n",
    "    out += bkt(v[cc],y*O,v[c])\n",
    "    return out\n",
    "\n",
    "def Bz(z,c,cc,Nc):\n",
    "    out = 0\n",
    "    v = vecs(Nc)\n",
    "    O = Z(Nc-1,Nc)\n",
    "    out += bkt(v[cc],z*O,v[c])\n",
    "    return out\n",
    "\n"
   ]
  },
  {
   "cell_type": "markdown",
   "id": "534bedd3",
   "metadata": {},
   "source": [
    "We Can use these to rewrite the Hamiltoniain.  I will shift the indicies so $ N_c \\rightarrow 0 $.\n",
    "\n",
    "\\begin{equation}\n",
    "\\begin{split}\n",
    "H_{c,c'}=& T_{c,c'} + \\delta_{cc'}\\sum_{i=0}^{N_q} \\left(x X_{i}X_{i+1} + y Y_{i} Y_{i+1}  + z Z_{i} Z_{i+1}\\right) \n",
    "\\\\\n",
    "&+ \\left(B^{1x}_{c,c'}X_{0} + B^{1y}_{c,c'} Y_{0} + B^{1z}_{c,c'} Z_{0} \\right)\n",
    "\\end{split}\n",
    "\\end{equation}"
   ]
  },
  {
   "cell_type": "code",
   "execution_count": 47,
   "id": "36f2db14",
   "metadata": {},
   "outputs": [],
   "source": [
    "from qiskit.opflow.primitive_ops import MatrixOp\n",
    "from qiskit import quantum_info as qi\n",
    "\n",
    "\n",
    "def H_quantum(x,y,z,c,cc,Nc,Nq):\n",
    "    tcc = T(x,y,z,c,cc,Nc)\n",
    "    Iq = np.identity(2**Nq)\n",
    "    h = tcc*Iq\n",
    "    h += Bx(x,c,cc,Nc)*X(0,Nq)\n",
    "    h += By(y,c,cc,Nc)*Y(0,Nq)\n",
    "    h += Bz(z,c,cc,Nc)*Z(0,Nq)\n",
    "    if c == cc:\n",
    "        for i in range(0,Nq-1):\n",
    "            h += x*Mdot([X(i,Nq),X(i+1,Nq)]) + y*Mdot([Y(i,Nq),Y(i+1,Nq)]) + z*Mdot([Z(i,Nq),Z(i+1,Nq)])\n",
    "    return h\n",
    "    \n",
    "    \n",
    "#H_quantum(1,1,1,3,2,2,2)"
   ]
  },
  {
   "cell_type": "code",
   "execution_count": 48,
   "id": "32cbd39c",
   "metadata": {},
   "outputs": [],
   "source": [
    "def H_quantum(x,y,z,c,cc,Nc,Nq):\n",
    "    tcc = T(x,y,z,c,cc,Nc)\n",
    "    Iq = np.identity(2**Nq)\n",
    "    h = [MatrixOp(tcc*Iq).to_pauli_op()]\n",
    "    h.append(MatrixOp(Bx(x,c,cc,Nc)*X(0,Nq)).to_pauli_op())\n",
    "    h.append(MatrixOp(By(y,c,cc,Nc)*Y(0,Nq)).to_pauli_op())\n",
    "    h.append(MatrixOp(Bz(z,c,cc,Nc)*Z(0,Nq)).to_pauli_op())\n",
    "    if c == cc:\n",
    "        for i in range(0,Nq-1):\n",
    "            h.append(MatrixOp(x*Mdot([X(i,Nq),X(i+1,Nq)])).to_pauli_op())\n",
    "            h.append(MatrixOp(y*Mdot([Y(i,Nq),Y(i+1,Nq)])).to_pauli_op())\n",
    "            h.append(MatrixOp(z*Mdot([Z(i,Nq),Z(i+1,Nq)])).to_pauli_op())\n",
    "    return h"
   ]
  },
  {
   "cell_type": "code",
   "execution_count": 49,
   "id": "2020b22d",
   "metadata": {},
   "outputs": [],
   "source": [
    "from qiskit.opflow import SummedOp, PauliOp\n",
    "\n",
    "def Blocks(x,y,z,Nc,Nq):\n",
    "    bks = {}\n",
    "    Mc = len(states(Nc))\n",
    "    for c in range(0,Mc):\n",
    "        for cc in range(0,Mc):\n",
    "            Op = H_quantum(x,y,z,c,cc,Nc,Nq)\n",
    "            bks[str(c) + ',' + str(cc)] =  Op\n",
    "    return bks\n",
    "        \n",
    "    "
   ]
  },
  {
   "cell_type": "code",
   "execution_count": 50,
   "id": "2150c9e3",
   "metadata": {},
   "outputs": [
    {
     "data": {
      "text/plain": [
       "[PauliOp(Pauli('II'), coeff=3.0),\n",
       " PauliOp(Pauli('II'), coeff=0.0),\n",
       " PauliOp(Pauli('II'), coeff=0.0),\n",
       " PauliOp(Pauli('ZI'), coeff=3.0),\n",
       " PauliOp(Pauli('XX'), coeff=1.0),\n",
       " PauliOp(Pauli('YY'), coeff=2.0),\n",
       " PauliOp(Pauli('ZZ'), coeff=3.0)]"
      ]
     },
     "execution_count": 50,
     "metadata": {},
     "output_type": "execute_result"
    }
   ],
   "source": [
    "Blocks(1,2,3,2,2)['0,0']"
   ]
  },
  {
   "cell_type": "markdown",
   "id": "41f86aa3",
   "metadata": {},
   "source": [
    "Let us check that we can rebuild the Hamiltoniain."
   ]
  },
  {
   "cell_type": "code",
   "execution_count": 51,
   "id": "3d0f9617",
   "metadata": {},
   "outputs": [
    {
     "name": "stderr",
     "output_type": "stream",
     "text": [
      "<ipython-input-51-ef49c2b99a7a>:24: ComplexWarning: Casting complex values to real discards the imaginary part\n",
      "  H_complete[i + bi*size, j + bj*size] = block[i,j]\n",
      "<ipython-input-51-ef49c2b99a7a>:25: ComplexWarning: Casting complex values to real discards the imaginary part\n",
      "  H_complete[i + bj*size, j + bi*size] = block[j,i]\n"
     ]
    }
   ],
   "source": [
    "Nc = 2\n",
    "Nq = 3\n",
    "x = 1\n",
    "y = 2\n",
    "z = 3\n",
    "blocks = Blocks(x,y,z,Nc,Nq)\n",
    "\n",
    "keys = list(blocks.keys())\n",
    "\n",
    "bL = len(states(Nc))\n",
    "size = 2**Nq\n",
    "H_complete = np.array([[0 for i in range(size*bL)] for j in range(size*bL)])\n",
    "\n",
    "for bi in range(bL):\n",
    "    for bj in range(bi,bL):\n",
    "        key = str(bi) + ',' + str(bj)\n",
    "        if key  in keys:\n",
    "            hl = blocks[key]\n",
    "            block = np.sum(hl).to_matrix()\n",
    "        else:\n",
    "            block = np.array([[0.0 for i in range(size)] for j in range(size)])\n",
    "        for i in range(size):\n",
    "            for j in range(size):\n",
    "                H_complete[i + bi*size, j + bj*size] = block[i,j]\n",
    "                H_complete[i + bj*size, j + bi*size] = block[j,i]\n",
    "                "
   ]
  },
  {
   "cell_type": "code",
   "execution_count": 52,
   "id": "47336bf0",
   "metadata": {},
   "outputs": [
    {
     "data": {
      "text/plain": [
       "0.0"
      ]
     },
     "execution_count": 52,
     "metadata": {},
     "output_type": "execute_result"
    }
   ],
   "source": [
    "np.amax(np.abs(H_complete - np.real(H(x,y,z,Nc+Nq))))"
   ]
  },
  {
   "cell_type": "markdown",
   "id": "2940cc77",
   "metadata": {},
   "source": [
    "## Anzats Circuit\n",
    "\n",
    "Here we define the paramaterized circuit which we will optimize. \n",
    "\n",
    "$$ U^b_i = \\prod_q R^y_q(\\phi_{q0}^b)\\prod_{q'}C_{4q',4q'+1}C_{4q'+3,4q'+2}\\prod_{q''}C_{4q''+1,4q''+2}C_{4q''+4,4q''+3} $$\n",
    "$$ U^b = \\prod_i U^b_i $$"
   ]
  },
  {
   "cell_type": "code",
   "execution_count": 53,
   "id": "6dbde29a",
   "metadata": {},
   "outputs": [],
   "source": [
    "from qiskit import QuantumCircuit, QuantumRegister,ClassicalRegister, execute\n",
    "\n",
    "Q = Nq"
   ]
  },
  {
   "cell_type": "markdown",
   "id": "5f4fff85",
   "metadata": {},
   "source": [
    "### Diagonal Blocks"
   ]
  },
  {
   "cell_type": "code",
   "execution_count": 54,
   "id": "de476e63",
   "metadata": {},
   "outputs": [],
   "source": [
    "def Ui(cir_i,phi_i):  \n",
    "    \n",
    "    for q in range(0,Q):\n",
    "        cir_i.ry(phi_i[q],q)\n",
    "    for q in range(0,Q,4):\n",
    "        cir_i.cx(q,q+1)\n",
    "        if q + 3 < Q:\n",
    "            cir_i.cx(q+3,q+2)\n",
    "    for q in range(1,Q,4):\n",
    "        cir_i.cx(q,q+1)\n",
    "        if q + 3 < Q:\n",
    "            cir_i.cx(q+3,q+2)\n",
    "    \n",
    "    return cir_i"
   ]
  },
  {
   "cell_type": "code",
   "execution_count": 55,
   "id": "72af1fe8",
   "metadata": {},
   "outputs": [
    {
     "data": {
      "image/png": "[encoded data removed]",
      "text/plain": [
       "<Figure size 333.264x264.88 with 1 Axes>"
      ]
     },
     "execution_count": 55,
     "metadata": {},
     "output_type": "execute_result"
    }
   ],
   "source": [
    "qr = QuantumRegister(Q)\n",
    "cr = ClassicalRegister(Q)\n",
    "cir_i = QuantumCircuit(qr , cr)\n",
    "tst = Ui(cir_i,[0.2,0.3,0.4])\n",
    "\n",
    "tst.draw(output = 'mpl')"
   ]
  },
  {
   "cell_type": "code",
   "execution_count": 56,
   "id": "306be095",
   "metadata": {},
   "outputs": [],
   "source": [
    "def U(cir,phi_b):\n",
    "    T = len(phi_b)\n",
    "    for t in range(T):\n",
    "        cir = Ui(cir,phi_b[t])\n",
    "    return cir"
   ]
  },
  {
   "cell_type": "code",
   "execution_count": 57,
   "id": "70115491",
   "metadata": {},
   "outputs": [
    {
     "data": {
      "image/png": "[encoded data removed]",
      "text/plain": [
       "<Figure size 694.609x264.88 with 1 Axes>"
      ]
     },
     "execution_count": 57,
     "metadata": {},
     "output_type": "execute_result"
    }
   ],
   "source": [
    "qr = QuantumRegister(Q)\n",
    "cr = ClassicalRegister(Q)\n",
    "cir = QuantumCircuit(qr , cr)\n",
    "tst = U(cir,[[0.2,0.3,0.4],[0.5,0.6,0.7],[0.8,0.9,0.1]])\n",
    "\n",
    "tst.draw(output = 'mpl')"
   ]
  },
  {
   "cell_type": "markdown",
   "id": "d0ae3ded",
   "metadata": {},
   "source": [
    "### Off Diagonal Blocks"
   ]
  },
  {
   "cell_type": "code",
   "execution_count": 58,
   "id": "6883a225",
   "metadata": {},
   "outputs": [],
   "source": [
    "def Ui_off(cir_i,phi_a, phi_b):  \n",
    "    \n",
    "    for q in range(0,Q):\n",
    "        cir_i.ry(phi_a[q],q)\n",
    "        cir_i.cx(Q,q)\n",
    "        cir_i.ry(-(phi_b[q]-phi_a[q])/2,q)\n",
    "        cir_i.cx(Q,q)\n",
    "        cir_i.ry((phi_b[q]-phi_a[q])/2,q)\n",
    "    for q in range(0,Q,4):\n",
    "        cir_i.cx(q,q+1)\n",
    "        if q + 3 < Q:\n",
    "            cir_i.cx(q+3,q+2)\n",
    "    for q in range(1,Q,4):\n",
    "        cir_i.cx(q,q+1)\n",
    "        if q + 3 < Q:\n",
    "            cir_i.cx(q+3,q+2)\n",
    "    \n",
    "    return cir_i"
   ]
  },
  {
   "cell_type": "code",
   "execution_count": 59,
   "id": "d12fdb7d",
   "metadata": {},
   "outputs": [
    {
     "data": {
      "image/png": "[encoded data removed]",
      "text/plain": [
       "<Figure size 874.773x325.08 with 1 Axes>"
      ]
     },
     "execution_count": 59,
     "metadata": {},
     "output_type": "execute_result"
    }
   ],
   "source": [
    "qr = QuantumRegister(Q+1)\n",
    "cr = ClassicalRegister(Q+1)\n",
    "cir_i = QuantumCircuit(qr , cr)\n",
    "tst = Ui_off(cir_i,[0.2,0.3,0.4],[2.2,0.7,0.1])\n",
    "\n",
    "tst.draw(output = 'mpl')"
   ]
  },
  {
   "cell_type": "code",
   "execution_count": 60,
   "id": "452f88a4",
   "metadata": {},
   "outputs": [
    {
     "name": "stdout",
     "output_type": "stream",
     "text": [
      "A:\n",
      "[0.68180665+0.j 0.01033899+0.j 0.02088826+0.j 0.01386716+0.j\n",
      " 0.13820905+0.j 0.00209582+0.j 0.103045  +0.j 0.06840885+0.j]\n",
      "B:\n",
      "[0.3009187 +0.j 0.21581687+0.j 0.00549678+0.j 0.02958631+0.j\n",
      " 0.01505849+0.j 0.01079984+0.j 0.1098439 +0.j 0.59123293+0.j]\n",
      "AB:\n",
      "[0.68180665+0.j 0.01033899+0.j 0.02088826+0.j 0.01386716+0.j\n",
      " 0.13820905+0.j 0.00209582+0.j 0.103045  +0.j 0.06840885+0.j\n",
      " 0.3009187 +0.j 0.21581687+0.j 0.00549678+0.j 0.02958631+0.j\n",
      " 0.01505849+0.j 0.01079984+0.j 0.1098439 +0.j 0.59123293+0.j]\n"
     ]
    }
   ],
   "source": [
    "#An example block a circuit\n",
    "qr = QuantumRegister(Q)\n",
    "cr = ClassicalRegister(Q)\n",
    "cir_i = QuantumCircuit(qr , cr)\n",
    "tst_a = Ui(cir_i,[0.2,0.3,0.4])\n",
    "\n",
    "#An example block b circuit\n",
    "qr = QuantumRegister(Q)\n",
    "cr = ClassicalRegister(Q)\n",
    "cir_i = QuantumCircuit(qr , cr)\n",
    "tst_b = Ui(cir_i,[2.2,0.7,0.1])\n",
    "\n",
    "#The combination of the two blocks\n",
    "qr = QuantumRegister(Q+1)\n",
    "cr = ClassicalRegister(Q+1)\n",
    "cir_i = QuantumCircuit(qr , cr)\n",
    "cir_i.h(Q)\n",
    "tst_off = Ui_off(cir_i,[0.2,0.3,0.4],[2.2,0.7,0.1])\n",
    "\n",
    "print('A:')\n",
    "print(1/np.sqrt(2)*qi.Statevector.from_instruction(tst_a).data)\n",
    "print('B:')\n",
    "print(1/np.sqrt(2)*qi.Statevector.from_instruction(tst_b).data)\n",
    "print('AB:')\n",
    "print(qi.Statevector.from_instruction(tst_off).data)"
   ]
  },
  {
   "cell_type": "code",
   "execution_count": 61,
   "id": "eac7d799",
   "metadata": {},
   "outputs": [],
   "source": [
    "def U_off(cir,phi_a,phi_b):\n",
    "    T = len(phi_b)\n",
    "    cir.h(Q)\n",
    "    for t in range(T):\n",
    "        cir = Ui_off(cir,phi_a[t],phi_b[t])\n",
    "    return cir"
   ]
  },
  {
   "cell_type": "code",
   "execution_count": 62,
   "id": "9c51d6b4",
   "metadata": {},
   "outputs": [
    {
     "data": {
      "image/png": "[encoded data removed]",
      "text/plain": [
       "<Figure size 1657.66x686.28 with 1 Axes>"
      ]
     },
     "execution_count": 62,
     "metadata": {},
     "output_type": "execute_result"
    }
   ],
   "source": [
    "qr = QuantumRegister(Q+1)\n",
    "cr = ClassicalRegister(Q+1)\n",
    "cir = QuantumCircuit(qr , cr)\n",
    "tst = U_off(cir,[[0.2,0.3,0.4],[0.5,0.6,0.7],[0.8,0.9,0.1]],[[2.2,1.3,0.1],[0.5,0.6,0.7],[0.5,0.2,0.4]])\n",
    "\n",
    "tst.draw(output = 'mpl')"
   ]
  },
  {
   "cell_type": "markdown",
   "id": "649886b4",
   "metadata": {},
   "source": [
    "# Calculating E\n",
    "\n",
    "$$ E = \\sum_{ab}<\\psi^a|H_{ab}|\\psi^b> = \\sum_{ab}<000\\ldots|U^{\\dagger}(\\{\\phi^a\\})H_{ab}U(\\{\\phi^b\\})|000\\ldots>$$\n",
    "\n",
    "each $H_{ab}$ can be brocken down into its Puali components so that $H_{ab} = \\sum_p c_p P_{ab,p}$.  Then we have\n",
    "\n",
    "$$ E = \\sum_{ab}\\sum_p c_p <000\\ldots|U^{\\dagger}(\\{\\phi^a\\})  P_{ab,p}U(\\{\\phi^b\\})|000\\ldots>$$.\n",
    "\n",
    "We cannot measure $<\\psi^a|P_{ab,p}|\\psi^b>$ directly.  Instead we measure $|<\\psi^a|P_{ab,p}|\\psi^b>|^2$ which tells us nothing about the sign.  \n",
    "\n",
    "To fix the issue we need to find a way to use the counts to recreate the desired measurement.  This can be done by looking at the counts in each occupation state. \n",
    "\n",
    "First we need to go through the circuit and add a $R_y(-\\pi/2)$ gate on each qubit where $P_{ab,p}$ applies an X and an $R_x(\\pi/2)$ gate to each qubit where $P_{ab,p}$ applies an Y.  This rotates all of the Pauli terms to Z.   Then we can take the count for each occupation state mulitply that count by $(-1)^n$ where n is the number of up qubits with a Puali term in $P_{ab,p}$. \n",
    "\n",
    "for example:\n",
    "\n",
    "\\begin{equation}\n",
    "\\begin{split}\n",
    "<\\psi|XZ|\\psi> &= <(R_y(\\pi/2)\\otimes I)\\psi|R^{\\dagger}_y(\\pi/2)XR_y(\\pi/2)\\otimes Z|(R^{\\dagger}_y(\\pi/2)\\otimes I)\\psi>\n",
    "\\\\\n",
    "& = <(R_y(\\pi/2)\\otimes I)\\psi|ZZ|(R^{\\dagger}_y(\\pi/2)\\otimes I)\\psi>\n",
    "\\\\\n",
    "& = |<00|R^{\\dagger}_y(\\pi/2)\\psi>|^2 + (-1)^1|<10|R^{\\dagger}_y(\\pi/2) \\psi>|^2 + (-1)^1|<01|R^{\\dagger}_y(\\pi/2) \\psi>|^2 + (-1)^2|<11|R^{\\dagger}_y(\\pi/2) \\psi>|^2\n",
    "\\end{split}\n",
    "\\end{equation}\n",
    "\n",
    "This unfortunetly does not work for $|\\psi^a> \\neq |\\psi_b>$\n",
    "\n"
   ]
  },
  {
   "cell_type": "markdown",
   "id": "b689abe0",
   "metadata": {},
   "source": [
    "### Stratagy\n",
    "\n",
    "In order to run on the quantum device, I would like to group together all of the runs so that each time I measure energy, I only have to que once.  \n",
    "\n",
    "1) We prepare the circuit to be measured for a given p_label and include measurment instructions.  \n",
    "\n",
    "2) We collect all of the p_labels from a block into a circuit array\n",
    "\n",
    "3) We collect all of the blocks into a circuit array\n",
    "\n",
    "4) we send to the backend\n",
    "\n",
    "5) we use the measurment instructions to decode the results\n",
    "\n",
    "6) sum everything together to get the energy"
   ]
  },
  {
   "cell_type": "markdown",
   "id": "33602df9",
   "metadata": {},
   "source": [
    "### Prepare the circuits\n",
    "\n",
    "This is where I left off."
   ]
  },
  {
   "cell_type": "code",
   "execution_count": 63,
   "id": "31993f70",
   "metadata": {},
   "outputs": [],
   "source": [
    "import random\n",
    "\n",
    "alpha = 1/np.sqrt(bL)*np.array([1 for b in range(bL)])\n",
    "\n",
    "#Create an arbitrary collection of rotation angles\n",
    "T = 1\n",
    "phi = []\n",
    "for b in range(bL):\n",
    "    phi_b = []\n",
    "    for ti in range(T):\n",
    "        phi_t = []\n",
    "        for q in range(Q):\n",
    "            rand = random.random()\n",
    "            phi_t.append(rand)\n",
    "        phi_b.append(phi_t)\n",
    "    phi.append(phi_b)"
   ]
  },
  {
   "cell_type": "code",
   "execution_count": 64,
   "id": "b706df5a",
   "metadata": {},
   "outputs": [
    {
     "name": "stdout",
     "output_type": "stream",
     "text": [
      "IXX\n",
      "[0, 1, 1]\n"
     ]
    },
    {
     "data": {
      "text/html": [
       "<pre style=\"word-wrap: normal;white-space: pre;background: #fff0;line-height: 1.1;font-family: &quot;Courier New&quot;,Courier,monospace\">          ┌─────────┐     ┌──────────┐            ┌─┐   \n",
       "q35165_0: ┤ RY(1.2) ├──■──┤ RY(-π/2) ├────────────┤M├───\n",
       "          ├─────────┤┌─┴─┐└──────────┘┌──────────┐└╥┘┌─┐\n",
       "q35165_1: ┤ RY(2.3) ├┤ X ├─────■──────┤ RY(-π/2) ├─╫─┤M├\n",
       "          ├─────────┤└───┘   ┌─┴─┐    └───┬─┬────┘ ║ └╥┘\n",
       "q35165_2: ┤ RY(3.4) ├────────┤ X ├────────┤M├──────╫──╫─\n",
       "          └─────────┘        └───┘        └╥┘      ║  ║ \n",
       "  c789: 3/═════════════════════════════════╩═══════╩══╩═\n",
       "                                           2       0  1 </pre>"
      ],
      "text/plain": [
       "          ┌─────────┐     ┌──────────┐            ┌─┐   \n",
       "q35165_0: ┤ RY(1.2) ├──■──┤ RY(-π/2) ├────────────┤M├───\n",
       "          ├─────────┤┌─┴─┐└──────────┘┌──────────┐└╥┘┌─┐\n",
       "q35165_1: ┤ RY(2.3) ├┤ X ├─────■──────┤ RY(-π/2) ├─╫─┤M├\n",
       "          ├─────────┤└───┘   ┌─┴─┐    └───┬─┬────┘ ║ └╥┘\n",
       "q35165_2: ┤ RY(3.4) ├────────┤ X ├────────┤M├──────╫──╫─\n",
       "          └─────────┘        └───┘        └╥┘      ║  ║ \n",
       "  c789: 3/═════════════════════════════════╩═══════╩══╩═\n",
       "                                           2       0  1 "
      ]
     },
     "execution_count": 64,
     "metadata": {},
     "output_type": "execute_result"
    }
   ],
   "source": [
    "from qiskit import Aer\n",
    "from qiskit.visualization import *\n",
    "from qiskit import quantum_info as qi\n",
    "\n",
    "def convert_to_circ(p_label,psi0):\n",
    "    #apply rotations\n",
    "    psi = copy.deepcopy(psi0)\n",
    "    pauli_qs = []\n",
    "    Z_label = ''\n",
    "    Q = len(p_label)\n",
    "    for q,p in enumerate(p_label):\n",
    "        if p == 'X':\n",
    "            psi.ry(-np.pi/2,Q-1-q)\n",
    "            pauli_qs.append(1)\n",
    "            Z_label += 'Z'\n",
    "        if p == 'Y':\n",
    "            psi.rx(np.pi/2,Q-1-q)\n",
    "            pauli_qs.append(1)\n",
    "            Z_label += 'Z'\n",
    "        if p == 'Z':\n",
    "            pauli_qs.append(1)\n",
    "            Z_label += 'Z'\n",
    "        if p == 'I':\n",
    "            pauli_qs.append(0)\n",
    "            Z_label += 'I'       \n",
    "    #apply measurment \n",
    "    psi.measure(psi.qubits,psi.clbits)\n",
    "    #return circut and measurement instructions\n",
    "    return [psi,pauli_qs]\n",
    "\n",
    "\n",
    "#Run a test\n",
    "import copy\n",
    "qr = QuantumRegister(Q)\n",
    "cr = ClassicalRegister(Q)\n",
    "cir = QuantumCircuit(qr , cr)\n",
    "psi0 = U(cir,[[1.2,2.3,3.4]])\n",
    "p_label = blocks['0,0'][7].primitive.to_label()\n",
    "        \n",
    "    \n",
    "cir_tst, lab_tst =  convert_to_circ(p_label,psi0) \n",
    "print(p_label)\n",
    "print(lab_tst)\n",
    "cir_tst.draw()"
   ]
  },
  {
   "cell_type": "markdown",
   "id": "1a2fd9b8",
   "metadata": {},
   "source": [
    "### Collect the circuits"
   ]
  },
  {
   "cell_type": "code",
   "execution_count": 65,
   "id": "68f39205",
   "metadata": {},
   "outputs": [
    {
     "name": "stdout",
     "output_type": "stream",
     "text": [
      "3.0\n",
      "[1, 0, 0]\n"
     ]
    },
    {
     "data": {
      "text/html": [
       "<pre style=\"word-wrap: normal;white-space: pre;background: #fff0;line-height: 1.1;font-family: &quot;Courier New&quot;,Courier,monospace\">          ┌─────────────┐          ┌─┐      \n",
       "q35166_0: ┤ RY(0.14766) ├──■───────┤M├──────\n",
       "          ├─────────────┤┌─┴─┐     └╥┘┌─┐   \n",
       "q35166_1: ┤ RY(0.85411) ├┤ X ├──■───╫─┤M├───\n",
       "          ├─────────────┤└───┘┌─┴─┐ ║ └╥┘┌─┐\n",
       "q35166_2: ┤ RY(0.17757) ├─────┤ X ├─╫──╫─┤M├\n",
       "          └─────────────┘     └───┘ ║  ║ └╥┘\n",
       "  c790: 3/══════════════════════════╩══╩══╩═\n",
       "                                    0  1  2 </pre>"
      ],
      "text/plain": [
       "          ┌─────────────┐          ┌─┐      \n",
       "q35166_0: ┤ RY(0.14766) ├──■───────┤M├──────\n",
       "          ├─────────────┤┌─┴─┐     └╥┘┌─┐   \n",
       "q35166_1: ┤ RY(0.85411) ├┤ X ├──■───╫─┤M├───\n",
       "          ├─────────────┤└───┘┌─┴─┐ ║ └╥┘┌─┐\n",
       "q35166_2: ┤ RY(0.17757) ├─────┤ X ├─╫──╫─┤M├\n",
       "          └─────────────┘     └───┘ ║  ║ └╥┘\n",
       "  c790: 3/══════════════════════════╩══╩══╩═\n",
       "                                    0  1  2 "
      ]
     },
     "execution_count": 65,
     "metadata": {},
     "output_type": "execute_result"
    }
   ],
   "source": [
    "#This collects the circuits for the on-diagonal blocks only\n",
    "def collect_diag_circs(phi_b,block):\n",
    "    qr = QuantumRegister(Q)\n",
    "    cr = ClassicalRegister(Q)\n",
    "    cir = QuantumCircuit(qr , cr)\n",
    "    psi0 = U(cir,phi_b)\n",
    "    cirs = []\n",
    "    meas = []\n",
    "    coef = []\n",
    "    for p in block:\n",
    "        psi = copy.deepcopy(psi0)\n",
    "        w = p.coeff\n",
    "        if np.abs(w) > 0:\n",
    "            p_label = p.primitive.to_label()\n",
    "            cir_p,meas_p  = convert_to_circ(p_label,psi)\n",
    "            cirs.append(cir_p)\n",
    "            meas.append(meas_p)\n",
    "            coef.append(w)\n",
    "    return cirs,meas,coef\n",
    "\n",
    "block = blocks['0,0']\n",
    "phi_b = phi[0]\n",
    "\n",
    "circs, meas, coefs = collect_diag_circs(phi_b,block)\n",
    "\n",
    "n=1\n",
    "print(coefs[n])\n",
    "print(meas[n])\n",
    "circs[n].draw()"
   ]
  },
  {
   "cell_type": "code",
   "execution_count": 66,
   "id": "0fdcf137",
   "metadata": {},
   "outputs": [
    {
     "name": "stdout",
     "output_type": "stream",
     "text": [
      "1.0\n",
      "[1, 1, 0, 0]\n"
     ]
    },
    {
     "data": {
      "text/html": [
       "<pre style=\"word-wrap: normal;white-space: pre;background: #fff0;line-height: 1.1;font-family: &quot;Courier New&quot;,Courier,monospace\">          ┌─────────────┐┌───┐┌──────────────┐┌───┐┌─────────────┐»\n",
       "q35167_0: ┤ RY(0.14766) ├┤ X ├┤ RY(-0.32817) ├┤ X ├┤ RY(0.32817) ├»\n",
       "          ├─────────────┤└─┬─┘└──────────────┘└─┬─┘└────┬───┬────┘»\n",
       "q35167_1: ┤ RY(0.85411) ├──┼────────────────────┼───────┤ X ├─────»\n",
       "          ├─────────────┤  │                    │       └─┬─┘     »\n",
       "q35167_2: ┤ RY(0.17757) ├──┼────────────────────┼─────────┼───────»\n",
       "          └────┬───┬────┘  │                    │         │       »\n",
       "q35167_3: ─────┤ H ├───────■────────────────────■─────────■───────»\n",
       "               └───┘                                              »\n",
       "  c791: 4/════════════════════════════════════════════════════════»\n",
       "                                                                  »\n",
       "«                                                                   ┌─┐»\n",
       "«q35167_0: ───────────────────────────────────────────■─────────────┤M├»\n",
       "«          ┌─────────────┐┌───┐┌──────────────┐     ┌─┴─┐           └╥┘»\n",
       "«q35167_1: ┤ RY(0.11216) ├┤ X ├┤ RY(-0.11216) ├─────┤ X ├────────────╫─»\n",
       "«          └─────────────┘└─┬─┘└────┬───┬─────┘┌────┴───┴─────┐┌───┐ ║ »\n",
       "«q35167_2: ─────────────────┼───────┤ X ├──────┤ RY(-0.39272) ├┤ X ├─╫─»\n",
       "«                           │       └─┬─┘      └──────────────┘└─┬─┘ ║ »\n",
       "«q35167_3: ─────────────────■─────────■──────────────────────────■───╫─»\n",
       "«                                                                    ║ »\n",
       "«  c791: 4/══════════════════════════════════════════════════════════╩═»\n",
       "«                                                                    0 »\n",
       "«                                                \n",
       "«q35167_0: ──────────────────────────────────────\n",
       "«                                          ┌─┐   \n",
       "«q35167_1: ─────────────────■──────────────┤M├───\n",
       "«          ┌─────────────┐┌─┴─┐┌──────────┐└╥┘┌─┐\n",
       "«q35167_2: ┤ RY(0.39272) ├┤ X ├┤ RY(-π/2) ├─╫─┤M├\n",
       "«          └─┬──────────┬┘└┬─┬┘└──────────┘ ║ └╥┘\n",
       "«q35167_3: ──┤ RY(-π/2) ├──┤M├──────────────╫──╫─\n",
       "«            └──────────┘  └╥┘              ║  ║ \n",
       "«  c791: 4/═════════════════╩═══════════════╩══╩═\n",
       "«                           3               1  2 </pre>"
      ],
      "text/plain": [
       "          ┌─────────────┐┌───┐┌──────────────┐┌───┐┌─────────────┐»\n",
       "q35167_0: ┤ RY(0.14766) ├┤ X ├┤ RY(-0.32817) ├┤ X ├┤ RY(0.32817) ├»\n",
       "          ├─────────────┤└─┬─┘└──────────────┘└─┬─┘└────┬───┬────┘»\n",
       "q35167_1: ┤ RY(0.85411) ├──┼────────────────────┼───────┤ X ├─────»\n",
       "          ├─────────────┤  │                    │       └─┬─┘     »\n",
       "q35167_2: ┤ RY(0.17757) ├──┼────────────────────┼─────────┼───────»\n",
       "          └────┬───┬────┘  │                    │         │       »\n",
       "q35167_3: ─────┤ H ├───────■────────────────────■─────────■───────»\n",
       "               └───┘                                              »\n",
       "  c791: 4/════════════════════════════════════════════════════════»\n",
       "                                                                  »\n",
       "«                                                                   ┌─┐»\n",
       "«q35167_0: ───────────────────────────────────────────■─────────────┤M├»\n",
       "«          ┌─────────────┐┌───┐┌──────────────┐     ┌─┴─┐           └╥┘»\n",
       "«q35167_1: ┤ RY(0.11216) ├┤ X ├┤ RY(-0.11216) ├─────┤ X ├────────────╫─»\n",
       "«          └─────────────┘└─┬─┘└────┬───┬─────┘┌────┴───┴─────┐┌───┐ ║ »\n",
       "«q35167_2: ─────────────────┼───────┤ X ├──────┤ RY(-0.39272) ├┤ X ├─╫─»\n",
       "«                           │       └─┬─┘      └──────────────┘└─┬─┘ ║ »\n",
       "«q35167_3: ─────────────────■─────────■──────────────────────────■───╫─»\n",
       "«                                                                    ║ »\n",
       "«  c791: 4/══════════════════════════════════════════════════════════╩═»\n",
       "«                                                                    0 »\n",
       "«                                                \n",
       "«q35167_0: ──────────────────────────────────────\n",
       "«                                          ┌─┐   \n",
       "«q35167_1: ─────────────────■──────────────┤M├───\n",
       "«          ┌─────────────┐┌─┴─┐┌──────────┐└╥┘┌─┐\n",
       "«q35167_2: ┤ RY(0.39272) ├┤ X ├┤ RY(-π/2) ├─╫─┤M├\n",
       "«          └─┬──────────┬┘└┬─┬┘└──────────┘ ║ └╥┘\n",
       "«q35167_3: ──┤ RY(-π/2) ├──┤M├──────────────╫──╫─\n",
       "«            └──────────┘  └╥┘              ║  ║ \n",
       "«  c791: 4/═════════════════╩═══════════════╩══╩═\n",
       "«                           3               1  2 "
      ]
     },
     "execution_count": 66,
     "metadata": {},
     "output_type": "execute_result"
    }
   ],
   "source": [
    "# This collects circuits for both on and off diagonal blocks but is unefficient for on-diagonal blocks\n",
    "def collect_off_circs(phi_a,phi_b,block):\n",
    "    qr = QuantumRegister(Q+1)\n",
    "    cr = ClassicalRegister(Q+1)\n",
    "    cir = QuantumCircuit(qr , cr)\n",
    "    psi0 = U_off(cir,phi_a,phi_b)\n",
    "    cirs = []\n",
    "    meas = []\n",
    "    coef = []\n",
    "    for p in block:\n",
    "        psi = copy.deepcopy(psi0)\n",
    "        w = p.coeff\n",
    "        if np.abs(w) > 0.0:\n",
    "            p_label = p.primitive.to_label()\n",
    "            circ_x,meas_x = convert_to_circ('X' + p_label,psi)\n",
    "            circ_y,meas_y = convert_to_circ('Y' + p_label,psi)\n",
    "            cirs.append(circ_x)\n",
    "            meas.append(meas_x)\n",
    "            coef.append(w)\n",
    "            cirs.append(circ_y)\n",
    "            meas.append(meas_y)\n",
    "            coef.append(1j*w)\n",
    "    return cirs,meas,coef\n",
    "\n",
    "\n",
    "block = blocks['0,1']\n",
    "phi_a = phi[0]\n",
    "phi_b = phi[1]\n",
    "\n",
    "circs, meas, coefs = collect_off_circs(phi_a,phi_b,block)\n",
    "\n",
    "n=0\n",
    "print(coefs[n])\n",
    "print(meas[n])\n",
    "circs[n].draw()"
   ]
  },
  {
   "cell_type": "code",
   "execution_count": 67,
   "id": "6b675274",
   "metadata": {},
   "outputs": [
    {
     "name": "stdout",
     "output_type": "stream",
     "text": [
      "56\n",
      "0.75\n",
      "[1, 0, 0]\n"
     ]
    },
    {
     "data": {
      "text/html": [
       "<pre style=\"word-wrap: normal;white-space: pre;background: #fff0;line-height: 1.1;font-family: &quot;Courier New&quot;,Courier,monospace\">          ┌─────────────┐          ┌─┐      \n",
       "q35168_0: ┤ RY(0.14766) ├──■───────┤M├──────\n",
       "          ├─────────────┤┌─┴─┐     └╥┘┌─┐   \n",
       "q35168_1: ┤ RY(0.85411) ├┤ X ├──■───╫─┤M├───\n",
       "          ├─────────────┤└───┘┌─┴─┐ ║ └╥┘┌─┐\n",
       "q35168_2: ┤ RY(0.17757) ├─────┤ X ├─╫──╫─┤M├\n",
       "          └─────────────┘     └───┘ ║  ║ └╥┘\n",
       "  c792: 3/══════════════════════════╩══╩══╩═\n",
       "                                    0  1  2 </pre>"
      ],
      "text/plain": [
       "          ┌─────────────┐          ┌─┐      \n",
       "q35168_0: ┤ RY(0.14766) ├──■───────┤M├──────\n",
       "          ├─────────────┤┌─┴─┐     └╥┘┌─┐   \n",
       "q35168_1: ┤ RY(0.85411) ├┤ X ├──■───╫─┤M├───\n",
       "          ├─────────────┤└───┘┌─┴─┐ ║ └╥┘┌─┐\n",
       "q35168_2: ┤ RY(0.17757) ├─────┤ X ├─╫──╫─┤M├\n",
       "          └─────────────┘     └───┘ ║  ║ └╥┘\n",
       "  c792: 3/══════════════════════════╩══╩══╩═\n",
       "                                    0  1  2 "
      ]
     },
     "execution_count": 67,
     "metadata": {},
     "output_type": "execute_result"
    }
   ],
   "source": [
    "# collect all the circuits \n",
    "def collect_circs(alpha,phi,blocks):\n",
    "    circs = []\n",
    "    meas = []\n",
    "    coefs = []\n",
    "    for key in list(blocks.keys()):\n",
    "        if key[0] == key[2]:\n",
    "            circ_b, meas_b, coef_b = collect_diag_circs(phi[int(key[0])],blocks[key])\n",
    "            for b in range(len(coef_b)):\n",
    "                circs.append(circ_b[b])\n",
    "                meas.append(meas_b[b])\n",
    "                coefs.append(alpha[int(key[0])]*alpha[int(key[2])]*coef_b[b])\n",
    "        else:\n",
    "            circ_b, meas_b, coef_b = collect_off_circs(phi[int(key[0])],phi[int(key[2])],blocks[key])\n",
    "            for b in range(len(coef_b)):\n",
    "                circs.append(circ_b[b])\n",
    "                meas.append(meas_b[b])\n",
    "                coefs.append(alpha[int(key[0])]*alpha[int(key[2])]*coef_b[b])\n",
    "    return circs, meas, coefs\n",
    "\n",
    "circs, meas, coefs = collect_circs(alpha,phi,blocks)\n",
    "\n",
    "n=1\n",
    "print(len(circs))\n",
    "print(coefs[n])\n",
    "print(meas[n])\n",
    "circs[n].draw()"
   ]
  },
  {
   "cell_type": "markdown",
   "id": "75c554a4",
   "metadata": {},
   "source": [
    "### Run function"
   ]
  },
  {
   "cell_type": "code",
   "execution_count": 68,
   "id": "4f9f1186",
   "metadata": {},
   "outputs": [],
   "source": [
    "circs, meas, coefs = collect_circs(alpha,phi,blocks)\n",
    "\n",
    "def get_results(circs, method = 'matrix'):\n",
    "    if method == 'matrix':\n",
    "        # add results\n",
    "        r = []\n",
    "        for l in range(len(circs)):\n",
    "            circs[l].remove_final_measurements()\n",
    "            wave = qi.Statevector.from_instruction(circs[l])\n",
    "            r_l = wave.probabilities_dict()\n",
    "            r.append(r_l)\n",
    "    \n",
    "    if method == \"simulator\":\n",
    "        sim = Aer.get_backend(\"qasm_simulator\")\n",
    "        r = execute(circs, backend = sim).result().get_counts()\n",
    "        \n",
    "    if method == \"quantum\":\n",
    "        job = backend.run(transpile(circs, backend), meas_level=2, shots=8192) \n",
    "        r = job.result().get_counts()\n",
    "        \n",
    "        \n",
    "    return r\n",
    "\n",
    "r = get_results(circs, method = 'matrix')\n",
    "#r = get_results(circs, method = 'simulator')\n",
    "#r = get_results(circs, method = 'quantum')"
   ]
  },
  {
   "cell_type": "markdown",
   "id": "e52011e1",
   "metadata": {},
   "source": [
    "### Analyze results"
   ]
  },
  {
   "cell_type": "code",
   "execution_count": 69,
   "id": "55ac6b8a",
   "metadata": {},
   "outputs": [
    {
     "data": {
      "text/plain": [
       "5.747181772535851"
      ]
     },
     "execution_count": 69,
     "metadata": {},
     "output_type": "execute_result"
    }
   ],
   "source": [
    "def energy_from_results(r,meas,coefs):\n",
    "    E = 0\n",
    "    for l in range(len(r)):\n",
    "        z_measure = 0\n",
    "        total = 0\n",
    "        for key in list(r[l].keys()):\n",
    "            n = 0\n",
    "            for q in range(len(key)):\n",
    "                if key[q] == '1' and meas[l][q] == 1:\n",
    "                    n += 1\n",
    "            z_measure += (-1)**n * r[l][key] \n",
    "            total += r[l][key]\n",
    "        E += coefs[l]*z_measure/total\n",
    "    return np.real(E)\n",
    "\n",
    "energy_from_results(r,meas,coefs)"
   ]
  },
  {
   "cell_type": "code",
   "execution_count": 70,
   "id": "8f3d44c3",
   "metadata": {},
   "outputs": [
    {
     "data": {
      "text/plain": [
       "(5.747181772535848+0j)"
      ]
     },
     "execution_count": 70,
     "metadata": {},
     "output_type": "execute_result"
    }
   ],
   "source": [
    "#Check against H_complete               \n",
    "wave_full = []\n",
    "for b in range(bL):\n",
    "    qr = QuantumRegister(Q)\n",
    "    cr = ClassicalRegister(Q)\n",
    "    cir = QuantumCircuit(qr , cr)\n",
    "    psi_b = U(cir,phi[b])\n",
    "    wave_b = alpha[b]*qi.Statevector.from_instruction(psi_b).data\n",
    "    wave_full.append(wave_b)\n",
    "wave_full = np.array(wave_full).flatten()\n",
    "\n",
    "np.dot(np.conjugate(wave_full),np.dot(H_complete,wave_full))\n"
   ]
  },
  {
   "cell_type": "code",
   "execution_count": 71,
   "id": "8f3c3a40",
   "metadata": {},
   "outputs": [
    {
     "data": {
      "text/plain": [
       "7.0"
      ]
     },
     "execution_count": 71,
     "metadata": {},
     "output_type": "execute_result"
    }
   ],
   "source": [
    "alpha = 1/np.sqrt(bL)*np.array([1 for b in range(bL)])\n",
    "\n",
    "#number of blocks\n",
    "T = 2\n",
    "phi = []\n",
    "for b in range(bL):\n",
    "    phi_b = []\n",
    "    for ti in range(T):\n",
    "        phi_t = []\n",
    "        for q in range(Q):\n",
    "            phi_t.append(0)\n",
    "        phi_b.append(phi_t)\n",
    "    phi.append(phi_b)\n",
    "    \n",
    "circs, meas, coefs = collect_circs(alpha,phi,blocks)\n",
    "r = get_results(circs, method = 'matrix')\n",
    "energy_from_results(r,meas,coefs)"
   ]
  },
  {
   "cell_type": "markdown",
   "id": "65b04b3f",
   "metadata": {},
   "source": [
    "### Grouping three energies to be run together\n",
    "\n",
    "In the optimization below we use three energies at each step.  One for the current values and two to define the derivetive.  Since the bottle neck is sending jobs to the device, it will be useful to group these three energies into one job."
   ]
  },
  {
   "cell_type": "code",
   "execution_count": 72,
   "id": "d101876a",
   "metadata": {},
   "outputs": [],
   "source": [
    "def collect_energy_circs(a1, p1, b1, a2, p2, b2, a3, p3, b3):\n",
    "    circs1, meas1, coefs1 = collect_circs(a1,p1,b1)\n",
    "    circs2, meas2, coefs2 = collect_circs(a2,p2,b2)\n",
    "    circs3, meas3, coefs3 = collect_circs(a3,p3,b3)\n",
    "    L1 = len(circs1)\n",
    "    L2 = len(circs2)\n",
    "    L3 = len(circs3)\n",
    "    circs = circs1+circs2+circs3\n",
    "    meas = meas1+meas2+meas3\n",
    "    coefs = coefs1+coefs2+coefs3\n",
    "    lengths = [L1,L2,L3]\n",
    "    return circs,meas,coefs,lengths\n",
    "\n",
    "def three_energies_from_results(r,meas,coefs,lengths):\n",
    "    L1 = lengths[0]\n",
    "    L2 = lengths[1]\n",
    "    L3 = lengths[2]\n",
    "    r1 = r[0 : L1]\n",
    "    r2 = r[L1 : L1+L2]\n",
    "    r3 = r[L1+L2 : L1+L2+L3]\n",
    "    m1 = meas[0 : L1]\n",
    "    m2 = meas[L1 : L1+L2]\n",
    "    m3 = meas[L1+L2 : L1+L2+L3]\n",
    "    c1 = coefs[0 : L1]\n",
    "    c2 = coefs[L1 : L1+L2]\n",
    "    c3 = coefs[L1+L2 : L1+L2+L3]\n",
    "    E1 = energy_from_results(r1,m1,c1)\n",
    "    E2 = energy_from_results(r2,m2,c2)\n",
    "    E3 = energy_from_results(r3,m3,c3)\n",
    "    return E1,E2,E3\n",
    "    "
   ]
  },
  {
   "cell_type": "code",
   "execution_count": 73,
   "id": "53f812b9",
   "metadata": {},
   "outputs": [
    {
     "name": "stdout",
     "output_type": "stream",
     "text": [
      "7.0 7.0 7.0\n"
     ]
    }
   ],
   "source": [
    "circs, meas, coefs, lengths = collect_energy_circs(alpha,phi,blocks,alpha,phi,blocks,alpha,phi,blocks)\n",
    "r = get_results(circs, method = 'matrix')\n",
    "E1,E2,E3 = three_energies_from_results(r,meas,coefs,lengths)\n",
    "print(E1,E2,E3)"
   ]
  },
  {
   "cell_type": "markdown",
   "id": "69a7a2a5",
   "metadata": {},
   "source": [
    "# Optimizaition\n",
    "\n",
    "I will be using the simultaneous perturbation stochastic approximation algorithm.  The algorithm works by calculating the gradiant of the cost function $E(\\hat{\\phi})$ by randomly purturbating all parameters in $\\hat{\\phi}$\n",
    "\n",
    "Let $\\hat{\\Delta}_k$ be a set of randomly selected purturbations during step $k$ of the algorithm. I will use the Bernoulli distribution to select $\\hat{\\Delta}_k$.  Then the gradient is \n",
    "$$ \\hat{g}_k(\\hat{\\phi}_k) = \\frac{E(\\hat{\\phi}_k + c_k \\hat{\\Delta}_k)-E(\\hat{\\phi}_k - c_k \\hat{\\Delta}_k)}{2 c_k} \\hat{\\Delta}_k$$.\n",
    "The gradiant is then used to update the parameters \n",
    "$$ \\hat{\\phi}_{k+1} = \\hat{\\phi}_k - a_k \\hat{g}_k(\\hat{\\phi}_k) $$\n",
    "\n",
    "$c_k$ and $a_k$ decrease with each iteration of the algorithm so that we zero in on the the minimum of $E$.  They are given by\n",
    "$$c_k = \\frac{c}{(k+1)^{\\gamma}}$$\n",
    "$$a_k = \\frac{a}{(A+k+1)^{\\alpha}}$$\n",
    "where $a$, $A$, $\\alpha$, $c$, and $\\gamma$ are choosen at the begining of the algorithm."
   ]
  },
  {
   "cell_type": "code",
   "execution_count": 74,
   "id": "88f62d33",
   "metadata": {},
   "outputs": [],
   "source": [
    "import copy"
   ]
  },
  {
   "cell_type": "code",
   "execution_count": 75,
   "id": "6dcef210",
   "metadata": {},
   "outputs": [],
   "source": [
    "#beta = 0.602\n",
    "beta = 0.201\n",
    "A = 10\n",
    "a = 0.05\n",
    "gamma = 0.101\n",
    "c = 0.4\n",
    "\n",
    "beta_a = 0.201\n",
    "A_a = 10\n",
    "a_a = 0.05\n",
    "gamma_a = 0.101\n",
    "c_a = 0.4\n",
    "\n",
    "def SPSA(k_max,method = 'simple',hold = False):\n",
    "    #Initalization\n",
    "    k = 0\n",
    "    phi_k = np.array(phi)\n",
    "    alpha_k = np.array(alpha)\n",
    "    E_l = []\n",
    "    hold_l = []\n",
    "    \n",
    "    #Begin Iterations\n",
    "    for k in range(k_max):\n",
    "        #Update c and a\n",
    "        a_k = a/((A + k + 1)**beta)\n",
    "        c_k = c/((k + 1)**gamma)\n",
    "        a_ak = a_a/((A_a + k + 1)**beta_a)\n",
    "        c_ak = c_a/((k + 1)**gamma_a)\n",
    "\n",
    "        #Find Delta\n",
    "        Delta_k = np.array(phi_k)\n",
    "        for b in range(bL):\n",
    "            for t in range(T):\n",
    "                for q in range(Q):\n",
    "                    Delta_k[b][t][q] = 1 - 2*np.random.binomial(size=None, n=1, p=0.5)\n",
    "        phi_k_A = phi_k + c_k*Delta_k\n",
    "        phi_k_B = phi_k - c_k*Delta_k\n",
    "        \n",
    "        #Find Delta Alpha\n",
    "        Delta_ak = np.array(alpha_k)\n",
    "        for n in range(bL):\n",
    "            Delta_ak[n] = 1 - 2*np.random.binomial(size=None, n=1, p= 0.5)\n",
    "        alpha_k_A = alpha_k + c_ak*Delta_ak\n",
    "        alpha_k_B = alpha_k - c_ak*Delta_ak\n",
    "        norm_A = 1/np.sqrt(np.dot(alpha_k_A,alpha_k_A))\n",
    "        norm_B = 1/np.sqrt(np.dot(alpha_k_B,alpha_k_B))\n",
    "        alpha_k_A = norm_A*alpha_k_A\n",
    "        alpha_k_B = norm_B*alpha_k_B\n",
    "           \n",
    "        #Find E    \n",
    "        circs,meas,coefs,lengths = collect_energy_circs(alpha_k_A,phi_k_A,blocks,alpha_k_B,phi_k_B,blocks,alpha_k,phi_k,blocks)\n",
    "        r = get_results(circs, method = method)\n",
    "        E_A, E_B, E_f = three_energies_from_results(r,meas,coefs,lengths)\n",
    "\n",
    "        \n",
    "        #Calculate gradiant\n",
    "        g = np.real((E_A-E_B)/(2*c_k)) \n",
    "        \n",
    "        #Update phi\n",
    "        g_k = g * Delta_k\n",
    "        phi_k = phi_k - a_k * g_k\n",
    "        \n",
    "        #Update alpha\n",
    "        g_ak = g * Delta_ak\n",
    "        alpha_k = alpha_k - a_ak * g_ak\n",
    "        norm = 1/np.sqrt(np.dot(alpha_k,alpha_k))\n",
    "        alpha_k = norm*alpha_k\n",
    "\n",
    "        \n",
    "        #Print and save E\n",
    "        print(k,E_f)\n",
    "        #print('k=',k,'c_k=',c_k,'a_k=',a_k,'g=',g,'E_A=',E_A,'E_B=',E_B,'E_f=',E_f)\n",
    "        E_l.append(E_f)\n",
    "        \n",
    "        if hold == True:\n",
    "            hold_k = {'E':E_f,'c':c_k,'a':a_k,'phi':phi_k,'Delta':Delta_k,'c_a':c_ak,'a_a':a_ak,'alpha':alpha_k,'Delta_a':Delta_ak}\n",
    "            hold_l.append(hold_k)\n",
    "    if hold == True:\n",
    "        return hold_l\n",
    "    else:\n",
    "        return E_l,phi_k"
   ]
  },
  {
   "cell_type": "code",
   "execution_count": null,
   "id": "ef195e2d",
   "metadata": {},
   "outputs": [
    {
     "name": "stdout",
     "output_type": "stream",
     "text": [
      "0 5.075439453125\n"
     ]
    }
   ],
   "source": [
    "out = SPSA(20,method = 'quantum',hold = True)"
   ]
  },
  {
   "cell_type": "code",
   "execution_count": 77,
   "id": "730dbc51",
   "metadata": {},
   "outputs": [
    {
     "data": {
      "text/plain": [
       "[<matplotlib.lines.Line2D at 0x7f9331f69f40>]"
      ]
     },
     "execution_count": 77,
     "metadata": {},
     "output_type": "execute_result"
    },
    {
     "data": {
      "image/png": "[encoded data removed]",
      "text/plain": [
       "<Figure size 432x288 with 1 Axes>"
      ]
     },
     "metadata": {
      "needs_background": "light"
     },
     "output_type": "display_data"
    }
   ],
   "source": [
    "e,y = np.linalg.eig(H_complete)\n",
    "\n",
    "import matplotlib.pyplot as plt\n",
    "\n",
    "E0 = [np.sort(e)[0] for i in range(len(out))]\n",
    "\n",
    "El = [out[i]['E'] for i in range(len(out))]\n",
    "tl = [i for i in range(len(El))]\n",
    "\n",
    "plt.plot(tl,El)\n",
    "plt.plot(tl,E0)"
   ]
  },
  {
   "cell_type": "code",
   "execution_count": null,
   "id": "cf005630",
   "metadata": {},
   "outputs": [],
   "source": []
  },
  {
   "cell_type": "code",
   "execution_count": null,
   "id": "0804738a",
   "metadata": {},
   "outputs": [],
   "source": []
  },
  {
   "cell_type": "code",
   "execution_count": null,
   "id": "ca261c4e",
   "metadata": {},
   "outputs": [],
   "source": []
  },
  {
   "cell_type": "code",
   "execution_count": null,
   "id": "ffcfce04",
   "metadata": {},
   "outputs": [],
   "source": []
  }
 ],
 "metadata": {
  "kernelspec": {
   "display_name": "Python (qiskit_25)",
   "language": "python",
   "name": "qiskit_25"
  },
  "language_info": {
   "codemirror_mode": {
    "name": "ipython",
    "version": 3
   },
   "file_extension": ".py",
   "mimetype": "text/x-python",
   "name": "python",
   "nbconvert_exporter": "python",
   "pygments_lexer": "ipython3",
   "version": "3.9.5"
  },
  "toc": {
   "base_numbering": 1,
   "nav_menu": {},
   "number_sections": true,
   "sideBar": true,
   "skip_h1_title": false,
   "title_cell": "Table of Contents",
   "title_sidebar": "Contents",
   "toc_cell": false,
   "toc_position": {
    "height": "calc(100% - 180px)",
    "left": "10px",
    "top": "150px",
    "width": "176.797px"
   },
   "toc_section_display": true,
   "toc_window_display": true
  }
 },
 "nbformat": 4,
 "nbformat_minor": 5
}
