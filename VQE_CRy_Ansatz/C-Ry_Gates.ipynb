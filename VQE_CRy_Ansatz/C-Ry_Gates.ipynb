{
 "cells": [
  {
   "cell_type": "code",
   "execution_count": 41,
   "id": "30543fb3",
   "metadata": {},
   "outputs": [],
   "source": [
    "from qiskit import IBMQ, transpile, schedule, pulse\n",
    "from qiskit.circuit import Parameter, QuantumCircuit, QuantumRegister, ClassicalRegister\n",
    "from qiskit.transpiler.passes.calibration import RZXCalibrationBuilder, rzx_templates\n",
    "from qiskit.transpiler import PassManager\n",
    "import qiskit.quantum_info as qi\n",
    "import numpy as np"
   ]
  },
  {
   "cell_type": "code",
   "execution_count": 42,
   "id": "13b48d87",
   "metadata": {},
   "outputs": [
    {
     "name": "stderr",
     "output_type": "stream",
     "text": [
      "ibmqfactory.load_account:WARNING:2022-02-09 13:58:12,676: Credentials are already in use. The existing account in the session will be replaced.\n"
     ]
    }
   ],
   "source": [
    "IBMQ.load_account()\n",
    "provider = IBMQ.get_provider(hub='ibm-q-afrl', group='air-force-lab', project='quantum-sim')\n",
    "backend = provider.get_backend('ibmq_bogota') # checking gate directions\n",
    "backend_config = backend.configuration()"
   ]
  },
  {
   "cell_type": "markdown",
   "id": "cb87a8bf",
   "metadata": {},
   "source": [
    "## Cover of the Controlled Ry gate\n",
    "\n",
    "Play with the perameters to see how much of the space is covered using C-Ry gates.  It seems like we have a pretty good covering.  I have not been able to come up with a state that is not covered."
   ]
  },
  {
   "cell_type": "code",
   "execution_count": 208,
   "id": "6a1d7ad7",
   "metadata": {},
   "outputs": [
    {
     "data": {
      "image/png": "[encoded data removed]",
      "text/plain": [
       "<Figure size 474.34x264.88 with 1 Axes>"
      ]
     },
     "execution_count": 208,
     "metadata": {},
     "output_type": "execute_result"
    }
   ],
   "source": [
    "from qiskit.circuit.library.standard_gates import RYGate\n",
    "\n",
    "def cry(phi):\n",
    "    return RYGate(phi).control(1)\n",
    "\n",
    "qr = QuantumRegister(4)\n",
    "qc = QuantumCircuit(qr)\n",
    "qc.x(0)\n",
    "qc.append(cry(np.pi/1.1), [0,1])\n",
    "qc.append(cry(np.pi/1.2), [1,2])\n",
    "qc.append(cry(np.pi/1.5), [2,1])\n",
    "qc.append(cry(np.pi/1.7), [2,3])\n",
    "qc.append(cry(np.pi/1.6), [3,2])\n",
    "#qc.append(cry(np.pi), [2,1])\n",
    "#qc.append(cry(np.pi), [1,0])\n",
    "qc.draw(output = \"mpl\")"
   ]
  },
  {
   "cell_type": "code",
   "execution_count": 44,
   "id": "e7e733ea",
   "metadata": {},
   "outputs": [
    {
     "name": "stdout",
     "output_type": "stream",
     "text": [
      "Statevector([ 0.        +0.j,  0.14231484+0.j,  0.        +0.j,\n",
      "              0.25618464+0.j,  0.        +0.j, -0.49898255+0.j,\n",
      "              0.        +0.j,  0.28808771+0.j,  0.        +0.j,\n",
      "              0.54940159+0.j,  0.        +0.j, -0.31719716+0.j,\n",
      "              0.        +0.j, -0.36709841+0.j,  0.        +0.j,\n",
      "              0.21194437+0.j],\n",
      "            dims=(2, 2, 2, 2))\n"
     ]
    }
   ],
   "source": [
    "psi2 = qi.Statevector.from_instruction(qc)\n",
    "\n",
    "psi2"
   ]
  },
  {
   "cell_type": "markdown",
   "id": "595999d5",
   "metadata": {},
   "source": [
    "## Write C-Ry in terms of Rzx"
   ]
  },
  {
   "cell_type": "code",
   "execution_count": 209,
   "id": "c7e4bc86",
   "metadata": {},
   "outputs": [
    {
     "data": {
      "image/png": "[encoded data removed]",
      "text/plain": [
       "<Figure size 353.795x144.48 with 1 Axes>"
      ]
     },
     "execution_count": 209,
     "metadata": {},
     "output_type": "execute_result"
    }
   ],
   "source": [
    "qr = QuantumRegister(2)\n",
    "qc1 = QuantumCircuit(qr)\n",
    "qc2 = QuantumCircuit(qr)\n",
    "\n",
    "qc1.h(0)\n",
    "qc1.ry(0.2,1)\n",
    "qc1.rzx(np.pi/2,0,1)\n",
    "qc1.rz(-0.2,1)\n",
    "qc1.rzx(-np.pi/2,0,1)\n",
    "\n",
    "qc2.h(0)\n",
    "qc2.append(cry(0.4), [0,1])\n",
    "\n",
    "qc1.draw(output = \"mpl\")"
   ]
  },
  {
   "cell_type": "code",
   "execution_count": 210,
   "id": "e27a0c84",
   "metadata": {},
   "outputs": [
    {
     "data": {
      "image/png": "[encoded data removed]",
      "text/plain": [
       "<Figure size 233.395x144.48 with 1 Axes>"
      ]
     },
     "execution_count": 210,
     "metadata": {},
     "output_type": "execute_result"
    }
   ],
   "source": [
    "qc2.draw(output = \"mpl\")"
   ]
  },
  {
   "cell_type": "code",
   "execution_count": 211,
   "id": "92fd8b63",
   "metadata": {},
   "outputs": [
    {
     "name": "stdout",
     "output_type": "stream",
     "text": [
      "Statevector([7.07106781e-01+9.81307787e-18j,\n",
      "             6.93011723e-01+1.38777878e-17j,\n",
      "             9.81307787e-18+0.00000000e+00j,\n",
      "             1.40480431e-01+5.55111512e-17j],\n",
      "            dims=(2, 2))\n"
     ]
    }
   ],
   "source": [
    "psi1 = qi.Statevector.from_instruction(qc1)\n",
    "psi2 = qi.Statevector.from_instruction(qc2)\n",
    "\n",
    "psi1"
   ]
  },
  {
   "cell_type": "code",
   "execution_count": 212,
   "id": "be0779c1",
   "metadata": {},
   "outputs": [
    {
     "name": "stdout",
     "output_type": "stream",
     "text": [
      "Statevector([0.70710678+0.j, 0.69301172+0.j, 0.        +0.j,\n",
      "             0.14048043+0.j],\n",
      "            dims=(2, 2))\n"
     ]
    }
   ],
   "source": [
    "psi2"
   ]
  },
  {
   "cell_type": "code",
   "execution_count": 213,
   "id": "b56c2fe3",
   "metadata": {},
   "outputs": [
    {
     "data": {
      "text/plain": [
       "2.2247786310271853e-16"
      ]
     },
     "execution_count": 213,
     "metadata": {},
     "output_type": "execute_result"
    }
   ],
   "source": [
    "np.amax(np.abs(psi2-psi1))"
   ]
  },
  {
   "cell_type": "markdown",
   "id": "9f0da246",
   "metadata": {},
   "source": [
    "## Try to find another expression for C-Ry for which Rzx has smaller angles"
   ]
  },
  {
   "cell_type": "code",
   "execution_count": 97,
   "id": "780909d7",
   "metadata": {},
   "outputs": [],
   "source": [
    "import qiskit.quantum_info as qi\n",
    "\n",
    "def I(N):\n",
    "    label = ['I' for i in range(N)]\n",
    "    label = ''.join(label)\n",
    "    return qi.Operator.from_label(label).data\n",
    "\n",
    "def X(i,N):\n",
    "    label = ['I' for i in range(N)]\n",
    "    label[i] = 'X'\n",
    "    label = ''.join(label)\n",
    "    return qi.Operator.from_label(label).data\n",
    "\n",
    "def Y(i,N):\n",
    "    label = ['I' for i in range(N)]\n",
    "    label[i] = 'Y'\n",
    "    label = ''.join(label)\n",
    "    return qi.Operator.from_label(label).data\n",
    "\n",
    "def Z(i,N):\n",
    "    label = ['I' for i in range(N)]\n",
    "    label[i] = 'Z'\n",
    "    label = ''.join(label)\n",
    "    return qi.Operator.from_label(label).data\n",
    "\n",
    "import numpy as np\n",
    "\n",
    "def Mdot(Ol):\n",
    "    out = Ol[0]\n",
    "    for i in range(1,len(Ol)):\n",
    "        out = np.dot(Ol[i],out)\n",
    "    return out\n",
    "\n",
    "def bkt(y1,O,y2):\n",
    "    return Mdot([np.conjugate(y1),O,y2])"
   ]
  },
  {
   "cell_type": "code",
   "execution_count": 129,
   "id": "7cc3be58",
   "metadata": {},
   "outputs": [
    {
     "data": {
      "text/html": [
       "<div>\n",
       "<style scoped>\n",
       "    .dataframe tbody tr th:only-of-type {\n",
       "        vertical-align: middle;\n",
       "    }\n",
       "\n",
       "    .dataframe tbody tr th {\n",
       "        vertical-align: top;\n",
       "    }\n",
       "\n",
       "    .dataframe thead th {\n",
       "        text-align: right;\n",
       "    }\n",
       "</style>\n",
       "<table border=\"1\" class=\"dataframe\">\n",
       "  <thead>\n",
       "    <tr style=\"text-align: right;\">\n",
       "      <th></th>\n",
       "      <th>0</th>\n",
       "      <th>1</th>\n",
       "      <th>2</th>\n",
       "      <th>3</th>\n",
       "    </tr>\n",
       "  </thead>\n",
       "  <tbody>\n",
       "    <tr>\n",
       "      <th>0</th>\n",
       "      <td>1.0+0.0j</td>\n",
       "      <td>0.0+0.0j</td>\n",
       "      <td>0.000000+0.000000j</td>\n",
       "      <td>0.000000+0.000000j</td>\n",
       "    </tr>\n",
       "    <tr>\n",
       "      <th>1</th>\n",
       "      <td>0.0+0.0j</td>\n",
       "      <td>1.0+0.0j</td>\n",
       "      <td>0.000000+0.000000j</td>\n",
       "      <td>0.000000+0.000000j</td>\n",
       "    </tr>\n",
       "    <tr>\n",
       "      <th>2</th>\n",
       "      <td>0.0+0.0j</td>\n",
       "      <td>0.0+0.0j</td>\n",
       "      <td>0.955336+0.000000j</td>\n",
       "      <td>-0.295520+0.000000j</td>\n",
       "    </tr>\n",
       "    <tr>\n",
       "      <th>3</th>\n",
       "      <td>0.0+0.0j</td>\n",
       "      <td>0.0+0.0j</td>\n",
       "      <td>0.295520+0.000000j</td>\n",
       "      <td>0.955336+0.000000j</td>\n",
       "    </tr>\n",
       "  </tbody>\n",
       "</table>\n",
       "</div>"
      ],
      "text/plain": [
       "          0         1                   2                   3\n",
       "0  1.0+0.0j  0.0+0.0j  0.000000+0.000000j  0.000000+0.000000j\n",
       "1  0.0+0.0j  1.0+0.0j  0.000000+0.000000j  0.000000+0.000000j\n",
       "2  0.0+0.0j  0.0+0.0j  0.955336+0.000000j -0.295520+0.000000j\n",
       "3  0.0+0.0j  0.0+0.0j  0.295520+0.000000j  0.955336+0.000000j"
      ]
     },
     "execution_count": 129,
     "metadata": {},
     "output_type": "execute_result"
    }
   ],
   "source": [
    "import pandas as pd \n",
    "\n",
    "phi = 0.3\n",
    "def CRy(phi):\n",
    "    return 1/2*( I(2)*(1+np.cos(phi)) + Z(0,2)*(1-np.cos(phi)) - 1j*np.sin(phi)*Y(1,2) + 1j*np.sin(phi)*Mdot([Z(0,2),Y(1,2)]) )\n",
    "\n",
    "pd.DataFrame(CRy(phi))"
   ]
  },
  {
   "cell_type": "code",
   "execution_count": 160,
   "id": "28d26dba",
   "metadata": {},
   "outputs": [],
   "source": [
    "def Ry(phi):\n",
    "    return np.cos(phi)*I(2) - 1j*np.sin(phi)*Y(1,2)\n",
    "def Rz(phi):\n",
    "    return np.cos(phi)*I(2) - 1j*np.sin(phi)*Z(0,2)\n",
    "def Rzy(phi):\n",
    "    return np.cos(phi)*I(2) - 1j*np.sin(phi)*Mdot([Z(0,2),Y(1,2)])"
   ]
  },
  {
   "cell_type": "code",
   "execution_count": 185,
   "id": "e49a1a4c",
   "metadata": {},
   "outputs": [
    {
     "data": {
      "text/html": [
       "<div>\n",
       "<style scoped>\n",
       "    .dataframe tbody tr th:only-of-type {\n",
       "        vertical-align: middle;\n",
       "    }\n",
       "\n",
       "    .dataframe tbody tr th {\n",
       "        vertical-align: top;\n",
       "    }\n",
       "\n",
       "    .dataframe thead th {\n",
       "        text-align: right;\n",
       "    }\n",
       "</style>\n",
       "<table border=\"1\" class=\"dataframe\">\n",
       "  <thead>\n",
       "    <tr style=\"text-align: right;\">\n",
       "      <th></th>\n",
       "      <th>0</th>\n",
       "      <th>1</th>\n",
       "      <th>2</th>\n",
       "      <th>3</th>\n",
       "    </tr>\n",
       "  </thead>\n",
       "  <tbody>\n",
       "    <tr>\n",
       "      <th>0</th>\n",
       "      <td>1.000000e+00+0.000000e+00j</td>\n",
       "      <td>-3.023211e-18+0.000000e+00j</td>\n",
       "      <td>0.000000+0.000000j</td>\n",
       "      <td>0.000000+0.000000j</td>\n",
       "    </tr>\n",
       "    <tr>\n",
       "      <th>1</th>\n",
       "      <td>-3.023211e-18+0.000000e+00j</td>\n",
       "      <td>1.000000e+00+0.000000e+00j</td>\n",
       "      <td>0.000000+0.000000j</td>\n",
       "      <td>0.000000+0.000000j</td>\n",
       "    </tr>\n",
       "    <tr>\n",
       "      <th>2</th>\n",
       "      <td>0.000000e+00+0.000000e+00j</td>\n",
       "      <td>0.000000e+00+0.000000e+00j</td>\n",
       "      <td>0.955336+0.000000j</td>\n",
       "      <td>-0.295520+0.000000j</td>\n",
       "    </tr>\n",
       "    <tr>\n",
       "      <th>3</th>\n",
       "      <td>0.000000e+00+0.000000e+00j</td>\n",
       "      <td>0.000000e+00+0.000000e+00j</td>\n",
       "      <td>0.295520+0.000000j</td>\n",
       "      <td>0.955336+0.000000j</td>\n",
       "    </tr>\n",
       "  </tbody>\n",
       "</table>\n",
       "</div>"
      ],
      "text/plain": [
       "                            0                           1                   2  \\\n",
       "0  1.000000e+00+0.000000e+00j -3.023211e-18+0.000000e+00j  0.000000+0.000000j   \n",
       "1 -3.023211e-18+0.000000e+00j  1.000000e+00+0.000000e+00j  0.000000+0.000000j   \n",
       "2  0.000000e+00+0.000000e+00j  0.000000e+00+0.000000e+00j  0.955336+0.000000j   \n",
       "3  0.000000e+00+0.000000e+00j  0.000000e+00+0.000000e+00j  0.295520+0.000000j   \n",
       "\n",
       "                    3  \n",
       "0  0.000000+0.000000j  \n",
       "1  0.000000+0.000000j  \n",
       "2 -0.295520+0.000000j  \n",
       "3  0.955336+0.000000j  "
      ]
     },
     "execution_count": 185,
     "metadata": {},
     "output_type": "execute_result"
    }
   ],
   "source": [
    "theta = 0.15\n",
    "pd.DataFrame(Mdot([Rzy(-theta),Ry(theta)]))"
   ]
  },
  {
   "cell_type": "code",
   "execution_count": 187,
   "id": "9261f40a",
   "metadata": {},
   "outputs": [
    {
     "data": {
      "text/plain": [
       "1.1102230246251565e-16"
      ]
     },
     "execution_count": 187,
     "metadata": {},
     "output_type": "execute_result"
    }
   ],
   "source": [
    "phi = 0.5\n",
    "np.amax(np.abs(CRy(phi)-Mdot([Rzy(-phi/2),Ry(phi/2)])))"
   ]
  },
  {
   "cell_type": "code",
   "execution_count": 214,
   "id": "e0985ce5",
   "metadata": {},
   "outputs": [
    {
     "data": {
      "text/plain": [
       "<qiskit.circuit.instructionset.InstructionSet at 0x7f930074e7f0>"
      ]
     },
     "execution_count": 214,
     "metadata": {},
     "output_type": "execute_result"
    }
   ],
   "source": [
    "qr = QuantumRegister(2)\n",
    "qc1 = QuantumCircuit(qr)\n",
    "qc2 = QuantumCircuit(qr)\n",
    "\n",
    "qc1.h(0)\n",
    "qc1.rz(-np.pi/2,1)\n",
    "qc1.rzx(-0.2,0,1)\n",
    "qc1.rz(np.pi/2,1)\n",
    "qc1.ry(0.2,1)\n",
    "\n",
    "qc2.h(0)\n",
    "qc2.append(cry(0.4), [0,1])"
   ]
  },
  {
   "cell_type": "code",
   "execution_count": 215,
   "id": "5cda5bb5",
   "metadata": {},
   "outputs": [
    {
     "data": {
      "image/png": "[encoded data removed]",
      "text/plain": [
       "<Figure size 353.795x144.48 with 1 Axes>"
      ]
     },
     "execution_count": 215,
     "metadata": {},
     "output_type": "execute_result"
    }
   ],
   "source": [
    "qc1.draw(output = \"mpl\")"
   ]
  },
  {
   "cell_type": "code",
   "execution_count": 216,
   "id": "0dff317f",
   "metadata": {},
   "outputs": [
    {
     "data": {
      "image/png": "[encoded data removed]",
      "text/plain": [
       "<Figure size 233.395x144.48 with 1 Axes>"
      ]
     },
     "execution_count": 216,
     "metadata": {},
     "output_type": "execute_result"
    }
   ],
   "source": [
    "qc2.draw(output = \"mpl\")"
   ]
  },
  {
   "cell_type": "code",
   "execution_count": 217,
   "id": "4944d5e8",
   "metadata": {},
   "outputs": [],
   "source": [
    "psi1 = qi.Statevector.from_instruction(qc1)\n",
    "psi2 = qi.Statevector.from_instruction(qc2)"
   ]
  },
  {
   "cell_type": "code",
   "execution_count": 218,
   "id": "f2e6d524",
   "metadata": {},
   "outputs": [
    {
     "data": {
      "text/plain": [
       "1.110417514326217e-16"
      ]
     },
     "execution_count": 218,
     "metadata": {},
     "output_type": "execute_result"
    }
   ],
   "source": [
    "np.amax(np.abs(psi2-psi1))"
   ]
  },
  {
   "cell_type": "code",
   "execution_count": null,
   "id": "4764ea48",
   "metadata": {},
   "outputs": [],
   "source": []
  }
 ],
 "metadata": {
  "kernelspec": {
   "display_name": "Python (qiskit_nick)",
   "language": "python",
   "name": "qiskit_nick"
  },
  "language_info": {
   "codemirror_mode": {
    "name": "ipython",
    "version": 3
   },
   "file_extension": ".py",
   "mimetype": "text/x-python",
   "name": "python",
   "nbconvert_exporter": "python",
   "pygments_lexer": "ipython3",
   "version": "3.9.6"
  },
  "toc": {
   "base_numbering": 1,
   "nav_menu": {},
   "number_sections": true,
   "sideBar": true,
   "skip_h1_title": false,
   "title_cell": "Table of Contents",
   "title_sidebar": "Contents",
   "toc_cell": false,
   "toc_position": {},
   "toc_section_display": true,
   "toc_window_display": false
  }
 },
 "nbformat": 4,
 "nbformat_minor": 5
}
