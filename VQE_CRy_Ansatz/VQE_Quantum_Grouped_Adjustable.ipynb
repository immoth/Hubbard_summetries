{
 "cells": [
  {
   "cell_type": "markdown",
   "metadata": {},
   "source": [
    "# Symmetry Reduced VQE"
   ]
  },
  {
   "cell_type": "markdown",
   "metadata": {},
   "source": [
    "The first step is to find the blocks of a Hamiltonian which has have been reduced due to the application of some symmerty consideration.  Each block will then have an associated wavefunction,\n",
    "$$ |\\psi^b> = U(\\phi^b_1,\\phi^b_1,\\ldots)|000\\ldots> $$\n",
    "where $|000\\ldots>$ is the state in which $Q$ qubits are in their ground state with $Q$ deterimed by the size of the block $N$ as $Q = \\log_2 N$ rounded up and $U$ is a linear transformation with some set of parameters $\\{\\phi^b_i\\}$ which depend on the block.  \n",
    "\n",
    "For this notebook we will use the linear transformation Anzatz from here: https://arxiv.org/abs/1907.01493.  It gives $U$ as applying y-rotations to each qubit, then coupling each qubit pair with a C-not gate and repreating. \n",
    "$$ U^b_i = \\prod_q R^y_q(\\phi_{q0}^b)\\prod_{q'}C_{4q',4q'+1}C_{4q'+3,4q'+2}\\prod_{q''}C_{4q''+1,4q''+2}C_{4q''+4,4q''+3} $$\n",
    "$$ U^b = \\prod_i U^b_i $$\n",
    "where the $\\pm$ in the subscripts of the C-not gates alternates (see below for an exact definition).\n",
    "\n",
    "The Hamiltonian might be block diagonal or it might have some nonzero off diagonal blocks.  In the most general case, the minimization function invovles wave functions from different blocks.  \n",
    "\n",
    "$$ E = \\sum_{a,b}<\\psi^a|H_{ab}|\\psi^b> $$\n",
    "\n",
    "To minimize this function we will use the simultaneous perturbation stochastic approximation algorithm."
   ]
  },
  {
   "cell_type": "code",
   "execution_count": 354,
   "metadata": {},
   "outputs": [
    {
     "name": "stderr",
     "output_type": "stream",
     "text": [
      "ibmqfactory.load_account:WARNING:2022-02-11 12:31:32,824: Credentials are already in use. The existing account in the session will be replaced.\n"
     ]
    }
   ],
   "source": [
    "#Only needed if running on the quantum device\n",
    "from qiskit import IBMQ,transpile\n",
    "from qiskit.tools.monitor import job_monitor\n",
    "IBMQ.load_account()\n",
    "provider = IBMQ.get_provider(hub='ibm-q-afrl', group='air-force-lab', project='quantum-sim')\n",
    "backend = provider.get_backend('ibmq_jakarta')\n",
    "#backend = provider.get_backend('ibmq_lima')"
   ]
  },
  {
   "cell_type": "markdown",
   "metadata": {},
   "source": [
    "## Hamiltonian"
   ]
  },
  {
   "cell_type": "markdown",
   "metadata": {},
   "source": [
    "As an example for this notebook we will use the Hamiltonian generated from Example_Matrix_Creation_Sign_Fix.ipynb\n",
    "\n",
    "I do not know how to export the summed operator from OpFlow so I will import the numpy matrix and then re-extract the Pauli terms here."
   ]
  },
  {
   "cell_type": "code",
   "execution_count": 355,
   "metadata": {},
   "outputs": [],
   "source": [
    "import numpy as np \n",
    "\n",
    "#H = np.load('Hamiltonian_Example.npy')\n",
    "# I have -2.0 < u 2.0 in steps of 0.1\n",
    "u=4.0\n",
    "t=-1\n",
    "H = np.load('H_mu_'+str(u)+\"_t_\"+str(t)+'.npy')"
   ]
  },
  {
   "cell_type": "code",
   "execution_count": 356,
   "metadata": {},
   "outputs": [
    {
     "data": {
      "text/plain": [
       "array([-2.10274848e+00, -1.80642385e+00, -1.06814039e+00, -8.28427125e-01,\n",
       "       -8.28427125e-01,  8.70432672e-16,  5.81449281e-01,  2.00000000e+00,\n",
       "        2.00000000e+00,  2.00000000e+00,  2.00000000e+00,  2.38787313e+00,\n",
       "        2.96539191e+00,  3.17157288e+00,  3.17157288e+00,  4.00000000e+00,\n",
       "        4.00000000e+00,  4.00000000e+00,  4.00000000e+00,  4.00000000e+00,\n",
       "        4.00000000e+00,  4.82842712e+00,  4.82842712e+00,  5.03460809e+00,\n",
       "        5.61212687e+00,  6.00000000e+00,  6.00000000e+00,  6.00000000e+00,\n",
       "        6.00000000e+00,  7.41855072e+00,  8.00000000e+00,  8.82842712e+00,\n",
       "        8.82842712e+00,  9.06814039e+00,  9.80642385e+00,  1.01027485e+01])"
      ]
     },
     "execution_count": 356,
     "metadata": {},
     "output_type": "execute_result"
    }
   ],
   "source": [
    "e,y = np.linalg.eig(H)\n",
    "\n",
    "np.sort(e)"
   ]
  },
  {
   "cell_type": "markdown",
   "metadata": {},
   "source": [
    "Now that the Hamiltonian has been imported let us break it into blocks and exctract the Pauli coordinates.  "
   ]
  },
  {
   "cell_type": "code",
   "execution_count": 357,
   "metadata": {},
   "outputs": [],
   "source": [
    "from qiskit.opflow import (I, X, Y, Z)\n",
    "from qiskit.opflow.primitive_ops import MatrixOp\n",
    "from qiskit import quantum_info as qi\n",
    "\n",
    "# Function to add elements to a block so that it fits onto qubits\n",
    "def complete_diagonal(b11):\n",
    "    size = 2**np.ceil(np.log2(len(b11)))\n",
    "    for v in b11:\n",
    "        while len(v) < size:\n",
    "            v.append(0.0)\n",
    "    while len(b11) < size:\n",
    "        i = len(b11)\n",
    "        vnew = [0.0 for i in range(0,8)]\n",
    "        vnew[i] = 10\n",
    "        b11.append(vnew)\n",
    "    return b11\n",
    "\n",
    "def complete_off_diagonal(b11):\n",
    "    size = 2**np.ceil(np.log2(len(b11)))\n",
    "    for v in b11:\n",
    "        while len(v) < size:\n",
    "            v.append(0.0)\n",
    "    while len(b11) < size:\n",
    "        i = len(b11)\n",
    "        vnew = [0.0 for i in range(0,8)]\n",
    "        b11.append(vnew)\n",
    "    return b11\n",
    "\n"
   ]
  },
  {
   "cell_type": "code",
   "execution_count": 358,
   "metadata": {},
   "outputs": [],
   "source": [
    "import math\n",
    "N = 4\n",
    "S = 2\n",
    "bL = math.comb(4,2)\n",
    "\n",
    "blocks = {}\n",
    "for bi in range(bL):\n",
    "    for bj in range(bi,bL):\n",
    "        bij = [[H[i + bL*bi][j + bL*bj] for j in range(0,bL)] for i in range(0,bL)]\n",
    "        if np.amax(np.abs(bij)) > 10**(-5):\n",
    "            if bi == bj:\n",
    "                bij = complete_diagonal(bij)\n",
    "            else:\n",
    "                bij = complete_off_diagonal(bij)\n",
    "            bij_pauli = MatrixOp(bij).to_pauli_op()\n",
    "            blocks[str(bi) + ',' + str(bj)] = bij_pauli\n",
    "        "
   ]
  },
  {
   "cell_type": "markdown",
   "metadata": {},
   "source": [
    "The object *blocks* is a dictionary of *SumedOp* lists of *PauliOp* objects.  "
   ]
  },
  {
   "cell_type": "code",
   "execution_count": 359,
   "metadata": {},
   "outputs": [
    {
     "data": {
      "text/html": [
       "<div>\n",
       "<style scoped>\n",
       "    .dataframe tbody tr th:only-of-type {\n",
       "        vertical-align: middle;\n",
       "    }\n",
       "\n",
       "    .dataframe tbody tr th {\n",
       "        vertical-align: top;\n",
       "    }\n",
       "\n",
       "    .dataframe thead th {\n",
       "        text-align: right;\n",
       "    }\n",
       "</style>\n",
       "<table border=\"1\" class=\"dataframe\">\n",
       "  <thead>\n",
       "    <tr style=\"text-align: right;\">\n",
       "      <th></th>\n",
       "      <th>0</th>\n",
       "      <th>1</th>\n",
       "      <th>2</th>\n",
       "      <th>3</th>\n",
       "      <th>4</th>\n",
       "      <th>5</th>\n",
       "      <th>6</th>\n",
       "      <th>7</th>\n",
       "    </tr>\n",
       "  </thead>\n",
       "  <tbody>\n",
       "    <tr>\n",
       "      <th>0</th>\n",
       "      <td>4.0+0.0j</td>\n",
       "      <td>-1.0+0.0j</td>\n",
       "      <td>0.0+0.0j</td>\n",
       "      <td>0.0+0.0j</td>\n",
       "      <td>1.0+0.0j</td>\n",
       "      <td>0.0+0.0j</td>\n",
       "      <td>0.0+0.0j</td>\n",
       "      <td>0.0+0.0j</td>\n",
       "    </tr>\n",
       "    <tr>\n",
       "      <th>1</th>\n",
       "      <td>-1.0+0.0j</td>\n",
       "      <td>4.0+0.0j</td>\n",
       "      <td>-1.0+0.0j</td>\n",
       "      <td>-1.0+0.0j</td>\n",
       "      <td>0.0+0.0j</td>\n",
       "      <td>1.0+0.0j</td>\n",
       "      <td>0.0+0.0j</td>\n",
       "      <td>0.0+0.0j</td>\n",
       "    </tr>\n",
       "    <tr>\n",
       "      <th>2</th>\n",
       "      <td>0.0+0.0j</td>\n",
       "      <td>-1.0+0.0j</td>\n",
       "      <td>0.0+0.0j</td>\n",
       "      <td>0.0+0.0j</td>\n",
       "      <td>-1.0+0.0j</td>\n",
       "      <td>0.0+0.0j</td>\n",
       "      <td>0.0+0.0j</td>\n",
       "      <td>0.0+0.0j</td>\n",
       "    </tr>\n",
       "    <tr>\n",
       "      <th>3</th>\n",
       "      <td>0.0+0.0j</td>\n",
       "      <td>-1.0+0.0j</td>\n",
       "      <td>0.0+0.0j</td>\n",
       "      <td>8.0+0.0j</td>\n",
       "      <td>-1.0+0.0j</td>\n",
       "      <td>0.0+0.0j</td>\n",
       "      <td>0.0+0.0j</td>\n",
       "      <td>0.0+0.0j</td>\n",
       "    </tr>\n",
       "    <tr>\n",
       "      <th>4</th>\n",
       "      <td>1.0+0.0j</td>\n",
       "      <td>0.0+0.0j</td>\n",
       "      <td>-1.0+0.0j</td>\n",
       "      <td>-1.0+0.0j</td>\n",
       "      <td>4.0+0.0j</td>\n",
       "      <td>-1.0+0.0j</td>\n",
       "      <td>0.0+0.0j</td>\n",
       "      <td>0.0+0.0j</td>\n",
       "    </tr>\n",
       "    <tr>\n",
       "      <th>5</th>\n",
       "      <td>0.0+0.0j</td>\n",
       "      <td>1.0+0.0j</td>\n",
       "      <td>0.0+0.0j</td>\n",
       "      <td>0.0+0.0j</td>\n",
       "      <td>-1.0+0.0j</td>\n",
       "      <td>4.0+0.0j</td>\n",
       "      <td>0.0+0.0j</td>\n",
       "      <td>0.0+0.0j</td>\n",
       "    </tr>\n",
       "    <tr>\n",
       "      <th>6</th>\n",
       "      <td>0.0+0.0j</td>\n",
       "      <td>0.0+0.0j</td>\n",
       "      <td>0.0+0.0j</td>\n",
       "      <td>0.0+0.0j</td>\n",
       "      <td>0.0+0.0j</td>\n",
       "      <td>0.0+0.0j</td>\n",
       "      <td>10.0+0.0j</td>\n",
       "      <td>0.0+0.0j</td>\n",
       "    </tr>\n",
       "    <tr>\n",
       "      <th>7</th>\n",
       "      <td>0.0+0.0j</td>\n",
       "      <td>0.0+0.0j</td>\n",
       "      <td>0.0+0.0j</td>\n",
       "      <td>0.0+0.0j</td>\n",
       "      <td>0.0+0.0j</td>\n",
       "      <td>0.0+0.0j</td>\n",
       "      <td>0.0+0.0j</td>\n",
       "      <td>10.0+0.0j</td>\n",
       "    </tr>\n",
       "  </tbody>\n",
       "</table>\n",
       "</div>"
      ],
      "text/plain": [
       "          0         1         2         3         4         5          6  \\\n",
       "0  4.0+0.0j -1.0+0.0j  0.0+0.0j  0.0+0.0j  1.0+0.0j  0.0+0.0j   0.0+0.0j   \n",
       "1 -1.0+0.0j  4.0+0.0j -1.0+0.0j -1.0+0.0j  0.0+0.0j  1.0+0.0j   0.0+0.0j   \n",
       "2  0.0+0.0j -1.0+0.0j  0.0+0.0j  0.0+0.0j -1.0+0.0j  0.0+0.0j   0.0+0.0j   \n",
       "3  0.0+0.0j -1.0+0.0j  0.0+0.0j  8.0+0.0j -1.0+0.0j  0.0+0.0j   0.0+0.0j   \n",
       "4  1.0+0.0j  0.0+0.0j -1.0+0.0j -1.0+0.0j  4.0+0.0j -1.0+0.0j   0.0+0.0j   \n",
       "5  0.0+0.0j  1.0+0.0j  0.0+0.0j  0.0+0.0j -1.0+0.0j  4.0+0.0j   0.0+0.0j   \n",
       "6  0.0+0.0j  0.0+0.0j  0.0+0.0j  0.0+0.0j  0.0+0.0j  0.0+0.0j  10.0+0.0j   \n",
       "7  0.0+0.0j  0.0+0.0j  0.0+0.0j  0.0+0.0j  0.0+0.0j  0.0+0.0j   0.0+0.0j   \n",
       "\n",
       "           7  \n",
       "0   0.0+0.0j  \n",
       "1   0.0+0.0j  \n",
       "2   0.0+0.0j  \n",
       "3   0.0+0.0j  \n",
       "4   0.0+0.0j  \n",
       "5   0.0+0.0j  \n",
       "6   0.0+0.0j  \n",
       "7  10.0+0.0j  "
      ]
     },
     "execution_count": 359,
     "metadata": {},
     "output_type": "execute_result"
    }
   ],
   "source": [
    "import pandas as pd\n",
    "\n",
    "pd.DataFrame(blocks['3,3'].to_matrix())"
   ]
  },
  {
   "cell_type": "code",
   "execution_count": 360,
   "metadata": {},
   "outputs": [
    {
     "name": "stdout",
     "output_type": "stream",
     "text": [
      "SummedOp([\n",
      "  5.5 * III,\n",
      "  -0.5 * IIX,\n",
      "  IIZ,\n",
      "  -0.25 * IXI,\n",
      "  -0.25 * IXX,\n",
      "  0.25 * IXZ,\n",
      "  -0.25 * IYY,\n",
      "  -1.5 * IZI,\n",
      "  -0.5 * IZX,\n",
      "  IZZ,\n",
      "  0.5 * XII,\n",
      "  -0.25 * XXI,\n",
      "  -0.25 * XXX,\n",
      "  -0.25 * XXZ,\n",
      "  0.25 * XYY,\n",
      "  0.5 * XZI,\n",
      "  -0.25 * YXY,\n",
      "  -0.25 * YYI,\n",
      "  -0.25 * YYX,\n",
      "  -0.25 * YYZ,\n",
      "  -0.5 * ZII,\n",
      "  -0.25 * ZXI,\n",
      "  -0.25 * ZXX,\n",
      "  0.25 * ZXZ,\n",
      "  -0.25 * ZYY,\n",
      "  2.5 * ZZI\n",
      "])\n"
     ]
    }
   ],
   "source": [
    "print(blocks['0,0'])"
   ]
  },
  {
   "cell_type": "markdown",
   "metadata": {},
   "source": [
    "Let's take a sanity check here and make sure we can rebuild a Hamiltonian with these completed blocks and that the ground state is still the same."
   ]
  },
  {
   "cell_type": "code",
   "execution_count": 361,
   "metadata": {},
   "outputs": [
    {
     "name": "stderr",
     "output_type": "stream",
     "text": [
      "<ipython-input-361-4f4400865c4e>:15: ComplexWarning: Casting complex values to real discards the imaginary part\n",
      "  H_complete[i + bi*size, j + bj*size] = block[i,j]\n",
      "<ipython-input-361-4f4400865c4e>:16: ComplexWarning: Casting complex values to real discards the imaginary part\n",
      "  H_complete[i + bj*size, j + bi*size] = block[j,i]\n"
     ]
    }
   ],
   "source": [
    "keys = list(blocks.keys())\n",
    "\n",
    "size = int(2**np.ceil(np.log2(bL)))\n",
    "H_complete = np.array([[0 for i in range(size*bL)] for j in range(size*bL)])\n",
    "\n",
    "for bi in range(bL):\n",
    "    for bj in range(bi,bL):\n",
    "        key = str(bi) + ',' + str(bj)\n",
    "        if key  in keys:\n",
    "            block = blocks[key].to_matrix()\n",
    "        else:\n",
    "            block = np.array([[0.0 for i in range(size)] for j in range(size)])\n",
    "        for i in range(size):\n",
    "            for j in range(size):\n",
    "                H_complete[i + bi*size, j + bj*size] = block[i,j]\n",
    "                H_complete[i + bj*size, j + bi*size] = block[j,i]\n",
    "                "
   ]
  },
  {
   "cell_type": "code",
   "execution_count": 362,
   "metadata": {},
   "outputs": [
    {
     "data": {
      "text/html": [
       "<div>\n",
       "<style scoped>\n",
       "    .dataframe tbody tr th:only-of-type {\n",
       "        vertical-align: middle;\n",
       "    }\n",
       "\n",
       "    .dataframe tbody tr th {\n",
       "        vertical-align: top;\n",
       "    }\n",
       "\n",
       "    .dataframe thead th {\n",
       "        text-align: right;\n",
       "    }\n",
       "</style>\n",
       "<table border=\"1\" class=\"dataframe\">\n",
       "  <thead>\n",
       "    <tr style=\"text-align: right;\">\n",
       "      <th></th>\n",
       "      <th>0</th>\n",
       "      <th>1</th>\n",
       "      <th>2</th>\n",
       "      <th>3</th>\n",
       "      <th>4</th>\n",
       "      <th>5</th>\n",
       "      <th>6</th>\n",
       "      <th>...</th>\n",
       "      <th>41</th>\n",
       "      <th>42</th>\n",
       "      <th>43</th>\n",
       "      <th>44</th>\n",
       "      <th>45</th>\n",
       "      <th>46</th>\n",
       "      <th>47</th>\n",
       "    </tr>\n",
       "  </thead>\n",
       "  <tbody>\n",
       "    <tr>\n",
       "      <th>0</th>\n",
       "      <td>8</td>\n",
       "      <td>-1</td>\n",
       "      <td>0</td>\n",
       "      <td>0</td>\n",
       "      <td>1</td>\n",
       "      <td>0</td>\n",
       "      <td>0</td>\n",
       "      <td>...</td>\n",
       "      <td>0</td>\n",
       "      <td>0</td>\n",
       "      <td>0</td>\n",
       "      <td>0</td>\n",
       "      <td>0</td>\n",
       "      <td>0</td>\n",
       "      <td>0</td>\n",
       "    </tr>\n",
       "    <tr>\n",
       "      <th>1</th>\n",
       "      <td>-1</td>\n",
       "      <td>4</td>\n",
       "      <td>-1</td>\n",
       "      <td>-1</td>\n",
       "      <td>0</td>\n",
       "      <td>1</td>\n",
       "      <td>0</td>\n",
       "      <td>...</td>\n",
       "      <td>0</td>\n",
       "      <td>0</td>\n",
       "      <td>0</td>\n",
       "      <td>0</td>\n",
       "      <td>0</td>\n",
       "      <td>0</td>\n",
       "      <td>0</td>\n",
       "    </tr>\n",
       "    <tr>\n",
       "      <th>2</th>\n",
       "      <td>0</td>\n",
       "      <td>-1</td>\n",
       "      <td>4</td>\n",
       "      <td>0</td>\n",
       "      <td>-1</td>\n",
       "      <td>0</td>\n",
       "      <td>0</td>\n",
       "      <td>...</td>\n",
       "      <td>0</td>\n",
       "      <td>0</td>\n",
       "      <td>0</td>\n",
       "      <td>0</td>\n",
       "      <td>0</td>\n",
       "      <td>0</td>\n",
       "      <td>0</td>\n",
       "    </tr>\n",
       "    <tr>\n",
       "      <th>3</th>\n",
       "      <td>0</td>\n",
       "      <td>-1</td>\n",
       "      <td>0</td>\n",
       "      <td>4</td>\n",
       "      <td>-1</td>\n",
       "      <td>0</td>\n",
       "      <td>0</td>\n",
       "      <td>...</td>\n",
       "      <td>0</td>\n",
       "      <td>0</td>\n",
       "      <td>0</td>\n",
       "      <td>0</td>\n",
       "      <td>0</td>\n",
       "      <td>0</td>\n",
       "      <td>0</td>\n",
       "    </tr>\n",
       "    <tr>\n",
       "      <th>4</th>\n",
       "      <td>1</td>\n",
       "      <td>0</td>\n",
       "      <td>-1</td>\n",
       "      <td>-1</td>\n",
       "      <td>4</td>\n",
       "      <td>-1</td>\n",
       "      <td>0</td>\n",
       "      <td>...</td>\n",
       "      <td>0</td>\n",
       "      <td>0</td>\n",
       "      <td>0</td>\n",
       "      <td>0</td>\n",
       "      <td>0</td>\n",
       "      <td>0</td>\n",
       "      <td>0</td>\n",
       "    </tr>\n",
       "    <tr>\n",
       "      <th>...</th>\n",
       "      <td>...</td>\n",
       "      <td>...</td>\n",
       "      <td>...</td>\n",
       "      <td>...</td>\n",
       "      <td>...</td>\n",
       "      <td>...</td>\n",
       "      <td>...</td>\n",
       "      <td>...</td>\n",
       "      <td>...</td>\n",
       "      <td>...</td>\n",
       "      <td>...</td>\n",
       "      <td>...</td>\n",
       "      <td>...</td>\n",
       "      <td>...</td>\n",
       "      <td>...</td>\n",
       "    </tr>\n",
       "    <tr>\n",
       "      <th>43</th>\n",
       "      <td>0</td>\n",
       "      <td>0</td>\n",
       "      <td>0</td>\n",
       "      <td>0</td>\n",
       "      <td>0</td>\n",
       "      <td>0</td>\n",
       "      <td>0</td>\n",
       "      <td>...</td>\n",
       "      <td>-1</td>\n",
       "      <td>0</td>\n",
       "      <td>4</td>\n",
       "      <td>-1</td>\n",
       "      <td>0</td>\n",
       "      <td>0</td>\n",
       "      <td>0</td>\n",
       "    </tr>\n",
       "    <tr>\n",
       "      <th>44</th>\n",
       "      <td>0</td>\n",
       "      <td>0</td>\n",
       "      <td>0</td>\n",
       "      <td>0</td>\n",
       "      <td>0</td>\n",
       "      <td>0</td>\n",
       "      <td>0</td>\n",
       "      <td>...</td>\n",
       "      <td>0</td>\n",
       "      <td>-1</td>\n",
       "      <td>-1</td>\n",
       "      <td>4</td>\n",
       "      <td>-1</td>\n",
       "      <td>0</td>\n",
       "      <td>0</td>\n",
       "    </tr>\n",
       "    <tr>\n",
       "      <th>45</th>\n",
       "      <td>0</td>\n",
       "      <td>0</td>\n",
       "      <td>0</td>\n",
       "      <td>0</td>\n",
       "      <td>0</td>\n",
       "      <td>0</td>\n",
       "      <td>0</td>\n",
       "      <td>...</td>\n",
       "      <td>1</td>\n",
       "      <td>0</td>\n",
       "      <td>0</td>\n",
       "      <td>-1</td>\n",
       "      <td>8</td>\n",
       "      <td>0</td>\n",
       "      <td>0</td>\n",
       "    </tr>\n",
       "    <tr>\n",
       "      <th>46</th>\n",
       "      <td>0</td>\n",
       "      <td>0</td>\n",
       "      <td>0</td>\n",
       "      <td>0</td>\n",
       "      <td>0</td>\n",
       "      <td>0</td>\n",
       "      <td>0</td>\n",
       "      <td>...</td>\n",
       "      <td>0</td>\n",
       "      <td>0</td>\n",
       "      <td>0</td>\n",
       "      <td>0</td>\n",
       "      <td>0</td>\n",
       "      <td>10</td>\n",
       "      <td>0</td>\n",
       "    </tr>\n",
       "    <tr>\n",
       "      <th>47</th>\n",
       "      <td>0</td>\n",
       "      <td>0</td>\n",
       "      <td>0</td>\n",
       "      <td>0</td>\n",
       "      <td>0</td>\n",
       "      <td>0</td>\n",
       "      <td>0</td>\n",
       "      <td>...</td>\n",
       "      <td>0</td>\n",
       "      <td>0</td>\n",
       "      <td>0</td>\n",
       "      <td>0</td>\n",
       "      <td>0</td>\n",
       "      <td>0</td>\n",
       "      <td>10</td>\n",
       "    </tr>\n",
       "  </tbody>\n",
       "</table>\n",
       "<p>48 rows × 48 columns</p>\n",
       "</div>"
      ],
      "text/plain": [
       "    0   1   2   3   4   5   6   ...  41  42  43  44  45  46  47\n",
       "0    8  -1   0   0   1   0   0  ...   0   0   0   0   0   0   0\n",
       "1   -1   4  -1  -1   0   1   0  ...   0   0   0   0   0   0   0\n",
       "2    0  -1   4   0  -1   0   0  ...   0   0   0   0   0   0   0\n",
       "3    0  -1   0   4  -1   0   0  ...   0   0   0   0   0   0   0\n",
       "4    1   0  -1  -1   4  -1   0  ...   0   0   0   0   0   0   0\n",
       "..  ..  ..  ..  ..  ..  ..  ..  ...  ..  ..  ..  ..  ..  ..  ..\n",
       "43   0   0   0   0   0   0   0  ...  -1   0   4  -1   0   0   0\n",
       "44   0   0   0   0   0   0   0  ...   0  -1  -1   4  -1   0   0\n",
       "45   0   0   0   0   0   0   0  ...   1   0   0  -1   8   0   0\n",
       "46   0   0   0   0   0   0   0  ...   0   0   0   0   0  10   0\n",
       "47   0   0   0   0   0   0   0  ...   0   0   0   0   0   0  10\n",
       "\n",
       "[48 rows x 48 columns]"
      ]
     },
     "execution_count": 362,
     "metadata": {},
     "output_type": "execute_result"
    }
   ],
   "source": [
    "pd.set_option(\"display.max_rows\", 15, \"display.max_columns\", 15)\n",
    "pd.DataFrame(H_complete)"
   ]
  },
  {
   "cell_type": "code",
   "execution_count": 363,
   "metadata": {},
   "outputs": [
    {
     "name": "stdout",
     "output_type": "stream",
     "text": [
      "(-2.1027484834620758+0j)\n",
      "-2.1027484834620758\n"
     ]
    }
   ],
   "source": [
    "e_comp,y_comp = np.linalg.eig(H_complete)\n",
    "\n",
    "print(np.sort(e_comp)[0])\n",
    "print(np.sort(e)[0])"
   ]
  },
  {
   "cell_type": "markdown",
   "metadata": {},
   "source": [
    "## The Anzatz circuit"
   ]
  },
  {
   "cell_type": "markdown",
   "metadata": {},
   "source": [
    "The Ansatz will be a collection of controlled-Ry gates so that the entire circuit can be turned on or off based on the state of one auxiliary qubit.  This way we can measure off diagonal blocks.  Say $U_1$ generates the state for block 1 and $U_2$ generates the state for block 2.  By putting the auxiliary qubit in a superposition we can apply the operator $(1+U_2^{\\dagger}U_1)/\\sqrt{2}$.  So we have,\n",
    "$$ p_{00...} = \\frac{1}{4}<00...|1+U_1^{\\dagger}U_2|00...><00...|1+U_2^{\\dagger}U_1|00...> = \\frac{1}{4}|1+<\\psi_2|\\psi_1>|^2$$\n",
    "So we have,\n",
    "$$<\\psi_2|\\psi_1> = \\pm 2\\sqrt{p_{00...}}-1 =2\\sqrt{p_{00...}}-1$$\n",
    "where in the last equality we used that $|<\\psi_2|\\psi_1>| \\leq 1$.\n",
    "\n",
    "Unlike in other versions I do not allow for multiple applications of the ansatz.  i.e. I restrict $T =1$.  This can be changed but speciall attention needs to be payed to the off-diagonal part."
   ]
  },
  {
   "cell_type": "code",
   "execution_count": 364,
   "metadata": {},
   "outputs": [],
   "source": [
    "from qiskit import QuantumCircuit, QuantumRegister,ClassicalRegister, execute\n",
    "\n",
    "\n",
    "# the number of qubits is given by the size of the blocks\n",
    "# note: the size of the blocks has already been adjusted to fit the qubits\n",
    "Q = int(np.log2(len(blocks['0,0'].to_matrix())))\n"
   ]
  },
  {
   "cell_type": "code",
   "execution_count": 365,
   "metadata": {},
   "outputs": [
    {
     "data": {
      "text/plain": [
       "1.110417514326217e-16"
      ]
     },
     "execution_count": 365,
     "metadata": {},
     "output_type": "execute_result"
    }
   ],
   "source": [
    "from qiskit.circuit.library.standard_gates import RYGate\n",
    "\n",
    "#to check that I am defing CRy correctly\n",
    "def cry(phi):\n",
    "    return RYGate(phi).control(1)\n",
    "\n",
    "#CRy in terms of Rzx gates\n",
    "def apply_CRy(phi,cir,q1,q2):\n",
    "    cir.rz(-np.pi/2,q2)\n",
    "    cir.rzx(-phi/2,q1,q2)\n",
    "    cir.rz(np.pi/2,q2)\n",
    "    cir.ry(phi/2,q2)\n",
    "    return cir\n",
    "\n",
    "qr = QuantumRegister(2)\n",
    "qc1 = QuantumCircuit(qr)\n",
    "qc2 = QuantumCircuit(qr)\n",
    "\n",
    "qc1.h(0)\n",
    "qc1 = apply_CRy(0.4,qc1,0,1)\n",
    "\n",
    "qc2.h(0)\n",
    "qc2.append(cry(0.4), [0,1])\n",
    "\n",
    "psi1 = qi.Statevector.from_instruction(qc1)\n",
    "psi2 = qi.Statevector.from_instruction(qc2)\n",
    "np.amax(np.abs(psi2-psi1))"
   ]
  },
  {
   "cell_type": "code",
   "execution_count": 366,
   "metadata": {},
   "outputs": [],
   "source": [
    "def U(cir_i,phi_i):  \n",
    "    cir_i.x(0)\n",
    "    cir_i = apply_CRy(phi_i[0],cir_i,0,1)\n",
    "    for q in range(1,Q):\n",
    "        cir_i = apply_CRy(phi_i[2*q-1],cir_i,q,q+1)\n",
    "        cir_i = apply_CRy(phi_i[2*q],cir_i,q+1,q)\n",
    "    cir_i.x(0)\n",
    "    return cir_i\n"
   ]
  },
  {
   "cell_type": "code",
   "execution_count": 367,
   "metadata": {},
   "outputs": [
    {
     "data": {
      "image/png": "[encoded data removed]",
      "text/plain": [
       "<Figure size 968.775x325.08 with 1 Axes>"
      ]
     },
     "execution_count": 367,
     "metadata": {},
     "output_type": "execute_result"
    }
   ],
   "source": [
    "qr = QuantumRegister(Q+1)\n",
    "cr = ClassicalRegister(Q+1)\n",
    "cir_i = QuantumCircuit(qr , cr)\n",
    "tst = U(cir_i,[1.2,2.3,1.4,3.2,4.3])\n",
    "\n",
    "tst.draw(output = 'mpl')"
   ]
  },
  {
   "cell_type": "code",
   "execution_count": 368,
   "metadata": {},
   "outputs": [
    {
     "name": "stdout",
     "output_type": "stream",
     "text": [
      "Statevector([ 0.82533561-3.32575038e-16j,  0.        +0.00000000e+00j,\n",
      "              0.23064936+4.19162655e-17j,  0.        +0.00000000e+00j,\n",
      "              0.00969483+8.52100742e-17j,  0.        +0.00000000e+00j,\n",
      "             -0.01151011+4.83283335e-17j,  0.        +0.00000000e+00j,\n",
      "              0.27774892-1.10858346e-16j,  0.        +0.00000000e+00j,\n",
      "             -0.32975514+2.54109877e-17j,  0.        +0.00000000e+00j,\n",
      "              0.18165638+2.84033581e-17j,  0.        +0.00000000e+00j,\n",
      "             -0.21567005+1.78114198e-17j,  0.        +0.00000000e+00j],\n",
      "            dims=(2, 2, 2, 2))\n"
     ]
    }
   ],
   "source": [
    "psi1 = qi.Statevector.from_instruction(tst)\n",
    "psi1"
   ]
  },
  {
   "cell_type": "markdown",
   "metadata": {},
   "source": [
    "Now we will do the off diagonal blocks.  "
   ]
  },
  {
   "cell_type": "code",
   "execution_count": 369,
   "metadata": {},
   "outputs": [],
   "source": [
    "\n",
    "def U_off(cir_i,phi_a,p_label, phi_b):  \n",
    "    #Run Ua\n",
    "    cir_i.h(0)\n",
    "    cir_i = apply_CRy(phi_a[0],cir_i,0,1)\n",
    "    for q in range(1,Q):\n",
    "        cir_i = apply_CRy(phi_a[2*q-1],cir_i,q,q+1)\n",
    "        cir_i = apply_CRy(phi_a[2*q],cir_i,q+1,q)\n",
    "    cir_i.h(0)\n",
    "    #Insert Pauli\n",
    "    for q in range(1,Q+1):\n",
    "        if p_label[Q-q] == 'X':\n",
    "            cir_i.x(q)\n",
    "        if p_label[Q-q] == 'Y':\n",
    "            cir_i.y(q)\n",
    "        if p_label[Q-q] == 'Z':\n",
    "            cir_i.z(q)\n",
    "    #Run Ua^dagger = Ua^transpose\n",
    "    cir_i.h(0)\n",
    "    for q in range(1,Q):\n",
    "        Lphi = len(phi_b)\n",
    "        cir_i = apply_CRy(-phi_b[Lphi-2*q+1],cir_i,Q-q+1,Q-q)\n",
    "        cir_i = apply_CRy(-phi_b[Lphi-2*q],cir_i,Q-q,Q-q+1)\n",
    "    cir_i = apply_CRy(-phi_b[0],cir_i,0,1)\n",
    "    cir_i.h(0)\n",
    "    \n",
    "    \n",
    "    return cir_i"
   ]
  },
  {
   "cell_type": "code",
   "execution_count": 370,
   "metadata": {},
   "outputs": [
    {
     "data": {
      "image/png": "[encoded data removed]",
      "text/plain": [
       "<Figure size 1631.12x686.28 with 1 Axes>"
      ]
     },
     "execution_count": 370,
     "metadata": {},
     "output_type": "execute_result"
    }
   ],
   "source": [
    "qr = QuantumRegister(Q+1)\n",
    "cr = ClassicalRegister(Q+1)\n",
    "cir_i = QuantumCircuit(qr , cr)\n",
    "#tst = Ui_off(cir_i,[1.2,2.3,1.4,3.2,4.3],[1.2,2.3,1.4,3.2,4.3]) This should be identity \n",
    "tst = U_off(cir_i,[1.2,2.3,1.4,3.2,4.3],'YZX',[3.1,2.7,0.6,1.3,2.1])\n",
    "\n",
    "tst.draw(output = 'mpl')"
   ]
  },
  {
   "cell_type": "code",
   "execution_count": 371,
   "metadata": {},
   "outputs": [
    {
     "name": "stdout",
     "output_type": "stream",
     "text": [
      "Statevector([-1.63184474e-16-0.12114048j,  5.41883857e-17+0.12114048j,\n",
      "             -1.56095616e-16-0.41209868j, -3.93373170e-17-0.07723294j,\n",
      "              5.75599476e-17+0.03300209j, -9.37887575e-17-0.18813624j,\n",
      "              5.35104658e-17+0.12869647j, -7.29701823e-17-0.23852975j,\n",
      "             -1.51925909e-16-0.26976388j,  1.25037639e-16+0.26976388j,\n",
      "             -7.09724978e-17-0.33535513j, -1.25783294e-17-0.19935776j,\n",
      "             -2.13723224e-16-0.37130315j,  5.00847910e-17+0.16723416j,\n",
      "             -1.34068521e-16-0.20798084j, -1.45203841e-16-0.42198947j],\n",
      "            dims=(2, 2, 2, 2))\n"
     ]
    }
   ],
   "source": [
    "psi1 = qi.Statevector.from_instruction(tst)\n",
    "psi1"
   ]
  },
  {
   "cell_type": "code",
   "execution_count": 372,
   "metadata": {},
   "outputs": [
    {
     "data": {
      "text/plain": [
       "0.591983"
      ]
     },
     "execution_count": 372,
     "metadata": {},
     "output_type": "execute_result"
    }
   ],
   "source": [
    "(1+0.183966)/2"
   ]
  },
  {
   "cell_type": "markdown",
   "metadata": {},
   "source": [
    "# Calculating E\n",
    "\n",
    "$$ E = \\sum_{ab}<\\psi^a|H_{ab}|\\psi^b> = \\sum_{ab}<000\\ldots|U^{\\dagger}(\\{\\phi^a\\})H_{ab}U(\\{\\phi^b\\})|000\\ldots>$$\n",
    "\n",
    "each $H_{ab}$ can be brocken down into its Puali components so that $H_{ab} = \\sum_p c_p P_{ab,p}$.  Then we have\n",
    "\n",
    "$$ E = \\sum_{ab}\\sum_p c_p <000\\ldots|U^{\\dagger}(\\{\\phi^a\\})  P_{ab,p}U(\\{\\phi^b\\})|000\\ldots>$$.\n",
    "\n",
    "We cannot measure $<\\psi^a|P_{ab,p}|\\psi^b>$ directly.  Instead we measure $|<\\psi^a|P_{ab,p}|\\psi^b>|^2$ which tells us nothing about the sign.  \n"
   ]
  },
  {
   "cell_type": "markdown",
   "metadata": {},
   "source": [
    "To fix the issue we need to find a way to use the counts to recreate the desired measurement.  This can be done by looking at the counts in each occupation state. \n",
    "\n",
    "First we need to go through the circuit and add a $R_y(-\\pi/2)$ gate on each qubit where $P_{ab,p}$ applies an X and an $R_x(\\pi/2)$ gate to each qubit where $P_{ab,p}$ applies an Y.  This rotates all of the Pauli terms to Z.   Then we can take the count for each occupation state mulitply that count by $(-1)^n$ where n is the number of up qubits with a Puali term in $P_{ab,p}$. \n",
    "\n",
    "for example:\n",
    "\n",
    "\\begin{equation}\n",
    "\\begin{split}\n",
    "<\\psi|XZ|\\psi> &= <(R_y(\\pi/2)\\otimes I)\\psi|R^{\\dagger}_y(\\pi/2)XR_y(\\pi/2)\\otimes Z|(R^{\\dagger}_y(\\pi/2)\\otimes I)\\psi>\n",
    "\\\\\n",
    "& = <(R_y(\\pi/2)\\otimes I)\\psi|ZZ|(R^{\\dagger}_y(\\pi/2)\\otimes I)\\psi>\n",
    "\\\\\n",
    "& = |<00|R^{\\dagger}_y(\\pi/2)\\psi>|^2 + (-1)^1|<10|R^{\\dagger}_y(\\pi/2) \\psi>|^2 + (-1)^1|<01|R^{\\dagger}_y(\\pi/2) \\psi>|^2 + (-1)^2|<11|R^{\\dagger}_y(\\pi/2) \\psi>|^2\n",
    "\\end{split}\n",
    "\\end{equation}\n",
    "\n",
    "This unfortunetly does not work for $|\\psi^a> \\neq |\\psi_b>$\n",
    "\n"
   ]
  },
  {
   "cell_type": "markdown",
   "metadata": {},
   "source": [
    "### Stratagy\n",
    "\n",
    "In order to run on the quantum device, I would like to group together all of the runs so that each time I measure energy, I only have to que once.  \n",
    "\n",
    "1) We prepare the circuit to be measured for a given p_label and include measurment instructions.\n",
    "    \n",
    "    -> add an entry to the measurement instructions to tell if the block is off or on diagonal \n",
    "    \n",
    "    -> if off diagonal the context of the measurment is changed.  meas = [['on'],[a,b,c]] or [['off']]\n",
    "\n",
    "2) We collect all of the p_labels from a block into a circuit array\n",
    "\n",
    "3) We collect all of the blocks into a circuit array\n",
    "\n",
    "4) we send to the backend\n",
    "\n",
    "5) we use the measurment instructions to decode the results\n",
    "    \n",
    "    ->if on diagonal use [a,b,c] to determine the sign of each entry\n",
    "    \n",
    "    ->if off-diagonal use $2\\sqrt{p_{00...}}-1$\n",
    "\n",
    "6) sum everything together to get the energy"
   ]
  },
  {
   "cell_type": "markdown",
   "metadata": {},
   "source": [
    "### Prepare the circuits\n",
    "\n",
    "This is where I left off."
   ]
  },
  {
   "cell_type": "code",
   "execution_count": 386,
   "metadata": {},
   "outputs": [],
   "source": [
    "import random\n",
    "\n",
    "alpha = 1/np.sqrt(bL)*np.array([1 for b in range(bL)])\n",
    "\n",
    "#Create an arbitrary collection of rotation angles\n",
    "phi = []\n",
    "for b in range(bL):\n",
    "    phi_b = []\n",
    "    for q in range(2*Q-1):\n",
    "        rand = random.random()\n",
    "        phi_b.append(rand)\n",
    "    phi.append(phi_b)"
   ]
  },
  {
   "cell_type": "code",
   "execution_count": 387,
   "metadata": {},
   "outputs": [
    {
     "name": "stdout",
     "output_type": "stream",
     "text": [
      "XII\n",
      "[1, 0, 0, 0]\n"
     ]
    },
    {
     "data": {
      "image/png": "[encoded data removed]",
      "text/plain": [
       "<Figure size 1149.81x325.08 with 1 Axes>"
      ]
     },
     "execution_count": 387,
     "metadata": {},
     "output_type": "execute_result"
    }
   ],
   "source": [
    "from qiskit import Aer\n",
    "from qiskit.visualization import *\n",
    "from qiskit import quantum_info as qi\n",
    "\n",
    "def convert_to_circ(p_label,psi0):\n",
    "    #apply rotations\n",
    "    psi = copy.deepcopy(psi0)\n",
    "    pauli_qs = []\n",
    "    Z_label = ''\n",
    "    Q = len(p_label)\n",
    "    for q,p in enumerate(p_label):\n",
    "        if p == 'X':\n",
    "            psi.ry(-np.pi/2,Q-q)\n",
    "            pauli_qs.append(1)\n",
    "            Z_label += 'Z'\n",
    "        if p == 'Y':\n",
    "            psi.rx(np.pi/2,Q-q)\n",
    "            pauli_qs.append(1)\n",
    "            Z_label += 'Z'\n",
    "        if p == 'Z':\n",
    "            pauli_qs.append(1)\n",
    "            Z_label += 'Z'\n",
    "        if p == 'I':\n",
    "            pauli_qs.append(0)\n",
    "            Z_label += 'I'\n",
    "    pauli_qs.append(0)\n",
    "    #apply measurment \n",
    "    psi.measure(psi.qubits,psi.clbits)\n",
    "    #return circut and measurement instructions\n",
    "    return [psi,pauli_qs]\n",
    "\n",
    "\n",
    "#Run a test\n",
    "import copy\n",
    "qr = QuantumRegister(Q+1)\n",
    "cr = ClassicalRegister(Q+1)\n",
    "cir = QuantumCircuit(qr , cr)\n",
    "psi0 = U(cir,[1.2,2.3,3.4,1.7,0.5])\n",
    "p_label = blocks['0,0'][10].primitive.to_label()\n",
    "        \n",
    "    \n",
    "cir_tst, lab_tst =  convert_to_circ(p_label,psi0) \n",
    "print(p_label)\n",
    "print(lab_tst)\n",
    "cir_tst.draw(output = \"mpl\")"
   ]
  },
  {
   "cell_type": "markdown",
   "metadata": {},
   "source": [
    "### Collect the circuits"
   ]
  },
  {
   "cell_type": "code",
   "execution_count": 388,
   "metadata": {},
   "outputs": [
    {
     "name": "stdout",
     "output_type": "stream",
     "text": [
      "0.5\n",
      "['on', [1, 0, 0, 0]]\n",
      "XII\n"
     ]
    },
    {
     "data": {
      "image/png": "[encoded data removed]",
      "text/plain": [
       "<Figure size 1149.81x325.08 with 1 Axes>"
      ]
     },
     "execution_count": 388,
     "metadata": {},
     "output_type": "execute_result"
    }
   ],
   "source": [
    "#This collects the circuits for the on-diagonal blocks only\n",
    "def collect_diag_circs(phi_b,block):\n",
    "    qr = QuantumRegister(Q+1)\n",
    "    cr = ClassicalRegister(Q+1)\n",
    "    cir = QuantumCircuit(qr , cr)\n",
    "    psi0 = U(cir,phi_b)\n",
    "    cirs = []\n",
    "    meas = []\n",
    "    coef = []\n",
    "    pauli = []\n",
    "    for p in block:\n",
    "        psi = copy.deepcopy(psi0)\n",
    "        w = p.coeff\n",
    "        if np.abs(w) > 0:\n",
    "            p_label = p.primitive.to_label()\n",
    "            cir_p,meas_p  = convert_to_circ(p_label,psi)\n",
    "            cirs.append(cir_p)\n",
    "            meas.append(['on',meas_p])\n",
    "            coef.append(w)\n",
    "            pauli.append(p_label)\n",
    "    return cirs,meas,coef,pauli\n",
    "\n",
    "block = blocks['0,0']\n",
    "phi_b = phi[0]\n",
    "\n",
    "circs, meas, coefs, pauli = collect_diag_circs(phi_b,block)\n",
    "\n",
    "n=10\n",
    "print(coefs[n])\n",
    "print(meas[n])\n",
    "print(pauli[n])\n",
    "circs[n].draw(output = \"mpl\")"
   ]
  },
  {
   "cell_type": "code",
   "execution_count": null,
   "metadata": {},
   "outputs": [],
   "source": []
  },
  {
   "cell_type": "code",
   "execution_count": 725,
   "metadata": {},
   "outputs": [
    {
     "name": "stdout",
     "output_type": "stream",
     "text": [
      "-0.25\n",
      "['off']\n",
      "IZI\n"
     ]
    },
    {
     "data": {
      "image/png": "[encoded data removed]",
      "text/plain": [
       "<Figure size 1644.39x686.28 with 1 Axes>"
      ]
     },
     "execution_count": 725,
     "metadata": {},
     "output_type": "execute_result"
    }
   ],
   "source": [
    "# This collects circuits for both on and off diagonal blocks but is unefficient for on-diagonal blocks\n",
    "def collect_off_circs(phi_a,phi_b,block):\n",
    "    cirs = []\n",
    "    meas = []\n",
    "    coef = []\n",
    "    pauli = []\n",
    "    for p in block:\n",
    "        p_label = p.primitive.to_label()\n",
    "        qr = QuantumRegister(Q+1)\n",
    "        cr = ClassicalRegister(Q+1)\n",
    "        cir = QuantumCircuit(qr , cr)\n",
    "        psi0 = U_off(cir,phi_a,p_label,phi_b)\n",
    "        psi = copy.deepcopy(psi0)\n",
    "        psi.measure(psi.qubits,psi.clbits)\n",
    "        w = p.coeff\n",
    "        if np.abs(w) > 0.0:\n",
    "            cirs.append(psi)\n",
    "            meas.append(['off'])\n",
    "            coef.append(w)\n",
    "            pauli.append(p_label)\n",
    "    return cirs,meas,coef,pauli\n",
    "\n",
    "\n",
    "block = blocks['0,1']\n",
    "phi_a = phi[0]\n",
    "phi_b = phi[1]\n",
    "\n",
    "circs, meas, coefs, pauli = collect_off_circs(phi_a,phi_b,block)\n",
    "\n",
    "n=1\n",
    "print(coefs[n])\n",
    "print(meas[n])\n",
    "print(pauli[n])\n",
    "circs[n].draw(output = \"mpl\")"
   ]
  },
  {
   "cell_type": "code",
   "execution_count": 726,
   "metadata": {},
   "outputs": [
    {
     "name": "stdout",
     "output_type": "stream",
     "text": [
      "192\n",
      "0.08333333333333336\n",
      "['on', [1, 0, 0, 0]]\n",
      "['0,0', 'XII']\n"
     ]
    },
    {
     "data": {
      "image/png": "[encoded data removed]",
      "text/plain": [
       "<Figure size 1162.5x325.08 with 1 Axes>"
      ]
     },
     "execution_count": 726,
     "metadata": {},
     "output_type": "execute_result"
    }
   ],
   "source": [
    "# collect all the circuits \n",
    "# The off diagonal coefs are doubled to take care of the Hermition conjugate\n",
    "def collect_circs(alpha,phi,blocks):\n",
    "    circs = []\n",
    "    meas = []\n",
    "    coefs = []\n",
    "    paulis = []\n",
    "    for key in list(blocks.keys()):\n",
    "        if key[0] == key[2]:\n",
    "            circ_b, meas_b, coef_b, pauli_b = collect_diag_circs(phi[int(key[0])],blocks[key])\n",
    "            for b in range(len(coef_b)):\n",
    "                circs.append(circ_b[b])\n",
    "                meas.append(meas_b[b])\n",
    "                coefs.append(alpha[int(key[0])]*alpha[int(key[2])]*coef_b[b])\n",
    "                paulis.append([key,pauli_b[b]])\n",
    "        else:\n",
    "            circ_b, meas_b, coef_b, pauli_b = collect_off_circs(phi[int(key[0])],phi[int(key[2])],blocks[key])\n",
    "            for b in range(len(coef_b)):\n",
    "                circs.append(circ_b[b])\n",
    "                meas.append(meas_b[b])\n",
    "                coefs.append(alpha[int(key[0])]*alpha[int(key[2])]*coef_b[b])\n",
    "                paulis.append([key,pauli_b[b]])\n",
    "    return circs, meas, coefs, paulis\n",
    "\n",
    "circs, meas, coefs, paulis = collect_circs(alpha,phi,blocks)\n",
    "\n",
    "n=10\n",
    "print(len(circs))\n",
    "print(coefs[n])\n",
    "print(meas[n])\n",
    "print(paulis[n])\n",
    "circs[n].draw(output = \"mpl\")"
   ]
  },
  {
   "cell_type": "markdown",
   "metadata": {},
   "source": [
    "### Run function"
   ]
  },
  {
   "cell_type": "code",
   "execution_count": 727,
   "metadata": {},
   "outputs": [],
   "source": [
    "circs, meas, coefs, pualis = collect_circs(alpha,phi,blocks)\n",
    "\n",
    "def get_results(circs, method = 'matrix',save_id_file = None):\n",
    "    if method == 'matrix':\n",
    "        # add results\n",
    "        r = []\n",
    "        for l in range(len(circs)):\n",
    "            circs[l].remove_final_measurements()\n",
    "            wave = qi.Statevector.from_instruction(circs[l])\n",
    "            r_l = wave.probabilities_dict()\n",
    "            r.append(r_l)\n",
    "    \n",
    "    if method == \"simulator\":\n",
    "        sim = Aer.get_backend(\"qasm_simulator\")\n",
    "        r = execute(circs, backend = sim).result().get_counts()\n",
    "        \n",
    "    if method == \"quantum\":\n",
    "        job = backend.run(transpile(circs, backend), meas_level=2, shots=8192)\n",
    "        job_id = job.job_id()\n",
    "        print(job_id)\n",
    "        np.save(save_id_file,[job_id])\n",
    "        r = job.result().get_counts()\n",
    "        \n",
    "        \n",
    "    return r\n",
    "\n",
    "r = get_results(circs, method = 'matrix')\n",
    "#r = get_results(circs, method = 'simulator')\n",
    "#r = get_results(circs, method = 'quantum')"
   ]
  },
  {
   "cell_type": "markdown",
   "metadata": {},
   "source": [
    "### Analyze results"
   ]
  },
  {
   "cell_type": "code",
   "execution_count": 728,
   "metadata": {},
   "outputs": [
    {
     "data": {
      "text/plain": [
       "1.980352024206273"
      ]
     },
     "execution_count": 728,
     "metadata": {},
     "output_type": "execute_result"
    }
   ],
   "source": [
    "def energy_from_results(r,meas,coefs):\n",
    "    E = 0\n",
    "    key000 = \"\".join(['0' for i in range(Q+1)])\n",
    "    for l in range(len(r)):\n",
    "        if meas[l][0] == 'on': \n",
    "            z_measure = 0\n",
    "            total = 0\n",
    "            for key in list(r[l].keys()):\n",
    "                n = 0\n",
    "                for q in range(len(key)):\n",
    "                    if key[q] == '1' and meas[l][1][q] == 1:\n",
    "                        n += 1\n",
    "                z_measure += (-1)**n * r[l][key] \n",
    "                total += r[l][key]\n",
    "            E += coefs[l]*z_measure/total\n",
    "        elif meas[l][0] == 'off':\n",
    "            total = np.sum([r[l][key] for key in list(r[l].keys())])\n",
    "            p0 = r[l][key000]/total\n",
    "            E += 2*coefs[l]*( 2*np.sqrt(p0) - 1 )\n",
    "    return np.real(E)\n",
    "\n",
    "energy_from_results(r,meas,coefs)"
   ]
  },
  {
   "cell_type": "code",
   "execution_count": 729,
   "metadata": {},
   "outputs": [
    {
     "data": {
      "text/plain": [
       "(1.980352024206274-6.162975822039155e-33j)"
      ]
     },
     "execution_count": 729,
     "metadata": {},
     "output_type": "execute_result"
    }
   ],
   "source": [
    "#Check against H_complete               \n",
    "wave_full = []\n",
    "for b in range(bL):\n",
    "    qr = QuantumRegister(Q+1)\n",
    "    cr = ClassicalRegister(Q+1)\n",
    "    cir = QuantumCircuit(qr , cr)\n",
    "    psi_b = U(cir,phi[b])\n",
    "    wave_b = alpha[b]*qi.Statevector.from_instruction(psi_b).data\n",
    "    wave_full.append(wave_b)\n",
    "wave_full = np.array(wave_full).flatten()\n",
    "\n",
    "IxH = np.kron(H_complete,[[1,0],[0,1]])\n",
    "np.dot(np.conjugate(wave_full),np.dot(IxH,wave_full))\n"
   ]
  },
  {
   "cell_type": "code",
   "execution_count": 684,
   "metadata": {},
   "outputs": [],
   "source": [
    "# function to test each block\n",
    "def E_block(b_label):\n",
    "    h00 = blocks[b_label].to_matrix()\n",
    "    Ixh00 = np.kron(h00,[[1,0],[0,1]])\n",
    "\n",
    "    qr = QuantumRegister(Q+1)\n",
    "    cr = ClassicalRegister(Q+1)\n",
    "    cir1 = QuantumCircuit(qr , cr)\n",
    "    psi1 = U(cir1,phi[int(b_label[0])])\n",
    "    cir2 = QuantumCircuit(qr , cr)\n",
    "    psi2 = U(cir2,phi[int(b_label[2])])\n",
    "\n",
    "\n",
    "    wave1 = qi.Statevector.from_instruction(psi1).data\n",
    "    wave2 = qi.Statevector.from_instruction(psi2).data\n",
    "    return alpha[b1]*alpha[b2]*bkt(wave2,Ixh00,wave1)"
   ]
  },
  {
   "cell_type": "markdown",
   "metadata": {},
   "source": [
    "### On diagonal check"
   ]
  },
  {
   "cell_type": "code",
   "execution_count": 685,
   "metadata": {},
   "outputs": [
    {
     "data": {
      "text/plain": [
       "(1.1695109089991278+3.851859888774472e-34j)"
      ]
     },
     "execution_count": 685,
     "metadata": {},
     "output_type": "execute_result"
    }
   ],
   "source": [
    "#Check against H_complete               \n",
    "wave_full = []\n",
    "for b in range(bL):\n",
    "    qr = QuantumRegister(Q+1)\n",
    "    cr = ClassicalRegister(Q+1)\n",
    "    cir = QuantumCircuit(qr , cr)\n",
    "    psi_b = U(cir,phi[b])\n",
    "    if b == 0:\n",
    "        wave_b = alpha[b]*qi.Statevector.from_instruction(psi_b).data\n",
    "    else:\n",
    "        wave_b = 0*alpha[b]*qi.Statevector.from_instruction(psi_b).data\n",
    "    wave_full.append(wave_b)\n",
    "wave_full = np.array(wave_full).flatten()\n",
    "\n",
    "IxH = np.kron(H_complete,[[1,0],[0,1]])\n",
    "np.dot(np.conjugate(wave_full),np.dot(IxH,wave_full))"
   ]
  },
  {
   "cell_type": "code",
   "execution_count": 686,
   "metadata": {},
   "outputs": [
    {
     "data": {
      "text/plain": [
       "1.169510908999127"
      ]
     },
     "execution_count": 686,
     "metadata": {},
     "output_type": "execute_result"
    }
   ],
   "source": [
    "E = 0\n",
    "b=0\n",
    "b_label = '0,0'\n",
    "for p in range(len(blocks[b_label])):\n",
    "    qr = QuantumRegister(Q+1)\n",
    "    cr = ClassicalRegister(Q+1)\n",
    "    cir = QuantumCircuit(qr , cr)\n",
    "    psi0 = U(cir,phi[b])\n",
    "    p_label = blocks[b_label][p].primitive.to_label()\n",
    "    coef = alpha[0]**2*blocks[b_label][p].coeff\n",
    "    cir_tst, meas =  convert_to_circ(p_label,psi0) \n",
    "\n",
    "    cir_tst.remove_final_measurements()\n",
    "    wave = qi.Statevector.from_instruction(cir_tst)\n",
    "    r = wave.probabilities_dict()\n",
    "    z_measure = 0\n",
    "    total = 0\n",
    "    for key in list(r.keys()):\n",
    "        n = 0\n",
    "        for q in range(len(key)):\n",
    "            if key[q] == '1' and meas[q] == 1:\n",
    "                n += 1\n",
    "        z_measure += (-1)**n * r[key]\n",
    "        total += r[key]\n",
    "    E += coef*z_measure/total\n",
    "E"
   ]
  },
  {
   "cell_type": "code",
   "execution_count": 687,
   "metadata": {},
   "outputs": [
    {
     "data": {
      "text/plain": [
       "(1.169510908999128+5.13581318503263e-34j)"
      ]
     },
     "execution_count": 687,
     "metadata": {},
     "output_type": "execute_result"
    }
   ],
   "source": [
    "E_block(\"0,0\")"
   ]
  },
  {
   "cell_type": "markdown",
   "metadata": {},
   "source": [
    "### off diagonal check"
   ]
  },
  {
   "cell_type": "code",
   "execution_count": 688,
   "metadata": {},
   "outputs": [
    {
     "data": {
      "text/plain": [
       "-0.16519230462169485"
      ]
     },
     "execution_count": 688,
     "metadata": {},
     "output_type": "execute_result"
    }
   ],
   "source": [
    "b1 = 0\n",
    "b2 = 1\n",
    "b_label = '0,1'\n",
    "\n",
    "E = 0\n",
    "for p in range(len(blocks[b_label])):\n",
    "    qr = QuantumRegister(Q+1)\n",
    "    cr = ClassicalRegister(Q+1)\n",
    "    cir12 = QuantumCircuit(qr , cr)\n",
    "\n",
    "    p_label = blocks[b_label][p].primitive.to_label()\n",
    "    coef = alpha[b2]*alpha[b1]*blocks[b_label][p].coeff\n",
    "    psi12 = U_off(cir12,phi[b2],p_label,phi[b1])\n",
    "\n",
    "    wave12 = qi.Statevector.from_instruction(psi12)\n",
    "\n",
    "\n",
    "    r = wave12.probabilities_dict()\n",
    "    total = np.sum([r[key] for key in list(r.keys())])\n",
    "    p0 = r[\"0000\"]/total\n",
    "    E += coef*( 2*np.sqrt(p0) - 1 )\n",
    "E"
   ]
  },
  {
   "cell_type": "code",
   "execution_count": 689,
   "metadata": {},
   "outputs": [
    {
     "data": {
      "text/plain": [
       "(-0.16519230462169482-5.050892150714049e-20j)"
      ]
     },
     "execution_count": 689,
     "metadata": {},
     "output_type": "execute_result"
    }
   ],
   "source": [
    "E_block(b_label)"
   ]
  },
  {
   "cell_type": "code",
   "execution_count": 690,
   "metadata": {},
   "outputs": [
    {
     "data": {
      "text/plain": [
       "(-0.16519230462169485+5.0508921507140477e-20j)"
      ]
     },
     "execution_count": 690,
     "metadata": {},
     "output_type": "execute_result"
    }
   ],
   "source": [
    "#Check against H_complete               \n",
    "wave_full1 = []\n",
    "wave_full2 = []\n",
    "for b in range(bL):\n",
    "    qr = QuantumRegister(Q+1)\n",
    "    cr = ClassicalRegister(Q+1)\n",
    "    cir = QuantumCircuit(qr , cr)\n",
    "    psi_b = U(cir,phi[b])\n",
    "    if b == int(b_label[0]):\n",
    "        wave_b1 = alpha[b]*qi.Statevector.from_instruction(psi_b).data\n",
    "    else:\n",
    "        wave_b1 = 0*alpha[b]*qi.Statevector.from_instruction(psi_b).data\n",
    "    if b == int(b_label[2]):\n",
    "        wave_b2 = alpha[b]*qi.Statevector.from_instruction(psi_b).data\n",
    "    else:\n",
    "        wave_b2 = 0*alpha[b]*qi.Statevector.from_instruction(psi_b).data\n",
    "    wave_full1.append(wave_b1)\n",
    "    wave_full2.append(wave_b2)\n",
    "wave_full1 = np.array(wave_full1).flatten()\n",
    "wave_full2 = np.array(wave_full2).flatten()\n",
    "\n",
    "IxH = np.kron(H_complete,[[1,0],[0,1]])\n",
    "np.dot(np.conjugate(wave_full1),np.dot(IxH,wave_full2))"
   ]
  },
  {
   "cell_type": "markdown",
   "metadata": {},
   "source": [
    "### full check"
   ]
  },
  {
   "cell_type": "code",
   "execution_count": 691,
   "metadata": {},
   "outputs": [
    {
     "data": {
      "text/plain": [
       "(1.9803520242062738-1.9690206073294312e-18j)"
      ]
     },
     "execution_count": 691,
     "metadata": {},
     "output_type": "execute_result"
    }
   ],
   "source": [
    "E = 0\n",
    "for b_label in list(blocks.keys()):\n",
    "    Eb = E_block(b_label)\n",
    "    if b_label[0] == b_label[2]:\n",
    "        E += Eb\n",
    "    else:\n",
    "        E += 2*Eb  # need the 2 for off diagonal terms!\n",
    "    #print(b_label,Eb)\n",
    "E"
   ]
  },
  {
   "cell_type": "code",
   "execution_count": 692,
   "metadata": {},
   "outputs": [
    {
     "data": {
      "text/plain": [
       "(1.980352024206274-6.162975822039155e-33j)"
      ]
     },
     "execution_count": 692,
     "metadata": {},
     "output_type": "execute_result"
    }
   ],
   "source": [
    "#Check against H_complete               \n",
    "wave_full = []\n",
    "for b in range(bL):\n",
    "    qr = QuantumRegister(Q+1)\n",
    "    cr = ClassicalRegister(Q+1)\n",
    "    cir = QuantumCircuit(qr , cr)\n",
    "    psi_b = U(cir,phi[b])\n",
    "    wave_b = alpha[b]*qi.Statevector.from_instruction(psi_b).data\n",
    "    wave_full.append(wave_b)\n",
    "wave_full = np.array(wave_full).flatten()\n",
    "\n",
    "IxH = np.kron(H_complete,[[1,0],[0,1]])\n",
    "np.dot(np.conjugate(wave_full),np.dot(IxH,wave_full))"
   ]
  },
  {
   "cell_type": "code",
   "execution_count": 721,
   "metadata": {},
   "outputs": [
    {
     "data": {
      "text/plain": [
       "1.9803520242062733"
      ]
     },
     "execution_count": 721,
     "metadata": {},
     "output_type": "execute_result"
    }
   ],
   "source": [
    "E = 0\n",
    "for b_label in list(blocks.keys()):\n",
    "    Eb = 0\n",
    "    b1=int(b_label[0])\n",
    "    b2=int(b_label[2])\n",
    "    if b1 == b2 :\n",
    "        b=b1\n",
    "        for p in range(len(blocks[b_label])):\n",
    "            qr = QuantumRegister(Q+1)\n",
    "            cr = ClassicalRegister(Q+1)\n",
    "            cir = QuantumCircuit(qr , cr)\n",
    "            psi0 = U(cir,phi[b])\n",
    "            p_label = blocks[b_label][p].primitive.to_label()\n",
    "            coef = alpha[b]**2*blocks[b_label][p].coeff\n",
    "            cir_tst, meas =  convert_to_circ(p_label,psi0) \n",
    "\n",
    "            cir_tst.remove_final_measurements()\n",
    "            wave = qi.Statevector.from_instruction(cir_tst)\n",
    "            r = wave.probabilities_dict()\n",
    "            z_measure = 0\n",
    "            total = 0\n",
    "            for key in list(r.keys()):\n",
    "                n = 0\n",
    "                for q in range(len(key)):\n",
    "                    if key[q] == '1' and meas[q] == 1:\n",
    "                        n += 1\n",
    "                z_measure += (-1)**n * r[key]\n",
    "                total += r[key]\n",
    "            Eb += coef*z_measure/total\n",
    "            #print([b_label,p_label],coef*z_measure/total)\n",
    "    else:\n",
    "        for p in range(len(blocks[b_label])):\n",
    "            qr = QuantumRegister(Q+1)\n",
    "            cr = ClassicalRegister(Q+1)\n",
    "            cir12 = QuantumCircuit(qr , cr)\n",
    "\n",
    "            p_label = blocks[b_label][p].primitive.to_label()\n",
    "            coef = alpha[b2]*alpha[b1]*blocks[b_label][p].coeff\n",
    "            psi12 = U_off(cir12,phi[b2],p_label,phi[b1])\n",
    "\n",
    "            wave12 = qi.Statevector.from_instruction(psi12)\n",
    "\n",
    "\n",
    "            r = wave12.probabilities_dict()\n",
    "            total = np.sum([r[key] for key in list(r.keys())])\n",
    "            p0 = r[\"0000\"]/total\n",
    "            Eb += 2*coef*( 2*np.sqrt(p0) - 1 )\n",
    "            #print([b_label,p_label],2*coef*( 2*np.sqrt(p0) - 1 ))\n",
    "    E += Eb\n",
    "\n",
    "E"
   ]
  },
  {
   "cell_type": "code",
   "execution_count": 719,
   "metadata": {},
   "outputs": [
    {
     "data": {
      "text/plain": [
       "1.980352024206273"
      ]
     },
     "execution_count": 719,
     "metadata": {},
     "output_type": "execute_result"
    }
   ],
   "source": [
    "def energy_from_results(r,meas,coefs):\n",
    "    E = 0\n",
    "    key000 = \"\".join(['0' for i in range(Q+1)])\n",
    "    for l in range(len(r)):\n",
    "        if meas[l][0] == 'on': \n",
    "            z_measure = 0\n",
    "            total = 0\n",
    "            for key in list(r[l].keys()):\n",
    "                n = 0\n",
    "                for q in range(len(key)):\n",
    "                    if key[q] == '1' and meas[l][1][q] == 1:\n",
    "                        n += 1\n",
    "                z_measure += (-1)**n * r[l][key] \n",
    "                total += r[l][key]\n",
    "            E += coefs[l]*z_measure/total\n",
    "            #print(paulis[l],coefs[l]*z_measure/total)\n",
    "        elif meas[l][0][0] == 'off':\n",
    "            total = np.sum([r[l][key] for key in list(r[l].keys())])\n",
    "            p0 = r[l][key000]/total\n",
    "            E += 2*coefs[l]*( 2*np.sqrt(p0) - 1 )\n",
    "            #print(paulis[l],2*coefs[l]*( 2*np.sqrt(p0) - 1 ))\n",
    "    return np.real(E)\n",
    "\n",
    "circs, meas, coefs, paulis = collect_circs(alpha,phi,blocks)\n",
    "r = get_results(circs, method = 'matrix')\n",
    "energy_from_results(r,meas,coefs)"
   ]
  },
  {
   "cell_type": "markdown",
   "metadata": {},
   "source": [
    "### Ended Constrution\n",
    "\n",
    "It looks like everything has been fixed.  I should delete the debugging cells and continue onto the optimization part.  \n",
    "There are debuging cells above and below.  \n",
    "\n",
    "Think about keeping some of the dubguging equipment in case I need it later.  Espesially the E_Block function"
   ]
  },
  {
   "cell_type": "code",
   "execution_count": 380,
   "metadata": {},
   "outputs": [],
   "source": [
    "import qiskit.quantum_info as qi\n",
    "\n",
    "def I(N):\n",
    "    label = ['I' for i in range(N)]\n",
    "    label = ''.join(label)\n",
    "    return qi.Operator.from_label(label).data\n",
    "\n",
    "def X(i,N):\n",
    "    label = ['I' for i in range(N)]\n",
    "    label[N-i-1] = 'X'\n",
    "    label = ''.join(label)\n",
    "    return qi.Operator.from_label(label).data\n",
    "\n",
    "def Y(i,N):\n",
    "    label = ['I' for i in range(N)]\n",
    "    label[N-1-i] = 'Y'\n",
    "    label = ''.join(label)\n",
    "    return qi.Operator.from_label(label).data\n",
    "\n",
    "def Z(i,N):\n",
    "    label = ['I' for i in range(N)]\n",
    "    label[N-1-i] = 'Z'\n",
    "    label = ''.join(label)\n",
    "    return qi.Operator.from_label(label).data\n",
    "\n",
    "import numpy as np\n",
    "\n",
    "def Mdot(Ol):\n",
    "    out = Ol[0]\n",
    "    for i in range(1,len(Ol)):\n",
    "        out = np.dot(Ol[i],out)\n",
    "    return out\n",
    "\n",
    "def bkt(y1,O,y2):\n",
    "    return Mdot([np.conjugate(y1),O,y2])\n",
    "\n"
   ]
  },
  {
   "cell_type": "code",
   "execution_count": 381,
   "metadata": {},
   "outputs": [
    {
     "name": "stdout",
     "output_type": "stream",
     "text": [
      "(0.7771148965861929-1.4902422104291098e-16j)\n",
      "0.7771148965861927\n"
     ]
    }
   ],
   "source": [
    "qr = QuantumRegister(Q+1)\n",
    "cr = ClassicalRegister(Q+1)\n",
    "cir12 = QuantumCircuit(qr , cr)\n",
    "cir1 = QuantumCircuit(qr , cr)\n",
    "cir2 = QuantumCircuit(qr , cr)\n",
    "psi12 = U_off(cir12,phi[0],'IIZ',phi[1])\n",
    "psi1 = U(cir1,phi[0])\n",
    "psi2 = U(cir2,phi[1])\n",
    "\n",
    "wave12 = qi.Statevector.from_instruction(psi12)\n",
    "wave1 = qi.Statevector.from_instruction(psi1).data\n",
    "wave2 = qi.Statevector.from_instruction(psi2).data\n",
    "\n",
    "r = wave12.probabilities_dict()\n",
    "total = np.sum([r[key] for key in list(r.keys())])\n",
    "p0 = r[\"0000\"]/total\n",
    "E = ( 2*np.sqrt(p0) - 1 )\n",
    "\n",
    "print(bkt(wave2,Z(1,4),wave1))\n",
    "print(E)"
   ]
  },
  {
   "cell_type": "code",
   "execution_count": 382,
   "metadata": {},
   "outputs": [
    {
     "name": "stdout",
     "output_type": "stream",
     "text": [
      "XII\n",
      "[1, 0, 0, 0]\n",
      "(0.41772017020793695+0j)\n",
      "0.4177201702079374\n"
     ]
    }
   ],
   "source": [
    "qr = QuantumRegister(Q+1)\n",
    "cr = ClassicalRegister(Q+1)\n",
    "cir = QuantumCircuit(qr , cr)\n",
    "psi0 = U(cir,[1.2,2.3,3.4,1.7,0.5])\n",
    "p_label = blocks['0,0'][10].primitive.to_label()\n",
    "cir_tst, meas =  convert_to_circ(p_label,psi0) \n",
    "cir_tst.remove_final_measurements()\n",
    "wave2 = qi.Statevector.from_instruction(cir_tst)\n",
    "r = wave2.probabilities_dict()\n",
    "\n",
    "#psi0.ry(-np.pi/2,3)\n",
    "wave = qi.Statevector.from_instruction(psi0).data\n",
    "\n",
    "\n",
    "print(p_label)\n",
    "print(meas)\n",
    "#print(r)\n",
    "\n",
    "IxX = np.kron(X(2,3),[[1,0],[0,1]])\n",
    "print(bkt(wave,IxX,wave))\n",
    "\n",
    "\n",
    "z_measure = 0\n",
    "total = 0\n",
    "for key in list(r.keys()):\n",
    "    n = 0\n",
    "    for q in range(len(key)):\n",
    "        if key[q] == '1' and meas[q] == 1:\n",
    "            n += 1\n",
    "    z_measure += (-1)**n * r[key]\n",
    "    total += r[key]\n",
    "print(z_measure/total)\n",
    "\n",
    "\n"
   ]
  },
  {
   "cell_type": "code",
   "execution_count": null,
   "metadata": {},
   "outputs": [],
   "source": []
  },
  {
   "cell_type": "code",
   "execution_count": null,
   "metadata": {},
   "outputs": [],
   "source": []
  },
  {
   "cell_type": "code",
   "execution_count": null,
   "metadata": {},
   "outputs": [],
   "source": []
  },
  {
   "cell_type": "code",
   "execution_count": null,
   "metadata": {},
   "outputs": [],
   "source": []
  },
  {
   "cell_type": "code",
   "execution_count": null,
   "metadata": {},
   "outputs": [],
   "source": []
  },
  {
   "cell_type": "code",
   "execution_count": null,
   "metadata": {},
   "outputs": [],
   "source": []
  },
  {
   "cell_type": "code",
   "execution_count": null,
   "metadata": {},
   "outputs": [],
   "source": []
  },
  {
   "cell_type": "code",
   "execution_count": null,
   "metadata": {},
   "outputs": [],
   "source": []
  },
  {
   "cell_type": "code",
   "execution_count": null,
   "metadata": {},
   "outputs": [],
   "source": []
  },
  {
   "cell_type": "code",
   "execution_count": 384,
   "metadata": {},
   "outputs": [
    {
     "ename": "TypeError",
     "evalue": "bad operand type for unary -: 'list'",
     "output_type": "error",
     "traceback": [
      "\u001b[0;31m---------------------------------------------------------------------------\u001b[0m",
      "\u001b[0;31mTypeError\u001b[0m                                 Traceback (most recent call last)",
      "\u001b[0;32m<ipython-input-384-bfa8ec23ec69>\u001b[0m in \u001b[0;36m<module>\u001b[0;34m\u001b[0m\n\u001b[1;32m     15\u001b[0m     \u001b[0mphi\u001b[0m\u001b[0;34m.\u001b[0m\u001b[0mappend\u001b[0m\u001b[0;34m(\u001b[0m\u001b[0mphi_b\u001b[0m\u001b[0;34m)\u001b[0m\u001b[0;34m\u001b[0m\u001b[0;34m\u001b[0m\u001b[0m\n\u001b[1;32m     16\u001b[0m \u001b[0;34m\u001b[0m\u001b[0m\n\u001b[0;32m---> 17\u001b[0;31m \u001b[0mcircs\u001b[0m\u001b[0;34m,\u001b[0m \u001b[0mmeas\u001b[0m\u001b[0;34m,\u001b[0m \u001b[0mcoefs\u001b[0m\u001b[0;34m,\u001b[0m \u001b[0mpaulis\u001b[0m \u001b[0;34m=\u001b[0m \u001b[0mcollect_circs\u001b[0m\u001b[0;34m(\u001b[0m\u001b[0malpha\u001b[0m\u001b[0;34m,\u001b[0m\u001b[0mphi\u001b[0m\u001b[0;34m,\u001b[0m\u001b[0mblocks\u001b[0m\u001b[0;34m)\u001b[0m\u001b[0;34m\u001b[0m\u001b[0;34m\u001b[0m\u001b[0m\n\u001b[0m\u001b[1;32m     18\u001b[0m \u001b[0mr\u001b[0m \u001b[0;34m=\u001b[0m \u001b[0mget_results\u001b[0m\u001b[0;34m(\u001b[0m\u001b[0mcircs\u001b[0m\u001b[0;34m,\u001b[0m \u001b[0mmethod\u001b[0m \u001b[0;34m=\u001b[0m \u001b[0;34m'matrix'\u001b[0m\u001b[0;34m)\u001b[0m\u001b[0;34m\u001b[0m\u001b[0;34m\u001b[0m\u001b[0m\n\u001b[1;32m     19\u001b[0m \u001b[0menergy_from_results\u001b[0m\u001b[0;34m(\u001b[0m\u001b[0mr\u001b[0m\u001b[0;34m,\u001b[0m\u001b[0mmeas\u001b[0m\u001b[0;34m,\u001b[0m\u001b[0mcoefs\u001b[0m\u001b[0;34m)\u001b[0m\u001b[0;34m\u001b[0m\u001b[0;34m\u001b[0m\u001b[0m\n",
      "\u001b[0;32m<ipython-input-377-3fbd03da0306>\u001b[0m in \u001b[0;36mcollect_circs\u001b[0;34m(alpha, phi, blocks)\u001b[0m\n\u001b[1;32m      8\u001b[0m     \u001b[0;32mfor\u001b[0m \u001b[0mkey\u001b[0m \u001b[0;32min\u001b[0m \u001b[0mlist\u001b[0m\u001b[0;34m(\u001b[0m\u001b[0mblocks\u001b[0m\u001b[0;34m.\u001b[0m\u001b[0mkeys\u001b[0m\u001b[0;34m(\u001b[0m\u001b[0;34m)\u001b[0m\u001b[0;34m)\u001b[0m\u001b[0;34m:\u001b[0m\u001b[0;34m\u001b[0m\u001b[0;34m\u001b[0m\u001b[0m\n\u001b[1;32m      9\u001b[0m         \u001b[0;32mif\u001b[0m \u001b[0mkey\u001b[0m\u001b[0;34m[\u001b[0m\u001b[0;36m0\u001b[0m\u001b[0;34m]\u001b[0m \u001b[0;34m==\u001b[0m \u001b[0mkey\u001b[0m\u001b[0;34m[\u001b[0m\u001b[0;36m2\u001b[0m\u001b[0;34m]\u001b[0m\u001b[0;34m:\u001b[0m\u001b[0;34m\u001b[0m\u001b[0;34m\u001b[0m\u001b[0m\n\u001b[0;32m---> 10\u001b[0;31m             \u001b[0mcirc_b\u001b[0m\u001b[0;34m,\u001b[0m \u001b[0mmeas_b\u001b[0m\u001b[0;34m,\u001b[0m \u001b[0mcoef_b\u001b[0m\u001b[0;34m,\u001b[0m \u001b[0mpauli_b\u001b[0m \u001b[0;34m=\u001b[0m \u001b[0mcollect_diag_circs\u001b[0m\u001b[0;34m(\u001b[0m\u001b[0mphi\u001b[0m\u001b[0;34m[\u001b[0m\u001b[0mint\u001b[0m\u001b[0;34m(\u001b[0m\u001b[0mkey\u001b[0m\u001b[0;34m[\u001b[0m\u001b[0;36m0\u001b[0m\u001b[0;34m]\u001b[0m\u001b[0;34m)\u001b[0m\u001b[0;34m]\u001b[0m\u001b[0;34m,\u001b[0m\u001b[0mblocks\u001b[0m\u001b[0;34m[\u001b[0m\u001b[0mkey\u001b[0m\u001b[0;34m]\u001b[0m\u001b[0;34m)\u001b[0m\u001b[0;34m\u001b[0m\u001b[0;34m\u001b[0m\u001b[0m\n\u001b[0m\u001b[1;32m     11\u001b[0m             \u001b[0;32mfor\u001b[0m \u001b[0mb\u001b[0m \u001b[0;32min\u001b[0m \u001b[0mrange\u001b[0m\u001b[0;34m(\u001b[0m\u001b[0mlen\u001b[0m\u001b[0;34m(\u001b[0m\u001b[0mcoef_b\u001b[0m\u001b[0;34m)\u001b[0m\u001b[0;34m)\u001b[0m\u001b[0;34m:\u001b[0m\u001b[0;34m\u001b[0m\u001b[0;34m\u001b[0m\u001b[0m\n\u001b[1;32m     12\u001b[0m                 \u001b[0mcircs\u001b[0m\u001b[0;34m.\u001b[0m\u001b[0mappend\u001b[0m\u001b[0;34m(\u001b[0m\u001b[0mcirc_b\u001b[0m\u001b[0;34m[\u001b[0m\u001b[0mb\u001b[0m\u001b[0;34m]\u001b[0m\u001b[0;34m)\u001b[0m\u001b[0;34m\u001b[0m\u001b[0;34m\u001b[0m\u001b[0m\n",
      "\u001b[0;32m<ipython-input-375-859715649326>\u001b[0m in \u001b[0;36mcollect_diag_circs\u001b[0;34m(phi_b, block)\u001b[0m\n\u001b[1;32m      4\u001b[0m     \u001b[0mcr\u001b[0m \u001b[0;34m=\u001b[0m \u001b[0mClassicalRegister\u001b[0m\u001b[0;34m(\u001b[0m\u001b[0mQ\u001b[0m\u001b[0;34m+\u001b[0m\u001b[0;36m1\u001b[0m\u001b[0;34m)\u001b[0m\u001b[0;34m\u001b[0m\u001b[0;34m\u001b[0m\u001b[0m\n\u001b[1;32m      5\u001b[0m     \u001b[0mcir\u001b[0m \u001b[0;34m=\u001b[0m \u001b[0mQuantumCircuit\u001b[0m\u001b[0;34m(\u001b[0m\u001b[0mqr\u001b[0m \u001b[0;34m,\u001b[0m \u001b[0mcr\u001b[0m\u001b[0;34m)\u001b[0m\u001b[0;34m\u001b[0m\u001b[0;34m\u001b[0m\u001b[0m\n\u001b[0;32m----> 6\u001b[0;31m     \u001b[0mpsi0\u001b[0m \u001b[0;34m=\u001b[0m \u001b[0mU\u001b[0m\u001b[0;34m(\u001b[0m\u001b[0mcir\u001b[0m\u001b[0;34m,\u001b[0m\u001b[0mphi_b\u001b[0m\u001b[0;34m)\u001b[0m\u001b[0;34m\u001b[0m\u001b[0;34m\u001b[0m\u001b[0m\n\u001b[0m\u001b[1;32m      7\u001b[0m     \u001b[0mcirs\u001b[0m \u001b[0;34m=\u001b[0m \u001b[0;34m[\u001b[0m\u001b[0;34m]\u001b[0m\u001b[0;34m\u001b[0m\u001b[0;34m\u001b[0m\u001b[0m\n\u001b[1;32m      8\u001b[0m     \u001b[0mmeas\u001b[0m \u001b[0;34m=\u001b[0m \u001b[0;34m[\u001b[0m\u001b[0;34m]\u001b[0m\u001b[0;34m\u001b[0m\u001b[0;34m\u001b[0m\u001b[0m\n",
      "\u001b[0;32m<ipython-input-366-82d266ce0a9b>\u001b[0m in \u001b[0;36mU\u001b[0;34m(cir_i, phi_i)\u001b[0m\n\u001b[1;32m      1\u001b[0m \u001b[0;32mdef\u001b[0m \u001b[0mU\u001b[0m\u001b[0;34m(\u001b[0m\u001b[0mcir_i\u001b[0m\u001b[0;34m,\u001b[0m\u001b[0mphi_i\u001b[0m\u001b[0;34m)\u001b[0m\u001b[0;34m:\u001b[0m\u001b[0;34m\u001b[0m\u001b[0;34m\u001b[0m\u001b[0m\n\u001b[1;32m      2\u001b[0m     \u001b[0mcir_i\u001b[0m\u001b[0;34m.\u001b[0m\u001b[0mx\u001b[0m\u001b[0;34m(\u001b[0m\u001b[0;36m0\u001b[0m\u001b[0;34m)\u001b[0m\u001b[0;34m\u001b[0m\u001b[0;34m\u001b[0m\u001b[0m\n\u001b[0;32m----> 3\u001b[0;31m     \u001b[0mcir_i\u001b[0m \u001b[0;34m=\u001b[0m \u001b[0mapply_CRy\u001b[0m\u001b[0;34m(\u001b[0m\u001b[0mphi_i\u001b[0m\u001b[0;34m[\u001b[0m\u001b[0;36m0\u001b[0m\u001b[0;34m]\u001b[0m\u001b[0;34m,\u001b[0m\u001b[0mcir_i\u001b[0m\u001b[0;34m,\u001b[0m\u001b[0;36m0\u001b[0m\u001b[0;34m,\u001b[0m\u001b[0;36m1\u001b[0m\u001b[0;34m)\u001b[0m\u001b[0;34m\u001b[0m\u001b[0;34m\u001b[0m\u001b[0m\n\u001b[0m\u001b[1;32m      4\u001b[0m     \u001b[0;32mfor\u001b[0m \u001b[0mq\u001b[0m \u001b[0;32min\u001b[0m \u001b[0mrange\u001b[0m\u001b[0;34m(\u001b[0m\u001b[0;36m1\u001b[0m\u001b[0;34m,\u001b[0m\u001b[0mQ\u001b[0m\u001b[0;34m)\u001b[0m\u001b[0;34m:\u001b[0m\u001b[0;34m\u001b[0m\u001b[0;34m\u001b[0m\u001b[0m\n\u001b[1;32m      5\u001b[0m         \u001b[0mcir_i\u001b[0m \u001b[0;34m=\u001b[0m \u001b[0mapply_CRy\u001b[0m\u001b[0;34m(\u001b[0m\u001b[0mphi_i\u001b[0m\u001b[0;34m[\u001b[0m\u001b[0;36m2\u001b[0m\u001b[0;34m*\u001b[0m\u001b[0mq\u001b[0m\u001b[0;34m-\u001b[0m\u001b[0;36m1\u001b[0m\u001b[0;34m]\u001b[0m\u001b[0;34m,\u001b[0m\u001b[0mcir_i\u001b[0m\u001b[0;34m,\u001b[0m\u001b[0mq\u001b[0m\u001b[0;34m,\u001b[0m\u001b[0mq\u001b[0m\u001b[0;34m+\u001b[0m\u001b[0;36m1\u001b[0m\u001b[0;34m)\u001b[0m\u001b[0;34m\u001b[0m\u001b[0;34m\u001b[0m\u001b[0m\n",
      "\u001b[0;32m<ipython-input-365-1d5c15612d74>\u001b[0m in \u001b[0;36mapply_CRy\u001b[0;34m(phi, cir, q1, q2)\u001b[0m\n\u001b[1;32m      8\u001b[0m \u001b[0;32mdef\u001b[0m \u001b[0mapply_CRy\u001b[0m\u001b[0;34m(\u001b[0m\u001b[0mphi\u001b[0m\u001b[0;34m,\u001b[0m\u001b[0mcir\u001b[0m\u001b[0;34m,\u001b[0m\u001b[0mq1\u001b[0m\u001b[0;34m,\u001b[0m\u001b[0mq2\u001b[0m\u001b[0;34m)\u001b[0m\u001b[0;34m:\u001b[0m\u001b[0;34m\u001b[0m\u001b[0;34m\u001b[0m\u001b[0m\n\u001b[1;32m      9\u001b[0m     \u001b[0mcir\u001b[0m\u001b[0;34m.\u001b[0m\u001b[0mrz\u001b[0m\u001b[0;34m(\u001b[0m\u001b[0;34m-\u001b[0m\u001b[0mnp\u001b[0m\u001b[0;34m.\u001b[0m\u001b[0mpi\u001b[0m\u001b[0;34m/\u001b[0m\u001b[0;36m2\u001b[0m\u001b[0;34m,\u001b[0m\u001b[0mq2\u001b[0m\u001b[0;34m)\u001b[0m\u001b[0;34m\u001b[0m\u001b[0;34m\u001b[0m\u001b[0m\n\u001b[0;32m---> 10\u001b[0;31m     \u001b[0mcir\u001b[0m\u001b[0;34m.\u001b[0m\u001b[0mrzx\u001b[0m\u001b[0;34m(\u001b[0m\u001b[0;34m-\u001b[0m\u001b[0mphi\u001b[0m\u001b[0;34m/\u001b[0m\u001b[0;36m2\u001b[0m\u001b[0;34m,\u001b[0m\u001b[0mq1\u001b[0m\u001b[0;34m,\u001b[0m\u001b[0mq2\u001b[0m\u001b[0;34m)\u001b[0m\u001b[0;34m\u001b[0m\u001b[0;34m\u001b[0m\u001b[0m\n\u001b[0m\u001b[1;32m     11\u001b[0m     \u001b[0mcir\u001b[0m\u001b[0;34m.\u001b[0m\u001b[0mrz\u001b[0m\u001b[0;34m(\u001b[0m\u001b[0mnp\u001b[0m\u001b[0;34m.\u001b[0m\u001b[0mpi\u001b[0m\u001b[0;34m/\u001b[0m\u001b[0;36m2\u001b[0m\u001b[0;34m,\u001b[0m\u001b[0mq2\u001b[0m\u001b[0;34m)\u001b[0m\u001b[0;34m\u001b[0m\u001b[0;34m\u001b[0m\u001b[0m\n\u001b[1;32m     12\u001b[0m     \u001b[0mcir\u001b[0m\u001b[0;34m.\u001b[0m\u001b[0mry\u001b[0m\u001b[0;34m(\u001b[0m\u001b[0mphi\u001b[0m\u001b[0;34m/\u001b[0m\u001b[0;36m2\u001b[0m\u001b[0;34m,\u001b[0m\u001b[0mq2\u001b[0m\u001b[0;34m)\u001b[0m\u001b[0;34m\u001b[0m\u001b[0;34m\u001b[0m\u001b[0m\n",
      "\u001b[0;31mTypeError\u001b[0m: bad operand type for unary -: 'list'"
     ]
    }
   ],
   "source": [
    "#Set alpha and phi to initial value\n",
    "\n",
    "alpha = 1/np.sqrt(bL)*np.array([1 for b in range(bL)])\n",
    "\n",
    "#number of blocks\n",
    "T = 1\n",
    "phi = []\n",
    "for b in range(bL):\n",
    "    phi_b = []\n",
    "    for ti in range(T):\n",
    "        phi_t = []\n",
    "        for q in range(Q):\n",
    "            phi_t.append(0)\n",
    "        phi_b.append(phi_t)\n",
    "    phi.append(phi_b)\n",
    "    \n",
    "circs, meas, coefs, paulis = collect_circs(alpha,phi,blocks)\n",
    "r = get_results(circs, method = 'matrix')\n",
    "energy_from_results(r,meas,coefs)"
   ]
  },
  {
   "cell_type": "markdown",
   "metadata": {},
   "source": [
    "### Grouping three energies to be run together\n",
    "\n",
    "In the optimization below we use three energies at each step.  One for the current values and two to define the derivetive.  Since the bottle neck is sending jobs to the device, it will be useful to group these three energies into one job."
   ]
  },
  {
   "cell_type": "code",
   "execution_count": 139,
   "metadata": {},
   "outputs": [],
   "source": [
    "def collect_energy_circs(a1, p1, b1, a2, p2, b2, a3, p3, b3):\n",
    "    circs1, meas1, coefs1 = collect_circs(a1,p1,b1)\n",
    "    circs2, meas2, coefs2 = collect_circs(a2,p2,b2)\n",
    "    circs3, meas3, coefs3 = collect_circs(a3,p3,b3)\n",
    "    L1 = len(circs1)\n",
    "    L2 = len(circs2)\n",
    "    L3 = len(circs3)\n",
    "    circs = circs1+circs2+circs3\n",
    "    meas = meas1+meas2+meas3\n",
    "    coefs = coefs1+coefs2+coefs3\n",
    "    lengths = [L1,L2,L3]\n",
    "    return circs,meas,coefs,lengths\n",
    "\n",
    "def three_energies_from_results(r,meas,coefs,lengths):\n",
    "    L1 = lengths[0]\n",
    "    L2 = lengths[1]\n",
    "    L3 = lengths[2]\n",
    "    r1 = r[0 : L1]\n",
    "    r2 = r[L1 : L1+L2]\n",
    "    r3 = r[L1+L2 : L1+L2+L3]\n",
    "    m1 = meas[0 : L1]\n",
    "    m2 = meas[L1 : L1+L2]\n",
    "    m3 = meas[L1+L2 : L1+L2+L3]\n",
    "    c1 = coefs[0 : L1]\n",
    "    c2 = coefs[L1 : L1+L2]\n",
    "    c3 = coefs[L1+L2 : L1+L2+L3]\n",
    "    E1 = energy_from_results(r1,m1,c1)\n",
    "    E2 = energy_from_results(r2,m2,c2)\n",
    "    E3 = energy_from_results(r3,m3,c3)\n",
    "    return E1,E2,E3\n",
    "    "
   ]
  },
  {
   "cell_type": "code",
   "execution_count": 140,
   "metadata": {},
   "outputs": [
    {
     "name": "stdout",
     "output_type": "stream",
     "text": [
      "2.6666666666666683 2.6666666666666683 2.6666666666666683\n"
     ]
    }
   ],
   "source": [
    "circs, meas, coefs, lengths = collect_energy_circs(alpha,phi,blocks,alpha,phi,blocks,alpha,phi,blocks)\n",
    "r = get_results(circs, method = 'matrix')\n",
    "E1,E2,E3 = three_energies_from_results(r,meas,coefs,lengths)\n",
    "print(E1,E2,E3)"
   ]
  },
  {
   "cell_type": "markdown",
   "metadata": {},
   "source": [
    "# Optimization"
   ]
  },
  {
   "cell_type": "markdown",
   "metadata": {},
   "source": [
    "I will be using the simultaneous perturbation stochastic approximation algorithm.  The algorithm works by calculating the gradiant of the cost function $E(\\hat{\\phi})$ by randomly purturbating all parameters in $\\hat{\\phi}$\n",
    "\n",
    "Let $\\hat{\\Delta}_k$ be a set of randomly selected purturbations during step $k$ of the algorithm. I will use the Bernoulli distribution to select $\\hat{\\Delta}_k$.  Then the gradient is \n",
    "$$ \\hat{g}_k(\\hat{\\phi}_k) = \\frac{E(\\hat{\\phi}_k + c_k \\hat{\\Delta}_k)-E(\\hat{\\phi}_k - c_k \\hat{\\Delta}_k)}{2 c_k} \\hat{\\Delta}_k$$.\n",
    "The gradiant is then used to update the parameters \n",
    "$$ \\hat{\\phi}_{k+1} = \\hat{\\phi}_k - a_k \\hat{g}_k(\\hat{\\phi}_k) $$\n",
    "\n",
    "$c_k$ and $a_k$ decrease with each iteration of the algorithm so that we zero in on the the minimum of $E$.  They are given by\n",
    "$$c_k = \\frac{c}{(k+1)^{\\gamma}}$$\n",
    "$$a_k = \\frac{a}{(A+k+1)^{\\alpha}}$$\n",
    "where $a$, $A$, $\\alpha$, $c$, and $\\gamma$ are choosen at the begining of the algorithm."
   ]
  },
  {
   "cell_type": "code",
   "execution_count": 141,
   "metadata": {},
   "outputs": [],
   "source": [
    "import copy\n",
    "beta = 0.201\n",
    "A = 10\n",
    "a = 0.05\n",
    "gamma = 0.101\n",
    "c = 0.4\n",
    "\n",
    "beta_a = 0.201\n",
    "A_a = 10\n",
    "a_a = 0.05\n",
    "gamma_a = 0.101\n",
    "c_a = 0.4"
   ]
  },
  {
   "cell_type": "code",
   "execution_count": 153,
   "metadata": {},
   "outputs": [],
   "source": [
    "tt = t\n",
    "\n",
    "def SPSA(k_max,method = 'simple', group = False ,hold = False):\n",
    "    #Initalization\n",
    "    k = 0\n",
    "    phi_k = np.array(phi)\n",
    "    alpha_k = np.array(alpha)\n",
    "    E_l = []\n",
    "    hold_l = []\n",
    "    \n",
    "    #Begin Iterations\n",
    "    for k in range(k_max):\n",
    "        #Update c and a\n",
    "        a_k = a/((A + k + 1)**beta)\n",
    "        c_k = c/((k + 1)**gamma)\n",
    "        a_ak = a_a/((A_a + k + 1)**beta_a)\n",
    "        c_ak = c_a/((k + 1)**gamma_a)\n",
    "\n",
    "        #Find Delta\n",
    "        Delta_k = np.array(phi_k)\n",
    "        for b in range(bL):\n",
    "            for t in range(T):\n",
    "                for q in range(Q):\n",
    "                    Delta_k[b][t][q] = 1 - 2*np.random.binomial(size=None, n=1, p=0.5)\n",
    "        phi_k_A = phi_k + c_k*Delta_k\n",
    "        phi_k_B = phi_k - c_k*Delta_k\n",
    "        \n",
    "        #Find Delta Alpha\n",
    "        Delta_ak = np.array(alpha_k)\n",
    "        for n in range(bL):\n",
    "            Delta_ak[n] = 1 - 2*np.random.binomial(size=None, n=1, p= 0.5)\n",
    "        alpha_k_A = alpha_k + c_ak*Delta_ak\n",
    "        alpha_k_B = alpha_k - c_ak*Delta_ak\n",
    "        norm_A = 1/np.sqrt(np.dot(alpha_k_A,alpha_k_A))\n",
    "        norm_B = 1/np.sqrt(np.dot(alpha_k_B,alpha_k_B))\n",
    "        alpha_k_A = norm_A*alpha_k_A\n",
    "        alpha_k_B = norm_B*alpha_k_B\n",
    "           \n",
    "        #Find E    \n",
    "        if group:\n",
    "            save_id_file = \"/Users/stenger/Documents/Research/Hubbard_symmetries/VQE/Job_id/job_\"+str(k)+'_T_'+str(T)+\"_A_\"+str(A)+\"_a_\"+str(a)+\"_c_\"+str(c)+\"_beta_\"+str(beta)+\"_gamma_\"+str(gamma)+\"_t_\"+str(tt)+\"_u_\"+str(u)\n",
    "            circs,meas,coefs,lengths = collect_energy_circs(alpha_k_A,phi_k_A,blocks,alpha_k_B,phi_k_B,blocks,alpha_k,phi_k,blocks)\n",
    "            r = get_results(circs, method = method,save_id_file = save_id_file)\n",
    "            E_Ap, E_Bp, E_fp = three_energies_from_results(r,meas,coefs,lengths)\n",
    "        else:\n",
    "            #A\n",
    "            save_id_file = \"/Users/stenger/Documents/Research/Hubbard_symmetries/VQE/Job_id/jobA_\"+str(k)+'_T_'+str(T)+\"_A_\"+str(A)+\"_a_\"+str(a)+\"_c_\"+str(c)+\"_beta_\"+str(beta)+\"_gamma_\"+str(gamma)+\"_t_\"+str(tt)+\"_u_\"+str(u)\n",
    "            print(tt)\n",
    "            print(save_id_file)\n",
    "            circs_A, meas_A, coefs_A = collect_circs(alpha_k_A,phi_k_A,blocks)\n",
    "            r_A = get_results(circs_A, method = method,save_id_file = save_id_file)\n",
    "            E_A = energy_from_results(r_A,meas_A,coefs_A)\n",
    "            #B\n",
    "            save_id_file = \"/Users/stenger/Documents/Research/Hubbard_symmetries/VQE/Job_id/jobB_\"+str(k)+'_T_'+str(T)+\"_A_\"+str(A)+\"_a_\"+str(a)+\"_c_\"+str(c)+\"_beta_\"+str(beta)+\"_gamma_\"+str(gamma)+\"_t_\"+str(tt)+\"_u_\"+str(u)\n",
    "            circs_B, meas_B, coefs_B = collect_circs(alpha_k_B,phi_k_B,blocks)\n",
    "            r_B = get_results(circs_B, method = method,save_id_file = save_id_file)\n",
    "            E_B = energy_from_results(r_B,meas_B,coefs_B)\n",
    "            #f\n",
    "            save_id_file = \"/Users/stenger/Documents/Research/Hubbard_symmetries/VQE/Job_id/jobf_\"+str(k)+'_T_'+str(T)+\"_A_\"+str(A)+\"_a_\"+str(a)+\"_c_\"+str(c)+\"_beta_\"+str(beta)+\"_gamma_\"+str(gamma)+\"_t_\"+str(tt)+\"_u_\"+str(u)\n",
    "            circs_f, meas_f, coefs_f = collect_circs(alpha_k,phi_k,blocks)\n",
    "            r_f = get_results(circs_f, method = method,save_id_file = save_id_file)\n",
    "            E_f = energy_from_results(r_f,meas_f,coefs_f)\n",
    "\n",
    "        \n",
    "        #Calculate gradiant\n",
    "        g = np.real((E_A-E_B)/(2*c_k)) \n",
    "        \n",
    "        #Update phi\n",
    "        g_k = g * Delta_k\n",
    "        phi_k = phi_k - a_k * g_k\n",
    "        \n",
    "        #Update alpha\n",
    "        g_ak = g * Delta_ak\n",
    "        alpha_k = alpha_k - a_ak * g_ak\n",
    "        norm = 1/np.sqrt(np.dot(alpha_k,alpha_k))\n",
    "        alpha_k = norm*alpha_k\n",
    "\n",
    "        \n",
    "        #Print and save E\n",
    "        print(k,E_f)\n",
    "        #print('k=',k,'c_k=',c_k,'a_k=',a_k,'g=',g,'E_A=',E_A,'E_B=',E_B,'E_f=',E_f)\n",
    "        E_l.append(E_f)\n",
    "        \n",
    "        if hold == True:\n",
    "            hold_k = {'E':E_f,'c':c_k,'a':a_k,'phi':phi_k,'Delta':Delta_k,'c_a':c_ak,'a_a':a_ak,'alpha':alpha_k,'Delta_a':Delta_ak}\n",
    "            np.save(\"/Users/stenger/Documents/Research/Hubbard_symmetries/VQE/Job_id/run_\"+str(k)+'_T_'+str(T)+\"_A_\"+str(A)+\"_a_\"+str(a)+\"_c_\"+str(c)+\"_beta_\"+str(beta)+\"_gamma_\"+str(gamma)+\"_t_\"+str(tt)+\"_u_\"+str(u),[hold_k])\n",
    "            hold_l.append(hold_k)\n",
    "    if hold == True:\n",
    "        return hold_l\n",
    "    else:\n",
    "        return E_l,phi_k"
   ]
  },
  {
   "cell_type": "code",
   "execution_count": 154,
   "metadata": {
    "scrolled": true
   },
   "outputs": [
    {
     "name": "stdout",
     "output_type": "stream",
     "text": [
      "-1\n",
      "/Users/stenger/Documents/Research/Hubbard_symmetries/VQE/Job_id/jobA_0_T_1_A_10_a_0.05_c_0.4_beta_0.201_gamma_0.101_t_-1_u_4.0\n",
      "61f215db4ddc9f427380ff1e\n",
      "61f21852404aae5bbf43ad30\n",
      "61f21a65ded89e4093aa0fef\n",
      "0 3.5290323893229183\n"
     ]
    }
   ],
   "source": [
    "out = SPSA(1,method = 'quantum',hold = True)"
   ]
  },
  {
   "cell_type": "code",
   "execution_count": 155,
   "metadata": {},
   "outputs": [
    {
     "data": {
      "text/plain": [
       "[<matplotlib.lines.Line2D at 0x7fc564c79340>]"
      ]
     },
     "execution_count": 155,
     "metadata": {},
     "output_type": "execute_result"
    },
    {
     "data": {
      "image/png": "[encoded data removed]",
      "text/plain": [
       "<Figure size 432x288 with 1 Axes>"
      ]
     },
     "metadata": {
      "needs_background": "light"
     },
     "output_type": "display_data"
    }
   ],
   "source": [
    "import matplotlib.pyplot as plt\n",
    "\n",
    "E0 = [np.sort(e)[0] for i in range(len(out))]\n",
    "\n",
    "El = [out[i]['E'] for i in range(len(out))]\n",
    "tl = [i for i in range(len(El))]\n",
    "\n",
    "plt.plot(tl,El)\n",
    "plt.plot(tl,E0)"
   ]
  },
  {
   "cell_type": "code",
   "execution_count": 157,
   "metadata": {},
   "outputs": [],
   "source": [
    "k=0\n",
    "job_id = np.load(\"/Users/stenger/Documents/Research/Hubbard_symmetries/VQE/Job_id/jobA_\"+str(k)+'_T_'+str(T)+\"_A_\"+str(A)+\"_a_\"+str(a)+\"_c_\"+str(c)+\"_beta_\"+str(beta)+\"_gamma_\"+str(gamma)+\"_t_\"+str(t)+\"_u_\"+str(u)+\".npy\")\n",
    "job_info = backend.retrieve_job(job_id[0])\n",
    "hold = np.load(\"/Users/stenger/Documents/Research/Hubbard_symmetries/VQE/Job_id/run_\"+str(k)+'_T_'+str(T)+\"_A_\"+str(A)+\"_a_\"+str(a)+\"_c_\"+str(c)+\"_beta_\"+str(beta)+\"_gamma_\"+str(gamma)+\"_t_\"+str(t)+\"_u_\"+str(u)+\".npy\",allow_pickle=True)\n",
    "            "
   ]
  },
  {
   "cell_type": "code",
   "execution_count": 158,
   "metadata": {},
   "outputs": [],
   "source": [
    "#beta = 0.602\n",
    "beta = 0.201\n",
    "A = 10\n",
    "a = 0.05\n",
    "gamma = 0.101\n",
    "c = 0.4\n",
    "\n",
    "beta_a = 0.201\n",
    "A_a = 10\n",
    "a_a = 0.05\n",
    "gamma_a = 0.101\n",
    "c_a = 0.4\n",
    "\n",
    "tt = t\n",
    "\n",
    "def SPSA_from_load(k_min,k_max,load,method = 'simple', group = False ,hold = False):\n",
    "    #Initalization\n",
    "    k = 0\n",
    "    phi_k = load['phi']\n",
    "    alpha_k = load['alpha']\n",
    "    E_l = []\n",
    "    hold_l = []\n",
    "    \n",
    "    #Begin Iterations\n",
    "    for k in range(k_min,k_max):\n",
    "        #Update c and a\n",
    "        a_k = a/((A + k + 1)**beta)\n",
    "        c_k = c/((k + 1)**gamma)\n",
    "        a_ak = a_a/((A_a + k + 1)**beta_a)\n",
    "        c_ak = c_a/((k + 1)**gamma_a)\n",
    "\n",
    "        #Find Delta\n",
    "        Delta_k = np.array(phi_k)\n",
    "        for b in range(bL):\n",
    "            for t in range(T):\n",
    "                for q in range(Q):\n",
    "                    Delta_k[b][t][q] = 1 - 2*np.random.binomial(size=None, n=1, p=0.5)\n",
    "        phi_k_A = phi_k + c_k*Delta_k\n",
    "        phi_k_B = phi_k - c_k*Delta_k\n",
    "        \n",
    "        #Find Delta Alpha\n",
    "        Delta_ak = np.array(alpha_k)\n",
    "        for n in range(bL):\n",
    "            Delta_ak[n] = 1 - 2*np.random.binomial(size=None, n=1, p= 0.5)\n",
    "        alpha_k_A = alpha_k + c_ak*Delta_ak\n",
    "        alpha_k_B = alpha_k - c_ak*Delta_ak\n",
    "        norm_A = 1/np.sqrt(np.dot(alpha_k_A,alpha_k_A))\n",
    "        norm_B = 1/np.sqrt(np.dot(alpha_k_B,alpha_k_B))\n",
    "        alpha_k_A = norm_A*alpha_k_A\n",
    "        alpha_k_B = norm_B*alpha_k_B\n",
    "           \n",
    "        #Find E    \n",
    "        if group:\n",
    "            save_id_file = \"/Users/stenger/Documents/Research/Hubbard_symmetries/VQE/Job_id/job_\"+str(k)+'_T_'+str(T)+\"_A_\"+str(A)+\"_a_\"+str(a)+\"_c_\"+str(c)+\"_beta_\"+str(beta)+\"_gamma_\"+str(gamma)+\"_t_\"+str(tt)+\"_u_\"+str(u)\n",
    "            circs,meas,coefs,lengths = collect_energy_circs(alpha_k_A,phi_k_A,blocks,alpha_k_B,phi_k_B,blocks,alpha_k,phi_k,blocks)\n",
    "            r = get_results(circs, method = method,save_id_file = save_id_file)\n",
    "            E_Ap, E_Bp, E_fp = three_energies_from_results(r,meas,coefs,lengths)\n",
    "        else:\n",
    "            #A\n",
    "            save_id_file = \"/Users/stenger/Documents/Research/Hubbard_symmetries/VQE/Job_id/jobA_\"+str(k)+'_T_'+str(T)+\"_A_\"+str(A)+\"_a_\"+str(a)+\"_c_\"+str(c)+\"_beta_\"+str(beta)+\"_gamma_\"+str(gamma)+\"_t_\"+str(tt)+\"_u_\"+str(u)\n",
    "            circs_A, meas_A, coefs_A = collect_circs(alpha_k_A,phi_k_A,blocks)\n",
    "            r_A = get_results(circs_A, method = method,save_id_file = save_id_file)\n",
    "            E_A = energy_from_results(r_A,meas_A,coefs_A)\n",
    "            #B\n",
    "            save_id_file = \"/Users/stenger/Documents/Research/Hubbard_symmetries/VQE/Job_id/jobB_\"+str(k)+'_T_'+str(T)+\"_A_\"+str(A)+\"_a_\"+str(a)+\"_c_\"+str(c)+\"_beta_\"+str(beta)+\"_gamma_\"+str(gamma)+\"_t_\"+str(tt)+\"_u_\"+str(u)\n",
    "            circs_B, meas_B, coefs_B = collect_circs(alpha_k_B,phi_k_B,blocks)\n",
    "            r_B = get_results(circs_B, method = method,save_id_file = save_id_file)\n",
    "            E_B = energy_from_results(r_B,meas_B,coefs_B)\n",
    "            #f\n",
    "            save_id_file = \"/Users/stenger/Documents/Research/Hubbard_symmetries/VQE/Job_id/jobf_\"+str(k)+'_T_'+str(T)+\"_A_\"+str(A)+\"_a_\"+str(a)+\"_c_\"+str(c)+\"_beta_\"+str(beta)+\"_gamma_\"+str(gamma)+\"_t_\"+str(tt)+\"_u_\"+str(u)\n",
    "            circs_f, meas_f, coefs_f = collect_circs(alpha_k,phi_k,blocks)\n",
    "            r_f = get_results(circs_f, method = method,save_id_file = save_id_file)\n",
    "            E_f = energy_from_results(r_f,meas_f,coefs_f)\n",
    "\n",
    "        \n",
    "        #Calculate gradiant\n",
    "        g = np.real((E_A-E_B)/(2*c_k)) \n",
    "        \n",
    "        #Update phi\n",
    "        g_k = g * Delta_k\n",
    "        phi_k = phi_k - a_k * g_k\n",
    "        \n",
    "        #Update alpha\n",
    "        g_ak = g * Delta_ak\n",
    "        alpha_k = alpha_k - a_ak * g_ak\n",
    "        norm = 1/np.sqrt(np.dot(alpha_k,alpha_k))\n",
    "        alpha_k = norm*alpha_k\n",
    "\n",
    "        \n",
    "        #Print and save E\n",
    "        print(k,E_f)\n",
    "        #print('k=',k,'c_k=',c_k,'a_k=',a_k,'g=',g,'E_A=',E_A,'E_B=',E_B,'E_f=',E_f)\n",
    "        E_l.append(E_f)\n",
    "        \n",
    "        if hold == True:\n",
    "            hold_k = {'E':E_f,'c':c_k,'a':a_k,'phi':phi_k,'Delta':Delta_k,'c_a':c_ak,'a_a':a_ak,'alpha':alpha_k,'Delta_a':Delta_ak}\n",
    "            np.save(\"/Users/stenger/Documents/Research/Hubbard_symmetries/VQE/Job_id/run_\"+str(k)+'_T_'+str(T)+\"_A_\"+str(A)+\"_a_\"+str(a)+\"_c_\"+str(c)+\"_beta_\"+str(beta)+\"_gamma_\"+str(gamma)+\"_t_\"+str(tt)+\"_u_\"+str(u),[hold_k])\n",
    "            hold_l.append(hold_k)\n",
    "    if hold == True:\n",
    "        return hold_l\n",
    "    else:\n",
    "        return E_l,phi_k"
   ]
  },
  {
   "cell_type": "code",
   "execution_count": 159,
   "metadata": {},
   "outputs": [
    {
     "name": "stdout",
     "output_type": "stream",
     "text": [
      "61f2a92fdfe4a9946e230926\n",
      "61f2ac15dfe4a937cf230934\n",
      "61f2c6c4dfe4a9ce9c2309d2\n",
      "1 3.4969336806628863\n",
      "61f2c8feded89e3fb7aa14d5\n",
      "61f2cb1cded89e38f4aa14ea\n",
      "61f2cd40ded89eed9daa14f7\n",
      "2 3.241128097423912\n",
      "61f2cfe0d6c095ae16dfdd05\n",
      "61f2d1f1ded89e7a17aa150c\n",
      "61f2d4024ddc9f2ddc810441\n",
      "3 2.8577246564337493\n",
      "61f2d60adfe4a9cd7f230a1b\n",
      "61f2d81f1faa06a00a348b5b\n",
      "61f2da63dfe4a900d1230a25\n",
      "4 2.3440330911100493\n",
      "61f2dc7d9847b31c27ab3cc1\n",
      "61f2df096fb7973f2b44531b\n",
      "61f2e11bded89ec5bcaa155b\n",
      "5 2.1823634699773997\n",
      "61f2e356404aae856643b2c7\n",
      "61f2e5fcdfe4a904e5230a56\n",
      "61f2e8b74ddc9f5c8b81049e\n",
      "6 2.5075937281640504\n",
      "61f2eb914eebda0f2d7ab8f4\n",
      "61f2eda39847b36446ab3d23\n",
      "61f2eff2ded89e8dceaa159d\n",
      "7 2.6554182294661794\n",
      "61f2f2286fb797cf37445367\n",
      "61f2f4ca4eebda4b647ab91d\n",
      "61f2f9019847b3297dab3d68\n",
      "8 1.9784544112009643\n",
      "61f2fb2e4eebda124c7ab94e\n",
      "61f2fd439847b33482ab3d75\n",
      "61f3000bded89e76e2aa15f7\n",
      "9 2.90741639454792\n",
      "61f3021b1faa06e82a348c16\n",
      "61f305964ddc9fb9bf810532\n",
      "61f308bd6fb7974f944453ee\n",
      "10 2.2354017905625607\n",
      "61f30b7c404aae70a043b38f\n",
      "61f30da14eebdad7877ab99c\n",
      "61f3100e1faa06927e348c6c\n",
      "11 1.9389616810603707\n",
      "61f312216fb7974ae6445438\n",
      "61f3144f404aae590843b3e2\n",
      "61f31663ded89e2954aa169c\n",
      "12 1.8501160895759003\n",
      "61f31a904ddc9fcabb8105d5\n",
      "61f31cac4eebda1ae27aba03\n",
      "61f31ebf7f4bf85b08bd7e0f\n",
      "13 1.7732658655587725\n",
      "61f321164ddc9f42928105f7\n",
      "61f3233c4eebda015a7aba31\n",
      "61f33054dfe4a9ca11230c5c\n",
      "14 1.145150698711985\n",
      "61f33264dfe4a9f111230c75\n",
      "61f334a96fb7979ba3445572\n",
      "61f336ba1faa0677c6348dd7\n",
      "15 1.0194496499164538\n",
      "61f338cfdfe4a98bc3230cd0\n",
      "61f33ae84ddc9f4ed7810728\n",
      "61f33cf07f4bf840a3bd7f58\n",
      "16 0.9425631369119027\n",
      "61f33f0c6fb7974f6b4455f9\n",
      "61f3416e1faa06f96a348e56\n",
      "61f34da07f4bf8962cbd802e\n",
      "17 1.3258631248960069\n",
      "61f350016fb797fe324456ed\n",
      "61f361fb9847b37c82ab41c4\n",
      "61f3640edfe4a9d82a230f2f\n",
      "18 1.1059725018952047\n",
      "61f366286fb797f03a445845\n",
      "61f368394eebda678f7abdbb\n",
      "61f36a417f4bf874a2bd81bd\n",
      "19 0.7435496871002415\n",
      "61f36c4a1faa065dd4349092\n",
      "61f37082dfe4a9330b230fac\n",
      "61f3728a9847b3130bab4283\n",
      "20 0.8296487911903665\n",
      "61f37491ded89e64a0aa1b06\n",
      "61f37699d6c0950250dfe345\n",
      "61f378acdfe4a9c029230ff1\n",
      "21 0.6848474953510784\n",
      "61f37bd66fb79798d7445937\n",
      "61f3823f4ddc9f08f0810a87\n",
      "61f38c16dfe4a9115d2310bb\n",
      "22 0.7997688273284077\n",
      "61f38e5ad6c0954e67dfe433\n",
      "61f3910d404aae2a1843b968\n",
      "61f394874eebdafd137abf6f\n",
      "23 0.8970376469061364\n",
      "61f39711d6c095283edfe465\n",
      "61f39a4edfe4a9b48f231109\n",
      "61f39cbb404aaecb3443b9ae\n",
      "24 1.0186552920772087\n",
      "61f39ff9ded89e863aaa1c76\n",
      "61f3a2834ddc9f048e810bb0\n",
      "61f3a5c0404aae6edb43ba0c\n",
      "25 0.7816067228024166\n",
      "61f3a7c86fb7977baf445a9c\n",
      "61f3a9dd9847b343c5ab448e\n",
      "61f3abefdfe4a96be32311c0\n",
      "26 0.9127298828540338\n",
      "61f3ae0a7f4bf8fd4cbd844b\n",
      "61f3b01bd6c095939fdfe531\n",
      "61f3b223404aae178643ba73\n",
      "27 0.782855428730788\n",
      "61f3b4789847b370a9ab44cd\n",
      "61f3b6b24eebda19007ac0af\n",
      "61f3b97cded89effbbaa1d80\n",
      "28 0.7397535370251833\n",
      "61f3bc1a4ddc9f60ce810c9d\n",
      "61f3be54ded89e12f7aa1dac\n",
      "61f3c0f29847b31ed5ab4555\n",
      "29 0.7673845289068173\n",
      "61f3c3a56fb7972cda445bb9\n",
      "61f3c5dbdfe4a921ee2312e0\n",
      "61f3c8776fb7975db9445bf3\n",
      "30 0.5812111757191547\n",
      "61f3cb10d6c0953509dfe65a\n",
      "61f3cd411faa06a87d349418\n",
      "61f3cfe7d6c0952e3edfe67d\n",
      "31 0.5588686258849812\n",
      "61f3d29a404aae2e2b43bbef\n",
      "61f3d4ca9847b37727ab45fb\n",
      "61f3d6d27f4bf860b9bd85f1\n",
      "32 0.5578299513904553\n",
      "61f3da11404aae575143bc26\n",
      "61f3dc434ddc9f9ab6810db0\n",
      "61f3dee86fb7974e06445c98\n",
      "33 0.4470065495006248\n",
      "61f3e1a5d6c0953c97dfe6eb\n",
      "61f3e3d56fb7971421445cbe\n",
      "61f3e5fbdfe4a9edbd2313de\n",
      "34 0.28388804391937844\n",
      "61f3e8ab4eebda61ed7ac26c\n",
      "61f3eb379847b319ceab46c3\n",
      "61f3eddf404aae922543bcb6\n",
      "35 0.10328565721885641\n",
      "61f3eff84eebda3a8c7ac2b1\n",
      "61f3f22c9847b35857ab4704\n",
      "61f3f5059847b340ddab471b\n",
      "36 0.18801419865574073\n",
      "61f3f70e1faa06a5ec349551\n",
      "61f3f9e74eebda62a97ac304\n",
      "61f3fbf0d6c095acdfdfe7d4\n",
      "37 0.14293036604664294\n",
      "61f3fe3d9847b3208eab4771\n",
      "61f400f06fb797b95a445db6\n",
      "61f403166fb7972820445dd1\n",
      "38 0.4441913141219159\n",
      "61f405276fb79754a4445de1\n",
      "61f40730dfe4a96ee52314fc\n",
      "61f40957ded89e3795aa202f\n",
      "39 0.24377312159983017\n",
      "61f40b677f4bf84f03bd878b\n",
      "61f411d14ddc9f0509810f7c\n",
      "61f41433d6c0950ea2dfe8c1\n",
      "40 0.27136656449745955\n",
      "61f41644404aaec39243be3a\n",
      "61f419021faa0666223496ca\n",
      "61f41b80ded89e589aaa20da\n",
      "41 0.23129000186786994\n",
      "61f41de44eebdab4967ac484\n",
      "61f42014d6c0956d1ddfe95a\n",
      "61f42225dfe4a95316231614\n",
      "42 0.051469587903394065\n",
      "61f42437ded89ef6dfaa2150\n",
      "61f42646d6c0956e49dfe9a2\n",
      "61f4287a4ddc9f3fa3811057\n",
      "43 0.2324032059392044\n",
      "61f42a8a4ddc9fb8b5811067\n",
      "61f42d52404aae1c3343bf3e\n",
      "61f43054ded89e283daa21eb\n",
      "44 0.4878635571116814\n",
      "61f433ed4ddc9f87ca8110e6\n",
      "61f436934ddc9f0235811109\n",
      "61f43ad97f4bf88270bd8992\n",
      "45 0.1945755877004974\n",
      "61f449d69847b31be9ab4a91\n",
      "61f44c12ded89e7fa0aa231d\n",
      "61f44e217f4bf82304bd8a6b\n",
      "46 0.17991199501085964\n",
      "61f450534eebda61877ac6a8\n",
      "61f452784ddc9fd2c581123e\n",
      "61f45489dfe4a95ed723185a\n",
      "47 0.3040063432838179\n",
      "61f4ad6d4ddc9f75b88116a9\n",
      "61f4af86404aaeb2e343c5a1\n",
      "61f4b18dded89e1659aa27e7\n",
      "48 0.11628943789854762\n",
      "61f4b8971faa069894349e05\n",
      "61f4be5d4ddc9f7b0381172b\n",
      "61f4c1e21faa0669ec349e40\n",
      "49 0.8205939763093881\n",
      "61f4c3eb9847b3f53dab5000\n",
      "61f4c5f69847b33eeeab500f\n",
      "61f4c808ded89ecca3aa28a1\n",
      "50 0.14802008432382613\n",
      "61f4ca4aded89ee7ebaa28d1\n",
      "61f4cc64dfe4a95310231ddd\n",
      "61f4cf5c404aaeee6443c6f7\n",
      "51 0.3698226248488351\n",
      "61f4d218dfe4a93045231e24\n",
      "61f4d48fded89e6567aa295e\n",
      "61f4d7436fb7972194446716\n",
      "52 0.07008421675379617\n",
      "61f4d9df6fb79743ec446724\n",
      "61f4dc7edfe4a9f4fc231e45\n",
      "61f4dee9ded89e48e2aa298e\n",
      "53 0.13588607237978073\n",
      "61f4e11a1faa0644a5349f35\n",
      "61f4e35cdfe4a985f6231e69\n",
      "61f4e5b5dfe4a94b12231e71\n",
      "54 0.6741974046939894\n",
      "61f4e8401faa068491349f54\n",
      "61f4eac04ddc9f428681187a\n",
      "61f4ecdfdfe4a9924b231e95\n",
      "55 0.2124394160448312\n",
      "61f4ef1f1faa066b7b349f76\n",
      "61f4f2697f4bf80c95bd90f4\n",
      "61f4f4c19847b34846ab518f\n",
      "56 0.4087554169111911\n",
      "61f4f7f26fb79773ca4467de\n",
      "61f4fa4c404aae166f43c7e9\n",
      "61f4fd431faa06052a349fe8\n",
      "57 0.17397557615340245\n",
      "61f4ff92ded89ef742aa2a4f\n",
      "61f50207dfe4a9ba7e231f18\n",
      "61f5056ed6c0952bb2dff25f\n",
      "58 0.46528262193862024\n",
      "61f5078d1faa061a6c34a021\n",
      "61f50ce34eebda48b37acdfd\n",
      "61f5100fded89e1767aa2ab0\n",
      "59 0.33205349048713095\n",
      "61f512516fb7979f46446865\n",
      "61f51463dfe4a9ec98231f83\n",
      "61f5166c7f4bf8d78dbd91b6\n",
      "60 0.1299096634225652\n",
      "61f51874dfe4a97782231f9e\n",
      "61f51ab86fb79735ee44688d\n",
      "61f51cbf6fb7971ea444689b\n",
      "61 0.26715194552391\n",
      "61f51ec84ddc9f82368119b8\n",
      "61f520e4dfe4a93cc8231fc1\n",
      "61f522f6ded89e67deaa2b12\n",
      "62 0.1923726146898518\n",
      "61f525269847b31463ab5284\n",
      "61f527304ddc9fd9728119ca\n",
      "61f529681faa0656f834a0c7\n",
      "63 0.15342510545391408\n",
      "61f52ba37f4bf84981bd91f7\n",
      "61f52db54ddc9f92b68119de\n",
      "61f52fd14ddc9f7a2c8119e7\n",
      "64 0.347425569024285\n",
      "61f531dbded89e44ccaa2b43\n",
      "61f533ec404aae50ef43c906\n",
      "61f535fd6fb79718d24468eb\n",
      "65 0.23492050074782492\n",
      "61f5386bdfe4a95c5a23200a\n",
      "61f54315dfe4a94ba1232024\n",
      "61f545257f4bf86dc1bd924b\n",
      "66 0.24266625004190598\n",
      "61f5472e1faa0660bf34a11b\n",
      "61f5498a7f4bf8cde5bd925d\n",
      "61f54bf2404aaed10c43c95d\n",
      "67 0.19031289719415584\n",
      "61f54e046fb7977ece446936\n",
      "61f55020404aae750143c97c\n",
      "61f552286fb79735e244694d\n",
      "68 0.1719899875825755\n",
      "61f55432404aaee09543c999\n",
      "61f556804eebda23667acf45\n",
      "61f558a74eebda23467acf50\n",
      "69 0.3523285810568353\n",
      "61f55af36fb797d7d4446989\n",
      "61f5607f7f4bf815f1bd92eb\n",
      "61f562cf1faa06e3d334a1cf\n",
      "70 0.11866276338396003\n",
      "61f564dd7f4bf85f36bd930f\n",
      "61f5675dded89e4546aa2c39\n",
      "61f569e97f4bf87785bd9331\n",
      "71 0.24351517140018483\n",
      "61f56c2c404aaead2443ca26\n",
      "61f56e844eebda4ed57acfe6\n",
      "61f570f37f4bf8cb00bd936c\n",
      "72 0.09359751778017988\n",
      "61f573346fb797264e446a30\n",
      "61f575b51faa0636bd34a261\n",
      "61f577f84ddc9f19e1811b6c\n",
      "73 0.184019577523519\n",
      "61f57a5adfe4a9766723217a\n",
      "61f58bdc404aae2dc743cab4\n",
      "61f58e8d9847b393aaab5486\n",
      "74 0.4379334257325945\n",
      "61f59131ded89e0c19aa2d06\n",
      "61f5938d404aae502c43cad1\n",
      "61f595ef9847b328f1ab549f\n",
      "75 0.3510041189911813\n",
      "61f598471faa06d10734a2e0\n",
      "61f59aa07f4bf893d5bd941b\n",
      "61f59cbb404aae7d4143caee\n",
      "76 0.1238709959920476\n",
      "61f59ecf4eebda5c6a7ad0cc\n",
      "61f5a1611faa0676f934a307\n",
      "61f5a373404aaee9e743cb0e\n",
      "77 0.2998520215900056\n",
      "61f5a5cb7f4bf80aa4bd944f\n",
      "61f5a8257f4bf86c03bd945b\n",
      "61f5aa854ddc9f5e35811c3f\n",
      "78 0.18959628042249085\n",
      "61f5ad059847b30c11ab550e\n",
      "61f5af531faa0688b134a350\n",
      "61f5b1fd4ddc9f3ee5811c70\n",
      "79 0.5267165664769273\n",
      "61f5b4544eebda01e97ad12c\n",
      "61f5bb34dfe4a937d523227f\n",
      "61f5bd3d4eebda258c7ad15c\n",
      "80 0.3335411435089851\n",
      "61f5bf6cdfe4a94321232290\n",
      "61f5c17e4ddc9fe5fb811c97\n",
      "61f5c3904ddc9f07fc811c9a\n",
      "81 0.07299532637087347\n",
      "61f5c599ded89e7ccfaa2df8\n",
      "61f5c7aa9847b3f747ab5576\n",
      "61f5c9c67f4bf82ac1bd94ea\n",
      "82 0.09512503973247016\n",
      "61f5cbe79847b3d178ab558a\n",
      "61f5cdf41faa0653de34a3ad\n",
      "61f5d02e1faa06591b34a3bc\n",
      "83 0.025687894584336624\n",
      "61f5d240dfe4a926c02322d2\n",
      "61f5d4706fb79703a3446be2\n",
      "61f5d6824eebda23a07ad1b3\n",
      "84 -0.008606820940870341\n",
      "61f5d8a1ded89e4e06aa2e40\n",
      "61f5dab0404aae96d843cbe6\n"
     ]
    },
    {
     "name": "stdout",
     "output_type": "stream",
     "text": [
      "61f5dcb87f4bf849f7bd953b\n",
      "85 0.05066214861308105\n",
      "61f5dee84ddc9f10e9811cff\n",
      "61f5e0f1dfe4a98bf3232307\n",
      "61f5e3034ddc9fcd73811d14\n",
      "86 0.35213045274206056\n",
      "61f5e5189847b3256dab5607\n",
      "61f5e7286fb7976525446c42\n",
      "61f5e9397f4bf861f9bd958b\n",
      "87 0.28431564425380096\n",
      "61f5eb4a9847b30b58ab5623\n",
      "61f5ed67ded89e09bfaa2eb1\n",
      "61f5ef79404aae5f5543cc51\n",
      "88 0.14441377851324794\n",
      "61f5f1bdded89e96a7aa2ec7\n",
      "61f5f3c5dfe4a9ef9b23237f\n",
      "61f5f601dfe4a91e91232395\n",
      "89 0.14530935032202913\n",
      "61f5f8261faa063a4634a487\n",
      "61f5fa38dfe4a91cbf2323b2\n",
      "61f5fc3f404aae311a43ccb0\n",
      "90 0.20462056435069068\n",
      "61f5fe664eebdabb2a7ad288\n",
      "61f60077ded89e2c38aa2f35\n",
      "61f6027fd6c0952633dff6d4\n",
      "91 -0.0908576933668066\n",
      "61f60488ded89e61b9aa2f58\n",
      "61f606a34eebda6f497ad2db\n",
      "61f608b64ddc9f7abd811e0e\n",
      "92 0.20976690761000522\n",
      "61f60af04eebda80197ad2ff\n",
      "61f60d5c6fb797357a446d4f\n",
      "61f60f686fb7976776446d65\n",
      "93 0.38387272126764005\n",
      "61f61177ded89e06bbaa2fba\n",
      "61f6138b7f4bf8e6bfbd96c9\n",
      "61f615d6d6c0952689dff75a\n",
      "94 0.21125931581625265\n",
      "61f617dfdfe4a9d581232496\n",
      "61f61a18404aaeedb243cd7f\n",
      "61f61c48ded89eb606aa2ff1\n",
      "95 0.18286051616535998\n",
      "61f61f90ded89e844faa304c\n",
      "61f6227a1faa06f9ec34a60b\n",
      "61f6253a4ddc9f664e811ef0\n",
      "96 0.04838095427170147\n",
      "61f6283e1faa0686ae34a628\n",
      "61f62a649847b31d14ab5831\n",
      "61f62cb0dfe4a96173232549\n",
      "97 0.17507705280279057\n",
      "61f62f124eebdaf2057ad42d\n",
      "61f631754eebda86d77ad43a\n",
      "61f633d7d6c09561fbdff87a\n",
      "98 0.21006404303195989\n",
      "61f636457f4bf8b906bd97db\n",
      "61f64288d6c0955045dff8d5\n",
      "61f64698404aae859443cef5\n",
      "99 0.2964432587332104\n",
      "61f649357f4bf8001fbd9859\n",
      "61f64bbf1faa06018534a713\n",
      "61f64ef34eebda06e87ad507\n",
      "100 0.43948923222966657\n",
      "61f65105404aae87ed43cf25\n",
      "61f661021faa06663d34a74a\n",
      "61f663121faa0656e734a751\n",
      "101 0.44081761491786564\n",
      "61f665304eebda1aee7ad54e\n",
      "61f668b56fb7971a33446f7e\n",
      "61f66af64ddc9f88b1812033\n",
      "102 0.3903720541569132\n",
      "61f66d099847b33e9cab5972\n",
      "61f66f1a7f4bf87e81bd98be\n",
      "61f671387f4bf83613bd98c5\n",
      "103 0.35538157060596465\n",
      "61f673537f4bf86ac2bd98c8\n",
      "61f67565d6c09514dfdff980\n",
      "61f6797edfe4a931d023269d\n",
      "104 0.22751181290956987\n",
      "61f67eedded89e443baa31d1\n",
      "61f68b29404aae6cf543cffd\n",
      "61f68d574eebda080a7ad5fe\n",
      "105 0.2986169442333467\n",
      "61f69782d6c0957668dffa4b\n",
      "61f699914eebda279b7ad649\n",
      "61f69b9a4eebda4d677ad653\n",
      "106 0.22894201785570278\n",
      "61f69ea66fb797e4b744708a\n",
      "61f6a0ccd6c0959b4fdffa96\n",
      "61f6a2deded89e7bc6aa32c0\n",
      "107 0.6127976849316384\n",
      "61f6a57cded89e7c57aa32d1\n",
      "61f6a81a404aae731543d0bf\n",
      "61f6aaae4eebda0e4d7ad6ae\n",
      "108 0.24063155774963046\n",
      "61f6acdfdfe4a9dbc52327c9\n",
      "61f6b2387f4bf82949bd9a19\n",
      "61f6b4cd6fb797c0dd4470fe\n",
      "109 0.4154662107647511\n",
      "61f6b76a4eebda59697ad6f3\n",
      "61f6ba084eebda7dda7ad708\n",
      "61f6bcd81faa060f3834a8f2\n",
      "110 0.6578281908498214\n",
      "61f6beff6fb797856b447149\n",
      "61f6c2001faa060d5434a911\n",
      "61f6c4956fb797007b447169\n",
      "111 0.14819514708006304\n",
      "61f6c7359847b380aeab5b44\n",
      "61f6c96e1faa065c4834a935\n",
      "61f6cba71faa069cfa34a941\n",
      "112 0.26757444897871213\n",
      "61f6cdc49847b371d6ab5b69\n",
      "61f6d09e7f4bf87cabbd9ad3\n",
      "61f6d2d7404aae0f7143d1b8\n",
      "113 0.34842399255746226\n",
      "61f6d4dfded89e267aaa33d1\n",
      "61f6d7876fb797024a4471ba\n",
      "61f6da399847b3f71dab5b9c\n",
      "114 0.4225433083010596\n",
      "61f6dc564eebda4d507ad7ac\n",
      "61f6de5d6fb79722c44471c8\n",
      "61f6e0de7f4bf82326bd9af4\n",
      "115 0.46082251420880177\n",
      "61f6e30e404aaeb23a43d1df\n",
      "61f6e534dfe4a97fdc2328db\n",
      "61f6eea11faa06125034a9a2\n",
      "116 0.56762997491047\n",
      "61f6f0ec9847b35e29ab5bc8\n",
      "61f6f380d6c09566afdffbfe\n",
      "61f6f6284ddc9fc4ae8122ae\n",
      "117 0.6412223110880929\n",
      "61f6f8d09847b342a0ab5bdf\n",
      "61f6fad8404aae130c43d20e\n",
      "61f707097f4bf8559cbd9b2f\n",
      "118 0.8051553980145101\n",
      "61f709881faa06422b34a9d6\n",
      "61f70c596fb797e4cc44721d\n",
      "61f70ed91faa06b1d034a9de\n",
      "119 0.4695874602054967\n",
      "61f711321faa0693f834a9e7\n",
      "61f713927f4bf8530cbd9b4b\n",
      "61f716f94ddc9f0afa8122f0\n",
      "120 0.34114259087682686\n",
      "61f7195b404aae844243d24e\n",
      "61f71c5d9847b3ef2aab5c30\n",
      "61f71e7a4ddc9f4521812317\n",
      "121 0.32133801419297403\n",
      "61f721224eebda5c437ad84e\n",
      "61f723c9d6c095d3b9dffc9b\n",
      "61f726039847b34b49ab5c5f\n",
      "122 0.45667864560703747\n",
      "61f728d87f4bf83a77bd9bb3\n",
      "61f72bad404aaebdcb43d2b7\n",
      "61f72e61404aae321743d2c9\n",
      "123 0.3980087340554799\n",
      "61f730fd4eebda30787ad89e\n",
      "61f733924eebda3cd67ad8a7\n",
      "61f7366b6fb79782674472c6\n",
      "124 0.5759924652565809\n",
      "61f739001faa06d61f34aaa2\n",
      "61f73e707f4bf85b87bd9c19\n",
      "61f7412c4eebda24427ad8ef\n",
      "125 0.3394338179655479\n",
      "61f745484ddc9f237e8123fe\n",
      "61f74819ded89e6c30aa3592\n",
      "61f74ae61faa060ac634ab72\n",
      "126 0.33767652903448736\n",
      "61f74da44ddc9f19a8812467\n",
      "61f750409847b3225eab5d7b\n",
      "61f760137f4bf87c6ebd9d1c\n",
      "127 0.6309832448365902\n",
      "61f762b2ded89edeb6aa361a\n",
      "61f7659f404aaedbda43d412\n",
      "61f7683e404aae60cf43d422\n"
     ]
    },
    {
     "ename": "IBMQJobInvalidStateError",
     "evalue": "'Unable to retrieve result for job 61f7683e404aae60cf43d422. Job was cancelled.'",
     "output_type": "error",
     "traceback": [
      "\u001b[0;31m---------------------------------------------------------------------------\u001b[0m",
      "\u001b[0;31mIBMQJobInvalidStateError\u001b[0m                  Traceback (most recent call last)",
      "\u001b[0;32m<ipython-input-159-16745279e2b9>\u001b[0m in \u001b[0;36m<module>\u001b[0;34m\u001b[0m\n\u001b[0;32m----> 1\u001b[0;31m \u001b[0mout\u001b[0m \u001b[0;34m=\u001b[0m \u001b[0mSPSA_from_load\u001b[0m\u001b[0;34m(\u001b[0m\u001b[0;36m1\u001b[0m\u001b[0;34m,\u001b[0m\u001b[0;36m200\u001b[0m\u001b[0;34m,\u001b[0m\u001b[0mhold\u001b[0m\u001b[0;34m[\u001b[0m\u001b[0;36m0\u001b[0m\u001b[0;34m]\u001b[0m\u001b[0;34m,\u001b[0m\u001b[0mmethod\u001b[0m \u001b[0;34m=\u001b[0m \u001b[0;34m'quantum'\u001b[0m\u001b[0;34m,\u001b[0m\u001b[0mhold\u001b[0m \u001b[0;34m=\u001b[0m \u001b[0;32mTrue\u001b[0m\u001b[0;34m)\u001b[0m\u001b[0;34m\u001b[0m\u001b[0;34m\u001b[0m\u001b[0m\n\u001b[0m",
      "\u001b[0;32m<ipython-input-158-802f2556635d>\u001b[0m in \u001b[0;36mSPSA_from_load\u001b[0;34m(k_min, k_max, load, method, group, hold)\u001b[0m\n\u001b[1;32m     70\u001b[0m             \u001b[0msave_id_file\u001b[0m \u001b[0;34m=\u001b[0m \u001b[0;34m\"/Users/stenger/Documents/Research/Hubbard_symmetries/VQE/Job_id/jobf_\"\u001b[0m\u001b[0;34m+\u001b[0m\u001b[0mstr\u001b[0m\u001b[0;34m(\u001b[0m\u001b[0mk\u001b[0m\u001b[0;34m)\u001b[0m\u001b[0;34m+\u001b[0m\u001b[0;34m'_T_'\u001b[0m\u001b[0;34m+\u001b[0m\u001b[0mstr\u001b[0m\u001b[0;34m(\u001b[0m\u001b[0mT\u001b[0m\u001b[0;34m)\u001b[0m\u001b[0;34m+\u001b[0m\u001b[0;34m\"_A_\"\u001b[0m\u001b[0;34m+\u001b[0m\u001b[0mstr\u001b[0m\u001b[0;34m(\u001b[0m\u001b[0mA\u001b[0m\u001b[0;34m)\u001b[0m\u001b[0;34m+\u001b[0m\u001b[0;34m\"_a_\"\u001b[0m\u001b[0;34m+\u001b[0m\u001b[0mstr\u001b[0m\u001b[0;34m(\u001b[0m\u001b[0ma\u001b[0m\u001b[0;34m)\u001b[0m\u001b[0;34m+\u001b[0m\u001b[0;34m\"_c_\"\u001b[0m\u001b[0;34m+\u001b[0m\u001b[0mstr\u001b[0m\u001b[0;34m(\u001b[0m\u001b[0mc\u001b[0m\u001b[0;34m)\u001b[0m\u001b[0;34m+\u001b[0m\u001b[0;34m\"_beta_\"\u001b[0m\u001b[0;34m+\u001b[0m\u001b[0mstr\u001b[0m\u001b[0;34m(\u001b[0m\u001b[0mbeta\u001b[0m\u001b[0;34m)\u001b[0m\u001b[0;34m+\u001b[0m\u001b[0;34m\"_gamma_\"\u001b[0m\u001b[0;34m+\u001b[0m\u001b[0mstr\u001b[0m\u001b[0;34m(\u001b[0m\u001b[0mgamma\u001b[0m\u001b[0;34m)\u001b[0m\u001b[0;34m+\u001b[0m\u001b[0;34m\"_t_\"\u001b[0m\u001b[0;34m+\u001b[0m\u001b[0mstr\u001b[0m\u001b[0;34m(\u001b[0m\u001b[0mtt\u001b[0m\u001b[0;34m)\u001b[0m\u001b[0;34m+\u001b[0m\u001b[0;34m\"_u_\"\u001b[0m\u001b[0;34m+\u001b[0m\u001b[0mstr\u001b[0m\u001b[0;34m(\u001b[0m\u001b[0mu\u001b[0m\u001b[0;34m)\u001b[0m\u001b[0;34m\u001b[0m\u001b[0;34m\u001b[0m\u001b[0m\n\u001b[1;32m     71\u001b[0m             \u001b[0mcircs_f\u001b[0m\u001b[0;34m,\u001b[0m \u001b[0mmeas_f\u001b[0m\u001b[0;34m,\u001b[0m \u001b[0mcoefs_f\u001b[0m \u001b[0;34m=\u001b[0m \u001b[0mcollect_circs\u001b[0m\u001b[0;34m(\u001b[0m\u001b[0malpha_k\u001b[0m\u001b[0;34m,\u001b[0m\u001b[0mphi_k\u001b[0m\u001b[0;34m,\u001b[0m\u001b[0mblocks\u001b[0m\u001b[0;34m)\u001b[0m\u001b[0;34m\u001b[0m\u001b[0;34m\u001b[0m\u001b[0m\n\u001b[0;32m---> 72\u001b[0;31m             \u001b[0mr_f\u001b[0m \u001b[0;34m=\u001b[0m \u001b[0mget_results\u001b[0m\u001b[0;34m(\u001b[0m\u001b[0mcircs_f\u001b[0m\u001b[0;34m,\u001b[0m \u001b[0mmethod\u001b[0m \u001b[0;34m=\u001b[0m \u001b[0mmethod\u001b[0m\u001b[0;34m,\u001b[0m\u001b[0msave_id_file\u001b[0m \u001b[0;34m=\u001b[0m \u001b[0msave_id_file\u001b[0m\u001b[0;34m)\u001b[0m\u001b[0;34m\u001b[0m\u001b[0;34m\u001b[0m\u001b[0m\n\u001b[0m\u001b[1;32m     73\u001b[0m             \u001b[0mE_f\u001b[0m \u001b[0;34m=\u001b[0m \u001b[0menergy_from_results\u001b[0m\u001b[0;34m(\u001b[0m\u001b[0mr_f\u001b[0m\u001b[0;34m,\u001b[0m\u001b[0mmeas_f\u001b[0m\u001b[0;34m,\u001b[0m\u001b[0mcoefs_f\u001b[0m\u001b[0;34m)\u001b[0m\u001b[0;34m\u001b[0m\u001b[0;34m\u001b[0m\u001b[0m\n\u001b[1;32m     74\u001b[0m \u001b[0;34m\u001b[0m\u001b[0m\n",
      "\u001b[0;32m<ipython-input-132-8436bf0c57d5>\u001b[0m in \u001b[0;36mget_results\u001b[0;34m(circs, method, save_id_file)\u001b[0m\n\u001b[1;32m     20\u001b[0m         \u001b[0mprint\u001b[0m\u001b[0;34m(\u001b[0m\u001b[0mjob_id\u001b[0m\u001b[0;34m)\u001b[0m\u001b[0;34m\u001b[0m\u001b[0;34m\u001b[0m\u001b[0m\n\u001b[1;32m     21\u001b[0m         \u001b[0mnp\u001b[0m\u001b[0;34m.\u001b[0m\u001b[0msave\u001b[0m\u001b[0;34m(\u001b[0m\u001b[0msave_id_file\u001b[0m\u001b[0;34m,\u001b[0m\u001b[0;34m[\u001b[0m\u001b[0mjob_id\u001b[0m\u001b[0;34m]\u001b[0m\u001b[0;34m)\u001b[0m\u001b[0;34m\u001b[0m\u001b[0;34m\u001b[0m\u001b[0m\n\u001b[0;32m---> 22\u001b[0;31m         \u001b[0mr\u001b[0m \u001b[0;34m=\u001b[0m \u001b[0mjob\u001b[0m\u001b[0;34m.\u001b[0m\u001b[0mresult\u001b[0m\u001b[0;34m(\u001b[0m\u001b[0;34m)\u001b[0m\u001b[0;34m.\u001b[0m\u001b[0mget_counts\u001b[0m\u001b[0;34m(\u001b[0m\u001b[0;34m)\u001b[0m\u001b[0;34m\u001b[0m\u001b[0;34m\u001b[0m\u001b[0m\n\u001b[0m\u001b[1;32m     23\u001b[0m \u001b[0;34m\u001b[0m\u001b[0m\n\u001b[1;32m     24\u001b[0m \u001b[0;34m\u001b[0m\u001b[0m\n",
      "\u001b[0;32m/opt/miniconda3/envs/qiskit_25/lib/python3.9/site-packages/qiskit/providers/ibmq/job/ibmqjob.py\u001b[0m in \u001b[0;36mresult\u001b[0;34m(self, timeout, wait, partial, refresh)\u001b[0m\n\u001b[1;32m    277\u001b[0m                                          required_status=(JobStatus.DONE,)):\n\u001b[1;32m    278\u001b[0m             \u001b[0;32mif\u001b[0m \u001b[0mself\u001b[0m\u001b[0;34m.\u001b[0m\u001b[0m_status\u001b[0m \u001b[0;32mis\u001b[0m \u001b[0mJobStatus\u001b[0m\u001b[0;34m.\u001b[0m\u001b[0mCANCELLED\u001b[0m\u001b[0;34m:\u001b[0m\u001b[0;34m\u001b[0m\u001b[0;34m\u001b[0m\u001b[0m\n\u001b[0;32m--> 279\u001b[0;31m                 raise IBMQJobInvalidStateError('Unable to retrieve result for job {}. '\n\u001b[0m\u001b[1;32m    280\u001b[0m                                                'Job was cancelled.'.format(self.job_id()))\n\u001b[1;32m    281\u001b[0m             \u001b[0;31m# Job failed.\u001b[0m\u001b[0;34m\u001b[0m\u001b[0;34m\u001b[0m\u001b[0;34m\u001b[0m\u001b[0m\n",
      "\u001b[0;31mIBMQJobInvalidStateError\u001b[0m: 'Unable to retrieve result for job 61f7683e404aae60cf43d422. Job was cancelled.'"
     ]
    }
   ],
   "source": [
    "out = SPSA_from_load(1,200,hold[0],method = 'quantum',hold = True)"
   ]
  },
  {
   "cell_type": "code",
   "execution_count": 160,
   "metadata": {},
   "outputs": [
    {
     "name": "stderr",
     "output_type": "stream",
     "text": [
      "/opt/miniconda3/envs/qiskit_25/lib/python3.9/site-packages/numpy/core/_asarray.py:102: ComplexWarning: Casting complex values to real discards the imaginary part\n",
      "  return array(a, dtype, copy=False, order=order)\n"
     ]
    },
    {
     "data": {
      "text/plain": [
       "[<matplotlib.lines.Line2D at 0x7fc57e621d00>]"
      ]
     },
     "execution_count": 160,
     "metadata": {},
     "output_type": "execute_result"
    },
    {
     "data": {
      "image/png": "[encoded data removed]",
      "text/plain": [
       "<Figure size 432x288 with 1 Axes>"
      ]
     },
     "metadata": {
      "needs_background": "light"
     },
     "output_type": "display_data"
    }
   ],
   "source": [
    "e,y = np.linalg.eig(H_complete)\n",
    "\n",
    "import matplotlib.pyplot as plt\n",
    "\n",
    "E0 = [np.sort(e)[0] for i in range(len(out))]\n",
    "\n",
    "El = [out[i]['E'] for i in range(len(out))]\n",
    "tl = [i for i in range(len(El))]\n",
    "\n",
    "plt.plot(tl,El)\n",
    "plt.plot(tl,E0)"
   ]
  },
  {
   "cell_type": "code",
   "execution_count": 161,
   "metadata": {},
   "outputs": [],
   "source": [
    "import numpy as np\n",
    "El = []\n",
    "kl = []\n",
    "out = []\n",
    "for k in range(0,127):\n",
    "    job_id = np.load(\"/Users/stenger/Documents/Research/Hubbard_symmetries/VQE/Job_id/jobA_\"+str(k)+'_T_'+str(T)+\"_A_\"+str(A)+\"_a_\"+str(a)+\"_c_\"+str(c)+\"_beta_\"+str(beta)+\"_gamma_\"+str(gamma)+\"_t_\"+str(t)+\"_u_\"+str(u)+\".npy\")\n",
    "    job_info = backend.retrieve_job(job_id[0])\n",
    "    hold = np.load(\"/Users/stenger/Documents/Research/Hubbard_symmetries/VQE/Job_id/run_\"+str(k)+'_T_'+str(T)+\"_A_\"+str(A)+\"_a_\"+str(a)+\"_c_\"+str(c)+\"_beta_\"+str(beta)+\"_gamma_\"+str(gamma)+\"_t_\"+str(t)+\"_u_\"+str(u)+\".npy\",allow_pickle=True)\n",
    "    out.append(hold[0])\n",
    "    El.append(hold[0]['E'])\n",
    "    kl.append(k)"
   ]
  },
  {
   "cell_type": "code",
   "execution_count": 162,
   "metadata": {},
   "outputs": [
    {
     "data": {
      "text/plain": [
       "[<matplotlib.lines.Line2D at 0x7fc564bd6d90>]"
      ]
     },
     "execution_count": 162,
     "metadata": {},
     "output_type": "execute_result"
    },
    {
     "data": {
      "image/png": "[encoded data removed]",
      "text/plain": [
       "<Figure size 432x288 with 1 Axes>"
      ]
     },
     "metadata": {
      "needs_background": "light"
     },
     "output_type": "display_data"
    }
   ],
   "source": [
    "e,y = np.linalg.eig(H_complete)\n",
    "\n",
    "import matplotlib.pyplot as plt\n",
    "\n",
    "E0 = [np.sort(e)[0] for i in range(len(El))]\n",
    "tl = [i for i in range(len(El))]\n",
    "\n",
    "plt.plot(tl,El)\n",
    "plt.plot(tl,E0)"
   ]
  },
  {
   "cell_type": "markdown",
   "metadata": {},
   "source": [
    "# Save Data"
   ]
  },
  {
   "cell_type": "code",
   "execution_count": 163,
   "metadata": {},
   "outputs": [],
   "source": [
    "import pickle\n",
    "fpath = '/Users/stenger/Documents/Research/Hubbard_symmetries/VQE/Data/'\n",
    "\n",
    "file_to_store = open(fpath + \"VQE_jakarta_T_\"+str(T)+\"_A_\"+str(A)+\"_a_\"+str(a)+\"_c_\"+str(c)+\"_beta_\"+str(beta)+\"_gamma_\"+str(gamma)+\"_t_\"+str(t)+\"_u_\"+str(u)+\".pickle\", \"wb\")\n",
    "\n",
    "pickle.dump(out, file_to_store)"
   ]
  },
  {
   "cell_type": "code",
   "execution_count": 164,
   "metadata": {},
   "outputs": [],
   "source": [
    "import pickle\n",
    "fpath = '/Users/stenger/Documents/Research/Hubbard_symmetries/VQE/Data/'\n",
    "\n",
    "file_to_read = open(fpath + \"VQE_jakarta_T_\"+str(T)+\"_A_\"+str(A)+\"_a_\"+str(a)+\"_c_\"+str(c)+\"_beta_\"+str(beta)+\"_gamma_\"+str(gamma)+\"_t_\"+str(t)+\"_u_\"+str(u)+\".pickle\", \"rb\")\n",
    "\n",
    "loaded_object = pickle.load(file_to_read)"
   ]
  },
  {
   "cell_type": "code",
   "execution_count": 165,
   "metadata": {},
   "outputs": [
    {
     "data": {
      "text/plain": [
       "[<matplotlib.lines.Line2D at 0x7fc5641cff40>]"
      ]
     },
     "execution_count": 165,
     "metadata": {},
     "output_type": "execute_result"
    },
    {
     "data": {
      "image/png": "[encoded data removed]",
      "text/plain": [
       "<Figure size 432x288 with 1 Axes>"
      ]
     },
     "metadata": {
      "needs_background": "light"
     },
     "output_type": "display_data"
    }
   ],
   "source": [
    "import matplotlib.pyplot as plt\n",
    "\n",
    "El = [loaded_object[i]['E'] for i in range(len(loaded_object))]\n",
    "tl = [i for i in range(len(El))]\n",
    "\n",
    "plt.plot(tl,El)"
   ]
  },
  {
   "cell_type": "code",
   "execution_count": null,
   "metadata": {},
   "outputs": [],
   "source": []
  }
 ],
 "metadata": {
  "kernelspec": {
   "display_name": "Python (qiskit_25)",
   "language": "python",
   "name": "qiskit_25"
  },
  "language_info": {
   "codemirror_mode": {
    "name": "ipython",
    "version": 3
   },
   "file_extension": ".py",
   "mimetype": "text/x-python",
   "name": "python",
   "nbconvert_exporter": "python",
   "pygments_lexer": "ipython3",
   "version": "3.9.5"
  },
  "toc": {
   "base_numbering": 1,
   "nav_menu": {},
   "number_sections": true,
   "sideBar": true,
   "skip_h1_title": false,
   "title_cell": "Table of Contents",
   "title_sidebar": "Contents",
   "toc_cell": false,
   "toc_position": {
    "height": "calc(100% - 180px)",
    "left": "10px",
    "top": "150px",
    "width": "238.391px"
   },
   "toc_section_display": true,
   "toc_window_display": false
  }
 },
 "nbformat": 4,
 "nbformat_minor": 4
}
