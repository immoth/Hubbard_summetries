{
 "cells": [
  {
   "cell_type": "code",
   "execution_count": 3,
   "id": "c92e8c43",
   "metadata": {},
   "outputs": [],
   "source": [
    "import numpy as np \n",
    "\n",
    "#H = np.load('Hamiltonian_Example.npy')\n",
    "# I have -2.0 < u 2.0 in steps of 0.1\n",
    "u=1.0\n",
    "t=-1\n",
    "H_fix = np.load('/Users/stenger/Documents/Research/Hubbard_symmetries/VQE/H_mu_'+str(u)+\"_t_\"+str(t)+'.npy')"
   ]
  },
  {
   "cell_type": "code",
   "execution_count": 4,
   "id": "e5c338d0",
   "metadata": {},
   "outputs": [],
   "source": [
    "import numpy as np\n",
    "import pandas as pd\n",
    "from qiskit import quantum_info as qi"
   ]
  },
  {
   "cell_type": "code",
   "execution_count": 6,
   "id": "1c472852",
   "metadata": {},
   "outputs": [
    {
     "data": {
      "text/plain": [
       "[3, 5, 9, 6, 10, 12]"
      ]
     },
     "execution_count": 6,
     "metadata": {},
     "output_type": "execute_result"
    }
   ],
   "source": [
    "#Creates all states with N fermions and S orbitals\n",
    "def Generate_States(N,S):\n",
    "    s = [i for i in range(0,N)]\n",
    "    psi_l = []\n",
    "    while s[0] < S-N:\n",
    "        ### create the state and store it\n",
    "        psi = 0\n",
    "        for i in s:\n",
    "            psi += 2**i\n",
    "        psi_l.append(psi)\n",
    "        ###\n",
    "        ###Update the particle locations\n",
    "        exit = 0\n",
    "        i = len(s)-1\n",
    "        while exit == 0:\n",
    "            if s[i] < S-len(s)+i:\n",
    "                s[i] += 1\n",
    "                for j in range(i+1,len(s)):\n",
    "                    s[j] = s[j-1]+1\n",
    "                exit = 1\n",
    "            else:\n",
    "                i -= 1\n",
    "        ###\n",
    "    ###Create the finale state\n",
    "    psi = 0\n",
    "    for i in s:\n",
    "        psi += 2**i\n",
    "    psi_l.append(psi)\n",
    "    ###\n",
    "    return psi_l\n",
    "\n",
    "states = Generate_States(2,4)\n",
    "states"
   ]
  },
  {
   "cell_type": "code",
   "execution_count": 11,
   "id": "365137b1",
   "metadata": {},
   "outputs": [
    {
     "data": {
      "text/plain": [
       "'1010'"
      ]
     },
     "execution_count": 11,
     "metadata": {},
     "output_type": "execute_result"
    }
   ],
   "source": [
    "# A function to print out the binary number\n",
    "def bi(num,S):\n",
    "    bi = bin(num)\n",
    "    out = \"\"\n",
    "    Sdiff = S - len(bi) + 2\n",
    "    for i in range(0,Sdiff):\n",
    "        out = out + '0'\n",
    "    for i in range(2,len(bi)):\n",
    "        out = out + bi[i]\n",
    "    return out\n",
    "\n",
    "bi(states[4],4)"
   ]
  },
  {
   "cell_type": "code",
   "execution_count": 12,
   "id": "f9282cba",
   "metadata": {},
   "outputs": [],
   "source": [
    "def bi_t(V,Su):\n",
    "    Vn_l = []\n",
    "    sign = 0\n",
    "    for i in range(0,Su):\n",
    "        #Spin up\n",
    "        M = 2**i + 2**np.mod(i+1,Su)\n",
    "        K = M & V\n",
    "        L = K ^ M\n",
    "        if L != 0 and L != M:\n",
    "            Vn = V - K + L\n",
    "            if i + 1 == np.mod(i+1,Su):\n",
    "                sign = 1\n",
    "            elif Su % 2 == 1:\n",
    "                sign = 1\n",
    "            else:\n",
    "                sign = -1\n",
    "            #print(i,':',bi(Vn))\n",
    "            Vn_l.append([Vn,sign])\n",
    "        #Spin down\n",
    "        #Only doing spin up\n",
    "    return Vn_l"
   ]
  },
  {
   "cell_type": "code",
   "execution_count": 13,
   "id": "6cc4c62f",
   "metadata": {},
   "outputs": [
    {
     "data": {
      "text/plain": [
       "array([[ 0, -1,  0,  0,  1,  0],\n",
       "       [-1,  0, -1, -1,  0,  1],\n",
       "       [ 0, -1,  0,  0, -1,  0],\n",
       "       [ 0, -1,  0,  0, -1,  0],\n",
       "       [ 1,  0, -1, -1,  0, -1],\n",
       "       [ 0,  1,  0,  0, -1,  0]])"
      ]
     },
     "execution_count": 13,
     "metadata": {},
     "output_type": "execute_result"
    }
   ],
   "source": [
    "t = -1\n",
    "S = 4\n",
    "Q = len(states)\n",
    "index_map = {states[i]:i for i in range(Q)}\n",
    "K_up = np.array([[0 for i in range(Q)] for j in range(Q)])\n",
    "for i in range(0,Q):\n",
    "    psi_t = bi_t(states[i],S)\n",
    "    for s in range(len(psi_t)):\n",
    "        K_up[index_map[psi_t[s][0]],i] = psi_t[s][1]*t\n",
    "\n",
    "\n",
    "        \n",
    "K_up"
   ]
  },
  {
   "cell_type": "code",
   "execution_count": 15,
   "id": "18b3b17e",
   "metadata": {},
   "outputs": [
    {
     "name": "stdout",
     "output_type": "stream",
     "text": [
      "1001\n"
     ]
    },
    {
     "data": {
      "text/plain": [
       "[[1, 1, 0, 0],\n",
       " [1, 0, 1, 0],\n",
       " [1, 0, 0, 1],\n",
       " [0, 1, 1, 0],\n",
       " [0, 1, 0, 1],\n",
       " [0, 0, 1, 1]]"
      ]
     },
     "execution_count": 15,
     "metadata": {},
     "output_type": "execute_result"
    }
   ],
   "source": [
    "def bi_n(i,V,S):\n",
    "    num = bi(V,S)\n",
    "    if num[-i-1] == '1':\n",
    "        return 1\n",
    "    else:\n",
    "        return 0\n",
    "print(bi(states[2],4))\n",
    "bi_n(0,states[2],4)\n",
    "\n",
    "u = 1\n",
    "S = 4\n",
    "Q = len(states)\n",
    "n_up = []\n",
    "for c in range(0,Q):\n",
    "    n_up_c = []\n",
    "    for i in range(0,S):\n",
    "        n_up_c.append(u*bi_n(i,states[c],S))\n",
    "    n_up.append(n_up_c)\n",
    "    \n",
    "n_up"
   ]
  },
  {
   "cell_type": "code",
   "execution_count": 270,
   "id": "f3ee0547",
   "metadata": {},
   "outputs": [],
   "source": [
    "I_down = [[0 for i in range(2**S)] for j in range(2**S)]\n",
    "for i in range(2**S):\n",
    "    I_down[i][i] = 1\n",
    "I_down = np.array(I_down)\n",
    "    \n",
    "def Z_label(i,Q):\n",
    "    out = ''\n",
    "    for j in range(0,Q):\n",
    "        if j == i:\n",
    "            out = out + 'Z'\n",
    "        else:\n",
    "            out = out + 'I'\n",
    "    return out[::-1]\n",
    "\n",
    "\n",
    "def X_label(i,Q):\n",
    "    out = ''\n",
    "    for j in range(0,Q):\n",
    "        if i < Q-1:\n",
    "            if i == j or i + 1 == j:\n",
    "                out = out + 'X'\n",
    "            else:\n",
    "                out = out + 'I'\n",
    "        else:\n",
    "            if j == 0 or j == Q-1:\n",
    "                out = out + 'X'\n",
    "            else:\n",
    "                out = out + 'Z'\n",
    "    return out[::-1]\n",
    "\n",
    "def Y_label(i,Q):\n",
    "    out = ''\n",
    "    for j in range(0,Q):\n",
    "        if i < Q-1:\n",
    "            if i == j or i + 1 == j:\n",
    "                out = out + 'Y'\n",
    "            else:\n",
    "                out = out + 'I'\n",
    "        else:\n",
    "            if j == 0 or j == Q-1:\n",
    "                out = out + 'Y'\n",
    "            else:\n",
    "                out = out + 'Z'\n",
    "    return out[::-1]\n",
    "    \n",
    "def Hcc(c,cc):\n",
    "    h = K_up[c][cc]*I_down\n",
    "    if c == cc:\n",
    "        for i in range(0,S): \n",
    "            h = h + 1/2*t*qi.Operator.from_label(X_label(i,S)).data\n",
    "            h = h + 1/2*t*qi.Operator.from_label(Y_label(i,S)).data\n",
    "            h = h + 1/2*u*n_up[c][i]*(I_down - qi.Operator.from_label(Z_label(i,S)).data)\n",
    "    return np.array(h)\n",
    "            \n"
   ]
  },
  {
   "cell_type": "code",
   "execution_count": 271,
   "id": "87382541",
   "metadata": {},
   "outputs": [],
   "source": [
    "Nc = 6\n",
    "Ndown = 2**S\n",
    "H_full = [[0 for i in range(Nc*Ndown)] for j in range(Nc*Ndown)]\n",
    "for c in range(Nc):\n",
    "    for i in range(Ndown):\n",
    "        for cc in range(Nc):\n",
    "            for j in range(Ndown):\n",
    "                H_full[Ndown*c + i][Ndown*cc + j] = Hcc(c,cc)[i][j]"
   ]
  },
  {
   "cell_type": "code",
   "execution_count": 272,
   "id": "386df698",
   "metadata": {},
   "outputs": [
    {
     "data": {
      "text/plain": [
       "array([-3.55405387e+00-8.02203439e-24j, -3.55405387e+00-7.88860905e-31j,\n",
       "       -3.34084762e+00+4.68039320e-17j, -3.29295138e+00-1.30140565e-16j,\n",
       "       -2.86387634e+00-1.38371217e-17j, -2.78526086e+00+1.38372085e-17j,\n",
       "       -2.55405387e+00+8.41796450e-18j, -2.55405387e+00-3.90292317e-20j,\n",
       "       -2.00000000e+00+2.76781780e-17j, -2.00000000e+00+0.00000000e+00j,\n",
       "       -2.00000000e+00-6.92669627e-23j, -1.79128785e+00-1.62015824e-16j,\n",
       "       -1.79128785e+00+6.66133815e-16j, -1.56155281e+00-1.08420629e-19j,\n",
       "       -1.56155281e+00+4.86762111e-18j, -1.30277564e+00+7.81015311e-20j,\n",
       "       -1.30277564e+00-2.30479106e-17j, -1.00000000e+00-1.00918417e-25j,\n",
       "       -1.00000000e+00-9.30787565e-17j, -1.00000000e+00-1.83465486e-20j,\n",
       "       -1.00000000e+00+3.55313405e-28j, -1.00000000e+00+4.17574818e-17j,\n",
       "       -1.00000000e+00-1.97911182e-18j, -7.91287847e-01+1.12292746e-18j,\n",
       "       -7.91287847e-01-4.04187442e-18j, -5.61552813e-01+4.37338057e-17j,\n",
       "       -5.61552813e-01-1.26080837e-17j, -3.02775638e-01-1.65527461e-17j,\n",
       "       -3.02775638e-01+5.20417040e-18j, -1.08914716e-15-6.96091816e-18j,\n",
       "       -8.66992872e-16+4.91891365e-18j, -8.48165530e-16-1.23295210e-18j,\n",
       "       -3.35586398e-16-3.10507583e-16j, -1.66130862e-16-1.13387771e-16j,\n",
       "       -1.40419692e-16+4.19038549e-16j,  6.08269118e-17+6.88166711e-17j,\n",
       "        6.65747890e-16-2.58445103e-18j,  2.45741808e-01-5.90931903e-17j,\n",
       "        2.45741808e-01+5.55078840e-17j,  5.07690516e-01+1.40618184e-17j,\n",
       "        5.23028722e-01+2.12868224e-17j,  7.54258192e-01-6.82437816e-18j,\n",
       "        7.54258192e-01-1.23667119e-21j,  1.00000000e+00+0.00000000e+00j,\n",
       "        1.00000000e+00+0.00000000e+00j,  1.00000000e+00+0.00000000e+00j,\n",
       "        1.00000000e+00+0.00000000e+00j,  1.00000000e+00-1.23177978e-16j,\n",
       "        1.00000000e+00-2.77555756e-17j,  1.00000000e+00+1.09287579e-16j,\n",
       "        1.00000000e+00-1.04083409e-16j,  1.00000000e+00+0.00000000e+00j,\n",
       "        1.00000000e+00+3.58438509e-16j,  1.24574181e+00-2.18135773e-19j,\n",
       "        1.24574181e+00+1.06617556e-16j,  1.47697128e+00-3.85219124e-16j,\n",
       "        1.49230948e+00-7.51968229e-17j,  1.75425819e+00-3.99983262e-18j,\n",
       "        1.75425819e+00-3.74857231e-19j,  2.00000000e+00-1.27899169e-16j,\n",
       "        2.00000000e+00-1.71303943e-17j,  2.00000000e+00+1.38777871e-17j,\n",
       "        2.00000000e+00+0.00000000e+00j,  2.00000000e+00+0.00000000e+00j,\n",
       "        2.00000000e+00-6.24500451e-17j,  2.00000000e+00+0.00000000e+00j,\n",
       "        2.00000000e+00+1.38772871e-17j,  2.30277564e+00-1.73474786e-18j,\n",
       "        2.30277564e+00+1.34444403e-17j,  2.56155281e+00+8.32667094e-17j,\n",
       "        2.56155281e+00+7.88838396e-16j,  2.79128785e+00-6.57950339e-18j,\n",
       "        2.79128785e+00-7.80919971e-18j,  3.00000000e+00+2.22044621e-16j,\n",
       "        3.00000000e+00-4.44089210e-16j,  3.00000000e+00+5.55111512e-17j,\n",
       "        3.00000000e+00+1.59594560e-16j,  3.00000000e+00-4.59701721e-16j,\n",
       "        3.00000000e+00+1.38777878e-17j,  3.30277564e+00-2.21583355e-16j,\n",
       "        3.30277564e+00-4.44091547e-16j,  3.56155281e+00+9.57210928e-18j,\n",
       "        3.56155281e+00+3.63391558e-16j,  3.79128785e+00-6.74343274e-19j,\n",
       "        3.79128785e+00+6.45330298e-19j,  4.00000000e+00+1.45716772e-16j,\n",
       "        4.00000000e+00-1.16668947e-17j,  4.00000000e+00-2.86229374e-17j,\n",
       "        4.55405387e+00-8.69486403e-20j,  4.55405387e+00+9.65366939e-18j,\n",
       "        4.78526086e+00+5.54905700e-16j,  4.86387634e+00-3.13109914e-15j,\n",
       "        5.29295138e+00-5.67947904e-21j,  5.34084762e+00-3.45725416e-23j,\n",
       "        5.55405387e+00-2.28410905e-17j,  5.55405387e+00-8.94244658e-16j])"
      ]
     },
     "execution_count": 272,
     "metadata": {},
     "output_type": "execute_result"
    }
   ],
   "source": [
    "len(H_full)\n",
    "\n",
    "e_full,y_full = np.linalg.eig(H_full)\n",
    "\n",
    "np.sort(e_full)"
   ]
  },
  {
   "cell_type": "code",
   "execution_count": 273,
   "id": "41cdf5d3",
   "metadata": {},
   "outputs": [
    {
     "data": {
      "text/plain": [
       "array([-3.34084762e+00, -3.29295138e+00, -2.86387634e+00, -2.78526086e+00,\n",
       "       -1.56155281e+00, -1.56155281e+00, -1.00000000e+00, -1.00000000e+00,\n",
       "       -1.00000000e+00, -1.00000000e+00, -5.61552813e-01, -5.61552813e-01,\n",
       "       -6.27731229e-16,  5.07690516e-01,  5.23028722e-01,  1.00000000e+00,\n",
       "        1.00000000e+00,  1.00000000e+00,  1.00000000e+00,  1.00000000e+00,\n",
       "        1.00000000e+00,  1.47697128e+00,  1.49230948e+00,  2.00000000e+00,\n",
       "        2.56155281e+00,  2.56155281e+00,  3.00000000e+00,  3.00000000e+00,\n",
       "        3.00000000e+00,  3.00000000e+00,  3.56155281e+00,  3.56155281e+00,\n",
       "        4.78526086e+00,  4.86387634e+00,  5.29295138e+00,  5.34084762e+00])"
      ]
     },
     "execution_count": 273,
     "metadata": {},
     "output_type": "execute_result"
    }
   ],
   "source": [
    "len(H_fix)\n",
    "\n",
    "e_fix,y_fix = np.linalg.eig(H_fix)\n",
    "\n",
    "np.sort(e_fix)"
   ]
  },
  {
   "cell_type": "code",
   "execution_count": null,
   "id": "e254b3f3",
   "metadata": {},
   "outputs": [],
   "source": []
  },
  {
   "cell_type": "code",
   "execution_count": null,
   "id": "92c6ef90",
   "metadata": {},
   "outputs": [],
   "source": []
  },
  {
   "cell_type": "code",
   "execution_count": null,
   "id": "8ab6923f",
   "metadata": {},
   "outputs": [],
   "source": []
  },
  {
   "cell_type": "code",
   "execution_count": 32,
   "id": "d2ebf0ca",
   "metadata": {},
   "outputs": [],
   "source": [
    "I0 = np.identity(len(K_up))\n",
    "H_K_fix = np.kron(K_up,I0) + np.kron(I0,K_up)"
   ]
  },
  {
   "cell_type": "code",
   "execution_count": 34,
   "id": "dc8c5fc2",
   "metadata": {},
   "outputs": [],
   "source": [
    "states_full = []\n",
    "for i in range(0,len(states)):\n",
    "    for j in range(0,len(states)):\n",
    "        states_full.append(states[i]*2**S+states[j])\n",
    "\n",
    "        \n",
    "def bi_u(V,S):\n",
    "    Su = int(S/2)\n",
    "    Vn_l = []\n",
    "    for i in range(0,Su):\n",
    "        M = 2**i + 2**(i+Su)\n",
    "        K = M & V\n",
    "        if K == M:\n",
    "            Vn = V\n",
    "            Vn_l.append(Vn)\n",
    "    return Vn_l\n",
    "\n",
    "u = 1\n",
    "S = 4\n",
    "Qf = len(states_full)\n",
    "index_map = {states_full[i]:i for i in range(Qf)}\n",
    "Hu_fix = np.array([[0 for i in range(Qf)] for j in range(Qf)])\n",
    "for i in range(0,Qf):\n",
    "    psi_t = bi_u(states_full[i],2*S)\n",
    "    for s in range(len(psi_t)):\n",
    "        Hu_fix[index_map[psi_t[s]],i] += u"
   ]
  },
  {
   "cell_type": "code",
   "execution_count": 35,
   "id": "f271c767",
   "metadata": {},
   "outputs": [],
   "source": [
    "H_fix2 = H_K_fix + Hu_fix"
   ]
  },
  {
   "cell_type": "code",
   "execution_count": 37,
   "id": "e32cc0f9",
   "metadata": {},
   "outputs": [
    {
     "data": {
      "text/plain": [
       "0.0"
      ]
     },
     "execution_count": 37,
     "metadata": {},
     "output_type": "execute_result"
    }
   ],
   "source": [
    "np.amax(np.abs(H_fix-H_fix2))"
   ]
  },
  {
   "cell_type": "code",
   "execution_count": 261,
   "id": "7996ce61",
   "metadata": {},
   "outputs": [],
   "source": [
    "def HT(c,cc):\n",
    "    h = K_up[c][cc]*I_down\n",
    "    if c == cc:\n",
    "        for i in range(0,S): \n",
    "            h = h + 1/2*t*qi.Operator.from_label(X_label(i,S)).data\n",
    "            h = h + 1/2*t*qi.Operator.from_label(Y_label(i,S)).data\n",
    "    return np.array(h)\n",
    "\n",
    "def HN(c,cc):\n",
    "    h = K_up[c][cc]*I_down*0\n",
    "    if c == cc:\n",
    "        for i in range(0,S): \n",
    "            h = h + 1/2*u*n_up[c][i]*(I_down - qi.Operator.from_label(Z_label(i,S)).data)\n",
    "    return np.array(h)\n",
    "\n",
    "Nc = 6\n",
    "Ndown = 2**S\n",
    "HT_full = [[0 for i in range(Nc*Ndown)] for j in range(Nc*Ndown)]\n",
    "for c in range(Nc):\n",
    "    for i in range(Ndown):\n",
    "        for cc in range(Nc):\n",
    "            for j in range(Ndown):\n",
    "                HT_full[Ndown*c + i][Ndown*cc + j] = HT(c,cc)[i][j]\n",
    "                \n",
    "Nc = 6\n",
    "Ndown = 2**S\n",
    "HN_full = [[0 for i in range(Nc*Ndown)] for j in range(Nc*Ndown)]\n",
    "for c in range(Nc):\n",
    "    for i in range(Ndown):\n",
    "        for cc in range(Nc):\n",
    "            for j in range(Ndown):\n",
    "                HN_full[Ndown*c + i][Ndown*cc + j] = HN(c,cc)[i][j]"
   ]
  },
  {
   "cell_type": "code",
   "execution_count": 269,
   "id": "8a53b4e2",
   "metadata": {},
   "outputs": [],
   "source": [
    "eN_full,yN_full = np.linalg.eig(HT_full)\n",
    "\n",
    "#np.sort(eN_full)"
   ]
  },
  {
   "cell_type": "code",
   "execution_count": 268,
   "id": "a3e99dc6",
   "metadata": {},
   "outputs": [],
   "source": [
    "eu_fix,yu_fix = np.linalg.eig(H_K_fix)\n",
    "\n",
    "#np.sort(eu_fix)"
   ]
  },
  {
   "cell_type": "code",
   "execution_count": 264,
   "id": "1cd3e7d2",
   "metadata": {},
   "outputs": [
    {
     "name": "stdout",
     "output_type": "stream",
     "text": [
      "[3, 5, 9, 6, 10, 12]\n"
     ]
    }
   ],
   "source": [
    "print(states)"
   ]
  },
  {
   "cell_type": "code",
   "execution_count": 265,
   "id": "6d15f612",
   "metadata": {},
   "outputs": [
    {
     "name": "stdout",
     "output_type": "stream",
     "text": [
      "0101\n",
      "0101\n",
      "0101\n",
      "1001\n",
      "-1.0\n",
      "(-1+0j)\n"
     ]
    }
   ],
   "source": [
    "c=1\n",
    "cc=1 \n",
    "i=1\n",
    "ii=2\n",
    "print(bi(states[c],4))\n",
    "print(bi(states[cc],4))\n",
    "print(bi(states[i],4))\n",
    "print(bi(states[ii],4))\n",
    "print(H_K_fix[c*6+i,cc*6+ii])\n",
    "print(HT(c,cc)[states[i],states[ii]])"
   ]
  },
  {
   "cell_type": "code",
   "execution_count": 254,
   "id": "24508d86",
   "metadata": {},
   "outputs": [
    {
     "data": {
      "text/plain": [
       "array([[ 0, -1,  0,  0,  1,  0],\n",
       "       [-1,  0, -1, -1,  0,  1],\n",
       "       [ 0, -1,  0,  0, -1,  0],\n",
       "       [ 0, -1,  0,  0, -1,  0],\n",
       "       [ 1,  0, -1, -1,  0, -1],\n",
       "       [ 0,  1,  0,  0, -1,  0]])"
      ]
     },
     "execution_count": 254,
     "metadata": {},
     "output_type": "execute_result"
    }
   ],
   "source": [
    "K_up"
   ]
  },
  {
   "cell_type": "code",
   "execution_count": null,
   "id": "24b6cc21",
   "metadata": {},
   "outputs": [],
   "source": []
  },
  {
   "cell_type": "code",
   "execution_count": 235,
   "id": "350cbf49",
   "metadata": {},
   "outputs": [
    {
     "name": "stdout",
     "output_type": "stream",
     "text": [
      "1100\n",
      "0011\n"
     ]
    },
    {
     "data": {
      "text/plain": [
       "0"
      ]
     },
     "execution_count": 235,
     "metadata": {},
     "output_type": "execute_result"
    }
   ],
   "source": [
    "c=5\n",
    "i=0\n",
    "print(bi(states[c],4))\n",
    "print(bi(states[i],4))\n",
    "Hu_fix[c*6+i,c*6+i]"
   ]
  },
  {
   "cell_type": "code",
   "execution_count": 236,
   "id": "0fec97d1",
   "metadata": {},
   "outputs": [
    {
     "name": "stdout",
     "output_type": "stream",
     "text": [
      "1100\n",
      "0011\n"
     ]
    },
    {
     "data": {
      "text/plain": [
       "0j"
      ]
     },
     "execution_count": 236,
     "metadata": {},
     "output_type": "execute_result"
    }
   ],
   "source": [
    "print(bi(states[c],4))\n",
    "print(bi(states[i],4))\n",
    "HN(c,c)[states[i],states[i]]"
   ]
  },
  {
   "cell_type": "code",
   "execution_count": null,
   "id": "be74216e",
   "metadata": {},
   "outputs": [],
   "source": []
  }
 ],
 "metadata": {
  "kernelspec": {
   "display_name": "Python 3",
   "language": "python",
   "name": "python3"
  },
  "language_info": {
   "codemirror_mode": {
    "name": "ipython",
    "version": 3
   },
   "file_extension": ".py",
   "mimetype": "text/x-python",
   "name": "python",
   "nbconvert_exporter": "python",
   "pygments_lexer": "ipython3",
   "version": "3.9.5"
  }
 },
 "nbformat": 4,
 "nbformat_minor": 5
}
