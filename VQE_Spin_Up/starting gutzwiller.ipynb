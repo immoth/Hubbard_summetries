{
 "cells": [
  {
   "cell_type": "markdown",
   "id": "ed3ffad1",
   "metadata": {},
   "source": [
    "# Comparing the Hamiltonians for spin down fixed and free"
   ]
  },
  {
   "cell_type": "code",
   "execution_count": 1,
   "id": "f373f1de",
   "metadata": {},
   "outputs": [],
   "source": [
    "import numpy as np\n",
    "import pandas as pd\n",
    "from qiskit import quantum_info as qi"
   ]
  },
  {
   "cell_type": "markdown",
   "id": "f48ed183",
   "metadata": {},
   "source": [
    "First we need to generate the fixed states.  This will be used for the spin up sector in both Hamiltonians and for the spin down sector in the fixed Hamiltonian.  It will also help us to convert between the two Hamiltonians."
   ]
  },
  {
   "cell_type": "code",
   "execution_count": 2,
   "id": "261a6c24",
   "metadata": {},
   "outputs": [
    {
     "data": {
      "text/plain": [
       "[3, 5, 9, 6, 10, 12]"
      ]
     },
     "execution_count": 2,
     "metadata": {},
     "output_type": "execute_result"
    }
   ],
   "source": [
    "#Creates all states with N fermions and S orbitals\n",
    "def Generate_States(N,S):\n",
    "    s = [i for i in range(0,N)]\n",
    "    psi_l = []\n",
    "    while s[0] < S-N:\n",
    "        ### create the state and store it\n",
    "        psi = 0\n",
    "        for i in s:\n",
    "            psi += 2**i\n",
    "        psi_l.append(psi)\n",
    "        ###\n",
    "        ###Update the particle locations\n",
    "        exit = 0\n",
    "        i = len(s)-1\n",
    "        while exit == 0:\n",
    "            if s[i] < S-len(s)+i:\n",
    "                s[i] += 1\n",
    "                for j in range(i+1,len(s)):\n",
    "                    s[j] = s[j-1]+1\n",
    "                exit = 1\n",
    "            else:\n",
    "                i -= 1\n",
    "        ###\n",
    "    ###Create the finale state\n",
    "    psi = 0\n",
    "    for i in s:\n",
    "        psi += 2**i\n",
    "    psi_l.append(psi)\n",
    "    ###\n",
    "    return psi_l\n",
    "\n",
    "states = Generate_States(2,4)\n",
    "states"
   ]
  },
  {
   "cell_type": "markdown",
   "id": "be38bedc",
   "metadata": {},
   "source": [
    "The states array holds a list of integeres whose binary representation corresponds to a state with the desired number of spins (two in this example).  We can use the binary representation of these integers to form the spin up sector of both Hamiltonian and the spin down sector of the fixed Hamiltoniain.  The integers themselves tell us which states in the full Hilbert space correspond to states in the fixed Hilbert space.  \n",
    "\n",
    "Because we are interested in the binary representation of the integers in 'states' let us build a function which returns the binary representation without the prefactos that python likes to include.  "
   ]
  },
  {
   "cell_type": "code",
   "execution_count": 3,
   "id": "43fdc7ac",
   "metadata": {},
   "outputs": [
    {
     "data": {
      "text/plain": [
       "'1010'"
      ]
     },
     "execution_count": 3,
     "metadata": {},
     "output_type": "execute_result"
    }
   ],
   "source": [
    "# A function to print out the binary representation of num given the total number of sites S\n",
    "def bi(num,S):\n",
    "    bi = bin(num)\n",
    "    out = \"\"\n",
    "    Sdiff = S - len(bi) + 2\n",
    "    for i in range(0,Sdiff):\n",
    "        out = out + '0'\n",
    "    for i in range(2,len(bi)):\n",
    "        out = out + bi[i]\n",
    "    return out\n",
    "\n",
    "bi(states[4],4)"
   ]
  },
  {
   "cell_type": "markdown",
   "id": "d9bbdff2",
   "metadata": {},
   "source": [
    "# Kinetic Part for a fixed spin\n",
    "\n",
    "Now let us generate the kinetic part of the Hamiltonian for a fixed number of spins.  This will be used in the spin up part of both Hamiltonians and the spin down part of the fixed Hamiltonian"
   ]
  },
  {
   "cell_type": "code",
   "execution_count": 4,
   "id": "533167ef",
   "metadata": {},
   "outputs": [
    {
     "data": {
      "text/plain": [
       "array([[ 0, -1,  0,  0,  1,  0],\n",
       "       [-1,  0, -1, -1,  0,  1],\n",
       "       [ 0, -1,  0,  0, -1,  0],\n",
       "       [ 0, -1,  0,  0, -1,  0],\n",
       "       [ 1,  0, -1, -1,  0, -1],\n",
       "       [ 0,  1,  0,  0, -1,  0]])"
      ]
     },
     "execution_count": 4,
     "metadata": {},
     "output_type": "execute_result"
    }
   ],
   "source": [
    "#Given a state V and the number of sites Su, returns matrix elements of K \n",
    "#in the form of [Vk,t] where Vk is the new vector and t is the matrix element t = <Vk|K|V>\n",
    "def bi_t(V,Su):\n",
    "    Vn_l = []\n",
    "    sign = 0\n",
    "    for i in range(0,Su):\n",
    "        #Spin up\n",
    "        M = 2**i + 2**np.mod(i+1,Su)\n",
    "        K = M & V\n",
    "        L = K ^ M\n",
    "        if L != 0 and L != M:\n",
    "            Vn = V - K + L\n",
    "            if i + 1 == np.mod(i+1,Su):\n",
    "                sign = 1\n",
    "            elif Su % 2 == 1:\n",
    "                sign = 1\n",
    "            else:\n",
    "                sign = -1\n",
    "            #print(i,':',bi(Vn))\n",
    "            Vn_l.append([Vn,sign])\n",
    "    return Vn_l\n",
    "\n",
    "#print(bi_t(states[4],4))\n",
    "\n",
    "#Returns the matrix representation of K\n",
    "t = -1\n",
    "S = 4\n",
    "Q = len(states)\n",
    "index_map = {states[i]:i for i in range(Q)}\n",
    "K_up = np.array([[0 for i in range(Q)] for j in range(Q)])\n",
    "for i in range(0,Q):\n",
    "    psi_t = bi_t(states[i],S)\n",
    "    for s in range(len(psi_t)):\n",
    "        K_up[index_map[psi_t[s][0]],i] = psi_t[s][1]*t\n",
    "\n",
    "\n",
    "        \n",
    "K_up"
   ]
  },
  {
   "cell_type": "markdown",
   "id": "fe46047f",
   "metadata": {},
   "source": [
    "# Free Hamiltonian\n",
    "\n",
    "## number operator"
   ]
  },
  {
   "cell_type": "code",
   "execution_count": 5,
   "id": "8b35187c",
   "metadata": {},
   "outputs": [
    {
     "data": {
      "text/plain": [
       "[[1, 1, 0, 0],\n",
       " [1, 0, 1, 0],\n",
       " [1, 0, 0, 1],\n",
       " [0, 1, 1, 0],\n",
       " [0, 1, 0, 1],\n",
       " [0, 0, 1, 1]]"
      ]
     },
     "execution_count": 5,
     "metadata": {},
     "output_type": "execute_result"
    }
   ],
   "source": [
    "# returns the matrix element <V|n_i|V> given the total number of sites S\n",
    "def bi_n(i,V,S):\n",
    "    num = bi(V,S)\n",
    "    if num[-i-1] == '1':\n",
    "        return 1\n",
    "    else:\n",
    "        return 0\n",
    "#print(bi(states[2],4))\n",
    "#print(bi_n(0,states[2],4))\n",
    "\n",
    "# returns an array which holds the value of n_{ci}\n",
    "u = 1\n",
    "S = 4\n",
    "Q = len(states)\n",
    "n_up = []\n",
    "for c in range(0,Q):\n",
    "    n_up_c = []\n",
    "    for i in range(0,S):\n",
    "        n_up_c.append(u*bi_n(i,states[c],S))\n",
    "    n_up.append(n_up_c)\n",
    "    \n",
    "n_up"
   ]
  },
  {
   "cell_type": "markdown",
   "id": "150b5072",
   "metadata": {},
   "source": [
    "## Blocks"
   ]
  },
  {
   "cell_type": "code",
   "execution_count": 6,
   "id": "1cdf43d4",
   "metadata": {},
   "outputs": [],
   "source": [
    "#Identity for the spin-down sector\n",
    "I_down = [[0 for i in range(2**S)] for j in range(2**S)]\n",
    "for i in range(2**S):\n",
    "    I_down[i][i] = 1\n",
    "I_down = np.array(I_down)\n",
    "    \n",
    "#Label for the Z part of the Hamiltonian\n",
    "def Z_label(i,Q):\n",
    "    out = ''\n",
    "    for j in range(0,Q):\n",
    "        if j == i:\n",
    "            out = out + 'Z'\n",
    "        else:\n",
    "            out = out + 'I'\n",
    "    return out[::-1]\n",
    "\n",
    "\n",
    "#Label for the X part of the Hamiltonain\n",
    "def X_label(i,Q):\n",
    "    out = ''\n",
    "    for j in range(0,Q):\n",
    "        if i < Q-1:\n",
    "            if i == j or i + 1 == j:\n",
    "                out = out + 'X'\n",
    "            else:\n",
    "                out = out + 'I'\n",
    "        else:\n",
    "            if j == 0 or j == Q-1:\n",
    "                out = out + 'X'\n",
    "            else:\n",
    "                out = out + 'Z'\n",
    "    return out[::-1]\n",
    "\n",
    "#Label for the Y part of the Hamiltonian\n",
    "def Y_label(i,Q):\n",
    "    out = ''\n",
    "    for j in range(0,Q):\n",
    "        if i < Q-1:\n",
    "            if i == j or i + 1 == j:\n",
    "                out = out + 'Y'\n",
    "            else:\n",
    "                out = out + 'I'\n",
    "        else:\n",
    "            if j == 0 or j == Q-1:\n",
    "                out = out + 'Y'\n",
    "            else:\n",
    "                out = out + 'Z'\n",
    "    return out[::-1]\n",
    "    \n",
    "#Hamltonian for block c, cc\n",
    "def Hcc(c,cc):\n",
    "    h = K_up[c][cc]*I_down\n",
    "    if c == cc:\n",
    "        for i in range(0,S): \n",
    "            h = h + 1/2*t*qi.Operator.from_label(X_label(i,S)).data\n",
    "            h = h + 1/2*t*qi.Operator.from_label(Y_label(i,S)).data\n",
    "            h = h + 1/2*u*n_up[c][i]*(I_down - qi.Operator.from_label(Z_label(i,S)).data)\n",
    "    return np.array(h)\n",
    "            \n"
   ]
  },
  {
   "cell_type": "markdown",
   "id": "35afe074",
   "metadata": {},
   "source": [
    "## Full Hamiltonian"
   ]
  },
  {
   "cell_type": "code",
   "execution_count": 7,
   "id": "1dbd0b4d",
   "metadata": {},
   "outputs": [],
   "source": [
    "Nc = 6\n",
    "Ndown = 2**S\n",
    "H_free = [[0 for i in range(Nc*Ndown)] for j in range(Nc*Ndown)]\n",
    "for c in range(Nc):\n",
    "    for i in range(Ndown):\n",
    "        for cc in range(Nc):\n",
    "            for j in range(Ndown):\n",
    "                H_free[Ndown*c + i][Ndown*cc + j] = Hcc(c,cc)[i][j]"
   ]
  },
  {
   "cell_type": "markdown",
   "id": "56663c71",
   "metadata": {},
   "source": [
    "# Fixed Hamiltonian"
   ]
  },
  {
   "cell_type": "markdown",
   "id": "3c344aa6",
   "metadata": {},
   "source": [
    "## Kinetic part"
   ]
  },
  {
   "cell_type": "code",
   "execution_count": 8,
   "id": "f82da4db",
   "metadata": {},
   "outputs": [],
   "source": [
    "I0 = np.identity(len(K_up))\n",
    "HK_fix = np.kron(K_up,I0) + np.kron(I0,K_up)"
   ]
  },
  {
   "cell_type": "markdown",
   "id": "2f00a011",
   "metadata": {},
   "source": [
    "## Interaction part"
   ]
  },
  {
   "cell_type": "code",
   "execution_count": 151,
   "id": "516eb945",
   "metadata": {},
   "outputs": [],
   "source": [
    "#States for both spin sectors together\n",
    "states_full = []\n",
    "for i in range(0,len(states)):\n",
    "    for j in range(0,len(states)):\n",
    "        states_full.append(states[i]*2**S+states[j])\n",
    "\n",
    "        \n",
    "#Returns a list [V,V,..] where the number of times V is in the list corresponds to the\n",
    "#number of spin pairs.\n",
    "def bi_u(V,S):\n",
    "    Su = int(S/2)\n",
    "    Vn_l = []\n",
    "    for i in range(0,Su):\n",
    "        M = 2**i + 2**(i+Su)\n",
    "        K = M & V\n",
    "        if K == M:\n",
    "            Vn = V\n",
    "            Vn_l.append(Vn)\n",
    "    return Vn_l\n",
    "#print(states_full)\n",
    "#print(bi_u(states_full[3],6))\n",
    "\n",
    "#the interaction part of the Hamiltonian\n",
    "u = 0.0\n",
    "S = 4\n",
    "Qf = len(states_full)\n",
    "index_map = {states_full[i]:i for i in range(Qf)}\n",
    "Hu_fix = np.array([[0 for i in range(Qf)] for j in range(Qf)])\n",
    "for i in range(0,Qf):\n",
    "    psi_t = bi_u(states_full[i],2*S)\n",
    "    for s in range(len(psi_t)):\n",
    "        Hu_fix[index_map[psi_t[s]],i] += u"
   ]
  },
  {
   "cell_type": "markdown",
   "id": "a0ee77f8",
   "metadata": {},
   "source": [
    "## Full Hamiltonian"
   ]
  },
  {
   "cell_type": "code",
   "execution_count": 152,
   "id": "70f96e78",
   "metadata": {},
   "outputs": [],
   "source": [
    "H_fix = HK_fix + Hu_fix"
   ]
  },
  {
   "cell_type": "markdown",
   "id": "17eaf45a",
   "metadata": {},
   "source": [
    "# Compare the two Hamiltonians\n",
    "\n",
    "We can compare the matrix elements of the Hamiltonians using the 'states' list.  The matrix element $H^{fixed}_{ci,dj}$ of the fixed Hamiltonian in block $(c,d)$ is mapped to the matrix element $H^{free}_{c~\\text{states}[i],d~\\text{states}[j]}$ for the free Hamiltoniain in the same block."
   ]
  },
  {
   "cell_type": "code",
   "execution_count": 153,
   "id": "0b4cbbb6",
   "metadata": {},
   "outputs": [
    {
     "name": "stdout",
     "output_type": "stream",
     "text": [
      "0101\n",
      "0101\n",
      "0101\n",
      "1001\n",
      "-1.0\n",
      "(-1+0j)\n",
      "(-1+0j)\n"
     ]
    }
   ],
   "source": [
    "c=1\n",
    "cc=1 \n",
    "i=1\n",
    "ii=2\n",
    "print(bi(states[c],4))\n",
    "print(bi(states[cc],4))\n",
    "print(bi(states[i],4))\n",
    "print(bi(states[ii],4))\n",
    "print(H_fix[c*6+i,cc*6+ii])\n",
    "print(Hcc(c,cc)[states[i],states[ii]])\n",
    "print(H_free[c*2**4 + states[i]][cc*2**4 + states[ii]])"
   ]
  },
  {
   "cell_type": "markdown",
   "id": "0e023477",
   "metadata": {},
   "source": [
    "We can also compare the energy levels.  Every energy level of the fixed Hamltoniain should be an energy level of the free Hamiltoniain"
   ]
  },
  {
   "cell_type": "code",
   "execution_count": 154,
   "id": "f09e16ef",
   "metadata": {},
   "outputs": [
    {
     "data": {
      "text/plain": [
       "array([-3.55405387e+00-8.02203439e-24j, -3.55405387e+00-7.88860905e-31j,\n",
       "       -3.34084762e+00+4.68039320e-17j, -3.29295138e+00-1.30140565e-16j,\n",
       "       -2.86387634e+00-1.38371217e-17j, -2.78526086e+00+1.38372085e-17j,\n",
       "       -2.55405387e+00+8.41796450e-18j, -2.55405387e+00-3.90292317e-20j,\n",
       "       -2.00000000e+00+2.76781780e-17j, -2.00000000e+00+0.00000000e+00j,\n",
       "       -2.00000000e+00-6.92669627e-23j, -1.79128785e+00-1.62015824e-16j,\n",
       "       -1.79128785e+00+6.66133815e-16j, -1.56155281e+00-1.08420629e-19j,\n",
       "       -1.56155281e+00+4.86762111e-18j, -1.30277564e+00+7.81015311e-20j,\n",
       "       -1.30277564e+00-2.30479106e-17j, -1.00000000e+00-1.00918417e-25j,\n",
       "       -1.00000000e+00-9.30787565e-17j, -1.00000000e+00-1.83465486e-20j,\n",
       "       -1.00000000e+00+3.55313405e-28j, -1.00000000e+00+4.17574818e-17j,\n",
       "       -1.00000000e+00-1.97911182e-18j, -7.91287847e-01+1.12292746e-18j,\n",
       "       -7.91287847e-01-4.04187442e-18j, -5.61552813e-01+4.37338057e-17j,\n",
       "       -5.61552813e-01-1.26080837e-17j, -3.02775638e-01-1.65527461e-17j,\n",
       "       -3.02775638e-01+5.20417040e-18j, -1.08914716e-15-6.96091816e-18j,\n",
       "       -8.66992872e-16+4.91891365e-18j, -8.48165530e-16-1.23295210e-18j,\n",
       "       -3.35586398e-16-3.10507583e-16j, -1.66130862e-16-1.13387771e-16j,\n",
       "       -1.40419692e-16+4.19038549e-16j,  6.08269118e-17+6.88166711e-17j,\n",
       "        6.65747890e-16-2.58445103e-18j,  2.45741808e-01-5.90931903e-17j,\n",
       "        2.45741808e-01+5.55078840e-17j,  5.07690516e-01+1.40618184e-17j,\n",
       "        5.23028722e-01+2.12868224e-17j,  7.54258192e-01-6.82437816e-18j,\n",
       "        7.54258192e-01-1.23667119e-21j,  1.00000000e+00+0.00000000e+00j,\n",
       "        1.00000000e+00+0.00000000e+00j,  1.00000000e+00+0.00000000e+00j,\n",
       "        1.00000000e+00+0.00000000e+00j,  1.00000000e+00-1.23177978e-16j,\n",
       "        1.00000000e+00-2.77555756e-17j,  1.00000000e+00+1.09287579e-16j,\n",
       "        1.00000000e+00-1.04083409e-16j,  1.00000000e+00+0.00000000e+00j,\n",
       "        1.00000000e+00+3.58438509e-16j,  1.24574181e+00-2.18135773e-19j,\n",
       "        1.24574181e+00+1.06617556e-16j,  1.47697128e+00-3.85219124e-16j,\n",
       "        1.49230948e+00-7.51968229e-17j,  1.75425819e+00-3.99983262e-18j,\n",
       "        1.75425819e+00-3.74857231e-19j,  2.00000000e+00-1.27899169e-16j,\n",
       "        2.00000000e+00-1.71303943e-17j,  2.00000000e+00+1.38777871e-17j,\n",
       "        2.00000000e+00+0.00000000e+00j,  2.00000000e+00+0.00000000e+00j,\n",
       "        2.00000000e+00-6.24500451e-17j,  2.00000000e+00+0.00000000e+00j,\n",
       "        2.00000000e+00+1.38772871e-17j,  2.30277564e+00-1.73474786e-18j,\n",
       "        2.30277564e+00+1.34444403e-17j,  2.56155281e+00+8.32667094e-17j,\n",
       "        2.56155281e+00+7.88838396e-16j,  2.79128785e+00-6.57950339e-18j,\n",
       "        2.79128785e+00-7.80919971e-18j,  3.00000000e+00+2.22044621e-16j,\n",
       "        3.00000000e+00-4.44089210e-16j,  3.00000000e+00+5.55111512e-17j,\n",
       "        3.00000000e+00+1.59594560e-16j,  3.00000000e+00-4.59701721e-16j,\n",
       "        3.00000000e+00+1.38777878e-17j,  3.30277564e+00-2.21583355e-16j,\n",
       "        3.30277564e+00-4.44091547e-16j,  3.56155281e+00+9.57210928e-18j,\n",
       "        3.56155281e+00+3.63391558e-16j,  3.79128785e+00-6.74343274e-19j,\n",
       "        3.79128785e+00+6.45330298e-19j,  4.00000000e+00+1.45716772e-16j,\n",
       "        4.00000000e+00-1.16668947e-17j,  4.00000000e+00-2.86229374e-17j,\n",
       "        4.55405387e+00-8.69486403e-20j,  4.55405387e+00+9.65366939e-18j,\n",
       "        4.78526086e+00+5.54905700e-16j,  4.86387634e+00-3.13109914e-15j,\n",
       "        5.29295138e+00-5.67947904e-21j,  5.34084762e+00-3.45725416e-23j,\n",
       "        5.55405387e+00-2.28410905e-17j,  5.55405387e+00-8.94244658e-16j])"
      ]
     },
     "execution_count": 154,
     "metadata": {},
     "output_type": "execute_result"
    }
   ],
   "source": [
    "e_free,y_free = np.linalg.eig(H_free)\n",
    "\n",
    "np.sort(e_free)"
   ]
  },
  {
   "cell_type": "code",
   "execution_count": 155,
   "id": "285bc31b",
   "metadata": {},
   "outputs": [
    {
     "data": {
      "text/plain": [
       "array([-4.00000000e+00+0.00000000e+00j, -4.00000000e+00+0.00000000e+00j,\n",
       "       -4.00000000e+00+0.00000000e+00j, -4.00000000e+00+0.00000000e+00j,\n",
       "       -2.00000000e+00+0.00000000e+00j, -2.00000000e+00+0.00000000e+00j,\n",
       "       -2.00000000e+00+0.00000000e+00j, -2.00000000e+00+0.00000000e+00j,\n",
       "       -2.00000000e+00+0.00000000e+00j, -2.00000000e+00+0.00000000e+00j,\n",
       "       -2.00000000e+00+0.00000000e+00j, -2.00000000e+00+0.00000000e+00j,\n",
       "       -1.79535360e-16+0.00000000e+00j, -1.70216296e-16+0.00000000e+00j,\n",
       "       -1.61812771e-16+0.00000000e+00j, -3.55773415e-17+0.00000000e+00j,\n",
       "       -2.18015587e-17-1.29000861e-16j, -2.18015587e-17+1.29000861e-16j,\n",
       "        3.57259426e-17-2.04654417e-16j,  3.57259426e-17+2.04654417e-16j,\n",
       "        1.34561858e-16+0.00000000e+00j,  3.17067822e-16+0.00000000e+00j,\n",
       "        3.40097149e-16+0.00000000e+00j,  6.82375074e-16+0.00000000e+00j,\n",
       "        2.00000000e+00+0.00000000e+00j,  2.00000000e+00+0.00000000e+00j,\n",
       "        2.00000000e+00+0.00000000e+00j,  2.00000000e+00+0.00000000e+00j,\n",
       "        2.00000000e+00+0.00000000e+00j,  2.00000000e+00+0.00000000e+00j,\n",
       "        2.00000000e+00+0.00000000e+00j,  2.00000000e+00+0.00000000e+00j,\n",
       "        4.00000000e+00+0.00000000e+00j,  4.00000000e+00+0.00000000e+00j,\n",
       "        4.00000000e+00+0.00000000e+00j,  4.00000000e+00+0.00000000e+00j])"
      ]
     },
     "execution_count": 155,
     "metadata": {},
     "output_type": "execute_result"
    }
   ],
   "source": [
    "e_fix,y_fix = np.linalg.eig(H_fix)\n",
    "\n",
    "np.sort(e_fix)"
   ]
  },
  {
   "cell_type": "code",
   "execution_count": 156,
   "id": "5cd4be6d",
   "metadata": {},
   "outputs": [
    {
     "data": {
      "text/plain": [
       "['yes',\n",
       " 'yes',\n",
       " 'yes',\n",
       " 'yes',\n",
       " 'yes',\n",
       " 'yes',\n",
       " 'yes',\n",
       " 'yes',\n",
       " 'yes',\n",
       " 'yes',\n",
       " 'yes',\n",
       " 'yes',\n",
       " 'yes',\n",
       " 'yes',\n",
       " 'yes',\n",
       " 'yes',\n",
       " 'yes',\n",
       " 'yes',\n",
       " 'yes',\n",
       " 'yes',\n",
       " 'yes',\n",
       " 'yes',\n",
       " 'yes',\n",
       " 'yes',\n",
       " 'yes',\n",
       " 'yes',\n",
       " 'yes',\n",
       " 'yes',\n",
       " 'yes',\n",
       " 'yes',\n",
       " 'yes',\n",
       " 'yes']"
      ]
     },
     "execution_count": 156,
     "metadata": {},
     "output_type": "execute_result"
    }
   ],
   "source": [
    "match = []\n",
    "for ex in e_fix:\n",
    "    test = 0\n",
    "    for er in e_free:\n",
    "        if ex - 10**(-8) < er < ex + 10**(-8):\n",
    "            test = 1\n",
    "    if test > 0.5 : \n",
    "        match.append('yes')\n",
    "        \n",
    "match     "
   ]
  },
  {
   "cell_type": "code",
   "execution_count": null,
   "id": "49dee2dd",
   "metadata": {},
   "outputs": [],
   "source": []
  },
  {
   "cell_type": "code",
   "execution_count": 173,
   "id": "0b2c6ab6",
   "metadata": {},
   "outputs": [
    {
     "name": "stdout",
     "output_type": "stream",
     "text": [
      "(-4.000000000000005+0j)\n"
     ]
    },
    {
     "data": {
      "text/plain": [
       "(-3.9999999999999996+0j)"
      ]
     },
     "execution_count": 173,
     "metadata": {},
     "output_type": "execute_result"
    }
   ],
   "source": [
    "e_fix,y_fix = np.linalg.eig(H_fix)\n",
    "psi_fix = np.transpose(y_fix)\n",
    "order = np.argsort(e_fix)\n",
    "\n",
    "print(e_fix[order[0]])\n",
    "np.dot(np.conjugate(psi_fix[order[0]]),np.dot(H_fix,psi_fix[order[0]]))"
   ]
  },
  {
   "cell_type": "code",
   "execution_count": 178,
   "id": "6e947f49",
   "metadata": {},
   "outputs": [
    {
     "data": {
      "text/plain": [
       "array([-0.00124696+0.j,  0.13958669+0.j,  0.14083366+0.j,  0.14083366+0.j,\n",
       "        0.14208062+0.j,  0.00124696+0.j,  0.18988896+0.j,  0.25241945+0.j,\n",
       "        0.06253049+0.j,  0.06253049+0.j, -0.12735847+0.j, -0.18988896+0.j,\n",
       "        0.19113592+0.j,  0.11283276+0.j, -0.07830317+0.j, -0.07830317+0.j,\n",
       "       -0.26943909+0.j, -0.19113592+0.j,  0.19113592+0.j,  0.11283276+0.j,\n",
       "       -0.07830317+0.j, -0.07830317+0.j, -0.26943909+0.j, -0.19113592+0.j,\n",
       "        0.19238289+0.j, -0.02675394+0.j, -0.21913682+0.j, -0.21913682+0.j,\n",
       "       -0.41151971+0.j, -0.19238289+0.j,  0.00124696+0.j, -0.13958669+0.j,\n",
       "       -0.14083366+0.j, -0.14083366+0.j, -0.14208062+0.j, -0.00124696+0.j])"
      ]
     },
     "execution_count": 178,
     "metadata": {},
     "output_type": "execute_result"
    }
   ],
   "source": [
    "psi_fix[order[0]]"
   ]
  },
  {
   "cell_type": "code",
   "execution_count": 177,
   "id": "861306ed",
   "metadata": {},
   "outputs": [
    {
     "data": {
      "text/plain": [
       "'0011'"
      ]
     },
     "execution_count": 177,
     "metadata": {},
     "output_type": "execute_result"
    }
   ],
   "source": [
    "bi(states[0],4)"
   ]
  },
  {
   "cell_type": "code",
   "execution_count": 160,
   "id": "69d501b3",
   "metadata": {},
   "outputs": [
    {
     "name": "stdout",
     "output_type": "stream",
     "text": [
      "0.7071067811865475\n",
      "8.659560562354932e-17\n",
      "-0.7071067811865475\n",
      "-1.7319121124709863e-16\n",
      "0.7071067811865475\n"
     ]
    }
   ],
   "source": [
    "N=2\n",
    "print(1/np.sqrt(N)*np.sin(1*np.pi/N))\n",
    "print(1/np.sqrt(N)*np.sin(2*np.pi/N))\n",
    "print(1/np.sqrt(N)*np.sin(3*np.pi/N))\n",
    "print(1/np.sqrt(N)*np.sin(4*np.pi/N))\n",
    "print(1/np.sqrt(N)*np.sin(5*np.pi/N))"
   ]
  },
  {
   "cell_type": "code",
   "execution_count": 161,
   "id": "350403d6",
   "metadata": {},
   "outputs": [
    {
     "data": {
      "text/plain": [
       "0.9999999999999998"
      ]
     },
     "execution_count": 161,
     "metadata": {},
     "output_type": "execute_result"
    }
   ],
   "source": [
    "np.dot(psi_fix[0],psi_fix[0])"
   ]
  },
  {
   "cell_type": "code",
   "execution_count": 167,
   "id": "e40821cd",
   "metadata": {},
   "outputs": [
    {
     "data": {
      "text/plain": [
       "array([-4.00000000e+00+0.00000000e+00j, -4.00000000e+00+0.00000000e+00j,\n",
       "       -4.00000000e+00+0.00000000e+00j, -4.00000000e+00+0.00000000e+00j,\n",
       "       -2.00000000e+00+0.00000000e+00j, -2.00000000e+00+0.00000000e+00j,\n",
       "       -2.00000000e+00+0.00000000e+00j, -2.00000000e+00+0.00000000e+00j,\n",
       "       -2.00000000e+00+0.00000000e+00j, -2.00000000e+00+0.00000000e+00j,\n",
       "       -2.00000000e+00+0.00000000e+00j, -2.00000000e+00+0.00000000e+00j,\n",
       "       -1.79535360e-16+0.00000000e+00j, -1.70216296e-16+0.00000000e+00j,\n",
       "       -1.61812771e-16+0.00000000e+00j, -3.55773415e-17+0.00000000e+00j,\n",
       "       -2.18015587e-17-1.29000861e-16j, -2.18015587e-17+1.29000861e-16j,\n",
       "        3.57259426e-17-2.04654417e-16j,  3.57259426e-17+2.04654417e-16j,\n",
       "        1.34561858e-16+0.00000000e+00j,  3.17067822e-16+0.00000000e+00j,\n",
       "        3.40097149e-16+0.00000000e+00j,  6.82375074e-16+0.00000000e+00j,\n",
       "        2.00000000e+00+0.00000000e+00j,  2.00000000e+00+0.00000000e+00j,\n",
       "        2.00000000e+00+0.00000000e+00j,  2.00000000e+00+0.00000000e+00j,\n",
       "        2.00000000e+00+0.00000000e+00j,  2.00000000e+00+0.00000000e+00j,\n",
       "        2.00000000e+00+0.00000000e+00j,  2.00000000e+00+0.00000000e+00j,\n",
       "        4.00000000e+00+0.00000000e+00j,  4.00000000e+00+0.00000000e+00j,\n",
       "        4.00000000e+00+0.00000000e+00j,  4.00000000e+00+0.00000000e+00j])"
      ]
     },
     "execution_count": 167,
     "metadata": {},
     "output_type": "execute_result"
    }
   ],
   "source": [
    "np.sort(e_fix)"
   ]
  },
  {
   "cell_type": "code",
   "execution_count": 191,
   "id": "4c0a1b50",
   "metadata": {},
   "outputs": [
    {
     "data": {
      "text/plain": [
       "[2, 1]"
      ]
     },
     "execution_count": 191,
     "metadata": {},
     "output_type": "execute_result"
    }
   ],
   "source": [
    "def findx(V,S):\n",
    "    vl = bi(V,S)\n",
    "    out = []\n",
    "    for i,n in enumerate(vl):\n",
    "        #print(n)\n",
    "        if n == '1':\n",
    "            out.append(S-1-i)\n",
    "    return out\n",
    "\n",
    "findx(states[3],4)"
   ]
  },
  {
   "cell_type": "code",
   "execution_count": 293,
   "id": "87c4e426",
   "metadata": {},
   "outputs": [
    {
     "name": "stdout",
     "output_type": "stream",
     "text": [
      "(1+0j)\n",
      "1.2412670766236366e-16\n"
     ]
    }
   ],
   "source": [
    "gutz = []\n",
    "for V in states:\n",
    "    x = findx(V,S)\n",
    "    x1 = x[0]\n",
    "    x2 = x[1]\n",
    "    gutz.append(1/2*np.exp(1j*(x1+x2)*np.pi/4)*np.sin((x1-x2)*np.pi/4))\n",
    "    \n",
    "print(np.dot(np.conjugate(gutz),gutz))\n",
    "print(np.amax(np.abs(np.dot(K_up,gutz)+2*np.array(gutz))))"
   ]
  },
  {
   "cell_type": "code",
   "execution_count": 294,
   "id": "2fcdcd57",
   "metadata": {},
   "outputs": [
    {
     "data": {
      "text/plain": [
       "[(0.25+0.24999999999999994j),\n",
       " (3.061616997868383e-17+0.5j),\n",
       " (-0.25+0.25000000000000006j),\n",
       " (-0.24999999999999994+0.25j),\n",
       " (-0.5+6.123233995736766e-17j),\n",
       " (-0.25000000000000006-0.24999999999999994j)]"
      ]
     },
     "execution_count": 294,
     "metadata": {},
     "output_type": "execute_result"
    }
   ],
   "source": [
    "gutz"
   ]
  },
  {
   "cell_type": "code",
   "execution_count": 254,
   "id": "b8070d13",
   "metadata": {},
   "outputs": [
    {
     "data": {
      "text/plain": [
       "array([[ 0, -1,  0,  0,  1,  0],\n",
       "       [-1,  0, -1, -1,  0,  1],\n",
       "       [ 0, -1,  0,  0, -1,  0],\n",
       "       [ 0, -1,  0,  0, -1,  0],\n",
       "       [ 1,  0, -1, -1,  0, -1],\n",
       "       [ 0,  1,  0,  0, -1,  0]])"
      ]
     },
     "execution_count": 254,
     "metadata": {},
     "output_type": "execute_result"
    }
   ],
   "source": [
    "K_up"
   ]
  },
  {
   "cell_type": "code",
   "execution_count": 257,
   "id": "3e24e674",
   "metadata": {},
   "outputs": [
    {
     "data": {
      "text/plain": [
       "'1001'"
      ]
     },
     "execution_count": 257,
     "metadata": {},
     "output_type": "execute_result"
    }
   ],
   "source": [
    "bi(states[2],S)"
   ]
  },
  {
   "cell_type": "code",
   "execution_count": 193,
   "id": "d28b574b",
   "metadata": {},
   "outputs": [
    {
     "name": "stdout",
     "output_type": "stream",
     "text": [
      "-2.0000000000000004\n"
     ]
    },
    {
     "data": {
      "text/plain": [
       "-2.0000000000000004"
      ]
     },
     "execution_count": 193,
     "metadata": {},
     "output_type": "execute_result"
    }
   ],
   "source": [
    "e_k,y_k = np.linalg.eig(K_up)\n",
    "psi_k = np.transpose(y_k)\n",
    "order = np.argsort(e_k)\n",
    "\n",
    "print(e_k[order[0]])\n",
    "np.dot(np.conjugate(psi_k[order[0]]),np.dot(K_up,psi_k[order[0]]))"
   ]
  },
  {
   "cell_type": "code",
   "execution_count": 222,
   "id": "f00d9ddf",
   "metadata": {},
   "outputs": [
    {
     "data": {
      "text/plain": [
       "array([ 4.4408921e-16,  2.0000000e+00, -2.0000000e+00, -2.0000000e+00,\n",
       "        2.0000000e+00,  0.0000000e+00])"
      ]
     },
     "execution_count": 222,
     "metadata": {},
     "output_type": "execute_result"
    }
   ],
   "source": [
    "e_k"
   ]
  },
  {
   "cell_type": "code",
   "execution_count": null,
   "id": "87cdd306",
   "metadata": {},
   "outputs": [],
   "source": []
  }
 ],
 "metadata": {
  "kernelspec": {
   "display_name": "Python 3",
   "language": "python",
   "name": "python3"
  },
  "language_info": {
   "codemirror_mode": {
    "name": "ipython",
    "version": 3
   },
   "file_extension": ".py",
   "mimetype": "text/x-python",
   "name": "python",
   "nbconvert_exporter": "python",
   "pygments_lexer": "ipython3",
   "version": "3.9.5"
  }
 },
 "nbformat": 4,
 "nbformat_minor": 5
}
