{
 "cells": [
  {
   "cell_type": "markdown",
   "metadata": {},
   "source": [
    "# Symmetry Reduced VQE"
   ]
  },
  {
   "cell_type": "markdown",
   "metadata": {},
   "source": [
    "The first step is to find the blocks of a Hamiltonian which has have been reduced due to the application of some symmerty consideration.  Each block will then have an associated wavefunction,\n",
    "$$ |\\psi^b> = U(\\phi^b_1,\\phi^b_1,\\ldots)|000\\ldots> $$\n",
    "where $|000\\ldots>$ is the state in which $Q$ qubits are in their ground state with $Q$ deterimed by the size of the block $N$ as $Q = \\log_2 N$ rounded up and $U$ is a linear transformation with some set of parameters $\\{\\phi^b_i\\}$ which depend on the block.  \n",
    "\n",
    "For this notebook we will use the linear transformation Anzatz from here: https://arxiv.org/abs/1907.01493.  It gives $U$ as applying y-rotations to each qubit, then coupling each qubit pair with a C-not gate and repreating. \n",
    "$$ U^b_i = \\prod_q R^y_q(\\phi_{q0}^b)\\prod_{q'}C_{4q',4q'+1}C_{4q'+3,4q'+2}\\prod_{q''}C_{4q''+1,4q''+2}C_{4q''+4,4q''+3} $$\n",
    "$$ U^b = \\prod_i U^b_i $$\n",
    "where the $\\pm$ in the subscripts of the C-not gates alternates (see below for an exact definition).\n",
    "\n",
    "The Hamiltonian might be block diagonal or it might have some nonzero off diagonal blocks.  In the most general case, the minimization function invovles wave functions from different blocks.  \n",
    "\n",
    "$$ E = \\sum_{a,b}<\\psi^a|H_{ab}|\\psi^b> $$\n",
    "\n",
    "To minimize this function we will use the simultaneous perturbation stochastic approximation algorithm."
   ]
  },
  {
   "cell_type": "markdown",
   "metadata": {},
   "source": [
    "## Hamiltonian"
   ]
  },
  {
   "cell_type": "markdown",
   "metadata": {},
   "source": [
    "As an example for this notebook we will use the Hamiltonian generated from Example_Matrix_Creation_Sign_Fix.ipynb\n",
    "\n",
    "I do not know how to export the summed operator from OpFlow so I will import the numpy matrix and then re-extract the Pauli terms here."
   ]
  },
  {
   "cell_type": "code",
   "execution_count": 1,
   "metadata": {},
   "outputs": [],
   "source": [
    "import numpy as np \n",
    "\n",
    "H = np.load('Hamiltonian_Example.npy')"
   ]
  },
  {
   "cell_type": "code",
   "execution_count": 2,
   "metadata": {},
   "outputs": [
    {
     "data": {
      "text/plain": [
       "array([-3.34084762e+00+0.00000000e+00j, -3.29295138e+00+0.00000000e+00j,\n",
       "       -2.86387634e+00+0.00000000e+00j, -2.78526086e+00+0.00000000e+00j,\n",
       "       -1.56155281e+00+0.00000000e+00j, -1.56155281e+00+0.00000000e+00j,\n",
       "       -1.00000000e+00+0.00000000e+00j, -1.00000000e+00+0.00000000e+00j,\n",
       "       -1.00000000e+00+0.00000000e+00j, -1.00000000e+00+0.00000000e+00j,\n",
       "       -5.61552813e-01+0.00000000e+00j, -5.61552813e-01+0.00000000e+00j,\n",
       "        7.31507328e-16+0.00000000e+00j,  5.07690516e-01+0.00000000e+00j,\n",
       "        5.23028722e-01+0.00000000e+00j,  1.00000000e+00+0.00000000e+00j,\n",
       "        1.00000000e+00+0.00000000e+00j,  1.00000000e+00+0.00000000e+00j,\n",
       "        1.00000000e+00+0.00000000e+00j,  1.00000000e+00-1.27192026e-16j,\n",
       "        1.00000000e+00+1.27192026e-16j,  1.47697128e+00+0.00000000e+00j,\n",
       "        1.49230948e+00+0.00000000e+00j,  2.00000000e+00+0.00000000e+00j,\n",
       "        2.56155281e+00+0.00000000e+00j,  2.56155281e+00+0.00000000e+00j,\n",
       "        3.00000000e+00+0.00000000e+00j,  3.00000000e+00+0.00000000e+00j,\n",
       "        3.00000000e+00+0.00000000e+00j,  3.00000000e+00+0.00000000e+00j,\n",
       "        3.56155281e+00+0.00000000e+00j,  3.56155281e+00+0.00000000e+00j,\n",
       "        4.78526086e+00+0.00000000e+00j,  4.86387634e+00+0.00000000e+00j,\n",
       "        5.29295138e+00+0.00000000e+00j,  5.34084762e+00+0.00000000e+00j])"
      ]
     },
     "execution_count": 2,
     "metadata": {},
     "output_type": "execute_result"
    }
   ],
   "source": [
    "e,y = np.linalg.eig(H)\n",
    "\n",
    "np.sort(e)"
   ]
  },
  {
   "cell_type": "markdown",
   "metadata": {},
   "source": [
    "Now that the Hamiltonian has been imported let us break it into blocks and exctract the Pauli coordinates.  "
   ]
  },
  {
   "cell_type": "code",
   "execution_count": 174,
   "metadata": {},
   "outputs": [],
   "source": [
    "from qiskit.opflow import (I, X, Y, Z)\n",
    "from qiskit.opflow.primitive_ops import MatrixOp\n",
    "\n",
    "# Function to add elements to a block so that it fits onto qubits\n",
    "def complete_diagonal(b11):\n",
    "    size = 2**np.ceil(np.log2(len(b11)))\n",
    "    for v in b11:\n",
    "        while len(v) < size:\n",
    "            v.append(0.0)\n",
    "    while len(b11) < size:\n",
    "        i = len(b11)\n",
    "        vnew = [0.0 for i in range(0,8)]\n",
    "        vnew[i] = 10\n",
    "        b11.append(vnew)\n",
    "    return b11\n",
    "\n",
    "def complete_off_diagonal(b11):\n",
    "    size = 2**np.ceil(np.log2(len(b11)))\n",
    "    for v in b11:\n",
    "        while len(v) < size:\n",
    "            v.append(0.0)\n",
    "    while len(b11) < size:\n",
    "        i = len(b11)\n",
    "        vnew = [0.0 for i in range(0,8)]\n",
    "        b11.append(vnew)\n",
    "    return b11\n",
    "\n"
   ]
  },
  {
   "cell_type": "code",
   "execution_count": 175,
   "metadata": {},
   "outputs": [],
   "source": [
    "import math\n",
    "N = 4\n",
    "S = 2\n",
    "bL = math.comb(4,2)\n",
    "\n",
    "blocks = {}\n",
    "for bi in range(bL):\n",
    "    for bj in range(bi,bL):\n",
    "        bij = [[H[i + bL*bi][j + bL*bj] for j in range(0,bL)] for i in range(0,bL)]\n",
    "        if np.amax(np.abs(bij)) > 10**(-5):\n",
    "            if bi == bj:\n",
    "                bij = complete_diagonal(bij)\n",
    "            else:\n",
    "                bij = complete_off_diagonal(bij)\n",
    "            bij_pauli = MatrixOp(bij).to_pauli_op()\n",
    "            blocks[str(bi) + ',' + str(bj)] = bij_pauli\n",
    "        "
   ]
  },
  {
   "cell_type": "markdown",
   "metadata": {},
   "source": [
    "The object *blocks* is a dictionary of *SumedOp* lists of *PauliOp* objects.  "
   ]
  },
  {
   "cell_type": "code",
   "execution_count": 176,
   "metadata": {},
   "outputs": [
    {
     "data": {
      "text/html": [
       "<div>\n",
       "<style scoped>\n",
       "    .dataframe tbody tr th:only-of-type {\n",
       "        vertical-align: middle;\n",
       "    }\n",
       "\n",
       "    .dataframe tbody tr th {\n",
       "        vertical-align: top;\n",
       "    }\n",
       "\n",
       "    .dataframe thead th {\n",
       "        text-align: right;\n",
       "    }\n",
       "</style>\n",
       "<table border=\"1\" class=\"dataframe\">\n",
       "  <thead>\n",
       "    <tr style=\"text-align: right;\">\n",
       "      <th></th>\n",
       "      <th>0</th>\n",
       "      <th>1</th>\n",
       "      <th>2</th>\n",
       "      <th>3</th>\n",
       "      <th>4</th>\n",
       "      <th>5</th>\n",
       "      <th>6</th>\n",
       "      <th>7</th>\n",
       "    </tr>\n",
       "  </thead>\n",
       "  <tbody>\n",
       "    <tr>\n",
       "      <th>0</th>\n",
       "      <td>-1.0+0.0j</td>\n",
       "      <td>0.0+0.0j</td>\n",
       "      <td>0.0+0.0j</td>\n",
       "      <td>0.0+0.0j</td>\n",
       "      <td>0.0+0.0j</td>\n",
       "      <td>0.0+0.0j</td>\n",
       "      <td>0.0+0.0j</td>\n",
       "      <td>0.0+0.0j</td>\n",
       "    </tr>\n",
       "    <tr>\n",
       "      <th>1</th>\n",
       "      <td>0.0+0.0j</td>\n",
       "      <td>-1.0+0.0j</td>\n",
       "      <td>0.0+0.0j</td>\n",
       "      <td>0.0+0.0j</td>\n",
       "      <td>0.0+0.0j</td>\n",
       "      <td>0.0+0.0j</td>\n",
       "      <td>0.0+0.0j</td>\n",
       "      <td>0.0+0.0j</td>\n",
       "    </tr>\n",
       "    <tr>\n",
       "      <th>2</th>\n",
       "      <td>0.0+0.0j</td>\n",
       "      <td>0.0+0.0j</td>\n",
       "      <td>-1.0+0.0j</td>\n",
       "      <td>0.0+0.0j</td>\n",
       "      <td>0.0+0.0j</td>\n",
       "      <td>0.0+0.0j</td>\n",
       "      <td>0.0+0.0j</td>\n",
       "      <td>0.0+0.0j</td>\n",
       "    </tr>\n",
       "    <tr>\n",
       "      <th>3</th>\n",
       "      <td>0.0+0.0j</td>\n",
       "      <td>0.0+0.0j</td>\n",
       "      <td>0.0+0.0j</td>\n",
       "      <td>-1.0+0.0j</td>\n",
       "      <td>0.0+0.0j</td>\n",
       "      <td>0.0+0.0j</td>\n",
       "      <td>0.0+0.0j</td>\n",
       "      <td>0.0+0.0j</td>\n",
       "    </tr>\n",
       "    <tr>\n",
       "      <th>4</th>\n",
       "      <td>0.0+0.0j</td>\n",
       "      <td>0.0+0.0j</td>\n",
       "      <td>0.0+0.0j</td>\n",
       "      <td>0.0+0.0j</td>\n",
       "      <td>-1.0+0.0j</td>\n",
       "      <td>0.0+0.0j</td>\n",
       "      <td>0.0+0.0j</td>\n",
       "      <td>0.0+0.0j</td>\n",
       "    </tr>\n",
       "    <tr>\n",
       "      <th>5</th>\n",
       "      <td>0.0+0.0j</td>\n",
       "      <td>0.0+0.0j</td>\n",
       "      <td>0.0+0.0j</td>\n",
       "      <td>0.0+0.0j</td>\n",
       "      <td>0.0+0.0j</td>\n",
       "      <td>-1.0+0.0j</td>\n",
       "      <td>0.0+0.0j</td>\n",
       "      <td>0.0+0.0j</td>\n",
       "    </tr>\n",
       "    <tr>\n",
       "      <th>6</th>\n",
       "      <td>0.0+0.0j</td>\n",
       "      <td>0.0+0.0j</td>\n",
       "      <td>0.0+0.0j</td>\n",
       "      <td>0.0+0.0j</td>\n",
       "      <td>0.0+0.0j</td>\n",
       "      <td>0.0+0.0j</td>\n",
       "      <td>0.0+0.0j</td>\n",
       "      <td>0.0+0.0j</td>\n",
       "    </tr>\n",
       "    <tr>\n",
       "      <th>7</th>\n",
       "      <td>0.0+0.0j</td>\n",
       "      <td>0.0+0.0j</td>\n",
       "      <td>0.0+0.0j</td>\n",
       "      <td>0.0+0.0j</td>\n",
       "      <td>0.0+0.0j</td>\n",
       "      <td>0.0+0.0j</td>\n",
       "      <td>0.0+0.0j</td>\n",
       "      <td>0.0+0.0j</td>\n",
       "    </tr>\n",
       "  </tbody>\n",
       "</table>\n",
       "</div>"
      ],
      "text/plain": [
       "          0         1         2         3         4         5         6  \\\n",
       "0 -1.0+0.0j  0.0+0.0j  0.0+0.0j  0.0+0.0j  0.0+0.0j  0.0+0.0j  0.0+0.0j   \n",
       "1  0.0+0.0j -1.0+0.0j  0.0+0.0j  0.0+0.0j  0.0+0.0j  0.0+0.0j  0.0+0.0j   \n",
       "2  0.0+0.0j  0.0+0.0j -1.0+0.0j  0.0+0.0j  0.0+0.0j  0.0+0.0j  0.0+0.0j   \n",
       "3  0.0+0.0j  0.0+0.0j  0.0+0.0j -1.0+0.0j  0.0+0.0j  0.0+0.0j  0.0+0.0j   \n",
       "4  0.0+0.0j  0.0+0.0j  0.0+0.0j  0.0+0.0j -1.0+0.0j  0.0+0.0j  0.0+0.0j   \n",
       "5  0.0+0.0j  0.0+0.0j  0.0+0.0j  0.0+0.0j  0.0+0.0j -1.0+0.0j  0.0+0.0j   \n",
       "6  0.0+0.0j  0.0+0.0j  0.0+0.0j  0.0+0.0j  0.0+0.0j  0.0+0.0j  0.0+0.0j   \n",
       "7  0.0+0.0j  0.0+0.0j  0.0+0.0j  0.0+0.0j  0.0+0.0j  0.0+0.0j  0.0+0.0j   \n",
       "\n",
       "          7  \n",
       "0  0.0+0.0j  \n",
       "1  0.0+0.0j  \n",
       "2  0.0+0.0j  \n",
       "3  0.0+0.0j  \n",
       "4  0.0+0.0j  \n",
       "5  0.0+0.0j  \n",
       "6  0.0+0.0j  \n",
       "7  0.0+0.0j  "
      ]
     },
     "execution_count": 176,
     "metadata": {},
     "output_type": "execute_result"
    }
   ],
   "source": [
    "import pandas as pd\n",
    "\n",
    "pd.DataFrame(blocks['3,4'].to_matrix())"
   ]
  },
  {
   "cell_type": "code",
   "execution_count": 177,
   "metadata": {},
   "outputs": [
    {
     "name": "stdout",
     "output_type": "stream",
     "text": [
      "SummedOp([\n",
      "  3.25 * III,\n",
      "  -0.5 * IIX,\n",
      "  0.25 * IIZ,\n",
      "  -0.25 * IXI,\n",
      "  -0.25 * IXX,\n",
      "  0.25 * IXZ,\n",
      "  -0.25 * IYY,\n",
      "  -2.25 * IZI,\n",
      "  -0.5 * IZX,\n",
      "  0.25 * IZZ,\n",
      "  0.5 * XII,\n",
      "  -0.25 * XXI,\n",
      "  -0.25 * XXX,\n",
      "  -0.25 * XXZ,\n",
      "  0.25 * XYY,\n",
      "  0.5 * XZI,\n",
      "  -0.25 * YXY,\n",
      "  -0.25 * YYI,\n",
      "  -0.25 * YYX,\n",
      "  -0.25 * YYZ,\n",
      "  -2.0 * ZII,\n",
      "  -0.25 * ZXI,\n",
      "  -0.25 * ZXX,\n",
      "  0.25 * ZXZ,\n",
      "  -0.25 * ZYY,\n",
      "  2.5 * ZZI\n",
      "])\n"
     ]
    }
   ],
   "source": [
    "print(blocks['0,0'])"
   ]
  },
  {
   "cell_type": "markdown",
   "metadata": {},
   "source": [
    "Let's take a sanity check here and make sure we can rebuild a Hamiltonian with these completed blocks and that the ground state is still the same."
   ]
  },
  {
   "cell_type": "code",
   "execution_count": 178,
   "metadata": {},
   "outputs": [
    {
     "name": "stderr",
     "output_type": "stream",
     "text": [
      "<ipython-input-178-ce06f5abc6d5>:15: ComplexWarning: Casting complex values to real discards the imaginary part\n",
      "  H_complete[i + bi*size, j + bj*size] = block[i,j]\n",
      "<ipython-input-178-ce06f5abc6d5>:16: ComplexWarning: Casting complex values to real discards the imaginary part\n",
      "  H_complete[i + bj*size, j + bi*size] = block[j,i]\n"
     ]
    }
   ],
   "source": [
    "keys = list(blocks.keys())\n",
    "\n",
    "size = int(2**np.ceil(np.log2(bL)))\n",
    "H_complete = np.array([[0 for i in range(size**2)] for j in range(size**2)])\n",
    "\n",
    "for bi in range(bL):\n",
    "    for bj in range(bi,bL):\n",
    "        key = str(bi) + ',' + str(bj)\n",
    "        if key  in keys:\n",
    "            block = blocks[key].to_matrix()\n",
    "        else:\n",
    "            block = np.array([[0.0 for i in range(size)] for j in range(size)])\n",
    "        for i in range(size):\n",
    "            for j in range(size):\n",
    "                H_complete[i + bi*size, j + bj*size] = block[i,j]\n",
    "                H_complete[i + bj*size, j + bi*size] = block[j,i]"
   ]
  },
  {
   "cell_type": "code",
   "execution_count": 179,
   "metadata": {},
   "outputs": [
    {
     "name": "stdout",
     "output_type": "stream",
     "text": [
      "-3.3408476172483366\n",
      "(-3.340847617248337+0j)\n"
     ]
    }
   ],
   "source": [
    "e_comp,y_comp = np.linalg.eig(H_complete)\n",
    "\n",
    "print(np.sort(e_comp)[0])\n",
    "print(np.sort(e)[0])"
   ]
  },
  {
   "cell_type": "markdown",
   "metadata": {},
   "source": [
    "## The Anzatz circuit"
   ]
  },
  {
   "cell_type": "markdown",
   "metadata": {},
   "source": [
    "Here we define the paramaterized circuit which we will optimize. \n",
    "\n",
    "$$ U^b_i = \\prod_q R^y_q(\\phi_{q0}^b)\\prod_{q'}C_{4q',4q'+1}C_{4q'+3,4q'+2}\\prod_{q''}C_{4q''+1,4q''+2}C_{4q''+4,4q''+3} $$\n",
    "$$ U^b = \\prod_i U^b_i $$"
   ]
  },
  {
   "cell_type": "code",
   "execution_count": 180,
   "metadata": {},
   "outputs": [],
   "source": [
    "from qiskit import QuantumCircuit, QuantumRegister,ClassicalRegister, execute\n",
    "\n",
    "\n",
    "# the number of qubits is given by the size of the blocks\n",
    "# note: the size of the blocks has already been adjusted to fit the qubits\n",
    "Q = int(np.log2(len(blocks['0,0'].to_matrix())))\n"
   ]
  },
  {
   "cell_type": "code",
   "execution_count": 181,
   "metadata": {},
   "outputs": [],
   "source": [
    "def Ui(cir_i,phi_i):  \n",
    "    \n",
    "    for q in range(0,Q):\n",
    "        cir_i.ry(phi_i[q],q)\n",
    "    for q in range(0,Q,4):\n",
    "        cir_i.cx(q,q+1)\n",
    "        if q + 3 < Q:\n",
    "            cir_i.cx(q+3,q+2)\n",
    "    for q in range(1,Q,4):\n",
    "        cir_i.cx(q,q+1)\n",
    "        if q + 3 < Q:\n",
    "            cir_i.cx(q+3,q+2)\n",
    "    \n",
    "    return cir_i\n",
    "\n",
    "def Ui_dagger(cir_i,phi_i):  \n",
    "    \n",
    "    for q in range(1,Q,4):\n",
    "        cir_i.cx(q,q+1)\n",
    "        if q + 3 < Q:\n",
    "            cir_i.cx(q+3,q+2)\n",
    "    for q in range(0,Q,4):\n",
    "        cir_i.cx(q,q+1)\n",
    "        if q + 3 < Q:\n",
    "            cir_i.cx(q+3,q+2)\n",
    "    for q in range(0,Q):\n",
    "        cir_i.ry(-phi_i[q],q)\n",
    "    \n",
    "    return cir_i"
   ]
  },
  {
   "cell_type": "code",
   "execution_count": 182,
   "metadata": {},
   "outputs": [
    {
     "data": {
      "image/png": "[encoded data removed]",
      "text/plain": [
       "<Figure size 333.118x264.88 with 1 Axes>"
      ]
     },
     "execution_count": 182,
     "metadata": {},
     "output_type": "execute_result"
    }
   ],
   "source": [
    "qr = QuantumRegister(Q)\n",
    "cr = ClassicalRegister(Q)\n",
    "cir_i = QuantumCircuit(qr , cr)\n",
    "tst = Ui(cir_i,[0.2,0.3,0.4])\n",
    "\n",
    "tst.draw(output = 'mpl')"
   ]
  },
  {
   "cell_type": "code",
   "execution_count": 183,
   "metadata": {},
   "outputs": [
    {
     "data": {
      "image/png": "[encoded data removed]",
      "text/plain": [
       "<Figure size 333.264x264.88 with 1 Axes>"
      ]
     },
     "execution_count": 183,
     "metadata": {},
     "output_type": "execute_result"
    }
   ],
   "source": [
    "qr = QuantumRegister(Q)\n",
    "cr = ClassicalRegister(Q)\n",
    "cir_i = QuantumCircuit(qr , cr)\n",
    "\n",
    "tst_dagger = Ui_dagger(cir_i,[0.2,0.3,0.4])\n",
    "tst_dagger.draw(output = 'mpl')"
   ]
  },
  {
   "cell_type": "code",
   "execution_count": 184,
   "metadata": {},
   "outputs": [],
   "source": [
    "def U(cir,phi_b):\n",
    "    T = len(phi_b)\n",
    "    for t in range(T):\n",
    "        cir = Ui(cir,phi_b[t])\n",
    "    return cir\n",
    "\n",
    "def U_dagger(cir,phi_b):\n",
    "    T = len(phi_b)\n",
    "    for t in range(T):\n",
    "        cir = Ui_dagger(cir,phi_b[T-1-t])\n",
    "    return cir"
   ]
  },
  {
   "cell_type": "code",
   "execution_count": 185,
   "metadata": {},
   "outputs": [
    {
     "data": {
      "image/png": "[encoded data removed]",
      "text/plain": [
       "<Figure size 694.318x264.88 with 1 Axes>"
      ]
     },
     "execution_count": 185,
     "metadata": {},
     "output_type": "execute_result"
    }
   ],
   "source": [
    "qr = QuantumRegister(Q)\n",
    "cr = ClassicalRegister(Q)\n",
    "cir = QuantumCircuit(qr , cr)\n",
    "tst = U(cir,[[0.2,0.3,0.4],[0.5,0.6,0.7],[0.8,0.9,0.1]])\n",
    "\n",
    "tst.draw(output = 'mpl')"
   ]
  },
  {
   "cell_type": "code",
   "execution_count": 186,
   "metadata": {},
   "outputs": [
    {
     "data": {
      "image/png": "[encoded data removed]",
      "text/plain": [
       "<Figure size 694.464x264.88 with 1 Axes>"
      ]
     },
     "execution_count": 186,
     "metadata": {},
     "output_type": "execute_result"
    }
   ],
   "source": [
    "qr = QuantumRegister(Q)\n",
    "cr = ClassicalRegister(Q)\n",
    "cir = QuantumCircuit(qr , cr)\n",
    "tst = U_dagger(cir,[[0.2,0.3,0.4],[0.5,0.6,0.7],[0.8,0.9,0.1]])\n",
    "\n",
    "tst.draw(output = 'mpl')"
   ]
  },
  {
   "cell_type": "markdown",
   "metadata": {},
   "source": [
    "# Calculating E\n",
    "\n",
    "$$ E = \\sum_{ab}<\\psi^a|H_{ab}|\\psi^b> = \\sum_{ab}<000\\ldots|U^{\\dagger}(\\{\\phi^a\\})H_{ab}U(\\{\\phi^b\\})|000\\ldots>$$"
   ]
  },
  {
   "cell_type": "markdown",
   "metadata": {},
   "source": [
    "First we need to inialize our set of parameters.  To do this we need to decide on the number of times we will apply Ui.  As a first attempt let's just have a depth of 1 (i.e. $U = Ui$).  \n",
    "\n",
    "In this case, we need a parameter for each qubit for each section."
   ]
  },
  {
   "cell_type": "code",
   "execution_count": 230,
   "metadata": {},
   "outputs": [],
   "source": [
    "#number of blocks\n",
    "T = 2\n",
    "\n",
    "phi = []\n",
    "for b in range(bL):\n",
    "    phi_b = []\n",
    "    for t in range(T):\n",
    "        phi_t = []\n",
    "        for q in range(Q):\n",
    "            phi_t.append(0)\n",
    "        phi_b.append(phi_t)\n",
    "    phi.append(phi_b)"
   ]
  },
  {
   "cell_type": "markdown",
   "metadata": {},
   "source": [
    "The structure of $\\phi_{b,t,q}$ is by section in the first index, by number of application of $U_i$ in the second index, and by qubit in the third index\n",
    "\n",
    "Instead of using circuits to find $E$ I will convert $U$ into a statevector and each block into a matrix.  This should run faster so that we can explore the parameters in SPSA."
   ]
  },
  {
   "cell_type": "code",
   "execution_count": 231,
   "metadata": {},
   "outputs": [],
   "source": [
    "import copy"
   ]
  },
  {
   "cell_type": "code",
   "execution_count": 232,
   "metadata": {},
   "outputs": [],
   "source": [
    "from qiskit import quantum_info as qi\n",
    "\n",
    "def bkt(psi2,h,psi1):\n",
    "    return np.dot(np.conjugate(psi2),np.dot(h,psi1))\n",
    "\n",
    "psi1 = qi.Statevector.from_instruction(tst)\n",
    "h00 = blocks['0,0'].to_matrix()\n",
    "\n",
    "bkt(psi1,h00,psi1)\n",
    "\n",
    "\n",
    "def E_From_Matrix(phi,blocks):\n",
    "    E = 0\n",
    "    for key in list(blocks.keys()):\n",
    "        qr = QuantumRegister(Q)\n",
    "        cr = ClassicalRegister(Q)\n",
    "        cir0 = QuantumCircuit(qr , cr)\n",
    "        a = int(key.split(',')[0])\n",
    "        b = int(key.split(',')[1])\n",
    "        w = 1\n",
    "        if a != b:\n",
    "            w = 2\n",
    "        cir = copy.deepcopy(cir0)\n",
    "        psi_1 = qi.Statevector.from_instruction(U(cir,phi[b])).data\n",
    "        h = blocks[key].to_matrix()\n",
    "        cir = copy.deepcopy(cir0)\n",
    "        psi_2 = qi.Statevector.from_instruction(U(cir,phi[a])).data\n",
    "        E_key = bkt(psi_2,h,psi_1)\n",
    "        E += w*E_key\n",
    "    return E/bL\n",
    "            "
   ]
  },
  {
   "cell_type": "code",
   "execution_count": 233,
   "metadata": {},
   "outputs": [
    {
     "data": {
      "text/plain": [
       "(-0.3333333333333333+0j)"
      ]
     },
     "execution_count": 233,
     "metadata": {},
     "output_type": "execute_result"
    }
   ],
   "source": [
    "qr = QuantumRegister(Q)\n",
    "cr = ClassicalRegister(Q)\n",
    "cir = QuantumCircuit(qr , cr)\n",
    "qi.Statevector.from_instruction(U(cir,phi[0])).data\n",
    "\n",
    "E_From_Matrix(phi,blocks)"
   ]
  },
  {
   "cell_type": "markdown",
   "metadata": {},
   "source": [
    "For a sanity check, let's compare this to simple matrix multiplication"
   ]
  },
  {
   "cell_type": "code",
   "execution_count": 234,
   "metadata": {},
   "outputs": [
    {
     "data": {
      "text/plain": [
       "-0.3333333333333334"
      ]
     },
     "execution_count": 234,
     "metadata": {},
     "output_type": "execute_result"
    }
   ],
   "source": [
    "all_down = [0 for i in range(len(H))]\n",
    "for b in range(bL):\n",
    "    all_down[bL*b + 1] = 1/np.sqrt(bL)\n",
    "    \n",
    "np.dot(all_down,np.dot(H,all_down))"
   ]
  },
  {
   "cell_type": "markdown",
   "metadata": {},
   "source": [
    "# Optimization"
   ]
  },
  {
   "cell_type": "markdown",
   "metadata": {},
   "source": [
    "I will be using the simultaneous perturbation stochastic approximation algorithm.  The algorithm works by calculating the gradiant of the cost function $E(\\hat{\\phi})$ by randomly purturbating all parameters in $\\hat{\\phi}$\n",
    "\n",
    "Let $\\hat{\\Delta}_k$ be a set of randomly selected purturbations during step $k$ of the algorithm. I will use the Bernoulli distribution to select $\\hat{\\Delta}_k$.  Then the gradient is \n",
    "$$ \\hat{g}_k(\\hat{\\phi}_k) = \\frac{E(\\hat{\\phi}_k + c_k \\hat{\\Delta}_k)-E(\\hat{\\phi}_k - c_k \\hat{\\Delta}_k)}{2 c_k} \\hat{\\Delta}_k$$.\n",
    "The gradiant is then used to update the parameters \n",
    "$$ \\hat{\\phi}_{k+1} = \\hat{\\phi}_k - a_k \\hat{g}_k(\\hat{\\phi}_k) $$\n",
    "\n",
    "$c_k$ and $a_k$ decrease with each iteration of the algorithm so that we zero in on the the minimum of $E$.  They are given by\n",
    "$$c_k = \\frac{c}{(k+1)^{\\gamma}}$$\n",
    "$$a_k = \\frac{a}{(A+k+1)^{\\alpha}}$$\n",
    "where $a$, $A$, $\\alpha$, $c$, and $\\gamma$ are choosen at the begining of the algorithm."
   ]
  },
  {
   "cell_type": "code",
   "execution_count": 238,
   "metadata": {},
   "outputs": [],
   "source": [
    "def SPSA(k_max):\n",
    "    #Initalization\n",
    "    k = 0\n",
    "    #alpha = 0.602\n",
    "    alpha = 0.201\n",
    "    A = 10\n",
    "    a = 0.2\n",
    "    gamma = 0.101\n",
    "    c = 0.4\n",
    "    phi_k = np.array(phi)\n",
    "    E_l = []\n",
    "    \n",
    "    #Begin Iterations\n",
    "    for k in range(k_max):\n",
    "        #Update c and a\n",
    "        a_k = a/((A + k + 1)**alpha)\n",
    "        c_k = c/((k + 1)**gamma)\n",
    "\n",
    "        #Find Delta\n",
    "        Delta_k = np.array(phi_k)\n",
    "        for b in range(bL):\n",
    "            for t in range(T):\n",
    "                for q in range(Q):\n",
    "                    Delta_k[b][t][q] = 1 - 2*np.random.binomial(size=None, n=1, p= 0.5)\n",
    "            \n",
    "        #Find E    \n",
    "        E_A = E_From_Matrix(phi_k + c_k*Delta_k ,blocks)\n",
    "        E_B = E_From_Matrix(phi_k - c_k*Delta_k ,blocks)\n",
    "        \n",
    "        #Calculate gradiant\n",
    "        g = np.real((E_A-E_B)/(2*c_k)) \n",
    "        g_k = g * Delta_k\n",
    "        phi_k = phi_k - a_k * g_k\n",
    "\n",
    "        \n",
    "        #Calculate new E\n",
    "        E_f = E_From_Matrix(phi_k,blocks)\n",
    "        \n",
    "        #Print and save E\n",
    "        print('k=',k,'c_k=',c_k,'a_k=',a_k,'g=',g,'E_A=',E_A,'E_B=',E_B,'E_f=',E_f)\n",
    "        E_l.append(E_f)\n",
    "        \n",
    "    return E_l,phi_k"
   ]
  },
  {
   "cell_type": "code",
   "execution_count": 239,
   "metadata": {
    "scrolled": true
   },
   "outputs": [
    {
     "name": "stdout",
     "output_type": "stream",
     "text": [
      "k= 0 c_k= 0.4 a_k= 0.12351225929839313 g= 0.8866419151681469 E_A= (0.8445800339514281+0j) E_B= (0.1352665018169106+0j) E_f= (-0.3376455829458417+0j)\n",
      "k= 1 c_k= 0.372954594574733 a_k= 0.12137089799839414 g= -0.11660072774447094 E_A= (0.5184901895972139+0j) E_B= (0.6054637438833299+0j) E_f= (-0.3406885765313724+0j)\n",
      "k= 2 c_k= 0.3579898757427053 a_k= 0.11943383615535001 g= -0.5180928739455759 E_A= (0.33500362738298156+0j) E_B= (0.7059476345168971+0j) E_f= (-0.32713991685897437+0j)\n",
      "k= 3 c_k= 0.34773782403600867 a_k= 0.11766796983576779 g= 0.9894041901969469 E_A= (0.7627996119456015+0j) E_B= (0.07469309156321038+0j) E_f= (-0.37926476472687276+0j)\n",
      "k= 4 c_k= 0.33998833831625347 a_k= 0.11604746356999064 g= 0.30341998800944675 E_A= (0.2650111186574903+0j) E_B= (0.05869260358695155+0j) E_f= (-0.3879544494486758+0j)\n",
      "k= 5 c_k= 0.3337849224236992 a_k= 0.1145517897979757 g= -0.7632219115081441 E_A= (0.05356442117200885+0j) E_B= (0.5630683542216355+0j) E_f= (-0.4279062150205085+0j)\n",
      "k= 6 c_k= 0.32862839767254015 a_k= 0.11316438367238911 g= 0.19132976268780488 E_A= (0.2231061167009174+0j) E_B= (0.09735333002259605+0j) E_f= (-0.42549588792346915+0j)\n",
      "k= 7 c_k= 0.3242260479541237 a_k= 0.11187169600144185 g= 0.6121802077628865 E_A= (0.5372461304771841+0j) E_B= (0.14027659167979403+0j) E_f= (-0.4125896574277219+0j)\n",
      "k= 8 c_k= 0.3203918778356939 a_k= 0.11066251137593015 g= -2.127101510758846 E_A= (-0.528061753242021+0j) E_B= (0.8349503415163151+0j) E_f= (-0.6038375992217722+0j)\n",
      "k= 9 c_k= 0.3170005321921887 a_k= 0.10952744745806936 g= -1.135381293238451 E_A= (-0.28493843162410065+0j) E_B= (0.43489451677118823+0j) E_f= (-0.6583466886849991+0j)\n",
      "k= 10 c_k= 0.31396362164265085 a_k= 0.10845858082674821 g= -0.0319332676161625 E_A= (-0.15658509620090308+0j) E_B= (-0.13653332749759436+0j) E_f= (-0.6580150312403523+0j)\n",
      "k= 11 c_k= 0.31121655104422363 a_k= 0.10744916300370153 g= -1.68006862128514 E_A= (-0.5467693549247323+0j) E_B= (0.4989609687432379+0j) E_f= (-0.7442243760311791+0j)\n",
      "k= 12 c_k= 0.3087107214903736 a_k= 0.10649340189005733 g= -0.32121929810721 E_A= (-0.37758219738779975+0j) E_B= (-0.17925451483718335+0j) E_f= (-0.7420802995598057+0j)\n",
      "k= 13 c_k= 0.3064086770492659 a_k= 0.10558629140957465 g= -0.6065498113255433 E_A= (-0.24547264503809535+0j) E_B= (0.12623160546738782+0j) E_f= (-0.7477405713141325+0j)\n",
      "k= 14 c_k= 0.30428095746951106 a_k= 0.10472347719609475 g= -0.6314870888147875 E_A= (-0.5860520684736386+0j) E_B= (-0.20175307644524315+0j) E_f= (-0.786945589037559+0j)\n",
      "k= 15 c_k= 0.3023039856632453 a_k= 0.10390114958718548 g= 0.11927742036998992 E_A= (-0.10892042106023023+0j) E_B= (-0.18103650021518686+0j) E_f= (-0.7863402999430106+0j)\n",
      "k= 16 c_k= 0.30045860758866744 a_k= 0.103115957553553 g= 0.3751132063859648 E_A= (-0.2600546919922232+0j) E_B= (-0.48546667534991805+0j) E_f= (-0.7934377209874004+0j)\n",
      "k= 17 c_k= 0.2987290572581215 a_k= 0.10236493885722756 g= 1.76457241875094 E_A= (0.3220838906448314+0j) E_B= (-0.7321742195894716+0j) E_f= (-0.9254972284405316+0j)\n",
      "k= 18 c_k= 0.29710220679082217 a_k= 0.10164546291756443 g= -2.2254793358566927 E_A= (-0.9820125543283719+0j) E_B= (0.3403770893724216+0j) E_f= (-1.093913237898386+0j)\n",
      "k= 19 c_k= 0.29556701240928085 a_k= 0.10095518372126695 g= -0.9432615344572629 E_A= (-0.8433976758886514+0j) E_B= (-0.2858036885683972+0j) E_f= (-1.127137536503437+0j)\n",
      "k= 20 c_k= 0.2941140981207925 a_k= 0.10029200073990766 g= -0.9745797359896036 E_A= (-0.6367952448307308+0j) E_B= (-0.06351996463596617+0j) E_f= (-1.1129684233851798+0j)\n",
      "k= 21 c_k= 0.2927354380523743 a_k= 0.09965402628278679 g= 0.47021604457401833 E_A= (-0.17649463154829662+0j) E_B= (-0.45179243112355666+0j) E_f= (-1.1299922914434446+0j)\n",
      "k= 22 c_k= 0.29142411071599983 a_k= 0.09903955806043813 g= -0.1860288933227504 E_A= (-0.3817978055234695+0j) E_B= (-0.2733711959153412+0j) E_f= (-1.1279250005967738+0j)\n",
      "k= 23 c_k= 0.2901741065491128 a_k= 0.09844705599670098 g= 0.02298916715768763 E_A= (-0.47413937106698884+0j) E_B= (-0.48748109314756927+0j) E_f= (-1.1276792486038656+0j)\n",
      "k= 24 c_k= 0.2889801754776181 a_k= 0.09787512252760631 g= 0.16466238410802217 E_A= (-0.47639162266624546+0j) E_B= (-0.5715599519744439+0j) E_f= (-1.1272106058853257+0j)\n",
      "k= 25 c_k= 0.28783770493578903 a_k= 0.09732248577948129 g= -0.7808365598887002 E_A= (-0.8212680538950244+0j) E_B= (-0.371759647238384+0j) E_f= (-1.1598114956108216+0j)\n",
      "k= 26 c_k= 0.2867426213384302 a_k= 0.09678798513827162 g= -0.8811617670459577 E_A= (-0.7879054075047784+0j) E_B= (-0.28257213769285633+0j) E_f= (-1.201128194684487+0j)\n",
      "k= 27 c_k= 0.2856913098077231 a_k= 0.09627055881558139 g= 0.3434717091744397 E_A= (-0.7273135635224077+0j) E_B= (-0.9235673284742938+0j) E_f= (-1.2121134874824917+0j)\n",
      "k= 28 c_k= 0.28468054825101563 a_k= 0.09576923309055307 g= -0.2892356260090319 E_A= (-0.6684810973350672+0j) E_B= (-0.5038015841631134+0j) E_f= (-1.2167788893516067+0j)\n",
      "k= 29 c_k= 0.2837074528246327 a_k= 0.09528311296508328 g= -1.2252255785167518 E_A= (-0.931379626182611+0j) E_B= (-0.23616837014946168+0j) E_f= (-1.24499988297555+0j)\n",
      "k= 30 c_k= 0.2827694325084489 a_k= 0.09481137401644353 g= -0.2458520716232817 E_A= (-0.8589897003092127+0j) E_B= (-0.719950798761329+0j) E_f= (-1.24537774447255+0j)\n",
      "k= 31 c_k= 0.2818641510284039 a_k= 0.09435325526876684 g= 1.4159224794967389 E_A= (-0.16473473935015942+0j) E_B= (-0.9629303145609214+0j) E_f= (-1.2826485009798527+0j)\n",
      "k= 32 c_k= 0.28098949474895574 a_k= 0.09390805293505008 g= -0.20403221398341254 E_A= (-1.0353628075216381+0j) E_B= (-0.9207009900822183+0j) E_f= (-1.284008400159686+0j)\n",
      "k= 33 c_k= 0.28014354544930065 a_k= 0.09347511490583045 g= -1.4681881550395934 E_A= (-0.9483656909968554+0j) E_B= (-0.12575882071793698+0j) E_f= (-1.327607232533244+0j)\n",
      "k= 34 c_k= 0.2793245571205497 a_k= 0.09305383588069621 g= -0.7140961615012208 E_A= (-0.8306499926826783+0j) E_B= (-0.4317208045770522+0j) E_f= (-1.3439506197101239+0j)\n",
      "k= 35 c_k= 0.2785309360934873 a_k= 0.0926436530551938 g= 0.4408630467217491 E_A= (-0.7165456182510953+0j) E_B= (-0.9621336124359665+0j) E_f= (-1.3532601993250015+0j)\n",
      "k= 36 c_k= 0.277761223940729 a_k= 0.09224404228920874 g= -0.9136517329875545 E_A= (-1.263629190405824+0j) E_B= (-0.7560751431854416+0j) E_f= (-1.3864737273512042+0j)\n",
      "k= 37 c_k= 0.27701408270232386 a_k= 0.09185451469408362 g= 0.38046258732512384 E_A= (-0.651214514453646+0j) E_B= (-0.8620015037144899+0j) E_f= (-1.3801226839437728+0j)\n",
      "k= 38 c_k= 0.2762882820669494 a_k= 0.09147461358503461 g= 0.47864586315154223 E_A= (-0.8725829964802017+0j) E_B= (-1.1370714829773851+0j) E_f= (-1.3878286858381492+0j)\n",
      "k= 39 c_k= 0.27558268820692106 a_k= 0.09110391175318738 g= -0.8590095626487734 E_A= (-1.1492540745028417+0j) E_B= (-0.6757977455624407+0j) E_f= (-1.4239834599681567+0j)\n",
      "k= 40 c_k= 0.27489625401810586 a_k= 0.09074200901805615 g= -0.17811483134382614 E_A= (-1.1283537067587783+0j) E_B= (-1.0304275069158093+0j) E_f= (-1.4279714993958659+0j)\n",
      "k= 41 c_k= 0.2742280105583835 a_k= 0.09038853002675752 g= 0.13545501123168907 E_A= (-0.8156721257985637+0j) E_B= (-0.8899632422990229+0j) E_f= (-1.4348972722021687+0j)\n",
      "k= 42 c_k= 0.2735770595127504 a_k= 0.09004312227086644 g= -0.5583574017357262 E_A= (-1.0578365481907388+0j) E_B= (-0.7523289959426599+0j) E_f= (-1.441922945502275+0j)\n",
      "k= 43 c_k= 0.27294256654120025 a_k= 0.08970545429573103 g= -0.06190593966902472 E_A= (-0.9087344618529731+0j) E_B= (-0.8749409297381565+0j) E_f= (-1.4437841671900398+0j)\n",
      "k= 44 c_k= 0.27232375538845416 a_k= 0.089375214080385 g= 0.24696068653016498 E_A= (-0.6561759766230313+0j) E_B= (-0.790682499801442+0j) E_f= (-1.4462139714897004+0j)\n",
      "k= 45 c_k= 0.27171990265346957 a_k= 0.08905210756902801 g= -0.10216360315042965 E_A= (-1.1356626112518737+0j) E_B= (-1.0801428426463489+0j) E_f= (-1.4483001635685357+0j)\n",
      "k= 46 c_k= 0.2711303331322349 a_k= 0.08873585733746607 g= 0.5895625032223913 E_A= (-0.8704148486301758+0j) E_B= (-1.1901114044320984+0j) E_f= (-1.4641205227440692+0j)\n",
      "k= 47 c_k= 0.2705544156602744 a_k= 0.0884262013799805 g= -0.20053509680619253 E_A= (-1.186390840254622+0j) E_B= (-1.07787952838307+0j) E_f= (-1.4665513215642492+0j)\n",
      "k= 48 c_k= 0.269991559392053 a_k= 0.08812289200388018 g= -0.8901069365143192 E_A= (-1.1368015218765823+0j) E_B= (-0.656158802246214+0j) E_f= (-1.4828353370943943+0j)\n"
     ]
    },
    {
     "name": "stdout",
     "output_type": "stream",
     "text": [
      "k= 49 c_k= 0.26944121046347563 a_k= 0.08782569482053167 g= 0.3558509074859985 E_A= (-1.0434001541882956+0j) E_B= (-1.235161952703403+0j) E_f= (-1.4845185279891124+0j)\n",
      "k= 50 c_k= 0.26890284899123323 a_k= 0.08753438782299362 g= -0.08558842801247256 E_A= (-0.9762910710368191+0j) E_B= (-0.9302611267703492+0j) E_f= (-1.4858407835684804+0j)\n",
      "k= 51 c_k= 0.268375986369122 a_k= 0.08724876054153671 g= -1.1475424516203048 E_A= (-1.278230840235177+0j) E_B= (-0.6622851655270974+0j) E_f= (-1.5143071430909063+0j)\n",
      "k= 52 c_k= 0.267860162826851 a_k= 0.08696861326933238 g= -1.128716168353988 E_A= (-1.2912566111968298+0j) E_B= (-0.6865804179156326+0j) E_f= (-1.5608156156187427+0j)\n",
      "k= 53 c_k= 0.26735494522142605 a_k= 0.08669375635146866 g= 0.22710670572824823 E_A= (-1.129137751675629+0j) E_B= (-1.2505739534144176+0j) E_f= (-1.5620619426814892+0j)\n",
      "k= 54 c_k= 0.2668599250350944 a_k= 0.08642400953121344 g= 0.17944767782452617 E_A= (-1.0942277654254382+0j) E_B= (-1.1900025531293879+0j) E_f= (-1.5628646169661908+0j)\n",
      "k= 55 c_k= 0.26637471655715955 a_k= 0.08615920134811286 g= -0.3387262588436313 E_A= (-1.0431342410886697+0j) E_B= (-0.862678018708791+0j) E_f= (-1.5642151302649947+0j)\n",
      "k= 56 c_k= 0.2658989552298248 a_k= 0.08589916858309848 g= -0.5370866658832552 E_A= (-1.1820957829384557+0j) E_B= (-0.8964742162860007+0j) E_f= (-1.5679004473571354+0j)\n",
      "k= 57 c_k= 0.26543229614067565 a_k= 0.08564375574629031 g= -0.1387855624794668 E_A= (-1.0079452155570232+0j) E_B= (-0.9342688745168231+0j) E_f= (-1.565728579110071+0j)\n",
      "k= 58 c_k= 0.26497441264651617 a_k= 0.08539281460363604 g= 0.7112021128669699 E_A= (-0.7860027693765748+0j) E_B= (-1.162903493636348+0j) E_f= (-1.579132198452686+0j)\n",
      "k= 59 c_k= 0.2645249951151027 a_k= 0.08514620373892595 g= -0.859198276640029 E_A= (-1.2169625619294844+0j) E_B= (-0.7624037220672677+0j) E_f= (-1.595957344437703+0j)\n",
      "k= 60 c_k= 0.26408374977289106 a_k= 0.08490378814807613 g= 0.3731685419107289 E_A= (-0.9506724482484056+0j) E_B= (-1.1477679439385406+0j) E_f= (-1.597947708630766+0j)\n",
      "k= 61 c_k= 0.26365039764828974 a_k= 0.08466543886288505 g= 1.3034204277514851 E_A= (-0.9169064564954652+0j) E_B= (-1.604201084654631+0j) E_f= (-1.6876402110358328+0j)\n",
      "k= 62 c_k= 0.2632246736011008 a_k= 0.08443103260174596 g= 0.04655741439600552 E_A= (-1.3240431458865327+0j) E_B= (-1.3485532663027322+0j) E_f= (-1.6873839463633833+0j)\n",
      "k= 63 c_k= 0.26280632542987425 a_k= 0.08420045144504364 g= 0.09453673899003688 E_A= (-1.113095722724922+0j) E_B= (-1.1627854287091115+0j) E_f= (-1.6870618272005746+0j)\n",
      "k= 64 c_k= 0.2623951130498096 a_k= 0.08397358253318364 g= -0.038528029139422805 E_A= (-1.2246781516646061+0j) E_B= (-1.2044590185413557+0j) E_f= (-1.687372219286334+0j)\n",
      "k= 65 c_k= 0.2619908077346396 a_k= 0.08375031778539747 g= 0.16134780353164377 E_A= (-1.141408572922885+0j) E_B= (-1.2259518556698155+0j) E_f= (-1.6876857269394254+0j)\n",
      "k= 66 c_k= 0.2615931914166275 a_k= 0.08353055363764159 g= -0.42175501139937277 E_A= (-1.400953051519434+0j) E_B= (-1.1802965726635979+0j) E_f= (-1.6977811244981473+0j)\n",
      "k= 67 c_k= 0.26120205603943053 a_k= 0.08331419079806436 g= 1.0408081321588873 E_A= (-1.024874930756473+0j) E_B= (-1.5685973788813945+0j) E_f= (-1.7363494854010177+0j)\n",
      "k= 68 c_k= 0.2608172029591229 a_k= 0.08310113401865497 g= 0.34390421898931084 E_A= (-1.1162282738773266+0j) E_B= (-1.295620546842594+0j) E_f= (-1.738752401523+0j)\n",
      "k= 69 c_k= 0.26043844238915365 a_k= 0.08289129188181353 g= -0.9136651751818882 E_A= (-1.6182442365089467+0j) E_B= (-1.1423371663297783+0j) E_f= (-1.7767590537028455+0j)\n",
      "k= 70 c_k= 0.26006559288543923 a_k= 0.08268457660069417 g= -0.4365756662711708 E_A= (-1.3693523172050184+0j) E_B= (-1.142275698228683+0j) E_f= (-1.7789991560217973+0j)\n",
      "k= 71 c_k= 0.25969848086816855 a_k= 0.0824809038322748 g= -0.4220503266893624 E_A= (-1.5690565538563264+0j) E_B= (-1.349844896474043+0j) E_f= (-1.7962650803336802+0j)\n",
      "k= 72 c_k= 0.2593369401772328 a_k= 0.08228019250219758 g= 0.2034534723964071 E_A= (-1.0501775587785378+0j) E_B= (-1.1557035607779724+0j) E_f= (-1.7943386798675012+0j)\n",
      "k= 73 c_k= 0.2589808116584905 a_k= 0.08208236464050728 g= -0.5755393925964085 E_A= (-1.5941124096817136+0j) E_B= (-1.2960050916096086+0j) E_f= (-1.8101482698011204+0j)\n",
      "k= 74 c_k= 0.25862994277834417 a_k= 0.08188734522748857 g= 0.551565663168828 E_A= (-1.2774342538650203+0j) E_B= (-1.5627370456727272+0j) E_f= (-1.8276620066460494+0j)\n",
      "k= 75 c_k= 0.25828418726434194 a_k= 0.08169506204887066 g= 0.13818043384567313 E_A= (-1.4874479562643899+0j) E_B= (-1.5588275983677176+0j) E_f= (-1.8307832437444465+0j)\n",
      "k= 76 c_k= 0.25794340476973 a_k= 0.08150544555972836 g= -0.6744357114303847 E_A= (-1.6917573139332287+0j) E_B= (-1.3438248265239316+0j) E_f= (-1.8517782605548914+0j)\n",
      "k= 77 c_k= 0.25760746056007144 a_k= 0.08131842875646414 g= -0.1898494419743537 E_A= (-1.5199204100487202+0j) E_B= (-1.4221071447772005+0j) E_f= (-1.8500721885098779+0j)\n",
      "k= 78 c_k= 0.25727622522021726 a_k= 0.08113394705630539 g= 0.06285573432440271 E_A= (-1.4388738957022622+0j) E_B= (-1.4712164678231165+0j) E_f= (-1.8508779586814597+0j)\n",
      "k= 79 c_k= 0.2569495743800682 a_k= 0.08095193818379692 g= -0.11884862194927667 E_A= (-1.5444048009565878+0j) E_B= (-1.4833285953055393+0j) E_f= (-1.8513523451234049+0j)\n",
      "k= 80 c_k= 0.2566273884577055 a_k= 0.08077234206380964 g= 1.5080060758064542 E_A= (-0.8716471014319713+0j) E_B= (-1.6456384234570973+0j) E_f= (-1.918360478512848+0j)\n",
      "k= 81 c_k= 0.2563095524185887 a_k= 0.08059510072062455 g= -0.4257752693123596 E_A= (-1.601804822106444+0j) E_B= (-1.3835442846897341+0j) E_f= (-1.9197180763859285+0j)\n",
      "k= 82 c_k= 0.2559959555496353 a_k= 0.08042015818268505 g= 0.6553049681714881 E_A= (-1.3235620580266294+0j) E_B= (-1.6590729010335963+0j) E_f= (-1.9455879888503296+0j)\n",
      "k= 83 c_k= 0.2556864912470938 a_k= 0.08024746039264197 g= -0.6003047371607471 E_A= (-1.522636099688063+0j) E_B= (-1.2156564758407824+0j) E_f= (-1.9506771523090762+0j)\n",
      "k= 84 c_k= 0.2553810568172158 a_k= 0.08007695512234446 g= -0.011128633260004205 E_A= (-1.6848848730197716+0j) E_B= (-1.6792007887740295+0j) E_f= (-1.9506771933084228+0j)\n",
      "k= 85 c_k= 0.25507955328881354 a_k= 0.0799085918924559 g= -0.38411905743719515 E_A= (-1.2552951739199827+0j) E_B= (-1.059333338758383+0j) E_f= (-1.9493241753400126+0j)\n",
      "k= 86 c_k= 0.2547818852368658 a_k= 0.07974232189639797 g= -0.5622210611943265 E_A= (-1.5946899199223106+0j) E_B= (-1.308202436140387+0j) E_f= (-1.9552700591019543+0j)\n",
      "k= 87 c_k= 0.2544879606164011 a_k= 0.07957809792834765 g= -0.9390895468340815 E_A= (-1.6247589193406855+0j) E_B= (-1.146784952120714+0j) E_f= (-1.9706444376099803+0j)\n",
      "k= 88 c_k= 0.25419769060595165 a_k= 0.07941587431503251 g= -0.7133828866811053 E_A= (-1.7038799611752937+0j) E_B= (-1.3411993965510052+0j) E_f= (-1.9827058377380595+0j)\n",
      "k= 89 c_k= 0.2539109894599242 a_k= 0.07925560685108789 g= 0.05237383151720265 E_A= (-1.4875604201542525+0j) E_B= (-1.514157002918933+0j) E_f= (-1.9822928324299758+0j)\n",
      "k= 90 c_k= 0.25362777436928824 a_k= 0.07909725273775581 g= -0.6177169769522924 E_A= (-1.6390564638350062+0j) E_B= (-1.3257160997259365+0j) E_f= (-1.9980865871345972+0j)\n",
      "k= 91 c_k= 0.2533479653300266 a_k= 0.07894077052472245 g= -0.38339451873284186 E_A= (-1.4850875177938623+0j) E_B= (-1.2908230753145618+0j) E_f= (-2.002017109269324+0j)\n",
      "k= 92 c_k= 0.25307148501883725 a_k= 0.07878612005490394 g= -0.6693168241817801 E_A= (-1.7649610040281787+0j) E_B= (-1.4261909987406285+0j) E_f= (-2.016257890525055+0j)\n",
      "k= 93 c_k= 0.25279825867561245 a_k= 0.07863326241200409 g= -0.535531613258913 E_A= (-1.664846963630976+0j) E_B= (-1.3940840450357865+0j) E_f= (-2.0383537728907615+0j)\n",
      "k= 94 c_k= 0.25252821399225883 a_k= 0.07848215987067993 g= 0.07922286095343811 E_A= (-1.4832858482272036+0j) E_B= (-1.5232978633950611+0j) E_f= (-2.0403555948181498+0j)\n",
      "k= 95 c_k= 0.25226128100745354 a_k= 0.07833277584916162 g= -0.02203269159783668 E_A= (-1.5989598706638637+0j) E_B= (-1.5878438806508388+0j) E_f= (-2.040382942830785+0j)\n",
      "k= 96 c_k= 0.2519973920069601 a_k= 0.07818507486418426 g= 0.05486528560188781 E_A= (-1.5839387721464464+0j) E_B= (-1.611590589913232+0j) E_f= (-2.0401948004989574+0j)\n",
      "k= 97 c_k= 0.25173648142915767 a_k= 0.07803902248809808 g= -0.2506852981365005 E_A= (-1.46646238394572+0j) E_B= (-1.340249114147916+0j) E_f= (-2.0345812896150317+0j)\n"
     ]
    },
    {
     "name": "stdout",
     "output_type": "stream",
     "text": [
      "k= 98 c_k= 0.2514784857754605 a_k= 0.0778945853080328 g= -0.649345855524216 E_A= (-1.756418308301232+0j) E_B= (-1.4298252833176304+0j) E_f= (-2.0386783957425676+0j)\n",
      "k= 99 c_k= 0.25122334352532716 a_k= 0.07775173088699987 g= -0.4858541440209676 E_A= (-1.7871783620488988+0j) E_B= (-1.5430625569957321+0j) E_f= (-2.0517370119294362+0j)\n",
      "k= 100 c_k= 0.2509709950555822 a_k= 0.07761042772682393 g= 0.323082294070933 E_A= (-1.5079591229134073+0j) E_B= (-1.6701276925690518+0j) E_f= (-2.0559853810334268+0j)\n",
      "k= 101 c_k= 0.2507213825637901 a_k= 0.07747064523280192 g= 0.5103656064299283 E_A= (-1.3454911372898044+0j) E_B= (-1.601410278204042+0j) E_f= (-2.063737684938747+0j)\n",
      "k= 102 c_k= 0.25047444999544133 a_k= 0.07733235367999454 g= -0.5878356358983263 E_A= (-1.9697378169551407+0j) E_B= (-1.6752622017764331+0j) E_f= (-2.0753508128259623+0j)\n",
      "k= 103 c_k= 0.25023014297472496 a_k= 0.07719552418106111 g= 0.39632400496105713 E_A= (-1.5533932122027727+0j) E_B= (-1.7517376370542146+0j) E_f= (-2.083868549977581+0j)\n",
      "k= 104 c_k= 0.24998840873867942 a_k= 0.07706012865555426 g= 0.4396630178662946 E_A= (-1.6098690029418308+0j) E_B= (-1.829690319377112+0j) E_f= (-2.0917169007089997+0j)\n",
      "k= 105 c_k= 0.24974919607452548 a_k= 0.07692613980059608 g= -0.8985831779930208 E_A= (-1.9776729808830924+0j) E_B= (-1.528832128263394+0j) E_f= (-2.130352312157159+0j)\n",
      "k= 106 c_k= 0.2495124552599996 a_k= 0.07679353106286237 g= -0.48722742004621095 E_A= (-1.7334303032226805+0j) E_B= (-1.49029168353123+0j) E_f= (-2.1350882742485053+0j)\n",
      "k= 107 c_k= 0.24927813800651724 a_k= 0.0766622766118059 g= -0.02702242602673574 E_A= (-1.6860098482724473+0j) E_B= (-1.6725376481837202+0j) E_f= (-2.1352732193592088+0j)\n",
      "k= 108 c_k= 0.24904619740500722 a_k= 0.07653235131405396 g= 1.15535877835351 E_A= (-1.425508617680393+0j) E_B= (-2.0009840384552655+0j) E_f= (-2.1763580669576608+0j)\n",
      "k= 109 c_k= 0.24881658787426822 a_k= 0.07640373070891937 g= -0.8245745816084254 E_A= (-1.9099685778576334+0j) E_B= (-1.4996329101703119+0j) E_f= (-2.185736249631983+0j)\n",
      "k= 110 c_k= 0.24858926511170829 a_k= 0.0762763909849675 g= -0.45045748429060184 E_A= (-1.805258025353155+0j) E_B= (-1.5813002353854158+0j) E_f= (-2.1853445518669474+0j)\n",
      "k= 111 c_k= 0.24836418604633714 a_k= 0.07615030895758565 g= 0.05701122332162702 E_A= (-1.7319602046500595+0j) E_B= (-1.7602792968016232+0j) E_f= (-2.186094336047267+0j)\n",
      "k= 112 c_k= 0.24814130879388893 a_k= 0.07602546204750411 g= -0.4743765931826954 E_A= (-2.0098234347617976+0j) E_B= (-1.774398577374717+0j) E_f= (-2.197977106760353+0j)\n",
      "k= 113 c_k= 0.24792059261396104 a_k= 0.07590182826022084 g= -0.6515915889705273 E_A= (-1.796686491107676+0j) E_B= (-1.4736005453479848+0j) E_f= (-2.2100280143793682+0j)\n",
      "k= 114 c_k= 0.24770199786906166 a_k= 0.07577938616628523 g= -0.5013648069725934 E_A= (-1.7930090526969802+0j) E_B= (-1.5446309240002845+0j) E_f= (-2.2186775054645373+0j)\n",
      "k= 115 c_k= 0.24748548598546538 a_k= 0.07565811488239813 g= 0.35716825507916894 E_A= (-1.5511410192244783+0j) E_B= (-1.727928937598176+0j) E_f= (-2.218599372581381+0j)\n",
      "k= 116 c_k= 0.24727101941578178 a_k= 0.07553799405328857 g= 0.23160978149390338 E_A= (-1.6002672160147706+0j) E_B= (-1.7148079895680985+0j) E_f= (-2.223452060783776+0j)\n",
      "k= 117 c_k= 0.24705856160314865 a_k= 0.07541900383432894 g= 0.16853088615228418 E_A= (-1.5752900578304136+0j) E_B= (-1.6585640544673883+0j) E_f= (-2.2228350429694763+0j)\n",
      "k= 118 c_k= 0.24684807694696573 a_k= 0.07530112487485353 g= 0.37915032080151717 E_A= (-1.6484667188001367+0j) E_B= (-1.835651773927496+0j) E_f= (-2.2327893752143577+0j)\n",
      "k= 119 c_k= 0.2466395307700909 a_k= 0.07518433830214634 g= -0.41269902264798086 E_A= (-2.086961704813774+0j) E_B= (-1.8833859182234278+0j) E_f= (-2.2452495777956654+0j)\n",
      "k= 120 c_k= 0.246432889287424 a_k= 0.07506862570606669 g= 0.7722751218892645 E_A= (-1.7507191426821929+0j) E_B= (-2.131347121906131+0j) E_f= (-2.2766190079656994+0j)\n",
      "k= 121 c_k= 0.24622811957580956 a_k= 0.0749539691242824 g= -0.8098068800838185 E_A= (-2.062869110814196+0j) E_B= (-1.6640746602090126+0j) E_f= (-2.315597308884343+0j)\n",
      "k= 122 c_k= 0.24602518954519215 a_k= 0.07484035102808223 g= -0.55573689137686 E_A= (-2.0957867378426194+0j) E_B= (-1.8223361897661237+0j) E_f= (-2.323121743323562+0j)\n",
      "k= 123 c_k= 0.2458240679109626 a_k= 0.07472775430874062 g= 0.5538903610842224 E_A= (-1.739242152419757+0j) E_B= (-2.011561315896548+0j) E_f= (-2.335028772965897+0j)\n",
      "k= 124 c_k= 0.24562472416743683 a_k= 0.07461616226440926 g= -0.42868113997876545 E_A= (-2.1120892356949987+0j) E_B= (-1.9014998621688655+0j) E_f= (-2.3424161985376863+0j)\n",
      "k= 125 c_k= 0.24542712856241244 a_k= 0.07450555858751155 g= 0.610098696310586 E_A= (-1.6822031728846911+0j) E_B= (-1.981672715235048+0j) E_f= (-2.356823305461803+0j)\n",
      "k= 126 c_k= 0.24523125207275073 a_k= 0.07439592735261696 g= -0.0869954977366793 E_A= (-1.8875266908665325+0j) E_B= (-1.8448586611972164+0j) E_f= (-2.357203567836837+0j)\n",
      "k= 127 c_k= 0.2450370663809352 a_k= 0.07428725300477378 g= 0.4728078537434442 E_A= (-1.8519257632761286+0j) E_B= (-2.0836366621624482+0j) E_f= (-2.36863714018604+0j)\n",
      "k= 128 c_k= 0.24484454385256046 a_k= 0.07417952034827956 g= 0.6304798969255975 E_A= (-1.695121329123981+0j) E_B= (-2.0038604546658956+0j) E_f= (-2.371052905683775+0j)\n",
      "k= 129 c_k= 0.24465365751470747 a_k= 0.07407271453587004 g= 0.29150378077146777 E_A= (-1.8582800598456646+0j) E_B= (-2.0009149921358746+0j) E_f= (-2.3740681512611896+0j)\n",
      "k= 130 c_k= 0.2444643810351635 a_k= 0.07396682105830814 g= 0.5949233234388832 E_A= (-1.7325959027487663+0j) E_B= (-2.023471026804504+0j) E_f= (-2.38076001704691+0j)\n",
      "k= 131 c_k= 0.2442766887024484 a_k= 0.07386182573435494 g= 0.2045764586099692 E_A= (-2.019394477410847+0j) E_B= (-2.1193409972022805+0j) E_f= (-2.383780992526702+0j)\n",
      "k= 132 c_k= 0.2440905554066089 a_k= 0.07375771470110695 g= -0.2783050009794616 E_A= (-1.8627509806069438+0j) E_B= (-1.7268877360839165+0j) E_f= (-2.3840031424340586+0j)\n",
      "k= 133 c_k= 0.2439059566207471 a_k= 0.07365447440468298 g= 0.3739469698320278 E_A= (-1.8758141792778766+0j) E_B= (-2.0582299660824974+0j) E_f= (-2.384001884351434+0j)\n",
      "k= 134 c_k= 0.24372286838324891 a_k= 0.07355209159124616 g= -0.06950988092608369 E_A= (-1.950720414926844+0j) E_B= (-1.9168381198062776+0j) E_f= (-2.383839936510062+0j)\n",
      "k= 135 c_k= 0.24354126728068126 a_k= 0.07345055329834668 g= 0.256696657996101 E_A= (-1.941549418921361+0j) E_B= (-2.066581877711533+0j) E_f= (-2.3866496211960166+0j)\n",
      "k= 136 c_k= 0.24336113043132843 a_k= 0.07334984684657163 g= -0.15253029217702316 E_A= (-1.9467476466855902+0j) E_B= (-1.8725077580271479+0j) E_f= (-2.386180295422255+0j)\n",
      "k= 137 c_k= 0.24318243546933885 a_k= 0.07324995983148899 g= 0.1576474058899396 E_A= (-2.126106287924744+0j) E_B= (-2.202780448144222+0j) E_f= (-2.38918568859929+0j)\n",
      "k= 138 c_k= 0.24300516052945542 a_k= 0.07315088011587384 g= -0.15393016349046515 E_A= (-1.9730671309365762+0j) E_B= (-1.8982554827579246+0j) E_f= (-2.390261157306424+0j)\n",
      "k= 139 c_k= 0.24282928423230438 a_k= 0.07305259582220451 g= 0.1702566740489886 E_A= (-1.948161099384546+0j) E_B= (-2.0308477119747232+0j) E_f= (-2.3950148425382425+0j)\n",
      "k= 140 c_k= 0.24265478567021764 a_k= 0.07295509532541815 g= -0.3728439425992317 E_A= (-2.0754056944140253+0j) E_B= (-1.8944609604543143+0j) E_f= (-2.402562088300132+0j)\n",
      "k= 141 c_k= 0.2424816443935664 a_k= 0.07285836724591477 g= 0.2519227794202311 E_A= (-1.9441313785222551+0j) E_B= (-2.066304678150286+0j) E_f= (-2.40600893974081+0j)\n",
      "k= 142 c_k= 0.24230984039758352 a_k= 0.07276240044279955 g= 0.21861712092239685 E_A= (-1.9429052316498434+0j) E_B= (-2.048851391007614+0j) E_f= (-2.406832140261598+0j)\n",
      "k= 143 c_k= 0.24213935410965462 a_k= 0.07266718400735425 g= 0.35599550748380193 E_A= (-1.7747828459790045+0j) E_B= (-1.9471838904751375+0j) E_f= (-2.405959860716668+0j)\n",
      "k= 144 c_k= 0.24197016637705707 a_k= 0.0725727072567281 g= 0.34320312510575046 E_A= (-1.746639458325407+0j) E_B= (-1.9127292928913358+0j) E_f= (-2.406781085353626+0j)\n",
      "k= 145 c_k= 0.24180225845512912 a_k= 0.07247895972783952 g= 0.5711628448565895 E_A= (-1.882952737283371+0j) E_B= (-2.1591696689473308+0j) E_f= (-2.4211129552586512+0j)\n",
      "k= 146 c_k= 0.2416356119958507 a_k= 0.07238593117148054 g= 0.3864190085738007 E_A= (-1.803868742682198+0j) E_B= (-1.9906139299293184+0j) E_f= (-2.427190490064747+0j)\n"
     ]
    },
    {
     "name": "stdout",
     "output_type": "stream",
     "text": [
      "k= 147 c_k= 0.24147020903681907 a_k= 0.07229361154661569 g= 0.10017349471032119 E_A= (-1.8553256279417982+0j) E_B= (-1.9037034573570981+0j) E_f= (-2.428721313390017+0j)\n",
      "k= 148 c_k= 0.24130603199060283 a_k= 0.07220199101486784 g= -0.6016179091777153 E_A= (-2.0295648779593205+0j) E_B= (-1.7392168170830058+0j) E_f= (-2.4407616754812764+0j)\n",
      "k= 149 c_k= 0.24114306363445936 a_k= 0.07211105993518374 g= 0.026205064841800324 E_A= (-1.8212123662688335+0j) E_B= (-1.8338507055062163+0j) E_f= (-2.4405723406265825+0j)\n",
      "k= 150 c_k= 0.24098128710040054 a_k= 0.07202080885867242 g= -0.37847083526034037 E_A= (-2.0686075655007023+0j) E_B= (-1.8861987874787014+0j) E_f= (-2.4444282430572626+0j)\n",
      "k= 151 c_k= 0.24082068586559263 a_k= 0.07193122852360953 g= -0.1995149036586533 E_A= (-2.050473666595692+0j) E_B= (-1.9543790347167231+0j) E_f= (-2.447132651087194+0j)\n",
      "k= 152 c_k= 0.24066124374307757 a_k= 0.07184230985060167 g= -0.22683145831516185 E_A= (-2.100760607336301+0j) E_B= (-1.9915815255799352+0j) E_f= (-2.452204241737127+0j)\n",
      "k= 153 c_k= 0.24050294487280224 a_k= 0.07175404393790426 g= 0.10497362951317012 E_A= (-1.9300900891852273+0j) E_B= (-1.9805830232490351+0j) E_f= (-2.452827939897185+0j)\n",
      "k= 154 c_k= 0.24034577371294386 a_k= 0.07166642205688757 g= -0.12007966708982863 E_A= (-2.0059332861445642+0j) E_B= (-1.948212005156769+0j) E_f= (-2.454122276938158+0j)\n",
      "k= 155 c_k= 0.2401897150315199 a_k= 0.07157943564764495 g= -0.1450056135875188 E_A= (-2.051494815476137+0j) E_B= (-1.9818371014650236+0j) E_f= (-2.4564270618078083+0j)\n",
      "k= 156 c_k= 0.24003475389827156 a_k= 0.0714930763147383 g= -0.12153279333060601 E_A= (-2.033858706487192+0j) E_B= (-1.9755145182118288+0j) E_f= (-2.4574528378298903+0j)\n",
      "k= 157 c_k= 0.23988087567680955 a_k= 0.07140733582307546 g= 0.029399748682792652 E_A= (-2.0493699149319777+0j) E_B= (-2.0634747898493906+0j) E_f= (-2.4574099560886546+0j)\n",
      "k= 158 c_k= 0.239728066017013 a_k= 0.07132220609391496 g= 0.05695248293728682 E_A= (-2.149435878222236+0j) E_B= (-2.176742095401081+0j) E_f= (-2.4574414194881222+0j)\n",
      "k= 159 c_k= 0.23957631084767136 a_k= 0.07123767920099304 g= -0.5172093698038956 E_A= (-2.1715521497006187+0j) E_B= (-1.923729924193686+0j) E_f= (-2.4758912022925195+0j)\n",
      "k= 160 c_k= 0.2394255963693599 a_k= 0.07115374736676897 g= -0.03037781656573391 E_A= (-2.10835391867279+0j) E_B= (-2.0938074649774903+0j) E_f= (-2.4762298051927307+0j)\n",
      "k= 161 c_k= 0.23927590904754018 a_k= 0.07107040295878399 g= -0.0743033300510587 E_A= (-1.8357380248181294+0j) E_B= (-1.8001800311316765+0j) E_f= (-2.4759915178152623+0j)\n",
      "k= 162 c_k= 0.2391272356058773 a_k= 0.07098763848613014 g= -0.4137767189627099 E_A= (-2.1001351410913545+0j) E_B= (-1.9022445751641088+0j) E_f= (-2.475370489902094+0j)\n",
      "k= 163 c_k= 0.23897956301976508 a_k= 0.07090544659602474 g= 0.3522857261803807 E_A= (-1.8941292656250104+0j) E_B= (-2.0625074434263864+0j) E_f= (-2.47581444445703+0j)\n",
      "k= 164 c_k= 0.23883287851005275 a_k= 0.07082382007048699 g= 0.17889410027540917 E_A= (-1.7945859231190044+0j) E_B= (-1.8800375089534884+0j) E_f= (-2.4766934511765566+0j)\n",
      "k= 165 c_k= 0.238687169536964 a_k= 0.070742751823113 g= 0.23480942195609328 E_A= (-1.9088440510136393+0j) E_B= (-2.0209360436282604+0j) E_f= (-2.4782258050635315+0j)\n",
      "k= 166 c_k= 0.23854242379420307 a_k= 0.07066223489594572 g= 0.2608950135599145 E_A= (-1.9758062538063694+0j) E_B= (-2.1002753115871764+0j) E_f= (-2.477745178935453+0j)\n",
      "k= 167 c_k= 0.23839862920323973 a_k= 0.0705822624564367 g= 0.31368204912156517 E_A= (-1.9783439560336584+0j) E_B= (-2.1279066970661473+0j) E_f= (-2.4810351284043035+0j)\n",
      "k= 168 c_k= 0.2382557739077676 a_k= 0.07050282779449614 g= 0.7954796645181745 E_A= (-1.8964244612429075+0j) E_B= (-2.2754797074382456+0j) E_f= (-2.499464977077386+0j)\n",
      "k= 169 c_k= 0.2381138462683289 a_k= 0.07042392431962848 g= -0.06519310409217006 E_A= (-2.2149322862388585+0j) E_B= (-2.183885524707742+0j) E_f= (-2.499661842940677+0j)\n",
      "k= 170 c_k= 0.23797283485710038 a_k= 0.07034554555815044 g= -0.019178482711861667 E_A= (-2.161727569140254+0j) E_B= (-2.1525996533418548+0j) E_f= (-2.499782835094434+0j)\n",
      "k= 171 c_k= 0.23783272845283365 a_k= 0.07026768515048878 g= -0.06940756128033411 E_A= (-1.9895080424975042+0j) E_B= (-1.956493263148386+0j) E_f= (-2.499691827830847+0j)\n",
      "k= 172 c_k= 0.23769351603594574 a_k= 0.07019033684855502 g= -0.022968125603000832 E_A= (-1.908218796644018+0j) E_B= (-1.897300047581353+0j) E_f= (-2.4996155468683865+0j)\n",
      "k= 173 c_k= 0.23755518678375354 a_k= 0.0701134945131944 g= -0.0322151336855353 E_A= (-2.0139250349186137+0j) E_B= (-1.9986192907187519+0j) E_f= (-2.499763677813746+0j)\n",
      "k= 174 c_k= 0.23741773006584782 a_k= 0.07003715211170694 g= 0.3669695121399645 E_A= (-1.9319678045694864+0j) E_B= (-2.1062179417207703+0j) E_f= (-2.5017258789433328+0j)\n",
      "k= 175 c_k= 0.23728113543960122 a_k= 0.0699613037154378 g= 0.4176765368804702 E_A= (-1.914453025882664+0j) E_B= (-2.112666551717621+0j) E_f= (-2.502036195137541+0j)\n",
      "k= 176 c_k= 0.23714539264580659 a_k= 0.06988594349743485 g= -0.4336430827083623 E_A= (-2.1933448221536085+0j) E_B= (-1.9876719039195834+0j) E_f= (-2.5142790328102853+0j)\n",
      "k= 177 c_k= 0.2370104916044403 a_k= 0.06981106573017119 g= -0.19299267349898333 E_A= (-2.0646314954888405+0j) E_B= (-1.973148918644742+0j) E_f= (-2.5152937203586907+0j)\n",
      "k= 178 c_k= 0.2368764224105464 a_k= 0.06973666478333047 g= -0.09343658790775393 E_A= (-2.077428874839237+0j) E_B= (-2.0331630255075623+0j) E_f= (-2.516087845970463+0j)\n",
      "k= 179 c_k= 0.23674317533023834 a_k= 0.06966273512165298 g= 0.5836038562495388 E_A= (-1.9931792439601268+0j) E_B= (-2.2695077040871023+0j) E_f= (-2.5368193889969786+0j)\n",
      "k= 180 c_k= 0.23661074079681305 a_k= 0.0695892713028405 g= -0.3195897059707063 E_A= (-1.8652724545601522+0j) E_B= (-1.7140357403986233+0j) E_f= (-2.5361705286451572+0j)\n",
      "k= 181 c_k= 0.23647910940697436 a_k= 0.06951626797551798 g= 0.04633749343902315 E_A= (-2.094817092914572+0j) E_B= (-2.1167327912757954+0j) E_f= (-2.5361560554790206+0j)\n",
      "k= 182 c_k= 0.23634827191716234 a_k= 0.06944371987725033 g= -0.141853597142299 E_A= (-1.9660128752196961+0j) E_B= (-1.8989591701200648+0j) E_f= (-2.534936430345441+0j)\n",
      "k= 183 c_k= 0.23621821923998398 a_k= 0.0693716218326125 g= 0.08762996280502319 E_A= (-2.085093154607522+0j) E_B= (-2.126492742139259+0j) E_f= (-2.5351458048412954+0j)\n",
      "k= 184 c_k= 0.23608894244074305 a_k= 0.06929996875131106 g= -0.09465823525728817 E_A= (-2.224469903817411+0j) E_B= (-2.1797743785070107+0j) E_f= (-2.5355350254457014+0j)\n",
      "k= 185 c_k= 0.2359604327340652 a_k= 0.0692287556263558 g= -0.3534180369273843 E_A= (-2.170604915246691+0j) E_B= (-2.003819569387872+0j) E_f= (-2.540009994085289+0j)\n",
      "k= 186 c_k= 0.2358326814806152 a_k= 0.06915797753227963 g= 0.07797624022633666 E_A= (-2.1576347340031843+0j) E_B= (-2.1944134256518915+0j) E_f= (-2.5408508667972542+0j)\n",
      "k= 187 c_k= 0.23570568018390378 a_k= 0.06908762962340548 g= 0.014281238018449344 E_A= (-1.9751351816595648+0j) E_B= (-1.9818675195015785+0j) E_f= (-2.540756608729573+0j)\n",
      "k= 188 c_k= 0.23557942048718056 a_k= 0.06901770713215832 g= -0.04064835784057154 E_A= (-2.088826658537826+0j) E_B= (-2.0696748253701513+0j) E_f= (-2.540783733899988+0j)\n",
      "k= 189 c_k= 0.2354538941704108 a_k= 0.06894820536742151 g= -0.028957099415877274 E_A= (-2.0044019782592586+0j) E_B= (-1.9907658546165625+0j) E_f= (-2.5403683451303873+0j)\n",
      "k= 190 c_k= 0.2353290931473328 a_k= 0.06887911971293545 g= 0.08692009589359079 E_A= (-2.075244351873469+0j) E_B= (-2.116154006559305+0j) E_f= (-2.540266690048905+0j)\n",
      "k= 191 c_k= 0.2352050094625941 a_k= 0.06881044562573774 g= -0.26615057709175305 E_A= (-2.1486240860239+0j) E_B= (-2.0234241880172186+0j) E_f= (-2.5383547001722917+0j)\n",
      "k= 192 c_k= 0.23508163528896314 a_k= 0.06874217863464331 g= 0.11288084819648286 E_A= (-2.151255813954466+0j) E_B= (-2.2043282427281348+0j) E_f= (-2.5386264786165933+0j)\n",
      "k= 193 c_k= 0.23495896292461463 a_k= 0.06867431433876339 g= 0.2030088747047613 E_A= (-2.133206287864472+0j) E_B= (-2.2286037971947197+0j) E_f= (-2.539102552501293+0j)\n",
      "k= 194 c_k= 0.23483698479048612 a_k= 0.06860684840606211 g= 0.04214914586127575 E_A= (-1.84058359357472+0j) E_B= (-1.8603799502258327+0j) E_f= (-2.538686410848442+0j)\n",
      "k= 195 c_k= 0.23471569342770326 a_k= 0.06853977657194962 g= 0.18356394971024206 E_A= (-1.9644803611232364+0j) E_B= (-2.0506510406123715+0j) E_f= (-2.535377846693746+0j)\n"
     ]
    },
    {
     "name": "stdout",
     "output_type": "stream",
     "text": [
      "k= 196 c_k= 0.2345950814950722 a_k= 0.06847309463791071 g= -0.143812756613592 E_A= (-2.009449806617691+0j) E_B= (-1.9419742759020977+0j) E_f= (-2.535087460108019+0j)\n",
      "k= 197 c_k= 0.23447514176663659 a_k= 0.06840679847016762 g= 0.0010690997088553655 E_A= (-1.9561808694209175+0j) E_B= (-1.9566822240325106+0j) E_f= (-2.5350858615776737+0j)\n",
      "k= 198 c_k= 0.23435586712929732 a_k= 0.06834088399837632 g= 0.17888902125849016 E_A= (-2.0758792194068922+0j) E_B= (-2.1597266028007818+0j) E_f= (-2.5363543669162802+0j)\n",
      "k= 199 c_k= 0.23423725058049316 a_k= 0.0682753472143551 g= -0.15429727127846588 E_A= (-1.9902771469271867+0j) E_B= (-1.917992809734506+0j) E_f= (-2.536694399757354+0j)\n",
      "k= 200 c_k= 0.23411928522594053 a_k= 0.06821018417084462 g= -0.39556544865276805 E_A= (-2.1802471523783007+0j) E_B= (-1.9950281521809716+0j) E_f= (-2.540476067755458+0j)\n",
      "k= 201 c_k= 0.23400196427742995 a_k= 0.06814539098029829 g= 0.3988875184044758 E_A= (-2.040174976994572+0j) E_B= (-2.2268559026593655+0j) E_f= (-2.5433301976378195+0j)\n",
      "k= 202 c_k= 0.2338852810506788 a_k= 0.06808096381370235 g= -0.2517931491151494 E_A= (-2.1841981741440057+0j) E_B= (-2.0664167512491414+0j) E_f= (-2.5448701161413014+0j)\n",
      "k= 203 c_k= 0.23376922896323718 a_k= 0.06801689889942476 g= -0.07056514731951141 E_A= (-2.1963681212674135+0j) E_B= (-2.1633762011062947+0j) E_f= (-2.5453288464769344+0j)\n",
      "k= 204 c_k= 0.23365380153244633 a_k= 0.06795319252209177 g= 0.09342176587721673 E_A= (-2.1524497150914597+0j) E_B= (-2.1961064165776314+0j) E_f= (-2.546095193006064+0j)\n",
      "k= 205 c_k= 0.23353899237344763 a_k= 0.06788984102149179 g= 0.012754576898267847 E_A= (-2.134588878884997+0j) E_B= (-2.1405462609589394+0j) E_f= (-2.5461821229510098+0j)\n",
      "k= 206 c_k= 0.23342479519724088 a_k= 0.06782684079150543 g= -0.0463178965544974 E_A= (-2.0949822690804862+0j) E_B= (-2.073358778046085+0j) E_f= (-2.54651132905279+0j)\n",
      "k= 207 c_k= 0.23331120380879006 a_k= 0.06776418827906129 g= -0.19078184876135898 E_A= (-2.1460304554060103+0j) E_B= (-2.057007369807252+0j) E_f= (-2.5473277199648323+0j)\n",
      "k= 208 c_k= 0.2331982121051757 a_k= 0.06770187998311641 g= 0.27157889743540137 E_A= (-2.1465940346574106+0j) E_B= (-2.2732574613122716+0j) E_f= (-2.5464887888553953+0j)\n",
      "k= 209 c_k= 0.23308581407379206 a_k= 0.06763991245366095 g= 0.03216543809238127 E_A= (-2.0372267882178305+0j) E_B= (-2.0522214028634362+0j) E_f= (-2.5461535489211236+0j)\n",
      "k= 210 c_k= 0.232974003790588 a_k= 0.06757828229074644 g= 0.2756673186602434 E_A= (-1.893167378269712+0j) E_B= (-2.0216140161546976+0j) E_f= (-2.5470566187962818+0j)\n",
      "k= 211 c_k= 0.23286277541835038 a_k= 0.06751698614353654 g= 0.1215917661316423 E_A= (-1.9352653832926+0j) E_B= (-1.9918937755514663+0j) E_f= (-2.547338324664841+0j)\n",
      "k= 212 c_k= 0.23275212320502842 a_k= 0.06745602070938038 g= 0.18313605579188608 E_A= (-2.163687197280499+0j) E_B= (-2.248937808922411+0j) E_f= (-2.546525803660982+0j)\n",
      "k= 213 c_k= 0.23264204148209838 a_k= 0.06739538273290709 g= 0.04473797701842308 E_A= (-2.0543518664709253+0j) E_B= (-2.0751677350816156+0j) E_f= (-2.547157590079977+0j)\n",
      "k= 214 c_k= 0.23253252466296698 a_k= 0.06733506900514152 g= 0.06680269380154481 E_A= (-2.0804748696224244+0j) E_B= (-2.111542467710345+0j) E_f= (-2.5470908973653277+0j)\n",
      "k= 215 c_k= 0.23242356724141247 a_k= 0.06727507636264034 g= -0.274024558824943 E_A= (-2.2275117909396895+0j) E_B= (-2.1001322599919945+0j) E_f= (-2.5477121126474307+0j)\n",
      "k= 216 c_k= 0.23231516379006265 a_k= 0.06721540168664773 g= -0.24886425200689244 E_A= (-2.337025601267424+0j) E_B= (-2.2213957223344787+0j) E_f= (-2.5507650007625005+0j)\n",
      "k= 217 c_k= 0.23220730895890848 a_k= 0.06715604190227074 g= -0.09727603024672274 E_A= (-2.0431181568718353+0j) E_B= (-1.9979417464522415+0j) E_f= (-2.5504727022015254+0j)\n",
      "k= 218 c_k= 0.2320999974738524 a_k= 0.06709699397767312 g= 0.1050123407305412 E_A= (-2.0228396776945283+0j) E_B= (-2.071586405731092+0j) E_f= (-2.5498517615176+0j)\n",
      "k= 219 c_k= 0.2319932241352903 a_k= 0.06703825492328747 g= 0.23250543693873651 E_A= (-2.0885928306665917+0j) E_B= (-2.1964722025553955+0j) E_f= (-2.551480137382023+0j)\n",
      "k= 220 c_k= 0.23188698381672643 a_k= 0.06697982179104527 g= -0.033918558543837 E_A= (-2.051496436833793+0j) E_B= (-2.03576589236151+0j) E_f= (-2.551534427239459+0j)\n",
      "k= 221 c_k= 0.23178127146341995 a_k= 0.06692169167362413 g= 0.18392697528220672 E_A= (-2.0718612034487447+0j) E_B= (-2.1571228598234065+0j) E_f= (-2.5512948854812163+0j)\n",
      "k= 222 c_k= 0.23167608209106294 a_k= 0.0668638617037118 g= 0.15037482818358516 E_A= (-2.1570222988041294+0j) E_B= (-2.226698800881509+0j) E_f= (-2.5529676108947346+0j)\n",
      "k= 223 c_k= 0.23157141078448806 a_k= 0.06680632905328665 g= 0.13847288146116643 E_A= (-2.2032062818252776+0j) E_B= (-2.2673390028559886+0j) E_f= (-2.551665232230812+0j)\n",
      "k= 224 c_k= 0.23146725269640603 a_k= 0.06674909093291419 g= -0.0840750914056041 E_A= (-2.2503706121024507+0j) E_B= (-2.211449351246742+0j) E_f= (-2.552007228372072+0j)\n",
      "k= 225 c_k= 0.23136360304617118 a_k= 0.06669214459105885 g= 0.3779494613620036 E_A= (-1.9200689837353142+0j) E_B= (-2.09495648203546+0j) E_f= (-2.5551733817303757+0j)\n",
      "k= 226 c_k= 0.23126045711857537 a_k= 0.0666354873134112 g= 0.24835271132980138 E_A= (-2.109319746803961+0j) E_B= (-2.224188069901496+0j) E_f= (-2.558793226217751+0j)\n",
      "k= 227 c_k= 0.23115781026266843 a_k= 0.06657911642222968 g= 0.05729150576768223 E_A= (-2.0902044859998643+0j) E_B= (-2.1166912440396812+0j) E_f= (-2.5584160105901095+0j)\n",
      "k= 228 c_k= 0.23105565789060523 a_k= 0.06652302927569675 g= 0.05659394643029542 E_A= (-2.0217963746791345+0j) E_B= (-2.0479490777292897+0j) E_f= (-2.558798041140722+0j)\n",
      "k= 229 c_k= 0.23095399547651818 a_k= 0.06646722326728906 g= 0.028831621588108952 E_A= (-2.0649903726172756+0j) E_B= (-2.078307929020957+0j) E_f= (-2.5586317667383707+0j)\n",
      "k= 230 c_k= 0.2308528185554149 a_k= 0.06641169582516114 g= -0.1471287528956292 E_A= (-2.1295896119834015+0j) E_B= (-2.061659437390403+0j) E_f= (-2.55870747382054+0j)\n",
      "k= 231 c_k= 0.23075212272210002 a_k= 0.06635644441154247 g= 0.23862820934460555 E_A= (-1.8845320485082344+0j) E_B= (-1.9946599802035172+0j) E_f= (-2.561450462637833+0j)\n",
      "k= 232 c_k= 0.23065190363012056 a_k= 0.06630146652214734 g= 0.05062659292978319 E_A= (-2.063591995269576+0j) E_B= (-2.086946235336699+0j) E_f= (-2.5614231973739674+0j)\n",
      "k= 233 c_k= 0.23055215699073456 a_k= 0.0662467596855975 g= -0.052698184684063336 E_A= (-2.10640724294297+0j) E_B= (-2.0821078826461563+0j) E_f= (-2.5615922926348347+0j)\n",
      "k= 234 c_k= 0.23045287857190197 a_k= 0.06619232146285682 g= 0.4636283804144351 E_A= (-1.990404372808538+0j) E_B= (-2.204093362516809+0j) E_f= (-2.560480988846816+0j)\n",
      "k= 235 c_k= 0.23035406419729748 a_k= 0.0661381494466782 g= 0.1355463671415637 E_A= (-2.0974004120206935+0j) E_B= (-2.15984772513717+0j) E_f= (-2.5605855329096436+0j)\n",
      "k= 236 c_k= 0.23025570974534454 a_k= 0.06608424126106198 g= -0.043013132491295236 E_A= (-1.9938836533679878+0j) E_B= (-1.9740756146676803+0j) E_f= (-2.5604913795846778+0j)\n",
      "k= 237 c_k= 0.23015781114827027 a_k= 0.06603059456072577 g= -0.1307449762244724 E_A= (-2.143481716388929+0j) E_B= (-2.0832977612960146+0j) E_f= (-2.5622786370844133+0j)\n",
      "k= 238 c_k= 0.23006036439118038 a_k= 0.06597720703058534 g= 0.022310817728772886 E_A= (-2.151979330535475+0j) E_B= (-2.1622450002485682+0j) E_f= (-2.5625415712260953+0j)\n",
      "k= 239 c_k= 0.2299633655111541 a_k= 0.06592407638524637 g= -0.18299158712389096 E_A= (-2.1118974062288203+0j) E_B= (-2.027734683758345+0j) E_f= (-2.5641145270957644+0j)\n",
      "k= 240 c_k= 0.22986681059635786 a_k= 0.06587120036850679 g= 0.12589877270141714 E_A= (-1.9312354626974353+0j) E_B= (-1.9891153613751764+0j) E_f= (-2.5649531388662123+0j)\n",
      "k= 241 c_k= 0.2297706957851782 a_k= 0.06581857675286922 g= 0.1198286097479079 E_A= (-1.9887672374785628+0j) E_B= (-2.0438334435520575+0j) E_f= (-2.5648869255222366+0j)\n",
      "k= 242 c_k= 0.22967501726537237 a_k= 0.06576620333906374 g= 0.19105883612669983 E_A= (-2.1367934864383726+0j) E_B= (-2.224556369410576+0j) E_f= (-2.564894708653182+0j)\n",
      "k= 243 c_k= 0.22957977127323734 a_k= 0.0657140779555802 g= -0.16873712920647874 E_A= (-2.220875986250065+0j) E_B= (-2.143398723193013+0j) E_f= (-2.56442353441906+0j)\n",
      "k= 244 c_k= 0.2294849540927954 a_k= 0.0656621984582101 g= -0.016256136156588396 E_A= (-2.225421605546917+0j) E_B= (-2.217960528227675+0j) E_f= (-2.5644063464137115+0j)\n"
     ]
    },
    {
     "name": "stdout",
     "output_type": "stream",
     "text": [
      "k= 245 c_k= 0.22939056205499744 a_k= 0.06561056272959805 g= -0.026877566744283588 E_A= (-2.2039110772452926+0j) E_B= (-2.1915801569610087+0j) E_f= (-2.5643525315262425+0j)\n",
      "k= 246 c_k= 0.2292965915369422 a_k= 0.06555916867880195 g= -0.0345344253468745 E_A= (-2.2067388524596225+0j) E_B= (-2.190901600414172+0j) E_f= (-2.5643978138521017+0j)\n",
      "k= 247 c_k= 0.2292030389611117 a_k= 0.06550801424086235 g= -0.3443035528449559 E_A= (-2.271622314763139+0j) E_B= (-2.1137914734887957+0j) E_f= (-2.567961384750749+0j)\n",
      "k= 248 c_k= 0.2291099007946226 a_k= 0.06545709737638034 g= 0.39832218709053047 E_A= (-2.06855759604887+0j) E_B= (-2.251076709586087+0j) E_f= (-2.5715416232463215+0j)\n",
      "k= 249 c_k= 0.22901717354849255 a_k= 0.06540641607110383 g= -0.11128208334141594 E_A= (-2.2647666220896934+0j) E_B= (-2.2137956057028156+0j) E_f= (-2.5722453974752266+0j)\n",
      "k= 250 c_k= 0.22892485377692168 a_k= 0.06535596833552226 g= -0.27942029245859856 E_A= (-2.0852687110479518+0j) E_B= (-1.957336211861173+0j) E_f= (-2.5718394098713864+0j)\n",
      "k= 251 c_k= 0.22883293807658853 a_k= 0.06530575220446928 g= -0.05015369959453585 E_A= (-2.265865560216334+0j) E_B= (-2.2429119233490775+0j) E_f= (-2.572186540921712+0j)\n",
      "k= 252 c_k= 0.22874142308596035 a_k= 0.06525576573673324 g= -0.2588088039307002 E_A= (-2.2931779307414897+0j) E_B= (-2.1747773425049224+0j) E_f= (-2.57753812796623+0j)\n",
      "k= 253 c_k= 0.22865030548461726 a_k= 0.06520600701467542 g= 0.07688515860255411 E_A= (-2.157571511773645+0j) E_B= (-2.1927311417770596+0j) E_f= (-2.5772265035015485+0j)\n",
      "k= 254 c_k= 0.22855958199258958 a_k= 0.06515647414385585 g= -0.15362610836324286 E_A= (-2.0951999069598015+0j) E_B= (-2.0249744687384994+0j) E_f= (-2.5766838607472433+0j)\n",
      "k= 255 c_k= 0.22846924936970905 a_k= 0.06510716525266629 g= -0.060398118806086094 E_A= (-2.1016643126931176+0j) E_B= (-2.0740660869591796+0j) E_f= (-2.5766821740224137+0j)\n",
      "k= 256 c_k= 0.22837930441497245 a_k= 0.06505807849197048 g= 0.14580556365058872 E_A= (-2.0135699646998+0j) E_B= (-2.080167911112509+0j) E_f= (-2.575881358910963+0j)\n",
      "k= 257 c_k= 0.22828974396591784 a_k= 0.06500921203475138 g= -0.10553030594603263 E_A= (-2.073045084489369+0j) E_B= (-2.0248621114392393+0j) E_f= (-2.5751017710128297+0j)\n",
      "k= 258 c_k= 0.22820056489801344 a_k= 0.06496056407576516 g= 0.17658537576631425 E_A= (-2.139599855529916+0j) E_B= (-2.2201936205351176+0j) E_f= (-2.57533996427985+0j)\n",
      "k= 259 c_k= 0.22811176412405826 a_k= 0.06491213283120197 g= 0.003198023896749309 E_A= (-2.1769746290277276+0j) E_B= (-2.1784336427733244+0j) E_f= (-2.5753105988091844+0j)\n",
      "k= 260 c_k= 0.22802333859359442 a_k= 0.06486391653835318 g= -0.15205496133393978 E_A= (-2.186555123783702+0j) E_B= (-2.1172109639175325+0j) E_f= (-2.5774116596263053+0j)\n",
      "k= 261 c_k= 0.22793528529233112 a_k= 0.06481591345528495 g= -0.333670623874515 E_A= (-2.2505161120706463+0j) E_B= (-2.098405494377631+0j) E_f= (-2.5796276897102954+0j)\n",
      "k= 262 c_k= 0.22784760124157974 a_k= 0.06476812186051817 g= 3.239967236514869e-05 E_A= (-2.226174951696653+0j) E_B= (-2.2261897160719117+0j) E_f= (-2.5796276094121717+0j)\n",
      "k= 263 c_k= 0.22776028349769972 a_k= 0.06472054005271423 g= 0.07976607682915894 E_A= (-2.1107522477600345+0j) E_B= (-2.1470873363042515+0j) E_f= (-2.580582416902975+0j)\n",
      "k= 264 c_k= 0.22767332915155544 a_k= 0.06467316635036707 g= -0.045647222753430874 E_A= (-2.18488959545994+0j) E_B= (-2.1641042851183476+0j) E_f= (-2.5805468147306603+0j)\n",
      "k= 265 c_k= 0.22758673532798307 a_k= 0.06462599909150071 g= 0.2678896804014219 E_A= (-2.1148039143904507+0j) E_B= (-2.2367401899716834+0j) E_f= (-2.584240575337378+0j)\n",
      "k= 266 c_k= 0.22750049918526816 a_k= 0.06457903663337276 g= 0.018939982317440367 E_A= (-2.1055624802554918+0j) E_B= (-2.1141801911190474+0j) E_f= (-2.5840984010594408+0j)\n",
      "k= 267 c_k= 0.22741461791463288 a_k= 0.06453227735218328 g= -0.10042855554439846 E_A= (-2.34278212879049+0j) E_B= (-2.2971042856167943+0j) E_f= (-2.583597287694656+0j)\n",
      "k= 268 c_k= 0.22732908873973287 a_k= 0.06448571964278914 g= 0.031660528321896024 E_A= (-1.9698800994246657+0j) E_B= (-1.984274817529536+0j) E_f= (-2.583756493895665+0j)\n",
      "k= 269 c_k= 0.22724390891616403 a_k= 0.06443936191842374 g= -0.08621568976760058 E_A= (-2.3222689939059+0j) E_B= (-2.2830850132005143+0j) E_f= (-2.5840716095149983+0j)\n",
      "k= 270 c_k= 0.22715907573097813 a_k= 0.06439320261042186 g= 0.3220079213001588 E_A= (-2.011700175628007+0j) E_B= (-2.1579942191892023+0j) E_f= (-2.587247956338852+0j)\n",
      "k= 271 c_k= 0.2270745865022079 a_k= 0.06434724016794964 g= 0.2142358669191166 E_A= (-1.9681876007032075+0j) E_B= (-2.0654826424924084+0j) E_f= (-2.5879047105658506+0j)\n",
      "k= 272 c_k= 0.22699043857840095 a_k= 0.06430147305773945 g= -0.19897158076296137 E_A= (-2.1985339885327457+0j) E_B= (-2.108204695768701+0j) E_f= (-2.5877973328590254+0j)\n",
      "k= 273 c_k= 0.22690662933816205 a_k= 0.06425589976382978 g= 0.0023130115212365468 E_A= (-2.1505556909319297+0j) E_B= (-2.151605366227738+0j) E_f= (-2.5877842342564077+0j)\n",
      "k= 274 c_k= 0.22682315618970433 a_k= 0.06421051878730966 g= 0.1273161978921916 E_A= (-2.1581289386506746+0j) E_B= (-2.2158854623306343+0j) E_f= (-2.5867288906434913+0j)\n",
      "k= 275 c_k= 0.22674001657040857 a_k= 0.06416532864606792 g= 0.040050161534872813 E_A= (-2.194153451391972+0j) E_B= (-2.212315399972101+0j) E_f= (-2.586640457752016+0j)\n",
      "k= 276 c_k= 0.2266572079463908 a_k= 0.064120327874547 g= -0.258546379790386 E_A= (-2.2680868604257327+0j) E_B= (-2.1508840592898606+0j) E_f= (-2.5875715579081313+0j)\n",
      "k= 277 c_k= 0.2265747278120774 a_k= 0.06407551502350102 g= -0.18545786358368582 E_A= (-2.1553607059383473+0j) E_B= (-2.0713205760141813+0j) E_f= (-2.588544540918314+0j)\n",
      "k= 278 c_k= 0.22649257368978862 a_k= 0.06403088865975844 g= 0.23325744586223 E_A= (-2.1937873131577286+0j) E_B= (-2.2994494716490146+0j) E_f= (-2.5899399243356696+0j)\n",
      "k= 279 c_k= 0.2264107431293292 a_k= 0.06398644736598881 g= 0.06330238948392286 E_A= (-1.9872227332699262+0j) E_B= (-2.0158874153597606+0j) E_f= (-2.5901172951102036+0j)\n",
      "k= 280 c_k= 0.2263292337075867 a_k= 0.06394218974047382 g= -0.10677461031817191 E_A= (-2.2253244202435187+0j) E_B= (-2.1769919887780427+0j) E_f= (-2.589862902207593+0j)\n",
      "k= 281 c_k= 0.22624804302813686 a_k= 0.06389811439688235 g= 0.0026714779935030565 E_A= (-2.234716132604075+0j) E_B= (-2.2359249659401206+0j) E_f= (-2.589887516504609+0j)\n",
      "k= 282 c_k= 0.2261671687208565 a_k= 0.0638542199640496 g= -0.015743338633550968 E_A= (-2.104783428914449+0j) E_B= (-2.0976621762645213+0j) E_f= (-2.5897873595850096+0j)\n",
      "k= 283 c_k= 0.22608660844154282 a_k= 0.06381050508575996 g= 0.0715219054087635 E_A= (-2.1507608373340794+0j) E_B= (-2.1831011273803678+0j) E_f= (-2.5906362199792126+0j)\n",
      "k= 284 c_k= 0.22600635987154008 a_k= 0.06376696842053399 g= -0.3039444232927393 E_A= (-2.2139171203084214+0j) E_B= (-2.0765303748851283+0j) E_f= (-2.594172615364408+0j)\n",
      "k= 285 c_k= 0.22592642071737257 a_k= 0.06372360864141886 g= 0.2669428514565453 E_A= (-2.0133150977900365+0j) E_B= (-2.1339339837213696+0j) E_f= (-2.5959089501646586+0j)\n",
      "k= 286 c_k= 0.22584678871038427 a_k= 0.06368042443578269 g= 0.06538511843380562 E_A= (-2.2692138849884254+0j) E_B= (-2.2987479230438717+0j) E_f= (-2.596117004597673+0j)\n",
      "k= 287 c_k= 0.2257674616063849 a_k= 0.06363741450511233 g= -0.053625003797475174 E_A= (-2.0120277120936807+0j) E_B= (-1.9878141501217033+0j) E_f= (-2.596395789131779+0j)\n",
      "k= 288 c_k= 0.2256884371853021 a_k= 0.06359457756481474 g= -0.043453308961103526 E_A= (-2.200530863597767+0j) E_B= (-2.180917044817844+0j) E_f= (-2.596259920113529+0j)\n",
      "k= 289 c_k= 0.22560971325084006 a_k= 0.06355191234402185 g= -0.04289077396264684 E_A= (-2.2683612720484967+0j) E_B= (-2.249008121618858+0j) E_f= (-2.5960155770390188+0j)\n",
      "k= 290 c_k= 0.2255312876301436 a_k= 0.06350941758539864 g= 0.11122996830841102 E_A= (-2.1014651556712174+0j) E_B= (-2.1516368316225294+0j) E_f= (-2.596279163584308+0j)\n",
      "k= 291 c_k= 0.22545315817346873 a_k= 0.06346709204495479 g= 0.1460811270712632 E_A= (-2.1536683751276+0j) E_B= (-2.219537278023112+0j) E_f= (-2.5956439503139817+0j)\n",
      "k= 292 c_k= 0.22537532275385858 a_k= 0.06342493449185924 g= -0.15836495611416937 E_A= (-2.191946241854829+0j) E_B= (-2.1205631356605656+0j) E_f= (-2.5958601007541495+0j)\n",
      "k= 293 c_k= 0.22529777926682498 a_k= 0.06338294370825821 g= 0.15190057873035995 E_A= (-2.177004268432091+0j) E_B= (-2.245449994546682+0j) E_f= (-2.597018617967165+0j)\n"
     ]
    },
    {
     "name": "stdout",
     "output_type": "stream",
     "text": [
      "k= 294 c_k= 0.22522052563003578 a_k= 0.06334111848909627 g= -0.09099233254189655 E_A= (-2.3025309627529404+0j) E_B= (-2.2615442808261625+0j) E_f= (-2.597337413490326+0j)\n",
      "k= 295 c_k= 0.2251435597830072 a_k= 0.06329945764194023 g= -0.13053272540214444 E_A= (-2.2098229525408284+0j) E_B= (-2.1510457476103952+0j) E_f= (-2.5977110413510154+0j)\n",
      "k= 296 c_k= 0.22506687968680195 a_k= 0.06325795998680635 g= 0.06456022419145038 E_A= (-2.1592499184367155+0j) E_B= (-2.188310654858016+0j) E_f= (-2.59803005142814+0j)\n",
      "k= 297 c_k= 0.22499048332373206 a_k= 0.06321662435599024 g= 0.0460831426060317 E_A= (-2.199894986703155+0j) E_B= (-2.2206315237591703+0j) E_f= (-2.598175578293178+0j)\n",
      "k= 298 c_k= 0.22491436869706707 a_k= 0.06317544959389973 g= 0.13739798671802583 E_A= (-2.133159577531565+0j) E_B= (-2.1949651404174304+0j) E_f= (-2.597621113665064+0j)\n",
      "k= 299 c_k= 0.2248385338307471 a_k= 0.0631344345568905 g= -0.2199005297612978 E_A= (-2.0967106441258045+0j) E_B= (-1.997826418725535+0j) E_f= (-2.595827049504792+0j)\n",
      "k= 300 c_k= 0.2247629767691008 a_k= 0.06309357811310447 g= 0.14534624572003613 E_A= (-2.155293007505654+0j) E_B= (-2.2206299172061508+0j) E_f= (-2.5970740023376644+0j)\n",
      "k= 301 c_k= 0.22468769557656806 a_k= 0.06305287914231089 g= -0.04664605344201979 E_A= (-2.3721318869985653+0j) E_B= (-2.3511702984873075+0j) E_f= (-2.5971804148024376+0j)\n",
      "k= 302 c_k= 0.22461268833742742 a_k= 0.06301233653575018 g= -0.0876833018686593 E_A= (-2.2080987001060146+0j) E_B= (-2.168709135795971+0j) E_f= (-2.597740121024187+0j)\n",
      "k= 303 c_k= 0.2245379531555281 a_k= 0.0629719491959801 g= -0.025581263960149113 E_A= (-2.1144422858626393+0j) E_B= (-2.102954356565153+0j) E_f= (-2.597896778313635+0j)\n",
      "k= 304 c_k= 0.22446348815402628 a_k= 0.06293171603672475 g= 0.13967136224683696 E_A= (-2.1665757901382583+0j) E_B= (-2.2292780324685575+0j) E_f= (-2.5982075415733874+0j)\n",
      "k= 305 c_k= 0.22438929147512626 a_k= 0.06289163598272587 g= -0.15492439263786803 E_A= (-2.166359066374226+0j) E_B= (-2.096832316981775+0j) E_f= (-2.5971662200059207+0j)\n",
      "k= 306 c_k= 0.2243153612798253 a_k= 0.06285170796959669 g= -0.03710867966693722 E_A= (-2.064946121925621+0j) E_B= (-2.0482980281534084+0j) E_f= (-2.597421379391707+0j)\n",
      "k= 307 c_k= 0.2242416957476633 a_k= 0.06281193094367805 g= -0.11372505894388488 E_A= (-2.209197252539746+0j) E_B= (-2.1581934524065867+0j) E_f= (-2.5980321360838046+0j)\n",
      "k= 308 c_k= 0.22416829307647623 a_k= 0.06277230386189711 g= -0.19495297711452486 E_A= (-2.206239999185847+0j) E_B= (-2.1188354469659663+0j) E_f= (-2.598165418332754+0j)\n",
      "k= 309 c_k= 0.22409515148215373 a_k= 0.06273282569162794 g= 0.0742998528965016 E_A= (-2.0739550338421195+0j) E_B= (-2.107255507422006+0j) E_f= (-2.598419635443869+0j)\n",
      "k= 310 c_k= 0.2240222691984007 a_k= 0.06269349541055493 g= 0.2846066126260542 E_A= (-2.162454448935561+0j) E_B= (-2.289970887314279+0j) E_f= (-2.599867923704023+0j)\n",
      "k= 311 c_k= 0.2239496444765029 a_k= 0.06265431200653782 g= 0.0053310987533583196 E_A= (-2.150876478363022+0j) E_B= (-2.1532642737039893+0j) E_f= (-2.5998592571987142+0j)\n",
      "k= 312 c_k= 0.22387727558509607 a_k= 0.06261527447747942 g= 0.2068894197439101 E_A= (-2.0704612982194273+0j) E_B= (-2.163096977498723+0j) E_f= (-2.599803791746092+0j)\n",
      "k= 313 c_k= 0.2238051608099392 a_k= 0.06257638183119511 g= -0.0749793172073011 E_A= (-2.2279934712073013+0j) E_B= (-2.1944319549173024+0j) E_f= (-2.6001513276404538+0j)\n",
      "k= 314 c_k= 0.22373329845369114 a_k= 0.06253763308528457 g= -0.004964899780657148 E_A= (-2.071979735761586+0j) E_B= (-2.0697581089527493+0j) E_f= (-2.6001953630756094+0j)\n",
      "k= 315 c_k= 0.22366168683569107 a_k= 0.06249902726700554 g= -0.16049727439217037 E_A= (-2.1737030953289187+0j) E_B= (-2.1019089130827515+0j) E_f= (-2.5997815612961053+0j)\n",
      "k= 316 c_k= 0.2235903242917423 a_k= 0.06246056341314964 g= 0.07746047465518162 E_A= (-2.1837939351786124+0j) E_B= (-2.218432760474501+0j) E_f= (-2.599696947992774+0j)\n",
      "k= 317 c_k= 0.22351920917389975 a_k= 0.062422240569920025 g= 0.07988052842397271 E_A= (-2.2426821003477126+0j) E_B= (-2.278391765431152+0j) E_f= (-2.599721463457726+0j)\n",
      "k= 318 c_k= 0.22344833985026066 a_k= 0.06238405779281112 g= 0.028595669437501185 E_A= (-2.045547959454943+0j) E_B= (-2.058327269180376+0j) E_f= (-2.5996860786287717+0j)\n",
      "k= 319 c_k= 0.22337771470475873 a_k= 0.06234601414649019 g= 0.1502364089730003 E_A= (-2.106746923093492+0j) E_B= (-2.1738658544971687+0j) E_f= (-2.6003412837371194+0j)\n",
      "k= 320 c_k= 0.22330733213696138 a_k= 0.06230810870468079 g= -0.07215313362655101 E_A= (-2.1478294132084774+0j) E_B= (-2.115604765657544+0j) E_f= (-2.600744395748077+0j)\n",
      "k= 321 c_k= 0.22323719056187072 a_k= 0.06227034055004795 g= -0.056540174367589235 E_A= (-2.2427121275198707+0j) E_B= (-2.217468388160473+0j) E_f= (-2.6007677125520408+0j)\n",
      "k= 322 c_k= 0.22316728840972688 a_k= 0.062232708774085356 g= 0.06235387567424324 E_A= (-2.0854639036752594+0j) E_B= (-2.1132945943873755+0j) E_f= (-2.6010490743166716+0j)\n",
      "k= 323 c_k= 0.2230976241258151 a_k= 0.06219521247700411 g= 0.06921245879829874 E_A= (-2.1690446116173527+0j) E_B= (-2.1999268818529654+0j) E_f= (-2.601915590557403+0j)\n",
      "k= 324 c_k= 0.22302819617027564 a_k= 0.062157850767623264 g= 0.12902656163203044 E_A= (-2.211754739924099+0j) E_B= (-2.269307862521788+0j) E_f= (-2.6029611612779657+0j)\n",
      "k= 325 c_k= 0.22295900301791655 a_k= 0.06212062276326209 g= -0.08366129107484184 E_A= (-2.1028921065362107+0j) E_B= (-2.065586030437734+0j) E_f= (-2.6026510626012063+0j)\n",
      "k= 326 c_k= 0.22289004315802943 a_k= 0.06208352758963402 g= 0.33175951034409246 E_A= (-2.2367360592577143+0j) E_B= (-2.3846278424150773+0j) E_f= (-2.603617395158688+0j)\n",
      "k= 327 c_k= 0.22282131509420836 a_k= 0.06204656438074212 g= -0.07605904557299145 E_A= (-2.0952927863715143+0j) E_B= (-2.0613976332527457+0j) E_f= (-2.6033329806472327+0j)\n",
      "k= 328 c_k= 0.22275281734417096 a_k= 0.06200973227877629 g= 0.10671989851101676 E_A= (-2.0627491487438054+0j) E_B= (-2.1102934648638314+0j) E_f= (-2.6018801956603093+0j)\n",
      "k= 329 c_k= 0.22268454843958294 a_k= 0.06197303043401201 g= 0.11661070428261375 E_A= (-2.31842763297625+0j) E_B= (-2.370362437029041+0j) E_f= (-2.6027373156747764+0j)\n",
      "k= 330 c_k= 0.22261650692588505 a_k= 0.061936458004710544 g= -0.09168251418081046 E_A= (-2.1111736858611634+0j) E_B= (-2.0703536037549335+0j) E_f= (-2.602938174445052+0j)\n",
      "k= 331 c_k= 0.22254869136212244 a_k= 0.061900014157020795 g= 0.01967633472193102 E_A= (-2.2269989932045853+0j) E_B= (-2.235756878290923+0j) E_f= (-2.603059184353937+0j)\n",
      "k= 332 c_k= 0.22248110032077717 a_k= 0.06186369806488253 g= -0.15044938035010783 E_A= (-2.3348738066227024+0j) E_B= (-2.26792951925696+0j) E_f= (-2.604154275156116+0j)\n",
      "k= 333 c_k= 0.22241373238760287 a_k= 0.061827508909931196 g= -0.13646960925694682 E_A= (-2.1770127511330606+0j) E_B= (-2.11630732082843+0j) E_f= (-2.6047829504831386+0j)\n",
      "k= 334 c_k= 0.22234658616146202 a_k= 0.06179144588140401 g= -0.26406367098235883 E_A= (-2.2026054950919414+0j) E_B= (-2.0851781835475593+0j) E_f= (-2.604908947167551+0j)\n",
      "k= 335 c_k= 0.22227966025416593 a_k= 0.06175550817604764 g= -0.028475070410504094 E_A= (-2.0920391045278244+0j) E_B= (-2.0793802465747038+0j) E_f= (-2.604748305384926+0j)\n",
      "k= 336 c_k= 0.22221295329031662 a_k= 0.06171969499802715 g= -0.3372035506079612 E_A= (-2.29030908564618+0j) E_B= (-2.1404470919650285+0j) E_f= (-2.6068034190255944+0j)\n",
      "k= 337 c_k= 0.22214646390715176 a_k= 0.06168400555883633 g= -0.20455191375445572 E_A= (-2.032475948382834+0j) E_B= (-1.9415949797308478+0j) E_f= (-2.6083253399714246+0j)\n",
      "k= 338 c_k= 0.2220801907543914 a_k= 0.06164843907720939 g= 0.03246037544972093 E_A= (-2.0634362807219686+0j) E_B= (-2.077853893465635+0j) E_f= (-2.608585727597543+0j)\n",
      "k= 339 c_k= 0.2220141324940873 a_k= 0.06161299477903396 g= -0.2338186820263687 E_A= (-2.260383132339471+0j) E_B= (-2.156561028637481+0j) E_f= (-2.609580717967434+0j)\n",
      "k= 340 c_k= 0.22194828780047435 a_k= 0.06157767189726538 g= 0.3367422509814945 E_A= (-2.1259427690922656+0j) E_B= (-2.2754215011631063+0j) E_f= (-2.6108549573994706+0j)\n",
      "k= 341 c_k= 0.2218826553598244 a_k= 0.061542469671842216 g= -0.13037358023606363 E_A= (-2.2136764231360786+0j) E_B= (-2.1558211507929887+0j) E_f= (-2.610907903259846+0j)\n",
      "k= 342 c_k= 0.22181723387030208 a_k= 0.061507387349603135 g= -0.06018862273102453 E_A= (-2.3504975302906645+0j) E_B= (-2.3237957826813465+0j) E_f= (-2.6108244799759985+0j)\n"
     ]
    },
    {
     "name": "stdout",
     "output_type": "stream",
     "text": [
      "k= 343 c_k= 0.22175202204182284 a_k= 0.06147242418420482 g= -0.005256639684912455 E_A= (-2.229271629481642+0j) E_B= (-2.226940288523093+0j) E_f= (-2.610848183610605+0j)\n",
      "k= 344 c_k= 0.22168701859591308 a_k= 0.061437579436041306 g= 0.10961805744064597 E_A= (-2.164951375518232+0j) E_B= (-2.2135531761948166+0j) E_f= (-2.6104377119921143+0j)\n",
      "k= 345 c_k= 0.22162222226557235 a_k= 0.06140285237216429 g= -0.04007754363594909 E_A= (-2.273445571681459+0j) E_B= (-2.2556814231143703+0j) E_f= (-2.6105162744162147+0j)\n",
      "k= 346 c_k= 0.2215576317951376 a_k= 0.061368242266204805 g= -0.005088118218819678 E_A= (-2.08371831472986+0j) E_B= (-2.0814636918841494+0j) E_f= (-2.6104892546081815+0j)\n",
      "k= 347 c_k= 0.22149324594014944 a_k= 0.0613337483982958 g= -0.14154933190712282 E_A= (-2.0550136055535155+0j) E_B= (-1.9923091635839791+0j) E_f= (-2.612112565694102+0j)\n",
      "k= 348 c_k= 0.22142906346722022 a_k= 0.061299370054996076 g= 0.12320143305736984 E_A= (-2.2118004316618567+0j) E_B= (-2.2663611875412824+0j) E_f= (-2.61294754294507+0j)\n",
      "k= 349 c_k= 0.22136508315390419 a_k= 0.06126510652921516 g= -0.038546957531906595 E_A= (-2.140858844832621+0j) E_B= (-2.12379294391386+0j) E_f= (-2.6125659323221533+0j)\n",
      "k= 350 c_k= 0.22130130378856946 a_k= 0.061230957120139345 g= -0.06323027904703359 E_A= (-2.312657073234048+0j) E_B= (-2.2846711868500007+0j) E_f= (-2.6128609993076655+0j)\n",
      "k= 351 c_k= 0.22123772417027196 a_k= 0.061196921133158756 g= 0.21953690030562528 E_A= (-2.2073205698648546+0j) E_B= (-2.3044602582548794+0j) E_f= (-2.614780439574359+0j)\n",
      "k= 352 c_k= 0.22117434310863096 a_k= 0.061162997879795476 g= 0.1538729059116103 E_A= (-2.214586424782845+0j) E_B= (-2.2826519025572782+0j) E_f= (-2.6146216634221746+0j)\n",
      "k= 353 c_k= 0.22111115942370668 a_k= 0.06112918667763269 g= -0.1306788563862161 E_A= (-2.266749286493707+0j) E_B= (-2.2089601795982663+0j) E_f= (-2.6158839688597997+0j)\n",
      "k= 354 c_k= 0.2210481719458794 a_k= 0.061095486850244865 g= -0.14881708620483544 E_A= (-2.1647873607277424+0j) E_B= (-2.09899587100796+0j) E_f= (-2.616280002121453+0j)\n",
      "k= 355 c_k= 0.22098537951573047 a_k= 0.061061897727128896 g= 0.09819925209645274 E_A= (-2.1849056328491203+0j) E_B= (-2.2283068308345113+0j) E_f= (-2.6157221766956735+0j)\n",
      "k= 356 c_k= 0.22092278098392504 a_k= 0.061028418643636236 g= -0.0018962528639633542 E_A= (-2.2297284152074734+0j) E_B= (-2.2288905642951624+0j) E_f= (-2.615711129315277+0j)\n",
      "k= 357 c_k= 0.2208603752110963 a_k= 0.06099504894090598 g= -0.1486041294062017 E_A= (-2.1912158134693955+0j) E_B= (-2.1255742859122515+0j) E_f= (-2.6149298553399953+0j)\n",
      "k= 358 c_k= 0.22079816106773162 a_k= 0.06096178796579893 g= -0.08459750024977358 E_A= (-2.1011793976548816+0j) E_B= (-2.0638214526827277+0j) E_f= (-2.615196400277775+0j)\n",
      "k= 359 c_k= 0.22073613743405993 a_k= 0.06092863507083254 g= 0.11390827346259753 E_A= (-2.2040940024555598+0j) E_B= (-2.2543813470673926+0j) E_f= (-2.615981310518844+0j)\n",
      "k= 360 c_k= 0.22067430319994108 a_k= 0.060895589614116806 g= 0.08037422376617073 E_A= (-2.042294026251688+0j) E_B= (-2.0777670779013597+0j) E_f= (-2.6165193104301467+0j)\n",
      "k= 361 c_k= 0.2206126572647566 a_k= 0.060862650959291005 g= 0.09636979346757314 E_A= (-2.1055014354188826+0j) E_B= (-2.1480222278527568+0j) E_f= (-2.6160984740925066+0j)\n",
      "k= 362 c_k= 0.2205511985373019 a_k= 0.060829818475461414 g= 0.16985269537883316 E_A= (-2.231479308328992+0j) E_B= (-2.3064017394101777+0j) E_f= (-2.6157639806771886+0j)\n",
      "k= 363 c_k= 0.22048992593568012 a_k= 0.06079709153713979 g= -0.14806819897221105 E_A= (-2.193145619068328+0j) E_B= (-2.1278505266187033+0j) E_f= (-2.6166923724020106+0j)\n",
      "k= 364 c_k= 0.22042883838719754 a_k= 0.060764469524182754 g= -0.26963924377417153 E_A= (-2.179521683902346+0j) E_B= (-2.06064915332486+0j) E_f= (-2.6170537544849637+0j)\n",
      "k= 365 c_k= 0.2203679348282601 a_k= 0.060731951821732036 g= -0.14280125640533295 E_A= (-2.3410209706145144+0j) E_B= (-2.2780833346846663+0j) E_f= (-2.617275998765902+0j)\n",
      "k= 366 c_k= 0.22030721420427177 a_k= 0.060699537820155476 g= 0.24951364656385855 E_A= (-2.134720351199886+0j) E_B= (-2.2446596639607517+0j) E_f= (-2.6151323258240797+0j)\n",
      "k= 367 c_k= 0.22024667546953405 a_k= 0.060667226914988936 g= -0.044160107641231704 E_A= (-2.229083394421923+0j) E_B= (-2.2096311606292067+0j) E_f= (-2.6154941114648462+0j)\n",
      "k= 368 c_k= 0.22018631758714713 a_k= 0.060635018506878906 g= 0.061767482190296576 E_A= (-2.155945242148071+0j) E_B= (-2.183145951048293+0j) E_f= (-2.6155459987594014+0j)\n",
      "k= 369 c_k= 0.220126139528912 a_k= 0.06060291200152596 g= -0.05827023252034946 E_A= (-2.269331979239332+0j) E_B= (-2.243678376571019+0j) E_f= (-2.6150966970599097+0j)\n",
      "k= 370 c_k= 0.22006614027523438 a_k= 0.060570906809629003 g= -0.17907141068632515 E_A= (-2.380739406756223+0j) E_B= (-2.301924298389461+0j) E_f= (-2.6154681463801523+0j)\n",
      "k= 371 c_k= 0.2200063188150296 a_k= 0.06053900234683018 g= 0.09708344433720505 E_A= (-2.207519087345152+0j) E_B= (-2.2502370297581766+0j) E_f= (-2.615890922033967+0j)\n",
      "k= 372 c_k= 0.219946674145629 a_k= 0.060507198033660635 g= -0.07212669601180792 E_A= (-2.2566053116469145+0j) E_B= (-2.2248772578370946+0j) E_f= (-2.615861839759493+0j)\n",
      "k= 373 c_k= 0.21988720527268746 a_k= 0.060475493295487015 g= 0.08806974504961146 E_A= (-2.124835997632917+0j) E_B= (-2.1635668178489915+0j) E_f= (-2.6155437421972847+0j)\n",
      "k= 374 c_k= 0.2198279112100924 a_k= 0.060443887562458554 g= -0.07219658823231813 E_A= (-2.378246414398041+0j) E_B= (-2.34650476402283+0j) E_f= (-2.615535822889866+0j)\n",
      "k= 375 c_k= 0.21976879097987378 a_k= 0.06041238026945503 g= -0.048641810642552685 E_A= (-2.2563990575870223+0j) E_B= (-2.235019153755051+0j) E_f= (-2.615265181613819+0j)\n",
      "k= 376 c_k= 0.2197098436121154 a_k= 0.06038097085603537 g= 0.21532444388678726 E_A= (-2.231008932144024+0j) E_B= (-2.3256267319284873+0j) E_f= (-2.618099808661357+0j)\n",
      "k= 377 c_k= 0.21965106814486746 a_k= 0.06034965876638688 g= -0.2612480182748884 E_A= (-2.1826627616720007+0j) E_B= (-2.0678959491423825+0j) E_f= (-2.6173400618757543+0j)\n",
      "k= 378 c_k= 0.2195924636240603 a_k= 0.06031844344927528 g= -0.11960892093949795 E_A= (-2.1952574513581284+0j) E_B= (-2.142727016117089+0j) E_f= (-2.6180413522072206+0j)\n",
      "k= 379 c_k= 0.21953402910341913 a_k= 0.06028732435799528 g= 0.050228468999417304 E_A= (-2.2627587677790357+0j) E_B= (-2.2848124841293123+0j) E_f= (-2.6180443300273226+0j)\n",
      "k= 380 c_k= 0.21947576364438018 a_k= 0.060256300950321875 g= -0.25788609999123563 E_A= (-2.224887654838226+0j) E_B= (-2.1116881573805313+0j) E_f= (-2.6192815175402964+0j)\n",
      "k= 381 c_k= 0.21941766631600768 a_k= 0.060225372688462335 g= 0.04835628137809761 E_A= (-2.3203694312391203+0j) E_B= (-2.341589876062525+0j) E_f= (-2.6187829814221297+0j)\n",
      "k= 382 c_k= 0.21935973619491225 a_k= 0.06019453903900869 g= -0.385691096906737 E_A= (-2.263187290233713+0j) E_B= (-2.0939770956933366+0j) E_f= (-2.6263205785823893+0j)\n",
      "k= 383 c_k= 0.21930197236517004 a_k= 0.06016379947289102 g= 0.1975435981312445 E_A= (-2.1294950094114182+0j) E_B= (-2.216138410808007+0j) E_f= (-2.6270307618163935+0j)\n",
      "k= 384 c_k= 0.21924437391824317 a_k= 0.06013315346533119 g= 0.004707259072760725 E_A= (-2.2674454158297648+0j) E_B= (-2.2695094959663216+0j) E_f= (-2.627031573963214+0j)\n",
      "k= 385 c_k= 0.21918693995290123 a_k= 0.060102600495797354 g= -0.08884055904067277 E_A= (-2.3379142704418463+0j) E_B= (-2.298968889882186+0j) E_f= (-2.627011263436693+0j)\n",
      "k= 386 c_k= 0.2191296695751437 a_k= 0.06007214004795889 g= 0.07793636368321939 E_A= (-2.33710401765913+0j) E_B= (-2.371260356902714+0j) E_f= (-2.6278329692167146+0j)\n",
      "k= 387 c_k= 0.21907256189812344 a_k= 0.0600417716096421 g= 0.2776956292936923 E_A= (-2.097271212280136+0j) E_B= (-2.2189421981546973+0j) E_f= (-2.6304865499572285+0j)\n",
      "k= 388 c_k= 0.21901561604207126 a_k= 0.06001149467278632 g= 0.5904402513736983 E_A= (-1.980733063395519+0j) E_B= (-2.239364334176811+0j) E_f= (-2.6297140962531866+0j)\n",
      "k= 389 c_k= 0.21895883113422124 a_k= 0.059981308733400726 g= 0.019553525522212747 E_A= (-2.121617723377307+0j) E_B= (-2.1301805575631008+0j) E_f= (-2.629824921251327+0j)\n",
      "k= 390 c_k= 0.2189022063087374 a_k= 0.05995121329152166 g= 0.10063500848649458 E_A= (-2.168693436780523+0j) E_B= (-2.2127518875597074+0j) E_f= (-2.6301532270765895+0j)\n",
      "k= 391 c_k= 0.218845740706641 a_k= 0.05992120785117044 g= -0.022019070453496783 E_A= (-2.145488801009709+0j) E_B= (-2.1358512414435746+0j) E_f= (-2.630027203501623+0j)\n"
     ]
    },
    {
     "name": "stdout",
     "output_type": "stream",
     "text": [
      "k= 392 c_k= 0.21878943347573884 a_k= 0.05989129192031186 g= 0.18545893570825095 E_A= (-2.0998045986118523+0j) E_B= (-2.1809575095650957+0j) E_f= (-2.6312480160873473+0j)\n",
      "k= 393 c_k= 0.21873328377055276 a_k= 0.05986146501081311 g= 0.08591024997066064 E_A= (-2.2859315458900187+0j) E_B= (-2.323514408061282+0j) E_f= (-2.631352920790236+0j)\n",
      "k= 394 c_k= 0.21867729075224962 a_k= 0.05983172663840322 g= 0.033358823049257025 E_A= (-2.070280022556585+0j) E_B= (-2.0848696566507754+0j) E_f= (-2.6314488522021984+0j)\n",
      "k= 395 c_k= 0.2186214535885725 a_k= 0.059802076322633124 g= 0.18574783479505794 E_A= (-2.3558853926961625+0j) E_B= (-2.4371023159838137+0j) E_f= (-2.6318607235562044+0j)\n",
      "k= 396 c_k= 0.2185657714537727 a_k= 0.05977251358683613 g= -0.09061528250770513 E_A= (-2.427212944405854+0j) E_B= (-2.3876021461522576+0j) E_f= (-2.632251087385881+0j)\n",
      "k= 397 c_k= 0.21851024352854267 a_k= 0.05974303795808894 g= -0.011399123494045812 E_A= (-2.226024622663179+0j) E_B= (-2.2210429721617873+0j) E_f= (-2.63233117204177+0j)\n",
      "k= 398 c_k= 0.2184548689999496 a_k= 0.059713648967173204 g= 0.11204695999361843 E_A= (-2.2013391159821296+0j) E_B= (-2.2502935239166266+0j) E_f= (-2.632263043871227+0j)\n",
      "k= 399 c_k= 0.21839964706136994 a_k= 0.059684346148537445 g= 0.007901041925546665 E_A= (-2.1702270269639614+0j) E_B= (-2.1736781964998744+0j) E_f= (-2.6323150030817075+0j)\n",
      "k= 400 c_k= 0.2183445769124251 a_k= 0.05965512904025961 g= -0.017010491641164357 E_A= (-2.124281421974346+0j) E_B= (-2.1168531247734212+0j) E_f= (-2.6321778919163665+0j)\n",
      "k= 401 c_k= 0.2182896577589173 a_k= 0.059625997184009974 g= -0.10877188768629338 E_A= (-2.2744487348665023+0j) E_B= (-2.2269611785928376+0j) E_f= (-2.632407606110701+0j)\n",
      "k= 402 c_k= 0.21823488881276693 a_k= 0.05959695012501465 g= 0.08332224833762769 E_A= (-2.207547974452053+0j) E_B= (-2.243915617655237+0j) E_f= (-2.632484397842245+0j)\n",
      "k= 403 c_k= 0.2181802692919501 a_k= 0.05956798741201933 g= 0.10323737261398182 E_A= (-2.3014012638348404+0j) E_B= (-2.3464499793506643+0j) E_f= (-2.632566008545325+0j)\n",
      "k= 404 c_k= 0.2181257984204375 a_k= 0.05953910859725379 g= 0.028587966893664288 E_A= (-2.334793318222009+0j) E_B= (-2.347264864429804+0j) E_f= (-2.6326474813553284+0j)\n",
      "k= 405 c_k= 0.2180714754281335 a_k= 0.059510313236396495 g= 0.23961210730695282 E_A= (-2.18456493977111+0j) E_B= (-2.289070071312853+0j) E_f= (-2.63266642426032+0j)\n",
      "k= 406 c_k= 0.2180172995508166 a_k= 0.05948160088854 g= -0.16918627516988288 E_A= (-2.2359462581425356+0j) E_B= (-2.162175188475337+0j) E_f= (-2.6343944026901935+0j)\n",
      "k= 407 c_k= 0.21796327003008015 a_k= 0.05945297111615647 g= -0.29689409971094943 E_A= (-2.2677593567352146+0j) E_B= (-2.138335339083944+0j) E_f= (-2.634961471734749+0j)\n",
      "k= 408 c_k= 0.2179093861132739 a_k= 0.0594244234850638 g= 0.16202473327389114 E_A= (-2.359398962725499+0j) E_B= (-2.43001238305126+0j) E_f= (-2.637011839690083+0j)\n",
      "k= 409 c_k= 0.21785564705344662 a_k= 0.05939595756439217 g= -0.06552293645751464 E_A= (-2.2603071866813025+0j) E_B= (-2.231758103243715+0j) E_f= (-2.6364108366323196+0j)\n",
      "k= 410 c_k= 0.2178020521092889 a_k= 0.059367572926550906 g= 0.21404629445290008 E_A= (-2.1868624918899853+0j) E_B= (-2.2801019362464467+0j) E_f= (-2.6371804603174187+0j)\n",
      "k= 411 c_k= 0.21774860054507708 a_k= 0.0593392691471958 g= -0.18243361448627032 E_A= (-2.2911567747214256+0j) E_B= (-2.2117074462278947+0j) E_f= (-2.6378362546365466+0j)\n",
      "k= 412 c_k= 0.21769529163061768 a_k= 0.05931104580519686 g= -0.0355521973502586 E_A= (-2.371892982131006+0j) E_B= (-2.3564138901904585+0j) E_f= (-2.637707058793713+0j)\n",
      "k= 413 c_k= 0.21764212464119265 a_k= 0.05928290248260645 g= -0.12904538206867172 E_A= (-2.2910659587331983+0j) E_B= (-2.234894536476078+0j) E_f= (-2.638731590452345+0j)\n",
      "k= 414 c_k= 0.217589098857505 a_k= 0.05925483876462779 g= -0.17765395606050477 E_A= (-2.2408407697158923+0j) E_B= (-2.1635296413005403+0j) E_f= (-2.638793350001709+0j)\n",
      "k= 415 c_k= 0.2175362135656255 a_k= 0.059226854239583814 g= 0.14562144131728158 E_A= (-2.0938247714064597+0j) E_B= (-2.1571806453227205+0j) E_f= (-2.6381628581030983+0j)\n",
      "k= 416 c_k= 0.21748346805693974 a_k= 0.059198948498886496 g= 0.11113749435200883 E_A= (-2.2867088285878543+0j) E_B= (-2.335049963993521+0j) E_f= (-2.638515426799504+0j)\n",
      "k= 417 c_k= 0.217430861628096 a_k= 0.05917112113700651 g= 0.29261252912273084 E_A= (-2.1282485607579855+0j) E_B= (-2.255494549418649+0j) E_f= (-2.640196208436779+0j)\n",
      "k= 418 c_k= 0.2173783935809535 a_k= 0.059143371751443206 g= -0.02278202267785186 E_A= (-2.1501340807989067+0j) E_B= (-2.140229441814434+0j) E_f= (-2.6403009882408726+0j)\n",
      "k= 419 c_k= 0.21732606322253178 a_k= 0.05911569994269502 g= 0.05941070406749914 E_A= (-2.3321877983663413+0j) E_B= (-2.358010787222878+0j) E_f= (-2.6400682136017553+0j)\n",
      "k= 420 c_k= 0.21727386986496003 a_k= 0.059088105314230206 g= -0.033865975305199636 E_A= (-2.222422856546513+0j) E_B= (-2.2077064735238894+0j) E_f= (-2.6399853528572423+0j)\n",
      "k= 421 c_k= 0.21722181282542763 a_k= 0.05906058747245794 g= -0.07188039029053324 E_A= (-2.3078127897664102+0j) E_B= (-2.2765848123953925+0j) E_f= (-2.6398003979997804+0j)\n",
      "k= 422 c_k= 0.217169891426135 a_k= 0.05903314602669974 g= 0.007234745831835661 E_A= (-2.207377870003387+0j) E_B= (-2.2105202079369777+0j) E_f= (-2.6397965608177665+0j)\n",
      "k= 423 c_k= 0.21711810499424491 a_k= 0.059005780589161276 g= 0.2127444981741795 E_A= (-2.1364592802445492+0j) E_B= (-2.228840644827608+0j) E_f= (-2.6398006543143526+0j)\n",
      "k= 424 c_k= 0.21706645286183476 a_k= 0.05897849077490446 g= -0.14765032231538866 E_A= (-2.2193359728887128+0j) E_B= (-2.1552361094308967+0j) E_f= (-2.6393571134501994+0j)\n",
      "k= 425 c_k= 0.2170149343658492 a_k= 0.05895127620181995 g= -0.235036768683626 E_A= (-2.2799298768894953+0j) E_B= (-2.1779168990306186+0j) E_f= (-2.640806217218996+0j)\n",
      "k= 426 c_k= 0.21696354884805308 a_k= 0.05892413649059985 g= -0.07320885042879274 E_A= (-2.227606813032761+0j) E_B= (-2.1958395090405265+0j) E_f= (-2.6403009234048813+0j)\n",
      "k= 427 c_k= 0.21691229565498554 a_k= 0.05889707126471091 g= 0.0037040840851101167 E_A= (-2.200347632795782+0j) E_B= (-2.2019545555601825+0j) E_f= (-2.6402851812344936+0j)\n",
      "k= 428 c_k= 0.2168611741379142 a_k= 0.05887008015036787 g= -0.12690732240863797 E_A= (-2.2272679802373165+0j) E_B= (-2.1722254383488444+0j) E_f= (-2.6396206886489026+0j)\n",
      "k= 429 c_k= 0.21681018365278987 a_k= 0.05884316277650725 g= -0.11917562852458448 E_A= (-2.3930353121980965+0j) E_B= (-2.341358332383393+0j) E_f= (-2.640506559301052+0j)\n",
      "k= 430 c_k= 0.2167593235602022 a_k= 0.058816318774761386 g= 0.07182017939496543 E_A= (-2.1990040180847705+0j) E_B= (-2.2301394050920207+0j) E_f= (-2.640585739135851+0j)\n",
      "k= 431 c_k= 0.21670859322533542 a_k= 0.05878954777943276 g= 0.11109661847685313 E_A= (-2.325553343931783+0j) E_B= (-2.373704527736204+0j) E_f= (-2.641082920579976+0j)\n",
      "k= 432 c_k= 0.21665799201792482 a_k= 0.05876284942746869 g= 0.16107328596516007 E_A= (-2.1053188262858797+0j) E_B= (-2.175114455695761+0j) E_f= (-2.6411155846847945+0j)\n",
      "k= 433 c_k= 0.21660751931221373 a_k= 0.05873622335843627 g= -0.1538474122413021 E_A= (-2.398020254119031+0j) E_B= (-2.331371241482647+0j) E_f= (-2.6416475184440587+0j)\n",
      "k= 434 c_k= 0.21655717448691097 a_k= 0.05870966921449761 g= -0.06638377560039005 E_A= (-2.2607297935561856+0j) E_B= (-2.2319780278045984+0j) E_f= (-2.641747490303194+0j)\n",
      "k= 435 c_k= 0.21650695692514868 a_k= 0.058683186640385375 g= -0.019241602109318516 E_A= (-2.2462069038683268+0j) E_B= (-2.2378750224302206+0j) E_f= (-2.641669539887608+0j)\n",
      "k= 436 c_k= 0.21645686601444106 a_k= 0.05865677528337861 g= 0.15137496042112358 E_A= (-2.3126322589938004+0j) E_B= (-2.3781645580454334+0j) E_f= (-2.6414294172945105+0j)\n",
      "k= 437 c_k= 0.21640690114664293 a_k= 0.058630434793278834 g= -0.15363397733406475 E_A= (-2.2624513392961214+0j) E_B= (-2.1959564334047244+0j) E_f= (-2.6419134739107513+0j)\n",
      "k= 438 c_k= 0.2163570617179095 a_k= 0.0586041648223864 g= 0.19090759312623365 E_A= (-2.0415444757432097+0j) E_B= (-2.12415288756007+0j) E_f= (-2.6414133102215223+0j)\n",
      "k= 439 c_k= 0.2163073471286559 a_k= 0.0585779650254772 g= 0.15915672511034148 E_A= (-2.219570348390796+0j) E_B= (-2.288423886363401+0j) E_f= (-2.642747181907689+0j)\n",
      "k= 440 c_k= 0.21625775678351783 a_k= 0.058551835059779525 g= 0.06322127955129526 E_A= (-2.2793410010694304+0j) E_B= (-2.306685185262924+0j) E_f= (-2.643275601653154+0j)\n"
     ]
    },
    {
     "name": "stdout",
     "output_type": "stream",
     "text": [
      "k= 441 c_k= 0.21620829009131218 a_k= 0.058525774584951284 g= 0.23603365375377924 E_A= (-2.085309136590801+0j) E_B= (-2.18737400195502+0j) E_f= (-2.645603372685631+0j)\n",
      "k= 442 c_k= 0.2161589464649983 a_k= 0.05849978326305746 g= 0.25278055719735537 E_A= (-2.0363609170631483+0j) E_B= (-2.1456424749243794+0j) E_f= (-2.6475577686286544+0j)\n",
      "k= 443 c_k= 0.2161097253216398 a_k= 0.058473860758547776 g= -0.07219960859186274 E_A= (-2.211048754236394+0j) E_B= (-2.1798426790741594+0j) E_f= (-2.6480843017807243+0j)\n",
      "k= 444 c_k= 0.21606062608236656 a_k= 0.058448006738234706 g= 0.025409505692589394 E_A= (-2.235937600964711+0j) E_B= (-2.24691758838148+0j) E_f= (-2.6482346882430026+0j)\n",
      "k= 445 c_k= 0.21601164817233734 a_k= 0.058422220871271656 g= 0.06943476770986665 E_A= (-2.1675476230447566+0j) E_B= (-2.1975450602717+0j) E_f= (-2.6481765666281274+0j)\n",
      "k= 446 c_k= 0.2159627910207029 a_k= 0.05839650282913145 g= -0.014898129560938262 E_A= (-2.2246269832712335+0j) E_B= (-2.218192099989297+0j) E_f= (-2.6482800998912444+0j)\n",
      "k= 447 c_k= 0.21591405406056924 a_k= 0.05837085228558501 g= -0.3684392893167501 E_A= (-2.3889655123639404+0j) E_B= (-2.2298630711007914+0j) E_f= (-2.6480242886656606+0j)\n",
      "k= 448 c_k= 0.21586543672896158 a_k= 0.05834526891668031 g= 0.005185625766032447 E_A= (-2.3394900833480103+0j) E_B= (-2.3417288780894054+0j) E_f= (-2.647999300791331+0j)\n",
      "k= 449 c_k= 0.21581693846678845 a_k= 0.0583197524007216 g= 0.09527698160913058 E_A= (-2.328013804130213+0j) E_B= (-2.369138577084691+0j) E_f= (-2.648432789979548+0j)\n",
      "k= 450 c_k= 0.21576855871880654 a_k= 0.05829430241824877 g= 0.02064403312588176 E_A= (-2.3305397805007537+0j) E_B= (-2.3394484470481833+0j) E_f= (-2.6483520185030023+0j)\n",
      "k= 451 c_k= 0.2157202969335856 a_k= 0.058268918652017034 g= -0.0639308210674746 E_A= (-2.301003867536203+0j) E_B= (-2.273421516128436+0j) E_f= (-2.6482398224857095+0j)\n",
      "k= 452 c_k= 0.21567215256347394 a_k= 0.058243600786976824 g= 0.05827224541157532 E_A= (-2.2081590798422672+0j) E_B= (-2.23329448104751+0j) E_f= (-2.6480945575390407+0j)\n",
      "k= 453 c_k= 0.2156241250645643 a_k= 0.05821834851025387 g= -0.1818000046926975 E_A= (-2.1589648042169576+0j) E_B= (-2.0805638703197644+0j) E_f= (-2.6472275519997597+0j)\n",
      "k= 454 c_k= 0.21557621389665993 a_k= 0.05819316151112954 g= -0.037440568493673124 E_A= (-2.3328482478735726+0j) E_B= (-2.3167056558695633+0j) E_f= (-2.6472712126252076+0j)\n",
      "k= 455 c_k= 0.21552841852324142 a_k= 0.0581680394810214 g= -0.0688737830271822 E_A= (-2.223564163780328+0j) E_B= (-2.193875648713205+0j) E_f= (-2.6475733628500384+0j)\n",
      "k= 456 c_k= 0.21548073841143345 a_k= 0.05814298211346399 g= -0.08743201394155278 E_A= (-2.3185525947221013+0j) E_B= (-2.280872764872252+0j) E_f= (-2.647940619369699+0j)\n",
      "k= 457 c_k= 0.2154331730319722 a_k= 0.058117989104089746 g= -0.2595500084340713 E_A= (-2.395610787611397+0j) E_B= (-2.2837794238565428+0j) E_f= (-2.6496909734042533+0j)\n",
      "k= 458 c_k= 0.21538572185917312 a_k= 0.058093060150610276 g= 0.12252276560840611 E_A= (-2.173231142037268+0j) E_B= (-2.2260104506667657+0j) E_f= (-2.6504044831458486+0j)\n",
      "k= 459 c_k= 0.2153383843708989 a_k= 0.0580681949527977 g= -0.21162297256532778 E_A= (-2.3983510147695717+0j) E_B= (-2.307209916753602+0j) E_f= (-2.651594078836796+0j)\n",
      "k= 460 c_k= 0.21529116004852789 a_k= 0.05804339321246627 g= -0.17432754200477554 E_A= (-2.2897609360522546+0j) E_B= (-2.2146985785590214+0j) E_f= (-2.652107564898341+0j)\n",
      "k= 461 c_k= 0.2152440483769229 a_k= 0.05801865463345421 g= 0.15422917699572852 E_A= (-2.317802339764725+0j) E_B= (-2.3841961646335283+0j) E_f= (-2.6517001704520418+0j)\n",
      "k= 462 c_k= 0.21519704884440038 a_k= 0.05799397892160566 g= -0.11519552003343903 E_A= (-2.4216039090597072+0j) E_B= (-2.372024437157123+0j) E_f= (-2.6527420206006322+0j)\n",
      "k= 463 c_k= 0.21515016094269962 a_k= 0.05796936578475296 g= 0.4269686181723106 E_A= (-2.2308850604780304+0j) E_B= (-2.4146097943125397+0j) E_f= (-2.6621501246976784+0j)\n",
      "k= 464 c_k= 0.21510338416695282 a_k= 0.05794481493269898 g= 0.09315163735109565 E_A= (-2.189537462205407+0j) E_B= (-2.2296119270752337+0j) E_f= (-2.662290932629408+0j)\n",
      "k= 465 c_k= 0.215056718015655 a_k= 0.05792032607719977 g= 0.17128013007591858 E_A= (-2.2615515513794406+0j) E_B= (-2.3352214366502837+0j) E_f= (-2.662067160508833+0j)\n",
      "k= 466 c_k= 0.21501016199063455 a_k= 0.05789589893194729 g= -0.1667855355013903 E_A= (-2.2719084527670885+0j) E_B= (-2.200187282755391+0j) E_f= (-2.6625216217238306+0j)\n",
      "k= 467 c_k= 0.214963715597024 a_k= 0.057871533212552465 g= 0.1559912322859892 E_A= (-2.2811033315513183+0j) E_B= (-2.3481682413368277+0j) E_f= (-2.6626279909084416+0j)\n",
      "k= 468 c_k= 0.21491737834323096 a_k= 0.05784722863652822 g= -0.03107788682078443 E_A= (-2.350813332282191+0j) E_B= (-2.33745497636225+0j) E_f= (-2.662894632694112+0j)\n",
      "k= 469 c_k= 0.21487114974090968 a_k= 0.05782298492327295 g= 0.03087472035997844 E_A= (-2.272484412167252+0j) E_B= (-2.285752585490607+0j) E_f= (-2.662988663371453+0j)\n",
      "k= 470 c_k= 0.2148250293049327 a_k= 0.05779880179405393 g= -0.10251967579806652 E_A= (-2.216516900886487+0j) E_B= (-2.1724693161711834+0j) E_f= (-2.662601139226167+0j)\n",
      "k= 471 c_k= 0.21477901655336276 a_k= 0.05777467897199109 g= 0.009149115703115345 E_A= (-2.3996487360902274+0j) E_B= (-2.4035788122363235+0j) E_f= (-2.662599960836217+0j)\n",
      "k= 472 c_k= 0.21473311100742531 a_k= 0.05775061618204083 g= 0.07873713657326813 E_A= (-2.2070391700544576+0j) E_B= (-2.2408541106308464+0j) E_f= (-2.6624528282831683+0j)\n",
      "k= 473 c_k= 0.21468731219148093 a_k= 0.057726613150980106 g= -0.1267105024666841 E_A= (-2.273397825591873+0j) E_B= (-2.2189915511898644+0j) E_f= (-2.6631711681328696+0j)\n",
      "k= 474 c_k= 0.21464161963299838 a_k= 0.05770266960739065 g= 0.2661468359413318 E_A= (-2.1389638402496205+0j) E_B= (-2.2532162161029112+0j) E_f= (-2.6663492060690013+0j)\n",
      "k= 475 c_k= 0.21459603286252774 a_k= 0.057678785281643316 g= 0.17681272177825336 E_A= (-2.1804868344947903+0j) E_B= (-2.2563734518012684+0j) E_f= (-2.666888596890427+0j)\n",
      "k= 476 c_k= 0.21455055141367382 a_k= 0.05765495990588268 g= 0.19949754068873016 E_A= (-2.028084013494964+0j) E_B= (-2.113688628215842+0j) E_f= (-2.6667716524150524+0j)\n",
      "k= 477 c_k= 0.21450517482307005 a_k= 0.05763119321401171 g= 0.021558014490095957 E_A= (-2.16467329695986+0j) E_B= (-2.1739219082939325+0j) E_f= (-2.6666463105902523+0j)\n",
      "k= 478 c_k= 0.21445990263035244 a_k= 0.0576074849416767 g= -0.1511411344495739 E_A= (-2.3644740064390013+0j) E_B= (-2.299646580484008+0j) E_f= (-2.6683276212821045+0j)\n",
      "k= 479 c_k= 0.21441473437813402 a_k= 0.05758383482625229 g= 0.1071539884932637 E_A= (-2.1934090530810733+0j) E_B= (-2.239359841041755+0j) E_f= (-2.6679291288266347+0j)\n",
      "k= 480 c_k= 0.21436966961197923 a_k= 0.057560242606826635 g= 0.15120795674045676 E_A= (-2.237795211553536+0j) E_B= (-2.302624011011844+0j) E_f= (-2.6672103551024486+0j)\n",
      "k= 481 c_k= 0.21432470788037897 a_k= 0.05753670802418681 g= 0.08999405188819415 E_A= (-2.215958112594521+0j) E_B= (-2.2545340103583387+0j) E_f= (-2.6672028003385213+0j)\n",
      "k= 482 c_k= 0.21427984873472566 a_k= 0.0575132308208043 g= -0.20157281388904613 E_A= (-2.2580361326845324+0j) E_B= (-2.1716501485461768+0j) E_f= (-2.666589383604226+0j)\n",
      "k= 483 c_k= 0.21423509172928862 a_k= 0.05748981074082066 g= -0.03249050569472436 E_A= (-2.232131448535073+0j) E_B= (-2.2182102355993925+0j) E_f= (-2.6667397233977415+0j)\n",
      "k= 484 c_k= 0.21419043642118973 a_k= 0.05746644753003334 g= -0.14622874749739997 E_A= (-2.380416221697339+0j) E_B= (-2.317774623209755+0j) E_f= (-2.6677060799662877+0j)\n",
      "k= 485 c_k= 0.2141458823703794 a_k= 0.057443140935881626 g= -0.032916678606411794 E_A= (-2.3323757995031538+0j) E_B= (-2.3182778571334093+0j) E_f= (-2.6676107010138126+0j)\n",
      "k= 486 c_k= 0.2141014291396126 a_k= 0.05741989070743278 g= -0.22704406579858696 E_A= (-2.309926091270105+0j) E_B= (-2.2127051733398138+0j) E_f= (-2.668533750355203+0j)\n",
      "k= 487 c_k= 0.2140570762944254 a_k= 0.05739669659536829 g= 0.10670677251382381 E_A= (-2.1941274602648195+0j) E_B= (-2.2398101397550665+0j) E_f= (-2.6685942093346453+0j)\n",
      "k= 488 c_k= 0.21401282340311154 a_k= 0.05737355835197027 g= 0.06773120162045031 E_A= (-2.1841849742767536+0j) E_B= (-2.2131756656593096+0j) E_f= (-2.668631052445058+0j)\n",
      "k= 489 c_k= 0.2139686700366993 a_k= 0.057350475731107964 g= 0.08999711968916121 E_A= (-2.106348758262409+0j) E_B= (-2.144861886276456+0j) E_f= (-2.6685108310028505+0j)\n"
     ]
    },
    {
     "name": "stdout",
     "output_type": "stream",
     "text": [
      "k= 490 c_k= 0.21392461576892882 a_k= 0.05732744848822447 g= 0.11074338634459055 E_A= (-2.1086120917189315+0j) E_B= (-2.1559935644643646+0j) E_f= (-2.66953242950491+0j)\n",
      "k= 491 c_k= 0.21388066017622928 a_k= 0.05730447638032358 g= -0.15584351433301025 E_A= (-2.318987333484881+0j) E_B= (-2.252323506025425+0j) E_f= (-2.6706387102065765+0j)\n",
      "k= 492 c_k= 0.21383680283769652 a_k= 0.05728155916595663 g= 0.09378305982997877 E_A= (-2.2909048501086247+0j) E_B= (-2.331013389457383+0j) E_f= (-2.671823330894444+0j)\n",
      "k= 493 c_k= 0.21379304333507107 a_k= 0.05725869660520972 g= 0.23294061544139913 E_A= (-2.2715798015981017+0j) E_B= (-2.371181967781224+0j) E_f= (-2.6724062914902693+0j)\n",
      "k= 494 c_k= 0.213749381252716 a_k= 0.05723588845969086 g= -0.1706523448069786 E_A= (-2.3918215142414945+0j) E_B= (-2.318867848017861+0j) E_f= (-2.672672719488061+0j)\n",
      "k= 495 c_k= 0.21370581617759538 a_k= 0.05721313449251733 g= 0.20025663064628346 E_A= (-2.2985851692148698+0j) E_B= (-2.3841771826093483+0j) E_f= (-2.671532720304011+0j)\n",
      "k= 496 c_k= 0.2136623476992526 a_k= 0.0571904344683032 g= 0.15744088362155687 E_A= (-2.1492269124567684+0j) E_B= (-2.2165052900936217+0j) E_f= (-2.671140513622504+0j)\n",
      "k= 497 c_k= 0.21361897540978944 a_k= 0.05716778815314689 g= -0.08057417301785083 E_A= (-2.2875033391914674+0j) E_B= (-2.2530789946223386+0j) E_f= (-2.670909342470411+0j)\n",
      "k= 498 c_k= 0.2135756989038446 a_k= 0.05714519531461895 g= 0.00280036753020716 E_A= (-2.1135184059009764+0j) E_B= (-2.1147145868058796+0j) E_f= (-2.6709083124048183+0j)\n",
      "k= 499 c_k= 0.21353251777857327 a_k= 0.057122655721749925 g= 0.1044144566237352 E_A= (-2.3541063179248147+0j) E_B= (-2.3986980815555103+0j) E_f= (-2.671392562218047+0j)\n"
     ]
    }
   ],
   "source": [
    "El,phi_f = SPSA(500)"
   ]
  },
  {
   "cell_type": "code",
   "execution_count": 240,
   "metadata": {},
   "outputs": [
    {
     "data": {
      "text/plain": [
       "[<matplotlib.lines.Line2D at 0x2266f5a4a30>]"
      ]
     },
     "execution_count": 240,
     "metadata": {},
     "output_type": "execute_result"
    },
    {
     "data": {
      "image/png": "[encoded data removed]",
      "text/plain": [
       "<Figure size 432x288 with 1 Axes>"
      ]
     },
     "metadata": {
      "needs_background": "light"
     },
     "output_type": "display_data"
    }
   ],
   "source": [
    "import matplotlib.pyplot as plt\n",
    "\n",
    "tl = [i for i in range(len(El))]\n",
    "\n",
    "plt.plot(tl,El)"
   ]
  },
  {
   "cell_type": "code",
   "execution_count": 228,
   "metadata": {},
   "outputs": [
    {
     "data": {
      "text/plain": [
       "(-2.1141884303312697+0j)"
      ]
     },
     "execution_count": 228,
     "metadata": {},
     "output_type": "execute_result"
    }
   ],
   "source": [
    "E_From_Matrix(phi_f,blocks)"
   ]
  },
  {
   "cell_type": "code",
   "execution_count": 229,
   "metadata": {},
   "outputs": [
    {
     "data": {
      "text/plain": [
       "array([-3.34084762e+00+0.00000000e+00j, -3.29295138e+00+0.00000000e+00j,\n",
       "       -2.86387634e+00+0.00000000e+00j, -2.78526086e+00+0.00000000e+00j,\n",
       "       -1.56155281e+00+0.00000000e+00j, -1.56155281e+00+0.00000000e+00j,\n",
       "       -1.00000000e+00+0.00000000e+00j, -1.00000000e+00+0.00000000e+00j,\n",
       "       -1.00000000e+00+0.00000000e+00j, -1.00000000e+00+0.00000000e+00j,\n",
       "       -5.61552813e-01+0.00000000e+00j, -5.61552813e-01+0.00000000e+00j,\n",
       "        7.31507328e-16+0.00000000e+00j,  5.07690516e-01+0.00000000e+00j,\n",
       "        5.23028722e-01+0.00000000e+00j,  1.00000000e+00+0.00000000e+00j,\n",
       "        1.00000000e+00+0.00000000e+00j,  1.00000000e+00+0.00000000e+00j,\n",
       "        1.00000000e+00+0.00000000e+00j,  1.00000000e+00-1.27192026e-16j,\n",
       "        1.00000000e+00+1.27192026e-16j,  1.47697128e+00+0.00000000e+00j,\n",
       "        1.49230948e+00+0.00000000e+00j,  2.00000000e+00+0.00000000e+00j,\n",
       "        2.56155281e+00+0.00000000e+00j,  2.56155281e+00+0.00000000e+00j,\n",
       "        3.00000000e+00+0.00000000e+00j,  3.00000000e+00+0.00000000e+00j,\n",
       "        3.00000000e+00+0.00000000e+00j,  3.00000000e+00+0.00000000e+00j,\n",
       "        3.56155281e+00+0.00000000e+00j,  3.56155281e+00+0.00000000e+00j,\n",
       "        4.78526086e+00+0.00000000e+00j,  4.86387634e+00+0.00000000e+00j,\n",
       "        5.29295138e+00+0.00000000e+00j,  5.34084762e+00+0.00000000e+00j])"
      ]
     },
     "execution_count": 229,
     "metadata": {},
     "output_type": "execute_result"
    }
   ],
   "source": [
    "np.sort(e)"
   ]
  },
  {
   "cell_type": "code",
   "execution_count": null,
   "metadata": {},
   "outputs": [],
   "source": []
  }
 ],
 "metadata": {
  "kernelspec": {
   "display_name": "Python [conda env:qiskit_25v]",
   "language": "python",
   "name": "conda-env-qiskit_25v-py"
  },
  "language_info": {
   "codemirror_mode": {
    "name": "ipython",
    "version": 3
   },
   "file_extension": ".py",
   "mimetype": "text/x-python",
   "name": "python",
   "nbconvert_exporter": "python",
   "pygments_lexer": "ipython3",
   "version": "3.9.4"
  }
 },
 "nbformat": 4,
 "nbformat_minor": 4
}
