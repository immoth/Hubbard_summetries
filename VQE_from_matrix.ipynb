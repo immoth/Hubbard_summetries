{
 "cells": [
  {
   "cell_type": "markdown",
   "metadata": {},
   "source": [
    "# Symmetry Reduced VQE"
   ]
  },
  {
   "cell_type": "markdown",
   "metadata": {},
   "source": [
    "The first step is to find the blocks of a Hamiltonian which has have been reduced due to the application of some symmerty consideration.  Each block will then have an associated wavefunction,\n",
    "$$ |\\psi^b> = U(\\phi^b_1,\\phi^b_1,\\ldots)|000\\ldots> $$\n",
    "where $|000\\ldots>$ is the state in which $Q$ qubits are in their ground state with $Q$ deterimed by the size of the block $N$ as $Q = \\log_2 N$ rounded up and $U$ is a linear transformation with some set of parameters $\\{\\phi^b_i\\}$ which depend on the block.  \n",
    "\n",
    "For this notebook we will use the linear transformation Anzatz from here: https://arxiv.org/abs/1907.01493.  It gives $U$ as applying y-rotations to each qubit, then coupling each qubit pair with a C-not gate and repreating. \n",
    "$$ U^b_i = \\prod_q R^y_q(\\phi_{q0}^b)\\prod_{q'}C_{4q',4q'+1}C_{4q'+3,4q'+2}\\prod_{q''}C_{4q''+1,4q''+2}C_{4q''+4,4q''+3} $$\n",
    "$$ U^b = \\prod_i U^b_i $$\n",
    "where the $\\pm$ in the subscripts of the C-not gates alternates (see below for an exact definition).\n",
    "\n",
    "The Hamiltonian might be block diagonal or it might have some nonzero off diagonal blocks.  In the most general case, the minimization function invovles wave functions from different blocks.  \n",
    "\n",
    "$$ E = \\sum_{a,b}<\\psi^a|H_{ab}|\\psi^b> $$\n",
    "\n",
    "To minimize this function we will use the simultaneous perturbation stochastic approximation algorithm."
   ]
  },
  {
   "cell_type": "markdown",
   "metadata": {},
   "source": [
    "## Hamiltonian"
   ]
  },
  {
   "cell_type": "markdown",
   "metadata": {},
   "source": [
    "As an example for this notebook we will use the Hamiltonian generated from Example_Matrix_Creation_Sign_Fix.ipynb\n",
    "\n",
    "I do not know how to export the summed operator from OpFlow so I will import the numpy matrix and then re-extract the Pauli terms here."
   ]
  },
  {
   "cell_type": "code",
   "execution_count": 6,
   "metadata": {},
   "outputs": [],
   "source": [
    "import numpy as np \n",
    "\n",
    "H = np.load('Hamiltonian_Example.npy')"
   ]
  },
  {
   "cell_type": "code",
   "execution_count": 7,
   "metadata": {},
   "outputs": [
    {
     "data": {
      "text/plain": [
       "array([-3.34084762e+00+0.00000000e+00j, -3.29295138e+00+0.00000000e+00j,\n",
       "       -2.86387634e+00+0.00000000e+00j, -2.78526086e+00+0.00000000e+00j,\n",
       "       -1.56155281e+00+0.00000000e+00j, -1.56155281e+00+0.00000000e+00j,\n",
       "       -1.00000000e+00+0.00000000e+00j, -1.00000000e+00+0.00000000e+00j,\n",
       "       -1.00000000e+00+0.00000000e+00j, -1.00000000e+00+0.00000000e+00j,\n",
       "       -5.61552813e-01+0.00000000e+00j, -5.61552813e-01+0.00000000e+00j,\n",
       "        7.31507328e-16+0.00000000e+00j,  5.07690516e-01+0.00000000e+00j,\n",
       "        5.23028722e-01+0.00000000e+00j,  1.00000000e+00+0.00000000e+00j,\n",
       "        1.00000000e+00+0.00000000e+00j,  1.00000000e+00+0.00000000e+00j,\n",
       "        1.00000000e+00+0.00000000e+00j,  1.00000000e+00-1.27192026e-16j,\n",
       "        1.00000000e+00+1.27192026e-16j,  1.47697128e+00+0.00000000e+00j,\n",
       "        1.49230948e+00+0.00000000e+00j,  2.00000000e+00+0.00000000e+00j,\n",
       "        2.56155281e+00+0.00000000e+00j,  2.56155281e+00+0.00000000e+00j,\n",
       "        3.00000000e+00+0.00000000e+00j,  3.00000000e+00+0.00000000e+00j,\n",
       "        3.00000000e+00+0.00000000e+00j,  3.00000000e+00+0.00000000e+00j,\n",
       "        3.56155281e+00+0.00000000e+00j,  3.56155281e+00+0.00000000e+00j,\n",
       "        4.78526086e+00+0.00000000e+00j,  4.86387634e+00+0.00000000e+00j,\n",
       "        5.29295138e+00+0.00000000e+00j,  5.34084762e+00+0.00000000e+00j])"
      ]
     },
     "execution_count": 7,
     "metadata": {},
     "output_type": "execute_result"
    }
   ],
   "source": [
    "e,y = np.linalg.eig(H)\n",
    "\n",
    "np.sort(e)"
   ]
  },
  {
   "cell_type": "markdown",
   "metadata": {},
   "source": [
    "Now that the Hamiltonian has been imported let us break it into blocks and exctract the Pauli coordinates.  "
   ]
  },
  {
   "cell_type": "code",
   "execution_count": 8,
   "metadata": {},
   "outputs": [],
   "source": [
    "from qiskit.opflow import (I, X, Y, Z)\n",
    "from qiskit.opflow.primitive_ops import MatrixOp\n",
    "\n",
    "# Function to add elements to a block so that it fits onto qubits\n",
    "def complete_diagonal(b11):\n",
    "    size = 2**np.ceil(np.log2(len(b11)))\n",
    "    for v in b11:\n",
    "        while len(v) < size:\n",
    "            v.append(0.0)\n",
    "    while len(b11) < size:\n",
    "        i = len(b11)\n",
    "        vnew = [0.0 for i in range(0,8)]\n",
    "        vnew[i] = 10\n",
    "        b11.append(vnew)\n",
    "    return b11\n",
    "\n",
    "def complete_off_diagonal(b11):\n",
    "    size = 2**np.ceil(np.log2(len(b11)))\n",
    "    for v in b11:\n",
    "        while len(v) < size:\n",
    "            v.append(0.0)\n",
    "    while len(b11) < size:\n",
    "        i = len(b11)\n",
    "        vnew = [0.0 for i in range(0,8)]\n",
    "        b11.append(vnew)\n",
    "    return b11\n",
    "\n"
   ]
  },
  {
   "cell_type": "code",
   "execution_count": 9,
   "metadata": {},
   "outputs": [],
   "source": [
    "import math\n",
    "N = 4\n",
    "S = 2\n",
    "bL = math.comb(4,2)\n",
    "\n",
    "blocks = {}\n",
    "for bi in range(bL):\n",
    "    for bj in range(bi,bL):\n",
    "        bij = [[H[i + bL*bi][j + bL*bj] for j in range(0,bL)] for i in range(0,bL)]\n",
    "        if np.amax(np.abs(bij)) > 10**(-5):\n",
    "            if bi == bj:\n",
    "                bij = complete_diagonal(bij)\n",
    "            else:\n",
    "                bij = complete_off_diagonal(bij)\n",
    "            bij_pauli = MatrixOp(bij).to_pauli_op()\n",
    "            blocks[str(bi) + ',' + str(bj)] = bij_pauli\n",
    "        "
   ]
  },
  {
   "cell_type": "markdown",
   "metadata": {},
   "source": [
    "The object *blocks* is a dictionary of *SumedOp* lists of *PauliOp* objects.  "
   ]
  },
  {
   "cell_type": "code",
   "execution_count": 10,
   "metadata": {},
   "outputs": [
    {
     "data": {
      "text/html": [
       "<div>\n",
       "<style scoped>\n",
       "    .dataframe tbody tr th:only-of-type {\n",
       "        vertical-align: middle;\n",
       "    }\n",
       "\n",
       "    .dataframe tbody tr th {\n",
       "        vertical-align: top;\n",
       "    }\n",
       "\n",
       "    .dataframe thead th {\n",
       "        text-align: right;\n",
       "    }\n",
       "</style>\n",
       "<table border=\"1\" class=\"dataframe\">\n",
       "  <thead>\n",
       "    <tr style=\"text-align: right;\">\n",
       "      <th></th>\n",
       "      <th>0</th>\n",
       "      <th>1</th>\n",
       "      <th>2</th>\n",
       "      <th>3</th>\n",
       "      <th>4</th>\n",
       "      <th>5</th>\n",
       "      <th>6</th>\n",
       "      <th>7</th>\n",
       "    </tr>\n",
       "  </thead>\n",
       "  <tbody>\n",
       "    <tr>\n",
       "      <th>0</th>\n",
       "      <td>-1.0+0.0j</td>\n",
       "      <td>0.0+0.0j</td>\n",
       "      <td>0.0+0.0j</td>\n",
       "      <td>0.0+0.0j</td>\n",
       "      <td>0.0+0.0j</td>\n",
       "      <td>0.0+0.0j</td>\n",
       "      <td>0.0+0.0j</td>\n",
       "      <td>0.0+0.0j</td>\n",
       "    </tr>\n",
       "    <tr>\n",
       "      <th>1</th>\n",
       "      <td>0.0+0.0j</td>\n",
       "      <td>-1.0+0.0j</td>\n",
       "      <td>0.0+0.0j</td>\n",
       "      <td>0.0+0.0j</td>\n",
       "      <td>0.0+0.0j</td>\n",
       "      <td>0.0+0.0j</td>\n",
       "      <td>0.0+0.0j</td>\n",
       "      <td>0.0+0.0j</td>\n",
       "    </tr>\n",
       "    <tr>\n",
       "      <th>2</th>\n",
       "      <td>0.0+0.0j</td>\n",
       "      <td>0.0+0.0j</td>\n",
       "      <td>-1.0+0.0j</td>\n",
       "      <td>0.0+0.0j</td>\n",
       "      <td>0.0+0.0j</td>\n",
       "      <td>0.0+0.0j</td>\n",
       "      <td>0.0+0.0j</td>\n",
       "      <td>0.0+0.0j</td>\n",
       "    </tr>\n",
       "    <tr>\n",
       "      <th>3</th>\n",
       "      <td>0.0+0.0j</td>\n",
       "      <td>0.0+0.0j</td>\n",
       "      <td>0.0+0.0j</td>\n",
       "      <td>-1.0+0.0j</td>\n",
       "      <td>0.0+0.0j</td>\n",
       "      <td>0.0+0.0j</td>\n",
       "      <td>0.0+0.0j</td>\n",
       "      <td>0.0+0.0j</td>\n",
       "    </tr>\n",
       "    <tr>\n",
       "      <th>4</th>\n",
       "      <td>0.0+0.0j</td>\n",
       "      <td>0.0+0.0j</td>\n",
       "      <td>0.0+0.0j</td>\n",
       "      <td>0.0+0.0j</td>\n",
       "      <td>-1.0+0.0j</td>\n",
       "      <td>0.0+0.0j</td>\n",
       "      <td>0.0+0.0j</td>\n",
       "      <td>0.0+0.0j</td>\n",
       "    </tr>\n",
       "    <tr>\n",
       "      <th>5</th>\n",
       "      <td>0.0+0.0j</td>\n",
       "      <td>0.0+0.0j</td>\n",
       "      <td>0.0+0.0j</td>\n",
       "      <td>0.0+0.0j</td>\n",
       "      <td>0.0+0.0j</td>\n",
       "      <td>-1.0+0.0j</td>\n",
       "      <td>0.0+0.0j</td>\n",
       "      <td>0.0+0.0j</td>\n",
       "    </tr>\n",
       "    <tr>\n",
       "      <th>6</th>\n",
       "      <td>0.0+0.0j</td>\n",
       "      <td>0.0+0.0j</td>\n",
       "      <td>0.0+0.0j</td>\n",
       "      <td>0.0+0.0j</td>\n",
       "      <td>0.0+0.0j</td>\n",
       "      <td>0.0+0.0j</td>\n",
       "      <td>0.0+0.0j</td>\n",
       "      <td>0.0+0.0j</td>\n",
       "    </tr>\n",
       "    <tr>\n",
       "      <th>7</th>\n",
       "      <td>0.0+0.0j</td>\n",
       "      <td>0.0+0.0j</td>\n",
       "      <td>0.0+0.0j</td>\n",
       "      <td>0.0+0.0j</td>\n",
       "      <td>0.0+0.0j</td>\n",
       "      <td>0.0+0.0j</td>\n",
       "      <td>0.0+0.0j</td>\n",
       "      <td>0.0+0.0j</td>\n",
       "    </tr>\n",
       "  </tbody>\n",
       "</table>\n",
       "</div>"
      ],
      "text/plain": [
       "          0         1         2         3         4         5         6  \\\n",
       "0 -1.0+0.0j  0.0+0.0j  0.0+0.0j  0.0+0.0j  0.0+0.0j  0.0+0.0j  0.0+0.0j   \n",
       "1  0.0+0.0j -1.0+0.0j  0.0+0.0j  0.0+0.0j  0.0+0.0j  0.0+0.0j  0.0+0.0j   \n",
       "2  0.0+0.0j  0.0+0.0j -1.0+0.0j  0.0+0.0j  0.0+0.0j  0.0+0.0j  0.0+0.0j   \n",
       "3  0.0+0.0j  0.0+0.0j  0.0+0.0j -1.0+0.0j  0.0+0.0j  0.0+0.0j  0.0+0.0j   \n",
       "4  0.0+0.0j  0.0+0.0j  0.0+0.0j  0.0+0.0j -1.0+0.0j  0.0+0.0j  0.0+0.0j   \n",
       "5  0.0+0.0j  0.0+0.0j  0.0+0.0j  0.0+0.0j  0.0+0.0j -1.0+0.0j  0.0+0.0j   \n",
       "6  0.0+0.0j  0.0+0.0j  0.0+0.0j  0.0+0.0j  0.0+0.0j  0.0+0.0j  0.0+0.0j   \n",
       "7  0.0+0.0j  0.0+0.0j  0.0+0.0j  0.0+0.0j  0.0+0.0j  0.0+0.0j  0.0+0.0j   \n",
       "\n",
       "          7  \n",
       "0  0.0+0.0j  \n",
       "1  0.0+0.0j  \n",
       "2  0.0+0.0j  \n",
       "3  0.0+0.0j  \n",
       "4  0.0+0.0j  \n",
       "5  0.0+0.0j  \n",
       "6  0.0+0.0j  \n",
       "7  0.0+0.0j  "
      ]
     },
     "execution_count": 10,
     "metadata": {},
     "output_type": "execute_result"
    }
   ],
   "source": [
    "import pandas as pd\n",
    "\n",
    "pd.DataFrame(blocks['3,4'].to_matrix())"
   ]
  },
  {
   "cell_type": "code",
   "execution_count": 11,
   "metadata": {},
   "outputs": [
    {
     "name": "stdout",
     "output_type": "stream",
     "text": [
      "SummedOp([\n",
      "  3.25 * III,\n",
      "  -0.5 * IIX,\n",
      "  0.25 * IIZ,\n",
      "  -0.25 * IXI,\n",
      "  -0.25 * IXX,\n",
      "  0.25 * IXZ,\n",
      "  -0.25 * IYY,\n",
      "  -2.25 * IZI,\n",
      "  -0.5 * IZX,\n",
      "  0.25 * IZZ,\n",
      "  0.5 * XII,\n",
      "  -0.25 * XXI,\n",
      "  -0.25 * XXX,\n",
      "  -0.25 * XXZ,\n",
      "  0.25 * XYY,\n",
      "  0.5 * XZI,\n",
      "  -0.25 * YXY,\n",
      "  -0.25 * YYI,\n",
      "  -0.25 * YYX,\n",
      "  -0.25 * YYZ,\n",
      "  -2.0 * ZII,\n",
      "  -0.25 * ZXI,\n",
      "  -0.25 * ZXX,\n",
      "  0.25 * ZXZ,\n",
      "  -0.25 * ZYY,\n",
      "  2.5 * ZZI\n",
      "])\n"
     ]
    }
   ],
   "source": [
    "print(blocks['0,0'])"
   ]
  },
  {
   "cell_type": "markdown",
   "metadata": {},
   "source": [
    "Let's take a sanity check here and make sure we can rebuild a Hamiltonian with these completed blocks and that the ground state is still the same."
   ]
  },
  {
   "cell_type": "code",
   "execution_count": 12,
   "metadata": {},
   "outputs": [
    {
     "name": "stderr",
     "output_type": "stream",
     "text": [
      "<ipython-input-12-ce06f5abc6d5>:15: ComplexWarning: Casting complex values to real discards the imaginary part\n",
      "  H_complete[i + bi*size, j + bj*size] = block[i,j]\n",
      "<ipython-input-12-ce06f5abc6d5>:16: ComplexWarning: Casting complex values to real discards the imaginary part\n",
      "  H_complete[i + bj*size, j + bi*size] = block[j,i]\n"
     ]
    }
   ],
   "source": [
    "keys = list(blocks.keys())\n",
    "\n",
    "size = int(2**np.ceil(np.log2(bL)))\n",
    "H_complete = np.array([[0 for i in range(size**2)] for j in range(size**2)])\n",
    "\n",
    "for bi in range(bL):\n",
    "    for bj in range(bi,bL):\n",
    "        key = str(bi) + ',' + str(bj)\n",
    "        if key  in keys:\n",
    "            block = blocks[key].to_matrix()\n",
    "        else:\n",
    "            block = np.array([[0.0 for i in range(size)] for j in range(size)])\n",
    "        for i in range(size):\n",
    "            for j in range(size):\n",
    "                H_complete[i + bi*size, j + bj*size] = block[i,j]\n",
    "                H_complete[i + bj*size, j + bi*size] = block[j,i]"
   ]
  },
  {
   "cell_type": "code",
   "execution_count": 13,
   "metadata": {},
   "outputs": [
    {
     "name": "stdout",
     "output_type": "stream",
     "text": [
      "-3.3408476172483366\n",
      "(-3.340847617248337+0j)\n"
     ]
    }
   ],
   "source": [
    "e_comp,y_comp = np.linalg.eig(H_complete)\n",
    "\n",
    "print(np.sort(e_comp)[0])\n",
    "print(np.sort(e)[0])"
   ]
  },
  {
   "cell_type": "markdown",
   "metadata": {},
   "source": [
    "## The Anzatz circuit"
   ]
  },
  {
   "cell_type": "markdown",
   "metadata": {},
   "source": [
    "Here we define the paramaterized circuit which we will optimize. \n",
    "\n",
    "$$ U^b_i = \\prod_q R^y_q(\\phi_{q0}^b)\\prod_{q'}C_{4q',4q'+1}C_{4q'+3,4q'+2}\\prod_{q''}C_{4q''+1,4q''+2}C_{4q''+4,4q''+3} $$\n",
    "$$ U^b = \\prod_i U^b_i $$"
   ]
  },
  {
   "cell_type": "code",
   "execution_count": 14,
   "metadata": {},
   "outputs": [],
   "source": [
    "from qiskit import QuantumCircuit, QuantumRegister,ClassicalRegister, execute\n",
    "\n",
    "\n",
    "# the number of qubits is given by the size of the blocks\n",
    "# note: the size of the blocks has already been adjusted to fit the qubits\n",
    "Q = int(np.log2(len(blocks['0,0'].to_matrix())))\n"
   ]
  },
  {
   "cell_type": "code",
   "execution_count": 15,
   "metadata": {},
   "outputs": [],
   "source": [
    "def Ui(cir_i,phi_i):  \n",
    "    \n",
    "    for q in range(0,Q):\n",
    "        cir_i.ry(phi_i[q],q)\n",
    "    for q in range(0,Q,4):\n",
    "        cir_i.cx(q,q+1)\n",
    "        if q + 3 < Q:\n",
    "            cir_i.cx(q+3,q+2)\n",
    "    for q in range(1,Q,4):\n",
    "        cir_i.cx(q,q+1)\n",
    "        if q + 3 < Q:\n",
    "            cir_i.cx(q+3,q+2)\n",
    "    \n",
    "    return cir_i\n",
    "\n",
    "def Ui_dagger(cir_i,phi_i):  \n",
    "    \n",
    "    for q in range(1,Q,4):\n",
    "        cir_i.cx(q,q+1)\n",
    "        if q + 3 < Q:\n",
    "            cir_i.cx(q+3,q+2)\n",
    "    for q in range(0,Q,4):\n",
    "        cir_i.cx(q,q+1)\n",
    "        if q + 3 < Q:\n",
    "            cir_i.cx(q+3,q+2)\n",
    "    for q in range(0,Q):\n",
    "        cir_i.ry(-phi_i[q],q)\n",
    "    \n",
    "    return cir_i"
   ]
  },
  {
   "cell_type": "code",
   "execution_count": 16,
   "metadata": {},
   "outputs": [
    {
     "data": {
      "image/png": "[encoded data removed]",
      "text/plain": [
       "<Figure size 280.178x264.88 with 1 Axes>"
      ]
     },
     "execution_count": 16,
     "metadata": {},
     "output_type": "execute_result"
    }
   ],
   "source": [
    "qr = QuantumRegister(Q)\n",
    "cr = ClassicalRegister(Q)\n",
    "cir_i = QuantumCircuit(qr , cr)\n",
    "tst = Ui(cir_i,[0.2,0.3,0.4])\n",
    "\n",
    "tst.draw(output = 'mpl')"
   ]
  },
  {
   "cell_type": "code",
   "execution_count": 17,
   "metadata": {},
   "outputs": [
    {
     "data": {
      "image/png": "[encoded data removed]",
      "text/plain": [
       "<Figure size 280.323x264.88 with 1 Axes>"
      ]
     },
     "execution_count": 17,
     "metadata": {},
     "output_type": "execute_result"
    }
   ],
   "source": [
    "qr = QuantumRegister(Q)\n",
    "cr = ClassicalRegister(Q)\n",
    "cir_i = QuantumCircuit(qr , cr)\n",
    "\n",
    "tst_dagger = Ui_dagger(cir_i,[0.2,0.3,0.4])\n",
    "tst_dagger.draw(output = 'mpl')"
   ]
  },
  {
   "cell_type": "code",
   "execution_count": 18,
   "metadata": {},
   "outputs": [],
   "source": [
    "def U(cir,phi_b):\n",
    "    T = len(phi_b)\n",
    "    for t in range(T):\n",
    "        cir = Ui(cir,phi_b[t])\n",
    "    return cir\n",
    "\n",
    "def U_dagger(cir,phi_b):\n",
    "    T = len(phi_b)\n",
    "    for t in range(T):\n",
    "        cir = Ui_dagger(cir,phi_b[T-1-t])\n",
    "    return cir"
   ]
  },
  {
   "cell_type": "code",
   "execution_count": 19,
   "metadata": {},
   "outputs": [
    {
     "data": {
      "image/png": "[encoded data removed]",
      "text/plain": [
       "<Figure size 641.669x264.88 with 1 Axes>"
      ]
     },
     "execution_count": 19,
     "metadata": {},
     "output_type": "execute_result"
    }
   ],
   "source": [
    "qr = QuantumRegister(Q)\n",
    "cr = ClassicalRegister(Q)\n",
    "cir = QuantumCircuit(qr , cr)\n",
    "tst = U(cir,[[0.2,0.3,0.4],[0.5,0.6,0.7],[0.8,0.9,0.1]])\n",
    "\n",
    "tst.draw(output = 'mpl')"
   ]
  },
  {
   "cell_type": "code",
   "execution_count": 20,
   "metadata": {},
   "outputs": [
    {
     "data": {
      "image/png": "[encoded data removed]",
      "text/plain": [
       "<Figure size 641.669x264.88 with 1 Axes>"
      ]
     },
     "execution_count": 20,
     "metadata": {},
     "output_type": "execute_result"
    }
   ],
   "source": [
    "qr = QuantumRegister(Q)\n",
    "cr = ClassicalRegister(Q)\n",
    "cir = QuantumCircuit(qr , cr)\n",
    "tst = U_dagger(cir,[[0.2,0.3,0.4],[0.5,0.6,0.7],[0.8,0.9,0.1]])\n",
    "\n",
    "tst.draw(output = 'mpl')"
   ]
  },
  {
   "cell_type": "markdown",
   "metadata": {},
   "source": [
    "# Calculating E\n",
    "\n",
    "$$ E = \\sum_{ab}<\\psi^a|H_{ab}|\\psi^b> = \\sum_{ab}<000\\ldots|U^{\\dagger}(\\{\\phi^a\\})H_{ab}U(\\{\\phi^b\\})|000\\ldots>$$"
   ]
  },
  {
   "cell_type": "markdown",
   "metadata": {},
   "source": [
    "First we need to inialize our set of parameters.  To do this we need to decide on the number of times we will apply Ui.  As a first attempt let's just have a depth of 1 (i.e. $U = Ui$).  \n",
    "\n",
    "In this case, we need a parameter for each qubit for each section."
   ]
  },
  {
   "cell_type": "code",
   "execution_count": 21,
   "metadata": {},
   "outputs": [],
   "source": [
    "#number of blocks\n",
    "T = 1\n",
    "\n",
    "phi = []\n",
    "for b in range(bL):\n",
    "    phi_b = []\n",
    "    for t in range(T):\n",
    "        phi_t = []\n",
    "        for q in range(Q):\n",
    "            phi_t.append(0)\n",
    "        phi_b.append(phi_t)\n",
    "    phi.append(phi_b)"
   ]
  },
  {
   "cell_type": "markdown",
   "metadata": {},
   "source": [
    "The structure of $\\phi_{b,t,q}$ is by section in the first index, by number of application of $U_i$ in the second index, and by qubit in the third index\n",
    "\n",
    "Instead of using circuits to find $E$ I will convert $U$ into a statevector and each block into a matrix.  This should run faster so that we can explore the parameters in SPSA."
   ]
  },
  {
   "cell_type": "code",
   "execution_count": 22,
   "metadata": {},
   "outputs": [],
   "source": [
    "import copy"
   ]
  },
  {
   "cell_type": "code",
   "execution_count": 23,
   "metadata": {},
   "outputs": [],
   "source": [
    "from qiskit import quantum_info as qi\n",
    "\n",
    "def bkt(psi2,h,psi1):\n",
    "    return np.dot(np.conjugate(psi2),np.dot(h,psi1))\n",
    "\n",
    "\n",
    "\n",
    "def E_From_Matrix(phi,blocks):\n",
    "    E = 0\n",
    "    for key in list(blocks.keys()):\n",
    "        qr = QuantumRegister(Q)\n",
    "        cr = ClassicalRegister(Q)\n",
    "        cir0 = QuantumCircuit(qr , cr)\n",
    "        a = int(key.split(',')[0])\n",
    "        b = int(key.split(',')[1])\n",
    "        w = 1\n",
    "        if a != b:\n",
    "            w = 2\n",
    "        cir = copy.deepcopy(cir0)\n",
    "        psi_1 = qi.Statevector.from_instruction(U(cir,phi[b])).data\n",
    "        h = blocks[key].to_matrix()\n",
    "        cir = copy.deepcopy(cir0)\n",
    "        psi_2 = qi.Statevector.from_instruction(U(cir,phi[a])).data\n",
    "        E_key = bkt(psi_2,h,psi_1)\n",
    "        E += w*E_key\n",
    "    return E/bL\n",
    "            "
   ]
  },
  {
   "cell_type": "code",
   "execution_count": 24,
   "metadata": {},
   "outputs": [
    {
     "data": {
      "text/plain": [
       "(-0.3333333333333333+0j)"
      ]
     },
     "execution_count": 24,
     "metadata": {},
     "output_type": "execute_result"
    }
   ],
   "source": [
    "qr = QuantumRegister(Q)\n",
    "cr = ClassicalRegister(Q)\n",
    "cir = QuantumCircuit(qr , cr)\n",
    "qi.Statevector.from_instruction(U(cir,phi[0])).data\n",
    "\n",
    "E_From_Matrix(phi,blocks)"
   ]
  },
  {
   "cell_type": "markdown",
   "metadata": {},
   "source": [
    "For a sanity check, let's compare this to simple matrix multiplication"
   ]
  },
  {
   "cell_type": "code",
   "execution_count": 25,
   "metadata": {},
   "outputs": [
    {
     "data": {
      "text/plain": [
       "-0.3333333333333334"
      ]
     },
     "execution_count": 25,
     "metadata": {},
     "output_type": "execute_result"
    }
   ],
   "source": [
    "all_down = [0 for i in range(len(H))]\n",
    "for b in range(bL):\n",
    "    all_down[bL*b + 1] = 1/np.sqrt(bL)\n",
    "    \n",
    "np.dot(all_down,np.dot(H,all_down))"
   ]
  },
  {
   "cell_type": "markdown",
   "metadata": {},
   "source": [
    "# Optimization"
   ]
  },
  {
   "cell_type": "markdown",
   "metadata": {},
   "source": [
    "I will be using the simultaneous perturbation stochastic approximation algorithm.  The algorithm works by calculating the gradiant of the cost function $E(\\hat{\\phi})$ by randomly purturbating all parameters in $\\hat{\\phi}$\n",
    "\n",
    "Let $\\hat{\\Delta}_k$ be a set of randomly selected purturbations during step $k$ of the algorithm. I will use the Bernoulli distribution to select $\\hat{\\Delta}_k$.  Then the gradient is \n",
    "$$ \\hat{g}_k(\\hat{\\phi}_k) = \\frac{E(\\hat{\\phi}_k + c_k \\hat{\\Delta}_k)-E(\\hat{\\phi}_k - c_k \\hat{\\Delta}_k)}{2 c_k} \\hat{\\Delta}_k$$.\n",
    "The gradiant is then used to update the parameters \n",
    "$$ \\hat{\\phi}_{k+1} = \\hat{\\phi}_k - a_k \\hat{g}_k(\\hat{\\phi}_k) $$\n",
    "\n",
    "$c_k$ and $a_k$ decrease with each iteration of the algorithm so that we zero in on the the minimum of $E$.  They are given by\n",
    "$$c_k = \\frac{c}{(k+1)^{\\gamma}}$$\n",
    "$$a_k = \\frac{a}{(A+k+1)^{\\alpha}}$$\n",
    "where $a$, $A$, $\\alpha$, $c$, and $\\gamma$ are choosen at the begining of the algorithm."
   ]
  },
  {
   "cell_type": "code",
   "execution_count": 111,
   "metadata": {},
   "outputs": [],
   "source": [
    "def SPSA(k_max,hold = False):\n",
    "    #Initalization\n",
    "    k = 0\n",
    "    #alpha = 0.602\n",
    "    alpha = 0.201\n",
    "    A = 10\n",
    "    a = 0.6\n",
    "    gamma = 0.101\n",
    "    c = 0.4\n",
    "    phi_k = np.array(phi)\n",
    "    E_l = []\n",
    "    hold_l = []\n",
    "    \n",
    "    #Begin Iterations\n",
    "    for k in range(k_max):\n",
    "        #Update c and a\n",
    "        a_k = a/((A + k + 1)**alpha)\n",
    "        c_k = c/((k + 1)**gamma)\n",
    "\n",
    "        #Find Delta\n",
    "        Delta_k = np.array(phi_k)\n",
    "        for b in range(bL):\n",
    "            for t in range(T):\n",
    "                for q in range(Q):\n",
    "                    Delta_k[b][t][q] = 1 - 2*np.random.binomial(size=None, n=1, p= 0.5)\n",
    "            \n",
    "        #Find E    \n",
    "        E_A = E_From_Matrix(phi_k + c_k*Delta_k ,blocks)\n",
    "        E_B = E_From_Matrix(phi_k - c_k*Delta_k ,blocks)\n",
    "        \n",
    "        #Calculate gradiant\n",
    "        g = np.real((E_A-E_B)/(2*c_k)) \n",
    "        g_k = g * Delta_k\n",
    "        phi_k = phi_k - a_k * g_k\n",
    "\n",
    "        \n",
    "        #Calculate new E\n",
    "        E_f = np.real(E_From_Matrix(phi_k,blocks))\n",
    "        \n",
    "        #Print and save E\n",
    "        print('k=',k,'c_k=',c_k,'a_k=',a_k,'g=',g,'E_A=',E_A,'E_B=',E_B,'E_f=',E_f)\n",
    "        E_l.append(E_f)\n",
    "        \n",
    "        if hold == True:\n",
    "            hold_k = {'E':E_f,'c':c_k,'a':a_k,'phi':phi_k,'Delta':Delta_k}\n",
    "            hold_l.append(hold_k)\n",
    "    if hold == True:\n",
    "        return hold_l\n",
    "    else:\n",
    "        return E_l,phi_k"
   ]
  },
  {
   "cell_type": "code",
   "execution_count": 133,
   "metadata": {
    "scrolled": true
   },
   "outputs": [
    {
     "name": "stdout",
     "output_type": "stream",
     "text": [
      "k= 0 c_k= 0.4 a_k= 0.37053677789517936 g= 0.3122123716656088 E_A= (0.6483890629959143+0j) E_B= (0.39861916566342726+0j) E_f= -0.2941674404659663\n",
      "k= 1 c_k= 0.372954594574733 a_k= 0.36411269399518237 g= -0.2660003542034089 E_A= (0.29016140589224104+0j) E_B= (0.4885735144095765+0j) E_f= -0.2754518896461001\n",
      "k= 2 c_k= 0.3579898757427053 a_k= 0.35830150846605 g= -0.23292677706300233 E_A= (0.2971946976524312+0j) E_B= (0.4639655536082972+0j) E_f= -0.2587121931480517\n",
      "k= 3 c_k= 0.34773782403600867 a_k= 0.3530039095073033 g= 0.2123402114687735 E_A= (0.4327031217365754+0j) E_B= (0.28502567555358094+0j) E_f= -0.24596242903855295\n",
      "k= 4 c_k= 0.33998833831625347 a_k= 0.3481423907099719 g= -0.8282619743549203 E_A= (0.03284742681671144+0j) E_B= (0.596046251519649+0j) E_f= -0.08100027444187827\n",
      "k= 5 c_k= 0.3337849224236992 a_k= 0.3436553693939271 g= -0.7447356728411797 E_A= (0.21150410717356444+0j) E_B= (0.7086671847444737+0j) E_f= 0.038152202417289005\n",
      "k= 6 c_k= 0.32862839767254015 a_k= 0.3394931510171673 g= -0.5538459736609084 E_A= (0.33997864185283044+0j) E_B= (0.7039976716159748+0j) E_f= 0.0918787636479584\n",
      "k= 7 c_k= 0.3242260479541237 a_k= 0.33561508800432555 g= -2.154033778939133 E_A= (-0.13457751530466183+0j) E_B= (1.2622102033055813+0j) E_f= 0.8935466348027881\n",
      "k= 8 c_k= 0.3203918778356939 a_k= 0.3319875341277904 g= -0.8186882261989996 E_A= (1.0157212359975634+0j) E_B= (1.540323352305305+0j) E_f= 0.9505710824015426\n",
      "k= 9 c_k= 0.3170005321921887 a_k= 0.3285823423742081 g= -1.9576144229495993 E_A= (0.7209873523314992+0j) E_B= (1.962116980135754+0j) E_f= 1.3533603294087952\n",
      "k= 10 c_k= 0.31396362164265085 a_k= 0.32537574248024465 g= -2.070321664210753 E_A= (0.8989840821249315+0j) E_B= (2.1989954574466277+0j) E_f= 1.3225693340041866\n",
      "k= 11 c_k= 0.31121655104422363 a_k= 0.32234748901110455 g= -0.1785724199719532 E_A= (1.5862189691990116+0j) E_B= (1.6973683545095954+0j) E_f= 1.325694202057789\n",
      "k= 12 c_k= 0.3087107214903736 a_k= 0.31948020567017194 g= -3.7336336140559503 E_A= (0.403532912782125+0j) E_B= (2.7087583663339716+0j) E_f= 1.890348416393096\n",
      "k= 13 c_k= 0.3064086770492659 a_k= 0.31675887422872395 g= 0.195315211504573 E_A= (2.0950837520504404+0j) E_B= (1.9753912009210128+0j) E_f= 1.8865694043308967\n",
      "k= 14 c_k= 0.30428095746951106 a_k= 0.3141704315882842 g= 1.266772106453709 E_A= (2.4492527808320106+0j) E_B= (1.6783435219372027+0j) E_f= 1.7173620013370785\n",
      "k= 15 c_k= 0.3023039856632453 a_k= 0.3117034487615564 g= 0.8019416564245172 E_A= (2.1901149711613828+0j) E_B= (1.70525465314835+0j) E_f= 1.6703046190866675\n",
      "k= 16 c_k= 0.30045860758866744 a_k= 0.309347872660659 g= 1.7939698738030394 E_A= (2.303645042503059+0j) E_B= (1.2256176618253014+0j) E_f= 1.175079481787174\n",
      "k= 17 c_k= 0.2987290572581215 a_k= 0.30709481657168264 g= 2.0975799814357403 E_A= (1.9538779678846292+0j) E_B= (0.7006617871290157+0j) E_f= 0.6128758283973714\n",
      "k= 18 c_k= 0.29710220679082217 a_k= 0.30493638875269324 g= 0.7297802885724106 E_A= (1.0678041990515144+0j) E_B= (0.634165530636902+0j) E_f= 0.5819391720544442\n",
      "k= 19 c_k= 0.29556701240928085 a_k= 0.3028655511638008 g= -0.6192678366920901 E_A= (0.4817241686067114+0j) E_B= (0.8477944573511904+0j) E_f= 0.508073690927997\n",
      "k= 20 c_k= 0.2941140981207925 a_k= 0.30087600221972294 g= 0.28404392292994574 E_A= (0.7059419154115771+0j) E_B= (0.5388592709731114+0j) E_f= 0.4989750381040135\n",
      "k= 21 c_k= 0.2927354380523743 a_k= 0.29896207884836035 g= 0.6459258137602603 E_A= (0.7758374087490255+0j) E_B= (0.3976666566681333+0j) E_f= 0.41052084272105394\n",
      "k= 22 c_k= 0.29142411071599983 a_k= 0.2971186741813143 g= 0.27383429149983607 E_A= (0.7197291093525069+0j) E_B= (0.5601252795847357+0j) E_f= 0.4104436878082923\n",
      "k= 23 c_k= 0.2901741065491128 a_k= 0.2953411679901029 g= 0.6731831907137231 E_A= (0.8174942935972501+0j) E_B= (0.42681363177877885+0j) E_f= 0.37582385550856356\n",
      "k= 24 c_k= 0.2889801754776181 a_k= 0.29362536758281893 g= -0.04941262960045703 E_A= (0.5026327742920581+0j) E_B= (0.5311913150375593+0j) E_f= 0.37496073307063665\n",
      "k= 25 c_k= 0.28783770493578903 a_k= 0.2919674573384438 g= -1.1102540369807448 E_A= (0.18432662916886033+0j) E_B= (0.8234725769693247+0j) E_f= 0.18340734951230855\n",
      "k= 26 c_k= 0.2867426213384302 a_k= 0.29036395541481486 g= -0.33127612895762765 E_A= (0.24592671116828924+0j) E_B= (0.43590868237660524+0j) E_f= 0.16101404720319584\n",
      "k= 27 c_k= 0.2856913098077231 a_k= 0.2888116764467441 g= -0.7735295196807673 E_A= (0.06230139171106989+0j) E_B= (0.5042827150161446+0j) E_f= 0.07034498272871377\n",
      "k= 28 c_k= 0.28468054825101563 a_k= 0.2873076992716592 g= 0.5057793643849265 E_A= (0.22989358083902003+0j) E_B= (-0.05807751265528216+0j) E_f= -0.0021139585865905808\n",
      "k= 29 c_k= 0.2837074528246327 a_k= 0.2858493388952498 g= 1.2945045648230113 E_A= (0.3995841460392767+0j) E_B= (-0.3349370394723157+0j) E_f= -0.4003195651510048\n",
      "k= 30 c_k= 0.2827694325084489 a_k= 0.28443412204933055 g= -0.2835948998794254 E_A= (-0.3265567057278912+0j) E_B= (-0.1661727679255002+0j) E_f= -0.41368830720696664\n",
      "k= 31 c_k= 0.2818641510284039 a_k= 0.2830597658063005 g= 0.518349299461707 E_A= (0.02047858772458877+0j) E_B= (-0.27172958273329517+0j) E_f= -0.4083280042886105\n",
      "k= 32 c_k= 0.28098949474895574 a_k= 0.2817241588051502 g= 0.9197775765931503 E_A= (0.03960479172428455+0j) E_B= (-0.47729088133237196+0j) E_f= -0.4858999778586064\n",
      "k= 33 c_k= 0.28014354544930065 a_k= 0.2804253447174913 g= -1.4045404621313404 E_A= (-0.7151920319605095+0j) E_B= (0.07175385761643627+0j) E_f= -0.6882068376841067\n",
      "k= 34 c_k= 0.2793245571205497 a_k= 0.2791615076420886 g= 0.2812829627362734 E_A= (-0.3113815490148936+0j) E_B= (-0.46852002699862494+0j) E_f= -0.6886915959375957\n",
      "k= 35 c_k= 0.2785309360934873 a_k= 0.27793095916558136 g= 0.6434064116197444 E_A= (-0.28530013465537163+0j) E_B= (-0.6437173148893697+0j) E_f= -0.7072933548704012\n",
      "k= 36 c_k= 0.277761223940729 a_k= 0.2767321268676262 g= 0.008615853135355882 E_A= (-0.43508919329639567+0j) E_B= (-0.4398754931207357+0j) E_f= -0.707244487742897\n",
      "k= 37 c_k= 0.27701408270232386 a_k= 0.2755635440822508 g= 0.814775224040165 E_A= (-0.37966330793663705+0j) E_B= (-0.8310717305287705+0j) E_f= -0.8283470982999124\n",
      "k= 38 c_k= 0.2762882820669494 a_k= 0.2744238407551038 g= 0.29662616284566257 E_A= (-0.5407540924999725+0j) E_B= (-0.7046627583974511+0j) E_f= -0.8364419774012974\n",
      "k= 39 c_k= 0.27558268820692106 a_k= 0.27331173525956215 g= -1.159956266143423 E_A= (-0.904595948125676+0j) E_B= (-0.2652682160731415+0j) E_f= -0.8757348171877993\n",
      "k= 40 c_k= 0.27489625401810586 a_k= 0.27222602705416843 g= -0.36591821360192517 E_A= (-0.7914269918530806+0j) E_B= (-0.590247899460748+0j) E_f= -0.8859029123830402\n",
      "k= 41 c_k= 0.2742280105583835 a_k= 0.2711655900802725 g= 0.3590569533662837 E_A= (-0.629251765101522+0j) E_B= (-0.8261787130991025+0j) E_f= -0.9027742272669943\n",
      "k= 42 c_k= 0.2735770595127504 a_k= 0.2701293668125993 g= -0.3057775750027798 E_A= (-0.7755610658407145+0j) E_B= (-0.6082536061723145+0j) E_f= -0.9130162333330084\n",
      "k= 43 c_k= 0.27294256654120025 a_k= 0.26911636288719304 g= 0.5264693194992354 E_A= (-0.5062744345015244+0j) E_B= (-0.7936662090401654+0j) E_f= -0.9178815624077746\n",
      "k= 44 c_k= 0.27232375538845416 a_k= 0.268125642241155 g= 0.32171605523050695 E_A= (-0.6523104899514892+0j) E_B= (-0.8275323386097512+0j) E_f= -0.9282661030517749\n",
      "k= 45 c_k= 0.27171990265346957 a_k= 0.267156322707084 g= -1.2366324799373762 E_A= (-0.9885222239085814+0j) E_B= (-0.3164869097751764+0j) E_f= -0.9253277890987844\n",
      "k= 46 c_k= 0.2711303331322349 a_k= 0.2662075720123982 g= 0.14014641771412703 E_A= (-0.7464595066158906+0j) E_B= (-0.8224553964601318+0j) E_f= -0.9270601957313067\n",
      "k= 47 c_k= 0.2705544156602744 a_k= 0.2652786041399415 g= 0.7777324350678537 E_A= (-0.49023223535618765+0j) E_B= (-0.9110701243758386+0j) E_f= -0.9557840298685107\n",
      "k= 48 c_k= 0.269991559392053 a_k= 0.26436867601164055 g= 0.7322588659184934 E_A= (-0.5569617305831257+0j) E_B= (-0.9523691567591063+0j) E_f= -0.9961348934738241\n",
      "k= 49 c_k= 0.26944121046347563 a_k= 0.26347708446159496 g= -0.1958976292949519 E_A= (-0.8005302844895931+0j) E_B= (-0.6949644957612789+0j) E_f= -0.9962986387011916\n",
      "k= 50 c_k= 0.26890284899123323 a_k= 0.2626031634689808 g= -0.18271960541896873 E_A= (-0.8329178505611106+0j) E_B= (-0.7346502056336812+0j) E_f= -0.9998133260525697\n",
      "k= 51 c_k= 0.268375986369122 a_k= 0.2617462816246101 g= -0.5627281680935157 E_A= (-0.9589042599144411+0j) E_B= (-0.6568588055748683+0j) E_f= -1.0305877843193765\n"
     ]
    },
    {
     "name": "stdout",
     "output_type": "stream",
     "text": [
      "k= 52 c_k= 0.267860162826851 a_k= 0.2609058398079971 g= -0.663778100245506 E_A= (-1.097147455304283+0j) E_B= (-0.741548035278965+0j) E_f= -1.0994263698402236\n",
      "k= 53 c_k= 0.26735494522142605 a_k= 0.26008126905440593 g= 1.4079113540821158 E_A= (-0.5476712911724912+0j) E_B= (-1.300495417066987+0j) E_f= -1.27509086049961\n",
      "k= 54 c_k= 0.2668599250350944 a_k= 0.2592720285936403 g= 0.3115613639478629 E_A= (-1.010449945965103+0j) E_B= (-1.17673643041902+0j) E_f= -1.2814667599546914\n",
      "k= 55 c_k= 0.26637471655715955 a_k= 0.25847760404433856 g= 0.11711483716032302 E_A= (-1.0275925370046752+0j) E_B= (-1.0899854001111131+0j) E_f= -1.2818743830349044\n",
      "k= 56 c_k= 0.2658989552298248 a_k= 0.2576975057492954 g= 0.5293579784046012 E_A= (-0.8792011062133336+0j) E_B= (-1.1607125730140448+0j) E_f= -1.282086350580812\n",
      "k= 57 c_k= 0.26543229614067565 a_k= 0.2569312672388709 g= -0.1394676022675081 E_A= (-1.0908689506251905+0j) E_B= (-1.0168305388109922+0j) E_f= -1.280162827098486\n",
      "k= 58 c_k= 0.26497441264651617 a_k= 0.2561784438109081 g= 1.1851441870656467 E_A= (-0.7640512794650137+0j) E_B= (-1.392117049203319+0j) E_f= -1.3688731871766149\n",
      "k= 59 c_k= 0.2645249951151027 a_k= 0.2554386112167778 g= 0.2098609704991717 E_A= (-1.1051130216416494+0j) E_B= (-1.2161399660339376+0j) E_f= -1.3700553564508007\n",
      "k= 60 c_k= 0.26408374977289106 a_k= 0.25471136444422837 g= -1.2908148949631109 E_A= (-1.4376475154022768+0j) E_B= (-0.7558810399531591+0j) E_f= -1.3781398926485307\n",
      "k= 61 c_k= 0.26365039764828974 a_k= 0.2539963165886551 g= -1.0722411877658484 E_A= (-1.4235373152990913+0j) E_B= (-0.8581436842404104+0j) E_f= -1.4177134650537724\n",
      "k= 62 c_k= 0.2632246736011008 a_k= 0.2532930978052379 g= 0.4136301743450615 E_A= (-1.0921100649592237+0j) E_B= (-1.3098654002263141+0j) E_f= -1.4253780834753225\n",
      "k= 63 c_k= 0.26280632542987425 a_k= 0.2526013543351309 g= 0.3520723734762223 E_A= (-1.1807012432949002+0j) E_B= (-1.3657549368122208+0j) E_f= -1.4384441256582203\n",
      "k= 64 c_k= 0.2623951130498096 a_k= 0.2519207475995509 g= -0.10885881024006318 E_A= (-1.3015075113885908+0j) E_B= (-1.2443794717497725+0j) E_f= -1.4396078926439728\n",
      "k= 65 c_k= 0.2619908077346396 a_k= 0.2512509533561924 g= -0.4669228969645008 E_A= (-1.42063561969112+0j) E_B= (-1.1759766058400651+0j) E_f= -1.4689919826534705\n",
      "k= 66 c_k= 0.2615931914166275 a_k= 0.25059166091292473 g= -0.44722484647868965 E_A= (-1.3881131069066712+0j) E_B= (-1.1541311571643278+0j) E_f= -1.4865735896792671\n",
      "k= 67 c_k= 0.26120205603943053 a_k= 0.24994257239419304 g= 0.23703041977209705 E_A= (-1.2072634041670893+0j) E_B= (-1.3310890701438114+0j) E_f= -1.4901862792850054\n",
      "k= 68 c_k= 0.2608172029591229 a_k= 0.2493034020559649 g= -0.28759655861192246 E_A= (-1.3964868287513428+0j) E_B= (-1.2464665687556806+0j) E_f= -1.5021450228598971\n",
      "k= 69 c_k= 0.26043844238915365 a_k= 0.24867387564544055 g= -0.31865850378997124 E_A= (-1.4007293054417282+0j) E_B= (-1.2347474566794916+0j) E_f= -1.5074359406092852\n",
      "k= 70 c_k= 0.26006559288543923 a_k= 0.24805372980208248 g= 0.17219935963401145 E_A= (-1.2610318459083545+0j) E_B= (-1.3505981030237788+0j) E_f= -1.5084067465429334\n",
      "k= 71 c_k= 0.25969848086816855 a_k= 0.24744271149682437 g= 0.27567547365401934 E_A= (-1.2871040982328763+0j) E_B= (-1.4302891016739996+0j) E_f= -1.519898962155341\n",
      "k= 72 c_k= 0.2593369401772328 a_k= 0.2468405775065927 g= -0.5244969852257906 E_A= (-1.4661935093627694+0j) E_B= (-1.1941506228014898+0j) E_f= -1.5477230886123903\n",
      "k= 73 c_k= 0.2589808116584905 a_k= 0.2462470939215218 g= 0.8589895049109816 E_A= (-1.1111368634517471+0j) E_B= (-1.556060461827689+0j) E_f= -1.586160944512827\n",
      "k= 74 c_k= 0.25862994277834417 a_k= 0.2456620356824657 g= -0.15842447618423308 E_A= (-1.4192418717244113+0j) E_B= (-1.3372952453039766+0j) E_f= -1.5883134400110699\n",
      "k= 75 c_k= 0.25828418726434194 a_k= 0.24508518614661196 g= 0.15878587078496625 E_A= (-1.3465646970382503+0j) E_B= (-1.428588456207762+0j) E_f= -1.5914406751427497\n",
      "k= 76 c_k= 0.25794340476973 a_k= 0.24451633667918504 g= -0.7187976767703195 E_A= (-1.5604006545557914+0j) E_B= (-1.1895824143823752+0j) E_f= -1.6151745844619012\n",
      "k= 77 c_k= 0.25760746056007144 a_k= 0.2439552862693924 g= 0.3138466470855531 E_A= (-1.370045080748529+0j) E_B= (-1.5317435562705335+0j) E_f= -1.6232838701693808\n",
      "k= 78 c_k= 0.25727622522021726 a_k= 0.24340184116891617 g= 0.6637615693629837 E_A= (-1.2120648694035503+0j) E_B= (-1.553605011427462+0j) E_f= -1.6359125326512045\n",
      "k= 79 c_k= 0.2569495743800682 a_k= 0.24285581455139074 g= 0.10438896444028331 E_A= (-1.4047053511404894+0j) E_B= (-1.4583507511063032+0j) E_f= -1.6358216227006042\n",
      "k= 80 c_k= 0.2566273884577055 a_k= 0.2423170261914289 g= 0.20118412220147316 E_A= (-1.3696121728371016+0j) E_B= (-1.4728708845965415+0j) E_f= -1.6385422423814977\n",
      "k= 81 c_k= 0.2563095524185887 a_k= 0.24178530216187363 g= -0.16700026564961956 E_A= (-1.4720870664677705+0j) E_B= (-1.3864795397828917+0j) E_f= -1.63986332565017\n",
      "k= 82 c_k= 0.2559959555496353 a_k= 0.24126047454805513 g= 0.5832183438419706 E_A= (-1.2553435636627424+0j) E_B= (-1.5539466381145444+0j) E_f= -1.6579632034575025\n",
      "k= 83 c_k= 0.2556864912470938 a_k= 0.2407423811779259 g= -0.07717581920437565 E_A= (-1.4772528435980459+0j) E_B= (-1.437787214755072+0j) E_f= -1.6574442126091882\n",
      "k= 84 c_k= 0.2553810568172158 a_k= 0.24023086536703334 g= -0.38573067008003586 E_A= (-1.5526821896551644+0j) E_B= (-1.3556655773114596+0j) E_f= -1.665582352495382\n",
      "k= 85 c_k= 0.25507955328881354 a_k= 0.2397257756773677 g= -0.45321388846057326 E_A= (-1.611210914298514+0j) E_B= (-1.3799997218728957+0j) E_f= -1.680139296292388\n",
      "k= 86 c_k= 0.2547818852368658 a_k= 0.2392269656891939 g= 0.515108980462459 E_A= (-1.4002202501945136+0j) E_B= (-1.6627011244838439+0j) E_f= -1.7137546228643576\n",
      "k= 87 c_k= 0.2544879606164011 a_k= 0.2387342937850429 g= -0.256422697548498 E_A= (-1.5829940707253174+0j) E_B= (-1.4524810920155704+0j) E_f= -1.7177505187511586\n",
      "k= 88 c_k= 0.25419769060595165 a_k= 0.23824762294509752 g= -0.26778106964353066 E_A= (-1.6394593100783812+0j) E_B= (-1.5033206510956272+0j) E_f= -1.726554451208248\n",
      "k= 89 c_k= 0.2539109894599242 a_k= 0.23776682055326365 g= -0.4691567111205038 E_A= (-1.6594911125618803+0j) E_B= (-1.4212430230971385+0j) E_f= -1.743579336786759\n",
      "k= 90 c_k= 0.25362777436928824 a_k= 0.23729175821326742 g= 0.16163793171131513 E_A= (-1.4678180789733344+0j) E_B= (-1.549809816720526+0j) E_f= -1.7459729909204205\n",
      "k= 91 c_k= 0.2533479653300266 a_k= 0.23682231157416733 g= 0.1260550200888154 E_A= (-1.5502963803961478+0j) E_B= (-1.6141679461144218+0j) E_f= -1.7475449140342587\n",
      "k= 92 c_k= 0.25307148501883725 a_k= 0.23635836016471182 g= -0.23158072575818614 E_A= (-1.588381341769898+0j) E_B= (-1.4711683854311695+0j) E_f= -1.7489159155965575\n",
      "k= 93 c_k= 0.25279825867561245 a_k= 0.23589978723601226 g= 0.059377849501967596 E_A= (-1.5356561702043454+0j) E_B= (-1.5656774041203454+0j) E_f= -1.7486557382905201\n",
      "k= 94 c_k= 0.25252821399225883 a_k= 0.23544647961203974 g= -0.16540077465362696 E_A= (-1.6111059353731894+0j) E_B= (-1.5275692109407564+0j) E_f= -1.7530198204682217\n",
      "k= 95 c_k= 0.25226128100745354 a_k= 0.23499832754748484 g= 0.0568828534661821 E_A= (-1.5215805230162314+0j) E_B= (-1.550279205981708+0j) E_f= -1.7525498391034076\n",
      "k= 96 c_k= 0.2519973920069601 a_k= 0.23455522459255276 g= 0.13743419944860594 E_A= (-1.4948202198997715+0j) E_B= (-1.5640863395669977+0j) E_f= -1.7524318414713869\n",
      "k= 97 c_k= 0.25173648142915767 a_k= 0.23411706746429423 g= 0.3685944845420826 E_A= (-1.4500415757795369+0j) E_B= (-1.6356189330051727+0j) E_f= -1.7559568540384423\n",
      "k= 98 c_k= 0.2514784857754605 a_k= 0.23368375592409837 g= -0.13079527105556915 E_A= (-1.594195395375125+0j) E_B= (-1.528411001951834+0j) E_f= -1.7561807212947385\n",
      "k= 99 c_k= 0.25122334352532716 a_k= 0.2332551926609996 g= -0.021556216412219612 E_A= (-1.5828070408231956+0j) E_B= (-1.5719761913015289+0j) E_f= -1.7562281846838028\n",
      "k= 100 c_k= 0.2509709950555822 a_k= 0.23283128318047178 g= 0.11734389188183073 E_A= (-1.5362731105871692+0j) E_B= (-1.5951729372057246+0j) E_f= -1.7575459708275\n",
      "k= 101 c_k= 0.2507213825637901 a_k= 0.23241193569840574 g= 0.1175552907229699 E_A= (-1.5086208929929426+0j) E_B= (-1.5675681430284452+0j) E_f= -1.7596895712081833\n",
      "k= 102 c_k= 0.25047444999544133 a_k= 0.23199706103998358 g= 0.10161479350446057 E_A= (-1.5492750269075115+0j) E_B= (-1.6001788459363717+0j) E_f= -1.760842092896991\n"
     ]
    },
    {
     "name": "stdout",
     "output_type": "stream",
     "text": [
      "k= 103 c_k= 0.25023014297472496 a_k= 0.23158657254318332 g= 0.16197514333165372 E_A= (-1.5241987206105998+0j) E_B= (-1.6052608471590624+0j) E_f= -1.7613944770531864\n",
      "k= 104 c_k= 0.24998840873867942 a_k= 0.23118038596666274 g= -0.1055969092218814 E_A= (-1.6104547880019988+0j) E_B= (-1.557658781393797+0j) E_f= -1.7617568299887418\n",
      "k= 105 c_k= 0.24974919607452548 a_k= 0.2307784194017882 g= 0.23095575564585205 E_A= (-1.5114396716308875+0j) E_B= (-1.6268017002335597+0j) E_f= -1.7663220086037097\n",
      "k= 106 c_k= 0.2495124552599996 a_k= 0.23038059318858709 g= 0.3594327829764079 E_A= (-1.4573368947696426+0j) E_B= (-1.6367028071323988+0j) E_f= -1.7735644700799997\n",
      "k= 107 c_k= 0.24927813800651724 a_k= 0.22998682983541768 g= 0.34594816844769777 E_A= (-1.506252183827229+0j) E_B= (-1.678726814382043+0j) E_f= -1.7811162902241553\n",
      "k= 108 c_k= 0.24904619740500722 a_k= 0.22959705394216187 g= -0.07873932143334056 E_A= (-1.6728575169562547+0j) E_B= (-1.6336380597778066+0j) E_f= -1.7823494830513182\n",
      "k= 109 c_k= 0.24881658787426822 a_k= 0.22921119212675808 g= 0.05567192440434775 E_A= (-1.5492086063672679+0j) E_B= (-1.576912802908636+0j) E_f= -1.7834003587060825\n",
      "k= 110 c_k= 0.24858926511170829 a_k= 0.22882917295490246 g= -0.1138719442741423 E_A= (-1.6502743769160442+0j) E_B= (-1.5936596910281433+0j) E_f= -1.7853896220659133\n",
      "k= 111 c_k= 0.24836418604633714 a_k= 0.22845092687275695 g= -0.017220159293224655 E_A= (-1.6055761650513545+0j) E_B= (-1.5970224233584545+0j) E_f= -1.7854260101129127\n",
      "k= 112 c_k= 0.24814130879388893 a_k= 0.22807638614251233 g= -0.14576243290880453 E_A= (-1.5982340070222085+0j) E_B= (-1.5258946452722641+0j) E_f= -1.786278787964081\n",
      "k= 113 c_k= 0.24792059261396104 a_k= 0.2277054847806625 g= -0.1345475124357381 E_A= (-1.6256319723554+0j) E_B= (-1.558917774319795+0j) E_f= -1.7889739090450718\n",
      "k= 114 c_k= 0.24770199786906166 a_k= 0.22733815849885564 g= 0.08172753996052626 E_A= (-1.5756642618715233+0j) E_B= (-1.6161524117298152+0j) E_f= -1.7903396284626578\n",
      "k= 115 c_k= 0.24748548598546538 a_k= 0.22697434464719435 g= -0.18851154533528394 E_A= (-1.664927852246085+0j) E_B= (-1.5716201094237374+0j) E_f= -1.792202579246673\n",
      "k= 116 c_k= 0.24727101941578178 a_k= 0.22661398215986567 g= 0.006502374481209397 E_A= (-1.6254629170226442+0j) E_B= (-1.6286786145558279+0j) E_f= -1.7922472952547857\n",
      "k= 117 c_k= 0.24705856160314865 a_k= 0.2262570115029868 g= 0.13004825095078462 E_A= (-1.5641192619179594+0j) E_B= (-1.6283783295557717+0j) E_f= -1.794070842972983\n",
      "k= 118 c_k= 0.24684807694696573 a_k= 0.2259033746245606 g= 0.255898212049657 E_A= (-1.531819998111513+0j) E_B= (-1.6581559611887624+0j) E_f= -1.8007433916972932\n",
      "k= 119 c_k= 0.2466395307700909 a_k= 0.22555301490643898 g= 0.04993617684415955 E_A= (-1.5943326318205469+0j) E_B= (-1.6189651022711384+0j) E_f= -1.801218749302596\n",
      "k= 120 c_k= 0.246432889287424 a_k= 0.22520587711820003 g= 0.214659602162919 E_A= (-1.5162051097605218+0j) E_B= (-1.622003481709116+0j) E_f= -1.803517388900401\n",
      "k= 121 c_k= 0.24622811957580956 a_k= 0.2248619073728472 g= -0.0470566210384096 E_A= (-1.6349564462463602+0j) E_B= (-1.611783119622602+0j) E_f= -1.8034665713791944\n",
      "k= 122 c_k= 0.24602518954519215 a_k= 0.2245210530842467 g= -0.21897454819460846 E_A= (-1.7090367579521146+0j) E_B= (-1.601290248501812+0j) E_f= -1.8083155227912049\n",
      "k= 123 c_k= 0.2458240679109626 a_k= 0.22418326292622184 g= -0.08296705455097536 E_A= (-1.6132041703835347+0j) E_B= (-1.5724135726789117+0j) E_f= -1.8079459397839108\n",
      "k= 124 c_k= 0.24562472416743683 a_k= 0.22384848679322775 g= 0.14079153756479662 E_A= (-1.5353772391599718+0j) E_B= (-1.6045410043188968+0j) E_f= -1.808933790971839\n",
      "k= 125 c_k= 0.24542712856241244 a_k= 0.22351667576253462 g= -0.010501071482421314 E_A= (-1.6398852225522118+0j) E_B= (-1.6347307269106932+0j) E_f= -1.808816786745049\n",
      "k= 126 c_k= 0.24523125207275073 a_k= 0.2231877820578509 g= -0.09461589785129522 E_A= (-1.6168374440124524+0j) E_B= (-1.5704318938203312+0j) E_f= -1.8091111170713516\n",
      "k= 127 c_k= 0.2450370663809352 a_k= 0.22286175901432131 g= 0.1279392873684947 E_A= (-1.5996764421146283+0j) E_B= (-1.662376177417915+0j) E_f= -1.8108044960057725\n",
      "k= 128 c_k= 0.24484454385256046 a_k= 0.22253856104483863 g= 0.1444778965779363 E_A= (-1.613075460175954+0j) E_B= (-1.6838247095447585+0j) E_f= -1.8136167864276402\n",
      "k= 129 c_k= 0.24465365751470747 a_k= 0.2222181436076101 g= 0.011755628606031823 E_A= (-1.6022755238092894+0j) E_B= (-1.6080276388789898+0j) E_f= -1.8136587957760881\n",
      "k= 130 c_k= 0.2444643810351635 a_k= 0.22190046317492437 g= -0.11511374404443431 E_A= (-1.6318665548007623+0j) E_B= (-1.5755841344278365+0j) E_f= -1.8150078933715617\n",
      "k= 131 c_k= 0.2442766887024484 a_k= 0.22158547720306482 g= 0.10870157557647726 E_A= (-1.609068122639206+0j) E_B= (-1.6621746445163277+0j) E_f= -1.8156850622846452\n",
      "k= 132 c_k= 0.2440905554066089 a_k= 0.22127314410332086 g= -0.22860780928735785 E_A= (-1.667557083353863+0j) E_B= (-1.5559550690753845+0j) E_f= -1.817552602656643\n",
      "k= 133 c_k= 0.2439059566207471 a_k= 0.2209634232140489 g= -0.33979809102813624 E_A= (-1.7573471550379864+0j) E_B= (-1.591589598137744+0j) E_f= -1.8300239373117204\n",
      "k= 134 c_k= 0.24372286838324891 a_k= 0.22065627477373845 g= -0.025943819566453544 E_A= (-1.634174005064778+0j) E_B= (-1.621527800821671+0j) E_f= -1.8302315624138896\n",
      "k= 135 c_k= 0.24354126728068126 a_k= 0.22035165989504002 g= -0.07766664489271266 E_A= (-1.5841000298898327+0j) E_B= (-1.5462699636446129+0j) E_f= -1.8298448505776013\n",
      "k= 136 c_k= 0.24336113043132843 a_k= 0.22004954053971487 g= -0.17138418070117106 E_A= (-1.663413440709995+0j) E_B= (-1.5799969448030269+0j) E_f= -1.8320761385467244\n",
      "k= 137 c_k= 0.24318243546933885 a_k= 0.21974987949446698 g= -0.013736783801413025 E_A= (-1.6844846276889403+0j) E_B= (-1.6778035386082535+0j) E_f= -1.8319679551507608\n",
      "k= 138 c_k= 0.24300516052945542 a_k= 0.2194526403476215 g= -0.15619309996788058 E_A= (-1.6488039731326567+0j) E_B= (-1.5728925144700805+0j) E_f= -1.8339879715913336\n",
      "k= 139 c_k= 0.24282928423230438 a_k= 0.21915778746661352 g= -0.06929660921101015 E_A= (-1.6382799942784545+0j) E_B= (-1.604625502249584+0j) E_f= -1.8342426620882029\n",
      "k= 140 c_k= 0.24265478567021764 a_k= 0.21886528597625443 g= 0.16177355865755805 E_A= (-1.5567469091775372+0j) E_B= (-1.6352571655838535+0j) E_f= -1.836923588989496\n",
      "k= 141 c_k= 0.2424816443935664 a_k= 0.21857510173774428 g= 0.08560277924306195 E_A= (-1.6335989891530236+0j) E_B= (-1.6751131945040578+0j) E_f= -1.8375697865927674\n",
      "k= 142 c_k= 0.24230984039758352 a_k= 0.21828720132839863 g= 0.08764576207153228 E_A= (-1.6187225222342232+0j) E_B= (-1.6611973834723783+0j) E_f= -1.8385456895040546\n",
      "k= 143 c_k= 0.24213935410965462 a_k= 0.21800155202206276 g= -0.061559351811414316 E_A= (-1.6606544353637853+0j) E_B= (-1.6308425519897356+0j) E_f= -1.8389161767113449\n",
      "k= 144 c_k= 0.24197016637705707 a_k= 0.2177181217701843 g= -0.24750393309294286 E_A= (-1.6981163187480084+0j) E_B= (-1.5783391830090576+0j) E_f= -1.8417873245958778\n",
      "k= 145 c_k= 0.24180225845512912 a_k= 0.21743687918351853 g= -0.1424457776717343 E_A= (-1.6788279501553944+0j) E_B= (-1.6099405286585493+0j) E_f= -1.8436052956373912\n",
      "k= 146 c_k= 0.2416356119958507 a_k= 0.21715779351444162 g= -0.4754445794277623 E_A= (-1.7648233342835484+0j) E_B= (-1.535054650443274+0j) E_f= -1.8533449662282957\n",
      "k= 147 c_k= 0.24147020903681907 a_k= 0.21688083463984706 g= -0.13869593340157357 E_A= (-1.6463806116249065+0j) E_B= (-1.579398739562837+0j) E_f= -1.8530879503198814\n",
      "k= 148 c_k= 0.24130603199060283 a_k= 0.2166059730446035 g= -0.029923347088492123 E_A= (-1.6950307079976163+0j) E_B= (-1.6805893396980132+0j) E_f= -1.8534767199205415\n",
      "k= 149 c_k= 0.24114306363445936 a_k= 0.21633317980555122 g= -0.27868214497312777 E_A= (-1.7009940871922722+0j) E_B= (-1.566589554754187+0j) E_f= -1.85642842859643\n",
      "k= 150 c_k= 0.24098128710040054 a_k= 0.21606242657601724 g= -0.260493868508823 E_A= (-1.7351749414542017+0j) E_B= (-1.6096266460241644+0j) E_f= -1.8626826743465061\n",
      "k= 151 c_k= 0.24082068586559263 a_k= 0.2157936855708286 g= -0.16557621379383314 E_A= (-1.7202981406675646+0j) E_B= (-1.6405497859298468+0j) E_f= -1.8655355137875937\n",
      "k= 152 c_k= 0.24066124374307757 a_k= 0.21552692955180497 g= -0.2814879888334419 E_A= (-1.7139357601499796+0j) E_B= (-1.5784492611671923+0j) E_f= -1.8712703001224047\n"
     ]
    },
    {
     "name": "stdout",
     "output_type": "stream",
     "text": [
      "k= 153 c_k= 0.24050294487280224 a_k= 0.21526213181371276 g= 0.008744785336372187 E_A= (-1.70124064173634+0j) E_B= (-1.705446934987696+0j) E_f= -1.8713081976727524\n",
      "k= 154 c_k= 0.24034577371294386 a_k= 0.2149992661706627 g= 0.22835649338188127 E_A= (-1.643593320004415+0j) E_B= (-1.753362356172901+0j) E_f= -1.8746302585197498\n",
      "k= 155 c_k= 0.2401897150315199 a_k= 0.2147383069429348 g= -0.11426817501445533 E_A= (-1.717079195162217+0j) E_B= (-1.6621871143744293+0j) E_f= -1.8751852786256047\n",
      "k= 156 c_k= 0.24003475389827156 a_k= 0.21447922894421484 g= -0.2818809676230336 E_A= (-1.7809006922846582+0j) E_B= (-1.6455782349006551+0j) E_f= -1.8829435060946698\n",
      "k= 157 c_k= 0.23988087567680955 a_k= 0.21422200746922634 g= -0.1585448649171969 E_A= (-1.6936271332024966+0j) E_B= (-1.6175633711416992+0j) E_f= -1.8841169073226292\n",
      "k= 158 c_k= 0.239728066017013 a_k= 0.21396661828174487 g= -0.16711155153215645 E_A= (-1.7323649605872706+0j) E_B= (-1.652242302471458+0j) E_f= -1.8846123935717067\n",
      "k= 159 c_k= 0.23957631084767136 a_k= 0.2137130376029791 g= -0.2731753809867454 E_A= (-1.7315071748708997+0j) E_B= (-1.6006144748884765+0j) E_f= -1.8861778536269513\n",
      "k= 160 c_k= 0.2394255963693599 a_k= 0.21346124210030687 g= -0.23279862768460335 E_A= (-1.7687373464488947+0j) E_B= (-1.6572614459141852+0j) E_f= -1.8899235195883275\n",
      "k= 161 c_k= 0.23927590904754018 a_k= 0.21321120887635195 g= 0.11808098322290699 E_A= (-1.7159875636779862+0j) E_B= (-1.772495432881763+0j) E_f= -1.8923903074136672\n",
      "k= 162 c_k= 0.2391272356058773 a_k= 0.2129629154583904 g= -0.015212539306665513 E_A= (-1.6991309457472925+0j) E_B= (-1.6918554808053952+0j) E_f= -1.8924756136073366\n",
      "k= 163 c_k= 0.23897956301976508 a_k= 0.2127163397880742 g= -0.10449209731520137 E_A= (-1.6732811876142968+0j) E_B= (-1.6233382361034856+0j) E_f= -1.8937387269241137\n",
      "k= 164 c_k= 0.23883287851005275 a_k= 0.21247146021146096 g= 0.08267364632029661 E_A= (-1.706039349133174+0j) E_B= (-1.745529718988371+0j) E_f= -1.8951917905525395\n",
      "k= 165 c_k= 0.238687169536964 a_k= 0.21222825546933896 g= 0.21620608200229927 E_A= (-1.6079902057243045+0j) E_B= (-1.7112014412239156+0j) E_f= -1.897093148630993\n",
      "k= 166 c_k= 0.23854242379420307 a_k= 0.21198670468783715 g= -0.385089733272298 E_A= (-1.77639493102712+0j) E_B= (-1.5926744543210458+0j) E_f= -1.903828415243993\n",
      "k= 167 c_k= 0.23839862920323973 a_k= 0.21174678736931007 g= 0.19814482854536972 E_A= (-1.647918318351608+0j) E_B= (-1.7423932293694622+0j) E_f= -1.9066143714995945\n",
      "k= 168 c_k= 0.2382557739077676 a_k= 0.2115084833834884 g= -0.06792681853276208 E_A= (-1.6845709294384925+0j) E_B= (-1.652203016001261+0j) E_f= -1.9070716197400917\n",
      "k= 169 c_k= 0.2381138462683289 a_k= 0.2112717729588854 g= 0.09878986700704621 E_A= (-1.654310947946485+0j) E_B= (-1.701357418357254+0j) E_f= -1.9066246219908405\n",
      "k= 170 c_k= 0.23797283485710038 a_k= 0.2110366366744513 g= 0.14317259766518567 E_A= (-1.6612990061029405+0j) E_B= (-1.729441383983419+0j) E_f= -1.9066746074092968\n",
      "k= 171 c_k= 0.23783272845283365 a_k= 0.21080305545146635 g= 0.141363523320558 E_A= (-1.6470313716195415+0j) E_B= (-1.7142731165296097+0j) E_f= -1.907918123270107\n",
      "k= 172 c_k= 0.23769351603594574 a_k= 0.21057101054566504 g= 0.11340932000294011 E_A= (-1.6664636838133922+0j) E_B= (-1.7203770038588813+0j) E_f= -1.9083761808874837\n",
      "k= 173 c_k= 0.23755518678375354 a_k= 0.21034048353958318 g= -0.08131034700516475 E_A= (-1.7383725839344708+0j) E_B= (-1.6997411945939433+0j) E_f= -1.9088093677616644\n",
      "k= 174 c_k= 0.23741773006584782 a_k= 0.2101114563351208 g= 0.15129140011310013 E_A= (-1.6914563556217352+0j) E_B= (-1.7632948772084076+0j) E_f= -1.9097378464810326\n",
      "k= 175 c_k= 0.23728113543960122 a_k= 0.20988391114631338 g= 0.1790556814928298 E_A= (-1.6794613810216021+0j) E_B= (-1.7644344518446626+0j) E_f= -1.912037091574404\n",
      "k= 176 c_k= 0.23714539264580659 a_k= 0.20965783049230455 g= -0.02349467021486004 E_A= (-1.7503572219469312+0j) E_B= (-1.7392139163605578+0j) E_f= -1.9123707187675874\n",
      "k= 177 c_k= 0.2370104916044403 a_k= 0.20943319719051354 g= -0.1348675592615718 E_A= (-1.803776525336123+0j) E_B= (-1.7398464722919709+0j) E_f= -1.91444204386122\n",
      "k= 178 c_k= 0.2368764224105464 a_k= 0.20920999434999138 g= -0.1168186310595073 E_A= (-1.7564284445550937+0j) E_B= (-1.7010852857625465+0j) E_f= -1.9156987032992827\n",
      "k= 179 c_k= 0.23674317533023834 a_k= 0.20898820536495893 g= 0.12207878748270633 E_A= (-1.6897313263783256+0j) E_B= (-1.747533965956568+0j) E_f= -1.9163345531049307\n",
      "k= 180 c_k= 0.23661074079681305 a_k= 0.20876781390852148 g= -0.01804404491068871 E_A= (-1.722112095271893+0j) E_B= (-1.7135732656053149+0j) E_f= -1.9162335441212877\n",
      "k= 181 c_k= 0.23647910940697436 a_k= 0.2085488039265539 g= -0.11495594514035715 E_A= (-1.7539831358663145+0j) E_B= (-1.6996137768106572+0j) E_f= -1.9160743989339013\n",
      "k= 182 c_k= 0.23634827191716234 a_k= 0.20833115963175095 g= 0.18186726577932885 E_A= (-1.6446855852817142+0j) E_B= (-1.7306536132522015+0j) E_f= -1.916736539168857\n",
      "k= 183 c_k= 0.23621821923998398 a_k= 0.20811486549783748 g= 0.023645011950805542 E_A= (-1.6410738145836368+0j) E_B= (-1.6522445798174916+0j) E_f= -1.9168366537060169\n",
      "k= 184 c_k= 0.23608894244074305 a_k= 0.20789990625393315 g= -0.10430862750398169 E_A= (-1.7756475347182068+0j) E_B= (-1.726395307608486+0j) E_f= -1.918361767973808\n",
      "k= 185 c_k= 0.2359604327340652 a_k= 0.20768626687906738 g= 0.18211256768177886 E_A= (-1.6670076313264242+0j) E_B= (-1.7529503518794327+0j) E_f= -1.9208788865253228\n",
      "k= 186 c_k= 0.2358326814806152 a_k= 0.20747393259683888 g= -0.1644300640916521 E_A= (-1.7739724932704806+0j) E_B= (-1.696416527408953+0j) E_f= -1.9221990668072355\n",
      "k= 187 c_k= 0.23570568018390378 a_k= 0.20726288887021643 g= -0.2697019475602676 E_A= (-1.778432186017323+0j) E_B= (-1.65129162402409+0j) E_f= -1.9275634894797706\n",
      "k= 188 c_k= 0.23557942048718056 a_k= 0.20705312139647497 g= -0.12956339016936763 E_A= (-1.7887337759154889+0j) E_B= (-1.7276888391705807+0j) E_f= -1.9299013219510999\n",
      "k= 189 c_k= 0.2354538941704108 a_k= 0.2068446161022645 g= 0.015784782660214648 E_A= (-1.720570752793472+0j) E_B= (-1.7280039298854342+0j) E_f= -1.9297811523475021\n",
      "k= 190 c_k= 0.2353290931473328 a_k= 0.20663735913880635 g= -0.22737459069442176 E_A= (-1.8134560081761615+0j) E_B= (-1.706440295710433+0j) E_f= -1.933318038002022\n",
      "k= 191 c_k= 0.2352050094625941 a_k= 0.2064313368772132 g= 0.29328694493738977 E_A= (-1.649961359761445+0j) E_B= (-1.7879264770799532+0j) E_f= -1.9360450601135377\n",
      "k= 192 c_k= 0.23508163528896314 a_k= 0.20622653590392992 g= 0.05399761189539879 E_A= (-1.7056459383110925+0j) E_B= (-1.7310336321232307+0j) E_f= -1.9360384401550568\n",
      "k= 193 c_k= 0.23495896292461463 a_k= 0.20602294301629015 g= -0.005021074938188078 E_A= (-1.725804690352724+0j) E_B= (-1.723445197232237+0j) E_f= -1.936015985511955\n",
      "k= 194 c_k= 0.23483698479048612 a_k= 0.2058205452181863 g= -0.19309582775357106 E_A= (-1.7821161491148338+0j) E_B= (-1.6914240651842904+0j) E_f= -1.9392356069820544\n",
      "k= 195 c_k= 0.23471569342770326 a_k= 0.20561932971584884 g= 0.19504369847301686 E_A= (-1.659266081631778+0j) E_B= (-1.750825715503374+0j) E_f= -1.9396626919636812\n",
      "k= 196 c_k= 0.2345950814950722 a_k= 0.20541928391373213 g= -0.030986867671790083 E_A= (-1.7626165607941497+0j) E_B= (-1.7480778273006685+0j) E_f= -1.9397733617072177\n",
      "k= 197 c_k= 0.23447514176663659 a_k= 0.20522039541050283 g= 0.09576025800164314 E_A= (-1.7278961666349648+0j) E_B= (-1.7728029667760548+0j) E_f= -1.9411654350657086\n",
      "k= 198 c_k= 0.23435586712929732 a_k= 0.20502265199512892 g= 0.06531605558362966 E_A= (-1.7385464430294943+0j) E_B= (-1.7691608447170282+0j) E_f= -1.9417800703349264\n",
      "k= 199 c_k= 0.23423725058049316 a_k= 0.20482604164306528 g= 0.22599429585860528 E_A= (-1.713290223248992+0j) E_B= (-1.8191627882665804+0j) E_f= -1.9440244652732999\n",
      "k= 200 c_k= 0.23411928522594053 a_k= 0.20463055251253384 g= 0.15005346978861334 E_A= (-1.6871754147541937+0j) E_B= (-1.7574362369393586+0j) E_f= -1.9455060337352326\n",
      "k= 201 c_k= 0.23400196427742995 a_k= 0.20443617294089483 g= 0.10476016845288011 E_A= (-1.7739082958780878+0j) E_B= (-1.8229364662701046+0j) E_f= -1.9470325202707217\n",
      "k= 202 c_k= 0.2338852810506788 a_k= 0.20424289144110702 g= 0.11214261891389157 E_A= (-1.7315440432537614+0j) E_B= (-1.7840010591386308+0j) E_f= -1.9482004649127074\n"
     ]
    },
    {
     "name": "stdout",
     "output_type": "stream",
     "text": [
      "k= 203 c_k= 0.23376922896323718 a_k= 0.20405069669827428 g= 0.13578834536009052 E_A= (-1.6945963510230373+0j) E_B= (-1.7580826246170815+0j) E_f= -1.9496523984210885\n",
      "k= 204 c_k= 0.23365380153244633 a_k= 0.2038595775662753 g= -0.05541738633235996 E_A= (-1.763891442131468+0j) E_B= (-1.7379944761563717+0j) E_f= -1.95043716596448\n",
      "k= 205 c_k= 0.23353899237344763 a_k= 0.20366952306447533 g= -0.11792461007269195 E_A= (-1.7959479708233803+0j) E_B= (-1.740867981598564+0j) E_f= -1.9518037972365214\n",
      "k= 206 c_k= 0.23342479519724088 a_k= 0.20348052237451628 g= -0.09071368922305481 E_A= (-1.6991096595159274+0j) E_B= (-1.656760010858972+0j) E_f= -1.9520031840421197\n",
      "k= 207 c_k= 0.23331120380879006 a_k= 0.20329256483718383 g= 0.04834231058198285 E_A= (-1.7528395583647616+0j) E_B= (-1.7753971637183232+0j) E_f= -1.9525761027164403\n",
      "k= 208 c_k= 0.2331982121051757 a_k= 0.20310563994934921 g= -0.09358322205141477 E_A= (-1.7761447814022011+0j) E_B= (-1.732497901271338+0j) E_f= -1.9536927717094694\n",
      "k= 209 c_k= 0.23308581407379206 a_k= 0.20291973736098284 g= -0.07599568852402287 E_A= (-1.8005827237329384+0j) E_B= (-1.765155689881498+0j) E_f= -1.9547546120366008\n",
      "k= 210 c_k= 0.232974003790588 a_k= 0.2027348468722393 g= 0.04945613587219888 E_A= (-1.7284499343918402+0j) E_B= (-1.7514939223641552+0j) E_f= -1.9552407385490196\n",
      "k= 211 c_k= 0.23286277541835038 a_k= 0.20255095843060963 g= 0.024339834219185386 E_A= (-1.7622801043573306+0j) E_B= (-1.7736157870563347+0j) E_f= -1.9551484707023468\n",
      "k= 212 c_k= 0.23275212320502842 a_k= 0.2023680621281411 g= -0.03194168120800335 E_A= (-1.7798691468221954+0j) E_B= (-1.7650001585823936+0j) E_f= -1.9550209002545913\n",
      "k= 213 c_k= 0.23264204148209838 a_k= 0.20218614819872124 g= 0.016909555609863645 E_A= (-1.7421411843556909+0j) E_B= (-1.7500089314309584+0j) E_f= -1.9551023280875306\n",
      "k= 214 c_k= 0.23253252466296698 a_k= 0.20200520701542457 g= 0.01842702659185046 E_A= (-1.7801299078810626+0j) E_B= (-1.7886996739119319+0j) E_f= -1.9550544188052825\n",
      "k= 215 c_k= 0.23242356724141247 a_k= 0.20182522908792097 g= -0.07745420863077793 E_A= (-1.7769629850887327+0j) E_B= (-1.7409586181530807+0j) E_f= -1.9550175381869868\n",
      "k= 216 c_k= 0.23231516379006265 a_k= 0.20164620505994316 g= -0.20665692201257718 E_A= (-1.8351015677502742+0j) E_B= (-1.73908249437887+0j) E_f= -1.9602816162073062\n",
      "k= 217 c_k= 0.23220730895890848 a_k= 0.2014681257068122 g= -0.07406580511125047 E_A= (-1.79070056032036+0j) E_B= (-1.7563033177388432+0j) E_f= -1.960613841715633\n",
      "k= 218 c_k= 0.2320999974738524 a_k= 0.20129098193301934 g= 0.07602493991492065 E_A= (-1.7393656970991949+0j) E_B= (-1.7746564738236006+0j) E_f= -1.9605538473913957\n",
      "k= 219 c_k= 0.2319932241352903 a_k= 0.20111476476986237 g= -0.10993539091298003 E_A= (-1.7827307798136824+0j) E_B= (-1.731722248244731+0j) E_f= -1.9612837596475656\n",
      "k= 220 c_k= 0.23188698381672643 a_k= 0.20093946537313578 g= -0.044642238940081416 E_A= (-1.7605757242858115+0j) E_B= (-1.7398718160085294+0j) E_f= -1.9615983481196468\n",
      "k= 221 c_k= 0.23178127146341995 a_k= 0.20076507502087237 g= 0.15405670903901472 E_A= (-1.7214853920881588+0j) E_B= (-1.7929003118852247+0j) E_f= -1.9617135802323271\n",
      "k= 222 c_k= 0.23167608209106294 a_k= 0.20059158511113537 g= 0.150526604746665 E_A= (-1.748337253612771+0j) E_B= (-1.8180840816891257+0j) E_f= -1.9636143586948531\n",
      "k= 223 c_k= 0.23157141078448806 a_k= 0.20041898715985995 g= -0.0726184913234146 E_A= (-1.7871199716594628+0j) E_B= (-1.7534872386898543+0j) E_f= -1.9646602595955047\n",
      "k= 224 c_k= 0.23146725269640603 a_k= 0.20024727279874255 g= -0.10327736466950724 E_A= (-1.8250545328654981+0j) E_B= (-1.7772438771339467+0j) E_f= -1.9659325314341207\n",
      "k= 225 c_k= 0.23136360304617118 a_k= 0.20007643377317655 g= -0.012586964654326438 E_A= (-1.8290895869042736+0j) E_B= (-1.823265255916594+0j) E_f= -1.9658625296823484\n",
      "k= 226 c_k= 0.23126045711857537 a_k= 0.1999064619402336 g= -0.0627042355293322 E_A= (-1.813452715770512+0j) E_B= (-1.7844506954269437+0j) E_f= -1.9665916477201935\n",
      "k= 227 c_k= 0.23115781026266843 a_k= 0.199737349266689 g= 0.07694961415281296 E_A= (-1.759313988696559+0j) E_B= (-1.794888997312802+0j) E_f= -1.9669316536991523\n",
      "k= 228 c_k= 0.23105565789060523 a_k= 0.19956908782709024 g= 0.0027892902347657392 E_A= (-1.766361317578363+0j) E_B= (-1.7676502801588463+0j) E_f= -1.9669389683317373\n",
      "k= 229 c_k= 0.23095399547651818 a_k= 0.19940166980186716 g= 0.11542719001772565 E_A= (-1.731454147398899+0j) E_B= (-1.784770888841341+0j) E_f= -1.9683383665549672\n",
      "k= 230 c_k= 0.2308528185554149 a_k= 0.19923508747548338 g= -0.03631997356165302 E_A= (-1.8117995644985303+0j) E_B= (-1.7950304279653988+0j) E_f= -1.96828323481559\n",
      "k= 231 c_k= 0.23075212272210002 a_k= 0.19906933323462736 g= 0.1072433440720919 E_A= (-1.7313066197513218+0j) E_B= (-1.7807998783362253+0j) E_f= -1.9694544430166383\n",
      "k= 232 c_k= 0.23065190363012056 a_k= 0.19890439956644201 g= -0.08493552837453107 E_A= (-1.777538881791583+0j) E_B= (-1.7383577991807515+0j) E_f= -1.9694784405337402\n",
      "k= 233 c_k= 0.23055215699073456 a_k= 0.19874027905679248 g= -0.0086163337890847 E_A= (-1.777806451190341+0j) E_B= (-1.7738334225094898+0j) E_f= -1.9695109870006695\n",
      "k= 234 c_k= 0.23045287857190197 a_k= 0.19857696438857042 g= -0.016195963329358125 E_A= (-1.7672231501256896+0j) E_B= (-1.7597583373846986+0j) E_f= -1.9695557194508706\n",
      "k= 235 c_k= 0.23035406419729748 a_k= 0.19841444834003458 g= 0.1595145268825838 E_A= (-1.7372145483775718+0j) E_B= (-1.8107041875093963+0j) E_f= -1.9716988734599288\n",
      "k= 236 c_k= 0.23025570974534454 a_k= 0.19825272378318595 g= 0.1300280358649942 E_A= (-1.7160539867473183+0j) E_B= (-1.775933382117093+0j) E_f= -1.9717600379844398\n",
      "k= 237 c_k= 0.23015781114827027 a_k= 0.1980917836821773 g= 0.005884405318032556 E_A= (-1.796362410589583+0j) E_B= (-1.7990710942853982+0j) E_f= -1.9717718227208467\n",
      "k= 238 c_k= 0.23006036439118038 a_k= 0.197931621091756 g= -0.03767180869394501 E_A= (-1.7030836434957797+0j) E_B= (-1.685750063424972+0j) E_f= -1.9718621429873056\n",
      "k= 239 c_k= 0.2299633655111541 a_k= 0.1977722291557391 g= -0.02379556669321756 E_A= (-1.779872665041729+0j) E_B= (-1.768928447839694+0j) E_f= -1.9718274585233877\n",
      "k= 240 c_k= 0.22986681059635786 a_k= 0.19761360110552031 g= -0.02622295149497644 E_A= (-1.8391609812139635+0j) E_B= (-1.827105408764817+0j) E_f= -1.971927543099364\n",
      "k= 241 c_k= 0.2297706957851782 a_k= 0.19745573025860763 g= 0.01530554479583409 E_A= (-1.7338657173287375+0j) E_B= (-1.7408992486829575+0j) E_f= -1.9718458439059288\n",
      "k= 242 c_k= 0.22967501726537237 a_k= 0.19729861001719123 g= 0.05537681939488634 E_A= (-1.7766939457008872+0j) E_B= (-1.802131289602131+0j) E_f= -1.972096843437816\n",
      "k= 243 c_k= 0.22957977127323734 a_k= 0.19714223386674054 g= 0.03017547741072788 E_A= (-1.7710823264794042+0j) E_B= (-1.7849376848834355+0j) E_f= -1.972132678242386\n",
      "k= 244 c_k= 0.2294849540927954 a_k= 0.19698659537463026 g= 0.041857951063643886 E_A= (-1.7765742016039257+0j) E_B= (-1.7957857415604432+0j) E_f= -1.9720844157144088\n",
      "k= 245 c_k= 0.22939056205499744 a_k= 0.19683168818879412 g= -0.06011053645872358 E_A= (-1.7858961501873012+0j) E_B= (-1.7583185706999132+0j) E_f= -1.9728378341361053\n",
      "k= 246 c_k= 0.2292965915369422 a_k= 0.19667750603640582 g= 0.1070231538966127 E_A= (-1.8099949741972083+0j) E_B= (-1.8590750630052622+0j) E_f= -1.973759421897466\n",
      "k= 247 c_k= 0.2292030389611117 a_k= 0.19652404272258706 g= -0.05426616994085592 E_A= (-1.8253764731752666+0j) E_B= (-1.800500531048818+0j) E_f= -1.973881479977524\n",
      "k= 248 c_k= 0.2291099007946226 a_k= 0.19637129212914098 g= -0.048181655599563396 E_A= (-1.7875055787549083+0j) E_B= (-1.765427790085835+0j) E_f= -1.9743858634984823\n",
      "k= 249 c_k= 0.22901717354849255 a_k= 0.19621924821331144 g= 0.07143887847901446 E_A= (-1.788618540806611+0j) E_B= (-1.8213400008680873+0j) E_f= -1.9749385972788513\n",
      "k= 250 c_k= 0.22892485377692168 a_k= 0.19606790500656676 g= -0.027058641914845152 E_A= (-1.782548286486565+0j) E_B= (-1.770159495199049+0j) E_f= -1.974964107934138\n",
      "k= 251 c_k= 0.22883293807658853 a_k= 0.19591725661340784 g= 0.08324539562897654 E_A= (-1.7688640964667801+0j) E_B= (-1.8069626733930335+0j) E_f= -1.9757608378185456\n",
      "k= 252 c_k= 0.22874142308596035 a_k= 0.19576729721019967 g= 0.03165954278471993 E_A= (-1.7591884232447033+0j) E_B= (-1.7736721209863586+0j) E_f= -1.9759003063299894\n"
     ]
    },
    {
     "name": "stdout",
     "output_type": "stream",
     "text": [
      "k= 253 c_k= 0.22865030548461726 a_k= 0.19561802104402623 g= 0.049325829073939384 E_A= (-1.7798753465321833+0j) E_B= (-1.8024320783042598+0j) E_f= -1.9759434919769103\n",
      "k= 254 c_k= 0.22855958199258958 a_k= 0.19546942243156754 g= -0.05722059583899568 E_A= (-1.7982637636729475+0j) E_B= (-1.772107132740292+0j) E_f= -1.9763447043090343\n",
      "k= 255 c_k= 0.22846924936970905 a_k= 0.19532149575799884 g= 0.05709263782041697 E_A= (-1.7882460155971374+0j) E_B= (-1.814333839811872+0j) E_f= -1.976679824785816\n",
      "k= 256 c_k= 0.22837930441497245 a_k= 0.19517423547591145 g= 0.03177957709390673 E_A= (-1.8018249827328572+0j) E_B= (-1.816340578155474+0j) E_f= -1.9768890717704368\n",
      "k= 257 c_k= 0.22828974396591784 a_k= 0.1950276361042541 g= 0.03729601650757146 E_A= (-1.7911134831045237+0j) E_B= (-1.808142079223448+0j) E_f= -1.9768232738242557\n",
      "k= 258 c_k= 0.22820056489801344 a_k= 0.19488169222729543 g= 0.006766089520061639 E_A= (-1.820123037684761+0j) E_B= (-1.8232110885860182+0j) E_f= -1.9768788105756336\n",
      "k= 259 c_k= 0.22811176412405826 a_k= 0.19473639849360586 g= -0.051895057546588984 E_A= (-1.7851620828751322+0j) E_B= (-1.7614863366225884+0j) E_f= -1.9767715218162638\n",
      "k= 260 c_k= 0.22802333859359442 a_k= 0.19459174961505948 g= -0.0037328128437292586 E_A= (-1.7796632720451608+0j) E_B= (-1.7779609351512164+0j) E_f= -1.9767664156428606\n",
      "k= 261 c_k= 0.22793528529233112 a_k= 0.19444774036585483 g= 0.029228553153465526 E_A= (-1.7767328108979514+0j) E_B= (-1.790057248101386+0j) E_f= -1.9769724987064459\n",
      "k= 262 c_k= 0.22784760124157974 a_k= 0.19430436558155448 g= -0.04820567406966087 E_A= (-1.7753331304811495+0j) E_B= (-1.7533660360751382+0j) E_f= -1.976855563103718\n",
      "k= 263 c_k= 0.22776028349769972 a_k= 0.19416162015814267 g= 0.059292888545001775 E_A= (-1.7911807196833867+0j) E_B= (-1.818189849892201+0j) E_f= -1.9768696095473672\n",
      "k= 264 c_k= 0.22767332915155544 a_k= 0.1940194990511012 g= -0.009168446932624738 E_A= (-1.8215429397243326+0j) E_B= (-1.8173681180517325+0j) E_f= -1.9768836423366507\n",
      "k= 265 c_k= 0.22758673532798307 a_k= 0.1938779972745021 g= 0.011627870056111683 E_A= (-1.7633710063405856+0j) E_B= (-1.7686637043103626+0j) E_f= -1.9768100268248452\n",
      "k= 266 c_k= 0.22750049918526816 a_k= 0.19373710990011828 g= -0.008554350625393196 E_A= (-1.7901641322403758+0j) E_B= (-1.7862718941654103+0j) E_f= -1.9767358230145267\n",
      "k= 267 c_k= 0.22741461791463288 a_k= 0.19359683205654984 g= 0.044940837776684624 E_A= (-1.8088933299739987+0j) E_B= (-1.8293337368774951+0j) E_f= -1.9770296620124361\n",
      "k= 268 c_k= 0.22732908873973287 a_k= 0.1934571589283674 g= 0.006723506844632246 E_A= (-1.7675109248657614+0j) E_B= (-1.7705678222340127+0j) E_f= -1.9770249756513048\n",
      "k= 269 c_k= 0.22724390891616403 a_k= 0.1933180857552712 g= 0.005734015422179888 E_A= (-1.755265771316314+0j) E_B= (-1.7578718114729575+0j) E_f= -1.976983447340741\n",
      "k= 270 c_k= 0.22715907573097813 a_k= 0.19317960783126556 g= -0.05529731842748673 E_A= (-1.8160647325611876+0j) E_B= (-1.7909421570724087+0j) E_f= -1.9772281749998886\n",
      "k= 271 c_k= 0.2270745865022079 a_k= 0.19304172050384888 g= 0.052502233515567834 E_A= (-1.7678153206374634+0j) E_B= (-1.7916591665694432+0j) E_f= -1.9775843786739515\n",
      "k= 272 c_k= 0.22699043857840095 a_k= 0.19290441917321835 g= -0.06282664930219146 E_A= (-1.801960498430889+0j) E_B= (-1.7734384010718574+0j) E_f= -1.9776875528254299\n",
      "k= 273 c_k= 0.22690662933816205 a_k= 0.19276769929148932 g= 0.038612118228886175 E_A= (-1.807557965934918+0j) E_B= (-1.8250806571327642+0j) E_f= -1.9778489552991299\n",
      "k= 274 c_k= 0.22682315618970433 a_k= 0.19263155636192894 g= 0.011909311586562091 E_A= (-1.7961648559465513+0j) E_B= (-1.8015674712307725+0j) E_f= -1.9779147006742397\n",
      "k= 275 c_k= 0.22674001657040857 a_k= 0.19249598593820375 g= 0.006551125162799112 E_A= (-1.8145464215750897+0j) E_B= (-1.8175172260310255+0j) E_f= -1.977913041211136\n",
      "k= 276 c_k= 0.2266572079463908 a_k= 0.19236098362364099 g= 0.006352596677314762 E_A= (-1.7967007196829892+0j) E_B= (-1.7995804433351685+0j) E_f= -1.9778838536205403\n",
      "k= 277 c_k= 0.2265747278120774 a_k= 0.19222654507050305 g= 0.0004311085767782537 E_A= (-1.7851092680525609+0j) E_B= (-1.7853046246694428+0j) E_f= -1.9778838510507684\n",
      "k= 278 c_k= 0.22649257368978862 a_k= 0.1920926659792753 g= -0.06621955426259218 E_A= (-1.8055012333759346+0j) E_B= (-1.7755047588288844+0j) E_f= -1.9783553448314015\n",
      "k= 279 c_k= 0.2264107431293292 a_k= 0.19195934209796642 g= 0.006426331795264781 E_A= (-1.7798881004902558+0j) E_B= (-1.7827980816049789+0j) E_f= -1.9783964562548184\n",
      "k= 280 c_k= 0.2263292337075867 a_k= 0.19182656922142144 g= 0.014183273509886912 E_A= (-1.7882026458108724+0j) E_B= (-1.794622824660788+0j) E_f= -1.9783797077984824\n",
      "k= 281 c_k= 0.22624804302813686 a_k= 0.19169434319064704 g= 0.018469479983459852 E_A= (-1.7240038279969094+0j) E_B= (-1.7323611954009197+0j) E_f= -1.9783052242346282\n",
      "k= 282 c_k= 0.2261671687208565 a_k= 0.19156265989214877 g= -0.035683082336117875 E_A= (-1.8085525243979288+0j) E_B= (-1.7924118409915428+0j) E_f= -1.9783431755163954\n",
      "k= 283 c_k= 0.22608660844154282 a_k= 0.19143151525727986 g= 0.07887190238977554 E_A= (-1.7741993364194653+0j) E_B= (-1.8098630982447388+0j) E_f= -1.978279142130636\n",
      "k= 284 c_k= 0.22600635987154008 a_k= 0.19130090526160193 g= 0.02484568473472859 E_A= (-1.8046483847962707+0j) E_B= (-1.8158789503270945+0j) E_f= -1.9782309849872726\n",
      "k= 285 c_k= 0.22592642071737257 a_k= 0.19117082592425655 g= 0.022623490282330003 E_A= (-1.7812791504975174+0j) E_B= (-1.7915016388647595+0j) E_f= -1.9782754886175413\n",
      "k= 286 c_k= 0.22584678871038427 a_k= 0.19104127330734805 g= 0.01914742495466783 E_A= (-1.7859565669414734+0j) E_B= (-1.794605335817643+0j) E_f= -1.9782124842085722\n",
      "k= 287 c_k= 0.2257674616063849 a_k= 0.19091224351533695 g= 0.004776434850190108 E_A= (-1.781549316423975+0j) E_B= (-1.7837060435672865+0j) E_f= -1.9782398143466111\n",
      "k= 288 c_k= 0.2256884371853021 a_k= 0.1907837326944442 g= -0.06013836197935097 E_A= (-1.8262823028304624+0j) E_B= (-1.799137236970455+0j) E_f= -1.9781810442888768\n",
      "k= 289 c_k= 0.22560971325084006 a_k= 0.19065573703206554 g= 0.02436240353993271 E_A= (-1.8205266558864395+0j) E_B= (-1.8315194456399304+0j) E_f= -1.9782347208771776\n",
      "k= 290 c_k= 0.2255312876301436 a_k= 0.19052825275619592 g= 0.03130076158418665 E_A= (-1.7832508889828742+0j) E_B= (-1.7973694911106457+0j) E_f= -1.978377180228213\n",
      "k= 291 c_k= 0.22545315817346873 a_k= 0.19040127613486435 g= -0.02915395857273988 E_A= (-1.7860433268748142+0j) E_B= (-1.7728976228078488+0j) E_f= -1.9786478070168556\n",
      "k= 292 c_k= 0.22537532275385858 a_k= 0.19027480347557768 g= 0.08146216157324532 E_A= (-1.7556220383074854+0j) E_B= (-1.7923411602210797+0j) E_f= -1.9785352840463917\n",
      "k= 293 c_k= 0.22529777926682498 a_k= 0.19014883112477463 g= -0.02631257640913589 E_A= (-1.778431459577899+0j) E_B= (-1.766575129514365+0j) E_f= -1.978744559152295\n",
      "k= 294 c_k= 0.22522052563003578 a_k= 0.1900233554672888 g= 0.03970290446004519 E_A= (-1.7909297794364332+0j) E_B= (-1.808813597459494+0j) E_f= -1.9791543706364711\n",
      "k= 295 c_k= 0.2251435597830072 a_k= 0.18989837292582065 g= 0.004752882003804712 E_A= (-1.7361802970761995+0j) E_B= (-1.7383204586233298+0j) E_f= -1.979158956425572\n",
      "k= 296 c_k= 0.22506687968680195 a_k= 0.18977387996041903 g= -0.07990639155931487 E_A= (-1.8214772523124898+0j) E_B= (-1.7855086878819162+0j) E_f= -1.9798105217630035\n",
      "k= 297 c_k= 0.22499048332373206 a_k= 0.1896498730679707 g= 0.015999805660463006 E_A= (-1.787557674226751+0j) E_B= (-1.7947572822440176+0j) E_f= -1.979901759281285\n",
      "k= 298 c_k= 0.22491436869706707 a_k= 0.1895263487816992 g= -0.015067160315978117 E_A= (-1.7854400962906976+0j) E_B= (-1.7786624545896461+0j) E_f= -1.9797887341854443\n",
      "k= 299 c_k= 0.2248385338307471 a_k= 0.18940330367067149 g= 0.012190127442266826 E_A= (-1.7977774058441354+0j) E_B= (-1.8032590266067938+0j) E_f= -1.9797316411489994\n",
      "k= 300 c_k= 0.2247629767691008 a_k= 0.18928073433931336 g= -0.021429436960023064 E_A= (-1.7865052502005283+0j) E_B= (-1.7768721621172872+0j) E_f= -1.9799260825733045\n",
      "k= 301 c_k= 0.22468769557656806 a_k= 0.18915863742693267 g= 0.00902213503305859 E_A= (-1.758151819404951+0j) E_B= (-1.7622061448644681+0j) E_f= -1.9798545904191882\n",
      "k= 302 c_k= 0.22461268833742742 a_k= 0.18903700960725053 g= 0.07648878156068752 E_A= (-1.7865478719475667+0j) E_B= (-1.8209085736555672+0j) E_f= -1.980488651362544\n"
     ]
    },
    {
     "name": "stdout",
     "output_type": "stream",
     "text": [
      "k= 303 c_k= 0.2245379531555281 a_k= 0.1889158475879403 g= -0.019615701884671804 E_A= (-1.760203835701752+0j) E_B= (-1.7513948965999655+0j) E_f= -1.9803283412163797\n",
      "k= 304 c_k= 0.22446348815402628 a_k= 0.18879514811017423 g= -0.015041963527364395 E_A= (-1.8075114416264992+0j) E_B= (-1.8007586984224235+0j) E_f= -1.9804480317890931\n",
      "k= 305 c_k= 0.22438929147512626 a_k= 0.1886749079481776 g= -0.00537915972719703 E_A= (-1.7702282511470537+0j) E_B= (-1.7678141994672192+0j) E_f= -1.9804321975331285\n",
      "k= 306 c_k= 0.2243153612798253 a_k= 0.18855512390879003 g= -0.034871426066509906 E_A= (-1.7960331364346234+0j) E_B= (-1.7803887433617196+0j) E_f= -1.980519972210309\n",
      "k= 307 c_k= 0.2242416957476633 a_k= 0.18843579283103418 g= -0.03206633912026647 E_A= (-1.798684850507945+0j) E_B= (-1.7843036299864485+0j) E_f= -1.980643996427384\n",
      "k= 308 c_k= 0.22416829307647623 a_k= 0.1883169115856913 g= 0.016437240735651497 E_A= (-1.8042523980589025+0j) E_B= (-1.8116218144560987+0j) E_f= -1.9806908605402183\n",
      "k= 309 c_k= 0.22409515148215373 a_k= 0.18819847707488382 g= 0.015635889432269526 E_A= (-1.8152678813294587+0j) E_B= (-1.822275735351224+0j) E_f= -1.9807854632065207\n",
      "k= 310 c_k= 0.2240222691984007 a_k= 0.18808048623166476 g= -0.024813022376032508 E_A= (-1.7807400673644396+0j) E_B= (-1.7696227282077406+0j) E_f= -1.9810300029287822\n",
      "k= 311 c_k= 0.2239496444765029 a_k= 0.18796293601961342 g= 0.08304378845710297 E_A= (-1.7862115896285282+0j) E_B= (-1.8234068434304285+0j) E_f= -1.9808691499674018\n",
      "k= 312 c_k= 0.22387727558509607 a_k= 0.18784582343243825 g= -0.02417776926604445 E_A= (-1.838973846773157+0j) E_B= (-1.8281481405471427+0j) E_f= -1.980752263594293\n",
      "k= 313 c_k= 0.2238051608099392 a_k= 0.1877291454935853 g= 0.0007423444741387644 E_A= (-1.8288261402185837+0j) E_B= (-1.8291584212674057+0j) E_f= -1.9807538276563208\n",
      "k= 314 c_k= 0.22373329845369114 a_k= 0.18761289925585367 g= -0.022378350556172176 E_A= (-1.8198895110336226+0j) E_B= (-1.8098759466658518+0j) E_f= -1.9808262109949102\n",
      "k= 315 c_k= 0.22366168683569107 a_k= 0.1874970818010166 g= -0.011266835452948654 E_A= (-1.8249284110301593+0j) E_B= (-1.819888492184746+0j) E_f= -1.980775236807192\n",
      "k= 316 c_k= 0.2235903242917423 a_k= 0.18738169023944892 g= -0.034341135048673185 E_A= (-1.8230289569853144+0j) E_B= (-1.8076722659411557+0j) E_f= -1.9806187272385851\n",
      "k= 317 c_k= 0.22351920917389975 a_k= 0.18726672170976005 g= -0.030368801409018643 E_A= (-1.805856805160257+0j) E_B= (-1.792280784211251+0j) E_f= -1.9808165387714225\n",
      "k= 318 c_k= 0.22344833985026066 a_k= 0.18715217337843335 g= 0.027823504415086835 E_A= (-1.8425508168318032+0j) E_B= (-1.8549850485725383+0j) E_f= -1.9808914565584819\n",
      "k= 319 c_k= 0.22337771470475873 a_k= 0.18703804243947056 g= -0.08052062830945257 E_A= (-1.8365145802583867+0j) E_B= (-1.800541552381673+0j) E_f= -1.9815327516550614\n",
      "k= 320 c_k= 0.22330733213696138 a_k= 0.18692432611404233 g= 0.037050804369513676 E_A= (-1.8055073445341805+0j) E_B= (-1.8220547770887496+0j) E_f= -1.9818062124337346\n",
      "k= 321 c_k= 0.22323719056187072 a_k= 0.18681102165014382 g= -0.010586054625134459 E_A= (-1.8178097140315617+0j) E_B= (-1.8130833118442626+0j) E_f= -1.981852746885186\n",
      "k= 322 c_k= 0.22316728840972688 a_k= 0.18669812632225605 g= -0.0014839794766616766 E_A= (-1.788949274681082+0j) E_B= (-1.7882869233293575+0j) E_f= -1.981849181784937\n",
      "k= 323 c_k= 0.2230976241258151 a_k= 0.1865856374310123 g= -0.006809104325075458 E_A= (-1.83383893431651+0j) E_B= (-1.8308007443218117+0j) E_f= -1.9818769981637998\n",
      "k= 324 c_k= 0.22302819617027564 a_k= 0.18647355230286977 g= 0.004538069001301012 E_A= (-1.8085636098821898+0j) E_B= (-1.8105878445691026+0j) E_f= -1.9818990411508723\n",
      "k= 325 c_k= 0.22295900301791655 a_k= 0.18636186828978626 g= 0.01870286687652256 E_A= (-1.7778509276515984+0j) E_B= (-1.786190872756331+0j) E_f= -1.981792593920375\n",
      "k= 326 c_k= 0.22289004315802943 a_k= 0.18625058276890205 g= 0.009316673117961393 E_A= (-1.787457827673122+0j) E_B= (-1.7916110150198252+0j) E_f= -1.9818310572635975\n",
      "k= 327 c_k= 0.22282131509420836 a_k= 0.18613969314222634 g= -0.013145395142632004 E_A= (-1.7971777994105498+0j) E_B= (-1.7913196509443212+0j) E_f= -1.981773879697625\n",
      "k= 328 c_k= 0.22275281734417096 a_k= 0.18602919683632888 g= -0.0204552756262369 E_A= (-1.768334901537917+0j) E_B= (-1.7592219609873254+0j) E_f= -1.9816565667934283\n",
      "k= 329 c_k= 0.22268454843958294 a_k= 0.18591909130203602 g= -0.011209675468080145 E_A= (-1.819490561394588+0j) E_B= (-1.8144981183550606+0j) E_f= -1.9816885275218805\n",
      "k= 330 c_k= 0.22261650692588505 a_k= 0.1858093740141316 g= 0.015080531230665831 E_A= (-1.8031488567717342+0j) E_B= (-1.8098632071420493+0j) E_f= -1.9817672988655828\n",
      "k= 331 c_k= 0.22254869136212244 a_k= 0.18570004247106237 g= 0.003694161021259505 E_A= (-1.7752443765963881+0j) E_B= (-1.7768886379983126+0j) E_f= -1.981765998686447\n",
      "k= 332 c_k= 0.22248110032077717 a_k= 0.1855910941946476 g= -0.023579413386594493 E_A= (-1.8362477116809632+0j) E_B= (-1.8257557640106272+0j) E_f= -1.9818897960265531\n",
      "k= 333 c_k= 0.22241373238760287 a_k= 0.18548252672979357 g= -0.05155337746976403 E_A= (-1.812591996935498+0j) E_B= (-1.7896596387350237+0j) E_f= -1.9818644519679118\n",
      "k= 334 c_k= 0.22234658616146202 a_k= 0.18537433764421202 g= 0.003676806256466345 E_A= (-1.8064839843670275+0j) E_B= (-1.8081190350052323+0j) E_f= -1.9818633548622577\n",
      "k= 335 c_k= 0.22227966025416593 a_k= 0.1852665245281429 g= 0.005933987314912777 E_A= (-1.8055776524886877+0j) E_B= (-1.8082156618573104+0j) E_f= -1.9818822387513155\n",
      "k= 336 c_k= 0.22221295329031662 a_k= 0.18515908499408146 g= 0.010848979662210144 E_A= (-1.7839705351853745+0j) E_B= (-1.7887921028072271+0j) E_f= -1.9818714861505706\n",
      "k= 337 c_k= 0.22214646390715176 a_k= 0.18505201667650897 g= -0.025194703636230102 E_A= (-1.7800277836506306+0j) E_B= (-1.7688339550066763+0j) E_f= -1.9817290149426556\n",
      "k= 338 c_k= 0.2220801907543914 a_k= 0.18494531723162816 g= -0.004436380078338176 E_A= (-1.7927202725953837+0j) E_B= (-1.790749808327271+0j) E_f= -1.98170464434433\n",
      "k= 339 c_k= 0.2220141324940873 a_k= 0.18483898433710186 g= 0.0028373593392866173 E_A= (-1.829114721296508+0j) E_B= (-1.8303745890410794+0j) E_f= -1.9816879918100683\n",
      "k= 340 c_k= 0.22194828780047435 a_k= 0.18473301569179612 g= 0.006847781831428074 E_A= (-1.8225699207194124+0j) E_B= (-1.8256096276248457+0j) E_f= -1.9817063204966812\n",
      "k= 341 c_k= 0.2218826553598244 a_k= 0.18462740901552663 g= -0.017277601043008562 E_A= (-1.7907832214623833+0j) E_B= (-1.7831160214670425+0j) E_f= -1.981706632383537\n",
      "k= 342 c_k= 0.22181723387030208 a_k= 0.1845221620488094 g= 0.014170292257278502 E_A= (-1.7749469154146438+0j) E_B= (-1.7812333454779303+0j) E_f= -1.9817583054928436\n",
      "k= 343 c_k= 0.22175202204182284 a_k= 0.18441727255261445 g= 0.014330987212078473 E_A= (-1.807762198016791+0j) E_B= (-1.8141180488010589+0j) E_f= -1.9818258577511785\n",
      "k= 344 c_k= 0.22168701859591308 a_k= 0.1843127383081239 g= -0.01682830008969956 E_A= (-1.787673522468054+0j) E_B= (-1.7802122911182083+0j) E_f= -1.9817348939789374\n",
      "k= 345 c_k= 0.22162222226557235 a_k= 0.18420855711649287 g= 0.024628960121395555 E_A= (-1.7978004266695484+0j) E_B= (-1.808717076417936+0j) E_f= -1.9818511945373738\n",
      "k= 346 c_k= 0.2215576317951376 a_k= 0.1841047267986144 g= 0.04435537590126531 E_A= (-1.812213814382814+0j) E_B= (-1.8318683584669488+0j) E_f= -1.9819900762312133\n",
      "k= 347 c_k= 0.22149324594014944 a_k= 0.18400124519488736 g= 0.0012518995079229258 E_A= (-1.828166954872228+0j) E_B= (-1.8287215294434294+0j) E_f= -1.9819916362146044\n",
      "k= 348 c_k= 0.22142906346722022 a_k= 0.18389811016498822 g= -0.015506006616782862 E_A= (-1.8119648573641438+0j) E_B= (-1.8050978963176023+0j) E_f= -1.9820304420372434\n",
      "k= 349 c_k= 0.22136508315390419 a_k= 0.18379531958764547 g= 0.015702370213638305 E_A= (-1.8132741921182998+0j) E_B= (-1.8202261050944106+0j) E_f= -1.982036071849853\n",
      "k= 350 c_k= 0.22130130378856946 a_k= 0.183692871360418 g= 0.0018610862786395377 E_A= (-1.8418371930038675+0j) E_B= (-1.8426609146437194+0j) E_f= -1.9820503845566733\n",
      "k= 351 c_k= 0.22123772417027196 a_k= 0.18359076339947625 g= -0.03919990122759864 E_A= (-1.7359433633078867+0j) E_B= (-1.7185983694373+0j) E_f= -1.9818386771846828\n",
      "k= 352 c_k= 0.22117434310863096 a_k= 0.1834889936393864 g= 0.03008681664635766 E_A= (-1.7976453684913531+0j) E_B= (-1.810954232307329+0j) E_f= -1.9818911090397862\n"
     ]
    },
    {
     "name": "stdout",
     "output_type": "stream",
     "text": [
      "k= 353 c_k= 0.22111115942370668 a_k= 0.18338756003289805 g= 0.03882221520855667 E_A= (-1.7998008757955741+0j) E_B= (-1.8169689258278954+0j) E_f= -1.9820295317492294\n",
      "k= 354 c_k= 0.2210481719458794 a_k= 0.18328646055073458 g= 0.007150945813136034 E_A= (-1.81592745348493+0j) E_B= (-1.8190888604842854+0j) E_f= -1.9820104730152732\n",
      "k= 355 c_k= 0.22098537951573047 a_k= 0.18318569318138667 g= -0.0019019534642675433 E_A= (-1.8242452398534958+0j) E_B= (-1.823404632037251+0j) E_f= -1.9820130283647295\n",
      "k= 356 c_k= 0.22092278098392504 a_k= 0.18308525593090869 g= -0.003870688735277729 E_A= (-1.8230589603195697+0j) E_B= (-1.8213487136801283+0j) E_f= -1.9819954953320185\n",
      "k= 357 c_k= 0.2208603752110963 a_k= 0.1829851468227179 g= -0.027559669595949104 E_A= (-1.7940244271544608+0j) E_B= (-1.7818507492191504+0j) E_f= -1.9818850452459345\n",
      "k= 358 c_k= 0.22079816106773162 a_k= 0.1828853638973968 g= -0.025775513851475147 E_A= (-1.7944604951253125+0j) E_B= (-1.7830781230073494+0j) E_f= -1.9820153057785108\n",
      "k= 359 c_k= 0.22073613743405993 a_k= 0.18278590521249763 g= 0.018595584576841028 E_A= (-1.81141923638807+0j) E_B= (-1.8196286714137104+0j) E_f= -1.9819519392391212\n",
      "k= 360 c_k= 0.22067430319994108 a_k= 0.18268676884235038 g= -0.022552155531639792 E_A= (-1.791294736925706+0j) E_B= (-1.7813413745105033+0j) E_f= -1.9820410119803216\n",
      "k= 361 c_k= 0.2206126572647566 a_k= 0.182587952877873 g= 0.030555396736211812 E_A= (-1.7641445249240395+0j) E_B= (-1.7776263394595486+0j) E_f= -1.9819723181126592\n",
      "k= 362 c_k= 0.2205511985373019 a_k= 0.18248945542638423 g= -0.024213278615127107 E_A= (-1.7882589496295473+0j) E_B= (-1.7775784143913795+0j) E_f= -1.9819635859837945\n",
      "k= 363 c_k= 0.22048992593568012 a_k= 0.18239127461141935 g= -0.0024158301884693732 E_A= (-1.7996156789795585+0j) E_B= (-1.798550346540901+0j) E_f= -1.981967475772747\n",
      "k= 364 c_k= 0.22042883838719754 a_k= 0.18229340857254825 g= 0.004049225902224664 E_A= (-1.759099264477931+0j) E_B= (-1.7608843968019205+0j) E_f= -1.9819976300948583\n",
      "k= 365 c_k= 0.2203679348282601 a_k= 0.1821958554651961 g= 0.0014036375886228233 E_A= (-1.819470384613882+0j) E_B= (-1.8200890180471863+0j) E_f= -1.9820048580250775\n",
      "k= 366 c_k= 0.22030721420427177 a_k= 0.1820986134604664 g= -0.0027927125689476123 E_A= (-1.8126392677285335+0j) E_B= (-1.8114087582762572+0j) E_f= -1.9819910013391662\n",
      "k= 367 c_k= 0.22024667546953405 a_k= 0.18200168074496678 g= 0.021611832501544876 E_A= (-1.7979861599534535+0j) E_B= (-1.8075060284719928+0j) E_f= -1.9821071245888362\n",
      "k= 368 c_k= 0.22018631758714713 a_k= 0.1819050555206367 g= -0.005394555483583416 E_A= (-1.8460861672840796+0j) E_B= (-1.84371055267018+0j) E_f= -1.9821134307580615\n",
      "k= 369 c_k= 0.220126139528912 a_k= 0.18180873600457786 g= 0.031403341450799455 E_A= (-1.7906702494182876+0j) E_B= (-1.804495642062033+0j) E_f= -1.982151382178053\n",
      "k= 370 c_k= 0.22006614027523438 a_k= 0.18171272042888698 g= 0.01411578893559203 E_A= (-1.8230397668828362+0j) E_B= (-1.8292525812588274+0j) E_f= -1.9821503684812947\n",
      "k= 371 c_k= 0.2200063188150296 a_k= 0.1816170070404905 g= -0.012214490502097858 E_A= (-1.8093904526883864+0j) E_B= (-1.804015922505251+0j) E_f= -1.982176331035518\n",
      "k= 372 c_k= 0.219946674145629 a_k= 0.1815215941009819 g= -0.0034285783048828666 E_A= (-1.8279887720679868+0j) E_B= (-1.8264805632775731+0j) E_f= -1.9821827268076382\n",
      "k= 373 c_k= 0.21988720527268746 a_k= 0.18142647988646105 g= 0.014183641447217765 E_A= (-1.7779066002356245+0j) E_B= (-1.7841442027924617+0j) E_f= -1.9821176114792423\n",
      "k= 374 c_k= 0.2198279112100924 a_k= 0.18133166268737563 g= -0.014944215090192656 E_A= (-1.8190194923471918+0j) E_B= (-1.812449181171289+0j) E_f= -1.9821288472202179\n",
      "k= 375 c_k= 0.21976879097987378 a_k= 0.18123714080836506 g= 0.003031432709895282 E_A= (-1.7825738958568595+0j) E_B= (-1.7839063244600406+0j) E_f= -1.9821152300597475\n",
      "k= 376 c_k= 0.2197098436121154 a_k= 0.18114291256810608 g= -0.016708605369860456 E_A= (-1.8255958642841423+0j) E_B= (-1.8182537741385651+0j) E_f= -1.9821509425442811\n",
      "k= 377 c_k= 0.21965106814486746 a_k= 0.1810489762991606 g= 0.012948302677698137 E_A= (-1.7781849571440012+0j) E_B= (-1.78387317417164+0j) E_f= -1.9821782677063884\n",
      "k= 378 c_k= 0.2195924636240603 a_k= 0.18095533034782582 g= -0.011874662861894513 E_A= (-1.8182340078811772+0j) E_B= (-1.81301883493608+0j) E_f= -1.9821751258882565\n",
      "k= 379 c_k= 0.21953402910341913 a_k= 0.18086197307398583 g= 0.004010261143364099 E_A= (-1.7601453622974312+0j) E_B= (-1.7619061398705504+0j) E_f= -1.9821455234734309\n",
      "k= 380 c_k= 0.21947576364438018 a_k= 0.1807689028509656 g= -0.015953587617170945 E_A= (-1.837196596081709+0j) E_B= (-1.8301937444314167+0j) E_f= -1.9821107067290047\n",
      "k= 381 c_k= 0.21941766631600768 a_k= 0.180676118065387 g= -0.021753745635012506 E_A= (-1.786546419247203+0j) E_B= (-1.77700010704547+0j) E_f= -1.9819969550870797\n",
      "k= 382 c_k= 0.21935973619491225 a_k= 0.18058361711702606 g= -0.019704922125438864 E_A= (-1.8286513508937408+0j) E_B= (-1.8200064178553856+0j) E_f= -1.9819979480664884\n",
      "k= 383 c_k= 0.21930197236517004 a_k= 0.18049139841867304 g= 0.00980362514635009 E_A= (-1.7756280581705228+0j) E_B= (-1.7799279668323695+0j) E_f= -1.9819707023139546\n",
      "k= 384 c_k= 0.21924437391824317 a_k= 0.18039946039599355 g= 0.04377380779519199 E_A= (-1.814650196426393+0j) E_B= (-1.8338445185945418+0j) E_f= -1.9821429928943817\n",
      "k= 385 c_k= 0.21918693995290123 a_k= 0.18030780148739203 g= 0.01563944653007934 E_A= (-1.837365781417055+0j) E_B= (-1.8442217062720252+0j) E_f= -1.9820375637169976\n",
      "k= 386 c_k= 0.2191296695751437 a_k= 0.18021642014387665 g= 0.015009590380649838 E_A= (-1.8070272651169117+0j) E_B= (-1.8136053582780518+0j) E_f= -1.9819857495588487\n",
      "k= 387 c_k= 0.21907256189812344 a_k= 0.1801253148289263 g= -0.024563530680621483 E_A= (-1.8207176035829165+0j) E_B= (-1.8099552123919826+0j) E_f= -1.9821178016781709\n",
      "k= 388 c_k= 0.21901561604207126 a_k= 0.18003448401835895 g= 0.010413192091516815 E_A= (-1.7562602346953642+0j) E_B= (-1.7608215380571401+0j) E_f= -1.9820679164310189\n",
      "k= 389 c_k= 0.21895883113422124 a_k= 0.17994392620020216 g= 0.017924267380916757 E_A= (-1.8212766931378441+0j) E_B= (-1.8291260464071697+0j) E_f= -1.982125420617292\n",
      "k= 390 c_k= 0.2189022063087374 a_k= 0.17985363987456496 g= -0.0007755448430329175 E_A= (-1.8260509909143015+0j) E_B= (-1.825711453959839+0j) E_f= -1.9821256867059436\n",
      "k= 391 c_k= 0.218845740706641 a_k= 0.1797636235535113 g= -0.004334393769183581 E_A= (-1.794485356011376+0j) E_B= (-1.7925882287815136+0j) E_f= -1.982128143261742\n",
      "k= 392 c_k= 0.21878943347573884 a_k= 0.17967387576093558 g= 0.006909344598557184 E_A= (-1.7974047294155213+0j) E_B= (-1.8004281125963353+0j) E_f= -1.982130564150026\n",
      "k= 393 c_k= 0.21873328377055276 a_k= 0.1795843950324393 g= -0.0026372079664589883 E_A= (-1.7941793818507137+0j) E_B= (-1.7930256915337348+0j) E_f= -1.982122698747329\n",
      "k= 394 c_k= 0.21867729075224962 a_k= 0.17949517991520964 g= -0.027114855167063183 E_A= (-1.7923675648732553+0j) E_B= (-1.7805087587391093+0j) E_f= -1.9822005094611428\n",
      "k= 395 c_k= 0.2186214535885725 a_k= 0.17940622896789937 g= -0.015268020716205402 E_A= (-1.7974142760965706+0j) E_B= (-1.790738442331776+0j) E_f= -1.9822713576496631\n",
      "k= 396 c_k= 0.2185657714537727 a_k= 0.17931754076050838 g= -0.008289006209338739 E_A= (-1.8565754268752794+0j) E_B= (-1.852952040801821+0j) E_f= -1.9822581332786808\n",
      "k= 397 c_k= 0.21851024352854267 a_k= 0.17922911387426682 g= -0.007125329604180726 E_A= (-1.8158194387716873+0j) E_B= (-1.812705523757626+0j) E_f= -1.9823094094996725\n",
      "k= 398 c_k= 0.2184548689999496 a_k= 0.1791409469015196 g= -0.00502383358267932 E_A= (-1.7834297521983369+0j) E_B= (-1.7812347903839734+0j) E_f= -1.9823411571970146\n",
      "k= 399 c_k= 0.21839964706136994 a_k= 0.17905303844561232 g= 0.0261265471325238 E_A= (-1.810731670917651+0j) E_B= (-1.822143728263002+0j) E_f= -1.9822675907284433\n",
      "k= 400 c_k= 0.2183445769124251 a_k= 0.1789653871207788 g= 0.012342193518251566 E_A= (-1.813239483354628+0j) E_B= (-1.8186291853984557+0j) E_f= -1.9822425149258147\n",
      "k= 401 c_k= 0.2182896577589173 a_k= 0.1788779915520299 g= -0.009354663869369397 E_A= (-1.8238009443470642+0j) E_B= (-1.8197168915980755+0j) E_f= -1.9822724430206078\n",
      "k= 402 c_k= 0.21823488881276693 a_k= 0.1787908503750439 g= -0.006792079261725328 E_A= (-1.8137818525753835+0j) E_B= (-1.8108173152504032+0j) E_f= -1.9822449137638265\n",
      "k= 403 c_k= 0.2181802692919501 a_k= 0.178703962236058 g= -0.010292584394144856 E_A= (-1.8269843762250222+0j) E_B= (-1.822493098555373+0j) E_f= -1.9821872263662588\n"
     ]
    },
    {
     "name": "stdout",
     "output_type": "stream",
     "text": [
      "k= 404 c_k= 0.2181257984204375 a_k= 0.17861732579176134 g= -0.013979438045243415 E_A= (-1.8192733892152475+0j) E_B= (-1.813174837045072+0j) E_f= -1.982166292507289\n",
      "k= 405 c_k= 0.2180714754281335 a_k= 0.17853093970918948 g= 0.004043741360279886 E_A= (-1.7976272361660897+0j) E_B= (-1.7993908854554617+0j) E_f= -1.9821446936108826\n",
      "k= 406 c_k= 0.2180172995508166 a_k= 0.17844480266562 g= 0.005504211774598298 E_A= (-1.7852497522691577+0j) E_B= (-1.7876497790436652+0j) E_f= -1.9821313434825756\n",
      "k= 407 c_k= 0.21796327003008015 a_k= 0.17835891334846937 g= 0.001172244332954579 E_A= (-1.8010866334720008+0j) E_B= (-1.8015976458881708+0j) E_f= -1.9821261851195628\n",
      "k= 408 c_k= 0.2179093861132739 a_k= 0.1782732704551914 g= 0.009614786443255622 E_A= (-1.8063669744072766+0j) E_B= (-1.8105572788301967+0j) E_f= -1.982162633667444\n",
      "k= 409 c_k= 0.21785564705344662 a_k= 0.1781878726931765 g= -0.007000593577236815 E_A= (-1.7786967005821457+0j) E_B= (-1.7756464628950914+0j) E_f= -1.982122289676361\n",
      "k= 410 c_k= 0.2178020521092889 a_k= 0.1781027187796527 g= 0.037515240104602436 E_A= (-1.800034511404306+0j) E_B= (-1.8163763039646161+0j) E_f= -1.9822637610120621\n",
      "k= 411 c_k= 0.21774860054507708 a_k= 0.17801780744158738 g= 0.020302019255209604 E_A= (-1.7948437931239356+0j) E_B= (-1.8036852656860578+0j) E_f= -1.9823593381029418\n",
      "k= 412 c_k= 0.21769529163061768 a_k= 0.17793313741559055 g= 0.005406111779596087 E_A= (-1.8392462287724538+0j) E_B= (-1.8415999989333476+0j) E_f= -1.9823168342660749\n",
      "k= 413 c_k= 0.21764212464119265 a_k= 0.17784870744781933 g= 0.00835273679925318 E_A= (-1.7713650127161884+0j) E_B= (-1.7750008274833047+0j) E_f= -1.9823103965653064\n",
      "k= 414 c_k= 0.217589098857505 a_k= 0.17776451629388335 g= 0.005689963530545107 E_A= (-1.8417298837975065+0j) E_B= (-1.8442060318717932+0j) E_f= -1.9823118687186363\n",
      "k= 415 c_k= 0.2175362135656255 a_k= 0.1776805627187514 g= 0.011413629388067576 E_A= (-1.8253245769390303+0j) E_B= (-1.8302903323792734+0j) E_f= -1.9823767061067357\n",
      "k= 416 c_k= 0.21748346805693974 a_k= 0.17759684549665947 g= 0.019299915605235342 E_A= (-1.7909713186872633+0j) E_B= (-1.799366143845329+0j) E_f= -1.9824237792832404\n",
      "k= 417 c_k= 0.217430861628096 a_k= 0.17751336341101953 g= 0.0027879426243006475 E_A= (-1.7672039742576988+0j) E_B= (-1.7684163437916416+0j) E_f= -1.9824274657942462\n",
      "k= 418 c_k= 0.2173783935809535 a_k= 0.1774301152543296 g= 0.01279702433870308 E_A= (-1.8251559370925716+0j) E_B= (-1.830719530279299+0j) E_f= -1.9823920622659348\n",
      "k= 419 c_k= 0.21732606322253178 a_k= 0.17734709982808505 g= 0.019783578655665927 E_A= (-1.8148229588529001+0j) E_B= (-1.8234219333842785+0j) E_f= -1.9823536396990353\n",
      "k= 420 c_k= 0.21727386986496003 a_k= 0.1772643159426906 g= -0.012638727869354842 E_A= (-1.8045913508559386+0j) E_B= (-1.7990992202272489+0j) E_f= -1.9824070388773691\n",
      "k= 421 c_k= 0.21722181282542763 a_k= 0.1771817624173738 g= 0.015031628824303207 E_A= (-1.818579748808205+0j) E_B= (-1.8251101441340731+0j) E_f= -1.9824526406726684\n",
      "k= 422 c_k= 0.217169891426135 a_k= 0.1770994380800992 g= -0.008332844508269285 E_A= (-1.8161982542557296+0j) E_B= (-1.8125789683814661+0j) E_f= -1.9824814388047358\n",
      "k= 423 c_k= 0.21711810499424491 a_k= 0.1770173417674838 g= 0.00795708863031776 E_A= (-1.8033882019756+0j) E_B= (-1.8068434579849717+0j) E_f= -1.982522278330415\n",
      "k= 424 c_k= 0.21706645286183476 a_k= 0.17693547232471338 g= 0.0035776396391345917 E_A= (-1.814953585157026+0j) E_B= (-1.8165067562491957+0j) E_f= -1.98250677084286\n",
      "k= 425 c_k= 0.2170149343658492 a_k= 0.1768538286054598 g= -0.003957763717417507 E_A= (-1.8001786913054163+0j) E_B= (-1.7984609036386745+0j) E_f= -1.9825219752283385\n",
      "k= 426 c_k= 0.21696354884805308 a_k= 0.17677240947179954 g= -0.01257331055890884 E_A= (-1.7575864470071774+0j) E_B= (-1.7521305468479182+0j) E_f= -1.9824849280344705\n",
      "k= 427 c_k= 0.21691229565498554 a_k= 0.17669121379413272 g= 0.022908832734854195 E_A= (-1.8048250449494994+0j) E_B= (-1.814763459948086+0j) E_f= -1.9824042269690854\n",
      "k= 428 c_k= 0.2168611741379142 a_k= 0.1766102404511036 g= -0.016463455928219965 E_A= (-1.803927680972872+0j) E_B= (-1.7967871122069488+0j) E_f= -1.9824563014261805\n",
      "k= 429 c_k= 0.21681018365278987 a_k= 0.17652948832952173 g= 0.004596500999449713 E_A= (-1.7940740164906652+0j) E_B= (-1.796067152942367+0j) E_f= -1.9824687660873122\n",
      "k= 430 c_k= 0.2167593235602022 a_k= 0.17644895632428415 g= -0.003919882876864928 E_A= (-1.8262384914532546+0j) E_B= (-1.8245391491316056+0j) E_f= -1.9824886448485952\n",
      "k= 431 c_k= 0.21670859322533542 a_k= 0.17636864333829824 g= -0.0222190368824512 E_A= (-1.812494740471519+0j) E_B= (-1.8028646280202834+0j) E_f= -1.982487260937456\n",
      "k= 432 c_k= 0.21665799201792482 a_k= 0.17628854828240606 g= -0.001959951936831711 E_A= (-1.8240712379156951+0j) E_B= (-1.823221959413524+0j) E_f= -1.9824760012989036\n",
      "k= 433 c_k= 0.21660751931221373 a_k= 0.1762086700753088 g= 0.00589571158763434 E_A= (-1.8085475298172708+0j) E_B= (-1.8111016407404263+0j) E_f= -1.9824821790272973\n",
      "k= 434 c_k= 0.21655717448691097 a_k= 0.17612900764349282 g= 1.4113243944550129e-06 E_A= (-1.7995696493739302+0j) E_B= (-1.7995702606387765+0j) E_f= -1.9824821857967216\n",
      "k= 435 c_k= 0.21650695692514868 a_k= 0.17604955992115612 g= 0.006415496748504786 E_A= (-1.7973638141503756+0j) E_B= (-1.8001418135067395+0j) E_f= -1.9824964794154432\n",
      "k= 436 c_k= 0.21645686601444106 a_k= 0.1759703258501358 g= -0.015120534926822015 E_A= (-1.841428618952022+0j) E_B= (-1.8348827317465783+0j) E_f= -1.9824491917306573\n",
      "k= 437 c_k= 0.21640690114664293 a_k= 0.1758913043798365 g= 0.024941969888875242 E_A= (-1.829245931079444+0j) E_B= (-1.8400411599037327+0j) E_f= -1.9823888166338168\n",
      "k= 438 c_k= 0.2163570617179095 a_k= 0.17581249446715919 g= -0.017361314703750484 E_A= (-1.7981575042562121+0j) E_B= (-1.7906450181824853+0j) E_f= -1.9823304689170143\n",
      "k= 439 c_k= 0.2163073471286559 a_k= 0.17573389507643158 g= -0.009788962011624248 E_A= (-1.8123627275904346+0j) E_B= (-1.8081278787826793+0j) E_f= -1.982288779225752\n",
      "k= 440 c_k= 0.21625775678351783 a_k= 0.17565550517933856 g= -0.010458231338461311 E_A= (-1.8150517567263118+0j) E_B= (-1.8105284094279543+0j) E_f= -1.9823116303021042\n",
      "k= 441 c_k= 0.21620829009131218 a_k= 0.17557732375485383 g= -0.03289744382900557 E_A= (-1.8487264000863919+0j) E_B= (-1.8345009999291033+0j) E_f= -1.9823934940850072\n",
      "k= 442 c_k= 0.2161589464649983 a_k= 0.17549934978917234 g= 0.01452492924182794 E_A= (-1.8033215625616639+0j) E_B= (-1.8096009493664482+0j) E_f= -1.9824034637635395\n",
      "k= 443 c_k= 0.2161097253216398 a_k= 0.1754215822756433 g= -0.008237005118445712 E_A= (-1.8256769047850838+0j) E_B= (-1.8221167109578433+0j) E_f= -1.9824175826733108\n",
      "k= 444 c_k= 0.21606062608236656 a_k= 0.1753440202147041 g= 0.0022066646072160965 E_A= (-1.8171775097913045+0j) E_B= (-1.8181310564644824+0j) E_f= -1.9824135326544012\n",
      "k= 445 c_k= 0.21601164817233734 a_k= 0.17526666261381496 g= 0.016862729252768882 E_A= (-1.8273328218261+0j) E_B= (-1.834617913703249+0j) E_f= -1.9824611878671823\n",
      "k= 446 c_k= 0.2159627910207029 a_k= 0.1751895084873943 g= 0.01359275925600543 E_A= (-1.8120572472908105+0j) E_B= (-1.8179283077440094+0j) E_f= -1.9825171574536093\n",
      "k= 447 c_k= 0.21591405406056924 a_k= 0.175112556856755 g= 0.012169058166166697 E_A= (-1.8057180440549034+0j) E_B= (-1.8109729854204153+0j) E_f= -1.9825942349718395\n",
      "k= 448 c_k= 0.21586543672896158 a_k= 0.1750358067500409 g= -0.0009197570571381259 E_A= (-1.819844417234235+0j) E_B= (-1.8194473297165876+0j) E_f= -1.9825886636358006\n",
      "k= 449 c_k= 0.21581693846678845 a_k= 0.1749592572021648 g= 0.006546008286682305 E_A= (-1.7841777855760326+0j) E_B= (-1.7870032645112526+0j) E_f= -1.9826198944593396\n",
      "k= 450 c_k= 0.21576855871880654 a_k= 0.17488290725474628 g= 0.015007596535755126 E_A= (-1.8024731742005642+0j) E_B= (-1.8089495091492707+0j) E_f= -1.982667941377404\n",
      "k= 451 c_k= 0.2157202969335856 a_k= 0.17480675595605108 g= -0.011985303332104446 E_A= (-1.7782217421633624+0j) E_B= (-1.773050795776081+0j) E_f= -1.9826118554866912\n",
      "k= 452 c_k= 0.21567215256347394 a_k= 0.17473080236093047 g= 0.009440707903241407 E_A= (-1.7751586194933573+0j) E_B= (-1.7792308150837874+0j) E_f= -1.9826398244527645\n",
      "k= 453 c_k= 0.2156241250645643 a_k= 0.17465504553076158 g= 0.009446685368869017 E_A= (-1.818677414384799+0j) E_B= (-1.8227512809196442+0j) E_f= -1.9826608724809294\n"
     ]
    },
    {
     "name": "stdout",
     "output_type": "stream",
     "text": [
      "k= 454 c_k= 0.21557621389665993 a_k= 0.17457948453338862 g= 0.019198286625147932 E_A= (-1.8247353705263614+0j) E_B= (-1.833012758414266+0j) E_f= -1.982763771146534\n",
      "k= 455 c_k= 0.21552841852324142 a_k= 0.17450411844306418 g= -0.011228681778112556 E_A= (-1.803329787273988+0j) E_B= (-1.7984895872225133+0j) E_f= -1.982746940304918\n",
      "k= 456 c_k= 0.21548073841143345 a_k= 0.17442894634039197 g= -0.005746230407612265 E_A= (-1.78945890456785+0j) E_B= (-1.786982500625221+0j) E_f= -1.9827223173735788\n",
      "k= 457 c_k= 0.2154331730319722 a_k= 0.1743539673122692 g= -0.007685584631080105 E_A= (-1.8168967167008216+0j) E_B= (-1.813585256933463+0j) E_f= -1.982698540340729\n",
      "k= 458 c_k= 0.21538572185917312 a_k= 0.1742791804518308 g= 0.012480387012741045 E_A= (-1.8024065282897346+0j) E_B= (-1.8077827226213767+0j) E_f= -1.9826947169522446\n",
      "k= 459 c_k= 0.2153383843708989 a_k= 0.17420458485839307 g= -0.028735865899319386 E_A= (-1.7972119223676266+0j) E_B= (-1.7848360524951101+0j) E_f= -1.982585455397825\n",
      "k= 460 c_k= 0.21529116004852789 a_k= 0.1741301796373988 g= 0.03601625093380046 E_A= (-1.8253402707706237+0j) E_B= (-1.8408482316588972+0j) E_f= -1.9826769815719527\n",
      "k= 461 c_k= 0.2152440483769229 a_k= 0.17405596390036263 g= 0.004173150211293694 E_A= (-1.783586304173646+0j) E_B= (-1.7853827956655737+0j) E_f= -1.9826634525443132\n",
      "k= 462 c_k= 0.21519704884440038 a_k= 0.17398193676481696 g= 0.004933186560800686 E_A= (-1.8216844339589504+0j) E_B= (-1.8238076483375167+0j) E_f= -1.9826897492133055\n",
      "k= 463 c_k= 0.21515016094269962 a_k= 0.17390809735425886 g= -0.01527125921269029 E_A= (-1.806989235749228+0j) E_B= (-1.800418007994412+0j) E_f= -1.982639447622648\n",
      "k= 464 c_k= 0.21510338416695282 a_k= 0.17383444479809693 g= -0.004678663032692391 E_A= (-1.8102186816082748+0j) E_B= (-1.808205889104857+0j) E_f= -1.9826231528995255\n",
      "k= 465 c_k= 0.215056718015655 a_k= 0.17376097823159928 g= 0.0218602117380675 E_A= (-1.825427561443788+0j) E_B= (-1.8348299322268202+0j) E_f= -1.9825673816672431\n",
      "k= 466 c_k= 0.21501016199063455 a_k= 0.17368769679584187 g= -0.012594104555635623 E_A= (-1.8220392995491634+0j) E_B= (-1.816623578627895+0j) E_f= -1.9825279306169015\n",
      "k= 467 c_k= 0.214963715597024 a_k= 0.17361459963765738 g= 0.0016935982011505692 E_A= (-1.7834383632366064+0j) E_B= (-1.784166487560702+0j) E_f= -1.982533204587738\n",
      "k= 468 c_k= 0.21491737834323096 a_k= 0.17354168590958463 g= 0.02189899826658743 E_A= (-1.7607255680062428+0j) E_B= (-1.7701385185978387+0j) E_f= -1.9825549382209902\n",
      "k= 469 c_k= 0.21487114974090968 a_k= 0.17346895476981883 g= 0.001397668382225082 E_A= (-1.8351964006256236+0j) E_B= (-1.835797037850114+0j) E_f= -1.9825590105395146\n",
      "k= 470 c_k= 0.2148250293049327 a_k= 0.17339640538216178 g= -0.00836441004447194 E_A= (-1.8337897312910407+0j) E_B= (-1.8301959620251964+0j) E_f= -1.9825504551340556\n",
      "k= 471 c_k= 0.21477901655336276 a_k= 0.17332403691597326 g= -0.01252730289494641 E_A= (-1.7844862461873359+0j) E_B= (-1.7791050425956505+0j) E_f= -1.9825182740546072\n",
      "k= 472 c_k= 0.21473311100742531 a_k= 0.17325184854612247 g= 0.024280902820799193 E_A= (-1.828739796703133+0j) E_B= (-1.8391676243046913+0j) E_f= -1.9826451111592185\n",
      "k= 473 c_k= 0.21468731219148093 a_k= 0.1731798394529403 g= 0.015813041371530525 E_A= (-1.8279039545505233+0j) E_B= (-1.8346936732497765+0j) E_f= -1.9826074524002428\n",
      "k= 474 c_k= 0.21464161963299838 a_k= 0.17310800882217192 g= 0.0010583395545765396 E_A= (-1.7855817913157388+0j) E_B= (-1.7860361187479707+0j) E_f= -1.9826130022970387\n",
      "k= 475 c_k= 0.21459603286252774 a_k= 0.17303635584492993 g= 0.00020276335293437347 E_A= (-1.8166214371691274+0j) E_B= (-1.8167084615914266+0j) E_f= -1.9826139357375843\n",
      "k= 476 c_k= 0.21455055141367382 a_k= 0.172964879717648 g= -0.02495305421032506 E_A= (-1.8329561448076082+0j) E_B= (-1.822248761727047+0j) E_f= -1.9826838973794951\n",
      "k= 477 c_k= 0.21450517482307005 a_k= 0.1728935796420351 g= 0.03117496055916653 E_A= (-1.796319203059395+0j) E_B= (-1.8096935837890877+0j) E_f= -1.9825434294417925\n",
      "k= 478 c_k= 0.21445990263035244 a_k= 0.1728224548250301 g= -0.011702015562174274 E_A= (-1.8155902819109262+0j) E_B= (-1.8105710556748407+0j) E_f= -1.9825788889525733\n",
      "k= 479 c_k= 0.21441473437813402 a_k= 0.17275150447875684 g= -0.003384771099625977 E_A= (-1.820922311745811+0j) E_B= (-1.819470822153297+0j) E_f= -1.9825869900749329\n",
      "k= 480 c_k= 0.21436966961197923 a_k= 0.17268072782047988 g= -8.49076485325462e-05 E_A= (-1.8146817376647129+0j) E_B= (-1.814645334415586+0j) E_f= -1.9825867284197356\n",
      "k= 481 c_k= 0.21432470788037897 a_k= 0.1726101240725604 g= -0.022546015490378688 E_A= (-1.8153184943474934+0j) E_B= (-1.8056541579798095+0j) E_f= -1.9826471457260308\n",
      "k= 482 c_k= 0.21427984873472566 a_k= 0.17253969246241288 g= 0.0160724899696053 E_A= (-1.8028088557272188+0j) E_B= (-1.8096968771661737+0j) E_f= -1.982595207002982\n",
      "k= 483 c_k= 0.21423509172928862 a_k= 0.17246943222246197 g= -0.00015514060768041552 E_A= (-1.8308112877332514+0j) E_B= (-1.8307448146086167+0j) E_f= -1.9825946309945532\n",
      "k= 484 c_k= 0.21419043642118973 a_k= 0.1723993425901 g= 0.0010098957825633462 E_A= (-1.8291850869504467+0j) E_B= (-1.829617706987261+0j) E_f= -1.982589662144964\n",
      "k= 485 c_k= 0.2141458823703794 a_k= 0.17232942280764485 g= 0.002610586057815971 E_A= (-1.8100244577403584+0j) E_B= (-1.811142550250068+0j) E_f= -1.9825960608673328\n",
      "k= 486 c_k= 0.2141014291396126 a_k= 0.1722596721222983 g= 0.030328248301570052 E_A= (-1.8263363719145045+0j) E_B= (-1.8393230145238388+0j) E_f= -1.9825202113868263\n",
      "k= 487 c_k= 0.2140570762944254 a_k= 0.17219008978610487 g= -0.018975221497289908 E_A= (-1.8222164827140264+0j) E_B= (-1.8140929218425283+0j) E_f= -1.9824471801057133\n",
      "k= 488 c_k= 0.21401282340311154 a_k= 0.1721206750559108 g= -0.005144176325534036 E_A= (-1.8028181234053382+0j) E_B= (-1.8006162840063162+0j) E_f= -1.9824586445525685\n",
      "k= 489 c_k= 0.2139686700366993 a_k= 0.1720514271933239 g= 0.01163990298788732 E_A= (-1.7601619856880846+0j) E_B= (-1.7651431348114335+0j) E_f= -1.982464412363341\n",
      "k= 490 c_k= 0.21392461576892882 a_k= 0.1719823454646734 g= 0.0022969448277752142 E_A= (-1.7848088558436974+0j) E_B= (-1.785791601923146+0j) E_f= -1.982458236526368\n",
      "k= 491 c_k= 0.21388066017622928 a_k= 0.1719134291409707 g= -0.027939953442540928 E_A= (-1.8027263165114622+0j) E_B= (-1.7907746851362947+0j) E_f= -1.9825568195305783\n",
      "k= 492 c_k= 0.21383680283769652 a_k= 0.17184467749786989 g= 0.035018023582442756 E_A= (-1.8093288124490068+0j) E_B= (-1.824305096858136+0j) E_f= -1.9823670485672094\n",
      "k= 493 c_k= 0.21379304333507107 a_k= 0.17177608981562914 g= -0.05089054896131402 E_A= (-1.797355524410027+0j) E_B= (-1.7755954337311635+0j) E_f= -1.982294225406931\n",
      "k= 494 c_k= 0.213749381252716 a_k= 0.17170766537907256 g= 0.006948447308695259 E_A= (-1.8315413833373473+0j) E_B= (-1.8345118359631487+0j) E_f= -1.9823162765625417\n",
      "k= 495 c_k= 0.21370581617759538 a_k= 0.171639403477552 g= -0.00741157126679379 E_A= (-1.7989628160188842+0j) E_B= (-1.795795024245427+0j) E_f= -1.9822798427003137\n",
      "k= 496 c_k= 0.2136623476992526 a_k= 0.1715713034049096 g= -0.008918903593384256 E_A= (-1.8267959386002328+0j) E_B= (-1.8229846708389013+0j) E_f= -1.982281383426444\n",
      "k= 497 c_k= 0.21361897540978944 a_k= 0.17150336445944064 g= 0.0008517153371988956 E_A= (-1.794794081418127+0j) E_B= (-1.7951579665334734+0j) E_f= -1.9822808376808072\n",
      "k= 498 c_k= 0.2135756989038446 a_k= 0.17143558594385686 g= 0.01194159507569437 E_A= (-1.7924431262201952+0j) E_B= (-1.7975439952488315+0j) E_f= -1.9823074180880824\n",
      "k= 499 c_k= 0.21353251777857327 a_k= 0.17136796716524974 g= -0.004837898151148484 E_A= (-1.8336793816832666+0j) E_B= (-1.8316132845373245+0j) E_f= -1.9823161057295846\n"
     ]
    }
   ],
   "source": [
    "out = SPSA(500,hold=True)"
   ]
  },
  {
   "cell_type": "code",
   "execution_count": 134,
   "metadata": {},
   "outputs": [
    {
     "data": {
      "text/plain": [
       "[<matplotlib.lines.Line2D at 0x2398d66a460>]"
      ]
     },
     "execution_count": 134,
     "metadata": {},
     "output_type": "execute_result"
    },
    {
     "data": {
      "image/png": "[encoded data removed]",
      "text/plain": [
       "<Figure size 432x288 with 1 Axes>"
      ]
     },
     "metadata": {
      "needs_background": "light"
     },
     "output_type": "display_data"
    }
   ],
   "source": [
    "import matplotlib.pyplot as plt\n",
    "\n",
    "El = [out[i]['E'] for i in range(len(out))]\n",
    "tl = [i for i in range(len(El))]\n",
    "\n",
    "plt.plot(tl,El)"
   ]
  },
  {
   "cell_type": "code",
   "execution_count": 135,
   "metadata": {},
   "outputs": [
    {
     "data": {
      "text/plain": [
       "(-1.9823161057295846+0j)"
      ]
     },
     "execution_count": 135,
     "metadata": {},
     "output_type": "execute_result"
    }
   ],
   "source": [
    "phi_f = out[len(out)-1]['phi']\n",
    "\n",
    "E_From_Matrix(phi_f,blocks)"
   ]
  },
  {
   "cell_type": "code",
   "execution_count": 136,
   "metadata": {},
   "outputs": [
    {
     "data": {
      "text/plain": [
       "array([-3.34084762e+00+0.00000000e+00j, -3.29295138e+00+0.00000000e+00j,\n",
       "       -2.86387634e+00+0.00000000e+00j, -2.78526086e+00+0.00000000e+00j,\n",
       "       -1.56155281e+00+0.00000000e+00j, -1.56155281e+00+0.00000000e+00j,\n",
       "       -1.00000000e+00+0.00000000e+00j, -1.00000000e+00+0.00000000e+00j,\n",
       "       -1.00000000e+00+0.00000000e+00j, -1.00000000e+00+0.00000000e+00j,\n",
       "       -5.61552813e-01+0.00000000e+00j, -5.61552813e-01+0.00000000e+00j,\n",
       "        7.31507328e-16+0.00000000e+00j,  5.07690516e-01+0.00000000e+00j,\n",
       "        5.23028722e-01+0.00000000e+00j,  1.00000000e+00+0.00000000e+00j,\n",
       "        1.00000000e+00+0.00000000e+00j,  1.00000000e+00+0.00000000e+00j,\n",
       "        1.00000000e+00+0.00000000e+00j,  1.00000000e+00-1.27192026e-16j,\n",
       "        1.00000000e+00+1.27192026e-16j,  1.47697128e+00+0.00000000e+00j,\n",
       "        1.49230948e+00+0.00000000e+00j,  2.00000000e+00+0.00000000e+00j,\n",
       "        2.56155281e+00+0.00000000e+00j,  2.56155281e+00+0.00000000e+00j,\n",
       "        3.00000000e+00+0.00000000e+00j,  3.00000000e+00+0.00000000e+00j,\n",
       "        3.00000000e+00+0.00000000e+00j,  3.00000000e+00+0.00000000e+00j,\n",
       "        3.56155281e+00+0.00000000e+00j,  3.56155281e+00+0.00000000e+00j,\n",
       "        4.78526086e+00+0.00000000e+00j,  4.86387634e+00+0.00000000e+00j,\n",
       "        5.29295138e+00+0.00000000e+00j,  5.34084762e+00+0.00000000e+00j])"
      ]
     },
     "execution_count": 136,
     "metadata": {},
     "output_type": "execute_result"
    }
   ],
   "source": [
    "np.sort(e)"
   ]
  },
  {
   "cell_type": "code",
   "execution_count": 139,
   "metadata": {},
   "outputs": [],
   "source": [
    "import pickle\n",
    "\n",
    "file_to_store = open(\"VQE_Example.pickle\", \"wb\")\n",
    "\n",
    "pickle.dump(out, file_to_store)"
   ]
  },
  {
   "cell_type": "code",
   "execution_count": 1,
   "metadata": {},
   "outputs": [],
   "source": [
    "import pickle\n",
    "\n",
    "file_to_read = open(\"VQE_Example.pickle\", \"rb\")\n",
    "\n",
    "loaded_object = pickle.load(file_to_read)"
   ]
  },
  {
   "cell_type": "code",
   "execution_count": 2,
   "metadata": {},
   "outputs": [
    {
     "data": {
      "text/plain": [
       "[<matplotlib.lines.Line2D at 0x11cff5f3a00>]"
      ]
     },
     "execution_count": 2,
     "metadata": {},
     "output_type": "execute_result"
    },
    {
     "data": {
      "image/png": "[encoded data removed]",
      "text/plain": [
       "<Figure size 432x288 with 1 Axes>"
      ]
     },
     "metadata": {
      "needs_background": "light"
     },
     "output_type": "display_data"
    }
   ],
   "source": [
    "import matplotlib.pyplot as plt\n",
    "\n",
    "El = [loaded_object[i]['E'] for i in range(len(loaded_object))]\n",
    "tl = [i for i in range(len(El))]\n",
    "\n",
    "plt.plot(tl,El)"
   ]
  },
  {
   "cell_type": "code",
   "execution_count": 5,
   "metadata": {},
   "outputs": [
    {
     "data": {
      "text/plain": [
       "array([[[ 1, -1, -1]],\n",
       "\n",
       "       [[-1,  1,  1]],\n",
       "\n",
       "       [[ 1, -1, -1]],\n",
       "\n",
       "       [[ 1, -1,  1]],\n",
       "\n",
       "       [[-1, -1,  1]],\n",
       "\n",
       "       [[ 1, -1,  1]]])"
      ]
     },
     "execution_count": 5,
     "metadata": {},
     "output_type": "execute_result"
    }
   ],
   "source": [
    "loaded_object[0]['Delta']"
   ]
  },
  {
   "cell_type": "code",
   "execution_count": null,
   "metadata": {},
   "outputs": [],
   "source": []
  }
 ],
 "metadata": {
  "kernelspec": {
   "display_name": "Python [conda env:qiskit_25v]",
   "language": "python",
   "name": "conda-env-qiskit_25v-py"
  },
  "language_info": {
   "codemirror_mode": {
    "name": "ipython",
    "version": 3
   },
   "file_extension": ".py",
   "mimetype": "text/x-python",
   "name": "python",
   "nbconvert_exporter": "python",
   "pygments_lexer": "ipython3",
   "version": "3.9.4"
  }
 },
 "nbformat": 4,
 "nbformat_minor": 4
}
