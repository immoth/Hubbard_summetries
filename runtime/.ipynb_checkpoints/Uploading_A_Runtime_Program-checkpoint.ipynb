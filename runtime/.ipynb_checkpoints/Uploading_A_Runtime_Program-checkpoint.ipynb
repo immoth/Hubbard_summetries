{
 "cells": [
  {
   "cell_type": "markdown",
   "id": "b9f4f99d",
   "metadata": {},
   "source": [
    "# Building A Runtime Program"
   ]
  },
  {
   "cell_type": "code",
   "execution_count": 1,
   "id": "dafb8dd6",
   "metadata": {},
   "outputs": [],
   "source": [
    "import sys\n",
    "import json\n",
    "\n",
    "from qiskit.providers.ibmq.runtime import UserMessenger, ProgramBackend"
   ]
  },
  {
   "cell_type": "markdown",
   "id": "c1a5a814",
   "metadata": {},
   "source": [
    "## Skeleten of a runtime program"
   ]
  },
  {
   "cell_type": "code",
   "execution_count": 2,
   "id": "f5321cae",
   "metadata": {},
   "outputs": [],
   "source": [
    "def program(backend: ProgramBackend, user_messenger: UserMessenger, **kwargs):\n",
    "    \"\"\"Function that does classical-quantum calculation.\"\"\"\n",
    "    # UserMessenger can be used to publish interim results.\n",
    "    user_messenger.publish(\"This is an interim result.\")\n",
    "    return \"final result\"\n",
    "\n",
    "def main(backend: ProgramBackend, user_messenger: UserMessenger, **kwargs):\n",
    "    \"\"\"This is the main entry point of a runtime program.\n",
    "\n",
    "    The name of this method must not change. It also must have ``backend``\n",
    "    and ``user_messenger`` as the first two positional arguments.\n",
    "\n",
    "    Args:\n",
    "        backend: Backend for the circuits to run on.\n",
    "        user_messenger: Used to communicate with the program user.\n",
    "        kwargs: User inputs.\n",
    "    \"\"\"\n",
    "    # Massage the input if necessary.\n",
    "    result = program(backend, user_messenger, **kwargs)\n",
    "    # Final result can be directly returned\n",
    "    return result"
   ]
  },
  {
   "cell_type": "markdown",
   "id": "d5b33340",
   "metadata": {},
   "source": [
    "## A simple runtime program"
   ]
  },
  {
   "cell_type": "code",
   "execution_count": 3,
   "id": "58673032",
   "metadata": {},
   "outputs": [],
   "source": [
    "\"\"\"A sample runtime program that submits random circuits for user-specified iterations.\"\"\"\n",
    "import random\n",
    "from qiskit import transpile\n",
    "from qiskit.circuit.random import random_circuit\n",
    "\n",
    "\n",
    "\n",
    "def prepare_circuits(backend):\n",
    "    \"\"\"Generate a random circuit.\n",
    "\n",
    "    Args:\n",
    "        backend: Backend used for transpilation.\n",
    "\n",
    "    Returns:\n",
    "        Generated circuit.\n",
    "    \"\"\"\n",
    "    circuit = random_circuit(num_qubits=5, depth=4, measure=True,\n",
    "                             seed=random.randint(0, 1000))\n",
    "    return transpile(circuit, backend)\n",
    "\n",
    "\n",
    "def main(backend, user_messenger, **kwargs):\n",
    "    \"\"\"Main entry point of the program.\n",
    "\n",
    "    Args:\n",
    "        backend: Backend to submit the circuits to.\n",
    "        user_messenger: Used to communicate with the program consumer.\n",
    "        kwargs: User inputs.\n",
    "    \"\"\"\n",
    "    iterations = kwargs.pop('iterations', 5)\n",
    "    for it in range(iterations):\n",
    "        qc = prepare_circuits(backend)\n",
    "        result = backend.run(qc).result()\n",
    "        user_messenger.publish({\"iteration\": it, \"counts\": result.get_counts()})\n",
    "\n",
    "    return \"All done!\""
   ]
  },
  {
   "cell_type": "markdown",
   "id": "24993237",
   "metadata": {},
   "source": [
    "### Test the program"
   ]
  },
  {
   "cell_type": "code",
   "execution_count": 4,
   "id": "ba88b5c5",
   "metadata": {},
   "outputs": [],
   "source": [
    "from qiskit import Aer\n",
    "from qiskit.providers.ibmq.runtime import UserMessenger\n",
    "\n",
    "backend = Aer.get_backend('qasm_simulator')\n",
    "user_messenger = UserMessenger()"
   ]
  },
  {
   "cell_type": "code",
   "execution_count": 5,
   "id": "0efa3f1d",
   "metadata": {},
   "outputs": [
    {
     "name": "stdout",
     "output_type": "stream",
     "text": [
      "{\"iteration\": 0, \"counts\": {\"01011\": 122, \"01001\": 118, \"00001\": 419, \"00011\": 365}}\n",
      "{\"iteration\": 1, \"counts\": {\"10110\": 502, \"11110\": 522}}\n",
      "{\"iteration\": 2, \"counts\": {\"11010\": 1, \"11011\": 293, \"10010\": 2, \"10011\": 728}}\n"
     ]
    },
    {
     "data": {
      "text/plain": [
       "'All done!'"
      ]
     },
     "execution_count": 5,
     "metadata": {},
     "output_type": "execute_result"
    }
   ],
   "source": [
    "inputs = {\"iterations\": 3}\n",
    "\n",
    "main(backend, user_messenger, **inputs)"
   ]
  },
  {
   "cell_type": "markdown",
   "id": "1c6e18a6",
   "metadata": {},
   "source": [
    "### Uploading the program"
   ]
  },
  {
   "cell_type": "code",
   "execution_count": 35,
   "id": "013246ba",
   "metadata": {},
   "outputs": [
    {
     "name": "stdout",
     "output_type": "stream",
     "text": [
      "{'name': 'sample-program_John_Stenger', 'description': 'A sample runtime program.', 'max_execution_time': 300, 'version': '1.0', 'backend_requirements': {'min_num_qubits': 5}, 'parameters': [{'name': 'iterations', 'description': 'Number of iterations to run. Each iteration generates and runs a random circuit.', 'type': 'int', 'required': True}], 'return_values': [{'name': '-', 'description': \"A string that says 'All done!'.\", 'type': 'string'}], 'interim_results': [{'name': 'iteration', 'description': 'Iteration number.', 'type': 'int'}, {'name': 'counts', 'description': 'Histogram data of the circuit result.', 'type': 'dict'}]}\n"
     ]
    }
   ],
   "source": [
    "program_details = {\n",
    "  \"name\": \"sample-program_John_Stenger\",\n",
    "  \"description\": \"A sample runtime program.\",\n",
    "  \"max_execution_time\": 300,\n",
    "  \"version\": \"1.0\",\n",
    "  \"backend_requirements\": {\"min_num_qubits\":  5},\n",
    "  \"parameters\": [\n",
    "    {\"name\": \"iterations\", \"description\": \"Number of iterations to run. Each iteration generates and runs a random circuit.\", \"type\": \"int\", \"required\": True}\n",
    "  ],\n",
    "  \"return_values\": [\n",
    "    {\"name\": \"-\", \"description\": \"A string that says 'All done!'.\", \"type\": \"string\"}\n",
    "  ],\n",
    "  \"interim_results\": [\n",
    "    {\"name\": \"iteration\", \"description\": \"Iteration number.\", \"type\": \"int\"},\n",
    "    {\"name\": \"counts\", \"description\": \"Histogram data of the circuit result.\", \"type\": \"dict\"}\n",
    "  ]\n",
    "}\n",
    "\n",
    "out_file = open(\"runtime_test_details.json\", \"w\")\n",
    "json.dump(program_details, out_file)\n",
    "out_file.close()\n",
    "\n",
    "in_file = open(\"runtime_test_details.json\",)\n",
    "data = json.load(in_file)\n",
    "in_file.close()\n",
    "\n",
    "print(data)"
   ]
  },
  {
   "cell_type": "code",
   "execution_count": 36,
   "id": "88ad7f33",
   "metadata": {},
   "outputs": [
    {
     "name": "stdout",
     "output_type": "stream",
     "text": [
      "Overwriting runtime_test.py\n"
     ]
    }
   ],
   "source": [
    "%%writefile runtime_test.py\n",
    "\n",
    "\"\"\"A sample runtime program that submits random circuits for user-specified iterations.\"\"\"\n",
    "import random\n",
    "from qiskit import transpile\n",
    "from qiskit.circuit.random import random_circuit\n",
    "\n",
    "\n",
    "\n",
    "def prepare_circuits(backend):\n",
    "    \"\"\"Generate a random circuit.\n",
    "\n",
    "    Args:\n",
    "        backend: Backend used for transpilation.\n",
    "\n",
    "    Returns:\n",
    "        Generated circuit.\n",
    "    \"\"\"\n",
    "    circuit = random_circuit(num_qubits=5, depth=4, measure=True,\n",
    "                             seed=random.randint(0, 1000))\n",
    "    return transpile(circuit, backend)\n",
    "\n",
    "\n",
    "def main(backend, user_messenger, **kwargs):\n",
    "    \"\"\"Main entry point of the program.\n",
    "\n",
    "    Args:\n",
    "        backend: Backend to submit the circuits to.\n",
    "        user_messenger: Used to communicate with the program consumer.\n",
    "        kwargs: User inputs.\n",
    "    \"\"\"\n",
    "    iterations = kwargs.pop('iterations', 5)\n",
    "    for it in range(iterations):\n",
    "        qc = prepare_circuits(backend)\n",
    "        result = backend.run(qc).result()\n",
    "        user_messenger.publish({\"iteration\": it, \"counts\": result.get_counts()})\n",
    "\n",
    "    return \"All done!\""
   ]
  },
  {
   "cell_type": "code",
   "execution_count": 37,
   "id": "ee90a19a",
   "metadata": {},
   "outputs": [
    {
     "name": "stderr",
     "output_type": "stream",
     "text": [
      "ibmqfactory.load_account:WARNING:2021-10-21 12:27:15,008: Credentials are already in use. The existing account in the session will be replaced.\n"
     ]
    }
   ],
   "source": [
    "import os\n",
    "from qiskit import IBMQ\n",
    "\n",
    "IBMQ.load_account()\n",
    "provider = IBMQ.get_provider(hub='ibm-q-afrl', group='air-force-lab', project='quantum-sim')  # Substitute with your provider.\n"
   ]
  },
  {
   "cell_type": "code",
   "execution_count": 38,
   "id": "0b4ff4a1",
   "metadata": {},
   "outputs": [],
   "source": [
    "sample_program_json = os.path.join(os.getcwd(), \"runtime_test_details.json\")\n",
    "sample_program_data = os.path.join(os.getcwd(), \"runtime_test.py\")"
   ]
  },
  {
   "cell_type": "code",
   "execution_count": 44,
   "id": "6645e99d",
   "metadata": {},
   "outputs": [
    {
     "name": "stdout",
     "output_type": "stream",
     "text": [
      "sample-program-john-stenger\n"
     ]
    }
   ],
   "source": [
    "# This will fail if a sample-program already exists.\n",
    "program_id = provider.runtime.upload_program(\n",
    "    data=sample_program_data,\n",
    "    metadata=sample_program_json\n",
    ")\n",
    "print(program_id)"
   ]
  },
  {
   "cell_type": "markdown",
   "id": "7a6c1d4c",
   "metadata": {},
   "source": [
    "## Using and deleting the program"
   ]
  },
  {
   "cell_type": "code",
   "execution_count": 56,
   "id": "8191a3d5",
   "metadata": {},
   "outputs": [
    {
     "name": "stdout",
     "output_type": "stream",
     "text": [
      "sample-program-john-stenger:\n",
      "  Name: sample-program_John_Stenger\n",
      "  Description: A sample runtime program.\n",
      "  Version: 1.0\n",
      "  Creation date: 2021-10-21T16:33:57.000000\n",
      "  Max execution time: 300\n",
      "  Input parameters:\n",
      "    - iterations:\n",
      "      Description: Number of iterations to run. Each iteration generates and runs a random circuit.\n",
      "      Type: int\n",
      "      Required: True\n",
      "  Interim results:\n",
      "    - iteration:\n",
      "      Description: Iteration number.\n",
      "      Type: int\n",
      "    - counts:\n",
      "      Description: Histogram data of the circuit result.\n",
      "      Type: dict\n",
      "  Returns:\n",
      "    - -:\n",
      "      Description: A string that says 'All done!'.\n",
      "      Type: string\n"
     ]
    }
   ],
   "source": [
    "my_program = provider.runtime.program(program_id)\n",
    "\n",
    "print(my_program)"
   ]
  },
  {
   "cell_type": "markdown",
   "id": "61cfe424",
   "metadata": {},
   "source": [
    "### Printing only final results"
   ]
  },
  {
   "cell_type": "code",
   "execution_count": 63,
   "id": "8e647dc8",
   "metadata": {},
   "outputs": [],
   "source": [
    "backend = provider.backend.ibmq_qasm_simulator\n",
    "options = {'backend_name': backend.name()}\n",
    "inputs = {\"iterations\": 3}\n",
    "job = provider.runtime.run(program_id, options=options, inputs=inputs)"
   ]
  },
  {
   "cell_type": "code",
   "execution_count": 64,
   "id": "5a559b12",
   "metadata": {},
   "outputs": [
    {
     "data": {
      "text/plain": [
       "'All done!'"
      ]
     },
     "execution_count": 64,
     "metadata": {},
     "output_type": "execute_result"
    }
   ],
   "source": [
    "job.result()"
   ]
  },
  {
   "cell_type": "markdown",
   "id": "4dc4d84c",
   "metadata": {},
   "source": [
    "### Print intermediate results"
   ]
  },
  {
   "cell_type": "code",
   "execution_count": 67,
   "id": "7c9855dc",
   "metadata": {},
   "outputs": [],
   "source": [
    "interm_results = []\n",
    "def my_callback(job_id, data):\n",
    "    interm_results.append(data)"
   ]
  },
  {
   "cell_type": "code",
   "execution_count": 68,
   "id": "fedced82",
   "metadata": {},
   "outputs": [],
   "source": [
    "job2 = provider.runtime.run(program_id, options=options, inputs=inputs, callback=my_callback)"
   ]
  },
  {
   "cell_type": "code",
   "execution_count": 69,
   "id": "ebcdc8d2",
   "metadata": {},
   "outputs": [
    {
     "data": {
      "text/plain": [
       "'All done!'"
      ]
     },
     "execution_count": 69,
     "metadata": {},
     "output_type": "execute_result"
    }
   ],
   "source": [
    "job2.result()"
   ]
  },
  {
   "cell_type": "code",
   "execution_count": 70,
   "id": "44f4650a",
   "metadata": {},
   "outputs": [
    {
     "data": {
      "text/plain": [
       "[{'iteration': 0, 'counts': {'01000': 201, '00000': 823}},\n",
       " {'iteration': 1, 'counts': {'01100': 135, '01000': 889}},\n",
       " {'iteration': 2, 'counts': {'00000': 137, '00001': 887}}]"
      ]
     },
     "execution_count": 70,
     "metadata": {},
     "output_type": "execute_result"
    }
   ],
   "source": [
    "interm_results"
   ]
  },
  {
   "cell_type": "markdown",
   "id": "9dbcf62c",
   "metadata": {},
   "source": [
    "### Deleting the program"
   ]
  },
  {
   "cell_type": "code",
   "execution_count": 43,
   "id": "ff4ae973",
   "metadata": {},
   "outputs": [],
   "source": [
    "#Delete the program\n",
    "provider.runtime.delete_program(program_id)"
   ]
  },
  {
   "cell_type": "code",
   "execution_count": null,
   "id": "aca59d0d",
   "metadata": {},
   "outputs": [],
   "source": []
  }
 ],
 "metadata": {
  "kernelspec": {
   "display_name": "Python (qiskit_u3.1)",
   "language": "python",
   "name": "qiskit_u3.1"
  },
  "language_info": {
   "codemirror_mode": {
    "name": "ipython",
    "version": 3
   },
   "file_extension": ".py",
   "mimetype": "text/x-python",
   "name": "python",
   "nbconvert_exporter": "python",
   "pygments_lexer": "ipython3",
   "version": "3.9.5"
  },
  "toc": {
   "base_numbering": 1,
   "nav_menu": {},
   "number_sections": true,
   "sideBar": true,
   "skip_h1_title": false,
   "title_cell": "Table of Contents",
   "title_sidebar": "Contents",
   "toc_cell": false,
   "toc_position": {},
   "toc_section_display": true,
   "toc_window_display": false
  }
 },
 "nbformat": 4,
 "nbformat_minor": 5
}
