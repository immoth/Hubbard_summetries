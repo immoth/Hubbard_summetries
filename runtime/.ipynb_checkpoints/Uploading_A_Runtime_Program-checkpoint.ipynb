{
 "cells": [
  {
   "cell_type": "markdown",
   "id": "4807d84a",
   "metadata": {},
   "source": [
    "# Building A Runtime Program"
   ]
  },
  {
   "cell_type": "code",
   "execution_count": 1,
   "id": "319e5032",
   "metadata": {},
   "outputs": [],
   "source": [
    "import sys\n",
    "import json\n",
    "\n",
    "from qiskit.providers.ibmq.runtime import UserMessenger, ProgramBackend"
   ]
  },
  {
   "cell_type": "markdown",
   "id": "683f7a1c",
   "metadata": {},
   "source": [
    "## Skeleten of a runtime program"
   ]
  },
  {
   "cell_type": "code",
   "execution_count": 2,
   "id": "a53f8a8a",
   "metadata": {},
   "outputs": [],
   "source": [
    "def program(backend: ProgramBackend, user_messenger: UserMessenger, **kwargs):\n",
    "    \"\"\"Function that does classical-quantum calculation.\"\"\"\n",
    "    # UserMessenger can be used to publish interim results.\n",
    "    user_messenger.publish(\"This is an interim result.\")\n",
    "    return \"final result\"\n",
    "\n",
    "def main(backend: ProgramBackend, user_messenger: UserMessenger, **kwargs):\n",
    "    \"\"\"This is the main entry point of a runtime program.\n",
    "\n",
    "    The name of this method must not change. It also must have ``backend``\n",
    "    and ``user_messenger`` as the first two positional arguments.\n",
    "\n",
    "    Args:\n",
    "        backend: Backend for the circuits to run on.\n",
    "        user_messenger: Used to communicate with the program user.\n",
    "        kwargs: User inputs.\n",
    "    \"\"\"\n",
    "    # Massage the input if necessary.\n",
    "    result = program(backend, user_messenger, **kwargs)\n",
    "    # Final result can be directly returned\n",
    "    return result"
   ]
  },
  {
   "cell_type": "markdown",
   "id": "1b09e6de",
   "metadata": {},
   "source": [
    "## A simple runtime program"
   ]
  },
  {
   "cell_type": "code",
   "execution_count": 3,
   "id": "ab056c95",
   "metadata": {},
   "outputs": [],
   "source": [
    "\"\"\"A sample runtime program that submits random circuits for user-specified iterations.\"\"\"\n",
    "import random\n",
    "from qiskit import transpile\n",
    "from qiskit.circuit.random import random_circuit\n",
    "\n",
    "\n",
    "\n",
    "def prepare_circuits(backend):\n",
    "    \"\"\"Generate a random circuit.\n",
    "\n",
    "    Args:\n",
    "        backend: Backend used for transpilation.\n",
    "\n",
    "    Returns:\n",
    "        Generated circuit.\n",
    "    \"\"\"\n",
    "    circuit = random_circuit(num_qubits=5, depth=4, measure=True,\n",
    "                             seed=random.randint(0, 1000))\n",
    "    return transpile(circuit, backend)\n",
    "\n",
    "\n",
    "def main(backend, user_messenger, **kwargs):\n",
    "    \"\"\"Main entry point of the program.\n",
    "\n",
    "    Args:\n",
    "        backend: Backend to submit the circuits to.\n",
    "        user_messenger: Used to communicate with the program consumer.\n",
    "        kwargs: User inputs.\n",
    "    \"\"\"\n",
    "    iterations = kwargs.pop('iterations', 5)\n",
    "    for it in range(iterations):\n",
    "        qc = prepare_circuits(backend)\n",
    "        result = backend.run(qc).result()\n",
    "        user_messenger.publish({\"iteration\": it, \"counts\": result.get_counts()})\n",
    "\n",
    "    return \"All done!\""
   ]
  },
  {
   "cell_type": "markdown",
   "id": "abcbf9a0",
   "metadata": {},
   "source": [
    "### Test the program"
   ]
  },
  {
   "cell_type": "code",
   "execution_count": 4,
   "id": "a8a8c864",
   "metadata": {},
   "outputs": [],
   "source": [
    "from qiskit import Aer\n",
    "from qiskit.providers.ibmq.runtime import UserMessenger\n",
    "\n",
    "backend = Aer.get_backend('qasm_simulator')\n",
    "user_messenger = UserMessenger()"
   ]
  },
  {
   "cell_type": "code",
   "execution_count": 5,
   "id": "d5ca6af9",
   "metadata": {},
   "outputs": [
    {
     "name": "stdout",
     "output_type": "stream",
     "text": [
      "{\"iteration\": 0, \"counts\": {\"00100\": 64, \"00110\": 25, \"00010\": 250, \"00000\": 685}}\n",
      "{\"iteration\": 1, \"counts\": {\"01101\": 20, \"01100\": 79, \"01001\": 28, \"00001\": 109, \"00100\": 407, \"00000\": 381}}\n",
      "{\"iteration\": 2, \"counts\": {\"00000\": 477, \"10000\": 547}}\n"
     ]
    },
    {
     "data": {
      "text/plain": [
       "'All done!'"
      ]
     },
     "execution_count": 5,
     "metadata": {},
     "output_type": "execute_result"
    }
   ],
   "source": [
    "inputs = {\"iterations\": 3}\n",
    "\n",
    "main(backend, user_messenger, **inputs)"
   ]
  },
  {
   "cell_type": "markdown",
   "id": "a6d2e880",
   "metadata": {},
   "source": [
    "### Uploading the program"
   ]
  },
  {
   "cell_type": "code",
   "execution_count": 6,
   "id": "cde93e23",
   "metadata": {},
   "outputs": [
    {
     "name": "stdout",
     "output_type": "stream",
     "text": [
      "{'name': 'sample-program_John_Stenger', 'description': 'A sample runtime program.', 'max_execution_time': 300, 'version': '1.0', 'backend_requirements': {'min_num_qubits': 5}, 'parameters': [{'name': 'iterations', 'description': 'Number of iterations to run. Each iteration generates and runs a random circuit.', 'type': 'int', 'required': True}], 'return_values': [{'name': '-', 'description': \"A string that says 'All done!'.\", 'type': 'string'}], 'interim_results': [{'name': 'iteration', 'description': 'Iteration number.', 'type': 'int'}, {'name': 'counts', 'description': 'Histogram data of the circuit result.', 'type': 'dict'}]}\n"
     ]
    }
   ],
   "source": [
    "program_details = {\n",
    "  \"name\": \"sample-program_John_Stenger\",\n",
    "  \"description\": \"A sample runtime program.\",\n",
    "  \"max_execution_time\": 300,\n",
    "  \"version\": \"1.0\",\n",
    "  \"backend_requirements\": {\"min_num_qubits\":  5},\n",
    "  \"parameters\": [\n",
    "    {\"name\": \"iterations\", \"description\": \"Number of iterations to run. Each iteration generates and runs a random circuit.\", \"type\": \"int\", \"required\": True}\n",
    "  ],\n",
    "  \"return_values\": [\n",
    "    {\"name\": \"-\", \"description\": \"A string that says 'All done!'.\", \"type\": \"string\"}\n",
    "  ],\n",
    "  \"interim_results\": [\n",
    "    {\"name\": \"iteration\", \"description\": \"Iteration number.\", \"type\": \"int\"},\n",
    "    {\"name\": \"counts\", \"description\": \"Histogram data of the circuit result.\", \"type\": \"dict\"}\n",
    "  ]\n",
    "}\n",
    "\n",
    "out_file = open(\"runtime_test_details.json\", \"w\")\n",
    "json.dump(program_details, out_file)\n",
    "out_file.close()\n",
    "\n",
    "in_file = open(\"runtime_test_details.json\",)\n",
    "data = json.load(in_file)\n",
    "in_file.close()\n",
    "\n",
    "print(data)"
   ]
  },
  {
   "cell_type": "code",
   "execution_count": 7,
   "id": "7e4fd252",
   "metadata": {},
   "outputs": [
    {
     "name": "stdout",
     "output_type": "stream",
     "text": [
      "Overwriting runtime_test.py\n"
     ]
    }
   ],
   "source": [
    "%%writefile runtime_test.py\n",
    "\n",
    "\"\"\"A sample runtime program that submits random circuits for user-specified iterations.\"\"\"\n",
    "import random\n",
    "from qiskit import transpile\n",
    "from qiskit.circuit.random import random_circuit\n",
    "\n",
    "\n",
    "\n",
    "def prepare_circuits(backend):\n",
    "    \"\"\"Generate a random circuit.\n",
    "\n",
    "    Args:\n",
    "        backend: Backend used for transpilation.\n",
    "\n",
    "    Returns:\n",
    "        Generated circuit.\n",
    "    \"\"\"\n",
    "    circuit = random_circuit(num_qubits=5, depth=4, measure=True,\n",
    "                             seed=random.randint(0, 1000))\n",
    "    return transpile(circuit, backend)\n",
    "\n",
    "\n",
    "def main(backend, user_messenger, **kwargs):\n",
    "    \"\"\"Main entry point of the program.\n",
    "\n",
    "    Args:\n",
    "        backend: Backend to submit the circuits to.\n",
    "        user_messenger: Used to communicate with the program consumer.\n",
    "        kwargs: User inputs.\n",
    "    \"\"\"\n",
    "    iterations = kwargs.pop('iterations', 5)\n",
    "    for it in range(iterations):\n",
    "        qc = prepare_circuits(backend)\n",
    "        result = backend.run(qc).result()\n",
    "        user_messenger.publish({\"iteration\": it, \"counts\": result.get_counts()})\n",
    "\n",
    "    return \"All done!\""
   ]
  },
  {
   "cell_type": "code",
   "execution_count": 8,
   "id": "6722714b",
   "metadata": {},
   "outputs": [],
   "source": [
    "import os\n",
    "from qiskit import IBMQ\n",
    "\n",
    "IBMQ.load_account()\n",
    "provider = IBMQ.get_provider(hub='ibm-q-afrl', group='air-force-lab', project='quantum-sim')  # Substitute with your provider.\n"
   ]
  },
  {
   "cell_type": "code",
   "execution_count": 9,
   "id": "b6a633d9",
   "metadata": {},
   "outputs": [],
   "source": [
    "sample_program_json = os.path.join(os.getcwd(), \"runtime_test_details.json\")\n",
    "sample_program_data = os.path.join(os.getcwd(), \"runtime_test.py\")"
   ]
  },
  {
   "cell_type": "code",
   "execution_count": 10,
   "id": "d64cc85e",
   "metadata": {},
   "outputs": [
    {
     "ename": "QiskitRuntimeError",
     "evalue": "'Failed to create program: \\'400 Client Error: Bad Request for url: https://runtime-us-east.quantum-computing.ibm.com/programs. {\"errors\":[{\"code\":\"bad_request\",\"message\":\"readObjectStart: expect { or n, but found -, error found in #1 byte of ...|--f90f0b729|..., bigger context ...|--f90f0b7290c41ac382ad6e2c8047f260\\\\\\\\r\\\\\\\\nContent-Disposi|...\",\"more_info\":\"https://cloud.ibm.com/apidocs/quantum-computing#error-handling\"}],\"trace\":\"c93frv55an6agrl0c6e0\"}\\''",
     "output_type": "error",
     "traceback": [
      "\u001b[0;31m---------------------------------------------------------------------------\u001b[0m",
      "\u001b[0;31mQiskitRuntimeError\u001b[0m                        Traceback (most recent call last)",
      "\u001b[0;32m<ipython-input-10-a65765bdfb62>\u001b[0m in \u001b[0;36m<module>\u001b[0;34m\u001b[0m\n\u001b[1;32m      1\u001b[0m \u001b[0;31m# This will fail if a sample-program already exists.\u001b[0m\u001b[0;34m\u001b[0m\u001b[0;34m\u001b[0m\u001b[0;34m\u001b[0m\u001b[0m\n\u001b[0;32m----> 2\u001b[0;31m program_id = provider.runtime.upload_program(\n\u001b[0m\u001b[1;32m      3\u001b[0m     \u001b[0mdata\u001b[0m\u001b[0;34m=\u001b[0m\u001b[0msample_program_data\u001b[0m\u001b[0;34m,\u001b[0m\u001b[0;34m\u001b[0m\u001b[0;34m\u001b[0m\u001b[0m\n\u001b[1;32m      4\u001b[0m     \u001b[0mmetadata\u001b[0m\u001b[0;34m=\u001b[0m\u001b[0msample_program_json\u001b[0m\u001b[0;34m\u001b[0m\u001b[0;34m\u001b[0m\u001b[0m\n\u001b[1;32m      5\u001b[0m )\n",
      "\u001b[0;32m/opt/miniconda3/envs/qiskit_u3.1/lib/python3.9/site-packages/qiskit/providers/ibmq/runtime/ibm_runtime_service.py\u001b[0m in \u001b[0;36mupload_program\u001b[0;34m(self, data, metadata, name, is_public, max_execution_time, description, version, backend_requirements, parameters, return_values, interim_results)\u001b[0m\n\u001b[1;32m    339\u001b[0m                 raise IBMQNotAuthorizedError(\n\u001b[1;32m    340\u001b[0m                     \"You are not authorized to upload programs.\") from None\n\u001b[0;32m--> 341\u001b[0;31m             \u001b[0;32mraise\u001b[0m \u001b[0mQiskitRuntimeError\u001b[0m\u001b[0;34m(\u001b[0m\u001b[0;34mf\"Failed to create program: {ex}\"\u001b[0m\u001b[0;34m)\u001b[0m \u001b[0;32mfrom\u001b[0m \u001b[0;32mNone\u001b[0m\u001b[0;34m\u001b[0m\u001b[0;34m\u001b[0m\u001b[0m\n\u001b[0m\u001b[1;32m    342\u001b[0m         \u001b[0;32mreturn\u001b[0m \u001b[0mresponse\u001b[0m\u001b[0;34m[\u001b[0m\u001b[0;34m'id'\u001b[0m\u001b[0;34m]\u001b[0m\u001b[0;34m\u001b[0m\u001b[0;34m\u001b[0m\u001b[0m\n\u001b[1;32m    343\u001b[0m \u001b[0;34m\u001b[0m\u001b[0m\n",
      "\u001b[0;31mQiskitRuntimeError\u001b[0m: 'Failed to create program: \\'400 Client Error: Bad Request for url: https://runtime-us-east.quantum-computing.ibm.com/programs. {\"errors\":[{\"code\":\"bad_request\",\"message\":\"readObjectStart: expect { or n, but found -, error found in #1 byte of ...|--f90f0b729|..., bigger context ...|--f90f0b7290c41ac382ad6e2c8047f260\\\\\\\\r\\\\\\\\nContent-Disposi|...\",\"more_info\":\"https://cloud.ibm.com/apidocs/quantum-computing#error-handling\"}],\"trace\":\"c93frv55an6agrl0c6e0\"}\\''"
     ]
    }
   ],
   "source": [
    "# This will fail if a sample-program already exists.\n",
    "program_id = provider.runtime.upload_program(\n",
    "    data=sample_program_data,\n",
    "    metadata=sample_program_json\n",
    ")\n",
    "print(program_id)"
   ]
  },
  {
   "cell_type": "markdown",
   "id": "7bc2684e",
   "metadata": {},
   "source": [
    "## Using and deleting the program"
   ]
  },
  {
   "cell_type": "code",
   "execution_count": 17,
   "id": "1ab5e2fc",
   "metadata": {},
   "outputs": [],
   "source": [
    "program_id = 'sample-program-john-stenger'"
   ]
  },
  {
   "cell_type": "code",
   "execution_count": 18,
   "id": "48a68771",
   "metadata": {},
   "outputs": [
    {
     "ename": "RuntimeProgramNotFound",
     "evalue": "'Program not found: 404 Client Error: Not Found for url: https://runtime-us-east.quantum-computing.ibm.com/programs/sample-program-john-stenger. {\"errors\":[{\"code\":\"not_found\",\"message\":\"program not found\",\"more_info\":\"https://cloud.ibm.com/apidocs/quantum-computing#error-handling\"}],\"trace\":\"c93fm3l5an6agrl0ahc0\"}'",
     "output_type": "error",
     "traceback": [
      "\u001b[0;31m---------------------------------------------------------------------------\u001b[0m",
      "\u001b[0;31mRuntimeProgramNotFound\u001b[0m                    Traceback (most recent call last)",
      "\u001b[0;32m<ipython-input-18-92fb65995665>\u001b[0m in \u001b[0;36m<module>\u001b[0;34m\u001b[0m\n\u001b[0;32m----> 1\u001b[0;31m \u001b[0mmy_program\u001b[0m \u001b[0;34m=\u001b[0m \u001b[0mprovider\u001b[0m\u001b[0;34m.\u001b[0m\u001b[0mruntime\u001b[0m\u001b[0;34m.\u001b[0m\u001b[0mprogram\u001b[0m\u001b[0;34m(\u001b[0m\u001b[0mprogram_id\u001b[0m\u001b[0;34m)\u001b[0m\u001b[0;34m\u001b[0m\u001b[0;34m\u001b[0m\u001b[0m\n\u001b[0m\u001b[1;32m      2\u001b[0m \u001b[0;34m\u001b[0m\u001b[0m\n\u001b[1;32m      3\u001b[0m \u001b[0mprint\u001b[0m\u001b[0;34m(\u001b[0m\u001b[0mmy_program\u001b[0m\u001b[0;34m)\u001b[0m\u001b[0;34m\u001b[0m\u001b[0;34m\u001b[0m\u001b[0m\n",
      "\u001b[0;32m/opt/miniconda3/envs/qiskit_u3.1/lib/python3.9/site-packages/qiskit/providers/ibmq/runtime/ibm_runtime_service.py\u001b[0m in \u001b[0;36mprogram\u001b[0;34m(self, program_id, refresh)\u001b[0m\n\u001b[1;32m    162\u001b[0m             \u001b[0;32mexcept\u001b[0m \u001b[0mRequestsApiError\u001b[0m \u001b[0;32mas\u001b[0m \u001b[0mex\u001b[0m\u001b[0;34m:\u001b[0m\u001b[0;34m\u001b[0m\u001b[0;34m\u001b[0m\u001b[0m\n\u001b[1;32m    163\u001b[0m                 \u001b[0;32mif\u001b[0m \u001b[0mex\u001b[0m\u001b[0;34m.\u001b[0m\u001b[0mstatus_code\u001b[0m \u001b[0;34m==\u001b[0m \u001b[0;36m404\u001b[0m\u001b[0;34m:\u001b[0m\u001b[0;34m\u001b[0m\u001b[0;34m\u001b[0m\u001b[0m\n\u001b[0;32m--> 164\u001b[0;31m                     \u001b[0;32mraise\u001b[0m \u001b[0mRuntimeProgramNotFound\u001b[0m\u001b[0;34m(\u001b[0m\u001b[0;34mf\"Program not found: {ex.message}\"\u001b[0m\u001b[0;34m)\u001b[0m \u001b[0;32mfrom\u001b[0m \u001b[0;32mNone\u001b[0m\u001b[0;34m\u001b[0m\u001b[0;34m\u001b[0m\u001b[0m\n\u001b[0m\u001b[1;32m    165\u001b[0m                 \u001b[0;32mraise\u001b[0m \u001b[0mQiskitRuntimeError\u001b[0m\u001b[0;34m(\u001b[0m\u001b[0;34mf\"Failed to get program: {ex}\"\u001b[0m\u001b[0;34m)\u001b[0m \u001b[0;32mfrom\u001b[0m \u001b[0;32mNone\u001b[0m\u001b[0;34m\u001b[0m\u001b[0;34m\u001b[0m\u001b[0m\n\u001b[1;32m    166\u001b[0m \u001b[0;34m\u001b[0m\u001b[0m\n",
      "\u001b[0;31mRuntimeProgramNotFound\u001b[0m: 'Program not found: 404 Client Error: Not Found for url: https://runtime-us-east.quantum-computing.ibm.com/programs/sample-program-john-stenger. {\"errors\":[{\"code\":\"not_found\",\"message\":\"program not found\",\"more_info\":\"https://cloud.ibm.com/apidocs/quantum-computing#error-handling\"}],\"trace\":\"c93fm3l5an6agrl0ahc0\"}'"
     ]
    }
   ],
   "source": [
    "my_program = provider.runtime.program(program_id)\n",
    "\n",
    "print(my_program)"
   ]
  },
  {
   "cell_type": "markdown",
   "id": "1b3a2a31",
   "metadata": {},
   "source": [
    "### Printing only final results"
   ]
  },
  {
   "cell_type": "code",
   "execution_count": 16,
   "id": "c183960e",
   "metadata": {},
   "outputs": [
    {
     "ename": "RequestsApiError",
     "evalue": "'400 Client Error: Bad Request for url: https://runtime-us-east.quantum-computing.ibm.com/jobs. {\"errors\":[{\"code\":\"bad_request\",\"message\":\"models.ProgramRunParams.Params: ReadMapCB: expect { or n, but found [, error found in #10 byte of ...|params\\\\\": [\\\\\"{\\\\\\\\\\\\\"iterat|..., bigger context ...|quantum-sim\\\\\", \\\\\"backend\\\\\": \\\\\"ibmq_belem\\\\\", \\\\\"params\\\\\": [\\\\\"{\\\\\\\\\\\\\"iterations\\\\\\\\\\\\\": 3}\\\\\"], \\\\\"runtime\\\\\": \\\\\"\\\\\"}|...\",\"more_info\":\"https://cloud.ibm.com/apidocs/quantum-computing#error-handling\"}],\"trace\":\"c93fls4ulsov5g3unbd0\"}'",
     "output_type": "error",
     "traceback": [
      "\u001b[0;31m---------------------------------------------------------------------------\u001b[0m",
      "\u001b[0;31mHTTPError\u001b[0m                                 Traceback (most recent call last)",
      "\u001b[0;32m/opt/miniconda3/envs/qiskit_u3.1/lib/python3.9/site-packages/qiskit/providers/ibmq/api/session.py\u001b[0m in \u001b[0;36mrequest\u001b[0;34m(self, method, url, bare, **kwargs)\u001b[0m\n\u001b[1;32m    277\u001b[0m             \u001b[0mresponse\u001b[0m \u001b[0;34m=\u001b[0m \u001b[0msuper\u001b[0m\u001b[0;34m(\u001b[0m\u001b[0;34m)\u001b[0m\u001b[0;34m.\u001b[0m\u001b[0mrequest\u001b[0m\u001b[0;34m(\u001b[0m\u001b[0mmethod\u001b[0m\u001b[0;34m,\u001b[0m \u001b[0mfinal_url\u001b[0m\u001b[0;34m,\u001b[0m \u001b[0mheaders\u001b[0m\u001b[0;34m=\u001b[0m\u001b[0mheaders\u001b[0m\u001b[0;34m,\u001b[0m \u001b[0;34m**\u001b[0m\u001b[0mkwargs\u001b[0m\u001b[0;34m)\u001b[0m\u001b[0;34m\u001b[0m\u001b[0;34m\u001b[0m\u001b[0m\n\u001b[0;32m--> 278\u001b[0;31m             \u001b[0mresponse\u001b[0m\u001b[0;34m.\u001b[0m\u001b[0mraise_for_status\u001b[0m\u001b[0;34m(\u001b[0m\u001b[0;34m)\u001b[0m\u001b[0;34m\u001b[0m\u001b[0;34m\u001b[0m\u001b[0m\n\u001b[0m\u001b[1;32m    279\u001b[0m         \u001b[0;32mexcept\u001b[0m \u001b[0mRequestException\u001b[0m \u001b[0;32mas\u001b[0m \u001b[0mex\u001b[0m\u001b[0;34m:\u001b[0m\u001b[0;34m\u001b[0m\u001b[0;34m\u001b[0m\u001b[0m\n",
      "\u001b[0;32m/opt/miniconda3/envs/qiskit_u3.1/lib/python3.9/site-packages/requests/models.py\u001b[0m in \u001b[0;36mraise_for_status\u001b[0;34m(self)\u001b[0m\n\u001b[1;32m    942\u001b[0m         \u001b[0;32mif\u001b[0m \u001b[0mhttp_error_msg\u001b[0m\u001b[0;34m:\u001b[0m\u001b[0;34m\u001b[0m\u001b[0;34m\u001b[0m\u001b[0m\n\u001b[0;32m--> 943\u001b[0;31m             \u001b[0;32mraise\u001b[0m \u001b[0mHTTPError\u001b[0m\u001b[0;34m(\u001b[0m\u001b[0mhttp_error_msg\u001b[0m\u001b[0;34m,\u001b[0m \u001b[0mresponse\u001b[0m\u001b[0;34m=\u001b[0m\u001b[0mself\u001b[0m\u001b[0;34m)\u001b[0m\u001b[0;34m\u001b[0m\u001b[0;34m\u001b[0m\u001b[0m\n\u001b[0m\u001b[1;32m    944\u001b[0m \u001b[0;34m\u001b[0m\u001b[0m\n",
      "\u001b[0;31mHTTPError\u001b[0m: 400 Client Error: Bad Request for url: https://runtime-us-east.quantum-computing.ibm.com/jobs",
      "\nThe above exception was the direct cause of the following exception:\n",
      "\u001b[0;31mRequestsApiError\u001b[0m                          Traceback (most recent call last)",
      "\u001b[0;32m<ipython-input-16-4969597a55ee>\u001b[0m in \u001b[0;36m<module>\u001b[0;34m\u001b[0m\n\u001b[1;32m      5\u001b[0m \u001b[0moptions\u001b[0m \u001b[0;34m=\u001b[0m \u001b[0;34m{\u001b[0m\u001b[0;34m'backend_name'\u001b[0m\u001b[0;34m:\u001b[0m \u001b[0mbackend\u001b[0m\u001b[0;34m.\u001b[0m\u001b[0mname\u001b[0m\u001b[0;34m(\u001b[0m\u001b[0;34m)\u001b[0m\u001b[0;34m}\u001b[0m\u001b[0;34m\u001b[0m\u001b[0;34m\u001b[0m\u001b[0m\n\u001b[1;32m      6\u001b[0m \u001b[0minputs\u001b[0m \u001b[0;34m=\u001b[0m \u001b[0;34m{\u001b[0m\u001b[0;34m\"iterations\"\u001b[0m\u001b[0;34m:\u001b[0m \u001b[0;36m3\u001b[0m\u001b[0;34m}\u001b[0m\u001b[0;34m\u001b[0m\u001b[0;34m\u001b[0m\u001b[0m\n\u001b[0;32m----> 7\u001b[0;31m \u001b[0mjob\u001b[0m \u001b[0;34m=\u001b[0m \u001b[0mprovider\u001b[0m\u001b[0;34m.\u001b[0m\u001b[0mruntime\u001b[0m\u001b[0;34m.\u001b[0m\u001b[0mrun\u001b[0m\u001b[0;34m(\u001b[0m\u001b[0mprogram_id\u001b[0m\u001b[0;34m,\u001b[0m \u001b[0moptions\u001b[0m\u001b[0;34m=\u001b[0m\u001b[0moptions\u001b[0m\u001b[0;34m,\u001b[0m \u001b[0minputs\u001b[0m\u001b[0;34m=\u001b[0m\u001b[0minputs\u001b[0m\u001b[0;34m)\u001b[0m\u001b[0;34m\u001b[0m\u001b[0;34m\u001b[0m\u001b[0m\n\u001b[0m",
      "\u001b[0;32m/opt/miniconda3/envs/qiskit_u3.1/lib/python3.9/site-packages/qiskit/providers/ibmq/runtime/ibm_runtime_service.py\u001b[0m in \u001b[0;36mrun\u001b[0;34m(self, program_id, options, inputs, callback, result_decoder, image)\u001b[0m\n\u001b[1;32m    244\u001b[0m         \u001b[0mparams_str\u001b[0m \u001b[0;34m=\u001b[0m \u001b[0mjson\u001b[0m\u001b[0;34m.\u001b[0m\u001b[0mdumps\u001b[0m\u001b[0;34m(\u001b[0m\u001b[0minputs\u001b[0m\u001b[0;34m,\u001b[0m \u001b[0mcls\u001b[0m\u001b[0;34m=\u001b[0m\u001b[0mRuntimeEncoder\u001b[0m\u001b[0;34m)\u001b[0m\u001b[0;34m\u001b[0m\u001b[0;34m\u001b[0m\u001b[0m\n\u001b[1;32m    245\u001b[0m         \u001b[0mresult_decoder\u001b[0m \u001b[0;34m=\u001b[0m \u001b[0mresult_decoder\u001b[0m \u001b[0;32mor\u001b[0m \u001b[0mResultDecoder\u001b[0m\u001b[0;34m\u001b[0m\u001b[0;34m\u001b[0m\u001b[0m\n\u001b[0;32m--> 246\u001b[0;31m         response = self._api_client.program_run(program_id=program_id,\n\u001b[0m\u001b[1;32m    247\u001b[0m                                                 \u001b[0mcredentials\u001b[0m\u001b[0;34m=\u001b[0m\u001b[0mself\u001b[0m\u001b[0;34m.\u001b[0m\u001b[0m_provider\u001b[0m\u001b[0;34m.\u001b[0m\u001b[0mcredentials\u001b[0m\u001b[0;34m,\u001b[0m\u001b[0;34m\u001b[0m\u001b[0;34m\u001b[0m\u001b[0m\n\u001b[1;32m    248\u001b[0m                                                 \u001b[0mbackend_name\u001b[0m\u001b[0;34m=\u001b[0m\u001b[0mbackend_name\u001b[0m\u001b[0;34m,\u001b[0m\u001b[0;34m\u001b[0m\u001b[0;34m\u001b[0m\u001b[0m\n",
      "\u001b[0;32m/opt/miniconda3/envs/qiskit_u3.1/lib/python3.9/site-packages/qiskit/providers/ibmq/api/clients/runtime.py\u001b[0m in \u001b[0;36mprogram_run\u001b[0;34m(self, program_id, credentials, backend_name, params, image)\u001b[0m\n\u001b[1;32m    143\u001b[0m             \u001b[0mJSON\u001b[0m \u001b[0mresponse\u001b[0m\u001b[0;34m.\u001b[0m\u001b[0;34m\u001b[0m\u001b[0;34m\u001b[0m\u001b[0m\n\u001b[1;32m    144\u001b[0m         \"\"\"\n\u001b[0;32m--> 145\u001b[0;31m         return self.api.program_run(program_id=program_id, hub=credentials.hub,\n\u001b[0m\u001b[1;32m    146\u001b[0m                                     \u001b[0mgroup\u001b[0m\u001b[0;34m=\u001b[0m\u001b[0mcredentials\u001b[0m\u001b[0;34m.\u001b[0m\u001b[0mgroup\u001b[0m\u001b[0;34m,\u001b[0m \u001b[0mproject\u001b[0m\u001b[0;34m=\u001b[0m\u001b[0mcredentials\u001b[0m\u001b[0;34m.\u001b[0m\u001b[0mproject\u001b[0m\u001b[0;34m,\u001b[0m\u001b[0;34m\u001b[0m\u001b[0;34m\u001b[0m\u001b[0m\n\u001b[1;32m    147\u001b[0m                                     \u001b[0mbackend_name\u001b[0m\u001b[0;34m=\u001b[0m\u001b[0mbackend_name\u001b[0m\u001b[0;34m,\u001b[0m \u001b[0mparams\u001b[0m\u001b[0;34m=\u001b[0m\u001b[0mparams\u001b[0m\u001b[0;34m,\u001b[0m\u001b[0;34m\u001b[0m\u001b[0;34m\u001b[0m\u001b[0m\n",
      "\u001b[0;32m/opt/miniconda3/envs/qiskit_u3.1/lib/python3.9/site-packages/qiskit/providers/ibmq/api/rest/runtime.py\u001b[0m in \u001b[0;36mprogram_run\u001b[0;34m(self, program_id, hub, group, project, backend_name, params, image)\u001b[0m\n\u001b[1;32m    155\u001b[0m         }\n\u001b[1;32m    156\u001b[0m         \u001b[0mdata\u001b[0m \u001b[0;34m=\u001b[0m \u001b[0mjson\u001b[0m\u001b[0;34m.\u001b[0m\u001b[0mdumps\u001b[0m\u001b[0;34m(\u001b[0m\u001b[0mpayload\u001b[0m\u001b[0;34m)\u001b[0m\u001b[0;34m\u001b[0m\u001b[0;34m\u001b[0m\u001b[0m\n\u001b[0;32m--> 157\u001b[0;31m         \u001b[0;32mreturn\u001b[0m \u001b[0mself\u001b[0m\u001b[0;34m.\u001b[0m\u001b[0msession\u001b[0m\u001b[0;34m.\u001b[0m\u001b[0mpost\u001b[0m\u001b[0;34m(\u001b[0m\u001b[0murl\u001b[0m\u001b[0;34m,\u001b[0m \u001b[0mdata\u001b[0m\u001b[0;34m=\u001b[0m\u001b[0mdata\u001b[0m\u001b[0;34m)\u001b[0m\u001b[0;34m.\u001b[0m\u001b[0mjson\u001b[0m\u001b[0;34m(\u001b[0m\u001b[0;34m)\u001b[0m\u001b[0;34m\u001b[0m\u001b[0;34m\u001b[0m\u001b[0m\n\u001b[0m\u001b[1;32m    158\u001b[0m \u001b[0;34m\u001b[0m\u001b[0m\n\u001b[1;32m    159\u001b[0m     \u001b[0;32mdef\u001b[0m \u001b[0mjobs_get\u001b[0m\u001b[0;34m(\u001b[0m\u001b[0mself\u001b[0m\u001b[0;34m,\u001b[0m \u001b[0mlimit\u001b[0m\u001b[0;34m:\u001b[0m \u001b[0mint\u001b[0m \u001b[0;34m=\u001b[0m \u001b[0;32mNone\u001b[0m\u001b[0;34m,\u001b[0m \u001b[0mskip\u001b[0m\u001b[0;34m:\u001b[0m \u001b[0mint\u001b[0m \u001b[0;34m=\u001b[0m \u001b[0;32mNone\u001b[0m\u001b[0;34m,\u001b[0m \u001b[0mpending\u001b[0m\u001b[0;34m:\u001b[0m \u001b[0mbool\u001b[0m \u001b[0;34m=\u001b[0m \u001b[0;32mNone\u001b[0m\u001b[0;34m)\u001b[0m \u001b[0;34m->\u001b[0m \u001b[0mDict\u001b[0m\u001b[0;34m:\u001b[0m\u001b[0;34m\u001b[0m\u001b[0;34m\u001b[0m\u001b[0m\n",
      "\u001b[0;32m/opt/miniconda3/envs/qiskit_u3.1/lib/python3.9/site-packages/requests/sessions.py\u001b[0m in \u001b[0;36mpost\u001b[0;34m(self, url, data, json, **kwargs)\u001b[0m\n\u001b[1;32m    588\u001b[0m         \"\"\"\n\u001b[1;32m    589\u001b[0m \u001b[0;34m\u001b[0m\u001b[0m\n\u001b[0;32m--> 590\u001b[0;31m         \u001b[0;32mreturn\u001b[0m \u001b[0mself\u001b[0m\u001b[0;34m.\u001b[0m\u001b[0mrequest\u001b[0m\u001b[0;34m(\u001b[0m\u001b[0;34m'POST'\u001b[0m\u001b[0;34m,\u001b[0m \u001b[0murl\u001b[0m\u001b[0;34m,\u001b[0m \u001b[0mdata\u001b[0m\u001b[0;34m=\u001b[0m\u001b[0mdata\u001b[0m\u001b[0;34m,\u001b[0m \u001b[0mjson\u001b[0m\u001b[0;34m=\u001b[0m\u001b[0mjson\u001b[0m\u001b[0;34m,\u001b[0m \u001b[0;34m**\u001b[0m\u001b[0mkwargs\u001b[0m\u001b[0;34m)\u001b[0m\u001b[0;34m\u001b[0m\u001b[0;34m\u001b[0m\u001b[0m\n\u001b[0m\u001b[1;32m    591\u001b[0m \u001b[0;34m\u001b[0m\u001b[0m\n\u001b[1;32m    592\u001b[0m     \u001b[0;32mdef\u001b[0m \u001b[0mput\u001b[0m\u001b[0;34m(\u001b[0m\u001b[0mself\u001b[0m\u001b[0;34m,\u001b[0m \u001b[0murl\u001b[0m\u001b[0;34m,\u001b[0m \u001b[0mdata\u001b[0m\u001b[0;34m=\u001b[0m\u001b[0;32mNone\u001b[0m\u001b[0;34m,\u001b[0m \u001b[0;34m**\u001b[0m\u001b[0mkwargs\u001b[0m\u001b[0;34m)\u001b[0m\u001b[0;34m:\u001b[0m\u001b[0;34m\u001b[0m\u001b[0;34m\u001b[0m\u001b[0m\n",
      "\u001b[0;32m/opt/miniconda3/envs/qiskit_u3.1/lib/python3.9/site-packages/qiskit/providers/ibmq/api/session.py\u001b[0m in \u001b[0;36mrequest\u001b[0;34m(self, method, url, bare, **kwargs)\u001b[0m\n\u001b[1;32m    298\u001b[0m                 \u001b[0mself\u001b[0m\u001b[0;34m.\u001b[0m\u001b[0m_modify_chained_exception_messages\u001b[0m\u001b[0;34m(\u001b[0m\u001b[0mex\u001b[0m\u001b[0;34m)\u001b[0m\u001b[0;34m\u001b[0m\u001b[0;34m\u001b[0m\u001b[0m\n\u001b[1;32m    299\u001b[0m \u001b[0;34m\u001b[0m\u001b[0m\n\u001b[0;32m--> 300\u001b[0;31m             \u001b[0;32mraise\u001b[0m \u001b[0mRequestsApiError\u001b[0m\u001b[0;34m(\u001b[0m\u001b[0mmessage\u001b[0m\u001b[0;34m,\u001b[0m \u001b[0mstatus_code\u001b[0m\u001b[0;34m)\u001b[0m \u001b[0;32mfrom\u001b[0m \u001b[0mex\u001b[0m\u001b[0;34m\u001b[0m\u001b[0;34m\u001b[0m\u001b[0m\n\u001b[0m\u001b[1;32m    301\u001b[0m \u001b[0;34m\u001b[0m\u001b[0m\n\u001b[1;32m    302\u001b[0m         \u001b[0;32mreturn\u001b[0m \u001b[0mresponse\u001b[0m\u001b[0;34m\u001b[0m\u001b[0;34m\u001b[0m\u001b[0m\n",
      "\u001b[0;31mRequestsApiError\u001b[0m: '400 Client Error: Bad Request for url: https://runtime-us-east.quantum-computing.ibm.com/jobs. {\"errors\":[{\"code\":\"bad_request\",\"message\":\"models.ProgramRunParams.Params: ReadMapCB: expect { or n, but found [, error found in #10 byte of ...|params\\\\\": [\\\\\"{\\\\\\\\\\\\\"iterat|..., bigger context ...|quantum-sim\\\\\", \\\\\"backend\\\\\": \\\\\"ibmq_belem\\\\\", \\\\\"params\\\\\": [\\\\\"{\\\\\\\\\\\\\"iterations\\\\\\\\\\\\\": 3}\\\\\"], \\\\\"runtime\\\\\": \\\\\"\\\\\"}|...\",\"more_info\":\"https://cloud.ibm.com/apidocs/quantum-computing#error-handling\"}],\"trace\":\"c93fls4ulsov5g3unbd0\"}'"
     ]
    }
   ],
   "source": [
    "#backend = provider.backend.ibmq_qasm_simulator\n",
    "#backend = provider.get_backend('ibmq_bogota')\n",
    "#backend = provider.get_backend('ibmq_manila')\n",
    "backend = provider.get_backend('ibmq_belem')\n",
    "options = {'backend_name': backend.name()}\n",
    "inputs = {\"iterations\": 3}\n",
    "job = provider.runtime.run(program_id, options=options, inputs=inputs)"
   ]
  },
  {
   "cell_type": "code",
   "execution_count": 10,
   "id": "890b1b1a",
   "metadata": {},
   "outputs": [
    {
     "data": {
      "text/plain": [
       "'All done!'"
      ]
     },
     "execution_count": 10,
     "metadata": {},
     "output_type": "execute_result"
    }
   ],
   "source": [
    "job.result()"
   ]
  },
  {
   "cell_type": "markdown",
   "id": "55bd6ef5",
   "metadata": {},
   "source": [
    "### Print intermediate results"
   ]
  },
  {
   "cell_type": "code",
   "execution_count": 14,
   "id": "f34c87f7",
   "metadata": {},
   "outputs": [],
   "source": [
    "interm_results = []\n",
    "def my_callback(job_id, data):\n",
    "    interm_results.append(data)"
   ]
  },
  {
   "cell_type": "code",
   "execution_count": 15,
   "id": "0e807632",
   "metadata": {},
   "outputs": [],
   "source": [
    "job2 = provider.runtime.run(program_id, options=options, inputs=inputs, callback=my_callback)"
   ]
  },
  {
   "cell_type": "code",
   "execution_count": 16,
   "id": "ae02c387",
   "metadata": {},
   "outputs": [
    {
     "data": {
      "text/plain": [
       "'All done!'"
      ]
     },
     "execution_count": 16,
     "metadata": {},
     "output_type": "execute_result"
    }
   ],
   "source": [
    "job2.result()"
   ]
  },
  {
   "cell_type": "code",
   "execution_count": 17,
   "id": "a4d0b1c3",
   "metadata": {},
   "outputs": [
    {
     "data": {
      "text/plain": [
       "[{'iteration': 0,\n",
       "  'counts': {'00110': 6, '00010': 8, '10110': 502, '10010': 508}},\n",
       " {'iteration': 1,\n",
       "  'counts': {'11001': 2,\n",
       "   '10101': 2,\n",
       "   '01001': 1,\n",
       "   '00100': 7,\n",
       "   '11000': 17,\n",
       "   '11101': 43,\n",
       "   '00001': 18,\n",
       "   '10001': 43,\n",
       "   '00000': 113,\n",
       "   '01101': 22,\n",
       "   '01100': 124,\n",
       "   '01000': 4,\n",
       "   '10100': 23,\n",
       "   '11100': 303,\n",
       "   '10000': 302}},\n",
       " {'iteration': 2, 'counts': {'00001': 491, '00000': 533}}]"
      ]
     },
     "execution_count": 17,
     "metadata": {},
     "output_type": "execute_result"
    }
   ],
   "source": [
    "interm_results"
   ]
  },
  {
   "cell_type": "markdown",
   "id": "d2d6f16c",
   "metadata": {},
   "source": [
    "### Deleting the program"
   ]
  },
  {
   "cell_type": "code",
   "execution_count": 15,
   "id": "4a2ed144",
   "metadata": {},
   "outputs": [],
   "source": [
    "#Delete the program\n",
    "provider.runtime.delete_program(program_id)"
   ]
  },
  {
   "cell_type": "code",
   "execution_count": null,
   "id": "34010295",
   "metadata": {},
   "outputs": [],
   "source": []
  }
 ],
 "metadata": {
  "kernelspec": {
   "display_name": "Python (qiskit_u3.1)",
   "language": "python",
   "name": "qiskit_u3.1"
  },
  "language_info": {
   "codemirror_mode": {
    "name": "ipython",
    "version": 3
   },
   "file_extension": ".py",
   "mimetype": "text/x-python",
   "name": "python",
   "nbconvert_exporter": "python",
   "pygments_lexer": "ipython3",
   "version": "3.9.5"
  },
  "toc": {
   "base_numbering": 1,
   "nav_menu": {},
   "number_sections": true,
   "sideBar": true,
   "skip_h1_title": false,
   "title_cell": "Table of Contents",
   "title_sidebar": "Contents",
   "toc_cell": false,
   "toc_position": {},
   "toc_section_display": true,
   "toc_window_display": false
  }
 },
 "nbformat": 4,
 "nbformat_minor": 5
}
