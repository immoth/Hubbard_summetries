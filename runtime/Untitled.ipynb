{
 "cells": [
  {
   "cell_type": "code",
   "execution_count": 4,
   "id": "caa19e3b",
   "metadata": {},
   "outputs": [],
   "source": [
    "from qiskit_ibm_runtime import IBMRuntimeService\n",
    "\n",
    "IBMRuntimeService.save_account(channel=\"ibm_quantum\",token='0a776be8cce79a3d3f2994c6842afe9f223f63704ab0c7b5a6eab8b4ac1b83ffd08f6f4a4f2219287bd9f87d65f4145c4f286502011e197bdba4c8dfa2f28995')\n"
   ]
  },
  {
   "cell_type": "code",
   "execution_count": 8,
   "id": "fda88946",
   "metadata": {},
   "outputs": [
    {
     "ename": "ImportError",
     "evalue": "cannot import name 'UserMessenger' from 'qiskit_ibm_runtime' (/opt/miniconda3/envs/qiskit_3.5/lib/python3.10/site-packages/qiskit_ibm_runtime/__init__.py)",
     "output_type": "error",
     "traceback": [
      "\u001b[0;31m---------------------------------------------------------------------------\u001b[0m",
      "\u001b[0;31mImportError\u001b[0m                               Traceback (most recent call last)",
      "Input \u001b[0;32mIn [8]\u001b[0m, in \u001b[0;36m<cell line: 4>\u001b[0;34m()\u001b[0m\n\u001b[1;32m      1\u001b[0m \u001b[38;5;28;01mimport\u001b[39;00m \u001b[38;5;21;01msys\u001b[39;00m\n\u001b[1;32m      2\u001b[0m \u001b[38;5;28;01mimport\u001b[39;00m \u001b[38;5;21;01mjson\u001b[39;00m\n\u001b[0;32m----> 4\u001b[0m \u001b[38;5;28;01mfrom\u001b[39;00m \u001b[38;5;21;01mqiskit_ibm_runtime\u001b[39;00m \u001b[38;5;28;01mimport\u001b[39;00m UserMessenger, ProgramBackend\n\u001b[1;32m      7\u001b[0m \u001b[38;5;28;01mdef\u001b[39;00m \u001b[38;5;21mprogram\u001b[39m(backend: ProgramBackend, user_messenger: UserMessenger, \u001b[38;5;241m*\u001b[39m\u001b[38;5;241m*\u001b[39mkwargs):\n\u001b[1;32m      8\u001b[0m     \u001b[38;5;124;03m\"\"\"Function that does classical-quantum calculation.\"\"\"\u001b[39;00m\n",
      "\u001b[0;31mImportError\u001b[0m: cannot import name 'UserMessenger' from 'qiskit_ibm_runtime' (/opt/miniconda3/envs/qiskit_3.5/lib/python3.10/site-packages/qiskit_ibm_runtime/__init__.py)"
     ]
    }
   ],
   "source": [
    "import sys\n",
    "import json\n",
    "\n",
    "from qiskit_ibm_runtime import UserMessenger, ProgramBackend\n",
    "\n",
    "\n",
    "def program(backend: ProgramBackend, user_messenger: UserMessenger, **kwargs):\n",
    "    \"\"\"Function that does classical-quantum calculation.\"\"\"\n",
    "    # UserMessenger can be used to publish interim results.\n",
    "    user_messenger.publish(\"This is an interim result.\")\n",
    "    return \"final result\"\n",
    "\n",
    "\n",
    "def main(backend: ProgramBackend, user_messenger: UserMessenger, **kwargs):\n",
    "    \"\"\"This is the main entry point of a runtime program.\n",
    "\n",
    "    The name of this method must not change. It also must have ``backend``\n",
    "    and ``user_messenger`` as the first two positional arguments.\n",
    "\n",
    "    Args:\n",
    "        backend: Backend for the circuits to run on.\n",
    "        user_messenger: Used to communicate with the program user.\n",
    "        kwargs: User inputs.\n",
    "    \"\"\"\n",
    "    # Massage the input if necessary.\n",
    "    result = program(backend, user_messenger, **kwargs)\n",
    "    # Final result can be directly returned\n",
    "    return result"
   ]
  },
  {
   "cell_type": "code",
   "execution_count": null,
   "id": "2454979d",
   "metadata": {},
   "outputs": [],
   "source": []
  }
 ],
 "metadata": {
  "kernelspec": {
   "display_name": "qiskit_3.5",
   "language": "python",
   "name": "qiskit_3.5"
  },
  "language_info": {
   "codemirror_mode": {
    "name": "ipython",
    "version": 3
   },
   "file_extension": ".py",
   "mimetype": "text/x-python",
   "name": "python",
   "nbconvert_exporter": "python",
   "pygments_lexer": "ipython3",
   "version": "3.10.4"
  },
  "toc": {
   "base_numbering": 1,
   "nav_menu": {},
   "number_sections": true,
   "sideBar": true,
   "skip_h1_title": false,
   "title_cell": "Table of Contents",
   "title_sidebar": "Contents",
   "toc_cell": false,
   "toc_position": {},
   "toc_section_display": true,
   "toc_window_display": false
  }
 },
 "nbformat": 4,
 "nbformat_minor": 5
}
