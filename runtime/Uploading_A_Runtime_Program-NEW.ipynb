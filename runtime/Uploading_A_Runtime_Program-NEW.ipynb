{
 "cells": [
  {
   "cell_type": "markdown",
   "id": "4807d84a",
   "metadata": {},
   "source": [
    "# Building A Runtime Program"
   ]
  },
  {
   "cell_type": "code",
   "execution_count": 1,
   "id": "319e5032",
   "metadata": {},
   "outputs": [],
   "source": [
    "import sys\n",
    "import json\n",
    "\n",
    "from qiskit.providers.ibmq.runtime import UserMessenger, ProgramBackend"
   ]
  },
  {
   "cell_type": "markdown",
   "id": "683f7a1c",
   "metadata": {},
   "source": [
    "## Skeleten of a runtime program"
   ]
  },
  {
   "cell_type": "code",
   "execution_count": 2,
   "id": "a53f8a8a",
   "metadata": {},
   "outputs": [],
   "source": [
    "def program(backend: ProgramBackend, user_messenger: UserMessenger, **kwargs):\n",
    "    \"\"\"Function that does classical-quantum calculation.\"\"\"\n",
    "    # UserMessenger can be used to publish interim results.\n",
    "    user_messenger.publish(\"This is an interim result.\")\n",
    "    return \"final result\"\n",
    "\n",
    "def main(backend: ProgramBackend, user_messenger: UserMessenger, **kwargs):\n",
    "    \"\"\"This is the main entry point of a runtime program.\n",
    "\n",
    "    The name of this method must not change. It also must have ``backend``\n",
    "    and ``user_messenger`` as the first two positional arguments.\n",
    "\n",
    "    Args:\n",
    "        backend: Backend for the circuits to run on.\n",
    "        user_messenger: Used to communicate with the program user.\n",
    "        kwargs: User inputs.\n",
    "    \"\"\"\n",
    "    # Massage the input if necessary.\n",
    "    result = program(backend, user_messenger, **kwargs)\n",
    "    # Final result can be directly returned\n",
    "    return result"
   ]
  },
  {
   "cell_type": "markdown",
   "id": "1b09e6de",
   "metadata": {},
   "source": [
    "## A simple runtime program"
   ]
  },
  {
   "cell_type": "code",
   "execution_count": 3,
   "id": "ab056c95",
   "metadata": {},
   "outputs": [],
   "source": [
    "\"\"\"A sample runtime program that submits random circuits for user-specified iterations.\"\"\"\n",
    "import random\n",
    "from qiskit import transpile\n",
    "from qiskit.circuit.random import random_circuit\n",
    "\n",
    "\n",
    "\n",
    "def prepare_circuits(backend):\n",
    "    \"\"\"Generate a random circuit.\n",
    "\n",
    "    Args:\n",
    "        backend: Backend used for transpilation.\n",
    "\n",
    "    Returns:\n",
    "        Generated circuit.\n",
    "    \"\"\"\n",
    "    circuit = random_circuit(num_qubits=5, depth=4, measure=True,\n",
    "                             seed=random.randint(0, 1000))\n",
    "    return transpile(circuit, backend)\n",
    "\n",
    "\n",
    "def main(backend, user_messenger, **kwargs):\n",
    "    \"\"\"Main entry point of the program.\n",
    "\n",
    "    Args:\n",
    "        backend: Backend to submit the circuits to.\n",
    "        user_messenger: Used to communicate with the program consumer.\n",
    "        kwargs: User inputs.\n",
    "    \"\"\"\n",
    "    iterations = kwargs.pop('iterations', 5)\n",
    "    for it in range(iterations):\n",
    "        qc = prepare_circuits(backend)\n",
    "        result = backend.run(qc).result()\n",
    "        user_messenger.publish({\"iteration\": it, \"counts\": result.get_counts()})\n",
    "\n",
    "    return \"All done!\""
   ]
  },
  {
   "cell_type": "markdown",
   "id": "abcbf9a0",
   "metadata": {},
   "source": [
    "### Test the program"
   ]
  },
  {
   "cell_type": "code",
   "execution_count": 4,
   "id": "a8a8c864",
   "metadata": {},
   "outputs": [],
   "source": [
    "from qiskit import Aer\n",
    "from qiskit.providers.ibmq.runtime import UserMessenger\n",
    "\n",
    "backend = Aer.get_backend('qasm_simulator')\n",
    "user_messenger = UserMessenger()"
   ]
  },
  {
   "cell_type": "code",
   "execution_count": 5,
   "id": "d5ca6af9",
   "metadata": {},
   "outputs": [
    {
     "name": "stdout",
     "output_type": "stream",
     "text": [
      "{\"iteration\": 0, \"counts\": {\"00010\": 525, \"00000\": 499}}\n",
      "{\"iteration\": 1, \"counts\": {\"01010\": 235, \"00010\": 285, \"00000\": 504}}\n",
      "{\"iteration\": 2, \"counts\": {\"00101\": 238, \"00000\": 261, \"00100\": 270, \"00001\": 255}}\n"
     ]
    },
    {
     "data": {
      "text/plain": [
       "'All done!'"
      ]
     },
     "execution_count": 5,
     "metadata": {},
     "output_type": "execute_result"
    }
   ],
   "source": [
    "inputs = {\"iterations\": 3}\n",
    "\n",
    "main(backend, user_messenger, **inputs)"
   ]
  },
  {
   "cell_type": "markdown",
   "id": "a6d2e880",
   "metadata": {},
   "source": [
    "### Uploading the program"
   ]
  },
  {
   "cell_type": "code",
   "execution_count": 6,
   "id": "cde93e23",
   "metadata": {},
   "outputs": [
    {
     "name": "stdout",
     "output_type": "stream",
     "text": [
      "{'name': 'sample-program_John_Stenger', 'description': 'A sample runtime program.', 'max_execution_time': 300, 'version': '1.0', 'backend_requirements': {'min_num_qubits': 5}, 'parameters': [{'name': 'iterations', 'description': 'Number of iterations to run. Each iteration generates and runs a random circuit.', 'type': 'int', 'required': True}], 'return_values': [{'name': '-', 'description': \"A string that says 'All done!'.\", 'type': 'string'}], 'interim_results': [{'name': 'iteration', 'description': 'Iteration number.', 'type': 'int'}, {'name': 'counts', 'description': 'Histogram data of the circuit result.', 'type': 'dict'}]}\n"
     ]
    }
   ],
   "source": [
    "program_details = {\n",
    "  \"name\": \"sample-program_John_Stenger\",\n",
    "  \"description\": \"A sample runtime program.\",\n",
    "  \"max_execution_time\": 300,\n",
    "  \"version\": \"1.0\",\n",
    "  \"backend_requirements\": {\"min_num_qubits\":  5},\n",
    "  \"parameters\": [\n",
    "    {\"name\": \"iterations\", \"description\": \"Number of iterations to run. Each iteration generates and runs a random circuit.\", \"type\": \"int\", \"required\": True}\n",
    "  ],\n",
    "  \"return_values\": [\n",
    "    {\"name\": \"-\", \"description\": \"A string that says 'All done!'.\", \"type\": \"string\"}\n",
    "  ],\n",
    "  \"interim_results\": [\n",
    "    {\"name\": \"iteration\", \"description\": \"Iteration number.\", \"type\": \"int\"},\n",
    "    {\"name\": \"counts\", \"description\": \"Histogram data of the circuit result.\", \"type\": \"dict\"}\n",
    "  ]\n",
    "}\n",
    "\n",
    "out_file = open(\"runtime_test_details.json\", \"w\")\n",
    "json.dump(program_details, out_file)\n",
    "out_file.close()\n",
    "\n",
    "in_file = open(\"runtime_test_details.json\",)\n",
    "data = json.load(in_file)\n",
    "in_file.close()\n",
    "\n",
    "print(data)"
   ]
  },
  {
   "cell_type": "code",
   "execution_count": 7,
   "id": "7e4fd252",
   "metadata": {},
   "outputs": [
    {
     "name": "stdout",
     "output_type": "stream",
     "text": [
      "Overwriting runtime_test.py\n"
     ]
    }
   ],
   "source": [
    "%%writefile runtime_test.py\n",
    "\n",
    "\"\"\"A sample runtime program that submits random circuits for user-specified iterations.\"\"\"\n",
    "import random\n",
    "from qiskit import transpile\n",
    "from qiskit.circuit.random import random_circuit\n",
    "\n",
    "\n",
    "\n",
    "def prepare_circuits(backend):\n",
    "    \"\"\"Generate a random circuit.\n",
    "\n",
    "    Args:\n",
    "        backend: Backend used for transpilation.\n",
    "\n",
    "    Returns:\n",
    "        Generated circuit.\n",
    "    \"\"\"\n",
    "    circuit = random_circuit(num_qubits=5, depth=4, measure=True,\n",
    "                             seed=random.randint(0, 1000))\n",
    "    return transpile(circuit, backend)\n",
    "\n",
    "\n",
    "def main(backend, user_messenger, **kwargs):\n",
    "    \"\"\"Main entry point of the program.\n",
    "\n",
    "    Args:\n",
    "        backend: Backend to submit the circuits to.\n",
    "        user_messenger: Used to communicate with the program consumer.\n",
    "        kwargs: User inputs.\n",
    "    \"\"\"\n",
    "    iterations = kwargs.pop('iterations', 5)\n",
    "    for it in range(iterations):\n",
    "        qc = prepare_circuits(backend)\n",
    "        result = backend.run(qc).result()\n",
    "        user_messenger.publish({\"iteration\": it, \"counts\": result.get_counts()})\n",
    "\n",
    "    return \"All done!\""
   ]
  },
  {
   "cell_type": "code",
   "execution_count": 8,
   "id": "dcfdf7ad",
   "metadata": {},
   "outputs": [
    {
     "name": "stdout",
     "output_type": "stream",
     "text": [
      "sample-program-john-stenger-ReQoVEWRb8\n"
     ]
    }
   ],
   "source": [
    "############# NEW!! ##################\n",
    "\n",
    "import os\n",
    "from qiskit_ibm_runtime import IBMRuntimeService\n",
    "\n",
    "service = IBMRuntimeService()\n",
    "\n",
    "sample_program_json = os.path.join(os.getcwd(), \"runtime_test_details.json\")\n",
    "sample_program_data = os.path.join(os.getcwd(), \"runtime_test.py\")\n",
    "\n",
    "program_id = service.upload_program(data=sample_program_data, metadata=sample_program_json)\n",
    "print(program_id)\n",
    "\n",
    "######################################"
   ]
  },
  {
   "cell_type": "markdown",
   "id": "7bc2684e",
   "metadata": {},
   "source": [
    "## Using and deleting the program"
   ]
  },
  {
   "cell_type": "code",
   "execution_count": 11,
   "id": "f727c452",
   "metadata": {},
   "outputs": [],
   "source": [
    "import os\n",
    "from qiskit import IBMQ\n",
    "\n",
    "IBMQ.load_account()\n",
    "provider = IBMQ.get_provider(hub='ibm-q-afrl', group='air-force-lab', project='quantum-sim')  # Substitute with your provider.\n"
   ]
  },
  {
   "cell_type": "code",
   "execution_count": 14,
   "id": "1ab5e2fc",
   "metadata": {},
   "outputs": [],
   "source": [
    "program_id = 'sample-program-john-stenger-ReQoVEWRb8'"
   ]
  },
  {
   "cell_type": "code",
   "execution_count": 15,
   "id": "48a68771",
   "metadata": {},
   "outputs": [
    {
     "name": "stdout",
     "output_type": "stream",
     "text": [
      "sample-program-john-stenger-ReQoVEWRb8:\n",
      "  Name: sample-program_John_Stenger\n",
      "  Description: A sample runtime program.\n",
      "  Creation date: 2022-04-01T14:18:12.950389Z\n",
      "  Update date: 2022-04-01T14:18:12.950389Z\n",
      "  Max execution time: 300\n",
      "  Input parameters:\n",
      "    none\n",
      "  Interim results:\n",
      "    none\n",
      "  Returns:\n",
      "    none\n"
     ]
    }
   ],
   "source": [
    "my_program = provider.runtime.program(program_id)\n",
    "\n",
    "print(my_program)"
   ]
  },
  {
   "cell_type": "markdown",
   "id": "1b3a2a31",
   "metadata": {},
   "source": [
    "### Printing only final results"
   ]
  },
  {
   "cell_type": "code",
   "execution_count": 24,
   "id": "c183960e",
   "metadata": {},
   "outputs": [],
   "source": [
    "backend = provider.backend.ibmq_qasm_simulator\n",
    "#backend = provider.get_backend('ibmq_bogota')\n",
    "#backend = provider.get_backend('ibmq_manila')\n",
    "#backend = provider.get_backend('ibmq_belem')\n",
    "options = {'backend_name': backend.name()}\n",
    "inputs = {\"iterations\": 3}\n",
    "job = provider.runtime.run(program_id, options=options, inputs=inputs)"
   ]
  },
  {
   "cell_type": "code",
   "execution_count": 25,
   "id": "890b1b1a",
   "metadata": {},
   "outputs": [
    {
     "data": {
      "text/plain": [
       "'All done!'"
      ]
     },
     "execution_count": 25,
     "metadata": {},
     "output_type": "execute_result"
    }
   ],
   "source": [
    "job.result()"
   ]
  },
  {
   "cell_type": "markdown",
   "id": "55bd6ef5",
   "metadata": {},
   "source": [
    "### Print intermediate results"
   ]
  },
  {
   "cell_type": "code",
   "execution_count": 18,
   "id": "f34c87f7",
   "metadata": {},
   "outputs": [],
   "source": [
    "interm_results = []\n",
    "def my_callback(job_id, data):\n",
    "    interm_results.append(data)"
   ]
  },
  {
   "cell_type": "code",
   "execution_count": 19,
   "id": "0e807632",
   "metadata": {},
   "outputs": [],
   "source": [
    "job2 = provider.runtime.run(program_id, options=options, inputs=inputs, callback=my_callback)"
   ]
  },
  {
   "cell_type": "code",
   "execution_count": 20,
   "id": "ae02c387",
   "metadata": {},
   "outputs": [
    {
     "data": {
      "text/plain": [
       "'All done!'"
      ]
     },
     "execution_count": 20,
     "metadata": {},
     "output_type": "execute_result"
    }
   ],
   "source": [
    "job2.result()"
   ]
  },
  {
   "cell_type": "code",
   "execution_count": 21,
   "id": "a4d0b1c3",
   "metadata": {},
   "outputs": [
    {
     "data": {
      "text/plain": [
       "[{'iteration': 0,\n",
       "  'counts': {'00000': 403,\n",
       "   '00001': 106,\n",
       "   '10000': 88,\n",
       "   '10001': 112,\n",
       "   '10010': 142,\n",
       "   '10011': 112,\n",
       "   '10100': 124,\n",
       "   '10101': 102,\n",
       "   '10110': 91,\n",
       "   '10111': 97,\n",
       "   '11000': 41,\n",
       "   '11001': 43,\n",
       "   '11010': 57,\n",
       "   '11011': 50,\n",
       "   '11100': 31,\n",
       "   '11101': 44,\n",
       "   '11110': 49,\n",
       "   '11111': 40,\n",
       "   '00010': 676,\n",
       "   '00011': 113,\n",
       "   '00100': 284,\n",
       "   '00101': 116,\n",
       "   '00110': 450,\n",
       "   '00111': 86,\n",
       "   '01000': 100,\n",
       "   '01001': 48,\n",
       "   '01010': 132,\n",
       "   '01011': 38,\n",
       "   '01100': 60,\n",
       "   '01101': 45,\n",
       "   '01110': 80,\n",
       "   '01111': 40}},\n",
       " {'iteration': 1,\n",
       "  'counts': {'00000': 120,\n",
       "   '00001': 84,\n",
       "   '10000': 177,\n",
       "   '10001': 93,\n",
       "   '10010': 64,\n",
       "   '10011': 96,\n",
       "   '10100': 174,\n",
       "   '10101': 43,\n",
       "   '10110': 53,\n",
       "   '10111': 39,\n",
       "   '11000': 822,\n",
       "   '11001': 140,\n",
       "   '11010': 189,\n",
       "   '11011': 100,\n",
       "   '11100': 587,\n",
       "   '11101': 72,\n",
       "   '11110': 176,\n",
       "   '11111': 41,\n",
       "   '00010': 43,\n",
       "   '00011': 49,\n",
       "   '00100': 101,\n",
       "   '00101': 27,\n",
       "   '00110': 40,\n",
       "   '00111': 30,\n",
       "   '01000': 222,\n",
       "   '01001': 74,\n",
       "   '01010': 62,\n",
       "   '01011': 42,\n",
       "   '01100': 126,\n",
       "   '01101': 30,\n",
       "   '01110': 51,\n",
       "   '01111': 33}},\n",
       " {'iteration': 2,\n",
       "  'counts': {'00000': 155,\n",
       "   '00001': 435,\n",
       "   '10000': 648,\n",
       "   '10001': 80,\n",
       "   '10010': 539,\n",
       "   '10011': 63,\n",
       "   '10100': 60,\n",
       "   '10101': 44,\n",
       "   '10110': 61,\n",
       "   '10111': 17,\n",
       "   '11000': 155,\n",
       "   '11001': 95,\n",
       "   '11010': 143,\n",
       "   '11011': 69,\n",
       "   '11100': 57,\n",
       "   '11101': 26,\n",
       "   '11110': 41,\n",
       "   '11111': 17,\n",
       "   '00010': 148,\n",
       "   '00011': 383,\n",
       "   '00100': 54,\n",
       "   '00101': 56,\n",
       "   '00110': 37,\n",
       "   '00111': 64,\n",
       "   '01000': 124,\n",
       "   '01001': 108,\n",
       "   '01010': 101,\n",
       "   '01011': 91,\n",
       "   '01100': 22,\n",
       "   '01101': 36,\n",
       "   '01110': 38,\n",
       "   '01111': 33}},\n",
       " 'All done!']"
      ]
     },
     "execution_count": 21,
     "metadata": {},
     "output_type": "execute_result"
    }
   ],
   "source": [
    "interm_results"
   ]
  },
  {
   "cell_type": "markdown",
   "id": "d2d6f16c",
   "metadata": {},
   "source": [
    "### Deleting the program"
   ]
  },
  {
   "cell_type": "code",
   "execution_count": 15,
   "id": "4a2ed144",
   "metadata": {},
   "outputs": [],
   "source": [
    "#Delete the program\n",
    "provider.runtime.delete_program(program_id)"
   ]
  },
  {
   "cell_type": "code",
   "execution_count": null,
   "id": "34010295",
   "metadata": {},
   "outputs": [],
   "source": []
  }
 ],
 "metadata": {
  "kernelspec": {
   "display_name": "qiskit_3.5",
   "language": "python",
   "name": "qiskit_3.5"
  },
  "language_info": {
   "codemirror_mode": {
    "name": "ipython",
    "version": 3
   },
   "file_extension": ".py",
   "mimetype": "text/x-python",
   "name": "python",
   "nbconvert_exporter": "python",
   "pygments_lexer": "ipython3",
   "version": "3.10.4"
  },
  "toc": {
   "base_numbering": 1,
   "nav_menu": {},
   "number_sections": true,
   "sideBar": true,
   "skip_h1_title": false,
   "title_cell": "Table of Contents",
   "title_sidebar": "Contents",
   "toc_cell": false,
   "toc_position": {},
   "toc_section_display": true,
   "toc_window_display": false
  }
 },
 "nbformat": 4,
 "nbformat_minor": 5
}
