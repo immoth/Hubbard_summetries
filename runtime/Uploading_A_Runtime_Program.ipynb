{
 "cells": [
  {
   "cell_type": "markdown",
   "id": "4807d84a",
   "metadata": {},
   "source": [
    "# Building A Runtime Program"
   ]
  },
  {
   "cell_type": "code",
   "execution_count": 3,
   "id": "319e5032",
   "metadata": {},
   "outputs": [],
   "source": [
    "import sys\n",
    "import json\n",
    "\n",
    "from qiskit.providers.ibmq.runtime import UserMessenger, ProgramBackend"
   ]
  },
  {
   "cell_type": "markdown",
   "id": "683f7a1c",
   "metadata": {},
   "source": [
    "## Skeleten of a runtime program"
   ]
  },
  {
   "cell_type": "code",
   "execution_count": 6,
   "id": "a53f8a8a",
   "metadata": {},
   "outputs": [],
   "source": [
    "def program(backend: ProgramBackend, user_messenger: UserMessenger, **kwargs):\n",
    "    \"\"\"Function that does classical-quantum calculation.\"\"\"\n",
    "    # UserMessenger can be used to publish interim results.\n",
    "    user_messenger.publish(\"This is an interim result.\")\n",
    "    return \"final result\"\n",
    "\n",
    "def main(backend: ProgramBackend, user_messenger: UserMessenger, **kwargs):\n",
    "    \"\"\"This is the main entry point of a runtime program.\n",
    "\n",
    "    The name of this method must not change. It also must have ``backend``\n",
    "    and ``user_messenger`` as the first two positional arguments.\n",
    "\n",
    "    Args:\n",
    "        backend: Backend for the circuits to run on.\n",
    "        user_messenger: Used to communicate with the program user.\n",
    "        kwargs: User inputs.\n",
    "    \"\"\"\n",
    "    # Massage the input if necessary.\n",
    "    result = program(backend, user_messenger, **kwargs)\n",
    "    # Final result can be directly returned\n",
    "    return result"
   ]
  },
  {
   "cell_type": "markdown",
   "id": "1b09e6de",
   "metadata": {},
   "source": [
    "## A simple runtime program"
   ]
  },
  {
   "cell_type": "code",
   "execution_count": 7,
   "id": "ab056c95",
   "metadata": {},
   "outputs": [],
   "source": [
    "\"\"\"A sample runtime program that submits random circuits for user-specified iterations.\"\"\"\n",
    "import random\n",
    "from qiskit import transpile\n",
    "from qiskit.circuit.random import random_circuit\n",
    "\n",
    "\n",
    "\n",
    "def prepare_circuits(backend):\n",
    "    \"\"\"Generate a random circuit.\n",
    "\n",
    "    Args:\n",
    "        backend: Backend used for transpilation.\n",
    "\n",
    "    Returns:\n",
    "        Generated circuit.\n",
    "    \"\"\"\n",
    "    circuit = random_circuit(num_qubits=5, depth=4, measure=True,\n",
    "                             seed=random.randint(0, 1000))\n",
    "    return transpile(circuit, backend)\n",
    "\n",
    "\n",
    "def main(backend, user_messenger, **kwargs):\n",
    "    \"\"\"Main entry point of the program.\n",
    "\n",
    "    Args:\n",
    "        backend: Backend to submit the circuits to.\n",
    "        user_messenger: Used to communicate with the program consumer.\n",
    "        kwargs: User inputs.\n",
    "    \"\"\"\n",
    "    iterations = kwargs.pop('iterations', 5)\n",
    "    for it in range(iterations):\n",
    "        qc = prepare_circuits(backend)\n",
    "        result = backend.run(qc).result()\n",
    "        user_messenger.publish({\"iteration\": it, \"counts\": result.get_counts()})\n",
    "\n",
    "    return \"All done!\""
   ]
  },
  {
   "cell_type": "markdown",
   "id": "abcbf9a0",
   "metadata": {},
   "source": [
    "### Test the program"
   ]
  },
  {
   "cell_type": "code",
   "execution_count": 8,
   "id": "a8a8c864",
   "metadata": {},
   "outputs": [],
   "source": [
    "from qiskit import Aer\n",
    "from qiskit.providers.ibmq.runtime import UserMessenger\n",
    "\n",
    "backend = Aer.get_backend('qasm_simulator')\n",
    "user_messenger = UserMessenger()"
   ]
  },
  {
   "cell_type": "code",
   "execution_count": 9,
   "id": "d5ca6af9",
   "metadata": {},
   "outputs": [
    {
     "name": "stdout",
     "output_type": "stream",
     "text": [
      "{\"iteration\": 0, \"counts\": {\"00110\": 4, \"01101\": 1020}}\n",
      "{\"iteration\": 1, \"counts\": {\"00000\": 1024}}\n",
      "{\"iteration\": 2, \"counts\": {\"01000\": 19, \"01100\": 1005}}\n"
     ]
    },
    {
     "data": {
      "text/plain": [
       "'All done!'"
      ]
     },
     "execution_count": 9,
     "metadata": {},
     "output_type": "execute_result"
    }
   ],
   "source": [
    "inputs = {\"iterations\": 3}\n",
    "\n",
    "main(backend, user_messenger, **inputs)"
   ]
  },
  {
   "cell_type": "markdown",
   "id": "a6d2e880",
   "metadata": {},
   "source": [
    "### Uploading the program"
   ]
  },
  {
   "cell_type": "code",
   "execution_count": 10,
   "id": "cde93e23",
   "metadata": {},
   "outputs": [
    {
     "name": "stdout",
     "output_type": "stream",
     "text": [
      "{'name': 'sample-program_John_Stenger', 'description': 'A sample runtime program.', 'max_execution_time': 300, 'version': '1.0', 'backend_requirements': {'min_num_qubits': 5}, 'parameters': [{'name': 'iterations', 'description': 'Number of iterations to run. Each iteration generates and runs a random circuit.', 'type': 'int', 'required': True}], 'return_values': [{'name': '-', 'description': \"A string that says 'All done!'.\", 'type': 'string'}], 'interim_results': [{'name': 'iteration', 'description': 'Iteration number.', 'type': 'int'}, {'name': 'counts', 'description': 'Histogram data of the circuit result.', 'type': 'dict'}]}\n"
     ]
    }
   ],
   "source": [
    "program_details = {\n",
    "  \"name\": \"sample-program_John_Stenger\",\n",
    "  \"description\": \"A sample runtime program.\",\n",
    "  \"max_execution_time\": 300,\n",
    "  \"version\": \"1.0\",\n",
    "  \"backend_requirements\": {\"min_num_qubits\":  5},\n",
    "  \"parameters\": [\n",
    "    {\"name\": \"iterations\", \"description\": \"Number of iterations to run. Each iteration generates and runs a random circuit.\", \"type\": \"int\", \"required\": True}\n",
    "  ],\n",
    "  \"return_values\": [\n",
    "    {\"name\": \"-\", \"description\": \"A string that says 'All done!'.\", \"type\": \"string\"}\n",
    "  ],\n",
    "  \"interim_results\": [\n",
    "    {\"name\": \"iteration\", \"description\": \"Iteration number.\", \"type\": \"int\"},\n",
    "    {\"name\": \"counts\", \"description\": \"Histogram data of the circuit result.\", \"type\": \"dict\"}\n",
    "  ]\n",
    "}\n",
    "\n",
    "out_file = open(\"runtime_test_details.json\", \"w\")\n",
    "json.dump(program_details, out_file)\n",
    "out_file.close()\n",
    "\n",
    "in_file = open(\"runtime_test_details.json\",)\n",
    "data = json.load(in_file)\n",
    "in_file.close()\n",
    "\n",
    "print(data)"
   ]
  },
  {
   "cell_type": "code",
   "execution_count": 11,
   "id": "7e4fd252",
   "metadata": {},
   "outputs": [
    {
     "name": "stdout",
     "output_type": "stream",
     "text": [
      "Overwriting runtime_test.py\n"
     ]
    }
   ],
   "source": [
    "%%writefile runtime_test.py\n",
    "\n",
    "\"\"\"A sample runtime program that submits random circuits for user-specified iterations.\"\"\"\n",
    "import random\n",
    "from qiskit import transpile\n",
    "from qiskit.circuit.random import random_circuit\n",
    "\n",
    "\n",
    "\n",
    "def prepare_circuits(backend):\n",
    "    \"\"\"Generate a random circuit.\n",
    "\n",
    "    Args:\n",
    "        backend: Backend used for transpilation.\n",
    "\n",
    "    Returns:\n",
    "        Generated circuit.\n",
    "    \"\"\"\n",
    "    circuit = random_circuit(num_qubits=5, depth=4, measure=True,\n",
    "                             seed=random.randint(0, 1000))\n",
    "    return transpile(circuit, backend)\n",
    "\n",
    "\n",
    "def main(backend, user_messenger, **kwargs):\n",
    "    \"\"\"Main entry point of the program.\n",
    "\n",
    "    Args:\n",
    "        backend: Backend to submit the circuits to.\n",
    "        user_messenger: Used to communicate with the program consumer.\n",
    "        kwargs: User inputs.\n",
    "    \"\"\"\n",
    "    iterations = kwargs.pop('iterations', 5)\n",
    "    for it in range(iterations):\n",
    "        qc = prepare_circuits(backend)\n",
    "        result = backend.run(qc).result()\n",
    "        user_messenger.publish({\"iteration\": it, \"counts\": result.get_counts()})\n",
    "\n",
    "    return \"All done!\""
   ]
  },
  {
   "cell_type": "code",
   "execution_count": 5,
   "id": "6722714b",
   "metadata": {},
   "outputs": [],
   "source": [
    "import os\n",
    "from qiskit import IBMQ\n",
    "\n",
    "IBMQ.load_account()\n",
    "provider = IBMQ.get_provider(hub='ibm-q-afrl', group='air-force-lab', project='quantum-sim')  # Substitute with your provider.\n"
   ]
  },
  {
   "cell_type": "code",
   "execution_count": 13,
   "id": "b6a633d9",
   "metadata": {},
   "outputs": [],
   "source": [
    "sample_program_json = os.path.join(os.getcwd(), \"runtime_test_details.json\")\n",
    "sample_program_data = os.path.join(os.getcwd(), \"runtime_test.py\")"
   ]
  },
  {
   "cell_type": "code",
   "execution_count": 10,
   "id": "d64cc85e",
   "metadata": {},
   "outputs": [
    {
     "name": "stdout",
     "output_type": "stream",
     "text": [
      "sample-program-john-stenger\n"
     ]
    }
   ],
   "source": [
    "# This will fail if a sample-program already exists.\n",
    "program_id = provider.runtime.upload_program(\n",
    "    data=sample_program_data,\n",
    "    metadata=sample_program_json\n",
    ")\n",
    "print(program_id)"
   ]
  },
  {
   "cell_type": "markdown",
   "id": "7bc2684e",
   "metadata": {},
   "source": [
    "## Using and deleting the program"
   ]
  },
  {
   "cell_type": "code",
   "execution_count": 1,
   "id": "1ab5e2fc",
   "metadata": {},
   "outputs": [],
   "source": [
    "program_id = 'sample-program-john-stenger'"
   ]
  },
  {
   "cell_type": "code",
   "execution_count": 6,
   "id": "48a68771",
   "metadata": {},
   "outputs": [
    {
     "name": "stdout",
     "output_type": "stream",
     "text": [
      "sample-program-john-stenger:\n",
      "  Name: sample-program_John_Stenger\n",
      "  Description: A sample runtime program.\n",
      "  Version: 1.0\n",
      "  Creation date: 2021-10-26T17:56:38.000000\n",
      "  Max execution time: 300\n",
      "  Input parameters:\n",
      "    - iterations:\n",
      "      Description: Number of iterations to run. Each iteration generates and runs a random circuit.\n",
      "      Type: int\n",
      "      Required: True\n",
      "  Interim results:\n",
      "    - iteration:\n",
      "      Description: Iteration number.\n",
      "      Type: int\n",
      "    - counts:\n",
      "      Description: Histogram data of the circuit result.\n",
      "      Type: dict\n",
      "  Returns:\n",
      "    - -:\n",
      "      Description: A string that says 'All done!'.\n",
      "      Type: string\n"
     ]
    }
   ],
   "source": [
    "my_program = provider.runtime.program(program_id)\n",
    "\n",
    "print(my_program)"
   ]
  },
  {
   "cell_type": "markdown",
   "id": "1b3a2a31",
   "metadata": {},
   "source": [
    "### Printing only final results"
   ]
  },
  {
   "cell_type": "code",
   "execution_count": 9,
   "id": "c183960e",
   "metadata": {},
   "outputs": [],
   "source": [
    "#backend = provider.backend.ibmq_qasm_simulator\n",
    "#backend = provider.get_backend('ibmq_bogota')\n",
    "#backend = provider.get_backend('ibmq_manila')\n",
    "backend = provider.get_backend('ibmq_belem')\n",
    "options = {'backend_name': backend.name()}\n",
    "inputs = {\"iterations\": 3}\n",
    "job = provider.runtime.run(program_id, options=options, inputs=inputs)"
   ]
  },
  {
   "cell_type": "code",
   "execution_count": 10,
   "id": "890b1b1a",
   "metadata": {},
   "outputs": [
    {
     "data": {
      "text/plain": [
       "'All done!'"
      ]
     },
     "execution_count": 10,
     "metadata": {},
     "output_type": "execute_result"
    }
   ],
   "source": [
    "job.result()"
   ]
  },
  {
   "cell_type": "markdown",
   "id": "55bd6ef5",
   "metadata": {},
   "source": [
    "### Print intermediate results"
   ]
  },
  {
   "cell_type": "code",
   "execution_count": 14,
   "id": "f34c87f7",
   "metadata": {},
   "outputs": [],
   "source": [
    "interm_results = []\n",
    "def my_callback(job_id, data):\n",
    "    interm_results.append(data)"
   ]
  },
  {
   "cell_type": "code",
   "execution_count": 15,
   "id": "0e807632",
   "metadata": {},
   "outputs": [],
   "source": [
    "job2 = provider.runtime.run(program_id, options=options, inputs=inputs, callback=my_callback)"
   ]
  },
  {
   "cell_type": "code",
   "execution_count": 16,
   "id": "ae02c387",
   "metadata": {},
   "outputs": [
    {
     "data": {
      "text/plain": [
       "'All done!'"
      ]
     },
     "execution_count": 16,
     "metadata": {},
     "output_type": "execute_result"
    }
   ],
   "source": [
    "job2.result()"
   ]
  },
  {
   "cell_type": "code",
   "execution_count": 17,
   "id": "a4d0b1c3",
   "metadata": {},
   "outputs": [
    {
     "data": {
      "text/plain": [
       "[{'iteration': 0,\n",
       "  'counts': {'00110': 6, '00010': 8, '10110': 502, '10010': 508}},\n",
       " {'iteration': 1,\n",
       "  'counts': {'11001': 2,\n",
       "   '10101': 2,\n",
       "   '01001': 1,\n",
       "   '00100': 7,\n",
       "   '11000': 17,\n",
       "   '11101': 43,\n",
       "   '00001': 18,\n",
       "   '10001': 43,\n",
       "   '00000': 113,\n",
       "   '01101': 22,\n",
       "   '01100': 124,\n",
       "   '01000': 4,\n",
       "   '10100': 23,\n",
       "   '11100': 303,\n",
       "   '10000': 302}},\n",
       " {'iteration': 2, 'counts': {'00001': 491, '00000': 533}}]"
      ]
     },
     "execution_count": 17,
     "metadata": {},
     "output_type": "execute_result"
    }
   ],
   "source": [
    "interm_results"
   ]
  },
  {
   "cell_type": "markdown",
   "id": "d2d6f16c",
   "metadata": {},
   "source": [
    "### Deleting the program"
   ]
  },
  {
   "cell_type": "code",
   "execution_count": 71,
   "id": "4a2ed144",
   "metadata": {},
   "outputs": [],
   "source": [
    "#Delete the program\n",
    "provider.runtime.delete_program(program_id)"
   ]
  },
  {
   "cell_type": "code",
   "execution_count": null,
   "id": "34010295",
   "metadata": {},
   "outputs": [],
   "source": []
  }
 ],
 "metadata": {
  "kernelspec": {
   "display_name": "Python (qiskit_u3.1)",
   "language": "python",
   "name": "qiskit_u3.1"
  },
  "language_info": {
   "codemirror_mode": {
    "name": "ipython",
    "version": 3
   },
   "file_extension": ".py",
   "mimetype": "text/x-python",
   "name": "python",
   "nbconvert_exporter": "python",
   "pygments_lexer": "ipython3",
   "version": "3.9.5"
  },
  "toc": {
   "base_numbering": 1,
   "nav_menu": {},
   "number_sections": true,
   "sideBar": true,
   "skip_h1_title": false,
   "title_cell": "Table of Contents",
   "title_sidebar": "Contents",
   "toc_cell": false,
   "toc_position": {},
   "toc_section_display": true,
   "toc_window_display": false
  }
 },
 "nbformat": 4,
 "nbformat_minor": 5
}
